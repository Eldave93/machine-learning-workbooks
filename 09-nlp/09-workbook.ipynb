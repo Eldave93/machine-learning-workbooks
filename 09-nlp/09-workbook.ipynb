{
 "cells": [
  {
   "cell_type": "markdown",
   "id": "residential-soccer",
   "metadata": {
    "id": "residential-soccer"
   },
   "source": [
    "# Workbook 09 - Natural Language Processing\n",
    "\n",
    "by [Dr. David Elliott](https://eldave93.netlify.app/)"
   ]
  },
  {
   "cell_type": "markdown",
   "id": "welcome-battery",
   "metadata": {
    "id": "welcome-battery"
   },
   "source": [
    "[INTRO]"
   ]
  },
  {
   "cell_type": "markdown",
   "id": "distinct-lobby",
   "metadata": {
    "id": "distinct-lobby"
   },
   "source": [
    "# 1. Workspace Setup\n",
    "Before downloading any data we should think about our workspace. It is assumed if you have made it this far you have already got your workspace setup. There are two ways of using these notebooks. The first is to use Google Colab, which is a website that allows you to write and execute python code through the browser. The second is a local workspace (e.g. Anaconda)."
   ]
  },
  {
   "cell_type": "markdown",
   "id": "TOFtLcQhWzLh",
   "metadata": {
    "id": "TOFtLcQhWzLh"
   },
   "source": [
    "## 1.A. Google Colab\n",
    "\n",
    "If you are not using google colab then you can skip this section. \n",
    "\n",
    "I have condenced down the setup steps for google colab into a single code block. See the workbook 1 for more of an explanation of whats going on here and what you need to do.\n",
    "\n",
    "__Note__ \n",
    "\n",
    "- Make sure to restart the runtime after installing to ensure everything works correctly. Dont worry it wont need to install again!"
   ]
  },
  {
   "cell_type": "code",
   "execution_count": 1,
   "id": "VHHZ2IP2KbZZ",
   "metadata": {
    "id": "VHHZ2IP2KbZZ"
   },
   "outputs": [
    {
     "name": "stdout",
     "output_type": "stream",
     "text": [
      "Colab is not being used\n"
     ]
    }
   ],
   "source": [
    "import sys\n",
    "\n",
    "try:\n",
    "    import google.colab\n",
    "    import os\n",
    "    \n",
    "    COLAB=True\n",
    "    \n",
    "    # set the workshop code\n",
    "    WORKSHOP_NAME = \"09-nlp\"\n",
    "    # set the folder name\n",
    "    FOLDER_NAME = \"machine-learning-workbooks-main\"\n",
    "\n",
    "    # check if the environment is already setup to avoid repeating this after \n",
    "    # restarting the runtime\n",
    "    if not os.path.exists(FOLDER_NAME) and os.path.exists(FOLDER_NAME+\".zip\"):\n",
    "          !unzip \"{FOLDER_NAME}.zip\"\n",
    "          \n",
    "    print(\"Setting working directory to:\")\n",
    "    %cd \"./{FOLDER_NAME}/{WORKSHOP_NAME}\"\n",
    "    \n",
    "    # install required packages\n",
    "    !{sys.executable} -m pip install -r ../scripts/requirements.txt\n",
    "    \n",
    "except:\n",
    "    COLAB=False\n",
    "    print(\"Colab is not being used\")"
   ]
  },
  {
   "cell_type": "markdown",
   "id": "1ab87984",
   "metadata": {},
   "source": [
    "## 1.B. Local Workspace\n",
    "\n",
    "If your using a local workspace you will need all the packages in the below \"Packages\" section to run this notebook. If you do not already have them, or you want to ensure you are using the same versions as used when created, the code below (provided `AUTO_INSTALL = True`) will install them for you.\n",
    " \n",
    "__Note__ \n",
    "\n",
    "- Make sure to restart the runtime after installing to ensure everything works correctly. Dont worry it wont need to install again!"
   ]
  },
  {
   "cell_type": "code",
   "execution_count": 2,
   "id": "9527fc31",
   "metadata": {},
   "outputs": [],
   "source": [
    "AUTO_INSTALL = False\n",
    "\n",
    "if AUTO_INSTALL:\n",
    "    !{sys.executable} -m pip install -r ../scripts/requirements.txt"
   ]
  },
  {
   "cell_type": "markdown",
   "id": "ab64f6e0",
   "metadata": {},
   "source": [
    "## 1.1. Packages"
   ]
  },
  {
   "cell_type": "code",
   "execution_count": 3,
   "id": "215d6093",
   "metadata": {},
   "outputs": [],
   "source": [
    "import numpy as np\n",
    "import pandas as pd\n",
    "import seaborn as sns\n",
    "import matplotlib.pyplot as plt\n",
    "import sklearn\n",
    "import sys\n",
    "\n",
    "sys.path.append('../scripts') # add scripts to the path for use later\n",
    "sns.set(rc={'figure.figsize': (14, 8)}) # For plot sizes\n",
    "np.random.seed(42)  # to make this notebook's output identical at every run"
   ]
  },
  {
   "cell_type": "markdown",
   "id": "minus-nickel",
   "metadata": {
    "id": "minus-nickel"
   },
   "source": [
    "## 1.2. Displaying solutions\n",
    "\n",
    "The solutions are activated using a new .txt file which can be put in the workbook folder (e.g. `01-end_to_end`). Please put in a request for access.\n",
    "\n",
    "If you have access to the solutions, the following cell will create clickable buttons under each exercise, which will allow you to reveal the solutions.\n",
    "\n",
    "__Notes__\n",
    "\n",
    "- This method was created by [Charlotte Desvages](https://charlottedesvages.com/).\n",
    "- This may not work if you don't have the same version of `IPython.display` as the machine that created them:\n",
    "    ```\n",
    "    ImportError: cannot import name 'Code' from 'IPython.display' (/usr/local/lib/python3.7/dist-packages/IPython/display.py)\n",
    "    ```\n",
    "    If so run the auto-install above or manually run `!pip install ipython==7.20`."
   ]
  },
  {
   "cell_type": "code",
   "execution_count": 4,
   "id": "loving-niger",
   "metadata": {
    "colab": {
     "base_uri": "https://localhost:8080/",
     "height": 34,
     "resources": {
      "http://localhost:8080/scripts/create_widgets.js": {
       "data": "CjwhRE9DVFlQRSBodG1sPgo8aHRtbCBsYW5nPWVuPgogIDxtZXRhIGNoYXJzZXQ9dXRmLTg+CiAgPG1ldGEgbmFtZT12aWV3cG9ydCBjb250ZW50PSJpbml0aWFsLXNjYWxlPTEsIG1pbmltdW0tc2NhbGU9MSwgd2lkdGg9ZGV2aWNlLXdpZHRoIj4KICA8dGl0bGU+RXJyb3IgNDA0IChOb3QgRm91bmQpISExPC90aXRsZT4KICA8c3R5bGU+CiAgICAqe21hcmdpbjowO3BhZGRpbmc6MH1odG1sLGNvZGV7Zm9udDoxNXB4LzIycHggYXJpYWwsc2Fucy1zZXJpZn1odG1se2JhY2tncm91bmQ6I2ZmZjtjb2xvcjojMjIyO3BhZGRpbmc6MTVweH1ib2R5e21hcmdpbjo3JSBhdXRvIDA7bWF4LXdpZHRoOjM5MHB4O21pbi1oZWlnaHQ6MTgwcHg7cGFkZGluZzozMHB4IDAgMTVweH0qID4gYm9keXtiYWNrZ3JvdW5kOnVybCgvL3d3dy5nb29nbGUuY29tL2ltYWdlcy9lcnJvcnMvcm9ib3QucG5nKSAxMDAlIDVweCBuby1yZXBlYXQ7cGFkZGluZy1yaWdodDoyMDVweH1we21hcmdpbjoxMXB4IDAgMjJweDtvdmVyZmxvdzpoaWRkZW59aW5ze2NvbG9yOiM3Nzc7dGV4dC1kZWNvcmF0aW9uOm5vbmV9YSBpbWd7Ym9yZGVyOjB9QG1lZGlhIHNjcmVlbiBhbmQgKG1heC13aWR0aDo3NzJweCl7Ym9keXtiYWNrZ3JvdW5kOm5vbmU7bWFyZ2luLXRvcDowO21heC13aWR0aDpub25lO3BhZGRpbmctcmlnaHQ6MH19I2xvZ297YmFja2dyb3VuZDp1cmwoLy93d3cuZ29vZ2xlLmNvbS9pbWFnZXMvbG9nb3MvZXJyb3JwYWdlL2Vycm9yX2xvZ28tMTUweDU0LnBuZykgbm8tcmVwZWF0O21hcmdpbi1sZWZ0Oi01cHh9QG1lZGlhIG9ubHkgc2NyZWVuIGFuZCAobWluLXJlc29sdXRpb246MTkyZHBpKXsjbG9nb3tiYWNrZ3JvdW5kOnVybCgvL3d3dy5nb29nbGUuY29tL2ltYWdlcy9sb2dvcy9lcnJvcnBhZ2UvZXJyb3JfbG9nby0xNTB4NTQtMngucG5nKSBuby1yZXBlYXQgMCUgMCUvMTAwJSAxMDAlOy1tb3otYm9yZGVyLWltYWdlOnVybCgvL3d3dy5nb29nbGUuY29tL2ltYWdlcy9sb2dvcy9lcnJvcnBhZ2UvZXJyb3JfbG9nby0xNTB4NTQtMngucG5nKSAwfX1AbWVkaWEgb25seSBzY3JlZW4gYW5kICgtd2Via2l0LW1pbi1kZXZpY2UtcGl4ZWwtcmF0aW86Mil7I2xvZ297YmFja2dyb3VuZDp1cmwoLy93d3cuZ29vZ2xlLmNvbS9pbWFnZXMvbG9nb3MvZXJyb3JwYWdlL2Vycm9yX2xvZ28tMTUweDU0LTJ4LnBuZykgbm8tcmVwZWF0Oy13ZWJraXQtYmFja2dyb3VuZC1zaXplOjEwMCUgMTAwJX19I2xvZ297ZGlzcGxheTppbmxpbmUtYmxvY2s7aGVpZ2h0OjU0cHg7d2lkdGg6MTUwcHh9CiAgPC9zdHlsZT4KICA8YSBocmVmPS8vd3d3Lmdvb2dsZS5jb20vPjxzcGFuIGlkPWxvZ28gYXJpYS1sYWJlbD1Hb29nbGU+PC9zcGFuPjwvYT4KICA8cD48Yj40MDQuPC9iPiA8aW5zPlRoYXTigJlzIGFuIGVycm9yLjwvaW5zPgogIDxwPiAgPGlucz5UaGF04oCZcyBhbGwgd2Uga25vdy48L2lucz4K",
       "headers": [
        [
         "content-length",
         "1449"
        ],
        [
         "content-type",
         "text/html; charset=utf-8"
        ]
       ],
       "ok": false,
       "status": 404,
       "status_text": ""
      }
     }
    },
    "id": "loving-niger",
    "outputId": "1654dd4b-3af8-4004-f770-3ce6e59f664e",
    "scrolled": true
   },
   "outputs": [
    {
     "name": "stdout",
     "output_type": "stream",
     "text": [
      "Solutions .txt file not found!\n"
     ]
    }
   ],
   "source": [
    "%run ../scripts/create_widgets.py 09"
   ]
  },
  {
   "cell_type": "markdown",
   "id": "f9e54018",
   "metadata": {},
   "source": [
    "---\n",
    "\n",
    "# 2. Problem Understanding <a id='problem'></a>\n",
    "\n",
    "We'll be working on a [News Headlines Dataset For Sarcasm Detection](https://rishabhmisra.github.io/NewsHeadlinesDataset.pdf), with the data available on [Kaggle](https://www.kaggle.com/datasets/rmisra/news-headlines-dataset-for-sarcasm-detection)."
   ]
  },
  {
   "cell_type": "markdown",
   "id": "eae54b29",
   "metadata": {},
   "source": [
    "## 2.1. Data Download\n",
    "\n",
    "We could read the data in from Kaggle (see notebook 2 for an example), but for now lets just read it in using the data stored in the \"Data\" folder."
   ]
  },
  {
   "cell_type": "code",
   "execution_count": 5,
   "id": "85a0c61d",
   "metadata": {},
   "outputs": [
    {
     "data": {
      "text/html": [
       "<div>\n",
       "<style scoped>\n",
       "    .dataframe tbody tr th:only-of-type {\n",
       "        vertical-align: middle;\n",
       "    }\n",
       "\n",
       "    .dataframe tbody tr th {\n",
       "        vertical-align: top;\n",
       "    }\n",
       "\n",
       "    .dataframe thead th {\n",
       "        text-align: right;\n",
       "    }\n",
       "</style>\n",
       "<table border=\"1\" class=\"dataframe\">\n",
       "  <thead>\n",
       "    <tr style=\"text-align: right;\">\n",
       "      <th></th>\n",
       "      <th>is_sarcastic</th>\n",
       "      <th>headline</th>\n",
       "      <th>article_link</th>\n",
       "    </tr>\n",
       "  </thead>\n",
       "  <tbody>\n",
       "    <tr>\n",
       "      <th>0</th>\n",
       "      <td>1</td>\n",
       "      <td>thirtysomething scientists unveil doomsday clo...</td>\n",
       "      <td>https://www.theonion.com/thirtysomething-scien...</td>\n",
       "    </tr>\n",
       "    <tr>\n",
       "      <th>1</th>\n",
       "      <td>0</td>\n",
       "      <td>dem rep. totally nails why congress is falling...</td>\n",
       "      <td>https://www.huffingtonpost.com/entry/donna-edw...</td>\n",
       "    </tr>\n",
       "    <tr>\n",
       "      <th>2</th>\n",
       "      <td>0</td>\n",
       "      <td>eat your veggies: 9 deliciously different recipes</td>\n",
       "      <td>https://www.huffingtonpost.com/entry/eat-your-...</td>\n",
       "    </tr>\n",
       "    <tr>\n",
       "      <th>3</th>\n",
       "      <td>1</td>\n",
       "      <td>inclement weather prevents liar from getting t...</td>\n",
       "      <td>https://local.theonion.com/inclement-weather-p...</td>\n",
       "    </tr>\n",
       "    <tr>\n",
       "      <th>4</th>\n",
       "      <td>1</td>\n",
       "      <td>mother comes pretty close to using word 'strea...</td>\n",
       "      <td>https://www.theonion.com/mother-comes-pretty-c...</td>\n",
       "    </tr>\n",
       "  </tbody>\n",
       "</table>\n",
       "</div>"
      ],
      "text/plain": [
       "   is_sarcastic                                           headline  \\\n",
       "0             1  thirtysomething scientists unveil doomsday clo...   \n",
       "1             0  dem rep. totally nails why congress is falling...   \n",
       "2             0  eat your veggies: 9 deliciously different recipes   \n",
       "3             1  inclement weather prevents liar from getting t...   \n",
       "4             1  mother comes pretty close to using word 'strea...   \n",
       "\n",
       "                                        article_link  \n",
       "0  https://www.theonion.com/thirtysomething-scien...  \n",
       "1  https://www.huffingtonpost.com/entry/donna-edw...  \n",
       "2  https://www.huffingtonpost.com/entry/eat-your-...  \n",
       "3  https://local.theonion.com/inclement-weather-p...  \n",
       "4  https://www.theonion.com/mother-comes-pretty-c...  "
      ]
     },
     "execution_count": 5,
     "metadata": {},
     "output_type": "execute_result"
    }
   ],
   "source": [
    "import pandas as pd\n",
    "\n",
    "data1 = pd.read_json('./Data/Sarcasm_Headlines_Dataset_v2.json', lines=True)\n",
    "data2 = pd.read_json('./Data/Sarcasm_Headlines_Dataset.json', lines=True)\n",
    "\n",
    "data = pd.concat([data1,data2])\n",
    "data.reset_index(drop=True, inplace=True)\n",
    "\n",
    "data.head()"
   ]
  },
  {
   "cell_type": "markdown",
   "id": "57ef4c43",
   "metadata": {},
   "source": [
    "Lets look at some non sarcastic examples (run repeatedly for different examples)..."
   ]
  },
  {
   "cell_type": "code",
   "execution_count": 6,
   "id": "bf402d2f",
   "metadata": {},
   "outputs": [
    {
     "name": "stdout",
     "output_type": "stream",
     "text": [
      "55231    be still our hearts: raspberry chocolate grilled cheese sandwiches\n",
      "Name: headline, dtype: object\n"
     ]
    }
   ],
   "source": [
    "with pd.option_context('display.max_colwidth', None):\n",
    "    print(data[data.is_sarcastic == 0].sample()[\"headline\"])"
   ]
  },
  {
   "cell_type": "markdown",
   "id": "56cfe569",
   "metadata": {},
   "source": [
    "what about sarcastic?"
   ]
  },
  {
   "cell_type": "code",
   "execution_count": 7,
   "id": "95bad50c",
   "metadata": {},
   "outputs": [
    {
     "name": "stdout",
     "output_type": "stream",
     "text": [
      "15340    bush to olympians: 'bring back lots of valuable gold'\n",
      "Name: headline, dtype: object\n"
     ]
    }
   ],
   "source": [
    "with pd.option_context('display.max_colwidth', None):\n",
    "    print(data[data.is_sarcastic == 1].sample()[\"headline\"])"
   ]
  },
  {
   "cell_type": "markdown",
   "id": "529ade87",
   "metadata": {},
   "source": [
    "---\n",
    "\n",
    "# 3. Data Preparation  <a id='prep'></a>\n",
    "\n",
    "We should check to see if the data could do with a little cleaning up before we start to explore it."
   ]
  },
  {
   "cell_type": "code",
   "execution_count": 8,
   "id": "ce95d943",
   "metadata": {},
   "outputs": [],
   "source": [
    "data = data[['headline','is_sarcastic']]"
   ]
  },
  {
   "cell_type": "markdown",
   "id": "87f724f0",
   "metadata": {},
   "source": [
    "### Check for duplicates"
   ]
  },
  {
   "cell_type": "code",
   "execution_count": 9,
   "id": "e217d409",
   "metadata": {},
   "outputs": [
    {
     "name": "stdout",
     "output_type": "stream",
     "text": [
      "Number of duplicates removed: 26825\n"
     ]
    }
   ],
   "source": [
    "before_len = len(data)\n",
    "\n",
    "data = data.drop_duplicates()\n",
    "\n",
    "print(\"Number of duplicates removed: \" + str(before_len - len(data)))"
   ]
  },
  {
   "cell_type": "markdown",
   "id": "b881d405",
   "metadata": {},
   "source": [
    "### check for missing"
   ]
  },
  {
   "cell_type": "code",
   "execution_count": 10,
   "id": "2e9cf362",
   "metadata": {},
   "outputs": [
    {
     "data": {
      "text/plain": [
       "headline        0\n",
       "is_sarcastic    0\n",
       "dtype: int64"
      ]
     },
     "execution_count": 10,
     "metadata": {},
     "output_type": "execute_result"
    }
   ],
   "source": [
    "data.isnull().sum()"
   ]
  },
  {
   "cell_type": "markdown",
   "id": "98f7cb15",
   "metadata": {},
   "source": [
    "### Check Classes Balance/Imbalance"
   ]
  },
  {
   "cell_type": "code",
   "execution_count": 11,
   "id": "f995c631",
   "metadata": {},
   "outputs": [
    {
     "data": {
      "text/html": [
       "<div>\n",
       "<style scoped>\n",
       "    .dataframe tbody tr th:only-of-type {\n",
       "        vertical-align: middle;\n",
       "    }\n",
       "\n",
       "    .dataframe tbody tr th {\n",
       "        vertical-align: top;\n",
       "    }\n",
       "\n",
       "    .dataframe thead th {\n",
       "        text-align: right;\n",
       "    }\n",
       "</style>\n",
       "<table border=\"1\" class=\"dataframe\">\n",
       "  <thead>\n",
       "    <tr style=\"text-align: right;\">\n",
       "      <th></th>\n",
       "      <th>is_sarcastic</th>\n",
       "      <th>headline</th>\n",
       "    </tr>\n",
       "  </thead>\n",
       "  <tbody>\n",
       "    <tr>\n",
       "      <th>0</th>\n",
       "      <td>0</td>\n",
       "      <td>14951</td>\n",
       "    </tr>\n",
       "    <tr>\n",
       "      <th>1</th>\n",
       "      <td>1</td>\n",
       "      <td>13552</td>\n",
       "    </tr>\n",
       "  </tbody>\n",
       "</table>\n",
       "</div>"
      ],
      "text/plain": [
       "   is_sarcastic  headline\n",
       "0             0     14951\n",
       "1             1     13552"
      ]
     },
     "execution_count": 11,
     "metadata": {},
     "output_type": "execute_result"
    }
   ],
   "source": [
    "data.groupby('is_sarcastic').count().reset_index()"
   ]
  },
  {
   "cell_type": "code",
   "execution_count": 12,
   "id": "fcee47dc",
   "metadata": {},
   "outputs": [
    {
     "data": {
      "image/png": "[encoded data removed]",
      "text/plain": [
       "<Figure size 432x288 with 1 Axes>"
      ]
     },
     "metadata": {
      "needs_background": "light"
     },
     "output_type": "display_data"
    }
   ],
   "source": [
    "import matplotlib.pyplot as plt\n",
    "import seaborn as sns\n",
    "\n",
    "sns.barplot(data = data.groupby('is_sarcastic').count().reset_index(), y=\"headline\", x=\"is_sarcastic\")\n",
    "\n",
    "plt.show()"
   ]
  },
  {
   "cell_type": "code",
   "execution_count": 13,
   "id": "770c9cb7",
   "metadata": {},
   "outputs": [],
   "source": [
    "from sklearn.model_selection import train_test_split\n",
    "\n",
    "# Define X and y.\n",
    "X = data[\"headline\"]\n",
    "y = data[\"is_sarcastic\"]\n",
    "\n",
    "# Split the new DataFrame into training and testing sets.\n",
    "X_train, X_test, y_train, y_test = train_test_split(X, y, random_state=1)\n",
    "\n",
    "# keep for later\n",
    "X_train_full, y_train_full = X_train.copy(), y_train.copy()\n",
    "\n",
    "# split again for validation\n",
    "X_train, X_val, y_train, y_val = train_test_split(X_train, y_train, random_state=1)"
   ]
  },
  {
   "cell_type": "markdown",
   "id": "28af68c4",
   "metadata": {},
   "source": [
    "# Preprocessing\n",
    "\n",
    "[TODO: Talk about each entry being a document and a collection of documents being a corpus]"
   ]
  },
  {
   "cell_type": "code",
   "execution_count": 14,
   "id": "81c50610",
   "metadata": {},
   "outputs": [
    {
     "data": {
      "text/plain": [
       "13058    shocked vladimir putin slowly realizing he did...\n",
       "15971    philippines president calls on civilians to ki...\n",
       "6309     suicide bomber reacts poorly to surprise birth...\n",
       "8142                            dick pulled back out again\n",
       "28044    supreme court justices to snowstorm jonas: it'...\n",
       "Name: headline, dtype: object"
      ]
     },
     "execution_count": 14,
     "metadata": {},
     "output_type": "execute_result"
    }
   ],
   "source": [
    "X_train.head()"
   ]
  },
  {
   "cell_type": "code",
   "execution_count": 15,
   "id": "c30a632b",
   "metadata": {},
   "outputs": [
    {
     "data": {
      "text/plain": [
       "WordList(['shocked', 'vladimir', 'putin', 'slowly', 'realizing', 'he', 'did', \"n't\", 'conspire', 'with', 'trump', 'campaign'])"
      ]
     },
     "execution_count": 15,
     "metadata": {},
     "output_type": "execute_result"
    }
   ],
   "source": [
    "from textblob import TextBlob\n",
    "\n",
    "example_headline = TextBlob(X_train.iloc[0])\n",
    "example_headline.words"
   ]
  },
  {
   "cell_type": "markdown",
   "id": "964c1db6",
   "metadata": {},
   "source": [
    "[TODO: TALK ABOUT STEMMING AND GIVE EXAMPLES]"
   ]
  },
  {
   "cell_type": "code",
   "execution_count": 16,
   "id": "b6f2b796",
   "metadata": {},
   "outputs": [
    {
     "name": "stdout",
     "output_type": "stream",
     "text": [
      "['shock', 'vladimir', 'putin', 'slowli', 'realiz', 'he', 'did', \"n't\", 'conspir', 'with', 'trump', 'campaign']\n"
     ]
    }
   ],
   "source": [
    "from nltk.stem.snowball import SnowballStemmer\n",
    "\n",
    "# Initialize stemmer.\n",
    "stemmer = SnowballStemmer('english')\n",
    "\n",
    "# Stem each word.\n",
    "print([stemmer.stem(word) for word in example_headline.words])"
   ]
  },
  {
   "cell_type": "markdown",
   "id": "fea65e3e",
   "metadata": {},
   "source": [
    "[TODO: TALK ABOUT LEMMATIZATION AND GIVE EXAMPLES]"
   ]
  },
  {
   "cell_type": "code",
   "execution_count": 17,
   "id": "3cb80f53",
   "metadata": {},
   "outputs": [
    {
     "name": "stdout",
     "output_type": "stream",
     "text": [
      "['shocked', 'vladimir', 'putin', 'slowly', 'realizing', 'he', 'did', \"n't\", 'conspire', 'with', 'trump', 'campaign']\n"
     ]
    }
   ],
   "source": [
    "# Assume every word is a noun.\n",
    "print([word.lemmatize() for word in example_headline.words])"
   ]
  },
  {
   "cell_type": "code",
   "execution_count": 18,
   "id": "450b2456",
   "metadata": {},
   "outputs": [
    {
     "name": "stdout",
     "output_type": "stream",
     "text": [
      "['shock', 'vladimir', 'putin', 'slowly', 'realize', 'he', 'do', \"n't\", 'conspire', 'with', 'trump', 'campaign']\n"
     ]
    }
   ],
   "source": [
    "# Assume every word is a verb.\n",
    "print([word.lemmatize(pos='v') for word in example_headline.words])"
   ]
  },
  {
   "cell_type": "markdown",
   "id": "80c660fd",
   "metadata": {},
   "source": [
    "Remember, always create functions\n",
    "\n",
    "__Note__\n",
    "- it may not be clear why we want to return a list for each row... really its to get it working with a scikit-learn class later"
   ]
  },
  {
   "cell_type": "code",
   "execution_count": 19,
   "id": "7d13f316",
   "metadata": {},
   "outputs": [],
   "source": [
    "# A function that accepts text and returns a list of lemmas.\n",
    "def create_lemmas(text):\n",
    "    \n",
    "    words = TextBlob(text).words\n",
    "    return [word.lemmatize() for word in words]"
   ]
  },
  {
   "cell_type": "code",
   "execution_count": 20,
   "id": "2023f484",
   "metadata": {},
   "outputs": [
    {
     "data": {
      "text/plain": [
       "13058    [shocked, vladimir, putin, slowly, realizing, ...\n",
       "15971    [philippine, president, call, on, civilian, to...\n",
       "6309     [suicide, bomber, reacts, poorly, to, surprise...\n",
       "8142                      [dick, pulled, back, out, again]\n",
       "28044    [supreme, court, justice, to, snowstorm, jonas...\n",
       "Name: headline, dtype: object"
      ]
     },
     "execution_count": 20,
     "metadata": {},
     "output_type": "execute_result"
    }
   ],
   "source": [
    "lemma_series = X_train.apply(create_lemmas)\n",
    "\n",
    "lemma_series.head()"
   ]
  },
  {
   "cell_type": "code",
   "execution_count": 21,
   "id": "189c5d42",
   "metadata": {},
   "outputs": [
    {
     "name": "stdout",
     "output_type": "stream",
     "text": [
      "Number of unique lemmas: 20455\n"
     ]
    }
   ],
   "source": [
    "# take each documents words out of the lists\n",
    "lemma_unstacked = np.concatenate(lemma_series.values)\n",
    "\n",
    "# get the number of unique words\n",
    "unique_lemmas = np.unique(lemma_unstacked)\n",
    "\n",
    "print(\"Number of unique lemmas: \"+str(len(unique_lemmas)))"
   ]
  },
  {
   "cell_type": "code",
   "execution_count": 22,
   "id": "f2b7dcc3",
   "metadata": {},
   "outputs": [
    {
     "name": "stdout",
     "output_type": "stream",
     "text": [
      "Number of unique words: 22788\n"
     ]
    }
   ],
   "source": [
    "word_series = X_train.apply(lambda x: TextBlob(x).words)\n",
    "unique_words  = np.unique(np.concatenate(word_series.values))\n",
    "print(\"Number of unique words: \"+str(len(unique_words)))"
   ]
  },
  {
   "cell_type": "markdown",
   "id": "d0e06fe7",
   "metadata": {},
   "source": [
    "__TASK:__ create a function to stem words and see how many unique ones there are."
   ]
  },
  {
   "cell_type": "code",
   "execution_count": 23,
   "id": "948f6dd9",
   "metadata": {},
   "outputs": [
    {
     "name": "stdout",
     "output_type": "stream",
     "text": [
      "Number of unique stemmed words: 15806\n"
     ]
    }
   ],
   "source": [
    "# A function that accepts text and returns a list of stems using a stemmer.\n",
    "def create_stems(text, stemmer):\n",
    "    words = TextBlob(text).words\n",
    "    return [stemmer.stem(word) for word in words]\n",
    "\n",
    "# Initialize stemmer.\n",
    "stemmer = SnowballStemmer('english')\n",
    "\n",
    "stemmed_series = X_train.apply(create_stems, stemmer = stemmer)\n",
    "unique_stems  = np.unique(np.concatenate(stemmed_series.values))\n",
    "print(\"Number of unique stemmed words: \"+str(len(unique_stems)))"
   ]
  },
  {
   "cell_type": "markdown",
   "id": "437bcb2c",
   "metadata": {},
   "source": [
    "# Feature Extraction\n",
    "\n",
    "## Vectorisation\n",
    "Text needs to be convered into numbers\n",
    "\n",
    "__Note__\n",
    "\n",
    "- By default its a good idea to leave on the default `lowercase=False` but you could change it if you wanted..."
   ]
  },
  {
   "cell_type": "code",
   "execution_count": 24,
   "id": "ede66944",
   "metadata": {},
   "outputs": [
    {
     "data": {
      "text/plain": [
       "<16032x20263 sparse matrix of type '<class 'numpy.int64'>'\n",
       "\twith 158133 stored elements in Compressed Sparse Row format>"
      ]
     },
     "execution_count": 24,
     "metadata": {},
     "output_type": "execute_result"
    }
   ],
   "source": [
    "from sklearn.feature_extraction.text import CountVectorizer\n",
    "# Use CountVectorizer to create document-term matrices from X_train and X_test.\n",
    "vect = CountVectorizer()\n",
    "X_train_ = vect.fit_transform(X_train)\n",
    "X_train_"
   ]
  },
  {
   "cell_type": "markdown",
   "id": "9685c6a1",
   "metadata": {},
   "source": [
    "[TODO: EXPLAIN SPARSE]"
   ]
  },
  {
   "cell_type": "code",
   "execution_count": 25,
   "id": "47891424",
   "metadata": {},
   "outputs": [
    {
     "data": {
      "text/plain": [
       "array([[0, 0, 0, ..., 0, 0, 0],\n",
       "       [0, 0, 0, ..., 0, 0, 0],\n",
       "       [0, 0, 0, ..., 0, 0, 0],\n",
       "       ...,\n",
       "       [0, 0, 0, ..., 0, 0, 0],\n",
       "       [0, 0, 0, ..., 0, 0, 0],\n",
       "       [0, 0, 0, ..., 0, 0, 0]], dtype=int64)"
      ]
     },
     "execution_count": 25,
     "metadata": {},
     "output_type": "execute_result"
    }
   ],
   "source": [
    "X_train_.toarray()"
   ]
  },
  {
   "cell_type": "code",
   "execution_count": 26,
   "id": "5a41fa27",
   "metadata": {},
   "outputs": [
    {
     "name": "stdout",
     "output_type": "stream",
     "text": [
      "['00', '000', '000th', '03', '071', '10', '100', '100th', '102', '103']\n",
      "['zones', 'zoning', 'zoo', 'zookeeper', 'zoolander', 'zoologists', 'zoroastrianism', 'zucker', 'zuckerberg', 'éclairs']\n"
     ]
    },
    {
     "name": "stderr",
     "output_type": "stream",
     "text": [
      "C:\\Users\\David_Elliott\\anaconda3\\envs\\ds4_new\\lib\\site-packages\\sklearn\\utils\\deprecation.py:87: FutureWarning: Function get_feature_names is deprecated; get_feature_names is deprecated in 1.0 and will be removed in 1.2. Please use get_feature_names_out instead.\n",
      "  warnings.warn(msg, category=FutureWarning)\n"
     ]
    }
   ],
   "source": [
    "# first 10 features\n",
    "print((vect.get_feature_names()[:10]))\n",
    "\n",
    "# last 10 features\n",
    "print((vect.get_feature_names()[-10:]))"
   ]
  },
  {
   "cell_type": "markdown",
   "id": "5ffb07f9",
   "metadata": {},
   "source": [
    "if you want to add in your stemmer or lemmatization you can!"
   ]
  },
  {
   "cell_type": "code",
   "execution_count": 27,
   "id": "c5e1aa1c",
   "metadata": {},
   "outputs": [
    {
     "data": {
      "text/plain": [
       "<16032x20455 sparse matrix of type '<class 'numpy.int64'>'\n",
       "\twith 162305 stored elements in Compressed Sparse Row format>"
      ]
     },
     "execution_count": 27,
     "metadata": {},
     "output_type": "execute_result"
    }
   ],
   "source": [
    "lemma_vect = CountVectorizer(analyzer=create_lemmas, decode_error='replace')\n",
    "X_train_ = lemma_vect.fit_transform(X_train)\n",
    "X_train_"
   ]
  },
  {
   "cell_type": "code",
   "execution_count": 28,
   "id": "d2ff73f3",
   "metadata": {},
   "outputs": [
    {
     "name": "stdout",
     "output_type": "stream",
     "text": [
      "[\"'10\", \"'100\", \"'12\", \"'13\", \"'14\", \"'20/20\", \"'50s-themed\", \"'60\", \"'69\", \"'80s\"]\n",
      "['éclairs', '\\u200bexplains\\u200b', '\\u200breport', '–', '—', '—as', '―', '“', '”', 'ツ']\n"
     ]
    }
   ],
   "source": [
    "# first 10 features\n",
    "print((lemma_vect.get_feature_names()[:10]))\n",
    "\n",
    "# last 10 features\n",
    "print((lemma_vect.get_feature_names()[-10:]))"
   ]
  },
  {
   "cell_type": "markdown",
   "id": "c33c6a54",
   "metadata": {},
   "source": [
    "Aside: You may be wondering why there are more lemmas than words after vectorised - afterall we are trying to reduce the number of words! Well thats because by default the `analyzer='word'` which removes some of the special characters in our data leaving only the words, if we use `analyzer='char` we can see there are a number of characters in our data that we wouldn't consider as words. Maybe something you want to add to our lemming and/or stemming functions?"
   ]
  },
  {
   "cell_type": "code",
   "execution_count": 29,
   "id": "8a724c1a",
   "metadata": {},
   "outputs": [
    {
     "name": "stdout",
     "output_type": "stream",
     "text": [
      "[' ', '!', '\"', '#', '$', '%', '&', \"'\", '(', ')']\n",
      "['̈', '\\u200b', '–', '—', '―', '“', '”', '…', '™', 'ツ']\n"
     ]
    }
   ],
   "source": [
    "char_vect = CountVectorizer(analyzer='char', decode_error='replace')\n",
    "char_vect.fit(X_train)\n",
    "# first 10 features\n",
    "print((char_vect.get_feature_names()[:10]))\n",
    "\n",
    "# last 10 features\n",
    "print((char_vect.get_feature_names()[-10:]))"
   ]
  },
  {
   "cell_type": "markdown",
   "id": "3b2b7d7d",
   "metadata": {},
   "source": [
    "__Stop-Word Removal__\n",
    "\n",
    "[__TODO__: Insert info]"
   ]
  },
  {
   "cell_type": "code",
   "execution_count": 30,
   "id": "1497b16e",
   "metadata": {},
   "outputs": [
    {
     "name": "stdout",
     "output_type": "stream",
     "text": [
      "frozenset({'noone', 'us', 'show', 'either', 'below', 'latterly', 'amount', 'five', 'wherever', 'hundred', 'of', 'once', 'although', 'elsewhere', 'seeming', 'seem', 'throughout', 'thereby', 'toward', 'them', 'hers', 'perhaps', 'which', 'bill', 'most', 'become', 'everywhere', 're', 'when', 'until', 'last', 'amongst', 'cry', 'an', 'herself', 'next', 'move', 'out', 'call', 'has', 'again', 'must', 'was', 'whereby', 'sometimes', 'mill', 'inc', 'down', 'ltd', 'otherwise', 'eleven', 'into', 'now', 'detail', 'further', 'hence', 'and', 'beforehand', 'always', 'seemed', 'then', 'put', 'interest', 'cant', 'yourselves', 'themselves', 'own', 'whereafter', 'upon', 'i', 'she', 'bottom', 'his', 'herein', 'something', 'to', 'sincere', 'here', 'namely', 'over', 'fifty', 'each', 'should', 'sometime', 'anyhow', 'hereupon', 'serious', 'himself', 'between', 'indeed', 'forty', 'done', 'everyone', 'towards', 'still', 'before', 'their', 'than', 'no', 'you', 'made', 'he', 'had', 'give', 'your', 'do', 'cannot', 'see', 'through', 'with', 'else', 'above', 'could', 'my', 'four', 'fire', 'becomes', 'its', 'whenever', 'these', 'we', 'anything', 'while', 'amoungst', 'that', 'whether', 'find', 'from', 'neither', 'almost', 'back', 'besides', 'system', 'whose', 'not', 'per', 'what', 'nine', 'un', 'whereupon', 'nowhere', 'up', 'why', 'for', 'latter', 'ours', 'ie', 'our', 'thereupon', 'someone', 'too', 'six', 'among', 'nor', 'beside', 'but', 'twenty', 'fifteen', 'full', 'thus', 'hereby', 'ourselves', 'often', 'the', 'even', 'whither', 'within', 'somewhere', 'take', 'as', 'me', 'thin', 'top', 'nevertheless', 'been', 'any', 'get', 'meanwhile', 'together', 'myself', 'thru', 'ten', 'on', 'they', 'none', 'also', 'everything', 'hasnt', 'well', 'though', 'sixty', 'others', 'couldnt', 'thence', 'nothing', 'due', 'so', 'there', 'whatever', 'eg', 'name', 'can', 'beyond', 'wherein', 'one', 'those', 'without', 'only', 'across', 'moreover', 'very', 'against', 'much', 'rather', 'de', 'however', 'in', 'would', 'go', 'alone', 'such', 'are', 'afterwards', 'itself', 'mine', 'during', 'were', 'thereafter', 'if', 'became', 'same', 'thick', 'about', 'both', 'might', 'front', 'therein', 'along', 'other', 'therefore', 'anywhere', 'onto', 'yet', 'every', 'have', 'at', 'all', 'two', 'under', 'fill', 'keep', 'it', 'formerly', 'by', 'off', 'becoming', 'con', 'except', 'three', 'yours', 'found', 'never', 'after', 'her', 'nobody', 'be', 'third', 'few', 'a', 'already', 'this', 'who', 'will', 'least', 'eight', 'him', 'where', 'whom', 'being', 'less', 'since', 'via', 'part', 'seems', 'somehow', 'several', 'side', 'ever', 'anyway', 'many', 'yourself', 'mostly', 'whence', 'whereas', 'around', 'may', 'former', 'because', 'how', 'first', 'more', 'whoever', 'empty', 'is', 'or', 'twelve', 'anyone', 'hereafter', 'describe', 'please', 'whole', 'etc', 'behind', 'enough', 'some', 'am', 'another', 'co'})\n"
     ]
    }
   ],
   "source": [
    "# Remove English stop words.\n",
    "stop_vect = CountVectorizer(stop_words='english')\n",
    "# Check the stop words\n",
    "print((stop_vect.get_stop_words()))"
   ]
  },
  {
   "cell_type": "markdown",
   "id": "d925d8c1",
   "metadata": {},
   "source": [
    "could also do it dynamically by setting a threshold across documents that if a word appears in a given percent of them that it is removed."
   ]
  },
  {
   "cell_type": "code",
   "execution_count": 31,
   "id": "fb5bc43f",
   "metadata": {},
   "outputs": [
    {
     "data": {
      "text/plain": [
       "<16032x20258 sparse matrix of type '<class 'numpy.int64'>'\n",
       "\twith 143146 stored elements in Compressed Sparse Row format>"
      ]
     },
     "metadata": {},
     "output_type": "display_data"
    },
    {
     "name": "stdout",
     "output_type": "stream",
     "text": [
      "Stop words removed: {'in', 'the', 'of', 'to', 'for'}\n"
     ]
    }
   ],
   "source": [
    "# remove if a word is in over 10% of documents\n",
    "maxvect = CountVectorizer(max_df=0.1)\n",
    "X_train_ = maxvect.fit_transform(X_train)\n",
    "display(X_train_)\n",
    "print(\"Stop words removed: \"+str(maxvect.stop_words_))"
   ]
  },
  {
   "cell_type": "markdown",
   "id": "e240f364",
   "metadata": {},
   "source": [
    "__Task:__ Play around with differnt thresholds. Are there any words that are appearing regularly in the article headlines but are not in the stopwords set above?"
   ]
  },
  {
   "cell_type": "code",
   "execution_count": 32,
   "id": "2f52113f",
   "metadata": {},
   "outputs": [
    {
     "name": "stdout",
     "output_type": "stream",
     "text": [
      "Stop words not in set: ['family', 'woman', 'trump', 'house', 'american', 'women', 'years', 'says', 'nation', 'year', 'people', 'world', 'old', 'day', 'area', 'donald', 'time', 'just', 'man', 'obama', 'clinton', 'make', 'report', 'life', 'new', 'white', 'like']\n"
     ]
    }
   ],
   "source": [
    "maxvect = CountVectorizer(max_df=0.01)\n",
    "maxvect.fit(X_train)\n",
    "print(\"Stop words not in set: \"+str(list(set(maxvect.stop_words_) - set(stop_vect.get_stop_words()))))\n",
    "\n",
    "# given the time these articles are taken from, its not surprising that donald trump is coming up a lot. \n",
    "# Also some news related stuff like \"report\""
   ]
  },
  {
   "cell_type": "markdown",
   "id": "fc48b934",
   "metadata": {},
   "source": [
    "could also remove uncommon words as well..."
   ]
  },
  {
   "cell_type": "code",
   "execution_count": 33,
   "id": "9aa6fa8c",
   "metadata": {},
   "outputs": [
    {
     "data": {
      "text/plain": [
       "<16032x10798 sparse matrix of type '<class 'numpy.int64'>'\n",
       "\twith 148668 stored elements in Compressed Sparse Row format>"
      ]
     },
     "metadata": {},
     "output_type": "display_data"
    },
    {
     "name": "stdout",
     "output_type": "stream",
     "text": [
      "Stop words removed: {'commissioner', 'nutritious', 'demographics', 'carcasses', 'browse', 'cradling', 'guitarist', 'barks', 'pauly', 'tequila', 'liters', 'phlegm', 'halogen', 'hoya', 'catcalls', 'sibling', 'spiderman', 'legeno', 'joyfully', 'suzy', '948', 'hosed', 'digitize', 'disavows', 'crows', 'rimes', 'para', 'disciplined', 'discriminate', 'herb', 'speculating', 'nigel', 'glows', 'inspect', 'chatting', 'dvds', 'policing', 'convenient', 'probiotic', 'macarena', 'puttering', 'ordination', 'petronas', 'enforcer', 'sanford', 'municipal', 'bakery', 'snapper', 'springer', 'horsey', 'assert', 'rodney', 'illegalize', 'disturbed', 'umbrella', 'foer', 'cretaceous', 'beholden', 'survived', 'belonging', 'tyga', 'aching', 'byproducts', 'insurers', 'potemkin', 'suspicion', 'ignatians', 'marveling', 'furiously', 'enemy', 'sideshow', 'rc', 'noise', 'weepy', 'defrost', 'pinkett', 'damned', 'brass', 'fling', 'maasai', '1995', 'differ', 'rappel', 'vandalizes', 'publick', 'thrive', 'kingpin', 'icons', 'lego', 'briar', 'uninvestigated', 'cherubs', 'gumby', 'fender', 'giggling', 'unlicensed', 'quantico', 'cane', 'armenian', 'gentrified', 'bernice', 'sighs', 'coolness', 'dirtiest', 'matador', 'parsons', 'pinching', 'lycra', 'sopping', 'clearances', 'shaggy', 'biotech', 'mindfreak', 'decorated', 'assembling', 'pageviews', 'charlton', 'yorkshire', 'dundee', 'evergreen', 'inert', 'hoped', 'gunner', 'teeming', 'gifting', 'newport', 'trojan', 'produced', 'transitioning', 'sportswear', 'awesomely', 'stretching', 'juice', 'mewtwo', 'getter', 'lurk', 'headache', 'clues', 'banal', 'corresponding', 'kamau', 'earbuds', 'napastrong', 'ushers', 'seedy', 'contents', 'minimums', 'wade', 'führer', 'forged', 'closures', 'grin', 'humanitarians', 'contra', 'vitter', 'aykroyd', 'retarded', 'wrecked', 'bloc', 'walnuts', 'taster', 'jonesing', '60s', 'bop', 'enhanced', 'septuplets', 'inſurgency', 'grimmie', 'stubborn', 'competitiveness', 'kucinich', 'tucked', 'backpedaling', 'flyers', 'cattrall', 'ooze', 'raps', 'tutus', 'midwife', 'stuyvesant', 'secures', 'universal', 'jokester', 'vent', 'bells', 'iowan', 'economist', 'deepfake', 'primitive', 'dime', 'tote', 'rubenesque', 'penetrate', 'aerobics', 'portioned', 'sherpa', 'heffern', 'pelicans', 'putters', 'miscellaneous', 'institutes', 'alvin', 'medicalert', 'houseplants', 'skeptics', 'blotter', 'windy', 'worships', 'bradbury', 'severus', 'raiser', 'mutual', 'converse', 'folksy', 'ballerini', 'decapitations', 'henchmen', 'snowy', 'bloodbath', 'phenomenon', 'dishonor', 'sherpas', 'scampis', 'nightstand', 'seminary', 'zaeefeh', 'heartland', 'coleman', 'reverses', 'mandates', 'masturbator', 'fingernail', 'guarantees', 'cycling', 'interactions', 'individuals', 'enron', 'nodding', 'cedrick', 'timelines', 'goodlatte', 'wes', 'censorship', 'aegean', '731st', 'implications', 'townsperson', 'distributor', 'soreness', 'cabaret', 'dod', 'godfather', 'shakira', 'sycophant', 'poe', 'sipping', 'interpret', 'roofs', 'verified', 'unsung', 'renewables', 'airdrops', 'miniature', 'evangelicalism', 'apfel', 'foley', 'townsfolk', 'guts', 'hazardous', 'midler', 'burwell', 'feisty', 'writings', 'bouncin', 'inconsistency', 'unpauses', 'simulate', 'manhunt', 'cutbacks', 'antismoking', 'infidel', 'defines', 'manuscripts', 'propping', 'dredging', 'cantaloupe', 'outta', 'scrutinized', 'womanhood', 'snowmobiles', 'spittle', 'flapping', 'departments', 'reggie', 'marcoses', 'antics', 'supermodel', 'mp', 'cynicism', 'confessed', 'hoover', 'clauses', 'archangels', 'marginalized', 'prey', 'oversharing', 'establishes', 'weightlifting', 'wapo', 'ribs', 'drained', 'inflating', 'conveyed', 'pliers', 'bromance', 'dividing', 'begged', 'doorstops', 'mogul', 'cubans', 'xylophonist', 'lunging', 'illiteracy', 'urgency', 'prick', 'chia', 'sweatshops', 'surgical', 'rubbermaid', 'subcontinent', 'opposes', 'bastards', 'cilla', 'brolin', 'jilted', 'emptier', 'pansy', 'coins', 'shortsighted', 'canonizations', 'liechtenstein', 'wizened', 'sandbags', 'zealot', 'losses', 'layboratory', 'kubrick', 'ghraib', 'unearthed', 'penitentiary', 'que', 'guardrail', 'lightweights', 'yolo', 'imposed', 'mediums', 'bawdy', 'focuses', 'bombinks', 'sparkly', 'infographic', 'sunchips', 'fearmongers', 'herculean', 'amuses', 'degas', 'telecast', 'poz', 'minidress', 'shelling', 'rudd', 'erections', 'mis', 'countryside', 'deputizes', 'gamecocks', 'trigger', 'crumb', 'hooked', 'blueprints', 'astoria', 'backpackers', 'femicide', 'whcd', 'diagnosing', 'congolese', 'shaven', 'disapproval', 'quincy', 'catalogue', 'bud', 'portraying', 'sheriffs', 'duchovny', 'chiquita', 'resolved', '230', 'constable', 'spoiler', 'mcauliffe', 'thunderstorm', 'nyse', 'juno', 'recital', 'usurp', 'tosh', 'appreciated', 'contractors', 'passersby', 'daltrey', 'consult', 'moneymaking', 'punctured', 'dancy', 'shatter', 'rza', '1928', 'sicario', 'ethic', '2065', 'trademarks', 'ark', 'lamont', 'shorts', 'grip', 'pending', 'helmed', 'senses', 'danson', 'strum', 'inescapable', 'greed', 'naomi', 'legit', 'surreal', 'manvendra', 'rhys', 'foxwoods', '2040', 'bicyclists', 'loesch', 'scrapped', 'stageplay', 'ghostwriters', 'gras', 'afterwards', 'unmarried', 'telemarketer', 'flashed', 'attachment', 'chesney', 'idiotic', 'comprehend', 'sucks', 'faceshield', 'hendricks', 'kutcher', 'umpteenth', 'marcel', 'commitments', 'ker', 'pumps', 'nursery', 'misophonia', 'heap', 'fetching', 'sustaining', 'renewable', 'hound', 'watertown', 'nas', 'vulgaria', 'divest', 'aggregator', 'esposito', 'presenters', 'jewel', 'moss', 'collaborations', 'unskewing', 'fetishists', 'panties', 'reel', 'tragicomic', 'joined', 'brianna', 'hazmat', 'klux', '109', 'yelled', 'alfonso', 'obituaries', 'trainers', 'deleting', 'fca', 'twister', 'inroads', 'waffling', 'zeus', 'mötley', 'naturist', 'stink', 'flannel', 'disguised', 'margaritaville', 'makeshift', 'unwed', 'spooks', 'audit', 'gluten', 'redeem', 'cybersecurity', 'cumbre', 'goodyear', 'chinatown', 'overworked', '22nd', 'proposition', 'rotten', 'whuppin', 'lumber', 'andromeda', 'springing', 'jamil', 'learner', 'regretful', 'hardwork', 'climatologists', 'plouffe', 'heirloom', 'westernized', 'crossroads', 'congressmembers', 'fairer', 'lucidity', 'franco', 'assorted', 'velocity', 'raddatz', 'paladino', 'schmidt', 'referendums', 'reforms', 'golfing', 'pew', 'enrolled', 'relocation', 'thrills', 'sack', 'paraguay', 'scolded', 'rink', 'tunisian', 'ringleader', 'resorts', '2085', 'pigeons', 'alexie', 'legislative', 'viviane', 'endlessly', 'galaxies', 'examiner', 'nods', 'redo', 'fetishist', 'drenched', 'aires', 'loom', 'tatum', 'marches', 'sob', 'pont', 'mugged', 'vr', 'rerouting', 'crimean', 'badges', 'hewn', 'incidence', 'meranti', 'marooned', 'overpass', 'invader', 'pomp', 'crisp', 'audacious', 'mousy', 'crusted', 'concocted', 'upn', 'extinguishes', 'scully', 'jacking', 'snowboarders', 'antoni', 'letterman', 'innovate', 'inhumane', 'underpaid', 'greenpeace', 'delhi', 'cuddly', 'nunberg', 'cheerleader', 'fitted', 'loops', 'monologues', 'suspenders', 'erik', 'installed', 'convene', 'granger', 'cornfield', 'geun', 'schoolhouse', 'soaring', 'unfolding', 'pirollo', 'fallujah', 'discharged', 'renegotiate', 'dawned', 'wolfs', 'dol', 'foremost', 'foretells', 'probing', 'outsiders', 'amble', 'mouthfuls', 'foreboding', 'enables', 'affable', 'menswear', 'cranberry', 'amputee', 'dribbling', 'dynamics', 'squirrels', 'dummy', 'tatted', 'amc', 'wandering', 'spirituality', 'norris', 'treetop', 'callaghan', 'venetian', 'liberalization', 'stuntin', 'samsonite', 'commence', 'broomstick', 'noir', 'plagiarizing', '7th', 'resented', 'sweetie', 'shitfaced', 'interminable', 'rucker', 'cartoonist', 'transylvania', 'lossoff', 'vacate', 'dilute', 'fiancé', 'eradicated', 'pollack', 'blackberry', 'faso', 'politely', 'amongst', 'bosnia', 'raping', '51', 'infallibility', 'halfheartedly', 'certificate', 'outlander', 'zamboni', 'harshly', 'klan', 'reinforced', 'trig', 'textbooks', '720', 'rollerblading', 'lamb', 'statehouse', 'pedicure', 'guiding', 'counts', 'trophies', 'mixtape', 'taiwanese', 'nights', 'supernatural', 'garry', 'perverts', 'lingered', 'policewoman', 'trai', 'granta', 'riverwalk', 'nephews', 'dispel', 'liu', 'iceman', 'pivotal', 'belushi', 'prefrontal', 'widows', 'dwyane', 'henner', 'comical', 'maternal', 'baftas', 'américas', 'winding', 'homogenization', 'fireplace', 'israelites', 'carpenter', 'nepotist', '870', 'castros', 'majesty', 'cherish', 'huddle', 'autograph', 'scapegoats', 'torturous', 'satyajit', 'colmes', 'imprison', 'stats', 'ought', 'chang', 'durbin', 'labeouf', 'puzzled', 'disoriented', 'depressingly', 'geode', 'divisive', 'osm', 'awardee', 'schlegel', 'jameson', 'antihero', 'hinging', 'ophthalmologist', 'imitation', 'profound', 'clutch', 'puffins', 'militias', 'diets', 'rickety', 'drank', 'sealy', 'congestion', 'bumper', 'alumnus', 'clapper', 'vito', 'cherishing', 'zippori', 'turnips', 'stereotypical', '000th', 'robbers', 'blowtorch', 'shaved', 'outliers', 'statistician', 'taiwan', 'imaginable', 'moloch', '60th', 'personals', 'vloggers', 'slickers', 'zestitos', 'proofreader', 'tinderbox', '2028', 'periodically', 'clamoring', 'inevitably', 'nova', 'tryout', 'stumped', 'upheld', 'abomination', 'eradicating', 'engineers', 'uneaten', 'closure', 'daylight', 'paxil', 'rodents', 'chekhovian', 'wagner', 'horseshoe', 'clogged', 'hoses', 'chimes', 'creationism', '10ths', 'preserving', 'imperative', 'exploit', 'composers', 'derail', 'crackers', 'slovenian', 'afterlife', 'enslaving', 'fundamentalist', 'warmongers', 'eternally', 'faceoff', 'cracker', 'trailed', 'applied', 'hungarian', 'relaunches', 'cryptically', 'righteous', 'hinders', 'sri', 'galecki', 'soothing', 'equinox', 'bricks', 'discussing', 'sampler', 'axact', 'incorporate', 'coronation', 'gleefully', 'doubling', 'morton', 'kurdi', 'hurdles', 'dependent', 'cobblestone', 'genome', 'playoffs', 'overtipper', 'requested', 'zogby', 'drixoral', 'outperformed', 'prematurely', 'productions', 'munchability', '2027', 'cait', 'infringement', 'jeffords', 'quash', 'shamefaced', 'stances', 'landmass', 'kerr', 'nicotine', 'raffling', 'demoralized', 'lebowski', 'splicing', 'napaquake', 'saigon', 'pewter', 'kübler', 'munchos', 'cooker', 'crumbs', 'troublemakers', 'pairs', 'abhorrent', 'debuted', 'silvio', 'bookish', 'snowboard', 'ludicrous', 'tasty', 'lube', 'nun', 'evancho', 'hammerhead', 'metzger', 'greenhouse', 'enlightens', 'strategists', 'billboards', 'radicalization', 'concertgoer', 'liposuction', 'braille', 'airlifts', 'nonindigenous', 'goalposts', 'indy', 'doxing', 'incubators', 'edgar', 'scattered', 'conception', 'okafor', 'jeffery', 'youssef', 'posthumous', 'ames', 'tailspin', 'constructs', 'coughing', 'sage', 'successories', 'papacy', 'vie', 'consultants', 'strudel', 'freshness', '480', 'freeloading', 'maleness', 'maelstrom', 'overgrown', 'fakebook', 'angelique', 'tamed', 'maybelline', 'slit', 'singlehandedly', 'surcharge', 'sensors', 'culkin', 'hottie', 'facemask', 'unjustified', 'suburbanite', 'kamikaze', 'grass', 'angelo', 'creation', 'rentboy', 'accommodations', 'brazilian', 'dwarven', 'anesthetizes', 'flossing', 'mccullen', 'santana', 'meanwhile', 'corona', 'identifying', 'bronco', 'heifer', 'statute', 'implosion', 'homesick', 'plural', 'shiva', 'dominica', 'alligator', 'confessing', 'bilious', 'blur', 'copied', 'junger', 'sonny', 'jenni', 'sterilization', 'belle', 'homosexuals', 'vlogger', 'jermaine', 'gypsies', 'visine', 'aduba', 'balmain', 'hasty', 'gen', 'rhubarb', 'dieselgate', 'hader', 'reabsorb', '4716', 'standardized', 'beget', 'felipe', 'raphaelite', 'attributes', 'microsft', '91', 'housekeeper', 'nearing', 'brazile', 'sunk', 'transformer', 'brownface', 'homecoming', 'waitresses', 'attenborough', 'relapse', 'stupidest', 'turbans', 'iglesias', 'propecia', 'dachshund', 'sketched', 'chemo', 'symbol', 'terminally', 'clothesline', 'banners', 'khizr', 'validated', 'betty', 'communist', 'aerial', 'homeowners', 'blondes', 'scamming', 'squid', 'macaskill', 'bulging', 'sprint', 'toughest', 'swollen', 'astana', 'trusted', 'slime', 'amish', 'certificates', 'denouncement', 'bunsen', 'supposedly', 'wtf', 'wonderland', 'viagra', 'gravedigger', 'ulcerative', 'burdened', 'caw', 'taboo', 'hookup', 'napa', 'virginity', 'seatbelts', 'sprints', 'snubs', 'firemen', 'modeled', 'drastically', 'demagogue', 'treadwell', 'buyer', 'segway', 'saor', 'luge', 'pisses', 'ellie', 'operators', 'amplifyd', 'kitkats', 'plague', 'foodie', 'vest', 'samberg', 'nytimes', 'peek', 'recruiting', 'psychosexual', 'emits', 'systematic', 'saliva', 'duchamp', 'leagues', 'piles', 'insulted', 'overstock', 'faking', '279', 'winston', 'vibrates', 'trio', 'isbell', 'aphasia', 'panini', 'mastectomy', 'cedar', 'minibar', 'segmented', 'wax', 'improvements', 'unstable', 'hough', 'italia', 'distances', 'unlabeled', 'offshorers', 'frustration', 'wordpress', 'tantaros', 'promposal', 'pushy', 'glaxosmithkline', 'sparked', 'slants', 'pasta', 'awakened', 'disembodied', 'krispie', 'enforced', 'picket', 'fasting', 'sultry', 'bern', 'rediscover', 'colorblind', 'breakroom', 'capabilities', 'unbeleafably', 'travels', '301', 'undertaker', 'shred', 'zany', 'atms', 'complying', 'izzo', 'neuter', 'protectionism', 'voyager', 'magician', 'cecily', 'allison', 'mobilize', 'adamant', 'procrastinating', 'kinks', 'hors', 'crawleys', 'turbo', 'cafés', 'fluttering', 'sanity', 'adulterers', 'indonesia', 'depositions', 'rezoned', 'divides', 'comrade', 'crusades', 'nagel', 'caddy', 'haegue', 'deets', 'oeuvres', 'compassionate', 'fishin', 'atx', 'elmore', 'disables', 'haugh', 'lovell', 'cunningly', 'parlay', 'burke', 'hydra', 'anthrax', 'rubs', 'moonwalks', 'charm', 'brisket', 'hebrew', 'reprieve', 'omaha', 'misshapen', 'nannies', 'lousy', 'khadr', 'reassigned', 'posse', 'horribly', '2400', 'casa', 'qualifying', 'chatter', 'travelling', 'docile', 'rockers', 'stun', 'polled', 'homepage', 'mocha', 'lingers', 'sprawling', 'rockette', 'unaffordable', 'muniz', 'hotspots', 'schiller', 'inuit', 'immersive', 'detonated', 'triangular', 'natalie', 'extending', 'prankster', 'enda', 'solace', 'vib', 'poets', 'michelin', 'ethiopia', 'beckons', 'deportations', 'slovenly', 'borrowed', '11th', 'fuckup', 'kerber', 'krill', 'incentives', 'waxes', 'stearns', 'zhang', 'searchlight', 'mildly', 'plo', 'quake', 'ravishing', 'highlighting', 'facade', 'keystroke', 'chartering', 'deserter', 'probiotics', 'enthroned', 'surrenders', 'unshakeable', 'candler', 'collusion', 'montreal', 'cr', 'educators', 'porcupine', 'tattered', 'xenical', 'emptying', 'zehnder', 'showerin', 'summed', 'copeland', 'grapes', 'annul', 'combatting', 'reich', 'xiaoping', 'ragnar', 'dorner', 'leelah', 'mclaughlin', 'disrobing', 'mooch', 'marlee', 'bloodless', 'catfight', 'marqkria', 'retaining', 'perception', 'grumbling', 'rollers', 'recessive', 'stairwells', 'redskins', 'appetizers', 'jennings', 'buses', 'blotting', 'breached', 'retract', 'pommel', 'stacks', 'thwart', 'uneventful', 'falsehoods', 'suggestions', 'cana', 'prebiotics', '2000s', 'menstrual', 'disengagement', 'redenbacher', 'predisposed', 'saucer', 'fascinated', 'beau', 'gridlock', 'slipping', 'artweek', 'appreciation', 'grads', 'flashy', 'telekinetic', 'minson', 'khakis', 'gotta', 'aleck', 'puck', 'cryptozoologist', 'allied', 'amok', 'ribbons', 'beck', 'promising', 'yourselves', 'prophesied', 'tmz', 'peripheral', 'alluring', 'cupcake', 'redstate', 'proverb', 'cutthroat', 'pepperidge', 'wonderfully', 'nerds', 'seasoned', 'edged', 'aggression', 'flashback', 'ecuador', 'decompose', 'bucking', 'incinerates', 'wozniak', 'uruguay', 'stung', 'incomparable', 'peaches', 'aussie', 'immunotherapy', 'martini', 'potties', 'morbid', 'vacant', 'posit', 'hash', 'startups', 'suitors', 'octavia', 'troubles', 'nissan', 'nurturing', 'deciding', 'nitrogen', 'charley', 'paragraph', 'ankara', 'societal', 'crazier', 'italics', 'chyna', 'whirlwind', 'thiessen', 'oddly', '1992', 'teethmarks', 'nudging', 'sherwin', 'correctness', 'expels', 'raucous', 'neurology', 'gouging', 'structurally', 'depletion', 'crushworthy', 'narcicyst', 'stinky', 'mckesson', 'badminton', 'rehabilitate', 'schooling', 'ci', 'dunks', 'sleeves', 'lambert', 'databases', 'skee', 'contaminated', 'tacked', 'enema', 'polarized', 'winks', 'arrogance', 'stressful', 'abysmal', 'voluntary', 'weiwei', 'seafood', 'endurance', 'unaccountable', 'encrypted', '1988', 'buttery', 'octogenarian', 'skybridge', 'gundy', 'willam', 'umbrellas', 'forcefield', 'paralympic', 'snitch', 'schnauzers', 'jahlil', 'sturgeon', 'vocalese', 'previews', 'equine', 'caterers', 'miscarriage', 'marv', 'concise', 'snowflake', 'distraught', 'bestie', 'hurling', 'groin', 'punished', 'pitifully', 'sliced', 'fisa', 'roaming', 'groovin', 'helium', 'boasts', 'endures', 'delete', 'lebanon', 'voldemort', 'raciest', 'gerald', 'halfpipe', 'gored', 'compulsive', 'hyslop', 'seyfried', 'lynn', 'intertwined', 'ethnicity', 'hutcherson', 'educated', 'sarin', 'ants', 'marilyn', 'gibbs', 'aborting', 'mustaches', 'jojo', 'directives', 'sentiment', 'ipad', 'museums', 'cajun', 'peso', '2037', 'harmless', 'paste', 'optimism', 'jabs', 'subduing', 'technically', 'nast', 'livened', 'tent', 'ska', 'nightmarish', 'feijoada', 'kehlani', 'recorder', 'hallway', 'interrogations', 'texan', 'squeak', 'dalit', 'laze', 'gagged', 'superdelegate', 'unites', 'outrageously', 'redeems', 'feasts', 'quentin', 'farrow', 'buffering', 'competing', 'dynamites', 'scoffs', 'ladens', 'nasr', 'heed', 'addition', 'fanciful', 'liverpool', 'adjacent', 'coffin', 'muppets', 'alig', 'contentedly', 'dreamer', 'idina', 'installs', 'server', 'destinations', 'boosted', 'provision', 'locals', 'snowman', 'oncoming', 'disinvited', 'encore', 'deregulation', 'cuter', 'transcript', 'extremism', 'serch', 'nevertheless', 'des', '102', 'admission', 'coordinator', 'dunst', 'pickler', 'pegida', 'jena', 'beelines', 'crotchless', 'jeweler', 'dragonriders', 'muffuletta', 'ferris', 'ewok', 'meenakshi', 'vaughn', 'consistent', 'lerner', 'chose', 'martens', 'specializes', 'scotch', 'illustrations', 'learnin', 'luftwaffle', 'jamaican', 'ragtag', 'malleable', 'gleeson', 'christensen', 'understudy', 'simpering', 'magpie', 'cassoulet', 'battersby', 'reannounces', 'wurst', 'chaffetz', 'kabul', 'arthamptons', 'diss', 'incinerating', 'steady', 'endometriosis', 'tff', 'deferments', 'flaunting', 'branch', 'greenlit', 'zagitova', 'masterfully', 'interpol', 'stopwatch', 'quaker', 'outlived', 'insect', 'zoroastrianism', 'elites', 'ob', 'foxtrot', 'stern', 'racks', 'unicyclist', 'canonized', 'rarely', 'strewn', 'timeless', 'mindanao', 'repeating', 'sellout', 'explored', 'stationed', 'doorway', 'beheadings', 'dar', 'squads', 'grizzly', 'bellwether', 'bluefish', 'assigns', 'explainer', 'botox', 'algae', 'doughnut', 'brine', 'villages', 'provider', 'grift', 'cowering', 'geico', 'occupy', 'antacid', 'deadlocked', 'dane', 'bounds', 'blatter', 'partnering', 'activating', 'sentimental', 'einstein', 'webster', 'deliberating', 'invading', 'upsides', 'bumbum', 'rezzed', 'girthy', 'seduce', 'vax', 'redd', 'gamgam', 'omnipotent', 'oxy', 'stiles', 'adventists', 'burrell', 'disposable', 'exchanges', 'waded', 'smugglers', 'malala', 'gavrilo', 'mariani', 'mates', 'dhaka', 'functions', 'heche', 'curly', 'exclusively', 'nondisclosure', 'rooting', 'kindle', 'bumped', 'abedin', 'souter', '2022', 'unplayed', 'depopulated', 'genders', 'menzel', '300th', 'weezer', 'instances', 'bayh', 'fingerprinting', 'vocalist', 'discounted', 'barinholtz', 'nutella', 'adieu', 'recharge', 'legislator', 'vikram', 'errant', 'climber', 'nyad', '501', 'represents', 'chrysler', 'ag', 'scrappy', 'porsha', '401k', 'define', 'geller', 'unorthodox', 'weakling', 'monarchy', 'emphasizing', 'indiscretion', 'distractions', 'performances', 'gyn', 'tripped', 'sportscenter', 'dialogue', 'srinivasan', 'chamomile', 'joked', 'orban', 'discreetly', 'uzo', 'bausch', 'indifferent', 'sweatshop', 'gigi', 'cryosleep', 'maloney', 'spattered', 'guessing', 'ku', 'binomials', 'guidebook', 'pillars', 'g20', 'kellogg', 'frosted', 'lids', 'gambler', 'overinflated', 'cannsas', 'sentient', 'bei', 'tine', 'jebbush', 'laborer', '340', 'treed', 'muse', 'spencer', '75th', 'behaved', 'tsunami', 'nidetch', 'edtech', 'medals', 'cleansed', 'forge', 'kunis', 'dendy', 'toppling', 'dash', 'pedophiles', 'luau', 'heartedly', 'cameltoe', 'shriveled', '5k', 'gorbachev', 'gladwell', 'hm', 'jihad', 'yeti', 'joanna', 'saddle', 'reptile', 'misbehavior', 'pains', 'reaped', 'queerness', 'suppliers', 'participates', 'brewery', 'photobomber', 'squeaky', 'precarious', 'paunch', 'resuscitate', 'ripe', 'foreshadows', 'affiliation', 'dru', 'jaskoviak', 'annoy', 'inhuman', '94th', 'scandinavia', 'zimbabwe', 'nafta', 'bared', 'outreach', 'duchen', 'vested', 'guardian', 'waddling', 'cassuto', 'rekindle', 'milks', 'yoke', 'trait', 'outnumber', 'homey', 'nuances', 'sensing', 'andes', 'dataclysm', 'loaf', 'eleanor', 'shocker', 'provisions', 'zalmay', 'doorbell', 'welter', 'pallid', 'neanderthal', 'dysmorphia', 'evenly', 'sonia', 'freight', 'zawahiri', 'lantern', 'hispánico', 'robbed', 'imperiled', 'éclairs', 'payday', 'practical', 'sanctioned', 'unremarkable', 'cupboard', 'darius', 'transcanada', 'flay', 'pranksters', 'leveling', 'dontcha', 'deviation', 'macklemore', 'trader', 'puberty', 'boca', 'sparring', 'hardest', 'baths', 'punishments', 'heisman', 'variant', 'stressfest', 'tiffani', 'offsets', 'movers', 'length', 'forensics', 'canyons', 'rolex', 'remover', 'suavity', 'mastercard', 'garcía', 'incarnation', 'cradled', 'pupil', 'welterweight', 'dismal', 'charities', 'budapest', 'sharks', 'nipsey', 'contradicts', 'ineptly', 'vulgar', 'schlafly', 'injectable', 'tronc', 'dolly', 'koteas', 'arson', 'lineman', 'pondering', 'harsher', 'cretinous', 'svp', 'cupp', 'busters', 'kaleidoscoping', 'deadpan', 'involvement', 'sahm', 'dumbfounding', 'butting', 'brownstone', 'rite', 'phat', 'midwesterners', 'chimps', 'cicilline', 'decapitated', 'tricky', 'skittering', 'vandalized', 'aerosol', 'overseer', 'repulsed', 'dissolving', 'princip', 'tractors', 'appreciably', 'intro', 'complexity', 'condé', 'combos', 'stomachs', 'lamelo', 'viciously', 'terrific', '1980', 'incredibles', 'luminaries', 'confiding', 'gargoyle', 'calf', 'jinx', 'nailed', 'moby', 'audible', 'creations', 'dj', 'gohmert', 'versace', 'kitsch', 'sorrow', 'myopia', 'florist', 'ducharme', 'blackwater', 'couches', 'tollbooth', 'morality', 'painstaking', 'scholly', 'cheapest', 'mahoney', 'tempurpedic', 'disputes', 'kingmakers', 'fiber', 'ike', 'crispy', 'sara', 'rohit', 'curses', 'irresistible', 'unconscious', 'parliamentary', 'labyrinthian', 'ghomeshi', 'bandai', 'migrated', 'acknowledging', 'examples', 'bestseller', 'seedless', '116', 'concealing', 'memorandum', 'graters', 'doppelgänger', 'hatala', 'cartman', 'paralyzing', 'playbook', 'pursuit', 'nar', 'shrek', 'predictions', 'listeria', 'casulli', 'guatemalan', 'pong', 'nah', 'nerd', 'mcchicken', 'deposed', 'bette', 'knocker', 'incumbents', 'mugshots', 'suits', 'injure', 'saver', 'rants', 'constellations', 'wizarding', 'inaccuracies', 'dishonorable', 'augmented', 'eagle', 'saunders', 'adores', 'contemplated', 'inject', 'richrath', 'paternalizing', 'koechner', 'harpies', 'alexia', 'lbd', 'laurel', 'piled', 'mercedes', 'ssris', 'amends', 'escort', 'sexiness', 'hick', 'peach', 'gripping', 'womenboycotttwitter', 'lewd', 'tenure', 'smuggles', 'klum', 'exploiting', 'safari', 'turban', 'demonstrating', 'axes', 'euphemized', 'stepmom', 'oddball', 'walkouts', 'exorcise', 'festive', 'closings', 'mediator', 'smuggle', 'tentacles', 'relieve', 'condemned', 'listened', 'methushael', 'torchlit', 'coped', 'cultivating', 'woodcut', 'korra', 'sample', 'profiteering', 'hux', 'iud', 'lightyear', 'creflo', 'rosy', 'shotguns', 'psalm', 'staplings', 'closets', 'dogfights', 'watered', '1930s', 'chik', '1937', 'fetid', 'connie', 'toffee', 'fraught', 'sociocultural', 'holly', 'raiding', 'incubator', 'gyro', 'royalties', 'dives', 'saber', 'poundstone', 'reiner', 'blm', 'mongol', 'domhnall', 'connector', 'rosh', 'foodborne', 'rafting', 'salaam', 'plugs', 'brimley', 'stint', 'ultimately', 'impersonal', 'wetlands', 'humidifier', 'tacky', 'zohan', 'candidacy', 'bins', 'simpleton', 'coaster', 'coon', 'mediation', 'purchaser', 'floppy', 'lauded', 'absentminded', 'tilting', 'mudslides', 'chainsaws', 'reasonably', 'mansplained', 'poke', 'sermon', 'overstays', 'huerta', 'sanitation', 'viewership', 'mgm', 'waterfront', 'evacuees', 'sprite', 'mashed', 'grimacing', 'rinsed', 'oaths', 'taker', 'gorka', 'johanns', 'qs', 'captor', 'introspect', 'houseboat', 'etheridge', 'speechwriter', 'rampage', 'goodies', 'eyeing', 'obtains', 'desires', 'oasis', 'knifepoint', 'prenuptial', 'melinda', 'ryancare', 'disfigured', 'behaving', 'brunch', 'insecurity', 'abolish', '1939', 'lamech', 'costly', 'williamson', 'ballers', 'spokeswoman', 'relative', 'warcraft', 'villa', 'hyundai', 'sequins', 'superstitious', 'khalilzad', 'clamps', 'snapchatting', 'intercultural', 'mech', 'camry', 'indulgent', 'pits', 'intrigues', 'huffy', 'collapsible', 'portfolio', 'clocked', 'atomic', 'arabic', 'quaaludes', 'slid', 'symptomatic', 'fleek', 'yore', 'beavan', 'lens', 'hustle', 'tabloid', 'owes', 'condoms', 'toothbrushes', 'observation', 'togo', 'invincible', 'g8', 'safes', 'warpaint', 'bog', 'quadruplets', 'shoves', 'navigation', 'gulag', 'spurs', 'fitbit', 'aaron', 'ruby', 'derided', 'etna', 'tara', 'adon', 'quilt', 'spiders', 'notify', 'minotaurs', 'rapture', 'log', 'mozambique', 'fictitious', 'taskforce', 'lourea', 'stuffs', '1913', 'lust', 'clickbait', 'medieval', 'wallpaper', 'ewan', 'vandana', 'expectant', 'amplify', 'lightweight', 'baker', 'giddily', 'quadruple', 'deregistered', 'locator', 'studying', 'febreze', 'fugees', 'elisabeth', 'purists', 'pastoral', 'refinancing', 'lancet', 'cheerios', 'catchphrase', 'staircase', 'derived', 'theirs', 'potomac', 'overrule', 'adjective', 'visa', 'cinephiles', 'spec', 'addclimatechangetotv', 'induce', 'grossest', 'mole', 'nub', 'grumblethor', 'swinging', 'incest', 'insights', 'whedon', 'slinking', 'wowing', 'yoshi', 'tooting', 'imagines', 'hisses', 'gram', 'abysmally', 'campuses', 'creationist', 'output', 'massed', 'voyeurs', 'rossdale', 'mummenschanz', 'threshold', 'languages', 'catacombs', 'fronts', 'ammon', 'eucalyptus', 'kozlewski', 'worsen', 'timing', 'sweepers', 'nullifying', 'wuhl', 'northeast', 'screenwriting', 'stoudemire', 'roadtrip', 'honks', 'hibernating', 'ratner', 'interference', 'pallbearers', 'brutality', 'pike', 'teeters', 'responsibly', 'batarang', '1963', 'investigates', 'spiral', 'bittersweet', 'punt', 'ernie', 'displaying', 'lured', 'unlock', 'intergalactic', 'revels', 'genres', 'microfiber', 'uniquely', 'listerine', 'jerking', 'dumbledore', 'infrequent', 'grandmothers', 'homelessness', 'multiplayer', 'kumbaya', 'spawn', 'lotioning', 'coastal', 'dojo', 'neurosis', 'flaw', 'flo', 'asset', 'gethard', 'maytag', 'waiver', 'zachary', 'mailer', 'logging', 'christening', 'implicating', 'reissue', 'withdraw', 'bechdel', 'pinhead', 'blimp', 'councilman', 'dacamented', 'pryor', 'soundandfury', 'juniors', 'bi', 'carmex', 'circumstantial', 'transit', 'demonstration', 'buzzword', '451', 'obedience', 'nostalgically', 'repentence', 'indiscriminately', 'entrusted', 'astrazeneca', 'bangkok', 'rapes', 'snoop', 'curvy', 'broccoli', 'roomie', 'fairey', 'pottery', 'circuitry', 'chummy', 'kindergartner', 'narration', 'exotic', 'penthouse', 'plastics', 'qualities', 'rationing', 'expressed', 'fruits', 'yalie', 'sawed', 'flor', 'radcliffe', 'hi', 'nea', 'priorities', 'podcasts', 'accomplished', 'fractures', 'drifts', 'synagogues', 'inconveniencing', 'amend', 'micro', 'unplug', 'engel', 'blinding', 'mixup', 'affiliate', 'patents', 'cooperating', 'opposed', 'dascha', 'understood', 'spector', 'transmasculine', 'undercurrent', 'kotter', 'presley', 'cesarean', 'inconsolable', 'archbishops', 'dud', 'divorcée', 'ecosystems', 'flamin', 'diddy', 'contradiction', 'resurfaces', 'rundown', '03', 'unreasonable', 'backstabbing', 'pledging', 'glosses', 'resurgence', 'stupendous', 'amused', 'divorcee', 'márquez', 'morals', 'challengers', 'astray', 'malawi', 'retail', 'zissu', 'additives', 'responded', 'wallem', 'winwood', 'frustrates', 'addressed', 'unearth', 'bassnectar', 'holyoke', 'mckinley', 'lifesavers', 'accountant', 'ab', 'chlorine', 'paradox', 'bestows', 'discourages', 'comptroller', 'seatmates', 'ari', 'hooligans', 'whaling', 'expanded', 'jaws', 'spectacular', 'gershwin', 'bharara', 'intimately', 'stoners', 'josef', 'conceiving', 'katehi', 'lydia', 'boats', 'anytime', 'senile', 'manpower', 'preemie', '1941', 'blaze', 'pitied', 'cyndi', 'despises', 'kleenex', 'uterine', 'tar', 'frenzy', 'eulogizer', 'underutilized', 'manual', 'brushes', 'unsee', 'whaboom', 'immolation', 'skydiving', 'neutered', 'squadgoals', 'awed', 'pranks', 'truckers', 'popemobile', 'infestation', 'chen', 'lepage', 'softly', 'senseless', 'sleepover', 'andreessen', 'armie', 'lululemon', 'corrupted', 'slaver', 'substantive', 'robins', 'extracting', 'philanthropist', 'neurons', 'railways', 'cougars', 'retiring', 'moonves', 'translucent', 'poring', 'swerves', 'agencies', 'widened', 'maidstone', 'attractiveness', 'demoted', 'moody', 'triathlon', 'tamp', 'jazzfest', 'masochistic', 'counters', 'soulful', 'freezes', 'exceptional', 'providence', 'rescuing', 'bourbon', 'mentioned', 'irvin', 'devoted', 'dzhokhar', 'ginger', 'ambition', 'fisheries', 'shortens', 'unraveled', 'abbas', 'leisure', 'pynk', 'practiced', 'reviewers', 'nationalists', 'texture', 'photoshopped', 'contained', 'plotholes', 'murderers', 'indicts', 'tis', 'ops', 'duct', 'caloric', 'chipmunks', 'disodium', 'mexicans', 'vanessa', 'nonstop', 'experimented', 'directive', 'apartments', 'cutlet', '35th', 'suzanne', 'thandie', 'caroline', 'garofalo', 'frances', 'doe', 'isil', 'windmill', 'soros', 'braun', 'liveris', 'hardware', 'heeding', 'squirts', 'fluorescent', 'mending', 'glenbrook', 'unconventional', 'publish', 'hooded', 'ofiesh', 'sanrio', 'incivility', 'mildfires', 'bro', 'reformers', 'periodic', 'achievment', 'heir', 'squeaks', 'lyne', 'bulbous', 'cursor', 'swims', 'dupri', 'blogs', 'bbq', 'ncis', 'outdoors', 'aloud', 'treaty', 'centuries', 'inadequate', 'earnhardt', 'corrupt', 'coddled', 'mangles', 'stomp', 'sniffing', 'dreamily', 'dusted', 'pusha', 'idyllic', 'ulysses', 'airstrike', 'anaheim', 'decor', 'entrepreneurship', 'flings', 'blond', 'blitzed', 'latte', 'schneider', 'foie', 'vincent', 'armour', 'cussler', 'naples', 'deformed', 'kermit', 'blooper', 'drapes', 'misconception', 'messaged', 'breakfasts', 'inserting', 'allowance', 'nam', 'researcher', 'wantonly', 'alienate', 'unwinding', 'sheep', 'unlucky', 'bohemian', 'hesitates', 'chester', 'mishandling', 'oppress', 'unfamiliar', 'reinventing', 'pawned', 'kiddie', 'hochuli', 'mohapatra', 'normalcy', 'angle', 'miéville', 'cc', 'fanduel', 'rippon', 'merits', 'numbing', 'navigating', 'flyboy', 'percentage', 'suite', 'reuses', 'costa', 'prototype', 'exclusivity', 'opting', 'feign', 'permanent', 'khalid', 'gingerbread', 'kimmy', 'pity', 'fits', 'munson', 'sweetens', 'nausea', 'modifier', 'mighty', 'horseman', 'nakba', 'thwarts', 'lasorda', 'jesuit', 'mixers', 'torched', 'necessities', 'storylines', 'asmr', 'gonzaga', 'scowls', 'unattractive', 'hooking', 'pandering', 'enabler', 'tubs', 'understandably', 'respects', 'supersized', 'cinnabontography', 'spacex', 'classifying', 'hostile', 'roxane', 'riverdale', 'spied', 'arkansans', 'electro', 'humorous', '117', 'buenos', 'buttons', 'cumberbatch', 'matlin', 'merchandise', 'messing', 'hd', 'persistence', 'californian', 'scoop', 'doubter', 'wellbeing', 'moroccan', 'noticeably', 'rohypnol', 'ladykiller', 'fundamentals', 'custard', 'canard', 'wrapping', 'canoeing', 'protections', 'savior', '34th', 'gown', 'conflicted', 'burkina', 'dignified', 'ki', 'wales', 'plunged', 'cages', 'aspirin', 'iraqis', 'trumpland', 'flighter', 'tupperware', 'bernstein', 'zeta', 'jose', 'hovering', 'ganged', 'orchestra', 'psst', 'erectile', 'prohibition', 'unformed', 'casket', 'initiatives', 'fossils', 'envy', 'averting', 'directtv', 'prefaces', 'mastiff', 'pipelines', 'altoid', 'extinguisher', 'kuczynski', '2032', 'scarier', 'distinction', 'mating', 'locate', 'katherine', 'inhofe', 'bloodied', 'apeshit', 'caricaturist', 'redhead', 'tonto', 'logan', 'iger', 'roils', 'maxim', 'ruthlessly', 'rebuke', 'maru', 'downvote', 'swooning', 'nuisance', 'verbalizing', 'reminisces', 'defaced', 'attendants', 'sprayed', 'cardiomyopathy', 'bloodfest', 'psyches', 'corners', 'mekas', 'butters', 'bearded', 'disadvantaged', 'penicillin', 'proviso', 'exploding', 'climactic', 'concussion', 'doctoring', 'introversion', 'rowland', 'publicists', 'lucrative', 'humanly', 'maw', 'addcandytoamovie', 'oat', 'kingpins', 'grisham', 'hunky', 'danza', 'treatable', 'fives', 'hospitalization', 'vacationer', 'endanger', 'battlefront', 'greenwald', 'bless', 'carabiner', 'windowsill', 'tingling', 'ballistics', 'recess', 'agreeing', 'gushing', 'downtown', 'dozing', 'sodium', 'madeline', 'estrada', 'dapperly', 'felonies', 'panhandler', 'dearbetsy', 'complimenting', 'moniz', 'blaine', 'dissolves', 'gunmen', 'channing', 'collide', 'squawking', '400th', '113', 'pizzeria', 'historically', 'wideawakepatriot', 'grandsons', 'unambitious', 'completion', 'dusty', 'rafters', 'perdue', 'collie', 'flustered', 'regrow', 'miniskirt', 'practically', 'starlight', 'elements', '1991', 'altercation', 'gorsky', 'potty', 'conclusion', 'heal', 'burtnick', 'cardamom', 'kinds', 'uniforms', 'betray', 'kite', 'droopy', 'katsuya', 'obeying', 'hydrant', 'frankie', 'moronic', 'scorecard', 'bungles', 'chronology', '20s', 'sizzling', 'mallet', 'injects', 'mutants', 'byers', 'fuses', 'touting', 'marginal', 'duller', 'filthiest', 'solemn', 'resembling', 'lynda', 'dart', 'consist', 'vampires', 'multifaceted', 'ridge', 'midair', 'firenze', 'destruct', 'overrated', 'rentboys', 'piling', 'peacefully', 'inherited', 'groom', 'snowflakes', 'homeroom', 'engulfing', 'boise', 'trenchcoat', 'governments', 'tammys', 'schnook', 'blowjob', 'inspector', '31st', 'transitions', 'mittenaere', 'knuckle', 'lifehouse', 'wounds', 'yellows', 'crisper', 'kidz', 'mccool', 'squatters', 'troian', 'billionnaire', 'sprays', 'topples', 'myrtle', 'pander', 'clive', 'refreshing', 'defaulting', 'yothers', 'cinematographer', 'gallant', 'shortcuts', 'roam', 'tolerant', 'filmmakers', 'professors', 'crüe', 'profusely', 'spouting', 'symantec', 'tomatoes', 'niagara', 'shorthand', 'placebo', 'repercussions', 'onrush', 'herzog', 'slathered', 'nadezhda', 'renoir', 'dominicans', 'consolidating', 'ritter', 'banado', 'freakin', 'cabins', 'frauds', 'peas', 'autobiography', 'jeffrey', 'emergence', 'fearsome', 'excusing', 'countdown', 'piloto', 'duration', 'stricter', 'lamontagne', 'carcinogenic', 'exceeded', 'tortured', 'reset', 'battlebots', '194', 'jams', 'leviathan', 'wealthier', 'prepping', 'acknowledges', 'vitaminwater', 'winters', 'flung', 'gods', 'processing', 'imdb', 'lockdown', 'lactose', 'interns', 'cafe', 'morocco', 'prohibits', 'shook', 'moranis', 'scorsone', 'landowning', 'offbeat', 'segment', 'amateurish', 'grading', 'detour', 'cited', 'keaton', 'naderite', 'remnick', 'urbanism', 'conservatism', 'evicted', 'dictionary', 'posits', 'stiffed', 'jasmine', 'obscene', 'embellished', 'dehydration', 'nom', 'dora', 'darth', 'trumphair', 'controversies', 'distracts', 'waukegan', 'horcrux', 'lobe', 'shonda', 'thankfully', 'cargo', 'hardee', 'optimistic', 'bobsled', 'cleverly', 'autopilot', 'pastors', 'crowning', 'charming', 'mcveigh', 'dsm', 'zanjeer', 'kiddos', 'hb', 'woodworking', 'shamanism', 'runaways', 'bbqs', 'ronaldo', 'apportionment', '984', 'cowards', 'breezy', 'unsuited', 'blowfish', 'decency', 'exerting', 'troy', 'boot', 'starched', 'bandolier', 'mcadams', 'succinct', 'fireman', 'freakish', 'geyser', 'oddsmakers', 'licensed', 'workbench', 'decree', 'dipshits', 'endings', 'channeled', 'sexting', 'distinctly', 'dafoe', 'disaffected', 'odessa', 'diplomas', 'legoland', 'bloodshed', 'labrador', 'ledecky', 'arafat', 'chargers', 'rooms', 'diminished', 'faints', 'amaranth', 'sacking', 'spectral', 'urn', 'counterpart', 'yanking', 'litigation', 'crock', 'mixxxx', 'charmed', 'urschel', 'android', 'loch', 'wissam', 'chains', 'moderate', 'titans', 'cashless', 'hardship', 'refrain', 'rugged', 'encountered', 'vicar', 'ingrown', 'resolute', 'mink', 'embezzlement', 'burying', 'strobe', 'ventimiglia', 'podiatrist', 'congo', 'snickered', 'prefaced', 'soliders', 'dis', 'mélisande', 'oppressing', 'awkwardness', 'farce', 'sculpted', 'supple', 'relishing', 'ratburn', 'emphasized', 'khamenei', 'leotard', 'sleiman', 'pageant', 'urinating', 'walkable', 'emissions', 'fico', 'alvah', 'puzzles', 'riots', 'qualification', 'maitre', 'jetpack', 'himmler', 'thoughtful', 'carroll', 'wedges', 'apprehends', 'siberian', 'ah', 'shortages', 'dormant', 'pulses', 'disqualified', 'twas', 'bunny', 'stoking', 'courtside', 'birthing', 'stained', 'telemedicine', 'extensively', 'geographic', 'courtship', 'activities', 'polluters', 'aspca', 'vooms', 'brentwood', 'mormons', 'digitalhealth', 'sweeney', 'outgrown', 'boozy', 'canvassed', 'ebooks', 'unimpressive', 'tituss', 'lasso', 'spur', 'sens', 'hummingbirds', 'crunchiness', 'outkast', 'marilu', 'dislike', 'narco', 'mensch', 'podoba', 'crass', 'dickipedia', 'layover', 'pets', 'markers', 'congregants', 'heigl', 'lecture', 'churchgoer', 'dynamic', 'picassoesque', 'crostini', 'discouraged', 'miniseries', 'wolfman', 'cauliflower', 'yin', 'lanterns', 'gadget', 'puget', 'unlawful', 'tougher', 'fatigue', 'naturalized', 'thousandth', 'corduroys', 'aunties', 'beginners', 'tilda', 'sanction', '2001', 'chatman', 'theological', 'rigging', 'exile', 'obsessing', 'kosmider', 'sawyer', 'overfunded', 'folk', 'endowed', 'della', 'horseracing', 'evaluate', 'redesign', 'arrhythmically', 'routes', 'spare', 'spotting', 'burners', 'tastic', 'shittiest', 'carnivorous', 'admiral', 'judy', 'unzipped', 'contends', 'undressed', 'upstairs', 'tressel', 'venue', 'moviegoers', 'fastball', 'lizards', 'lutheran', 'electronica', 'nylon', 'undeterred', 'rey', 'cw', '00', 'reprimanded', 'chord', 'lording', 'saget', 'mash', 'graffitied', 'capsizes', 'quinn', 'miele', 'default', 'aggressively', 'orbiting', 'foes', 'unesco', 'sanitizer', 'dogg', 'lupe', 'coconut', 'bassett', 'thief', 'garfield', 'shawkat', 'syllable', 'airliners', 'maniac', 'supergirl', 'snazzy', 'compass', 'courtois', 'bedbugs', 'moles', 'licks', 'forgery', 'agile', 'fresco', 'lengths', 'potted', 'insulating', 'fullness', 'sharpest', 'carving', 'hutsell', 'absconds', 'flattering', 'reza', 'mers', 'unspeakably', 'wasp', 'cloaked', 'magnanimous', 'homan', 'brisk', 'nonsensical', 'toasted', 'wreath', 'ariel', 'tipped', 'rewarded', 'debated', 'indecency', 'cambodia', 'falwell', 'cafeteria', 'nicely', 'factories', 'yay', 'soured', 'ching', 'marlboro', 'como', 'omits', 'chongs', 'ouchless', 'handshake', 'reclassify', 'governorship', 'cue', 'worldview', '159', 'leia', 'inactivity', 'clavin', 'halperin', 'nasal', 'dylann', 'complicit', 'odorless', 'kmart', 'discriminated', 'bio', 'significance', 'softener', 'bavarian', 'helpless', '53', 'tragedies', 'slumber', 'suffragist', 'operation', 'zapper', 'anthems', 'gentleman', '2651', 'templeton', 'sweden', 'deloitte', 'jails', 'impersonation', 'monthlong', 'aiello', 'theblaze', 'gazing', 'totalled', '421', 'acadia', 'ellis', 'kearney', 'sensei', 'stuporous', 'digest', 'suede', 'lifeguarding', 'cellist', 'hairdo', 'deems', 'latifah', 'deign', 'noam', 'crowded', 'slits', 'disgrace', 'portray', 'booths', 'sengupta', 'cobbled', 'utters', 'hammersmith', 'plaque', 'perils', 'adelaide', 'hitchhikes', 'mongering', 'thundered', 'fawlty', 'altman', 'doodles', 'chevy', 'wellesley', 'rosamund', 'limp', 'smithereen', 'escobar', 'timelapse', 'pivot', 'riz', 'garroting', 'lucy', 'unboxing', 'hepburn', 'unpresidential', 'nomsense', 'misuse', 'pollute', 'sevign', 'busses', 'klemke', 'zionist', 'journals', 'intolerance', 'stinging', 'gases', 'hefty', 'ruthless', 'showers', 'iroquois', 'uploading', 'disavowing', 'meditate', 'unnamed', 'newsguild', 'neurological', 'cloney', 'tamagotchi', 'mohammad', 'melo', 'clarified', 'abby', 'tapas', 'mysteriously', 'rolie', 'pantomimed', 'whiffing', 'intimidation', 'grrrl', 'shawl', 'arranged', 'ransacked', 'mcmaster', 'machado', 'agog', 'snoring', 'infatuated', 'conductor', 'stallone', 'reliving', 'endured', 'marketer', 'galore', 'tilsen', 'repairing', 'portent', 'scroll', 'communicates', 'cooled', 'hispanics', 'supportive', 'wilds', 'daydreaming', 'blackmail', 'aground', 'rerun', 'sexualities', 'scrolls', 'camila', 'supervolcano', 'wipe', 'intuition', 'hbcus', 'profitability', 'kangaroos', 'conclusions', 'brainwashing', 'sushi', 'impersonator', 'halts', 'albanian', 'winterized', 'touted', 'reprimands', 'waterfall', 'flubs', 'ramarley', 'jolson', 'proven', 'payroll', 'ficus', 'licenses', 'credibly', 'banyan', 'pataky', 'tsarnaevs', 'clotheslines', 'thermometer', 'zombie', 'buttermilk', 'dislikes', 'wringer', 'boulud', 'pounding', 'sabi', 'bicentennial', 'knowles', 'shiites', 'appealing', 'breakdowns', 'holland', 'insecticide', 'jurgen', 'photoshopping', 'harvests', 'numerous', 'whoring', 'dyke', 'bernin', 'inducing', 'constitutions', 'shocks', 'destroyer', 'generator', 'appetizer', 'sylvia', 'misguided', 'mikhail', 'foggy', 'klepper', 'cebu', 'ordering', 'senatorial', 'queercore', 'heists', 'hospitality', 'jeffreyton', 'shannon', 'expends', 'val', 'racehorse', 'fantastically', 'outpaces', 'untelevised', 'carolinas', 'cindy', 'blahs', 'projections', 'juicer', 'krouse', 'knitting', 'monitored', 'roach', 'rezaian', 'strife', 'herointown', 'hotter', 'overthrow', 'policymaking', 'hotcake', 'isla', 'therapies', 'cianci', 'arsenal', 'parton', 'chakras', 'tobago', 'compounds', 'dms', 'journeys', 'verdict', 'balks', 'matte', 'roasts', 'topping', 'blunder', 'wanderlust', 'nerdy', 'mcneil', 'mumford', 'roma', 'archaeologist', 'unsubscribe', 'statuette', 'blazers', 'snarls', 'untold', 'bikram', 'maneuvers', 'scalpels', 'audited', 'intervals', 'ceramic', 'sicily', 'jussie', 'mendes', 'espys', 'offender', 'grimsby', 'reddi', 'pinkerton', 'domenici', 'gilded', 'alda', 'gorillagram', 'ballsy', 'rockatansky', 'memberships', 'barron', 'fencers', 'tangled', 'arc', 'orcs', 'dazed', 'munich', 'superfan', 'trillionaire', 'oldies', 'mariachi', 'architecture', 'mantra', 'deployed', 'stacked', 'fmr', 'manipulating', 'damon', 'defenders', 'feathers', 'sketchbook', 'constituent', 'webcam', 'laramie', 'whiz', 'umlaut', 'beads', 'shakur', 'remembrance', 'backtracks', '71', 'cheeks', 'hoda', 'swimsuits', 'scented', 'unidentifiable', 'boogie', 'bibhu', 'optics', 'recycled', 'morgue', 'honky', 'johns', 'transmutes', 'rockford', 'devolves', 'schneiderman', 'dings', 'prioritizes', 'closeted', 'adoptions', 'mason', 'reeks', 'tuxedo', 'mapping', 'psychologist', 'inverted', 'objected', 'salivates', 'unsolved', 'scoring', 'baruch', 'vawa', 'unveiled', 'gush', 'indulging', 'pencils', 'maimed', 'std', 'zen', 'therapists', 'chechnya', 'gilligan', 'heterosexual', 'associate', 'loading', 'gooey', 'copycats', 'solitaire', 'cliffhanger', 'histories', 'yom', 'apathy', 'transgenderism', 'semester', 'alejandro', 'geckos', 'hanger', 'beatz', 'nouns', 'xiaobo', 'pointers', 'discontinued', 'gianforte', 'princesses', 'aspirations', 'fouls', 'dispatches', 'assignment', 'aikido', 'hinky', 'interfered', 'annotations', 'victories', 'doorstop', 'uaw', 'symbolism', 'gumbel', 'adderall', 'pulsing', 'soundtracks', 'stalled', 'blessing', 'eaves', 'dax', 'notaro', 'retaken', 'intrinsic', 'terrors', 'deductible', 'circuit', 'unsettled', 'pyer', 'motivations', 'soloway', 'partnerships', 'frenchman', 'memoirs', 'statisticians', 'pursuers', 'sterilized', 'enchanting', 'sienna', 'accurately', 'araa', 'equivalence', 'yazigi', 'inactive', '59', 'elaborately', 'skincare', 'flursday', 'hampton', 'mower', 'moira', 'gauguin', 'zod', 'ashton', 'varma', 'refutes', 'durov', 'skullfucking', 'neuroscience', 'adaptations', 'barneys', 'framers', 'groot', 'gratuitous', 'quaalude', 'devry', 'grandfathers', 'commodities', 'singers', 'crowns', 'itt', 'arsenio', 'recovered', 'corgi', 'grains', 'algeria', 'ko', 'erin', 'obelisk', 'ashleigh', 'chamillionaire', 'strategically', 'cocksucker', 'marseille', 'pretends', 'osteoporosis', 'merkley', 'mork', 'milla', 'pacers', 'veggies', 'mohawk', '280', 'shipyard', 'internationalization', 'tenders', 'kissinger', 'neat', 'babysitters', 'playgrounds', 'flume', 'kirby', 'gopers', 'leopard', 'infinity', 'intrauterine', 'dermatologists', 'esa', 'revelation', 'packets', 'onesie', 'dice', 'xenomorphs', 'sarkozy', 'appendix', '2013', 'eli', 'squashes', 'streaking', 'homophobia', 'sorely', 'barangan', 'unrealistic', 'livingston', 'demonic', '137', 'supermarket', 'grinch', 'temper', 'toons', 'graduating', '220', 'abcs', 'catcall', 'capitalist', 'paddleboard', 'schon', 'noted', 'kwon', 'pollen', 'heyer', 'borrowers', 'sicilian', 'floorboards', 'leon', 'mane', 'adriatic', 'detecting', 'blabs', 'animation', 'savanna', 'polyamorous', 'gerbil', 'comforter', 'squirming', 'skimmed', 'wither', 'blunt', 'handbag', 'tove', 'narrowing', 'offenses', 'sepp', 'lowly', 'unbelted', '550', 'laude', 'woodpecker', 'unbefitting', 'trolley', 'mucus', 'mutant', 'padded', 'pythons', 'guanylate', 'reefs', 'froth', 'blagojevich', 'honduras', 'preakness', 'lieberman', 'indicates', 'doubtful', 'atony', 'cb', 'marble', 'sunbathing', 'debunking', 'altogether', 'curtains', 'brendan', 'mvp', 'interviewing', 'antebellum', 'rouseff', 'adoptee', 'vaguely', 'streaked', 'layla', 'anachronism', 'peppered', 'bargain', 'alice', 'observed', 'appointment', 'wabi', 'overpaying', 'stillborn', 'yohanna', 'aca', 'madeleine', 'liturgy', 'priyanka', 'garza', 'biggie', 'interplanetary', 'bombie', 'procreative', 'natalee', 'template', 'nite', 'pickpocket', 'significantly', 'plots', 'eia', 'slum', 'supervillain', 'optimists', 'uday', 'collaborates', 'uncommon', 'antibodies', 'acorns', 'bumble', 'burial', 'cadbury', 'slumped', 'integrating', 'meetup', 'croak', 'weirdly', 'genre', 'worlds', 'reece', 'spangled', 'brevity', 'consoles', 'feline', 'suicides', 'endometrial', 'cardiovascular', 'variants', 'fades', 'electrified', 'ceasefire', 'fluctuating', 'shack', 'tivo', 'jumpshot', 'fingerprints', 'starlet', 'farenthold', 'neolithic', 'unfriendly', 'chalked', 'newspapers', 'hypocrisies', 'ncnoltes', 'swelled', 'revel', 'oberst', 'voyage', 'derelict', 'syed', 'pun', 'edging', 'humanizing', 'boor', 'intake', 'umbilical', 'iver', 'mutation', 'owen', 'nitty', 'tweed', 'museveni', 'toolbar', 'stargate', 'pta', 'roseburg', 'reciprocated', 'categorize', 'oitnb', 'oysters', 'utility', 'wnba', 'helmets', 'nobannowall', 'armchair', 'bethenny', 'libations', 'fletch', 'phyllis', 'impeccable', 'mister', 'romero', 'marsa', 'panels', 'processor', 'levinsohn', 'tami', 'deflategate', 'bankrupted', 'bogotá', 'commemorates', 'dripped', 'gadfly', 'anglican', 'shelters', 'lattes', 'convent', 'ladenschlussgesetz', 'dese', 'jana', 'assumes', 'salaries', 'broadcasting', 'confront', 'capsule', 'leaps', '200k', 'flocking', 'caterer', 'eraserhead', 'shuttlecock', 'alerts', 'sinai', 'mindset', 'magnate', 'maureen', 'skinned', 'giver', 'casualties', 'anheuser', 'alyson', 'abuser', 'loeffelmacher', '264', 'downhill', 'coupling', 'incompatible', 'insecurities', 'rope', 'dominoes', 'ceremonially', 'virée', 'splash', 'interpretation', 'buster', 'tutor', 'evolved', 'glade', 'discrediting', 'scallops', 'goon', 'hollister', 'adeyemi', 'frapp', 'seasonally', 'wagons', 'semite', 'consumes', 'triad', 'mollie', 'jncos', 'dough', 'samaritan', 'breadwinner', 'flails', 'bloodlust', 'creepily', 'grieve', 'horatio', 'modeling', 'choke', 'entered', 'adequate', 'pansexual', 'functionless', 'divorces', 'trousers', 'allstate', 'skimming', 'genomic', 'brunches', 'airspace', 'pickle', 'moleskine', 'vanishing', 'nonbinding', 'apocalyptic', 'enchants', 'grandmaster', 'sorted', 'dont', 'gaffer', 'gowns', 'reposted', 'bleak', 'russiagate', 'imprisoning', 'diplomacy', 'kirkman', 'scampers', 'liqui', 'ringer', 'handwritten', 'decompression', 'mcommerce', 'novels', 'pizzas', 'endangerment', 'winfrey', 'shittier', 'goldie', 'horseface', '92nd', 'oligarch', 'greenland', 'vine', 'physician', 'bets', 'breakdancing', 'dominating', 'injecting', 'dee', 'boast', 'steves', 'megantic', 'dissenting', 'moose', 'wedged', 'kayboard', 'prospective', 'ubs', 'embodies', 'untrustworthy', 'vaults', 'tango', 'headfirst', 'possessed', 'boosters', 'stimulation', 'convict', 'verbal', 'truffles', 'interpreter', 'alternatives', 'bazooka', 'cozy', 'frolics', 'oaf', 'griffith', 'wittels', 'vegetation', 'werner', 'docents', 'earmarks', 'fart', 'geffen', 'charismatic', 'viewpoint', 'mitty', 'uss', 'jovovich', 'cherished', 'jumpers', 'crook', 'gehry', 'basset', 'barnacle', 'harshest', 'implicit', 'emeritus', 'mutilating', 'consume', 'opec', 'talents', 'cinemark', 'tbilisi', 'leprosy', 'cupped', 'scrawled', 'ap', 'm4m', 'goop', 'expertly', 'hardball', 'jihadist', 'constituency', 'jarringly', 'stamina', 'manages', 'surged', 'threads', 'forests', 'okinawa', 'bunker', 'townshend', 'fever', 'cellphones', 'charisma', 'sir', 'multinational', '224', 'scaled', 'cobain', 'flinched', 'whims', 'postmistress', 'greedy', 'tumble', 'uglification', 'offloaded', 'alignment', 'dissolve', '893', 'bystanders', 'triggering', 'migraines', 'dissent', '1990', 'exasperated', 'norms', 'mccrazy', 'patagonia', 'misogyny', 'strengthened', 'mauls', 'decaf', 'penises', 'wizards', 'servicewomen', 'snapcash', 'snitching', 'arcade', 'umass', 'sparkling', 'joystick', 'transjourney', 'trusts', '61', 'earther', 'triangle', 'computers', 'joel', 'basks', 'pujols', 'klugman', 'curdled', 'reo', 'imposing', 'broadband', 'mellencamp', 'alum', 'ouster', 'shellie', 'okcupid', 'cursed', 'fleischer', 'insanity', 'prog', 'preorders', 'cialis', 'perusing', 'scalped', 'deploy', 'recommits', 'kokopellied', 'memorializes', 'socioeconomic', 'subtle', 'vj', 'tae', 'ayahuasca', 'submissions', '23andme', 'conjoined', 'zales', 'wayman', 'ace', 'handsomely', 'dominion', 'abbey', 'tossing', 'innate', 'ugandan', 'cupid', 'backward', 'specifics', 'flatten', 'sociable', 'resting', 'chihuahua', 'spores', 'crouched', 'lows', 'extroverts', 'imploded', 'etch', 'schock', 'staywokeandvote', 'barker', 'vicinity', 'weakest', 'conspire', 'slop', 'hotcakes', 'footlong', 'inedibles', 'committees', 'lourd', 'everyman', 'buchanan', 'autonomous', 'lsu', 'curfews', 'lyudska', 'carrington', 'communists', 'negativity', 'poncho', 'kashkari', 'unwanted', 'aslan', 'mechanic', 'warby', 'chevron', 'agony', 'preston', 'kusama', 'continuous', 'surrounding', 'inclusive', 'blessings', 'ian', 'dunked', 'glasgow', 'victorian', 'thoroughly', 'tingle', 'tryst', 'outdo', 'chugs', 'pushups', 'entity', 'alia', 'furries', 'leaflet', 'sg', 'geopolitical', 'angrily', 'splurged', 'megaphone', 'airlift', 'heimlich', 'demons', 'competence', 'diaries', 'frpx', 'shedd', 'errands', 'positioned', 'jacobs', 'polka', 'stoplight', 'excercise', 'boatless', 'sane', 'patronized', 'rita', 'retry', 'pieced', '1982', 'knives', 'epitome', 'billowing', 'silvers', '73', 'nuance', 'courting', 'twitterverse', 'felon', 'mandy', 'relegated', 'preoccupation', 'droves', 'rhimes', 'minors', 'reverend', 'randos', 'rumor', 'psychics', 'hasan', '1956', 'elks', 'patrols', 'kudrow', 'bookshelf', 'delaware', 'dench', 'thus', 'tiara', 'amsalem', 'postpartum', 'inadequately', 'larsen', 'begotten', 'rehabilitated', 'dummies', 'pvc', 'accountability', 'export', 'topless', 'jitterbug', 'caine', 'germans', 'danced', 'floodgates', 'heightens', 'detection', 'dots', 'bffs', 'muscular', 'recommit', 'flies', 'unavoidable', 'dried', 'headlock', 'kelsea', 'rocked', 'shoveling', 'bankers', 'lightsabers', 'retracts', 'cuddle', '134', 'slovenia', 'safran', 'erased', 'exaggerate', 'lighten', 'oncologist', 'kinki', 'scratching', 'reams', 'droplet', 'unbearable', 'benched', 'reconsiders', 'darkened', 'streamed', 'ledger', 'scoot', '1927', 'herndon', 'nortons', 'risen', 'rages', 'rulings', 'solvents', '141', 'flickering', 'stumbling', 'knowledgeable', 'machinery', 'ribeiro', 'oahu', 'dobrev', 'secretarian', 'thalia', 'occidental', 'ink', 'alexandra', 'larios', 'flynt', 'peacekeepers', '100th', 'mugshot', 'sincerely', 'freezers', 'stocked', 'hirsch', 'eel', 'numbness', 'claes', 'honeys', 'ruehl', 'technicians', 'mourdock', 'scholarships', 'mailman', 'frumpy', 'catatonic', 'diversify', 'resettle', 'animosity', 'incessant', 'zalman', 'narcissist', 'gigantic', 'hippocratic', 'bates', 'storming', 'canoes', 'flirty', 'jubilee', 'yodel', 'medics', 'goldstein', 'backdrop', 'timbaland', 'yates', 'radials', 'unexplained', 'minutiae', 'impart', 'archdiocese', 'meeker', 'bloods', 'pressuring', 'decimate', 'oxycontin', 'robinson', 'enbridge', 'trolled', 'penalize', 'saffron', 'rebounds', 'disqualify', 'enclosures', 'forearm', 'textile', 'vitale', 'macbook', 'xxxxii', 'exhilarated', 'applause', 'brags', 'pristine', 'thrust', 'modernization', 'cowell', 'haunts', 'tempest', 'domino', 'annis', 'pita', 'upbeat', 'deceptively', 'sizemore', 'incitement', 'murillo', 'tenuous', '2005', '750', '2150', 'demolishes', 'hatches', 'empathize', 'cadillac', 'despair', 'volunteering', 'funnels', 'mags', 'customizes', 'wakanda', 'swayed', 'achieving', 'gassy', 'newshour', 'specter', 'chapman', 'glamour', 'gsv', 'realest', 'chests', 'jcpenney', 'imbalance', 'backlog', 'drills', 'bowlmate', 'rebuttal', 'extent', 'intensifies', 'negatives', 'norte', 'deadlines', 'analyze', 'nonstarter', 'tributes', 'nelly', 'trains', 'dances', 'adjudicatory', 'cottage', 'recusal', 'spumanti', 'lucasfilm', 'blinded', 'alleviate', 'dispelling', 'vigils', 'famer', 'coaxed', '270', 'sext', 'portable', 'rs', 'biodiversity', 'digested', 'judaism', 'ix', 'renewal', 'lemonade', 'savored', 'unhyphenated', 'knievel', 'voiced', 'cheech', 'pry', 'dnainfo', 'terrorizing', 'jumpin', 'xxs', 'darla', 'zell', 'dagestan', 'benadryl', 'chandelier', 'leaking', 'rica', 'supermoon', '82', 'charms', 'captioned', 'wan', 'fanatics', 'bridges', 'tampax', 'reminding', 'tomm', 'pawprint', 'arista', 'trashed', 'penguin', '1743', 'musings', 'evade', 'frames', 'sanatoriums', 'propublica', 'stringing', 'glee', 'marched', 'pga', 'deserters', 'laboriously', 'lodging', 'realists', 'revolutionize', 'stationary', 'aborted', 'depleted', 'meatloaf', 'wick', 'ios', 'urinary', 'capturing', 'torrent', 'ramen', 'ageist', 'powdered', 'tasks', 'dramas', 'frankfest', 'uninhibited', 'pained', 'bury', 'atom', 'churchgoing', 'beards', 'slickest', 'malnutrition', 'myspace', 'distributing', 'caustic', 'stereo', 'washer', 'ipads', 'decriminalizing', 'infuriate', 'herd', 'kup', 'palate', 'hoosier', 'foreheads', 'dustpan', 'frightening', 'deniability', 'dubose', 'sauron', 'whacker', 'audrey', 'jinping', 'kisses', 'refunds', 'smokes', 'seeming', 'mcnish', 'sleekest', 'granddaughter', 'bridesmaid', 'carpeting', 'homeopathic', 'eyelash', 'philharmonic', 'ginuwine', 'titles', 'interact', 'selfhood', 'slugger', 'raider', 'oilman', 'arsenic', 'skimp', 'cheyenne', 'dieting', 'dragons', 'territories', 'quarantined', 'orkin', 'slender', 'yields', 'rodham', 'souvenir', 'briskly', 'emasculated', 'overheating', 'hospitalized', 'swizz', 'blossom', 'poehler', 'footnotes', 'cons', 'chats', 'stormed', 'urinals', 'marriott', 'polanco', 'gals', 'forwarding', 'nonstick', 'pubic', 'lovin', 'sip', 'aftershocks', 'monroee', 'commissions', 'brokeback', 'totter', 'nobodies', 'detected', 'enchiladas', 'somethings', 'trapeze', 'earbud', 'grape', 'reinforcing', 'chateau', 'economically', 'fussy', 'hiddleston', '118', 'gloomy', 'gerrymandering', 'selected', 'bottles', 'boz', 'godmother', 'malkovich', 'reshape', 'ails', 'announcing', 'horseconnect', 'fogle', 'grandchild', 'jumbo', 'dislocates', 'haphazardly', 'floral', 'seatbacks', 'demonize', 'midsize', 'disparities', 'pretentious', 'teas', 'bulletin', 'hydroponics', 'bandit', 'fleetingly', 'palmolive', 'freeheld', 'soapy', 'bragging', 'annoyances', 'boon', '2030', 'winn', 'decimal', 'subpoenas', 'deadlier', 'repressed', 'intimidated', 'kuwtk', 'nirvana', 'avalanche', 'limo', 'd23', 'rooftop', 'inclusions', 'deploying', 'locket', 'atwood', 'sabotaging', 'immunity', 'cartwheel', 'venmo', 'rearranging', 'pornographic', 'dolled', 'corker', 'liberated', 'camaros', 'archivists', 'paparazzi', 'breeding', 'vedder', 'handjob', 'busing', 'spokesmodels', 'commenter', 'feeble', 'milanos', '1919', 'exclamation', 'llorona', 'nutsack', 'conundrum', 'ritz', 'colton', 'contribute', 'hyperrealistic', 'outnumbered', 'nipple', 'legionnaires', 'majors', 'indecent', 'papal', 'hye', 'weep', 'yazidis', 'tore', 'citizenry', 'yearly', 'teeter', 'kappa', 'winslet', 'airfare', 'tussle', 'loot', 'adulthood', 'torrenting', 'corbusier', 'nominates', 'aman', 'untitled', 'chatroom', 'globetrotters', 'grapevine', 'cache', 'counterintuitive', 'unwieldy', 'riddle', 'reconstruct', 'forceful', 'leggings', 'borrow', 'gissendaner', 'mosel', 'viola', 'chakra', 'containing', 'palestine', 'harpooning', 'stalls', 'semen', 'communion', 'wannabe', 'shrugging', 'twink', 'rational', 'overreaction', 'braid', 'habitats', 'overflowing', 'insatiable', 'tackled', 'starship', 'smut', 'lashing', 'squi', 'governance', 'vaccination', 'usual', 'neoliberalism', 'upends', 'clarify', 'ultrachurch', 'indictments', 'violet', 'richly', 'hardier', 'providers', 'frontal', 'seaweed', 'diphtheria', 'directing', 'orgy', 'seas', 'eldest', 'tented', 'sectarian', 'moines', 'existed', 'flicker', 'exertion', 'surrender', 'vetting', 'napoleon', 'brangelina', 'obscured', 'prosecutorial', 'ire', 'offspring', 'phoenician', 'vacuumed', 'reno', 'clings', 'dual', 'partum', 'undernutrition', 'evaluation', 'infamy', 'astronauts', 'ferrante', 'niall', 'sidelined', 'brushed', 'matchmaker', 'levi', 'poaching', 'wafer', 'glassdoor', 'assembles', 'haitian', 'technonlogy', 'roster', 'paychecks', 'labored', 'lotions', 'harassers', 'singh', 'ceremonies', 'mayweather', 'footsteps', 'clogs', 'weeklong', 'patted', 'disquieting', 'avocado', 'herbie', 'lipitor', 'counteract', 'reversal', 'outlive', 'figurines', '828', 'lakers', 'spoiled', 'onlookers', 'experienced', 'sully', 'vaquita', 'pederast', 'paleontologists', 'congregations', 'brotherhood', 'playground', 'cinched', 'elias', 'knowshon', 'splashes', 'cancun', 'cheesesteak', 'carolyn', 'furloughs', 'hyperactive', 'lapses', 'inconvenience', 'miter', 'kidding', 'daryl', 'painters', 'artistic', 'protestors', 'fishes', 'treaters', 'neurosurgeon', 'reshaping', 'graciously', 'pelléas', 'rallying', 'signify', 'streamer', 'worsens', 'navigated', 'universally', 'unfettered', 'habsburg', 'laminated', 'disorderly', 'anchorage', 'forefront', 'rollback', 'animatronic', 'hustled', 'snarky', 'routines', 'jargon', 'charting', 'psychiatrists', 'veronaon', 'emile', 'portugal', 'cutoff', 'hellscape', 'prepper', 'header', 'fads', 'ridiculed', 'depicted', 'rollins', 'oft', 'mileage', 'botany', 'carves', 'morass', 'restraining', 'excitedly', 'stout', 'verb', 'breathes', 'enrique', 'mold', 'deity', 'poached', 'kashmir', 'oops', 'kassig', 'ugliness', 'sofia', 'foreplay', 'forgoing', 'presented', 'wrinkles', 'blazing', 'soviet', 'macrowave', 'indigo', 'misbuttoned', 'perkins', 'outlines', 'jakob', 'homework', 'hezbollah', 'trove', 'menaced', 'disgustipating', 'ibrahim', 'declines', 'bloated', 'avenue', 'stretches', 'delegitimize', 'meadows', 'litterer', 'mcgovern', 'bouillerie', 'circumstances', 'aquatic', 'partygoers', 'plutocratic', 'shopoholism', 'pump', 'superiority', 'joyful', 'colossal', 'overreach', 'starves', 'extremist', 'libraries', 'panelists', 'inheritance', 'keqiang', 'heartstrings', 'helmut', 'peeno', 'task', 'chagas', 'hostings', 'villains', 'institutions', 'motorcyclist', 'ophelia', 'lenders', 'sidetracked', 'clippings', 'berating', 'devastates', 'meds', 'drafts', 'resuming', 'factoids', 'predators', 'groundskeeper', 'interviewers', 'blindly', 'auger', 'mystique', 'steele', 'quintillion', 'coked', 'bertha', 'outburst', 'materialistic', 'spoils', 'soiled', 'troposphere', 'thorogood', 'retweet', 'uswnt', 'gamers', 'tasting', 'holiest', 'contender', 'gummi', 'outbursts', 'heckled', 'whitefish', 'cakeshop', 'demonically', 'credibility', 'rendering', 'aka', 'authentic', 'eucharist', 'thwarted', 'kippur', 'repairmen', 'reinhart', 'glued', 'checkpoints', 'swipe', 'obs', 'cannonball', 'cakewalk', 'ramping', 'resorting', 'knobby', 'bashful', 'coyote', 'leotards', 'soothed', 'desperation', 'quieter', 'morty', 'fur', 'lac', 'famine', 'lampoon', 'pasties', 'fielder', 'doofus', 'doubletree', 'valls', 'influencers', 'demeaning', 'spokesbeast', 'apologized', 'kneel', 'sabathia', 'invention', 'oust', 'painkiller', 'fours', 'brownies', 'authentically', 'liberia', 'obscurity', 'mommies', 'jumper', 'cram', 'dokken', 'compton', 'sect', 'unpledged', 'awhile', 'org', 'limerick', 'asthmatics', 'turners', 'welder', 'noises', 'zoologists', 'lifeblood', 'dannon', 'snoopy', 'luggage', 'rosario', 'soybean', 'prosperous', 'kings', 'imf', 'syrups', 'positivity', 'rapists', 'trekkie', 'wheats', 'thug', 'excessive', 'disrepair', 'trey', 'birtherism', 'nov', 'prayforpaulgeorge', 'chapecoense', 'preserved', 'bedford', 'plunging', 'batshitzania', 'moneypenny', 'decreasing', 'deletion', 'trinidad', 'shareholder', 'pringles', 'egidio', 'evolves', 'philanthropy', 'gulls', 'shybot', 'mumolo', 'loserman', 'parasite', 'overturns', 'andie', 'gunned', '193', 'bicycle', 'trainspotting', 'beckford', 'plywood', 'protagonists', 'gmo', 'mirren', 'aweism', 'ming', 'securing', 'karma', 'secluded', 'overwhelm', 'intoxicated', 'droops', 'jk', 'entente', 'whimpering', 'tomb', 'complained', 'goodnight', 'lang', 'childfree', 'flute', 'masse', 'tons', 'recuses', 'disillusionment', 'monáe', 'duetting', 'function', 'mizzou', 'golin', 'reaper', 'paw', 'sensitivity', 'individualized', 'enrages', 'ordained', 'chunked', 'lo', 'clenched', 'expedited', 'fountains', 'groove', 'tbfoodsllc', 'dolores', 'enoch', 'ravens', 'cte', 'cavs', 'kangaroo', 'twelfth', 'stingy', 'maersk', 'hogsmeade', 'flamethrower', 'resourceful', 'trampoline', 'rinpoche', 'shrieks', 'surfaced', '77th', 'lubricant', 'carefree', 'sridevi', 'tricked', 'timelapses', 'hilaria', 'centennial', 'worshipping', 'dawson', 'azealia', 'mulan', 'ejected', 'canteen', 'dreyfus', 'restorative', 'brûlée', 'jackhammer', 'minding', 'horan', 'ensnared', 'khloé', 'earmark', 'embalmings', 'hsn', 'belize', 'masterwork', 'underrated', 'uproariously', 'brokered', 'greased', 'usps', 'carts', 'orbit', 'ozzfest', '1993', 'racetrack', 'bhangra', 'committers', 'secular', 'suburbs', 'emotion', 'stimulating', 'overshoots', 'bald', 'discontinue', 'knudsen', 'monoxide', 'ulcers', 'jost', 'fanny', 'mooc', 'payoff', 'scorching', 'humankind', 'harness', 'payer', 'hatchet', 'sleepers', 'uzbekistan', 'scalding', 'bff', 'badmouths', 'mdma', 'undocu', 'ferries', 'ushered', 'crossed', 'deter', 'laureate', 'newswoman', 'posthumously', 'unspeakable', 'grizzlies', 'agendas', 'twinkles', 'admires', 'asimo', 'eqypt', 'awestruck', 'kickstarter', 'everlast', 'fiercest', 'gabby', 'dug', 'relatively', 'macho', 'parasitic', 'tenured', 'seoul', 'libs', 'ctrl', 'marcellus', 'drowning', 'cabello', 'rim', 'canadians', 'wallis', 'slightest', 'transplanting', 'atop', 'benefactor', 'vertical', 'kacy', 'connecting', 'concierge', 'receding', 'gogh', 'pranked', 'scales', 'shitshow', 'prepositional', 'vogt', 'superior', 'regrettable', '258', 'tacos', 'abstention', 'costello', 'relied', 'als', 'obscenity', 'dapl', 'reassured', 'canvas', 'salvation', 'longs', 'guggenheim', 'dictatorship', 'unheeded', 'lebaron', 'starry', 'misappropriated', 'corny', 'conners', 'statewide', 'christcon', 'unhappier', 'detainee', 'congressperson', 'participated', 'confiscated', 'typecast', '70th', 'giuliana', 'presumptuous', 'bs', 'habitable', 'laughing', 'untangling', 'forbidding', 'bikers', 'quiche', 'philistines', 'genocidal', 'infallible', 'choreographer', 'childless', 'mandolins', 'birdseed', 'gerrymandered', 'touchdown', 'charla', 'schoolgirls', 'disinterest', 'caliphate', 'whisk', 'rancher', 'uproar', 'spite', 'skyeditor', 'lava', 'confusion', 'obsolete', 'punxsutawney', 'davanzo', 'branches', 'pokes', 'isolation', 'jian', 'ramos', 'innocents', 'feral', 'mein', 'eavesdropped', 'dedicated', 'rescinding', 'fisting', 'hopelessly', 'dot', 'ripa', 'chihuly', 'arthritis', 'populations', 'entomologists', '1996', 'mindhunter', 'blogging', 'anybody', 'inbreeding', 'leverages', 'pawing', 'numb', 'sneakers', 'greeks', 'spines', '6x60', 'mulling', 'rifle', 'touches', 'pittsburgh', 'packaged', 'effectiveness', 'stabbings', 'udc', 'spikes', 'modernity', 'limitless', 'gigabyte', 'sews', 'millenial', 'monkeys', 'wilmore', 'burglary', 'ports', 'morphed', 'hungrily', 'hagel', 'reclines', 'retrial', 'maga', 'moderators', 'dirtier', 'upfront', 'sarandon', 'bitches', 'vicariously', 'billiards', 'sensible', 'terminate', 'democalypse', 'ricci', 'possessions', 'consolidate', 'juul', 'ged', 'ceremoniously', 'neutrogena', 'shortfall', 'embarrass', 'dinnertime', 'farting', 'roses', 'nighy', 'cheered', 'embed', 'garners', '3822', 'guru', 'catapulting', 'affirming', 'puppets', 'brackets', 'traction', 'nambla', 'ja', 'unshaven', '64', 'actresses', 'dodged', 'islamophobe', 'shitting', 'blades', 'enduring', 'thinner', 'hyland', 'transfers', 'ritalin', 'extrovert', 'cassette', 'americana', 'bakers', 'gere', 'funkier', 'restarts', 'adversity', 'boosting', 'voila', 'eden', 'javelin', 'hamster', 'gefloigel', 'overemphasize', 'inks', 'pumped', 'gobbler', 'welding', 'soar', 'ungodly', 'abstract', 'getaways', 'nerf', 'appeaser', 'quadruples', 'airlifted', 'slaw', 'eh', 'surfaces', 'africans', 'cripple', 'sealed', 'scant', 'byrne', 'pasty', 'tibet', 'roudup', 'ernest', 'corrosion', 'toss', 'sethi', 'tyrese', 'feek', 'middlebury', 'emp', 'impala', 'tuxedoed', 'ergonomic', 'plead', 'overeating', 'reserving', 'terabytes', 'erect', 'smooch', 'hid', 'landrieu', 'detain', 'sag', 'nesting', 'collects', '945', 'glorifying', 'pintauro', 'madcap', 'texts', 'canvassing', 'bombarded', 'becker', 'dousing', 'albinism', 'approaches', 'zest', 'rickles', '1986', 'grind', 'belongings', 'inappropriate', 'beater', 'villeneuve', 'stretched', 'yippee', 'reconsider', 'comfy', 'bahrain', 'milan', 'tantalizingly', 'sanderson', 'awoken', '2049', 'pekingese', 'gnarled', 'enormous', 'upped', 'pregnancies', 'chronicles', 'sullen', 'caption', 'championship', 'ultimatum', 'bromide', 'scanned', 'conditioners', 'leary', 'officemax', 'nothingness', 'sigma', 'environmentalists', 'busybody', 'quinones', 'mineral', 'monae', 'yayoi', 'transcendence', 'hansom', 'farms', 'unplanned', 'relaxed', 'gorge', 'seduction', 'hoodie', 'tides', 'encoded', 'eulogizes', 'retrieved', 'brookings', 'forecloses', 'recommending', 'radicalism', '290', 'duet', 'moreno', 'surfbort', 'galápagos', 'corea', 'wasters', 'conferences', 'strangulation', 'overalls', 'jurisprudence', 'naloxone', 'menace', 'mentoring', 'unheard', 'depletes', 'dazzle', 'shrugged', 'curried', '76er', 'scoops', 'solicitor', 'antifa', 'knowingly', 'microchips', 'pharmacist', 'techno', 'recanvass', 'menus', 'cart', 'followed', 'colt', 'aveage', 'rattlesnakes', 'combs', 'kaytlin', 'venison', 'torturing', 'marshmallows', 'superstore', 'homemaker', 'capitalizing', 'reneged', 'buyers', 'deriving', '613th', 'unseen', 'downgrade', 'creepiest', 'homos', 'szep', 'parley', 'immodest', 'uterus', 'chops', 'generosity', 'enactors', 'buffs', 'beek', 'dearly', 'reassure', 'politico', 'developer', 'unsightly', 'roald', 'skanks', 'amendments', 'stardew', 'funky', 'squealing', 'tedx', 'stalked', 'bathtub', 'truthful', 'stripping', 'humbled', 'encounters', 'kotb', 'cto', 'faucets', 'cryptographers', 'coptic', 'hootie', 'twelve', 'convert', 'citrix', 'neuroses', 'falafel', 'barkley', 'dollhouse', 'archery', 'chadwick', 'purged', 'odorite', 'cements', 'thorny', 'boudoir', 'skulking', 'accidents', 'bigotry', 'scaramucci', 'censor', 'trickled', 'prohibit', 'clif', 'digitally', 'dispenses', 'draftkings', 'gosselaar', 'ventura', 'toback', 'gummis', 'homepod', 'comedies', 'thematically', 'collapsing', 'reauthorizes', 'heartburn', '1972', 'conga', 'ivf', 'suicidegirls', 'tiananmen', 'darwin', 'dayton', 'mtm', 'savor', 'jarrel', 'myers', 'twos', 'boycotted', 'demolish', 'dryer', 'mbta', 'muhammed', 'ewww', 'guarantee', 'seacrest', 'louise', 'spookiest', 'unwatched', 'advancement', 'commits', 'alludes', 'linebacker', 'glazer', 'remoteness', 'redefines', 'strawberry', 'sundance', 'yearlong', 'dealing', 'basket', 'bangerz', 'kielbasa', 'translated', 'wretchedness', 'overrides', 'ballgown', 'romanticized', 'kwatinetz', 'detox', 'compliance', 'playboys', 'looseyia', 'wrought', 'organizations', 'weave', 'jj', 'patriarch', 'bowery', 'yam', 'hunched', 'indonesian', 'overthrown', 'mudbound', 'abducted', 'reasoned', 'strategist', 'arlen', 'intelligently', 'splinter', 'swordfish', 'weisser', 'vaulter', 'caesar', 'dreamed', 'campfire', 'outer', 'valyrian', 'codes', 'saldiva', 'coe', 'balm', 'netherlands', 'derivatives', 'alternativefacts', 'equestrian', 'constructive', 'gunk', 'hollande', 'pauline', 'misogynoir', 'unguarded', 'pimped', 'ppm', 'hijabs', 'duvernay', 'defies', 'grooms', 'dasani', 'epipen', 'basel', 'naawp', 'probation', 'bombs', 'brits', 'brees', 'baggies', 'initial', 'penetration', 'cosplay', 'behaivor', 'grimes', 'pursued', 'locally', 'bruguera', 'wiser', 'calculate', 'gi', 'glamorous', 'dinners', 'tearless', 'porno', 'webs', 'grit', 'allegation', 'vernon', 'paraphernalia', 'workweek', 'plummers', 'tulsa', 'deepest', 'burgess', 'alyssa', 'dory', 'hubris', 'vance', 'unpredictable', 'pineapple', 'monogrammed', 'kristin', 'videotaping', 'grizzled', 'dmv', 'previewing', 'hysterectomy', 'keanu', 'chmerkovskiy', 'helm', 'showerhead', 'huang', 'tarana', 'mobiles', 'wgn', 'atrocity', 'travolta', 'revulsion', 'boeing', 'gutierrez', 'preschoolers', 'gynecologists', 'vocation', 'drafted', 'reductions', 'viable', 'pronounces', 'phan', 'shiny', 'skateboarder', 'munch', 'tca', 'elvis', 'reconsidered', 'dated', 'electricity', 'harried', 'argentinian', 'gendiy', 'jorge', 'logical', 'peeves', 'gta', 'eiffel', 'hotbed', 'retribution', '2036', 'registering', 'aztec', 'wheaton', 'chinaware', 'mallets', 'zeke', 'sufficiently', 'preacher', 'sail', 'exceptions', 'dolezal', 'tombstone', 'melty', 'vi', 'skirts', 'discredited', 'meningitis', 'malone', 'dips', 'harboring', 'declassify', 'pokey', 'unlikable', 'untested', 'zucker', 'landers', 'powerfully', 'horizon', 'panty', 'europeans', 'upstanding', 'surmise', 'recommendations', 'deposits', 'usb', 'krishnas', 'expiration', 'madaya', 'injustices', 'pragmatist', 'tweetless', 'tarp', 'stored', 'profiling', 'statham', 'linehan', 'megadeth', 'exemptions', 'chita', 'linkedin', 'paws', 'renee', 'kramer', 'reinforces', 'arteries', 'mailroom', 'marte', '1983', 'mientus', 'krippendorf', 'ineffectually', 'rwanda', 'olin', 'verbatim', 'vineyard', 'unearned', 'zaire', 'baiting', 'derives', 'delisting', 'childrens', 'wookiees', 'deemphasize', 'conrad', 'decoding', 'benito', 'retaliates', 'oswald', 'debating', 'twain', 'miracles', 'headstone', 'crust', 'hamm', 'hernan', 'macaulay', 'blitz', 'illiterate', 'cocooned', 'candidly', 'cared', 'weightlifter', 'cellulite', 'collaborate', 'secondhand', 'reliable', 'rewriting', 'gallstone', 'ample', 'seeker', 'sabotaged', 'ranted', 'bothered', 'divol', 'debacle', 'diaz', 'amonderez', 'receptionist', 'uae', 'equation', 'nu', 'fabre', 'seething', 'teuwen', 'amputees', '43rd', 'gondola', 'multipacks', 'goofs', 'squalor', 'renovate', 'array', 'favorably', 'lew', 'handmaid', 'operations', 'slanty', 'pup', 'polanski', 'bueller', 'guerilla', 'shroud', 'cirque', 'organizer', 'jumble', 'brutalized', 'pinning', 'hunting', 'curiously', 'g7', 'stripe', 'inebriated', 'cutback', 'bucked', 'sympathizer', 'desastre', 'ignite', 'surinamese', 'professionalism', 'drescher', 'collude', 'entries', 'lapel', 'mummified', 'zendaya', 'toastables', 'ridicules', 'aviv', 'handmade', 'pirates', 'tariff', 'actualized', 'waking', 'shoplifters', 'pavlovian', 'spotlighting', 'papua', 'dixieland', 'brewers', 'bacchanalia', 'counterproductive', 'profitable', 'jetblue', 'pledged', 'charmin', 'neal', 'inventors', 'msf', 'smartphones', 'imperioli', 'toyotathon', 'prose', 'mcdermott', 'transplant', 'pao', 'finishing', 'classy', 'exonerated', 'owed', 'frankly', 'incidents', 'feasibility', 'nightgown', 'escaping', 'dogging', 'sec', 'electrician', 'pneumonia', 'darrell', 'trumpet', 'broward', 'arya', 'komen', 'ironically', 'resembles', 'quaid', 'jacketed', 'bumgarner', 'lads', 'topped', 'yanni', 'fern', 'cringing', 'fratricide', 'goof', 'entrees', 'kowalski', 'horizons', 'talkative', 'spartans', 'dumpling', 'fanpage', 'boris', 'adapt', 'sheikh', 'criteo', 'abayas', 'disconcerted', 'fraudsters', 'pwnage', 'covert', 'flavored', 'asthma', 'joey', 'medicating', 'ssy', 'cautiously', 'cain', 'heels', 'pavel', 'showrunner', 'southwestern', 'vilsack', 'godparent', 'roams', 'leash', 'freestyle', 'outlawing', 'shallow', 'sonar', 'farina', 'apparel', 'spa', 'intellectuals', 'obstructionist', 'homoji', 'presumed', 'corrupting', 'peeing', 'maness', 'crawford', 'arrows', 'suburb', 'jihadists', 'catamaran', 'guernica', 'multicultural', 'dwindling', 'physicians', 'youthful', 'socialite', 'auditions', 'easygoing', 'honorary', 'lomb', 'bending', 'ucsf', 'perate', 'continually', 'cummings', 'googles', 'olinsky', 'rossi', 'scone', 'abe', 'yellowing', 'creatures', 'unintentionally', 'chunking', 'blurs', 'kristina', 'unfiltered', 'bipartisanship', 'immortality', 'fumbles', 'valencia', 'scribbles', 'timeline', 'downton', 'regressive', 'franks', 'tendon', 'maneuver', 'humbling', 'piggies', '81', 'ethan', 'thorpe', 'overcrowded', 'lists', 'subdivisions', 'normality', 'zion', 'shitload', 'fd', 'nicky', 'slices', 'jingle', 'unblinking', 'puig', 'deletes', 'toke', 'marni', 'choreographing', 'misappropriate', 'spruce', 'appetite', 'uncaged', 'machete', 'rationality', 'brochure', 'billie', 'anchorwoman', 'dwell', 'chum', 'jaime', 'awash', 'mathematics', 'bodymate', 'ozzie', 'yatseniuk', 'dossier', 'firefly', 'subcommittee', 'saghian', 'foreigners', 'alina', 'stupidity', 'replay', 'sobriety', 'lollapalooza', 'skewers', 'orzabal', 'kremlin', 'hockey', 'writhing', 'legitimately', 'instinct', 'sincerity', 'cbo', 'adnan', 'nhs', 'po', 'orcas', 'masturbates', 'liking', 'downed', 'chaka', 'downplay', 'jil', 'pugs', 'lovebird', 'suitable', 'menopause', 'progressed', 'rhapsody', 'smuggler', 'riverboat', 'deport', 'picker', 'dubs', 'unborn', 'complicates', 'projection', 'magdalene', 'biracial', 'anguished', 'drains', 'gump', 'platforms', 'woke', 'fomo', 'adopt', 'axl', 'coyne', 'fondation', '650', 'bodysuit', 'cutscenes', 'jot', 'ecstasy', 'bonuses', 'rumours', 'sensory', 'superbugs', 'shoposauruses', 'caretakers', 'kahneman', 'degrading', 'salvage', 'fleetwood', 'advocating', 'postcard', 'foxx', 'vegans', 'handily', 'munchies', 'buttoned', 'techie', 'reaganism', 'pern', 'bowe', 'slicker', 'sluggish', 'sedative', 'reintegration', 'daredevil', 'kraft', 'shards', 'seniority', 'strang', 'hay', 'harrington', 'byron', 'aerocar', 'revamps', 'annoyingly', 'smelt', 'forecaster', 'obedient', 'executes', 'mismatched', 'procter', 'avoided', 'univision', 'voicemails', 'coy', 'jalapeño', 'dig', 'pedal', 'gohil', 'panama', 'savion', 'landon', 'scorpion', 'districts', 'unwilling', 'frills', 'faqs', 'delligatti', 'menstruation', 'mathematical', 'interpreted', 'gresham', 'deceitful', 'hunks', 'gornick', 'hapless', 'wives', 'assemble', 'spies', 'kosher', 'ufos', 'banfield', 'whitening', 'halcyon', 'debtor', 'dopec', 'aroldis', 'trayvon', 'munchstrosity', 'eyelashes', 'rancic', 'pistachio', 'sails', 'obsessively', 'rca', 'brent', 'unwinnable', 'mohandas', 'purely', 'calorie', 'solomon', 'pamplona', 'commands', 'détente', 'headdress', 'anspach', 'preclude', 'shaft', 'outfoxed', 'squirm', 'microaggressions', '145', 'robertson', 'sarajevo', 'nemtsov', 'willard', 'scorchlands', 'planting', 'freelance', 'lash', 'kagan', 'lookin', 'trexit', 'ferdinand', 'antidote', 'digs', 'resilient', 'typographical', 'captains', 'benson', 'ancestral', 'roofer', 'defanged', 'teasers', 'relying', 'tania', 'cardi', 'quill', 'hewitt', '15s', 'iverson', 'dracula', 'shameful', 'rubble', 'fashionistas', '373', 'creeps', 'physicists', 'kam', 'goons', 'loiterer', 'profession', 'patterns', 'tally', 'speedwagon', 'calypso', 'playable', 'tonkin', 'paz', 'dissect', 'intoxication', 'visage', 'fresca', 'intercontinental', 'earthenware', 'doorknob', 'viruses', 'glance', 'brains', 'criss', 'confirmations', 'shipped', 'ava', 'grasshopper', 'censure', 'dolce', 'bernadette', 'shawn', 'dumbed', 'earthlike', 'bliss', 'trench', 'articulate', 'belgian', 'wept', 'mena', 'unpatriotic', 'aphid', 'adrift', 'rosa', 'expelling', 'hasbro', 'teaming', 'cecil', 'rackspace', 'unlocking', 'passport', 'mussolini', 'polishing', 'fruity', 'incumbency', 'extraterrestrial', 'sandboxes', 'virtues', 'creep', 'marsh', 'obi', 'contentment', 'retelling', 'producing', 'observations', 'erick', 'located', 'nux', 'caldwell', 'humanist', 'runaway', 'buglers', 'althea', 'acne', 'dodgeball', 'anticipating', 'ejaculate', 'ceded', 'serengeti', 'wondersplint', 'bullring', 'rosenthal', 'emanates', 'uplift', 'jumanji', 'rousing', 'expectation', 'marcomentum', 'competitor', 'grexit', 'superstition', 'mortgaging', 'starr', 'dictate', 'pools', 'disgust', 'parkway', 'anita', 'shadi', 'jaguars', 'scripted', 'claw', 'jealousy', 'roske', 'brides', 'compound', 'hurl', 'lichen', 'escorts', 'wakeup', 'crème', 'digestive', 'headliner', 'collected', 'alderman', 'sow', 'completists', 'sainthood', 'upbraidings', 'hardworking', 'wip', 'sykes', 'predates', 'insistent', 'burlesque', 'mischievous', 'adjunct', 'weaken', 'proceeds', 'coupled', 'desantis', 'retreats', 'lexicon', 'plunger', 'jelly', 'galactic', 'rockin', 'slang', 'swalwell', 'unconvincingly', 'bane', 'tampers', 'fu', '201', 'teachings', 'beetles', 'fracturing', 'prelims', 'bündchen', 'nemo', 'hubby', 'calumet', 'roadster', 'somers', 'voicing', 'jiffy', 'quixote', 'choco', 'bayer', 'demonstrated', 'dumbasses', 'krishna', 'packet', 'liable', 'gopro', 'averted', 'extinguish', 'nxivm', 'pulley', 'loafers', 'di', 'tenenbaums', 'finephilia', 'shutter', 'efficient', 'dominance', 'orgasm', 'mainland', 'tbs', 'uphill', 'disastrously', 'swag', 'elliptical', 'hurriedly', '371', 'osbourne', 'poseidon', 'icelandic', 'zebras', 'adore', 'biology', 'geniuses', 'imparts', 'lobs', 'motörhead', 'shoddy', 'outing', 'heirs', 'kidnaps', 'outweighs', 'oates', 'negotiate', 'mackenzie', 'sixty', 'empowering', 'emerald', 'spacecraft', 'underpublicized', 'doggone', 'informing', 'dominant', 'frein', 'uva', 'azores', 'valid', 'caregiver', 'essays', 'sudanese', 'perjurer', 'hermits', 'pepa', 'raffle', 'jerseys', 'hare', 'connick', 'pornhub', 'retool', 'ghani', 'hazard', 'semifinals', 'doggy', 'essence', 'relates', 'mounted', 'ignorance', 'grumbles', 'sear', 'intergenerational', 'absent', 'timberwolves', 'blanket', 'federation', 'touchdowns', 'flamethrowers', 'phrases', 'revisited', 'resurfacing', 'amman', 'punctuality', 'coli', 'clump', 'knot', 'meldonium', 'sandusky', 'casualty', 'sexpot', 'sanz', 'pudgy', 'bmw', 'angolan', 'masterstoke', 'sauna', 'naval', 'clank', 'belles', 'sharpie', 'meara', 'murph', 'casinos', 'shaker', 'yordano', 'akin', 'erratic', 'donaldson', '103', 'punny', 'yak', 'pagans', 'breastfed', 'cropped', 'fritos', 'controllable', 'recounting', 'bustad', 'reggaetón', 'shines', 'planters', 'gagprojects', 'estimates', 'vindicates', 'crip', 'depress', 'hanson', 'grapefruit', 'unsupervised', 'daraya', 'hymn', 'pronounce', 'killmonger', 'baseless', 'segel', 'convictions', 'coping', 'brunt', 'rewrites', 'pompous', 'coppola', 'thatcher', 'krauthammer', 'wavy', 'visceral', 'clout', 'sats', 'parachute', 'marker', 'honduran', 'ragsdale', 'refilling', 'dizziness', 'pharaoh', 'harem', 'gambia', 'blacklight', 'telemundo', 'redirects', 'tripled', 'assistance', 'cousins', 'unmoved', 'franz', 'greet', 'automakers', 'manipulation', 'smokers', 'midwestern', 'unsurprisingly', 'opener', 'synthetic', 'gobi', 'nestle', 'misspeaks', 'pervert', 'ziyi', 'suvs', 'rockstar', 'arabian', 'organized', 'gladys', 'gamechanger', 'monaghan', 'printout', 'baptist', 'echoes', 'regulate', 'nph', 'munchkin', 'fork', 'binks', 'traitors', 'nichols', 'gallows', 'pictorial', 'cheeseburgers', 'playhouse', 'bloggers', 'sequoia', 'ventures', 'reeves', 'motive', 'inherently', 'richards', 'flabbergasted', 'hitter', 'prophecies', 'fraction', 'cayman', 'messiah', 'offerings', 'lauper', 'lad', 'necrotic', 'coastline', 'stitched', 'infested', 'taekwondo', 'sweetheart', 'molten', 'uninhabitable', 'nationally', 'noncitizens', 'masterclass', 'scripts', 'facsimile', 'gerstein', 'avalanches', 'youlookdisgusting', 'hawke', 'millie', 'facto', 'canister', 'slayings', 'gandhi', 'korman', 'tout', 'maharishi', 'sarawak', 'births', 'judys', 'leverage', 'lectern', 'traps', 'buffer', 'badtz', 'camouflage', 'motto', 'charger', 'eccentric', 'testament', 'yards', 'sweatiest', 'stanford', 'scandalous', 'unlike', 'unrepresentative', 'crushes', 'suggestive', 'gad', 'dildos', 'weirdos', 'implies', 'meg', 'beachgoers', 'sagan', 'attains', 'sneers', 'couscous', 'craftsman', 'thighmaster', 'sharpton', 'methamphetamines', 'bornstein', 'morph', 'cunt', 'unasked', 'whichever', 'gugu', 'contented', 'mcdreamy', 'reserves', 'mimic', 'satanists', 'barracks', 'hentai', 'lebanese', 'demolishing', 'farley', 'reelecting', 'loop', '560', 'whereabouts', 'straying', 'brainer', 'teamnocancer', 'beekeepers', 'dekkers', 'bloomed', 'batgirl', 'swattin', 'domesticating', 'geography', 'custom', 'immensity', 'turvy', 'lampshade', 'frontline', 'mangling', 'dire', 'elsa', 'powerlessness', 'cocky', 'flunks', 'grossed', 'unfriending', 'trespassing', 'rabbinic', 'landscapes', 'adjourned', 'courses', 'jenga', 'appointments', 'hayes', 'pollster', 'blatantly', 'groceries', 'impersonates', 'canvass', 'unseating', 'constrictive', 'superbug', 'scar', 'mistrial', 'minhaj', 'capote', 'euthanize', 'junkies', 'entwined', 'adulting', 'float', 'headphone', 'geekier', 'discriminating', 'kongmalai', '1915', 'lunchables', 'lucid', 'rehabilitation', 'quirky', 'mockumentary', 'sternly', 'skunk', 'cujo', 'electing', 'inviting', 'backyards', 'dragon', 'mob', 'homeboys', 'committing', 'servicepeople', 'seabed', 'ruler', 'hawk', 'federally', 'halloweiner', 'kellie', 'weighty', 'perk', 'pointless', 'apex', 'albanians', 'willow', 'tribunal', 'rooney', 'skinematography', 'buncha', 'concoction', 'sexed', 'coms', 'reclusive', 'keychain', 'cartooning', 'scrap', 'vivid', 'tasered', 'lyricist', 'keffiyeh', 'spinster', 'vape', 'toad', 'wk', 'philadelphians', 'hawn', 'artiste', 'partisan', 'teriyaki', 'fireflies', 'franzen', 'incompetents', 'leann', 'rasputins', 'bracelets', 'sidecars', 'starvation', 'fencing', 'excedrin', 'cementing', 'voltaggio', 'identifies', 'bruised', 'offenders', '1950s', 'kournikova', 'indecision', 'yeager', 'suffocates', 'crucified', 'excel', 'jada', 'crossover', 'dopamine', 'nasim', 'blaring', 'abdominable', 'reek', 'spectacle', 'veal', 'larson', 'electrocution', 'bake', 'autumn', 'pudding', 'inclement', 'slipknot', 'tuscan', 'mockingly', 'gettin', 'fitzpatrick', 'cinco', 'subsidy', 'encyclopedic', 'cramped', 'madame', 'nicknames', 'indeed', 'brittany', 'goblin', 'leeum', 'dominic', 'costner', 'fantasies', 'gaines', 'midway', 'cannabis', 'commerce', 'interventions', 'cola', 'davos', 'unmastered', 'buick', 'geared', 'dishonest', 'brownback', 'warmly', 'unrepentant', 'assigning', 'memorize', 'tiffany', 'intercept', 'uw', 'pompom', 'wiseau', 'teeny', 'destructing', 'legionnaire', 'bankrupting', 'poise', 'recreating', 'nastiness', '87th', 'arabs', 'format', 'lap', 'satyarthi', 'dwarvish', 'imbecile', 'algerian', 'frown', 'reinforcin', 'tableside', 'cigars', 'hayden', 'berlusconi', 'giudice', 'swader', 'requirement', 'soleil', 'attending', 'solvers', 'genealogists', 'trucking', 'hotdogs', 'tickle', 'kailash', 'tirelessly', 'masquerading', 'kilimanjaro', 'updating', 'continuously', 'manageable', 'winds', 'macdowell', 'endearing', 'starve', 'misplaced', 'uncoupling', 'hoagie', 'binder', 'goliath', 'belly', 'bits', 'mains', 'epley', 'uncovering', 'breakneck', 'retweets', 'farberware', 'hesitant', 'gaseous', 'feedback', 'calculated', 'calle', 'cowbell', 'foolishly', 'tropical', 'athletic', 'dishonorably', 'electability', 'glandular', 'tch', 'barbed', 'docked', 'chad', 'deafening', 'returned', 'glint', 'influences', 'captive', 'inshallah', 'philosophy', 'bennet', 'airways', 'overclassification', 'harms', 'infiltrates', 'cáceres', 'priesthood', 'murrow', 'duel', 'copenhagen', 'emmerich', 'warfare', 'moderates', 'wyclef', 'robes', 'kaleidoscopic', 'trumped', 'unqualified', 'purported', 'inflatable', 'coneflower', 'friendshipgoals', 'gurley', 'couplets', 'busboy', 'snapped', 'secure', 'cornyn', 'connectivity', '165', 'starfucker', 'martyr', 'messaging', 'menforchoice', 'fritter', 'asean', 'protruding', 'enigmatic', 'minds', 'girders', 'fruitvale', 'noaa', 'technophile', 'pooch', 'tard', 'clutching', 'wiretapped', 'houdini', 'topher', '175', 'geils', 'preregistered', 'geologists', 'ar', 'ozone', 'photojournalist', 'contacts', 'healers', 'thirsty', 'cokes', 'googlers', 'overpasses', 'repopulation', 'blockbusters', 'plop', 'youngest', 'command', 'phalanx', 'mantras', 'hypothetical', 'abbi', 'pads', 'disdain', 'insoles', 'deaver', 'undetected', 'preyed', 'bhikkunis', 'steamy', 'qualify', 'enabling', 'crosby', 'nicaraguan', 'counteroffensive', 'tightens', 'racially', 'sharia', 'wormhole', 'kensington', 'lana', 'egos', 'hygienist', 'setlist', 'ejaculation', 'slurps', 'redrawing', 'overhear', 'radicals', 'juggler', 'paralyzes', 'accessibility', 'bouncers', 'untoward', 'wreak', 'earthly', 'backers', 'contessa', 'bernhardt', 'mofo', 'groomed', 'engulfs', 'forgoes', 'irony', 'snatching', 'jlaw', 'lice', 'appropriate', 'concentration', 'weekends', 'charth', 'chickening', 'declassified', 'grecian', 'plinko', 'ensemble', 'hawkeye', 'publik', 'showrunners', 'surfing', 'prehab', 'parkinson', 'twiztid', 'dominos', 'setup', 'handgun', 'gabbana', 'bachata', 'angers', 'hierarchy', 'brontë', 'slashing', 'barlow', 'rig', 'stuffing', 'betting', 'icantbreathe', 'chewed', 'shuttlecocks', 'e5dn', 'silverstein', 'resolving', 'behrendt', 'obtained', 'elves', 'chomsky', 'libertarians', 'kenobi', 'deceit', 'formaldehyde', 'earnest', 'guinness', 'passive', 'uncertain', 'appétit', 'expendables', 'sommelier', 'fineo', 'randy', 'aipac', 'fryer', 'authorizing', 'cisco', 'litany', 'risheq', 'deflates', 'zinnias', 'ziplines', 'nic', 'dmc', 'hotlines', 'pronunciation', 'hypocritical', 'ibiza', 'grabbed', 'predisposition', 'rupee', 'rao', 'paso', 'kael', 'defeats', 'jots', 'necessarily', 'rigby', 'expenses', 'restless', 'formerly', 'judi', 'beyeler', 'mckellen', 'supported', 'cautions', 'librarians', 'meandering', 'chores', 'devouring', 'coupon', 'handsome', 'friedan', 'majestically', 'bungling', 'rocker', 'fireeye', 'tormund', 'starved', 'deduced', 'uighur', 'revisionist', 'fivethirtyeight', 'trillions', 'virulent', 'deflected', 'spooktacular', 'infertility', 'longhorn', 'discourage', 'fantastic', 'admitting', 'porowski', 'clemson', 'verify', 'directv', 'disarray', 'hy', 'faint', 'cassini', 'appearances', 'cobble', 'willett', 'gottfried', 'navajo', 'paralyzed', 'retrieves', 'housefly', 'brandishes', 'propelling', 'cryptocurrency', 'monitoring', 'wreaks', 'connor', 'gowdy', 'wavering', 'greets', 'bassem', 'pierce', 'amateur', 'wiesenthal', 'populism', 'underreported', 'chloë', 'condescendingly', 'spaced', 'punctuation', 'kurdish', 'scumbag', 'totes', 'fulfilled', 'uttering', 'outlandish', 'boulos', 'yolk', 'poems', 'enforces', 'dredged', 'tablet', 'measurably', 'intriguing', 'prescriptions', 'denounced', 'wincing', 'somalian', 'aspen', 'peake', 'heston', 'impaired', 'sinister', 'tel', 'darn', 'reconnect', 'caramoor', 'riyadh', 'ignorant', 'backstreet', 'beguiling', 'misconceptions', 'scissors', 'oc4n', 'unannounced', 'norwood', 'lacking', 'stine', 'applies', 'mckinney', 'transaction', 'sacrifices', 'quelled', 'belts', 'seller', 'clairvoyant', 'tofurkey', 'mikey', 'shuttered', 'irrelevant', 'lashes', 'lear', 'commentator', 'homer', 'deliberately', 'ps4', 'sieges', 'resurrect', 'pagodas', 'hurrying', 'birdman', 'uninspiring', 'multiply', 'derailed', 'disasty', 'whopping', 'craziest', 'jamal', 'sights', 'selene', 'barborak', 'pyramids', 'disdains', 'depicting', 'framed', 'bizkit', 'goner', 'climbers', 'kellyonmymind', 'lumberjack', 'defeating', 'legalizing', 'lhabab', 'motions', 'ossifies', 'bennett', 'vai', 'lil', 'haddish', '510', 'salvaged', 'trifecta', 'lagging', 'polished', 'dozes', 'cilantro', 'invocations', 'flawlessly', 'slushing', 'pathological', 'juror', 'clone', 'dusk', 'geo', 'feat', 'chaps', 'segregation', 'libby', '835', 'gett', 'garish', 'emoticon', 'vermont', 'lamprey', 'reformed', 'mammoth', 'smacked', 'classique', 'jacquie', 'factual', 'haaz', '535', 'boliviano', 'iowans', 'satchel', 'et', 'fyre', 'paddles', 'leaned', 'corrections', 'scavenger', 'clusters', 'defiantly', 'polaris', 'bowls', 'malik', 'corsets', 'rows', 'burritos', 'vestigial', 'fringe', 'dislodge', 'bugnado', 'filler', 'orozco', 'touchy', 'contort', 'kemper', 'miraculous', 'jameela', 'pti', 'morley', 'reconfirmation', 'jacks', 'ave', 'sherbet', 'honesty', 'flaccid', 'conveys', 'anyways', 'sopranos', 'wiping', 'hologram', 'postmodern', 'weir', 'deception', 'orville', 'severed', 'noun', 'handicapped', 'newfront', 'neglects', 'erickson', 'sherman', 'callings', 'wyatt', 'cooperation', 'beckinsale', 'bb', 'permafrost', 'pounce', 'milkshakes', 'motherf', 'goodman', 'tissues', 'spieth', 'lipinski', 'analysts', 'hellmann', 'edm', 'lahood', 'engraved', 'monastery', 'bigot', 'frocked', 'peaking', 'shan', 'candies', 'ayurveda', 'zips', 'subjected', 'medications', 'intensive', 'otro', 'philomena', 'undermining', 'iftar', 'balsamic', 'kerrigan', 'preceded', 'asp', 'whine', 'decimating', 'fells', 'petals', 'silcoff', 'checkpoint', 'pleases', 'omnigrain', 'instruct', 'violators', 'zinc', 'drexel', 'forte', 'overdose', 'succinctly', 'mirena', 'rescinded', 'ladle', 'trucks', 'excommunication', 'pug', 'innovestion', 'hungary', 'rainforests', 'snacker', 'versa', 'suitcase', 'brainpower', 'robs', 'yuan', 'insured', 'animator', 'criers', 'attainable', 'commemorating', 'firebombed', 'batch', 'rabies', 'avocados', 'severs', 'faerie', 'dell', 'stonewall', 'hijinks', 'riesling', 'unsaved', 'mercifully', 'invoked', 'cynics', 'restructuring', 'jurassic', 'tomboy', 'disappoints', 'gutter', 'severance', 'panhandlers', 'tastes', 'gizmos', 'gypsy', 'psychological', 'riaa', 'shapes', 'legos', 'adelanto', 'blending', 'beekeeper', 'rhode', 'mingle', 'shortened', 'frequent', 'oldenburg', 'gorillas', 'arias', 'outfox', 'itch', 'remorse', 'roundabouts', 'involving', 'hogwarts', 'funneled', 'profitably', 'katif', 'cornel', 'farther', 'wren', 'outposts', 'sickened', 'pave', 'automated', 'hallburton', 'assassinated', 'stooped', 'bono', 'dumbshit', 'redwood', 'cables', 'dorian', 'featured', 'xmasgiftsfromtrump', 'choudary', 'mockingjay', 'reiterating', 'empowerment', 'overboard', 'schilling', 'chixx', 'dodger', 'improper', 'eggnog', 'gabriella', 'recovers', 'lundergan', 'subsidizing', 'frustrating', 'necessity', 'urination', 'hemophiliac', 'punishable', '94', 'decrees', 'portions', 'footprints', 'midgets', 'flop', 'chides', 'nurses', 'wilford', 'fig', 'cones', 'amounts', 'utterance', 'reedsburg', 'gritty', 'hersh', 'hindsight', 'dedication', 'landscape', 'sofa', 'aquafina', 'coretta', 'mcfooty', 'nihilistic', 'mathison', 'midriff', 'americorps', 'warms', 'gulp', 'aviva', 'hugged', 'joss', 'gchats', 'ep', 'doubts', 'duggar', 'rewinds', 'mana', 'snowboarder', 'asthmatic', 'optical', 'remastered', 'labyrinth', 'summa', 'pufferfish', 'glaciers', 'swagger', 'vol', 'scheduled', 'cuisine', '1822', 'shoos', 'winnie', 'punisher', 'alias', 'rested', 'kylo', 'zipline', 'swans', 'psyche', 'confrontation', 'hopeless', 'reused', 'menéndez', 'gawker', 'croft', 'spins', 'alaskan', 'amandla', 'identical', 'bedside', 'hospice', 'creeping', 'acupuncture', 'weakened', 'porpoise', 'litmus', 'gardening', 'beagle', 'testifying', 'windowpane', 'chit', 'kkk', 'corleone', 'lengthy', 'zack', 'huffing', 'scope', 'convenience', 'nicholas', 'tracing', 'shōgun', 'buck', 'diligently', 'inversions', 'rudimentary', 'awakes', 'freudian', 'aereo', 'decadent', 'embroidery', 'coaching', 'imprisoned', 'bearable', 'unauthorized', 'masturbation', 'cholesterol', 'electrical', 'shaun', 'environmentalism', 'busiest', 'dials', 'sacagawea', 'boilermakers', 'iss', 'streetcar', 'recidivism', 'outlaw', 'ganging', 'crofts', 'sweets', 'recruit', 'traumatized', 'balances', 'smb', 'gayby', 'theaters', 'cigar', 'arthur', 'paddle', '3m', 'gingerly', 'stapleton', 'cleaner', 'buckingham', 'husky', 'airs', 'fluidity', 'dictionaries', 'restoration', 'molest', 'shuttle', 'evaporates', 'elude', 'expat', 'rosetta', 'yauch', 'margot', 'displaced', 'butler', 'halo', 'jackman', 'traveled', 'riddled', 'startled', 'implants', 'peeping', 'salamanders', 'fitting', 'ancestors', 'vital', 'kyoto', 'intentions', 'labelle', 'prank', 'kinney', '1948', 'illnesses', 'scarf', 'gillian', 'globs', 'analyzes', 'possession', 'unharmed', 'prompt', 'thermo', '259', 'subtext', 'hailed', 'missions', 'coed', 'deere', 'liberian', 'downloadable', 'bams', 'popovich', 'boggle', 'heightened', 'revive', 'egyptians', 'dirtbag', 'rwandan', 'kisser', 'ropes', 'passionately', 'willem', 'hater', 'longevity', 'receipts', 'emporia', 'lunchbox', 'protocol', 'appointing', 'asylums', 'sis', 'bacterial', 'misérables', 'tort', 'relic', 'fluid', 'freud', 'salvador', 'unstoppable', 'cylinders', 'jyothi', 'lime', 'bondage', 'voiceless', 'maroulis', 'countless', 'nfc', 'contemporary', 'disproven', 'pawn', 'carve', 'capsules', 'affordability', 'trucker', 'stamos', 'zarin', 'recanting', 'hedgehog', 'skyrockets', 'afterbirth', 'rossini', 'alley', '2026', 'shredyourex', 'spineless', 'zebra', 'casanova', 'dotard', 'paypal', 'refry', 'dobby', 'co2', 'eater', 'handwriting', 'corridors', 'shelving', 'yada', 'philipps', 'assassins', 'kudlow', 'forges', 'tumor', 'payback', 'dempsey', 'stimpy', 'firefight', 'urgings', 'typhoon', 'leaguers', 'ney', 'puzo', 'strangle', 'lily', 'webmd', 'overhauls', 'investigations', 'architectural', 'celery', 'sighted', 'pitches', 'ilana', 'tamer', 'liege', 'profanity', 'bail', 'typically', 'hysterically', 'cometh', 'unforgettable', 'whereas', 'compatriots', 'xxxx', 'mowed', 'carless', 'cells', 'ticketed', 'norah', 'hordes', 'leto', 'marten', 'whoever', 'blu', 'prius', 'pinched', 'appellate', 'refocus', 'sodomy', 'categorization', 'blizzards', 'walton', 'helmet', 'traditions', 'grindr', 'credentials', 'punks', 'hurts', 'cambodian', 'basis', 'renewing', 'freakonomist', 'slogan', 'meticulous', 'expressions', 'supermarkets', 'depends', 'demo', 'janitors', 'sliders', 'atrans', 'colitis', 'tracker', 'ecologists', 'bangers', 'wooly', 'drinker', 'streaks', 'oppendahl', 'coursing', 'traditionally', 'twitch', 'deadliest', 'surround', 'tedtalk', 'recalibrates', 'startling', 'harambe', 'creed', 'costumed', 'outsmart', 'dignitary', 'premarital', 'occupation', 'chastised', 'elegance', 'magma', 'mealy', 'cara', 'merle', 'succeed', 'broderick', 'myung', 'vil', 'ossoff', 'genic', 'friggin', 'televisa', 'amphitheater', 'wrecks', 'karen', 'unencumbered', 'branding', 'counseling', 'lulled', 'barge', 'mcpherson', 'watchdogs', 'certainly', 'implodes', 'osha', 'crunchy', 'cockpit', 'pablo', 'yep', 'ministry', 'transplanted', 'nourishing', 'reverently', 'heffernan', 'tattooed', 'nationalism', 'vibrating', 'milling', 'suffrage', 'panera', 'occupant', 'tavist', 'perspectives', 'caitlin', 'fieri', 'boseman', 'gyrocopter', 'alcorn', 'eurostar', 'porta', 'evolutionary', 'hormonal', 'boobs', 'kindergartener', 'kiyoko', 'ruiz', 'revolt', 'menstruated', 'colorful', 'slushie', 'anjem', 'gurney', 'monroe', 'peshawar', 'skilled', 'vulnerabilities', 'workshop', 'aikman', 'pronounced', 'risking', 'underperforming', 'communication', 'playwright', 'nutter', 'coziest', 'sidebar', 'farmland', 'murky', 'capitalize', 'gummed', 'portuguese', 'deray', 'melanesian', 'couche', 'transactions', 'scans', 'hipsters', 'amended', 'tummy', 'foam', 'birthers', 'ninetysomethings', 'passion', 'swells', 'quitting', 'brinkley', 'roped', 'listed', 'lili', 'langston', 'sgt', 'crawlspaces', 'firmly', 'karenina', 'prism', 'pantyhose', 'idles', 'sharpens', 'narcolepsy', 'contribution', 'comply', 'wrongfully', 'scarborough', 'tulip', 'scourge', 'galen', 'frogs', 'droege', 'upsets', 'stagehand', 'forklift', 'nique', 'squandered', 'fellowship', 'relive', 'cpu', 'compensate', 'politwoops', 'polgreen', 'interreligious', 'rowers', 'ionosphere', 'sudafed', 'walkway', 'storyline', '702', 'unknowingly', 'hadn', 'pager', 'nonessential', 'barley', 'backstage', 'dorito', 'roadside', 'housewife', 'stepfather', 'delight', 'detractors', 'rezone', 'suitor', 'methodist', 'dissident', 'calligraphy', 'scariest', 'tee', 'burt', 'reelected', 'shakers', 'educates', 'hachette', 'setbacks', 'noel', 'terrorized', 'madea', 'grabs', 'southerner', 'grimm', 'erection', 'microwavable', 'lofty', 'pennsylvanian', 'zoolander', 'defecating', 'disable', 'stirrup', 'soaks', 'remembered', 'bolt', 'breakthroughs', 'hedgehogs', 'lenses', 'glue', 'marilinda', 'dramatize', 'assertion', 'treasurer', 'backlogged', 'murrieta', 'fleece', 'warhead', 'neons', 'findings', 'monarch', 'speakeasy', 'expense', 'gaetz', 'hadid', 'dakotan', 'farc', 'merron', 'hagar', 'capacity', 'pipes', 'heartache', 'extenders', 'contrarian', 'siberia', 'discontinuing', 'harasser', 'rail', 'hesitate', 'vod', 'eggers', 'mcmahon', 'pamphlet', '149th', 'instincts', 'moustache', 'receptionists', 'covenant', 'hyatt', 'regurgitating', 'catalonia', 'nuanced', 'woodwork', 'liveblogged', 'friendless', 'mademoiselle', 'underserved', 'trials', 'stormtroopers', 'cutler', 'madmen', 'accusing', 'constructionist', 'afeni', 'priceless', 'programmers', 'defunded', 'pancuronium', 'excluded', 'someplace', 'ee', 'graphics', 'subjective', 'appelhof', 'demonstrator', 'frogmen', 'linen', 'guarding', 'engages', 'geodes', 'unpleasant', 'clarksburg', 'moderation', 'priestess', 'mantle', 'kitty', 'legislating', 'cellar', 'homunculus', 'omniscient', 'solves', 'stylin', 'malnourished', 'thewrap', 'premise', 'wearhouse', 'references', 'silas', 'sunblock', 'barksdale', 'ma', 'pepe', 'delights', 'cincinnati', 'sylvester', 'nicoderm', 'dishing', 'sauced', 'iphones', 'criminalize', 'waterston', 'sticker', 'buildings', 'nsync', 'swinton', 'imported', 'snatched', 'thang', 'rib', 'rents', 'tailored', 'britton', 'peninsula', '240', 'frankel', 'mila', 'guam', 'robed', 'livestreams', 'mariana', 'feathered', 'noisy', '38c', 'motor', 'mainbrace', 'convincingly', 'kline', 'sense8', 'kurrencykook', 'disinfectant', 'dissenters', 'footy', 'cockatiel', 'damns', 'overprivileged', 'dope', 'blacklists', 'rubik', 'trolling', 'tricycle', 'mound', 'e3', 'indulge', 'spewing', 'eyelid', 'cersei', 'deficient', 'nosebleed', 'biel', 'necks', 'acquire', 'responding', 'huddling', 'manners', 'slacker', 'selecting', 'channeling', 'wreckage', 'atheletes', 'invented', 'devito', 'regarding', 'exorcism', 'iceland', 'malaysian', 'scrawlings', 'bello', 'jo', 'jointed', 'woodrow', 'nazism', 'dexter', 'reincarnated', 'gardens', 'tyre', 'quiznos', 'hinged', 'bruin', 'umpqua', 'sza', 'detangling', 'indivisible', 'depicts', 'waldorf', 'hurls', 'jihadism', '40th', 'fare', 'plumbing', 'pastry', 'implying', 'tanner', 'browses', 'aunts', 'starz', 'bleached', 'destined', 'bystander', 'caird', 'playfully', 'gravitating', 'derrick', 'falsify', 'deng', 'hub', 'referencing', 'cathedral', 'dorchester', 'width', 'sabra', 'interventionists', 'freestyles', 'beams', 'blacklist', 'spongebob', 'pleas', 'tending', 'legalized', 'advent', 'shia', 'unreported', 'disclosures', 'polly', 'laughable', 'mactaggert', 'cursing', 'ouija', 'merely', 'mitsubishi', 'decorative', 'magritte', 'reluctant', 'mcenroe', 'hyper', 'berated', 'gaziantep', 'yutu', 'adopting', 'doling', 'basest', 'gerber', 'holistic', 'simulated', 'heats', 'usain', 'ms', 'bundchen', 'overlords', 'cyclone', 'captors', 'combines', 'rotates', 'humanists', 'pepperoni', 'crucifix', 'playtex', '1981', 'woo', 'backflip', '2060', 'geeks', 'allegories', 'fraser', 'stenberg', 'roddick', 'rudest', 'sociologists', 'gus', 'tarmac', 'thones', 'swelling', 'panders', 'neurotic', 'philippe', 'bossy', 'eternity', 'pulsating', 'fixer', 'cypriots', 'styx', 'swell', 'reflex', 'plausible', 'intersectional', 'dashcam', 'tab', 'burnett', 'torso', 'mandel', 'coatless', 'congratulations', 'neighborhoods', 'ilhan', 'lardface', 'aplogize', 'frilly', 'internets', 'motorcade', 'sprinklers', 'eastwood', 'socialist', 'groupie', 'studied', 'insignificant', 'vanity', 'whammys', 'newborns', 'almighty', 'variables', 'introduction', 'compatible', 'allegiance', 'deliberations', 'maven', 'oily', 'scheduling', 'coercing', 'deviously', 'reservation', 'gels', 'satisfaction', 'trimmer', 'forensic', 'sidney', 'cluelessly', 'bumbling', 'gory', 'stonehenge', 'bhutanese', 'handler', 'bundlers', 'sliding', 'faiths', 'fenimore', 'barbershop', 'centric', 'thereisaidit', 'crops', 'chews', 'indignant', 'sled', 'railway', 'songwriters', 'yalom', 'korengal', 'skill', 'migration', 'ronnie', 'motorized', 'bureaucratic', 'tamir', 'imperfection', 'regain', 'badger', 'refused', '071', 'reminisce', 'nuking', 'conquers', 'khans', 'internally', 'generously', 'revisions', 'stacy', 'smalltalk', 'jessie', 'nj', '63', 'baucus', 'faroe', 'emts', 'sullenberger', 'mainsplainer', 'denuclearization', 'rourke', 'mandate', 'motivating', 'subprime', 'sudoku', 'irritated', 'rash', 'stronghold', 'coloradans', 'fixin', 'paulson', 'brochu', 'regal', 'doorblocker', 'biding', 'facilities', 'aditya', 'phony', 'oversimplifies', 'iteration', 'parallels', 'daenerys', 'dudley', 'verreos', 'baskets', 'emeril', 'witnessed', 'escapes', 'cancers', 'wriggling', 'byrd', 'robe', 'carrey', 'bruising', 'attributed', 'phrasebook', 'philandering', 'rug', 'spits', 'induction', 'newcomers', 'tnt', 'jakrapong', 'dahl', 'reap', 'decks', 'misremember', 'steamed', 'deployment', 'resigned', 'slo', 'coasts', 'exaggerated', 'clearer', 'recyclable', 'tankers', 'megadrought', '1893', 'collaborating', 'noticeable', 'scanner', 'seized', 'filibusters', 'whim', 'tans', 'footballs', 'whooped', 'wistful', 'canon', 'summons', 'obvi', 'babysit', 'shareware', 'cinemas', 'mascara', 'revoking', 'syrupy', 'engaging', 'hannitys', 'voté', 'ramona', 'landlines', 'benioff', 'ol', 'ionceoverheard', 'slovakia', 'koudelka', 'manipulated', 'adhesive', 'unbeatable', 'handcuffed', 'interstate', 'merv', 'interaction', 'levitates', 'architects', 'stickers', 'pooping', 'toobin', 'confined', 'mace', 'humanities', 'recuperates', 'louisa', 'smokin', 'aspect', 'lifeline', 'unhrc', 'audra', 'broom', 'subpoenaed', 'reprehensible', 'blueprint', 'convenes', 'awakening', 'shalit', 'raton', 'eyebrows', 'trumpbacktoschooltips', 'lyte', 'duplicity', 'altering', 'clotting', 'middleagedschmovies', 'oven', 'spilman', 'khrushchev', 'radically', 'sandberg', 'anticipated', 'tribalism', 'embarrassment', 'padres', 'bribe', 'searing', 'deed', 'entertained', 'harbors', 'billionaires', 'narratives', 'sucking', 'richest', 'jest', 'jackass', 'cyborg', 'babbling', 'prescribing', 'sakharov', 'connell', 'orioles', 'klinsmann', 'reapplies', 'bumps', 'edict', 'chinaperson', 'craps', 'robotrix', 'humiliates', 'speedboat', 'caleb', 'konner', 'killin', 'caged', 'taunting', 'arises', 'ayman', 'tig', 'sf', 'fareed', 'energized', 'texans', 'insensitive', 'calmly', 'stalemate', 'paparazzo', 'energizes', 'gourmet', 'presentable', 'gothamist', 'selfridge', 'jockey', 'vinyl', 'rumbling', 'ramsey', 'roiling', 'sometime', 'mozart', 'woodlawn', 'nutso', 'cartographers', '350', 'brando', 'laced', 'posterity', 'sergeeva', 'wh', 'marshall', 'polk', 'enhancing', 'unchallenged', 'juicero', 'mistreating', '2525', 'ghostbusters', 'dionne', 'stab', 'sloshed', 'munsters', 'chuckling', 'desensitized', 'ensuring', 'asimov', 'preferences', 'whispered', 'trademark', 'retainer', 'recycling', 'instagrams', 'arrivals', 'condemning', 'bataclan', 'partygoer', 'alderson', 'quinto', 'conservationists', 'serbian', 'retreating', 'wong', 'processors', 'conceals', 'decoys', 'garth', 'painter', 'pitched', 'reopening', 'endure', 'punta', 'pitchers', 'hitless', 'principle', 'austerity', 'departure', 'toppings', 'substance', 'saltless', 'corrugated', 'famed', 'gregorios', 'batumi', 'hinder', 'defame', 'cloned', 'rechargeable', 'grubhub', 'boiled', 'systemic', 'lypsinka', 'botching', 'index', 'gard', 'chimpanzee', 'atone', 'birkenstocks', 'persisted', 'reschedules', 'horner', 'ballplayers', 'flawless', 'ballad', 'candlelight', 'jokingly', 'zakaria', 'colts', 'harding', 'necromancer', 'maids', 'hypnotized', 'aimlessly', 'snuggle', 'fermilab', 'acnefree', 'guillen', 'align', 'cashew', 'sour', 'flea', 'hardliners', 'ambushed', 'asu', 'spells', 'rudder', 'deflate', 'declaration', 'bumbler', 'sylville', 'revs', 'tyrion', 'steagall', 'bulleted', 'jab', 'neglect', 'blowhole', 'tits', 'ortiz', 'hymnal', '242', 'inconveniences', 'hots', 'elijah', 'retailers', 'perks', 'dealer', 'quayle', 'hermit', 'apnea', 'coogler', 'hairdresser', 'fingering', 'hangin', 'lynette', 'authoritarianism', 'forbearance', 'negro', 'paintball', 'buyouts', 'recut', 'prosecuted', 'conceivable', 'fleshlighthouse', 'unlawfully', 'tylenol', 'scarfs', 'bulk', 'folder', 'miraculously', 'jesmyn', 'calculations', 'dismantling', 'petco', 'breathtakingly', 'sweepstakes', 'lions', 'schizophrenic', 'fuse', 'bellisario', 'altered', 'posh', 'afterbirthers', 'decisive', 'lander', 'luis', 'gopsongsaboutethics', 'cleft', 'opcw', 'k5je', 'liberace', 'communicate', 'wilmot', 'jawa', 'faulty', 'sayings', 'tenacious', 'builders', 'hpps', 'afterschool', 'stumbled', 'simpletons', 'corbett', 'trickortreatin100years', 'paddlers', 'hony', 'tuesdays', 'lightsaber', 'coughs', 'grim', 'appliance', 'sunderland', 'supplier', 'nw', 'technical', 'rocketman', 'sleek', 'timeout', 'trusting', 'iamthegoldenstatekiller', 'eminem', 'wwe', 'outsources', 'rams', 'annulment', 'preet', 'skylight', '576', 'ingber', 'ceaseless', 'maldives', 'brennan', 'backseat', 'caterina', 'wily', 'fad', 'salvadoran', 'ut', 'forgiving', 'solange', 'backpacker', 'spiel', 'theoretical', 'reprobate', 'diagon', 'taxonomic', 'confession', 'refute', 'rightfully', 'firstborn', 'simulates', 'pixies', 'fordham', 'nicole', 'tyka', 'gladiator', 'developers', 'lingering', 'vivan', 'duress', 'suction', 'disk', 'pea', 'meters', 'accelerator', 'advancing', 'backroom', 'combinations', 'annihilate', 'videotape', 'attainment', 'penalized', 'spiritually', 'treaties', 'cortege', 'schooler', 'insurer', 'reb', 'muscle', 'panoramic', 'circles', 'pwc', 'cremated', 'myroommateisweird', 'roosevelt', '1776', 'perish', 'gorilla', 'lease', 'underprotective', 'pioneers', 'whimsical', 'kickline', 'kool', 'dwarf', 'shingling', 'aoki', 'psych', 'stonewalling', 'urchin', 'crusade', 'apu', 'leftist', 'metal', 'businessmen', 'transcendent', 'quarrels', 'disenfranchise', 'snub', 'quintanilla', 'demitri', 'lively', 'multicolor', 'denominational', 'nauseous', 'masturbate', 'shaw', 'der', 'danube', 'krugman', 'fatherless', 'bianchi', 'medium', 'resolves', 'fable', 'spoken', 'engulf', 'kilauea', 'sounded', 'ailing', 'consecrated', 'presiding', 'kindred', 'southerners', 'favorability', 'strolling', 'downpour', 'notion', 'peruvian', 'oscarssowhite', 'finer', 'stating', 'illusions', 'allay', 'fran', 'burr', 'funk', 'dose', 'malfunction', 'revolvers', 'upstate', 'inciting', 'clog', 'evasion', 'steelers', 'higgins', 'baking', 'inhaler', 'petrified', 'cremation', 'biz', 'newlyweds', 'prestigious', 'briefs', 'bobsledder', '1940s', 'wilbur', 'browns', 'reimpose', 'smoked', 'cubicle', 'cholera', 'roebuck', 'ashraf', 'allocated', 'dakotans', 'shabaab', 'broth', 'misogynistic', 'proctor', 'wineries', 'emotionless', 'transgressions', 'powering', 'voltage', 'alienation', '83rd', 'swab', 'wu', 'annihilating', 'wigs', 'homebuilding', 'platoon', 'evans', 'professes', 'crane', 'symbols', 'superficiality', 'jigglypuff', 'languish', 'deferred', 'zenefits', 'streamline', 'nevertrump', 'anonymity', 'kip', 'busey', 'provence', 'dewey', 'redacted', 'tapped', 'grotesquely', 'weightlifters', 'crimea', 'welded', 'bailey', 'misspelled', 'dawkins', 'silk', 'hashasha', 'gargoyles', 'delevingne', 'overdue', 'nieto', 'dugout', 'participant', 'flirts', 'irritating', 'somalia', 'intruder', 'fawns', '170', 'tailgate', 'lemur', 'unmanned', 'goose', 'grinning', 'motorcyclists', 'shinto', 'jurors'}\n"
     ]
    }
   ],
   "source": [
    "# remove if a word is does not appear at least twice\n",
    "maxvect = CountVectorizer(min_df=2)\n",
    "X_train_ = maxvect.fit_transform(X_train)\n",
    "display(X_train_)\n",
    "print(\"Stop words removed: \"+str(maxvect.stop_words_))"
   ]
  },
  {
   "cell_type": "markdown",
   "id": "47637832",
   "metadata": {},
   "source": [
    "Another way to reduce the number of words could also be to set a maximum number of features. \n",
    "\n",
    "__NOTE__\n",
    "- Probably a good idea to remove stop words before doing this though otherwise these will likely be in there and these are not going to be very useful for distinguishing sarcasitc from non-sarcastic articles.\n",
    "- More features does not guarentee a better model so this might be a hyperparameter you want to tune"
   ]
  },
  {
   "cell_type": "code",
   "execution_count": 34,
   "id": "871799ca",
   "metadata": {},
   "outputs": [
    {
     "data": {
      "text/plain": [
       "<16032x100 sparse matrix of type '<class 'numpy.int64'>'\n",
       "\twith 17195 stored elements in Compressed Sparse Row format>"
      ]
     },
     "metadata": {},
     "output_type": "display_data"
    },
    {
     "name": "stdout",
     "output_type": "stream",
     "text": [
      "['000', '10', 'america', 'american', 'americans', 'announces', 'area', 'baby', 'best', 'big', 'black', 'bush', 'calls', 'campaign', 'change', 'child', 'clinton', 'college', 'court', 'dad', 'day', 'dead', 'death', 'debate', 'doesn', 'dog', 'don', 'donald', 'election', 'family', 'finds', 'game', 'gay', 'gets', 'getting', 'going', 'good', 'gop', 'got', 'guy', 'health', 'high', 'hillary', 'home', 'house', 'john', 'just', 'kids', 'know', 'life', 'like', 'little', 'local', 'look', 'love', 'make', 'makes', 'man', 'mom', 'nation', 'need', 'new', 'news', 'obama', 'old', 'parents', 'party', 'people', 'plan', 'police', 'president', 'real', 'really', 'report', 'right', 'say', 'says', 'school', 'self', 'sex', 'star', 'state', 'stop', 'study', 'takes', 'things', 'time', 'trump', 'video', 'want', 'wants', 'watch', 'way', 'white', 'woman', 'women', 'work', 'world', 'year', 'years']\n"
     ]
    }
   ],
   "source": [
    "# Remove English stop words and only keep 100 features.\n",
    "maxvect = CountVectorizer(stop_words='english', max_features=100)\n",
    "X_train_ = maxvect.fit_transform(X_train)\n",
    "display(X_train_)\n",
    "print(maxvect.get_feature_names())"
   ]
  },
  {
   "cell_type": "markdown",
   "id": "d2df2372",
   "metadata": {},
   "source": [
    "# Model Exploration"
   ]
  },
  {
   "cell_type": "markdown",
   "id": "acad3c4b",
   "metadata": {},
   "source": [
    "Before we check model performance lets see what a dummy models performance would look like..."
   ]
  },
  {
   "cell_type": "code",
   "execution_count": 44,
   "id": "3f82d963",
   "metadata": {},
   "outputs": [
    {
     "data": {
      "text/html": [
       "<div>\n",
       "<style scoped>\n",
       "    .dataframe tbody tr th:only-of-type {\n",
       "        vertical-align: middle;\n",
       "    }\n",
       "\n",
       "    .dataframe tbody tr th {\n",
       "        vertical-align: top;\n",
       "    }\n",
       "\n",
       "    .dataframe thead th {\n",
       "        text-align: right;\n",
       "    }\n",
       "</style>\n",
       "<table border=\"1\" class=\"dataframe\">\n",
       "  <thead>\n",
       "    <tr style=\"text-align: right;\">\n",
       "      <th></th>\n",
       "      <th>0</th>\n",
       "      <th>1</th>\n",
       "      <th>accuracy</th>\n",
       "      <th>macro avg</th>\n",
       "      <th>weighted avg</th>\n",
       "    </tr>\n",
       "  </thead>\n",
       "  <tbody>\n",
       "    <tr>\n",
       "      <th>precision</th>\n",
       "      <td>0.52</td>\n",
       "      <td>0.0</td>\n",
       "      <td>0.52</td>\n",
       "      <td>0.26</td>\n",
       "      <td>0.27</td>\n",
       "    </tr>\n",
       "    <tr>\n",
       "      <th>recall</th>\n",
       "      <td>1.00</td>\n",
       "      <td>0.0</td>\n",
       "      <td>0.52</td>\n",
       "      <td>0.50</td>\n",
       "      <td>0.52</td>\n",
       "    </tr>\n",
       "    <tr>\n",
       "      <th>f1-score</th>\n",
       "      <td>0.69</td>\n",
       "      <td>0.0</td>\n",
       "      <td>0.52</td>\n",
       "      <td>0.34</td>\n",
       "      <td>0.36</td>\n",
       "    </tr>\n",
       "    <tr>\n",
       "      <th>support</th>\n",
       "      <td>8368.00</td>\n",
       "      <td>7664.0</td>\n",
       "      <td>0.52</td>\n",
       "      <td>16032.00</td>\n",
       "      <td>16032.00</td>\n",
       "    </tr>\n",
       "  </tbody>\n",
       "</table>\n",
       "</div>"
      ],
      "text/plain": [
       "                 0       1  accuracy  macro avg  weighted avg\n",
       "precision     0.52     0.0      0.52       0.26          0.27\n",
       "recall        1.00     0.0      0.52       0.50          0.52\n",
       "f1-score      0.69     0.0      0.52       0.34          0.36\n",
       "support    8368.00  7664.0      0.52   16032.00      16032.00"
      ]
     },
     "metadata": {},
     "output_type": "display_data"
    }
   ],
   "source": [
    "import warnings\n",
    "from sklearn.dummy import DummyClassifier\n",
    "from sklearn.pipeline import Pipeline\n",
    "from sklearn import set_config\n",
    "set_config(display='diagram')\n",
    "\n",
    "# create our pipeline for the data to go through.\n",
    "# This is a list of tuples with a name (useful later) and the function.\n",
    "dummy_pipe = Pipeline([\n",
    "    (\"vect\", CountVectorizer()),\n",
    "    (\"model\", DummyClassifier())\n",
    "])\n",
    "\n",
    "dummy_pipe.fit(X_train, y_train)\n",
    "\n",
    "with warnings.catch_warnings():\n",
    "    # as this will only predict 0 we will suppress the warning that tells us\n",
    "    # some metrics need to divide by 0\n",
    "    warnings.simplefilter(\"ignore\")\n",
    "\n",
    "    display(\n",
    "        # use the classifier to predict the validation set    \n",
    "        pd.DataFrame(classification_report(y_train, \n",
    "                                           dummy_pipe.predict(X_train), \n",
    "                                           labels=None,  \n",
    "                                           sample_weight=None, \n",
    "                                           digits=2, \n",
    "                                           output_dict=True)).round(2)\n",
    "    )"
   ]
  },
  {
   "cell_type": "markdown",
   "id": "913ce1f1",
   "metadata": {},
   "source": [
    "__NOTE__\n",
    "- `max_iter=1000` is set to prevent the warning that the limit has been reached. The limit is reffering to..."
   ]
  },
  {
   "cell_type": "code",
   "execution_count": 35,
   "id": "902c4429",
   "metadata": {},
   "outputs": [
    {
     "data": {
      "text/html": [
       "<style>#sk-container-id-1 {color: black;background-color: white;}#sk-container-id-1 pre{padding: 0;}#sk-container-id-1 div.sk-toggleable {background-color: white;}#sk-container-id-1 label.sk-toggleable__label {cursor: pointer;display: block;width: 100%;margin-bottom: 0;padding: 0.3em;box-sizing: border-box;text-align: center;}#sk-container-id-1 label.sk-toggleable__label-arrow:before {content: \"▸\";float: left;margin-right: 0.25em;color: #696969;}#sk-container-id-1 label.sk-toggleable__label-arrow:hover:before {color: black;}#sk-container-id-1 div.sk-estimator:hover label.sk-toggleable__label-arrow:before {color: black;}#sk-container-id-1 div.sk-toggleable__content {max-height: 0;max-width: 0;overflow: hidden;text-align: left;background-color: #f0f8ff;}#sk-container-id-1 div.sk-toggleable__content pre {margin: 0.2em;color: black;border-radius: 0.25em;background-color: #f0f8ff;}#sk-container-id-1 input.sk-toggleable__control:checked~div.sk-toggleable__content {max-height: 200px;max-width: 100%;overflow: auto;}#sk-container-id-1 input.sk-toggleable__control:checked~label.sk-toggleable__label-arrow:before {content: \"▾\";}#sk-container-id-1 div.sk-estimator input.sk-toggleable__control:checked~label.sk-toggleable__label {background-color: #d4ebff;}#sk-container-id-1 div.sk-label input.sk-toggleable__control:checked~label.sk-toggleable__label {background-color: #d4ebff;}#sk-container-id-1 input.sk-hidden--visually {border: 0;clip: rect(1px 1px 1px 1px);clip: rect(1px, 1px, 1px, 1px);height: 1px;margin: -1px;overflow: hidden;padding: 0;position: absolute;width: 1px;}#sk-container-id-1 div.sk-estimator {font-family: monospace;background-color: #f0f8ff;border: 1px dotted black;border-radius: 0.25em;box-sizing: border-box;margin-bottom: 0.5em;}#sk-container-id-1 div.sk-estimator:hover {background-color: #d4ebff;}#sk-container-id-1 div.sk-parallel-item::after {content: \"\";width: 100%;border-bottom: 1px solid gray;flex-grow: 1;}#sk-container-id-1 div.sk-label:hover label.sk-toggleable__label {background-color: #d4ebff;}#sk-container-id-1 div.sk-serial::before {content: \"\";position: absolute;border-left: 1px solid gray;box-sizing: border-box;top: 0;bottom: 0;left: 50%;z-index: 0;}#sk-container-id-1 div.sk-serial {display: flex;flex-direction: column;align-items: center;background-color: white;padding-right: 0.2em;padding-left: 0.2em;position: relative;}#sk-container-id-1 div.sk-item {position: relative;z-index: 1;}#sk-container-id-1 div.sk-parallel {display: flex;align-items: stretch;justify-content: center;background-color: white;position: relative;}#sk-container-id-1 div.sk-item::before, #sk-container-id-1 div.sk-parallel-item::before {content: \"\";position: absolute;border-left: 1px solid gray;box-sizing: border-box;top: 0;bottom: 0;left: 50%;z-index: -1;}#sk-container-id-1 div.sk-parallel-item {display: flex;flex-direction: column;z-index: 1;position: relative;background-color: white;}#sk-container-id-1 div.sk-parallel-item:first-child::after {align-self: flex-end;width: 50%;}#sk-container-id-1 div.sk-parallel-item:last-child::after {align-self: flex-start;width: 50%;}#sk-container-id-1 div.sk-parallel-item:only-child::after {width: 0;}#sk-container-id-1 div.sk-dashed-wrapped {border: 1px dashed gray;margin: 0 0.4em 0.5em 0.4em;box-sizing: border-box;padding-bottom: 0.4em;background-color: white;}#sk-container-id-1 div.sk-label label {font-family: monospace;font-weight: bold;display: inline-block;line-height: 1.2em;}#sk-container-id-1 div.sk-label-container {text-align: center;}#sk-container-id-1 div.sk-container {/* jupyter's `normalize.less` sets `[hidden] { display: none; }` but bootstrap.min.css set `[hidden] { display: none !important; }` so we also need the `!important` here to be able to override the default hidden behavior on the sphinx rendered scikit-learn.org. See: https://github.com/scikit-learn/scikit-learn/issues/21755 */display: inline-block !important;position: relative;}#sk-container-id-1 div.sk-text-repr-fallback {display: none;}</style><div id=\"sk-container-id-1\" class=\"sk-top-container\"><div class=\"sk-text-repr-fallback\"><pre>Pipeline(steps=[(&#x27;vect&#x27;, CountVectorizer()),\n",
       "                (&#x27;model&#x27;, LogisticRegression(max_iter=1000))])</pre><b>In a Jupyter environment, please rerun this cell to show the HTML representation or trust the notebook. <br />On GitHub, the HTML representation is unable to render, please try loading this page with nbviewer.org.</b></div><div class=\"sk-container\" hidden><div class=\"sk-item sk-dashed-wrapped\"><div class=\"sk-label-container\"><div class=\"sk-label sk-toggleable\"><input class=\"sk-toggleable__control sk-hidden--visually\" id=\"sk-estimator-id-1\" type=\"checkbox\" ><label for=\"sk-estimator-id-1\" class=\"sk-toggleable__label sk-toggleable__label-arrow\">Pipeline</label><div class=\"sk-toggleable__content\"><pre>Pipeline(steps=[(&#x27;vect&#x27;, CountVectorizer()),\n",
       "                (&#x27;model&#x27;, LogisticRegression(max_iter=1000))])</pre></div></div></div><div class=\"sk-serial\"><div class=\"sk-item\"><div class=\"sk-estimator sk-toggleable\"><input class=\"sk-toggleable__control sk-hidden--visually\" id=\"sk-estimator-id-2\" type=\"checkbox\" ><label for=\"sk-estimator-id-2\" class=\"sk-toggleable__label sk-toggleable__label-arrow\">CountVectorizer</label><div class=\"sk-toggleable__content\"><pre>CountVectorizer()</pre></div></div></div><div class=\"sk-item\"><div class=\"sk-estimator sk-toggleable\"><input class=\"sk-toggleable__control sk-hidden--visually\" id=\"sk-estimator-id-3\" type=\"checkbox\" ><label for=\"sk-estimator-id-3\" class=\"sk-toggleable__label sk-toggleable__label-arrow\">LogisticRegression</label><div class=\"sk-toggleable__content\"><pre>LogisticRegression(max_iter=1000)</pre></div></div></div></div></div></div></div>"
      ],
      "text/plain": [
       "Pipeline(steps=[('vect', CountVectorizer()),\n",
       "                ('model', LogisticRegression(max_iter=1000))])"
      ]
     },
     "execution_count": 35,
     "metadata": {},
     "output_type": "execute_result"
    }
   ],
   "source": [
    "from sklearn.linear_model import LogisticRegression\n",
    "\n",
    "# create our pipeline for the data to go through.\n",
    "# This is a list of tuples with a name (useful later) and the function.\n",
    "log_pipe = Pipeline([\n",
    "    (\"vect\", CountVectorizer()),\n",
    "    (\"model\", LogisticRegression(max_iter=1000, random_state=42))\n",
    "])\n",
    "\n",
    "log_pipe.fit(X_train, y_train)"
   ]
  },
  {
   "cell_type": "markdown",
   "id": "3ab88542",
   "metadata": {},
   "source": [
    "Check the training and validation set performance..."
   ]
  },
  {
   "cell_type": "code",
   "execution_count": 39,
   "id": "7b591732",
   "metadata": {},
   "outputs": [
    {
     "data": {
      "text/html": [
       "<div>\n",
       "<style scoped>\n",
       "    .dataframe tbody tr th:only-of-type {\n",
       "        vertical-align: middle;\n",
       "    }\n",
       "\n",
       "    .dataframe tbody tr th {\n",
       "        vertical-align: top;\n",
       "    }\n",
       "\n",
       "    .dataframe thead th {\n",
       "        text-align: right;\n",
       "    }\n",
       "</style>\n",
       "<table border=\"1\" class=\"dataframe\">\n",
       "  <thead>\n",
       "    <tr style=\"text-align: right;\">\n",
       "      <th></th>\n",
       "      <th>0</th>\n",
       "      <th>1</th>\n",
       "      <th>accuracy</th>\n",
       "      <th>macro avg</th>\n",
       "      <th>weighted avg</th>\n",
       "    </tr>\n",
       "  </thead>\n",
       "  <tbody>\n",
       "    <tr>\n",
       "      <th>precision</th>\n",
       "      <td>0.97</td>\n",
       "      <td>0.97</td>\n",
       "      <td>0.97</td>\n",
       "      <td>0.97</td>\n",
       "      <td>0.97</td>\n",
       "    </tr>\n",
       "    <tr>\n",
       "      <th>recall</th>\n",
       "      <td>0.97</td>\n",
       "      <td>0.96</td>\n",
       "      <td>0.97</td>\n",
       "      <td>0.97</td>\n",
       "      <td>0.97</td>\n",
       "    </tr>\n",
       "    <tr>\n",
       "      <th>f1-score</th>\n",
       "      <td>0.97</td>\n",
       "      <td>0.96</td>\n",
       "      <td>0.97</td>\n",
       "      <td>0.97</td>\n",
       "      <td>0.97</td>\n",
       "    </tr>\n",
       "    <tr>\n",
       "      <th>support</th>\n",
       "      <td>8368.00</td>\n",
       "      <td>7664.00</td>\n",
       "      <td>0.97</td>\n",
       "      <td>16032.00</td>\n",
       "      <td>16032.00</td>\n",
       "    </tr>\n",
       "  </tbody>\n",
       "</table>\n",
       "</div>"
      ],
      "text/plain": [
       "                 0        1  accuracy  macro avg  weighted avg\n",
       "precision     0.97     0.97      0.97       0.97          0.97\n",
       "recall        0.97     0.96      0.97       0.97          0.97\n",
       "f1-score      0.97     0.96      0.97       0.97          0.97\n",
       "support    8368.00  7664.00      0.97   16032.00      16032.00"
      ]
     },
     "metadata": {},
     "output_type": "display_data"
    },
    {
     "data": {
      "text/html": [
       "<div>\n",
       "<style scoped>\n",
       "    .dataframe tbody tr th:only-of-type {\n",
       "        vertical-align: middle;\n",
       "    }\n",
       "\n",
       "    .dataframe tbody tr th {\n",
       "        vertical-align: top;\n",
       "    }\n",
       "\n",
       "    .dataframe thead th {\n",
       "        text-align: right;\n",
       "    }\n",
       "</style>\n",
       "<table border=\"1\" class=\"dataframe\">\n",
       "  <thead>\n",
       "    <tr style=\"text-align: right;\">\n",
       "      <th></th>\n",
       "      <th>0</th>\n",
       "      <th>1</th>\n",
       "      <th>accuracy</th>\n",
       "      <th>macro avg</th>\n",
       "      <th>weighted avg</th>\n",
       "    </tr>\n",
       "  </thead>\n",
       "  <tbody>\n",
       "    <tr>\n",
       "      <th>precision</th>\n",
       "      <td>0.84</td>\n",
       "      <td>0.82</td>\n",
       "      <td>0.83</td>\n",
       "      <td>0.83</td>\n",
       "      <td>0.83</td>\n",
       "    </tr>\n",
       "    <tr>\n",
       "      <th>recall</th>\n",
       "      <td>0.84</td>\n",
       "      <td>0.82</td>\n",
       "      <td>0.83</td>\n",
       "      <td>0.83</td>\n",
       "      <td>0.83</td>\n",
       "    </tr>\n",
       "    <tr>\n",
       "      <th>f1-score</th>\n",
       "      <td>0.84</td>\n",
       "      <td>0.82</td>\n",
       "      <td>0.83</td>\n",
       "      <td>0.83</td>\n",
       "      <td>0.83</td>\n",
       "    </tr>\n",
       "    <tr>\n",
       "      <th>support</th>\n",
       "      <td>2831.00</td>\n",
       "      <td>2514.00</td>\n",
       "      <td>0.83</td>\n",
       "      <td>5345.00</td>\n",
       "      <td>5345.00</td>\n",
       "    </tr>\n",
       "  </tbody>\n",
       "</table>\n",
       "</div>"
      ],
      "text/plain": [
       "                 0        1  accuracy  macro avg  weighted avg\n",
       "precision     0.84     0.82      0.83       0.83          0.83\n",
       "recall        0.84     0.82      0.83       0.83          0.83\n",
       "f1-score      0.84     0.82      0.83       0.83          0.83\n",
       "support    2831.00  2514.00      0.83    5345.00       5345.00"
      ]
     },
     "metadata": {},
     "output_type": "display_data"
    }
   ],
   "source": [
    "from sklearn.metrics import classification_report\n",
    "\n",
    "display(\n",
    "    # use the classifier to predict the validation set    \n",
    "    pd.DataFrame(classification_report(y_train, \n",
    "                                       log_pipe.predict(X_train), \n",
    "                                       labels=None,  \n",
    "                                       sample_weight=None, \n",
    "                                       digits=2, \n",
    "                                       output_dict=True)).round(2)\n",
    ")\n",
    "\n",
    "display(\n",
    "    # use the classifier to predict the validation set    \n",
    "    pd.DataFrame(classification_report(y_val, \n",
    "                                       log_pipe.predict(X_val), \n",
    "                                       labels=None,  \n",
    "                                       sample_weight=None, \n",
    "                                       digits=2, \n",
    "                                       output_dict=True)).round(2)\n",
    ")"
   ]
  },
  {
   "cell_type": "markdown",
   "id": "b3303f46",
   "metadata": {},
   "source": [
    "So we look like we are doing great on the training set but less well on the test (still pretty good considering!). This is a classic sign we have some overfitting... maybe we were just unlucky with our train/validation split and the validation set was just particularly hard to get right. As such lets do a cross-validation to check..."
   ]
  },
  {
   "cell_type": "markdown",
   "id": "012cdc9d",
   "metadata": {},
   "source": [
    "__TASK:__ Cross-validation - does this change your view?"
   ]
  },
  {
   "cell_type": "code",
   "execution_count": 142,
   "id": "6b60b3b3",
   "metadata": {},
   "outputs": [
    {
     "data": {
      "text/html": [
       "<div>\n",
       "<style scoped>\n",
       "    .dataframe tbody tr th:only-of-type {\n",
       "        vertical-align: middle;\n",
       "    }\n",
       "\n",
       "    .dataframe tbody tr th {\n",
       "        vertical-align: top;\n",
       "    }\n",
       "\n",
       "    .dataframe thead th {\n",
       "        text-align: right;\n",
       "    }\n",
       "</style>\n",
       "<table border=\"1\" class=\"dataframe\">\n",
       "  <thead>\n",
       "    <tr style=\"text-align: right;\">\n",
       "      <th></th>\n",
       "      <th>fit_time</th>\n",
       "      <th>score_time</th>\n",
       "      <th>test_score</th>\n",
       "      <th>train_score</th>\n",
       "    </tr>\n",
       "    <tr>\n",
       "      <th>fold</th>\n",
       "      <th></th>\n",
       "      <th></th>\n",
       "      <th></th>\n",
       "      <th></th>\n",
       "    </tr>\n",
       "  </thead>\n",
       "  <tbody>\n",
       "    <tr>\n",
       "      <th>0</th>\n",
       "      <td>0.75</td>\n",
       "      <td>0.04</td>\n",
       "      <td>0.84</td>\n",
       "      <td>0.97</td>\n",
       "    </tr>\n",
       "    <tr>\n",
       "      <th>1</th>\n",
       "      <td>0.70</td>\n",
       "      <td>0.04</td>\n",
       "      <td>0.84</td>\n",
       "      <td>0.97</td>\n",
       "    </tr>\n",
       "    <tr>\n",
       "      <th>2</th>\n",
       "      <td>0.76</td>\n",
       "      <td>0.04</td>\n",
       "      <td>0.83</td>\n",
       "      <td>0.97</td>\n",
       "    </tr>\n",
       "    <tr>\n",
       "      <th>3</th>\n",
       "      <td>0.74</td>\n",
       "      <td>0.03</td>\n",
       "      <td>0.84</td>\n",
       "      <td>0.97</td>\n",
       "    </tr>\n",
       "    <tr>\n",
       "      <th>4</th>\n",
       "      <td>0.69</td>\n",
       "      <td>0.03</td>\n",
       "      <td>0.84</td>\n",
       "      <td>0.97</td>\n",
       "    </tr>\n",
       "    <tr>\n",
       "      <th>mean</th>\n",
       "      <td>0.73</td>\n",
       "      <td>0.04</td>\n",
       "      <td>0.84</td>\n",
       "      <td>0.97</td>\n",
       "    </tr>\n",
       "    <tr>\n",
       "      <th>sd</th>\n",
       "      <td>0.03</td>\n",
       "      <td>0.00</td>\n",
       "      <td>0.00</td>\n",
       "      <td>0.00</td>\n",
       "    </tr>\n",
       "  </tbody>\n",
       "</table>\n",
       "</div>"
      ],
      "text/plain": [
       "      fit_time  score_time  test_score  train_score\n",
       "fold                                               \n",
       "0         0.75        0.04        0.84         0.97\n",
       "1         0.70        0.04        0.84         0.97\n",
       "2         0.76        0.04        0.83         0.97\n",
       "3         0.74        0.03        0.84         0.97\n",
       "4         0.69        0.03        0.84         0.97\n",
       "mean      0.73        0.04        0.84         0.97\n",
       "sd        0.03        0.00        0.00         0.00"
      ]
     },
     "execution_count": 142,
     "metadata": {},
     "output_type": "execute_result"
    }
   ],
   "source": [
    "from sklearn.model_selection import cross_validate\n",
    "from sklearn.metrics import make_scorer\n",
    "\n",
    "# tidy the output into a dataframe\n",
    "def tidy_scores(score_dict):\n",
    "    df = pd.DataFrame(score_dict)\n",
    "    df.loc['mean'] = df.mean()\n",
    "    df.loc['sd'] = df.std()\n",
    "    df.rename({\"test_r2\":\"val_r2\"}, axis=1, inplace=True)\n",
    "    df.rename({\"test_RMSE\":\"val_RMSE\"}, axis=1, inplace=True)\n",
    "    df.index.name = \"fold\"\n",
    "    return df.round(2)\n",
    "\n",
    "scores = cross_validate(log_pipe, \n",
    "                        X_train_full, y_train_full, \n",
    "                        cv=5,\n",
    "                        return_train_score=True)\n",
    "tidy_scores(scores)\n",
    "\n",
    "# ...looks the same as our validation set"
   ]
  },
  {
   "cell_type": "markdown",
   "id": "851264dc",
   "metadata": {},
   "source": [
    "__Task__: Quickly add in some of the preprocessing steps we previously looked at to see if you can improve performance whilst reducing the gap between the training and validation data\n",
    "\n",
    "__Note__\n",
    "- You can do a more systematic search later at the refinement stage"
   ]
  },
  {
   "cell_type": "code",
   "execution_count": 111,
   "id": "a9f99261",
   "metadata": {},
   "outputs": [
    {
     "data": {
      "text/html": [
       "<div>\n",
       "<style scoped>\n",
       "    .dataframe tbody tr th:only-of-type {\n",
       "        vertical-align: middle;\n",
       "    }\n",
       "\n",
       "    .dataframe tbody tr th {\n",
       "        vertical-align: top;\n",
       "    }\n",
       "\n",
       "    .dataframe thead th {\n",
       "        text-align: right;\n",
       "    }\n",
       "</style>\n",
       "<table border=\"1\" class=\"dataframe\">\n",
       "  <thead>\n",
       "    <tr style=\"text-align: right;\">\n",
       "      <th></th>\n",
       "      <th>0</th>\n",
       "      <th>1</th>\n",
       "      <th>accuracy</th>\n",
       "      <th>macro avg</th>\n",
       "      <th>weighted avg</th>\n",
       "    </tr>\n",
       "  </thead>\n",
       "  <tbody>\n",
       "    <tr>\n",
       "      <th>precision</th>\n",
       "      <td>0.96</td>\n",
       "      <td>0.96</td>\n",
       "      <td>0.96</td>\n",
       "      <td>0.96</td>\n",
       "      <td>0.96</td>\n",
       "    </tr>\n",
       "    <tr>\n",
       "      <th>recall</th>\n",
       "      <td>0.97</td>\n",
       "      <td>0.96</td>\n",
       "      <td>0.96</td>\n",
       "      <td>0.96</td>\n",
       "      <td>0.96</td>\n",
       "    </tr>\n",
       "    <tr>\n",
       "      <th>f1-score</th>\n",
       "      <td>0.97</td>\n",
       "      <td>0.96</td>\n",
       "      <td>0.96</td>\n",
       "      <td>0.96</td>\n",
       "      <td>0.96</td>\n",
       "    </tr>\n",
       "    <tr>\n",
       "      <th>support</th>\n",
       "      <td>8368.00</td>\n",
       "      <td>7664.00</td>\n",
       "      <td>0.96</td>\n",
       "      <td>16032.00</td>\n",
       "      <td>16032.00</td>\n",
       "    </tr>\n",
       "  </tbody>\n",
       "</table>\n",
       "</div>"
      ],
      "text/plain": [
       "                 0        1  accuracy  macro avg  weighted avg\n",
       "precision     0.96     0.96      0.96       0.96          0.96\n",
       "recall        0.97     0.96      0.96       0.96          0.96\n",
       "f1-score      0.97     0.96      0.96       0.96          0.96\n",
       "support    8368.00  7664.00      0.96   16032.00      16032.00"
      ]
     },
     "metadata": {},
     "output_type": "display_data"
    },
    {
     "data": {
      "text/html": [
       "<div>\n",
       "<style scoped>\n",
       "    .dataframe tbody tr th:only-of-type {\n",
       "        vertical-align: middle;\n",
       "    }\n",
       "\n",
       "    .dataframe tbody tr th {\n",
       "        vertical-align: top;\n",
       "    }\n",
       "\n",
       "    .dataframe thead th {\n",
       "        text-align: right;\n",
       "    }\n",
       "</style>\n",
       "<table border=\"1\" class=\"dataframe\">\n",
       "  <thead>\n",
       "    <tr style=\"text-align: right;\">\n",
       "      <th></th>\n",
       "      <th>0</th>\n",
       "      <th>1</th>\n",
       "      <th>accuracy</th>\n",
       "      <th>macro avg</th>\n",
       "      <th>weighted avg</th>\n",
       "    </tr>\n",
       "  </thead>\n",
       "  <tbody>\n",
       "    <tr>\n",
       "      <th>precision</th>\n",
       "      <td>0.85</td>\n",
       "      <td>0.83</td>\n",
       "      <td>0.84</td>\n",
       "      <td>0.84</td>\n",
       "      <td>0.84</td>\n",
       "    </tr>\n",
       "    <tr>\n",
       "      <th>recall</th>\n",
       "      <td>0.85</td>\n",
       "      <td>0.83</td>\n",
       "      <td>0.84</td>\n",
       "      <td>0.84</td>\n",
       "      <td>0.84</td>\n",
       "    </tr>\n",
       "    <tr>\n",
       "      <th>f1-score</th>\n",
       "      <td>0.85</td>\n",
       "      <td>0.83</td>\n",
       "      <td>0.84</td>\n",
       "      <td>0.84</td>\n",
       "      <td>0.84</td>\n",
       "    </tr>\n",
       "    <tr>\n",
       "      <th>support</th>\n",
       "      <td>2831.00</td>\n",
       "      <td>2514.00</td>\n",
       "      <td>0.84</td>\n",
       "      <td>5345.00</td>\n",
       "      <td>5345.00</td>\n",
       "    </tr>\n",
       "  </tbody>\n",
       "</table>\n",
       "</div>"
      ],
      "text/plain": [
       "                 0        1  accuracy  macro avg  weighted avg\n",
       "precision     0.85     0.83      0.84       0.84          0.84\n",
       "recall        0.85     0.83      0.84       0.84          0.84\n",
       "f1-score      0.85     0.83      0.84       0.84          0.84\n",
       "support    2831.00  2514.00      0.84    5345.00       5345.00"
      ]
     },
     "metadata": {},
     "output_type": "display_data"
    }
   ],
   "source": [
    "# This is an example you could look at which does improve things very slightly \n",
    "# but not by much...\n",
    "log_pipe = Pipeline([\n",
    "    (\"vect\", CountVectorizer(analyzer=create_lemmas, decode_error='replace')),\n",
    "    (\"model\", LogisticRegression(max_iter=1000, random_state=42))\n",
    "])\n",
    "\n",
    "log_pipe.fit(X_train, y_train)\n",
    "\n",
    "display(\n",
    "    # use the classifier to predict the validation set    \n",
    "    pd.DataFrame(classification_report(y_train, \n",
    "                                       log_pipe.predict(X_train), \n",
    "                                       labels=None,  \n",
    "                                       sample_weight=None, \n",
    "                                       digits=2, \n",
    "                                       output_dict=True)).round(2)\n",
    ")\n",
    "\n",
    "display(\n",
    "    # use the classifier to predict the validation set    \n",
    "    pd.DataFrame(classification_report(y_val, \n",
    "                                       log_pipe.predict(X_val), \n",
    "                                       labels=None,  \n",
    "                                       sample_weight=None, \n",
    "                                       digits=2, \n",
    "                                       output_dict=True)).round(2)\n",
    ")"
   ]
  },
  {
   "cell_type": "markdown",
   "id": "d4e7af96",
   "metadata": {},
   "source": [
    "Lets try some other models to see if there is an obvious model to focus our effort on. We want to here try some quick and dirty models from different categories (e.g., linear, naive, Bayes, SVM, Random Forests, neural net, etc.) using standard parameters.\n",
    "\n",
    "__Note__\n",
    "- You may want to sample smaller training sets so you can train many different models in a reasonable time although keeping in mind that this penalizes complex models such as large neural nets or Random Forests. Just increase `train_size = 0.3` until it takes a bit too long!"
   ]
  },
  {
   "cell_type": "code",
   "execution_count": 159,
   "id": "a38f8d44",
   "metadata": {},
   "outputs": [
    {
     "name": "stdout",
     "output_type": "stream",
     "text": [
      "Collecting xgboost\n",
      "  Downloading xgboost-1.6.1-py3-none-win_amd64.whl (125.4 MB)\n",
      "Requirement already satisfied: scipy in c:\\users\\david_elliott\\anaconda3\\envs\\ds4_new\\lib\\site-packages (from xgboost) (1.8.1)\n",
      "Requirement already satisfied: numpy in c:\\users\\david_elliott\\anaconda3\\envs\\ds4_new\\lib\\site-packages (from xgboost) (1.22.4)\n",
      "Installing collected packages: xgboost\n",
      "Successfully installed xgboost-1.6.1\n"
     ]
    }
   ],
   "source": [
    "#!{sys.executable} -m pip install xgboost"
   ]
  },
  {
   "cell_type": "code",
   "execution_count": 176,
   "id": "3ebd6207",
   "metadata": {
    "scrolled": true
   },
   "outputs": [
    {
     "name": "stdout",
     "output_type": "stream",
     "text": [
      "Logistic Regression\n",
      "KNN\n",
      "Forest\n",
      "XGBoost\n"
     ]
    },
    {
     "data": {
      "text/html": [
       "<div>\n",
       "<style scoped>\n",
       "    .dataframe tbody tr th:only-of-type {\n",
       "        vertical-align: middle;\n",
       "    }\n",
       "\n",
       "    .dataframe tbody tr th {\n",
       "        vertical-align: top;\n",
       "    }\n",
       "\n",
       "    .dataframe thead th {\n",
       "        text-align: right;\n",
       "    }\n",
       "</style>\n",
       "<table border=\"1\" class=\"dataframe\">\n",
       "  <thead>\n",
       "    <tr style=\"text-align: right;\">\n",
       "      <th></th>\n",
       "      <th>fit_time</th>\n",
       "      <th>score_time</th>\n",
       "      <th>test_accuracy</th>\n",
       "      <th>train_accuracy</th>\n",
       "      <th>test_precision</th>\n",
       "      <th>train_precision</th>\n",
       "      <th>test_recall</th>\n",
       "      <th>train_recall</th>\n",
       "    </tr>\n",
       "  </thead>\n",
       "  <tbody>\n",
       "    <tr>\n",
       "      <th>Logistic Regression</th>\n",
       "      <td>0.68</td>\n",
       "      <td>0.07</td>\n",
       "      <td>0.83</td>\n",
       "      <td>0.97</td>\n",
       "      <td>0.83</td>\n",
       "      <td>0.97</td>\n",
       "      <td>0.82</td>\n",
       "      <td>0.97</td>\n",
       "    </tr>\n",
       "    <tr>\n",
       "      <th>KNN</th>\n",
       "      <td>0.19</td>\n",
       "      <td>3.17</td>\n",
       "      <td>0.59</td>\n",
       "      <td>0.69</td>\n",
       "      <td>0.73</td>\n",
       "      <td>0.90</td>\n",
       "      <td>0.23</td>\n",
       "      <td>0.40</td>\n",
       "    </tr>\n",
       "    <tr>\n",
       "      <th>Forest</th>\n",
       "      <td>10.50</td>\n",
       "      <td>0.60</td>\n",
       "      <td>0.80</td>\n",
       "      <td>1.00</td>\n",
       "      <td>0.77</td>\n",
       "      <td>1.00</td>\n",
       "      <td>0.83</td>\n",
       "      <td>1.00</td>\n",
       "    </tr>\n",
       "    <tr>\n",
       "      <th>XGBoost</th>\n",
       "      <td>0.82</td>\n",
       "      <td>0.12</td>\n",
       "      <td>0.79</td>\n",
       "      <td>0.83</td>\n",
       "      <td>0.74</td>\n",
       "      <td>0.78</td>\n",
       "      <td>0.85</td>\n",
       "      <td>0.89</td>\n",
       "    </tr>\n",
       "  </tbody>\n",
       "</table>\n",
       "</div>"
      ],
      "text/plain": [
       "                     fit_time  score_time  test_accuracy  train_accuracy  \\\n",
       "Logistic Regression      0.68        0.07           0.83            0.97   \n",
       "KNN                      0.19        3.17           0.59            0.69   \n",
       "Forest                  10.50        0.60           0.80            1.00   \n",
       "XGBoost                  0.82        0.12           0.79            0.83   \n",
       "\n",
       "                     test_precision  train_precision  test_recall  \\\n",
       "Logistic Regression            0.83             0.97         0.82   \n",
       "KNN                            0.73             0.90         0.23   \n",
       "Forest                         0.77             1.00         0.83   \n",
       "XGBoost                        0.74             0.78         0.85   \n",
       "\n",
       "                     train_recall  \n",
       "Logistic Regression          0.97  \n",
       "KNN                          0.40  \n",
       "Forest                       1.00  \n",
       "XGBoost                      0.89  "
      ]
     },
     "metadata": {},
     "output_type": "display_data"
    }
   ],
   "source": [
    "from sklearn.svm import SVC, LinearSVC\n",
    "from sklearn.neighbors import KNeighborsClassifier\n",
    "from sklearn.ensemble import RandomForestClassifier\n",
    "from sklearn.neural_network import MLPClassifier\n",
    "from xgboost import XGBClassifier\n",
    "\n",
    "REDUCE = False\n",
    "\n",
    "if REDUCE:\n",
    "    X_train_small, _, y_train_small, _ = train_test_split(X_train_full, y_train_full, \n",
    "                                                          train_size = 0.5,\n",
    "                                                          random_state=1)\n",
    "    X_ = X_train_small\n",
    "    y_ = y_train_small\n",
    "else:\n",
    "    X_ = X_train_full\n",
    "    y_ = y_train_full\n",
    "\n",
    "models_dict = {\n",
    "    \"Logistic Regression\": LogisticRegression(max_iter=1000, random_state=42),\n",
    "    \"KNN\": KNeighborsClassifier(),\n",
    "    #\"SVC\":SVC(random_state=42),                      # for the patient\n",
    "    \"Forest\": RandomForestClassifier(random_state=42),\n",
    "    \"XGBoost\": XGBClassifier(random_state=42)\n",
    "    #\"MLP\": MLPClassifier(random_state=42),           # for the patient\n",
    "}\n",
    "\n",
    "for i, model_name in enumerate(models_dict):\n",
    "    \n",
    "    pipe = Pipeline([\n",
    "        (\"vect\", CountVectorizer()),\n",
    "        (\"model\", models_dict[model_name])\n",
    "    ])\n",
    "\n",
    "    scores = cross_validate(pipe, \n",
    "                            X_, y_, \n",
    "                            cv=3,\n",
    "                            return_train_score=True,\n",
    "                            scoring=[\"accuracy\", \"precision\", \"recall\"]\n",
    "                            #verbose=2\n",
    "                           )\n",
    "    print(model_name + \" completed\")\n",
    "    \n",
    "    mean_score = tidy_scores(scores).loc[\"mean\"].to_frame(name=model_name)\n",
    "    if i == 0:\n",
    "        mean_scores = mean_score\n",
    "    else:\n",
    "        mean_scores = pd.concat([mean_scores, mean_score], axis=1)\n",
    "    \n",
    "display(mean_scores.T)"
   ]
  },
  {
   "cell_type": "markdown",
   "id": "27e48d0f",
   "metadata": {},
   "source": [
    "So from above we can probably safely rule out KNN at this stage. We may also want to focus on other models other than Forests (in favour for XGBoost for example) just because of that training time and overfitting - although this will likely be able to be reduced with less model complexity."
   ]
  },
  {
   "cell_type": "markdown",
   "id": "795a4d27",
   "metadata": {},
   "source": [
    "# Feature Extraction pt. 2\n",
    "\n",
    "The process of model building is not linear but cyclical. You may want to go back after finding a model and working on some more feature extraction. Lets now do this to compare some new techniques.\n",
    "\n",
    "- TF–IDF [EXPLAIN]"
   ]
  },
  {
   "cell_type": "code",
   "execution_count": 178,
   "id": "20ccc293",
   "metadata": {},
   "outputs": [],
   "source": [
    "from sklearn.feature_extraction.text import TfidfVectorizer\n",
    "\n",
    "tfvect = TfidfVectorizer()"
   ]
  },
  {
   "cell_type": "code",
   "execution_count": 179,
   "id": "4da31de1",
   "metadata": {},
   "outputs": [
    {
     "name": "stdout",
     "output_type": "stream",
     "text": [
      "Logistic Regression completed\n",
      "XGBoost completed\n"
     ]
    },
    {
     "data": {
      "text/html": [
       "<div>\n",
       "<style scoped>\n",
       "    .dataframe tbody tr th:only-of-type {\n",
       "        vertical-align: middle;\n",
       "    }\n",
       "\n",
       "    .dataframe tbody tr th {\n",
       "        vertical-align: top;\n",
       "    }\n",
       "\n",
       "    .dataframe thead th {\n",
       "        text-align: right;\n",
       "    }\n",
       "</style>\n",
       "<table border=\"1\" class=\"dataframe\">\n",
       "  <thead>\n",
       "    <tr style=\"text-align: right;\">\n",
       "      <th></th>\n",
       "      <th>fit_time</th>\n",
       "      <th>score_time</th>\n",
       "      <th>test_accuracy</th>\n",
       "      <th>train_accuracy</th>\n",
       "      <th>test_precision</th>\n",
       "      <th>train_precision</th>\n",
       "      <th>test_recall</th>\n",
       "      <th>train_recall</th>\n",
       "    </tr>\n",
       "  </thead>\n",
       "  <tbody>\n",
       "    <tr>\n",
       "      <th>Logistic Regression</th>\n",
       "      <td>0.33</td>\n",
       "      <td>0.08</td>\n",
       "      <td>0.83</td>\n",
       "      <td>0.91</td>\n",
       "      <td>0.81</td>\n",
       "      <td>0.90</td>\n",
       "      <td>0.84</td>\n",
       "      <td>0.92</td>\n",
       "    </tr>\n",
       "    <tr>\n",
       "      <th>XGBoost</th>\n",
       "      <td>1.23</td>\n",
       "      <td>0.10</td>\n",
       "      <td>0.79</td>\n",
       "      <td>0.86</td>\n",
       "      <td>0.75</td>\n",
       "      <td>0.81</td>\n",
       "      <td>0.83</td>\n",
       "      <td>0.92</td>\n",
       "    </tr>\n",
       "  </tbody>\n",
       "</table>\n",
       "</div>"
      ],
      "text/plain": [
       "                     fit_time  score_time  test_accuracy  train_accuracy  \\\n",
       "Logistic Regression      0.33        0.08           0.83            0.91   \n",
       "XGBoost                  1.23        0.10           0.79            0.86   \n",
       "\n",
       "                     test_precision  train_precision  test_recall  \\\n",
       "Logistic Regression            0.81             0.90         0.84   \n",
       "XGBoost                        0.75             0.81         0.83   \n",
       "\n",
       "                     train_recall  \n",
       "Logistic Regression          0.92  \n",
       "XGBoost                      0.92  "
      ]
     },
     "metadata": {},
     "output_type": "display_data"
    }
   ],
   "source": [
    "for i, model_name in enumerate(models_dict):\n",
    "    \n",
    "    pipe = Pipeline([\n",
    "        (\"vect\", TfidfVectorizer()),\n",
    "        (\"model\", models_dict[model_name])\n",
    "    ])\n",
    "\n",
    "    scores = cross_validate(pipe, \n",
    "                            X_, y_, \n",
    "                            cv=3,\n",
    "                            return_train_score=True,\n",
    "                            scoring=[\"accuracy\", \"precision\", \"recall\"]\n",
    "                            #verbose=2\n",
    "                           )\n",
    "    print(model_name + \" completed\")\n",
    "    \n",
    "    mean_score = tidy_scores(scores).loc[\"mean\"].to_frame(name=model_name)\n",
    "    if i == 0:\n",
    "        mean_scores = mean_score\n",
    "    else:\n",
    "        mean_scores = pd.concat([mean_scores, mean_score], axis=1)\n",
    "    \n",
    "display(mean_scores.T)"
   ]
  },
  {
   "cell_type": "markdown",
   "id": "834d3ac7",
   "metadata": {},
   "source": [
    "# Model Refinement\n",
    "\n",
    "__Task:__ Use a hyperparameter search method (e.g. GridSearch, RandomSearch) to automate this search for optimal hyperparamters."
   ]
  },
  {
   "cell_type": "code",
   "execution_count": 140,
   "id": "ea89078e",
   "metadata": {
    "scrolled": true
   },
   "outputs": [
    {
     "name": "stdout",
     "output_type": "stream",
     "text": [
      "Fitting 3 folds for each of 50 candidates, totalling 150 fits\n",
      "[CV] END model__C=0.3845401188473625, vect__max_df=1.0, vect__stop_words=None; total time=   0.4s\n",
      "[CV] END model__C=0.3845401188473625, vect__max_df=1.0, vect__stop_words=None; total time=   0.5s\n",
      "[CV] END model__C=0.3845401188473625, vect__max_df=1.0, vect__stop_words=None; total time=   0.4s\n",
      "[CV] END model__C=0.7419939418114051, vect__max_df=1.0, vect__stop_words=None; total time=   0.5s\n",
      "[CV] END model__C=0.7419939418114051, vect__max_df=1.0, vect__stop_words=None; total time=   0.5s\n",
      "[CV] END model__C=0.7419939418114051, vect__max_df=1.0, vect__stop_words=None; total time=   0.6s\n",
      "[CV] END model__C=0.16601864044243653, vect__max_df=1.0, vect__stop_words=None; total time=   0.4s\n",
      "[CV] END model__C=0.16601864044243653, vect__max_df=1.0, vect__stop_words=None; total time=   0.4s\n",
      "[CV] END model__C=0.16601864044243653, vect__max_df=1.0, vect__stop_words=None; total time=   0.4s\n",
      "[CV] END model__C=0.06808361216819946, vect__max_df=0.04754152112067281, vect__stop_words=None; total time=   0.2s\n",
      "[CV] END model__C=0.06808361216819946, vect__max_df=0.04754152112067281, vect__stop_words=None; total time=   0.2s\n",
      "[CV] END model__C=0.06808361216819946, vect__max_df=0.04754152112067281, vect__stop_words=None; total time=   0.2s\n",
      "[CV] END model__C=0.6111150117432088, vect__max_df=0.04754152112067281, vect__stop_words=None; total time=   0.4s\n",
      "[CV] END model__C=0.6111150117432088, vect__max_df=0.04754152112067281, vect__stop_words=None; total time=   0.4s\n",
      "[CV] END model__C=0.6111150117432088, vect__max_df=0.04754152112067281, vect__stop_words=None; total time=   0.4s\n",
      "[CV] END model__C=0.03058449429580245, vect__max_df=0.04754152112067281, vect__stop_words=english; total time=   0.4s\n",
      "[CV] END model__C=0.03058449429580245, vect__max_df=0.04754152112067281, vect__stop_words=english; total time=   0.2s\n",
      "[CV] END model__C=0.03058449429580245, vect__max_df=0.04754152112067281, vect__stop_words=english; total time=   0.2s\n",
      "[CV] END model__C=0.8424426408004217, vect__max_df=0.04754152112067281, vect__stop_words=english; total time=   0.3s\n",
      "[CV] END model__C=0.8424426408004217, vect__max_df=0.04754152112067281, vect__stop_words=english; total time=   0.3s\n",
      "[CV] END model__C=0.8424426408004217, vect__max_df=0.04754152112067281, vect__stop_words=english; total time=   0.3s\n",
      "[CV] END model__C=0.19182496720710063, vect__max_df=1.0, vect__stop_words=None; total time=   0.4s\n",
      "[CV] END model__C=0.19182496720710063, vect__max_df=1.0, vect__stop_words=None; total time=   0.4s\n",
      "[CV] END model__C=0.19182496720710063, vect__max_df=1.0, vect__stop_words=None; total time=   0.4s\n",
      "[CV] END model__C=0.31424224295953773, vect__max_df=0.04754152112067281, vect__stop_words=None; total time=   0.4s\n",
      "[CV] END model__C=0.31424224295953773, vect__max_df=0.04754152112067281, vect__stop_words=None; total time=   0.4s\n",
      "[CV] END model__C=0.31424224295953773, vect__max_df=0.04754152112067281, vect__stop_words=None; total time=   0.3s\n",
      "[CV] END model__C=0.4419450186421158, vect__max_df=1.0, vect__stop_words=None; total time=   0.5s\n",
      "[CV] END model__C=0.4419450186421158, vect__max_df=1.0, vect__stop_words=None; total time=   0.5s\n",
      "[CV] END model__C=0.4419450186421158, vect__max_df=1.0, vect__stop_words=None; total time=   0.5s\n",
      "[CV] END model__C=0.6218528947223795, vect__max_df=0.04754152112067281, vect__stop_words=english; total time=   0.4s\n",
      "[CV] END model__C=0.6218528947223795, vect__max_df=0.04754152112067281, vect__stop_words=english; total time=   0.3s\n",
      "[CV] END model__C=0.6218528947223795, vect__max_df=0.04754152112067281, vect__stop_words=english; total time=   0.3s\n",
      "[CV] END model__C=0.30214464853521816, vect__max_df=0.04754152112067281, vect__stop_words=None; total time=   0.3s\n",
      "[CV] END model__C=0.30214464853521816, vect__max_df=0.04754152112067281, vect__stop_words=None; total time=   0.6s\n",
      "[CV] END model__C=0.30214464853521816, vect__max_df=0.04754152112067281, vect__stop_words=None; total time=   0.5s\n",
      "[CV] END model__C=0.46606998421703594, vect__max_df=1.0, vect__stop_words=english; total time=   0.4s\n",
      "[CV] END model__C=0.46606998421703594, vect__max_df=1.0, vect__stop_words=english; total time=   0.4s\n",
      "[CV] END model__C=0.46606998421703594, vect__max_df=1.0, vect__stop_words=english; total time=   0.4s\n",
      "[CV] END model__C=0.20967378215835974, vect__max_df=1.0, vect__stop_words=english; total time=   0.3s\n",
      "[CV] END model__C=0.20967378215835974, vect__max_df=1.0, vect__stop_words=english; total time=   0.3s\n",
      "[CV] END model__C=0.20967378215835974, vect__max_df=1.0, vect__stop_words=english; total time=   0.3s\n",
      "[CV] END model__C=0.6024145688620425, vect__max_df=1.0, vect__stop_words=None; total time=   0.5s\n",
      "[CV] END model__C=0.6024145688620425, vect__max_df=1.0, vect__stop_words=None; total time=   0.5s\n",
      "[CV] END model__C=0.6024145688620425, vect__max_df=1.0, vect__stop_words=None; total time=   0.5s\n",
      "[CV] END model__C=0.6175448519014384, vect__max_df=1.0, vect__stop_words=None; total time=   0.5s\n",
      "[CV] END model__C=0.6175448519014384, vect__max_df=1.0, vect__stop_words=None; total time=   0.5s\n",
      "[CV] END model__C=0.6175448519014384, vect__max_df=1.0, vect__stop_words=None; total time=   0.5s\n",
      "[CV] END model__C=0.07505159298527951, vect__max_df=0.04754152112067281, vect__stop_words=None; total time=   0.3s\n",
      "[CV] END model__C=0.07505159298527951, vect__max_df=0.04754152112067281, vect__stop_words=None; total time=   0.3s\n",
      "[CV] END model__C=0.07505159298527951, vect__max_df=0.04754152112067281, vect__stop_words=None; total time=   0.2s\n",
      "[CV] END model__C=0.9756320330745594, vect__max_df=0.04754152112067281, vect__stop_words=english; total time=   0.3s\n",
      "[CV] END model__C=0.9756320330745594, vect__max_df=0.04754152112067281, vect__stop_words=english; total time=   0.4s\n",
      "[CV] END model__C=0.9756320330745594, vect__max_df=0.04754152112067281, vect__stop_words=english; total time=   0.7s\n",
      "[CV] END model__C=0.3146137691733707, vect__max_df=1.0, vect__stop_words=english; total time=   0.4s\n",
      "[CV] END model__C=0.3146137691733707, vect__max_df=1.0, vect__stop_words=english; total time=   0.3s\n",
      "[CV] END model__C=0.3146137691733707, vect__max_df=1.0, vect__stop_words=english; total time=   0.4s\n",
      "[CV] END model__C=0.6942330265121569, vect__max_df=1.0, vect__stop_words=english; total time=   0.4s\n",
      "[CV] END model__C=0.6942330265121569, vect__max_df=1.0, vect__stop_words=english; total time=   0.4s\n",
      "[CV] END model__C=0.6942330265121569, vect__max_df=1.0, vect__stop_words=english; total time=   0.4s\n",
      "[CV] END model__C=0.13203823484477883, vect__max_df=1.0, vect__stop_words=english; total time=   0.3s\n",
      "[CV] END model__C=0.13203823484477883, vect__max_df=1.0, vect__stop_words=english; total time=   0.3s\n",
      "[CV] END model__C=0.13203823484477883, vect__max_df=1.0, vect__stop_words=english; total time=   0.4s\n",
      "[CV] END model__C=0.0443885211152184, vect__max_df=0.04754152112067281, vect__stop_words=None; total time=   0.2s\n",
      "[CV] END model__C=0.0443885211152184, vect__max_df=0.04754152112067281, vect__stop_words=None; total time=   0.3s\n",
      "[CV] END model__C=0.0443885211152184, vect__max_df=0.04754152112067281, vect__stop_words=None; total time=   0.2s\n",
      "[CV] END model__C=0.2687799816000169, vect__max_df=0.04754152112067281, vect__stop_words=english; total time=   0.3s\n",
      "[CV] END model__C=0.2687799816000169, vect__max_df=0.04754152112067281, vect__stop_words=english; total time=   0.3s\n",
      "[CV] END model__C=0.2687799816000169, vect__max_df=0.04754152112067281, vect__stop_words=english; total time=   0.3s\n",
      "[CV] END model__C=0.32171107608941096, vect__max_df=0.04754152112067281, vect__stop_words=english; total time=   0.3s\n",
      "[CV] END model__C=0.32171107608941096, vect__max_df=0.04754152112067281, vect__stop_words=english; total time=   0.3s\n",
      "[CV] END model__C=0.32171107608941096, vect__max_df=0.04754152112067281, vect__stop_words=english; total time=   0.6s\n",
      "[CV] END model__C=0.5567102793432797, vect__max_df=0.04754152112067281, vect__stop_words=None; total time=   0.4s\n",
      "[CV] END model__C=0.5567102793432797, vect__max_df=0.04754152112067281, vect__stop_words=None; total time=   0.6s\n",
      "[CV] END model__C=0.5567102793432797, vect__max_df=0.04754152112067281, vect__stop_words=None; total time=   0.4s\n",
      "[CV] END model__C=0.9795846277645586, vect__max_df=0.04754152112067281, vect__stop_words=english; total time=   0.4s\n"
     ]
    },
    {
     "name": "stdout",
     "output_type": "stream",
     "text": [
      "[CV] END model__C=0.9795846277645586, vect__max_df=0.04754152112067281, vect__stop_words=english; total time=   0.4s\n",
      "[CV] END model__C=0.9795846277645586, vect__max_df=0.04754152112067281, vect__stop_words=english; total time=   0.3s\n",
      "[CV] END model__C=0.9494989415641891, vect__max_df=0.04754152112067281, vect__stop_words=english; total time=   0.5s\n",
      "[CV] END model__C=0.9494989415641891, vect__max_df=0.04754152112067281, vect__stop_words=english; total time=   0.4s\n",
      "[CV] END model__C=0.9494989415641891, vect__max_df=0.04754152112067281, vect__stop_words=english; total time=   0.4s\n",
      "[CV] END model__C=0.6078999788110852, vect__max_df=0.04754152112067281, vect__stop_words=None; total time=   0.4s\n",
      "[CV] END model__C=0.6078999788110852, vect__max_df=0.04754152112067281, vect__stop_words=None; total time=   0.4s\n",
      "[CV] END model__C=0.6078999788110852, vect__max_df=0.04754152112067281, vect__stop_words=None; total time=   0.5s\n",
      "[CV] END model__C=0.09849250205191949, vect__max_df=1.0, vect__stop_words=english; total time=   0.3s\n",
      "[CV] END model__C=0.09849250205191949, vect__max_df=1.0, vect__stop_words=english; total time=   0.3s\n",
      "[CV] END model__C=0.09849250205191949, vect__max_df=1.0, vect__stop_words=english; total time=   0.3s\n",
      "[CV] END model__C=0.05522728891053807, vect__max_df=0.04754152112067281, vect__stop_words=None; total time=   0.3s\n",
      "[CV] END model__C=0.05522728891053807, vect__max_df=0.04754152112067281, vect__stop_words=None; total time=   0.3s\n",
      "[CV] END model__C=0.05522728891053807, vect__max_df=0.04754152112067281, vect__stop_words=None; total time=   0.9s\n",
      "[CV] END model__C=0.398677289689482, vect__max_df=0.04754152112067281, vect__stop_words=None; total time=   0.4s\n",
      "[CV] END model__C=0.398677289689482, vect__max_df=0.04754152112067281, vect__stop_words=None; total time=   0.4s\n",
      "[CV] END model__C=0.398677289689482, vect__max_df=0.04754152112067281, vect__stop_words=None; total time=   0.4s\n",
      "[CV] END model__C=0.8387375091519294, vect__max_df=0.04754152112067281, vect__stop_words=None; total time=   0.7s\n",
      "[CV] END model__C=0.8387375091519294, vect__max_df=0.04754152112067281, vect__stop_words=None; total time=   0.4s\n",
      "[CV] END model__C=0.8387375091519294, vect__max_df=0.04754152112067281, vect__stop_words=None; total time=   0.5s\n",
      "[CV] END model__C=0.29093450968738077, vect__max_df=0.04754152112067281, vect__stop_words=None; total time=   0.3s\n",
      "[CV] END model__C=0.29093450968738077, vect__max_df=0.04754152112067281, vect__stop_words=None; total time=   0.4s\n",
      "[CV] END model__C=0.29093450968738077, vect__max_df=0.04754152112067281, vect__stop_words=None; total time=   0.6s\n",
      "[CV] END model__C=0.15092422497476266, vect__max_df=1.0, vect__stop_words=None; total time=   0.4s\n",
      "[CV] END model__C=0.15092422497476266, vect__max_df=1.0, vect__stop_words=None; total time=   0.4s\n",
      "[CV] END model__C=0.15092422497476266, vect__max_df=1.0, vect__stop_words=None; total time=   0.4s\n",
      "[CV] END model__C=0.08455064367977082, vect__max_df=1.0, vect__stop_words=None; total time=   0.4s\n",
      "[CV] END model__C=0.08455064367977082, vect__max_df=1.0, vect__stop_words=None; total time=   0.3s\n",
      "[CV] END model__C=0.08455064367977082, vect__max_df=1.0, vect__stop_words=None; total time=   0.3s\n",
      "[CV] END model__C=0.7822447692966574, vect__max_df=0.04754152112067281, vect__stop_words=english; total time=   0.4s\n",
      "[CV] END model__C=0.7822447692966574, vect__max_df=0.04754152112067281, vect__stop_words=english; total time=   0.4s\n",
      "[CV] END model__C=0.7822447692966574, vect__max_df=0.04754152112067281, vect__stop_words=english; total time=   0.3s\n",
      "[CV] END model__C=0.0155221171236024, vect__max_df=1.0, vect__stop_words=None; total time=   0.4s\n",
      "[CV] END model__C=0.0155221171236024, vect__max_df=1.0, vect__stop_words=None; total time=   0.2s\n",
      "[CV] END model__C=0.0155221171236024, vect__max_df=1.0, vect__stop_words=None; total time=   0.3s\n",
      "[CV] END model__C=0.7168573438476171, vect__max_df=1.0, vect__stop_words=None; total time=   0.9s\n",
      "[CV] END model__C=0.7168573438476171, vect__max_df=1.0, vect__stop_words=None; total time=   0.6s\n",
      "[CV] END model__C=0.7168573438476171, vect__max_df=1.0, vect__stop_words=None; total time=   0.5s\n",
      "[CV] END model__C=0.7812703466859457, vect__max_df=1.0, vect__stop_words=english; total time=   0.5s\n",
      "[CV] END model__C=0.7812703466859457, vect__max_df=1.0, vect__stop_words=english; total time=   0.5s\n",
      "[CV] END model__C=0.7812703466859457, vect__max_df=1.0, vect__stop_words=english; total time=   0.6s\n",
      "[CV] END model__C=0.3684657285442726, vect__max_df=1.0, vect__stop_words=english; total time=   0.6s\n",
      "[CV] END model__C=0.3684657285442726, vect__max_df=1.0, vect__stop_words=english; total time=   0.6s\n",
      "[CV] END model__C=0.3684657285442726, vect__max_df=1.0, vect__stop_words=english; total time=   0.5s\n",
      "[CV] END model__C=0.8731034258755935, vect__max_df=0.04754152112067281, vect__stop_words=english; total time=   0.5s\n",
      "[CV] END model__C=0.8731034258755935, vect__max_df=0.04754152112067281, vect__stop_words=english; total time=   0.4s\n",
      "[CV] END model__C=0.8731034258755935, vect__max_df=0.04754152112067281, vect__stop_words=english; total time=   0.3s\n",
      "[CV] END model__C=0.3408980248526492, vect__max_df=0.04754152112067281, vect__stop_words=None; total time=   0.3s\n",
      "[CV] END model__C=0.3408980248526492, vect__max_df=0.04754152112067281, vect__stop_words=None; total time=   0.4s\n",
      "[CV] END model__C=0.3408980248526492, vect__max_df=0.04754152112067281, vect__stop_words=None; total time=   0.5s\n",
      "[CV] END model__C=0.3209823217156622, vect__max_df=0.04754152112067281, vect__stop_words=None; total time=   0.4s\n",
      "[CV] END model__C=0.3209823217156622, vect__max_df=0.04754152112067281, vect__stop_words=None; total time=   0.8s\n",
      "[CV] END model__C=0.3209823217156622, vect__max_df=0.04754152112067281, vect__stop_words=None; total time=   0.4s\n",
      "[CV] END model__C=0.7396061783380641, vect__max_df=0.04754152112067281, vect__stop_words=english; total time=   0.3s\n",
      "[CV] END model__C=0.7396061783380641, vect__max_df=0.04754152112067281, vect__stop_words=english; total time=   0.4s\n",
      "[CV] END model__C=0.7396061783380641, vect__max_df=0.04754152112067281, vect__stop_words=english; total time=   0.3s\n",
      "[CV] END model__C=0.8972127425763265, vect__max_df=1.0, vect__stop_words=None; total time=   0.6s\n",
      "[CV] END model__C=0.8972127425763265, vect__max_df=1.0, vect__stop_words=None; total time=   0.6s\n",
      "[CV] END model__C=0.8972127425763265, vect__max_df=1.0, vect__stop_words=None; total time=   0.7s\n",
      "[CV] END model__C=0.1295942459383017, vect__max_df=0.04754152112067281, vect__stop_words=None; total time=   0.3s\n",
      "[CV] END model__C=0.1295942459383017, vect__max_df=0.04754152112067281, vect__stop_words=None; total time=   0.3s\n",
      "[CV] END model__C=0.1295942459383017, vect__max_df=0.04754152112067281, vect__stop_words=None; total time=   0.3s\n",
      "[CV] END model__C=0.7707850486168975, vect__max_df=0.04754152112067281, vect__stop_words=None; total time=   0.4s\n",
      "[CV] END model__C=0.7707850486168975, vect__max_df=0.04754152112067281, vect__stop_words=None; total time=   0.5s\n",
      "[CV] END model__C=0.7707850486168975, vect__max_df=0.04754152112067281, vect__stop_words=None; total time=   0.5s\n",
      "[CV] END model__C=0.780967179954561, vect__max_df=1.0, vect__stop_words=None; total time=   0.6s\n",
      "[CV] END model__C=0.780967179954561, vect__max_df=1.0, vect__stop_words=None; total time=   0.6s\n",
      "[CV] END model__C=0.780967179954561, vect__max_df=1.0, vect__stop_words=None; total time=   0.6s\n",
      "[CV] END model__C=0.5327328293819941, vect__max_df=1.0, vect__stop_words=english; total time=   0.4s\n",
      "[CV] END model__C=0.5327328293819941, vect__max_df=1.0, vect__stop_words=english; total time=   0.6s\n",
      "[CV] END model__C=0.5327328293819941, vect__max_df=1.0, vect__stop_words=english; total time=   0.5s\n",
      "[CV] END model__C=0.03541912674409519, vect__max_df=1.0, vect__stop_words=None; total time=   0.4s\n",
      "[CV] END model__C=0.03541912674409519, vect__max_df=1.0, vect__stop_words=None; total time=   0.4s\n",
      "[CV] END model__C=0.03541912674409519, vect__max_df=1.0, vect__stop_words=None; total time=   0.2s\n"
     ]
    },
    {
     "data": {
      "text/html": [
       "<style>#sk-container-id-9 {color: black;background-color: white;}#sk-container-id-9 pre{padding: 0;}#sk-container-id-9 div.sk-toggleable {background-color: white;}#sk-container-id-9 label.sk-toggleable__label {cursor: pointer;display: block;width: 100%;margin-bottom: 0;padding: 0.3em;box-sizing: border-box;text-align: center;}#sk-container-id-9 label.sk-toggleable__label-arrow:before {content: \"▸\";float: left;margin-right: 0.25em;color: #696969;}#sk-container-id-9 label.sk-toggleable__label-arrow:hover:before {color: black;}#sk-container-id-9 div.sk-estimator:hover label.sk-toggleable__label-arrow:before {color: black;}#sk-container-id-9 div.sk-toggleable__content {max-height: 0;max-width: 0;overflow: hidden;text-align: left;background-color: #f0f8ff;}#sk-container-id-9 div.sk-toggleable__content pre {margin: 0.2em;color: black;border-radius: 0.25em;background-color: #f0f8ff;}#sk-container-id-9 input.sk-toggleable__control:checked~div.sk-toggleable__content {max-height: 200px;max-width: 100%;overflow: auto;}#sk-container-id-9 input.sk-toggleable__control:checked~label.sk-toggleable__label-arrow:before {content: \"▾\";}#sk-container-id-9 div.sk-estimator input.sk-toggleable__control:checked~label.sk-toggleable__label {background-color: #d4ebff;}#sk-container-id-9 div.sk-label input.sk-toggleable__control:checked~label.sk-toggleable__label {background-color: #d4ebff;}#sk-container-id-9 input.sk-hidden--visually {border: 0;clip: rect(1px 1px 1px 1px);clip: rect(1px, 1px, 1px, 1px);height: 1px;margin: -1px;overflow: hidden;padding: 0;position: absolute;width: 1px;}#sk-container-id-9 div.sk-estimator {font-family: monospace;background-color: #f0f8ff;border: 1px dotted black;border-radius: 0.25em;box-sizing: border-box;margin-bottom: 0.5em;}#sk-container-id-9 div.sk-estimator:hover {background-color: #d4ebff;}#sk-container-id-9 div.sk-parallel-item::after {content: \"\";width: 100%;border-bottom: 1px solid gray;flex-grow: 1;}#sk-container-id-9 div.sk-label:hover label.sk-toggleable__label {background-color: #d4ebff;}#sk-container-id-9 div.sk-serial::before {content: \"\";position: absolute;border-left: 1px solid gray;box-sizing: border-box;top: 0;bottom: 0;left: 50%;z-index: 0;}#sk-container-id-9 div.sk-serial {display: flex;flex-direction: column;align-items: center;background-color: white;padding-right: 0.2em;padding-left: 0.2em;position: relative;}#sk-container-id-9 div.sk-item {position: relative;z-index: 1;}#sk-container-id-9 div.sk-parallel {display: flex;align-items: stretch;justify-content: center;background-color: white;position: relative;}#sk-container-id-9 div.sk-item::before, #sk-container-id-9 div.sk-parallel-item::before {content: \"\";position: absolute;border-left: 1px solid gray;box-sizing: border-box;top: 0;bottom: 0;left: 50%;z-index: -1;}#sk-container-id-9 div.sk-parallel-item {display: flex;flex-direction: column;z-index: 1;position: relative;background-color: white;}#sk-container-id-9 div.sk-parallel-item:first-child::after {align-self: flex-end;width: 50%;}#sk-container-id-9 div.sk-parallel-item:last-child::after {align-self: flex-start;width: 50%;}#sk-container-id-9 div.sk-parallel-item:only-child::after {width: 0;}#sk-container-id-9 div.sk-dashed-wrapped {border: 1px dashed gray;margin: 0 0.4em 0.5em 0.4em;box-sizing: border-box;padding-bottom: 0.4em;background-color: white;}#sk-container-id-9 div.sk-label label {font-family: monospace;font-weight: bold;display: inline-block;line-height: 1.2em;}#sk-container-id-9 div.sk-label-container {text-align: center;}#sk-container-id-9 div.sk-container {/* jupyter's `normalize.less` sets `[hidden] { display: none; }` but bootstrap.min.css set `[hidden] { display: none !important; }` so we also need the `!important` here to be able to override the default hidden behavior on the sphinx rendered scikit-learn.org. See: https://github.com/scikit-learn/scikit-learn/issues/21755 */display: inline-block !important;position: relative;}#sk-container-id-9 div.sk-text-repr-fallback {display: none;}</style><div id=\"sk-container-id-9\" class=\"sk-top-container\"><div class=\"sk-text-repr-fallback\"><pre>RandomizedSearchCV(cv=3,\n",
       "                   estimator=Pipeline(steps=[(&#x27;vect&#x27;, CountVectorizer()),\n",
       "                                             (&#x27;model&#x27;,\n",
       "                                              LogisticRegression(max_iter=1000,\n",
       "                                                                 random_state=42))]),\n",
       "                   n_iter=50,\n",
       "                   param_distributions={&#x27;model__C&#x27;: &lt;scipy.stats._distn_infrastructure.rv_frozen object at 0x000001DA223FBBB0&gt;,\n",
       "                                        &#x27;vect__max_df&#x27;: [1.0,\n",
       "                                                         0.04754152112067281],\n",
       "                                        &#x27;vect__stop_words&#x27;: [None, &#x27;english&#x27;]},\n",
       "                   random_state=42, refit=&#x27;accuracy&#x27;, return_train_score=True,\n",
       "                   scoring=[&#x27;accuracy&#x27;, &#x27;f1&#x27;, &#x27;recall&#x27;, &#x27;precision&#x27;],\n",
       "                   verbose=2)</pre><b>In a Jupyter environment, please rerun this cell to show the HTML representation or trust the notebook. <br />On GitHub, the HTML representation is unable to render, please try loading this page with nbviewer.org.</b></div><div class=\"sk-container\" hidden><div class=\"sk-item sk-dashed-wrapped\"><div class=\"sk-label-container\"><div class=\"sk-label sk-toggleable\"><input class=\"sk-toggleable__control sk-hidden--visually\" id=\"sk-estimator-id-32\" type=\"checkbox\" ><label for=\"sk-estimator-id-32\" class=\"sk-toggleable__label sk-toggleable__label-arrow\">RandomizedSearchCV</label><div class=\"sk-toggleable__content\"><pre>RandomizedSearchCV(cv=3,\n",
       "                   estimator=Pipeline(steps=[(&#x27;vect&#x27;, CountVectorizer()),\n",
       "                                             (&#x27;model&#x27;,\n",
       "                                              LogisticRegression(max_iter=1000,\n",
       "                                                                 random_state=42))]),\n",
       "                   n_iter=50,\n",
       "                   param_distributions={&#x27;model__C&#x27;: &lt;scipy.stats._distn_infrastructure.rv_frozen object at 0x000001DA223FBBB0&gt;,\n",
       "                                        &#x27;vect__max_df&#x27;: [1.0,\n",
       "                                                         0.04754152112067281],\n",
       "                                        &#x27;vect__stop_words&#x27;: [None, &#x27;english&#x27;]},\n",
       "                   random_state=42, refit=&#x27;accuracy&#x27;, return_train_score=True,\n",
       "                   scoring=[&#x27;accuracy&#x27;, &#x27;f1&#x27;, &#x27;recall&#x27;, &#x27;precision&#x27;],\n",
       "                   verbose=2)</pre></div></div></div><div class=\"sk-parallel\"><div class=\"sk-parallel-item\"><div class=\"sk-item\"><div class=\"sk-label-container\"><div class=\"sk-label sk-toggleable\"><input class=\"sk-toggleable__control sk-hidden--visually\" id=\"sk-estimator-id-33\" type=\"checkbox\" ><label for=\"sk-estimator-id-33\" class=\"sk-toggleable__label sk-toggleable__label-arrow\">estimator: Pipeline</label><div class=\"sk-toggleable__content\"><pre>Pipeline(steps=[(&#x27;vect&#x27;, CountVectorizer()),\n",
       "                (&#x27;model&#x27;, LogisticRegression(max_iter=1000, random_state=42))])</pre></div></div></div><div class=\"sk-serial\"><div class=\"sk-item\"><div class=\"sk-serial\"><div class=\"sk-item\"><div class=\"sk-estimator sk-toggleable\"><input class=\"sk-toggleable__control sk-hidden--visually\" id=\"sk-estimator-id-34\" type=\"checkbox\" ><label for=\"sk-estimator-id-34\" class=\"sk-toggleable__label sk-toggleable__label-arrow\">CountVectorizer</label><div class=\"sk-toggleable__content\"><pre>CountVectorizer()</pre></div></div></div><div class=\"sk-item\"><div class=\"sk-estimator sk-toggleable\"><input class=\"sk-toggleable__control sk-hidden--visually\" id=\"sk-estimator-id-35\" type=\"checkbox\" ><label for=\"sk-estimator-id-35\" class=\"sk-toggleable__label sk-toggleable__label-arrow\">LogisticRegression</label><div class=\"sk-toggleable__content\"><pre>LogisticRegression(max_iter=1000, random_state=42)</pre></div></div></div></div></div></div></div></div></div></div></div></div>"
      ],
      "text/plain": [
       "RandomizedSearchCV(cv=3,\n",
       "                   estimator=Pipeline(steps=[('vect', CountVectorizer()),\n",
       "                                             ('model',\n",
       "                                              LogisticRegression(max_iter=1000,\n",
       "                                                                 random_state=42))]),\n",
       "                   n_iter=50,\n",
       "                   param_distributions={'model__C': <scipy.stats._distn_infrastructure.rv_frozen object at 0x000001DA223FBBB0>,\n",
       "                                        'vect__max_df': [1.0,\n",
       "                                                         0.04754152112067281],\n",
       "                                        'vect__stop_words': [None, 'english']},\n",
       "                   random_state=42, refit='accuracy', return_train_score=True,\n",
       "                   scoring=['accuracy', 'f1', 'recall', 'precision'],\n",
       "                   verbose=2)"
      ]
     },
     "execution_count": 140,
     "metadata": {},
     "output_type": "execute_result"
    }
   ],
   "source": [
    "from scipy.stats import uniform\n",
    "from sklearn.model_selection import RandomizedSearchCV\n",
    "\n",
    "log_pipe = Pipeline([\n",
    "    (\"vect\", CountVectorizer()),\n",
    "    (\"model\", LogisticRegression(max_iter=1000, random_state=42))])\n",
    "    \n",
    "# specify parameters and distributions to sample from\n",
    "# I've not created too many hyperparameters to change for the sake of time\n",
    "log_param_dist = {\n",
    "    \"vect__stop_words\":[None, 'english'],\n",
    "    #\"vect__analyzer\":[\"word\", create_lemmas], # if you have a powerful computer you may want to try `create_lemmas`\n",
    "    \"vect__max_df\":[1., truncexpon(b=10., scale=0.1).rvs()], # note: I've just made this distribution up\n",
    "    'model__C':uniform(0.01, 1)\n",
    "}\n",
    "\n",
    "log_rs = RandomizedSearchCV(log_pipe, \n",
    "                            param_distributions=log_param_dist,\n",
    "                            n_iter=50, \n",
    "                            scoring = [\"accuracy\", \"f1\",\"recall\",\"precision\"], \n",
    "                            cv=3, # if you have a powerful computer you may want to try to increase this to 5\n",
    "                            refit=\"accuracy\", \n",
    "                            random_state=42,\n",
    "                            return_train_score=True,\n",
    "                            verbose=2\n",
    "                           )\n",
    "\n",
    "log_rs.fit(X_train_full, y_train_full)"
   ]
  },
  {
   "cell_type": "code",
   "execution_count": 141,
   "id": "7c015498",
   "metadata": {},
   "outputs": [
    {
     "data": {
      "text/html": [
       "<div>\n",
       "<style scoped>\n",
       "    .dataframe tbody tr th:only-of-type {\n",
       "        vertical-align: middle;\n",
       "    }\n",
       "\n",
       "    .dataframe tbody tr th {\n",
       "        vertical-align: top;\n",
       "    }\n",
       "\n",
       "    .dataframe thead th {\n",
       "        text-align: right;\n",
       "    }\n",
       "</style>\n",
       "<table border=\"1\" class=\"dataframe\">\n",
       "  <thead>\n",
       "    <tr style=\"text-align: right;\">\n",
       "      <th></th>\n",
       "      <th>param_vect__stop_words</th>\n",
       "      <th>param_vect__max_df</th>\n",
       "      <th>param_model__C</th>\n",
       "      <th>mean_train_accuracy</th>\n",
       "      <th>std_train_accuracy</th>\n",
       "      <th>mean_test_accuracy</th>\n",
       "      <th>std_test_accuracy</th>\n",
       "    </tr>\n",
       "  </thead>\n",
       "  <tbody>\n",
       "    <tr>\n",
       "      <th>37</th>\n",
       "      <td>None</td>\n",
       "      <td>1.0</td>\n",
       "      <td>0.716857</td>\n",
       "      <td>0.959793</td>\n",
       "      <td>0.000694</td>\n",
       "      <td>0.833466</td>\n",
       "      <td>0.002301</td>\n",
       "    </tr>\n",
       "    <tr>\n",
       "      <th>1</th>\n",
       "      <td>None</td>\n",
       "      <td>1.0</td>\n",
       "      <td>0.741994</td>\n",
       "      <td>0.960869</td>\n",
       "      <td>0.000932</td>\n",
       "      <td>0.833372</td>\n",
       "      <td>0.002651</td>\n",
       "    </tr>\n",
       "    <tr>\n",
       "      <th>44</th>\n",
       "      <td>None</td>\n",
       "      <td>1.0</td>\n",
       "      <td>0.897213</td>\n",
       "      <td>0.967371</td>\n",
       "      <td>0.000606</td>\n",
       "      <td>0.833372</td>\n",
       "      <td>0.001551</td>\n",
       "    </tr>\n",
       "    <tr>\n",
       "      <th>47</th>\n",
       "      <td>None</td>\n",
       "      <td>1.0</td>\n",
       "      <td>0.780967</td>\n",
       "      <td>0.962694</td>\n",
       "      <td>0.000777</td>\n",
       "      <td>0.833045</td>\n",
       "      <td>0.002807</td>\n",
       "    </tr>\n",
       "    <tr>\n",
       "      <th>15</th>\n",
       "      <td>None</td>\n",
       "      <td>1.0</td>\n",
       "      <td>0.617545</td>\n",
       "      <td>0.955162</td>\n",
       "      <td>0.000605</td>\n",
       "      <td>0.832905</td>\n",
       "      <td>0.002544</td>\n",
       "    </tr>\n",
       "  </tbody>\n",
       "</table>\n",
       "</div>"
      ],
      "text/plain": [
       "   param_vect__stop_words param_vect__max_df param_model__C  \\\n",
       "37                   None                1.0       0.716857   \n",
       "1                    None                1.0       0.741994   \n",
       "44                   None                1.0       0.897213   \n",
       "47                   None                1.0       0.780967   \n",
       "15                   None                1.0       0.617545   \n",
       "\n",
       "    mean_train_accuracy  std_train_accuracy  mean_test_accuracy  \\\n",
       "37             0.959793            0.000694            0.833466   \n",
       "1              0.960869            0.000932            0.833372   \n",
       "44             0.967371            0.000606            0.833372   \n",
       "47             0.962694            0.000777            0.833045   \n",
       "15             0.955162            0.000605            0.832905   \n",
       "\n",
       "    std_test_accuracy  \n",
       "37           0.002301  \n",
       "1            0.002651  \n",
       "44           0.001551  \n",
       "47           0.002807  \n",
       "15           0.002544  "
      ]
     },
     "execution_count": 141,
     "metadata": {},
     "output_type": "execute_result"
    }
   ],
   "source": [
    "log_rs_df = pd.DataFrame(log_rs.cv_results_)\n",
    "log_rs_df.sort_values(\"mean_test_accuracy\", ascending=False)[[\"param_vect__stop_words\", \n",
    "                                                              #\"param_vect__analyzer\",\n",
    "                                                              \"param_vect__max_df\",\n",
    "                                                              \"param_model__C\",\n",
    "                                                              \"mean_train_accuracy\",\n",
    "                                                              \"std_train_accuracy\",\n",
    "                                                              \"mean_test_accuracy\", \n",
    "                                                              \"std_test_accuracy\"]].head()"
   ]
  }
 ],
 "metadata": {
  "colab": {
   "include_colab_link": true,
   "name": "week01.ipynb",
   "provenance": []
  },
  "kernelspec": {
   "display_name": "Python 3 (ipykernel)",
   "language": "python",
   "name": "python3"
  },
  "language_info": {
   "codemirror_mode": {
    "name": "ipython",
    "version": 3
   },
   "file_extension": ".py",
   "mimetype": "text/x-python",
   "name": "python",
   "nbconvert_exporter": "python",
   "pygments_lexer": "ipython3",
   "version": "3.9.7"
  },
  "widgets": {
   "application/vnd.jupyter.widget-state+json": {
    "031527736b9348aeb76439aca07f91fa": {
     "model_module": "@jupyter-widgets/controls",
     "model_module_version": "1.5.0",
     "model_name": "ButtonModel",
     "state": {
      "_dom_classes": [],
      "_model_module": "@jupyter-widgets/controls",
      "_model_module_version": "1.5.0",
      "_model_name": "ButtonModel",
      "_view_count": null,
      "_view_module": "@jupyter-widgets/controls",
      "_view_module_version": "1.5.0",
      "_view_name": "ButtonView",
      "button_style": "",
      "description": "Reveal solution",
      "disabled": false,
      "icon": "",
      "layout": "IPY_MODEL_0c88f8f50a0647eeb8333d5a57a68bea",
      "style": "IPY_MODEL_65e61654515c45bd9e75e943ae7d72b7",
      "tooltip": ""
     }
    },
    "038a6365db0b4b4c8f2cb392d9a49842": {
     "model_module": "@jupyter-widgets/base",
     "model_module_version": "1.2.0",
     "model_name": "LayoutModel",
     "state": {
      "_model_module": "@jupyter-widgets/base",
      "_model_module_version": "1.2.0",
      "_model_name": "LayoutModel",
      "_view_count": null,
      "_view_module": "@jupyter-widgets/base",
      "_view_module_version": "1.2.0",
      "_view_name": "LayoutView",
      "align_content": null,
      "align_items": null,
      "align_self": null,
      "border": "1px solid green",
      "bottom": null,
      "display": null,
      "flex": null,
      "flex_flow": null,
      "grid_area": null,
      "grid_auto_columns": null,
      "grid_auto_flow": null,
      "grid_auto_rows": null,
      "grid_column": null,
      "grid_gap": null,
      "grid_row": null,
      "grid_template_areas": null,
      "grid_template_columns": null,
      "grid_template_rows": null,
      "height": null,
      "justify_content": null,
      "justify_items": null,
      "left": null,
      "margin": null,
      "max_height": null,
      "max_width": null,
      "min_height": null,
      "min_width": null,
      "object_fit": null,
      "object_position": null,
      "order": null,
      "overflow": null,
      "overflow_x": null,
      "overflow_y": null,
      "padding": null,
      "right": null,
      "top": null,
      "visibility": null,
      "width": null
     }
    },
    "05e44b41f68d46b9bd15ee048ec83de9": {
     "model_module": "@jupyter-widgets/controls",
     "model_module_version": "1.5.0",
     "model_name": "ButtonStyleModel",
     "state": {
      "_model_module": "@jupyter-widgets/controls",
      "_model_module_version": "1.5.0",
      "_model_name": "ButtonStyleModel",
      "_view_count": null,
      "_view_module": "@jupyter-widgets/base",
      "_view_module_version": "1.2.0",
      "_view_name": "StyleView",
      "button_color": null,
      "font_weight": ""
     }
    },
    "06235bc20863449abf91be33cc5d0d47": {
     "model_module": "@jupyter-widgets/controls",
     "model_module_version": "1.5.0",
     "model_name": "ButtonStyleModel",
     "state": {
      "_model_module": "@jupyter-widgets/controls",
      "_model_module_version": "1.5.0",
      "_model_name": "ButtonStyleModel",
      "_view_count": null,
      "_view_module": "@jupyter-widgets/base",
      "_view_module_version": "1.2.0",
      "_view_name": "StyleView",
      "button_color": null,
      "font_weight": ""
     }
    },
    "0b4b84a2d3c9414f8370cd25cba1db37": {
     "model_module": "@jupyter-widgets/controls",
     "model_module_version": "1.5.0",
     "model_name": "ButtonStyleModel",
     "state": {
      "_model_module": "@jupyter-widgets/controls",
      "_model_module_version": "1.5.0",
      "_model_name": "ButtonStyleModel",
      "_view_count": null,
      "_view_module": "@jupyter-widgets/base",
      "_view_module_version": "1.2.0",
      "_view_name": "StyleView",
      "button_color": null,
      "font_weight": ""
     }
    },
    "0c88f8f50a0647eeb8333d5a57a68bea": {
     "model_module": "@jupyter-widgets/base",
     "model_module_version": "1.2.0",
     "model_name": "LayoutModel",
     "state": {
      "_model_module": "@jupyter-widgets/base",
      "_model_module_version": "1.2.0",
      "_model_name": "LayoutModel",
      "_view_count": null,
      "_view_module": "@jupyter-widgets/base",
      "_view_module_version": "1.2.0",
      "_view_name": "LayoutView",
      "align_content": null,
      "align_items": null,
      "align_self": null,
      "border": null,
      "bottom": null,
      "display": null,
      "flex": null,
      "flex_flow": null,
      "grid_area": null,
      "grid_auto_columns": null,
      "grid_auto_flow": null,
      "grid_auto_rows": null,
      "grid_column": null,
      "grid_gap": null,
      "grid_row": null,
      "grid_template_areas": null,
      "grid_template_columns": null,
      "grid_template_rows": null,
      "height": null,
      "justify_content": null,
      "justify_items": null,
      "left": null,
      "margin": null,
      "max_height": null,
      "max_width": null,
      "min_height": null,
      "min_width": null,
      "object_fit": null,
      "object_position": null,
      "order": null,
      "overflow": null,
      "overflow_x": null,
      "overflow_y": null,
      "padding": null,
      "right": null,
      "top": null,
      "visibility": null,
      "width": null
     }
    },
    "0daf5043f9e549a7a00a65d61ada40bb": {
     "model_module": "@jupyter-widgets/base",
     "model_module_version": "1.2.0",
     "model_name": "LayoutModel",
     "state": {
      "_model_module": "@jupyter-widgets/base",
      "_model_module_version": "1.2.0",
      "_model_name": "LayoutModel",
      "_view_count": null,
      "_view_module": "@jupyter-widgets/base",
      "_view_module_version": "1.2.0",
      "_view_name": "LayoutView",
      "align_content": null,
      "align_items": null,
      "align_self": null,
      "border": "1px solid green",
      "bottom": null,
      "display": null,
      "flex": null,
      "flex_flow": null,
      "grid_area": null,
      "grid_auto_columns": null,
      "grid_auto_flow": null,
      "grid_auto_rows": null,
      "grid_column": null,
      "grid_gap": null,
      "grid_row": null,
      "grid_template_areas": null,
      "grid_template_columns": null,
      "grid_template_rows": null,
      "height": null,
      "justify_content": null,
      "justify_items": null,
      "left": null,
      "margin": null,
      "max_height": null,
      "max_width": null,
      "min_height": null,
      "min_width": null,
      "object_fit": null,
      "object_position": null,
      "order": null,
      "overflow": null,
      "overflow_x": null,
      "overflow_y": null,
      "padding": null,
      "right": null,
      "top": null,
      "visibility": null,
      "width": null
     }
    },
    "16e06440fa464bed826bb670a3d3445f": {
     "model_module": "@jupyter-widgets/controls",
     "model_module_version": "1.5.0",
     "model_name": "ButtonStyleModel",
     "state": {
      "_model_module": "@jupyter-widgets/controls",
      "_model_module_version": "1.5.0",
      "_model_name": "ButtonStyleModel",
      "_view_count": null,
      "_view_module": "@jupyter-widgets/base",
      "_view_module_version": "1.2.0",
      "_view_name": "StyleView",
      "button_color": null,
      "font_weight": ""
     }
    },
    "16f393ea4b3d474e9ecdc70b1297317a": {
     "model_module": "@jupyter-widgets/controls",
     "model_module_version": "1.5.0",
     "model_name": "ButtonStyleModel",
     "state": {
      "_model_module": "@jupyter-widgets/controls",
      "_model_module_version": "1.5.0",
      "_model_name": "ButtonStyleModel",
      "_view_count": null,
      "_view_module": "@jupyter-widgets/base",
      "_view_module_version": "1.2.0",
      "_view_name": "StyleView",
      "button_color": null,
      "font_weight": ""
     }
    },
    "1733421672704f9f9a0cc096d6e158cb": {
     "model_module": "@jupyter-widgets/controls",
     "model_module_version": "1.5.0",
     "model_name": "ButtonModel",
     "state": {
      "_dom_classes": [],
      "_model_module": "@jupyter-widgets/controls",
      "_model_module_version": "1.5.0",
      "_model_name": "ButtonModel",
      "_view_count": null,
      "_view_module": "@jupyter-widgets/controls",
      "_view_module_version": "1.5.0",
      "_view_name": "ButtonView",
      "button_style": "",
      "description": "Hide solution",
      "disabled": false,
      "icon": "",
      "layout": "IPY_MODEL_7b6485ee89d543fd9add5e402aa800a0",
      "style": "IPY_MODEL_06235bc20863449abf91be33cc5d0d47",
      "tooltip": ""
     }
    },
    "190d4858beb0445295c12c63a40058a1": {
     "model_module": "@jupyter-widgets/output",
     "model_module_version": "1.0.0",
     "model_name": "OutputModel",
     "state": {
      "_dom_classes": [],
      "_model_module": "@jupyter-widgets/output",
      "_model_module_version": "1.0.0",
      "_model_name": "OutputModel",
      "_view_count": null,
      "_view_module": "@jupyter-widgets/output",
      "_view_module_version": "1.0.0",
      "_view_name": "OutputView",
      "layout": "IPY_MODEL_0daf5043f9e549a7a00a65d61ada40bb",
      "msg_id": "",
      "outputs": [
       {
        "data": {
         "text/html": "<style>.output_html .hll { background-color: #ffffcc }\n.output_html  { background: #f8f8f8; }\n.output_html .c { color: #408080; font-style: italic } /* Comment */\n.output_html .err { border: 1px solid #FF0000 } /* Error */\n.output_html .k { color: #008000; font-weight: bold } /* Keyword */\n.output_html .o { color: #666666 } /* Operator */\n.output_html .ch { color: #408080; font-style: italic } /* Comment.Hashbang */\n.output_html .cm { color: #408080; font-style: italic } /* Comment.Multiline */\n.output_html .cp { color: #BC7A00 } /* Comment.Preproc */\n.output_html .cpf { color: #408080; font-style: italic } /* Comment.PreprocFile */\n.output_html .c1 { color: #408080; font-style: italic } /* Comment.Single */\n.output_html .cs { color: #408080; font-style: italic } /* Comment.Special */\n.output_html .gd { color: #A00000 } /* Generic.Deleted */\n.output_html .ge { font-style: italic } /* Generic.Emph */\n.output_html .gr { color: #FF0000 } /* Generic.Error */\n.output_html .gh { color: #000080; font-weight: bold } /* Generic.Heading */\n.output_html .gi { color: #00A000 } /* Generic.Inserted */\n.output_html .go { color: #888888 } /* Generic.Output */\n.output_html .gp { color: #000080; font-weight: bold } /* Generic.Prompt */\n.output_html .gs { font-weight: bold } /* Generic.Strong */\n.output_html .gu { color: #800080; font-weight: bold } /* Generic.Subheading */\n.output_html .gt { color: #0044DD } /* Generic.Traceback */\n.output_html .kc { color: #008000; font-weight: bold } /* Keyword.Constant */\n.output_html .kd { color: #008000; font-weight: bold } /* Keyword.Declaration */\n.output_html .kn { color: #008000; font-weight: bold } /* Keyword.Namespace */\n.output_html .kp { color: #008000 } /* Keyword.Pseudo */\n.output_html .kr { color: #008000; font-weight: bold } /* Keyword.Reserved */\n.output_html .kt { color: #B00040 } /* Keyword.Type */\n.output_html .m { color: #666666 } /* Literal.Number */\n.output_html .s { color: #BA2121 } /* Literal.String */\n.output_html .na { color: #7D9029 } /* Name.Attribute */\n.output_html .nb { color: #008000 } /* Name.Builtin */\n.output_html .nc { color: #0000FF; font-weight: bold } /* Name.Class */\n.output_html .no { color: #880000 } /* Name.Constant */\n.output_html .nd { color: #AA22FF } /* Name.Decorator */\n.output_html .ni { color: #999999; font-weight: bold } /* Name.Entity */\n.output_html .ne { color: #D2413A; font-weight: bold } /* Name.Exception */\n.output_html .nf { color: #0000FF } /* Name.Function */\n.output_html .nl { color: #A0A000 } /* Name.Label */\n.output_html .nn { color: #0000FF; font-weight: bold } /* Name.Namespace */\n.output_html .nt { color: #008000; font-weight: bold } /* Name.Tag */\n.output_html .nv { color: #19177C } /* Name.Variable */\n.output_html .ow { color: #AA22FF; font-weight: bold } /* Operator.Word */\n.output_html .w { color: #bbbbbb } /* Text.Whitespace */\n.output_html .mb { color: #666666 } /* Literal.Number.Bin */\n.output_html .mf { color: #666666 } /* Literal.Number.Float */\n.output_html .mh { color: #666666 } /* Literal.Number.Hex */\n.output_html .mi { color: #666666 } /* Literal.Number.Integer */\n.output_html .mo { color: #666666 } /* Literal.Number.Oct */\n.output_html .sa { color: #BA2121 } /* Literal.String.Affix */\n.output_html .sb { color: #BA2121 } /* Literal.String.Backtick */\n.output_html .sc { color: #BA2121 } /* Literal.String.Char */\n.output_html .dl { color: #BA2121 } /* Literal.String.Delimiter */\n.output_html .sd { color: #BA2121; font-style: italic } /* Literal.String.Doc */\n.output_html .s2 { color: #BA2121 } /* Literal.String.Double */\n.output_html .se { color: #BB6622; font-weight: bold } /* Literal.String.Escape */\n.output_html .sh { color: #BA2121 } /* Literal.String.Heredoc */\n.output_html .si { color: #BB6688; font-weight: bold } /* Literal.String.Interpol */\n.output_html .sx { color: #008000 } /* Literal.String.Other */\n.output_html .sr { color: #BB6688 } /* Literal.String.Regex */\n.output_html .s1 { color: #BA2121 } /* Literal.String.Single */\n.output_html .ss { color: #19177C } /* Literal.String.Symbol */\n.output_html .bp { color: #008000 } /* Name.Builtin.Pseudo */\n.output_html .fm { color: #0000FF } /* Name.Function.Magic */\n.output_html .vc { color: #19177C } /* Name.Variable.Class */\n.output_html .vg { color: #19177C } /* Name.Variable.Global */\n.output_html .vi { color: #19177C } /* Name.Variable.Instance */\n.output_html .vm { color: #19177C } /* Name.Variable.Magic */\n.output_html .il { color: #666666 } /* Literal.Number.Integer.Long */</style><div class=\"highlight\"><pre><span></span><span class=\"k\">def</span> <span class=\"nf\">standard</span><span class=\"p\">(</span><span class=\"n\">X</span><span class=\"p\">):</span>\n    <span class=\"k\">return</span> <span class=\"p\">(</span><span class=\"n\">X</span> <span class=\"o\">-</span> <span class=\"n\">X</span><span class=\"o\">.</span><span class=\"n\">mean</span><span class=\"p\">())</span> <span class=\"o\">/</span> <span class=\"n\">X</span><span class=\"o\">.</span><span class=\"n\">std</span><span class=\"p\">(</span><span class=\"n\">ddof</span><span class=\"o\">=</span><span class=\"mi\">0</span><span class=\"p\">)</span>\n\n<span class=\"n\">StandardTransformer</span> <span class=\"o\">=</span> <span class=\"n\">FunctionTransformer</span><span class=\"p\">(</span><span class=\"n\">standard</span><span class=\"p\">)</span>\n<span class=\"n\">X_train_scaled</span> <span class=\"o\">=</span> <span class=\"n\">StandardTransformer</span><span class=\"o\">.</span><span class=\"n\">fit_transform</span><span class=\"p\">(</span><span class=\"n\">X_train</span><span class=\"p\">)</span>\n</pre></div>\n",
         "text/latex": "\\begin{Verbatim}[commandchars=\\\\\\{\\}]\n\\PY{k}{def} \\PY{n+nf}{standard}\\PY{p}{(}\\PY{n}{X}\\PY{p}{)}\\PY{p}{:}\n    \\PY{k}{return} \\PY{p}{(}\\PY{n}{X} \\PY{o}{\\PYZhy{}} \\PY{n}{X}\\PY{o}{.}\\PY{n}{mean}\\PY{p}{(}\\PY{p}{)}\\PY{p}{)} \\PY{o}{/} \\PY{n}{X}\\PY{o}{.}\\PY{n}{std}\\PY{p}{(}\\PY{n}{ddof}\\PY{o}{=}\\PY{l+m+mi}{0}\\PY{p}{)}\n\n\\PY{n}{StandardTransformer} \\PY{o}{=} \\PY{n}{FunctionTransformer}\\PY{p}{(}\\PY{n}{standard}\\PY{p}{)}\n\\PY{n}{X\\PYZus{}train\\PYZus{}scaled} \\PY{o}{=} \\PY{n}{StandardTransformer}\\PY{o}{.}\\PY{n}{fit\\PYZus{}transform}\\PY{p}{(}\\PY{n}{X\\PYZus{}train}\\PY{p}{)}\n\\end{Verbatim}\n",
         "text/plain": "def standard(X):\n    return (X - X.mean()) / X.std(ddof=0)\n\nStandardTransformer = FunctionTransformer(standard)\nX_train_scaled = StandardTransformer.fit_transform(X_train)"
        },
        "metadata": {},
        "output_type": "display_data"
       }
      ]
     }
    },
    "19cbbcad7e4e4e8d877f2b4878cdff24": {
     "model_module": "@jupyter-widgets/base",
     "model_module_version": "1.2.0",
     "model_name": "LayoutModel",
     "state": {
      "_model_module": "@jupyter-widgets/base",
      "_model_module_version": "1.2.0",
      "_model_name": "LayoutModel",
      "_view_count": null,
      "_view_module": "@jupyter-widgets/base",
      "_view_module_version": "1.2.0",
      "_view_name": "LayoutView",
      "align_content": null,
      "align_items": null,
      "align_self": null,
      "border": null,
      "bottom": null,
      "display": null,
      "flex": null,
      "flex_flow": null,
      "grid_area": null,
      "grid_auto_columns": null,
      "grid_auto_flow": null,
      "grid_auto_rows": null,
      "grid_column": null,
      "grid_gap": null,
      "grid_row": null,
      "grid_template_areas": null,
      "grid_template_columns": null,
      "grid_template_rows": null,
      "height": null,
      "justify_content": null,
      "justify_items": null,
      "left": null,
      "margin": null,
      "max_height": null,
      "max_width": null,
      "min_height": null,
      "min_width": null,
      "object_fit": null,
      "object_position": null,
      "order": null,
      "overflow": null,
      "overflow_x": null,
      "overflow_y": null,
      "padding": null,
      "right": null,
      "top": null,
      "visibility": null,
      "width": null
     }
    },
    "1d034f6e5ad44b04926b53e21806c14a": {
     "model_module": "@jupyter-widgets/output",
     "model_module_version": "1.0.0",
     "model_name": "OutputModel",
     "state": {
      "_dom_classes": [],
      "_model_module": "@jupyter-widgets/output",
      "_model_module_version": "1.0.0",
      "_model_name": "OutputModel",
      "_view_count": null,
      "_view_module": "@jupyter-widgets/output",
      "_view_module_version": "1.0.0",
      "_view_name": "OutputView",
      "layout": "IPY_MODEL_7329e877523c4f268c3b1f05cd688e7d",
      "msg_id": "",
      "outputs": [
       {
        "data": {
         "text/html": "<style>.output_html .hll { background-color: #ffffcc }\n.output_html  { background: #f8f8f8; }\n.output_html .c { color: #408080; font-style: italic } /* Comment */\n.output_html .err { border: 1px solid #FF0000 } /* Error */\n.output_html .k { color: #008000; font-weight: bold } /* Keyword */\n.output_html .o { color: #666666 } /* Operator */\n.output_html .ch { color: #408080; font-style: italic } /* Comment.Hashbang */\n.output_html .cm { color: #408080; font-style: italic } /* Comment.Multiline */\n.output_html .cp { color: #BC7A00 } /* Comment.Preproc */\n.output_html .cpf { color: #408080; font-style: italic } /* Comment.PreprocFile */\n.output_html .c1 { color: #408080; font-style: italic } /* Comment.Single */\n.output_html .cs { color: #408080; font-style: italic } /* Comment.Special */\n.output_html .gd { color: #A00000 } /* Generic.Deleted */\n.output_html .ge { font-style: italic } /* Generic.Emph */\n.output_html .gr { color: #FF0000 } /* Generic.Error */\n.output_html .gh { color: #000080; font-weight: bold } /* Generic.Heading */\n.output_html .gi { color: #00A000 } /* Generic.Inserted */\n.output_html .go { color: #888888 } /* Generic.Output */\n.output_html .gp { color: #000080; font-weight: bold } /* Generic.Prompt */\n.output_html .gs { font-weight: bold } /* Generic.Strong */\n.output_html .gu { color: #800080; font-weight: bold } /* Generic.Subheading */\n.output_html .gt { color: #0044DD } /* Generic.Traceback */\n.output_html .kc { color: #008000; font-weight: bold } /* Keyword.Constant */\n.output_html .kd { color: #008000; font-weight: bold } /* Keyword.Declaration */\n.output_html .kn { color: #008000; font-weight: bold } /* Keyword.Namespace */\n.output_html .kp { color: #008000 } /* Keyword.Pseudo */\n.output_html .kr { color: #008000; font-weight: bold } /* Keyword.Reserved */\n.output_html .kt { color: #B00040 } /* Keyword.Type */\n.output_html .m { color: #666666 } /* Literal.Number */\n.output_html .s { color: #BA2121 } /* Literal.String */\n.output_html .na { color: #7D9029 } /* Name.Attribute */\n.output_html .nb { color: #008000 } /* Name.Builtin */\n.output_html .nc { color: #0000FF; font-weight: bold } /* Name.Class */\n.output_html .no { color: #880000 } /* Name.Constant */\n.output_html .nd { color: #AA22FF } /* Name.Decorator */\n.output_html .ni { color: #999999; font-weight: bold } /* Name.Entity */\n.output_html .ne { color: #D2413A; font-weight: bold } /* Name.Exception */\n.output_html .nf { color: #0000FF } /* Name.Function */\n.output_html .nl { color: #A0A000 } /* Name.Label */\n.output_html .nn { color: #0000FF; font-weight: bold } /* Name.Namespace */\n.output_html .nt { color: #008000; font-weight: bold } /* Name.Tag */\n.output_html .nv { color: #19177C } /* Name.Variable */\n.output_html .ow { color: #AA22FF; font-weight: bold } /* Operator.Word */\n.output_html .w { color: #bbbbbb } /* Text.Whitespace */\n.output_html .mb { color: #666666 } /* Literal.Number.Bin */\n.output_html .mf { color: #666666 } /* Literal.Number.Float */\n.output_html .mh { color: #666666 } /* Literal.Number.Hex */\n.output_html .mi { color: #666666 } /* Literal.Number.Integer */\n.output_html .mo { color: #666666 } /* Literal.Number.Oct */\n.output_html .sa { color: #BA2121 } /* Literal.String.Affix */\n.output_html .sb { color: #BA2121 } /* Literal.String.Backtick */\n.output_html .sc { color: #BA2121 } /* Literal.String.Char */\n.output_html .dl { color: #BA2121 } /* Literal.String.Delimiter */\n.output_html .sd { color: #BA2121; font-style: italic } /* Literal.String.Doc */\n.output_html .s2 { color: #BA2121 } /* Literal.String.Double */\n.output_html .se { color: #BB6622; font-weight: bold } /* Literal.String.Escape */\n.output_html .sh { color: #BA2121 } /* Literal.String.Heredoc */\n.output_html .si { color: #BB6688; font-weight: bold } /* Literal.String.Interpol */\n.output_html .sx { color: #008000 } /* Literal.String.Other */\n.output_html .sr { color: #BB6688 } /* Literal.String.Regex */\n.output_html .s1 { color: #BA2121 } /* Literal.String.Single */\n.output_html .ss { color: #19177C } /* Literal.String.Symbol */\n.output_html .bp { color: #008000 } /* Name.Builtin.Pseudo */\n.output_html .fm { color: #0000FF } /* Name.Function.Magic */\n.output_html .vc { color: #19177C } /* Name.Variable.Class */\n.output_html .vg { color: #19177C } /* Name.Variable.Global */\n.output_html .vi { color: #19177C } /* Name.Variable.Instance */\n.output_html .vm { color: #19177C } /* Name.Variable.Magic */\n.output_html .il { color: #666666 } /* Literal.Number.Integer.Long */</style><div class=\"highlight\"><pre><span></span><span class=\"kn\">from</span> <span class=\"nn\">sklearn.preprocessing</span> <span class=\"kn\">import</span> <span class=\"n\">PolynomialFeatures</span>\n\n<span class=\"n\">reg</span> <span class=\"o\">=</span> <span class=\"n\">LinearRegression</span><span class=\"p\">()</span>\n<span class=\"n\">poly</span> <span class=\"o\">=</span> <span class=\"n\">PolynomialFeatures</span><span class=\"p\">(</span><span class=\"n\">include_bias</span><span class=\"o\">=</span><span class=\"kc\">False</span><span class=\"p\">)</span>\n\n<span class=\"n\">poly_reg_pipe</span> <span class=\"o\">=</span> <span class=\"n\">Pipeline</span><span class=\"p\">([</span>\n    <span class=\"p\">(</span><span class=\"s2\">&quot;drop_duplicated&quot;</span><span class=\"p\">,</span> <span class=\"n\">DD</span><span class=\"p\">),</span>\n    <span class=\"p\">(</span><span class=\"s2\">&quot;make_dataframe&quot;</span><span class=\"p\">,</span> <span class=\"n\">DT</span><span class=\"p\">),</span>\n    <span class=\"p\">(</span><span class=\"s2\">&quot;feature_selection&quot;</span><span class=\"p\">,</span> <span class=\"n\">fs</span><span class=\"p\">),</span>\n    <span class=\"p\">(</span><span class=\"s2\">&quot;log_transformer&quot;</span><span class=\"p\">,</span> <span class=\"n\">lt</span><span class=\"p\">),</span>\n    <span class=\"p\">(</span><span class=\"s2\">&quot;pol&quot;</span><span class=\"p\">,</span> <span class=\"n\">poly</span><span class=\"p\">),</span>\n    <span class=\"p\">(</span><span class=\"s2\">&quot;scaler&quot;</span><span class=\"p\">,</span> <span class=\"n\">scaler</span><span class=\"p\">),</span>\n    <span class=\"p\">(</span><span class=\"s2\">&quot;model&quot;</span><span class=\"p\">,</span> <span class=\"n\">reg</span><span class=\"p\">)</span>\n<span class=\"p\">])</span>\n\n<span class=\"n\">poly_reg_pipe</span><span class=\"o\">.</span><span class=\"n\">fit</span><span class=\"p\">(</span><span class=\"n\">X_train</span><span class=\"p\">,</span> <span class=\"n\">y_train</span><span class=\"p\">)</span>\n<span class=\"nb\">print</span><span class=\"p\">(</span><span class=\"s2\">&quot;Training Score&quot;</span><span class=\"p\">)</span>\n<span class=\"nb\">print</span><span class=\"p\">(</span><span class=\"nb\">round</span><span class=\"p\">(</span><span class=\"n\">poly_reg_pipe</span><span class=\"o\">.</span><span class=\"n\">score</span><span class=\"p\">(</span><span class=\"n\">X_train</span><span class=\"p\">,</span> <span class=\"n\">y_train</span><span class=\"p\">),</span> <span class=\"mi\">3</span><span class=\"p\">))</span>\n<span class=\"nb\">print</span><span class=\"p\">(</span><span class=\"s2\">&quot;Validation Score&quot;</span><span class=\"p\">)</span>\n<span class=\"nb\">print</span><span class=\"p\">(</span><span class=\"nb\">round</span><span class=\"p\">(</span><span class=\"n\">poly_reg_pipe</span><span class=\"o\">.</span><span class=\"n\">score</span><span class=\"p\">(</span><span class=\"n\">X_val</span><span class=\"p\">,</span> <span class=\"n\">y_val</span><span class=\"p\">),</span> <span class=\"mi\">3</span><span class=\"p\">))</span>\n</pre></div>\n",
         "text/latex": "\\begin{Verbatim}[commandchars=\\\\\\{\\}]\n\\PY{k+kn}{from} \\PY{n+nn}{sklearn}\\PY{n+nn}{.}\\PY{n+nn}{preprocessing} \\PY{k+kn}{import} \\PY{n}{PolynomialFeatures}\n\n\\PY{n}{reg} \\PY{o}{=} \\PY{n}{LinearRegression}\\PY{p}{(}\\PY{p}{)}\n\\PY{n}{poly} \\PY{o}{=} \\PY{n}{PolynomialFeatures}\\PY{p}{(}\\PY{n}{include\\PYZus{}bias}\\PY{o}{=}\\PY{k+kc}{False}\\PY{p}{)}\n\n\\PY{n}{poly\\PYZus{}reg\\PYZus{}pipe} \\PY{o}{=} \\PY{n}{Pipeline}\\PY{p}{(}\\PY{p}{[}\n    \\PY{p}{(}\\PY{l+s+s2}{\\PYZdq{}}\\PY{l+s+s2}{drop\\PYZus{}duplicated}\\PY{l+s+s2}{\\PYZdq{}}\\PY{p}{,} \\PY{n}{DD}\\PY{p}{)}\\PY{p}{,}\n    \\PY{p}{(}\\PY{l+s+s2}{\\PYZdq{}}\\PY{l+s+s2}{make\\PYZus{}dataframe}\\PY{l+s+s2}{\\PYZdq{}}\\PY{p}{,} \\PY{n}{DT}\\PY{p}{)}\\PY{p}{,}\n    \\PY{p}{(}\\PY{l+s+s2}{\\PYZdq{}}\\PY{l+s+s2}{feature\\PYZus{}selection}\\PY{l+s+s2}{\\PYZdq{}}\\PY{p}{,} \\PY{n}{fs}\\PY{p}{)}\\PY{p}{,}\n    \\PY{p}{(}\\PY{l+s+s2}{\\PYZdq{}}\\PY{l+s+s2}{log\\PYZus{}transformer}\\PY{l+s+s2}{\\PYZdq{}}\\PY{p}{,} \\PY{n}{lt}\\PY{p}{)}\\PY{p}{,}\n    \\PY{p}{(}\\PY{l+s+s2}{\\PYZdq{}}\\PY{l+s+s2}{pol}\\PY{l+s+s2}{\\PYZdq{}}\\PY{p}{,} \\PY{n}{poly}\\PY{p}{)}\\PY{p}{,}\n    \\PY{p}{(}\\PY{l+s+s2}{\\PYZdq{}}\\PY{l+s+s2}{scaler}\\PY{l+s+s2}{\\PYZdq{}}\\PY{p}{,} \\PY{n}{scaler}\\PY{p}{)}\\PY{p}{,}\n    \\PY{p}{(}\\PY{l+s+s2}{\\PYZdq{}}\\PY{l+s+s2}{model}\\PY{l+s+s2}{\\PYZdq{}}\\PY{p}{,} \\PY{n}{reg}\\PY{p}{)}\n\\PY{p}{]}\\PY{p}{)}\n\n\\PY{n}{poly\\PYZus{}reg\\PYZus{}pipe}\\PY{o}{.}\\PY{n}{fit}\\PY{p}{(}\\PY{n}{X\\PYZus{}train}\\PY{p}{,} \\PY{n}{y\\PYZus{}train}\\PY{p}{)}\n\\PY{n+nb}{print}\\PY{p}{(}\\PY{l+s+s2}{\\PYZdq{}}\\PY{l+s+s2}{Training Score}\\PY{l+s+s2}{\\PYZdq{}}\\PY{p}{)}\n\\PY{n+nb}{print}\\PY{p}{(}\\PY{n+nb}{round}\\PY{p}{(}\\PY{n}{poly\\PYZus{}reg\\PYZus{}pipe}\\PY{o}{.}\\PY{n}{score}\\PY{p}{(}\\PY{n}{X\\PYZus{}train}\\PY{p}{,} \\PY{n}{y\\PYZus{}train}\\PY{p}{)}\\PY{p}{,} \\PY{l+m+mi}{3}\\PY{p}{)}\\PY{p}{)}\n\\PY{n+nb}{print}\\PY{p}{(}\\PY{l+s+s2}{\\PYZdq{}}\\PY{l+s+s2}{Validation Score}\\PY{l+s+s2}{\\PYZdq{}}\\PY{p}{)}\n\\PY{n+nb}{print}\\PY{p}{(}\\PY{n+nb}{round}\\PY{p}{(}\\PY{n}{poly\\PYZus{}reg\\PYZus{}pipe}\\PY{o}{.}\\PY{n}{score}\\PY{p}{(}\\PY{n}{X\\PYZus{}val}\\PY{p}{,} \\PY{n}{y\\PYZus{}val}\\PY{p}{)}\\PY{p}{,} \\PY{l+m+mi}{3}\\PY{p}{)}\\PY{p}{)}\n\\end{Verbatim}\n",
         "text/plain": "from sklearn.preprocessing import PolynomialFeatures\n\nreg = LinearRegression()\npoly = PolynomialFeatures(include_bias=False)\n\npoly_reg_pipe = Pipeline([\n    (\"drop_duplicated\", DD),\n    (\"make_dataframe\", DT),\n    (\"feature_selection\", fs),\n    (\"log_transformer\", lt),\n    (\"pol\", poly),\n    (\"scaler\", scaler),\n    (\"model\", reg)\n])\n\npoly_reg_pipe.fit(X_train, y_train)\nprint(\"Training Score\")\nprint(round(poly_reg_pipe.score(X_train, y_train), 3))\nprint(\"Validation Score\")\nprint(round(poly_reg_pipe.score(X_val, y_val), 3))"
        },
        "metadata": {},
        "output_type": "display_data"
       }
      ]
     }
    },
    "214b0b81e59148a2a2d380ad0a321ccf": {
     "model_module": "@jupyter-widgets/base",
     "model_module_version": "1.2.0",
     "model_name": "LayoutModel",
     "state": {
      "_model_module": "@jupyter-widgets/base",
      "_model_module_version": "1.2.0",
      "_model_name": "LayoutModel",
      "_view_count": null,
      "_view_module": "@jupyter-widgets/base",
      "_view_module_version": "1.2.0",
      "_view_name": "LayoutView",
      "align_content": null,
      "align_items": null,
      "align_self": null,
      "border": null,
      "bottom": null,
      "display": null,
      "flex": null,
      "flex_flow": null,
      "grid_area": null,
      "grid_auto_columns": null,
      "grid_auto_flow": null,
      "grid_auto_rows": null,
      "grid_column": null,
      "grid_gap": null,
      "grid_row": null,
      "grid_template_areas": null,
      "grid_template_columns": null,
      "grid_template_rows": null,
      "height": null,
      "justify_content": null,
      "justify_items": null,
      "left": null,
      "margin": null,
      "max_height": null,
      "max_width": null,
      "min_height": null,
      "min_width": null,
      "object_fit": null,
      "object_position": null,
      "order": null,
      "overflow": null,
      "overflow_x": null,
      "overflow_y": null,
      "padding": null,
      "right": null,
      "top": null,
      "visibility": null,
      "width": null
     }
    },
    "21a73ae4c6a443cab4630af2c95eafe4": {
     "model_module": "@jupyter-widgets/output",
     "model_module_version": "1.0.0",
     "model_name": "OutputModel",
     "state": {
      "_dom_classes": [],
      "_model_module": "@jupyter-widgets/output",
      "_model_module_version": "1.0.0",
      "_model_name": "OutputModel",
      "_view_count": null,
      "_view_module": "@jupyter-widgets/output",
      "_view_module_version": "1.0.0",
      "_view_name": "OutputView",
      "layout": "IPY_MODEL_f9798024af2e4b52b60aeeeded2acca7",
      "msg_id": "",
      "outputs": [
       {
        "data": {
         "text/html": "<style>.output_html .hll { background-color: #ffffcc }\n.output_html  { background: #f8f8f8; }\n.output_html .c { color: #408080; font-style: italic } /* Comment */\n.output_html .err { border: 1px solid #FF0000 } /* Error */\n.output_html .k { color: #008000; font-weight: bold } /* Keyword */\n.output_html .o { color: #666666 } /* Operator */\n.output_html .ch { color: #408080; font-style: italic } /* Comment.Hashbang */\n.output_html .cm { color: #408080; font-style: italic } /* Comment.Multiline */\n.output_html .cp { color: #BC7A00 } /* Comment.Preproc */\n.output_html .cpf { color: #408080; font-style: italic } /* Comment.PreprocFile */\n.output_html .c1 { color: #408080; font-style: italic } /* Comment.Single */\n.output_html .cs { color: #408080; font-style: italic } /* Comment.Special */\n.output_html .gd { color: #A00000 } /* Generic.Deleted */\n.output_html .ge { font-style: italic } /* Generic.Emph */\n.output_html .gr { color: #FF0000 } /* Generic.Error */\n.output_html .gh { color: #000080; font-weight: bold } /* Generic.Heading */\n.output_html .gi { color: #00A000 } /* Generic.Inserted */\n.output_html .go { color: #888888 } /* Generic.Output */\n.output_html .gp { color: #000080; font-weight: bold } /* Generic.Prompt */\n.output_html .gs { font-weight: bold } /* Generic.Strong */\n.output_html .gu { color: #800080; font-weight: bold } /* Generic.Subheading */\n.output_html .gt { color: #0044DD } /* Generic.Traceback */\n.output_html .kc { color: #008000; font-weight: bold } /* Keyword.Constant */\n.output_html .kd { color: #008000; font-weight: bold } /* Keyword.Declaration */\n.output_html .kn { color: #008000; font-weight: bold } /* Keyword.Namespace */\n.output_html .kp { color: #008000 } /* Keyword.Pseudo */\n.output_html .kr { color: #008000; font-weight: bold } /* Keyword.Reserved */\n.output_html .kt { color: #B00040 } /* Keyword.Type */\n.output_html .m { color: #666666 } /* Literal.Number */\n.output_html .s { color: #BA2121 } /* Literal.String */\n.output_html .na { color: #7D9029 } /* Name.Attribute */\n.output_html .nb { color: #008000 } /* Name.Builtin */\n.output_html .nc { color: #0000FF; font-weight: bold } /* Name.Class */\n.output_html .no { color: #880000 } /* Name.Constant */\n.output_html .nd { color: #AA22FF } /* Name.Decorator */\n.output_html .ni { color: #999999; font-weight: bold } /* Name.Entity */\n.output_html .ne { color: #D2413A; font-weight: bold } /* Name.Exception */\n.output_html .nf { color: #0000FF } /* Name.Function */\n.output_html .nl { color: #A0A000 } /* Name.Label */\n.output_html .nn { color: #0000FF; font-weight: bold } /* Name.Namespace */\n.output_html .nt { color: #008000; font-weight: bold } /* Name.Tag */\n.output_html .nv { color: #19177C } /* Name.Variable */\n.output_html .ow { color: #AA22FF; font-weight: bold } /* Operator.Word */\n.output_html .w { color: #bbbbbb } /* Text.Whitespace */\n.output_html .mb { color: #666666 } /* Literal.Number.Bin */\n.output_html .mf { color: #666666 } /* Literal.Number.Float */\n.output_html .mh { color: #666666 } /* Literal.Number.Hex */\n.output_html .mi { color: #666666 } /* Literal.Number.Integer */\n.output_html .mo { color: #666666 } /* Literal.Number.Oct */\n.output_html .sa { color: #BA2121 } /* Literal.String.Affix */\n.output_html .sb { color: #BA2121 } /* Literal.String.Backtick */\n.output_html .sc { color: #BA2121 } /* Literal.String.Char */\n.output_html .dl { color: #BA2121 } /* Literal.String.Delimiter */\n.output_html .sd { color: #BA2121; font-style: italic } /* Literal.String.Doc */\n.output_html .s2 { color: #BA2121 } /* Literal.String.Double */\n.output_html .se { color: #BB6622; font-weight: bold } /* Literal.String.Escape */\n.output_html .sh { color: #BA2121 } /* Literal.String.Heredoc */\n.output_html .si { color: #BB6688; font-weight: bold } /* Literal.String.Interpol */\n.output_html .sx { color: #008000 } /* Literal.String.Other */\n.output_html .sr { color: #BB6688 } /* Literal.String.Regex */\n.output_html .s1 { color: #BA2121 } /* Literal.String.Single */\n.output_html .ss { color: #19177C } /* Literal.String.Symbol */\n.output_html .bp { color: #008000 } /* Name.Builtin.Pseudo */\n.output_html .fm { color: #0000FF } /* Name.Function.Magic */\n.output_html .vc { color: #19177C } /* Name.Variable.Class */\n.output_html .vg { color: #19177C } /* Name.Variable.Global */\n.output_html .vi { color: #19177C } /* Name.Variable.Instance */\n.output_html .vm { color: #19177C } /* Name.Variable.Magic */\n.output_html .il { color: #666666 } /* Literal.Number.Integer.Long */</style><div class=\"highlight\"><pre><span></span><span class=\"kn\">from</span> <span class=\"nn\">feature_engine.selection</span> <span class=\"kn\">import</span> <span class=\"n\">DropCorrelatedFeatures</span>\n<span class=\"kn\">import</span> <span class=\"nn\">numpy</span> <span class=\"k\">as</span> <span class=\"nn\">np</span>\n\n<span class=\"n\">fs</span> <span class=\"o\">=</span> <span class=\"n\">DropCorrelatedFeatures</span><span class=\"p\">(</span><span class=\"n\">variables</span><span class=\"o\">=</span><span class=\"kc\">None</span><span class=\"p\">,</span> \n                            <span class=\"n\">method</span><span class=\"o\">=</span><span class=\"s1\">&#39;pearson&#39;</span><span class=\"p\">,</span> \n                            <span class=\"n\">threshold</span><span class=\"o\">=</span><span class=\"mf\">0.6</span><span class=\"p\">)</span>\n\n<span class=\"n\">X_train_fs</span> <span class=\"o\">=</span> <span class=\"n\">fs</span><span class=\"o\">.</span><span class=\"n\">fit_transform</span><span class=\"p\">(</span><span class=\"n\">X_train</span><span class=\"p\">)</span>\n\n<span class=\"nb\">print</span><span class=\"p\">(</span><span class=\"s2\">&quot;Correlated Feature Groups&quot;</span><span class=\"p\">)</span>\n<span class=\"n\">display</span><span class=\"p\">(</span><span class=\"n\">fs</span><span class=\"o\">.</span><span class=\"n\">correlated_feature_sets_</span><span class=\"p\">)</span>\n\n<span class=\"nb\">print</span><span class=\"p\">(</span><span class=\"s2\">&quot;Dropped&quot;</span><span class=\"p\">)</span>\n<span class=\"nb\">list</span><span class=\"p\">(</span><span class=\"n\">np</span><span class=\"o\">.</span><span class=\"n\">setdiff1d</span><span class=\"p\">(</span><span class=\"nb\">list</span><span class=\"p\">(</span><span class=\"n\">X_train</span><span class=\"o\">.</span><span class=\"n\">columns</span><span class=\"p\">),</span> <span class=\"nb\">list</span><span class=\"p\">(</span><span class=\"n\">X_train_fs</span><span class=\"o\">.</span><span class=\"n\">columns</span><span class=\"p\">)))</span>\n</pre></div>\n",
         "text/latex": "\\begin{Verbatim}[commandchars=\\\\\\{\\}]\n\\PY{k+kn}{from} \\PY{n+nn}{feature\\PYZus{}engine}\\PY{n+nn}{.}\\PY{n+nn}{selection} \\PY{k+kn}{import} \\PY{n}{DropCorrelatedFeatures}\n\\PY{k+kn}{import} \\PY{n+nn}{numpy} \\PY{k}{as} \\PY{n+nn}{np}\n\n\\PY{n}{fs} \\PY{o}{=} \\PY{n}{DropCorrelatedFeatures}\\PY{p}{(}\\PY{n}{variables}\\PY{o}{=}\\PY{k+kc}{None}\\PY{p}{,} \n                            \\PY{n}{method}\\PY{o}{=}\\PY{l+s+s1}{\\PYZsq{}}\\PY{l+s+s1}{pearson}\\PY{l+s+s1}{\\PYZsq{}}\\PY{p}{,} \n                            \\PY{n}{threshold}\\PY{o}{=}\\PY{l+m+mf}{0.6}\\PY{p}{)}\n\n\\PY{n}{X\\PYZus{}train\\PYZus{}fs} \\PY{o}{=} \\PY{n}{fs}\\PY{o}{.}\\PY{n}{fit\\PYZus{}transform}\\PY{p}{(}\\PY{n}{X\\PYZus{}train}\\PY{p}{)}\n\n\\PY{n+nb}{print}\\PY{p}{(}\\PY{l+s+s2}{\\PYZdq{}}\\PY{l+s+s2}{Correlated Feature Groups}\\PY{l+s+s2}{\\PYZdq{}}\\PY{p}{)}\n\\PY{n}{display}\\PY{p}{(}\\PY{n}{fs}\\PY{o}{.}\\PY{n}{correlated\\PYZus{}feature\\PYZus{}sets\\PYZus{}}\\PY{p}{)}\n\n\\PY{n+nb}{print}\\PY{p}{(}\\PY{l+s+s2}{\\PYZdq{}}\\PY{l+s+s2}{Dropped}\\PY{l+s+s2}{\\PYZdq{}}\\PY{p}{)}\n\\PY{n+nb}{list}\\PY{p}{(}\\PY{n}{np}\\PY{o}{.}\\PY{n}{setdiff1d}\\PY{p}{(}\\PY{n+nb}{list}\\PY{p}{(}\\PY{n}{X\\PYZus{}train}\\PY{o}{.}\\PY{n}{columns}\\PY{p}{)}\\PY{p}{,} \\PY{n+nb}{list}\\PY{p}{(}\\PY{n}{X\\PYZus{}train\\PYZus{}fs}\\PY{o}{.}\\PY{n}{columns}\\PY{p}{)}\\PY{p}{)}\\PY{p}{)}\n\\end{Verbatim}\n",
         "text/plain": "from feature_engine.selection import DropCorrelatedFeatures\nimport numpy as np\n\nfs = DropCorrelatedFeatures(variables=None, \n                            method='pearson', \n                            threshold=0.6)\n\nX_train_fs = fs.fit_transform(X_train)\n\nprint(\"Correlated Feature Groups\")\ndisplay(fs.correlated_feature_sets_)\n\nprint(\"Dropped\")\nlist(np.setdiff1d(list(X_train.columns), list(X_train_fs.columns)))"
        },
        "metadata": {},
        "output_type": "display_data"
       },
       {
        "data": {
         "text/markdown": "As listed above, 4 features were dropped. In the first instance, `citric acid`, `density`, and `pH` were dropped as they were correlated to `fixed acidity` and this variable appears in the data before the others. Similarly, as `free sulfur dioxide` is before `total sulfur dioxide`, the latter was also dropped. \n\n`feature_engine` provides another way of dropping correlated features (`SmartCorrelatedSelection`). This method uses a number of heuristics to decide which feature to drop instead of only keeping the \"first found\".\n",
         "text/plain": "<IPython.core.display.Markdown object>"
        },
        "metadata": {},
        "output_type": "display_data"
       }
      ]
     }
    },
    "24c23803361142d5b73c3414154e707b": {
     "model_module": "@jupyter-widgets/output",
     "model_module_version": "1.0.0",
     "model_name": "OutputModel",
     "state": {
      "_dom_classes": [],
      "_model_module": "@jupyter-widgets/output",
      "_model_module_version": "1.0.0",
      "_model_name": "OutputModel",
      "_view_count": null,
      "_view_module": "@jupyter-widgets/output",
      "_view_module_version": "1.0.0",
      "_view_name": "OutputView",
      "layout": "IPY_MODEL_459faa6d8d564bf982b36cca39b18d3a",
      "msg_id": "",
      "outputs": [
       {
        "data": {
         "text/html": "<style>.output_html .hll { background-color: #ffffcc }\n.output_html  { background: #f8f8f8; }\n.output_html .c { color: #408080; font-style: italic } /* Comment */\n.output_html .err { border: 1px solid #FF0000 } /* Error */\n.output_html .k { color: #008000; font-weight: bold } /* Keyword */\n.output_html .o { color: #666666 } /* Operator */\n.output_html .ch { color: #408080; font-style: italic } /* Comment.Hashbang */\n.output_html .cm { color: #408080; font-style: italic } /* Comment.Multiline */\n.output_html .cp { color: #BC7A00 } /* Comment.Preproc */\n.output_html .cpf { color: #408080; font-style: italic } /* Comment.PreprocFile */\n.output_html .c1 { color: #408080; font-style: italic } /* Comment.Single */\n.output_html .cs { color: #408080; font-style: italic } /* Comment.Special */\n.output_html .gd { color: #A00000 } /* Generic.Deleted */\n.output_html .ge { font-style: italic } /* Generic.Emph */\n.output_html .gr { color: #FF0000 } /* Generic.Error */\n.output_html .gh { color: #000080; font-weight: bold } /* Generic.Heading */\n.output_html .gi { color: #00A000 } /* Generic.Inserted */\n.output_html .go { color: #888888 } /* Generic.Output */\n.output_html .gp { color: #000080; font-weight: bold } /* Generic.Prompt */\n.output_html .gs { font-weight: bold } /* Generic.Strong */\n.output_html .gu { color: #800080; font-weight: bold } /* Generic.Subheading */\n.output_html .gt { color: #0044DD } /* Generic.Traceback */\n.output_html .kc { color: #008000; font-weight: bold } /* Keyword.Constant */\n.output_html .kd { color: #008000; font-weight: bold } /* Keyword.Declaration */\n.output_html .kn { color: #008000; font-weight: bold } /* Keyword.Namespace */\n.output_html .kp { color: #008000 } /* Keyword.Pseudo */\n.output_html .kr { color: #008000; font-weight: bold } /* Keyword.Reserved */\n.output_html .kt { color: #B00040 } /* Keyword.Type */\n.output_html .m { color: #666666 } /* Literal.Number */\n.output_html .s { color: #BA2121 } /* Literal.String */\n.output_html .na { color: #7D9029 } /* Name.Attribute */\n.output_html .nb { color: #008000 } /* Name.Builtin */\n.output_html .nc { color: #0000FF; font-weight: bold } /* Name.Class */\n.output_html .no { color: #880000 } /* Name.Constant */\n.output_html .nd { color: #AA22FF } /* Name.Decorator */\n.output_html .ni { color: #999999; font-weight: bold } /* Name.Entity */\n.output_html .ne { color: #D2413A; font-weight: bold } /* Name.Exception */\n.output_html .nf { color: #0000FF } /* Name.Function */\n.output_html .nl { color: #A0A000 } /* Name.Label */\n.output_html .nn { color: #0000FF; font-weight: bold } /* Name.Namespace */\n.output_html .nt { color: #008000; font-weight: bold } /* Name.Tag */\n.output_html .nv { color: #19177C } /* Name.Variable */\n.output_html .ow { color: #AA22FF; font-weight: bold } /* Operator.Word */\n.output_html .w { color: #bbbbbb } /* Text.Whitespace */\n.output_html .mb { color: #666666 } /* Literal.Number.Bin */\n.output_html .mf { color: #666666 } /* Literal.Number.Float */\n.output_html .mh { color: #666666 } /* Literal.Number.Hex */\n.output_html .mi { color: #666666 } /* Literal.Number.Integer */\n.output_html .mo { color: #666666 } /* Literal.Number.Oct */\n.output_html .sa { color: #BA2121 } /* Literal.String.Affix */\n.output_html .sb { color: #BA2121 } /* Literal.String.Backtick */\n.output_html .sc { color: #BA2121 } /* Literal.String.Char */\n.output_html .dl { color: #BA2121 } /* Literal.String.Delimiter */\n.output_html .sd { color: #BA2121; font-style: italic } /* Literal.String.Doc */\n.output_html .s2 { color: #BA2121 } /* Literal.String.Double */\n.output_html .se { color: #BB6622; font-weight: bold } /* Literal.String.Escape */\n.output_html .sh { color: #BA2121 } /* Literal.String.Heredoc */\n.output_html .si { color: #BB6688; font-weight: bold } /* Literal.String.Interpol */\n.output_html .sx { color: #008000 } /* Literal.String.Other */\n.output_html .sr { color: #BB6688 } /* Literal.String.Regex */\n.output_html .s1 { color: #BA2121 } /* Literal.String.Single */\n.output_html .ss { color: #19177C } /* Literal.String.Symbol */\n.output_html .bp { color: #008000 } /* Name.Builtin.Pseudo */\n.output_html .fm { color: #0000FF } /* Name.Function.Magic */\n.output_html .vc { color: #19177C } /* Name.Variable.Class */\n.output_html .vg { color: #19177C } /* Name.Variable.Global */\n.output_html .vi { color: #19177C } /* Name.Variable.Instance */\n.output_html .vm { color: #19177C } /* Name.Variable.Magic */\n.output_html .il { color: #666666 } /* Literal.Number.Integer.Long */</style><div class=\"highlight\"><pre><span></span><span class=\"n\">train_df</span><span class=\"o\">.</span><span class=\"n\">describe</span><span class=\"p\">()</span>\n</pre></div>\n",
         "text/latex": "\\begin{Verbatim}[commandchars=\\\\\\{\\}]\n\\PY{n}{train\\PYZus{}df}\\PY{o}{.}\\PY{n}{describe}\\PY{p}{(}\\PY{p}{)}\n\\end{Verbatim}\n",
         "text/plain": "train_df.describe()"
        },
        "metadata": {},
        "output_type": "display_data"
       },
       {
        "data": {
         "text/markdown": "Some of the maximum values seem quite large comparative to the median and may warrent looking into more (e.g. `total sulfur dioxide`).\n",
         "text/plain": "<IPython.core.display.Markdown object>"
        },
        "metadata": {},
        "output_type": "display_data"
       }
      ]
     }
    },
    "25bebaa82e3b44c99e2fc496bd6064a7": {
     "model_module": "@jupyter-widgets/controls",
     "model_module_version": "1.5.0",
     "model_name": "ButtonModel",
     "state": {
      "_dom_classes": [],
      "_model_module": "@jupyter-widgets/controls",
      "_model_module_version": "1.5.0",
      "_model_name": "ButtonModel",
      "_view_count": null,
      "_view_module": "@jupyter-widgets/controls",
      "_view_module_version": "1.5.0",
      "_view_name": "ButtonView",
      "button_style": "",
      "description": "Hide solution",
      "disabled": false,
      "icon": "",
      "layout": "IPY_MODEL_19cbbcad7e4e4e8d877f2b4878cdff24",
      "style": "IPY_MODEL_52f6a35e1c3a4eafa300ebadf4cc69ee",
      "tooltip": ""
     }
    },
    "275a5f8d0bbc4f7fb4fa8d15adf5eb50": {
     "model_module": "@jupyter-widgets/controls",
     "model_module_version": "1.5.0",
     "model_name": "ButtonModel",
     "state": {
      "_dom_classes": [],
      "_model_module": "@jupyter-widgets/controls",
      "_model_module_version": "1.5.0",
      "_model_name": "ButtonModel",
      "_view_count": null,
      "_view_module": "@jupyter-widgets/controls",
      "_view_module_version": "1.5.0",
      "_view_name": "ButtonView",
      "button_style": "",
      "description": "Hide solution",
      "disabled": false,
      "icon": "",
      "layout": "IPY_MODEL_b7cce85de69a408492107a52a180dfc0",
      "style": "IPY_MODEL_368a4afd552b48e5bcbd770e3003252a",
      "tooltip": ""
     }
    },
    "2c943865a49846918d96f0051f34ebb3": {
     "model_module": "@jupyter-widgets/controls",
     "model_module_version": "1.5.0",
     "model_name": "ButtonStyleModel",
     "state": {
      "_model_module": "@jupyter-widgets/controls",
      "_model_module_version": "1.5.0",
      "_model_name": "ButtonStyleModel",
      "_view_count": null,
      "_view_module": "@jupyter-widgets/base",
      "_view_module_version": "1.2.0",
      "_view_name": "StyleView",
      "button_color": null,
      "font_weight": ""
     }
    },
    "314027c6d04644efa55653210b613841": {
     "model_module": "@jupyter-widgets/base",
     "model_module_version": "1.2.0",
     "model_name": "LayoutModel",
     "state": {
      "_model_module": "@jupyter-widgets/base",
      "_model_module_version": "1.2.0",
      "_model_name": "LayoutModel",
      "_view_count": null,
      "_view_module": "@jupyter-widgets/base",
      "_view_module_version": "1.2.0",
      "_view_name": "LayoutView",
      "align_content": null,
      "align_items": null,
      "align_self": null,
      "border": null,
      "bottom": null,
      "display": null,
      "flex": null,
      "flex_flow": null,
      "grid_area": null,
      "grid_auto_columns": null,
      "grid_auto_flow": null,
      "grid_auto_rows": null,
      "grid_column": null,
      "grid_gap": null,
      "grid_row": null,
      "grid_template_areas": null,
      "grid_template_columns": null,
      "grid_template_rows": null,
      "height": null,
      "justify_content": null,
      "justify_items": null,
      "left": null,
      "margin": null,
      "max_height": null,
      "max_width": null,
      "min_height": null,
      "min_width": null,
      "object_fit": null,
      "object_position": null,
      "order": null,
      "overflow": null,
      "overflow_x": null,
      "overflow_y": null,
      "padding": null,
      "right": null,
      "top": null,
      "visibility": null,
      "width": null
     }
    },
    "31d442377c244476b46c6f9f835fff80": {
     "model_module": "@jupyter-widgets/output",
     "model_module_version": "1.0.0",
     "model_name": "OutputModel",
     "state": {
      "_dom_classes": [],
      "_model_module": "@jupyter-widgets/output",
      "_model_module_version": "1.0.0",
      "_model_name": "OutputModel",
      "_view_count": null,
      "_view_module": "@jupyter-widgets/output",
      "_view_module_version": "1.0.0",
      "_view_name": "OutputView",
      "layout": "IPY_MODEL_aeff67eec0d64ce988f13ba64019e25e",
      "msg_id": "",
      "outputs": [
       {
        "data": {
         "text/html": "<style>.output_html .hll { background-color: #ffffcc }\n.output_html  { background: #f8f8f8; }\n.output_html .c { color: #408080; font-style: italic } /* Comment */\n.output_html .err { border: 1px solid #FF0000 } /* Error */\n.output_html .k { color: #008000; font-weight: bold } /* Keyword */\n.output_html .o { color: #666666 } /* Operator */\n.output_html .ch { color: #408080; font-style: italic } /* Comment.Hashbang */\n.output_html .cm { color: #408080; font-style: italic } /* Comment.Multiline */\n.output_html .cp { color: #BC7A00 } /* Comment.Preproc */\n.output_html .cpf { color: #408080; font-style: italic } /* Comment.PreprocFile */\n.output_html .c1 { color: #408080; font-style: italic } /* Comment.Single */\n.output_html .cs { color: #408080; font-style: italic } /* Comment.Special */\n.output_html .gd { color: #A00000 } /* Generic.Deleted */\n.output_html .ge { font-style: italic } /* Generic.Emph */\n.output_html .gr { color: #FF0000 } /* Generic.Error */\n.output_html .gh { color: #000080; font-weight: bold } /* Generic.Heading */\n.output_html .gi { color: #00A000 } /* Generic.Inserted */\n.output_html .go { color: #888888 } /* Generic.Output */\n.output_html .gp { color: #000080; font-weight: bold } /* Generic.Prompt */\n.output_html .gs { font-weight: bold } /* Generic.Strong */\n.output_html .gu { color: #800080; font-weight: bold } /* Generic.Subheading */\n.output_html .gt { color: #0044DD } /* Generic.Traceback */\n.output_html .kc { color: #008000; font-weight: bold } /* Keyword.Constant */\n.output_html .kd { color: #008000; font-weight: bold } /* Keyword.Declaration */\n.output_html .kn { color: #008000; font-weight: bold } /* Keyword.Namespace */\n.output_html .kp { color: #008000 } /* Keyword.Pseudo */\n.output_html .kr { color: #008000; font-weight: bold } /* Keyword.Reserved */\n.output_html .kt { color: #B00040 } /* Keyword.Type */\n.output_html .m { color: #666666 } /* Literal.Number */\n.output_html .s { color: #BA2121 } /* Literal.String */\n.output_html .na { color: #7D9029 } /* Name.Attribute */\n.output_html .nb { color: #008000 } /* Name.Builtin */\n.output_html .nc { color: #0000FF; font-weight: bold } /* Name.Class */\n.output_html .no { color: #880000 } /* Name.Constant */\n.output_html .nd { color: #AA22FF } /* Name.Decorator */\n.output_html .ni { color: #999999; font-weight: bold } /* Name.Entity */\n.output_html .ne { color: #D2413A; font-weight: bold } /* Name.Exception */\n.output_html .nf { color: #0000FF } /* Name.Function */\n.output_html .nl { color: #A0A000 } /* Name.Label */\n.output_html .nn { color: #0000FF; font-weight: bold } /* Name.Namespace */\n.output_html .nt { color: #008000; font-weight: bold } /* Name.Tag */\n.output_html .nv { color: #19177C } /* Name.Variable */\n.output_html .ow { color: #AA22FF; font-weight: bold } /* Operator.Word */\n.output_html .w { color: #bbbbbb } /* Text.Whitespace */\n.output_html .mb { color: #666666 } /* Literal.Number.Bin */\n.output_html .mf { color: #666666 } /* Literal.Number.Float */\n.output_html .mh { color: #666666 } /* Literal.Number.Hex */\n.output_html .mi { color: #666666 } /* Literal.Number.Integer */\n.output_html .mo { color: #666666 } /* Literal.Number.Oct */\n.output_html .sa { color: #BA2121 } /* Literal.String.Affix */\n.output_html .sb { color: #BA2121 } /* Literal.String.Backtick */\n.output_html .sc { color: #BA2121 } /* Literal.String.Char */\n.output_html .dl { color: #BA2121 } /* Literal.String.Delimiter */\n.output_html .sd { color: #BA2121; font-style: italic } /* Literal.String.Doc */\n.output_html .s2 { color: #BA2121 } /* Literal.String.Double */\n.output_html .se { color: #BB6622; font-weight: bold } /* Literal.String.Escape */\n.output_html .sh { color: #BA2121 } /* Literal.String.Heredoc */\n.output_html .si { color: #BB6688; font-weight: bold } /* Literal.String.Interpol */\n.output_html .sx { color: #008000 } /* Literal.String.Other */\n.output_html .sr { color: #BB6688 } /* Literal.String.Regex */\n.output_html .s1 { color: #BA2121 } /* Literal.String.Single */\n.output_html .ss { color: #19177C } /* Literal.String.Symbol */\n.output_html .bp { color: #008000 } /* Name.Builtin.Pseudo */\n.output_html .fm { color: #0000FF } /* Name.Function.Magic */\n.output_html .vc { color: #19177C } /* Name.Variable.Class */\n.output_html .vg { color: #19177C } /* Name.Variable.Global */\n.output_html .vi { color: #19177C } /* Name.Variable.Instance */\n.output_html .vm { color: #19177C } /* Name.Variable.Magic */\n.output_html .il { color: #666666 } /* Literal.Number.Integer.Long */</style><div class=\"highlight\"><pre><span></span><span class=\"kn\">from</span> <span class=\"nn\">sklearn.preprocessing</span> <span class=\"kn\">import</span> <span class=\"n\">StandardScaler</span>\n<span class=\"n\">scaler</span> <span class=\"o\">=</span> <span class=\"n\">StandardScaler</span><span class=\"p\">()</span> \n\n<span class=\"n\">scaler</span><span class=\"o\">.</span><span class=\"n\">fit</span><span class=\"p\">(</span><span class=\"n\">X_train</span><span class=\"p\">)</span>\n<span class=\"n\">X_train_scaled</span> <span class=\"o\">=</span> <span class=\"n\">scaler</span><span class=\"o\">.</span><span class=\"n\">transform</span><span class=\"p\">(</span><span class=\"n\">X_train</span><span class=\"p\">)</span>\n\n<span class=\"nb\">print</span><span class=\"p\">(</span><span class=\"s2\">&quot;Mean&quot;</span><span class=\"p\">)</span>\n<span class=\"n\">display</span><span class=\"p\">(</span><span class=\"n\">scaler</span><span class=\"o\">.</span><span class=\"n\">mean_</span><span class=\"p\">)</span>\n<span class=\"nb\">print</span><span class=\"p\">(</span><span class=\"s2\">&quot;Std&quot;</span><span class=\"p\">)</span>\n<span class=\"n\">display</span><span class=\"p\">(</span><span class=\"n\">scaler</span><span class=\"o\">.</span><span class=\"n\">scale_</span><span class=\"p\">)</span>\n</pre></div>\n",
         "text/latex": "\\begin{Verbatim}[commandchars=\\\\\\{\\}]\n\\PY{k+kn}{from} \\PY{n+nn}{sklearn}\\PY{n+nn}{.}\\PY{n+nn}{preprocessing} \\PY{k+kn}{import} \\PY{n}{StandardScaler}\n\\PY{n}{scaler} \\PY{o}{=} \\PY{n}{StandardScaler}\\PY{p}{(}\\PY{p}{)} \n\n\\PY{n}{scaler}\\PY{o}{.}\\PY{n}{fit}\\PY{p}{(}\\PY{n}{X\\PYZus{}train}\\PY{p}{)}\n\\PY{n}{X\\PYZus{}train\\PYZus{}scaled} \\PY{o}{=} \\PY{n}{scaler}\\PY{o}{.}\\PY{n}{transform}\\PY{p}{(}\\PY{n}{X\\PYZus{}train}\\PY{p}{)}\n\n\\PY{n+nb}{print}\\PY{p}{(}\\PY{l+s+s2}{\\PYZdq{}}\\PY{l+s+s2}{Mean}\\PY{l+s+s2}{\\PYZdq{}}\\PY{p}{)}\n\\PY{n}{display}\\PY{p}{(}\\PY{n}{scaler}\\PY{o}{.}\\PY{n}{mean\\PYZus{}}\\PY{p}{)}\n\\PY{n+nb}{print}\\PY{p}{(}\\PY{l+s+s2}{\\PYZdq{}}\\PY{l+s+s2}{Std}\\PY{l+s+s2}{\\PYZdq{}}\\PY{p}{)}\n\\PY{n}{display}\\PY{p}{(}\\PY{n}{scaler}\\PY{o}{.}\\PY{n}{scale\\PYZus{}}\\PY{p}{)}\n\\end{Verbatim}\n",
         "text/plain": "from sklearn.preprocessing import StandardScaler\nscaler = StandardScaler() \n\nscaler.fit(X_train)\nX_train_scaled = scaler.transform(X_train)\n\nprint(\"Mean\")\ndisplay(scaler.mean_)\nprint(\"Std\")\ndisplay(scaler.scale_)"
        },
        "metadata": {},
        "output_type": "display_data"
       }
      ]
     }
    },
    "368a4afd552b48e5bcbd770e3003252a": {
     "model_module": "@jupyter-widgets/controls",
     "model_module_version": "1.5.0",
     "model_name": "ButtonStyleModel",
     "state": {
      "_model_module": "@jupyter-widgets/controls",
      "_model_module_version": "1.5.0",
      "_model_name": "ButtonStyleModel",
      "_view_count": null,
      "_view_module": "@jupyter-widgets/base",
      "_view_module_version": "1.2.0",
      "_view_name": "StyleView",
      "button_color": null,
      "font_weight": ""
     }
    },
    "3697d77bdc964d568028234f944b2d73": {
     "model_module": "@jupyter-widgets/controls",
     "model_module_version": "1.5.0",
     "model_name": "ButtonModel",
     "state": {
      "_dom_classes": [],
      "_model_module": "@jupyter-widgets/controls",
      "_model_module_version": "1.5.0",
      "_model_name": "ButtonModel",
      "_view_count": null,
      "_view_module": "@jupyter-widgets/controls",
      "_view_module_version": "1.5.0",
      "_view_name": "ButtonView",
      "button_style": "",
      "description": "Hide solution",
      "disabled": false,
      "icon": "",
      "layout": "IPY_MODEL_6194277c00c3475aafc65c679380edf1",
      "style": "IPY_MODEL_f002f289423c47669f8f2896eb878d8a",
      "tooltip": ""
     }
    },
    "36a214d86fcf4a8c8689df4232d45216": {
     "model_module": "@jupyter-widgets/base",
     "model_module_version": "1.2.0",
     "model_name": "LayoutModel",
     "state": {
      "_model_module": "@jupyter-widgets/base",
      "_model_module_version": "1.2.0",
      "_model_name": "LayoutModel",
      "_view_count": null,
      "_view_module": "@jupyter-widgets/base",
      "_view_module_version": "1.2.0",
      "_view_name": "LayoutView",
      "align_content": null,
      "align_items": null,
      "align_self": null,
      "border": null,
      "bottom": null,
      "display": null,
      "flex": null,
      "flex_flow": null,
      "grid_area": null,
      "grid_auto_columns": null,
      "grid_auto_flow": null,
      "grid_auto_rows": null,
      "grid_column": null,
      "grid_gap": null,
      "grid_row": null,
      "grid_template_areas": null,
      "grid_template_columns": null,
      "grid_template_rows": null,
      "height": null,
      "justify_content": null,
      "justify_items": null,
      "left": null,
      "margin": null,
      "max_height": null,
      "max_width": null,
      "min_height": null,
      "min_width": null,
      "object_fit": null,
      "object_position": null,
      "order": null,
      "overflow": null,
      "overflow_x": null,
      "overflow_y": null,
      "padding": null,
      "right": null,
      "top": null,
      "visibility": null,
      "width": null
     }
    },
    "3cd491b3e6154d8ca9c36ac5ff53f110": {
     "model_module": "@jupyter-widgets/controls",
     "model_module_version": "1.5.0",
     "model_name": "ButtonModel",
     "state": {
      "_dom_classes": [],
      "_model_module": "@jupyter-widgets/controls",
      "_model_module_version": "1.5.0",
      "_model_name": "ButtonModel",
      "_view_count": null,
      "_view_module": "@jupyter-widgets/controls",
      "_view_module_version": "1.5.0",
      "_view_name": "ButtonView",
      "button_style": "",
      "description": "Hide solution",
      "disabled": false,
      "icon": "",
      "layout": "IPY_MODEL_a37d292ca86b451c8337d33752e858dc",
      "style": "IPY_MODEL_9e54e55dbb064c1cbea50889ddc7191b",
      "tooltip": ""
     }
    },
    "3de537867eef460b93a7acf6b965fc42": {
     "model_module": "@jupyter-widgets/controls",
     "model_module_version": "1.5.0",
     "model_name": "ButtonModel",
     "state": {
      "_dom_classes": [],
      "_model_module": "@jupyter-widgets/controls",
      "_model_module_version": "1.5.0",
      "_model_name": "ButtonModel",
      "_view_count": null,
      "_view_module": "@jupyter-widgets/controls",
      "_view_module_version": "1.5.0",
      "_view_name": "ButtonView",
      "button_style": "",
      "description": "Hide solution",
      "disabled": false,
      "icon": "",
      "layout": "IPY_MODEL_d0a186e8051c421e849cb19b1936f477",
      "style": "IPY_MODEL_16e06440fa464bed826bb670a3d3445f",
      "tooltip": ""
     }
    },
    "3ed7828ee75d4ca28a79c50c8e486124": {
     "model_module": "@jupyter-widgets/controls",
     "model_module_version": "1.5.0",
     "model_name": "ButtonModel",
     "state": {
      "_dom_classes": [],
      "_model_module": "@jupyter-widgets/controls",
      "_model_module_version": "1.5.0",
      "_model_name": "ButtonModel",
      "_view_count": null,
      "_view_module": "@jupyter-widgets/controls",
      "_view_module_version": "1.5.0",
      "_view_name": "ButtonView",
      "button_style": "",
      "description": "Hide solution",
      "disabled": false,
      "icon": "",
      "layout": "IPY_MODEL_8c8cb6238be14dd4a527c1675db2ef55",
      "style": "IPY_MODEL_ebd4fd058e2c4f1e82a530297ec5da51",
      "tooltip": ""
     }
    },
    "3f5d6001dcea47f4afd512bdce2616d6": {
     "model_module": "@jupyter-widgets/controls",
     "model_module_version": "1.5.0",
     "model_name": "ButtonStyleModel",
     "state": {
      "_model_module": "@jupyter-widgets/controls",
      "_model_module_version": "1.5.0",
      "_model_name": "ButtonStyleModel",
      "_view_count": null,
      "_view_module": "@jupyter-widgets/base",
      "_view_module_version": "1.2.0",
      "_view_name": "StyleView",
      "button_color": null,
      "font_weight": ""
     }
    },
    "459faa6d8d564bf982b36cca39b18d3a": {
     "model_module": "@jupyter-widgets/base",
     "model_module_version": "1.2.0",
     "model_name": "LayoutModel",
     "state": {
      "_model_module": "@jupyter-widgets/base",
      "_model_module_version": "1.2.0",
      "_model_name": "LayoutModel",
      "_view_count": null,
      "_view_module": "@jupyter-widgets/base",
      "_view_module_version": "1.2.0",
      "_view_name": "LayoutView",
      "align_content": null,
      "align_items": null,
      "align_self": null,
      "border": "1px solid green",
      "bottom": null,
      "display": null,
      "flex": null,
      "flex_flow": null,
      "grid_area": null,
      "grid_auto_columns": null,
      "grid_auto_flow": null,
      "grid_auto_rows": null,
      "grid_column": null,
      "grid_gap": null,
      "grid_row": null,
      "grid_template_areas": null,
      "grid_template_columns": null,
      "grid_template_rows": null,
      "height": null,
      "justify_content": null,
      "justify_items": null,
      "left": null,
      "margin": null,
      "max_height": null,
      "max_width": null,
      "min_height": null,
      "min_width": null,
      "object_fit": null,
      "object_position": null,
      "order": null,
      "overflow": null,
      "overflow_x": null,
      "overflow_y": null,
      "padding": null,
      "right": null,
      "top": null,
      "visibility": null,
      "width": null
     }
    },
    "45ec69a3d1b54a34aff351d4233f29c7": {
     "model_module": "@jupyter-widgets/output",
     "model_module_version": "1.0.0",
     "model_name": "OutputModel",
     "state": {
      "_dom_classes": [],
      "_model_module": "@jupyter-widgets/output",
      "_model_module_version": "1.0.0",
      "_model_name": "OutputModel",
      "_view_count": null,
      "_view_module": "@jupyter-widgets/output",
      "_view_module_version": "1.0.0",
      "_view_name": "OutputView",
      "layout": "IPY_MODEL_6e593ab516724138b2f9044e909030f6",
      "msg_id": "",
      "outputs": [
       {
        "data": {
         "text/html": "<style>.output_html .hll { background-color: #ffffcc }\n.output_html  { background: #f8f8f8; }\n.output_html .c { color: #408080; font-style: italic } /* Comment */\n.output_html .err { border: 1px solid #FF0000 } /* Error */\n.output_html .k { color: #008000; font-weight: bold } /* Keyword */\n.output_html .o { color: #666666 } /* Operator */\n.output_html .ch { color: #408080; font-style: italic } /* Comment.Hashbang */\n.output_html .cm { color: #408080; font-style: italic } /* Comment.Multiline */\n.output_html .cp { color: #BC7A00 } /* Comment.Preproc */\n.output_html .cpf { color: #408080; font-style: italic } /* Comment.PreprocFile */\n.output_html .c1 { color: #408080; font-style: italic } /* Comment.Single */\n.output_html .cs { color: #408080; font-style: italic } /* Comment.Special */\n.output_html .gd { color: #A00000 } /* Generic.Deleted */\n.output_html .ge { font-style: italic } /* Generic.Emph */\n.output_html .gr { color: #FF0000 } /* Generic.Error */\n.output_html .gh { color: #000080; font-weight: bold } /* Generic.Heading */\n.output_html .gi { color: #00A000 } /* Generic.Inserted */\n.output_html .go { color: #888888 } /* Generic.Output */\n.output_html .gp { color: #000080; font-weight: bold } /* Generic.Prompt */\n.output_html .gs { font-weight: bold } /* Generic.Strong */\n.output_html .gu { color: #800080; font-weight: bold } /* Generic.Subheading */\n.output_html .gt { color: #0044DD } /* Generic.Traceback */\n.output_html .kc { color: #008000; font-weight: bold } /* Keyword.Constant */\n.output_html .kd { color: #008000; font-weight: bold } /* Keyword.Declaration */\n.output_html .kn { color: #008000; font-weight: bold } /* Keyword.Namespace */\n.output_html .kp { color: #008000 } /* Keyword.Pseudo */\n.output_html .kr { color: #008000; font-weight: bold } /* Keyword.Reserved */\n.output_html .kt { color: #B00040 } /* Keyword.Type */\n.output_html .m { color: #666666 } /* Literal.Number */\n.output_html .s { color: #BA2121 } /* Literal.String */\n.output_html .na { color: #7D9029 } /* Name.Attribute */\n.output_html .nb { color: #008000 } /* Name.Builtin */\n.output_html .nc { color: #0000FF; font-weight: bold } /* Name.Class */\n.output_html .no { color: #880000 } /* Name.Constant */\n.output_html .nd { color: #AA22FF } /* Name.Decorator */\n.output_html .ni { color: #999999; font-weight: bold } /* Name.Entity */\n.output_html .ne { color: #D2413A; font-weight: bold } /* Name.Exception */\n.output_html .nf { color: #0000FF } /* Name.Function */\n.output_html .nl { color: #A0A000 } /* Name.Label */\n.output_html .nn { color: #0000FF; font-weight: bold } /* Name.Namespace */\n.output_html .nt { color: #008000; font-weight: bold } /* Name.Tag */\n.output_html .nv { color: #19177C } /* Name.Variable */\n.output_html .ow { color: #AA22FF; font-weight: bold } /* Operator.Word */\n.output_html .w { color: #bbbbbb } /* Text.Whitespace */\n.output_html .mb { color: #666666 } /* Literal.Number.Bin */\n.output_html .mf { color: #666666 } /* Literal.Number.Float */\n.output_html .mh { color: #666666 } /* Literal.Number.Hex */\n.output_html .mi { color: #666666 } /* Literal.Number.Integer */\n.output_html .mo { color: #666666 } /* Literal.Number.Oct */\n.output_html .sa { color: #BA2121 } /* Literal.String.Affix */\n.output_html .sb { color: #BA2121 } /* Literal.String.Backtick */\n.output_html .sc { color: #BA2121 } /* Literal.String.Char */\n.output_html .dl { color: #BA2121 } /* Literal.String.Delimiter */\n.output_html .sd { color: #BA2121; font-style: italic } /* Literal.String.Doc */\n.output_html .s2 { color: #BA2121 } /* Literal.String.Double */\n.output_html .se { color: #BB6622; font-weight: bold } /* Literal.String.Escape */\n.output_html .sh { color: #BA2121 } /* Literal.String.Heredoc */\n.output_html .si { color: #BB6688; font-weight: bold } /* Literal.String.Interpol */\n.output_html .sx { color: #008000 } /* Literal.String.Other */\n.output_html .sr { color: #BB6688 } /* Literal.String.Regex */\n.output_html .s1 { color: #BA2121 } /* Literal.String.Single */\n.output_html .ss { color: #19177C } /* Literal.String.Symbol */\n.output_html .bp { color: #008000 } /* Name.Builtin.Pseudo */\n.output_html .fm { color: #0000FF } /* Name.Function.Magic */\n.output_html .vc { color: #19177C } /* Name.Variable.Class */\n.output_html .vg { color: #19177C } /* Name.Variable.Global */\n.output_html .vi { color: #19177C } /* Name.Variable.Instance */\n.output_html .vm { color: #19177C } /* Name.Variable.Magic */\n.output_html .il { color: #666666 } /* Literal.Number.Integer.Long */</style><div class=\"highlight\"><pre><span></span><span class=\"kn\">import</span> <span class=\"nn\">scipy.stats</span> <span class=\"k\">as</span> <span class=\"nn\">stats</span>\n\n<span class=\"c1\"># from Python Feature Engineering Cookbook</span>\n<span class=\"k\">def</span> <span class=\"nf\">diagnostic_plots</span><span class=\"p\">(</span><span class=\"n\">df</span><span class=\"p\">,</span> <span class=\"n\">variable</span><span class=\"p\">):</span> \n    <span class=\"n\">plt</span><span class=\"o\">.</span><span class=\"n\">figure</span><span class=\"p\">(</span><span class=\"n\">figsize</span><span class=\"o\">=</span><span class=\"p\">(</span><span class=\"mi\">15</span><span class=\"p\">,</span><span class=\"mi\">6</span><span class=\"p\">))</span> \n    <span class=\"n\">plt</span><span class=\"o\">.</span><span class=\"n\">subplot</span><span class=\"p\">(</span><span class=\"mi\">1</span><span class=\"p\">,</span> <span class=\"mi\">2</span><span class=\"p\">,</span> <span class=\"mi\">1</span><span class=\"p\">)</span> \n    <span class=\"n\">df</span><span class=\"p\">[</span><span class=\"n\">variable</span><span class=\"p\">]</span><span class=\"o\">.</span><span class=\"n\">hist</span><span class=\"p\">(</span><span class=\"n\">bins</span><span class=\"o\">=</span><span class=\"mi\">30</span><span class=\"p\">)</span>\n    <span class=\"n\">plt</span><span class=\"o\">.</span><span class=\"n\">title</span><span class=\"p\">(</span><span class=\"s2\">&quot;Histogram&quot;</span><span class=\"p\">)</span>\n    <span class=\"n\">plt</span><span class=\"o\">.</span><span class=\"n\">subplot</span><span class=\"p\">(</span><span class=\"mi\">1</span><span class=\"p\">,</span> <span class=\"mi\">2</span><span class=\"p\">,</span> <span class=\"mi\">2</span><span class=\"p\">)</span>\n    <span class=\"n\">stats</span><span class=\"o\">.</span><span class=\"n\">probplot</span><span class=\"p\">(</span><span class=\"n\">df</span><span class=\"p\">[</span><span class=\"n\">variable</span><span class=\"p\">],</span> <span class=\"n\">dist</span><span class=\"o\">=</span><span class=\"s2\">&quot;norm&quot;</span><span class=\"p\">,</span> <span class=\"n\">plot</span><span class=\"o\">=</span><span class=\"n\">plt</span><span class=\"p\">)</span> \n    <span class=\"n\">plt</span><span class=\"o\">.</span><span class=\"n\">suptitle</span><span class=\"p\">(</span><span class=\"s2\">&quot;Diagnostic Plots for </span><span class=\"si\">{}</span><span class=\"s2\">&quot;</span><span class=\"o\">.</span><span class=\"n\">format</span><span class=\"p\">(</span><span class=\"n\">variable</span><span class=\"p\">))</span>\n    <span class=\"n\">plt</span><span class=\"o\">.</span><span class=\"n\">show</span><span class=\"p\">()</span>\n\n<span class=\"k\">for</span> <span class=\"n\">variable_name</span> <span class=\"ow\">in</span> <span class=\"n\">X_train</span><span class=\"o\">.</span><span class=\"n\">columns</span><span class=\"p\">:</span>\n    <span class=\"n\">diagnostic_plots</span><span class=\"p\">(</span><span class=\"n\">X_train</span><span class=\"p\">,</span> <span class=\"n\">variable_name</span><span class=\"p\">)</span>\n</pre></div>\n",
         "text/latex": "\\begin{Verbatim}[commandchars=\\\\\\{\\}]\n\\PY{k+kn}{import} \\PY{n+nn}{scipy}\\PY{n+nn}{.}\\PY{n+nn}{stats} \\PY{k}{as} \\PY{n+nn}{stats}\n\n\\PY{c+c1}{\\PYZsh{} from Python Feature Engineering Cookbook}\n\\PY{k}{def} \\PY{n+nf}{diagnostic\\PYZus{}plots}\\PY{p}{(}\\PY{n}{df}\\PY{p}{,} \\PY{n}{variable}\\PY{p}{)}\\PY{p}{:} \n    \\PY{n}{plt}\\PY{o}{.}\\PY{n}{figure}\\PY{p}{(}\\PY{n}{figsize}\\PY{o}{=}\\PY{p}{(}\\PY{l+m+mi}{15}\\PY{p}{,}\\PY{l+m+mi}{6}\\PY{p}{)}\\PY{p}{)} \n    \\PY{n}{plt}\\PY{o}{.}\\PY{n}{subplot}\\PY{p}{(}\\PY{l+m+mi}{1}\\PY{p}{,} \\PY{l+m+mi}{2}\\PY{p}{,} \\PY{l+m+mi}{1}\\PY{p}{)} \n    \\PY{n}{df}\\PY{p}{[}\\PY{n}{variable}\\PY{p}{]}\\PY{o}{.}\\PY{n}{hist}\\PY{p}{(}\\PY{n}{bins}\\PY{o}{=}\\PY{l+m+mi}{30}\\PY{p}{)}\n    \\PY{n}{plt}\\PY{o}{.}\\PY{n}{title}\\PY{p}{(}\\PY{l+s+s2}{\\PYZdq{}}\\PY{l+s+s2}{Histogram}\\PY{l+s+s2}{\\PYZdq{}}\\PY{p}{)}\n    \\PY{n}{plt}\\PY{o}{.}\\PY{n}{subplot}\\PY{p}{(}\\PY{l+m+mi}{1}\\PY{p}{,} \\PY{l+m+mi}{2}\\PY{p}{,} \\PY{l+m+mi}{2}\\PY{p}{)}\n    \\PY{n}{stats}\\PY{o}{.}\\PY{n}{probplot}\\PY{p}{(}\\PY{n}{df}\\PY{p}{[}\\PY{n}{variable}\\PY{p}{]}\\PY{p}{,} \\PY{n}{dist}\\PY{o}{=}\\PY{l+s+s2}{\\PYZdq{}}\\PY{l+s+s2}{norm}\\PY{l+s+s2}{\\PYZdq{}}\\PY{p}{,} \\PY{n}{plot}\\PY{o}{=}\\PY{n}{plt}\\PY{p}{)} \n    \\PY{n}{plt}\\PY{o}{.}\\PY{n}{suptitle}\\PY{p}{(}\\PY{l+s+s2}{\\PYZdq{}}\\PY{l+s+s2}{Diagnostic Plots for }\\PY{l+s+si}{\\PYZob{}\\PYZcb{}}\\PY{l+s+s2}{\\PYZdq{}}\\PY{o}{.}\\PY{n}{format}\\PY{p}{(}\\PY{n}{variable}\\PY{p}{)}\\PY{p}{)}\n    \\PY{n}{plt}\\PY{o}{.}\\PY{n}{show}\\PY{p}{(}\\PY{p}{)}\n\n\\PY{k}{for} \\PY{n}{variable\\PYZus{}name} \\PY{o+ow}{in} \\PY{n}{X\\PYZus{}train}\\PY{o}{.}\\PY{n}{columns}\\PY{p}{:}\n    \\PY{n}{diagnostic\\PYZus{}plots}\\PY{p}{(}\\PY{n}{X\\PYZus{}train}\\PY{p}{,} \\PY{n}{variable\\PYZus{}name}\\PY{p}{)}\n\\end{Verbatim}\n",
         "text/plain": "import scipy.stats as stats\n\n# from Python Feature Engineering Cookbook\ndef diagnostic_plots(df, variable): \n    plt.figure(figsize=(15,6)) \n    plt.subplot(1, 2, 1) \n    df[variable].hist(bins=30)\n    plt.title(\"Histogram\")\n    plt.subplot(1, 2, 2)\n    stats.probplot(df[variable], dist=\"norm\", plot=plt) \n    plt.suptitle(\"Diagnostic Plots for {}\".format(variable))\n    plt.show()\n\nfor variable_name in X_train.columns:\n    diagnostic_plots(X_train, variable_name)"
        },
        "metadata": {},
        "output_type": "display_data"
       },
       {
        "data": {
         "text/markdown": "From the figures above, we can see that most varibles (apart from `density`, `pH`, and `quality`) are at least partly positively (or right) skewed. This can also be further demonstrated by the table below.\n",
         "text/plain": "<IPython.core.display.Markdown object>"
        },
        "metadata": {},
        "output_type": "display_data"
       },
       {
        "data": {
         "text/html": "<style>.output_html .hll { background-color: #ffffcc }\n.output_html  { background: #f8f8f8; }\n.output_html .c { color: #408080; font-style: italic } /* Comment */\n.output_html .err { border: 1px solid #FF0000 } /* Error */\n.output_html .k { color: #008000; font-weight: bold } /* Keyword */\n.output_html .o { color: #666666 } /* Operator */\n.output_html .ch { color: #408080; font-style: italic } /* Comment.Hashbang */\n.output_html .cm { color: #408080; font-style: italic } /* Comment.Multiline */\n.output_html .cp { color: #BC7A00 } /* Comment.Preproc */\n.output_html .cpf { color: #408080; font-style: italic } /* Comment.PreprocFile */\n.output_html .c1 { color: #408080; font-style: italic } /* Comment.Single */\n.output_html .cs { color: #408080; font-style: italic } /* Comment.Special */\n.output_html .gd { color: #A00000 } /* Generic.Deleted */\n.output_html .ge { font-style: italic } /* Generic.Emph */\n.output_html .gr { color: #FF0000 } /* Generic.Error */\n.output_html .gh { color: #000080; font-weight: bold } /* Generic.Heading */\n.output_html .gi { color: #00A000 } /* Generic.Inserted */\n.output_html .go { color: #888888 } /* Generic.Output */\n.output_html .gp { color: #000080; font-weight: bold } /* Generic.Prompt */\n.output_html .gs { font-weight: bold } /* Generic.Strong */\n.output_html .gu { color: #800080; font-weight: bold } /* Generic.Subheading */\n.output_html .gt { color: #0044DD } /* Generic.Traceback */\n.output_html .kc { color: #008000; font-weight: bold } /* Keyword.Constant */\n.output_html .kd { color: #008000; font-weight: bold } /* Keyword.Declaration */\n.output_html .kn { color: #008000; font-weight: bold } /* Keyword.Namespace */\n.output_html .kp { color: #008000 } /* Keyword.Pseudo */\n.output_html .kr { color: #008000; font-weight: bold } /* Keyword.Reserved */\n.output_html .kt { color: #B00040 } /* Keyword.Type */\n.output_html .m { color: #666666 } /* Literal.Number */\n.output_html .s { color: #BA2121 } /* Literal.String */\n.output_html .na { color: #7D9029 } /* Name.Attribute */\n.output_html .nb { color: #008000 } /* Name.Builtin */\n.output_html .nc { color: #0000FF; font-weight: bold } /* Name.Class */\n.output_html .no { color: #880000 } /* Name.Constant */\n.output_html .nd { color: #AA22FF } /* Name.Decorator */\n.output_html .ni { color: #999999; font-weight: bold } /* Name.Entity */\n.output_html .ne { color: #D2413A; font-weight: bold } /* Name.Exception */\n.output_html .nf { color: #0000FF } /* Name.Function */\n.output_html .nl { color: #A0A000 } /* Name.Label */\n.output_html .nn { color: #0000FF; font-weight: bold } /* Name.Namespace */\n.output_html .nt { color: #008000; font-weight: bold } /* Name.Tag */\n.output_html .nv { color: #19177C } /* Name.Variable */\n.output_html .ow { color: #AA22FF; font-weight: bold } /* Operator.Word */\n.output_html .w { color: #bbbbbb } /* Text.Whitespace */\n.output_html .mb { color: #666666 } /* Literal.Number.Bin */\n.output_html .mf { color: #666666 } /* Literal.Number.Float */\n.output_html .mh { color: #666666 } /* Literal.Number.Hex */\n.output_html .mi { color: #666666 } /* Literal.Number.Integer */\n.output_html .mo { color: #666666 } /* Literal.Number.Oct */\n.output_html .sa { color: #BA2121 } /* Literal.String.Affix */\n.output_html .sb { color: #BA2121 } /* Literal.String.Backtick */\n.output_html .sc { color: #BA2121 } /* Literal.String.Char */\n.output_html .dl { color: #BA2121 } /* Literal.String.Delimiter */\n.output_html .sd { color: #BA2121; font-style: italic } /* Literal.String.Doc */\n.output_html .s2 { color: #BA2121 } /* Literal.String.Double */\n.output_html .se { color: #BB6622; font-weight: bold } /* Literal.String.Escape */\n.output_html .sh { color: #BA2121 } /* Literal.String.Heredoc */\n.output_html .si { color: #BB6688; font-weight: bold } /* Literal.String.Interpol */\n.output_html .sx { color: #008000 } /* Literal.String.Other */\n.output_html .sr { color: #BB6688 } /* Literal.String.Regex */\n.output_html .s1 { color: #BA2121 } /* Literal.String.Single */\n.output_html .ss { color: #19177C } /* Literal.String.Symbol */\n.output_html .bp { color: #008000 } /* Name.Builtin.Pseudo */\n.output_html .fm { color: #0000FF } /* Name.Function.Magic */\n.output_html .vc { color: #19177C } /* Name.Variable.Class */\n.output_html .vg { color: #19177C } /* Name.Variable.Global */\n.output_html .vi { color: #19177C } /* Name.Variable.Instance */\n.output_html .vm { color: #19177C } /* Name.Variable.Magic */\n.output_html .il { color: #666666 } /* Literal.Number.Integer.Long */</style><div class=\"highlight\"><pre><span></span><span class=\"kn\">from</span> <span class=\"nn\">scipy.stats</span> <span class=\"kn\">import</span> <span class=\"n\">skew</span> \n\n<span class=\"k\">for</span> <span class=\"n\">i</span><span class=\"p\">,</span> <span class=\"n\">variable_name</span> <span class=\"ow\">in</span> <span class=\"nb\">enumerate</span><span class=\"p\">(</span><span class=\"n\">X_train</span><span class=\"p\">):</span>\n    <span class=\"n\">skew_val</span> <span class=\"o\">=</span> <span class=\"n\">pd</span><span class=\"o\">.</span><span class=\"n\">DataFrame</span><span class=\"p\">([</span><span class=\"n\">skew</span><span class=\"p\">(</span><span class=\"n\">X_train</span><span class=\"p\">[</span><span class=\"n\">variable_name</span><span class=\"p\">])],</span> <span class=\"n\">index</span> <span class=\"o\">=</span> <span class=\"p\">[</span><span class=\"n\">variable_name</span><span class=\"p\">],</span> <span class=\"n\">columns</span><span class=\"o\">=</span><span class=\"p\">[</span><span class=\"s2\">&quot;skewness&quot;</span><span class=\"p\">])</span>\n    \n    <span class=\"k\">if</span> <span class=\"n\">i</span> <span class=\"o\">==</span> <span class=\"mi\">0</span><span class=\"p\">:</span>\n        <span class=\"n\">skew_df</span> <span class=\"o\">=</span> <span class=\"n\">skew_val</span><span class=\"o\">.</span><span class=\"n\">T</span>\n    <span class=\"k\">else</span><span class=\"p\">:</span>\n        <span class=\"n\">skew_df</span> <span class=\"o\">=</span> <span class=\"n\">pd</span><span class=\"o\">.</span><span class=\"n\">concat</span><span class=\"p\">([</span><span class=\"n\">skew_df</span><span class=\"p\">,</span> <span class=\"n\">skew_val</span><span class=\"o\">.</span><span class=\"n\">T</span><span class=\"p\">],</span> <span class=\"n\">axis</span><span class=\"o\">=</span><span class=\"mi\">1</span><span class=\"p\">)</span>\n\n<span class=\"n\">skew_df</span>\n</pre></div>\n",
         "text/latex": "\\begin{Verbatim}[commandchars=\\\\\\{\\}]\n\\PY{k+kn}{from} \\PY{n+nn}{scipy}\\PY{n+nn}{.}\\PY{n+nn}{stats} \\PY{k+kn}{import} \\PY{n}{skew} \n\n\\PY{k}{for} \\PY{n}{i}\\PY{p}{,} \\PY{n}{variable\\PYZus{}name} \\PY{o+ow}{in} \\PY{n+nb}{enumerate}\\PY{p}{(}\\PY{n}{X\\PYZus{}train}\\PY{p}{)}\\PY{p}{:}\n    \\PY{n}{skew\\PYZus{}val} \\PY{o}{=} \\PY{n}{pd}\\PY{o}{.}\\PY{n}{DataFrame}\\PY{p}{(}\\PY{p}{[}\\PY{n}{skew}\\PY{p}{(}\\PY{n}{X\\PYZus{}train}\\PY{p}{[}\\PY{n}{variable\\PYZus{}name}\\PY{p}{]}\\PY{p}{)}\\PY{p}{]}\\PY{p}{,} \\PY{n}{index} \\PY{o}{=} \\PY{p}{[}\\PY{n}{variable\\PYZus{}name}\\PY{p}{]}\\PY{p}{,} \\PY{n}{columns}\\PY{o}{=}\\PY{p}{[}\\PY{l+s+s2}{\\PYZdq{}}\\PY{l+s+s2}{skewness}\\PY{l+s+s2}{\\PYZdq{}}\\PY{p}{]}\\PY{p}{)}\n    \n    \\PY{k}{if} \\PY{n}{i} \\PY{o}{==} \\PY{l+m+mi}{0}\\PY{p}{:}\n        \\PY{n}{skew\\PYZus{}df} \\PY{o}{=} \\PY{n}{skew\\PYZus{}val}\\PY{o}{.}\\PY{n}{T}\n    \\PY{k}{else}\\PY{p}{:}\n        \\PY{n}{skew\\PYZus{}df} \\PY{o}{=} \\PY{n}{pd}\\PY{o}{.}\\PY{n}{concat}\\PY{p}{(}\\PY{p}{[}\\PY{n}{skew\\PYZus{}df}\\PY{p}{,} \\PY{n}{skew\\PYZus{}val}\\PY{o}{.}\\PY{n}{T}\\PY{p}{]}\\PY{p}{,} \\PY{n}{axis}\\PY{o}{=}\\PY{l+m+mi}{1}\\PY{p}{)}\n\n\\PY{n}{skew\\PYZus{}df}\n\\end{Verbatim}\n",
         "text/plain": "from scipy.stats import skew \n\nfor i, variable_name in enumerate(X_train):\n    skew_val = pd.DataFrame([skew(X_train[variable_name])], index = [variable_name], columns=[\"skewness\"])\n    \n    if i == 0:\n        skew_df = skew_val.T\n    else:\n        skew_df = pd.concat([skew_df, skew_val.T], axis=1)\n\nskew_df"
        },
        "metadata": {},
        "output_type": "display_data"
       }
      ]
     }
    },
    "46296b79464246eebf908e5238646b87": {
     "model_module": "@jupyter-widgets/controls",
     "model_module_version": "1.5.0",
     "model_name": "ButtonModel",
     "state": {
      "_dom_classes": [],
      "_model_module": "@jupyter-widgets/controls",
      "_model_module_version": "1.5.0",
      "_model_name": "ButtonModel",
      "_view_count": null,
      "_view_module": "@jupyter-widgets/controls",
      "_view_module_version": "1.5.0",
      "_view_name": "ButtonView",
      "button_style": "",
      "description": "Hide solution",
      "disabled": false,
      "icon": "",
      "layout": "IPY_MODEL_6014f9ac718c4226af1b0d19678f5eb0",
      "style": "IPY_MODEL_5b432f9844464cf492905be3e8b7a6ae",
      "tooltip": ""
     }
    },
    "4a464d8b4b9b4d819677511ca8d6c177": {
     "model_module": "@jupyter-widgets/base",
     "model_module_version": "1.2.0",
     "model_name": "LayoutModel",
     "state": {
      "_model_module": "@jupyter-widgets/base",
      "_model_module_version": "1.2.0",
      "_model_name": "LayoutModel",
      "_view_count": null,
      "_view_module": "@jupyter-widgets/base",
      "_view_module_version": "1.2.0",
      "_view_name": "LayoutView",
      "align_content": null,
      "align_items": null,
      "align_self": null,
      "border": "1px solid green",
      "bottom": null,
      "display": null,
      "flex": null,
      "flex_flow": null,
      "grid_area": null,
      "grid_auto_columns": null,
      "grid_auto_flow": null,
      "grid_auto_rows": null,
      "grid_column": null,
      "grid_gap": null,
      "grid_row": null,
      "grid_template_areas": null,
      "grid_template_columns": null,
      "grid_template_rows": null,
      "height": null,
      "justify_content": null,
      "justify_items": null,
      "left": null,
      "margin": null,
      "max_height": null,
      "max_width": null,
      "min_height": null,
      "min_width": null,
      "object_fit": null,
      "object_position": null,
      "order": null,
      "overflow": null,
      "overflow_x": null,
      "overflow_y": null,
      "padding": null,
      "right": null,
      "top": null,
      "visibility": null,
      "width": null
     }
    },
    "4f2ca0a9b5634b40aff77de07045b765": {
     "model_module": "@jupyter-widgets/controls",
     "model_module_version": "1.5.0",
     "model_name": "ButtonStyleModel",
     "state": {
      "_model_module": "@jupyter-widgets/controls",
      "_model_module_version": "1.5.0",
      "_model_name": "ButtonStyleModel",
      "_view_count": null,
      "_view_module": "@jupyter-widgets/base",
      "_view_module_version": "1.2.0",
      "_view_name": "StyleView",
      "button_color": null,
      "font_weight": ""
     }
    },
    "52f6a35e1c3a4eafa300ebadf4cc69ee": {
     "model_module": "@jupyter-widgets/controls",
     "model_module_version": "1.5.0",
     "model_name": "ButtonStyleModel",
     "state": {
      "_model_module": "@jupyter-widgets/controls",
      "_model_module_version": "1.5.0",
      "_model_name": "ButtonStyleModel",
      "_view_count": null,
      "_view_module": "@jupyter-widgets/base",
      "_view_module_version": "1.2.0",
      "_view_name": "StyleView",
      "button_color": null,
      "font_weight": ""
     }
    },
    "539c345a614a4e06a64768eda9a67327": {
     "model_module": "@jupyter-widgets/controls",
     "model_module_version": "1.5.0",
     "model_name": "ButtonStyleModel",
     "state": {
      "_model_module": "@jupyter-widgets/controls",
      "_model_module_version": "1.5.0",
      "_model_name": "ButtonStyleModel",
      "_view_count": null,
      "_view_module": "@jupyter-widgets/base",
      "_view_module_version": "1.2.0",
      "_view_name": "StyleView",
      "button_color": null,
      "font_weight": ""
     }
    },
    "56479f452f7d4c6face7612c9e12b4fe": {
     "model_module": "@jupyter-widgets/output",
     "model_module_version": "1.0.0",
     "model_name": "OutputModel",
     "state": {
      "_dom_classes": [],
      "_model_module": "@jupyter-widgets/output",
      "_model_module_version": "1.0.0",
      "_model_name": "OutputModel",
      "_view_count": null,
      "_view_module": "@jupyter-widgets/output",
      "_view_module_version": "1.0.0",
      "_view_name": "OutputView",
      "layout": "IPY_MODEL_770d549e6cc542888149e90af3eda1ae",
      "msg_id": "",
      "outputs": [
       {
        "data": {
         "text/html": "<style>.output_html .hll { background-color: #ffffcc }\n.output_html  { background: #f8f8f8; }\n.output_html .c { color: #408080; font-style: italic } /* Comment */\n.output_html .err { border: 1px solid #FF0000 } /* Error */\n.output_html .k { color: #008000; font-weight: bold } /* Keyword */\n.output_html .o { color: #666666 } /* Operator */\n.output_html .ch { color: #408080; font-style: italic } /* Comment.Hashbang */\n.output_html .cm { color: #408080; font-style: italic } /* Comment.Multiline */\n.output_html .cp { color: #BC7A00 } /* Comment.Preproc */\n.output_html .cpf { color: #408080; font-style: italic } /* Comment.PreprocFile */\n.output_html .c1 { color: #408080; font-style: italic } /* Comment.Single */\n.output_html .cs { color: #408080; font-style: italic } /* Comment.Special */\n.output_html .gd { color: #A00000 } /* Generic.Deleted */\n.output_html .ge { font-style: italic } /* Generic.Emph */\n.output_html .gr { color: #FF0000 } /* Generic.Error */\n.output_html .gh { color: #000080; font-weight: bold } /* Generic.Heading */\n.output_html .gi { color: #00A000 } /* Generic.Inserted */\n.output_html .go { color: #888888 } /* Generic.Output */\n.output_html .gp { color: #000080; font-weight: bold } /* Generic.Prompt */\n.output_html .gs { font-weight: bold } /* Generic.Strong */\n.output_html .gu { color: #800080; font-weight: bold } /* Generic.Subheading */\n.output_html .gt { color: #0044DD } /* Generic.Traceback */\n.output_html .kc { color: #008000; font-weight: bold } /* Keyword.Constant */\n.output_html .kd { color: #008000; font-weight: bold } /* Keyword.Declaration */\n.output_html .kn { color: #008000; font-weight: bold } /* Keyword.Namespace */\n.output_html .kp { color: #008000 } /* Keyword.Pseudo */\n.output_html .kr { color: #008000; font-weight: bold } /* Keyword.Reserved */\n.output_html .kt { color: #B00040 } /* Keyword.Type */\n.output_html .m { color: #666666 } /* Literal.Number */\n.output_html .s { color: #BA2121 } /* Literal.String */\n.output_html .na { color: #7D9029 } /* Name.Attribute */\n.output_html .nb { color: #008000 } /* Name.Builtin */\n.output_html .nc { color: #0000FF; font-weight: bold } /* Name.Class */\n.output_html .no { color: #880000 } /* Name.Constant */\n.output_html .nd { color: #AA22FF } /* Name.Decorator */\n.output_html .ni { color: #999999; font-weight: bold } /* Name.Entity */\n.output_html .ne { color: #D2413A; font-weight: bold } /* Name.Exception */\n.output_html .nf { color: #0000FF } /* Name.Function */\n.output_html .nl { color: #A0A000 } /* Name.Label */\n.output_html .nn { color: #0000FF; font-weight: bold } /* Name.Namespace */\n.output_html .nt { color: #008000; font-weight: bold } /* Name.Tag */\n.output_html .nv { color: #19177C } /* Name.Variable */\n.output_html .ow { color: #AA22FF; font-weight: bold } /* Operator.Word */\n.output_html .w { color: #bbbbbb } /* Text.Whitespace */\n.output_html .mb { color: #666666 } /* Literal.Number.Bin */\n.output_html .mf { color: #666666 } /* Literal.Number.Float */\n.output_html .mh { color: #666666 } /* Literal.Number.Hex */\n.output_html .mi { color: #666666 } /* Literal.Number.Integer */\n.output_html .mo { color: #666666 } /* Literal.Number.Oct */\n.output_html .sa { color: #BA2121 } /* Literal.String.Affix */\n.output_html .sb { color: #BA2121 } /* Literal.String.Backtick */\n.output_html .sc { color: #BA2121 } /* Literal.String.Char */\n.output_html .dl { color: #BA2121 } /* Literal.String.Delimiter */\n.output_html .sd { color: #BA2121; font-style: italic } /* Literal.String.Doc */\n.output_html .s2 { color: #BA2121 } /* Literal.String.Double */\n.output_html .se { color: #BB6622; font-weight: bold } /* Literal.String.Escape */\n.output_html .sh { color: #BA2121 } /* Literal.String.Heredoc */\n.output_html .si { color: #BB6688; font-weight: bold } /* Literal.String.Interpol */\n.output_html .sx { color: #008000 } /* Literal.String.Other */\n.output_html .sr { color: #BB6688 } /* Literal.String.Regex */\n.output_html .s1 { color: #BA2121 } /* Literal.String.Single */\n.output_html .ss { color: #19177C } /* Literal.String.Symbol */\n.output_html .bp { color: #008000 } /* Name.Builtin.Pseudo */\n.output_html .fm { color: #0000FF } /* Name.Function.Magic */\n.output_html .vc { color: #19177C } /* Name.Variable.Class */\n.output_html .vg { color: #19177C } /* Name.Variable.Global */\n.output_html .vi { color: #19177C } /* Name.Variable.Instance */\n.output_html .vm { color: #19177C } /* Name.Variable.Magic */\n.output_html .il { color: #666666 } /* Literal.Number.Integer.Long */</style><div class=\"highlight\"><pre><span></span><span class=\"n\">X_train</span><span class=\"o\">.</span><span class=\"n\">isnull</span><span class=\"p\">()</span><span class=\"o\">.</span><span class=\"n\">sum</span><span class=\"p\">()</span>\n</pre></div>\n",
         "text/latex": "\\begin{Verbatim}[commandchars=\\\\\\{\\}]\n\\PY{n}{X\\PYZus{}train}\\PY{o}{.}\\PY{n}{isnull}\\PY{p}{(}\\PY{p}{)}\\PY{o}{.}\\PY{n}{sum}\\PY{p}{(}\\PY{p}{)}\n\\end{Verbatim}\n",
         "text/plain": "X_train.isnull().sum()"
        },
        "metadata": {},
        "output_type": "display_data"
       },
       {
        "data": {
         "text/markdown": "None of the columns have a null value so we do not need to deal with them. We could fill the missing values in (e.g. mean, median, zero, ...) or drop their rows (or columns).\n",
         "text/plain": "<IPython.core.display.Markdown object>"
        },
        "metadata": {},
        "output_type": "display_data"
       }
      ]
     }
    },
    "5b432f9844464cf492905be3e8b7a6ae": {
     "model_module": "@jupyter-widgets/controls",
     "model_module_version": "1.5.0",
     "model_name": "ButtonStyleModel",
     "state": {
      "_model_module": "@jupyter-widgets/controls",
      "_model_module_version": "1.5.0",
      "_model_name": "ButtonStyleModel",
      "_view_count": null,
      "_view_module": "@jupyter-widgets/base",
      "_view_module_version": "1.2.0",
      "_view_name": "StyleView",
      "button_color": null,
      "font_weight": ""
     }
    },
    "5b46ea159f0f48dcb9ca223021d326b3": {
     "model_module": "@jupyter-widgets/controls",
     "model_module_version": "1.5.0",
     "model_name": "ButtonModel",
     "state": {
      "_dom_classes": [],
      "_model_module": "@jupyter-widgets/controls",
      "_model_module_version": "1.5.0",
      "_model_name": "ButtonModel",
      "_view_count": null,
      "_view_module": "@jupyter-widgets/controls",
      "_view_module_version": "1.5.0",
      "_view_name": "ButtonView",
      "button_style": "",
      "description": "Hide solution",
      "disabled": false,
      "icon": "",
      "layout": "IPY_MODEL_a8326913be5746b698a5e868b0c71ba0",
      "style": "IPY_MODEL_3f5d6001dcea47f4afd512bdce2616d6",
      "tooltip": ""
     }
    },
    "5db6c4af2141440384d20053e4bc2e70": {
     "model_module": "@jupyter-widgets/base",
     "model_module_version": "1.2.0",
     "model_name": "LayoutModel",
     "state": {
      "_model_module": "@jupyter-widgets/base",
      "_model_module_version": "1.2.0",
      "_model_name": "LayoutModel",
      "_view_count": null,
      "_view_module": "@jupyter-widgets/base",
      "_view_module_version": "1.2.0",
      "_view_name": "LayoutView",
      "align_content": null,
      "align_items": null,
      "align_self": null,
      "border": "1px solid green",
      "bottom": null,
      "display": null,
      "flex": null,
      "flex_flow": null,
      "grid_area": null,
      "grid_auto_columns": null,
      "grid_auto_flow": null,
      "grid_auto_rows": null,
      "grid_column": null,
      "grid_gap": null,
      "grid_row": null,
      "grid_template_areas": null,
      "grid_template_columns": null,
      "grid_template_rows": null,
      "height": null,
      "justify_content": null,
      "justify_items": null,
      "left": null,
      "margin": null,
      "max_height": null,
      "max_width": null,
      "min_height": null,
      "min_width": null,
      "object_fit": null,
      "object_position": null,
      "order": null,
      "overflow": null,
      "overflow_x": null,
      "overflow_y": null,
      "padding": null,
      "right": null,
      "top": null,
      "visibility": null,
      "width": null
     }
    },
    "5ecf1e0bcd6045879abd2bfbc3fbdf8d": {
     "model_module": "@jupyter-widgets/base",
     "model_module_version": "1.2.0",
     "model_name": "LayoutModel",
     "state": {
      "_model_module": "@jupyter-widgets/base",
      "_model_module_version": "1.2.0",
      "_model_name": "LayoutModel",
      "_view_count": null,
      "_view_module": "@jupyter-widgets/base",
      "_view_module_version": "1.2.0",
      "_view_name": "LayoutView",
      "align_content": null,
      "align_items": null,
      "align_self": null,
      "border": "1px solid green",
      "bottom": null,
      "display": null,
      "flex": null,
      "flex_flow": null,
      "grid_area": null,
      "grid_auto_columns": null,
      "grid_auto_flow": null,
      "grid_auto_rows": null,
      "grid_column": null,
      "grid_gap": null,
      "grid_row": null,
      "grid_template_areas": null,
      "grid_template_columns": null,
      "grid_template_rows": null,
      "height": null,
      "justify_content": null,
      "justify_items": null,
      "left": null,
      "margin": null,
      "max_height": null,
      "max_width": null,
      "min_height": null,
      "min_width": null,
      "object_fit": null,
      "object_position": null,
      "order": null,
      "overflow": null,
      "overflow_x": null,
      "overflow_y": null,
      "padding": null,
      "right": null,
      "top": null,
      "visibility": null,
      "width": null
     }
    },
    "600e139bef2744f0963eb927a60923e1": {
     "model_module": "@jupyter-widgets/controls",
     "model_module_version": "1.5.0",
     "model_name": "ButtonStyleModel",
     "state": {
      "_model_module": "@jupyter-widgets/controls",
      "_model_module_version": "1.5.0",
      "_model_name": "ButtonStyleModel",
      "_view_count": null,
      "_view_module": "@jupyter-widgets/base",
      "_view_module_version": "1.2.0",
      "_view_name": "StyleView",
      "button_color": null,
      "font_weight": ""
     }
    },
    "6014f9ac718c4226af1b0d19678f5eb0": {
     "model_module": "@jupyter-widgets/base",
     "model_module_version": "1.2.0",
     "model_name": "LayoutModel",
     "state": {
      "_model_module": "@jupyter-widgets/base",
      "_model_module_version": "1.2.0",
      "_model_name": "LayoutModel",
      "_view_count": null,
      "_view_module": "@jupyter-widgets/base",
      "_view_module_version": "1.2.0",
      "_view_name": "LayoutView",
      "align_content": null,
      "align_items": null,
      "align_self": null,
      "border": null,
      "bottom": null,
      "display": null,
      "flex": null,
      "flex_flow": null,
      "grid_area": null,
      "grid_auto_columns": null,
      "grid_auto_flow": null,
      "grid_auto_rows": null,
      "grid_column": null,
      "grid_gap": null,
      "grid_row": null,
      "grid_template_areas": null,
      "grid_template_columns": null,
      "grid_template_rows": null,
      "height": null,
      "justify_content": null,
      "justify_items": null,
      "left": null,
      "margin": null,
      "max_height": null,
      "max_width": null,
      "min_height": null,
      "min_width": null,
      "object_fit": null,
      "object_position": null,
      "order": null,
      "overflow": null,
      "overflow_x": null,
      "overflow_y": null,
      "padding": null,
      "right": null,
      "top": null,
      "visibility": null,
      "width": null
     }
    },
    "6194277c00c3475aafc65c679380edf1": {
     "model_module": "@jupyter-widgets/base",
     "model_module_version": "1.2.0",
     "model_name": "LayoutModel",
     "state": {
      "_model_module": "@jupyter-widgets/base",
      "_model_module_version": "1.2.0",
      "_model_name": "LayoutModel",
      "_view_count": null,
      "_view_module": "@jupyter-widgets/base",
      "_view_module_version": "1.2.0",
      "_view_name": "LayoutView",
      "align_content": null,
      "align_items": null,
      "align_self": null,
      "border": null,
      "bottom": null,
      "display": null,
      "flex": null,
      "flex_flow": null,
      "grid_area": null,
      "grid_auto_columns": null,
      "grid_auto_flow": null,
      "grid_auto_rows": null,
      "grid_column": null,
      "grid_gap": null,
      "grid_row": null,
      "grid_template_areas": null,
      "grid_template_columns": null,
      "grid_template_rows": null,
      "height": null,
      "justify_content": null,
      "justify_items": null,
      "left": null,
      "margin": null,
      "max_height": null,
      "max_width": null,
      "min_height": null,
      "min_width": null,
      "object_fit": null,
      "object_position": null,
      "order": null,
      "overflow": null,
      "overflow_x": null,
      "overflow_y": null,
      "padding": null,
      "right": null,
      "top": null,
      "visibility": null,
      "width": null
     }
    },
    "64bf9c83fafd43f78ead0dcc2b6dc117": {
     "model_module": "@jupyter-widgets/controls",
     "model_module_version": "1.5.0",
     "model_name": "ButtonModel",
     "state": {
      "_dom_classes": [],
      "_model_module": "@jupyter-widgets/controls",
      "_model_module_version": "1.5.0",
      "_model_name": "ButtonModel",
      "_view_count": null,
      "_view_module": "@jupyter-widgets/controls",
      "_view_module_version": "1.5.0",
      "_view_name": "ButtonView",
      "button_style": "",
      "description": "Hide solution",
      "disabled": false,
      "icon": "",
      "layout": "IPY_MODEL_8600f40a5c614e5aa63e874ddb32553f",
      "style": "IPY_MODEL_0b4b84a2d3c9414f8370cd25cba1db37",
      "tooltip": ""
     }
    },
    "65bfbdecd976483399965019172f6c17": {
     "model_module": "@jupyter-widgets/output",
     "model_module_version": "1.0.0",
     "model_name": "OutputModel",
     "state": {
      "_dom_classes": [],
      "_model_module": "@jupyter-widgets/output",
      "_model_module_version": "1.0.0",
      "_model_name": "OutputModel",
      "_view_count": null,
      "_view_module": "@jupyter-widgets/output",
      "_view_module_version": "1.0.0",
      "_view_name": "OutputView",
      "layout": "IPY_MODEL_82c92d0b536043118398da42fb1a356e",
      "msg_id": "",
      "outputs": [
       {
        "data": {
         "text/html": "<style>.output_html .hll { background-color: #ffffcc }\n.output_html  { background: #f8f8f8; }\n.output_html .c { color: #408080; font-style: italic } /* Comment */\n.output_html .err { border: 1px solid #FF0000 } /* Error */\n.output_html .k { color: #008000; font-weight: bold } /* Keyword */\n.output_html .o { color: #666666 } /* Operator */\n.output_html .ch { color: #408080; font-style: italic } /* Comment.Hashbang */\n.output_html .cm { color: #408080; font-style: italic } /* Comment.Multiline */\n.output_html .cp { color: #BC7A00 } /* Comment.Preproc */\n.output_html .cpf { color: #408080; font-style: italic } /* Comment.PreprocFile */\n.output_html .c1 { color: #408080; font-style: italic } /* Comment.Single */\n.output_html .cs { color: #408080; font-style: italic } /* Comment.Special */\n.output_html .gd { color: #A00000 } /* Generic.Deleted */\n.output_html .ge { font-style: italic } /* Generic.Emph */\n.output_html .gr { color: #FF0000 } /* Generic.Error */\n.output_html .gh { color: #000080; font-weight: bold } /* Generic.Heading */\n.output_html .gi { color: #00A000 } /* Generic.Inserted */\n.output_html .go { color: #888888 } /* Generic.Output */\n.output_html .gp { color: #000080; font-weight: bold } /* Generic.Prompt */\n.output_html .gs { font-weight: bold } /* Generic.Strong */\n.output_html .gu { color: #800080; font-weight: bold } /* Generic.Subheading */\n.output_html .gt { color: #0044DD } /* Generic.Traceback */\n.output_html .kc { color: #008000; font-weight: bold } /* Keyword.Constant */\n.output_html .kd { color: #008000; font-weight: bold } /* Keyword.Declaration */\n.output_html .kn { color: #008000; font-weight: bold } /* Keyword.Namespace */\n.output_html .kp { color: #008000 } /* Keyword.Pseudo */\n.output_html .kr { color: #008000; font-weight: bold } /* Keyword.Reserved */\n.output_html .kt { color: #B00040 } /* Keyword.Type */\n.output_html .m { color: #666666 } /* Literal.Number */\n.output_html .s { color: #BA2121 } /* Literal.String */\n.output_html .na { color: #7D9029 } /* Name.Attribute */\n.output_html .nb { color: #008000 } /* Name.Builtin */\n.output_html .nc { color: #0000FF; font-weight: bold } /* Name.Class */\n.output_html .no { color: #880000 } /* Name.Constant */\n.output_html .nd { color: #AA22FF } /* Name.Decorator */\n.output_html .ni { color: #999999; font-weight: bold } /* Name.Entity */\n.output_html .ne { color: #D2413A; font-weight: bold } /* Name.Exception */\n.output_html .nf { color: #0000FF } /* Name.Function */\n.output_html .nl { color: #A0A000 } /* Name.Label */\n.output_html .nn { color: #0000FF; font-weight: bold } /* Name.Namespace */\n.output_html .nt { color: #008000; font-weight: bold } /* Name.Tag */\n.output_html .nv { color: #19177C } /* Name.Variable */\n.output_html .ow { color: #AA22FF; font-weight: bold } /* Operator.Word */\n.output_html .w { color: #bbbbbb } /* Text.Whitespace */\n.output_html .mb { color: #666666 } /* Literal.Number.Bin */\n.output_html .mf { color: #666666 } /* Literal.Number.Float */\n.output_html .mh { color: #666666 } /* Literal.Number.Hex */\n.output_html .mi { color: #666666 } /* Literal.Number.Integer */\n.output_html .mo { color: #666666 } /* Literal.Number.Oct */\n.output_html .sa { color: #BA2121 } /* Literal.String.Affix */\n.output_html .sb { color: #BA2121 } /* Literal.String.Backtick */\n.output_html .sc { color: #BA2121 } /* Literal.String.Char */\n.output_html .dl { color: #BA2121 } /* Literal.String.Delimiter */\n.output_html .sd { color: #BA2121; font-style: italic } /* Literal.String.Doc */\n.output_html .s2 { color: #BA2121 } /* Literal.String.Double */\n.output_html .se { color: #BB6622; font-weight: bold } /* Literal.String.Escape */\n.output_html .sh { color: #BA2121 } /* Literal.String.Heredoc */\n.output_html .si { color: #BB6688; font-weight: bold } /* Literal.String.Interpol */\n.output_html .sx { color: #008000 } /* Literal.String.Other */\n.output_html .sr { color: #BB6688 } /* Literal.String.Regex */\n.output_html .s1 { color: #BA2121 } /* Literal.String.Single */\n.output_html .ss { color: #19177C } /* Literal.String.Symbol */\n.output_html .bp { color: #008000 } /* Name.Builtin.Pseudo */\n.output_html .fm { color: #0000FF } /* Name.Function.Magic */\n.output_html .vc { color: #19177C } /* Name.Variable.Class */\n.output_html .vg { color: #19177C } /* Name.Variable.Global */\n.output_html .vi { color: #19177C } /* Name.Variable.Instance */\n.output_html .vm { color: #19177C } /* Name.Variable.Magic */\n.output_html .il { color: #666666 } /* Literal.Number.Integer.Long */</style><div class=\"highlight\"><pre><span></span><span class=\"nb\">print</span><span class=\"p\">(</span><span class=\"s2\">&quot;There are </span><span class=\"si\">{}</span><span class=\"s2\"> duplicated observations&quot;</span><span class=\"o\">.</span><span class=\"n\">format</span><span class=\"p\">(</span><span class=\"n\">X_train</span><span class=\"o\">.</span><span class=\"n\">duplicated</span><span class=\"p\">()</span><span class=\"o\">.</span><span class=\"n\">sum</span><span class=\"p\">()))</span>\n</pre></div>\n",
         "text/latex": "\\begin{Verbatim}[commandchars=\\\\\\{\\}]\n\\PY{n+nb}{print}\\PY{p}{(}\\PY{l+s+s2}{\\PYZdq{}}\\PY{l+s+s2}{There are }\\PY{l+s+si}{\\PYZob{}\\PYZcb{}}\\PY{l+s+s2}{ duplicated observations}\\PY{l+s+s2}{\\PYZdq{}}\\PY{o}{.}\\PY{n}{format}\\PY{p}{(}\\PY{n}{X\\PYZus{}train}\\PY{o}{.}\\PY{n}{duplicated}\\PY{p}{(}\\PY{p}{)}\\PY{o}{.}\\PY{n}{sum}\\PY{p}{(}\\PY{p}{)}\\PY{p}{)}\\PY{p}{)}\n\\end{Verbatim}\n",
         "text/plain": "print(\"There are {} duplicated observations\".format(X_train.duplicated().sum()))"
        },
        "metadata": {},
        "output_type": "display_data"
       }
      ]
     }
    },
    "65e61654515c45bd9e75e943ae7d72b7": {
     "model_module": "@jupyter-widgets/controls",
     "model_module_version": "1.5.0",
     "model_name": "ButtonStyleModel",
     "state": {
      "_model_module": "@jupyter-widgets/controls",
      "_model_module_version": "1.5.0",
      "_model_name": "ButtonStyleModel",
      "_view_count": null,
      "_view_module": "@jupyter-widgets/base",
      "_view_module_version": "1.2.0",
      "_view_name": "StyleView",
      "button_color": null,
      "font_weight": ""
     }
    },
    "66a2a930a5ad494f8d467f88abf68a82": {
     "model_module": "@jupyter-widgets/output",
     "model_module_version": "1.0.0",
     "model_name": "OutputModel",
     "state": {
      "_dom_classes": [],
      "_model_module": "@jupyter-widgets/output",
      "_model_module_version": "1.0.0",
      "_model_name": "OutputModel",
      "_view_count": null,
      "_view_module": "@jupyter-widgets/output",
      "_view_module_version": "1.0.0",
      "_view_name": "OutputView",
      "layout": "IPY_MODEL_890838634e614380b006ef9fcb6e5d04",
      "msg_id": "",
      "outputs": [
       {
        "data": {
         "text/markdown": "Adding the polynomial features in improves model performance slightly on the training set but reduces performance on the validation set - it may be that the model is slightly \"overfitting\" to the data. The Decision Tree Regressor has the largest gap in performance between the training and validation data. Indeed it has perfect performance on the training set and bad performance on the validation set (in later weeks we'll be able to examine why this might be).\n",
         "text/plain": "<IPython.core.display.Markdown object>"
        },
        "metadata": {},
        "output_type": "display_data"
       }
      ]
     }
    },
    "6cf416d024bd4421b30319175e9bc126": {
     "model_module": "@jupyter-widgets/output",
     "model_module_version": "1.0.0",
     "model_name": "OutputModel",
     "state": {
      "_dom_classes": [],
      "_model_module": "@jupyter-widgets/output",
      "_model_module_version": "1.0.0",
      "_model_name": "OutputModel",
      "_view_count": null,
      "_view_module": "@jupyter-widgets/output",
      "_view_module_version": "1.0.0",
      "_view_name": "OutputView",
      "layout": "IPY_MODEL_5db6c4af2141440384d20053e4bc2e70",
      "msg_id": "",
      "outputs": [
       {
        "data": {
         "text/html": "<style>.output_html .hll { background-color: #ffffcc }\n.output_html  { background: #f8f8f8; }\n.output_html .c { color: #408080; font-style: italic } /* Comment */\n.output_html .err { border: 1px solid #FF0000 } /* Error */\n.output_html .k { color: #008000; font-weight: bold } /* Keyword */\n.output_html .o { color: #666666 } /* Operator */\n.output_html .ch { color: #408080; font-style: italic } /* Comment.Hashbang */\n.output_html .cm { color: #408080; font-style: italic } /* Comment.Multiline */\n.output_html .cp { color: #BC7A00 } /* Comment.Preproc */\n.output_html .cpf { color: #408080; font-style: italic } /* Comment.PreprocFile */\n.output_html .c1 { color: #408080; font-style: italic } /* Comment.Single */\n.output_html .cs { color: #408080; font-style: italic } /* Comment.Special */\n.output_html .gd { color: #A00000 } /* Generic.Deleted */\n.output_html .ge { font-style: italic } /* Generic.Emph */\n.output_html .gr { color: #FF0000 } /* Generic.Error */\n.output_html .gh { color: #000080; font-weight: bold } /* Generic.Heading */\n.output_html .gi { color: #00A000 } /* Generic.Inserted */\n.output_html .go { color: #888888 } /* Generic.Output */\n.output_html .gp { color: #000080; font-weight: bold } /* Generic.Prompt */\n.output_html .gs { font-weight: bold } /* Generic.Strong */\n.output_html .gu { color: #800080; font-weight: bold } /* Generic.Subheading */\n.output_html .gt { color: #0044DD } /* Generic.Traceback */\n.output_html .kc { color: #008000; font-weight: bold } /* Keyword.Constant */\n.output_html .kd { color: #008000; font-weight: bold } /* Keyword.Declaration */\n.output_html .kn { color: #008000; font-weight: bold } /* Keyword.Namespace */\n.output_html .kp { color: #008000 } /* Keyword.Pseudo */\n.output_html .kr { color: #008000; font-weight: bold } /* Keyword.Reserved */\n.output_html .kt { color: #B00040 } /* Keyword.Type */\n.output_html .m { color: #666666 } /* Literal.Number */\n.output_html .s { color: #BA2121 } /* Literal.String */\n.output_html .na { color: #7D9029 } /* Name.Attribute */\n.output_html .nb { color: #008000 } /* Name.Builtin */\n.output_html .nc { color: #0000FF; font-weight: bold } /* Name.Class */\n.output_html .no { color: #880000 } /* Name.Constant */\n.output_html .nd { color: #AA22FF } /* Name.Decorator */\n.output_html .ni { color: #999999; font-weight: bold } /* Name.Entity */\n.output_html .ne { color: #D2413A; font-weight: bold } /* Name.Exception */\n.output_html .nf { color: #0000FF } /* Name.Function */\n.output_html .nl { color: #A0A000 } /* Name.Label */\n.output_html .nn { color: #0000FF; font-weight: bold } /* Name.Namespace */\n.output_html .nt { color: #008000; font-weight: bold } /* Name.Tag */\n.output_html .nv { color: #19177C } /* Name.Variable */\n.output_html .ow { color: #AA22FF; font-weight: bold } /* Operator.Word */\n.output_html .w { color: #bbbbbb } /* Text.Whitespace */\n.output_html .mb { color: #666666 } /* Literal.Number.Bin */\n.output_html .mf { color: #666666 } /* Literal.Number.Float */\n.output_html .mh { color: #666666 } /* Literal.Number.Hex */\n.output_html .mi { color: #666666 } /* Literal.Number.Integer */\n.output_html .mo { color: #666666 } /* Literal.Number.Oct */\n.output_html .sa { color: #BA2121 } /* Literal.String.Affix */\n.output_html .sb { color: #BA2121 } /* Literal.String.Backtick */\n.output_html .sc { color: #BA2121 } /* Literal.String.Char */\n.output_html .dl { color: #BA2121 } /* Literal.String.Delimiter */\n.output_html .sd { color: #BA2121; font-style: italic } /* Literal.String.Doc */\n.output_html .s2 { color: #BA2121 } /* Literal.String.Double */\n.output_html .se { color: #BB6622; font-weight: bold } /* Literal.String.Escape */\n.output_html .sh { color: #BA2121 } /* Literal.String.Heredoc */\n.output_html .si { color: #BB6688; font-weight: bold } /* Literal.String.Interpol */\n.output_html .sx { color: #008000 } /* Literal.String.Other */\n.output_html .sr { color: #BB6688 } /* Literal.String.Regex */\n.output_html .s1 { color: #BA2121 } /* Literal.String.Single */\n.output_html .ss { color: #19177C } /* Literal.String.Symbol */\n.output_html .bp { color: #008000 } /* Name.Builtin.Pseudo */\n.output_html .fm { color: #0000FF } /* Name.Function.Magic */\n.output_html .vc { color: #19177C } /* Name.Variable.Class */\n.output_html .vg { color: #19177C } /* Name.Variable.Global */\n.output_html .vi { color: #19177C } /* Name.Variable.Instance */\n.output_html .vm { color: #19177C } /* Name.Variable.Magic */\n.output_html .il { color: #666666 } /* Literal.Number.Integer.Long */</style><div class=\"highlight\"><pre><span></span><span class=\"k\">def</span> <span class=\"nf\">drop_duplicated</span><span class=\"p\">(</span><span class=\"n\">X</span><span class=\"p\">,</span><span class=\"n\">y</span><span class=\"p\">):</span>\n    <span class=\"n\">df</span> <span class=\"o\">=</span> <span class=\"n\">pd</span><span class=\"o\">.</span><span class=\"n\">concat</span><span class=\"p\">([</span><span class=\"n\">X</span><span class=\"p\">,</span><span class=\"n\">y</span><span class=\"p\">],</span> <span class=\"n\">axis</span><span class=\"o\">=</span><span class=\"mi\">1</span><span class=\"p\">)</span>\n    <span class=\"n\">df</span> <span class=\"o\">=</span> <span class=\"n\">df</span><span class=\"o\">.</span><span class=\"n\">drop_duplicates</span><span class=\"p\">()</span>\n    <span class=\"k\">return</span> <span class=\"n\">df</span><span class=\"o\">.</span><span class=\"n\">iloc</span><span class=\"p\">[:,:</span><span class=\"o\">-</span><span class=\"mi\">1</span><span class=\"p\">],</span> <span class=\"n\">df</span><span class=\"o\">.</span><span class=\"n\">iloc</span><span class=\"p\">[:,</span><span class=\"o\">-</span><span class=\"mi\">1</span><span class=\"p\">]</span>\n\n<span class=\"n\">X_train_</span><span class=\"p\">,</span> <span class=\"n\">y_train_</span> <span class=\"o\">=</span> <span class=\"n\">drop_duplicated</span><span class=\"p\">(</span><span class=\"n\">X_train</span><span class=\"p\">,</span> <span class=\"n\">y_train</span><span class=\"p\">)</span>\n\n<span class=\"nb\">print</span><span class=\"p\">(</span><span class=\"n\">X_train</span><span class=\"o\">.</span><span class=\"n\">shape</span><span class=\"p\">)</span>\n<span class=\"nb\">print</span><span class=\"p\">(</span><span class=\"n\">y_train</span><span class=\"o\">.</span><span class=\"n\">shape</span><span class=\"p\">)</span>\n<span class=\"nb\">print</span><span class=\"p\">(</span><span class=\"n\">X_train_</span><span class=\"o\">.</span><span class=\"n\">shape</span><span class=\"p\">)</span>\n<span class=\"nb\">print</span><span class=\"p\">(</span><span class=\"n\">y_train_</span><span class=\"o\">.</span><span class=\"n\">shape</span><span class=\"p\">)</span>\n</pre></div>\n",
         "text/latex": "\\begin{Verbatim}[commandchars=\\\\\\{\\}]\n\\PY{k}{def} \\PY{n+nf}{drop\\PYZus{}duplicated}\\PY{p}{(}\\PY{n}{X}\\PY{p}{,}\\PY{n}{y}\\PY{p}{)}\\PY{p}{:}\n    \\PY{n}{df} \\PY{o}{=} \\PY{n}{pd}\\PY{o}{.}\\PY{n}{concat}\\PY{p}{(}\\PY{p}{[}\\PY{n}{X}\\PY{p}{,}\\PY{n}{y}\\PY{p}{]}\\PY{p}{,} \\PY{n}{axis}\\PY{o}{=}\\PY{l+m+mi}{1}\\PY{p}{)}\n    \\PY{n}{df} \\PY{o}{=} \\PY{n}{df}\\PY{o}{.}\\PY{n}{drop\\PYZus{}duplicates}\\PY{p}{(}\\PY{p}{)}\n    \\PY{k}{return} \\PY{n}{df}\\PY{o}{.}\\PY{n}{iloc}\\PY{p}{[}\\PY{p}{:}\\PY{p}{,}\\PY{p}{:}\\PY{o}{\\PYZhy{}}\\PY{l+m+mi}{1}\\PY{p}{]}\\PY{p}{,} \\PY{n}{df}\\PY{o}{.}\\PY{n}{iloc}\\PY{p}{[}\\PY{p}{:}\\PY{p}{,}\\PY{o}{\\PYZhy{}}\\PY{l+m+mi}{1}\\PY{p}{]}\n\n\\PY{n}{X\\PYZus{}train\\PYZus{}}\\PY{p}{,} \\PY{n}{y\\PYZus{}train\\PYZus{}} \\PY{o}{=} \\PY{n}{drop\\PYZus{}duplicated}\\PY{p}{(}\\PY{n}{X\\PYZus{}train}\\PY{p}{,} \\PY{n}{y\\PYZus{}train}\\PY{p}{)}\n\n\\PY{n+nb}{print}\\PY{p}{(}\\PY{n}{X\\PYZus{}train}\\PY{o}{.}\\PY{n}{shape}\\PY{p}{)}\n\\PY{n+nb}{print}\\PY{p}{(}\\PY{n}{y\\PYZus{}train}\\PY{o}{.}\\PY{n}{shape}\\PY{p}{)}\n\\PY{n+nb}{print}\\PY{p}{(}\\PY{n}{X\\PYZus{}train\\PYZus{}}\\PY{o}{.}\\PY{n}{shape}\\PY{p}{)}\n\\PY{n+nb}{print}\\PY{p}{(}\\PY{n}{y\\PYZus{}train\\PYZus{}}\\PY{o}{.}\\PY{n}{shape}\\PY{p}{)}\n\\end{Verbatim}\n",
         "text/plain": "def drop_duplicated(X,y):\n    df = pd.concat([X,y], axis=1)\n    df = df.drop_duplicates()\n    return df.iloc[:,:-1], df.iloc[:,-1]\n\nX_train_, y_train_ = drop_duplicated(X_train, y_train)\n\nprint(X_train.shape)\nprint(y_train.shape)\nprint(X_train_.shape)\nprint(y_train_.shape)"
        },
        "metadata": {},
        "output_type": "display_data"
       }
      ]
     }
    },
    "6e593ab516724138b2f9044e909030f6": {
     "model_module": "@jupyter-widgets/base",
     "model_module_version": "1.2.0",
     "model_name": "LayoutModel",
     "state": {
      "_model_module": "@jupyter-widgets/base",
      "_model_module_version": "1.2.0",
      "_model_name": "LayoutModel",
      "_view_count": null,
      "_view_module": "@jupyter-widgets/base",
      "_view_module_version": "1.2.0",
      "_view_name": "LayoutView",
      "align_content": null,
      "align_items": null,
      "align_self": null,
      "border": "1px solid green",
      "bottom": null,
      "display": null,
      "flex": null,
      "flex_flow": null,
      "grid_area": null,
      "grid_auto_columns": null,
      "grid_auto_flow": null,
      "grid_auto_rows": null,
      "grid_column": null,
      "grid_gap": null,
      "grid_row": null,
      "grid_template_areas": null,
      "grid_template_columns": null,
      "grid_template_rows": null,
      "height": null,
      "justify_content": null,
      "justify_items": null,
      "left": null,
      "margin": null,
      "max_height": null,
      "max_width": null,
      "min_height": null,
      "min_width": null,
      "object_fit": null,
      "object_position": null,
      "order": null,
      "overflow": null,
      "overflow_x": null,
      "overflow_y": null,
      "padding": null,
      "right": null,
      "top": null,
      "visibility": null,
      "width": null
     }
    },
    "700fddb784d640379379b17e89be9ccf": {
     "model_module": "@jupyter-widgets/output",
     "model_module_version": "1.0.0",
     "model_name": "OutputModel",
     "state": {
      "_dom_classes": [],
      "_model_module": "@jupyter-widgets/output",
      "_model_module_version": "1.0.0",
      "_model_name": "OutputModel",
      "_view_count": null,
      "_view_module": "@jupyter-widgets/output",
      "_view_module_version": "1.0.0",
      "_view_name": "OutputView",
      "layout": "IPY_MODEL_038a6365db0b4b4c8f2cb392d9a49842",
      "msg_id": "",
      "outputs": [
       {
        "data": {
         "text/html": "<style>.output_html .hll { background-color: #ffffcc }\n.output_html  { background: #f8f8f8; }\n.output_html .c { color: #408080; font-style: italic } /* Comment */\n.output_html .err { border: 1px solid #FF0000 } /* Error */\n.output_html .k { color: #008000; font-weight: bold } /* Keyword */\n.output_html .o { color: #666666 } /* Operator */\n.output_html .ch { color: #408080; font-style: italic } /* Comment.Hashbang */\n.output_html .cm { color: #408080; font-style: italic } /* Comment.Multiline */\n.output_html .cp { color: #BC7A00 } /* Comment.Preproc */\n.output_html .cpf { color: #408080; font-style: italic } /* Comment.PreprocFile */\n.output_html .c1 { color: #408080; font-style: italic } /* Comment.Single */\n.output_html .cs { color: #408080; font-style: italic } /* Comment.Special */\n.output_html .gd { color: #A00000 } /* Generic.Deleted */\n.output_html .ge { font-style: italic } /* Generic.Emph */\n.output_html .gr { color: #FF0000 } /* Generic.Error */\n.output_html .gh { color: #000080; font-weight: bold } /* Generic.Heading */\n.output_html .gi { color: #00A000 } /* Generic.Inserted */\n.output_html .go { color: #888888 } /* Generic.Output */\n.output_html .gp { color: #000080; font-weight: bold } /* Generic.Prompt */\n.output_html .gs { font-weight: bold } /* Generic.Strong */\n.output_html .gu { color: #800080; font-weight: bold } /* Generic.Subheading */\n.output_html .gt { color: #0044DD } /* Generic.Traceback */\n.output_html .kc { color: #008000; font-weight: bold } /* Keyword.Constant */\n.output_html .kd { color: #008000; font-weight: bold } /* Keyword.Declaration */\n.output_html .kn { color: #008000; font-weight: bold } /* Keyword.Namespace */\n.output_html .kp { color: #008000 } /* Keyword.Pseudo */\n.output_html .kr { color: #008000; font-weight: bold } /* Keyword.Reserved */\n.output_html .kt { color: #B00040 } /* Keyword.Type */\n.output_html .m { color: #666666 } /* Literal.Number */\n.output_html .s { color: #BA2121 } /* Literal.String */\n.output_html .na { color: #7D9029 } /* Name.Attribute */\n.output_html .nb { color: #008000 } /* Name.Builtin */\n.output_html .nc { color: #0000FF; font-weight: bold } /* Name.Class */\n.output_html .no { color: #880000 } /* Name.Constant */\n.output_html .nd { color: #AA22FF } /* Name.Decorator */\n.output_html .ni { color: #999999; font-weight: bold } /* Name.Entity */\n.output_html .ne { color: #D2413A; font-weight: bold } /* Name.Exception */\n.output_html .nf { color: #0000FF } /* Name.Function */\n.output_html .nl { color: #A0A000 } /* Name.Label */\n.output_html .nn { color: #0000FF; font-weight: bold } /* Name.Namespace */\n.output_html .nt { color: #008000; font-weight: bold } /* Name.Tag */\n.output_html .nv { color: #19177C } /* Name.Variable */\n.output_html .ow { color: #AA22FF; font-weight: bold } /* Operator.Word */\n.output_html .w { color: #bbbbbb } /* Text.Whitespace */\n.output_html .mb { color: #666666 } /* Literal.Number.Bin */\n.output_html .mf { color: #666666 } /* Literal.Number.Float */\n.output_html .mh { color: #666666 } /* Literal.Number.Hex */\n.output_html .mi { color: #666666 } /* Literal.Number.Integer */\n.output_html .mo { color: #666666 } /* Literal.Number.Oct */\n.output_html .sa { color: #BA2121 } /* Literal.String.Affix */\n.output_html .sb { color: #BA2121 } /* Literal.String.Backtick */\n.output_html .sc { color: #BA2121 } /* Literal.String.Char */\n.output_html .dl { color: #BA2121 } /* Literal.String.Delimiter */\n.output_html .sd { color: #BA2121; font-style: italic } /* Literal.String.Doc */\n.output_html .s2 { color: #BA2121 } /* Literal.String.Double */\n.output_html .se { color: #BB6622; font-weight: bold } /* Literal.String.Escape */\n.output_html .sh { color: #BA2121 } /* Literal.String.Heredoc */\n.output_html .si { color: #BB6688; font-weight: bold } /* Literal.String.Interpol */\n.output_html .sx { color: #008000 } /* Literal.String.Other */\n.output_html .sr { color: #BB6688 } /* Literal.String.Regex */\n.output_html .s1 { color: #BA2121 } /* Literal.String.Single */\n.output_html .ss { color: #19177C } /* Literal.String.Symbol */\n.output_html .bp { color: #008000 } /* Name.Builtin.Pseudo */\n.output_html .fm { color: #0000FF } /* Name.Function.Magic */\n.output_html .vc { color: #19177C } /* Name.Variable.Class */\n.output_html .vg { color: #19177C } /* Name.Variable.Global */\n.output_html .vi { color: #19177C } /* Name.Variable.Instance */\n.output_html .vm { color: #19177C } /* Name.Variable.Magic */\n.output_html .il { color: #666666 } /* Literal.Number.Integer.Long */</style><div class=\"highlight\"><pre><span></span><span class=\"kn\">from</span> <span class=\"nn\">sklearn.tree</span> <span class=\"kn\">import</span> <span class=\"n\">DecisionTreeRegressor</span>\n\n<span class=\"n\">reg</span> <span class=\"o\">=</span> <span class=\"n\">DecisionTreeRegressor</span><span class=\"p\">(</span><span class=\"n\">random_state</span><span class=\"o\">=</span><span class=\"mi\">42</span><span class=\"p\">)</span>\n\n<span class=\"n\">reg_tree_pipe</span> <span class=\"o\">=</span> <span class=\"n\">Pipeline</span><span class=\"p\">([</span>\n    <span class=\"p\">(</span><span class=\"s2\">&quot;drop_duplicated&quot;</span><span class=\"p\">,</span> <span class=\"n\">DD</span><span class=\"p\">),</span>\n    <span class=\"p\">(</span><span class=\"s2\">&quot;make_dataframe&quot;</span><span class=\"p\">,</span> <span class=\"n\">DT</span><span class=\"p\">),</span>\n    <span class=\"p\">(</span><span class=\"s2\">&quot;feature_selection&quot;</span><span class=\"p\">,</span> <span class=\"n\">fs</span><span class=\"p\">),</span>\n    <span class=\"p\">(</span><span class=\"s2\">&quot;transformer&quot;</span><span class=\"p\">,</span> <span class=\"n\">lt</span><span class=\"p\">),</span>\n    <span class=\"p\">(</span><span class=\"s2\">&quot;scaler&quot;</span><span class=\"p\">,</span> <span class=\"n\">scaler</span><span class=\"p\">),</span>\n    <span class=\"p\">(</span><span class=\"s2\">&quot;model&quot;</span><span class=\"p\">,</span> <span class=\"n\">reg</span><span class=\"p\">)</span>\n<span class=\"p\">])</span>\n\n<span class=\"n\">reg_tree_pipe</span><span class=\"o\">.</span><span class=\"n\">fit</span><span class=\"p\">(</span><span class=\"n\">X_train</span><span class=\"p\">,</span> <span class=\"n\">y_train</span><span class=\"p\">)</span>\n<span class=\"nb\">print</span><span class=\"p\">(</span><span class=\"s2\">&quot;Training Score&quot;</span><span class=\"p\">)</span>\n<span class=\"nb\">print</span><span class=\"p\">(</span><span class=\"nb\">round</span><span class=\"p\">(</span><span class=\"n\">reg_tree_pipe</span><span class=\"o\">.</span><span class=\"n\">score</span><span class=\"p\">(</span><span class=\"n\">X_train</span><span class=\"p\">,</span> <span class=\"n\">y_train</span><span class=\"p\">),</span> <span class=\"mi\">3</span><span class=\"p\">))</span>\n<span class=\"nb\">print</span><span class=\"p\">(</span><span class=\"s2\">&quot;Validation Score&quot;</span><span class=\"p\">)</span>\n<span class=\"nb\">print</span><span class=\"p\">(</span><span class=\"nb\">round</span><span class=\"p\">(</span><span class=\"n\">reg_tree_pipe</span><span class=\"o\">.</span><span class=\"n\">score</span><span class=\"p\">(</span><span class=\"n\">X_val</span><span class=\"p\">,</span> <span class=\"n\">y_val</span><span class=\"p\">),</span> <span class=\"mi\">3</span><span class=\"p\">))</span>\n</pre></div>\n",
         "text/latex": "\\begin{Verbatim}[commandchars=\\\\\\{\\}]\n\\PY{k+kn}{from} \\PY{n+nn}{sklearn}\\PY{n+nn}{.}\\PY{n+nn}{tree} \\PY{k+kn}{import} \\PY{n}{DecisionTreeRegressor}\n\n\\PY{n}{reg} \\PY{o}{=} \\PY{n}{DecisionTreeRegressor}\\PY{p}{(}\\PY{n}{random\\PYZus{}state}\\PY{o}{=}\\PY{l+m+mi}{42}\\PY{p}{)}\n\n\\PY{n}{reg\\PYZus{}tree\\PYZus{}pipe} \\PY{o}{=} \\PY{n}{Pipeline}\\PY{p}{(}\\PY{p}{[}\n    \\PY{p}{(}\\PY{l+s+s2}{\\PYZdq{}}\\PY{l+s+s2}{drop\\PYZus{}duplicated}\\PY{l+s+s2}{\\PYZdq{}}\\PY{p}{,} \\PY{n}{DD}\\PY{p}{)}\\PY{p}{,}\n    \\PY{p}{(}\\PY{l+s+s2}{\\PYZdq{}}\\PY{l+s+s2}{make\\PYZus{}dataframe}\\PY{l+s+s2}{\\PYZdq{}}\\PY{p}{,} \\PY{n}{DT}\\PY{p}{)}\\PY{p}{,}\n    \\PY{p}{(}\\PY{l+s+s2}{\\PYZdq{}}\\PY{l+s+s2}{feature\\PYZus{}selection}\\PY{l+s+s2}{\\PYZdq{}}\\PY{p}{,} \\PY{n}{fs}\\PY{p}{)}\\PY{p}{,}\n    \\PY{p}{(}\\PY{l+s+s2}{\\PYZdq{}}\\PY{l+s+s2}{transformer}\\PY{l+s+s2}{\\PYZdq{}}\\PY{p}{,} \\PY{n}{lt}\\PY{p}{)}\\PY{p}{,}\n    \\PY{p}{(}\\PY{l+s+s2}{\\PYZdq{}}\\PY{l+s+s2}{scaler}\\PY{l+s+s2}{\\PYZdq{}}\\PY{p}{,} \\PY{n}{scaler}\\PY{p}{)}\\PY{p}{,}\n    \\PY{p}{(}\\PY{l+s+s2}{\\PYZdq{}}\\PY{l+s+s2}{model}\\PY{l+s+s2}{\\PYZdq{}}\\PY{p}{,} \\PY{n}{reg}\\PY{p}{)}\n\\PY{p}{]}\\PY{p}{)}\n\n\\PY{n}{reg\\PYZus{}tree\\PYZus{}pipe}\\PY{o}{.}\\PY{n}{fit}\\PY{p}{(}\\PY{n}{X\\PYZus{}train}\\PY{p}{,} \\PY{n}{y\\PYZus{}train}\\PY{p}{)}\n\\PY{n+nb}{print}\\PY{p}{(}\\PY{l+s+s2}{\\PYZdq{}}\\PY{l+s+s2}{Training Score}\\PY{l+s+s2}{\\PYZdq{}}\\PY{p}{)}\n\\PY{n+nb}{print}\\PY{p}{(}\\PY{n+nb}{round}\\PY{p}{(}\\PY{n}{reg\\PYZus{}tree\\PYZus{}pipe}\\PY{o}{.}\\PY{n}{score}\\PY{p}{(}\\PY{n}{X\\PYZus{}train}\\PY{p}{,} \\PY{n}{y\\PYZus{}train}\\PY{p}{)}\\PY{p}{,} \\PY{l+m+mi}{3}\\PY{p}{)}\\PY{p}{)}\n\\PY{n+nb}{print}\\PY{p}{(}\\PY{l+s+s2}{\\PYZdq{}}\\PY{l+s+s2}{Validation Score}\\PY{l+s+s2}{\\PYZdq{}}\\PY{p}{)}\n\\PY{n+nb}{print}\\PY{p}{(}\\PY{n+nb}{round}\\PY{p}{(}\\PY{n}{reg\\PYZus{}tree\\PYZus{}pipe}\\PY{o}{.}\\PY{n}{score}\\PY{p}{(}\\PY{n}{X\\PYZus{}val}\\PY{p}{,} \\PY{n}{y\\PYZus{}val}\\PY{p}{)}\\PY{p}{,} \\PY{l+m+mi}{3}\\PY{p}{)}\\PY{p}{)}\n\\end{Verbatim}\n",
         "text/plain": "from sklearn.tree import DecisionTreeRegressor\n\nreg = DecisionTreeRegressor(random_state=42)\n\nreg_tree_pipe = Pipeline([\n    (\"drop_duplicated\", DD),\n    (\"make_dataframe\", DT),\n    (\"feature_selection\", fs),\n    (\"transformer\", lt),\n    (\"scaler\", scaler),\n    (\"model\", reg)\n])\n\nreg_tree_pipe.fit(X_train, y_train)\nprint(\"Training Score\")\nprint(round(reg_tree_pipe.score(X_train, y_train), 3))\nprint(\"Validation Score\")\nprint(round(reg_tree_pipe.score(X_val, y_val), 3))"
        },
        "metadata": {},
        "output_type": "display_data"
       }
      ]
     }
    },
    "7329e877523c4f268c3b1f05cd688e7d": {
     "model_module": "@jupyter-widgets/base",
     "model_module_version": "1.2.0",
     "model_name": "LayoutModel",
     "state": {
      "_model_module": "@jupyter-widgets/base",
      "_model_module_version": "1.2.0",
      "_model_name": "LayoutModel",
      "_view_count": null,
      "_view_module": "@jupyter-widgets/base",
      "_view_module_version": "1.2.0",
      "_view_name": "LayoutView",
      "align_content": null,
      "align_items": null,
      "align_self": null,
      "border": "1px solid green",
      "bottom": null,
      "display": null,
      "flex": null,
      "flex_flow": null,
      "grid_area": null,
      "grid_auto_columns": null,
      "grid_auto_flow": null,
      "grid_auto_rows": null,
      "grid_column": null,
      "grid_gap": null,
      "grid_row": null,
      "grid_template_areas": null,
      "grid_template_columns": null,
      "grid_template_rows": null,
      "height": null,
      "justify_content": null,
      "justify_items": null,
      "left": null,
      "margin": null,
      "max_height": null,
      "max_width": null,
      "min_height": null,
      "min_width": null,
      "object_fit": null,
      "object_position": null,
      "order": null,
      "overflow": null,
      "overflow_x": null,
      "overflow_y": null,
      "padding": null,
      "right": null,
      "top": null,
      "visibility": null,
      "width": null
     }
    },
    "770d549e6cc542888149e90af3eda1ae": {
     "model_module": "@jupyter-widgets/base",
     "model_module_version": "1.2.0",
     "model_name": "LayoutModel",
     "state": {
      "_model_module": "@jupyter-widgets/base",
      "_model_module_version": "1.2.0",
      "_model_name": "LayoutModel",
      "_view_count": null,
      "_view_module": "@jupyter-widgets/base",
      "_view_module_version": "1.2.0",
      "_view_name": "LayoutView",
      "align_content": null,
      "align_items": null,
      "align_self": null,
      "border": "1px solid green",
      "bottom": null,
      "display": null,
      "flex": null,
      "flex_flow": null,
      "grid_area": null,
      "grid_auto_columns": null,
      "grid_auto_flow": null,
      "grid_auto_rows": null,
      "grid_column": null,
      "grid_gap": null,
      "grid_row": null,
      "grid_template_areas": null,
      "grid_template_columns": null,
      "grid_template_rows": null,
      "height": null,
      "justify_content": null,
      "justify_items": null,
      "left": null,
      "margin": null,
      "max_height": null,
      "max_width": null,
      "min_height": null,
      "min_width": null,
      "object_fit": null,
      "object_position": null,
      "order": null,
      "overflow": null,
      "overflow_x": null,
      "overflow_y": null,
      "padding": null,
      "right": null,
      "top": null,
      "visibility": null,
      "width": null
     }
    },
    "7851406244a24e9cafa9fd3f82207d4f": {
     "model_module": "@jupyter-widgets/controls",
     "model_module_version": "1.5.0",
     "model_name": "ButtonModel",
     "state": {
      "_dom_classes": [],
      "_model_module": "@jupyter-widgets/controls",
      "_model_module_version": "1.5.0",
      "_model_name": "ButtonModel",
      "_view_count": null,
      "_view_module": "@jupyter-widgets/controls",
      "_view_module_version": "1.5.0",
      "_view_name": "ButtonView",
      "button_style": "",
      "description": "Hide solution",
      "disabled": false,
      "icon": "",
      "layout": "IPY_MODEL_ad35f469668146f7a4365cdbce438ba2",
      "style": "IPY_MODEL_05e44b41f68d46b9bd15ee048ec83de9",
      "tooltip": ""
     }
    },
    "798d7fe68b8340c59a2e4c8225c6396d": {
     "model_module": "@jupyter-widgets/output",
     "model_module_version": "1.0.0",
     "model_name": "OutputModel",
     "state": {
      "_dom_classes": [],
      "_model_module": "@jupyter-widgets/output",
      "_model_module_version": "1.0.0",
      "_model_name": "OutputModel",
      "_view_count": null,
      "_view_module": "@jupyter-widgets/output",
      "_view_module_version": "1.0.0",
      "_view_name": "OutputView",
      "layout": "IPY_MODEL_7d3e884f4d2449dea509ee7b7d2cb24b",
      "msg_id": "",
      "outputs": [
       {
        "data": {
         "text/html": "<style>.output_html .hll { background-color: #ffffcc }\n.output_html  { background: #f8f8f8; }\n.output_html .c { color: #408080; font-style: italic } /* Comment */\n.output_html .err { border: 1px solid #FF0000 } /* Error */\n.output_html .k { color: #008000; font-weight: bold } /* Keyword */\n.output_html .o { color: #666666 } /* Operator */\n.output_html .ch { color: #408080; font-style: italic } /* Comment.Hashbang */\n.output_html .cm { color: #408080; font-style: italic } /* Comment.Multiline */\n.output_html .cp { color: #BC7A00 } /* Comment.Preproc */\n.output_html .cpf { color: #408080; font-style: italic } /* Comment.PreprocFile */\n.output_html .c1 { color: #408080; font-style: italic } /* Comment.Single */\n.output_html .cs { color: #408080; font-style: italic } /* Comment.Special */\n.output_html .gd { color: #A00000 } /* Generic.Deleted */\n.output_html .ge { font-style: italic } /* Generic.Emph */\n.output_html .gr { color: #FF0000 } /* Generic.Error */\n.output_html .gh { color: #000080; font-weight: bold } /* Generic.Heading */\n.output_html .gi { color: #00A000 } /* Generic.Inserted */\n.output_html .go { color: #888888 } /* Generic.Output */\n.output_html .gp { color: #000080; font-weight: bold } /* Generic.Prompt */\n.output_html .gs { font-weight: bold } /* Generic.Strong */\n.output_html .gu { color: #800080; font-weight: bold } /* Generic.Subheading */\n.output_html .gt { color: #0044DD } /* Generic.Traceback */\n.output_html .kc { color: #008000; font-weight: bold } /* Keyword.Constant */\n.output_html .kd { color: #008000; font-weight: bold } /* Keyword.Declaration */\n.output_html .kn { color: #008000; font-weight: bold } /* Keyword.Namespace */\n.output_html .kp { color: #008000 } /* Keyword.Pseudo */\n.output_html .kr { color: #008000; font-weight: bold } /* Keyword.Reserved */\n.output_html .kt { color: #B00040 } /* Keyword.Type */\n.output_html .m { color: #666666 } /* Literal.Number */\n.output_html .s { color: #BA2121 } /* Literal.String */\n.output_html .na { color: #7D9029 } /* Name.Attribute */\n.output_html .nb { color: #008000 } /* Name.Builtin */\n.output_html .nc { color: #0000FF; font-weight: bold } /* Name.Class */\n.output_html .no { color: #880000 } /* Name.Constant */\n.output_html .nd { color: #AA22FF } /* Name.Decorator */\n.output_html .ni { color: #999999; font-weight: bold } /* Name.Entity */\n.output_html .ne { color: #D2413A; font-weight: bold } /* Name.Exception */\n.output_html .nf { color: #0000FF } /* Name.Function */\n.output_html .nl { color: #A0A000 } /* Name.Label */\n.output_html .nn { color: #0000FF; font-weight: bold } /* Name.Namespace */\n.output_html .nt { color: #008000; font-weight: bold } /* Name.Tag */\n.output_html .nv { color: #19177C } /* Name.Variable */\n.output_html .ow { color: #AA22FF; font-weight: bold } /* Operator.Word */\n.output_html .w { color: #bbbbbb } /* Text.Whitespace */\n.output_html .mb { color: #666666 } /* Literal.Number.Bin */\n.output_html .mf { color: #666666 } /* Literal.Number.Float */\n.output_html .mh { color: #666666 } /* Literal.Number.Hex */\n.output_html .mi { color: #666666 } /* Literal.Number.Integer */\n.output_html .mo { color: #666666 } /* Literal.Number.Oct */\n.output_html .sa { color: #BA2121 } /* Literal.String.Affix */\n.output_html .sb { color: #BA2121 } /* Literal.String.Backtick */\n.output_html .sc { color: #BA2121 } /* Literal.String.Char */\n.output_html .dl { color: #BA2121 } /* Literal.String.Delimiter */\n.output_html .sd { color: #BA2121; font-style: italic } /* Literal.String.Doc */\n.output_html .s2 { color: #BA2121 } /* Literal.String.Double */\n.output_html .se { color: #BB6622; font-weight: bold } /* Literal.String.Escape */\n.output_html .sh { color: #BA2121 } /* Literal.String.Heredoc */\n.output_html .si { color: #BB6688; font-weight: bold } /* Literal.String.Interpol */\n.output_html .sx { color: #008000 } /* Literal.String.Other */\n.output_html .sr { color: #BB6688 } /* Literal.String.Regex */\n.output_html .s1 { color: #BA2121 } /* Literal.String.Single */\n.output_html .ss { color: #19177C } /* Literal.String.Symbol */\n.output_html .bp { color: #008000 } /* Name.Builtin.Pseudo */\n.output_html .fm { color: #0000FF } /* Name.Function.Magic */\n.output_html .vc { color: #19177C } /* Name.Variable.Class */\n.output_html .vg { color: #19177C } /* Name.Variable.Global */\n.output_html .vi { color: #19177C } /* Name.Variable.Instance */\n.output_html .vm { color: #19177C } /* Name.Variable.Magic */\n.output_html .il { color: #666666 } /* Literal.Number.Integer.Long */</style><div class=\"highlight\"><pre><span></span><span class=\"n\">sns</span><span class=\"o\">.</span><span class=\"n\">set</span><span class=\"p\">(</span><span class=\"n\">rc</span><span class=\"o\">=</span><span class=\"p\">{</span><span class=\"s1\">&#39;figure.figsize&#39;</span><span class=\"p\">:</span> <span class=\"p\">(</span><span class=\"mi\">14</span><span class=\"p\">,</span> <span class=\"mi\">8</span><span class=\"p\">)})</span> \n<span class=\"n\">sns</span><span class=\"o\">.</span><span class=\"n\">countplot</span><span class=\"p\">(</span><span class=\"n\">x</span> <span class=\"o\">=</span> <span class=\"n\">y_train</span><span class=\"p\">)</span>\n<span class=\"n\">plt</span><span class=\"o\">.</span><span class=\"n\">title</span><span class=\"p\">(</span><span class=\"s2\">&quot;Figure 1. Quality of the wine&quot;</span><span class=\"p\">)</span>\n<span class=\"n\">plt</span><span class=\"o\">.</span><span class=\"n\">show</span><span class=\"p\">()</span>\n</pre></div>\n",
         "text/latex": "\\begin{Verbatim}[commandchars=\\\\\\{\\}]\n\\PY{n}{sns}\\PY{o}{.}\\PY{n}{set}\\PY{p}{(}\\PY{n}{rc}\\PY{o}{=}\\PY{p}{\\PYZob{}}\\PY{l+s+s1}{\\PYZsq{}}\\PY{l+s+s1}{figure.figsize}\\PY{l+s+s1}{\\PYZsq{}}\\PY{p}{:} \\PY{p}{(}\\PY{l+m+mi}{14}\\PY{p}{,} \\PY{l+m+mi}{8}\\PY{p}{)}\\PY{p}{\\PYZcb{}}\\PY{p}{)} \n\\PY{n}{sns}\\PY{o}{.}\\PY{n}{countplot}\\PY{p}{(}\\PY{n}{x} \\PY{o}{=} \\PY{n}{y\\PYZus{}train}\\PY{p}{)}\n\\PY{n}{plt}\\PY{o}{.}\\PY{n}{title}\\PY{p}{(}\\PY{l+s+s2}{\\PYZdq{}}\\PY{l+s+s2}{Figure 1. Quality of the wine}\\PY{l+s+s2}{\\PYZdq{}}\\PY{p}{)}\n\\PY{n}{plt}\\PY{o}{.}\\PY{n}{show}\\PY{p}{(}\\PY{p}{)}\n\\end{Verbatim}\n",
         "text/plain": "sns.set(rc={'figure.figsize': (14, 8)}) \nsns.countplot(x = y_train)\nplt.title(\"Figure 1. Quality of the wine\")\nplt.show()"
        },
        "metadata": {},
        "output_type": "display_data"
       },
       {
        "data": {
         "text/markdown": "It appears the majority of wine is of medium quality, with there being much less poor (3 & 4) and good (7 & 8) quality wine.\n",
         "text/plain": "<IPython.core.display.Markdown object>"
        },
        "metadata": {},
        "output_type": "display_data"
       }
      ]
     }
    },
    "7a8507746b5d4c1a982c55eddcdd0219": {
     "model_module": "@jupyter-widgets/output",
     "model_module_version": "1.0.0",
     "model_name": "OutputModel",
     "state": {
      "_dom_classes": [],
      "_model_module": "@jupyter-widgets/output",
      "_model_module_version": "1.0.0",
      "_model_name": "OutputModel",
      "_view_count": null,
      "_view_module": "@jupyter-widgets/output",
      "_view_module_version": "1.0.0",
      "_view_name": "OutputView",
      "layout": "IPY_MODEL_4a464d8b4b9b4d819677511ca8d6c177",
      "msg_id": "",
      "outputs": [
       {
        "data": {
         "text/html": "<style>.output_html .hll { background-color: #ffffcc }\n.output_html  { background: #f8f8f8; }\n.output_html .c { color: #408080; font-style: italic } /* Comment */\n.output_html .err { border: 1px solid #FF0000 } /* Error */\n.output_html .k { color: #008000; font-weight: bold } /* Keyword */\n.output_html .o { color: #666666 } /* Operator */\n.output_html .ch { color: #408080; font-style: italic } /* Comment.Hashbang */\n.output_html .cm { color: #408080; font-style: italic } /* Comment.Multiline */\n.output_html .cp { color: #BC7A00 } /* Comment.Preproc */\n.output_html .cpf { color: #408080; font-style: italic } /* Comment.PreprocFile */\n.output_html .c1 { color: #408080; font-style: italic } /* Comment.Single */\n.output_html .cs { color: #408080; font-style: italic } /* Comment.Special */\n.output_html .gd { color: #A00000 } /* Generic.Deleted */\n.output_html .ge { font-style: italic } /* Generic.Emph */\n.output_html .gr { color: #FF0000 } /* Generic.Error */\n.output_html .gh { color: #000080; font-weight: bold } /* Generic.Heading */\n.output_html .gi { color: #00A000 } /* Generic.Inserted */\n.output_html .go { color: #888888 } /* Generic.Output */\n.output_html .gp { color: #000080; font-weight: bold } /* Generic.Prompt */\n.output_html .gs { font-weight: bold } /* Generic.Strong */\n.output_html .gu { color: #800080; font-weight: bold } /* Generic.Subheading */\n.output_html .gt { color: #0044DD } /* Generic.Traceback */\n.output_html .kc { color: #008000; font-weight: bold } /* Keyword.Constant */\n.output_html .kd { color: #008000; font-weight: bold } /* Keyword.Declaration */\n.output_html .kn { color: #008000; font-weight: bold } /* Keyword.Namespace */\n.output_html .kp { color: #008000 } /* Keyword.Pseudo */\n.output_html .kr { color: #008000; font-weight: bold } /* Keyword.Reserved */\n.output_html .kt { color: #B00040 } /* Keyword.Type */\n.output_html .m { color: #666666 } /* Literal.Number */\n.output_html .s { color: #BA2121 } /* Literal.String */\n.output_html .na { color: #7D9029 } /* Name.Attribute */\n.output_html .nb { color: #008000 } /* Name.Builtin */\n.output_html .nc { color: #0000FF; font-weight: bold } /* Name.Class */\n.output_html .no { color: #880000 } /* Name.Constant */\n.output_html .nd { color: #AA22FF } /* Name.Decorator */\n.output_html .ni { color: #999999; font-weight: bold } /* Name.Entity */\n.output_html .ne { color: #D2413A; font-weight: bold } /* Name.Exception */\n.output_html .nf { color: #0000FF } /* Name.Function */\n.output_html .nl { color: #A0A000 } /* Name.Label */\n.output_html .nn { color: #0000FF; font-weight: bold } /* Name.Namespace */\n.output_html .nt { color: #008000; font-weight: bold } /* Name.Tag */\n.output_html .nv { color: #19177C } /* Name.Variable */\n.output_html .ow { color: #AA22FF; font-weight: bold } /* Operator.Word */\n.output_html .w { color: #bbbbbb } /* Text.Whitespace */\n.output_html .mb { color: #666666 } /* Literal.Number.Bin */\n.output_html .mf { color: #666666 } /* Literal.Number.Float */\n.output_html .mh { color: #666666 } /* Literal.Number.Hex */\n.output_html .mi { color: #666666 } /* Literal.Number.Integer */\n.output_html .mo { color: #666666 } /* Literal.Number.Oct */\n.output_html .sa { color: #BA2121 } /* Literal.String.Affix */\n.output_html .sb { color: #BA2121 } /* Literal.String.Backtick */\n.output_html .sc { color: #BA2121 } /* Literal.String.Char */\n.output_html .dl { color: #BA2121 } /* Literal.String.Delimiter */\n.output_html .sd { color: #BA2121; font-style: italic } /* Literal.String.Doc */\n.output_html .s2 { color: #BA2121 } /* Literal.String.Double */\n.output_html .se { color: #BB6622; font-weight: bold } /* Literal.String.Escape */\n.output_html .sh { color: #BA2121 } /* Literal.String.Heredoc */\n.output_html .si { color: #BB6688; font-weight: bold } /* Literal.String.Interpol */\n.output_html .sx { color: #008000 } /* Literal.String.Other */\n.output_html .sr { color: #BB6688 } /* Literal.String.Regex */\n.output_html .s1 { color: #BA2121 } /* Literal.String.Single */\n.output_html .ss { color: #19177C } /* Literal.String.Symbol */\n.output_html .bp { color: #008000 } /* Name.Builtin.Pseudo */\n.output_html .fm { color: #0000FF } /* Name.Function.Magic */\n.output_html .vc { color: #19177C } /* Name.Variable.Class */\n.output_html .vg { color: #19177C } /* Name.Variable.Global */\n.output_html .vi { color: #19177C } /* Name.Variable.Instance */\n.output_html .vm { color: #19177C } /* Name.Variable.Magic */\n.output_html .il { color: #666666 } /* Literal.Number.Integer.Long */</style><div class=\"highlight\"><pre><span></span><span class=\"kn\">from</span> <span class=\"nn\">sklearn.linear_model</span> <span class=\"kn\">import</span> <span class=\"n\">LogisticRegression</span>\n<span class=\"kn\">from</span> <span class=\"nn\">sklearn.svm</span> <span class=\"kn\">import</span> <span class=\"n\">SVC</span>\n<span class=\"kn\">from</span> <span class=\"nn\">sklearn.neighbors</span> <span class=\"kn\">import</span> <span class=\"n\">KNeighborsClassifier</span>\n<span class=\"kn\">from</span> <span class=\"nn\">sklearn.dummy</span> <span class=\"kn\">import</span> <span class=\"n\">DummyClassifier</span>\n\n<span class=\"n\">dd</span> <span class=\"o\">=</span> <span class=\"n\">duplicated_sampler</span>\n<span class=\"n\">fs</span> <span class=\"o\">=</span> <span class=\"n\">DropCorrelatedFeatures</span><span class=\"p\">(</span><span class=\"n\">variables</span><span class=\"o\">=</span><span class=\"kc\">None</span><span class=\"p\">,</span> \n                            <span class=\"n\">method</span><span class=\"o\">=</span><span class=\"s1\">&#39;pearson&#39;</span><span class=\"p\">,</span> \n                            <span class=\"n\">threshold</span><span class=\"o\">=</span><span class=\"mf\">0.6</span><span class=\"p\">)</span>\n<span class=\"n\">lt</span> <span class=\"o\">=</span> <span class=\"n\">LogTransformer</span><span class=\"p\">()</span>\n<span class=\"n\">scaler</span> <span class=\"o\">=</span> <span class=\"n\">StandardScaler</span><span class=\"p\">()</span> \n\n<span class=\"n\">pre_processing</span> <span class=\"o\">=</span> <span class=\"p\">[</span>\n    <span class=\"p\">(</span><span class=\"s2\">&quot;drop_duplicated&quot;</span><span class=\"p\">,</span> <span class=\"n\">dd</span><span class=\"p\">),</span>\n    <span class=\"p\">(</span><span class=\"s2\">&quot;make_dataframe&quot;</span><span class=\"p\">,</span> <span class=\"n\">DT</span><span class=\"p\">),</span>\n    <span class=\"p\">(</span><span class=\"s2\">&quot;feature_selection&quot;</span><span class=\"p\">,</span> <span class=\"n\">fs</span><span class=\"p\">),</span>\n    <span class=\"p\">(</span><span class=\"s2\">&quot;log_transformer&quot;</span><span class=\"p\">,</span> <span class=\"n\">lt</span><span class=\"p\">),</span>\n    <span class=\"p\">(</span><span class=\"s2\">&quot;scaler&quot;</span><span class=\"p\">,</span> <span class=\"n\">scaler</span><span class=\"p\">)</span>\n<span class=\"p\">]</span>\n\n<span class=\"n\">dummy_pipe</span> <span class=\"o\">=</span> <span class=\"n\">Pipeline</span><span class=\"p\">(</span><span class=\"n\">steps</span><span class=\"o\">=</span><span class=\"n\">pre_processing</span><span class=\"o\">+</span><span class=\"p\">[(</span><span class=\"s2\">&quot;model&quot;</span><span class=\"p\">,</span> <span class=\"n\">DummyClassifier</span><span class=\"p\">(</span><span class=\"n\">random_state</span><span class=\"o\">=</span><span class=\"mi\">42</span><span class=\"p\">))])</span>\n<span class=\"n\">log_pipe</span> <span class=\"o\">=</span> <span class=\"n\">Pipeline</span><span class=\"p\">(</span><span class=\"n\">steps</span><span class=\"o\">=</span><span class=\"n\">pre_processing</span><span class=\"o\">+</span><span class=\"p\">[(</span><span class=\"s2\">&quot;model&quot;</span><span class=\"p\">,</span> <span class=\"n\">LogisticRegression</span><span class=\"p\">(</span><span class=\"n\">random_state</span><span class=\"o\">=</span><span class=\"mi\">42</span><span class=\"p\">))])</span>\n<span class=\"n\">svc_pipe</span> <span class=\"o\">=</span> <span class=\"n\">Pipeline</span><span class=\"p\">(</span><span class=\"n\">steps</span><span class=\"o\">=</span><span class=\"n\">pre_processing</span><span class=\"o\">+</span><span class=\"p\">[(</span><span class=\"s2\">&quot;model&quot;</span><span class=\"p\">,</span> <span class=\"n\">SVC</span><span class=\"p\">(</span><span class=\"n\">random_state</span><span class=\"o\">=</span><span class=\"mi\">42</span><span class=\"p\">))])</span>\n<span class=\"n\">knn_pipe</span> <span class=\"o\">=</span> <span class=\"n\">Pipeline</span><span class=\"p\">(</span><span class=\"n\">steps</span><span class=\"o\">=</span><span class=\"n\">pre_processing</span><span class=\"o\">+</span><span class=\"p\">[(</span><span class=\"s2\">&quot;model&quot;</span><span class=\"p\">,</span> <span class=\"n\">KNeighborsClassifier</span><span class=\"p\">())])</span>\n\n<span class=\"n\">model_dict</span> <span class=\"o\">=</span> <span class=\"p\">{</span>\n    <span class=\"s1\">&#39;Dummy&#39;</span><span class=\"p\">:</span> <span class=\"n\">dummy_pipe</span><span class=\"p\">,</span>\n    <span class=\"s1\">&#39;Logistic Regression&#39;</span><span class=\"p\">:</span> <span class=\"n\">log_pipe</span><span class=\"p\">,</span>\n    <span class=\"s1\">&#39;SVC&#39;</span><span class=\"p\">:</span> <span class=\"n\">svc_pipe</span><span class=\"p\">,</span>\n    <span class=\"s1\">&#39;KNN&#39;</span><span class=\"p\">:</span> <span class=\"n\">knn_pipe</span><span class=\"p\">}</span>\n\n<span class=\"k\">for</span> <span class=\"n\">i</span><span class=\"p\">,</span> <span class=\"n\">model_name</span> <span class=\"ow\">in</span> <span class=\"nb\">enumerate</span><span class=\"p\">(</span><span class=\"n\">model_dict</span><span class=\"p\">):</span> \n    <span class=\"n\">scores</span> <span class=\"o\">=</span> <span class=\"n\">cross_validate</span><span class=\"p\">(</span><span class=\"n\">model_dict</span><span class=\"p\">[</span><span class=\"n\">model_name</span><span class=\"p\">],</span> <span class=\"n\">X_train_full</span><span class=\"p\">,</span> <span class=\"n\">y_train_full</span><span class=\"p\">,</span> <span class=\"n\">cv</span><span class=\"o\">=</span><span class=\"mi\">5</span><span class=\"p\">,</span> <span class=\"n\">return_train_score</span><span class=\"o\">=</span><span class=\"kc\">True</span><span class=\"p\">)</span>\n    <span class=\"n\">scores_df</span> <span class=\"o\">=</span> <span class=\"n\">tidy_scores</span><span class=\"p\">(</span><span class=\"n\">scores</span><span class=\"p\">)</span>\n    <span class=\"n\">scores_df</span><span class=\"p\">[</span><span class=\"s1\">&#39;model&#39;</span><span class=\"p\">]</span> <span class=\"o\">=</span> <span class=\"n\">model_name</span>\n    <span class=\"n\">scores_df</span> <span class=\"o\">=</span> <span class=\"n\">scores_df</span><span class=\"o\">.</span><span class=\"n\">set_index</span><span class=\"p\">(</span><span class=\"s2\">&quot;model&quot;</span><span class=\"p\">,</span> <span class=\"n\">append</span><span class=\"o\">=</span><span class=\"kc\">True</span><span class=\"p\">)</span>\n    <span class=\"n\">scores_df</span> <span class=\"o\">=</span> <span class=\"n\">scores_df</span><span class=\"o\">.</span><span class=\"n\">swaplevel</span><span class=\"p\">()</span>\n    \n    <span class=\"k\">if</span> <span class=\"n\">i</span> <span class=\"o\">==</span><span class=\"mi\">0</span><span class=\"p\">:</span>\n        <span class=\"n\">all_scores</span> <span class=\"o\">=</span> <span class=\"n\">scores_df</span>\n    <span class=\"k\">else</span><span class=\"p\">:</span>\n        <span class=\"n\">all_scores</span> <span class=\"o\">=</span> <span class=\"n\">pd</span><span class=\"o\">.</span><span class=\"n\">concat</span><span class=\"p\">([</span><span class=\"n\">all_scores</span><span class=\"p\">,</span> <span class=\"n\">scores_df</span><span class=\"p\">],</span> <span class=\"n\">axis</span><span class=\"o\">=</span><span class=\"mi\">0</span><span class=\"p\">)</span>\n\n<span class=\"n\">display</span><span class=\"p\">(</span><span class=\"n\">all_scores</span><span class=\"o\">.</span><span class=\"n\">xs</span><span class=\"p\">(</span><span class=\"s1\">&#39;mean&#39;</span><span class=\"p\">,</span> <span class=\"n\">level</span><span class=\"o\">=</span><span class=\"mi\">1</span><span class=\"p\">,</span> <span class=\"n\">drop_level</span><span class=\"o\">=</span><span class=\"kc\">False</span><span class=\"p\">))</span>\n<span class=\"n\">display</span><span class=\"p\">(</span><span class=\"n\">all_scores</span><span class=\"o\">.</span><span class=\"n\">xs</span><span class=\"p\">(</span><span class=\"s1\">&#39;sd&#39;</span><span class=\"p\">,</span> <span class=\"n\">level</span><span class=\"o\">=</span><span class=\"mi\">1</span><span class=\"p\">,</span> <span class=\"n\">drop_level</span><span class=\"o\">=</span><span class=\"kc\">False</span><span class=\"p\">))</span>\n</pre></div>\n",
         "text/latex": "\\begin{Verbatim}[commandchars=\\\\\\{\\}]\n\\PY{k+kn}{from} \\PY{n+nn}{sklearn}\\PY{n+nn}{.}\\PY{n+nn}{linear\\PYZus{}model} \\PY{k+kn}{import} \\PY{n}{LogisticRegression}\n\\PY{k+kn}{from} \\PY{n+nn}{sklearn}\\PY{n+nn}{.}\\PY{n+nn}{svm} \\PY{k+kn}{import} \\PY{n}{SVC}\n\\PY{k+kn}{from} \\PY{n+nn}{sklearn}\\PY{n+nn}{.}\\PY{n+nn}{neighbors} \\PY{k+kn}{import} \\PY{n}{KNeighborsClassifier}\n\\PY{k+kn}{from} \\PY{n+nn}{sklearn}\\PY{n+nn}{.}\\PY{n+nn}{dummy} \\PY{k+kn}{import} \\PY{n}{DummyClassifier}\n\n\\PY{n}{dd} \\PY{o}{=} \\PY{n}{duplicated\\PYZus{}sampler}\n\\PY{n}{fs} \\PY{o}{=} \\PY{n}{DropCorrelatedFeatures}\\PY{p}{(}\\PY{n}{variables}\\PY{o}{=}\\PY{k+kc}{None}\\PY{p}{,} \n                            \\PY{n}{method}\\PY{o}{=}\\PY{l+s+s1}{\\PYZsq{}}\\PY{l+s+s1}{pearson}\\PY{l+s+s1}{\\PYZsq{}}\\PY{p}{,} \n                            \\PY{n}{threshold}\\PY{o}{=}\\PY{l+m+mf}{0.6}\\PY{p}{)}\n\\PY{n}{lt} \\PY{o}{=} \\PY{n}{LogTransformer}\\PY{p}{(}\\PY{p}{)}\n\\PY{n}{scaler} \\PY{o}{=} \\PY{n}{StandardScaler}\\PY{p}{(}\\PY{p}{)} \n\n\\PY{n}{pre\\PYZus{}processing} \\PY{o}{=} \\PY{p}{[}\n    \\PY{p}{(}\\PY{l+s+s2}{\\PYZdq{}}\\PY{l+s+s2}{drop\\PYZus{}duplicated}\\PY{l+s+s2}{\\PYZdq{}}\\PY{p}{,} \\PY{n}{dd}\\PY{p}{)}\\PY{p}{,}\n    \\PY{p}{(}\\PY{l+s+s2}{\\PYZdq{}}\\PY{l+s+s2}{make\\PYZus{}dataframe}\\PY{l+s+s2}{\\PYZdq{}}\\PY{p}{,} \\PY{n}{DT}\\PY{p}{)}\\PY{p}{,}\n    \\PY{p}{(}\\PY{l+s+s2}{\\PYZdq{}}\\PY{l+s+s2}{feature\\PYZus{}selection}\\PY{l+s+s2}{\\PYZdq{}}\\PY{p}{,} \\PY{n}{fs}\\PY{p}{)}\\PY{p}{,}\n    \\PY{p}{(}\\PY{l+s+s2}{\\PYZdq{}}\\PY{l+s+s2}{log\\PYZus{}transformer}\\PY{l+s+s2}{\\PYZdq{}}\\PY{p}{,} \\PY{n}{lt}\\PY{p}{)}\\PY{p}{,}\n    \\PY{p}{(}\\PY{l+s+s2}{\\PYZdq{}}\\PY{l+s+s2}{scaler}\\PY{l+s+s2}{\\PYZdq{}}\\PY{p}{,} \\PY{n}{scaler}\\PY{p}{)}\n\\PY{p}{]}\n\n\\PY{n}{dummy\\PYZus{}pipe} \\PY{o}{=} \\PY{n}{Pipeline}\\PY{p}{(}\\PY{n}{steps}\\PY{o}{=}\\PY{n}{pre\\PYZus{}processing}\\PY{o}{+}\\PY{p}{[}\\PY{p}{(}\\PY{l+s+s2}{\\PYZdq{}}\\PY{l+s+s2}{model}\\PY{l+s+s2}{\\PYZdq{}}\\PY{p}{,} \\PY{n}{DummyClassifier}\\PY{p}{(}\\PY{n}{random\\PYZus{}state}\\PY{o}{=}\\PY{l+m+mi}{42}\\PY{p}{)}\\PY{p}{)}\\PY{p}{]}\\PY{p}{)}\n\\PY{n}{log\\PYZus{}pipe} \\PY{o}{=} \\PY{n}{Pipeline}\\PY{p}{(}\\PY{n}{steps}\\PY{o}{=}\\PY{n}{pre\\PYZus{}processing}\\PY{o}{+}\\PY{p}{[}\\PY{p}{(}\\PY{l+s+s2}{\\PYZdq{}}\\PY{l+s+s2}{model}\\PY{l+s+s2}{\\PYZdq{}}\\PY{p}{,} \\PY{n}{LogisticRegression}\\PY{p}{(}\\PY{n}{random\\PYZus{}state}\\PY{o}{=}\\PY{l+m+mi}{42}\\PY{p}{)}\\PY{p}{)}\\PY{p}{]}\\PY{p}{)}\n\\PY{n}{svc\\PYZus{}pipe} \\PY{o}{=} \\PY{n}{Pipeline}\\PY{p}{(}\\PY{n}{steps}\\PY{o}{=}\\PY{n}{pre\\PYZus{}processing}\\PY{o}{+}\\PY{p}{[}\\PY{p}{(}\\PY{l+s+s2}{\\PYZdq{}}\\PY{l+s+s2}{model}\\PY{l+s+s2}{\\PYZdq{}}\\PY{p}{,} \\PY{n}{SVC}\\PY{p}{(}\\PY{n}{random\\PYZus{}state}\\PY{o}{=}\\PY{l+m+mi}{42}\\PY{p}{)}\\PY{p}{)}\\PY{p}{]}\\PY{p}{)}\n\\PY{n}{knn\\PYZus{}pipe} \\PY{o}{=} \\PY{n}{Pipeline}\\PY{p}{(}\\PY{n}{steps}\\PY{o}{=}\\PY{n}{pre\\PYZus{}processing}\\PY{o}{+}\\PY{p}{[}\\PY{p}{(}\\PY{l+s+s2}{\\PYZdq{}}\\PY{l+s+s2}{model}\\PY{l+s+s2}{\\PYZdq{}}\\PY{p}{,} \\PY{n}{KNeighborsClassifier}\\PY{p}{(}\\PY{p}{)}\\PY{p}{)}\\PY{p}{]}\\PY{p}{)}\n\n\\PY{n}{model\\PYZus{}dict} \\PY{o}{=} \\PY{p}{\\PYZob{}}\n    \\PY{l+s+s1}{\\PYZsq{}}\\PY{l+s+s1}{Dummy}\\PY{l+s+s1}{\\PYZsq{}}\\PY{p}{:} \\PY{n}{dummy\\PYZus{}pipe}\\PY{p}{,}\n    \\PY{l+s+s1}{\\PYZsq{}}\\PY{l+s+s1}{Logistic Regression}\\PY{l+s+s1}{\\PYZsq{}}\\PY{p}{:} \\PY{n}{log\\PYZus{}pipe}\\PY{p}{,}\n    \\PY{l+s+s1}{\\PYZsq{}}\\PY{l+s+s1}{SVC}\\PY{l+s+s1}{\\PYZsq{}}\\PY{p}{:} \\PY{n}{svc\\PYZus{}pipe}\\PY{p}{,}\n    \\PY{l+s+s1}{\\PYZsq{}}\\PY{l+s+s1}{KNN}\\PY{l+s+s1}{\\PYZsq{}}\\PY{p}{:} \\PY{n}{knn\\PYZus{}pipe}\\PY{p}{\\PYZcb{}}\n\n\\PY{k}{for} \\PY{n}{i}\\PY{p}{,} \\PY{n}{model\\PYZus{}name} \\PY{o+ow}{in} \\PY{n+nb}{enumerate}\\PY{p}{(}\\PY{n}{model\\PYZus{}dict}\\PY{p}{)}\\PY{p}{:} \n    \\PY{n}{scores} \\PY{o}{=} \\PY{n}{cross\\PYZus{}validate}\\PY{p}{(}\\PY{n}{model\\PYZus{}dict}\\PY{p}{[}\\PY{n}{model\\PYZus{}name}\\PY{p}{]}\\PY{p}{,} \\PY{n}{X\\PYZus{}train\\PYZus{}full}\\PY{p}{,} \\PY{n}{y\\PYZus{}train\\PYZus{}full}\\PY{p}{,} \\PY{n}{cv}\\PY{o}{=}\\PY{l+m+mi}{5}\\PY{p}{,} \\PY{n}{return\\PYZus{}train\\PYZus{}score}\\PY{o}{=}\\PY{k+kc}{True}\\PY{p}{)}\n    \\PY{n}{scores\\PYZus{}df} \\PY{o}{=} \\PY{n}{tidy\\PYZus{}scores}\\PY{p}{(}\\PY{n}{scores}\\PY{p}{)}\n    \\PY{n}{scores\\PYZus{}df}\\PY{p}{[}\\PY{l+s+s1}{\\PYZsq{}}\\PY{l+s+s1}{model}\\PY{l+s+s1}{\\PYZsq{}}\\PY{p}{]} \\PY{o}{=} \\PY{n}{model\\PYZus{}name}\n    \\PY{n}{scores\\PYZus{}df} \\PY{o}{=} \\PY{n}{scores\\PYZus{}df}\\PY{o}{.}\\PY{n}{set\\PYZus{}index}\\PY{p}{(}\\PY{l+s+s2}{\\PYZdq{}}\\PY{l+s+s2}{model}\\PY{l+s+s2}{\\PYZdq{}}\\PY{p}{,} \\PY{n}{append}\\PY{o}{=}\\PY{k+kc}{True}\\PY{p}{)}\n    \\PY{n}{scores\\PYZus{}df} \\PY{o}{=} \\PY{n}{scores\\PYZus{}df}\\PY{o}{.}\\PY{n}{swaplevel}\\PY{p}{(}\\PY{p}{)}\n    \n    \\PY{k}{if} \\PY{n}{i} \\PY{o}{==}\\PY{l+m+mi}{0}\\PY{p}{:}\n        \\PY{n}{all\\PYZus{}scores} \\PY{o}{=} \\PY{n}{scores\\PYZus{}df}\n    \\PY{k}{else}\\PY{p}{:}\n        \\PY{n}{all\\PYZus{}scores} \\PY{o}{=} \\PY{n}{pd}\\PY{o}{.}\\PY{n}{concat}\\PY{p}{(}\\PY{p}{[}\\PY{n}{all\\PYZus{}scores}\\PY{p}{,} \\PY{n}{scores\\PYZus{}df}\\PY{p}{]}\\PY{p}{,} \\PY{n}{axis}\\PY{o}{=}\\PY{l+m+mi}{0}\\PY{p}{)}\n\n\\PY{n}{display}\\PY{p}{(}\\PY{n}{all\\PYZus{}scores}\\PY{o}{.}\\PY{n}{xs}\\PY{p}{(}\\PY{l+s+s1}{\\PYZsq{}}\\PY{l+s+s1}{mean}\\PY{l+s+s1}{\\PYZsq{}}\\PY{p}{,} \\PY{n}{level}\\PY{o}{=}\\PY{l+m+mi}{1}\\PY{p}{,} \\PY{n}{drop\\PYZus{}level}\\PY{o}{=}\\PY{k+kc}{False}\\PY{p}{)}\\PY{p}{)}\n\\PY{n}{display}\\PY{p}{(}\\PY{n}{all\\PYZus{}scores}\\PY{o}{.}\\PY{n}{xs}\\PY{p}{(}\\PY{l+s+s1}{\\PYZsq{}}\\PY{l+s+s1}{sd}\\PY{l+s+s1}{\\PYZsq{}}\\PY{p}{,} \\PY{n}{level}\\PY{o}{=}\\PY{l+m+mi}{1}\\PY{p}{,} \\PY{n}{drop\\PYZus{}level}\\PY{o}{=}\\PY{k+kc}{False}\\PY{p}{)}\\PY{p}{)}\n\\end{Verbatim}\n",
         "text/plain": "from sklearn.linear_model import LogisticRegression\nfrom sklearn.svm import SVC\nfrom sklearn.neighbors import KNeighborsClassifier\nfrom sklearn.dummy import DummyClassifier\n\ndd = duplicated_sampler\nfs = DropCorrelatedFeatures(variables=None, \n                            method='pearson', \n                            threshold=0.6)\nlt = LogTransformer()\nscaler = StandardScaler() \n\npre_processing = [\n    (\"drop_duplicated\", dd),\n    (\"make_dataframe\", DT),\n    (\"feature_selection\", fs),\n    (\"log_transformer\", lt),\n    (\"scaler\", scaler)\n]\n\ndummy_pipe = Pipeline(steps=pre_processing+[(\"model\", DummyClassifier(random_state=42))])\nlog_pipe = Pipeline(steps=pre_processing+[(\"model\", LogisticRegression(random_state=42))])\nsvc_pipe = Pipeline(steps=pre_processing+[(\"model\", SVC(random_state=42))])\nknn_pipe = Pipeline(steps=pre_processing+[(\"model\", KNeighborsClassifier())])\n\nmodel_dict = {\n    'Dummy': dummy_pipe,\n    'Logistic Regression': log_pipe,\n    'SVC': svc_pipe,\n    'KNN': knn_pipe}\n\nfor i, model_name in enumerate(model_dict): \n    scores = cross_validate(model_dict[model_name], X_train_full, y_train_full, cv=5, return_train_score=True)\n    scores_df = tidy_scores(scores)\n    scores_df['model'] = model_name\n    scores_df = scores_df.set_index(\"model\", append=True)\n    scores_df = scores_df.swaplevel()\n    \n    if i ==0:\n        all_scores = scores_df\n    else:\n        all_scores = pd.concat([all_scores, scores_df], axis=0)\n\ndisplay(all_scores.xs('mean', level=1, drop_level=False))\ndisplay(all_scores.xs('sd', level=1, drop_level=False))"
        },
        "metadata": {},
        "output_type": "display_data"
       },
       {
        "data": {
         "text/markdown": "It appears that the difference between the training and validation set is not to large for the dummy (expected) and logisitic regression models, but is larger for the SVC and particularly the KNN model. Out of all the models, \"SVC\" appears to be the best.\n",
         "text/plain": "<IPython.core.display.Markdown object>"
        },
        "metadata": {},
        "output_type": "display_data"
       }
      ]
     }
    },
    "7b6485ee89d543fd9add5e402aa800a0": {
     "model_module": "@jupyter-widgets/base",
     "model_module_version": "1.2.0",
     "model_name": "LayoutModel",
     "state": {
      "_model_module": "@jupyter-widgets/base",
      "_model_module_version": "1.2.0",
      "_model_name": "LayoutModel",
      "_view_count": null,
      "_view_module": "@jupyter-widgets/base",
      "_view_module_version": "1.2.0",
      "_view_name": "LayoutView",
      "align_content": null,
      "align_items": null,
      "align_self": null,
      "border": null,
      "bottom": null,
      "display": null,
      "flex": null,
      "flex_flow": null,
      "grid_area": null,
      "grid_auto_columns": null,
      "grid_auto_flow": null,
      "grid_auto_rows": null,
      "grid_column": null,
      "grid_gap": null,
      "grid_row": null,
      "grid_template_areas": null,
      "grid_template_columns": null,
      "grid_template_rows": null,
      "height": null,
      "justify_content": null,
      "justify_items": null,
      "left": null,
      "margin": null,
      "max_height": null,
      "max_width": null,
      "min_height": null,
      "min_width": null,
      "object_fit": null,
      "object_position": null,
      "order": null,
      "overflow": null,
      "overflow_x": null,
      "overflow_y": null,
      "padding": null,
      "right": null,
      "top": null,
      "visibility": null,
      "width": null
     }
    },
    "7d3e884f4d2449dea509ee7b7d2cb24b": {
     "model_module": "@jupyter-widgets/base",
     "model_module_version": "1.2.0",
     "model_name": "LayoutModel",
     "state": {
      "_model_module": "@jupyter-widgets/base",
      "_model_module_version": "1.2.0",
      "_model_name": "LayoutModel",
      "_view_count": null,
      "_view_module": "@jupyter-widgets/base",
      "_view_module_version": "1.2.0",
      "_view_name": "LayoutView",
      "align_content": null,
      "align_items": null,
      "align_self": null,
      "border": "1px solid green",
      "bottom": null,
      "display": null,
      "flex": null,
      "flex_flow": null,
      "grid_area": null,
      "grid_auto_columns": null,
      "grid_auto_flow": null,
      "grid_auto_rows": null,
      "grid_column": null,
      "grid_gap": null,
      "grid_row": null,
      "grid_template_areas": null,
      "grid_template_columns": null,
      "grid_template_rows": null,
      "height": null,
      "justify_content": null,
      "justify_items": null,
      "left": null,
      "margin": null,
      "max_height": null,
      "max_width": null,
      "min_height": null,
      "min_width": null,
      "object_fit": null,
      "object_position": null,
      "order": null,
      "overflow": null,
      "overflow_x": null,
      "overflow_y": null,
      "padding": null,
      "right": null,
      "top": null,
      "visibility": null,
      "width": null
     }
    },
    "80318d13d40d4fa1b74d46dc8b0bf776": {
     "model_module": "@jupyter-widgets/output",
     "model_module_version": "1.0.0",
     "model_name": "OutputModel",
     "state": {
      "_dom_classes": [],
      "_model_module": "@jupyter-widgets/output",
      "_model_module_version": "1.0.0",
      "_model_name": "OutputModel",
      "_view_count": null,
      "_view_module": "@jupyter-widgets/output",
      "_view_module_version": "1.0.0",
      "_view_name": "OutputView",
      "layout": "IPY_MODEL_e16427d676d044478ee67d0a61f90c97",
      "msg_id": "",
      "outputs": [
       {
        "data": {
         "text/html": "<style>.output_html .hll { background-color: #ffffcc }\n.output_html  { background: #f8f8f8; }\n.output_html .c { color: #408080; font-style: italic } /* Comment */\n.output_html .err { border: 1px solid #FF0000 } /* Error */\n.output_html .k { color: #008000; font-weight: bold } /* Keyword */\n.output_html .o { color: #666666 } /* Operator */\n.output_html .ch { color: #408080; font-style: italic } /* Comment.Hashbang */\n.output_html .cm { color: #408080; font-style: italic } /* Comment.Multiline */\n.output_html .cp { color: #BC7A00 } /* Comment.Preproc */\n.output_html .cpf { color: #408080; font-style: italic } /* Comment.PreprocFile */\n.output_html .c1 { color: #408080; font-style: italic } /* Comment.Single */\n.output_html .cs { color: #408080; font-style: italic } /* Comment.Special */\n.output_html .gd { color: #A00000 } /* Generic.Deleted */\n.output_html .ge { font-style: italic } /* Generic.Emph */\n.output_html .gr { color: #FF0000 } /* Generic.Error */\n.output_html .gh { color: #000080; font-weight: bold } /* Generic.Heading */\n.output_html .gi { color: #00A000 } /* Generic.Inserted */\n.output_html .go { color: #888888 } /* Generic.Output */\n.output_html .gp { color: #000080; font-weight: bold } /* Generic.Prompt */\n.output_html .gs { font-weight: bold } /* Generic.Strong */\n.output_html .gu { color: #800080; font-weight: bold } /* Generic.Subheading */\n.output_html .gt { color: #0044DD } /* Generic.Traceback */\n.output_html .kc { color: #008000; font-weight: bold } /* Keyword.Constant */\n.output_html .kd { color: #008000; font-weight: bold } /* Keyword.Declaration */\n.output_html .kn { color: #008000; font-weight: bold } /* Keyword.Namespace */\n.output_html .kp { color: #008000 } /* Keyword.Pseudo */\n.output_html .kr { color: #008000; font-weight: bold } /* Keyword.Reserved */\n.output_html .kt { color: #B00040 } /* Keyword.Type */\n.output_html .m { color: #666666 } /* Literal.Number */\n.output_html .s { color: #BA2121 } /* Literal.String */\n.output_html .na { color: #7D9029 } /* Name.Attribute */\n.output_html .nb { color: #008000 } /* Name.Builtin */\n.output_html .nc { color: #0000FF; font-weight: bold } /* Name.Class */\n.output_html .no { color: #880000 } /* Name.Constant */\n.output_html .nd { color: #AA22FF } /* Name.Decorator */\n.output_html .ni { color: #999999; font-weight: bold } /* Name.Entity */\n.output_html .ne { color: #D2413A; font-weight: bold } /* Name.Exception */\n.output_html .nf { color: #0000FF } /* Name.Function */\n.output_html .nl { color: #A0A000 } /* Name.Label */\n.output_html .nn { color: #0000FF; font-weight: bold } /* Name.Namespace */\n.output_html .nt { color: #008000; font-weight: bold } /* Name.Tag */\n.output_html .nv { color: #19177C } /* Name.Variable */\n.output_html .ow { color: #AA22FF; font-weight: bold } /* Operator.Word */\n.output_html .w { color: #bbbbbb } /* Text.Whitespace */\n.output_html .mb { color: #666666 } /* Literal.Number.Bin */\n.output_html .mf { color: #666666 } /* Literal.Number.Float */\n.output_html .mh { color: #666666 } /* Literal.Number.Hex */\n.output_html .mi { color: #666666 } /* Literal.Number.Integer */\n.output_html .mo { color: #666666 } /* Literal.Number.Oct */\n.output_html .sa { color: #BA2121 } /* Literal.String.Affix */\n.output_html .sb { color: #BA2121 } /* Literal.String.Backtick */\n.output_html .sc { color: #BA2121 } /* Literal.String.Char */\n.output_html .dl { color: #BA2121 } /* Literal.String.Delimiter */\n.output_html .sd { color: #BA2121; font-style: italic } /* Literal.String.Doc */\n.output_html .s2 { color: #BA2121 } /* Literal.String.Double */\n.output_html .se { color: #BB6622; font-weight: bold } /* Literal.String.Escape */\n.output_html .sh { color: #BA2121 } /* Literal.String.Heredoc */\n.output_html .si { color: #BB6688; font-weight: bold } /* Literal.String.Interpol */\n.output_html .sx { color: #008000 } /* Literal.String.Other */\n.output_html .sr { color: #BB6688 } /* Literal.String.Regex */\n.output_html .s1 { color: #BA2121 } /* Literal.String.Single */\n.output_html .ss { color: #19177C } /* Literal.String.Symbol */\n.output_html .bp { color: #008000 } /* Name.Builtin.Pseudo */\n.output_html .fm { color: #0000FF } /* Name.Function.Magic */\n.output_html .vc { color: #19177C } /* Name.Variable.Class */\n.output_html .vg { color: #19177C } /* Name.Variable.Global */\n.output_html .vi { color: #19177C } /* Name.Variable.Instance */\n.output_html .vm { color: #19177C } /* Name.Variable.Magic */\n.output_html .il { color: #666666 } /* Literal.Number.Integer.Long */</style><div class=\"highlight\"><pre><span></span><span class=\"n\">train_df</span><span class=\"o\">.</span><span class=\"n\">info</span><span class=\"p\">()</span>\n</pre></div>\n",
         "text/latex": "\\begin{Verbatim}[commandchars=\\\\\\{\\}]\n\\PY{n}{train\\PYZus{}df}\\PY{o}{.}\\PY{n}{info}\\PY{p}{(}\\PY{p}{)}\n\\end{Verbatim}\n",
         "text/plain": "train_df.info()"
        },
        "metadata": {},
        "output_type": "display_data"
       },
       {
        "data": {
         "text/markdown": "Most of the columns are in `float64` format, except the quality column, which is `int64`.\n",
         "text/plain": "<IPython.core.display.Markdown object>"
        },
        "metadata": {},
        "output_type": "display_data"
       }
      ]
     }
    },
    "82c92d0b536043118398da42fb1a356e": {
     "model_module": "@jupyter-widgets/base",
     "model_module_version": "1.2.0",
     "model_name": "LayoutModel",
     "state": {
      "_model_module": "@jupyter-widgets/base",
      "_model_module_version": "1.2.0",
      "_model_name": "LayoutModel",
      "_view_count": null,
      "_view_module": "@jupyter-widgets/base",
      "_view_module_version": "1.2.0",
      "_view_name": "LayoutView",
      "align_content": null,
      "align_items": null,
      "align_self": null,
      "border": "1px solid green",
      "bottom": null,
      "display": null,
      "flex": null,
      "flex_flow": null,
      "grid_area": null,
      "grid_auto_columns": null,
      "grid_auto_flow": null,
      "grid_auto_rows": null,
      "grid_column": null,
      "grid_gap": null,
      "grid_row": null,
      "grid_template_areas": null,
      "grid_template_columns": null,
      "grid_template_rows": null,
      "height": null,
      "justify_content": null,
      "justify_items": null,
      "left": null,
      "margin": null,
      "max_height": null,
      "max_width": null,
      "min_height": null,
      "min_width": null,
      "object_fit": null,
      "object_position": null,
      "order": null,
      "overflow": null,
      "overflow_x": null,
      "overflow_y": null,
      "padding": null,
      "right": null,
      "top": null,
      "visibility": null,
      "width": null
     }
    },
    "853b72020a2e42bea8513d5939e765fc": {
     "model_module": "@jupyter-widgets/base",
     "model_module_version": "1.2.0",
     "model_name": "LayoutModel",
     "state": {
      "_model_module": "@jupyter-widgets/base",
      "_model_module_version": "1.2.0",
      "_model_name": "LayoutModel",
      "_view_count": null,
      "_view_module": "@jupyter-widgets/base",
      "_view_module_version": "1.2.0",
      "_view_name": "LayoutView",
      "align_content": null,
      "align_items": null,
      "align_self": null,
      "border": null,
      "bottom": null,
      "display": null,
      "flex": null,
      "flex_flow": null,
      "grid_area": null,
      "grid_auto_columns": null,
      "grid_auto_flow": null,
      "grid_auto_rows": null,
      "grid_column": null,
      "grid_gap": null,
      "grid_row": null,
      "grid_template_areas": null,
      "grid_template_columns": null,
      "grid_template_rows": null,
      "height": null,
      "justify_content": null,
      "justify_items": null,
      "left": null,
      "margin": null,
      "max_height": null,
      "max_width": null,
      "min_height": null,
      "min_width": null,
      "object_fit": null,
      "object_position": null,
      "order": null,
      "overflow": null,
      "overflow_x": null,
      "overflow_y": null,
      "padding": null,
      "right": null,
      "top": null,
      "visibility": null,
      "width": null
     }
    },
    "8587984b4e564e94ae7f187bade19aec": {
     "model_module": "@jupyter-widgets/output",
     "model_module_version": "1.0.0",
     "model_name": "OutputModel",
     "state": {
      "_dom_classes": [],
      "_model_module": "@jupyter-widgets/output",
      "_model_module_version": "1.0.0",
      "_model_name": "OutputModel",
      "_view_count": null,
      "_view_module": "@jupyter-widgets/output",
      "_view_module_version": "1.0.0",
      "_view_name": "OutputView",
      "layout": "IPY_MODEL_e3bcb68eb5a944d2842d9b1a3609074a",
      "msg_id": "",
      "outputs": []
     }
    },
    "8600f40a5c614e5aa63e874ddb32553f": {
     "model_module": "@jupyter-widgets/base",
     "model_module_version": "1.2.0",
     "model_name": "LayoutModel",
     "state": {
      "_model_module": "@jupyter-widgets/base",
      "_model_module_version": "1.2.0",
      "_model_name": "LayoutModel",
      "_view_count": null,
      "_view_module": "@jupyter-widgets/base",
      "_view_module_version": "1.2.0",
      "_view_name": "LayoutView",
      "align_content": null,
      "align_items": null,
      "align_self": null,
      "border": null,
      "bottom": null,
      "display": null,
      "flex": null,
      "flex_flow": null,
      "grid_area": null,
      "grid_auto_columns": null,
      "grid_auto_flow": null,
      "grid_auto_rows": null,
      "grid_column": null,
      "grid_gap": null,
      "grid_row": null,
      "grid_template_areas": null,
      "grid_template_columns": null,
      "grid_template_rows": null,
      "height": null,
      "justify_content": null,
      "justify_items": null,
      "left": null,
      "margin": null,
      "max_height": null,
      "max_width": null,
      "min_height": null,
      "min_width": null,
      "object_fit": null,
      "object_position": null,
      "order": null,
      "overflow": null,
      "overflow_x": null,
      "overflow_y": null,
      "padding": null,
      "right": null,
      "top": null,
      "visibility": null,
      "width": null
     }
    },
    "8647b60f08774b9baf2dfc01754702b8": {
     "model_module": "@jupyter-widgets/base",
     "model_module_version": "1.2.0",
     "model_name": "LayoutModel",
     "state": {
      "_model_module": "@jupyter-widgets/base",
      "_model_module_version": "1.2.0",
      "_model_name": "LayoutModel",
      "_view_count": null,
      "_view_module": "@jupyter-widgets/base",
      "_view_module_version": "1.2.0",
      "_view_name": "LayoutView",
      "align_content": null,
      "align_items": null,
      "align_self": null,
      "border": null,
      "bottom": null,
      "display": null,
      "flex": null,
      "flex_flow": null,
      "grid_area": null,
      "grid_auto_columns": null,
      "grid_auto_flow": null,
      "grid_auto_rows": null,
      "grid_column": null,
      "grid_gap": null,
      "grid_row": null,
      "grid_template_areas": null,
      "grid_template_columns": null,
      "grid_template_rows": null,
      "height": null,
      "justify_content": null,
      "justify_items": null,
      "left": null,
      "margin": null,
      "max_height": null,
      "max_width": null,
      "min_height": null,
      "min_width": null,
      "object_fit": null,
      "object_position": null,
      "order": null,
      "overflow": null,
      "overflow_x": null,
      "overflow_y": null,
      "padding": null,
      "right": null,
      "top": null,
      "visibility": null,
      "width": null
     }
    },
    "890838634e614380b006ef9fcb6e5d04": {
     "model_module": "@jupyter-widgets/base",
     "model_module_version": "1.2.0",
     "model_name": "LayoutModel",
     "state": {
      "_model_module": "@jupyter-widgets/base",
      "_model_module_version": "1.2.0",
      "_model_name": "LayoutModel",
      "_view_count": null,
      "_view_module": "@jupyter-widgets/base",
      "_view_module_version": "1.2.0",
      "_view_name": "LayoutView",
      "align_content": null,
      "align_items": null,
      "align_self": null,
      "border": "1px solid green",
      "bottom": null,
      "display": null,
      "flex": null,
      "flex_flow": null,
      "grid_area": null,
      "grid_auto_columns": null,
      "grid_auto_flow": null,
      "grid_auto_rows": null,
      "grid_column": null,
      "grid_gap": null,
      "grid_row": null,
      "grid_template_areas": null,
      "grid_template_columns": null,
      "grid_template_rows": null,
      "height": null,
      "justify_content": null,
      "justify_items": null,
      "left": null,
      "margin": null,
      "max_height": null,
      "max_width": null,
      "min_height": null,
      "min_width": null,
      "object_fit": null,
      "object_position": null,
      "order": null,
      "overflow": null,
      "overflow_x": null,
      "overflow_y": null,
      "padding": null,
      "right": null,
      "top": null,
      "visibility": null,
      "width": null
     }
    },
    "8c8cb6238be14dd4a527c1675db2ef55": {
     "model_module": "@jupyter-widgets/base",
     "model_module_version": "1.2.0",
     "model_name": "LayoutModel",
     "state": {
      "_model_module": "@jupyter-widgets/base",
      "_model_module_version": "1.2.0",
      "_model_name": "LayoutModel",
      "_view_count": null,
      "_view_module": "@jupyter-widgets/base",
      "_view_module_version": "1.2.0",
      "_view_name": "LayoutView",
      "align_content": null,
      "align_items": null,
      "align_self": null,
      "border": null,
      "bottom": null,
      "display": null,
      "flex": null,
      "flex_flow": null,
      "grid_area": null,
      "grid_auto_columns": null,
      "grid_auto_flow": null,
      "grid_auto_rows": null,
      "grid_column": null,
      "grid_gap": null,
      "grid_row": null,
      "grid_template_areas": null,
      "grid_template_columns": null,
      "grid_template_rows": null,
      "height": null,
      "justify_content": null,
      "justify_items": null,
      "left": null,
      "margin": null,
      "max_height": null,
      "max_width": null,
      "min_height": null,
      "min_width": null,
      "object_fit": null,
      "object_position": null,
      "order": null,
      "overflow": null,
      "overflow_x": null,
      "overflow_y": null,
      "padding": null,
      "right": null,
      "top": null,
      "visibility": null,
      "width": null
     }
    },
    "8cd1a974e75d47b0bb3a2ff1546646ee": {
     "model_module": "@jupyter-widgets/output",
     "model_module_version": "1.0.0",
     "model_name": "OutputModel",
     "state": {
      "_dom_classes": [],
      "_model_module": "@jupyter-widgets/output",
      "_model_module_version": "1.0.0",
      "_model_name": "OutputModel",
      "_view_count": null,
      "_view_module": "@jupyter-widgets/output",
      "_view_module_version": "1.0.0",
      "_view_name": "OutputView",
      "layout": "IPY_MODEL_ff27f8ecf890417da19cb6d8b6319dfc",
      "msg_id": "",
      "outputs": [
       {
        "data": {
         "text/markdown": "Feature engineering requires a _\"transformer\"_ class as we only need to alter the features and not the number of observations.\n",
         "text/plain": "<IPython.core.display.Markdown object>"
        },
        "metadata": {},
        "output_type": "display_data"
       }
      ]
     }
    },
    "8fe91e1d8c9c429a8cb1559e36071f67": {
     "model_module": "@jupyter-widgets/base",
     "model_module_version": "1.2.0",
     "model_name": "LayoutModel",
     "state": {
      "_model_module": "@jupyter-widgets/base",
      "_model_module_version": "1.2.0",
      "_model_name": "LayoutModel",
      "_view_count": null,
      "_view_module": "@jupyter-widgets/base",
      "_view_module_version": "1.2.0",
      "_view_name": "LayoutView",
      "align_content": null,
      "align_items": null,
      "align_self": null,
      "border": null,
      "bottom": null,
      "display": null,
      "flex": null,
      "flex_flow": null,
      "grid_area": null,
      "grid_auto_columns": null,
      "grid_auto_flow": null,
      "grid_auto_rows": null,
      "grid_column": null,
      "grid_gap": null,
      "grid_row": null,
      "grid_template_areas": null,
      "grid_template_columns": null,
      "grid_template_rows": null,
      "height": null,
      "justify_content": null,
      "justify_items": null,
      "left": null,
      "margin": null,
      "max_height": null,
      "max_width": null,
      "min_height": null,
      "min_width": null,
      "object_fit": null,
      "object_position": null,
      "order": null,
      "overflow": null,
      "overflow_x": null,
      "overflow_y": null,
      "padding": null,
      "right": null,
      "top": null,
      "visibility": null,
      "width": null
     }
    },
    "9046b7aec2144d83999e7636bd05f051": {
     "model_module": "@jupyter-widgets/output",
     "model_module_version": "1.0.0",
     "model_name": "OutputModel",
     "state": {
      "_dom_classes": [],
      "_model_module": "@jupyter-widgets/output",
      "_model_module_version": "1.0.0",
      "_model_name": "OutputModel",
      "_view_count": null,
      "_view_module": "@jupyter-widgets/output",
      "_view_module_version": "1.0.0",
      "_view_name": "OutputView",
      "layout": "IPY_MODEL_ca85765c4e4c4163af3560ae46ad1b4f",
      "msg_id": "",
      "outputs": [
       {
        "data": {
         "text/html": "<style>.output_html .hll { background-color: #ffffcc }\n.output_html  { background: #f8f8f8; }\n.output_html .c { color: #408080; font-style: italic } /* Comment */\n.output_html .err { border: 1px solid #FF0000 } /* Error */\n.output_html .k { color: #008000; font-weight: bold } /* Keyword */\n.output_html .o { color: #666666 } /* Operator */\n.output_html .ch { color: #408080; font-style: italic } /* Comment.Hashbang */\n.output_html .cm { color: #408080; font-style: italic } /* Comment.Multiline */\n.output_html .cp { color: #BC7A00 } /* Comment.Preproc */\n.output_html .cpf { color: #408080; font-style: italic } /* Comment.PreprocFile */\n.output_html .c1 { color: #408080; font-style: italic } /* Comment.Single */\n.output_html .cs { color: #408080; font-style: italic } /* Comment.Special */\n.output_html .gd { color: #A00000 } /* Generic.Deleted */\n.output_html .ge { font-style: italic } /* Generic.Emph */\n.output_html .gr { color: #FF0000 } /* Generic.Error */\n.output_html .gh { color: #000080; font-weight: bold } /* Generic.Heading */\n.output_html .gi { color: #00A000 } /* Generic.Inserted */\n.output_html .go { color: #888888 } /* Generic.Output */\n.output_html .gp { color: #000080; font-weight: bold } /* Generic.Prompt */\n.output_html .gs { font-weight: bold } /* Generic.Strong */\n.output_html .gu { color: #800080; font-weight: bold } /* Generic.Subheading */\n.output_html .gt { color: #0044DD } /* Generic.Traceback */\n.output_html .kc { color: #008000; font-weight: bold } /* Keyword.Constant */\n.output_html .kd { color: #008000; font-weight: bold } /* Keyword.Declaration */\n.output_html .kn { color: #008000; font-weight: bold } /* Keyword.Namespace */\n.output_html .kp { color: #008000 } /* Keyword.Pseudo */\n.output_html .kr { color: #008000; font-weight: bold } /* Keyword.Reserved */\n.output_html .kt { color: #B00040 } /* Keyword.Type */\n.output_html .m { color: #666666 } /* Literal.Number */\n.output_html .s { color: #BA2121 } /* Literal.String */\n.output_html .na { color: #7D9029 } /* Name.Attribute */\n.output_html .nb { color: #008000 } /* Name.Builtin */\n.output_html .nc { color: #0000FF; font-weight: bold } /* Name.Class */\n.output_html .no { color: #880000 } /* Name.Constant */\n.output_html .nd { color: #AA22FF } /* Name.Decorator */\n.output_html .ni { color: #999999; font-weight: bold } /* Name.Entity */\n.output_html .ne { color: #D2413A; font-weight: bold } /* Name.Exception */\n.output_html .nf { color: #0000FF } /* Name.Function */\n.output_html .nl { color: #A0A000 } /* Name.Label */\n.output_html .nn { color: #0000FF; font-weight: bold } /* Name.Namespace */\n.output_html .nt { color: #008000; font-weight: bold } /* Name.Tag */\n.output_html .nv { color: #19177C } /* Name.Variable */\n.output_html .ow { color: #AA22FF; font-weight: bold } /* Operator.Word */\n.output_html .w { color: #bbbbbb } /* Text.Whitespace */\n.output_html .mb { color: #666666 } /* Literal.Number.Bin */\n.output_html .mf { color: #666666 } /* Literal.Number.Float */\n.output_html .mh { color: #666666 } /* Literal.Number.Hex */\n.output_html .mi { color: #666666 } /* Literal.Number.Integer */\n.output_html .mo { color: #666666 } /* Literal.Number.Oct */\n.output_html .sa { color: #BA2121 } /* Literal.String.Affix */\n.output_html .sb { color: #BA2121 } /* Literal.String.Backtick */\n.output_html .sc { color: #BA2121 } /* Literal.String.Char */\n.output_html .dl { color: #BA2121 } /* Literal.String.Delimiter */\n.output_html .sd { color: #BA2121; font-style: italic } /* Literal.String.Doc */\n.output_html .s2 { color: #BA2121 } /* Literal.String.Double */\n.output_html .se { color: #BB6622; font-weight: bold } /* Literal.String.Escape */\n.output_html .sh { color: #BA2121 } /* Literal.String.Heredoc */\n.output_html .si { color: #BB6688; font-weight: bold } /* Literal.String.Interpol */\n.output_html .sx { color: #008000 } /* Literal.String.Other */\n.output_html .sr { color: #BB6688 } /* Literal.String.Regex */\n.output_html .s1 { color: #BA2121 } /* Literal.String.Single */\n.output_html .ss { color: #19177C } /* Literal.String.Symbol */\n.output_html .bp { color: #008000 } /* Name.Builtin.Pseudo */\n.output_html .fm { color: #0000FF } /* Name.Function.Magic */\n.output_html .vc { color: #19177C } /* Name.Variable.Class */\n.output_html .vg { color: #19177C } /* Name.Variable.Global */\n.output_html .vi { color: #19177C } /* Name.Variable.Instance */\n.output_html .vm { color: #19177C } /* Name.Variable.Magic */\n.output_html .il { color: #666666 } /* Literal.Number.Integer.Long */</style><div class=\"highlight\"><pre><span></span><span class=\"n\">pipes_dict</span> <span class=\"o\">=</span> <span class=\"p\">{</span>\n    <span class=\"s2\">&quot;Polynomial Features&quot;</span><span class=\"p\">:</span> <span class=\"n\">poly_reg_pipe</span><span class=\"p\">,</span>\n    <span class=\"s2\">&quot;Regression Tree&quot;</span><span class=\"p\">:</span> <span class=\"n\">reg_tree_pipe</span>\n<span class=\"p\">}</span>\n\n<span class=\"k\">for</span> <span class=\"n\">pipe_name</span> <span class=\"ow\">in</span> <span class=\"n\">pipes_dict</span><span class=\"p\">:</span>\n    <span class=\"nb\">print</span><span class=\"p\">(</span><span class=\"n\">pipe_name</span><span class=\"p\">)</span>\n    <span class=\"n\">scores</span> <span class=\"o\">=</span> <span class=\"n\">cross_validate</span><span class=\"p\">(</span><span class=\"n\">pipes_dict</span><span class=\"p\">[</span><span class=\"n\">pipe_name</span><span class=\"p\">],</span> <span class=\"n\">X_train_full</span><span class=\"p\">,</span> <span class=\"n\">y_train_full</span><span class=\"p\">,</span> <span class=\"n\">cv</span><span class=\"o\">=</span><span class=\"mi\">5</span><span class=\"p\">,</span> <span class=\"n\">return_train_score</span><span class=\"o\">=</span><span class=\"kc\">True</span><span class=\"p\">)</span>\n\n    <span class=\"n\">display</span><span class=\"p\">(</span><span class=\"n\">tidy_scores</span><span class=\"p\">(</span><span class=\"n\">scores</span><span class=\"p\">))</span>\n</pre></div>\n",
         "text/latex": "\\begin{Verbatim}[commandchars=\\\\\\{\\}]\n\\PY{n}{pipes\\PYZus{}dict} \\PY{o}{=} \\PY{p}{\\PYZob{}}\n    \\PY{l+s+s2}{\\PYZdq{}}\\PY{l+s+s2}{Polynomial Features}\\PY{l+s+s2}{\\PYZdq{}}\\PY{p}{:} \\PY{n}{poly\\PYZus{}reg\\PYZus{}pipe}\\PY{p}{,}\n    \\PY{l+s+s2}{\\PYZdq{}}\\PY{l+s+s2}{Regression Tree}\\PY{l+s+s2}{\\PYZdq{}}\\PY{p}{:} \\PY{n}{reg\\PYZus{}tree\\PYZus{}pipe}\n\\PY{p}{\\PYZcb{}}\n\n\\PY{k}{for} \\PY{n}{pipe\\PYZus{}name} \\PY{o+ow}{in} \\PY{n}{pipes\\PYZus{}dict}\\PY{p}{:}\n    \\PY{n+nb}{print}\\PY{p}{(}\\PY{n}{pipe\\PYZus{}name}\\PY{p}{)}\n    \\PY{n}{scores} \\PY{o}{=} \\PY{n}{cross\\PYZus{}validate}\\PY{p}{(}\\PY{n}{pipes\\PYZus{}dict}\\PY{p}{[}\\PY{n}{pipe\\PYZus{}name}\\PY{p}{]}\\PY{p}{,} \\PY{n}{X\\PYZus{}train\\PYZus{}full}\\PY{p}{,} \\PY{n}{y\\PYZus{}train\\PYZus{}full}\\PY{p}{,} \\PY{n}{cv}\\PY{o}{=}\\PY{l+m+mi}{5}\\PY{p}{,} \\PY{n}{return\\PYZus{}train\\PYZus{}score}\\PY{o}{=}\\PY{k+kc}{True}\\PY{p}{)}\n\n    \\PY{n}{display}\\PY{p}{(}\\PY{n}{tidy\\PYZus{}scores}\\PY{p}{(}\\PY{n}{scores}\\PY{p}{)}\\PY{p}{)}\n\\end{Verbatim}\n",
         "text/plain": "pipes_dict = {\n    \"Polynomial Features\": poly_reg_pipe,\n    \"Regression Tree\": reg_tree_pipe\n}\n\nfor pipe_name in pipes_dict:\n    print(pipe_name)\n    scores = cross_validate(pipes_dict[pipe_name], X_train_full, y_train_full, cv=5, return_train_score=True)\n\n    display(tidy_scores(scores))"
        },
        "metadata": {},
        "output_type": "display_data"
       },
       {
        "data": {
         "text/markdown": "Assessing the models using cross-validation demonstrates that the pipeline with polynomial features appears to have better average performance on both the training and validation set. Furthermore, the difference between these two sets may not actually as bad as the previous train/validation split made out and could just be due to the specific split made. The difference in score for this pipeline between the training set and validation set is however still larger than the linear regression model, suggesting there is some overfitting occouring here. The Regression Tree is still consistently bad on these settings (we'll fix it in later weeks).\n",
         "text/plain": "<IPython.core.display.Markdown object>"
        },
        "metadata": {},
        "output_type": "display_data"
       }
      ]
     }
    },
    "96994dafcaa84843b26a01b18c401b70": {
     "model_module": "@jupyter-widgets/output",
     "model_module_version": "1.0.0",
     "model_name": "OutputModel",
     "state": {
      "_dom_classes": [],
      "_model_module": "@jupyter-widgets/output",
      "_model_module_version": "1.0.0",
      "_model_name": "OutputModel",
      "_view_count": null,
      "_view_module": "@jupyter-widgets/output",
      "_view_module_version": "1.0.0",
      "_view_name": "OutputView",
      "layout": "IPY_MODEL_5ecf1e0bcd6045879abd2bfbc3fbdf8d",
      "msg_id": "",
      "outputs": [
       {
        "data": {
         "text/html": "<style>.output_html .hll { background-color: #ffffcc }\n.output_html  { background: #f8f8f8; }\n.output_html .c { color: #408080; font-style: italic } /* Comment */\n.output_html .err { border: 1px solid #FF0000 } /* Error */\n.output_html .k { color: #008000; font-weight: bold } /* Keyword */\n.output_html .o { color: #666666 } /* Operator */\n.output_html .ch { color: #408080; font-style: italic } /* Comment.Hashbang */\n.output_html .cm { color: #408080; font-style: italic } /* Comment.Multiline */\n.output_html .cp { color: #BC7A00 } /* Comment.Preproc */\n.output_html .cpf { color: #408080; font-style: italic } /* Comment.PreprocFile */\n.output_html .c1 { color: #408080; font-style: italic } /* Comment.Single */\n.output_html .cs { color: #408080; font-style: italic } /* Comment.Special */\n.output_html .gd { color: #A00000 } /* Generic.Deleted */\n.output_html .ge { font-style: italic } /* Generic.Emph */\n.output_html .gr { color: #FF0000 } /* Generic.Error */\n.output_html .gh { color: #000080; font-weight: bold } /* Generic.Heading */\n.output_html .gi { color: #00A000 } /* Generic.Inserted */\n.output_html .go { color: #888888 } /* Generic.Output */\n.output_html .gp { color: #000080; font-weight: bold } /* Generic.Prompt */\n.output_html .gs { font-weight: bold } /* Generic.Strong */\n.output_html .gu { color: #800080; font-weight: bold } /* Generic.Subheading */\n.output_html .gt { color: #0044DD } /* Generic.Traceback */\n.output_html .kc { color: #008000; font-weight: bold } /* Keyword.Constant */\n.output_html .kd { color: #008000; font-weight: bold } /* Keyword.Declaration */\n.output_html .kn { color: #008000; font-weight: bold } /* Keyword.Namespace */\n.output_html .kp { color: #008000 } /* Keyword.Pseudo */\n.output_html .kr { color: #008000; font-weight: bold } /* Keyword.Reserved */\n.output_html .kt { color: #B00040 } /* Keyword.Type */\n.output_html .m { color: #666666 } /* Literal.Number */\n.output_html .s { color: #BA2121 } /* Literal.String */\n.output_html .na { color: #7D9029 } /* Name.Attribute */\n.output_html .nb { color: #008000 } /* Name.Builtin */\n.output_html .nc { color: #0000FF; font-weight: bold } /* Name.Class */\n.output_html .no { color: #880000 } /* Name.Constant */\n.output_html .nd { color: #AA22FF } /* Name.Decorator */\n.output_html .ni { color: #999999; font-weight: bold } /* Name.Entity */\n.output_html .ne { color: #D2413A; font-weight: bold } /* Name.Exception */\n.output_html .nf { color: #0000FF } /* Name.Function */\n.output_html .nl { color: #A0A000 } /* Name.Label */\n.output_html .nn { color: #0000FF; font-weight: bold } /* Name.Namespace */\n.output_html .nt { color: #008000; font-weight: bold } /* Name.Tag */\n.output_html .nv { color: #19177C } /* Name.Variable */\n.output_html .ow { color: #AA22FF; font-weight: bold } /* Operator.Word */\n.output_html .w { color: #bbbbbb } /* Text.Whitespace */\n.output_html .mb { color: #666666 } /* Literal.Number.Bin */\n.output_html .mf { color: #666666 } /* Literal.Number.Float */\n.output_html .mh { color: #666666 } /* Literal.Number.Hex */\n.output_html .mi { color: #666666 } /* Literal.Number.Integer */\n.output_html .mo { color: #666666 } /* Literal.Number.Oct */\n.output_html .sa { color: #BA2121 } /* Literal.String.Affix */\n.output_html .sb { color: #BA2121 } /* Literal.String.Backtick */\n.output_html .sc { color: #BA2121 } /* Literal.String.Char */\n.output_html .dl { color: #BA2121 } /* Literal.String.Delimiter */\n.output_html .sd { color: #BA2121; font-style: italic } /* Literal.String.Doc */\n.output_html .s2 { color: #BA2121 } /* Literal.String.Double */\n.output_html .se { color: #BB6622; font-weight: bold } /* Literal.String.Escape */\n.output_html .sh { color: #BA2121 } /* Literal.String.Heredoc */\n.output_html .si { color: #BB6688; font-weight: bold } /* Literal.String.Interpol */\n.output_html .sx { color: #008000 } /* Literal.String.Other */\n.output_html .sr { color: #BB6688 } /* Literal.String.Regex */\n.output_html .s1 { color: #BA2121 } /* Literal.String.Single */\n.output_html .ss { color: #19177C } /* Literal.String.Symbol */\n.output_html .bp { color: #008000 } /* Name.Builtin.Pseudo */\n.output_html .fm { color: #0000FF } /* Name.Function.Magic */\n.output_html .vc { color: #19177C } /* Name.Variable.Class */\n.output_html .vg { color: #19177C } /* Name.Variable.Global */\n.output_html .vi { color: #19177C } /* Name.Variable.Instance */\n.output_html .vm { color: #19177C } /* Name.Variable.Magic */\n.output_html .il { color: #666666 } /* Literal.Number.Integer.Long */</style><div class=\"highlight\"><pre><span></span><span class=\"n\">X_train_</span><span class=\"p\">,</span> <span class=\"n\">y_train_</span> <span class=\"o\">=</span> <span class=\"n\">duplicated_sampler</span><span class=\"o\">.</span><span class=\"n\">fit_resample</span><span class=\"p\">(</span><span class=\"n\">X_train</span><span class=\"p\">,</span> <span class=\"n\">y_train</span><span class=\"p\">)</span>\n\n<span class=\"nb\">print</span><span class=\"p\">(</span><span class=\"n\">X_train</span><span class=\"o\">.</span><span class=\"n\">shape</span><span class=\"p\">)</span>\n<span class=\"nb\">print</span><span class=\"p\">(</span><span class=\"n\">y_train</span><span class=\"o\">.</span><span class=\"n\">shape</span><span class=\"p\">)</span>\n<span class=\"nb\">print</span><span class=\"p\">(</span><span class=\"n\">X_train_</span><span class=\"o\">.</span><span class=\"n\">shape</span><span class=\"p\">)</span>\n<span class=\"nb\">print</span><span class=\"p\">(</span><span class=\"n\">y_train_</span><span class=\"o\">.</span><span class=\"n\">shape</span><span class=\"p\">)</span>\n</pre></div>\n",
         "text/latex": "\\begin{Verbatim}[commandchars=\\\\\\{\\}]\n\\PY{n}{X\\PYZus{}train\\PYZus{}}\\PY{p}{,} \\PY{n}{y\\PYZus{}train\\PYZus{}} \\PY{o}{=} \\PY{n}{duplicated\\PYZus{}sampler}\\PY{o}{.}\\PY{n}{fit\\PYZus{}resample}\\PY{p}{(}\\PY{n}{X\\PYZus{}train}\\PY{p}{,} \\PY{n}{y\\PYZus{}train}\\PY{p}{)}\n\n\\PY{n+nb}{print}\\PY{p}{(}\\PY{n}{X\\PYZus{}train}\\PY{o}{.}\\PY{n}{shape}\\PY{p}{)}\n\\PY{n+nb}{print}\\PY{p}{(}\\PY{n}{y\\PYZus{}train}\\PY{o}{.}\\PY{n}{shape}\\PY{p}{)}\n\\PY{n+nb}{print}\\PY{p}{(}\\PY{n}{X\\PYZus{}train\\PYZus{}}\\PY{o}{.}\\PY{n}{shape}\\PY{p}{)}\n\\PY{n+nb}{print}\\PY{p}{(}\\PY{n}{y\\PYZus{}train\\PYZus{}}\\PY{o}{.}\\PY{n}{shape}\\PY{p}{)}\n\\end{Verbatim}\n",
         "text/plain": "X_train_, y_train_ = duplicated_sampler.fit_resample(X_train, y_train)\n\nprint(X_train.shape)\nprint(y_train.shape)\nprint(X_train_.shape)\nprint(y_train_.shape)"
        },
        "metadata": {},
        "output_type": "display_data"
       }
      ]
     }
    },
    "9a17fb5e1330403989d4ea461f535d56": {
     "model_module": "@jupyter-widgets/controls",
     "model_module_version": "1.5.0",
     "model_name": "ButtonStyleModel",
     "state": {
      "_model_module": "@jupyter-widgets/controls",
      "_model_module_version": "1.5.0",
      "_model_name": "ButtonStyleModel",
      "_view_count": null,
      "_view_module": "@jupyter-widgets/base",
      "_view_module_version": "1.2.0",
      "_view_name": "StyleView",
      "button_color": null,
      "font_weight": ""
     }
    },
    "9c4c0dfbf47d4ee5a4fe9a2678ec6b6d": {
     "model_module": "@jupyter-widgets/controls",
     "model_module_version": "1.5.0",
     "model_name": "ButtonStyleModel",
     "state": {
      "_model_module": "@jupyter-widgets/controls",
      "_model_module_version": "1.5.0",
      "_model_name": "ButtonStyleModel",
      "_view_count": null,
      "_view_module": "@jupyter-widgets/base",
      "_view_module_version": "1.2.0",
      "_view_name": "StyleView",
      "button_color": null,
      "font_weight": ""
     }
    },
    "9e54e55dbb064c1cbea50889ddc7191b": {
     "model_module": "@jupyter-widgets/controls",
     "model_module_version": "1.5.0",
     "model_name": "ButtonStyleModel",
     "state": {
      "_model_module": "@jupyter-widgets/controls",
      "_model_module_version": "1.5.0",
      "_model_name": "ButtonStyleModel",
      "_view_count": null,
      "_view_module": "@jupyter-widgets/base",
      "_view_module_version": "1.2.0",
      "_view_name": "StyleView",
      "button_color": null,
      "font_weight": ""
     }
    },
    "a37d292ca86b451c8337d33752e858dc": {
     "model_module": "@jupyter-widgets/base",
     "model_module_version": "1.2.0",
     "model_name": "LayoutModel",
     "state": {
      "_model_module": "@jupyter-widgets/base",
      "_model_module_version": "1.2.0",
      "_model_name": "LayoutModel",
      "_view_count": null,
      "_view_module": "@jupyter-widgets/base",
      "_view_module_version": "1.2.0",
      "_view_name": "LayoutView",
      "align_content": null,
      "align_items": null,
      "align_self": null,
      "border": null,
      "bottom": null,
      "display": null,
      "flex": null,
      "flex_flow": null,
      "grid_area": null,
      "grid_auto_columns": null,
      "grid_auto_flow": null,
      "grid_auto_rows": null,
      "grid_column": null,
      "grid_gap": null,
      "grid_row": null,
      "grid_template_areas": null,
      "grid_template_columns": null,
      "grid_template_rows": null,
      "height": null,
      "justify_content": null,
      "justify_items": null,
      "left": null,
      "margin": null,
      "max_height": null,
      "max_width": null,
      "min_height": null,
      "min_width": null,
      "object_fit": null,
      "object_position": null,
      "order": null,
      "overflow": null,
      "overflow_x": null,
      "overflow_y": null,
      "padding": null,
      "right": null,
      "top": null,
      "visibility": null,
      "width": null
     }
    },
    "a8326913be5746b698a5e868b0c71ba0": {
     "model_module": "@jupyter-widgets/base",
     "model_module_version": "1.2.0",
     "model_name": "LayoutModel",
     "state": {
      "_model_module": "@jupyter-widgets/base",
      "_model_module_version": "1.2.0",
      "_model_name": "LayoutModel",
      "_view_count": null,
      "_view_module": "@jupyter-widgets/base",
      "_view_module_version": "1.2.0",
      "_view_name": "LayoutView",
      "align_content": null,
      "align_items": null,
      "align_self": null,
      "border": null,
      "bottom": null,
      "display": null,
      "flex": null,
      "flex_flow": null,
      "grid_area": null,
      "grid_auto_columns": null,
      "grid_auto_flow": null,
      "grid_auto_rows": null,
      "grid_column": null,
      "grid_gap": null,
      "grid_row": null,
      "grid_template_areas": null,
      "grid_template_columns": null,
      "grid_template_rows": null,
      "height": null,
      "justify_content": null,
      "justify_items": null,
      "left": null,
      "margin": null,
      "max_height": null,
      "max_width": null,
      "min_height": null,
      "min_width": null,
      "object_fit": null,
      "object_position": null,
      "order": null,
      "overflow": null,
      "overflow_x": null,
      "overflow_y": null,
      "padding": null,
      "right": null,
      "top": null,
      "visibility": null,
      "width": null
     }
    },
    "aa37e319ea4f4bfebf67743f041a3c61": {
     "model_module": "@jupyter-widgets/controls",
     "model_module_version": "1.5.0",
     "model_name": "ButtonModel",
     "state": {
      "_dom_classes": [],
      "_model_module": "@jupyter-widgets/controls",
      "_model_module_version": "1.5.0",
      "_model_name": "ButtonModel",
      "_view_count": null,
      "_view_module": "@jupyter-widgets/controls",
      "_view_module_version": "1.5.0",
      "_view_name": "ButtonView",
      "button_style": "",
      "description": "Hide solution",
      "disabled": false,
      "icon": "",
      "layout": "IPY_MODEL_214b0b81e59148a2a2d380ad0a321ccf",
      "style": "IPY_MODEL_2c943865a49846918d96f0051f34ebb3",
      "tooltip": ""
     }
    },
    "acefa0b7bfd742bab2a697c743860529": {
     "model_module": "@jupyter-widgets/controls",
     "model_module_version": "1.5.0",
     "model_name": "ButtonModel",
     "state": {
      "_dom_classes": [],
      "_model_module": "@jupyter-widgets/controls",
      "_model_module_version": "1.5.0",
      "_model_name": "ButtonModel",
      "_view_count": null,
      "_view_module": "@jupyter-widgets/controls",
      "_view_module_version": "1.5.0",
      "_view_name": "ButtonView",
      "button_style": "",
      "description": "Hide solution",
      "disabled": false,
      "icon": "",
      "layout": "IPY_MODEL_853b72020a2e42bea8513d5939e765fc",
      "style": "IPY_MODEL_fc8e85ffed164da4a13ed5bbe69d4ae9",
      "tooltip": ""
     }
    },
    "ad35f469668146f7a4365cdbce438ba2": {
     "model_module": "@jupyter-widgets/base",
     "model_module_version": "1.2.0",
     "model_name": "LayoutModel",
     "state": {
      "_model_module": "@jupyter-widgets/base",
      "_model_module_version": "1.2.0",
      "_model_name": "LayoutModel",
      "_view_count": null,
      "_view_module": "@jupyter-widgets/base",
      "_view_module_version": "1.2.0",
      "_view_name": "LayoutView",
      "align_content": null,
      "align_items": null,
      "align_self": null,
      "border": null,
      "bottom": null,
      "display": null,
      "flex": null,
      "flex_flow": null,
      "grid_area": null,
      "grid_auto_columns": null,
      "grid_auto_flow": null,
      "grid_auto_rows": null,
      "grid_column": null,
      "grid_gap": null,
      "grid_row": null,
      "grid_template_areas": null,
      "grid_template_columns": null,
      "grid_template_rows": null,
      "height": null,
      "justify_content": null,
      "justify_items": null,
      "left": null,
      "margin": null,
      "max_height": null,
      "max_width": null,
      "min_height": null,
      "min_width": null,
      "object_fit": null,
      "object_position": null,
      "order": null,
      "overflow": null,
      "overflow_x": null,
      "overflow_y": null,
      "padding": null,
      "right": null,
      "top": null,
      "visibility": null,
      "width": null
     }
    },
    "aeff67eec0d64ce988f13ba64019e25e": {
     "model_module": "@jupyter-widgets/base",
     "model_module_version": "1.2.0",
     "model_name": "LayoutModel",
     "state": {
      "_model_module": "@jupyter-widgets/base",
      "_model_module_version": "1.2.0",
      "_model_name": "LayoutModel",
      "_view_count": null,
      "_view_module": "@jupyter-widgets/base",
      "_view_module_version": "1.2.0",
      "_view_name": "LayoutView",
      "align_content": null,
      "align_items": null,
      "align_self": null,
      "border": "1px solid green",
      "bottom": null,
      "display": null,
      "flex": null,
      "flex_flow": null,
      "grid_area": null,
      "grid_auto_columns": null,
      "grid_auto_flow": null,
      "grid_auto_rows": null,
      "grid_column": null,
      "grid_gap": null,
      "grid_row": null,
      "grid_template_areas": null,
      "grid_template_columns": null,
      "grid_template_rows": null,
      "height": null,
      "justify_content": null,
      "justify_items": null,
      "left": null,
      "margin": null,
      "max_height": null,
      "max_width": null,
      "min_height": null,
      "min_width": null,
      "object_fit": null,
      "object_position": null,
      "order": null,
      "overflow": null,
      "overflow_x": null,
      "overflow_y": null,
      "padding": null,
      "right": null,
      "top": null,
      "visibility": null,
      "width": null
     }
    },
    "b51378fc34264fe6b1bb49a462705122": {
     "model_module": "@jupyter-widgets/controls",
     "model_module_version": "1.5.0",
     "model_name": "ButtonModel",
     "state": {
      "_dom_classes": [],
      "_model_module": "@jupyter-widgets/controls",
      "_model_module_version": "1.5.0",
      "_model_name": "ButtonModel",
      "_view_count": null,
      "_view_module": "@jupyter-widgets/controls",
      "_view_module_version": "1.5.0",
      "_view_name": "ButtonView",
      "button_style": "",
      "description": "Hide solution",
      "disabled": false,
      "icon": "",
      "layout": "IPY_MODEL_ee947e89abc84e729d9f4523f0f71bb9",
      "style": "IPY_MODEL_4f2ca0a9b5634b40aff77de07045b765",
      "tooltip": ""
     }
    },
    "b7b94107efa242d7a773c5cbee86c6c8": {
     "model_module": "@jupyter-widgets/output",
     "model_module_version": "1.0.0",
     "model_name": "OutputModel",
     "state": {
      "_dom_classes": [],
      "_model_module": "@jupyter-widgets/output",
      "_model_module_version": "1.0.0",
      "_model_name": "OutputModel",
      "_view_count": null,
      "_view_module": "@jupyter-widgets/output",
      "_view_module_version": "1.0.0",
      "_view_name": "OutputView",
      "layout": "IPY_MODEL_fec68f1ebff94f8bbb1a2f356ab5bbf6",
      "msg_id": "",
      "outputs": [
       {
        "data": {
         "text/html": "<style>.output_html .hll { background-color: #ffffcc }\n.output_html  { background: #f8f8f8; }\n.output_html .c { color: #408080; font-style: italic } /* Comment */\n.output_html .err { border: 1px solid #FF0000 } /* Error */\n.output_html .k { color: #008000; font-weight: bold } /* Keyword */\n.output_html .o { color: #666666 } /* Operator */\n.output_html .ch { color: #408080; font-style: italic } /* Comment.Hashbang */\n.output_html .cm { color: #408080; font-style: italic } /* Comment.Multiline */\n.output_html .cp { color: #BC7A00 } /* Comment.Preproc */\n.output_html .cpf { color: #408080; font-style: italic } /* Comment.PreprocFile */\n.output_html .c1 { color: #408080; font-style: italic } /* Comment.Single */\n.output_html .cs { color: #408080; font-style: italic } /* Comment.Special */\n.output_html .gd { color: #A00000 } /* Generic.Deleted */\n.output_html .ge { font-style: italic } /* Generic.Emph */\n.output_html .gr { color: #FF0000 } /* Generic.Error */\n.output_html .gh { color: #000080; font-weight: bold } /* Generic.Heading */\n.output_html .gi { color: #00A000 } /* Generic.Inserted */\n.output_html .go { color: #888888 } /* Generic.Output */\n.output_html .gp { color: #000080; font-weight: bold } /* Generic.Prompt */\n.output_html .gs { font-weight: bold } /* Generic.Strong */\n.output_html .gu { color: #800080; font-weight: bold } /* Generic.Subheading */\n.output_html .gt { color: #0044DD } /* Generic.Traceback */\n.output_html .kc { color: #008000; font-weight: bold } /* Keyword.Constant */\n.output_html .kd { color: #008000; font-weight: bold } /* Keyword.Declaration */\n.output_html .kn { color: #008000; font-weight: bold } /* Keyword.Namespace */\n.output_html .kp { color: #008000 } /* Keyword.Pseudo */\n.output_html .kr { color: #008000; font-weight: bold } /* Keyword.Reserved */\n.output_html .kt { color: #B00040 } /* Keyword.Type */\n.output_html .m { color: #666666 } /* Literal.Number */\n.output_html .s { color: #BA2121 } /* Literal.String */\n.output_html .na { color: #7D9029 } /* Name.Attribute */\n.output_html .nb { color: #008000 } /* Name.Builtin */\n.output_html .nc { color: #0000FF; font-weight: bold } /* Name.Class */\n.output_html .no { color: #880000 } /* Name.Constant */\n.output_html .nd { color: #AA22FF } /* Name.Decorator */\n.output_html .ni { color: #999999; font-weight: bold } /* Name.Entity */\n.output_html .ne { color: #D2413A; font-weight: bold } /* Name.Exception */\n.output_html .nf { color: #0000FF } /* Name.Function */\n.output_html .nl { color: #A0A000 } /* Name.Label */\n.output_html .nn { color: #0000FF; font-weight: bold } /* Name.Namespace */\n.output_html .nt { color: #008000; font-weight: bold } /* Name.Tag */\n.output_html .nv { color: #19177C } /* Name.Variable */\n.output_html .ow { color: #AA22FF; font-weight: bold } /* Operator.Word */\n.output_html .w { color: #bbbbbb } /* Text.Whitespace */\n.output_html .mb { color: #666666 } /* Literal.Number.Bin */\n.output_html .mf { color: #666666 } /* Literal.Number.Float */\n.output_html .mh { color: #666666 } /* Literal.Number.Hex */\n.output_html .mi { color: #666666 } /* Literal.Number.Integer */\n.output_html .mo { color: #666666 } /* Literal.Number.Oct */\n.output_html .sa { color: #BA2121 } /* Literal.String.Affix */\n.output_html .sb { color: #BA2121 } /* Literal.String.Backtick */\n.output_html .sc { color: #BA2121 } /* Literal.String.Char */\n.output_html .dl { color: #BA2121 } /* Literal.String.Delimiter */\n.output_html .sd { color: #BA2121; font-style: italic } /* Literal.String.Doc */\n.output_html .s2 { color: #BA2121 } /* Literal.String.Double */\n.output_html .se { color: #BB6622; font-weight: bold } /* Literal.String.Escape */\n.output_html .sh { color: #BA2121 } /* Literal.String.Heredoc */\n.output_html .si { color: #BB6688; font-weight: bold } /* Literal.String.Interpol */\n.output_html .sx { color: #008000 } /* Literal.String.Other */\n.output_html .sr { color: #BB6688 } /* Literal.String.Regex */\n.output_html .s1 { color: #BA2121 } /* Literal.String.Single */\n.output_html .ss { color: #19177C } /* Literal.String.Symbol */\n.output_html .bp { color: #008000 } /* Name.Builtin.Pseudo */\n.output_html .fm { color: #0000FF } /* Name.Function.Magic */\n.output_html .vc { color: #19177C } /* Name.Variable.Class */\n.output_html .vg { color: #19177C } /* Name.Variable.Global */\n.output_html .vi { color: #19177C } /* Name.Variable.Instance */\n.output_html .vm { color: #19177C } /* Name.Variable.Magic */\n.output_html .il { color: #666666 } /* Literal.Number.Integer.Long */</style><div class=\"highlight\"><pre><span></span><span class=\"kn\">from</span> <span class=\"nn\">feature_engine.transformation</span> <span class=\"kn\">import</span> <span class=\"n\">LogTransformer</span>\n\n<span class=\"n\">not_skewed</span> <span class=\"o\">=</span> <span class=\"p\">[</span><span class=\"s2\">&quot;density&quot;</span><span class=\"p\">,</span> <span class=\"s2\">&quot;pH&quot;</span><span class=\"p\">,</span> <span class=\"s2\">&quot;quality&quot;</span><span class=\"p\">]</span>\n<span class=\"n\">skewed</span> <span class=\"o\">=</span> <span class=\"p\">[</span><span class=\"n\">variable</span> <span class=\"k\">for</span> <span class=\"n\">variable</span> <span class=\"ow\">in</span> <span class=\"nb\">list</span><span class=\"p\">(</span><span class=\"n\">X_train</span><span class=\"o\">.</span><span class=\"n\">columns</span><span class=\"p\">)</span> <span class=\"k\">if</span> <span class=\"n\">variable</span> <span class=\"ow\">not</span> <span class=\"ow\">in</span> <span class=\"n\">not_skewed</span><span class=\"p\">]</span>\n<span class=\"n\">lt</span> <span class=\"o\">=</span> <span class=\"n\">LogTransformer</span><span class=\"p\">(</span><span class=\"n\">variables</span> <span class=\"o\">=</span> <span class=\"n\">skewed</span><span class=\"p\">)</span>\n\n<span class=\"n\">train_lt</span> <span class=\"o\">=</span> <span class=\"n\">lt</span><span class=\"o\">.</span><span class=\"n\">fit_transform</span><span class=\"p\">(</span><span class=\"n\">X_train</span><span class=\"o\">+</span><span class=\"mi\">1</span><span class=\"p\">)</span> <span class=\"c1\"># to stop the 0 value error</span>\n\n<span class=\"k\">for</span> <span class=\"n\">variable</span> <span class=\"ow\">in</span> <span class=\"n\">skewed</span><span class=\"p\">:</span>\n    <span class=\"n\">diagnostic_plots</span><span class=\"p\">(</span><span class=\"n\">train_lt</span><span class=\"p\">,</span> <span class=\"n\">variable</span><span class=\"p\">)</span>\n</pre></div>\n",
         "text/latex": "\\begin{Verbatim}[commandchars=\\\\\\{\\}]\n\\PY{k+kn}{from} \\PY{n+nn}{feature\\PYZus{}engine}\\PY{n+nn}{.}\\PY{n+nn}{transformation} \\PY{k+kn}{import} \\PY{n}{LogTransformer}\n\n\\PY{n}{not\\PYZus{}skewed} \\PY{o}{=} \\PY{p}{[}\\PY{l+s+s2}{\\PYZdq{}}\\PY{l+s+s2}{density}\\PY{l+s+s2}{\\PYZdq{}}\\PY{p}{,} \\PY{l+s+s2}{\\PYZdq{}}\\PY{l+s+s2}{pH}\\PY{l+s+s2}{\\PYZdq{}}\\PY{p}{,} \\PY{l+s+s2}{\\PYZdq{}}\\PY{l+s+s2}{quality}\\PY{l+s+s2}{\\PYZdq{}}\\PY{p}{]}\n\\PY{n}{skewed} \\PY{o}{=} \\PY{p}{[}\\PY{n}{variable} \\PY{k}{for} \\PY{n}{variable} \\PY{o+ow}{in} \\PY{n+nb}{list}\\PY{p}{(}\\PY{n}{X\\PYZus{}train}\\PY{o}{.}\\PY{n}{columns}\\PY{p}{)} \\PY{k}{if} \\PY{n}{variable} \\PY{o+ow}{not} \\PY{o+ow}{in} \\PY{n}{not\\PYZus{}skewed}\\PY{p}{]}\n\\PY{n}{lt} \\PY{o}{=} \\PY{n}{LogTransformer}\\PY{p}{(}\\PY{n}{variables} \\PY{o}{=} \\PY{n}{skewed}\\PY{p}{)}\n\n\\PY{n}{train\\PYZus{}lt} \\PY{o}{=} \\PY{n}{lt}\\PY{o}{.}\\PY{n}{fit\\PYZus{}transform}\\PY{p}{(}\\PY{n}{X\\PYZus{}train}\\PY{o}{+}\\PY{l+m+mi}{1}\\PY{p}{)} \\PY{c+c1}{\\PYZsh{} to stop the 0 value error}\n\n\\PY{k}{for} \\PY{n}{variable} \\PY{o+ow}{in} \\PY{n}{skewed}\\PY{p}{:}\n    \\PY{n}{diagnostic\\PYZus{}plots}\\PY{p}{(}\\PY{n}{train\\PYZus{}lt}\\PY{p}{,} \\PY{n}{variable}\\PY{p}{)}\n\\end{Verbatim}\n",
         "text/plain": "from feature_engine.transformation import LogTransformer\n\nnot_skewed = [\"density\", \"pH\", \"quality\"]\nskewed = [variable for variable in list(X_train.columns) if variable not in not_skewed]\nlt = LogTransformer(variables = skewed)\n\ntrain_lt = lt.fit_transform(X_train+1) # to stop the 0 value error\n\nfor variable in skewed:\n    diagnostic_plots(train_lt, variable)"
        },
        "metadata": {},
        "output_type": "display_data"
       },
       {
        "data": {
         "text/markdown": "From the diagnositic plots above you can see that it has improved some features (e.g. `volatile acidity`) but not others. For the sake of this workshop, we're not going to worry too much about this.\n\nUsing the handy conversation function `sklearn.preprocessing.FunctionTransformer` and `np.log1p`, we can actually quite easily make a transformer that applies a log transformation to your data. \n",
         "text/plain": "<IPython.core.display.Markdown object>"
        },
        "metadata": {},
        "output_type": "display_data"
       },
       {
        "data": {
         "text/html": "<style>.output_html .hll { background-color: #ffffcc }\n.output_html  { background: #f8f8f8; }\n.output_html .c { color: #408080; font-style: italic } /* Comment */\n.output_html .err { border: 1px solid #FF0000 } /* Error */\n.output_html .k { color: #008000; font-weight: bold } /* Keyword */\n.output_html .o { color: #666666 } /* Operator */\n.output_html .ch { color: #408080; font-style: italic } /* Comment.Hashbang */\n.output_html .cm { color: #408080; font-style: italic } /* Comment.Multiline */\n.output_html .cp { color: #BC7A00 } /* Comment.Preproc */\n.output_html .cpf { color: #408080; font-style: italic } /* Comment.PreprocFile */\n.output_html .c1 { color: #408080; font-style: italic } /* Comment.Single */\n.output_html .cs { color: #408080; font-style: italic } /* Comment.Special */\n.output_html .gd { color: #A00000 } /* Generic.Deleted */\n.output_html .ge { font-style: italic } /* Generic.Emph */\n.output_html .gr { color: #FF0000 } /* Generic.Error */\n.output_html .gh { color: #000080; font-weight: bold } /* Generic.Heading */\n.output_html .gi { color: #00A000 } /* Generic.Inserted */\n.output_html .go { color: #888888 } /* Generic.Output */\n.output_html .gp { color: #000080; font-weight: bold } /* Generic.Prompt */\n.output_html .gs { font-weight: bold } /* Generic.Strong */\n.output_html .gu { color: #800080; font-weight: bold } /* Generic.Subheading */\n.output_html .gt { color: #0044DD } /* Generic.Traceback */\n.output_html .kc { color: #008000; font-weight: bold } /* Keyword.Constant */\n.output_html .kd { color: #008000; font-weight: bold } /* Keyword.Declaration */\n.output_html .kn { color: #008000; font-weight: bold } /* Keyword.Namespace */\n.output_html .kp { color: #008000 } /* Keyword.Pseudo */\n.output_html .kr { color: #008000; font-weight: bold } /* Keyword.Reserved */\n.output_html .kt { color: #B00040 } /* Keyword.Type */\n.output_html .m { color: #666666 } /* Literal.Number */\n.output_html .s { color: #BA2121 } /* Literal.String */\n.output_html .na { color: #7D9029 } /* Name.Attribute */\n.output_html .nb { color: #008000 } /* Name.Builtin */\n.output_html .nc { color: #0000FF; font-weight: bold } /* Name.Class */\n.output_html .no { color: #880000 } /* Name.Constant */\n.output_html .nd { color: #AA22FF } /* Name.Decorator */\n.output_html .ni { color: #999999; font-weight: bold } /* Name.Entity */\n.output_html .ne { color: #D2413A; font-weight: bold } /* Name.Exception */\n.output_html .nf { color: #0000FF } /* Name.Function */\n.output_html .nl { color: #A0A000 } /* Name.Label */\n.output_html .nn { color: #0000FF; font-weight: bold } /* Name.Namespace */\n.output_html .nt { color: #008000; font-weight: bold } /* Name.Tag */\n.output_html .nv { color: #19177C } /* Name.Variable */\n.output_html .ow { color: #AA22FF; font-weight: bold } /* Operator.Word */\n.output_html .w { color: #bbbbbb } /* Text.Whitespace */\n.output_html .mb { color: #666666 } /* Literal.Number.Bin */\n.output_html .mf { color: #666666 } /* Literal.Number.Float */\n.output_html .mh { color: #666666 } /* Literal.Number.Hex */\n.output_html .mi { color: #666666 } /* Literal.Number.Integer */\n.output_html .mo { color: #666666 } /* Literal.Number.Oct */\n.output_html .sa { color: #BA2121 } /* Literal.String.Affix */\n.output_html .sb { color: #BA2121 } /* Literal.String.Backtick */\n.output_html .sc { color: #BA2121 } /* Literal.String.Char */\n.output_html .dl { color: #BA2121 } /* Literal.String.Delimiter */\n.output_html .sd { color: #BA2121; font-style: italic } /* Literal.String.Doc */\n.output_html .s2 { color: #BA2121 } /* Literal.String.Double */\n.output_html .se { color: #BB6622; font-weight: bold } /* Literal.String.Escape */\n.output_html .sh { color: #BA2121 } /* Literal.String.Heredoc */\n.output_html .si { color: #BB6688; font-weight: bold } /* Literal.String.Interpol */\n.output_html .sx { color: #008000 } /* Literal.String.Other */\n.output_html .sr { color: #BB6688 } /* Literal.String.Regex */\n.output_html .s1 { color: #BA2121 } /* Literal.String.Single */\n.output_html .ss { color: #19177C } /* Literal.String.Symbol */\n.output_html .bp { color: #008000 } /* Name.Builtin.Pseudo */\n.output_html .fm { color: #0000FF } /* Name.Function.Magic */\n.output_html .vc { color: #19177C } /* Name.Variable.Class */\n.output_html .vg { color: #19177C } /* Name.Variable.Global */\n.output_html .vi { color: #19177C } /* Name.Variable.Instance */\n.output_html .vm { color: #19177C } /* Name.Variable.Magic */\n.output_html .il { color: #666666 } /* Literal.Number.Integer.Long */</style><div class=\"highlight\"><pre><span></span><span class=\"kn\">import</span> <span class=\"nn\">numpy</span> <span class=\"k\">as</span> <span class=\"nn\">np</span>\n<span class=\"kn\">from</span> <span class=\"nn\">sklearn.preprocessing</span> <span class=\"kn\">import</span> <span class=\"n\">FunctionTransformer</span>\n<span class=\"n\">Log1pTransformer</span> <span class=\"o\">=</span> <span class=\"n\">FunctionTransformer</span><span class=\"p\">(</span><span class=\"n\">np</span><span class=\"o\">.</span><span class=\"n\">log1p</span><span class=\"p\">)</span>\n</pre></div>\n",
         "text/latex": "\\begin{Verbatim}[commandchars=\\\\\\{\\}]\n\\PY{k+kn}{import} \\PY{n+nn}{numpy} \\PY{k}{as} \\PY{n+nn}{np}\n\\PY{k+kn}{from} \\PY{n+nn}{sklearn}\\PY{n+nn}{.}\\PY{n+nn}{preprocessing} \\PY{k+kn}{import} \\PY{n}{FunctionTransformer}\n\\PY{n}{Log1pTransformer} \\PY{o}{=} \\PY{n}{FunctionTransformer}\\PY{p}{(}\\PY{n}{np}\\PY{o}{.}\\PY{n}{log1p}\\PY{p}{)}\n\\end{Verbatim}\n",
         "text/plain": "import numpy as np\nfrom sklearn.preprocessing import FunctionTransformer\nLog1pTransformer = FunctionTransformer(np.log1p)"
        },
        "metadata": {},
        "output_type": "display_data"
       }
      ]
     }
    },
    "b7cce85de69a408492107a52a180dfc0": {
     "model_module": "@jupyter-widgets/base",
     "model_module_version": "1.2.0",
     "model_name": "LayoutModel",
     "state": {
      "_model_module": "@jupyter-widgets/base",
      "_model_module_version": "1.2.0",
      "_model_name": "LayoutModel",
      "_view_count": null,
      "_view_module": "@jupyter-widgets/base",
      "_view_module_version": "1.2.0",
      "_view_name": "LayoutView",
      "align_content": null,
      "align_items": null,
      "align_self": null,
      "border": null,
      "bottom": null,
      "display": null,
      "flex": null,
      "flex_flow": null,
      "grid_area": null,
      "grid_auto_columns": null,
      "grid_auto_flow": null,
      "grid_auto_rows": null,
      "grid_column": null,
      "grid_gap": null,
      "grid_row": null,
      "grid_template_areas": null,
      "grid_template_columns": null,
      "grid_template_rows": null,
      "height": null,
      "justify_content": null,
      "justify_items": null,
      "left": null,
      "margin": null,
      "max_height": null,
      "max_width": null,
      "min_height": null,
      "min_width": null,
      "object_fit": null,
      "object_position": null,
      "order": null,
      "overflow": null,
      "overflow_x": null,
      "overflow_y": null,
      "padding": null,
      "right": null,
      "top": null,
      "visibility": null,
      "width": null
     }
    },
    "c3c7685ceb3345e7be62915a0490624b": {
     "model_module": "@jupyter-widgets/controls",
     "model_module_version": "1.5.0",
     "model_name": "ButtonModel",
     "state": {
      "_dom_classes": [],
      "_model_module": "@jupyter-widgets/controls",
      "_model_module_version": "1.5.0",
      "_model_name": "ButtonModel",
      "_view_count": null,
      "_view_module": "@jupyter-widgets/controls",
      "_view_module_version": "1.5.0",
      "_view_name": "ButtonView",
      "button_style": "",
      "description": "Hide solution",
      "disabled": false,
      "icon": "",
      "layout": "IPY_MODEL_e667b04553124613aa6e44a0abbf8455",
      "style": "IPY_MODEL_539c345a614a4e06a64768eda9a67327",
      "tooltip": ""
     }
    },
    "c94b881f0fd24153af65950cda9104e2": {
     "model_module": "@jupyter-widgets/base",
     "model_module_version": "1.2.0",
     "model_name": "LayoutModel",
     "state": {
      "_model_module": "@jupyter-widgets/base",
      "_model_module_version": "1.2.0",
      "_model_name": "LayoutModel",
      "_view_count": null,
      "_view_module": "@jupyter-widgets/base",
      "_view_module_version": "1.2.0",
      "_view_name": "LayoutView",
      "align_content": null,
      "align_items": null,
      "align_self": null,
      "border": null,
      "bottom": null,
      "display": null,
      "flex": null,
      "flex_flow": null,
      "grid_area": null,
      "grid_auto_columns": null,
      "grid_auto_flow": null,
      "grid_auto_rows": null,
      "grid_column": null,
      "grid_gap": null,
      "grid_row": null,
      "grid_template_areas": null,
      "grid_template_columns": null,
      "grid_template_rows": null,
      "height": null,
      "justify_content": null,
      "justify_items": null,
      "left": null,
      "margin": null,
      "max_height": null,
      "max_width": null,
      "min_height": null,
      "min_width": null,
      "object_fit": null,
      "object_position": null,
      "order": null,
      "overflow": null,
      "overflow_x": null,
      "overflow_y": null,
      "padding": null,
      "right": null,
      "top": null,
      "visibility": null,
      "width": null
     }
    },
    "ca85765c4e4c4163af3560ae46ad1b4f": {
     "model_module": "@jupyter-widgets/base",
     "model_module_version": "1.2.0",
     "model_name": "LayoutModel",
     "state": {
      "_model_module": "@jupyter-widgets/base",
      "_model_module_version": "1.2.0",
      "_model_name": "LayoutModel",
      "_view_count": null,
      "_view_module": "@jupyter-widgets/base",
      "_view_module_version": "1.2.0",
      "_view_name": "LayoutView",
      "align_content": null,
      "align_items": null,
      "align_self": null,
      "border": "1px solid green",
      "bottom": null,
      "display": null,
      "flex": null,
      "flex_flow": null,
      "grid_area": null,
      "grid_auto_columns": null,
      "grid_auto_flow": null,
      "grid_auto_rows": null,
      "grid_column": null,
      "grid_gap": null,
      "grid_row": null,
      "grid_template_areas": null,
      "grid_template_columns": null,
      "grid_template_rows": null,
      "height": null,
      "justify_content": null,
      "justify_items": null,
      "left": null,
      "margin": null,
      "max_height": null,
      "max_width": null,
      "min_height": null,
      "min_width": null,
      "object_fit": null,
      "object_position": null,
      "order": null,
      "overflow": null,
      "overflow_x": null,
      "overflow_y": null,
      "padding": null,
      "right": null,
      "top": null,
      "visibility": null,
      "width": null
     }
    },
    "cae430c6f61649a0acf8c4ec47ede35a": {
     "model_module": "@jupyter-widgets/controls",
     "model_module_version": "1.5.0",
     "model_name": "ButtonStyleModel",
     "state": {
      "_model_module": "@jupyter-widgets/controls",
      "_model_module_version": "1.5.0",
      "_model_name": "ButtonStyleModel",
      "_view_count": null,
      "_view_module": "@jupyter-widgets/base",
      "_view_module_version": "1.2.0",
      "_view_name": "StyleView",
      "button_color": null,
      "font_weight": ""
     }
    },
    "cda874dcb4d440b6925cdf1620de8f3a": {
     "model_module": "@jupyter-widgets/output",
     "model_module_version": "1.0.0",
     "model_name": "OutputModel",
     "state": {
      "_dom_classes": [],
      "_model_module": "@jupyter-widgets/output",
      "_model_module_version": "1.0.0",
      "_model_name": "OutputModel",
      "_view_count": null,
      "_view_module": "@jupyter-widgets/output",
      "_view_module_version": "1.0.0",
      "_view_name": "OutputView",
      "layout": "IPY_MODEL_d6d4cd072ec4443798e521153ef5e626",
      "msg_id": "",
      "outputs": [
       {
        "data": {
         "text/html": "<style>.output_html .hll { background-color: #ffffcc }\n.output_html  { background: #f8f8f8; }\n.output_html .c { color: #408080; font-style: italic } /* Comment */\n.output_html .err { border: 1px solid #FF0000 } /* Error */\n.output_html .k { color: #008000; font-weight: bold } /* Keyword */\n.output_html .o { color: #666666 } /* Operator */\n.output_html .ch { color: #408080; font-style: italic } /* Comment.Hashbang */\n.output_html .cm { color: #408080; font-style: italic } /* Comment.Multiline */\n.output_html .cp { color: #BC7A00 } /* Comment.Preproc */\n.output_html .cpf { color: #408080; font-style: italic } /* Comment.PreprocFile */\n.output_html .c1 { color: #408080; font-style: italic } /* Comment.Single */\n.output_html .cs { color: #408080; font-style: italic } /* Comment.Special */\n.output_html .gd { color: #A00000 } /* Generic.Deleted */\n.output_html .ge { font-style: italic } /* Generic.Emph */\n.output_html .gr { color: #FF0000 } /* Generic.Error */\n.output_html .gh { color: #000080; font-weight: bold } /* Generic.Heading */\n.output_html .gi { color: #00A000 } /* Generic.Inserted */\n.output_html .go { color: #888888 } /* Generic.Output */\n.output_html .gp { color: #000080; font-weight: bold } /* Generic.Prompt */\n.output_html .gs { font-weight: bold } /* Generic.Strong */\n.output_html .gu { color: #800080; font-weight: bold } /* Generic.Subheading */\n.output_html .gt { color: #0044DD } /* Generic.Traceback */\n.output_html .kc { color: #008000; font-weight: bold } /* Keyword.Constant */\n.output_html .kd { color: #008000; font-weight: bold } /* Keyword.Declaration */\n.output_html .kn { color: #008000; font-weight: bold } /* Keyword.Namespace */\n.output_html .kp { color: #008000 } /* Keyword.Pseudo */\n.output_html .kr { color: #008000; font-weight: bold } /* Keyword.Reserved */\n.output_html .kt { color: #B00040 } /* Keyword.Type */\n.output_html .m { color: #666666 } /* Literal.Number */\n.output_html .s { color: #BA2121 } /* Literal.String */\n.output_html .na { color: #7D9029 } /* Name.Attribute */\n.output_html .nb { color: #008000 } /* Name.Builtin */\n.output_html .nc { color: #0000FF; font-weight: bold } /* Name.Class */\n.output_html .no { color: #880000 } /* Name.Constant */\n.output_html .nd { color: #AA22FF } /* Name.Decorator */\n.output_html .ni { color: #999999; font-weight: bold } /* Name.Entity */\n.output_html .ne { color: #D2413A; font-weight: bold } /* Name.Exception */\n.output_html .nf { color: #0000FF } /* Name.Function */\n.output_html .nl { color: #A0A000 } /* Name.Label */\n.output_html .nn { color: #0000FF; font-weight: bold } /* Name.Namespace */\n.output_html .nt { color: #008000; font-weight: bold } /* Name.Tag */\n.output_html .nv { color: #19177C } /* Name.Variable */\n.output_html .ow { color: #AA22FF; font-weight: bold } /* Operator.Word */\n.output_html .w { color: #bbbbbb } /* Text.Whitespace */\n.output_html .mb { color: #666666 } /* Literal.Number.Bin */\n.output_html .mf { color: #666666 } /* Literal.Number.Float */\n.output_html .mh { color: #666666 } /* Literal.Number.Hex */\n.output_html .mi { color: #666666 } /* Literal.Number.Integer */\n.output_html .mo { color: #666666 } /* Literal.Number.Oct */\n.output_html .sa { color: #BA2121 } /* Literal.String.Affix */\n.output_html .sb { color: #BA2121 } /* Literal.String.Backtick */\n.output_html .sc { color: #BA2121 } /* Literal.String.Char */\n.output_html .dl { color: #BA2121 } /* Literal.String.Delimiter */\n.output_html .sd { color: #BA2121; font-style: italic } /* Literal.String.Doc */\n.output_html .s2 { color: #BA2121 } /* Literal.String.Double */\n.output_html .se { color: #BB6622; font-weight: bold } /* Literal.String.Escape */\n.output_html .sh { color: #BA2121 } /* Literal.String.Heredoc */\n.output_html .si { color: #BB6688; font-weight: bold } /* Literal.String.Interpol */\n.output_html .sx { color: #008000 } /* Literal.String.Other */\n.output_html .sr { color: #BB6688 } /* Literal.String.Regex */\n.output_html .s1 { color: #BA2121 } /* Literal.String.Single */\n.output_html .ss { color: #19177C } /* Literal.String.Symbol */\n.output_html .bp { color: #008000 } /* Name.Builtin.Pseudo */\n.output_html .fm { color: #0000FF } /* Name.Function.Magic */\n.output_html .vc { color: #19177C } /* Name.Variable.Class */\n.output_html .vg { color: #19177C } /* Name.Variable.Global */\n.output_html .vi { color: #19177C } /* Name.Variable.Instance */\n.output_html .vm { color: #19177C } /* Name.Variable.Magic */\n.output_html .il { color: #666666 } /* Literal.Number.Integer.Long */</style><div class=\"highlight\"><pre><span></span><span class=\"kn\">from</span> <span class=\"nn\">sklearn.dummy</span> <span class=\"kn\">import</span> <span class=\"n\">DummyRegressor</span>\n\n<span class=\"n\">dummy</span> <span class=\"o\">=</span> <span class=\"n\">DummyRegressor</span><span class=\"p\">()</span>\n<span class=\"n\">dummy</span><span class=\"o\">.</span><span class=\"n\">fit</span><span class=\"p\">(</span><span class=\"n\">X_train</span><span class=\"p\">,</span> <span class=\"n\">y_train</span><span class=\"p\">)</span>\n\n<span class=\"nb\">print</span><span class=\"p\">(</span><span class=\"s2\">&quot;Training Score&quot;</span><span class=\"p\">)</span>\n<span class=\"nb\">print</span><span class=\"p\">(</span><span class=\"nb\">round</span><span class=\"p\">(</span><span class=\"n\">dummy</span><span class=\"o\">.</span><span class=\"n\">score</span><span class=\"p\">(</span><span class=\"n\">X_train</span><span class=\"p\">,</span> <span class=\"n\">y_train</span><span class=\"p\">),</span> <span class=\"mi\">3</span><span class=\"p\">))</span>\n<span class=\"nb\">print</span><span class=\"p\">(</span><span class=\"s2\">&quot;Validation Score&quot;</span><span class=\"p\">)</span>\n<span class=\"nb\">print</span><span class=\"p\">(</span><span class=\"nb\">round</span><span class=\"p\">(</span><span class=\"n\">dummy</span><span class=\"o\">.</span><span class=\"n\">score</span><span class=\"p\">(</span><span class=\"n\">X_val</span><span class=\"p\">,</span> <span class=\"n\">y_val</span><span class=\"p\">),</span> <span class=\"mi\">3</span><span class=\"p\">))</span>\n</pre></div>\n",
         "text/latex": "\\begin{Verbatim}[commandchars=\\\\\\{\\}]\n\\PY{k+kn}{from} \\PY{n+nn}{sklearn}\\PY{n+nn}{.}\\PY{n+nn}{dummy} \\PY{k+kn}{import} \\PY{n}{DummyRegressor}\n\n\\PY{n}{dummy} \\PY{o}{=} \\PY{n}{DummyRegressor}\\PY{p}{(}\\PY{p}{)}\n\\PY{n}{dummy}\\PY{o}{.}\\PY{n}{fit}\\PY{p}{(}\\PY{n}{X\\PYZus{}train}\\PY{p}{,} \\PY{n}{y\\PYZus{}train}\\PY{p}{)}\n\n\\PY{n+nb}{print}\\PY{p}{(}\\PY{l+s+s2}{\\PYZdq{}}\\PY{l+s+s2}{Training Score}\\PY{l+s+s2}{\\PYZdq{}}\\PY{p}{)}\n\\PY{n+nb}{print}\\PY{p}{(}\\PY{n+nb}{round}\\PY{p}{(}\\PY{n}{dummy}\\PY{o}{.}\\PY{n}{score}\\PY{p}{(}\\PY{n}{X\\PYZus{}train}\\PY{p}{,} \\PY{n}{y\\PYZus{}train}\\PY{p}{)}\\PY{p}{,} \\PY{l+m+mi}{3}\\PY{p}{)}\\PY{p}{)}\n\\PY{n+nb}{print}\\PY{p}{(}\\PY{l+s+s2}{\\PYZdq{}}\\PY{l+s+s2}{Validation Score}\\PY{l+s+s2}{\\PYZdq{}}\\PY{p}{)}\n\\PY{n+nb}{print}\\PY{p}{(}\\PY{n+nb}{round}\\PY{p}{(}\\PY{n}{dummy}\\PY{o}{.}\\PY{n}{score}\\PY{p}{(}\\PY{n}{X\\PYZus{}val}\\PY{p}{,} \\PY{n}{y\\PYZus{}val}\\PY{p}{)}\\PY{p}{,} \\PY{l+m+mi}{3}\\PY{p}{)}\\PY{p}{)}\n\\end{Verbatim}\n",
         "text/plain": "from sklearn.dummy import DummyRegressor\n\ndummy = DummyRegressor()\ndummy.fit(X_train, y_train)\n\nprint(\"Training Score\")\nprint(round(dummy.score(X_train, y_train), 3))\nprint(\"Validation Score\")\nprint(round(dummy.score(X_val, y_val), 3))"
        },
        "metadata": {},
        "output_type": "display_data"
       },
       {
        "data": {
         "text/markdown": "The dummy model that just predicts the mean would have a $R^2$ of 0 on the training set. This because $R^2$ is effectively just measuring how good the model is compared to a horizontal line, and that is all the dummy model is doing here with the data mean.\n\nThe validation score is a minus because, for this data, the mean of the training set is not as good a measure of the data variance as the mean of the validation set.\n",
         "text/plain": "<IPython.core.display.Markdown object>"
        },
        "metadata": {},
        "output_type": "display_data"
       }
      ]
     }
    },
    "d0a186e8051c421e849cb19b1936f477": {
     "model_module": "@jupyter-widgets/base",
     "model_module_version": "1.2.0",
     "model_name": "LayoutModel",
     "state": {
      "_model_module": "@jupyter-widgets/base",
      "_model_module_version": "1.2.0",
      "_model_name": "LayoutModel",
      "_view_count": null,
      "_view_module": "@jupyter-widgets/base",
      "_view_module_version": "1.2.0",
      "_view_name": "LayoutView",
      "align_content": null,
      "align_items": null,
      "align_self": null,
      "border": null,
      "bottom": null,
      "display": null,
      "flex": null,
      "flex_flow": null,
      "grid_area": null,
      "grid_auto_columns": null,
      "grid_auto_flow": null,
      "grid_auto_rows": null,
      "grid_column": null,
      "grid_gap": null,
      "grid_row": null,
      "grid_template_areas": null,
      "grid_template_columns": null,
      "grid_template_rows": null,
      "height": null,
      "justify_content": null,
      "justify_items": null,
      "left": null,
      "margin": null,
      "max_height": null,
      "max_width": null,
      "min_height": null,
      "min_width": null,
      "object_fit": null,
      "object_position": null,
      "order": null,
      "overflow": null,
      "overflow_x": null,
      "overflow_y": null,
      "padding": null,
      "right": null,
      "top": null,
      "visibility": null,
      "width": null
     }
    },
    "d6d4cd072ec4443798e521153ef5e626": {
     "model_module": "@jupyter-widgets/base",
     "model_module_version": "1.2.0",
     "model_name": "LayoutModel",
     "state": {
      "_model_module": "@jupyter-widgets/base",
      "_model_module_version": "1.2.0",
      "_model_name": "LayoutModel",
      "_view_count": null,
      "_view_module": "@jupyter-widgets/base",
      "_view_module_version": "1.2.0",
      "_view_name": "LayoutView",
      "align_content": null,
      "align_items": null,
      "align_self": null,
      "border": "1px solid green",
      "bottom": null,
      "display": null,
      "flex": null,
      "flex_flow": null,
      "grid_area": null,
      "grid_auto_columns": null,
      "grid_auto_flow": null,
      "grid_auto_rows": null,
      "grid_column": null,
      "grid_gap": null,
      "grid_row": null,
      "grid_template_areas": null,
      "grid_template_columns": null,
      "grid_template_rows": null,
      "height": null,
      "justify_content": null,
      "justify_items": null,
      "left": null,
      "margin": null,
      "max_height": null,
      "max_width": null,
      "min_height": null,
      "min_width": null,
      "object_fit": null,
      "object_position": null,
      "order": null,
      "overflow": null,
      "overflow_x": null,
      "overflow_y": null,
      "padding": null,
      "right": null,
      "top": null,
      "visibility": null,
      "width": null
     }
    },
    "dc452c648370462f92df63859426afb8": {
     "model_module": "@jupyter-widgets/controls",
     "model_module_version": "1.5.0",
     "model_name": "ButtonModel",
     "state": {
      "_dom_classes": [],
      "_model_module": "@jupyter-widgets/controls",
      "_model_module_version": "1.5.0",
      "_model_name": "ButtonModel",
      "_view_count": null,
      "_view_module": "@jupyter-widgets/controls",
      "_view_module_version": "1.5.0",
      "_view_name": "ButtonView",
      "button_style": "",
      "description": "Hide solution",
      "disabled": false,
      "icon": "",
      "layout": "IPY_MODEL_8647b60f08774b9baf2dfc01754702b8",
      "style": "IPY_MODEL_16f393ea4b3d474e9ecdc70b1297317a",
      "tooltip": ""
     }
    },
    "dd57abe04e5f494fbdb0416942ba5fe8": {
     "model_module": "@jupyter-widgets/controls",
     "model_module_version": "1.5.0",
     "model_name": "ButtonModel",
     "state": {
      "_dom_classes": [],
      "_model_module": "@jupyter-widgets/controls",
      "_model_module_version": "1.5.0",
      "_model_name": "ButtonModel",
      "_view_count": null,
      "_view_module": "@jupyter-widgets/controls",
      "_view_module_version": "1.5.0",
      "_view_name": "ButtonView",
      "button_style": "",
      "description": "Hide solution",
      "disabled": false,
      "icon": "",
      "layout": "IPY_MODEL_8fe91e1d8c9c429a8cb1559e36071f67",
      "style": "IPY_MODEL_9a17fb5e1330403989d4ea461f535d56",
      "tooltip": ""
     }
    },
    "e13e9db983e54e688b8b6ea6829f38b2": {
     "model_module": "@jupyter-widgets/controls",
     "model_module_version": "1.5.0",
     "model_name": "ButtonModel",
     "state": {
      "_dom_classes": [],
      "_model_module": "@jupyter-widgets/controls",
      "_model_module_version": "1.5.0",
      "_model_name": "ButtonModel",
      "_view_count": null,
      "_view_module": "@jupyter-widgets/controls",
      "_view_module_version": "1.5.0",
      "_view_name": "ButtonView",
      "button_style": "",
      "description": "Hide solution",
      "disabled": false,
      "icon": "",
      "layout": "IPY_MODEL_314027c6d04644efa55653210b613841",
      "style": "IPY_MODEL_600e139bef2744f0963eb927a60923e1",
      "tooltip": ""
     }
    },
    "e16427d676d044478ee67d0a61f90c97": {
     "model_module": "@jupyter-widgets/base",
     "model_module_version": "1.2.0",
     "model_name": "LayoutModel",
     "state": {
      "_model_module": "@jupyter-widgets/base",
      "_model_module_version": "1.2.0",
      "_model_name": "LayoutModel",
      "_view_count": null,
      "_view_module": "@jupyter-widgets/base",
      "_view_module_version": "1.2.0",
      "_view_name": "LayoutView",
      "align_content": null,
      "align_items": null,
      "align_self": null,
      "border": "1px solid green",
      "bottom": null,
      "display": null,
      "flex": null,
      "flex_flow": null,
      "grid_area": null,
      "grid_auto_columns": null,
      "grid_auto_flow": null,
      "grid_auto_rows": null,
      "grid_column": null,
      "grid_gap": null,
      "grid_row": null,
      "grid_template_areas": null,
      "grid_template_columns": null,
      "grid_template_rows": null,
      "height": null,
      "justify_content": null,
      "justify_items": null,
      "left": null,
      "margin": null,
      "max_height": null,
      "max_width": null,
      "min_height": null,
      "min_width": null,
      "object_fit": null,
      "object_position": null,
      "order": null,
      "overflow": null,
      "overflow_x": null,
      "overflow_y": null,
      "padding": null,
      "right": null,
      "top": null,
      "visibility": null,
      "width": null
     }
    },
    "e3bcb68eb5a944d2842d9b1a3609074a": {
     "model_module": "@jupyter-widgets/base",
     "model_module_version": "1.2.0",
     "model_name": "LayoutModel",
     "state": {
      "_model_module": "@jupyter-widgets/base",
      "_model_module_version": "1.2.0",
      "_model_name": "LayoutModel",
      "_view_count": null,
      "_view_module": "@jupyter-widgets/base",
      "_view_module_version": "1.2.0",
      "_view_name": "LayoutView",
      "align_content": null,
      "align_items": null,
      "align_self": null,
      "border": "1px solid green",
      "bottom": null,
      "display": null,
      "flex": null,
      "flex_flow": null,
      "grid_area": null,
      "grid_auto_columns": null,
      "grid_auto_flow": null,
      "grid_auto_rows": null,
      "grid_column": null,
      "grid_gap": null,
      "grid_row": null,
      "grid_template_areas": null,
      "grid_template_columns": null,
      "grid_template_rows": null,
      "height": null,
      "justify_content": null,
      "justify_items": null,
      "left": null,
      "margin": null,
      "max_height": null,
      "max_width": null,
      "min_height": null,
      "min_width": null,
      "object_fit": null,
      "object_position": null,
      "order": null,
      "overflow": null,
      "overflow_x": null,
      "overflow_y": null,
      "padding": null,
      "right": null,
      "top": null,
      "visibility": null,
      "width": null
     }
    },
    "e667b04553124613aa6e44a0abbf8455": {
     "model_module": "@jupyter-widgets/base",
     "model_module_version": "1.2.0",
     "model_name": "LayoutModel",
     "state": {
      "_model_module": "@jupyter-widgets/base",
      "_model_module_version": "1.2.0",
      "_model_name": "LayoutModel",
      "_view_count": null,
      "_view_module": "@jupyter-widgets/base",
      "_view_module_version": "1.2.0",
      "_view_name": "LayoutView",
      "align_content": null,
      "align_items": null,
      "align_self": null,
      "border": null,
      "bottom": null,
      "display": null,
      "flex": null,
      "flex_flow": null,
      "grid_area": null,
      "grid_auto_columns": null,
      "grid_auto_flow": null,
      "grid_auto_rows": null,
      "grid_column": null,
      "grid_gap": null,
      "grid_row": null,
      "grid_template_areas": null,
      "grid_template_columns": null,
      "grid_template_rows": null,
      "height": null,
      "justify_content": null,
      "justify_items": null,
      "left": null,
      "margin": null,
      "max_height": null,
      "max_width": null,
      "min_height": null,
      "min_width": null,
      "object_fit": null,
      "object_position": null,
      "order": null,
      "overflow": null,
      "overflow_x": null,
      "overflow_y": null,
      "padding": null,
      "right": null,
      "top": null,
      "visibility": null,
      "width": null
     }
    },
    "e9d8330a2884444097216faaa13358f0": {
     "model_module": "@jupyter-widgets/controls",
     "model_module_version": "1.5.0",
     "model_name": "ButtonModel",
     "state": {
      "_dom_classes": [],
      "_model_module": "@jupyter-widgets/controls",
      "_model_module_version": "1.5.0",
      "_model_name": "ButtonModel",
      "_view_count": null,
      "_view_module": "@jupyter-widgets/controls",
      "_view_module_version": "1.5.0",
      "_view_name": "ButtonView",
      "button_style": "",
      "description": "Hide solution",
      "disabled": false,
      "icon": "",
      "layout": "IPY_MODEL_36a214d86fcf4a8c8689df4232d45216",
      "style": "IPY_MODEL_9c4c0dfbf47d4ee5a4fe9a2678ec6b6d",
      "tooltip": ""
     }
    },
    "ebd4fd058e2c4f1e82a530297ec5da51": {
     "model_module": "@jupyter-widgets/controls",
     "model_module_version": "1.5.0",
     "model_name": "ButtonStyleModel",
     "state": {
      "_model_module": "@jupyter-widgets/controls",
      "_model_module_version": "1.5.0",
      "_model_name": "ButtonStyleModel",
      "_view_count": null,
      "_view_module": "@jupyter-widgets/base",
      "_view_module_version": "1.2.0",
      "_view_name": "StyleView",
      "button_color": null,
      "font_weight": ""
     }
    },
    "ee36baa19ee44796812fb81c5ecde22a": {
     "model_module": "@jupyter-widgets/output",
     "model_module_version": "1.0.0",
     "model_name": "OutputModel",
     "state": {
      "_dom_classes": [],
      "_model_module": "@jupyter-widgets/output",
      "_model_module_version": "1.0.0",
      "_model_name": "OutputModel",
      "_view_count": null,
      "_view_module": "@jupyter-widgets/output",
      "_view_module_version": "1.0.0",
      "_view_name": "OutputView",
      "layout": "IPY_MODEL_fcb1daf0a58e4d91b8c31d97a373082b",
      "msg_id": "",
      "outputs": [
       {
        "data": {
         "text/html": "<style>.output_html .hll { background-color: #ffffcc }\n.output_html  { background: #f8f8f8; }\n.output_html .c { color: #408080; font-style: italic } /* Comment */\n.output_html .err { border: 1px solid #FF0000 } /* Error */\n.output_html .k { color: #008000; font-weight: bold } /* Keyword */\n.output_html .o { color: #666666 } /* Operator */\n.output_html .ch { color: #408080; font-style: italic } /* Comment.Hashbang */\n.output_html .cm { color: #408080; font-style: italic } /* Comment.Multiline */\n.output_html .cp { color: #BC7A00 } /* Comment.Preproc */\n.output_html .cpf { color: #408080; font-style: italic } /* Comment.PreprocFile */\n.output_html .c1 { color: #408080; font-style: italic } /* Comment.Single */\n.output_html .cs { color: #408080; font-style: italic } /* Comment.Special */\n.output_html .gd { color: #A00000 } /* Generic.Deleted */\n.output_html .ge { font-style: italic } /* Generic.Emph */\n.output_html .gr { color: #FF0000 } /* Generic.Error */\n.output_html .gh { color: #000080; font-weight: bold } /* Generic.Heading */\n.output_html .gi { color: #00A000 } /* Generic.Inserted */\n.output_html .go { color: #888888 } /* Generic.Output */\n.output_html .gp { color: #000080; font-weight: bold } /* Generic.Prompt */\n.output_html .gs { font-weight: bold } /* Generic.Strong */\n.output_html .gu { color: #800080; font-weight: bold } /* Generic.Subheading */\n.output_html .gt { color: #0044DD } /* Generic.Traceback */\n.output_html .kc { color: #008000; font-weight: bold } /* Keyword.Constant */\n.output_html .kd { color: #008000; font-weight: bold } /* Keyword.Declaration */\n.output_html .kn { color: #008000; font-weight: bold } /* Keyword.Namespace */\n.output_html .kp { color: #008000 } /* Keyword.Pseudo */\n.output_html .kr { color: #008000; font-weight: bold } /* Keyword.Reserved */\n.output_html .kt { color: #B00040 } /* Keyword.Type */\n.output_html .m { color: #666666 } /* Literal.Number */\n.output_html .s { color: #BA2121 } /* Literal.String */\n.output_html .na { color: #7D9029 } /* Name.Attribute */\n.output_html .nb { color: #008000 } /* Name.Builtin */\n.output_html .nc { color: #0000FF; font-weight: bold } /* Name.Class */\n.output_html .no { color: #880000 } /* Name.Constant */\n.output_html .nd { color: #AA22FF } /* Name.Decorator */\n.output_html .ni { color: #999999; font-weight: bold } /* Name.Entity */\n.output_html .ne { color: #D2413A; font-weight: bold } /* Name.Exception */\n.output_html .nf { color: #0000FF } /* Name.Function */\n.output_html .nl { color: #A0A000 } /* Name.Label */\n.output_html .nn { color: #0000FF; font-weight: bold } /* Name.Namespace */\n.output_html .nt { color: #008000; font-weight: bold } /* Name.Tag */\n.output_html .nv { color: #19177C } /* Name.Variable */\n.output_html .ow { color: #AA22FF; font-weight: bold } /* Operator.Word */\n.output_html .w { color: #bbbbbb } /* Text.Whitespace */\n.output_html .mb { color: #666666 } /* Literal.Number.Bin */\n.output_html .mf { color: #666666 } /* Literal.Number.Float */\n.output_html .mh { color: #666666 } /* Literal.Number.Hex */\n.output_html .mi { color: #666666 } /* Literal.Number.Integer */\n.output_html .mo { color: #666666 } /* Literal.Number.Oct */\n.output_html .sa { color: #BA2121 } /* Literal.String.Affix */\n.output_html .sb { color: #BA2121 } /* Literal.String.Backtick */\n.output_html .sc { color: #BA2121 } /* Literal.String.Char */\n.output_html .dl { color: #BA2121 } /* Literal.String.Delimiter */\n.output_html .sd { color: #BA2121; font-style: italic } /* Literal.String.Doc */\n.output_html .s2 { color: #BA2121 } /* Literal.String.Double */\n.output_html .se { color: #BB6622; font-weight: bold } /* Literal.String.Escape */\n.output_html .sh { color: #BA2121 } /* Literal.String.Heredoc */\n.output_html .si { color: #BB6688; font-weight: bold } /* Literal.String.Interpol */\n.output_html .sx { color: #008000 } /* Literal.String.Other */\n.output_html .sr { color: #BB6688 } /* Literal.String.Regex */\n.output_html .s1 { color: #BA2121 } /* Literal.String.Single */\n.output_html .ss { color: #19177C } /* Literal.String.Symbol */\n.output_html .bp { color: #008000 } /* Name.Builtin.Pseudo */\n.output_html .fm { color: #0000FF } /* Name.Function.Magic */\n.output_html .vc { color: #19177C } /* Name.Variable.Class */\n.output_html .vg { color: #19177C } /* Name.Variable.Global */\n.output_html .vi { color: #19177C } /* Name.Variable.Instance */\n.output_html .vm { color: #19177C } /* Name.Variable.Magic */\n.output_html .il { color: #666666 } /* Literal.Number.Integer.Long */</style><div class=\"highlight\"><pre><span></span><span class=\"n\">sns</span><span class=\"o\">.</span><span class=\"n\">heatmap</span><span class=\"p\">(</span><span class=\"n\">X_train</span><span class=\"o\">.</span><span class=\"n\">corr</span><span class=\"p\">(),</span> <span class=\"n\">annot</span><span class=\"o\">=</span><span class=\"kc\">True</span><span class=\"p\">,</span> <span class=\"n\">fmt</span><span class=\"o\">=</span><span class=\"s1\">&#39;.2f&#39;</span><span class=\"p\">,</span> <span class=\"n\">linewidths</span><span class=\"o\">=</span><span class=\"mi\">2</span><span class=\"p\">)</span>\n<span class=\"n\">plt</span><span class=\"o\">.</span><span class=\"n\">title</span><span class=\"p\">(</span><span class=\"s2\">&quot;Figure 2. Correlation Heatmap&quot;</span><span class=\"p\">)</span>\n<span class=\"n\">plt</span><span class=\"o\">.</span><span class=\"n\">show</span><span class=\"p\">()</span>\n</pre></div>\n",
         "text/latex": "\\begin{Verbatim}[commandchars=\\\\\\{\\}]\n\\PY{n}{sns}\\PY{o}{.}\\PY{n}{heatmap}\\PY{p}{(}\\PY{n}{X\\PYZus{}train}\\PY{o}{.}\\PY{n}{corr}\\PY{p}{(}\\PY{p}{)}\\PY{p}{,} \\PY{n}{annot}\\PY{o}{=}\\PY{k+kc}{True}\\PY{p}{,} \\PY{n}{fmt}\\PY{o}{=}\\PY{l+s+s1}{\\PYZsq{}}\\PY{l+s+s1}{.2f}\\PY{l+s+s1}{\\PYZsq{}}\\PY{p}{,} \\PY{n}{linewidths}\\PY{o}{=}\\PY{l+m+mi}{2}\\PY{p}{)}\n\\PY{n}{plt}\\PY{o}{.}\\PY{n}{title}\\PY{p}{(}\\PY{l+s+s2}{\\PYZdq{}}\\PY{l+s+s2}{Figure 2. Correlation Heatmap}\\PY{l+s+s2}{\\PYZdq{}}\\PY{p}{)}\n\\PY{n}{plt}\\PY{o}{.}\\PY{n}{show}\\PY{p}{(}\\PY{p}{)}\n\\end{Verbatim}\n",
         "text/plain": "sns.heatmap(X_train.corr(), annot=True, fmt='.2f', linewidths=2)\nplt.title(\"Figure 2. Correlation Heatmap\")\nplt.show()"
        },
        "metadata": {},
        "output_type": "display_data"
       },
       {
        "data": {
         "text/markdown": "From figure 2 we can see:\n- A strong positive (>0.5) correlation between fixed acidity and citric acid/density.\n- A strong negative (<-0.5) correlation of pH with acidity and citric acid. \n- A strong negative correlation of volatile acidity with citric acid. \n- A strong negative correlation between alcohol percentage and density.\n\nThere are also several moderate to low correlations present in the data as well.\n",
         "text/plain": "<IPython.core.display.Markdown object>"
        },
        "metadata": {},
        "output_type": "display_data"
       }
      ]
     }
    },
    "ee947e89abc84e729d9f4523f0f71bb9": {
     "model_module": "@jupyter-widgets/base",
     "model_module_version": "1.2.0",
     "model_name": "LayoutModel",
     "state": {
      "_model_module": "@jupyter-widgets/base",
      "_model_module_version": "1.2.0",
      "_model_name": "LayoutModel",
      "_view_count": null,
      "_view_module": "@jupyter-widgets/base",
      "_view_module_version": "1.2.0",
      "_view_name": "LayoutView",
      "align_content": null,
      "align_items": null,
      "align_self": null,
      "border": null,
      "bottom": null,
      "display": null,
      "flex": null,
      "flex_flow": null,
      "grid_area": null,
      "grid_auto_columns": null,
      "grid_auto_flow": null,
      "grid_auto_rows": null,
      "grid_column": null,
      "grid_gap": null,
      "grid_row": null,
      "grid_template_areas": null,
      "grid_template_columns": null,
      "grid_template_rows": null,
      "height": null,
      "justify_content": null,
      "justify_items": null,
      "left": null,
      "margin": null,
      "max_height": null,
      "max_width": null,
      "min_height": null,
      "min_width": null,
      "object_fit": null,
      "object_position": null,
      "order": null,
      "overflow": null,
      "overflow_x": null,
      "overflow_y": null,
      "padding": null,
      "right": null,
      "top": null,
      "visibility": null,
      "width": null
     }
    },
    "f002f289423c47669f8f2896eb878d8a": {
     "model_module": "@jupyter-widgets/controls",
     "model_module_version": "1.5.0",
     "model_name": "ButtonStyleModel",
     "state": {
      "_model_module": "@jupyter-widgets/controls",
      "_model_module_version": "1.5.0",
      "_model_name": "ButtonStyleModel",
      "_view_count": null,
      "_view_module": "@jupyter-widgets/base",
      "_view_module_version": "1.2.0",
      "_view_name": "StyleView",
      "button_color": null,
      "font_weight": ""
     }
    },
    "f9798024af2e4b52b60aeeeded2acca7": {
     "model_module": "@jupyter-widgets/base",
     "model_module_version": "1.2.0",
     "model_name": "LayoutModel",
     "state": {
      "_model_module": "@jupyter-widgets/base",
      "_model_module_version": "1.2.0",
      "_model_name": "LayoutModel",
      "_view_count": null,
      "_view_module": "@jupyter-widgets/base",
      "_view_module_version": "1.2.0",
      "_view_name": "LayoutView",
      "align_content": null,
      "align_items": null,
      "align_self": null,
      "border": "1px solid green",
      "bottom": null,
      "display": null,
      "flex": null,
      "flex_flow": null,
      "grid_area": null,
      "grid_auto_columns": null,
      "grid_auto_flow": null,
      "grid_auto_rows": null,
      "grid_column": null,
      "grid_gap": null,
      "grid_row": null,
      "grid_template_areas": null,
      "grid_template_columns": null,
      "grid_template_rows": null,
      "height": null,
      "justify_content": null,
      "justify_items": null,
      "left": null,
      "margin": null,
      "max_height": null,
      "max_width": null,
      "min_height": null,
      "min_width": null,
      "object_fit": null,
      "object_position": null,
      "order": null,
      "overflow": null,
      "overflow_x": null,
      "overflow_y": null,
      "padding": null,
      "right": null,
      "top": null,
      "visibility": null,
      "width": null
     }
    },
    "fc03b42168984eb087195e73cff352d1": {
     "model_module": "@jupyter-widgets/controls",
     "model_module_version": "1.5.0",
     "model_name": "ButtonModel",
     "state": {
      "_dom_classes": [],
      "_model_module": "@jupyter-widgets/controls",
      "_model_module_version": "1.5.0",
      "_model_name": "ButtonModel",
      "_view_count": null,
      "_view_module": "@jupyter-widgets/controls",
      "_view_module_version": "1.5.0",
      "_view_name": "ButtonView",
      "button_style": "",
      "description": "Hide solution",
      "disabled": false,
      "icon": "",
      "layout": "IPY_MODEL_c94b881f0fd24153af65950cda9104e2",
      "style": "IPY_MODEL_cae430c6f61649a0acf8c4ec47ede35a",
      "tooltip": ""
     }
    },
    "fc8e85ffed164da4a13ed5bbe69d4ae9": {
     "model_module": "@jupyter-widgets/controls",
     "model_module_version": "1.5.0",
     "model_name": "ButtonStyleModel",
     "state": {
      "_model_module": "@jupyter-widgets/controls",
      "_model_module_version": "1.5.0",
      "_model_name": "ButtonStyleModel",
      "_view_count": null,
      "_view_module": "@jupyter-widgets/base",
      "_view_module_version": "1.2.0",
      "_view_name": "StyleView",
      "button_color": null,
      "font_weight": ""
     }
    },
    "fcb1daf0a58e4d91b8c31d97a373082b": {
     "model_module": "@jupyter-widgets/base",
     "model_module_version": "1.2.0",
     "model_name": "LayoutModel",
     "state": {
      "_model_module": "@jupyter-widgets/base",
      "_model_module_version": "1.2.0",
      "_model_name": "LayoutModel",
      "_view_count": null,
      "_view_module": "@jupyter-widgets/base",
      "_view_module_version": "1.2.0",
      "_view_name": "LayoutView",
      "align_content": null,
      "align_items": null,
      "align_self": null,
      "border": "1px solid green",
      "bottom": null,
      "display": null,
      "flex": null,
      "flex_flow": null,
      "grid_area": null,
      "grid_auto_columns": null,
      "grid_auto_flow": null,
      "grid_auto_rows": null,
      "grid_column": null,
      "grid_gap": null,
      "grid_row": null,
      "grid_template_areas": null,
      "grid_template_columns": null,
      "grid_template_rows": null,
      "height": null,
      "justify_content": null,
      "justify_items": null,
      "left": null,
      "margin": null,
      "max_height": null,
      "max_width": null,
      "min_height": null,
      "min_width": null,
      "object_fit": null,
      "object_position": null,
      "order": null,
      "overflow": null,
      "overflow_x": null,
      "overflow_y": null,
      "padding": null,
      "right": null,
      "top": null,
      "visibility": null,
      "width": null
     }
    },
    "fec68f1ebff94f8bbb1a2f356ab5bbf6": {
     "model_module": "@jupyter-widgets/base",
     "model_module_version": "1.2.0",
     "model_name": "LayoutModel",
     "state": {
      "_model_module": "@jupyter-widgets/base",
      "_model_module_version": "1.2.0",
      "_model_name": "LayoutModel",
      "_view_count": null,
      "_view_module": "@jupyter-widgets/base",
      "_view_module_version": "1.2.0",
      "_view_name": "LayoutView",
      "align_content": null,
      "align_items": null,
      "align_self": null,
      "border": "1px solid green",
      "bottom": null,
      "display": null,
      "flex": null,
      "flex_flow": null,
      "grid_area": null,
      "grid_auto_columns": null,
      "grid_auto_flow": null,
      "grid_auto_rows": null,
      "grid_column": null,
      "grid_gap": null,
      "grid_row": null,
      "grid_template_areas": null,
      "grid_template_columns": null,
      "grid_template_rows": null,
      "height": null,
      "justify_content": null,
      "justify_items": null,
      "left": null,
      "margin": null,
      "max_height": null,
      "max_width": null,
      "min_height": null,
      "min_width": null,
      "object_fit": null,
      "object_position": null,
      "order": null,
      "overflow": null,
      "overflow_x": null,
      "overflow_y": null,
      "padding": null,
      "right": null,
      "top": null,
      "visibility": null,
      "width": null
     }
    },
    "ff27f8ecf890417da19cb6d8b6319dfc": {
     "model_module": "@jupyter-widgets/base",
     "model_module_version": "1.2.0",
     "model_name": "LayoutModel",
     "state": {
      "_model_module": "@jupyter-widgets/base",
      "_model_module_version": "1.2.0",
      "_model_name": "LayoutModel",
      "_view_count": null,
      "_view_module": "@jupyter-widgets/base",
      "_view_module_version": "1.2.0",
      "_view_name": "LayoutView",
      "align_content": null,
      "align_items": null,
      "align_self": null,
      "border": "1px solid green",
      "bottom": null,
      "display": null,
      "flex": null,
      "flex_flow": null,
      "grid_area": null,
      "grid_auto_columns": null,
      "grid_auto_flow": null,
      "grid_auto_rows": null,
      "grid_column": null,
      "grid_gap": null,
      "grid_row": null,
      "grid_template_areas": null,
      "grid_template_columns": null,
      "grid_template_rows": null,
      "height": null,
      "justify_content": null,
      "justify_items": null,
      "left": null,
      "margin": null,
      "max_height": null,
      "max_width": null,
      "min_height": null,
      "min_width": null,
      "object_fit": null,
      "object_position": null,
      "order": null,
      "overflow": null,
      "overflow_x": null,
      "overflow_y": null,
      "padding": null,
      "right": null,
      "top": null,
      "visibility": null,
      "width": null
     }
    }
   }
  }
 },
 "nbformat": 4,
 "nbformat_minor": 5
}
