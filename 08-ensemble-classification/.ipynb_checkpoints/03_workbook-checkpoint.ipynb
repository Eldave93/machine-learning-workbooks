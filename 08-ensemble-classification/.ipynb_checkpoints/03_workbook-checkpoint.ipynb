{
 "cells": [
  {
   "cell_type": "markdown",
   "metadata": {
    "hideCode": false,
    "hidePrompt": false,
    "id": "0dq-i1Bfls5v"
   },
   "source": [
    "# Workbook 03 - Dimension Reduction\n",
    "by [David Elliott](https://eldave93.netlify.app/)\n",
    "\n",
    "1. [Workspace Setup](#setup)\n",
    "\n",
    "2. [Problem Understanding](#problem)\n",
    "\n",
    "3. [Data Pre-Processing/EDA](#eda)\n",
    "   "
   ]
  },
  {
   "cell_type": "markdown",
   "metadata": {},
   "source": [
    "This workbook we are going to be looking at how we can reduce the number of attributes to those that might be useful for our model. We've been so far working with data with a few attributes (features), but sometimes you have lots of attributes and don't know where to start!\n",
    "\n",
    "In order to reduce a models complexity, run time, and potential for overfitting to the training data, dimension reduction techniques can be used. Broadly they can be grouped into methods that create a subset of the original set of features (Feature Selection) and methods that create new synthetic features through combining the original features and discarding less important ones (Feature Extraction). Essentially we want to remove \"uninformative infromation\" and retain useful bits<sup>1</sup>. If you have too many features, it may be that some of them are highly correlated and therefore redundant. Therefore we can either select just some of them, or compress them onto a lower dimensional subspace<sup>2</sup>.\n",
    "\n",
    "---\n",
    "1. Zheng, A., & Casari, A. (2018). Feature Engineering for Machine Learning: Principles and Techniques for Data Scientists. \" O'Reilly Media, Inc.\".\n",
    "\n",
    "2. Raschka, 2016"
   ]
  },
  {
   "cell_type": "markdown",
   "metadata": {},
   "source": [
    "# 1. Workspace Setup\n",
    "\n",
    "Before downloading any data we should think about our workspace. It is assumed if you have made it this far you have already got your workspace setup. There are two ways of using these notebooks. The first is to use Google Colab, which is a website that allows you to write and execute python code through the browser. The second is a local workspace (e.g. Anaconda)."
   ]
  },
  {
   "cell_type": "markdown",
   "metadata": {},
   "source": [
    "## 1.A. Google Colab\n",
    "If you are not using google colab then you can skip this section. \n",
    "\n",
    "If you are using colab we will first need to have the libaries for the runtime and files associated with this workbook uploaded to the temporary file store. You also need to set the working directory to be a local version of the workshop repository. This is so all the data, images, and scripts for displaying the solutions works. This is located on the temporary file store associated with this colabs runtime. The below code will do all this for you.\n",
    "\n",
    "__Required:__ After running this code make sure to restart the runtime to ensure everything works correctly (Runtime > Restart runtime)."
   ]
  },
  {
   "cell_type": "code",
   "execution_count": 1,
   "metadata": {},
   "outputs": [
    {
     "name": "stdout",
     "output_type": "stream",
     "text": [
      "Colab is not being used\n"
     ]
    }
   ],
   "source": [
    "import sys\n",
    "import os\n",
    "\n",
    "try:\n",
    "    import google.colab\n",
    "    COLAB=True\n",
    "    \n",
    "    # set the workbook code\n",
    "    WORKSHOP_NAME = \"03-dimension-reduction\"\n",
    "    # set the folder name\n",
    "    FOLDER_NAME = \"machine-learning-workbooks-main\"\n",
    "\n",
    "    # check if the environment is already setup to avoid repeating this after \n",
    "    # restarting the runtime\n",
    "    if not os.path.exists(FOLDER_NAME):\n",
    "        # get the zip of the workbooks\n",
    "        !wget https://github.com/Eldave93/machine-learning-workbooks/archive/refs/heads/main.zip\n",
    "        # unzip the file\n",
    "        !unzip main.zip\n",
    "        # install the libaries\n",
    "        !{sys.executable} -m pip install -r ./{FOLDER_NAME}/scripts/requirements.txt\n",
    "          \n",
    "    print(\"Setting working directory to:\")\n",
    "    %cd ./{FOLDER_NAME}/{WORKSHOP_NAME}\n",
    "    \n",
    "except:\n",
    "    COLAB=False\n",
    "    print(\"Colab is not being used\")"
   ]
  },
  {
   "cell_type": "markdown",
   "metadata": {},
   "source": [
    "## 1.1. Packages\n",
    "\n",
    "If your using a local workspace you will need all the following packages to run this notebook. If you do not already have them, or you want to ensure you are using the same versions as used when created, you could run `!{sys.executable} -m pip install -r ../scripts/requirements.txt` to install them for you."
   ]
  },
  {
   "cell_type": "code",
   "execution_count": 3,
   "metadata": {},
   "outputs": [],
   "source": [
    "import os # locating directories\n",
    "import matplotlib.pyplot as plt\n",
    "import seaborn as sns\n",
    "import pandas as pd\n",
    "import numpy as np\n",
    "import warnings # prevent warnings\n",
    "\n",
    "sys.path.append('../scripts') # add scripts to the path for use later\n",
    "sns.set(rc={'figure.figsize': (14, 8)}) # For plot sizes\n",
    "np.random.seed(42)  # to make this notebook's output identical at every run\n",
    "\n",
    "# colours for print()\n",
    "class color:\n",
    "   PURPLE = '\\033[95m'\n",
    "   CYAN = '\\033[96m'\n",
    "   DARKCYAN = '\\033[36m'\n",
    "   BLUE = '\\033[94m'\n",
    "   GREEN = '\\033[92m'\n",
    "   YELLOW = '\\033[93m'\n",
    "   RED = '\\033[91m'\n",
    "   BOLD = '\\033[1m'\n",
    "   UNDERLINE = '\\033[4m'\n",
    "   END = '\\033[0m'"
   ]
  },
  {
   "cell_type": "markdown",
   "metadata": {},
   "source": [
    "## 1.2. Displaying solutions\n",
    "\n",
    "The solutions are activated using a new .txt file which can be put in the workbook folder (e.g. `03-dimension-reduction`). Please put in a request for access.\n",
    "\n",
    "If you have access to the solutions, the following cell will create clickable buttons under each exercise, which will allow you to reveal the solutions.\n",
    "\n",
    "__Notes__\n",
    "\n",
    "- This method was created by [Charlotte Desvages](https://charlottedesvages.com/).\n",
    "- This may not work if you don't have the same version of `IPython.display` as the machine that created them:\n",
    "    ```\n",
    "    ImportError: cannot import name 'Code' from 'IPython.display' (/usr/local/lib/python3.7/dist-packages/IPython/display.py)\n",
    "    ```\n",
    "    If so run the auto-install above or manually run `!pip install ipython==7.20`."
   ]
  },
  {
   "cell_type": "markdown",
   "metadata": {
    "id": "8SlfepCxls5x"
   },
   "source": [
    "---\n",
    "\n",
    "# 2. Problem Understanding <a id='problem'></a>\n",
    "\n",
    "LendingClub (was) the world's largest peer-to-peer lending platform, although its loan trading platform was closed down in 2020 (It now takes an institutional investor-focused approach). Investors were able to search and browse the loan listings on LendingClub website and select loans that they want to invest in based on the information supplied about the borrower. Investors made money from the interest on these loans and LendingClub made money by charging borrowers an origination fee and investors a service fee.\n",
    "\n",
    "When a person applied for a loan, there are two types of decisions that could be taken by the company<sup>18</sup>:\n",
    "\n",
    "- __Loan accepted__: If the company approves the loan, there are 3 possible scenarios described below:\n",
    "    - _Fully paid_: Applicant has fully paid the loan (the principal and the interest rate)\n",
    "    - _Current_: Applicant is in the process of paying the instalments, i.e. the tenure of the loan is not yet completed.\n",
    "    - _Charged-off_: Applicant has not paid the instalments in due time for a long period of time, i.e. he/she has defaulted on the loan\n",
    "- __Loan rejected__: The company had rejected the loan (because the candidate does not meet their requirements etc.).\n",
    "\n",
    "When the company receives a loan application, the company has to make a decision for loan approval based on the applicant’s profile. Two types of risks are associated with the bank’s decision:\n",
    "\n",
    "- If the applicant is likely to repay the loan, then not approving the loan results in a loss of business to the company\n",
    "- If the applicant is not likely to repay the loan, i.e. he/she is likely to default, then approving the loan may lead to a financial loss for the company\n",
    "\n",
    "The data given contains the information about past loan applicants and whether they ‘defaulted’ or not. The aim is to identify patterns which indicate if a person is likely to default, which may be used for taking actions such as denying the loan, reducing the amount of loan, lending (to risky applicants) at a higher interest rate, etc.\n",
    "\n",
    "This data has a lot of attributes about each loan as can be seen by its data dictionary:"
   ]
  },
  {
   "cell_type": "code",
   "execution_count": 4,
   "metadata": {
    "scrolled": false
   },
   "outputs": [
    {
     "data": {
      "text/html": [
       "<div>\n",
       "<style scoped>\n",
       "    .dataframe tbody tr th:only-of-type {\n",
       "        vertical-align: middle;\n",
       "    }\n",
       "\n",
       "    .dataframe tbody tr th {\n",
       "        vertical-align: top;\n",
       "    }\n",
       "\n",
       "    .dataframe thead th {\n",
       "        text-align: right;\n",
       "    }\n",
       "</style>\n",
       "<table border=\"1\" class=\"dataframe\">\n",
       "  <thead>\n",
       "    <tr style=\"text-align: right;\">\n",
       "      <th></th>\n",
       "      <th>Description</th>\n",
       "    </tr>\n",
       "    <tr>\n",
       "      <th>LoanStatNew</th>\n",
       "      <th></th>\n",
       "    </tr>\n",
       "  </thead>\n",
       "  <tbody>\n",
       "    <tr>\n",
       "      <th>acc_now_delinq</th>\n",
       "      <td>The number of accounts on which the borrower is now delinquent.</td>\n",
       "    </tr>\n",
       "    <tr>\n",
       "      <th>acc_open_past_24mths</th>\n",
       "      <td>Number of trades opened in past 24 months.</td>\n",
       "    </tr>\n",
       "    <tr>\n",
       "      <th>addr_state</th>\n",
       "      <td>The state provided by the borrower in the loan application</td>\n",
       "    </tr>\n",
       "    <tr>\n",
       "      <th>all_util</th>\n",
       "      <td>Balance to credit limit on all trades</td>\n",
       "    </tr>\n",
       "    <tr>\n",
       "      <th>annual_inc</th>\n",
       "      <td>The self-reported annual income provided by the borrower during registration.</td>\n",
       "    </tr>\n",
       "    <tr>\n",
       "      <th>annual_inc_joint</th>\n",
       "      <td>The combined self-reported annual income provided by the co-borrowers during registration</td>\n",
       "    </tr>\n",
       "    <tr>\n",
       "      <th>application_type</th>\n",
       "      <td>Indicates whether the loan is an individual application or a joint application with two co-borrowers</td>\n",
       "    </tr>\n",
       "    <tr>\n",
       "      <th>avg_cur_bal</th>\n",
       "      <td>Average current balance of all accounts</td>\n",
       "    </tr>\n",
       "    <tr>\n",
       "      <th>bc_open_to_buy</th>\n",
       "      <td>Total open to buy on revolving bankcards.</td>\n",
       "    </tr>\n",
       "    <tr>\n",
       "      <th>bc_util</th>\n",
       "      <td>Ratio of total current balance to high credit/credit limit for all bankcard accounts.</td>\n",
       "    </tr>\n",
       "    <tr>\n",
       "      <th>chargeoff_within_12_mths</th>\n",
       "      <td>Number of charge-offs within 12 months</td>\n",
       "    </tr>\n",
       "    <tr>\n",
       "      <th>collection_recovery_fee</th>\n",
       "      <td>post charge off collection fee</td>\n",
       "    </tr>\n",
       "    <tr>\n",
       "      <th>collections_12_mths_ex_med</th>\n",
       "      <td>Number of collections in 12 months excluding medical collections</td>\n",
       "    </tr>\n",
       "    <tr>\n",
       "      <th>debt_settlement_flag</th>\n",
       "      <td>Flags whether or not the borrower, who has charged-off, is working with a debt-settlement company.</td>\n",
       "    </tr>\n",
       "    <tr>\n",
       "      <th>debt_settlement_flag_date</th>\n",
       "      <td>The most recent date that the Debt_Settlement_Flag has been set</td>\n",
       "    </tr>\n",
       "    <tr>\n",
       "      <th>deferral_term</th>\n",
       "      <td>Amount of months that the borrower is expected to pay less than the contractual monthly payment amount due to a hardship plan</td>\n",
       "    </tr>\n",
       "    <tr>\n",
       "      <th>delinq_2yrs</th>\n",
       "      <td>The number of 30+ days past-due incidences of delinquency in the borrower's credit file for the past 2 years</td>\n",
       "    </tr>\n",
       "    <tr>\n",
       "      <th>delinq_amnt</th>\n",
       "      <td>The past-due amount owed for the accounts on which the borrower is now delinquent.</td>\n",
       "    </tr>\n",
       "    <tr>\n",
       "      <th>desc</th>\n",
       "      <td>Loan description provided by the borrower</td>\n",
       "    </tr>\n",
       "    <tr>\n",
       "      <th>disbursement_method</th>\n",
       "      <td>The method by which the borrower receives their loan. Possible values are: CASH, DIRECT_PAY</td>\n",
       "    </tr>\n",
       "    <tr>\n",
       "      <th>dti</th>\n",
       "      <td>A ratio calculated using the borrower’s total monthly debt payments on the total debt obligations, excluding mortgage and the requested LC loan, divided by the borrower’s self-reported monthly income.</td>\n",
       "    </tr>\n",
       "    <tr>\n",
       "      <th>dti_joint</th>\n",
       "      <td>A ratio calculated using the co-borrowers' total monthly payments on the total debt obligations, excluding mortgages and the requested LC loan, divided by the co-borrowers' combined self-reported monthly income</td>\n",
       "    </tr>\n",
       "    <tr>\n",
       "      <th>earliest_cr_line</th>\n",
       "      <td>The month the borrower's earliest reported credit line was opened</td>\n",
       "    </tr>\n",
       "    <tr>\n",
       "      <th>emp_length</th>\n",
       "      <td>Employment length in years. Possible values are between 0 and 10 where 0 means less than one year and 10 means ten or more years.</td>\n",
       "    </tr>\n",
       "    <tr>\n",
       "      <th>emp_title</th>\n",
       "      <td>The job title supplied by the Borrower when applying for the loan.*</td>\n",
       "    </tr>\n",
       "    <tr>\n",
       "      <th>fico_range_high</th>\n",
       "      <td>The upper boundary range the borrower’s FICO at loan origination belongs to.</td>\n",
       "    </tr>\n",
       "    <tr>\n",
       "      <th>fico_range_low</th>\n",
       "      <td>The lower boundary range the borrower’s FICO at loan origination belongs to.</td>\n",
       "    </tr>\n",
       "    <tr>\n",
       "      <th>funded_amnt</th>\n",
       "      <td>The total amount committed to that loan at that point in time.</td>\n",
       "    </tr>\n",
       "    <tr>\n",
       "      <th>funded_amnt_inv</th>\n",
       "      <td>The total amount committed by investors for that loan at that point in time.</td>\n",
       "    </tr>\n",
       "    <tr>\n",
       "      <th>grade</th>\n",
       "      <td>LC assigned loan grade</td>\n",
       "    </tr>\n",
       "    <tr>\n",
       "      <th>hardship_amount</th>\n",
       "      <td>The interest payment that the borrower has committed to make each month while they are on a hardship plan</td>\n",
       "    </tr>\n",
       "    <tr>\n",
       "      <th>hardship_dpd</th>\n",
       "      <td>Account days past due as of the hardship plan start date</td>\n",
       "    </tr>\n",
       "    <tr>\n",
       "      <th>hardship_end_date</th>\n",
       "      <td>The end date of the hardship plan period</td>\n",
       "    </tr>\n",
       "    <tr>\n",
       "      <th>hardship_flag</th>\n",
       "      <td>Flags whether or not the borrower is on a hardship plan</td>\n",
       "    </tr>\n",
       "    <tr>\n",
       "      <th>hardship_last_payment_amount</th>\n",
       "      <td>The last payment amount as of the hardship plan start date</td>\n",
       "    </tr>\n",
       "    <tr>\n",
       "      <th>hardship_length</th>\n",
       "      <td>The number of months the borrower will make smaller payments than normally obligated due to a hardship plan</td>\n",
       "    </tr>\n",
       "    <tr>\n",
       "      <th>hardship_loan_status</th>\n",
       "      <td>Loan Status as of the hardship plan start date</td>\n",
       "    </tr>\n",
       "    <tr>\n",
       "      <th>hardship_payoff_balance_amount</th>\n",
       "      <td>The payoff balance amount as of the hardship plan start date</td>\n",
       "    </tr>\n",
       "    <tr>\n",
       "      <th>hardship_reason</th>\n",
       "      <td>Describes the reason the hardship plan was offered</td>\n",
       "    </tr>\n",
       "    <tr>\n",
       "      <th>hardship_start_date</th>\n",
       "      <td>The start date of the hardship plan period</td>\n",
       "    </tr>\n",
       "    <tr>\n",
       "      <th>hardship_status</th>\n",
       "      <td>Describes if the hardship plan is active, pending, canceled, completed, or broken</td>\n",
       "    </tr>\n",
       "    <tr>\n",
       "      <th>hardship_type</th>\n",
       "      <td>Describes the hardship plan offering</td>\n",
       "    </tr>\n",
       "    <tr>\n",
       "      <th>home_ownership</th>\n",
       "      <td>The home ownership status provided by the borrower during registration or obtained from the credit report. Our values are: RENT, OWN, MORTGAGE, OTHER</td>\n",
       "    </tr>\n",
       "    <tr>\n",
       "      <th>id</th>\n",
       "      <td>A unique LC assigned ID for the loan listing.</td>\n",
       "    </tr>\n",
       "    <tr>\n",
       "      <th>il_util</th>\n",
       "      <td>Ratio of total current balance to high credit/credit limit on all install acct</td>\n",
       "    </tr>\n",
       "    <tr>\n",
       "      <th>initial_list_status</th>\n",
       "      <td>The initial listing status of the loan. Possible values are – W, F</td>\n",
       "    </tr>\n",
       "    <tr>\n",
       "      <th>inq_fi</th>\n",
       "      <td>Number of personal finance inquiries</td>\n",
       "    </tr>\n",
       "    <tr>\n",
       "      <th>inq_last_12m</th>\n",
       "      <td>Number of credit inquiries in past 12 months</td>\n",
       "    </tr>\n",
       "    <tr>\n",
       "      <th>inq_last_6mths</th>\n",
       "      <td>The number of inquiries in past 6 months (excluding auto and mortgage inquiries)</td>\n",
       "    </tr>\n",
       "    <tr>\n",
       "      <th>installment</th>\n",
       "      <td>The monthly payment owed by the borrower if the loan originates.</td>\n",
       "    </tr>\n",
       "    <tr>\n",
       "      <th>int_rate</th>\n",
       "      <td>Interest Rate on the loan</td>\n",
       "    </tr>\n",
       "    <tr>\n",
       "      <th>issue_d</th>\n",
       "      <td>The month which the loan was funded</td>\n",
       "    </tr>\n",
       "    <tr>\n",
       "      <th>last_credit_pull_d</th>\n",
       "      <td>The most recent month LC pulled credit for this loan</td>\n",
       "    </tr>\n",
       "    <tr>\n",
       "      <th>last_fico_range_high</th>\n",
       "      <td>The upper boundary range the borrower’s last FICO pulled belongs to.</td>\n",
       "    </tr>\n",
       "    <tr>\n",
       "      <th>last_fico_range_low</th>\n",
       "      <td>The lower boundary range the borrower’s last FICO pulled belongs to.</td>\n",
       "    </tr>\n",
       "    <tr>\n",
       "      <th>last_pymnt_amnt</th>\n",
       "      <td>Last total payment amount received</td>\n",
       "    </tr>\n",
       "    <tr>\n",
       "      <th>last_pymnt_d</th>\n",
       "      <td>Last month payment was received</td>\n",
       "    </tr>\n",
       "    <tr>\n",
       "      <th>loan_amnt</th>\n",
       "      <td>The listed amount of the loan applied for by the borrower. If at some point in time, the credit department reduces the loan amount, then it will be reflected in this value.</td>\n",
       "    </tr>\n",
       "    <tr>\n",
       "      <th>loan_status</th>\n",
       "      <td>Current status of the loan</td>\n",
       "    </tr>\n",
       "    <tr>\n",
       "      <th>max_bal_bc</th>\n",
       "      <td>Maximum current balance owed on all revolving accounts</td>\n",
       "    </tr>\n",
       "    <tr>\n",
       "      <th>member_id</th>\n",
       "      <td>A unique LC assigned Id for the borrower member.</td>\n",
       "    </tr>\n",
       "    <tr>\n",
       "      <th>mo_sin_old_il_acct</th>\n",
       "      <td>Months since oldest bank installment account opened</td>\n",
       "    </tr>\n",
       "    <tr>\n",
       "      <th>mo_sin_old_rev_tl_op</th>\n",
       "      <td>Months since oldest revolving account opened</td>\n",
       "    </tr>\n",
       "    <tr>\n",
       "      <th>mo_sin_rcnt_rev_tl_op</th>\n",
       "      <td>Months since most recent revolving account opened</td>\n",
       "    </tr>\n",
       "    <tr>\n",
       "      <th>mo_sin_rcnt_tl</th>\n",
       "      <td>Months since most recent account opened</td>\n",
       "    </tr>\n",
       "    <tr>\n",
       "      <th>mort_acc</th>\n",
       "      <td>Number of mortgage accounts.</td>\n",
       "    </tr>\n",
       "    <tr>\n",
       "      <th>mths_since_last_delinq</th>\n",
       "      <td>The number of months since the borrower's last delinquency.</td>\n",
       "    </tr>\n",
       "    <tr>\n",
       "      <th>mths_since_last_major_derog</th>\n",
       "      <td>Months since most recent 90-day or worse rating</td>\n",
       "    </tr>\n",
       "    <tr>\n",
       "      <th>mths_since_last_record</th>\n",
       "      <td>The number of months since the last public record.</td>\n",
       "    </tr>\n",
       "    <tr>\n",
       "      <th>mths_since_rcnt_il</th>\n",
       "      <td>Months since most recent installment accounts opened</td>\n",
       "    </tr>\n",
       "    <tr>\n",
       "      <th>mths_since_recent_bc</th>\n",
       "      <td>Months since most recent bankcard account opened.</td>\n",
       "    </tr>\n",
       "    <tr>\n",
       "      <th>mths_since_recent_bc_dlq</th>\n",
       "      <td>Months since most recent bankcard delinquency</td>\n",
       "    </tr>\n",
       "    <tr>\n",
       "      <th>mths_since_recent_inq</th>\n",
       "      <td>Months since most recent inquiry.</td>\n",
       "    </tr>\n",
       "    <tr>\n",
       "      <th>mths_since_recent_revol_delinq</th>\n",
       "      <td>Months since most recent revolving delinquency.</td>\n",
       "    </tr>\n",
       "    <tr>\n",
       "      <th>next_pymnt_d</th>\n",
       "      <td>Next scheduled payment date</td>\n",
       "    </tr>\n",
       "    <tr>\n",
       "      <th>num_accts_ever_120_pd</th>\n",
       "      <td>Number of accounts ever 120 or more days past due</td>\n",
       "    </tr>\n",
       "    <tr>\n",
       "      <th>num_actv_bc_tl</th>\n",
       "      <td>Number of currently active bankcard accounts</td>\n",
       "    </tr>\n",
       "    <tr>\n",
       "      <th>num_actv_rev_tl</th>\n",
       "      <td>Number of currently active revolving trades</td>\n",
       "    </tr>\n",
       "    <tr>\n",
       "      <th>num_bc_sats</th>\n",
       "      <td>Number of satisfactory bankcard accounts</td>\n",
       "    </tr>\n",
       "    <tr>\n",
       "      <th>num_bc_tl</th>\n",
       "      <td>Number of bankcard accounts</td>\n",
       "    </tr>\n",
       "    <tr>\n",
       "      <th>num_il_tl</th>\n",
       "      <td>Number of installment accounts</td>\n",
       "    </tr>\n",
       "    <tr>\n",
       "      <th>num_op_rev_tl</th>\n",
       "      <td>Number of open revolving accounts</td>\n",
       "    </tr>\n",
       "    <tr>\n",
       "      <th>num_rev_accts</th>\n",
       "      <td>Number of revolving accounts</td>\n",
       "    </tr>\n",
       "    <tr>\n",
       "      <th>num_rev_tl_bal_gt_0</th>\n",
       "      <td>Number of revolving trades with balance &gt;0</td>\n",
       "    </tr>\n",
       "    <tr>\n",
       "      <th>num_sats</th>\n",
       "      <td>Number of satisfactory accounts</td>\n",
       "    </tr>\n",
       "    <tr>\n",
       "      <th>num_tl_120dpd_2m</th>\n",
       "      <td>Number of accounts currently 120 days past due (updated in past 2 months)</td>\n",
       "    </tr>\n",
       "    <tr>\n",
       "      <th>num_tl_30dpd</th>\n",
       "      <td>Number of accounts currently 30 days past due (updated in past 2 months)</td>\n",
       "    </tr>\n",
       "    <tr>\n",
       "      <th>num_tl_90g_dpd_24m</th>\n",
       "      <td>Number of accounts 90 or more days past due in last 24 months</td>\n",
       "    </tr>\n",
       "    <tr>\n",
       "      <th>num_tl_op_past_12m</th>\n",
       "      <td>Number of accounts opened in past 12 months</td>\n",
       "    </tr>\n",
       "    <tr>\n",
       "      <th>open_acc</th>\n",
       "      <td>The number of open credit lines in the borrower's credit file.</td>\n",
       "    </tr>\n",
       "    <tr>\n",
       "      <th>open_acc_6m</th>\n",
       "      <td>Number of open trades in last 6 months</td>\n",
       "    </tr>\n",
       "    <tr>\n",
       "      <th>open_act_il</th>\n",
       "      <td>Number of currently active installment trades</td>\n",
       "    </tr>\n",
       "    <tr>\n",
       "      <th>open_il_12m</th>\n",
       "      <td>Number of installment accounts opened in past 12 months</td>\n",
       "    </tr>\n",
       "    <tr>\n",
       "      <th>open_il_24m</th>\n",
       "      <td>Number of installment accounts opened in past 24 months</td>\n",
       "    </tr>\n",
       "    <tr>\n",
       "      <th>open_rv_12m</th>\n",
       "      <td>Number of revolving trades opened in past 12 months</td>\n",
       "    </tr>\n",
       "    <tr>\n",
       "      <th>open_rv_24m</th>\n",
       "      <td>Number of revolving trades opened in past 24 months</td>\n",
       "    </tr>\n",
       "    <tr>\n",
       "      <th>orig_projected_additional_accrued_interest</th>\n",
       "      <td>The original projected additional interest amount that will accrue for the given hardship payment plan as of the Hardship Start Date. This field will be null if the borrower has broken their hardship payment plan.</td>\n",
       "    </tr>\n",
       "    <tr>\n",
       "      <th>out_prncp</th>\n",
       "      <td>Remaining outstanding principal for total amount funded</td>\n",
       "    </tr>\n",
       "    <tr>\n",
       "      <th>out_prncp_inv</th>\n",
       "      <td>Remaining outstanding principal for portion of total amount funded by investors</td>\n",
       "    </tr>\n",
       "    <tr>\n",
       "      <th>payment_plan_start_date</th>\n",
       "      <td>The day the first hardship plan payment is due. For example, if a borrower has a hardship plan period of 3 months, the start date is the start of the three-month period in which the borrower is allowed to make interest-only payments.</td>\n",
       "    </tr>\n",
       "    <tr>\n",
       "      <th>pct_tl_nvr_dlq</th>\n",
       "      <td>Percent of trades never delinquent</td>\n",
       "    </tr>\n",
       "    <tr>\n",
       "      <th>percent_bc_gt_75</th>\n",
       "      <td>Percentage of all bankcard accounts &gt; 75% of limit.</td>\n",
       "    </tr>\n",
       "    <tr>\n",
       "      <th>policy_code</th>\n",
       "      <td>publicly available policy_code=1\\nnew products not publicly available policy_code=2</td>\n",
       "    </tr>\n",
       "    <tr>\n",
       "      <th>pub_rec</th>\n",
       "      <td>Number of derogatory public records</td>\n",
       "    </tr>\n",
       "    <tr>\n",
       "      <th>pub_rec_bankruptcies</th>\n",
       "      <td>Number of public record bankruptcies</td>\n",
       "    </tr>\n",
       "    <tr>\n",
       "      <th>purpose</th>\n",
       "      <td>A category provided by the borrower for the loan request.</td>\n",
       "    </tr>\n",
       "    <tr>\n",
       "      <th>pymnt_plan</th>\n",
       "      <td>Indicates if a payment plan has been put in place for the loan</td>\n",
       "    </tr>\n",
       "    <tr>\n",
       "      <th>recoveries</th>\n",
       "      <td>post charge off gross recovery</td>\n",
       "    </tr>\n",
       "    <tr>\n",
       "      <th>revol_bal</th>\n",
       "      <td>Total credit revolving balance</td>\n",
       "    </tr>\n",
       "    <tr>\n",
       "      <th>revol_bal_joint</th>\n",
       "      <td>Sum of revolving credit balance of the co-borrowers, net of duplicate balances</td>\n",
       "    </tr>\n",
       "    <tr>\n",
       "      <th>revol_util</th>\n",
       "      <td>Revolving line utilization rate, or the amount of credit the borrower is using relative to all available revolving credit.</td>\n",
       "    </tr>\n",
       "    <tr>\n",
       "      <th>sec_app_chargeoff_within_12_mths</th>\n",
       "      <td>Number of charge-offs within last 12 months at time of application for the secondary applicant</td>\n",
       "    </tr>\n",
       "    <tr>\n",
       "      <th>sec_app_collections_12_mths_ex_med</th>\n",
       "      <td>Number of collections within last 12 months excluding medical collections at time of application for the secondary applicant</td>\n",
       "    </tr>\n",
       "    <tr>\n",
       "      <th>sec_app_earliest_cr_line</th>\n",
       "      <td>Earliest credit line at time of application for the secondary applicant</td>\n",
       "    </tr>\n",
       "    <tr>\n",
       "      <th>sec_app_fico_range_high</th>\n",
       "      <td>FICO range (low) for the secondary applicant</td>\n",
       "    </tr>\n",
       "    <tr>\n",
       "      <th>sec_app_fico_range_low</th>\n",
       "      <td>FICO range (high) for the secondary applicant</td>\n",
       "    </tr>\n",
       "    <tr>\n",
       "      <th>sec_app_inq_last_6mths</th>\n",
       "      <td>Credit inquiries in the last 6 months at time of application for the secondary applicant</td>\n",
       "    </tr>\n",
       "    <tr>\n",
       "      <th>sec_app_mort_acc</th>\n",
       "      <td>Number of mortgage accounts at time of application for the secondary applicant</td>\n",
       "    </tr>\n",
       "    <tr>\n",
       "      <th>sec_app_mths_since_last_major_derog</th>\n",
       "      <td>Months since most recent 90-day or worse rating at time of application for the secondary applicant</td>\n",
       "    </tr>\n",
       "    <tr>\n",
       "      <th>sec_app_num_rev_accts</th>\n",
       "      <td>Number of revolving accounts at time of application for the secondary applicant</td>\n",
       "    </tr>\n",
       "    <tr>\n",
       "      <th>sec_app_open_acc</th>\n",
       "      <td>Number of open trades at time of application for the secondary applicant</td>\n",
       "    </tr>\n",
       "    <tr>\n",
       "      <th>sec_app_open_act_il</th>\n",
       "      <td>Number of currently active installment trades at time of application for the secondary applicant</td>\n",
       "    </tr>\n",
       "    <tr>\n",
       "      <th>sec_app_revol_util</th>\n",
       "      <td>Ratio of total current balance to high credit/credit limit for all revolving accounts</td>\n",
       "    </tr>\n",
       "    <tr>\n",
       "      <th>settlement_amount</th>\n",
       "      <td>The loan amount that the borrower has agreed to settle for</td>\n",
       "    </tr>\n",
       "    <tr>\n",
       "      <th>settlement_date</th>\n",
       "      <td>The date that the borrower agrees to the settlement plan</td>\n",
       "    </tr>\n",
       "    <tr>\n",
       "      <th>settlement_percentage</th>\n",
       "      <td>The settlement amount as a percentage of the payoff balance amount on the loan</td>\n",
       "    </tr>\n",
       "    <tr>\n",
       "      <th>settlement_status</th>\n",
       "      <td>The status of the borrower’s settlement plan. Possible values are: COMPLETE, ACTIVE, BROKEN, CANCELLED, DENIED, DRAFT</td>\n",
       "    </tr>\n",
       "    <tr>\n",
       "      <th>settlement_term</th>\n",
       "      <td>The number of months that the borrower will be on the settlement plan</td>\n",
       "    </tr>\n",
       "    <tr>\n",
       "      <th>sub_grade</th>\n",
       "      <td>LC assigned loan subgrade</td>\n",
       "    </tr>\n",
       "    <tr>\n",
       "      <th>tax_liens</th>\n",
       "      <td>Number of tax liens</td>\n",
       "    </tr>\n",
       "    <tr>\n",
       "      <th>term</th>\n",
       "      <td>The number of payments on the loan. Values are in months and can be either 36 or 60.</td>\n",
       "    </tr>\n",
       "    <tr>\n",
       "      <th>title</th>\n",
       "      <td>The loan title provided by the borrower</td>\n",
       "    </tr>\n",
       "    <tr>\n",
       "      <th>tot_coll_amt</th>\n",
       "      <td>Total collection amounts ever owed</td>\n",
       "    </tr>\n",
       "    <tr>\n",
       "      <th>tot_cur_bal</th>\n",
       "      <td>Total current balance of all accounts</td>\n",
       "    </tr>\n",
       "    <tr>\n",
       "      <th>tot_hi_cred_lim</th>\n",
       "      <td>Total high credit/credit limit</td>\n",
       "    </tr>\n",
       "    <tr>\n",
       "      <th>total_acc</th>\n",
       "      <td>The total number of credit lines currently in the borrower's credit file</td>\n",
       "    </tr>\n",
       "    <tr>\n",
       "      <th>total_bal_ex_mort</th>\n",
       "      <td>Total credit balance excluding mortgage</td>\n",
       "    </tr>\n",
       "    <tr>\n",
       "      <th>total_bal_il</th>\n",
       "      <td>Total current balance of all installment accounts</td>\n",
       "    </tr>\n",
       "    <tr>\n",
       "      <th>total_bc_limit</th>\n",
       "      <td>Total bankcard high credit/credit limit</td>\n",
       "    </tr>\n",
       "    <tr>\n",
       "      <th>total_cu_tl</th>\n",
       "      <td>Number of finance trades</td>\n",
       "    </tr>\n",
       "    <tr>\n",
       "      <th>total_il_high_credit_limit</th>\n",
       "      <td>Total installment high credit/credit limit</td>\n",
       "    </tr>\n",
       "    <tr>\n",
       "      <th>total_pymnt</th>\n",
       "      <td>Payments received to date for total amount funded</td>\n",
       "    </tr>\n",
       "    <tr>\n",
       "      <th>total_pymnt_inv</th>\n",
       "      <td>Payments received to date for portion of total amount funded by investors</td>\n",
       "    </tr>\n",
       "    <tr>\n",
       "      <th>total_rec_int</th>\n",
       "      <td>Interest received to date</td>\n",
       "    </tr>\n",
       "    <tr>\n",
       "      <th>total_rec_late_fee</th>\n",
       "      <td>Late fees received to date</td>\n",
       "    </tr>\n",
       "    <tr>\n",
       "      <th>total_rec_prncp</th>\n",
       "      <td>Principal received to date</td>\n",
       "    </tr>\n",
       "    <tr>\n",
       "      <th>total_rev_hi_lim</th>\n",
       "      <td>Total revolving high credit/credit limit</td>\n",
       "    </tr>\n",
       "    <tr>\n",
       "      <th>url</th>\n",
       "      <td>URL for the LC page with listing data.</td>\n",
       "    </tr>\n",
       "    <tr>\n",
       "      <th>verification_status</th>\n",
       "      <td>Indicates if income was verified by LC, not verified, or if the income source was verified</td>\n",
       "    </tr>\n",
       "    <tr>\n",
       "      <th>verified_status_joint</th>\n",
       "      <td>Indicates if the co-borrowers' joint income was verified by LC, not verified, or if the income source was verified</td>\n",
       "    </tr>\n",
       "    <tr>\n",
       "      <th>zip_code</th>\n",
       "      <td>The first 3 numbers of the zip code provided by the borrower in the loan application.</td>\n",
       "    </tr>\n",
       "  </tbody>\n",
       "</table>\n",
       "</div>"
      ],
      "text/plain": [
       "                                                                                                                                                                                                                                                                          Description\n",
       "LoanStatNew                                                                                                                                                                                                                                                                          \n",
       "acc_now_delinq                                                                                                                                                                                                        The number of accounts on which the borrower is now delinquent.\n",
       "acc_open_past_24mths                                                                                                                                                                                                                       Number of trades opened in past 24 months.\n",
       "addr_state                                                                                                                                                                                                                 The state provided by the borrower in the loan application\n",
       "all_util                                                                                                                                                                                                                                        Balance to credit limit on all trades\n",
       "annual_inc                                                                                                                                                                                              The self-reported annual income provided by the borrower during registration.\n",
       "annual_inc_joint                                                                                                                                                                            The combined self-reported annual income provided by the co-borrowers during registration\n",
       "application_type                                                                                                                                                                 Indicates whether the loan is an individual application or a joint application with two co-borrowers\n",
       "avg_cur_bal                                                                                                                                                                                                                                   Average current balance of all accounts\n",
       "bc_open_to_buy                                                                                                                                                                                                                              Total open to buy on revolving bankcards.\n",
       "bc_util                                                                                                                                                                                         Ratio of total current balance to high credit/credit limit for all bankcard accounts.\n",
       "chargeoff_within_12_mths                                                                                                                                                                                                                       Number of charge-offs within 12 months\n",
       "collection_recovery_fee                                                                                                                                                                                                                                post charge off collection fee\n",
       "collections_12_mths_ex_med                                                                                                                                                                                           Number of collections in 12 months excluding medical collections\n",
       "debt_settlement_flag                                                                                                                                                               Flags whether or not the borrower, who has charged-off, is working with a debt-settlement company.\n",
       "debt_settlement_flag_date                                                                                                                                                                                           The most recent date that the Debt_Settlement_Flag has been set  \n",
       "deferral_term                                                                                                                                           Amount of months that the borrower is expected to pay less than the contractual monthly payment amount due to a hardship plan\n",
       "delinq_2yrs                                                                                                                                                              The number of 30+ days past-due incidences of delinquency in the borrower's credit file for the past 2 years\n",
       "delinq_amnt                                                                                                                                                                                        The past-due amount owed for the accounts on which the borrower is now delinquent.\n",
       "desc                                                                                                                                                                                                                                        Loan description provided by the borrower\n",
       "disbursement_method                                                                                                                                                                       The method by which the borrower receives their loan. Possible values are: CASH, DIRECT_PAY\n",
       "dti                                                                          A ratio calculated using the borrower’s total monthly debt payments on the total debt obligations, excluding mortgage and the requested LC loan, divided by the borrower’s self-reported monthly income.\n",
       "dti_joint                                                          A ratio calculated using the co-borrowers' total monthly payments on the total debt obligations, excluding mortgages and the requested LC loan, divided by the co-borrowers' combined self-reported monthly income\n",
       "earliest_cr_line                                                                                                                                                                                                    The month the borrower's earliest reported credit line was opened\n",
       "emp_length                                                                                                                                         Employment length in years. Possible values are between 0 and 10 where 0 means less than one year and 10 means ten or more years. \n",
       "emp_title                                                                                                                                                                                                         The job title supplied by the Borrower when applying for the loan.*\n",
       "fico_range_high                                                                                                                                                                                          The upper boundary range the borrower’s FICO at loan origination belongs to.\n",
       "fico_range_low                                                                                                                                                                                           The lower boundary range the borrower’s FICO at loan origination belongs to.\n",
       "funded_amnt                                                                                                                                                                                                            The total amount committed to that loan at that point in time.\n",
       "funded_amnt_inv                                                                                                                                                                                          The total amount committed by investors for that loan at that point in time.\n",
       "grade                                                                                                                                                                                                                                                          LC assigned loan grade\n",
       "hardship_amount                                                                                                                                                             The interest payment that the borrower has committed to make each month while they are on a hardship plan\n",
       "hardship_dpd                                                                                                                                                                                                                 Account days past due as of the hardship plan start date\n",
       "hardship_end_date                                                                                                                                                                                                                            The end date of the hardship plan period\n",
       "hardship_flag                                                                                                                                                                                                                 Flags whether or not the borrower is on a hardship plan\n",
       "hardship_last_payment_amount                                                                                                                                                                                               The last payment amount as of the hardship plan start date\n",
       "hardship_length                                                                                                                                                           The number of months the borrower will make smaller payments than normally obligated due to a hardship plan\n",
       "hardship_loan_status                                                                                                                                                                                                                   Loan Status as of the hardship plan start date\n",
       "hardship_payoff_balance_amount                                                                                                                                                                                           The payoff balance amount as of the hardship plan start date\n",
       "hardship_reason                                                                                                                                                                                                                    Describes the reason the hardship plan was offered\n",
       "hardship_start_date                                                                                                                                                                                                                        The start date of the hardship plan period\n",
       "hardship_status                                                                                                                                                                                     Describes if the hardship plan is active, pending, canceled, completed, or broken\n",
       "hardship_type                                                                                                                                                                                                                                    Describes the hardship plan offering\n",
       "home_ownership                                                                                                                  The home ownership status provided by the borrower during registration or obtained from the credit report. Our values are: RENT, OWN, MORTGAGE, OTHER\n",
       "id                                                                                                                                                                                                                                      A unique LC assigned ID for the loan listing.\n",
       "il_util                                                                                                                                                                                                Ratio of total current balance to high credit/credit limit on all install acct\n",
       "initial_list_status                                                                                                                                                                                                The initial listing status of the loan. Possible values are – W, F\n",
       "inq_fi                                                                                                                                                                                                                                           Number of personal finance inquiries\n",
       "inq_last_12m                                                                                                                                                                                                                             Number of credit inquiries in past 12 months\n",
       "inq_last_6mths                                                                                                                                                                                       The number of inquiries in past 6 months (excluding auto and mortgage inquiries)\n",
       "installment                                                                                                                                                                                                          The monthly payment owed by the borrower if the loan originates.\n",
       "int_rate                                                                                                                                                                                                                                                    Interest Rate on the loan\n",
       "issue_d                                                                                                                                                                                                                                           The month which the loan was funded\n",
       "last_credit_pull_d                                                                                                                                                                                                               The most recent month LC pulled credit for this loan\n",
       "last_fico_range_high                                                                                                                                                                                             The upper boundary range the borrower’s last FICO pulled belongs to.\n",
       "last_fico_range_low                                                                                                                                                                                              The lower boundary range the borrower’s last FICO pulled belongs to.\n",
       "last_pymnt_amnt                                                                                                                                                                                                                                    Last total payment amount received\n",
       "last_pymnt_d                                                                                                                                                                                                                                          Last month payment was received\n",
       "loan_amnt                                                                                                The listed amount of the loan applied for by the borrower. If at some point in time, the credit department reduces the loan amount, then it will be reflected in this value.\n",
       "loan_status                                                                                                                                                                                                                                                Current status of the loan\n",
       "max_bal_bc                                                                                                                                                                                                                     Maximum current balance owed on all revolving accounts\n",
       "member_id                                                                                                                                                                                                                            A unique LC assigned Id for the borrower member.\n",
       "mo_sin_old_il_acct                                                                                                                                                                                                                Months since oldest bank installment account opened\n",
       "mo_sin_old_rev_tl_op                                                                                                                                                                                                                     Months since oldest revolving account opened\n",
       "mo_sin_rcnt_rev_tl_op                                                                                                                                                                                                               Months since most recent revolving account opened\n",
       "mo_sin_rcnt_tl                                                                                                                                                                                                                                Months since most recent account opened\n",
       "mort_acc                                                                                                                                                                                                                                                 Number of mortgage accounts.\n",
       "mths_since_last_delinq                                                                                                                                                                                                    The number of months since the borrower's last delinquency.\n",
       "mths_since_last_major_derog                                                                                                                                                                                                           Months since most recent 90-day or worse rating\n",
       "mths_since_last_record                                                                                                                                                                                                             The number of months since the last public record.\n",
       "mths_since_rcnt_il                                                                                                                                                                                                               Months since most recent installment accounts opened\n",
       "mths_since_recent_bc                                                                                                                                                                                                                Months since most recent bankcard account opened.\n",
       "mths_since_recent_bc_dlq                                                                                                                                                                                                                Months since most recent bankcard delinquency\n",
       "mths_since_recent_inq                                                                                                                                                                                                                               Months since most recent inquiry.\n",
       "mths_since_recent_revol_delinq                                                                                                                                                                                                        Months since most recent revolving delinquency.\n",
       "next_pymnt_d                                                                                                                                                                                                                                              Next scheduled payment date\n",
       "num_accts_ever_120_pd                                                                                                                                                                                                               Number of accounts ever 120 or more days past due\n",
       "num_actv_bc_tl                                                                                                                                                                                                                           Number of currently active bankcard accounts\n",
       "num_actv_rev_tl                                                                                                                                                                                                                           Number of currently active revolving trades\n",
       "num_bc_sats                                                                                                                                                                                                                                  Number of satisfactory bankcard accounts\n",
       "num_bc_tl                                                                                                                                                                                                                                                 Number of bankcard accounts\n",
       "num_il_tl                                                                                                                                                                                                                                              Number of installment accounts\n",
       "num_op_rev_tl                                                                                                                                                                                                                                       Number of open revolving accounts\n",
       "num_rev_accts                                                                                                                                                                                                                                            Number of revolving accounts\n",
       "num_rev_tl_bal_gt_0                                                                                                                                                                                                                        Number of revolving trades with balance >0\n",
       "num_sats                                                                                                                                                                                                                                              Number of satisfactory accounts\n",
       "num_tl_120dpd_2m                                                                                                                                                                                            Number of accounts currently 120 days past due (updated in past 2 months)\n",
       "num_tl_30dpd                                                                                                                                                                                                 Number of accounts currently 30 days past due (updated in past 2 months)\n",
       "num_tl_90g_dpd_24m                                                                                                                                                                                                      Number of accounts 90 or more days past due in last 24 months\n",
       "num_tl_op_past_12m                                                                                                                                                                                                                        Number of accounts opened in past 12 months\n",
       "open_acc                                                                                                                                                                                                               The number of open credit lines in the borrower's credit file.\n",
       "open_acc_6m                                                                                                                                                                                                                                    Number of open trades in last 6 months\n",
       "open_act_il                                                                                                                                                                                                                             Number of currently active installment trades\n",
       "open_il_12m                                                                                                                                                                                                                   Number of installment accounts opened in past 12 months\n",
       "open_il_24m                                                                                                                                                                                                                   Number of installment accounts opened in past 24 months\n",
       "open_rv_12m                                                                                                                                                                                                                       Number of revolving trades opened in past 12 months\n",
       "open_rv_24m                                                                                                                                                                                                                       Number of revolving trades opened in past 24 months\n",
       "orig_projected_additional_accrued_interest                      The original projected additional interest amount that will accrue for the given hardship payment plan as of the Hardship Start Date. This field will be null if the borrower has broken their hardship payment plan.\n",
       "out_prncp                                                                                                                                                                                                                     Remaining outstanding principal for total amount funded\n",
       "out_prncp_inv                                                                                                                                                                                         Remaining outstanding principal for portion of total amount funded by investors\n",
       "payment_plan_start_date                     The day the first hardship plan payment is due. For example, if a borrower has a hardship plan period of 3 months, the start date is the start of the three-month period in which the borrower is allowed to make interest-only payments.\n",
       "pct_tl_nvr_dlq                                                                                                                                                                                                                                     Percent of trades never delinquent\n",
       "percent_bc_gt_75                                                                                                                                                                                                                  Percentage of all bankcard accounts > 75% of limit.\n",
       "policy_code                                                                                                                                                                                       publicly available policy_code=1\\nnew products not publicly available policy_code=2\n",
       "pub_rec                                                                                                                                                                                                                                           Number of derogatory public records\n",
       "pub_rec_bankruptcies                                                                                                                                                                                                                             Number of public record bankruptcies\n",
       "purpose                                                                                                                                                                                                                    A category provided by the borrower for the loan request. \n",
       "pymnt_plan                                                                                                                                                                                                             Indicates if a payment plan has been put in place for the loan\n",
       "recoveries                                                                                                                                                                                                                                             post charge off gross recovery\n",
       "revol_bal                                                                                                                                                                                                                                              Total credit revolving balance\n",
       "revol_bal_joint                                                                                                                                                                                        Sum of revolving credit balance of the co-borrowers, net of duplicate balances\n",
       "revol_util                                                                                                                                                 Revolving line utilization rate, or the amount of credit the borrower is using relative to all available revolving credit.\n",
       "sec_app_chargeoff_within_12_mths                                                                                                                                                       Number of charge-offs within last 12 months at time of application for the secondary applicant\n",
       "sec_app_collections_12_mths_ex_med                                                                                                                       Number of collections within last 12 months excluding medical collections at time of application for the secondary applicant\n",
       "sec_app_earliest_cr_line                                                                                                                                                                                      Earliest credit line at time of application for the secondary applicant\n",
       "sec_app_fico_range_high                                                                                                                                                                                                                  FICO range (low) for the secondary applicant\n",
       "sec_app_fico_range_low                                                                                                                                                                                                                  FICO range (high) for the secondary applicant\n",
       "sec_app_inq_last_6mths                                                                                                                                                                       Credit inquiries in the last 6 months at time of application for the secondary applicant\n",
       "sec_app_mort_acc                                                                                                                                                                                       Number of mortgage accounts at time of application for the secondary applicant\n",
       "sec_app_mths_since_last_major_derog                                                                                                                                                Months since most recent 90-day or worse rating at time of application for the secondary applicant\n",
       "sec_app_num_rev_accts                                                                                                                                                                                 Number of revolving accounts at time of application for the secondary applicant\n",
       "sec_app_open_acc                                                                                                                                                                                             Number of open trades at time of application for the secondary applicant\n",
       "sec_app_open_act_il                                                                                                                                                                  Number of currently active installment trades at time of application for the secondary applicant\n",
       "sec_app_revol_util                                                                                                                                                                              Ratio of total current balance to high credit/credit limit for all revolving accounts\n",
       "settlement_amount                                                                                                                                                                                                          The loan amount that the borrower has agreed to settle for\n",
       "settlement_date                                                                                                                                                                                                              The date that the borrower agrees to the settlement plan\n",
       "settlement_percentage                                                                                                                                                                                  The settlement amount as a percentage of the payoff balance amount on the loan\n",
       "settlement_status                                                                                                                                               The status of the borrower’s settlement plan. Possible values are: COMPLETE, ACTIVE, BROKEN, CANCELLED, DENIED, DRAFT\n",
       "settlement_term                                                                                                                                                                                                 The number of months that the borrower will be on the settlement plan\n",
       "sub_grade                                                                                                                                                                                                                                                   LC assigned loan subgrade\n",
       "tax_liens                                                                                                                                                                                                                                                         Number of tax liens\n",
       "term                                                                                                                                                                                             The number of payments on the loan. Values are in months and can be either 36 or 60.\n",
       "title                                                                                                                                                                                                                                         The loan title provided by the borrower\n",
       "tot_coll_amt                                                                                                                                                                                                                                       Total collection amounts ever owed\n",
       "tot_cur_bal                                                                                                                                                                                                                                     Total current balance of all accounts\n",
       "tot_hi_cred_lim                                                                                                                                                                                                                                        Total high credit/credit limit\n",
       "total_acc                                                                                                                                                                                                    The total number of credit lines currently in the borrower's credit file\n",
       "total_bal_ex_mort                                                                                                                                                                                                                             Total credit balance excluding mortgage\n",
       "total_bal_il                                                                                                                                                                                                                        Total current balance of all installment accounts\n",
       "total_bc_limit                                                                                                                                                                                                                                Total bankcard high credit/credit limit\n",
       "total_cu_tl                                                                                                                                                                                                                                                  Number of finance trades\n",
       "total_il_high_credit_limit                                                                                                                                                                                                                 Total installment high credit/credit limit\n",
       "total_pymnt                                                                                                                                                                                                                         Payments received to date for total amount funded\n",
       "total_pymnt_inv                                                                                                                                                                                             Payments received to date for portion of total amount funded by investors\n",
       "total_rec_int                                                                                                                                                                                                                                               Interest received to date\n",
       "total_rec_late_fee                                                                                                                                                                                                                                         Late fees received to date\n",
       "total_rec_prncp                                                                                                                                                                                                                                            Principal received to date\n",
       "total_rev_hi_lim                                                                                                                                                                                                                             Total revolving high credit/credit limit\n",
       "url                                                                                                                                                                                                                                            URL for the LC page with listing data.\n",
       "verification_status                                                                                                                                                                        Indicates if income was verified by LC, not verified, or if the income source was verified\n",
       "verified_status_joint                                                                                                                                              Indicates if the co-borrowers' joint income was verified by LC, not verified, or if the income source was verified\n",
       "zip_code                                                                                                                                                                                        The first 3 numbers of the zip code provided by the borrower in the loan application."
      ]
     },
     "metadata": {},
     "output_type": "display_data"
    }
   ],
   "source": [
    "def set_pandas_display_options() -> None:\n",
    "    \"\"\"Set pandas display options.\"\"\"\n",
    "    # Ref: https://stackoverflow.com/a/52432757/\n",
    "    display = pd.options.display\n",
    "\n",
    "    display.max_columns = 1000\n",
    "    display.max_rows = 1000\n",
    "    display.max_colwidth = 1000\n",
    "    display.width = None\n",
    "    # display.precision = 2  # set as needed\n",
    "\n",
    "with warnings.catch_warnings():\n",
    "    warnings.simplefilter(\"ignore\")\n",
    "    set_pandas_display_options()\n",
    "    info = pd.read_excel(\"Data/LCDataDictionary.xlsx\")\n",
    "    info = info[['LoanStatNew','Description']].iloc[0:-2]\n",
    "    display(info.set_index('LoanStatNew').sort_index())\n",
    "    pd.reset_option('all')"
   ]
  },
  {
   "cell_type": "markdown",
   "metadata": {},
   "source": [
    "---\n",
    "\n",
    "### 🚩 Exercise 1\n",
    "\n",
    "Take a few minutes to scan through the attributes above. \n",
    "\n",
    "- If we are going to build a model to identify attributes of individuals who are likely to pay, what will be our target variable?\n",
    "- Are there any attributes you think won't be very useful?"
   ]
  },
  {
   "cell_type": "code",
   "execution_count": 5,
   "metadata": {},
   "outputs": [
    {
     "data": {
      "application/vnd.jupyter.widget-view+json": {
       "model_id": "ef455d23a9204744b318acd71d6f77cc",
       "version_major": 2,
       "version_minor": 0
      },
      "text/plain": [
       "Button(description='Reveal solution', style=ButtonStyle())"
      ]
     },
     "metadata": {},
     "output_type": "display_data"
    },
    {
     "data": {
      "application/vnd.jupyter.widget-view+json": {
       "model_id": "415c882d6b254503bc789868010c16d3",
       "version_major": 2,
       "version_minor": 0
      },
      "text/plain": [
       "Output(layout=Layout(border='1px solid green'))"
      ]
     },
     "metadata": {},
     "output_type": "display_data"
    }
   ],
   "source": [
    "%run ../scripts/show_solutions.py 03_ex1"
   ]
  },
  {
   "cell_type": "markdown",
   "metadata": {},
   "source": [
    "- `loan_status` will be our target variable.\n",
    "- Stuff like URL, or anything you wouldn't know until after the loan has been issued (e.g. `total_rec_int`)"
   ]
  },
  {
   "cell_type": "markdown",
   "metadata": {},
   "source": [
    "---\n",
    "\n",
    "Even for our purposes, the 150 attributes above are too unwieldy to manage all at once, so lets reduce it down to some  some of the features that would be available to investors at the time of investing. We will be using `loan_status` as our target varible and `issue_d` to split the data into training and test sets.\n",
    "\n",
    "__Notes__\n",
    "- reducing the data down also allows us to store the file on github."
   ]
  },
  {
   "cell_type": "code",
   "execution_count": 6,
   "metadata": {
    "id": "-zZIxyXtls56",
    "outputId": "77824964-58fc-4144-da08-0e5f2eba89dc"
   },
   "outputs": [
    {
     "data": {
      "text/html": [
       "<div>\n",
       "<style scoped>\n",
       "    .dataframe tbody tr th:only-of-type {\n",
       "        vertical-align: middle;\n",
       "    }\n",
       "\n",
       "    .dataframe tbody tr th {\n",
       "        vertical-align: top;\n",
       "    }\n",
       "\n",
       "    .dataframe thead th {\n",
       "        text-align: right;\n",
       "    }\n",
       "</style>\n",
       "<table border=\"1\" class=\"dataframe\">\n",
       "  <thead>\n",
       "    <tr style=\"text-align: right;\">\n",
       "      <th></th>\n",
       "      <th>Description</th>\n",
       "    </tr>\n",
       "    <tr>\n",
       "      <th>LoanStatNew</th>\n",
       "      <th></th>\n",
       "    </tr>\n",
       "  </thead>\n",
       "  <tbody>\n",
       "    <tr>\n",
       "      <th>annual_inc</th>\n",
       "      <td>The self-reported annual income provided by the borrower during registration.</td>\n",
       "    </tr>\n",
       "    <tr>\n",
       "      <th>dti</th>\n",
       "      <td>A ratio calculated using the borrower’s total monthly debt payments on the total debt obligations, excluding mortgage and the requested LC loan, divided by the borrower’s self-reported monthly income.</td>\n",
       "    </tr>\n",
       "    <tr>\n",
       "      <th>earliest_cr_line</th>\n",
       "      <td>The month the borrower's earliest reported credit line was opened</td>\n",
       "    </tr>\n",
       "    <tr>\n",
       "      <th>emp_length</th>\n",
       "      <td>Employment length in years. Possible values are between 0 and 10 where 0 means less than one year and 10 means ten or more years.</td>\n",
       "    </tr>\n",
       "    <tr>\n",
       "      <th>fico_range_high</th>\n",
       "      <td>The upper boundary range the borrower’s FICO at loan origination belongs to.</td>\n",
       "    </tr>\n",
       "    <tr>\n",
       "      <th>fico_range_low</th>\n",
       "      <td>The lower boundary range the borrower’s FICO at loan origination belongs to.</td>\n",
       "    </tr>\n",
       "    <tr>\n",
       "      <th>home_ownership</th>\n",
       "      <td>The home ownership status provided by the borrower during registration or obtained from the credit report. Our values are: RENT, OWN, MORTGAGE, OTHER</td>\n",
       "    </tr>\n",
       "    <tr>\n",
       "      <th>installment</th>\n",
       "      <td>The monthly payment owed by the borrower if the loan originates.</td>\n",
       "    </tr>\n",
       "    <tr>\n",
       "      <th>int_rate</th>\n",
       "      <td>Interest Rate on the loan</td>\n",
       "    </tr>\n",
       "    <tr>\n",
       "      <th>issue_d</th>\n",
       "      <td>The month which the loan was funded</td>\n",
       "    </tr>\n",
       "    <tr>\n",
       "      <th>loan_amnt</th>\n",
       "      <td>The listed amount of the loan applied for by the borrower. If at some point in time, the credit department reduces the loan amount, then it will be reflected in this value.</td>\n",
       "    </tr>\n",
       "    <tr>\n",
       "      <th>loan_status</th>\n",
       "      <td>Current status of the loan</td>\n",
       "    </tr>\n",
       "    <tr>\n",
       "      <th>mort_acc</th>\n",
       "      <td>Number of mortgage accounts.</td>\n",
       "    </tr>\n",
       "    <tr>\n",
       "      <th>num_bc_tl</th>\n",
       "      <td>Number of bankcard accounts</td>\n",
       "    </tr>\n",
       "    <tr>\n",
       "      <th>num_tl_90g_dpd_24m</th>\n",
       "      <td>Number of accounts 90 or more days past due in last 24 months</td>\n",
       "    </tr>\n",
       "    <tr>\n",
       "      <th>open_acc</th>\n",
       "      <td>The number of open credit lines in the borrower's credit file.</td>\n",
       "    </tr>\n",
       "    <tr>\n",
       "      <th>pub_rec</th>\n",
       "      <td>Number of derogatory public records</td>\n",
       "    </tr>\n",
       "    <tr>\n",
       "      <th>pub_rec_bankruptcies</th>\n",
       "      <td>Number of public record bankruptcies</td>\n",
       "    </tr>\n",
       "    <tr>\n",
       "      <th>revol_bal</th>\n",
       "      <td>Total credit revolving balance</td>\n",
       "    </tr>\n",
       "    <tr>\n",
       "      <th>revol_util</th>\n",
       "      <td>Revolving line utilization rate, or the amount of credit the borrower is using relative to all available revolving credit.</td>\n",
       "    </tr>\n",
       "    <tr>\n",
       "      <th>term</th>\n",
       "      <td>The number of payments on the loan. Values are in months and can be either 36 or 60.</td>\n",
       "    </tr>\n",
       "    <tr>\n",
       "      <th>total_acc</th>\n",
       "      <td>The total number of credit lines currently in the borrower's credit file</td>\n",
       "    </tr>\n",
       "    <tr>\n",
       "      <th>zip_code</th>\n",
       "      <td>The first 3 numbers of the zip code provided by the borrower in the loan application.</td>\n",
       "    </tr>\n",
       "  </tbody>\n",
       "</table>\n",
       "</div>"
      ],
      "text/plain": [
       "                                                                                                                                                                                                                   Description\n",
       "LoanStatNew                                                                                                                                                                                                                   \n",
       "annual_inc                                                                                                                                       The self-reported annual income provided by the borrower during registration.\n",
       "dti                   A ratio calculated using the borrower’s total monthly debt payments on the total debt obligations, excluding mortgage and the requested LC loan, divided by the borrower’s self-reported monthly income.\n",
       "earliest_cr_line                                                                                                                                             The month the borrower's earliest reported credit line was opened\n",
       "emp_length                                                                                  Employment length in years. Possible values are between 0 and 10 where 0 means less than one year and 10 means ten or more years. \n",
       "fico_range_high                                                                                                                                   The upper boundary range the borrower’s FICO at loan origination belongs to.\n",
       "fico_range_low                                                                                                                                    The lower boundary range the borrower’s FICO at loan origination belongs to.\n",
       "home_ownership                                                           The home ownership status provided by the borrower during registration or obtained from the credit report. Our values are: RENT, OWN, MORTGAGE, OTHER\n",
       "installment                                                                                                                                                   The monthly payment owed by the borrower if the loan originates.\n",
       "int_rate                                                                                                                                                                                             Interest Rate on the loan\n",
       "issue_d                                                                                                                                                                                    The month which the loan was funded\n",
       "loan_amnt                                         The listed amount of the loan applied for by the borrower. If at some point in time, the credit department reduces the loan amount, then it will be reflected in this value.\n",
       "loan_status                                                                                                                                                                                         Current status of the loan\n",
       "mort_acc                                                                                                                                                                                          Number of mortgage accounts.\n",
       "num_bc_tl                                                                                                                                                                                          Number of bankcard accounts\n",
       "num_tl_90g_dpd_24m                                                                                                                                               Number of accounts 90 or more days past due in last 24 months\n",
       "open_acc                                                                                                                                                        The number of open credit lines in the borrower's credit file.\n",
       "pub_rec                                                                                                                                                                                    Number of derogatory public records\n",
       "pub_rec_bankruptcies                                                                                                                                                                      Number of public record bankruptcies\n",
       "revol_bal                                                                                                                                                                                       Total credit revolving balance\n",
       "revol_util                                                                                          Revolving line utilization rate, or the amount of credit the borrower is using relative to all available revolving credit.\n",
       "term                                                                                                                                      The number of payments on the loan. Values are in months and can be either 36 or 60.\n",
       "total_acc                                                                                                                                             The total number of credit lines currently in the borrower's credit file\n",
       "zip_code                                                                                                                                 The first 3 numbers of the zip code provided by the borrower in the loan application."
      ]
     },
     "metadata": {},
     "output_type": "display_data"
    }
   ],
   "source": [
    "reduc_feats = ['annual_inc', \n",
    "               #'avg_cur_bal', 'delinq_amnt', \n",
    "               'dti', 'earliest_cr_line',\n",
    "              'emp_length', 'fico_range_high', 'fico_range_low', 'home_ownership',\n",
    "              'installment', 'int_rate', 'loan_amnt', 'mort_acc',\n",
    "              'num_bc_tl', 'num_tl_90g_dpd_24m', 'open_acc', 'pub_rec',\n",
    "              'pub_rec_bankruptcies', 'revol_bal', 'revol_util', 'term', 'total_acc', 'zip_code']\n",
    "\n",
    "# Numerical features we are going to use for this workbook\n",
    "#reduc_feats = ['annual_inc', 'dti', 'earliest_cr_line', 'fico_range_high',\n",
    " #            'fico_range_low', 'installment', 'int_rate', 'loan_amnt',\n",
    "  #           'mort_acc', 'open_acc', 'pub_rec', 'pub_rec_bankruptcies',\n",
    "   #          'revol_bal', 'revol_util', 'term', 'total_acc']\n",
    "split_var = \"issue_d\"\n",
    "responce_var = \"loan_status\"\n",
    "\n",
    "with warnings.catch_warnings():\n",
    "    warnings.simplefilter(\"ignore\")\n",
    "    set_pandas_display_options()\n",
    "    info = pd.read_excel(\"Data/LCDataDictionary.xlsx\")\n",
    "    info = info[['LoanStatNew','Description']].iloc[0:-2]\n",
    "    display(info.set_index('LoanStatNew').loc[reduc_feats+[split_var, responce_var]].sort_index())\n",
    "    pd.reset_option('all')"
   ]
  },
  {
   "cell_type": "markdown",
   "metadata": {
    "id": "jBZHu04xls57"
   },
   "source": [
    "## 2.1. Data\n",
    "\n",
    "Lets load in the data with these reduced number of columns.\n",
    "\n",
    "__Note__\n",
    "- you can download the full dataset at https://www.kaggle.com/ethon0426/lending-club-20072020q1 although it is not provided here are it is 1.77 GB.\n",
    "- For downloading it straight from kaggle, have a look at the last notebook.\n",
    "\n",
    "__Todo__\n",
    "- save the reduced data as a zip..."
   ]
  },
  {
   "cell_type": "code",
   "execution_count": 7,
   "metadata": {
    "id": "yLxNy6hYls57",
    "outputId": "c141df8d-23b5-4244-ce42-f0a513d2db65"
   },
   "outputs": [
    {
     "data": {
      "text/html": [
       "<div>\n",
       "<style scoped>\n",
       "    .dataframe tbody tr th:only-of-type {\n",
       "        vertical-align: middle;\n",
       "    }\n",
       "\n",
       "    .dataframe tbody tr th {\n",
       "        vertical-align: top;\n",
       "    }\n",
       "\n",
       "    .dataframe thead th {\n",
       "        text-align: right;\n",
       "    }\n",
       "</style>\n",
       "<table border=\"1\" class=\"dataframe\">\n",
       "  <thead>\n",
       "    <tr style=\"text-align: right;\">\n",
       "      <th></th>\n",
       "      <th>0</th>\n",
       "      <th>1</th>\n",
       "      <th>2</th>\n",
       "      <th>3</th>\n",
       "      <th>4</th>\n",
       "    </tr>\n",
       "  </thead>\n",
       "  <tbody>\n",
       "    <tr>\n",
       "      <th>annual_inc</th>\n",
       "      <td>24000.0</td>\n",
       "      <td>30000.0</td>\n",
       "      <td>12252.0</td>\n",
       "      <td>49200.0</td>\n",
       "      <td>80000.0</td>\n",
       "    </tr>\n",
       "    <tr>\n",
       "      <th>dti</th>\n",
       "      <td>27.65</td>\n",
       "      <td>1.0</td>\n",
       "      <td>8.72</td>\n",
       "      <td>20.0</td>\n",
       "      <td>17.94</td>\n",
       "    </tr>\n",
       "    <tr>\n",
       "      <th>earliest_cr_line</th>\n",
       "      <td>Jan-1985</td>\n",
       "      <td>Apr-1999</td>\n",
       "      <td>Nov-2001</td>\n",
       "      <td>Feb-1996</td>\n",
       "      <td>Jan-1996</td>\n",
       "    </tr>\n",
       "    <tr>\n",
       "      <th>emp_length</th>\n",
       "      <td>10+ years</td>\n",
       "      <td>&lt; 1 year</td>\n",
       "      <td>10+ years</td>\n",
       "      <td>10+ years</td>\n",
       "      <td>1 year</td>\n",
       "    </tr>\n",
       "    <tr>\n",
       "      <th>fico_range_high</th>\n",
       "      <td>739.0</td>\n",
       "      <td>744.0</td>\n",
       "      <td>739.0</td>\n",
       "      <td>694.0</td>\n",
       "      <td>699.0</td>\n",
       "    </tr>\n",
       "    <tr>\n",
       "      <th>fico_range_low</th>\n",
       "      <td>735.0</td>\n",
       "      <td>740.0</td>\n",
       "      <td>735.0</td>\n",
       "      <td>690.0</td>\n",
       "      <td>695.0</td>\n",
       "    </tr>\n",
       "    <tr>\n",
       "      <th>home_ownership</th>\n",
       "      <td>RENT</td>\n",
       "      <td>RENT</td>\n",
       "      <td>RENT</td>\n",
       "      <td>RENT</td>\n",
       "      <td>RENT</td>\n",
       "    </tr>\n",
       "    <tr>\n",
       "      <th>installment</th>\n",
       "      <td>162.87</td>\n",
       "      <td>59.83</td>\n",
       "      <td>84.33</td>\n",
       "      <td>339.31</td>\n",
       "      <td>67.79</td>\n",
       "    </tr>\n",
       "    <tr>\n",
       "      <th>int_rate</th>\n",
       "      <td>10.65%</td>\n",
       "      <td>15.27%</td>\n",
       "      <td>15.96%</td>\n",
       "      <td>13.49%</td>\n",
       "      <td>12.69%</td>\n",
       "    </tr>\n",
       "    <tr>\n",
       "      <th>issue_d</th>\n",
       "      <td>Dec-2011</td>\n",
       "      <td>Dec-2011</td>\n",
       "      <td>Dec-2011</td>\n",
       "      <td>Dec-2011</td>\n",
       "      <td>Dec-2011</td>\n",
       "    </tr>\n",
       "    <tr>\n",
       "      <th>loan_amnt</th>\n",
       "      <td>5000.0</td>\n",
       "      <td>2500.0</td>\n",
       "      <td>2400.0</td>\n",
       "      <td>10000.0</td>\n",
       "      <td>3000.0</td>\n",
       "    </tr>\n",
       "    <tr>\n",
       "      <th>loan_status</th>\n",
       "      <td>Fully Paid</td>\n",
       "      <td>Charged Off</td>\n",
       "      <td>Fully Paid</td>\n",
       "      <td>Fully Paid</td>\n",
       "      <td>Fully Paid</td>\n",
       "    </tr>\n",
       "    <tr>\n",
       "      <th>mort_acc</th>\n",
       "      <td>NaN</td>\n",
       "      <td>NaN</td>\n",
       "      <td>NaN</td>\n",
       "      <td>NaN</td>\n",
       "      <td>NaN</td>\n",
       "    </tr>\n",
       "    <tr>\n",
       "      <th>num_bc_tl</th>\n",
       "      <td>NaN</td>\n",
       "      <td>NaN</td>\n",
       "      <td>NaN</td>\n",
       "      <td>NaN</td>\n",
       "      <td>NaN</td>\n",
       "    </tr>\n",
       "    <tr>\n",
       "      <th>num_tl_90g_dpd_24m</th>\n",
       "      <td>NaN</td>\n",
       "      <td>NaN</td>\n",
       "      <td>NaN</td>\n",
       "      <td>NaN</td>\n",
       "      <td>NaN</td>\n",
       "    </tr>\n",
       "    <tr>\n",
       "      <th>open_acc</th>\n",
       "      <td>3.0</td>\n",
       "      <td>3.0</td>\n",
       "      <td>2.0</td>\n",
       "      <td>10.0</td>\n",
       "      <td>15.0</td>\n",
       "    </tr>\n",
       "    <tr>\n",
       "      <th>pub_rec</th>\n",
       "      <td>0.0</td>\n",
       "      <td>0.0</td>\n",
       "      <td>0.0</td>\n",
       "      <td>0.0</td>\n",
       "      <td>0.0</td>\n",
       "    </tr>\n",
       "    <tr>\n",
       "      <th>pub_rec_bankruptcies</th>\n",
       "      <td>0.0</td>\n",
       "      <td>0.0</td>\n",
       "      <td>0.0</td>\n",
       "      <td>0.0</td>\n",
       "      <td>0.0</td>\n",
       "    </tr>\n",
       "    <tr>\n",
       "      <th>revol_bal</th>\n",
       "      <td>13648.0</td>\n",
       "      <td>1687.0</td>\n",
       "      <td>2956.0</td>\n",
       "      <td>5598.0</td>\n",
       "      <td>27783.0</td>\n",
       "    </tr>\n",
       "    <tr>\n",
       "      <th>revol_util</th>\n",
       "      <td>83.7%</td>\n",
       "      <td>9.4%</td>\n",
       "      <td>98.5%</td>\n",
       "      <td>21%</td>\n",
       "      <td>53.9%</td>\n",
       "    </tr>\n",
       "    <tr>\n",
       "      <th>term</th>\n",
       "      <td>36 months</td>\n",
       "      <td>60 months</td>\n",
       "      <td>36 months</td>\n",
       "      <td>36 months</td>\n",
       "      <td>60 months</td>\n",
       "    </tr>\n",
       "    <tr>\n",
       "      <th>total_acc</th>\n",
       "      <td>9.0</td>\n",
       "      <td>4.0</td>\n",
       "      <td>10.0</td>\n",
       "      <td>37.0</td>\n",
       "      <td>38.0</td>\n",
       "    </tr>\n",
       "    <tr>\n",
       "      <th>zip_code</th>\n",
       "      <td>860xx</td>\n",
       "      <td>309xx</td>\n",
       "      <td>606xx</td>\n",
       "      <td>917xx</td>\n",
       "      <td>972xx</td>\n",
       "    </tr>\n",
       "  </tbody>\n",
       "</table>\n",
       "</div>"
      ],
      "text/plain": [
       "                               0            1           2           3  \\\n",
       "annual_inc               24000.0      30000.0     12252.0     49200.0   \n",
       "dti                        27.65          1.0        8.72        20.0   \n",
       "earliest_cr_line        Jan-1985     Apr-1999    Nov-2001    Feb-1996   \n",
       "emp_length             10+ years     < 1 year   10+ years   10+ years   \n",
       "fico_range_high            739.0        744.0       739.0       694.0   \n",
       "fico_range_low             735.0        740.0       735.0       690.0   \n",
       "home_ownership              RENT         RENT        RENT        RENT   \n",
       "installment               162.87        59.83       84.33      339.31   \n",
       "int_rate                  10.65%       15.27%      15.96%      13.49%   \n",
       "issue_d                 Dec-2011     Dec-2011    Dec-2011    Dec-2011   \n",
       "loan_amnt                 5000.0       2500.0      2400.0     10000.0   \n",
       "loan_status           Fully Paid  Charged Off  Fully Paid  Fully Paid   \n",
       "mort_acc                     NaN          NaN         NaN         NaN   \n",
       "num_bc_tl                    NaN          NaN         NaN         NaN   \n",
       "num_tl_90g_dpd_24m           NaN          NaN         NaN         NaN   \n",
       "open_acc                     3.0          3.0         2.0        10.0   \n",
       "pub_rec                      0.0          0.0         0.0         0.0   \n",
       "pub_rec_bankruptcies         0.0          0.0         0.0         0.0   \n",
       "revol_bal                13648.0       1687.0      2956.0      5598.0   \n",
       "revol_util                 83.7%         9.4%       98.5%         21%   \n",
       "term                   36 months    60 months   36 months   36 months   \n",
       "total_acc                    9.0          4.0        10.0        37.0   \n",
       "zip_code                   860xx        309xx       606xx       917xx   \n",
       "\n",
       "                               4  \n",
       "annual_inc               80000.0  \n",
       "dti                        17.94  \n",
       "earliest_cr_line        Jan-1996  \n",
       "emp_length                1 year  \n",
       "fico_range_high            699.0  \n",
       "fico_range_low             695.0  \n",
       "home_ownership              RENT  \n",
       "installment                67.79  \n",
       "int_rate                  12.69%  \n",
       "issue_d                 Dec-2011  \n",
       "loan_amnt                 3000.0  \n",
       "loan_status           Fully Paid  \n",
       "mort_acc                     NaN  \n",
       "num_bc_tl                    NaN  \n",
       "num_tl_90g_dpd_24m           NaN  \n",
       "open_acc                    15.0  \n",
       "pub_rec                      0.0  \n",
       "pub_rec_bankruptcies         0.0  \n",
       "revol_bal                27783.0  \n",
       "revol_util                 53.9%  \n",
       "term                   60 months  \n",
       "total_acc                   38.0  \n",
       "zip_code                   972xx  "
      ]
     },
     "metadata": {},
     "output_type": "display_data"
    }
   ],
   "source": [
    "reduced=False\n",
    "\n",
    "if reduced:\n",
    "    df = pd.read_csv(\"Data/LC_reduced.zip\", compression = \"zip\")\n",
    "    display(df.head().T) # transposing it so all data is shown\n",
    "    \n",
    "else:\n",
    "    # you can get the same dataframe if you have the full data downloaded and unzipped\n",
    "    df = pd.read_csv(\"Data/Loan_status_2007-2020Q3.gzip\", \n",
    "                     usecols=reduc_feats+[split_var, responce_var])\n",
    "    df = df.reindex(columns=df.columns.sort_values())\n",
    "    display(df.head().T) # transposing it so all data is shown\n",
    "    \n",
    "    # save the data\n",
    "    #compression_options = dict(method='zip', archive_name=f'LC_reduced.csv')\n",
    "    #df.to_csv(f'Data/LC_reduced.zip', compression=compression_options, index=False)"
   ]
  },
  {
   "cell_type": "markdown",
   "metadata": {
    "id": "EXLEtrEPls58"
   },
   "source": [
    "---\n",
    "\n",
    "### 🚩 Exercise 2\n",
    "\n",
    "From just looking at the data above, can you identify a few pre-processing steps we will need to do to prepare the data for modelling?"
   ]
  },
  {
   "cell_type": "code",
   "execution_count": 8,
   "metadata": {},
   "outputs": [
    {
     "data": {
      "application/vnd.jupyter.widget-view+json": {
       "model_id": "422fc3740a394b1cb2ea9c64cb599c41",
       "version_major": 2,
       "version_minor": 0
      },
      "text/plain": [
       "Button(description='Reveal solution', style=ButtonStyle())"
      ]
     },
     "metadata": {},
     "output_type": "display_data"
    },
    {
     "data": {
      "application/vnd.jupyter.widget-view+json": {
       "model_id": "efc1ab6875c64120b9a02a78c709e7f3",
       "version_major": 2,
       "version_minor": 0
      },
      "text/plain": [
       "Output(layout=Layout(border='1px solid green'))"
      ]
     },
     "metadata": {},
     "output_type": "display_data"
    }
   ],
   "source": [
    "%run ../scripts/show_solutions.py 03_ex2"
   ]
  },
  {
   "cell_type": "markdown",
   "metadata": {
    "id": "IIR_CP03ls59"
   },
   "source": [
    "---\n",
    "\n",
    "### 🚩 Exercise 3\n",
    "\n",
    "From looking at the `.info()` below, answer the following questions:\n",
    "\n",
    "- How many observations are in the full dataset?"
   ]
  },
  {
   "cell_type": "code",
   "execution_count": 9,
   "metadata": {
    "hideCode": false,
    "hidePrompt": false,
    "id": "TBJHe9r6ls59",
    "outputId": "68020f59-6f9f-49d9-b9cf-cc4bd04d7449"
   },
   "outputs": [
    {
     "name": "stdout",
     "output_type": "stream",
     "text": [
      "<class 'pandas.core.frame.DataFrame'>\n",
      "RangeIndex: 2925493 entries, 0 to 2925492\n",
      "Data columns (total 23 columns):\n",
      " #   Column                Dtype  \n",
      "---  ------                -----  \n",
      " 0   annual_inc            float64\n",
      " 1   dti                   float64\n",
      " 2   earliest_cr_line      object \n",
      " 3   emp_length            object \n",
      " 4   fico_range_high       float64\n",
      " 5   fico_range_low        float64\n",
      " 6   home_ownership        object \n",
      " 7   installment           float64\n",
      " 8   int_rate              object \n",
      " 9   issue_d               object \n",
      " 10  loan_amnt             float64\n",
      " 11  loan_status           object \n",
      " 12  mort_acc              float64\n",
      " 13  num_bc_tl             float64\n",
      " 14  num_tl_90g_dpd_24m    float64\n",
      " 15  open_acc              float64\n",
      " 16  pub_rec               float64\n",
      " 17  pub_rec_bankruptcies  float64\n",
      " 18  revol_bal             float64\n",
      " 19  revol_util            object \n",
      " 20  term                  object \n",
      " 21  total_acc             float64\n",
      " 22  zip_code              object \n",
      "dtypes: float64(14), object(9)\n",
      "memory usage: 513.4+ MB\n"
     ]
    }
   ],
   "source": [
    "df.info()"
   ]
  },
  {
   "cell_type": "code",
   "execution_count": 10,
   "metadata": {},
   "outputs": [
    {
     "data": {
      "application/vnd.jupyter.widget-view+json": {
       "model_id": "c57e339177264b918c6df9966ed16d9e",
       "version_major": 2,
       "version_minor": 0
      },
      "text/plain": [
       "Button(description='Reveal solution', style=ButtonStyle())"
      ]
     },
     "metadata": {},
     "output_type": "display_data"
    },
    {
     "data": {
      "application/vnd.jupyter.widget-view+json": {
       "model_id": "6ca8cd940ccb40aa99a12766c47a6b71",
       "version_major": 2,
       "version_minor": 0
      },
      "text/plain": [
       "Output(layout=Layout(border='1px solid green'))"
      ]
     },
     "metadata": {},
     "output_type": "display_data"
    }
   ],
   "source": [
    "%run ../scripts/show_solutions.py 03_ex3"
   ]
  },
  {
   "cell_type": "markdown",
   "metadata": {
    "id": "r8rFpmXtls5-"
   },
   "source": [
    "---\n",
    "\n",
    "### 🚩 Exercise 4\n",
    "\n",
    "Examine the distribution of the classes in the target variable."
   ]
  },
  {
   "cell_type": "code",
   "execution_count": 11,
   "metadata": {
    "id": "HTTBCJEOls5-",
    "outputId": "fd0b8cba-d1e6-433c-d0fd-773c09e2bd56"
   },
   "outputs": [
    {
     "data": {
      "application/vnd.jupyter.widget-view+json": {
       "model_id": "e3865eb6b3d24c12b6314bf19da59bb0",
       "version_major": 2,
       "version_minor": 0
      },
      "text/plain": [
       "Button(description='Reveal solution', style=ButtonStyle())"
      ]
     },
     "metadata": {},
     "output_type": "display_data"
    },
    {
     "data": {
      "application/vnd.jupyter.widget-view+json": {
       "model_id": "9bb87c4e8e4d44738a7859b7f11ea8e9",
       "version_major": 2,
       "version_minor": 0
      },
      "text/plain": [
       "Output(layout=Layout(border='1px solid green'))"
      ]
     },
     "metadata": {},
     "output_type": "display_data"
    }
   ],
   "source": [
    "%run ../scripts/show_solutions.py 03_ex4"
   ]
  },
  {
   "cell_type": "markdown",
   "metadata": {},
   "source": [
    "---\n",
    "\n",
    "For the sake of this workbook we are going to reduce the data down into loans that were \"Fully Paid\" or \"Charged Off\"."
   ]
  },
  {
   "cell_type": "code",
   "execution_count": 12,
   "metadata": {
    "id": "0cEh_jCpls5_",
    "outputId": "a9f86944-354d-4662-ecfb-a058e6f94638"
   },
   "outputs": [
    {
     "data": {
      "text/plain": [
       "(1860331, 23)"
      ]
     },
     "execution_count": 12,
     "metadata": {},
     "output_type": "execute_result"
    }
   ],
   "source": [
    "df = df[df['loan_status'].isin(['Fully Paid', 'Charged Off'])]\n",
    "\n",
    "df.shape"
   ]
  },
  {
   "cell_type": "markdown",
   "metadata": {
    "id": "aXJehCDdls5_"
   },
   "source": [
    "# 3. Data Pre-Processing/EDA <a id='eda'></a>\n",
    "\n",
    "We are going to do a mix of EDA and pre-processing in this notebook. This is because we have quite a number of features so a systematic approach to each will help us understand them more. Lets look at each in alphabetical order(ish), and for time sake I'll group features that need the same pre-processing.\n",
    "\n",
    "These are extra tasks for you to practice your pre-processing and EDA skills. You will also notice as we go down we already start to reduce down the number of features by looking at ones that are similar to each other."
   ]
  },
  {
   "cell_type": "markdown",
   "metadata": {},
   "source": [
    "## 3.1. Train-Test Split\n",
    "\n",
    "However first, as mentioned before, we are going to use `issue_d` to split up our data into training and test sets. Lets first convert it to its correct data type."
   ]
  },
  {
   "cell_type": "code",
   "execution_count": 13,
   "metadata": {
    "id": "sTA5vuQlls5_",
    "outputId": "6c5b6474-f368-4643-deda-7d4850dfe161"
   },
   "outputs": [
    {
     "data": {
      "text/plain": [
       "1534631   2014-10-01\n",
       "1539563   2014-10-01\n",
       "2538058   2016-09-01\n",
       "31474     2010-03-01\n",
       "2277339   2015-01-01\n",
       "Name: issue_d, dtype: datetime64[ns]"
      ]
     },
     "execution_count": 13,
     "metadata": {},
     "output_type": "execute_result"
    }
   ],
   "source": [
    "df['issue_d'] = pd.to_datetime(df['issue_d'])\n",
    "df['issue_d'].sample(5)"
   ]
  },
  {
   "cell_type": "markdown",
   "metadata": {},
   "source": [
    "---\n",
    "\n",
    "### 🚩 Exercise 5\n",
    "\n",
    "Examine how many loans were given out in each year."
   ]
  },
  {
   "cell_type": "code",
   "execution_count": 14,
   "metadata": {},
   "outputs": [
    {
     "data": {
      "application/vnd.jupyter.widget-view+json": {
       "model_id": "99fdf03022694e838545f7438b2f1d97",
       "version_major": 2,
       "version_minor": 0
      },
      "text/plain": [
       "Button(description='Reveal solution', style=ButtonStyle())"
      ]
     },
     "metadata": {},
     "output_type": "display_data"
    },
    {
     "data": {
      "application/vnd.jupyter.widget-view+json": {
       "model_id": "2555fe019b444b46beb27bd5a80562c7",
       "version_major": 2,
       "version_minor": 0
      },
      "text/plain": [
       "Output(layout=Layout(border='1px solid green'))"
      ]
     },
     "metadata": {},
     "output_type": "display_data"
    }
   ],
   "source": [
    "%run ../scripts/show_solutions.py 03_ex5"
   ]
  },
  {
   "cell_type": "markdown",
   "metadata": {
    "id": "53oQ5iRZls6A"
   },
   "source": [
    "---\n",
    "We are going to train models on loan data from years 2007-2018 and test their performance on the loans taken out in 2019 and 2020 that were Fully Paid or Charged Off."
   ]
  },
  {
   "cell_type": "code",
   "execution_count": 15,
   "metadata": {
    "id": "qAPpYPD2ls6A",
    "outputId": "f167cc1f-104a-414b-9fb9-3a989cd1c379"
   },
   "outputs": [
    {
     "data": {
      "text/plain": [
       "(1856047, 23)"
      ]
     },
     "metadata": {},
     "output_type": "display_data"
    },
    {
     "data": {
      "text/plain": [
       "(79611, 23)"
      ]
     },
     "metadata": {},
     "output_type": "display_data"
    }
   ],
   "source": [
    "train_set = df[df.issue_d.dt.year<=2019].copy()\n",
    "test_set = df[df.issue_d.dt.year>=2019].copy()\n",
    "\n",
    "# Don't need this anymore so lets delete to save memory\n",
    "del df\n",
    "\n",
    "display(train_set.shape)\n",
    "display(test_set.shape)"
   ]
  },
  {
   "cell_type": "markdown",
   "metadata": {
    "id": "bWOO98JRls6A"
   },
   "source": [
    "---\n",
    "\n",
    "Lets now create our feature matrix and responce variable."
   ]
  },
  {
   "cell_type": "code",
   "execution_count": 16,
   "metadata": {
    "id": "zluoOd_Cls6B",
    "outputId": "f33f06c5-5e36-434b-a273-0df0200de486"
   },
   "outputs": [
    {
     "name": "stdout",
     "output_type": "stream",
     "text": [
      "(1856047, 22)\n",
      "(1856047,)\n"
     ]
    }
   ],
   "source": [
    "X_train, y_train = train_set.drop(responce_var, axis=1), train_set[responce_var]\n",
    "X_test, y_test = test_set.drop(responce_var, axis=1), test_set[responce_var]\n",
    "\n",
    "print(X_train.shape)\n",
    "print(y_train.shape)"
   ]
  },
  {
   "cell_type": "markdown",
   "metadata": {},
   "source": [
    "Its also worth noting there are no duplicates so thats not something we have to worry about here."
   ]
  },
  {
   "cell_type": "code",
   "execution_count": 17,
   "metadata": {},
   "outputs": [
    {
     "data": {
      "text/plain": [
       "0"
      ]
     },
     "execution_count": 17,
     "metadata": {},
     "output_type": "execute_result"
    }
   ],
   "source": [
    "len(X_train)-len(X_train.drop_duplicates())"
   ]
  },
  {
   "cell_type": "markdown",
   "metadata": {
    "id": "xQWBgyOXls6C"
   },
   "source": [
    "---\n",
    "## 3.2. `annual_inc` & `revol_bal`\n",
    "\n",
    "__`annual_inc`__: _\"The self-reported annual income provided by the borrower during registration.\"_\n",
    "\n",
    "__`revol_bal`__: _\"Total credit revolving balance.\"_\n",
    "\n",
    "I've grouped these two together as they are to do with income and could both benefit from a log transform. This is typical of incomes as they tend to have a large range."
   ]
  },
  {
   "cell_type": "code",
   "execution_count": 18,
   "metadata": {
    "id": "7yhzF2Nnls6C",
    "outputId": "d7f1deb3-3759-43a3-99d9-cf5d1cb23cd4"
   },
   "outputs": [
    {
     "data": {
      "text/html": [
       "<div>\n",
       "<style scoped>\n",
       "    .dataframe tbody tr th:only-of-type {\n",
       "        vertical-align: middle;\n",
       "    }\n",
       "\n",
       "    .dataframe tbody tr th {\n",
       "        vertical-align: top;\n",
       "    }\n",
       "\n",
       "    .dataframe thead th {\n",
       "        text-align: right;\n",
       "    }\n",
       "</style>\n",
       "<table border=\"1\" class=\"dataframe\">\n",
       "  <thead>\n",
       "    <tr style=\"text-align: right;\">\n",
       "      <th></th>\n",
       "      <th>annual_inc</th>\n",
       "      <th>revol_bal</th>\n",
       "    </tr>\n",
       "  </thead>\n",
       "  <tbody>\n",
       "    <tr>\n",
       "      <th>count</th>\n",
       "      <td>1.856047e+06</td>\n",
       "      <td>1.856047e+06</td>\n",
       "    </tr>\n",
       "    <tr>\n",
       "      <th>mean</th>\n",
       "      <td>7.732653e+04</td>\n",
       "      <td>1.628286e+04</td>\n",
       "    </tr>\n",
       "    <tr>\n",
       "      <th>std</th>\n",
       "      <td>1.178990e+05</td>\n",
       "      <td>2.246507e+04</td>\n",
       "    </tr>\n",
       "    <tr>\n",
       "      <th>min</th>\n",
       "      <td>0.000000e+00</td>\n",
       "      <td>0.000000e+00</td>\n",
       "    </tr>\n",
       "    <tr>\n",
       "      <th>25%</th>\n",
       "      <td>4.600000e+04</td>\n",
       "      <td>5.844000e+03</td>\n",
       "    </tr>\n",
       "    <tr>\n",
       "      <th>50%</th>\n",
       "      <td>6.500000e+04</td>\n",
       "      <td>1.107200e+04</td>\n",
       "    </tr>\n",
       "    <tr>\n",
       "      <th>75%</th>\n",
       "      <td>9.200000e+04</td>\n",
       "      <td>1.976700e+04</td>\n",
       "    </tr>\n",
       "    <tr>\n",
       "      <th>max</th>\n",
       "      <td>1.100000e+08</td>\n",
       "      <td>2.904836e+06</td>\n",
       "    </tr>\n",
       "  </tbody>\n",
       "</table>\n",
       "</div>"
      ],
      "text/plain": [
       "         annual_inc     revol_bal\n",
       "count  1.856047e+06  1.856047e+06\n",
       "mean   7.732653e+04  1.628286e+04\n",
       "std    1.178990e+05  2.246507e+04\n",
       "min    0.000000e+00  0.000000e+00\n",
       "25%    4.600000e+04  5.844000e+03\n",
       "50%    6.500000e+04  1.107200e+04\n",
       "75%    9.200000e+04  1.976700e+04\n",
       "max    1.100000e+08  2.904836e+06"
      ]
     },
     "execution_count": 18,
     "metadata": {},
     "output_type": "execute_result"
    }
   ],
   "source": [
    "X_train[['annual_inc', 'revol_bal']].describe()"
   ]
  },
  {
   "cell_type": "markdown",
   "metadata": {},
   "source": [
    "As we can see above, annual income ranges from $\\$0$ to $\\$110,000,000$, with a median of $\\$65,000$. Similarly, revolving balance ranges from $\\$0$ to $\\$2,904,836$, with a median of $\\$11,072$. \n",
    "\n",
    "Like a lot of financial data, this data has a large skew to it which can be observed in a histogram."
   ]
  },
  {
   "cell_type": "code",
   "execution_count": 19,
   "metadata": {},
   "outputs": [
    {
     "data": {
      "image/png": "[encoded data removed]",
      "text/plain": [
       "<Figure size 720x360 with 2 Axes>"
      ]
     },
     "metadata": {},
     "output_type": "display_data"
    }
   ],
   "source": [
    "fig, axes = plt.subplots(figsize=(10,5), nrows=2)\n",
    "\n",
    "for i, data_feat in enumerate(['annual_inc', 'revol_bal']):\n",
    "    sns.histplot(data=X_train, x=data_feat, binwidth=10000, \n",
    "                 ax=axes[i], stat=\"probability\")\n",
    "    \n",
    "\n",
    "axes[0].set_ylim([0, 0.04])    \n",
    "plt.tight_layout()\n",
    "plt.show()"
   ]
  },
  {
   "cell_type": "markdown",
   "metadata": {
    "id": "I4V27OLzls6C"
   },
   "source": [
    "---\n",
    "\n",
    "### 🚩 Exercise 6 (extra)\n",
    "\n",
    "Create/use a pipeline compatible function that applies a log transform."
   ]
  },
  {
   "cell_type": "code",
   "execution_count": 20,
   "metadata": {
    "id": "aTNpna3Gls6D",
    "outputId": "01ac2b03-4e73-4c67-87b3-4c3724ad92e4"
   },
   "outputs": [
    {
     "data": {
      "application/vnd.jupyter.widget-view+json": {
       "model_id": "37d09086f85b418384b69d8050814346",
       "version_major": 2,
       "version_minor": 0
      },
      "text/plain": [
       "Button(description='Reveal solution', style=ButtonStyle())"
      ]
     },
     "metadata": {},
     "output_type": "display_data"
    },
    {
     "data": {
      "application/vnd.jupyter.widget-view+json": {
       "model_id": "701bd4fabe75442e81749f1fd51ab760",
       "version_major": 2,
       "version_minor": 0
      },
      "text/plain": [
       "Output(layout=Layout(border='1px solid green'))"
      ]
     },
     "metadata": {},
     "output_type": "display_data"
    }
   ],
   "source": [
    "%run ../scripts/show_solutions.py 03_ex6"
   ]
  },
  {
   "cell_type": "markdown",
   "metadata": {
    "id": "ibcTwl5Xls6D"
   },
   "source": [
    "---\n",
    "\n",
    "## 3.3. `dti`\n",
    "\n",
    "_\"A ratio calculated using the borrower’s total monthly debt payments on the total debt obligations, excluding mortgage and the requested LC loan, divided by the borrower’s self-reported monthly income.\"_\n",
    "\n",
    "As we look at the dti, we can see that there are some huge outliers."
   ]
  },
  {
   "cell_type": "code",
   "execution_count": 21,
   "metadata": {
    "id": "7EGYeBymls6D",
    "outputId": "c9871e42-0655-4a2a-e093-d9a529947dcc"
   },
   "outputs": [
    {
     "data": {
      "text/plain": [
       "mean     18.566181\n",
       "std      13.087496\n",
       "min      -1.000000\n",
       "25%      11.820000\n",
       "50%      17.710000\n",
       "75%      24.290000\n",
       "max     999.000000\n",
       "Name: dti, dtype: float64"
      ]
     },
     "execution_count": 21,
     "metadata": {},
     "output_type": "execute_result"
    }
   ],
   "source": [
    "X_train['dti'].describe()[1:]"
   ]
  },
  {
   "cell_type": "markdown",
   "metadata": {
    "id": "cEKN80ykls6E"
   },
   "source": [
    "For example, 999 as a maximum is huge compared to the median value. The outliers can also be observed from a boxplot."
   ]
  },
  {
   "cell_type": "code",
   "execution_count": 22,
   "metadata": {
    "id": "eDPLXM93ls6E",
    "outputId": "19c5ad21-ff4f-4b8d-e7eb-ecefc9677651"
   },
   "outputs": [
    {
     "data": {
      "image/png": "[encoded data removed]",
      "text/plain": [
       "<Figure size 720x270 with 1 Axes>"
      ]
     },
     "metadata": {},
     "output_type": "display_data"
    }
   ],
   "source": [
    "plt.figure(figsize=(8,3), dpi=90)\n",
    "sns.boxplot(x = X_train.loc[train_set['dti'].notnull(), 'dti'])\n",
    "plt.show()"
   ]
  },
  {
   "cell_type": "markdown",
   "metadata": {},
   "source": [
    "---\n",
    "\n",
    "### 🚩 Exercise 7 (extra)\n",
    "\n",
    "Create/use a pipeline compatible function that applies a threshold."
   ]
  },
  {
   "cell_type": "code",
   "execution_count": 23,
   "metadata": {},
   "outputs": [
    {
     "data": {
      "application/vnd.jupyter.widget-view+json": {
       "model_id": "2387d2bd47a24fb1b5ba2e59a3a6fb08",
       "version_major": 2,
       "version_minor": 0
      },
      "text/plain": [
       "Button(description='Reveal solution', style=ButtonStyle())"
      ]
     },
     "metadata": {},
     "output_type": "display_data"
    },
    {
     "data": {
      "application/vnd.jupyter.widget-view+json": {
       "model_id": "4a6e702a273e486b9b076f663d101566",
       "version_major": 2,
       "version_minor": 0
      },
      "text/plain": [
       "Output(layout=Layout(border='1px solid green'))"
      ]
     },
     "metadata": {},
     "output_type": "display_data"
    }
   ],
   "source": [
    "%run ../scripts/show_solutions.py 03_ex7"
   ]
  },
  {
   "cell_type": "markdown",
   "metadata": {
    "id": "sBDMr01Cls6F"
   },
   "source": [
    "---\n",
    "\n",
    "## 3.4. `earliest_cr_line`\n",
    "\n",
    "_\"The month the borrower's earliest reported credit line was opened.\"_\n",
    "\n",
    "If we look at the data we can see that we have the credit line for month and year which is not properly formatted yet..."
   ]
  },
  {
   "cell_type": "code",
   "execution_count": 24,
   "metadata": {},
   "outputs": [
    {
     "data": {
      "text/plain": [
       "2894786    Nov-2006\n",
       "2093517    Jul-1999\n",
       "2512197    Nov-1999\n",
       "1549297    Sep-1998\n",
       "1658937    Mar-1993\n",
       "Name: earliest_cr_line, dtype: object"
      ]
     },
     "execution_count": 24,
     "metadata": {},
     "output_type": "execute_result"
    }
   ],
   "source": [
    "X_train['earliest_cr_line'].sample(5)"
   ]
  },
  {
   "cell_type": "markdown",
   "metadata": {},
   "source": [
    "However with all this data we may just want to reduce it down to year..."
   ]
  },
  {
   "cell_type": "markdown",
   "metadata": {},
   "source": [
    "---\n",
    "\n",
    "### 🚩 Exercise 8 (extra)\n",
    "\n",
    "Create a pipeline compatible function to convert the date to a correct datetype and then keep only the year."
   ]
  },
  {
   "cell_type": "code",
   "execution_count": 25,
   "metadata": {
    "id": "cb-kJipOls6G",
    "outputId": "d95bb25a-fe2b-41e0-9c8c-e42ddd7779ca"
   },
   "outputs": [
    {
     "data": {
      "application/vnd.jupyter.widget-view+json": {
       "model_id": "88b6e11608fd464a9be1d042cc3376ed",
       "version_major": 2,
       "version_minor": 0
      },
      "text/plain": [
       "Button(description='Reveal solution', style=ButtonStyle())"
      ]
     },
     "metadata": {},
     "output_type": "display_data"
    },
    {
     "data": {
      "application/vnd.jupyter.widget-view+json": {
       "model_id": "f780ca6078ff4a71baa18797874cc211",
       "version_major": 2,
       "version_minor": 0
      },
      "text/plain": [
       "Output(layout=Layout(border='1px solid green'))"
      ]
     },
     "metadata": {},
     "output_type": "display_data"
    }
   ],
   "source": [
    "%run ../scripts/show_solutions.py 03_ex8"
   ]
  },
  {
   "cell_type": "markdown",
   "metadata": {},
   "source": [
    "---\n",
    "\n",
    "## 3.5. `emp_length`\n",
    "\n",
    "_\"Employment length in years. Possible values are between 0 and 10 where 0 means less than one year and 10 means ten or more years.\"_\n",
    "\n",
    "As we can see, the employment length is represented as a string."
   ]
  },
  {
   "cell_type": "code",
   "execution_count": 26,
   "metadata": {},
   "outputs": [
    {
     "data": {
      "text/plain": [
       "array(['10+ years', '< 1 year', '1 year', '3 years', '8 years', '9 years',\n",
       "       '4 years', '5 years', '6 years', '2 years', '7 years', nan],\n",
       "      dtype=object)"
      ]
     },
     "execution_count": 26,
     "metadata": {},
     "output_type": "execute_result"
    }
   ],
   "source": [
    "X_train.emp_length.unique()"
   ]
  },
  {
   "cell_type": "markdown",
   "metadata": {},
   "source": [
    "---\n",
    "\n",
    "### 🚩 Exercise X (extra)\n",
    "\n",
    "Create a pipeline compatible function to convert the `emp_length` to a numerical value.\n",
    "\n",
    "__Hint__\n",
    "- You can use regex to extract the value.\n",
    "\n",
    "__TODO__\n",
    "- put this in answers and update the numbers"
   ]
  },
  {
   "cell_type": "code",
   "execution_count": 27,
   "metadata": {},
   "outputs": [
    {
     "data": {
      "text/plain": [
       "1582577    10.0\n",
       "263464      1.0\n",
       "584755      7.0\n",
       "1305732     1.0\n",
       "1313591     3.0\n",
       "Name: emp_length, dtype: float64"
      ]
     },
     "metadata": {},
     "output_type": "display_data"
    }
   ],
   "source": [
    "from sklearn.compose import ColumnTransformer\n",
    "from sklearn.preprocessing import FunctionTransformer\n",
    "\n",
    "def emp_len_ext(series):\n",
    "    series = series.str.extract(r\"(\\d+)\")\n",
    "    series = pd.to_numeric(series[0])\n",
    "    return series.values.reshape(-1,1)\n",
    "\n",
    "# just apply this to the `earliest_cr_line` and drop the rest for this demonstration\n",
    "emp_len_ext_ct = ColumnTransformer(\n",
    "    [(\"emp_len_ext\", FunctionTransformer(emp_len_ext), \"emp_length\")], \n",
    "    remainder=\"drop\")\n",
    "\n",
    "X_train_ = pd.DataFrame(emp_len_ext_ct.fit_transform(X_train), columns = [\"emp_length\"])\n",
    "display(X_train_['emp_length'].sample(5))\n"
   ]
  },
  {
   "cell_type": "markdown",
   "metadata": {
    "id": "R1Q5noqzls6G"
   },
   "source": [
    "---\n",
    "## 3.6. `fico_range_high` & `fico_range_low`\n",
    "\n",
    "`fico_range_low`: _The lower boundary range the borrower’s FICO at loan origination belongs to._\n",
    "\n",
    "`fico_range_high`: _The upper boundary range the borrower’s FICO at loan origination belongs to._\n",
    "\n",
    "We can see that `fico_range_low` and `fico_range_high` are perfectly correlated, which is not too surprising as they are both based on an individuals fico score."
   ]
  },
  {
   "cell_type": "code",
   "execution_count": 28,
   "metadata": {
    "id": "Turxjb5Qls6G",
    "outputId": "91a98e1f-0b52-4628-b286-daa22debf827"
   },
   "outputs": [
    {
     "data": {
      "text/html": [
       "<div>\n",
       "<style scoped>\n",
       "    .dataframe tbody tr th:only-of-type {\n",
       "        vertical-align: middle;\n",
       "    }\n",
       "\n",
       "    .dataframe tbody tr th {\n",
       "        vertical-align: top;\n",
       "    }\n",
       "\n",
       "    .dataframe thead th {\n",
       "        text-align: right;\n",
       "    }\n",
       "</style>\n",
       "<table border=\"1\" class=\"dataframe\">\n",
       "  <thead>\n",
       "    <tr style=\"text-align: right;\">\n",
       "      <th></th>\n",
       "      <th>fico_range_high</th>\n",
       "      <th>fico_range_low</th>\n",
       "    </tr>\n",
       "  </thead>\n",
       "  <tbody>\n",
       "    <tr>\n",
       "      <th>fico_range_high</th>\n",
       "      <td>1.0</td>\n",
       "      <td>1.0</td>\n",
       "    </tr>\n",
       "    <tr>\n",
       "      <th>fico_range_low</th>\n",
       "      <td>1.0</td>\n",
       "      <td>1.0</td>\n",
       "    </tr>\n",
       "  </tbody>\n",
       "</table>\n",
       "</div>"
      ],
      "text/plain": [
       "                 fico_range_high  fico_range_low\n",
       "fico_range_high              1.0             1.0\n",
       "fico_range_low               1.0             1.0"
      ]
     },
     "execution_count": 28,
     "metadata": {},
     "output_type": "execute_result"
    }
   ],
   "source": [
    "X_train[[\"fico_range_high\", \"fico_range_low\"]].corr()"
   ]
  },
  {
   "cell_type": "markdown",
   "metadata": {
    "id": "-xV5EPPmls6G"
   },
   "source": [
    "As such, we'll only keep one of them."
   ]
  },
  {
   "cell_type": "code",
   "execution_count": 29,
   "metadata": {
    "id": "tNHEpMp2ls6G"
   },
   "outputs": [],
   "source": [
    "drop_list = [\"fico_range_high\"]"
   ]
  },
  {
   "cell_type": "markdown",
   "metadata": {},
   "source": [
    "---\n",
    "## 3.7. `home_ownership`\n",
    "\n",
    "_\"The home ownership status provided by the borrower during registration or obtained from the credit report. Our values are: RENT, OWN, MORTGAGE, OTHER\"_\n",
    "\n",
    "We can see that there are actually an \"ANY\" and \"NONE\" categories but they are very infrequent. Lets combine them with other.\n",
    "\n",
    "__TODO__\n",
    "- This doesnt seem to gain us much and overcomplicates things with adding a category in there... maybe remove?"
   ]
  },
  {
   "cell_type": "code",
   "execution_count": 30,
   "metadata": {},
   "outputs": [
    {
     "data": {
      "text/plain": [
       "MORTGAGE    49.336\n",
       "RENT        39.543\n",
       "OWN         11.047\n",
       "ANY          0.063\n",
       "OTHER        0.008\n",
       "NONE         0.003\n",
       "Name: home_ownership, dtype: float64"
      ]
     },
     "execution_count": 30,
     "metadata": {},
     "output_type": "execute_result"
    }
   ],
   "source": [
    "(X_train.home_ownership.value_counts(normalize=True)*100).round(3)"
   ]
  },
  {
   "cell_type": "markdown",
   "metadata": {},
   "source": [
    "---\n",
    "\n",
    "### 🚩 Exercise X (extra)\n",
    "\n",
    "Combine `ANY`, `OTHER`, and `NONE` into the `OTHER` category in a pipeline compatible function.\n",
    "\n",
    "__TODO__\n",
    "- Put in answers"
   ]
  },
  {
   "cell_type": "code",
   "execution_count": 31,
   "metadata": {},
   "outputs": [
    {
     "data": {
      "text/plain": [
       "MORTGAGE    49.340\n",
       "RENT        39.546\n",
       "OWN         11.048\n",
       "OTHER        0.066\n",
       "Name: home_ownership, dtype: float64"
      ]
     },
     "execution_count": 31,
     "metadata": {},
     "output_type": "execute_result"
    }
   ],
   "source": [
    "from sklearn.compose import ColumnTransformer\n",
    "from sklearn.preprocessing import FunctionTransformer\n",
    "\n",
    "def change_cat(series):\n",
    "    term_values = {\"MORTGAGE\": \"MORTGAGE\", \"RENT\":\"RENT\", \"OWN\":\"OWN\", 'ANY': \"OTHER\", 'NONE': \"OTHER\"}\n",
    "    series = series.map(term_values)\n",
    "    return series.values.reshape(-1,1)\n",
    "\n",
    "# just apply this to the `earliest_cr_line` and drop the rest for this demonstration\n",
    "change_cat_ct = ColumnTransformer(\n",
    "    [(\"change_cat\", FunctionTransformer(change_cat), \"home_ownership\")], \n",
    "    remainder=\"drop\")\n",
    "\n",
    "X_train_ = pd.DataFrame(change_cat_ct.fit_transform(X_train), columns = [\"home_ownership\"])\n",
    "(X_train_.home_ownership.value_counts(normalize=True)*100).round(3)"
   ]
  },
  {
   "cell_type": "code",
   "execution_count": 90,
   "metadata": {},
   "outputs": [
    {
     "data": {
      "text/html": [
       "<div>\n",
       "<style scoped>\n",
       "    .dataframe tbody tr th:only-of-type {\n",
       "        vertical-align: middle;\n",
       "    }\n",
       "\n",
       "    .dataframe tbody tr th {\n",
       "        vertical-align: top;\n",
       "    }\n",
       "\n",
       "    .dataframe thead th {\n",
       "        text-align: right;\n",
       "    }\n",
       "</style>\n",
       "<table border=\"1\" class=\"dataframe\">\n",
       "  <thead>\n",
       "    <tr style=\"text-align: right;\">\n",
       "      <th></th>\n",
       "      <th>MORTGAGE</th>\n",
       "      <th>RENT</th>\n",
       "      <th>OWN</th>\n",
       "    </tr>\n",
       "  </thead>\n",
       "  <tbody>\n",
       "    <tr>\n",
       "      <th>0</th>\n",
       "      <td>0</td>\n",
       "      <td>0</td>\n",
       "      <td>1</td>\n",
       "    </tr>\n",
       "    <tr>\n",
       "      <th>1</th>\n",
       "      <td>0</td>\n",
       "      <td>0</td>\n",
       "      <td>1</td>\n",
       "    </tr>\n",
       "    <tr>\n",
       "      <th>2</th>\n",
       "      <td>0</td>\n",
       "      <td>0</td>\n",
       "      <td>1</td>\n",
       "    </tr>\n",
       "    <tr>\n",
       "      <th>3</th>\n",
       "      <td>0</td>\n",
       "      <td>0</td>\n",
       "      <td>1</td>\n",
       "    </tr>\n",
       "    <tr>\n",
       "      <th>4</th>\n",
       "      <td>0</td>\n",
       "      <td>0</td>\n",
       "      <td>1</td>\n",
       "    </tr>\n",
       "    <tr>\n",
       "      <th>...</th>\n",
       "      <td>...</td>\n",
       "      <td>...</td>\n",
       "      <td>...</td>\n",
       "    </tr>\n",
       "    <tr>\n",
       "      <th>1856042</th>\n",
       "      <td>0</td>\n",
       "      <td>0</td>\n",
       "      <td>1</td>\n",
       "    </tr>\n",
       "    <tr>\n",
       "      <th>1856043</th>\n",
       "      <td>1</td>\n",
       "      <td>0</td>\n",
       "      <td>0</td>\n",
       "    </tr>\n",
       "    <tr>\n",
       "      <th>1856044</th>\n",
       "      <td>0</td>\n",
       "      <td>0</td>\n",
       "      <td>1</td>\n",
       "    </tr>\n",
       "    <tr>\n",
       "      <th>1856045</th>\n",
       "      <td>0</td>\n",
       "      <td>0</td>\n",
       "      <td>1</td>\n",
       "    </tr>\n",
       "    <tr>\n",
       "      <th>1856046</th>\n",
       "      <td>1</td>\n",
       "      <td>0</td>\n",
       "      <td>0</td>\n",
       "    </tr>\n",
       "  </tbody>\n",
       "</table>\n",
       "<p>1856047 rows × 3 columns</p>\n",
       "</div>"
      ],
      "text/plain": [
       "         MORTGAGE  RENT  OWN\n",
       "0               0     0    1\n",
       "1               0     0    1\n",
       "2               0     0    1\n",
       "3               0     0    1\n",
       "4               0     0    1\n",
       "...           ...   ...  ...\n",
       "1856042         0     0    1\n",
       "1856043         1     0    0\n",
       "1856044         0     0    1\n",
       "1856045         0     0    1\n",
       "1856046         1     0    0\n",
       "\n",
       "[1856047 rows x 3 columns]"
      ]
     },
     "execution_count": 90,
     "metadata": {},
     "output_type": "execute_result"
    }
   ],
   "source": [
    "from sklearn.compose import ColumnTransformer\n",
    "from sklearn.preprocessing import FunctionTransformer\n",
    "\n",
    "def change_cat(series):\n",
    "    term_values = {\"MORTGAGE\": \"MORTGAGE\", \"RENT\":\"RENT\", \"OWN\":\"OWN\", 'OTHER': \"BASELINE\", 'ANY': \"BASELINE\", 'NONE': \"BASELINE\"}\n",
    "    series = series.map(term_values)\n",
    "    series = series.str.get_dummies()\n",
    "    series = series.drop(\"BASELINE\", axis=1)\n",
    "    return series\n",
    "\n",
    "# just apply this to the `earliest_cr_line` and drop the rest for this demonstration\n",
    "change_cat_ct = ColumnTransformer(\n",
    "    [(\"change_cat\", FunctionTransformer(change_cat), \"home_ownership\")], \n",
    "    remainder=\"drop\")\n",
    "\n",
    "X_train_ = pd.DataFrame(change_cat_ct.fit_transform(X_train), columns = [\"MORTGAGE\", \"RENT\", \"OWN\"])\n",
    "#(X_train_.home_ownership.value_counts(normalize=True)*100).round(3)\n",
    "X_train_"
   ]
  },
  {
   "cell_type": "markdown",
   "metadata": {
    "id": "IlyR8YIgls6G"
   },
   "source": [
    "---\n",
    "\n",
    "## 3.6. `installment` and `loan_amnt`\n",
    "\n",
    "`loan_amnt`: _The listed amount of the loan applied for by the borrower. If at some point in time, the credit department reduces the loan amount, then it will be reflected in this value_\n",
    "\n",
    "`installment`: _The monthly payment owed by the borrower if the loan originates._\n",
    "\n",
    "We can see above that `installment` and `loan_amnt` are highly correlated, which is not too surprising as these are directly [linked](https://web.archive.org/web/20201112012252/https://www.lendingclub.com/foliofn/rateDetail.action).\n",
    "\n",
    "> __Rate information__\n",
    ">\n",
    "> Lending Club’s interest rates take into account credit risk and market conditions. The final interest rate for each loan grade is the result of the following equation:\n",
    ">\n",
    "> Lending Club Base Rate + Adjustment for Risk & Volatility\n",
    "> \n",
    "> The Adjustment for Risk & Volatility is designed to cover expected losses and provide higher risk-adjusted returns for each loan grade increment from A1 to G5.\n",
    "> \n",
    "> The loan grade is the result of a formula that takes into account not only credit score, but also a combination of several indicators of credit risk from the credit report and loan application. All loans have either a 36- or 60-month term, with fixed interest rates and equal payments."
   ]
  },
  {
   "cell_type": "code",
   "execution_count": 32,
   "metadata": {
    "id": "IWEPlPxvls6H",
    "outputId": "c4a1fa82-48fd-4e68-face-45354d2ec0b2"
   },
   "outputs": [
    {
     "data": {
      "text/html": [
       "<div>\n",
       "<style scoped>\n",
       "    .dataframe tbody tr th:only-of-type {\n",
       "        vertical-align: middle;\n",
       "    }\n",
       "\n",
       "    .dataframe tbody tr th {\n",
       "        vertical-align: top;\n",
       "    }\n",
       "\n",
       "    .dataframe thead th {\n",
       "        text-align: right;\n",
       "    }\n",
       "</style>\n",
       "<table border=\"1\" class=\"dataframe\">\n",
       "  <thead>\n",
       "    <tr style=\"text-align: right;\">\n",
       "      <th></th>\n",
       "      <th>installment</th>\n",
       "      <th>loan_amnt</th>\n",
       "    </tr>\n",
       "  </thead>\n",
       "  <tbody>\n",
       "    <tr>\n",
       "      <th>installment</th>\n",
       "      <td>1.000000</td>\n",
       "      <td>0.951504</td>\n",
       "    </tr>\n",
       "    <tr>\n",
       "      <th>loan_amnt</th>\n",
       "      <td>0.951504</td>\n",
       "      <td>1.000000</td>\n",
       "    </tr>\n",
       "  </tbody>\n",
       "</table>\n",
       "</div>"
      ],
      "text/plain": [
       "             installment  loan_amnt\n",
       "installment     1.000000   0.951504\n",
       "loan_amnt       0.951504   1.000000"
      ]
     },
     "execution_count": 32,
     "metadata": {},
     "output_type": "execute_result"
    }
   ],
   "source": [
    "X_train[[\"installment\", \"loan_amnt\"]].corr()"
   ]
  },
  {
   "cell_type": "markdown",
   "metadata": {
    "id": "uFjbtqPIls6H"
   },
   "source": [
    "As installment has a nicer distribution, lets just keep that one later."
   ]
  },
  {
   "cell_type": "code",
   "execution_count": 33,
   "metadata": {
    "id": "cGcmjQ-Mls6H",
    "outputId": "e311f6d3-79e0-4c22-d29b-c0298f961930"
   },
   "outputs": [
    {
     "data": {
      "image/png": "[encoded data removed]",
      "text/plain": [
       "<Figure size 864x1440 with 4 Axes>"
      ]
     },
     "metadata": {},
     "output_type": "display_data"
    }
   ],
   "source": [
    "def compare_plot(data, x_label, y_label):\n",
    "    # https://www.kaggle.com/faressayah/lending-club-loan-defaulters-prediction\n",
    "    plt.figure(figsize=(12, 20))\n",
    "\n",
    "    plt.subplot(4, 2, 1)\n",
    "    data[data[\"loan_status\"] == \"Fully Paid\"][x_label].hist(bins=35, color='blue', label='loan_status = Fully Paid', alpha=0.6)\n",
    "    data[data[\"loan_status\"] == \"Charged Off\"][x_label].hist(bins=35, color='red', label='loan_status = Charged Off', alpha=0.6)\n",
    "    plt.legend()\n",
    "    plt.xlabel(x_label)\n",
    "\n",
    "    plt.subplot(4, 2, 2)\n",
    "    data[data[\"loan_status\"] == \"Fully Paid\"][y_label].hist(bins=35, color='blue', label='loan_status = Fully Paid', alpha=0.6)\n",
    "    data[data[\"loan_status\"] == \"Charged Off\"][y_label].hist(bins=35, color='red', label='loan_status = Charged Off', alpha=0.6)\n",
    "    plt.legend()\n",
    "    plt.xlabel(y_label)\n",
    "\n",
    "    plt.subplot(4, 2, 3)\n",
    "    sns.scatterplot(x=x_label, y=y_label, data=data)\n",
    "\n",
    "    plt.subplot(4, 2, 4)\n",
    "    sns.boxplot(x='loan_status', y=y_label, data=data)\n",
    "    plt.show()\n",
    "    \n",
    "compare_plot(train_set, x_label='installment', y_label='loan_amnt')"
   ]
  },
  {
   "cell_type": "code",
   "execution_count": 34,
   "metadata": {
    "id": "XHNidSdXls6H"
   },
   "outputs": [],
   "source": [
    "drop_list.append(\"loan_amnt\")"
   ]
  },
  {
   "cell_type": "markdown",
   "metadata": {
    "id": "xpMkAD7zls6H"
   },
   "source": [
    "---\n",
    "\n",
    "## 3.7. `int_rate` & `revol_util`\n",
    "\n",
    "__int_rate__: _\"Interest Rate on the loan.\"_\n",
    "\n",
    "__revol_util__: _\"Revolving line utilization rate, or the amount of credit the borrower is using relative to all available revolving credit.\"_\n",
    "\n",
    "As we can see below, these values have `%` signs after their numbers which we will need to remove."
   ]
  },
  {
   "cell_type": "code",
   "execution_count": 35,
   "metadata": {
    "id": "04sIAv27ls6H",
    "outputId": "1913f4d6-19f1-4d36-e345-767cd0cea07a"
   },
   "outputs": [
    {
     "data": {
      "text/html": [
       "<div>\n",
       "<style scoped>\n",
       "    .dataframe tbody tr th:only-of-type {\n",
       "        vertical-align: middle;\n",
       "    }\n",
       "\n",
       "    .dataframe tbody tr th {\n",
       "        vertical-align: top;\n",
       "    }\n",
       "\n",
       "    .dataframe thead th {\n",
       "        text-align: right;\n",
       "    }\n",
       "</style>\n",
       "<table border=\"1\" class=\"dataframe\">\n",
       "  <thead>\n",
       "    <tr style=\"text-align: right;\">\n",
       "      <th></th>\n",
       "      <th>int_rate</th>\n",
       "      <th>revol_util</th>\n",
       "    </tr>\n",
       "  </thead>\n",
       "  <tbody>\n",
       "    <tr>\n",
       "      <th>0</th>\n",
       "      <td>10.65%</td>\n",
       "      <td>83.7%</td>\n",
       "    </tr>\n",
       "    <tr>\n",
       "      <th>1</th>\n",
       "      <td>15.27%</td>\n",
       "      <td>9.4%</td>\n",
       "    </tr>\n",
       "    <tr>\n",
       "      <th>2</th>\n",
       "      <td>15.96%</td>\n",
       "      <td>98.5%</td>\n",
       "    </tr>\n",
       "    <tr>\n",
       "      <th>3</th>\n",
       "      <td>13.49%</td>\n",
       "      <td>21%</td>\n",
       "    </tr>\n",
       "    <tr>\n",
       "      <th>4</th>\n",
       "      <td>12.69%</td>\n",
       "      <td>53.9%</td>\n",
       "    </tr>\n",
       "  </tbody>\n",
       "</table>\n",
       "</div>"
      ],
      "text/plain": [
       "  int_rate revol_util\n",
       "0   10.65%      83.7%\n",
       "1   15.27%       9.4%\n",
       "2   15.96%      98.5%\n",
       "3   13.49%        21%\n",
       "4   12.69%      53.9%"
      ]
     },
     "execution_count": 35,
     "metadata": {},
     "output_type": "execute_result"
    }
   ],
   "source": [
    "X_train[['int_rate', 'revol_util']].head()"
   ]
  },
  {
   "cell_type": "markdown",
   "metadata": {},
   "source": [
    "---\n",
    "\n",
    "### 🚩 Exercise 9 (extra)\n",
    "\n",
    "Create a pipeline compatible function to remove the \"%\" from both the `int_rate` and `revol_util` features."
   ]
  },
  {
   "cell_type": "code",
   "execution_count": 36,
   "metadata": {},
   "outputs": [
    {
     "data": {
      "application/vnd.jupyter.widget-view+json": {
       "model_id": "0808c525f60d4c88babda27f60610f60",
       "version_major": 2,
       "version_minor": 0
      },
      "text/plain": [
       "Button(description='Reveal solution', style=ButtonStyle())"
      ]
     },
     "metadata": {},
     "output_type": "display_data"
    },
    {
     "data": {
      "application/vnd.jupyter.widget-view+json": {
       "model_id": "1a070cf842214caf8a3d1ab026b3a2be",
       "version_major": 2,
       "version_minor": 0
      },
      "text/plain": [
       "Output(layout=Layout(border='1px solid green'))"
      ]
     },
     "metadata": {},
     "output_type": "display_data"
    }
   ],
   "source": [
    "%run ../scripts/show_solutions.py 03_ex9"
   ]
  },
  {
   "cell_type": "markdown",
   "metadata": {
    "id": "kSIf9bgOls6I"
   },
   "source": [
    "---\n",
    "\n",
    "## 3.8. `issue_d`\n",
    "\n",
    "This would not be available to the lenders for making a decision (remember we used it for splitting the data), so we'll remember to remove this later."
   ]
  },
  {
   "cell_type": "code",
   "execution_count": 37,
   "metadata": {
    "id": "Q8k7EQ1Ils6I"
   },
   "outputs": [],
   "source": [
    "drop_list.append(\"issue_d\")"
   ]
  },
  {
   "cell_type": "markdown",
   "metadata": {
    "id": "qiV0qtFGls6I"
   },
   "source": [
    "---\n",
    "\n",
    "## 3.9. `mort_acc`\n",
    "\n",
    "_\"Number of mortgage accounts.\"_\n",
    "\n",
    "This feature has alot of NA values."
   ]
  },
  {
   "cell_type": "code",
   "execution_count": 38,
   "metadata": {},
   "outputs": [
    {
     "data": {
      "text/plain": [
       "False    1808766\n",
       "True       47281\n",
       "Name: mort_acc, dtype: int64"
      ]
     },
     "execution_count": 38,
     "metadata": {},
     "output_type": "execute_result"
    }
   ],
   "source": [
    "X_train[\"mort_acc\"].isna().value_counts()"
   ]
  },
  {
   "cell_type": "markdown",
   "metadata": {},
   "source": [
    "We could use a `MeanMedianImputer` to handle this and the other features with NA values. For this value the median would be 1 mortgage which sounds reasonable."
   ]
  },
  {
   "cell_type": "code",
   "execution_count": 39,
   "metadata": {
    "id": "__B3Sk9vls6I",
    "outputId": "982108c2-cdb9-4d5b-9dbf-db2143811a6e"
   },
   "outputs": [
    {
     "data": {
      "text/plain": [
       "mean     1.606192\n",
       "std      1.945021\n",
       "min      0.000000\n",
       "25%      0.000000\n",
       "50%      1.000000\n",
       "75%      3.000000\n",
       "max     61.000000\n",
       "Name: mort_acc, dtype: float64"
      ]
     },
     "execution_count": 39,
     "metadata": {},
     "output_type": "execute_result"
    }
   ],
   "source": [
    "X_train[\"mort_acc\"].describe()[1:]"
   ]
  },
  {
   "cell_type": "markdown",
   "metadata": {
    "id": "wUGC8jRyls6I"
   },
   "source": [
    "---\n",
    "## 3.10. `open_acc` & `total_acc`\n",
    "\n",
    "__open_acc__: _\"The number of open credit lines in the borrower's credit file.\"_\n",
    "\n",
    "__total_acc__: _\"The total number of credit lines currently in the borrower's credit file\"_\n",
    "\n",
    "As you can imagine both are correlated together. We probably only need to keep one..."
   ]
  },
  {
   "cell_type": "code",
   "execution_count": 40,
   "metadata": {
    "id": "JZNLhSMYls6J",
    "outputId": "df25c5f6-5894-4337-e69e-94eebd378885"
   },
   "outputs": [
    {
     "data": {
      "text/html": [
       "<div>\n",
       "<style scoped>\n",
       "    .dataframe tbody tr th:only-of-type {\n",
       "        vertical-align: middle;\n",
       "    }\n",
       "\n",
       "    .dataframe tbody tr th {\n",
       "        vertical-align: top;\n",
       "    }\n",
       "\n",
       "    .dataframe thead th {\n",
       "        text-align: right;\n",
       "    }\n",
       "</style>\n",
       "<table border=\"1\" class=\"dataframe\">\n",
       "  <thead>\n",
       "    <tr style=\"text-align: right;\">\n",
       "      <th></th>\n",
       "      <th>open_acc</th>\n",
       "      <th>total_acc</th>\n",
       "    </tr>\n",
       "  </thead>\n",
       "  <tbody>\n",
       "    <tr>\n",
       "      <th>open_acc</th>\n",
       "      <td>1.000000</td>\n",
       "      <td>0.708795</td>\n",
       "    </tr>\n",
       "    <tr>\n",
       "      <th>total_acc</th>\n",
       "      <td>0.708795</td>\n",
       "      <td>1.000000</td>\n",
       "    </tr>\n",
       "  </tbody>\n",
       "</table>\n",
       "</div>"
      ],
      "text/plain": [
       "           open_acc  total_acc\n",
       "open_acc   1.000000   0.708795\n",
       "total_acc  0.708795   1.000000"
      ]
     },
     "execution_count": 40,
     "metadata": {},
     "output_type": "execute_result"
    }
   ],
   "source": [
    "X_train[[\"open_acc\", \"total_acc\"]].corr()"
   ]
  },
  {
   "cell_type": "code",
   "execution_count": 41,
   "metadata": {
    "id": "vM0RWqmwls6J",
    "outputId": "8f91913d-340a-4c9c-e6b0-b7457c706100"
   },
   "outputs": [
    {
     "data": {
      "image/png": "[encoded data removed]",
      "text/plain": [
       "<Figure size 864x1440 with 4 Axes>"
      ]
     },
     "metadata": {},
     "output_type": "display_data"
    }
   ],
   "source": [
    "compare_plot(train_set, x_label='open_acc', y_label='total_acc')"
   ]
  },
  {
   "cell_type": "code",
   "execution_count": 42,
   "metadata": {
    "id": "DfYzqDkels6J"
   },
   "outputs": [],
   "source": [
    "drop_list.append(\"total_acc\")"
   ]
  },
  {
   "cell_type": "markdown",
   "metadata": {
    "id": "lHIVxm8Lls6J"
   },
   "source": [
    "---\n",
    "## 3.11. `pub_rec` & `pub_rec_bankruptcies`\n",
    "\n",
    "__pub_rec__:_\"Number of derogatory public records\"_\n",
    "\n",
    "__pub_rec_bankruptcies__:_\"Number of public record bankruptcies\"_\n",
    "\n",
    "Both varibles are quite heavily 0 skewed.\n",
    "\n",
    "__TODO__\n",
    "- explain what to do with count data like this again... maybe include with log transform from before? Maybe not..."
   ]
  },
  {
   "cell_type": "code",
   "execution_count": 43,
   "metadata": {
    "id": "YIocIjAbls6J",
    "outputId": "9ca77b64-a0e0-4573-d3fd-1139cbbb3637"
   },
   "outputs": [
    {
     "data": {
      "image/png": "[encoded data removed]",
      "text/plain": [
       "<Figure size 720x360 with 2 Axes>"
      ]
     },
     "metadata": {},
     "output_type": "display_data"
    }
   ],
   "source": [
    "fig, axes = plt.subplots(figsize=(10,5), ncols = 2)\n",
    "\n",
    "X_train['pub_rec'].value_counts().sort_index().plot.bar(ax=axes[0])\n",
    "X_train['pub_rec_bankruptcies'].value_counts().sort_index().plot.bar(ax=axes[1])\n",
    "plt.show()"
   ]
  },
  {
   "cell_type": "code",
   "execution_count": 44,
   "metadata": {
    "id": "QtGKvjexls6K",
    "outputId": "96f3aa5b-e267-4515-9cd0-6945c4c2b887"
   },
   "outputs": [
    {
     "data": {
      "text/html": [
       "<div>\n",
       "<style scoped>\n",
       "    .dataframe tbody tr th:only-of-type {\n",
       "        vertical-align: middle;\n",
       "    }\n",
       "\n",
       "    .dataframe tbody tr th {\n",
       "        vertical-align: top;\n",
       "    }\n",
       "\n",
       "    .dataframe thead th {\n",
       "        text-align: right;\n",
       "    }\n",
       "</style>\n",
       "<table border=\"1\" class=\"dataframe\">\n",
       "  <thead>\n",
       "    <tr style=\"text-align: right;\">\n",
       "      <th></th>\n",
       "      <th>pub_rec</th>\n",
       "      <th>pub_rec_bankruptcies</th>\n",
       "    </tr>\n",
       "  </thead>\n",
       "  <tbody>\n",
       "    <tr>\n",
       "      <th>882378</th>\n",
       "      <td>0.000000</td>\n",
       "      <td>0.000000</td>\n",
       "    </tr>\n",
       "    <tr>\n",
       "      <th>1667173</th>\n",
       "      <td>0.693147</td>\n",
       "      <td>0.000000</td>\n",
       "    </tr>\n",
       "    <tr>\n",
       "      <th>885617</th>\n",
       "      <td>0.000000</td>\n",
       "      <td>0.000000</td>\n",
       "    </tr>\n",
       "    <tr>\n",
       "      <th>1116000</th>\n",
       "      <td>0.693147</td>\n",
       "      <td>0.693147</td>\n",
       "    </tr>\n",
       "    <tr>\n",
       "      <th>197184</th>\n",
       "      <td>0.000000</td>\n",
       "      <td>0.000000</td>\n",
       "    </tr>\n",
       "  </tbody>\n",
       "</table>\n",
       "</div>"
      ],
      "text/plain": [
       "          pub_rec  pub_rec_bankruptcies\n",
       "882378   0.000000              0.000000\n",
       "1667173  0.693147              0.000000\n",
       "885617   0.000000              0.000000\n",
       "1116000  0.693147              0.693147\n",
       "197184   0.000000              0.000000"
      ]
     },
     "execution_count": 44,
     "metadata": {},
     "output_type": "execute_result"
    }
   ],
   "source": [
    "# just apply this to ['annual_inc', 'revol_bal'] and drop the rest for this demonstration\n",
    "from sklearn.compose import ColumnTransformer\n",
    "from sklearn.preprocessing import FunctionTransformer\n",
    "log_tf = ColumnTransformer(\n",
    "    [(\"log_tf\", FunctionTransformer(np.log1p), ['pub_rec', 'pub_rec_bankruptcies'])], \n",
    "    remainder=\"drop\")\n",
    "\n",
    "X_train_ = pd.DataFrame(log_tf.fit_transform(X_train), columns = ['pub_rec', 'pub_rec_bankruptcies'])\n",
    "X_train_[['pub_rec', 'pub_rec_bankruptcies']].sample(5)"
   ]
  },
  {
   "cell_type": "code",
   "execution_count": 45,
   "metadata": {
    "id": "Qkc5jYzBls6K",
    "outputId": "b645c6d7-ac5a-40ea-a266-ef48048f090a"
   },
   "outputs": [
    {
     "data": {
      "image/png": "[encoded data removed]",
      "text/plain": [
       "<Figure size 720x360 with 4 Axes>"
      ]
     },
     "metadata": {},
     "output_type": "display_data"
    }
   ],
   "source": [
    "fig, axes = plt.subplots(figsize=(10,5), ncols=2, nrows=2)\n",
    "\n",
    "for i, data in enumerate([X_train, X_train_]):\n",
    "    data['pub_rec'].plot.hist(bins=50, ax=axes[0, i])\n",
    "    data['pub_rec_bankruptcies'].plot.hist(bins=50, ax=axes[1, i])\n",
    "    \n",
    "axes[0, 0].set_title('pub_rec (raw)')\n",
    "axes[1, 0].set_title('pub_rec_bankruptcies (raw)')\n",
    "axes[0, 1].set_title('pub_rec (log)')\n",
    "axes[1, 1].set_title('pub_rec_bankruptcies (log)')\n",
    "\n",
    "plt.tight_layout()\n",
    "plt.show()"
   ]
  },
  {
   "cell_type": "markdown",
   "metadata": {
    "id": "9v3vVcX7ls6K"
   },
   "source": [
    "---\n",
    "## 3.12. `Term`\n",
    "\n",
    "This variable is currently a string."
   ]
  },
  {
   "cell_type": "code",
   "execution_count": 46,
   "metadata": {
    "id": "kLNW6iIVls6K",
    "outputId": "8a0634b6-b330-416d-c1d0-601cfe5f1d8c"
   },
   "outputs": [
    {
     "data": {
      "text/html": [
       "<div>\n",
       "<style scoped>\n",
       "    .dataframe tbody tr th:only-of-type {\n",
       "        vertical-align: middle;\n",
       "    }\n",
       "\n",
       "    .dataframe tbody tr th {\n",
       "        vertical-align: top;\n",
       "    }\n",
       "\n",
       "    .dataframe thead th {\n",
       "        text-align: right;\n",
       "    }\n",
       "</style>\n",
       "<table border=\"1\" class=\"dataframe\">\n",
       "  <thead>\n",
       "    <tr style=\"text-align: right;\">\n",
       "      <th></th>\n",
       "      <th>term</th>\n",
       "    </tr>\n",
       "  </thead>\n",
       "  <tbody>\n",
       "    <tr>\n",
       "      <th>0</th>\n",
       "      <td>36 months</td>\n",
       "    </tr>\n",
       "    <tr>\n",
       "      <th>1</th>\n",
       "      <td>60 months</td>\n",
       "    </tr>\n",
       "    <tr>\n",
       "      <th>2</th>\n",
       "      <td>36 months</td>\n",
       "    </tr>\n",
       "    <tr>\n",
       "      <th>3</th>\n",
       "      <td>36 months</td>\n",
       "    </tr>\n",
       "    <tr>\n",
       "      <th>4</th>\n",
       "      <td>60 months</td>\n",
       "    </tr>\n",
       "  </tbody>\n",
       "</table>\n",
       "</div>"
      ],
      "text/plain": [
       "         term\n",
       "0   36 months\n",
       "1   60 months\n",
       "2   36 months\n",
       "3   36 months\n",
       "4   60 months"
      ]
     },
     "execution_count": 46,
     "metadata": {},
     "output_type": "execute_result"
    }
   ],
   "source": [
    "X_train[['term']].head()"
   ]
  },
  {
   "cell_type": "markdown",
   "metadata": {
    "id": "oH_Gx-zKls6K"
   },
   "source": [
    "---\n",
    "\n",
    "### 🚩 Exercise 10 (extra)\n",
    "\n",
    "Create a pipeline compatible function to remove the string \"months\" from the `Term` feature."
   ]
  },
  {
   "cell_type": "code",
   "execution_count": 47,
   "metadata": {},
   "outputs": [
    {
     "data": {
      "application/vnd.jupyter.widget-view+json": {
       "model_id": "52224803e6f7420d8b1eb7399bfbcf94",
       "version_major": 2,
       "version_minor": 0
      },
      "text/plain": [
       "Button(description='Reveal solution', style=ButtonStyle())"
      ]
     },
     "metadata": {},
     "output_type": "display_data"
    },
    {
     "data": {
      "application/vnd.jupyter.widget-view+json": {
       "model_id": "6fa6ec484da74f37b2c22ebc7d00b944",
       "version_major": 2,
       "version_minor": 0
      },
      "text/plain": [
       "Output(layout=Layout(border='1px solid green'))"
      ]
     },
     "metadata": {},
     "output_type": "display_data"
    }
   ],
   "source": [
    "%run ../scripts/show_solutions.py 03_ex10"
   ]
  },
  {
   "cell_type": "markdown",
   "metadata": {},
   "source": [
    "---\n",
    "\n",
    "## 3.13. Normalisation\n",
    "\n",
    "The last thing we should do is normalise our data. Plenty of methods will work better if our features are all on a similar scale. In this case we'll just use a `MinMaxScaler`."
   ]
  },
  {
   "cell_type": "markdown",
   "metadata": {
    "id": "E6XMQLOtls6K"
   },
   "source": [
    "## 3.14. Feature Pre-processing Pipeline\n",
    "\n",
    "Lets bring all that together into one pipeline object."
   ]
  },
  {
   "cell_type": "code",
   "execution_count": 48,
   "metadata": {},
   "outputs": [
    {
     "data": {
      "text/plain": [
       "Index(['annual_inc', 'dti', 'earliest_cr_line', 'emp_length',\n",
       "       'fico_range_high', 'fico_range_low', 'home_ownership', 'installment',\n",
       "       'int_rate', 'issue_d', 'loan_amnt', 'mort_acc', 'num_bc_tl',\n",
       "       'num_tl_90g_dpd_24m', 'open_acc', 'pub_rec', 'pub_rec_bankruptcies',\n",
       "       'revol_bal', 'revol_util', 'term', 'total_acc', 'zip_code'],\n",
       "      dtype='object')"
      ]
     },
     "execution_count": 48,
     "metadata": {},
     "output_type": "execute_result"
    }
   ],
   "source": [
    "X_train.columns"
   ]
  },
  {
   "cell_type": "code",
   "execution_count": 49,
   "metadata": {},
   "outputs": [],
   "source": [
    "X_train_pre = X_train.copy()"
   ]
  },
  {
   "cell_type": "code",
   "execution_count": 50,
   "metadata": {},
   "outputs": [
    {
     "data": {
      "text/plain": [
       "Index(['annual_inc', 'dti', 'earliest_cr_line', 'fico_range_high',\n",
       "       'fico_range_low', 'installment', 'int_rate', 'loan_amnt', 'mort_acc',\n",
       "       'open_acc', 'pub_rec', 'pub_rec_bankruptcies', 'revol_bal',\n",
       "       'revol_util', 'term', 'total_acc', 'issue_d', 'emp_length',\n",
       "       'home_ownership'],\n",
       "      dtype='object')"
      ]
     },
     "execution_count": 50,
     "metadata": {},
     "output_type": "execute_result"
    }
   ],
   "source": [
    "# while testing slowly introduce new feats\n",
    "less_feats = ['annual_inc', 'dti', 'earliest_cr_line', 'fico_range_high',\n",
    "            'fico_range_low', 'installment', 'int_rate', 'loan_amnt',\n",
    "           'mort_acc', 'open_acc', 'pub_rec', 'pub_rec_bankruptcies',\n",
    "               'revol_bal', 'revol_util', 'term', 'total_acc', 'issue_d', \"emp_length\", 'home_ownership']\n",
    "\n",
    "X_train = X_train_pre[less_feats]\n",
    "\n",
    "X_train.columns"
   ]
  },
  {
   "cell_type": "markdown",
   "metadata": {},
   "source": [
    "__NOTE TO SELF__\n",
    "- Having `change_home_cats` complicates things a little as you need to use a `ColumnTransformer` on the imputation which then means an extra `DfTransformer`. Maybe want to remove as it doesnt seem to help much?"
   ]
  },
  {
   "cell_type": "code",
   "execution_count": 108,
   "metadata": {},
   "outputs": [
    {
     "data": {
      "text/html": [
       "<style>#sk-8a3ab228-ef40-4e77-90ae-2f4e62bd7cf8 {color: black;background-color: white;}#sk-8a3ab228-ef40-4e77-90ae-2f4e62bd7cf8 pre{padding: 0;}#sk-8a3ab228-ef40-4e77-90ae-2f4e62bd7cf8 div.sk-toggleable {background-color: white;}#sk-8a3ab228-ef40-4e77-90ae-2f4e62bd7cf8 label.sk-toggleable__label {cursor: pointer;display: block;width: 100%;margin-bottom: 0;padding: 0.3em;box-sizing: border-box;text-align: center;}#sk-8a3ab228-ef40-4e77-90ae-2f4e62bd7cf8 label.sk-toggleable__label-arrow:before {content: \"▸\";float: left;margin-right: 0.25em;color: #696969;}#sk-8a3ab228-ef40-4e77-90ae-2f4e62bd7cf8 label.sk-toggleable__label-arrow:hover:before {color: black;}#sk-8a3ab228-ef40-4e77-90ae-2f4e62bd7cf8 div.sk-estimator:hover label.sk-toggleable__label-arrow:before {color: black;}#sk-8a3ab228-ef40-4e77-90ae-2f4e62bd7cf8 div.sk-toggleable__content {max-height: 0;max-width: 0;overflow: hidden;text-align: left;background-color: #f0f8ff;}#sk-8a3ab228-ef40-4e77-90ae-2f4e62bd7cf8 div.sk-toggleable__content pre {margin: 0.2em;color: black;border-radius: 0.25em;background-color: #f0f8ff;}#sk-8a3ab228-ef40-4e77-90ae-2f4e62bd7cf8 input.sk-toggleable__control:checked~div.sk-toggleable__content {max-height: 200px;max-width: 100%;overflow: auto;}#sk-8a3ab228-ef40-4e77-90ae-2f4e62bd7cf8 input.sk-toggleable__control:checked~label.sk-toggleable__label-arrow:before {content: \"▾\";}#sk-8a3ab228-ef40-4e77-90ae-2f4e62bd7cf8 div.sk-estimator input.sk-toggleable__control:checked~label.sk-toggleable__label {background-color: #d4ebff;}#sk-8a3ab228-ef40-4e77-90ae-2f4e62bd7cf8 div.sk-label input.sk-toggleable__control:checked~label.sk-toggleable__label {background-color: #d4ebff;}#sk-8a3ab228-ef40-4e77-90ae-2f4e62bd7cf8 input.sk-hidden--visually {border: 0;clip: rect(1px 1px 1px 1px);clip: rect(1px, 1px, 1px, 1px);height: 1px;margin: -1px;overflow: hidden;padding: 0;position: absolute;width: 1px;}#sk-8a3ab228-ef40-4e77-90ae-2f4e62bd7cf8 div.sk-estimator {font-family: monospace;background-color: #f0f8ff;border: 1px dotted black;border-radius: 0.25em;box-sizing: border-box;margin-bottom: 0.5em;}#sk-8a3ab228-ef40-4e77-90ae-2f4e62bd7cf8 div.sk-estimator:hover {background-color: #d4ebff;}#sk-8a3ab228-ef40-4e77-90ae-2f4e62bd7cf8 div.sk-parallel-item::after {content: \"\";width: 100%;border-bottom: 1px solid gray;flex-grow: 1;}#sk-8a3ab228-ef40-4e77-90ae-2f4e62bd7cf8 div.sk-label:hover label.sk-toggleable__label {background-color: #d4ebff;}#sk-8a3ab228-ef40-4e77-90ae-2f4e62bd7cf8 div.sk-serial::before {content: \"\";position: absolute;border-left: 1px solid gray;box-sizing: border-box;top: 2em;bottom: 0;left: 50%;}#sk-8a3ab228-ef40-4e77-90ae-2f4e62bd7cf8 div.sk-serial {display: flex;flex-direction: column;align-items: center;background-color: white;padding-right: 0.2em;padding-left: 0.2em;}#sk-8a3ab228-ef40-4e77-90ae-2f4e62bd7cf8 div.sk-item {z-index: 1;}#sk-8a3ab228-ef40-4e77-90ae-2f4e62bd7cf8 div.sk-parallel {display: flex;align-items: stretch;justify-content: center;background-color: white;}#sk-8a3ab228-ef40-4e77-90ae-2f4e62bd7cf8 div.sk-parallel::before {content: \"\";position: absolute;border-left: 1px solid gray;box-sizing: border-box;top: 2em;bottom: 0;left: 50%;}#sk-8a3ab228-ef40-4e77-90ae-2f4e62bd7cf8 div.sk-parallel-item {display: flex;flex-direction: column;position: relative;background-color: white;}#sk-8a3ab228-ef40-4e77-90ae-2f4e62bd7cf8 div.sk-parallel-item:first-child::after {align-self: flex-end;width: 50%;}#sk-8a3ab228-ef40-4e77-90ae-2f4e62bd7cf8 div.sk-parallel-item:last-child::after {align-self: flex-start;width: 50%;}#sk-8a3ab228-ef40-4e77-90ae-2f4e62bd7cf8 div.sk-parallel-item:only-child::after {width: 0;}#sk-8a3ab228-ef40-4e77-90ae-2f4e62bd7cf8 div.sk-dashed-wrapped {border: 1px dashed gray;margin: 0 0.4em 0.5em 0.4em;box-sizing: border-box;padding-bottom: 0.4em;background-color: white;position: relative;}#sk-8a3ab228-ef40-4e77-90ae-2f4e62bd7cf8 div.sk-label label {font-family: monospace;font-weight: bold;background-color: white;display: inline-block;line-height: 1.2em;}#sk-8a3ab228-ef40-4e77-90ae-2f4e62bd7cf8 div.sk-label-container {position: relative;z-index: 2;text-align: center;}#sk-8a3ab228-ef40-4e77-90ae-2f4e62bd7cf8 div.sk-container {/* jupyter's `normalize.less` sets `[hidden] { display: none; }` but bootstrap.min.css set `[hidden] { display: none !important; }` so we also need the `!important` here to be able to override the default hidden behavior on the sphinx rendered scikit-learn.org. See: https://github.com/scikit-learn/scikit-learn/issues/21755 */display: inline-block !important;position: relative;}#sk-8a3ab228-ef40-4e77-90ae-2f4e62bd7cf8 div.sk-text-repr-fallback {display: none;}</style><div id=\"sk-8a3ab228-ef40-4e77-90ae-2f4e62bd7cf8\" class=\"sk-top-container\"><div class=\"sk-text-repr-fallback\"><pre>Pipeline(steps=[(&#x27;feature_transformation&#x27;,\n",
       "                 ColumnTransformer(transformers=[(&#x27;passthrough&#x27;, &#x27;passthrough&#x27;,\n",
       "                                                  [&#x27;dti&#x27;, &#x27;open_acc&#x27;, &#x27;pub_rec&#x27;,\n",
       "                                                   &#x27;pub_rec_bankruptcies&#x27;]),\n",
       "                                                 (&#x27;drop&#x27;, &#x27;drop&#x27;,\n",
       "                                                  [&#x27;fico_range_high&#x27;,\n",
       "                                                   &#x27;loan_amnt&#x27;, &#x27;issue_d&#x27;,\n",
       "                                                   &#x27;total_acc&#x27;]),\n",
       "                                                 (&#x27;log_tf&#x27;,\n",
       "                                                  FunctionTransformer(func=&lt;ufunc &#x27;log1p&#x27;&gt;),\n",
       "                                                  [&#x27;annual_inc&#x27;, &#x27;revol_bal&#x27;]),\n",
       "                                                 (&#x27;remove_employment_str&#x27;,\n",
       "                                                  FunctionTransformer(...\n",
       "                                                               &#x27;revol_bal&#x27;,\n",
       "                                                               &#x27;emp_length&#x27;,\n",
       "                                                               &#x27;earliest_cr_line&#x27;,\n",
       "                                                               &#x27;int_rate&#x27;,\n",
       "                                                               &#x27;revol_util&#x27;,\n",
       "                                                               &#x27;term&#x27;]})),\n",
       "                (&#x27;outlier&#x27;,\n",
       "                 ArbitraryOutlierCapper(max_capping_dict={&#x27;dti&#x27;: 42})),\n",
       "                (&#x27;normalization&#x27;,\n",
       "                 ColumnTransformer(remainder=&#x27;passthrough&#x27;,\n",
       "                                   transformers=[(&#x27;scale&#x27;, StandardScaler(),\n",
       "                                                  [&#x27;dti&#x27;, &#x27;annual_inc&#x27;,\n",
       "                                                   &#x27;revol_bal&#x27;, &#x27;revol_util&#x27;,\n",
       "                                                   &#x27;int_rate&#x27;, &#x27;open_acc&#x27;,\n",
       "                                                   &#x27;pub_rec&#x27;,\n",
       "                                                   &#x27;pub_rec_bankruptcies&#x27;,\n",
       "                                                   &#x27;emp_length&#x27;])]))])</pre><b>Please rerun this cell to show the HTML repr or trust the notebook.</b></div><div class=\"sk-container\" hidden><div class=\"sk-item sk-dashed-wrapped\"><div class=\"sk-label-container\"><div class=\"sk-label sk-toggleable\"><input class=\"sk-toggleable__control sk-hidden--visually\" id=\"69c3860c-45f2-49e1-a01c-1d4b3513f979\" type=\"checkbox\" ><label for=\"69c3860c-45f2-49e1-a01c-1d4b3513f979\" class=\"sk-toggleable__label sk-toggleable__label-arrow\">Pipeline</label><div class=\"sk-toggleable__content\"><pre>Pipeline(steps=[(&#x27;feature_transformation&#x27;,\n",
       "                 ColumnTransformer(transformers=[(&#x27;passthrough&#x27;, &#x27;passthrough&#x27;,\n",
       "                                                  [&#x27;dti&#x27;, &#x27;open_acc&#x27;, &#x27;pub_rec&#x27;,\n",
       "                                                   &#x27;pub_rec_bankruptcies&#x27;]),\n",
       "                                                 (&#x27;drop&#x27;, &#x27;drop&#x27;,\n",
       "                                                  [&#x27;fico_range_high&#x27;,\n",
       "                                                   &#x27;loan_amnt&#x27;, &#x27;issue_d&#x27;,\n",
       "                                                   &#x27;total_acc&#x27;]),\n",
       "                                                 (&#x27;log_tf&#x27;,\n",
       "                                                  FunctionTransformer(func=&lt;ufunc &#x27;log1p&#x27;&gt;),\n",
       "                                                  [&#x27;annual_inc&#x27;, &#x27;revol_bal&#x27;]),\n",
       "                                                 (&#x27;remove_employment_str&#x27;,\n",
       "                                                  FunctionTransformer(...\n",
       "                                                               &#x27;revol_bal&#x27;,\n",
       "                                                               &#x27;emp_length&#x27;,\n",
       "                                                               &#x27;earliest_cr_line&#x27;,\n",
       "                                                               &#x27;int_rate&#x27;,\n",
       "                                                               &#x27;revol_util&#x27;,\n",
       "                                                               &#x27;term&#x27;]})),\n",
       "                (&#x27;outlier&#x27;,\n",
       "                 ArbitraryOutlierCapper(max_capping_dict={&#x27;dti&#x27;: 42})),\n",
       "                (&#x27;normalization&#x27;,\n",
       "                 ColumnTransformer(remainder=&#x27;passthrough&#x27;,\n",
       "                                   transformers=[(&#x27;scale&#x27;, StandardScaler(),\n",
       "                                                  [&#x27;dti&#x27;, &#x27;annual_inc&#x27;,\n",
       "                                                   &#x27;revol_bal&#x27;, &#x27;revol_util&#x27;,\n",
       "                                                   &#x27;int_rate&#x27;, &#x27;open_acc&#x27;,\n",
       "                                                   &#x27;pub_rec&#x27;,\n",
       "                                                   &#x27;pub_rec_bankruptcies&#x27;,\n",
       "                                                   &#x27;emp_length&#x27;])]))])</pre></div></div></div><div class=\"sk-serial\"><div class=\"sk-item sk-dashed-wrapped\"><div class=\"sk-label-container\"><div class=\"sk-label sk-toggleable\"><input class=\"sk-toggleable__control sk-hidden--visually\" id=\"d635c878-4346-4114-855b-b4f6075c6d7e\" type=\"checkbox\" ><label for=\"d635c878-4346-4114-855b-b4f6075c6d7e\" class=\"sk-toggleable__label sk-toggleable__label-arrow\">feature_transformation: ColumnTransformer</label><div class=\"sk-toggleable__content\"><pre>ColumnTransformer(transformers=[(&#x27;passthrough&#x27;, &#x27;passthrough&#x27;,\n",
       "                                 [&#x27;dti&#x27;, &#x27;open_acc&#x27;, &#x27;pub_rec&#x27;,\n",
       "                                  &#x27;pub_rec_bankruptcies&#x27;]),\n",
       "                                (&#x27;drop&#x27;, &#x27;drop&#x27;,\n",
       "                                 [&#x27;fico_range_high&#x27;, &#x27;loan_amnt&#x27;, &#x27;issue_d&#x27;,\n",
       "                                  &#x27;total_acc&#x27;]),\n",
       "                                (&#x27;log_tf&#x27;,\n",
       "                                 FunctionTransformer(func=&lt;ufunc &#x27;log1p&#x27;&gt;),\n",
       "                                 [&#x27;annual_inc&#x27;, &#x27;revol_bal&#x27;]),\n",
       "                                (&#x27;remove_employment_str&#x27;,\n",
       "                                 FunctionTransformer(func=&lt;function emp_len_ext at 0x0000024A98290...\n",
       "                                 FunctionTransformer(func=&lt;function change_cat at 0x0000024A041DA4C0&gt;),\n",
       "                                 &#x27;home_ownership&#x27;),\n",
       "                                (&#x27;remove_month&#x27;,\n",
       "                                 FunctionTransformer(func=&lt;function to_year at 0x0000024A98290AF0&gt;),\n",
       "                                 &#x27;earliest_cr_line&#x27;),\n",
       "                                (&#x27;remove_percent&#x27;,\n",
       "                                 FunctionTransformer(func=&lt;function rm_perc at 0x0000024A98290B80&gt;),\n",
       "                                 [&#x27;int_rate&#x27;, &#x27;revol_util&#x27;]),\n",
       "                                (&#x27;remove_str&#x27;,\n",
       "                                 FunctionTransformer(func=&lt;function rem_str at 0x0000024A98290C10&gt;),\n",
       "                                 &#x27;term&#x27;)])</pre></div></div></div><div class=\"sk-parallel\"><div class=\"sk-parallel-item\"><div class=\"sk-item\"><div class=\"sk-label-container\"><div class=\"sk-label sk-toggleable\"><input class=\"sk-toggleable__control sk-hidden--visually\" id=\"974a51c6-4ee2-4eef-94fd-b361ad3afaef\" type=\"checkbox\" ><label for=\"974a51c6-4ee2-4eef-94fd-b361ad3afaef\" class=\"sk-toggleable__label sk-toggleable__label-arrow\">passthrough</label><div class=\"sk-toggleable__content\"><pre>[&#x27;dti&#x27;, &#x27;open_acc&#x27;, &#x27;pub_rec&#x27;, &#x27;pub_rec_bankruptcies&#x27;]</pre></div></div></div><div class=\"sk-serial\"><div class=\"sk-item\"><div class=\"sk-estimator sk-toggleable\"><input class=\"sk-toggleable__control sk-hidden--visually\" id=\"09209311-59aa-4d7f-a594-db238df297b5\" type=\"checkbox\" ><label for=\"09209311-59aa-4d7f-a594-db238df297b5\" class=\"sk-toggleable__label sk-toggleable__label-arrow\">passthrough</label><div class=\"sk-toggleable__content\"><pre>passthrough</pre></div></div></div></div></div></div><div class=\"sk-parallel-item\"><div class=\"sk-item\"><div class=\"sk-label-container\"><div class=\"sk-label sk-toggleable\"><input class=\"sk-toggleable__control sk-hidden--visually\" id=\"bcba9e37-2f11-4ede-b36b-f2e9a7968142\" type=\"checkbox\" ><label for=\"bcba9e37-2f11-4ede-b36b-f2e9a7968142\" class=\"sk-toggleable__label sk-toggleable__label-arrow\">drop</label><div class=\"sk-toggleable__content\"><pre>[&#x27;fico_range_high&#x27;, &#x27;loan_amnt&#x27;, &#x27;issue_d&#x27;, &#x27;total_acc&#x27;]</pre></div></div></div><div class=\"sk-serial\"><div class=\"sk-item\"><div class=\"sk-estimator sk-toggleable\"><input class=\"sk-toggleable__control sk-hidden--visually\" id=\"86883689-4d1b-4d70-ad0e-2e8b9b7ab8e6\" type=\"checkbox\" ><label for=\"86883689-4d1b-4d70-ad0e-2e8b9b7ab8e6\" class=\"sk-toggleable__label sk-toggleable__label-arrow\">drop</label><div class=\"sk-toggleable__content\"><pre>drop</pre></div></div></div></div></div></div><div class=\"sk-parallel-item\"><div class=\"sk-item\"><div class=\"sk-label-container\"><div class=\"sk-label sk-toggleable\"><input class=\"sk-toggleable__control sk-hidden--visually\" id=\"d2f38cde-5f1b-4e84-a391-84ba7061df6d\" type=\"checkbox\" ><label for=\"d2f38cde-5f1b-4e84-a391-84ba7061df6d\" class=\"sk-toggleable__label sk-toggleable__label-arrow\">log_tf</label><div class=\"sk-toggleable__content\"><pre>[&#x27;annual_inc&#x27;, &#x27;revol_bal&#x27;]</pre></div></div></div><div class=\"sk-serial\"><div class=\"sk-item\"><div class=\"sk-estimator sk-toggleable\"><input class=\"sk-toggleable__control sk-hidden--visually\" id=\"fce99f4d-7971-4e6f-a5c8-98bf62ea958d\" type=\"checkbox\" ><label for=\"fce99f4d-7971-4e6f-a5c8-98bf62ea958d\" class=\"sk-toggleable__label sk-toggleable__label-arrow\">FunctionTransformer</label><div class=\"sk-toggleable__content\"><pre>FunctionTransformer(func=&lt;ufunc &#x27;log1p&#x27;&gt;)</pre></div></div></div></div></div></div><div class=\"sk-parallel-item\"><div class=\"sk-item\"><div class=\"sk-label-container\"><div class=\"sk-label sk-toggleable\"><input class=\"sk-toggleable__control sk-hidden--visually\" id=\"ec7ff0f6-1e49-4eec-b1b6-763441aca0d9\" type=\"checkbox\" ><label for=\"ec7ff0f6-1e49-4eec-b1b6-763441aca0d9\" class=\"sk-toggleable__label sk-toggleable__label-arrow\">remove_employment_str</label><div class=\"sk-toggleable__content\"><pre>emp_length</pre></div></div></div><div class=\"sk-serial\"><div class=\"sk-item\"><div class=\"sk-estimator sk-toggleable\"><input class=\"sk-toggleable__control sk-hidden--visually\" id=\"8aa14c43-cafc-45ae-90ff-4326c58d8482\" type=\"checkbox\" ><label for=\"8aa14c43-cafc-45ae-90ff-4326c58d8482\" class=\"sk-toggleable__label sk-toggleable__label-arrow\">FunctionTransformer</label><div class=\"sk-toggleable__content\"><pre>FunctionTransformer(func=&lt;function emp_len_ext at 0x0000024A98290CA0&gt;)</pre></div></div></div></div></div></div><div class=\"sk-parallel-item\"><div class=\"sk-item\"><div class=\"sk-label-container\"><div class=\"sk-label sk-toggleable\"><input class=\"sk-toggleable__control sk-hidden--visually\" id=\"753e73f6-fee2-4442-b88f-7da272b0e7db\" type=\"checkbox\" ><label for=\"753e73f6-fee2-4442-b88f-7da272b0e7db\" class=\"sk-toggleable__label sk-toggleable__label-arrow\">change_home_cats</label><div class=\"sk-toggleable__content\"><pre>home_ownership</pre></div></div></div><div class=\"sk-serial\"><div class=\"sk-item\"><div class=\"sk-estimator sk-toggleable\"><input class=\"sk-toggleable__control sk-hidden--visually\" id=\"1061ea70-54c9-4570-94a9-a267e9798033\" type=\"checkbox\" ><label for=\"1061ea70-54c9-4570-94a9-a267e9798033\" class=\"sk-toggleable__label sk-toggleable__label-arrow\">FunctionTransformer</label><div class=\"sk-toggleable__content\"><pre>FunctionTransformer(func=&lt;function change_cat at 0x0000024A041DA4C0&gt;)</pre></div></div></div></div></div></div><div class=\"sk-parallel-item\"><div class=\"sk-item\"><div class=\"sk-label-container\"><div class=\"sk-label sk-toggleable\"><input class=\"sk-toggleable__control sk-hidden--visually\" id=\"67ff2c9c-915e-4239-a775-e0fa93a54bf4\" type=\"checkbox\" ><label for=\"67ff2c9c-915e-4239-a775-e0fa93a54bf4\" class=\"sk-toggleable__label sk-toggleable__label-arrow\">remove_month</label><div class=\"sk-toggleable__content\"><pre>earliest_cr_line</pre></div></div></div><div class=\"sk-serial\"><div class=\"sk-item\"><div class=\"sk-estimator sk-toggleable\"><input class=\"sk-toggleable__control sk-hidden--visually\" id=\"dbb6c05c-1cd4-43ae-81d9-67a19f3484be\" type=\"checkbox\" ><label for=\"dbb6c05c-1cd4-43ae-81d9-67a19f3484be\" class=\"sk-toggleable__label sk-toggleable__label-arrow\">FunctionTransformer</label><div class=\"sk-toggleable__content\"><pre>FunctionTransformer(func=&lt;function to_year at 0x0000024A98290AF0&gt;)</pre></div></div></div></div></div></div><div class=\"sk-parallel-item\"><div class=\"sk-item\"><div class=\"sk-label-container\"><div class=\"sk-label sk-toggleable\"><input class=\"sk-toggleable__control sk-hidden--visually\" id=\"82ce5627-56b9-4f4b-948d-9ca0194bd747\" type=\"checkbox\" ><label for=\"82ce5627-56b9-4f4b-948d-9ca0194bd747\" class=\"sk-toggleable__label sk-toggleable__label-arrow\">remove_percent</label><div class=\"sk-toggleable__content\"><pre>[&#x27;int_rate&#x27;, &#x27;revol_util&#x27;]</pre></div></div></div><div class=\"sk-serial\"><div class=\"sk-item\"><div class=\"sk-estimator sk-toggleable\"><input class=\"sk-toggleable__control sk-hidden--visually\" id=\"a34a179b-fb35-4cdc-ae3b-ff4bf5867981\" type=\"checkbox\" ><label for=\"a34a179b-fb35-4cdc-ae3b-ff4bf5867981\" class=\"sk-toggleable__label sk-toggleable__label-arrow\">FunctionTransformer</label><div class=\"sk-toggleable__content\"><pre>FunctionTransformer(func=&lt;function rm_perc at 0x0000024A98290B80&gt;)</pre></div></div></div></div></div></div><div class=\"sk-parallel-item\"><div class=\"sk-item\"><div class=\"sk-label-container\"><div class=\"sk-label sk-toggleable\"><input class=\"sk-toggleable__control sk-hidden--visually\" id=\"b02b424b-c448-4062-a133-42239ae0c3ef\" type=\"checkbox\" ><label for=\"b02b424b-c448-4062-a133-42239ae0c3ef\" class=\"sk-toggleable__label sk-toggleable__label-arrow\">remove_str</label><div class=\"sk-toggleable__content\"><pre>term</pre></div></div></div><div class=\"sk-serial\"><div class=\"sk-item\"><div class=\"sk-estimator sk-toggleable\"><input class=\"sk-toggleable__control sk-hidden--visually\" id=\"4e0f0ca5-f912-458d-8d62-475f63f2b485\" type=\"checkbox\" ><label for=\"4e0f0ca5-f912-458d-8d62-475f63f2b485\" class=\"sk-toggleable__label sk-toggleable__label-arrow\">FunctionTransformer</label><div class=\"sk-toggleable__content\"><pre>FunctionTransformer(func=&lt;function rem_str at 0x0000024A98290C10&gt;)</pre></div></div></div></div></div></div></div></div><div class=\"sk-item\"><div class=\"sk-estimator sk-toggleable\"><input class=\"sk-toggleable__control sk-hidden--visually\" id=\"72658137-c15d-4d63-8c24-a3baf48952f4\" type=\"checkbox\" ><label for=\"72658137-c15d-4d63-8c24-a3baf48952f4\" class=\"sk-toggleable__label sk-toggleable__label-arrow\">FunctionTransformer</label><div class=\"sk-toggleable__content\"><pre>FunctionTransformer(func=&lt;function DfTransformer at 0x0000024A98290A60&gt;,\n",
       "                    kw_args={&#x27;column_names&#x27;: [&#x27;dti&#x27;, &#x27;open_acc&#x27;, &#x27;pub_rec&#x27;,\n",
       "                                              &#x27;pub_rec_bankruptcies&#x27;,\n",
       "                                              &#x27;annual_inc&#x27;, &#x27;revol_bal&#x27;,\n",
       "                                              &#x27;emp_length&#x27;, &#x27;MORTGAGE&#x27;, &#x27;RENT&#x27;,\n",
       "                                              &#x27;OWN&#x27;, &#x27;earliest_cr_line&#x27;,\n",
       "                                              &#x27;int_rate&#x27;, &#x27;revol_util&#x27;,\n",
       "                                              &#x27;term&#x27;]})</pre></div></div></div><div class=\"sk-item sk-dashed-wrapped\"><div class=\"sk-label-container\"><div class=\"sk-label sk-toggleable\"><input class=\"sk-toggleable__control sk-hidden--visually\" id=\"20da8aa8-2d62-4a04-9d62-8bf1fff617d3\" type=\"checkbox\" ><label for=\"20da8aa8-2d62-4a04-9d62-8bf1fff617d3\" class=\"sk-toggleable__label sk-toggleable__label-arrow\">imputation: ColumnTransformer</label><div class=\"sk-toggleable__content\"><pre>ColumnTransformer(transformers=[(&#x27;passthrough&#x27;, &#x27;passthrough&#x27;,\n",
       "                                 [&#x27;MORTGAGE&#x27;, &#x27;RENT&#x27;, &#x27;OWN&#x27;]),\n",
       "                                (&#x27;imputer&#x27;, MeanMedianImputer(),\n",
       "                                 [&#x27;dti&#x27;, &#x27;open_acc&#x27;, &#x27;pub_rec&#x27;,\n",
       "                                  &#x27;pub_rec_bankruptcies&#x27;, &#x27;annual_inc&#x27;,\n",
       "                                  &#x27;revol_bal&#x27;, &#x27;emp_length&#x27;, &#x27;earliest_cr_line&#x27;,\n",
       "                                  &#x27;int_rate&#x27;, &#x27;revol_util&#x27;, &#x27;term&#x27;])])</pre></div></div></div><div class=\"sk-parallel\"><div class=\"sk-parallel-item\"><div class=\"sk-item\"><div class=\"sk-label-container\"><div class=\"sk-label sk-toggleable\"><input class=\"sk-toggleable__control sk-hidden--visually\" id=\"7e4d8c12-2691-45f8-80fe-43af6d88ebd9\" type=\"checkbox\" ><label for=\"7e4d8c12-2691-45f8-80fe-43af6d88ebd9\" class=\"sk-toggleable__label sk-toggleable__label-arrow\">passthrough</label><div class=\"sk-toggleable__content\"><pre>[&#x27;MORTGAGE&#x27;, &#x27;RENT&#x27;, &#x27;OWN&#x27;]</pre></div></div></div><div class=\"sk-serial\"><div class=\"sk-item\"><div class=\"sk-estimator sk-toggleable\"><input class=\"sk-toggleable__control sk-hidden--visually\" id=\"af68bb25-8a4e-4f30-85c7-1744eb24d936\" type=\"checkbox\" ><label for=\"af68bb25-8a4e-4f30-85c7-1744eb24d936\" class=\"sk-toggleable__label sk-toggleable__label-arrow\">passthrough</label><div class=\"sk-toggleable__content\"><pre>passthrough</pre></div></div></div></div></div></div><div class=\"sk-parallel-item\"><div class=\"sk-item\"><div class=\"sk-label-container\"><div class=\"sk-label sk-toggleable\"><input class=\"sk-toggleable__control sk-hidden--visually\" id=\"77c108a3-fed6-408c-9fa8-a2657283de77\" type=\"checkbox\" ><label for=\"77c108a3-fed6-408c-9fa8-a2657283de77\" class=\"sk-toggleable__label sk-toggleable__label-arrow\">imputer</label><div class=\"sk-toggleable__content\"><pre>[&#x27;dti&#x27;, &#x27;open_acc&#x27;, &#x27;pub_rec&#x27;, &#x27;pub_rec_bankruptcies&#x27;, &#x27;annual_inc&#x27;, &#x27;revol_bal&#x27;, &#x27;emp_length&#x27;, &#x27;earliest_cr_line&#x27;, &#x27;int_rate&#x27;, &#x27;revol_util&#x27;, &#x27;term&#x27;]</pre></div></div></div><div class=\"sk-serial\"><div class=\"sk-item\"><div class=\"sk-estimator sk-toggleable\"><input class=\"sk-toggleable__control sk-hidden--visually\" id=\"8f7b9b26-9176-41f2-a490-a08ab873eb65\" type=\"checkbox\" ><label for=\"8f7b9b26-9176-41f2-a490-a08ab873eb65\" class=\"sk-toggleable__label sk-toggleable__label-arrow\">MeanMedianImputer</label><div class=\"sk-toggleable__content\"><pre>MeanMedianImputer()</pre></div></div></div></div></div></div></div></div><div class=\"sk-item\"><div class=\"sk-estimator sk-toggleable\"><input class=\"sk-toggleable__control sk-hidden--visually\" id=\"f915d5a1-2664-40bc-9ba6-d8e6e634f902\" type=\"checkbox\" ><label for=\"f915d5a1-2664-40bc-9ba6-d8e6e634f902\" class=\"sk-toggleable__label sk-toggleable__label-arrow\">FunctionTransformer</label><div class=\"sk-toggleable__content\"><pre>FunctionTransformer(func=&lt;function DfTransformer at 0x0000024A98290A60&gt;,\n",
       "                    kw_args={&#x27;column_names&#x27;: [&#x27;MORTGAGE&#x27;, &#x27;RENT&#x27;, &#x27;OWN&#x27;, &#x27;dti&#x27;,\n",
       "                                              &#x27;open_acc&#x27;, &#x27;pub_rec&#x27;,\n",
       "                                              &#x27;pub_rec_bankruptcies&#x27;,\n",
       "                                              &#x27;annual_inc&#x27;, &#x27;revol_bal&#x27;,\n",
       "                                              &#x27;emp_length&#x27;, &#x27;earliest_cr_line&#x27;,\n",
       "                                              &#x27;int_rate&#x27;, &#x27;revol_util&#x27;,\n",
       "                                              &#x27;term&#x27;]})</pre></div></div></div><div class=\"sk-item\"><div class=\"sk-estimator sk-toggleable\"><input class=\"sk-toggleable__control sk-hidden--visually\" id=\"88d5362f-7939-4520-9bfb-421b442307c3\" type=\"checkbox\" ><label for=\"88d5362f-7939-4520-9bfb-421b442307c3\" class=\"sk-toggleable__label sk-toggleable__label-arrow\">ArbitraryOutlierCapper</label><div class=\"sk-toggleable__content\"><pre>ArbitraryOutlierCapper(max_capping_dict={&#x27;dti&#x27;: 42})</pre></div></div></div><div class=\"sk-item sk-dashed-wrapped\"><div class=\"sk-label-container\"><div class=\"sk-label sk-toggleable\"><input class=\"sk-toggleable__control sk-hidden--visually\" id=\"3f9d99c9-c8df-4c49-809a-4f5002d24db7\" type=\"checkbox\" ><label for=\"3f9d99c9-c8df-4c49-809a-4f5002d24db7\" class=\"sk-toggleable__label sk-toggleable__label-arrow\">normalization: ColumnTransformer</label><div class=\"sk-toggleable__content\"><pre>ColumnTransformer(remainder=&#x27;passthrough&#x27;,\n",
       "                  transformers=[(&#x27;scale&#x27;, StandardScaler(),\n",
       "                                 [&#x27;dti&#x27;, &#x27;annual_inc&#x27;, &#x27;revol_bal&#x27;,\n",
       "                                  &#x27;revol_util&#x27;, &#x27;int_rate&#x27;, &#x27;open_acc&#x27;,\n",
       "                                  &#x27;pub_rec&#x27;, &#x27;pub_rec_bankruptcies&#x27;,\n",
       "                                  &#x27;emp_length&#x27;])])</pre></div></div></div><div class=\"sk-parallel\"><div class=\"sk-parallel-item\"><div class=\"sk-item\"><div class=\"sk-label-container\"><div class=\"sk-label sk-toggleable\"><input class=\"sk-toggleable__control sk-hidden--visually\" id=\"6109f14f-12a8-4e4f-a8f1-89121665da8e\" type=\"checkbox\" ><label for=\"6109f14f-12a8-4e4f-a8f1-89121665da8e\" class=\"sk-toggleable__label sk-toggleable__label-arrow\">scale</label><div class=\"sk-toggleable__content\"><pre>[&#x27;dti&#x27;, &#x27;annual_inc&#x27;, &#x27;revol_bal&#x27;, &#x27;revol_util&#x27;, &#x27;int_rate&#x27;, &#x27;open_acc&#x27;, &#x27;pub_rec&#x27;, &#x27;pub_rec_bankruptcies&#x27;, &#x27;emp_length&#x27;]</pre></div></div></div><div class=\"sk-serial\"><div class=\"sk-item\"><div class=\"sk-estimator sk-toggleable\"><input class=\"sk-toggleable__control sk-hidden--visually\" id=\"0c8432d8-0101-4ca9-a667-9a864fec1471\" type=\"checkbox\" ><label for=\"0c8432d8-0101-4ca9-a667-9a864fec1471\" class=\"sk-toggleable__label sk-toggleable__label-arrow\">StandardScaler</label><div class=\"sk-toggleable__content\"><pre>StandardScaler()</pre></div></div></div></div></div></div><div class=\"sk-parallel-item\"><div class=\"sk-item\"><div class=\"sk-label-container\"><div class=\"sk-label sk-toggleable\"><input class=\"sk-toggleable__control sk-hidden--visually\" id=\"b7b7cf8d-699c-4297-ae98-bd5c0385997b\" type=\"checkbox\" ><label for=\"b7b7cf8d-699c-4297-ae98-bd5c0385997b\" class=\"sk-toggleable__label sk-toggleable__label-arrow\">remainder</label><div class=\"sk-toggleable__content\"><pre></pre></div></div></div><div class=\"sk-serial\"><div class=\"sk-item\"><div class=\"sk-estimator sk-toggleable\"><input class=\"sk-toggleable__control sk-hidden--visually\" id=\"903a8da7-4cfe-40e4-812e-1fc420b74a91\" type=\"checkbox\" ><label for=\"903a8da7-4cfe-40e4-812e-1fc420b74a91\" class=\"sk-toggleable__label sk-toggleable__label-arrow\">passthrough</label><div class=\"sk-toggleable__content\"><pre>passthrough</pre></div></div></div></div></div></div></div></div></div></div></div></div>"
      ],
      "text/plain": [
       "Pipeline(steps=[('feature_transformation',\n",
       "                 ColumnTransformer(transformers=[('passthrough', 'passthrough',\n",
       "                                                  ['dti', 'open_acc', 'pub_rec',\n",
       "                                                   'pub_rec_bankruptcies']),\n",
       "                                                 ('drop', 'drop',\n",
       "                                                  ['fico_range_high',\n",
       "                                                   'loan_amnt', 'issue_d',\n",
       "                                                   'total_acc']),\n",
       "                                                 ('log_tf',\n",
       "                                                  FunctionTransformer(func=<ufunc 'log1p'>),\n",
       "                                                  ['annual_inc', 'revol_bal']),\n",
       "                                                 ('remove_employment_str',\n",
       "                                                  FunctionTransformer(...\n",
       "                                                               'revol_bal',\n",
       "                                                               'emp_length',\n",
       "                                                               'earliest_cr_line',\n",
       "                                                               'int_rate',\n",
       "                                                               'revol_util',\n",
       "                                                               'term']})),\n",
       "                ('outlier',\n",
       "                 ArbitraryOutlierCapper(max_capping_dict={'dti': 42})),\n",
       "                ('normalization',\n",
       "                 ColumnTransformer(remainder='passthrough',\n",
       "                                   transformers=[('scale', StandardScaler(),\n",
       "                                                  ['dti', 'annual_inc',\n",
       "                                                   'revol_bal', 'revol_util',\n",
       "                                                   'int_rate', 'open_acc',\n",
       "                                                   'pub_rec',\n",
       "                                                   'pub_rec_bankruptcies',\n",
       "                                                   'emp_length'])]))])"
      ]
     },
     "execution_count": 108,
     "metadata": {},
     "output_type": "execute_result"
    }
   ],
   "source": [
    "from feature_engine.imputation import MeanMedianImputer\n",
    "from feature_engine.outliers import ArbitraryOutlierCapper\n",
    "from sklearn.preprocessing import MinMaxScaler, StandardScaler\n",
    "from sklearn.pipeline import Pipeline, make_pipeline\n",
    "from sklearn import set_config\n",
    "set_config(display='diagram')\n",
    "# similar functions will have been created in answer to previous exercises\n",
    "from helper_functions import DfTransformer, to_year, rm_perc, rem_str, emp_len_ext#, change_cat\n",
    "\n",
    "feature_names = [\"dti\", \"open_acc\", 'pub_rec', 'pub_rec_bankruptcies',\n",
    "                 'annual_inc', 'revol_bal', 'emp_length', \"MORTGAGE\", \"RENT\", \"OWN\", 'earliest_cr_line', \"int_rate\", \n",
    "                 \"revol_util\", \"term\"]\n",
    "\n",
    "pre_processing = [\n",
    "    # for each feature do the following....\n",
    "    (\"feature_transformation\", ColumnTransformer([\n",
    "        # ...nothing.\n",
    "        (\"passthrough\", \"passthrough\", [\"dti\", \"open_acc\", 'pub_rec', 'pub_rec_bankruptcies']),\n",
    "        # ...remove from the data.\n",
    "        (\"drop\", \"drop\", drop_list),\n",
    "        # ...log transform.\n",
    "        (\"log_tf\", FunctionTransformer(np.log1p), ['annual_inc', 'revol_bal']),\n",
    "        # ... remove string \"year/years\"\n",
    "        (\"remove_employment_str\", FunctionTransformer(emp_len_ext), \"emp_length\"),\n",
    "        # ... change categories and onehot\n",
    "        (\"change_home_cats\", FunctionTransformer(change_cat), \"home_ownership\"),\n",
    "        # ...remove the month.\n",
    "        (\"remove_month\", FunctionTransformer(to_year), \"earliest_cr_line\"),\n",
    "        # ...remove the \"%\" symbol.\n",
    "        (\"remove_percent\", FunctionTransformer(rm_perc), [\"int_rate\", \"revol_util\"]),\n",
    "        # ... remove the string \"months\".\n",
    "        (\"remove_str\", FunctionTransformer(rem_str), 'term')\n",
    "    ])),\n",
    "    # tranform back to a dataframe\n",
    "    (\"DT_transform\", FunctionTransformer(DfTransformer, kw_args = {\"column_names\":feature_names})),    \n",
    "    # impute the median value for missing values for all features\n",
    "    (\"imputation\", ColumnTransformer([\n",
    "        (\"passthrough\", \"passthrough\", [\"MORTGAGE\", \"RENT\", \"OWN\"]),\n",
    "        (\"imputer\", MeanMedianImputer(imputation_method='median'), [\"dti\", \"open_acc\", 'pub_rec', 'pub_rec_bankruptcies',\n",
    "                                                                    'annual_inc', 'revol_bal', 'emp_length', \n",
    "                                                                    'earliest_cr_line', \"int_rate\", \"revol_util\", \n",
    "                                                                    \"term\"])])),\n",
    "    (\"DT_transform_2\", FunctionTransformer(DfTransformer, kw_args = {\"column_names\":[\"MORTGAGE\", \"RENT\", \"OWN\", \n",
    "                                                                                   \"dti\", \"open_acc\", 'pub_rec', \n",
    "                                                                                   'pub_rec_bankruptcies',\n",
    "                                                                                   'annual_inc', 'revol_bal', \n",
    "                                                                                   'emp_length','earliest_cr_line', \n",
    "                                                                                   \"int_rate\", \"revol_util\", \"term\"]})),  \n",
    "    # As the input needs to be a df we'll apply the capper just to dti here\n",
    "    (\"outlier\", ArbitraryOutlierCapper(max_capping_dict={'dti': 42})),\n",
    "    # normalize all the features\n",
    "    (\"normalization\", ColumnTransformer(\n",
    "        [(\"scale\", StandardScaler(),  [\"dti\", \"annual_inc\", \"revol_bal\" ,\"revol_util\", \"int_rate\", \"open_acc\", \n",
    "                                       \"pub_rec\", \"pub_rec_bankruptcies\", \"emp_length\"])], \n",
    "        remainder=\"passthrough\")\n",
    "    )\n",
    "]\n",
    "\n",
    "pre_processing_pipe =  Pipeline(pre_processing)\n",
    "pre_processing_pipe"
   ]
  },
  {
   "cell_type": "code",
   "execution_count": 109,
   "metadata": {},
   "outputs": [
    {
     "name": "stdout",
     "output_type": "stream",
     "text": [
      "<class 'pandas.core.frame.DataFrame'>\n",
      "Int64Index: 1856047 entries, 0 to 2925492\n",
      "Data columns (total 19 columns):\n",
      " #   Column                Dtype         \n",
      "---  ------                -----         \n",
      " 0   annual_inc            float64       \n",
      " 1   dti                   float64       \n",
      " 2   earliest_cr_line      object        \n",
      " 3   fico_range_high       float64       \n",
      " 4   fico_range_low        float64       \n",
      " 5   installment           float64       \n",
      " 6   int_rate              object        \n",
      " 7   loan_amnt             float64       \n",
      " 8   mort_acc              float64       \n",
      " 9   open_acc              float64       \n",
      " 10  pub_rec               float64       \n",
      " 11  pub_rec_bankruptcies  float64       \n",
      " 12  revol_bal             float64       \n",
      " 13  revol_util            object        \n",
      " 14  term                  object        \n",
      " 15  total_acc             float64       \n",
      " 16  issue_d               datetime64[ns]\n",
      " 17  emp_length            object        \n",
      " 18  home_ownership        object        \n",
      "dtypes: datetime64[ns](1), float64(12), object(6)\n",
      "memory usage: 283.2+ MB\n"
     ]
    }
   ],
   "source": [
    "X_train.info()"
   ]
  },
  {
   "cell_type": "code",
   "execution_count": 110,
   "metadata": {},
   "outputs": [
    {
     "name": "stderr",
     "output_type": "stream",
     "text": [
      "<ipython-input-110-7513105b6b26>:2: FutureWarning: The default value of regex will change from True to False in a future version.\n",
      "  column_names = pd.Series(pre_processing_pipe.steps[-1][-1].get_feature_names_out()).str.replace(r'scale__|remainder__', '')\n"
     ]
    },
    {
     "data": {
      "text/html": [
       "<div>\n",
       "<style scoped>\n",
       "    .dataframe tbody tr th:only-of-type {\n",
       "        vertical-align: middle;\n",
       "    }\n",
       "\n",
       "    .dataframe tbody tr th {\n",
       "        vertical-align: top;\n",
       "    }\n",
       "\n",
       "    .dataframe thead th {\n",
       "        text-align: right;\n",
       "    }\n",
       "</style>\n",
       "<table border=\"1\" class=\"dataframe\">\n",
       "  <thead>\n",
       "    <tr style=\"text-align: right;\">\n",
       "      <th></th>\n",
       "      <th>dti</th>\n",
       "      <th>annual_inc</th>\n",
       "      <th>revol_bal</th>\n",
       "      <th>revol_util</th>\n",
       "      <th>int_rate</th>\n",
       "      <th>open_acc</th>\n",
       "      <th>pub_rec</th>\n",
       "      <th>pub_rec_bankruptcies</th>\n",
       "      <th>emp_length</th>\n",
       "      <th>MORTGAGE</th>\n",
       "      <th>RENT</th>\n",
       "      <th>OWN</th>\n",
       "      <th>earliest_cr_line</th>\n",
       "      <th>term</th>\n",
       "    </tr>\n",
       "  </thead>\n",
       "  <tbody>\n",
       "    <tr>\n",
       "      <th>0</th>\n",
       "      <td>1.077404</td>\n",
       "      <td>-1.633380</td>\n",
       "      <td>0.273240</td>\n",
       "      <td>1.340534</td>\n",
       "      <td>-0.521821</td>\n",
       "      <td>-1.543705</td>\n",
       "      <td>-0.353081</td>\n",
       "      <td>-0.356375</td>\n",
       "      <td>1.149656</td>\n",
       "      <td>0.0</td>\n",
       "      <td>0.0</td>\n",
       "      <td>1.0</td>\n",
       "      <td>1985.0</td>\n",
       "      <td>36.0</td>\n",
       "    </tr>\n",
       "    <tr>\n",
       "      <th>1</th>\n",
       "      <td>-1.995265</td>\n",
       "      <td>-1.268956</td>\n",
       "      <td>-1.380325</td>\n",
       "      <td>-1.659110</td>\n",
       "      <td>0.435351</td>\n",
       "      <td>-1.543705</td>\n",
       "      <td>-0.353081</td>\n",
       "      <td>-0.356375</td>\n",
       "      <td>-1.450039</td>\n",
       "      <td>0.0</td>\n",
       "      <td>0.0</td>\n",
       "      <td>1.0</td>\n",
       "      <td>1999.0</td>\n",
       "      <td>60.0</td>\n",
       "    </tr>\n",
       "    <tr>\n",
       "      <th>2</th>\n",
       "      <td>-1.105171</td>\n",
       "      <td>-2.731418</td>\n",
       "      <td>-0.936792</td>\n",
       "      <td>1.938041</td>\n",
       "      <td>0.578305</td>\n",
       "      <td>-1.723110</td>\n",
       "      <td>-0.353081</td>\n",
       "      <td>-0.356375</td>\n",
       "      <td>1.149656</td>\n",
       "      <td>0.0</td>\n",
       "      <td>0.0</td>\n",
       "      <td>1.0</td>\n",
       "      <td>2001.0</td>\n",
       "      <td>36.0</td>\n",
       "    </tr>\n",
       "    <tr>\n",
       "      <th>3</th>\n",
       "      <td>0.195381</td>\n",
       "      <td>-0.461042</td>\n",
       "      <td>-0.431722</td>\n",
       "      <td>-1.190794</td>\n",
       "      <td>0.066571</td>\n",
       "      <td>-0.287871</td>\n",
       "      <td>-0.353081</td>\n",
       "      <td>-0.356375</td>\n",
       "      <td>1.149656</td>\n",
       "      <td>0.0</td>\n",
       "      <td>0.0</td>\n",
       "      <td>1.0</td>\n",
       "      <td>1996.0</td>\n",
       "      <td>36.0</td>\n",
       "    </tr>\n",
       "    <tr>\n",
       "      <th>4</th>\n",
       "      <td>-0.042131</td>\n",
       "      <td>0.332896</td>\n",
       "      <td>0.835572</td>\n",
       "      <td>0.137447</td>\n",
       "      <td>-0.099173</td>\n",
       "      <td>0.609154</td>\n",
       "      <td>-0.353081</td>\n",
       "      <td>-0.356375</td>\n",
       "      <td>-1.450039</td>\n",
       "      <td>0.0</td>\n",
       "      <td>0.0</td>\n",
       "      <td>1.0</td>\n",
       "      <td>1996.0</td>\n",
       "      <td>60.0</td>\n",
       "    </tr>\n",
       "  </tbody>\n",
       "</table>\n",
       "</div>"
      ],
      "text/plain": [
       "        dti  annual_inc  revol_bal  revol_util  int_rate  open_acc   pub_rec  \\\n",
       "0  1.077404   -1.633380   0.273240    1.340534 -0.521821 -1.543705 -0.353081   \n",
       "1 -1.995265   -1.268956  -1.380325   -1.659110  0.435351 -1.543705 -0.353081   \n",
       "2 -1.105171   -2.731418  -0.936792    1.938041  0.578305 -1.723110 -0.353081   \n",
       "3  0.195381   -0.461042  -0.431722   -1.190794  0.066571 -0.287871 -0.353081   \n",
       "4 -0.042131    0.332896   0.835572    0.137447 -0.099173  0.609154 -0.353081   \n",
       "\n",
       "   pub_rec_bankruptcies  emp_length  MORTGAGE  RENT  OWN  earliest_cr_line  \\\n",
       "0             -0.356375    1.149656       0.0   0.0  1.0            1985.0   \n",
       "1             -0.356375   -1.450039       0.0   0.0  1.0            1999.0   \n",
       "2             -0.356375    1.149656       0.0   0.0  1.0            2001.0   \n",
       "3             -0.356375    1.149656       0.0   0.0  1.0            1996.0   \n",
       "4             -0.356375   -1.450039       0.0   0.0  1.0            1996.0   \n",
       "\n",
       "   term  \n",
       "0  36.0  \n",
       "1  60.0  \n",
       "2  36.0  \n",
       "3  36.0  \n",
       "4  60.0  "
      ]
     },
     "execution_count": 110,
     "metadata": {},
     "output_type": "execute_result"
    }
   ],
   "source": [
    "X_train_ = pre_processing_pipe.fit_transform(X_train)\n",
    "column_names = pd.Series(pre_processing_pipe.steps[-1][-1].get_feature_names_out()).str.replace(r'scale__|remainder__', '')\n",
    "X_train_processed = pd.DataFrame(X_train_, columns = column_names)\n",
    "\n",
    "X_train_processed.head()"
   ]
  },
  {
   "cell_type": "markdown",
   "metadata": {},
   "source": [
    "__Note to self__\n",
    "- `term` and `earliest_cr_line` make sense to also be categorical data?"
   ]
  },
  {
   "cell_type": "markdown",
   "metadata": {
    "id": "3syQC4Ymls6L"
   },
   "source": [
    "## 3.15. Target Pre-processing"
   ]
  },
  {
   "cell_type": "code",
   "execution_count": 112,
   "metadata": {
    "hideCode": false,
    "hidePrompt": false,
    "id": "k19_jdOtls6L"
   },
   "outputs": [],
   "source": [
    "from sklearn.preprocessing import LabelEncoder\n",
    "from sklearn.model_selection import train_test_split\n",
    "\n",
    "LE = LabelEncoder()\n",
    "\n",
    "# it will do this alpabetically but we want our positive value to\n",
    "# be \"charged off\".\n",
    "classes = list(pd.Series(y_train).unique())\n",
    "classes.sort(reverse=True)\n",
    "LE.fit(classes)\n",
    "LE.classes = np.array(classes)\n",
    "LE.classes_ = np.array(classes)\n",
    "\n",
    "y_train = LE.transform(y_train)\n",
    "y_test = LE.transform(y_test)"
   ]
  },
  {
   "cell_type": "markdown",
   "metadata": {},
   "source": [
    "---\n",
    "# 4. Baseline Model\n",
    "\n",
    "Before moving on to examining feature selection and extraction, so we have a baseline to compare our new methods too, lets get a model performance measures for a dummy and logistic regression model. Lets start with a dummy model."
   ]
  },
  {
   "cell_type": "markdown",
   "metadata": {},
   "source": [
    "### 🚩 Exercise 11\n",
    "\n",
    "Train a dummy model (using default parameters) on the data and assess its performance using cross-validation.\n",
    "\n",
    "- Can you guess what the performance of this model might be before checking?"
   ]
  },
  {
   "cell_type": "code",
   "execution_count": 113,
   "metadata": {},
   "outputs": [
    {
     "name": "stdout",
     "output_type": "stream",
     "text": [
      "Highest class proportion: 0.805\n"
     ]
    },
    {
     "data": {
      "text/html": [
       "<div>\n",
       "<style scoped>\n",
       "    .dataframe tbody tr th:only-of-type {\n",
       "        vertical-align: middle;\n",
       "    }\n",
       "\n",
       "    .dataframe tbody tr th {\n",
       "        vertical-align: top;\n",
       "    }\n",
       "\n",
       "    .dataframe thead th {\n",
       "        text-align: right;\n",
       "    }\n",
       "</style>\n",
       "<table border=\"1\" class=\"dataframe\">\n",
       "  <thead>\n",
       "    <tr style=\"text-align: right;\">\n",
       "      <th></th>\n",
       "      <th>fit_time</th>\n",
       "      <th>score_time</th>\n",
       "      <th>val_score</th>\n",
       "      <th>train_score</th>\n",
       "    </tr>\n",
       "    <tr>\n",
       "      <th>fold</th>\n",
       "      <th></th>\n",
       "      <th></th>\n",
       "      <th></th>\n",
       "      <th></th>\n",
       "    </tr>\n",
       "  </thead>\n",
       "  <tbody>\n",
       "    <tr>\n",
       "      <th>0</th>\n",
       "      <td>0.16</td>\n",
       "      <td>0.02</td>\n",
       "      <td>0.8</td>\n",
       "      <td>0.8</td>\n",
       "    </tr>\n",
       "    <tr>\n",
       "      <th>1</th>\n",
       "      <td>0.17</td>\n",
       "      <td>0.02</td>\n",
       "      <td>0.8</td>\n",
       "      <td>0.8</td>\n",
       "    </tr>\n",
       "    <tr>\n",
       "      <th>2</th>\n",
       "      <td>0.19</td>\n",
       "      <td>0.02</td>\n",
       "      <td>0.8</td>\n",
       "      <td>0.8</td>\n",
       "    </tr>\n",
       "    <tr>\n",
       "      <th>3</th>\n",
       "      <td>0.16</td>\n",
       "      <td>0.02</td>\n",
       "      <td>0.8</td>\n",
       "      <td>0.8</td>\n",
       "    </tr>\n",
       "    <tr>\n",
       "      <th>4</th>\n",
       "      <td>0.14</td>\n",
       "      <td>0.02</td>\n",
       "      <td>0.8</td>\n",
       "      <td>0.8</td>\n",
       "    </tr>\n",
       "    <tr>\n",
       "      <th>mean</th>\n",
       "      <td>0.16</td>\n",
       "      <td>0.02</td>\n",
       "      <td>0.8</td>\n",
       "      <td>0.8</td>\n",
       "    </tr>\n",
       "    <tr>\n",
       "      <th>sd</th>\n",
       "      <td>0.02</td>\n",
       "      <td>0.00</td>\n",
       "      <td>0.0</td>\n",
       "      <td>0.0</td>\n",
       "    </tr>\n",
       "  </tbody>\n",
       "</table>\n",
       "</div>"
      ],
      "text/plain": [
       "      fit_time  score_time  val_score  train_score\n",
       "fold                                              \n",
       "0         0.16        0.02        0.8          0.8\n",
       "1         0.17        0.02        0.8          0.8\n",
       "2         0.19        0.02        0.8          0.8\n",
       "3         0.16        0.02        0.8          0.8\n",
       "4         0.14        0.02        0.8          0.8\n",
       "mean      0.16        0.02        0.8          0.8\n",
       "sd        0.02        0.00        0.0          0.0"
      ]
     },
     "execution_count": 113,
     "metadata": {},
     "output_type": "execute_result"
    }
   ],
   "source": [
    "from sklearn.model_selection import cross_validate\n",
    "from sklearn.dummy import DummyClassifier\n",
    "\n",
    "# tidy the output into a dataframe\n",
    "def tidy_scores(score_dict):\n",
    "    df = pd.DataFrame(score_dict)\n",
    "    df.loc['mean'] = df.mean()\n",
    "    df.loc['sd'] = df.std()\n",
    "    df.rename({\"test_score\":\"val_score\"}, axis=1, inplace=True)\n",
    "    df.index.name = \"fold\"\n",
    "    return df.round(2)\n",
    "\n",
    "print(\"Highest class proportion: \" + str(round(pd.Series(y_train).value_counts(normalize=True).max(), 3)))\n",
    "\n",
    "scores = cross_validate(DummyClassifier(), X_train_processed, y_train, cv=5, return_train_score=True)\n",
    "tidy_scores(scores)"
   ]
  },
  {
   "cell_type": "markdown",
   "metadata": {},
   "source": [
    "The accuracy performance of our dummy model is 0.8. This may not be too surprising as the default parameters just predicts the most frequent class and this was the proportion of 0's in our target varible."
   ]
  },
  {
   "cell_type": "markdown",
   "metadata": {},
   "source": [
    "---\n",
    "\n",
    "### 🚩 Exercise 12\n",
    "\n",
    "Train a logisitic regression model on the data and assess its accuracy using cross-validation. \n",
    "- Comment on the models performance compared to baseline."
   ]
  },
  {
   "cell_type": "code",
   "execution_count": 114,
   "metadata": {
    "scrolled": false
   },
   "outputs": [
    {
     "data": {
      "text/html": [
       "<style>#sk-524ae40a-5638-4274-92d3-f20f8c66b0fb {color: black;background-color: white;}#sk-524ae40a-5638-4274-92d3-f20f8c66b0fb pre{padding: 0;}#sk-524ae40a-5638-4274-92d3-f20f8c66b0fb div.sk-toggleable {background-color: white;}#sk-524ae40a-5638-4274-92d3-f20f8c66b0fb label.sk-toggleable__label {cursor: pointer;display: block;width: 100%;margin-bottom: 0;padding: 0.3em;box-sizing: border-box;text-align: center;}#sk-524ae40a-5638-4274-92d3-f20f8c66b0fb label.sk-toggleable__label-arrow:before {content: \"▸\";float: left;margin-right: 0.25em;color: #696969;}#sk-524ae40a-5638-4274-92d3-f20f8c66b0fb label.sk-toggleable__label-arrow:hover:before {color: black;}#sk-524ae40a-5638-4274-92d3-f20f8c66b0fb div.sk-estimator:hover label.sk-toggleable__label-arrow:before {color: black;}#sk-524ae40a-5638-4274-92d3-f20f8c66b0fb div.sk-toggleable__content {max-height: 0;max-width: 0;overflow: hidden;text-align: left;background-color: #f0f8ff;}#sk-524ae40a-5638-4274-92d3-f20f8c66b0fb div.sk-toggleable__content pre {margin: 0.2em;color: black;border-radius: 0.25em;background-color: #f0f8ff;}#sk-524ae40a-5638-4274-92d3-f20f8c66b0fb input.sk-toggleable__control:checked~div.sk-toggleable__content {max-height: 200px;max-width: 100%;overflow: auto;}#sk-524ae40a-5638-4274-92d3-f20f8c66b0fb input.sk-toggleable__control:checked~label.sk-toggleable__label-arrow:before {content: \"▾\";}#sk-524ae40a-5638-4274-92d3-f20f8c66b0fb div.sk-estimator input.sk-toggleable__control:checked~label.sk-toggleable__label {background-color: #d4ebff;}#sk-524ae40a-5638-4274-92d3-f20f8c66b0fb div.sk-label input.sk-toggleable__control:checked~label.sk-toggleable__label {background-color: #d4ebff;}#sk-524ae40a-5638-4274-92d3-f20f8c66b0fb input.sk-hidden--visually {border: 0;clip: rect(1px 1px 1px 1px);clip: rect(1px, 1px, 1px, 1px);height: 1px;margin: -1px;overflow: hidden;padding: 0;position: absolute;width: 1px;}#sk-524ae40a-5638-4274-92d3-f20f8c66b0fb div.sk-estimator {font-family: monospace;background-color: #f0f8ff;border: 1px dotted black;border-radius: 0.25em;box-sizing: border-box;margin-bottom: 0.5em;}#sk-524ae40a-5638-4274-92d3-f20f8c66b0fb div.sk-estimator:hover {background-color: #d4ebff;}#sk-524ae40a-5638-4274-92d3-f20f8c66b0fb div.sk-parallel-item::after {content: \"\";width: 100%;border-bottom: 1px solid gray;flex-grow: 1;}#sk-524ae40a-5638-4274-92d3-f20f8c66b0fb div.sk-label:hover label.sk-toggleable__label {background-color: #d4ebff;}#sk-524ae40a-5638-4274-92d3-f20f8c66b0fb div.sk-serial::before {content: \"\";position: absolute;border-left: 1px solid gray;box-sizing: border-box;top: 2em;bottom: 0;left: 50%;}#sk-524ae40a-5638-4274-92d3-f20f8c66b0fb div.sk-serial {display: flex;flex-direction: column;align-items: center;background-color: white;padding-right: 0.2em;padding-left: 0.2em;}#sk-524ae40a-5638-4274-92d3-f20f8c66b0fb div.sk-item {z-index: 1;}#sk-524ae40a-5638-4274-92d3-f20f8c66b0fb div.sk-parallel {display: flex;align-items: stretch;justify-content: center;background-color: white;}#sk-524ae40a-5638-4274-92d3-f20f8c66b0fb div.sk-parallel::before {content: \"\";position: absolute;border-left: 1px solid gray;box-sizing: border-box;top: 2em;bottom: 0;left: 50%;}#sk-524ae40a-5638-4274-92d3-f20f8c66b0fb div.sk-parallel-item {display: flex;flex-direction: column;position: relative;background-color: white;}#sk-524ae40a-5638-4274-92d3-f20f8c66b0fb div.sk-parallel-item:first-child::after {align-self: flex-end;width: 50%;}#sk-524ae40a-5638-4274-92d3-f20f8c66b0fb div.sk-parallel-item:last-child::after {align-self: flex-start;width: 50%;}#sk-524ae40a-5638-4274-92d3-f20f8c66b0fb div.sk-parallel-item:only-child::after {width: 0;}#sk-524ae40a-5638-4274-92d3-f20f8c66b0fb div.sk-dashed-wrapped {border: 1px dashed gray;margin: 0 0.4em 0.5em 0.4em;box-sizing: border-box;padding-bottom: 0.4em;background-color: white;position: relative;}#sk-524ae40a-5638-4274-92d3-f20f8c66b0fb div.sk-label label {font-family: monospace;font-weight: bold;background-color: white;display: inline-block;line-height: 1.2em;}#sk-524ae40a-5638-4274-92d3-f20f8c66b0fb div.sk-label-container {position: relative;z-index: 2;text-align: center;}#sk-524ae40a-5638-4274-92d3-f20f8c66b0fb div.sk-container {/* jupyter's `normalize.less` sets `[hidden] { display: none; }` but bootstrap.min.css set `[hidden] { display: none !important; }` so we also need the `!important` here to be able to override the default hidden behavior on the sphinx rendered scikit-learn.org. See: https://github.com/scikit-learn/scikit-learn/issues/21755 */display: inline-block !important;position: relative;}#sk-524ae40a-5638-4274-92d3-f20f8c66b0fb div.sk-text-repr-fallback {display: none;}</style><div id=\"sk-524ae40a-5638-4274-92d3-f20f8c66b0fb\" class=\"sk-top-container\"><div class=\"sk-text-repr-fallback\"><pre>Pipeline(steps=[(&#x27;feature_transformation&#x27;,\n",
       "                 ColumnTransformer(transformers=[(&#x27;passthrough&#x27;, &#x27;passthrough&#x27;,\n",
       "                                                  [&#x27;dti&#x27;, &#x27;open_acc&#x27;, &#x27;pub_rec&#x27;,\n",
       "                                                   &#x27;pub_rec_bankruptcies&#x27;]),\n",
       "                                                 (&#x27;drop&#x27;, &#x27;drop&#x27;,\n",
       "                                                  [&#x27;fico_range_high&#x27;,\n",
       "                                                   &#x27;loan_amnt&#x27;, &#x27;issue_d&#x27;,\n",
       "                                                   &#x27;total_acc&#x27;]),\n",
       "                                                 (&#x27;log_tf&#x27;,\n",
       "                                                  FunctionTransformer(func=&lt;ufunc &#x27;log1p&#x27;&gt;),\n",
       "                                                  [&#x27;annual_inc&#x27;, &#x27;revol_bal&#x27;]),\n",
       "                                                 (&#x27;remove_employment_str&#x27;,\n",
       "                                                  FunctionTransformer(...\n",
       "                                                               &#x27;earliest_cr_line&#x27;,\n",
       "                                                               &#x27;int_rate&#x27;,\n",
       "                                                               &#x27;revol_util&#x27;,\n",
       "                                                               &#x27;term&#x27;]})),\n",
       "                (&#x27;outlier&#x27;,\n",
       "                 ArbitraryOutlierCapper(max_capping_dict={&#x27;dti&#x27;: 42})),\n",
       "                (&#x27;normalization&#x27;,\n",
       "                 ColumnTransformer(remainder=&#x27;passthrough&#x27;,\n",
       "                                   transformers=[(&#x27;scale&#x27;, StandardScaler(),\n",
       "                                                  [&#x27;dti&#x27;, &#x27;annual_inc&#x27;,\n",
       "                                                   &#x27;revol_bal&#x27;, &#x27;revol_util&#x27;,\n",
       "                                                   &#x27;int_rate&#x27;, &#x27;open_acc&#x27;,\n",
       "                                                   &#x27;pub_rec&#x27;,\n",
       "                                                   &#x27;pub_rec_bankruptcies&#x27;,\n",
       "                                                   &#x27;emp_length&#x27;])])),\n",
       "                (&#x27;model&#x27;, LogisticRegression())])</pre><b>Please rerun this cell to show the HTML repr or trust the notebook.</b></div><div class=\"sk-container\" hidden><div class=\"sk-item sk-dashed-wrapped\"><div class=\"sk-label-container\"><div class=\"sk-label sk-toggleable\"><input class=\"sk-toggleable__control sk-hidden--visually\" id=\"85e3a3a0-a92c-4b12-b7ad-5da7149ff849\" type=\"checkbox\" ><label for=\"85e3a3a0-a92c-4b12-b7ad-5da7149ff849\" class=\"sk-toggleable__label sk-toggleable__label-arrow\">Pipeline</label><div class=\"sk-toggleable__content\"><pre>Pipeline(steps=[(&#x27;feature_transformation&#x27;,\n",
       "                 ColumnTransformer(transformers=[(&#x27;passthrough&#x27;, &#x27;passthrough&#x27;,\n",
       "                                                  [&#x27;dti&#x27;, &#x27;open_acc&#x27;, &#x27;pub_rec&#x27;,\n",
       "                                                   &#x27;pub_rec_bankruptcies&#x27;]),\n",
       "                                                 (&#x27;drop&#x27;, &#x27;drop&#x27;,\n",
       "                                                  [&#x27;fico_range_high&#x27;,\n",
       "                                                   &#x27;loan_amnt&#x27;, &#x27;issue_d&#x27;,\n",
       "                                                   &#x27;total_acc&#x27;]),\n",
       "                                                 (&#x27;log_tf&#x27;,\n",
       "                                                  FunctionTransformer(func=&lt;ufunc &#x27;log1p&#x27;&gt;),\n",
       "                                                  [&#x27;annual_inc&#x27;, &#x27;revol_bal&#x27;]),\n",
       "                                                 (&#x27;remove_employment_str&#x27;,\n",
       "                                                  FunctionTransformer(...\n",
       "                                                               &#x27;earliest_cr_line&#x27;,\n",
       "                                                               &#x27;int_rate&#x27;,\n",
       "                                                               &#x27;revol_util&#x27;,\n",
       "                                                               &#x27;term&#x27;]})),\n",
       "                (&#x27;outlier&#x27;,\n",
       "                 ArbitraryOutlierCapper(max_capping_dict={&#x27;dti&#x27;: 42})),\n",
       "                (&#x27;normalization&#x27;,\n",
       "                 ColumnTransformer(remainder=&#x27;passthrough&#x27;,\n",
       "                                   transformers=[(&#x27;scale&#x27;, StandardScaler(),\n",
       "                                                  [&#x27;dti&#x27;, &#x27;annual_inc&#x27;,\n",
       "                                                   &#x27;revol_bal&#x27;, &#x27;revol_util&#x27;,\n",
       "                                                   &#x27;int_rate&#x27;, &#x27;open_acc&#x27;,\n",
       "                                                   &#x27;pub_rec&#x27;,\n",
       "                                                   &#x27;pub_rec_bankruptcies&#x27;,\n",
       "                                                   &#x27;emp_length&#x27;])])),\n",
       "                (&#x27;model&#x27;, LogisticRegression())])</pre></div></div></div><div class=\"sk-serial\"><div class=\"sk-item sk-dashed-wrapped\"><div class=\"sk-label-container\"><div class=\"sk-label sk-toggleable\"><input class=\"sk-toggleable__control sk-hidden--visually\" id=\"330a1c20-5016-45ac-ab8b-7ca9568a15fa\" type=\"checkbox\" ><label for=\"330a1c20-5016-45ac-ab8b-7ca9568a15fa\" class=\"sk-toggleable__label sk-toggleable__label-arrow\">feature_transformation: ColumnTransformer</label><div class=\"sk-toggleable__content\"><pre>ColumnTransformer(transformers=[(&#x27;passthrough&#x27;, &#x27;passthrough&#x27;,\n",
       "                                 [&#x27;dti&#x27;, &#x27;open_acc&#x27;, &#x27;pub_rec&#x27;,\n",
       "                                  &#x27;pub_rec_bankruptcies&#x27;]),\n",
       "                                (&#x27;drop&#x27;, &#x27;drop&#x27;,\n",
       "                                 [&#x27;fico_range_high&#x27;, &#x27;loan_amnt&#x27;, &#x27;issue_d&#x27;,\n",
       "                                  &#x27;total_acc&#x27;]),\n",
       "                                (&#x27;log_tf&#x27;,\n",
       "                                 FunctionTransformer(func=&lt;ufunc &#x27;log1p&#x27;&gt;),\n",
       "                                 [&#x27;annual_inc&#x27;, &#x27;revol_bal&#x27;]),\n",
       "                                (&#x27;remove_employment_str&#x27;,\n",
       "                                 FunctionTransformer(func=&lt;function emp_len_ext at 0x0000024A98290...\n",
       "                                 FunctionTransformer(func=&lt;function change_cat at 0x0000024A041DA4C0&gt;),\n",
       "                                 &#x27;home_ownership&#x27;),\n",
       "                                (&#x27;remove_month&#x27;,\n",
       "                                 FunctionTransformer(func=&lt;function to_year at 0x0000024A98290AF0&gt;),\n",
       "                                 &#x27;earliest_cr_line&#x27;),\n",
       "                                (&#x27;remove_percent&#x27;,\n",
       "                                 FunctionTransformer(func=&lt;function rm_perc at 0x0000024A98290B80&gt;),\n",
       "                                 [&#x27;int_rate&#x27;, &#x27;revol_util&#x27;]),\n",
       "                                (&#x27;remove_str&#x27;,\n",
       "                                 FunctionTransformer(func=&lt;function rem_str at 0x0000024A98290C10&gt;),\n",
       "                                 &#x27;term&#x27;)])</pre></div></div></div><div class=\"sk-parallel\"><div class=\"sk-parallel-item\"><div class=\"sk-item\"><div class=\"sk-label-container\"><div class=\"sk-label sk-toggleable\"><input class=\"sk-toggleable__control sk-hidden--visually\" id=\"a9a17ea8-d617-4f36-a30a-eacac1ef5ab9\" type=\"checkbox\" ><label for=\"a9a17ea8-d617-4f36-a30a-eacac1ef5ab9\" class=\"sk-toggleable__label sk-toggleable__label-arrow\">passthrough</label><div class=\"sk-toggleable__content\"><pre>[&#x27;dti&#x27;, &#x27;open_acc&#x27;, &#x27;pub_rec&#x27;, &#x27;pub_rec_bankruptcies&#x27;]</pre></div></div></div><div class=\"sk-serial\"><div class=\"sk-item\"><div class=\"sk-estimator sk-toggleable\"><input class=\"sk-toggleable__control sk-hidden--visually\" id=\"dbb38d70-9fb3-46cb-8030-596a03406d0e\" type=\"checkbox\" ><label for=\"dbb38d70-9fb3-46cb-8030-596a03406d0e\" class=\"sk-toggleable__label sk-toggleable__label-arrow\">passthrough</label><div class=\"sk-toggleable__content\"><pre>passthrough</pre></div></div></div></div></div></div><div class=\"sk-parallel-item\"><div class=\"sk-item\"><div class=\"sk-label-container\"><div class=\"sk-label sk-toggleable\"><input class=\"sk-toggleable__control sk-hidden--visually\" id=\"83e599af-9611-4cde-9e01-5b31450441a0\" type=\"checkbox\" ><label for=\"83e599af-9611-4cde-9e01-5b31450441a0\" class=\"sk-toggleable__label sk-toggleable__label-arrow\">drop</label><div class=\"sk-toggleable__content\"><pre>[&#x27;fico_range_high&#x27;, &#x27;loan_amnt&#x27;, &#x27;issue_d&#x27;, &#x27;total_acc&#x27;]</pre></div></div></div><div class=\"sk-serial\"><div class=\"sk-item\"><div class=\"sk-estimator sk-toggleable\"><input class=\"sk-toggleable__control sk-hidden--visually\" id=\"452804d0-e974-4eb7-aef8-54194d68381e\" type=\"checkbox\" ><label for=\"452804d0-e974-4eb7-aef8-54194d68381e\" class=\"sk-toggleable__label sk-toggleable__label-arrow\">drop</label><div class=\"sk-toggleable__content\"><pre>drop</pre></div></div></div></div></div></div><div class=\"sk-parallel-item\"><div class=\"sk-item\"><div class=\"sk-label-container\"><div class=\"sk-label sk-toggleable\"><input class=\"sk-toggleable__control sk-hidden--visually\" id=\"f0071a3a-3814-453d-8964-610373671d7f\" type=\"checkbox\" ><label for=\"f0071a3a-3814-453d-8964-610373671d7f\" class=\"sk-toggleable__label sk-toggleable__label-arrow\">log_tf</label><div class=\"sk-toggleable__content\"><pre>[&#x27;annual_inc&#x27;, &#x27;revol_bal&#x27;]</pre></div></div></div><div class=\"sk-serial\"><div class=\"sk-item\"><div class=\"sk-estimator sk-toggleable\"><input class=\"sk-toggleable__control sk-hidden--visually\" id=\"3a79c139-ff25-4b81-bc62-d4b8b300f078\" type=\"checkbox\" ><label for=\"3a79c139-ff25-4b81-bc62-d4b8b300f078\" class=\"sk-toggleable__label sk-toggleable__label-arrow\">FunctionTransformer</label><div class=\"sk-toggleable__content\"><pre>FunctionTransformer(func=&lt;ufunc &#x27;log1p&#x27;&gt;)</pre></div></div></div></div></div></div><div class=\"sk-parallel-item\"><div class=\"sk-item\"><div class=\"sk-label-container\"><div class=\"sk-label sk-toggleable\"><input class=\"sk-toggleable__control sk-hidden--visually\" id=\"cf77f043-3b58-474c-a432-7f0020e9a858\" type=\"checkbox\" ><label for=\"cf77f043-3b58-474c-a432-7f0020e9a858\" class=\"sk-toggleable__label sk-toggleable__label-arrow\">remove_employment_str</label><div class=\"sk-toggleable__content\"><pre>emp_length</pre></div></div></div><div class=\"sk-serial\"><div class=\"sk-item\"><div class=\"sk-estimator sk-toggleable\"><input class=\"sk-toggleable__control sk-hidden--visually\" id=\"34e3fe99-9652-47aa-b490-5c9a2eae5ef2\" type=\"checkbox\" ><label for=\"34e3fe99-9652-47aa-b490-5c9a2eae5ef2\" class=\"sk-toggleable__label sk-toggleable__label-arrow\">FunctionTransformer</label><div class=\"sk-toggleable__content\"><pre>FunctionTransformer(func=&lt;function emp_len_ext at 0x0000024A98290CA0&gt;)</pre></div></div></div></div></div></div><div class=\"sk-parallel-item\"><div class=\"sk-item\"><div class=\"sk-label-container\"><div class=\"sk-label sk-toggleable\"><input class=\"sk-toggleable__control sk-hidden--visually\" id=\"42ee7406-69f7-4e4b-b88d-4630b8162d08\" type=\"checkbox\" ><label for=\"42ee7406-69f7-4e4b-b88d-4630b8162d08\" class=\"sk-toggleable__label sk-toggleable__label-arrow\">change_home_cats</label><div class=\"sk-toggleable__content\"><pre>home_ownership</pre></div></div></div><div class=\"sk-serial\"><div class=\"sk-item\"><div class=\"sk-estimator sk-toggleable\"><input class=\"sk-toggleable__control sk-hidden--visually\" id=\"5c20ee1d-14ab-478c-9d92-b63be9fc5a6c\" type=\"checkbox\" ><label for=\"5c20ee1d-14ab-478c-9d92-b63be9fc5a6c\" class=\"sk-toggleable__label sk-toggleable__label-arrow\">FunctionTransformer</label><div class=\"sk-toggleable__content\"><pre>FunctionTransformer(func=&lt;function change_cat at 0x0000024A041DA4C0&gt;)</pre></div></div></div></div></div></div><div class=\"sk-parallel-item\"><div class=\"sk-item\"><div class=\"sk-label-container\"><div class=\"sk-label sk-toggleable\"><input class=\"sk-toggleable__control sk-hidden--visually\" id=\"040ff9db-d9c0-4a0b-b913-da81318078ef\" type=\"checkbox\" ><label for=\"040ff9db-d9c0-4a0b-b913-da81318078ef\" class=\"sk-toggleable__label sk-toggleable__label-arrow\">remove_month</label><div class=\"sk-toggleable__content\"><pre>earliest_cr_line</pre></div></div></div><div class=\"sk-serial\"><div class=\"sk-item\"><div class=\"sk-estimator sk-toggleable\"><input class=\"sk-toggleable__control sk-hidden--visually\" id=\"c001f2c3-62eb-428b-947d-ef22f9c6aa08\" type=\"checkbox\" ><label for=\"c001f2c3-62eb-428b-947d-ef22f9c6aa08\" class=\"sk-toggleable__label sk-toggleable__label-arrow\">FunctionTransformer</label><div class=\"sk-toggleable__content\"><pre>FunctionTransformer(func=&lt;function to_year at 0x0000024A98290AF0&gt;)</pre></div></div></div></div></div></div><div class=\"sk-parallel-item\"><div class=\"sk-item\"><div class=\"sk-label-container\"><div class=\"sk-label sk-toggleable\"><input class=\"sk-toggleable__control sk-hidden--visually\" id=\"5db2a618-7d84-41fa-b97c-77e4e4782a6b\" type=\"checkbox\" ><label for=\"5db2a618-7d84-41fa-b97c-77e4e4782a6b\" class=\"sk-toggleable__label sk-toggleable__label-arrow\">remove_percent</label><div class=\"sk-toggleable__content\"><pre>[&#x27;int_rate&#x27;, &#x27;revol_util&#x27;]</pre></div></div></div><div class=\"sk-serial\"><div class=\"sk-item\"><div class=\"sk-estimator sk-toggleable\"><input class=\"sk-toggleable__control sk-hidden--visually\" id=\"f3473697-7ebf-41db-93f3-08d359e3cef4\" type=\"checkbox\" ><label for=\"f3473697-7ebf-41db-93f3-08d359e3cef4\" class=\"sk-toggleable__label sk-toggleable__label-arrow\">FunctionTransformer</label><div class=\"sk-toggleable__content\"><pre>FunctionTransformer(func=&lt;function rm_perc at 0x0000024A98290B80&gt;)</pre></div></div></div></div></div></div><div class=\"sk-parallel-item\"><div class=\"sk-item\"><div class=\"sk-label-container\"><div class=\"sk-label sk-toggleable\"><input class=\"sk-toggleable__control sk-hidden--visually\" id=\"fe4e12d6-01a6-4c1e-8f6d-e0ea45c1130d\" type=\"checkbox\" ><label for=\"fe4e12d6-01a6-4c1e-8f6d-e0ea45c1130d\" class=\"sk-toggleable__label sk-toggleable__label-arrow\">remove_str</label><div class=\"sk-toggleable__content\"><pre>term</pre></div></div></div><div class=\"sk-serial\"><div class=\"sk-item\"><div class=\"sk-estimator sk-toggleable\"><input class=\"sk-toggleable__control sk-hidden--visually\" id=\"02d4ec2c-4979-46d0-90ec-a15a1cd38743\" type=\"checkbox\" ><label for=\"02d4ec2c-4979-46d0-90ec-a15a1cd38743\" class=\"sk-toggleable__label sk-toggleable__label-arrow\">FunctionTransformer</label><div class=\"sk-toggleable__content\"><pre>FunctionTransformer(func=&lt;function rem_str at 0x0000024A98290C10&gt;)</pre></div></div></div></div></div></div></div></div><div class=\"sk-item\"><div class=\"sk-estimator sk-toggleable\"><input class=\"sk-toggleable__control sk-hidden--visually\" id=\"277b4132-5cf8-4159-a233-a49079e86fd5\" type=\"checkbox\" ><label for=\"277b4132-5cf8-4159-a233-a49079e86fd5\" class=\"sk-toggleable__label sk-toggleable__label-arrow\">FunctionTransformer</label><div class=\"sk-toggleable__content\"><pre>FunctionTransformer(func=&lt;function DfTransformer at 0x0000024A98290A60&gt;,\n",
       "                    kw_args={&#x27;column_names&#x27;: [&#x27;dti&#x27;, &#x27;open_acc&#x27;, &#x27;pub_rec&#x27;,\n",
       "                                              &#x27;pub_rec_bankruptcies&#x27;,\n",
       "                                              &#x27;annual_inc&#x27;, &#x27;revol_bal&#x27;,\n",
       "                                              &#x27;emp_length&#x27;, &#x27;MORTGAGE&#x27;, &#x27;RENT&#x27;,\n",
       "                                              &#x27;OWN&#x27;, &#x27;earliest_cr_line&#x27;,\n",
       "                                              &#x27;int_rate&#x27;, &#x27;revol_util&#x27;,\n",
       "                                              &#x27;term&#x27;]})</pre></div></div></div><div class=\"sk-item sk-dashed-wrapped\"><div class=\"sk-label-container\"><div class=\"sk-label sk-toggleable\"><input class=\"sk-toggleable__control sk-hidden--visually\" id=\"68b31797-05ed-4391-bec3-22e2002b1c1a\" type=\"checkbox\" ><label for=\"68b31797-05ed-4391-bec3-22e2002b1c1a\" class=\"sk-toggleable__label sk-toggleable__label-arrow\">imputation: ColumnTransformer</label><div class=\"sk-toggleable__content\"><pre>ColumnTransformer(transformers=[(&#x27;passthrough&#x27;, &#x27;passthrough&#x27;,\n",
       "                                 [&#x27;MORTGAGE&#x27;, &#x27;RENT&#x27;, &#x27;OWN&#x27;]),\n",
       "                                (&#x27;imputer&#x27;, MeanMedianImputer(),\n",
       "                                 [&#x27;dti&#x27;, &#x27;open_acc&#x27;, &#x27;pub_rec&#x27;,\n",
       "                                  &#x27;pub_rec_bankruptcies&#x27;, &#x27;annual_inc&#x27;,\n",
       "                                  &#x27;revol_bal&#x27;, &#x27;emp_length&#x27;, &#x27;earliest_cr_line&#x27;,\n",
       "                                  &#x27;int_rate&#x27;, &#x27;revol_util&#x27;, &#x27;term&#x27;])])</pre></div></div></div><div class=\"sk-parallel\"><div class=\"sk-parallel-item\"><div class=\"sk-item\"><div class=\"sk-label-container\"><div class=\"sk-label sk-toggleable\"><input class=\"sk-toggleable__control sk-hidden--visually\" id=\"e7061704-4db1-462b-b524-43a0cd1d0a27\" type=\"checkbox\" ><label for=\"e7061704-4db1-462b-b524-43a0cd1d0a27\" class=\"sk-toggleable__label sk-toggleable__label-arrow\">passthrough</label><div class=\"sk-toggleable__content\"><pre>[&#x27;MORTGAGE&#x27;, &#x27;RENT&#x27;, &#x27;OWN&#x27;]</pre></div></div></div><div class=\"sk-serial\"><div class=\"sk-item\"><div class=\"sk-estimator sk-toggleable\"><input class=\"sk-toggleable__control sk-hidden--visually\" id=\"878b9187-9390-4665-81ef-6e98995cb8c5\" type=\"checkbox\" ><label for=\"878b9187-9390-4665-81ef-6e98995cb8c5\" class=\"sk-toggleable__label sk-toggleable__label-arrow\">passthrough</label><div class=\"sk-toggleable__content\"><pre>passthrough</pre></div></div></div></div></div></div><div class=\"sk-parallel-item\"><div class=\"sk-item\"><div class=\"sk-label-container\"><div class=\"sk-label sk-toggleable\"><input class=\"sk-toggleable__control sk-hidden--visually\" id=\"8eac1ba0-96de-4934-b736-749cec777a4c\" type=\"checkbox\" ><label for=\"8eac1ba0-96de-4934-b736-749cec777a4c\" class=\"sk-toggleable__label sk-toggleable__label-arrow\">imputer</label><div class=\"sk-toggleable__content\"><pre>[&#x27;dti&#x27;, &#x27;open_acc&#x27;, &#x27;pub_rec&#x27;, &#x27;pub_rec_bankruptcies&#x27;, &#x27;annual_inc&#x27;, &#x27;revol_bal&#x27;, &#x27;emp_length&#x27;, &#x27;earliest_cr_line&#x27;, &#x27;int_rate&#x27;, &#x27;revol_util&#x27;, &#x27;term&#x27;]</pre></div></div></div><div class=\"sk-serial\"><div class=\"sk-item\"><div class=\"sk-estimator sk-toggleable\"><input class=\"sk-toggleable__control sk-hidden--visually\" id=\"55c51d70-5ff5-44e7-b0bb-850b0050ba8c\" type=\"checkbox\" ><label for=\"55c51d70-5ff5-44e7-b0bb-850b0050ba8c\" class=\"sk-toggleable__label sk-toggleable__label-arrow\">MeanMedianImputer</label><div class=\"sk-toggleable__content\"><pre>MeanMedianImputer()</pre></div></div></div></div></div></div></div></div><div class=\"sk-item\"><div class=\"sk-estimator sk-toggleable\"><input class=\"sk-toggleable__control sk-hidden--visually\" id=\"0def8db5-fe26-4509-8506-dd2a8fba44b0\" type=\"checkbox\" ><label for=\"0def8db5-fe26-4509-8506-dd2a8fba44b0\" class=\"sk-toggleable__label sk-toggleable__label-arrow\">FunctionTransformer</label><div class=\"sk-toggleable__content\"><pre>FunctionTransformer(func=&lt;function DfTransformer at 0x0000024A98290A60&gt;,\n",
       "                    kw_args={&#x27;column_names&#x27;: [&#x27;MORTGAGE&#x27;, &#x27;RENT&#x27;, &#x27;OWN&#x27;, &#x27;dti&#x27;,\n",
       "                                              &#x27;open_acc&#x27;, &#x27;pub_rec&#x27;,\n",
       "                                              &#x27;pub_rec_bankruptcies&#x27;,\n",
       "                                              &#x27;annual_inc&#x27;, &#x27;revol_bal&#x27;,\n",
       "                                              &#x27;emp_length&#x27;, &#x27;earliest_cr_line&#x27;,\n",
       "                                              &#x27;int_rate&#x27;, &#x27;revol_util&#x27;,\n",
       "                                              &#x27;term&#x27;]})</pre></div></div></div><div class=\"sk-item\"><div class=\"sk-estimator sk-toggleable\"><input class=\"sk-toggleable__control sk-hidden--visually\" id=\"94ac7b04-f3f5-4833-bd7f-1df29d00bbcc\" type=\"checkbox\" ><label for=\"94ac7b04-f3f5-4833-bd7f-1df29d00bbcc\" class=\"sk-toggleable__label sk-toggleable__label-arrow\">ArbitraryOutlierCapper</label><div class=\"sk-toggleable__content\"><pre>ArbitraryOutlierCapper(max_capping_dict={&#x27;dti&#x27;: 42})</pre></div></div></div><div class=\"sk-item sk-dashed-wrapped\"><div class=\"sk-label-container\"><div class=\"sk-label sk-toggleable\"><input class=\"sk-toggleable__control sk-hidden--visually\" id=\"7f1593ca-5ce8-46eb-89f2-278abdb11714\" type=\"checkbox\" ><label for=\"7f1593ca-5ce8-46eb-89f2-278abdb11714\" class=\"sk-toggleable__label sk-toggleable__label-arrow\">normalization: ColumnTransformer</label><div class=\"sk-toggleable__content\"><pre>ColumnTransformer(remainder=&#x27;passthrough&#x27;,\n",
       "                  transformers=[(&#x27;scale&#x27;, StandardScaler(),\n",
       "                                 [&#x27;dti&#x27;, &#x27;annual_inc&#x27;, &#x27;revol_bal&#x27;,\n",
       "                                  &#x27;revol_util&#x27;, &#x27;int_rate&#x27;, &#x27;open_acc&#x27;,\n",
       "                                  &#x27;pub_rec&#x27;, &#x27;pub_rec_bankruptcies&#x27;,\n",
       "                                  &#x27;emp_length&#x27;])])</pre></div></div></div><div class=\"sk-parallel\"><div class=\"sk-parallel-item\"><div class=\"sk-item\"><div class=\"sk-label-container\"><div class=\"sk-label sk-toggleable\"><input class=\"sk-toggleable__control sk-hidden--visually\" id=\"89556e6e-6c00-447e-b1e2-e11ea26b6fd4\" type=\"checkbox\" ><label for=\"89556e6e-6c00-447e-b1e2-e11ea26b6fd4\" class=\"sk-toggleable__label sk-toggleable__label-arrow\">scale</label><div class=\"sk-toggleable__content\"><pre>[&#x27;dti&#x27;, &#x27;annual_inc&#x27;, &#x27;revol_bal&#x27;, &#x27;revol_util&#x27;, &#x27;int_rate&#x27;, &#x27;open_acc&#x27;, &#x27;pub_rec&#x27;, &#x27;pub_rec_bankruptcies&#x27;, &#x27;emp_length&#x27;]</pre></div></div></div><div class=\"sk-serial\"><div class=\"sk-item\"><div class=\"sk-estimator sk-toggleable\"><input class=\"sk-toggleable__control sk-hidden--visually\" id=\"f9bdedfc-7910-449e-8550-158a10f880a8\" type=\"checkbox\" ><label for=\"f9bdedfc-7910-449e-8550-158a10f880a8\" class=\"sk-toggleable__label sk-toggleable__label-arrow\">StandardScaler</label><div class=\"sk-toggleable__content\"><pre>StandardScaler()</pre></div></div></div></div></div></div><div class=\"sk-parallel-item\"><div class=\"sk-item\"><div class=\"sk-label-container\"><div class=\"sk-label sk-toggleable\"><input class=\"sk-toggleable__control sk-hidden--visually\" id=\"51b4c482-30b0-4617-bd7f-679cb146d17a\" type=\"checkbox\" ><label for=\"51b4c482-30b0-4617-bd7f-679cb146d17a\" class=\"sk-toggleable__label sk-toggleable__label-arrow\">remainder</label><div class=\"sk-toggleable__content\"><pre>[&#x27;MORTGAGE&#x27;, &#x27;RENT&#x27;, &#x27;OWN&#x27;, &#x27;earliest_cr_line&#x27;, &#x27;term&#x27;]</pre></div></div></div><div class=\"sk-serial\"><div class=\"sk-item\"><div class=\"sk-estimator sk-toggleable\"><input class=\"sk-toggleable__control sk-hidden--visually\" id=\"2294bdfc-2f6d-4754-b865-b980436fc951\" type=\"checkbox\" ><label for=\"2294bdfc-2f6d-4754-b865-b980436fc951\" class=\"sk-toggleable__label sk-toggleable__label-arrow\">passthrough</label><div class=\"sk-toggleable__content\"><pre>passthrough</pre></div></div></div></div></div></div></div></div><div class=\"sk-item\"><div class=\"sk-estimator sk-toggleable\"><input class=\"sk-toggleable__control sk-hidden--visually\" id=\"bd282275-31f7-460e-aea1-4415806e729a\" type=\"checkbox\" ><label for=\"bd282275-31f7-460e-aea1-4415806e729a\" class=\"sk-toggleable__label sk-toggleable__label-arrow\">LogisticRegression</label><div class=\"sk-toggleable__content\"><pre>LogisticRegression()</pre></div></div></div></div></div></div></div>"
      ],
      "text/plain": [
       "Pipeline(steps=[('feature_transformation',\n",
       "                 ColumnTransformer(transformers=[('passthrough', 'passthrough',\n",
       "                                                  ['dti', 'open_acc', 'pub_rec',\n",
       "                                                   'pub_rec_bankruptcies']),\n",
       "                                                 ('drop', 'drop',\n",
       "                                                  ['fico_range_high',\n",
       "                                                   'loan_amnt', 'issue_d',\n",
       "                                                   'total_acc']),\n",
       "                                                 ('log_tf',\n",
       "                                                  FunctionTransformer(func=<ufunc 'log1p'>),\n",
       "                                                  ['annual_inc', 'revol_bal']),\n",
       "                                                 ('remove_employment_str',\n",
       "                                                  FunctionTransformer(...\n",
       "                                                               'earliest_cr_line',\n",
       "                                                               'int_rate',\n",
       "                                                               'revol_util',\n",
       "                                                               'term']})),\n",
       "                ('outlier',\n",
       "                 ArbitraryOutlierCapper(max_capping_dict={'dti': 42})),\n",
       "                ('normalization',\n",
       "                 ColumnTransformer(remainder='passthrough',\n",
       "                                   transformers=[('scale', StandardScaler(),\n",
       "                                                  ['dti', 'annual_inc',\n",
       "                                                   'revol_bal', 'revol_util',\n",
       "                                                   'int_rate', 'open_acc',\n",
       "                                                   'pub_rec',\n",
       "                                                   'pub_rec_bankruptcies',\n",
       "                                                   'emp_length'])])),\n",
       "                ('model', LogisticRegression())])"
      ]
     },
     "metadata": {},
     "output_type": "display_data"
    },
    {
     "name": "stderr",
     "output_type": "stream",
     "text": [
      "[Parallel(n_jobs=1)]: Using backend SequentialBackend with 1 concurrent workers.\n"
     ]
    },
    {
     "name": "stdout",
     "output_type": "stream",
     "text": [
      "[CV] END .................................................... total time=  24.9s\n"
     ]
    },
    {
     "name": "stderr",
     "output_type": "stream",
     "text": [
      "[Parallel(n_jobs=1)]: Done   1 out of   1 | elapsed:   34.7s remaining:    0.0s\n"
     ]
    },
    {
     "name": "stdout",
     "output_type": "stream",
     "text": [
      "[CV] END .................................................... total time=  25.1s\n",
      "[CV] END .................................................... total time=  25.8s\n"
     ]
    },
    {
     "name": "stderr",
     "output_type": "stream",
     "text": [
      "C:\\Users\\David_Elliott\\anaconda3\\envs\\Programming_Basics\\lib\\site-packages\\sklearn\\model_selection\\_validation.py:770: UserWarning: Scoring failed. The score on this train-test partition for these parameters will be set to nan. Details: \n",
      "Traceback (most recent call last):\n",
      "  File \"C:\\Users\\David_Elliott\\anaconda3\\envs\\Programming_Basics\\lib\\site-packages\\sklearn\\model_selection\\_validation.py\", line 761, in _score\n",
      "    scores = scorer(estimator, X_test, y_test)\n",
      "  File \"C:\\Users\\David_Elliott\\anaconda3\\envs\\Programming_Basics\\lib\\site-packages\\sklearn\\metrics\\_scorer.py\", line 418, in _passthrough_scorer\n",
      "    return estimator.score(*args, **kwargs)\n",
      "  File \"C:\\Users\\David_Elliott\\anaconda3\\envs\\Programming_Basics\\lib\\site-packages\\sklearn\\utils\\metaestimators.py\", line 113, in <lambda>\n",
      "    out = lambda *args, **kwargs: self.fn(obj, *args, **kwargs)  # noqa\n",
      "  File \"C:\\Users\\David_Elliott\\anaconda3\\envs\\Programming_Basics\\lib\\site-packages\\sklearn\\pipeline.py\", line 707, in score\n",
      "    Xt = transform.transform(Xt)\n",
      "  File \"C:\\Users\\David_Elliott\\anaconda3\\envs\\Programming_Basics\\lib\\site-packages\\sklearn\\compose\\_column_transformer.py\", line 748, in transform\n",
      "    Xs = self._fit_transform(\n",
      "  File \"C:\\Users\\David_Elliott\\anaconda3\\envs\\Programming_Basics\\lib\\site-packages\\sklearn\\compose\\_column_transformer.py\", line 606, in _fit_transform\n",
      "    return Parallel(n_jobs=self.n_jobs)(\n",
      "  File \"C:\\Users\\David_Elliott\\AppData\\Roaming\\Python\\Python39\\site-packages\\joblib\\parallel.py\", line 1046, in __call__\n",
      "    while self.dispatch_one_batch(iterator):\n",
      "  File \"C:\\Users\\David_Elliott\\AppData\\Roaming\\Python\\Python39\\site-packages\\joblib\\parallel.py\", line 861, in dispatch_one_batch\n",
      "    self._dispatch(tasks)\n",
      "  File \"C:\\Users\\David_Elliott\\AppData\\Roaming\\Python\\Python39\\site-packages\\joblib\\parallel.py\", line 779, in _dispatch\n",
      "    job = self._backend.apply_async(batch, callback=cb)\n",
      "  File \"C:\\Users\\David_Elliott\\AppData\\Roaming\\Python\\Python39\\site-packages\\joblib\\_parallel_backends.py\", line 208, in apply_async\n",
      "    result = ImmediateResult(func)\n",
      "  File \"C:\\Users\\David_Elliott\\AppData\\Roaming\\Python\\Python39\\site-packages\\joblib\\_parallel_backends.py\", line 572, in __init__\n",
      "    self.results = batch()\n",
      "  File \"C:\\Users\\David_Elliott\\AppData\\Roaming\\Python\\Python39\\site-packages\\joblib\\parallel.py\", line 262, in __call__\n",
      "    return [func(*args, **kwargs)\n",
      "  File \"C:\\Users\\David_Elliott\\AppData\\Roaming\\Python\\Python39\\site-packages\\joblib\\parallel.py\", line 262, in <listcomp>\n",
      "    return [func(*args, **kwargs)\n",
      "  File \"C:\\Users\\David_Elliott\\anaconda3\\envs\\Programming_Basics\\lib\\site-packages\\sklearn\\utils\\fixes.py\", line 216, in __call__\n",
      "    return self.function(*args, **kwargs)\n",
      "  File \"C:\\Users\\David_Elliott\\anaconda3\\envs\\Programming_Basics\\lib\\site-packages\\sklearn\\pipeline.py\", line 876, in _transform_one\n",
      "    res = transformer.transform(X)\n",
      "  File \"C:\\Users\\David_Elliott\\anaconda3\\envs\\Programming_Basics\\lib\\site-packages\\sklearn\\preprocessing\\_function_transformer.py\", line 182, in transform\n",
      "    return self._transform(X, func=self.func, kw_args=self.kw_args)\n",
      "  File \"C:\\Users\\David_Elliott\\anaconda3\\envs\\Programming_Basics\\lib\\site-packages\\sklearn\\preprocessing\\_function_transformer.py\", line 205, in _transform\n",
      "    return func(X, **(kw_args if kw_args else {}))\n",
      "  File \"<ipython-input-90-3faf1eaf89b9>\", line 8, in change_cat\n",
      "    series = series.drop(\"BASELINE\", axis=1)\n",
      "  File \"C:\\Users\\David_Elliott\\anaconda3\\envs\\Programming_Basics\\lib\\site-packages\\pandas\\util\\_decorators.py\", line 311, in wrapper\n",
      "    return func(*args, **kwargs)\n",
      "  File \"C:\\Users\\David_Elliott\\anaconda3\\envs\\Programming_Basics\\lib\\site-packages\\pandas\\core\\frame.py\", line 4948, in drop\n",
      "    return super().drop(\n",
      "  File \"C:\\Users\\David_Elliott\\anaconda3\\envs\\Programming_Basics\\lib\\site-packages\\pandas\\core\\generic.py\", line 4279, in drop\n",
      "    obj = obj._drop_axis(labels, axis, level=level, errors=errors)\n",
      "  File \"C:\\Users\\David_Elliott\\anaconda3\\envs\\Programming_Basics\\lib\\site-packages\\pandas\\core\\generic.py\", line 4323, in _drop_axis\n",
      "    new_axis = axis.drop(labels, errors=errors)\n",
      "  File \"C:\\Users\\David_Elliott\\anaconda3\\envs\\Programming_Basics\\lib\\site-packages\\pandas\\core\\indexes\\base.py\", line 6644, in drop\n",
      "    raise KeyError(f\"{list(labels[mask])} not found in axis\")\n",
      "KeyError: \"['BASELINE'] not found in axis\"\n",
      "\n",
      "  warnings.warn(\n"
     ]
    },
    {
     "name": "stdout",
     "output_type": "stream",
     "text": [
      "[CV] END .................................................... total time=  20.9s\n",
      "[CV] END .................................................... total time=  20.4s\n"
     ]
    },
    {
     "name": "stderr",
     "output_type": "stream",
     "text": [
      "[Parallel(n_jobs=1)]: Done   5 out of   5 | elapsed:  2.8min finished\n"
     ]
    },
    {
     "data": {
      "text/html": [
       "<div>\n",
       "<style scoped>\n",
       "    .dataframe tbody tr th:only-of-type {\n",
       "        vertical-align: middle;\n",
       "    }\n",
       "\n",
       "    .dataframe tbody tr th {\n",
       "        vertical-align: top;\n",
       "    }\n",
       "\n",
       "    .dataframe thead th {\n",
       "        text-align: right;\n",
       "    }\n",
       "</style>\n",
       "<table border=\"1\" class=\"dataframe\">\n",
       "  <thead>\n",
       "    <tr style=\"text-align: right;\">\n",
       "      <th></th>\n",
       "      <th>fit_time</th>\n",
       "      <th>score_time</th>\n",
       "      <th>val_score</th>\n",
       "      <th>train_score</th>\n",
       "    </tr>\n",
       "    <tr>\n",
       "      <th>fold</th>\n",
       "      <th></th>\n",
       "      <th></th>\n",
       "      <th></th>\n",
       "      <th></th>\n",
       "    </tr>\n",
       "  </thead>\n",
       "  <tbody>\n",
       "    <tr>\n",
       "      <th>0</th>\n",
       "      <td>22.36</td>\n",
       "      <td>2.63</td>\n",
       "      <td>0.80</td>\n",
       "      <td>0.80</td>\n",
       "    </tr>\n",
       "    <tr>\n",
       "      <th>1</th>\n",
       "      <td>23.01</td>\n",
       "      <td>2.21</td>\n",
       "      <td>0.80</td>\n",
       "      <td>0.81</td>\n",
       "    </tr>\n",
       "    <tr>\n",
       "      <th>2</th>\n",
       "      <td>23.28</td>\n",
       "      <td>2.61</td>\n",
       "      <td>0.81</td>\n",
       "      <td>0.80</td>\n",
       "    </tr>\n",
       "    <tr>\n",
       "      <th>3</th>\n",
       "      <td>19.57</td>\n",
       "      <td>1.42</td>\n",
       "      <td>NaN</td>\n",
       "      <td>0.80</td>\n",
       "    </tr>\n",
       "    <tr>\n",
       "      <th>4</th>\n",
       "      <td>18.23</td>\n",
       "      <td>2.24</td>\n",
       "      <td>0.81</td>\n",
       "      <td>0.80</td>\n",
       "    </tr>\n",
       "    <tr>\n",
       "      <th>mean</th>\n",
       "      <td>21.29</td>\n",
       "      <td>2.22</td>\n",
       "      <td>0.80</td>\n",
       "      <td>0.80</td>\n",
       "    </tr>\n",
       "    <tr>\n",
       "      <th>sd</th>\n",
       "      <td>2.02</td>\n",
       "      <td>0.44</td>\n",
       "      <td>0.00</td>\n",
       "      <td>0.00</td>\n",
       "    </tr>\n",
       "  </tbody>\n",
       "</table>\n",
       "</div>"
      ],
      "text/plain": [
       "      fit_time  score_time  val_score  train_score\n",
       "fold                                              \n",
       "0        22.36        2.63       0.80         0.80\n",
       "1        23.01        2.21       0.80         0.81\n",
       "2        23.28        2.61       0.81         0.80\n",
       "3        19.57        1.42        NaN         0.80\n",
       "4        18.23        2.24       0.81         0.80\n",
       "mean     21.29        2.22       0.80         0.80\n",
       "sd        2.02        0.44       0.00         0.00"
      ]
     },
     "execution_count": 114,
     "metadata": {},
     "output_type": "execute_result"
    }
   ],
   "source": [
    "from sklearn.linear_model import LogisticRegression\n",
    "\n",
    "log_pipe = Pipeline(pre_processing)\n",
    "log_pipe.steps.append((\"model\", LogisticRegression()))\n",
    "\n",
    "display(log_pipe)\n",
    "\n",
    "tidy_scores(cross_validate(log_pipe, X_train, y_train, cv=5, return_train_score=True, verbose=2))"
   ]
  },
  {
   "cell_type": "markdown",
   "metadata": {},
   "source": [
    "So far not much better than the baseline model."
   ]
  },
  {
   "cell_type": "markdown",
   "metadata": {},
   "source": [
    "---\n",
    "You may want to try to use gridsearch to find optimal parameters. [TODO: discuss GridSearch]. \n",
    "\n",
    "__Notes__\n",
    "- Due to the data size you may want to limit the space you search over, or the number of folds, in the interest of time (on my laptop take ~1 minute for 5 fold cross-validation).\n",
    "\n",
    "__TODO__\n",
    "- save this model and load if present as will take ages each repeat run otherwise\n",
    "- Maybe skip this as its no better..."
   ]
  },
  {
   "cell_type": "code",
   "execution_count": 66,
   "metadata": {},
   "outputs": [
    {
     "name": "stdout",
     "output_type": "stream",
     "text": [
      "Fitting 3 folds for each of 8 candidates, totalling 24 fits\n",
      "[CV] END .............model__C=0.1, model__class_weight=None; total time=  11.6s\n"
     ]
    },
    {
     "name": "stderr",
     "output_type": "stream",
     "text": [
      "C:\\Users\\David_Elliott\\anaconda3\\envs\\Programming_Basics\\lib\\site-packages\\sklearn\\linear_model\\_logistic.py:814: ConvergenceWarning: lbfgs failed to converge (status=1):\n",
      "STOP: TOTAL NO. of ITERATIONS REACHED LIMIT.\n",
      "\n",
      "Increase the number of iterations (max_iter) or scale the data as shown in:\n",
      "    https://scikit-learn.org/stable/modules/preprocessing.html\n",
      "Please also refer to the documentation for alternative solver options:\n",
      "    https://scikit-learn.org/stable/modules/linear_model.html#logistic-regression\n",
      "  n_iter_i = _check_optimize_result(\n"
     ]
    },
    {
     "name": "stdout",
     "output_type": "stream",
     "text": [
      "[CV] END .............model__C=0.1, model__class_weight=None; total time=  11.9s\n"
     ]
    },
    {
     "name": "stderr",
     "output_type": "stream",
     "text": [
      "C:\\Users\\David_Elliott\\anaconda3\\envs\\Programming_Basics\\lib\\site-packages\\sklearn\\linear_model\\_logistic.py:814: ConvergenceWarning: lbfgs failed to converge (status=1):\n",
      "STOP: TOTAL NO. of ITERATIONS REACHED LIMIT.\n",
      "\n",
      "Increase the number of iterations (max_iter) or scale the data as shown in:\n",
      "    https://scikit-learn.org/stable/modules/preprocessing.html\n",
      "Please also refer to the documentation for alternative solver options:\n",
      "    https://scikit-learn.org/stable/modules/linear_model.html#logistic-regression\n",
      "  n_iter_i = _check_optimize_result(\n"
     ]
    },
    {
     "name": "stdout",
     "output_type": "stream",
     "text": [
      "[CV] END .............model__C=0.1, model__class_weight=None; total time=  11.9s\n"
     ]
    },
    {
     "name": "stderr",
     "output_type": "stream",
     "text": [
      "C:\\Users\\David_Elliott\\anaconda3\\envs\\Programming_Basics\\lib\\site-packages\\sklearn\\linear_model\\_logistic.py:814: ConvergenceWarning: lbfgs failed to converge (status=1):\n",
      "STOP: TOTAL NO. of ITERATIONS REACHED LIMIT.\n",
      "\n",
      "Increase the number of iterations (max_iter) or scale the data as shown in:\n",
      "    https://scikit-learn.org/stable/modules/preprocessing.html\n",
      "Please also refer to the documentation for alternative solver options:\n",
      "    https://scikit-learn.org/stable/modules/linear_model.html#logistic-regression\n",
      "  n_iter_i = _check_optimize_result(\n"
     ]
    },
    {
     "name": "stdout",
     "output_type": "stream",
     "text": [
      "[CV] END .........model__C=0.1, model__class_weight=balanced; total time=  12.3s\n"
     ]
    },
    {
     "name": "stderr",
     "output_type": "stream",
     "text": [
      "C:\\Users\\David_Elliott\\anaconda3\\envs\\Programming_Basics\\lib\\site-packages\\sklearn\\linear_model\\_logistic.py:814: ConvergenceWarning: lbfgs failed to converge (status=1):\n",
      "STOP: TOTAL NO. of ITERATIONS REACHED LIMIT.\n",
      "\n",
      "Increase the number of iterations (max_iter) or scale the data as shown in:\n",
      "    https://scikit-learn.org/stable/modules/preprocessing.html\n",
      "Please also refer to the documentation for alternative solver options:\n",
      "    https://scikit-learn.org/stable/modules/linear_model.html#logistic-regression\n",
      "  n_iter_i = _check_optimize_result(\n"
     ]
    },
    {
     "name": "stdout",
     "output_type": "stream",
     "text": [
      "[CV] END .........model__C=0.1, model__class_weight=balanced; total time=  12.8s\n"
     ]
    },
    {
     "name": "stderr",
     "output_type": "stream",
     "text": [
      "C:\\Users\\David_Elliott\\anaconda3\\envs\\Programming_Basics\\lib\\site-packages\\sklearn\\linear_model\\_logistic.py:814: ConvergenceWarning: lbfgs failed to converge (status=1):\n",
      "STOP: TOTAL NO. of ITERATIONS REACHED LIMIT.\n",
      "\n",
      "Increase the number of iterations (max_iter) or scale the data as shown in:\n",
      "    https://scikit-learn.org/stable/modules/preprocessing.html\n",
      "Please also refer to the documentation for alternative solver options:\n",
      "    https://scikit-learn.org/stable/modules/linear_model.html#logistic-regression\n",
      "  n_iter_i = _check_optimize_result(\n"
     ]
    },
    {
     "name": "stdout",
     "output_type": "stream",
     "text": [
      "[CV] END .........model__C=0.1, model__class_weight=balanced; total time=  12.6s\n"
     ]
    },
    {
     "name": "stderr",
     "output_type": "stream",
     "text": [
      "C:\\Users\\David_Elliott\\anaconda3\\envs\\Programming_Basics\\lib\\site-packages\\sklearn\\linear_model\\_logistic.py:814: ConvergenceWarning: lbfgs failed to converge (status=1):\n",
      "STOP: TOTAL NO. of ITERATIONS REACHED LIMIT.\n",
      "\n",
      "Increase the number of iterations (max_iter) or scale the data as shown in:\n",
      "    https://scikit-learn.org/stable/modules/preprocessing.html\n",
      "Please also refer to the documentation for alternative solver options:\n",
      "    https://scikit-learn.org/stable/modules/linear_model.html#logistic-regression\n",
      "  n_iter_i = _check_optimize_result(\n"
     ]
    },
    {
     "name": "stdout",
     "output_type": "stream",
     "text": [
      "[CV] END .............model__C=0.5, model__class_weight=None; total time=  12.5s\n"
     ]
    },
    {
     "name": "stderr",
     "output_type": "stream",
     "text": [
      "C:\\Users\\David_Elliott\\anaconda3\\envs\\Programming_Basics\\lib\\site-packages\\sklearn\\linear_model\\_logistic.py:814: ConvergenceWarning: lbfgs failed to converge (status=1):\n",
      "STOP: TOTAL NO. of ITERATIONS REACHED LIMIT.\n",
      "\n",
      "Increase the number of iterations (max_iter) or scale the data as shown in:\n",
      "    https://scikit-learn.org/stable/modules/preprocessing.html\n",
      "Please also refer to the documentation for alternative solver options:\n",
      "    https://scikit-learn.org/stable/modules/linear_model.html#logistic-regression\n",
      "  n_iter_i = _check_optimize_result(\n"
     ]
    },
    {
     "name": "stdout",
     "output_type": "stream",
     "text": [
      "[CV] END .............model__C=0.5, model__class_weight=None; total time=  13.1s\n"
     ]
    },
    {
     "name": "stderr",
     "output_type": "stream",
     "text": [
      "C:\\Users\\David_Elliott\\anaconda3\\envs\\Programming_Basics\\lib\\site-packages\\sklearn\\linear_model\\_logistic.py:814: ConvergenceWarning: lbfgs failed to converge (status=1):\n",
      "STOP: TOTAL NO. of ITERATIONS REACHED LIMIT.\n",
      "\n",
      "Increase the number of iterations (max_iter) or scale the data as shown in:\n",
      "    https://scikit-learn.org/stable/modules/preprocessing.html\n",
      "Please also refer to the documentation for alternative solver options:\n",
      "    https://scikit-learn.org/stable/modules/linear_model.html#logistic-regression\n",
      "  n_iter_i = _check_optimize_result(\n"
     ]
    },
    {
     "name": "stdout",
     "output_type": "stream",
     "text": [
      "[CV] END .............model__C=0.5, model__class_weight=None; total time=  13.2s\n"
     ]
    },
    {
     "name": "stderr",
     "output_type": "stream",
     "text": [
      "C:\\Users\\David_Elliott\\anaconda3\\envs\\Programming_Basics\\lib\\site-packages\\sklearn\\linear_model\\_logistic.py:814: ConvergenceWarning: lbfgs failed to converge (status=1):\n",
      "STOP: TOTAL NO. of ITERATIONS REACHED LIMIT.\n",
      "\n",
      "Increase the number of iterations (max_iter) or scale the data as shown in:\n",
      "    https://scikit-learn.org/stable/modules/preprocessing.html\n",
      "Please also refer to the documentation for alternative solver options:\n",
      "    https://scikit-learn.org/stable/modules/linear_model.html#logistic-regression\n",
      "  n_iter_i = _check_optimize_result(\n"
     ]
    },
    {
     "name": "stdout",
     "output_type": "stream",
     "text": [
      "[CV] END .........model__C=0.5, model__class_weight=balanced; total time=  12.9s\n"
     ]
    },
    {
     "name": "stderr",
     "output_type": "stream",
     "text": [
      "C:\\Users\\David_Elliott\\anaconda3\\envs\\Programming_Basics\\lib\\site-packages\\sklearn\\linear_model\\_logistic.py:814: ConvergenceWarning: lbfgs failed to converge (status=1):\n",
      "STOP: TOTAL NO. of ITERATIONS REACHED LIMIT.\n",
      "\n",
      "Increase the number of iterations (max_iter) or scale the data as shown in:\n",
      "    https://scikit-learn.org/stable/modules/preprocessing.html\n",
      "Please also refer to the documentation for alternative solver options:\n",
      "    https://scikit-learn.org/stable/modules/linear_model.html#logistic-regression\n",
      "  n_iter_i = _check_optimize_result(\n"
     ]
    },
    {
     "name": "stdout",
     "output_type": "stream",
     "text": [
      "[CV] END .........model__C=0.5, model__class_weight=balanced; total time=  12.8s\n"
     ]
    },
    {
     "name": "stderr",
     "output_type": "stream",
     "text": [
      "C:\\Users\\David_Elliott\\anaconda3\\envs\\Programming_Basics\\lib\\site-packages\\sklearn\\linear_model\\_logistic.py:814: ConvergenceWarning: lbfgs failed to converge (status=1):\n",
      "STOP: TOTAL NO. of ITERATIONS REACHED LIMIT.\n",
      "\n",
      "Increase the number of iterations (max_iter) or scale the data as shown in:\n",
      "    https://scikit-learn.org/stable/modules/preprocessing.html\n",
      "Please also refer to the documentation for alternative solver options:\n",
      "    https://scikit-learn.org/stable/modules/linear_model.html#logistic-regression\n",
      "  n_iter_i = _check_optimize_result(\n"
     ]
    },
    {
     "name": "stdout",
     "output_type": "stream",
     "text": [
      "[CV] END .........model__C=0.5, model__class_weight=balanced; total time=  12.2s\n"
     ]
    },
    {
     "name": "stderr",
     "output_type": "stream",
     "text": [
      "C:\\Users\\David_Elliott\\anaconda3\\envs\\Programming_Basics\\lib\\site-packages\\sklearn\\linear_model\\_logistic.py:814: ConvergenceWarning: lbfgs failed to converge (status=1):\n",
      "STOP: TOTAL NO. of ITERATIONS REACHED LIMIT.\n",
      "\n",
      "Increase the number of iterations (max_iter) or scale the data as shown in:\n",
      "    https://scikit-learn.org/stable/modules/preprocessing.html\n",
      "Please also refer to the documentation for alternative solver options:\n",
      "    https://scikit-learn.org/stable/modules/linear_model.html#logistic-regression\n",
      "  n_iter_i = _check_optimize_result(\n"
     ]
    },
    {
     "name": "stdout",
     "output_type": "stream",
     "text": [
      "[CV] END ...............model__C=1, model__class_weight=None; total time=  12.5s\n"
     ]
    },
    {
     "name": "stderr",
     "output_type": "stream",
     "text": [
      "C:\\Users\\David_Elliott\\anaconda3\\envs\\Programming_Basics\\lib\\site-packages\\sklearn\\linear_model\\_logistic.py:814: ConvergenceWarning: lbfgs failed to converge (status=1):\n",
      "STOP: TOTAL NO. of ITERATIONS REACHED LIMIT.\n",
      "\n",
      "Increase the number of iterations (max_iter) or scale the data as shown in:\n",
      "    https://scikit-learn.org/stable/modules/preprocessing.html\n",
      "Please also refer to the documentation for alternative solver options:\n",
      "    https://scikit-learn.org/stable/modules/linear_model.html#logistic-regression\n",
      "  n_iter_i = _check_optimize_result(\n"
     ]
    },
    {
     "name": "stdout",
     "output_type": "stream",
     "text": [
      "[CV] END ...............model__C=1, model__class_weight=None; total time=  12.6s\n"
     ]
    },
    {
     "name": "stderr",
     "output_type": "stream",
     "text": [
      "C:\\Users\\David_Elliott\\anaconda3\\envs\\Programming_Basics\\lib\\site-packages\\sklearn\\linear_model\\_logistic.py:814: ConvergenceWarning: lbfgs failed to converge (status=1):\n",
      "STOP: TOTAL NO. of ITERATIONS REACHED LIMIT.\n",
      "\n",
      "Increase the number of iterations (max_iter) or scale the data as shown in:\n",
      "    https://scikit-learn.org/stable/modules/preprocessing.html\n",
      "Please also refer to the documentation for alternative solver options:\n",
      "    https://scikit-learn.org/stable/modules/linear_model.html#logistic-regression\n",
      "  n_iter_i = _check_optimize_result(\n"
     ]
    },
    {
     "name": "stdout",
     "output_type": "stream",
     "text": [
      "[CV] END ...............model__C=1, model__class_weight=None; total time=  12.6s\n"
     ]
    },
    {
     "name": "stderr",
     "output_type": "stream",
     "text": [
      "C:\\Users\\David_Elliott\\anaconda3\\envs\\Programming_Basics\\lib\\site-packages\\sklearn\\linear_model\\_logistic.py:814: ConvergenceWarning: lbfgs failed to converge (status=1):\n",
      "STOP: TOTAL NO. of ITERATIONS REACHED LIMIT.\n",
      "\n",
      "Increase the number of iterations (max_iter) or scale the data as shown in:\n",
      "    https://scikit-learn.org/stable/modules/preprocessing.html\n",
      "Please also refer to the documentation for alternative solver options:\n",
      "    https://scikit-learn.org/stable/modules/linear_model.html#logistic-regression\n",
      "  n_iter_i = _check_optimize_result(\n"
     ]
    },
    {
     "name": "stdout",
     "output_type": "stream",
     "text": [
      "[CV] END ...........model__C=1, model__class_weight=balanced; total time=  13.0s\n",
      "[CV] END ...........model__C=1, model__class_weight=balanced; total time=  15.4s\n"
     ]
    },
    {
     "name": "stderr",
     "output_type": "stream",
     "text": [
      "C:\\Users\\David_Elliott\\anaconda3\\envs\\Programming_Basics\\lib\\site-packages\\sklearn\\linear_model\\_logistic.py:814: ConvergenceWarning: lbfgs failed to converge (status=1):\n",
      "STOP: TOTAL NO. of ITERATIONS REACHED LIMIT.\n",
      "\n",
      "Increase the number of iterations (max_iter) or scale the data as shown in:\n",
      "    https://scikit-learn.org/stable/modules/preprocessing.html\n",
      "Please also refer to the documentation for alternative solver options:\n",
      "    https://scikit-learn.org/stable/modules/linear_model.html#logistic-regression\n",
      "  n_iter_i = _check_optimize_result(\n"
     ]
    },
    {
     "name": "stdout",
     "output_type": "stream",
     "text": [
      "[CV] END ...........model__C=1, model__class_weight=balanced; total time=  17.6s\n"
     ]
    },
    {
     "name": "stderr",
     "output_type": "stream",
     "text": [
      "C:\\Users\\David_Elliott\\anaconda3\\envs\\Programming_Basics\\lib\\site-packages\\sklearn\\linear_model\\_logistic.py:814: ConvergenceWarning: lbfgs failed to converge (status=1):\n",
      "STOP: TOTAL NO. of ITERATIONS REACHED LIMIT.\n",
      "\n",
      "Increase the number of iterations (max_iter) or scale the data as shown in:\n",
      "    https://scikit-learn.org/stable/modules/preprocessing.html\n",
      "Please also refer to the documentation for alternative solver options:\n",
      "    https://scikit-learn.org/stable/modules/linear_model.html#logistic-regression\n",
      "  n_iter_i = _check_optimize_result(\n"
     ]
    },
    {
     "name": "stdout",
     "output_type": "stream",
     "text": [
      "[CV] END ...............model__C=2, model__class_weight=None; total time=  16.9s\n"
     ]
    },
    {
     "name": "stderr",
     "output_type": "stream",
     "text": [
      "C:\\Users\\David_Elliott\\anaconda3\\envs\\Programming_Basics\\lib\\site-packages\\sklearn\\linear_model\\_logistic.py:814: ConvergenceWarning: lbfgs failed to converge (status=1):\n",
      "STOP: TOTAL NO. of ITERATIONS REACHED LIMIT.\n",
      "\n",
      "Increase the number of iterations (max_iter) or scale the data as shown in:\n",
      "    https://scikit-learn.org/stable/modules/preprocessing.html\n",
      "Please also refer to the documentation for alternative solver options:\n",
      "    https://scikit-learn.org/stable/modules/linear_model.html#logistic-regression\n",
      "  n_iter_i = _check_optimize_result(\n"
     ]
    },
    {
     "name": "stdout",
     "output_type": "stream",
     "text": [
      "[CV] END ...............model__C=2, model__class_weight=None; total time=  13.8s\n"
     ]
    },
    {
     "name": "stderr",
     "output_type": "stream",
     "text": [
      "C:\\Users\\David_Elliott\\anaconda3\\envs\\Programming_Basics\\lib\\site-packages\\sklearn\\linear_model\\_logistic.py:814: ConvergenceWarning: lbfgs failed to converge (status=1):\n",
      "STOP: TOTAL NO. of ITERATIONS REACHED LIMIT.\n",
      "\n",
      "Increase the number of iterations (max_iter) or scale the data as shown in:\n",
      "    https://scikit-learn.org/stable/modules/preprocessing.html\n",
      "Please also refer to the documentation for alternative solver options:\n",
      "    https://scikit-learn.org/stable/modules/linear_model.html#logistic-regression\n",
      "  n_iter_i = _check_optimize_result(\n"
     ]
    },
    {
     "name": "stdout",
     "output_type": "stream",
     "text": [
      "[CV] END ...............model__C=2, model__class_weight=None; total time=  13.4s\n"
     ]
    },
    {
     "name": "stderr",
     "output_type": "stream",
     "text": [
      "C:\\Users\\David_Elliott\\anaconda3\\envs\\Programming_Basics\\lib\\site-packages\\sklearn\\linear_model\\_logistic.py:814: ConvergenceWarning: lbfgs failed to converge (status=1):\n",
      "STOP: TOTAL NO. of ITERATIONS REACHED LIMIT.\n",
      "\n",
      "Increase the number of iterations (max_iter) or scale the data as shown in:\n",
      "    https://scikit-learn.org/stable/modules/preprocessing.html\n",
      "Please also refer to the documentation for alternative solver options:\n",
      "    https://scikit-learn.org/stable/modules/linear_model.html#logistic-regression\n",
      "  n_iter_i = _check_optimize_result(\n"
     ]
    },
    {
     "name": "stdout",
     "output_type": "stream",
     "text": [
      "[CV] END ...........model__C=2, model__class_weight=balanced; total time=  13.6s\n"
     ]
    },
    {
     "name": "stderr",
     "output_type": "stream",
     "text": [
      "C:\\Users\\David_Elliott\\anaconda3\\envs\\Programming_Basics\\lib\\site-packages\\sklearn\\linear_model\\_logistic.py:814: ConvergenceWarning: lbfgs failed to converge (status=1):\n",
      "STOP: TOTAL NO. of ITERATIONS REACHED LIMIT.\n",
      "\n",
      "Increase the number of iterations (max_iter) or scale the data as shown in:\n",
      "    https://scikit-learn.org/stable/modules/preprocessing.html\n",
      "Please also refer to the documentation for alternative solver options:\n",
      "    https://scikit-learn.org/stable/modules/linear_model.html#logistic-regression\n",
      "  n_iter_i = _check_optimize_result(\n"
     ]
    },
    {
     "name": "stdout",
     "output_type": "stream",
     "text": [
      "[CV] END ...........model__C=2, model__class_weight=balanced; total time=  13.6s\n"
     ]
    },
    {
     "name": "stderr",
     "output_type": "stream",
     "text": [
      "C:\\Users\\David_Elliott\\anaconda3\\envs\\Programming_Basics\\lib\\site-packages\\sklearn\\linear_model\\_logistic.py:814: ConvergenceWarning: lbfgs failed to converge (status=1):\n",
      "STOP: TOTAL NO. of ITERATIONS REACHED LIMIT.\n",
      "\n",
      "Increase the number of iterations (max_iter) or scale the data as shown in:\n",
      "    https://scikit-learn.org/stable/modules/preprocessing.html\n",
      "Please also refer to the documentation for alternative solver options:\n",
      "    https://scikit-learn.org/stable/modules/linear_model.html#logistic-regression\n",
      "  n_iter_i = _check_optimize_result(\n"
     ]
    },
    {
     "name": "stdout",
     "output_type": "stream",
     "text": [
      "[CV] END ...........model__C=2, model__class_weight=balanced; total time=  13.4s\n",
      "Best parameter (CV score=0.804):\n",
      "{'model__C': 0.1, 'model__class_weight': None}\n"
     ]
    }
   ],
   "source": [
    "from sklearn.model_selection import GridSearchCV\n",
    "\n",
    "param_grid={\n",
    "    'model__C':[0.1, 0.5, 1, 2],  # Just looking around the default\n",
    "    'model__class_weight':[None, \"balanced\"]                # p=3 will take ages!\n",
    "}\n",
    "search = GridSearchCV(log_pipe, param_grid=param_grid, cv=3, return_train_score=True, verbose=2)\n",
    "search.fit(X_train, y_train)\n",
    "print(\"Best parameter (CV score=%0.3f):\" % search.best_score_)\n",
    "print(search.best_params_)"
   ]
  },
  {
   "cell_type": "markdown",
   "metadata": {},
   "source": [
    "---\n",
    "# 5. Feature Selection"
   ]
  },
  {
   "cell_type": "code",
   "execution_count": 71,
   "metadata": {},
   "outputs": [
    {
     "data": {
      "text/plain": [
       "10"
      ]
     },
     "execution_count": 71,
     "metadata": {},
     "output_type": "execute_result"
    }
   ],
   "source": [
    "X_train_processed.shape[-1]"
   ]
  },
  {
   "cell_type": "code",
   "execution_count": 115,
   "metadata": {},
   "outputs": [
    {
     "data": {
      "text/html": [
       "<div>\n",
       "<style scoped>\n",
       "    .dataframe tbody tr th:only-of-type {\n",
       "        vertical-align: middle;\n",
       "    }\n",
       "\n",
       "    .dataframe tbody tr th {\n",
       "        vertical-align: top;\n",
       "    }\n",
       "\n",
       "    .dataframe thead th {\n",
       "        text-align: right;\n",
       "    }\n",
       "</style>\n",
       "<table border=\"1\" class=\"dataframe\">\n",
       "  <thead>\n",
       "    <tr style=\"text-align: right;\">\n",
       "      <th></th>\n",
       "      <th>cor</th>\n",
       "      <th>p-value</th>\n",
       "    </tr>\n",
       "  </thead>\n",
       "  <tbody>\n",
       "    <tr>\n",
       "      <th>MORTGAGE</th>\n",
       "      <td>-0.066</td>\n",
       "      <td>0.0</td>\n",
       "    </tr>\n",
       "    <tr>\n",
       "      <th>annual_inc</th>\n",
       "      <td>-0.054</td>\n",
       "      <td>0.0</td>\n",
       "    </tr>\n",
       "    <tr>\n",
       "      <th>emp_length</th>\n",
       "      <td>-0.018</td>\n",
       "      <td>0.0</td>\n",
       "    </tr>\n",
       "    <tr>\n",
       "      <th>revol_bal</th>\n",
       "      <td>-0.011</td>\n",
       "      <td>0.0</td>\n",
       "    </tr>\n",
       "    <tr>\n",
       "      <th>RENT</th>\n",
       "      <td>0.006</td>\n",
       "      <td>0.0</td>\n",
       "    </tr>\n",
       "    <tr>\n",
       "      <th>open_acc</th>\n",
       "      <td>0.021</td>\n",
       "      <td>0.0</td>\n",
       "    </tr>\n",
       "    <tr>\n",
       "      <th>pub_rec</th>\n",
       "      <td>0.024</td>\n",
       "      <td>0.0</td>\n",
       "    </tr>\n",
       "    <tr>\n",
       "      <th>pub_rec_bankruptcies</th>\n",
       "      <td>0.028</td>\n",
       "      <td>0.0</td>\n",
       "    </tr>\n",
       "    <tr>\n",
       "      <th>earliest_cr_line</th>\n",
       "      <td>0.047</td>\n",
       "      <td>0.0</td>\n",
       "    </tr>\n",
       "    <tr>\n",
       "      <th>revol_util</th>\n",
       "      <td>0.049</td>\n",
       "      <td>0.0</td>\n",
       "    </tr>\n",
       "    <tr>\n",
       "      <th>OWN</th>\n",
       "      <td>0.064</td>\n",
       "      <td>0.0</td>\n",
       "    </tr>\n",
       "    <tr>\n",
       "      <th>dti</th>\n",
       "      <td>0.091</td>\n",
       "      <td>0.0</td>\n",
       "    </tr>\n",
       "    <tr>\n",
       "      <th>term</th>\n",
       "      <td>0.169</td>\n",
       "      <td>0.0</td>\n",
       "    </tr>\n",
       "    <tr>\n",
       "      <th>int_rate</th>\n",
       "      <td>0.254</td>\n",
       "      <td>0.0</td>\n",
       "    </tr>\n",
       "  </tbody>\n",
       "</table>\n",
       "</div>"
      ],
      "text/plain": [
       "                        cor  p-value\n",
       "MORTGAGE             -0.066      0.0\n",
       "annual_inc           -0.054      0.0\n",
       "emp_length           -0.018      0.0\n",
       "revol_bal            -0.011      0.0\n",
       "RENT                  0.006      0.0\n",
       "open_acc              0.021      0.0\n",
       "pub_rec               0.024      0.0\n",
       "pub_rec_bankruptcies  0.028      0.0\n",
       "earliest_cr_line      0.047      0.0\n",
       "revol_util            0.049      0.0\n",
       "OWN                   0.064      0.0\n",
       "dti                   0.091      0.0\n",
       "term                  0.169      0.0\n",
       "int_rate              0.254      0.0"
      ]
     },
     "metadata": {},
     "output_type": "display_data"
    }
   ],
   "source": [
    "from scipy import stats\n",
    "import numpy as np\n",
    "\n",
    "for i in range(X_train_processed.shape[-1]):\n",
    "\n",
    "    corr = pd.DataFrame(stats.pearsonr(X_train_processed.iloc[:,i], y_train), \n",
    "                        index = [\"cor\", \"p-value\"],\n",
    "                        columns = [column_names[i]])\n",
    "    if i ==0:\n",
    "        all_corr = corr\n",
    "    else:\n",
    "        all_corr = pd.concat([all_corr, corr], axis = 1)\n",
    "        \n",
    "display(all_corr.round(3).sort_values(by=\"cor\", axis=1).T)"
   ]
  },
  {
   "cell_type": "code",
   "execution_count": 116,
   "metadata": {},
   "outputs": [
    {
     "data": {
      "text/html": [
       "<div>\n",
       "<style scoped>\n",
       "    .dataframe tbody tr th:only-of-type {\n",
       "        vertical-align: middle;\n",
       "    }\n",
       "\n",
       "    .dataframe tbody tr th {\n",
       "        vertical-align: top;\n",
       "    }\n",
       "\n",
       "    .dataframe thead th {\n",
       "        text-align: right;\n",
       "    }\n",
       "</style>\n",
       "<table border=\"1\" class=\"dataframe\">\n",
       "  <thead>\n",
       "    <tr style=\"text-align: right;\">\n",
       "      <th></th>\n",
       "      <th>dti</th>\n",
       "      <th>annual_inc</th>\n",
       "      <th>int_rate</th>\n",
       "      <th>MORTGAGE</th>\n",
       "      <th>OWN</th>\n",
       "      <th>term</th>\n",
       "    </tr>\n",
       "  </thead>\n",
       "  <tbody>\n",
       "    <tr>\n",
       "      <th>0</th>\n",
       "      <td>1.077404</td>\n",
       "      <td>-1.633380</td>\n",
       "      <td>-0.521821</td>\n",
       "      <td>0.0</td>\n",
       "      <td>1.0</td>\n",
       "      <td>36.0</td>\n",
       "    </tr>\n",
       "    <tr>\n",
       "      <th>1</th>\n",
       "      <td>-1.995265</td>\n",
       "      <td>-1.268956</td>\n",
       "      <td>0.435351</td>\n",
       "      <td>0.0</td>\n",
       "      <td>1.0</td>\n",
       "      <td>60.0</td>\n",
       "    </tr>\n",
       "    <tr>\n",
       "      <th>2</th>\n",
       "      <td>-1.105171</td>\n",
       "      <td>-2.731418</td>\n",
       "      <td>0.578305</td>\n",
       "      <td>0.0</td>\n",
       "      <td>1.0</td>\n",
       "      <td>36.0</td>\n",
       "    </tr>\n",
       "    <tr>\n",
       "      <th>3</th>\n",
       "      <td>0.195381</td>\n",
       "      <td>-0.461042</td>\n",
       "      <td>0.066571</td>\n",
       "      <td>0.0</td>\n",
       "      <td>1.0</td>\n",
       "      <td>36.0</td>\n",
       "    </tr>\n",
       "    <tr>\n",
       "      <th>4</th>\n",
       "      <td>-0.042131</td>\n",
       "      <td>0.332896</td>\n",
       "      <td>-0.099173</td>\n",
       "      <td>0.0</td>\n",
       "      <td>1.0</td>\n",
       "      <td>60.0</td>\n",
       "    </tr>\n",
       "  </tbody>\n",
       "</table>\n",
       "</div>"
      ],
      "text/plain": [
       "        dti  annual_inc  int_rate  MORTGAGE  OWN  term\n",
       "0  1.077404   -1.633380 -0.521821       0.0  1.0  36.0\n",
       "1 -1.995265   -1.268956  0.435351       0.0  1.0  60.0\n",
       "2 -1.105171   -2.731418  0.578305       0.0  1.0  36.0\n",
       "3  0.195381   -0.461042  0.066571       0.0  1.0  36.0\n",
       "4 -0.042131    0.332896 -0.099173       0.0  1.0  60.0"
      ]
     },
     "execution_count": 116,
     "metadata": {},
     "output_type": "execute_result"
    }
   ],
   "source": [
    "# filter only correlations stronger than .1 in either direction (positive or negative)\n",
    "corrs = all_corr.loc[\"cor\"].abs()>0.05\n",
    "pd.DataFrame(X_train_processed.loc[:,corrs]).head()"
   ]
  },
  {
   "cell_type": "code",
   "execution_count": 117,
   "metadata": {},
   "outputs": [
    {
     "name": "stderr",
     "output_type": "stream",
     "text": [
      "[Parallel(n_jobs=1)]: Using backend SequentialBackend with 1 concurrent workers.\n"
     ]
    },
    {
     "name": "stdout",
     "output_type": "stream",
     "text": [
      "[CV] END .................................................... total time=   8.3s\n"
     ]
    },
    {
     "name": "stderr",
     "output_type": "stream",
     "text": [
      "[Parallel(n_jobs=1)]: Done   1 out of   1 | elapsed:    8.7s remaining:    0.0s\n"
     ]
    },
    {
     "name": "stdout",
     "output_type": "stream",
     "text": [
      "[CV] END .................................................... total time=   6.9s\n"
     ]
    },
    {
     "name": "stderr",
     "output_type": "stream",
     "text": [
      "C:\\Users\\David_Elliott\\anaconda3\\envs\\Programming_Basics\\lib\\site-packages\\sklearn\\linear_model\\_logistic.py:814: ConvergenceWarning: lbfgs failed to converge (status=1):\n",
      "STOP: TOTAL NO. of ITERATIONS REACHED LIMIT.\n",
      "\n",
      "Increase the number of iterations (max_iter) or scale the data as shown in:\n",
      "    https://scikit-learn.org/stable/modules/preprocessing.html\n",
      "Please also refer to the documentation for alternative solver options:\n",
      "    https://scikit-learn.org/stable/modules/linear_model.html#logistic-regression\n",
      "  n_iter_i = _check_optimize_result(\n"
     ]
    },
    {
     "name": "stdout",
     "output_type": "stream",
     "text": [
      "[CV] END .................................................... total time=  10.9s\n",
      "[CV] END .................................................... total time=   9.0s\n",
      "[CV] END .................................................... total time=   8.5s\n"
     ]
    },
    {
     "name": "stderr",
     "output_type": "stream",
     "text": [
      "[Parallel(n_jobs=1)]: Done   5 out of   5 | elapsed:   44.9s finished\n"
     ]
    },
    {
     "data": {
      "text/html": [
       "<div>\n",
       "<style scoped>\n",
       "    .dataframe tbody tr th:only-of-type {\n",
       "        vertical-align: middle;\n",
       "    }\n",
       "\n",
       "    .dataframe tbody tr th {\n",
       "        vertical-align: top;\n",
       "    }\n",
       "\n",
       "    .dataframe thead th {\n",
       "        text-align: right;\n",
       "    }\n",
       "</style>\n",
       "<table border=\"1\" class=\"dataframe\">\n",
       "  <thead>\n",
       "    <tr style=\"text-align: right;\">\n",
       "      <th></th>\n",
       "      <th>fit_time</th>\n",
       "      <th>score_time</th>\n",
       "      <th>val_score</th>\n",
       "      <th>train_score</th>\n",
       "    </tr>\n",
       "    <tr>\n",
       "      <th>fold</th>\n",
       "      <th></th>\n",
       "      <th></th>\n",
       "      <th></th>\n",
       "      <th></th>\n",
       "    </tr>\n",
       "  </thead>\n",
       "  <tbody>\n",
       "    <tr>\n",
       "      <th>0</th>\n",
       "      <td>8.37</td>\n",
       "      <td>0.02</td>\n",
       "      <td>0.80</td>\n",
       "      <td>0.80</td>\n",
       "    </tr>\n",
       "    <tr>\n",
       "      <th>1</th>\n",
       "      <td>6.92</td>\n",
       "      <td>0.03</td>\n",
       "      <td>0.80</td>\n",
       "      <td>0.81</td>\n",
       "    </tr>\n",
       "    <tr>\n",
       "      <th>2</th>\n",
       "      <td>11.01</td>\n",
       "      <td>0.02</td>\n",
       "      <td>0.81</td>\n",
       "      <td>0.80</td>\n",
       "    </tr>\n",
       "    <tr>\n",
       "      <th>3</th>\n",
       "      <td>9.11</td>\n",
       "      <td>0.03</td>\n",
       "      <td>0.81</td>\n",
       "      <td>0.80</td>\n",
       "    </tr>\n",
       "    <tr>\n",
       "      <th>4</th>\n",
       "      <td>8.54</td>\n",
       "      <td>0.02</td>\n",
       "      <td>0.81</td>\n",
       "      <td>0.80</td>\n",
       "    </tr>\n",
       "    <tr>\n",
       "      <th>mean</th>\n",
       "      <td>8.79</td>\n",
       "      <td>0.03</td>\n",
       "      <td>0.80</td>\n",
       "      <td>0.80</td>\n",
       "    </tr>\n",
       "    <tr>\n",
       "      <th>sd</th>\n",
       "      <td>1.32</td>\n",
       "      <td>0.00</td>\n",
       "      <td>0.00</td>\n",
       "      <td>0.00</td>\n",
       "    </tr>\n",
       "  </tbody>\n",
       "</table>\n",
       "</div>"
      ],
      "text/plain": [
       "      fit_time  score_time  val_score  train_score\n",
       "fold                                              \n",
       "0         8.37        0.02       0.80         0.80\n",
       "1         6.92        0.03       0.80         0.81\n",
       "2        11.01        0.02       0.81         0.80\n",
       "3         9.11        0.03       0.81         0.80\n",
       "4         8.54        0.02       0.81         0.80\n",
       "mean      8.79        0.03       0.80         0.80\n",
       "sd        1.32        0.00       0.00         0.00"
      ]
     },
     "execution_count": 117,
     "metadata": {},
     "output_type": "execute_result"
    }
   ],
   "source": [
    "tidy_scores(cross_validate(LogisticRegression(), X_train_processed.loc[:,corrs], \n",
    "                           y_train, cv=5, return_train_score=True, verbose=2))"
   ]
  },
  {
   "cell_type": "code",
   "execution_count": 121,
   "metadata": {},
   "outputs": [
    {
     "data": {
      "text/html": [
       "<style>#sk-ecc8012e-38a3-4784-a02f-f0a695518200 {color: black;background-color: white;}#sk-ecc8012e-38a3-4784-a02f-f0a695518200 pre{padding: 0;}#sk-ecc8012e-38a3-4784-a02f-f0a695518200 div.sk-toggleable {background-color: white;}#sk-ecc8012e-38a3-4784-a02f-f0a695518200 label.sk-toggleable__label {cursor: pointer;display: block;width: 100%;margin-bottom: 0;padding: 0.3em;box-sizing: border-box;text-align: center;}#sk-ecc8012e-38a3-4784-a02f-f0a695518200 label.sk-toggleable__label-arrow:before {content: \"▸\";float: left;margin-right: 0.25em;color: #696969;}#sk-ecc8012e-38a3-4784-a02f-f0a695518200 label.sk-toggleable__label-arrow:hover:before {color: black;}#sk-ecc8012e-38a3-4784-a02f-f0a695518200 div.sk-estimator:hover label.sk-toggleable__label-arrow:before {color: black;}#sk-ecc8012e-38a3-4784-a02f-f0a695518200 div.sk-toggleable__content {max-height: 0;max-width: 0;overflow: hidden;text-align: left;background-color: #f0f8ff;}#sk-ecc8012e-38a3-4784-a02f-f0a695518200 div.sk-toggleable__content pre {margin: 0.2em;color: black;border-radius: 0.25em;background-color: #f0f8ff;}#sk-ecc8012e-38a3-4784-a02f-f0a695518200 input.sk-toggleable__control:checked~div.sk-toggleable__content {max-height: 200px;max-width: 100%;overflow: auto;}#sk-ecc8012e-38a3-4784-a02f-f0a695518200 input.sk-toggleable__control:checked~label.sk-toggleable__label-arrow:before {content: \"▾\";}#sk-ecc8012e-38a3-4784-a02f-f0a695518200 div.sk-estimator input.sk-toggleable__control:checked~label.sk-toggleable__label {background-color: #d4ebff;}#sk-ecc8012e-38a3-4784-a02f-f0a695518200 div.sk-label input.sk-toggleable__control:checked~label.sk-toggleable__label {background-color: #d4ebff;}#sk-ecc8012e-38a3-4784-a02f-f0a695518200 input.sk-hidden--visually {border: 0;clip: rect(1px 1px 1px 1px);clip: rect(1px, 1px, 1px, 1px);height: 1px;margin: -1px;overflow: hidden;padding: 0;position: absolute;width: 1px;}#sk-ecc8012e-38a3-4784-a02f-f0a695518200 div.sk-estimator {font-family: monospace;background-color: #f0f8ff;border: 1px dotted black;border-radius: 0.25em;box-sizing: border-box;margin-bottom: 0.5em;}#sk-ecc8012e-38a3-4784-a02f-f0a695518200 div.sk-estimator:hover {background-color: #d4ebff;}#sk-ecc8012e-38a3-4784-a02f-f0a695518200 div.sk-parallel-item::after {content: \"\";width: 100%;border-bottom: 1px solid gray;flex-grow: 1;}#sk-ecc8012e-38a3-4784-a02f-f0a695518200 div.sk-label:hover label.sk-toggleable__label {background-color: #d4ebff;}#sk-ecc8012e-38a3-4784-a02f-f0a695518200 div.sk-serial::before {content: \"\";position: absolute;border-left: 1px solid gray;box-sizing: border-box;top: 2em;bottom: 0;left: 50%;}#sk-ecc8012e-38a3-4784-a02f-f0a695518200 div.sk-serial {display: flex;flex-direction: column;align-items: center;background-color: white;padding-right: 0.2em;padding-left: 0.2em;}#sk-ecc8012e-38a3-4784-a02f-f0a695518200 div.sk-item {z-index: 1;}#sk-ecc8012e-38a3-4784-a02f-f0a695518200 div.sk-parallel {display: flex;align-items: stretch;justify-content: center;background-color: white;}#sk-ecc8012e-38a3-4784-a02f-f0a695518200 div.sk-parallel::before {content: \"\";position: absolute;border-left: 1px solid gray;box-sizing: border-box;top: 2em;bottom: 0;left: 50%;}#sk-ecc8012e-38a3-4784-a02f-f0a695518200 div.sk-parallel-item {display: flex;flex-direction: column;position: relative;background-color: white;}#sk-ecc8012e-38a3-4784-a02f-f0a695518200 div.sk-parallel-item:first-child::after {align-self: flex-end;width: 50%;}#sk-ecc8012e-38a3-4784-a02f-f0a695518200 div.sk-parallel-item:last-child::after {align-self: flex-start;width: 50%;}#sk-ecc8012e-38a3-4784-a02f-f0a695518200 div.sk-parallel-item:only-child::after {width: 0;}#sk-ecc8012e-38a3-4784-a02f-f0a695518200 div.sk-dashed-wrapped {border: 1px dashed gray;margin: 0 0.4em 0.5em 0.4em;box-sizing: border-box;padding-bottom: 0.4em;background-color: white;position: relative;}#sk-ecc8012e-38a3-4784-a02f-f0a695518200 div.sk-label label {font-family: monospace;font-weight: bold;background-color: white;display: inline-block;line-height: 1.2em;}#sk-ecc8012e-38a3-4784-a02f-f0a695518200 div.sk-label-container {position: relative;z-index: 2;text-align: center;}#sk-ecc8012e-38a3-4784-a02f-f0a695518200 div.sk-container {/* jupyter's `normalize.less` sets `[hidden] { display: none; }` but bootstrap.min.css set `[hidden] { display: none !important; }` so we also need the `!important` here to be able to override the default hidden behavior on the sphinx rendered scikit-learn.org. See: https://github.com/scikit-learn/scikit-learn/issues/21755 */display: inline-block !important;position: relative;}#sk-ecc8012e-38a3-4784-a02f-f0a695518200 div.sk-text-repr-fallback {display: none;}</style><div id=\"sk-ecc8012e-38a3-4784-a02f-f0a695518200\" class=\"sk-top-container\"><div class=\"sk-text-repr-fallback\"><pre>Pipeline(steps=[(&#x27;feature_transformation&#x27;,\n",
       "                 ColumnTransformer(transformers=[(&#x27;passthrough&#x27;, &#x27;passthrough&#x27;,\n",
       "                                                  [&#x27;dti&#x27;, &#x27;open_acc&#x27;, &#x27;pub_rec&#x27;,\n",
       "                                                   &#x27;pub_rec_bankruptcies&#x27;]),\n",
       "                                                 (&#x27;drop&#x27;, &#x27;drop&#x27;,\n",
       "                                                  [&#x27;fico_range_high&#x27;,\n",
       "                                                   &#x27;loan_amnt&#x27;, &#x27;issue_d&#x27;,\n",
       "                                                   &#x27;total_acc&#x27;]),\n",
       "                                                 (&#x27;log_tf&#x27;,\n",
       "                                                  FunctionTransformer(func=&lt;ufunc &#x27;log1p&#x27;&gt;),\n",
       "                                                  [&#x27;annual_inc&#x27;, &#x27;revol_bal&#x27;]),\n",
       "                                                 (&#x27;remove_month&#x27;,\n",
       "                                                  FunctionTransformer(func=&lt;fun...\n",
       "                 FunctionTransformer(func=&lt;function DfTransformer at 0x0000022B71673280&gt;,\n",
       "                                     kw_args={&#x27;column_names&#x27;: [&#x27;dti&#x27;,\n",
       "                                                               &#x27;open_acc&#x27;,\n",
       "                                                               &#x27;pub_rec&#x27;,\n",
       "                                                               &#x27;pub_rec_bankruptcies&#x27;,\n",
       "                                                               &#x27;annual_inc&#x27;,\n",
       "                                                               &#x27;revol_bal&#x27;,\n",
       "                                                               &#x27;earliest_cr_line&#x27;,\n",
       "                                                               &#x27;int_rate&#x27;,\n",
       "                                                               &#x27;revol_util&#x27;,\n",
       "                                                               &#x27;term&#x27;]})),\n",
       "                (&#x27;imputer&#x27;, MeanMedianImputer()),\n",
       "                (&#x27;outlier&#x27;,\n",
       "                 ArbitraryOutlierCapper(max_capping_dict={&#x27;dti&#x27;: 42})),\n",
       "                (&#x27;normalization&#x27;, StandardScaler()),\n",
       "                (&#x27;under&#x27;, RandomUnderSampler()),\n",
       "                (&#x27;model&#x27;, LogisticRegression())])</pre><b>Please rerun this cell to show the HTML repr or trust the notebook.</b></div><div class=\"sk-container\" hidden><div class=\"sk-item sk-dashed-wrapped\"><div class=\"sk-label-container\"><div class=\"sk-label sk-toggleable\"><input class=\"sk-toggleable__control sk-hidden--visually\" id=\"be556b47-ad77-416f-afe0-0ebe88522297\" type=\"checkbox\" ><label for=\"be556b47-ad77-416f-afe0-0ebe88522297\" class=\"sk-toggleable__label sk-toggleable__label-arrow\">Pipeline</label><div class=\"sk-toggleable__content\"><pre>Pipeline(steps=[(&#x27;feature_transformation&#x27;,\n",
       "                 ColumnTransformer(transformers=[(&#x27;passthrough&#x27;, &#x27;passthrough&#x27;,\n",
       "                                                  [&#x27;dti&#x27;, &#x27;open_acc&#x27;, &#x27;pub_rec&#x27;,\n",
       "                                                   &#x27;pub_rec_bankruptcies&#x27;]),\n",
       "                                                 (&#x27;drop&#x27;, &#x27;drop&#x27;,\n",
       "                                                  [&#x27;fico_range_high&#x27;,\n",
       "                                                   &#x27;loan_amnt&#x27;, &#x27;issue_d&#x27;,\n",
       "                                                   &#x27;total_acc&#x27;]),\n",
       "                                                 (&#x27;log_tf&#x27;,\n",
       "                                                  FunctionTransformer(func=&lt;ufunc &#x27;log1p&#x27;&gt;),\n",
       "                                                  [&#x27;annual_inc&#x27;, &#x27;revol_bal&#x27;]),\n",
       "                                                 (&#x27;remove_month&#x27;,\n",
       "                                                  FunctionTransformer(func=&lt;fun...\n",
       "                 FunctionTransformer(func=&lt;function DfTransformer at 0x0000022B71673280&gt;,\n",
       "                                     kw_args={&#x27;column_names&#x27;: [&#x27;dti&#x27;,\n",
       "                                                               &#x27;open_acc&#x27;,\n",
       "                                                               &#x27;pub_rec&#x27;,\n",
       "                                                               &#x27;pub_rec_bankruptcies&#x27;,\n",
       "                                                               &#x27;annual_inc&#x27;,\n",
       "                                                               &#x27;revol_bal&#x27;,\n",
       "                                                               &#x27;earliest_cr_line&#x27;,\n",
       "                                                               &#x27;int_rate&#x27;,\n",
       "                                                               &#x27;revol_util&#x27;,\n",
       "                                                               &#x27;term&#x27;]})),\n",
       "                (&#x27;imputer&#x27;, MeanMedianImputer()),\n",
       "                (&#x27;outlier&#x27;,\n",
       "                 ArbitraryOutlierCapper(max_capping_dict={&#x27;dti&#x27;: 42})),\n",
       "                (&#x27;normalization&#x27;, StandardScaler()),\n",
       "                (&#x27;under&#x27;, RandomUnderSampler()),\n",
       "                (&#x27;model&#x27;, LogisticRegression())])</pre></div></div></div><div class=\"sk-serial\"><div class=\"sk-item sk-dashed-wrapped\"><div class=\"sk-label-container\"><div class=\"sk-label sk-toggleable\"><input class=\"sk-toggleable__control sk-hidden--visually\" id=\"189e2641-f9dd-4c44-9d8e-f5f3e056dc63\" type=\"checkbox\" ><label for=\"189e2641-f9dd-4c44-9d8e-f5f3e056dc63\" class=\"sk-toggleable__label sk-toggleable__label-arrow\">feature_transformation: ColumnTransformer</label><div class=\"sk-toggleable__content\"><pre>ColumnTransformer(transformers=[(&#x27;passthrough&#x27;, &#x27;passthrough&#x27;,\n",
       "                                 [&#x27;dti&#x27;, &#x27;open_acc&#x27;, &#x27;pub_rec&#x27;,\n",
       "                                  &#x27;pub_rec_bankruptcies&#x27;]),\n",
       "                                (&#x27;drop&#x27;, &#x27;drop&#x27;,\n",
       "                                 [&#x27;fico_range_high&#x27;, &#x27;loan_amnt&#x27;, &#x27;issue_d&#x27;,\n",
       "                                  &#x27;total_acc&#x27;]),\n",
       "                                (&#x27;log_tf&#x27;,\n",
       "                                 FunctionTransformer(func=&lt;ufunc &#x27;log1p&#x27;&gt;),\n",
       "                                 [&#x27;annual_inc&#x27;, &#x27;revol_bal&#x27;]),\n",
       "                                (&#x27;remove_month&#x27;,\n",
       "                                 FunctionTransformer(func=&lt;function to_year at 0x0000022B71673310&gt;),\n",
       "                                 &#x27;earliest_cr_line&#x27;),\n",
       "                                (&#x27;remove_percent&#x27;,\n",
       "                                 FunctionTransformer(func=&lt;function rm_perc at 0x0000022B716733A0&gt;),\n",
       "                                 [&#x27;int_rate&#x27;, &#x27;revol_util&#x27;]),\n",
       "                                (&#x27;remove_str&#x27;,\n",
       "                                 FunctionTransformer(func=&lt;function rem_str at 0x0000022B71673430&gt;),\n",
       "                                 &#x27;term&#x27;)])</pre></div></div></div><div class=\"sk-parallel\"><div class=\"sk-parallel-item\"><div class=\"sk-item\"><div class=\"sk-label-container\"><div class=\"sk-label sk-toggleable\"><input class=\"sk-toggleable__control sk-hidden--visually\" id=\"d51d9e50-1427-4244-84ea-9d58859dc262\" type=\"checkbox\" ><label for=\"d51d9e50-1427-4244-84ea-9d58859dc262\" class=\"sk-toggleable__label sk-toggleable__label-arrow\">passthrough</label><div class=\"sk-toggleable__content\"><pre>[&#x27;dti&#x27;, &#x27;open_acc&#x27;, &#x27;pub_rec&#x27;, &#x27;pub_rec_bankruptcies&#x27;]</pre></div></div></div><div class=\"sk-serial\"><div class=\"sk-item\"><div class=\"sk-estimator sk-toggleable\"><input class=\"sk-toggleable__control sk-hidden--visually\" id=\"9864edbc-c228-4177-b43a-445d9365d635\" type=\"checkbox\" ><label for=\"9864edbc-c228-4177-b43a-445d9365d635\" class=\"sk-toggleable__label sk-toggleable__label-arrow\">passthrough</label><div class=\"sk-toggleable__content\"><pre>passthrough</pre></div></div></div></div></div></div><div class=\"sk-parallel-item\"><div class=\"sk-item\"><div class=\"sk-label-container\"><div class=\"sk-label sk-toggleable\"><input class=\"sk-toggleable__control sk-hidden--visually\" id=\"45bcf24c-61a3-4330-b2b7-834254ce15ac\" type=\"checkbox\" ><label for=\"45bcf24c-61a3-4330-b2b7-834254ce15ac\" class=\"sk-toggleable__label sk-toggleable__label-arrow\">drop</label><div class=\"sk-toggleable__content\"><pre>[&#x27;fico_range_high&#x27;, &#x27;loan_amnt&#x27;, &#x27;issue_d&#x27;, &#x27;total_acc&#x27;]</pre></div></div></div><div class=\"sk-serial\"><div class=\"sk-item\"><div class=\"sk-estimator sk-toggleable\"><input class=\"sk-toggleable__control sk-hidden--visually\" id=\"bd898b7b-f834-4d38-ba95-f0ad785f4baa\" type=\"checkbox\" ><label for=\"bd898b7b-f834-4d38-ba95-f0ad785f4baa\" class=\"sk-toggleable__label sk-toggleable__label-arrow\">drop</label><div class=\"sk-toggleable__content\"><pre>drop</pre></div></div></div></div></div></div><div class=\"sk-parallel-item\"><div class=\"sk-item\"><div class=\"sk-label-container\"><div class=\"sk-label sk-toggleable\"><input class=\"sk-toggleable__control sk-hidden--visually\" id=\"1097d1f5-1c06-4c93-9b67-0b31c1d2ca3f\" type=\"checkbox\" ><label for=\"1097d1f5-1c06-4c93-9b67-0b31c1d2ca3f\" class=\"sk-toggleable__label sk-toggleable__label-arrow\">log_tf</label><div class=\"sk-toggleable__content\"><pre>[&#x27;annual_inc&#x27;, &#x27;revol_bal&#x27;]</pre></div></div></div><div class=\"sk-serial\"><div class=\"sk-item\"><div class=\"sk-estimator sk-toggleable\"><input class=\"sk-toggleable__control sk-hidden--visually\" id=\"11e4441a-0aef-4ed7-8bc8-4ec75845357c\" type=\"checkbox\" ><label for=\"11e4441a-0aef-4ed7-8bc8-4ec75845357c\" class=\"sk-toggleable__label sk-toggleable__label-arrow\">FunctionTransformer</label><div class=\"sk-toggleable__content\"><pre>FunctionTransformer(func=&lt;ufunc &#x27;log1p&#x27;&gt;)</pre></div></div></div></div></div></div><div class=\"sk-parallel-item\"><div class=\"sk-item\"><div class=\"sk-label-container\"><div class=\"sk-label sk-toggleable\"><input class=\"sk-toggleable__control sk-hidden--visually\" id=\"d89a6433-6f21-4a6a-9f3b-a90bb60c8b84\" type=\"checkbox\" ><label for=\"d89a6433-6f21-4a6a-9f3b-a90bb60c8b84\" class=\"sk-toggleable__label sk-toggleable__label-arrow\">remove_month</label><div class=\"sk-toggleable__content\"><pre>earliest_cr_line</pre></div></div></div><div class=\"sk-serial\"><div class=\"sk-item\"><div class=\"sk-estimator sk-toggleable\"><input class=\"sk-toggleable__control sk-hidden--visually\" id=\"184ac311-9378-479e-8f01-99e029db4c56\" type=\"checkbox\" ><label for=\"184ac311-9378-479e-8f01-99e029db4c56\" class=\"sk-toggleable__label sk-toggleable__label-arrow\">FunctionTransformer</label><div class=\"sk-toggleable__content\"><pre>FunctionTransformer(func=&lt;function to_year at 0x0000022B71673310&gt;)</pre></div></div></div></div></div></div><div class=\"sk-parallel-item\"><div class=\"sk-item\"><div class=\"sk-label-container\"><div class=\"sk-label sk-toggleable\"><input class=\"sk-toggleable__control sk-hidden--visually\" id=\"46398be0-a530-44f3-aa28-89e5f4ee432f\" type=\"checkbox\" ><label for=\"46398be0-a530-44f3-aa28-89e5f4ee432f\" class=\"sk-toggleable__label sk-toggleable__label-arrow\">remove_percent</label><div class=\"sk-toggleable__content\"><pre>[&#x27;int_rate&#x27;, &#x27;revol_util&#x27;]</pre></div></div></div><div class=\"sk-serial\"><div class=\"sk-item\"><div class=\"sk-estimator sk-toggleable\"><input class=\"sk-toggleable__control sk-hidden--visually\" id=\"f84b462c-ba12-43ce-8f30-ef2168f4f64d\" type=\"checkbox\" ><label for=\"f84b462c-ba12-43ce-8f30-ef2168f4f64d\" class=\"sk-toggleable__label sk-toggleable__label-arrow\">FunctionTransformer</label><div class=\"sk-toggleable__content\"><pre>FunctionTransformer(func=&lt;function rm_perc at 0x0000022B716733A0&gt;)</pre></div></div></div></div></div></div><div class=\"sk-parallel-item\"><div class=\"sk-item\"><div class=\"sk-label-container\"><div class=\"sk-label sk-toggleable\"><input class=\"sk-toggleable__control sk-hidden--visually\" id=\"94f12410-5d5a-49ea-bcf9-597e8d792542\" type=\"checkbox\" ><label for=\"94f12410-5d5a-49ea-bcf9-597e8d792542\" class=\"sk-toggleable__label sk-toggleable__label-arrow\">remove_str</label><div class=\"sk-toggleable__content\"><pre>term</pre></div></div></div><div class=\"sk-serial\"><div class=\"sk-item\"><div class=\"sk-estimator sk-toggleable\"><input class=\"sk-toggleable__control sk-hidden--visually\" id=\"1057d4e1-1877-451f-b0db-91cecb2d2d01\" type=\"checkbox\" ><label for=\"1057d4e1-1877-451f-b0db-91cecb2d2d01\" class=\"sk-toggleable__label sk-toggleable__label-arrow\">FunctionTransformer</label><div class=\"sk-toggleable__content\"><pre>FunctionTransformer(func=&lt;function rem_str at 0x0000022B71673430&gt;)</pre></div></div></div></div></div></div></div></div><div class=\"sk-item\"><div class=\"sk-estimator sk-toggleable\"><input class=\"sk-toggleable__control sk-hidden--visually\" id=\"a206e114-98ac-4599-8182-33259290a684\" type=\"checkbox\" ><label for=\"a206e114-98ac-4599-8182-33259290a684\" class=\"sk-toggleable__label sk-toggleable__label-arrow\">FunctionTransformer</label><div class=\"sk-toggleable__content\"><pre>FunctionTransformer(func=&lt;function DfTransformer at 0x0000022B71673280&gt;,\n",
       "                    kw_args={&#x27;column_names&#x27;: [&#x27;dti&#x27;, &#x27;open_acc&#x27;, &#x27;pub_rec&#x27;,\n",
       "                                              &#x27;pub_rec_bankruptcies&#x27;,\n",
       "                                              &#x27;annual_inc&#x27;, &#x27;revol_bal&#x27;,\n",
       "                                              &#x27;earliest_cr_line&#x27;, &#x27;int_rate&#x27;,\n",
       "                                              &#x27;revol_util&#x27;, &#x27;term&#x27;]})</pre></div></div></div><div class=\"sk-item\"><div class=\"sk-estimator sk-toggleable\"><input class=\"sk-toggleable__control sk-hidden--visually\" id=\"7e6f4bc1-cc15-46df-b252-0f4ace91e756\" type=\"checkbox\" ><label for=\"7e6f4bc1-cc15-46df-b252-0f4ace91e756\" class=\"sk-toggleable__label sk-toggleable__label-arrow\">MeanMedianImputer</label><div class=\"sk-toggleable__content\"><pre>MeanMedianImputer()</pre></div></div></div><div class=\"sk-item\"><div class=\"sk-estimator sk-toggleable\"><input class=\"sk-toggleable__control sk-hidden--visually\" id=\"30efd2c7-b20d-47c7-86bf-784fef37efa6\" type=\"checkbox\" ><label for=\"30efd2c7-b20d-47c7-86bf-784fef37efa6\" class=\"sk-toggleable__label sk-toggleable__label-arrow\">ArbitraryOutlierCapper</label><div class=\"sk-toggleable__content\"><pre>ArbitraryOutlierCapper(max_capping_dict={&#x27;dti&#x27;: 42})</pre></div></div></div><div class=\"sk-item\"><div class=\"sk-estimator sk-toggleable\"><input class=\"sk-toggleable__control sk-hidden--visually\" id=\"1910fd51-a927-4d07-a7b9-8ccfa29fb983\" type=\"checkbox\" ><label for=\"1910fd51-a927-4d07-a7b9-8ccfa29fb983\" class=\"sk-toggleable__label sk-toggleable__label-arrow\">StandardScaler</label><div class=\"sk-toggleable__content\"><pre>StandardScaler()</pre></div></div></div><div class=\"sk-item\"><div class=\"sk-estimator sk-toggleable\"><input class=\"sk-toggleable__control sk-hidden--visually\" id=\"21f47ef3-c80a-4828-8739-f817c6ce9956\" type=\"checkbox\" ><label for=\"21f47ef3-c80a-4828-8739-f817c6ce9956\" class=\"sk-toggleable__label sk-toggleable__label-arrow\">RandomUnderSampler</label><div class=\"sk-toggleable__content\"><pre>RandomUnderSampler()</pre></div></div></div><div class=\"sk-item\"><div class=\"sk-estimator sk-toggleable\"><input class=\"sk-toggleable__control sk-hidden--visually\" id=\"4a9bef73-2a38-4222-83a2-7fc32a4e00b3\" type=\"checkbox\" ><label for=\"4a9bef73-2a38-4222-83a2-7fc32a4e00b3\" class=\"sk-toggleable__label sk-toggleable__label-arrow\">LogisticRegression</label><div class=\"sk-toggleable__content\"><pre>LogisticRegression()</pre></div></div></div></div></div></div></div>"
      ],
      "text/plain": [
       "Pipeline(steps=[('feature_transformation',\n",
       "                 ColumnTransformer(transformers=[('passthrough', 'passthrough',\n",
       "                                                  ['dti', 'open_acc', 'pub_rec',\n",
       "                                                   'pub_rec_bankruptcies']),\n",
       "                                                 ('drop', 'drop',\n",
       "                                                  ['fico_range_high',\n",
       "                                                   'loan_amnt', 'issue_d',\n",
       "                                                   'total_acc']),\n",
       "                                                 ('log_tf',\n",
       "                                                  FunctionTransformer(func=<ufunc 'log1p'>),\n",
       "                                                  ['annual_inc', 'revol_bal']),\n",
       "                                                 ('remove_month',\n",
       "                                                  FunctionTransformer(func=<fun...\n",
       "                 FunctionTransformer(func=<function DfTransformer at 0x0000022B71673280>,\n",
       "                                     kw_args={'column_names': ['dti',\n",
       "                                                               'open_acc',\n",
       "                                                               'pub_rec',\n",
       "                                                               'pub_rec_bankruptcies',\n",
       "                                                               'annual_inc',\n",
       "                                                               'revol_bal',\n",
       "                                                               'earliest_cr_line',\n",
       "                                                               'int_rate',\n",
       "                                                               'revol_util',\n",
       "                                                               'term']})),\n",
       "                ('imputer', MeanMedianImputer()),\n",
       "                ('outlier',\n",
       "                 ArbitraryOutlierCapper(max_capping_dict={'dti': 42})),\n",
       "                ('normalization', StandardScaler()),\n",
       "                ('under', RandomUnderSampler()),\n",
       "                ('model', LogisticRegression())])"
      ]
     },
     "metadata": {},
     "output_type": "display_data"
    },
    {
     "name": "stderr",
     "output_type": "stream",
     "text": [
      "[Parallel(n_jobs=1)]: Using backend SequentialBackend with 1 concurrent workers.\n"
     ]
    },
    {
     "name": "stdout",
     "output_type": "stream",
     "text": [
      "[CV] END .................................................... total time=   4.1s\n"
     ]
    },
    {
     "name": "stderr",
     "output_type": "stream",
     "text": [
      "[Parallel(n_jobs=1)]: Done   1 out of   1 | elapsed:    6.6s remaining:    0.0s\n"
     ]
    },
    {
     "name": "stdout",
     "output_type": "stream",
     "text": [
      "[CV] END .................................................... total time=   4.1s\n",
      "[CV] END .................................................... total time=   4.0s\n",
      "[CV] END .................................................... total time=   4.0s\n",
      "[CV] END .................................................... total time=   4.0s\n"
     ]
    },
    {
     "name": "stderr",
     "output_type": "stream",
     "text": [
      "[Parallel(n_jobs=1)]: Done   5 out of   5 | elapsed:   32.4s finished\n"
     ]
    },
    {
     "data": {
      "text/html": [
       "<div>\n",
       "<style scoped>\n",
       "    .dataframe tbody tr th:only-of-type {\n",
       "        vertical-align: middle;\n",
       "    }\n",
       "\n",
       "    .dataframe tbody tr th {\n",
       "        vertical-align: top;\n",
       "    }\n",
       "\n",
       "    .dataframe thead th {\n",
       "        text-align: right;\n",
       "    }\n",
       "</style>\n",
       "<table border=\"1\" class=\"dataframe\">\n",
       "  <thead>\n",
       "    <tr style=\"text-align: right;\">\n",
       "      <th></th>\n",
       "      <th>fit_time</th>\n",
       "      <th>score_time</th>\n",
       "      <th>val_score</th>\n",
       "      <th>train_score</th>\n",
       "    </tr>\n",
       "    <tr>\n",
       "      <th>fold</th>\n",
       "      <th></th>\n",
       "      <th></th>\n",
       "      <th></th>\n",
       "      <th></th>\n",
       "    </tr>\n",
       "  </thead>\n",
       "  <tbody>\n",
       "    <tr>\n",
       "      <th>0</th>\n",
       "      <td>3.68</td>\n",
       "      <td>0.57</td>\n",
       "      <td>0.63</td>\n",
       "      <td>0.66</td>\n",
       "    </tr>\n",
       "    <tr>\n",
       "      <th>1</th>\n",
       "      <td>3.62</td>\n",
       "      <td>0.62</td>\n",
       "      <td>0.63</td>\n",
       "      <td>0.66</td>\n",
       "    </tr>\n",
       "    <tr>\n",
       "      <th>2</th>\n",
       "      <td>3.56</td>\n",
       "      <td>0.55</td>\n",
       "      <td>0.66</td>\n",
       "      <td>0.66</td>\n",
       "    </tr>\n",
       "    <tr>\n",
       "      <th>3</th>\n",
       "      <td>3.57</td>\n",
       "      <td>0.55</td>\n",
       "      <td>0.69</td>\n",
       "      <td>0.65</td>\n",
       "    </tr>\n",
       "    <tr>\n",
       "      <th>4</th>\n",
       "      <td>3.50</td>\n",
       "      <td>0.56</td>\n",
       "      <td>0.67</td>\n",
       "      <td>0.65</td>\n",
       "    </tr>\n",
       "    <tr>\n",
       "      <th>mean</th>\n",
       "      <td>3.58</td>\n",
       "      <td>0.57</td>\n",
       "      <td>0.66</td>\n",
       "      <td>0.66</td>\n",
       "    </tr>\n",
       "    <tr>\n",
       "      <th>sd</th>\n",
       "      <td>0.06</td>\n",
       "      <td>0.03</td>\n",
       "      <td>0.02</td>\n",
       "      <td>0.00</td>\n",
       "    </tr>\n",
       "  </tbody>\n",
       "</table>\n",
       "</div>"
      ],
      "text/plain": [
       "      fit_time  score_time  val_score  train_score\n",
       "fold                                              \n",
       "0         3.68        0.57       0.63         0.66\n",
       "1         3.62        0.62       0.63         0.66\n",
       "2         3.56        0.55       0.66         0.66\n",
       "3         3.57        0.55       0.69         0.65\n",
       "4         3.50        0.56       0.67         0.65\n",
       "mean      3.58        0.57       0.66         0.66\n",
       "sd        0.06        0.03       0.02         0.00"
      ]
     },
     "execution_count": 121,
     "metadata": {},
     "output_type": "execute_result"
    }
   ],
   "source": [
    "from imblearn.under_sampling import RandomUnderSampler\n",
    "from imblearn.pipeline import Pipeline as imbPipeline\n",
    "\n",
    "log_pipe = imbPipeline(pre_processing)\n",
    "log_pipe.steps.append((\"under\", RandomUnderSampler()))\n",
    "log_pipe.steps.append((\"model\", LogisticRegression()))\n",
    "\n",
    "display(log_pipe)\n",
    "\n",
    "tidy_scores(cross_validate(log_pipe, X_train, \n",
    "                           y_train, cv=5, return_train_score=True, verbose=2))"
   ]
  },
  {
   "cell_type": "code",
   "execution_count": null,
   "metadata": {},
   "outputs": [],
   "source": []
  }
 ],
 "metadata": {
  "colab": {
   "collapsed_sections": [],
   "include_colab_link": true,
   "name": "Clustering.ipynb",
   "provenance": []
  },
  "hide_code_all_hidden": false,
  "kernelspec": {
   "display_name": "Python 3 (ipykernel)",
   "language": "python",
   "name": "python3"
  },
  "language_info": {
   "codemirror_mode": {
    "name": "ipython",
    "version": 3
   },
   "file_extension": ".py",
   "mimetype": "text/x-python",
   "name": "python",
   "nbconvert_exporter": "python",
   "pygments_lexer": "ipython3",
   "version": "3.9.7"
  }
 },
 "nbformat": 4,
 "nbformat_minor": 1
}
