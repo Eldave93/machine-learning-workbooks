{
 "cells": [
  {
   "cell_type": "markdown",
   "id": "50fef8ca",
   "metadata": {
    "colab_type": "text",
    "id": "view-in-github"
   },
   "source": [
    "[![Open In Colab](https://colab.research.google.com/assets/colab-badge.svg)](https://colab.research.google.com/github/Eldave93/machine-learning-workbooks/blob/main/02-data/02_workbook.ipynb)"
   ]
  },
  {
   "cell_type": "markdown",
   "id": "earned-tennessee",
   "metadata": {
    "id": "earned-tennessee"
   },
   "source": [
    "# Workbook 02 - Data and Features\n",
    "by [David Elliott](https://eldave93.netlify.app/)\n",
    "\n",
    "1. [Workspace Setup](#setup)\n",
    "\n",
    "2. [Problem Understanding](#problem)\n",
    "\n",
    "3. [Inital Inspection](#init)\n",
    "\n",
    "4. [Creating a Test Set](#gen)\n",
    "\n",
    "5. [Exploratory Data Analysis](#eda)\n",
    "\n",
    "6. [Data Cleaning](#clean)\n",
    "\n",
    "7. [Feature Engineering](#engin)\n",
    "\n",
    "8. [Summary](#sum)\n",
    "\n",
    "9. [Extra](#extra)"
   ]
  },
  {
   "cell_type": "markdown",
   "id": "6d1eafea",
   "metadata": {
    "id": "6d1eafea"
   },
   "source": [
    "This workbook will focus on Pre-Processing and Feature Engineering. The workbook will still be structured like an example project, but any actual modelling is going to be extra work."
   ]
  },
  {
   "cell_type": "markdown",
   "id": "6046e7a1",
   "metadata": {
    "id": "6046e7a1"
   },
   "source": [
    "# 1. Workspace Setup\n",
    "\n",
    "Before downloading any data we should think about our workspace. It is assumed if you have made it this far you have already got your workspace setup. There are two ways of using these notebooks. The first is to use Google Colab, which is a website that allows you to write and execute python code through the browser. The second is a local workspace (e.g. Anaconda)."
   ]
  },
  {
   "cell_type": "markdown",
   "id": "73b21536",
   "metadata": {
    "id": "73b21536"
   },
   "source": [
    "## 1.A. Google Colab\n",
    "If you are not using google colab then you can skip this section. \n",
    "\n",
    "From this workbook onwards, I have condenced down the setup steps for google colab into a single code block. See the last worksheet for more of an explanation of whats going on here and what you need to do.\n",
    "\n",
    "__Note__ \n",
    "\n",
    "- Make sure to restart the runtime after installing to ensure everything works correctly. Dont worry it wont need to install again!"
   ]
  },
  {
   "cell_type": "code",
   "execution_count": 1,
   "id": "062e9da6",
   "metadata": {
    "colab": {
     "base_uri": "https://localhost:8080/"
    },
    "id": "062e9da6",
    "outputId": "b17e839c-c52d-4eac-a5f1-090e413fc55e"
   },
   "outputs": [
    {
     "name": "stdout",
     "output_type": "stream",
     "text": [
      "Colab is not being used\n"
     ]
    }
   ],
   "source": [
    "import sys\n",
    "\n",
    "try:\n",
    "    import google.colab\n",
    "    import os\n",
    "    \n",
    "    COLAB=True\n",
    "    \n",
    "    # set the workshop code\n",
    "    WORKSHOP_NAME = \"02-data\"\n",
    "    # set the folder name\n",
    "    FOLDER_NAME = \"machine-learning-workbooks-main\"\n",
    "\n",
    "    # check if the environment is already setup to avoid repeating this after \n",
    "    # restarting the runtime\n",
    "    if not os.path.exists(FOLDER_NAME) and os.path.exists(FOLDER_NAME+\".zip\"):\n",
    "          !unzip \"{FOLDER_NAME}.zip\"\n",
    "          \n",
    "    print(\"Setting working directory to:\")\n",
    "    %cd \"./{FOLDER_NAME}/{WORKSHOP_NAME}\"\n",
    "    \n",
    "    # install required packages\n",
    "    !{sys.executable} -m pip install -r ../scripts/requirements.txt\n",
    "    \n",
    "except:\n",
    "    COLAB=False\n",
    "    print(\"Colab is not being used\")"
   ]
  },
  {
   "cell_type": "markdown",
   "id": "a0a83268",
   "metadata": {},
   "source": [
    "## 1.B. Local Workspace\n",
    "\n",
    "If your using a local workspace you will need all the packages in the below \"Packages\" section to run this notebook. If you do not already have them, or you want to ensure you are using the same versions as used when created, the code below (provided `AUTO_INSTALL = True`) will install them for you.\n",
    " \n",
    "__Note__ \n",
    "\n",
    "- Make sure to restart the runtime after installing to ensure everything works correctly. Dont worry it wont need to install again!"
   ]
  },
  {
   "cell_type": "code",
   "execution_count": 2,
   "id": "8af8385a",
   "metadata": {},
   "outputs": [],
   "source": [
    "AUTO_INSTALL = False\n",
    "\n",
    "if AUTO_INSTALL:\n",
    "    !{sys.executable} -m pip install -r ../scripts/requirements.txt"
   ]
  },
  {
   "cell_type": "markdown",
   "id": "cc2fa92b",
   "metadata": {},
   "source": [
    "## 1.1. Packages"
   ]
  },
  {
   "cell_type": "code",
   "execution_count": 3,
   "id": "0a5c8b78",
   "metadata": {},
   "outputs": [],
   "source": [
    "import matplotlib.pyplot as plt\n",
    "import seaborn as sns\n",
    "import pandas as pd\n",
    "import numpy as np\n",
    "\n",
    "sys.path.append('../scripts') # add scripts to the path for use later\n",
    "sns.set(rc={'figure.figsize': (14, 8)}) # For plot sizes\n",
    "np.random.seed(42)  # to make this notebook's output identical at every run"
   ]
  },
  {
   "cell_type": "markdown",
   "id": "69ede8e3",
   "metadata": {
    "id": "69ede8e3"
   },
   "source": [
    "## 1.2. Displaying solutions\n",
    "\n",
    "The solutions are activated using a new .txt file which can be put in the workbook folder (e.g. `01-end_to_end`). Please put in a request for access.\n",
    "\n",
    "If you have access to the solutions, the following cell will create clickable buttons under each exercise, which will allow you to reveal the solutions.\n",
    "\n",
    "__Notes__\n",
    "\n",
    "- This method was created by [Charlotte Desvages](https://charlottedesvages.com/).\n",
    "- This may not work if you don't have the same version of `IPython.display` as the machine that created them:\n",
    "    ```\n",
    "    ImportError: cannot import name 'Code' from 'IPython.display' (/usr/local/lib/python3.7/dist-packages/IPython/display.py)\n",
    "    ```\n",
    "    If so run the auto-install above or manually run `!pip install ipython==7.20`."
   ]
  },
  {
   "cell_type": "code",
   "execution_count": 4,
   "id": "8250a12e",
   "metadata": {
    "colab": {
     "base_uri": "https://localhost:8080/",
     "height": 34,
     "resources": {
      "http://localhost:8080/scripts/create_widgets.js": {
       "data": "CjwhRE9DVFlQRSBodG1sPgo8aHRtbCBsYW5nPWVuPgogIDxtZXRhIGNoYXJzZXQ9dXRmLTg+CiAgPG1ldGEgbmFtZT12aWV3cG9ydCBjb250ZW50PSJpbml0aWFsLXNjYWxlPTEsIG1pbmltdW0tc2NhbGU9MSwgd2lkdGg9ZGV2aWNlLXdpZHRoIj4KICA8dGl0bGU+RXJyb3IgNDA0IChOb3QgRm91bmQpISExPC90aXRsZT4KICA8c3R5bGU+CiAgICAqe21hcmdpbjowO3BhZGRpbmc6MH1odG1sLGNvZGV7Zm9udDoxNXB4LzIycHggYXJpYWwsc2Fucy1zZXJpZn1odG1se2JhY2tncm91bmQ6I2ZmZjtjb2xvcjojMjIyO3BhZGRpbmc6MTVweH1ib2R5e21hcmdpbjo3JSBhdXRvIDA7bWF4LXdpZHRoOjM5MHB4O21pbi1oZWlnaHQ6MTgwcHg7cGFkZGluZzozMHB4IDAgMTVweH0qID4gYm9keXtiYWNrZ3JvdW5kOnVybCgvL3d3dy5nb29nbGUuY29tL2ltYWdlcy9lcnJvcnMvcm9ib3QucG5nKSAxMDAlIDVweCBuby1yZXBlYXQ7cGFkZGluZy1yaWdodDoyMDVweH1we21hcmdpbjoxMXB4IDAgMjJweDtvdmVyZmxvdzpoaWRkZW59aW5ze2NvbG9yOiM3Nzc7dGV4dC1kZWNvcmF0aW9uOm5vbmV9YSBpbWd7Ym9yZGVyOjB9QG1lZGlhIHNjcmVlbiBhbmQgKG1heC13aWR0aDo3NzJweCl7Ym9keXtiYWNrZ3JvdW5kOm5vbmU7bWFyZ2luLXRvcDowO21heC13aWR0aDpub25lO3BhZGRpbmctcmlnaHQ6MH19I2xvZ297YmFja2dyb3VuZDp1cmwoLy93d3cuZ29vZ2xlLmNvbS9pbWFnZXMvbG9nb3MvZXJyb3JwYWdlL2Vycm9yX2xvZ28tMTUweDU0LnBuZykgbm8tcmVwZWF0O21hcmdpbi1sZWZ0Oi01cHh9QG1lZGlhIG9ubHkgc2NyZWVuIGFuZCAobWluLXJlc29sdXRpb246MTkyZHBpKXsjbG9nb3tiYWNrZ3JvdW5kOnVybCgvL3d3dy5nb29nbGUuY29tL2ltYWdlcy9sb2dvcy9lcnJvcnBhZ2UvZXJyb3JfbG9nby0xNTB4NTQtMngucG5nKSBuby1yZXBlYXQgMCUgMCUvMTAwJSAxMDAlOy1tb3otYm9yZGVyLWltYWdlOnVybCgvL3d3dy5nb29nbGUuY29tL2ltYWdlcy9sb2dvcy9lcnJvcnBhZ2UvZXJyb3JfbG9nby0xNTB4NTQtMngucG5nKSAwfX1AbWVkaWEgb25seSBzY3JlZW4gYW5kICgtd2Via2l0LW1pbi1kZXZpY2UtcGl4ZWwtcmF0aW86Mil7I2xvZ297YmFja2dyb3VuZDp1cmwoLy93d3cuZ29vZ2xlLmNvbS9pbWFnZXMvbG9nb3MvZXJyb3JwYWdlL2Vycm9yX2xvZ28tMTUweDU0LTJ4LnBuZykgbm8tcmVwZWF0Oy13ZWJraXQtYmFja2dyb3VuZC1zaXplOjEwMCUgMTAwJX19I2xvZ297ZGlzcGxheTppbmxpbmUtYmxvY2s7aGVpZ2h0OjU0cHg7d2lkdGg6MTUwcHh9CiAgPC9zdHlsZT4KICA8YSBocmVmPS8vd3d3Lmdvb2dsZS5jb20vPjxzcGFuIGlkPWxvZ28gYXJpYS1sYWJlbD1Hb29nbGU+PC9zcGFuPjwvYT4KICA8cD48Yj40MDQuPC9iPiA8aW5zPlRoYXTigJlzIGFuIGVycm9yLjwvaW5zPgogIDxwPiAgPGlucz5UaGF04oCZcyBhbGwgd2Uga25vdy48L2lucz4K",
       "headers": [
        [
         "content-length",
         "1449"
        ],
        [
         "content-type",
         "text/html; charset=utf-8"
        ]
       ],
       "ok": false,
       "status": 404,
       "status_text": ""
      }
     }
    },
    "id": "8250a12e",
    "outputId": "66288d42-3a6a-4372-b247-10cab2daa286"
   },
   "outputs": [
    {
     "name": "stdout",
     "output_type": "stream",
     "text": [
      "Solutions .txt file not found!\n"
     ]
    }
   ],
   "source": [
    "%run ../scripts/create_widgets.py 02"
   ]
  },
  {
   "cell_type": "markdown",
   "id": "blessed-spectacular",
   "metadata": {
    "id": "blessed-spectacular"
   },
   "source": [
    "# 2. Problem Understanding <a id='problem'></a>\n",
    "Like the last workbook lets start by examining an example problem based on [previous research](https://doi.org/10.1016/S0167-7152(96)00140-X). This workbooks data and problem setup come from [Géron, A. (2019)](https://www.oreilly.com/library/view/hands-on-machine-learning/9781492032632/), so if you have already read this textbook you may already be familar with the setup.\n",
    "\n",
    "> Welcome to Machine Learning Housing Corporation! The first task you are asked to perform is to build a model of housing prices in California using the California census data. This data has metrics such as the population, median income, median housing price, and so on for each block group in California. Block groups are the smallest geographical unit for which the US Census Bureau publishes sample data (a block group typically has a population of 600 to 3,000 people). We will just call them “districts” for short.\n",
    ">\n",
    "> Your model should learn from this data and be able to predict the median housing price in any district, given all the other metrics.\n",
    ">\n",
    "> The first question to ask your boss is what exactly is the business objective; building a model is probably not the end goal. How does the company expect to use and benefit from this model? This is important because it will determine how you frame the problem, what algorithms you will select, what performance measure you will use to evaluate your model, and how much effort you should spend tweaking it. Your boss answers that your model’s output (a prediction of a district’s median housing price) will be fed to another Machine Learning system (see Figure 2-2), along with many other signals.$^3$\n",
    "This downstream system will determine whether it is worth investing in a given area or not. Getting this right is critical, as it directly affects revenue.\n",
    ">\n",
    "> The next question to ask is what the current solution looks like (if any). It will often give you a reference performance, as well as insights on how to solve the problem. Your boss answers that the district housing prices are currently estimated manually by experts: a team gathers up-to-date information about a district, and when they cannot get the median housing price, they estimate it using complex rules.\n",
    ">\n",
    "> This is costly and time-consuming, and their estimates are not great; in cases where they manage to find out the actual median housing price, they often realize that their estimates were off by more than 20%. This is why the company thinks that it would be useful to train a model to predict a district’s median housing price given other data about that district. The census data looks like a great dataset to exploit for this pur‐ pose, since it includes the median housing prices of thousands of districts, as well as other data.\n",
    "\n",
    "---\n",
    "3. A piece of information fed to a Machine Learning system is often called a signal in reference to Shannon’s information theory: you want a high signal/noise ratio."
   ]
  },
  {
   "cell_type": "markdown",
   "id": "crude-system",
   "metadata": {
    "id": "crude-system"
   },
   "source": [
    "---\n",
    "\n",
    "### 🚩 Exercise 1\n",
    "\n",
    "Using the information above answer the following questions about how you may design your machine learning system.\n",
    "\n",
    "a) Is this a supervised or unsupervised learning task? "
   ]
  },
  {
   "cell_type": "markdown",
   "id": "09adf5a5",
   "metadata": {
    "id": "09adf5a5"
   },
   "source": []
  },
  {
   "cell_type": "code",
   "execution_count": 5,
   "id": "3e938e41",
   "metadata": {
    "colab": {
     "base_uri": "https://localhost:8080/",
     "height": 98,
     "referenced_widgets": [
      "20311851d8a3499e9fab7474a6fb220e",
      "52a6e6efa56643d6be58069139609cc5",
      "ffd2ce5df9964cf380518c13cd82fd86",
      "2eaf71f6584d405abb485738ede59082",
      "563bf3fda00d425c816aa9566b3fd813"
     ]
    },
    "id": "3e938e41",
    "outputId": "79afa68f-50c4-4771-b0dd-64997b28528a"
   },
   "outputs": [
    {
     "data": {
      "application/vnd.jupyter.widget-view+json": {
       "model_id": "f7a36998186e4bdb88863b373335df6a",
       "version_major": 2,
       "version_minor": 0
      },
      "text/plain": [
       "Button(description='Reveal solution', style=ButtonStyle())"
      ]
     },
     "metadata": {},
     "output_type": "display_data"
    },
    {
     "data": {
      "application/vnd.jupyter.widget-view+json": {
       "model_id": "c44bb64f8a4e400d975f6e6ead2339ce",
       "version_major": 2,
       "version_minor": 0
      },
      "text/plain": [
       "Output(layout=Layout(border='1px solid green'))"
      ]
     },
     "metadata": {},
     "output_type": "display_data"
    }
   ],
   "source": [
    "%run ../scripts/show_solutions.py 02_ex1a"
   ]
  },
  {
   "cell_type": "markdown",
   "id": "2fe036cc",
   "metadata": {
    "id": "2fe036cc"
   },
   "source": [
    "b) Is this a classification, regression, or some other task?"
   ]
  },
  {
   "cell_type": "markdown",
   "id": "c5eb5042",
   "metadata": {
    "id": "c5eb5042"
   },
   "source": []
  },
  {
   "cell_type": "code",
   "execution_count": 6,
   "id": "32f4be9c",
   "metadata": {
    "colab": {
     "base_uri": "https://localhost:8080/",
     "height": 115,
     "referenced_widgets": [
      "312680ab665d43b996f778146ba1bfa4",
      "842000728c534d9cae69b4cf04cea6a3",
      "1c464aa093fb4f72a20d527eed78cba5",
      "1d5d9a582518492ebb220beb2b8d3a37",
      "27662fafc35d4f3bbd3e4a7c4b347c6f"
     ]
    },
    "id": "32f4be9c",
    "outputId": "dcb394a8-9649-4ff1-adf9-9cfe602fccc4"
   },
   "outputs": [
    {
     "data": {
      "application/vnd.jupyter.widget-view+json": {
       "model_id": "1720d522b7d4486d93c0b61680d2ef18",
       "version_major": 2,
       "version_minor": 0
      },
      "text/plain": [
       "Button(description='Reveal solution', style=ButtonStyle())"
      ]
     },
     "metadata": {},
     "output_type": "display_data"
    },
    {
     "data": {
      "application/vnd.jupyter.widget-view+json": {
       "model_id": "c1a3c088af334967b35580f95835b511",
       "version_major": 2,
       "version_minor": 0
      },
      "text/plain": [
       "Output(layout=Layout(border='1px solid green'))"
      ]
     },
     "metadata": {},
     "output_type": "display_data"
    }
   ],
   "source": [
    "%run ../scripts/show_solutions.py 02_ex1b"
   ]
  },
  {
   "cell_type": "markdown",
   "id": "93d59c68",
   "metadata": {
    "id": "93d59c68"
   },
   "source": [
    "c) What if the downstream system the output of your model will feed into requires a categorical input (e.g., \"cheap,\" \"medium,\" or \"expensive\"). Will this be the same or different task?"
   ]
  },
  {
   "cell_type": "code",
   "execution_count": null,
   "id": "d62d3bab",
   "metadata": {
    "id": "d62d3bab"
   },
   "outputs": [],
   "source": []
  },
  {
   "cell_type": "code",
   "execution_count": 7,
   "id": "0e071bd1",
   "metadata": {
    "colab": {
     "base_uri": "https://localhost:8080/",
     "height": 98,
     "referenced_widgets": [
      "0023996b0a544207a6c929b41443a899",
      "d2416135d15249e59d18bb61e71fcadf",
      "f9682ba128be4ad8a936fcee4519bb90",
      "883642b36586447caa839f509908e36c",
      "9a06607971524662bd7a575e2fa209f6"
     ]
    },
    "id": "0e071bd1",
    "outputId": "0692356f-ca4b-494b-edf9-94dc9efb756a"
   },
   "outputs": [
    {
     "data": {
      "application/vnd.jupyter.widget-view+json": {
       "model_id": "d5836b0637ea42f2b1c44a86566ea933",
       "version_major": 2,
       "version_minor": 0
      },
      "text/plain": [
       "Button(description='Reveal solution', style=ButtonStyle())"
      ]
     },
     "metadata": {},
     "output_type": "display_data"
    },
    {
     "data": {
      "application/vnd.jupyter.widget-view+json": {
       "model_id": "62f6ce11c4184e5190dbe7250c454abe",
       "version_major": 2,
       "version_minor": 0
      },
      "text/plain": [
       "Output(layout=Layout(border='1px solid green'))"
      ]
     },
     "metadata": {},
     "output_type": "display_data"
    }
   ],
   "source": [
    "%run ../scripts/show_solutions.py 02_ex1c"
   ]
  },
  {
   "cell_type": "markdown",
   "id": "western-squad",
   "metadata": {
    "id": "western-squad"
   },
   "source": [
    "## 2.1. Data Download\n",
    "\n",
    "The data we will be using in this workbook is a modified version<sup>1</sup> of the California Housing dataset<sup>2</sup>.\n",
    "\n",
    "We can get the data a number of ways. The easiest is just to load it from the data folder provided (where I have already downloaded it to)."
   ]
  },
  {
   "cell_type": "code",
   "execution_count": 8,
   "id": "offensive-liberia",
   "metadata": {
    "colab": {
     "base_uri": "https://localhost:8080/",
     "height": 206
    },
    "id": "offensive-liberia",
    "outputId": "259d6b59-98f9-44e9-cca4-8b2a7f6ff40a"
   },
   "outputs": [
    {
     "data": {
      "text/html": [
       "<div>\n",
       "<style scoped>\n",
       "    .dataframe tbody tr th:only-of-type {\n",
       "        vertical-align: middle;\n",
       "    }\n",
       "\n",
       "    .dataframe tbody tr th {\n",
       "        vertical-align: top;\n",
       "    }\n",
       "\n",
       "    .dataframe thead th {\n",
       "        text-align: right;\n",
       "    }\n",
       "</style>\n",
       "<table border=\"1\" class=\"dataframe\">\n",
       "  <thead>\n",
       "    <tr style=\"text-align: right;\">\n",
       "      <th></th>\n",
       "      <th>longitude</th>\n",
       "      <th>latitude</th>\n",
       "      <th>housing_median_age</th>\n",
       "      <th>total_rooms</th>\n",
       "      <th>total_bedrooms</th>\n",
       "      <th>population</th>\n",
       "      <th>households</th>\n",
       "      <th>median_income</th>\n",
       "      <th>median_house_value</th>\n",
       "      <th>ocean_proximity</th>\n",
       "    </tr>\n",
       "  </thead>\n",
       "  <tbody>\n",
       "    <tr>\n",
       "      <th>0</th>\n",
       "      <td>-122.23</td>\n",
       "      <td>37.88</td>\n",
       "      <td>41.0</td>\n",
       "      <td>880.0</td>\n",
       "      <td>129.0</td>\n",
       "      <td>322.0</td>\n",
       "      <td>126.0</td>\n",
       "      <td>8.3252</td>\n",
       "      <td>452600.0</td>\n",
       "      <td>NEAR BAY</td>\n",
       "    </tr>\n",
       "    <tr>\n",
       "      <th>1</th>\n",
       "      <td>-122.22</td>\n",
       "      <td>37.86</td>\n",
       "      <td>21.0</td>\n",
       "      <td>7099.0</td>\n",
       "      <td>1106.0</td>\n",
       "      <td>2401.0</td>\n",
       "      <td>1138.0</td>\n",
       "      <td>8.3014</td>\n",
       "      <td>358500.0</td>\n",
       "      <td>NEAR BAY</td>\n",
       "    </tr>\n",
       "    <tr>\n",
       "      <th>2</th>\n",
       "      <td>-122.24</td>\n",
       "      <td>37.85</td>\n",
       "      <td>52.0</td>\n",
       "      <td>1467.0</td>\n",
       "      <td>190.0</td>\n",
       "      <td>496.0</td>\n",
       "      <td>177.0</td>\n",
       "      <td>7.2574</td>\n",
       "      <td>352100.0</td>\n",
       "      <td>NEAR BAY</td>\n",
       "    </tr>\n",
       "    <tr>\n",
       "      <th>3</th>\n",
       "      <td>-122.25</td>\n",
       "      <td>37.85</td>\n",
       "      <td>52.0</td>\n",
       "      <td>1274.0</td>\n",
       "      <td>235.0</td>\n",
       "      <td>558.0</td>\n",
       "      <td>219.0</td>\n",
       "      <td>5.6431</td>\n",
       "      <td>341300.0</td>\n",
       "      <td>NEAR BAY</td>\n",
       "    </tr>\n",
       "    <tr>\n",
       "      <th>4</th>\n",
       "      <td>-122.25</td>\n",
       "      <td>37.85</td>\n",
       "      <td>52.0</td>\n",
       "      <td>1627.0</td>\n",
       "      <td>280.0</td>\n",
       "      <td>565.0</td>\n",
       "      <td>259.0</td>\n",
       "      <td>3.8462</td>\n",
       "      <td>342200.0</td>\n",
       "      <td>NEAR BAY</td>\n",
       "    </tr>\n",
       "  </tbody>\n",
       "</table>\n",
       "</div>"
      ],
      "text/plain": [
       "   longitude  latitude  housing_median_age  total_rooms  total_bedrooms  \\\n",
       "0    -122.23     37.88                41.0        880.0           129.0   \n",
       "1    -122.22     37.86                21.0       7099.0          1106.0   \n",
       "2    -122.24     37.85                52.0       1467.0           190.0   \n",
       "3    -122.25     37.85                52.0       1274.0           235.0   \n",
       "4    -122.25     37.85                52.0       1627.0           280.0   \n",
       "\n",
       "   population  households  median_income  median_house_value ocean_proximity  \n",
       "0       322.0       126.0         8.3252            452600.0        NEAR BAY  \n",
       "1      2401.0      1138.0         8.3014            358500.0        NEAR BAY  \n",
       "2       496.0       177.0         7.2574            352100.0        NEAR BAY  \n",
       "3       558.0       219.0         5.6431            341300.0        NEAR BAY  \n",
       "4       565.0       259.0         3.8462            342200.0        NEAR BAY  "
      ]
     },
     "execution_count": 8,
     "metadata": {},
     "output_type": "execute_result"
    }
   ],
   "source": [
    "housing = pd.read_csv(\"./Data/housing.csv\")\n",
    "housing.head()"
   ]
  },
  {
   "cell_type": "markdown",
   "id": "above-gauge",
   "metadata": {
    "id": "above-gauge"
   },
   "source": [
    "---\n",
    "## Extra\n",
    "\n",
    "You could also download it from [Géron's github](https://github.com/ageron). Building a small function to download the data and then load it is good practice if in the future you use a database that is updated or your model is deployed in practice (where you may fetch and re-train your model multiple times)."
   ]
  },
  {
   "cell_type": "code",
   "execution_count": 9,
   "id": "considerable-paris",
   "metadata": {
    "id": "considerable-paris"
   },
   "outputs": [],
   "source": [
    "# code from https://github.com/ageron/handson-ml2/blob/master/02_end_to_end_machine_learning_project.ipynb\n",
    "import os\n",
    "import tarfile\n",
    "import urllib.request\n",
    "\n",
    "DOWNLOAD_ROOT = \"https://raw.githubusercontent.com/ageron/handson-ml2/master/\"\n",
    "HOUSING_PATH = os.path.join(\"Data\", \"housing\")\n",
    "HOUSING_URL = DOWNLOAD_ROOT + \"datasets/housing/housing.tgz\"\n",
    "\n",
    "def fetch_housing_data(housing_url=HOUSING_URL, housing_path=HOUSING_PATH):\n",
    "    if not os.path.isdir(housing_path):\n",
    "        os.makedirs(housing_path)\n",
    "    tgz_path = os.path.join(housing_path, \"housing.tgz\")\n",
    "    urllib.request.urlretrieve(housing_url, tgz_path)\n",
    "    housing_tgz = tarfile.open(tgz_path)\n",
    "    housing_tgz.extractall(path=housing_path)\n",
    "    housing_tgz.close()\n",
    "    \n",
    "fetch_housing_data()"
   ]
  },
  {
   "cell_type": "code",
   "execution_count": 10,
   "id": "focal-tuning",
   "metadata": {
    "colab": {
     "base_uri": "https://localhost:8080/",
     "height": 206
    },
    "id": "focal-tuning",
    "outputId": "38b53f28-ea88-4982-a053-cf6709978e86"
   },
   "outputs": [
    {
     "data": {
      "text/html": [
       "<div>\n",
       "<style scoped>\n",
       "    .dataframe tbody tr th:only-of-type {\n",
       "        vertical-align: middle;\n",
       "    }\n",
       "\n",
       "    .dataframe tbody tr th {\n",
       "        vertical-align: top;\n",
       "    }\n",
       "\n",
       "    .dataframe thead th {\n",
       "        text-align: right;\n",
       "    }\n",
       "</style>\n",
       "<table border=\"1\" class=\"dataframe\">\n",
       "  <thead>\n",
       "    <tr style=\"text-align: right;\">\n",
       "      <th></th>\n",
       "      <th>longitude</th>\n",
       "      <th>latitude</th>\n",
       "      <th>housing_median_age</th>\n",
       "      <th>total_rooms</th>\n",
       "      <th>total_bedrooms</th>\n",
       "      <th>population</th>\n",
       "      <th>households</th>\n",
       "      <th>median_income</th>\n",
       "      <th>median_house_value</th>\n",
       "      <th>ocean_proximity</th>\n",
       "    </tr>\n",
       "  </thead>\n",
       "  <tbody>\n",
       "    <tr>\n",
       "      <th>0</th>\n",
       "      <td>-122.23</td>\n",
       "      <td>37.88</td>\n",
       "      <td>41.0</td>\n",
       "      <td>880.0</td>\n",
       "      <td>129.0</td>\n",
       "      <td>322.0</td>\n",
       "      <td>126.0</td>\n",
       "      <td>8.3252</td>\n",
       "      <td>452600.0</td>\n",
       "      <td>NEAR BAY</td>\n",
       "    </tr>\n",
       "    <tr>\n",
       "      <th>1</th>\n",
       "      <td>-122.22</td>\n",
       "      <td>37.86</td>\n",
       "      <td>21.0</td>\n",
       "      <td>7099.0</td>\n",
       "      <td>1106.0</td>\n",
       "      <td>2401.0</td>\n",
       "      <td>1138.0</td>\n",
       "      <td>8.3014</td>\n",
       "      <td>358500.0</td>\n",
       "      <td>NEAR BAY</td>\n",
       "    </tr>\n",
       "    <tr>\n",
       "      <th>2</th>\n",
       "      <td>-122.24</td>\n",
       "      <td>37.85</td>\n",
       "      <td>52.0</td>\n",
       "      <td>1467.0</td>\n",
       "      <td>190.0</td>\n",
       "      <td>496.0</td>\n",
       "      <td>177.0</td>\n",
       "      <td>7.2574</td>\n",
       "      <td>352100.0</td>\n",
       "      <td>NEAR BAY</td>\n",
       "    </tr>\n",
       "    <tr>\n",
       "      <th>3</th>\n",
       "      <td>-122.25</td>\n",
       "      <td>37.85</td>\n",
       "      <td>52.0</td>\n",
       "      <td>1274.0</td>\n",
       "      <td>235.0</td>\n",
       "      <td>558.0</td>\n",
       "      <td>219.0</td>\n",
       "      <td>5.6431</td>\n",
       "      <td>341300.0</td>\n",
       "      <td>NEAR BAY</td>\n",
       "    </tr>\n",
       "    <tr>\n",
       "      <th>4</th>\n",
       "      <td>-122.25</td>\n",
       "      <td>37.85</td>\n",
       "      <td>52.0</td>\n",
       "      <td>1627.0</td>\n",
       "      <td>280.0</td>\n",
       "      <td>565.0</td>\n",
       "      <td>259.0</td>\n",
       "      <td>3.8462</td>\n",
       "      <td>342200.0</td>\n",
       "      <td>NEAR BAY</td>\n",
       "    </tr>\n",
       "  </tbody>\n",
       "</table>\n",
       "</div>"
      ],
      "text/plain": [
       "   longitude  latitude  housing_median_age  total_rooms  total_bedrooms  \\\n",
       "0    -122.23     37.88                41.0        880.0           129.0   \n",
       "1    -122.22     37.86                21.0       7099.0          1106.0   \n",
       "2    -122.24     37.85                52.0       1467.0           190.0   \n",
       "3    -122.25     37.85                52.0       1274.0           235.0   \n",
       "4    -122.25     37.85                52.0       1627.0           280.0   \n",
       "\n",
       "   population  households  median_income  median_house_value ocean_proximity  \n",
       "0       322.0       126.0         8.3252            452600.0        NEAR BAY  \n",
       "1      2401.0      1138.0         8.3014            358500.0        NEAR BAY  \n",
       "2       496.0       177.0         7.2574            352100.0        NEAR BAY  \n",
       "3       558.0       219.0         5.6431            341300.0        NEAR BAY  \n",
       "4       565.0       259.0         3.8462            342200.0        NEAR BAY  "
      ]
     },
     "execution_count": 10,
     "metadata": {},
     "output_type": "execute_result"
    }
   ],
   "source": [
    "import pandas as pd\n",
    "\n",
    "def load_housing_data(housing_path=HOUSING_PATH):\n",
    "    csv_path = os.path.join(housing_path, \"housing.csv\")\n",
    "    return pd.read_csv(csv_path)\n",
    "\n",
    "housing = load_housing_data()\n",
    "housing.head()"
   ]
  },
  {
   "cell_type": "markdown",
   "id": "6daf2f8a",
   "metadata": {
    "id": "6daf2f8a"
   },
   "source": [
    "In this case we could also download the data from Kaggle. To do this you will first need to create an API token. To get a token you must:\n",
    "1. Sign up for a Kaggle account at https://www.kaggle.com. \n",
    "2. Go to the 'Account' tab of your user profile (`https://www.kaggle.com/<username>/account`)\n",
    "3. Select 'Create API Token' to trigger the download of kaggle.json, a file containing your API credentials. \n",
    "\n",
    "If you are using google colab then you can fill in the inputs below and the code will complete the setup for you.\n",
    "\n",
    "If you are using a local setup, place this file in the location ~/.kaggle/kaggle.json (on Windows in the location C:\\Users\\<Windows-username>\\.kaggle\\kaggle.json). \n",
    "\n",
    "__Note__\n",
    "- If you want to try out Kaggle, then change line 1 to `KAGGLE = True`"
   ]
  },
  {
   "cell_type": "code",
   "execution_count": 11,
   "id": "49fbcba3",
   "metadata": {
    "colab": {
     "base_uri": "https://localhost:8080/",
     "height": 536
    },
    "id": "49fbcba3",
    "outputId": "fc5b09d2-5bad-4329-a918-b9c666bd1a96"
   },
   "outputs": [],
   "source": [
    "KAGGLE = False\n",
    "\n",
    "if KAGGLE:\n",
    "    if COLAB:\n",
    "        import os\n",
    "\n",
    "        # check the file does not already exist\n",
    "        if not os.path.exists(\"~/.kaggle/kaggle.json\"):\n",
    "\n",
    "            kaggle_username = input(\"Enter Kaggle username: \")\n",
    "            kaggle_key = getpass(\"Enter Kaggle key: \")\n",
    "\n",
    "            !mkdir ~/.kaggle\n",
    "            !touch ~/.kaggle/kaggle.json\n",
    "\n",
    "            api_token = {\"username\":kaggle_username,\n",
    "                         \"key\":kaggle_key}\n",
    "\n",
    "            import json\n",
    "\n",
    "            with open('/root/.kaggle/kaggle.json', 'w') as file:\n",
    "                json.dump(api_token, file)\n",
    "\n",
    "            !chmod 600 ~/.kaggle/kaggle.json\n",
    "\n",
    "            del kaggle_key, api_token"
   ]
  },
  {
   "cell_type": "markdown",
   "id": "25458c18",
   "metadata": {
    "id": "25458c18"
   },
   "source": [
    "Now we can use the Python API to authenticate we have everything setup correctly and then download the files.\n",
    "\n",
    "__Note__\n",
    "- The kaggle api github documentation only covers command line usage and not Python usage, but luckily I found this website to help (https://technowhisp.com/kaggle-api-python-documentation/)"
   ]
  },
  {
   "cell_type": "code",
   "execution_count": 12,
   "id": "stylish-arnold",
   "metadata": {
    "id": "stylish-arnold"
   },
   "outputs": [
    {
     "name": "stdout",
     "output_type": "stream",
     "text": [
      "Kaggle not setup\n"
     ]
    }
   ],
   "source": [
    "if KAGGLE:\n",
    "    try:\n",
    "        from kaggle.api.kaggle_api_extended import KaggleApi\n",
    "\n",
    "        api = KaggleApi()\n",
    "        api.authenticate()\n",
    "\n",
    "        api.dataset_download_files('camnugent/california-housing-prices', \n",
    "                                   path=HOUSING_PATH, \n",
    "                                   unzip=True)\n",
    "\n",
    "    except OSError:\n",
    "        print(\"Kaggle not setup\")"
   ]
  },
  {
   "cell_type": "markdown",
   "id": "789edfc1",
   "metadata": {
    "id": "789edfc1"
   },
   "source": [
    "Now its downloaded we will just use the same function we did before to load it."
   ]
  },
  {
   "cell_type": "code",
   "execution_count": 13,
   "id": "f6beaca5",
   "metadata": {
    "id": "f6beaca5",
    "outputId": "d9eb6243-3ef1-44d2-bb82-6fc05a8a75c8"
   },
   "outputs": [
    {
     "data": {
      "text/html": [
       "<div>\n",
       "<style scoped>\n",
       "    .dataframe tbody tr th:only-of-type {\n",
       "        vertical-align: middle;\n",
       "    }\n",
       "\n",
       "    .dataframe tbody tr th {\n",
       "        vertical-align: top;\n",
       "    }\n",
       "\n",
       "    .dataframe thead th {\n",
       "        text-align: right;\n",
       "    }\n",
       "</style>\n",
       "<table border=\"1\" class=\"dataframe\">\n",
       "  <thead>\n",
       "    <tr style=\"text-align: right;\">\n",
       "      <th></th>\n",
       "      <th>longitude</th>\n",
       "      <th>latitude</th>\n",
       "      <th>housing_median_age</th>\n",
       "      <th>total_rooms</th>\n",
       "      <th>total_bedrooms</th>\n",
       "      <th>population</th>\n",
       "      <th>households</th>\n",
       "      <th>median_income</th>\n",
       "      <th>median_house_value</th>\n",
       "      <th>ocean_proximity</th>\n",
       "    </tr>\n",
       "  </thead>\n",
       "  <tbody>\n",
       "    <tr>\n",
       "      <th>0</th>\n",
       "      <td>-122.23</td>\n",
       "      <td>37.88</td>\n",
       "      <td>41.0</td>\n",
       "      <td>880.0</td>\n",
       "      <td>129.0</td>\n",
       "      <td>322.0</td>\n",
       "      <td>126.0</td>\n",
       "      <td>8.3252</td>\n",
       "      <td>452600.0</td>\n",
       "      <td>NEAR BAY</td>\n",
       "    </tr>\n",
       "    <tr>\n",
       "      <th>1</th>\n",
       "      <td>-122.22</td>\n",
       "      <td>37.86</td>\n",
       "      <td>21.0</td>\n",
       "      <td>7099.0</td>\n",
       "      <td>1106.0</td>\n",
       "      <td>2401.0</td>\n",
       "      <td>1138.0</td>\n",
       "      <td>8.3014</td>\n",
       "      <td>358500.0</td>\n",
       "      <td>NEAR BAY</td>\n",
       "    </tr>\n",
       "    <tr>\n",
       "      <th>2</th>\n",
       "      <td>-122.24</td>\n",
       "      <td>37.85</td>\n",
       "      <td>52.0</td>\n",
       "      <td>1467.0</td>\n",
       "      <td>190.0</td>\n",
       "      <td>496.0</td>\n",
       "      <td>177.0</td>\n",
       "      <td>7.2574</td>\n",
       "      <td>352100.0</td>\n",
       "      <td>NEAR BAY</td>\n",
       "    </tr>\n",
       "    <tr>\n",
       "      <th>3</th>\n",
       "      <td>-122.25</td>\n",
       "      <td>37.85</td>\n",
       "      <td>52.0</td>\n",
       "      <td>1274.0</td>\n",
       "      <td>235.0</td>\n",
       "      <td>558.0</td>\n",
       "      <td>219.0</td>\n",
       "      <td>5.6431</td>\n",
       "      <td>341300.0</td>\n",
       "      <td>NEAR BAY</td>\n",
       "    </tr>\n",
       "    <tr>\n",
       "      <th>4</th>\n",
       "      <td>-122.25</td>\n",
       "      <td>37.85</td>\n",
       "      <td>52.0</td>\n",
       "      <td>1627.0</td>\n",
       "      <td>280.0</td>\n",
       "      <td>565.0</td>\n",
       "      <td>259.0</td>\n",
       "      <td>3.8462</td>\n",
       "      <td>342200.0</td>\n",
       "      <td>NEAR BAY</td>\n",
       "    </tr>\n",
       "  </tbody>\n",
       "</table>\n",
       "</div>"
      ],
      "text/plain": [
       "   longitude  latitude  housing_median_age  total_rooms  total_bedrooms  \\\n",
       "0    -122.23     37.88                41.0        880.0           129.0   \n",
       "1    -122.22     37.86                21.0       7099.0          1106.0   \n",
       "2    -122.24     37.85                52.0       1467.0           190.0   \n",
       "3    -122.25     37.85                52.0       1274.0           235.0   \n",
       "4    -122.25     37.85                52.0       1627.0           280.0   \n",
       "\n",
       "   population  households  median_income  median_house_value ocean_proximity  \n",
       "0       322.0       126.0         8.3252            452600.0        NEAR BAY  \n",
       "1      2401.0      1138.0         8.3014            358500.0        NEAR BAY  \n",
       "2       496.0       177.0         7.2574            352100.0        NEAR BAY  \n",
       "3       558.0       219.0         5.6431            341300.0        NEAR BAY  \n",
       "4       565.0       259.0         3.8462            342200.0        NEAR BAY  "
      ]
     },
     "execution_count": 13,
     "metadata": {},
     "output_type": "execute_result"
    }
   ],
   "source": [
    "housing = load_housing_data()\n",
    "housing.head()"
   ]
  },
  {
   "cell_type": "markdown",
   "id": "threaded-riverside",
   "metadata": {
    "id": "threaded-riverside"
   },
   "source": [
    "# 3. Inital Inspection <a id='init'></a>\n",
    "\n",
    "This is not going to be a full EDA, but just to get a quick feel for the data. Its important not to do much here as really this is just going to be used to help us make an appropriate test set. This is __not__ to examine patterns between your attributes that could help your model performance - this is called _data snooping_ and could give you an overly optimistic estimate of the generalisation error. Humans after all are very good at pattern regonition and identifying too many patterns here before splitting your data could lead to you focusing on patterns specific to the test set.\n",
    "\n",
    "First lets examine the [Data Dictionary](https://www.kaggle.com/camnugent/california-housing-prices).\n",
    "\n",
    "> `longitude`: A measure of how far west a house is; a higher value is farther west\n",
    ">\n",
    "> `latitude`: A measure of how far north a house is; a higher value is farther north\n",
    ">\n",
    "> `housingMedianAge`: Median age of a house within a block; a lower number is a newer building\n",
    ">\n",
    "> `totalRooms`: Total number of rooms within a block\n",
    ">\n",
    "> `totalBedrooms`: Total number of bedrooms within a block\n",
    ">\n",
    "> `population`: Total number of people residing within a block\n",
    ">\n",
    "> `households`: Total number of households, a group of people residing within a home unit, for a block\n",
    ">\n",
    "> `medianIncome`: Median income for households within a block of houses (measured in tens of thousands of US Dollars)\n",
    ">\n",
    "> `medianHouseValue`: Median house value for households within a block (measured in US Dollars)\n",
    ">\n",
    "> `oceanProximity`: Location of the house w.r.t ocean/sea\n",
    "\n",
    "As we can see above the data has 10 attributes. Lets start examine the data structure using `.info`."
   ]
  },
  {
   "cell_type": "code",
   "execution_count": 14,
   "id": "freelance-piece",
   "metadata": {
    "colab": {
     "base_uri": "https://localhost:8080/"
    },
    "id": "freelance-piece",
    "outputId": "dc016756-d8e2-48de-9a5a-dcf4f1e7c0ca"
   },
   "outputs": [
    {
     "name": "stdout",
     "output_type": "stream",
     "text": [
      "<class 'pandas.core.frame.DataFrame'>\n",
      "RangeIndex: 20640 entries, 0 to 20639\n",
      "Data columns (total 10 columns):\n",
      " #   Column              Non-Null Count  Dtype  \n",
      "---  ------              --------------  -----  \n",
      " 0   longitude           20640 non-null  float64\n",
      " 1   latitude            20640 non-null  float64\n",
      " 2   housing_median_age  20640 non-null  float64\n",
      " 3   total_rooms         20640 non-null  float64\n",
      " 4   total_bedrooms      20433 non-null  float64\n",
      " 5   population          20640 non-null  float64\n",
      " 6   households          20640 non-null  float64\n",
      " 7   median_income       20640 non-null  float64\n",
      " 8   median_house_value  20640 non-null  float64\n",
      " 9   ocean_proximity     20640 non-null  object \n",
      "dtypes: float64(9), object(1)\n",
      "memory usage: 1.6+ MB\n"
     ]
    }
   ],
   "source": [
    "housing.info()"
   ]
  },
  {
   "cell_type": "markdown",
   "id": "verbal-gates",
   "metadata": {
    "id": "verbal-gates"
   },
   "source": [
    "---\n",
    "\n",
    "### 🚩 Exercise 2\n",
    "\n",
    "From the information provided above, can you anticipate any data cleaning we may need to do?"
   ]
  },
  {
   "cell_type": "code",
   "execution_count": null,
   "id": "f54515d8",
   "metadata": {
    "id": "f54515d8"
   },
   "outputs": [],
   "source": []
  },
  {
   "cell_type": "code",
   "execution_count": 15,
   "id": "bc84f9c9",
   "metadata": {
    "colab": {
     "base_uri": "https://localhost:8080/",
     "height": 51,
     "referenced_widgets": [
      "903dd85537ee45ca9d024848e87c2125",
      "05ec20ab66d14d51af4dd96ea729f43d",
      "d4443425c57b46bdac3dbc61f5360199",
      "d003c23229f24314843d6a525a4d8643",
      "bcc6e21cc76e4ed7b2d3f40cdbffa08a"
     ]
    },
    "id": "bc84f9c9",
    "outputId": "d59d20b3-ec57-4c71-88b5-e8989a24e551"
   },
   "outputs": [
    {
     "data": {
      "application/vnd.jupyter.widget-view+json": {
       "model_id": "c2885ed91db94567ade37d09fa55ecfc",
       "version_major": 2,
       "version_minor": 0
      },
      "text/plain": [
       "Button(description='Reveal solution', style=ButtonStyle())"
      ]
     },
     "metadata": {},
     "output_type": "display_data"
    },
    {
     "data": {
      "application/vnd.jupyter.widget-view+json": {
       "model_id": "097b335c8c0146788f7f25f12e889026",
       "version_major": 2,
       "version_minor": 0
      },
      "text/plain": [
       "Output(layout=Layout(border='1px solid green'))"
      ]
     },
     "metadata": {},
     "output_type": "display_data"
    }
   ],
   "source": [
    "%run ../scripts/show_solutions.py 02_ex2"
   ]
  },
  {
   "cell_type": "markdown",
   "id": "alternate-model",
   "metadata": {
    "id": "alternate-model"
   },
   "source": [
    "---\n",
    "\n",
    "### 🚩 Exercise 3\n",
    "\n",
    "Using descriptive statistics and histograms to examine the distributions of the numerical attributes, can you identify other pre-processing/feature engineering steps we may need to do?\n",
    "<br><br>\n",
    "<details><summary><b><u>Hint</b></u></summary>\n",
    "\n",
    "- <code>.describe()</code> can be used to create summary descriptive statistics on a pandas dataframe.\n",
    "    \n",
    "- You can use a <code>sns.histplot</code> to create histograms.\n",
    "</details>"
   ]
  },
  {
   "cell_type": "code",
   "execution_count": null,
   "id": "3e368bde",
   "metadata": {
    "id": "3e368bde"
   },
   "outputs": [],
   "source": []
  },
  {
   "cell_type": "code",
   "execution_count": 16,
   "id": "0e6aa144",
   "metadata": {
    "colab": {
     "base_uri": "https://localhost:8080/",
     "height": 98,
     "referenced_widgets": [
      "c56f87ee09b444b4a1c28e2dacc55d4d",
      "f49c753df98b40ef8cd5feccbd58d181",
      "a0741bdd198e41229a8555f061efd9c2",
      "b7be9890c0ec4ded9f3665d4c63654b6",
      "b28038ecb4e4444fa9d2d7021933e609"
     ]
    },
    "id": "0e6aa144",
    "outputId": "4ba7137b-fa2e-437f-ea5b-1c9e8ac5fe82"
   },
   "outputs": [
    {
     "data": {
      "application/vnd.jupyter.widget-view+json": {
       "model_id": "addee9d00db84cca9d15b8a173fd911c",
       "version_major": 2,
       "version_minor": 0
      },
      "text/plain": [
       "Button(description='Reveal solution', style=ButtonStyle())"
      ]
     },
     "metadata": {},
     "output_type": "display_data"
    },
    {
     "data": {
      "application/vnd.jupyter.widget-view+json": {
       "model_id": "1b7707f7177b475c9f2ba5149fab0c1b",
       "version_major": 2,
       "version_minor": 0
      },
      "text/plain": [
       "Output(layout=Layout(border='1px solid green'))"
      ]
     },
     "metadata": {},
     "output_type": "display_data"
    }
   ],
   "source": [
    "%run ../scripts/show_solutions.py 02_ex3"
   ]
  },
  {
   "cell_type": "markdown",
   "id": "7b48e3c1",
   "metadata": {
    "id": "7b48e3c1"
   },
   "source": [
    "---\n",
    "\n",
    "One thing you may have noticed from the histogram you made above is that the median income, housing median age, and the median house value are capped. The median house value capping (this being our target value) may or may not be a problem depending on your client. If we needed precise predictions beyond $\\$500,000$ we may need to either collect proper labels for the districts whose labels were capped or remove these districts from the training and test set. We'll do the latter for this workshop."
   ]
  },
  {
   "cell_type": "code",
   "execution_count": 17,
   "id": "0dab8fca",
   "metadata": {
    "id": "0dab8fca"
   },
   "outputs": [],
   "source": [
    "housing = housing[housing[\"median_house_value\"]<500000]"
   ]
  },
  {
   "cell_type": "markdown",
   "id": "acquired-killing",
   "metadata": {
    "id": "acquired-killing"
   },
   "source": [
    "---\n",
    "\n",
    "### 🚩 Exercise 4\n",
    "What are the possible categories for the `ocean_proximity` variable?\n",
    "- Are there a similar number of instances in each category?"
   ]
  },
  {
   "cell_type": "code",
   "execution_count": null,
   "id": "ecce465e",
   "metadata": {
    "id": "ecce465e"
   },
   "outputs": [],
   "source": []
  },
  {
   "cell_type": "code",
   "execution_count": 18,
   "id": "valuable-mattress",
   "metadata": {
    "colab": {
     "base_uri": "https://localhost:8080/",
     "height": 115,
     "referenced_widgets": [
      "743e51fac04b408b8f98735ae7ef8388",
      "74a77e132d8546cd852f3f66985bf232",
      "e859cf098b7c4d94a8c311859b93c16e",
      "827109f44b984ca4a82fcbd56de1ef4b",
      "341622de9f96490c8c9737f18826d829"
     ]
    },
    "id": "valuable-mattress",
    "outputId": "b0782a10-8573-423d-ab92-cd0957016519"
   },
   "outputs": [
    {
     "data": {
      "application/vnd.jupyter.widget-view+json": {
       "model_id": "0fe55898c3724d6e85943c4635ea4bfc",
       "version_major": 2,
       "version_minor": 0
      },
      "text/plain": [
       "Button(description='Reveal solution', style=ButtonStyle())"
      ]
     },
     "metadata": {},
     "output_type": "display_data"
    },
    {
     "data": {
      "application/vnd.jupyter.widget-view+json": {
       "model_id": "f684eeb25e95454d8572eabeea3d7d88",
       "version_major": 2,
       "version_minor": 0
      },
      "text/plain": [
       "Output(layout=Layout(border='1px solid green'))"
      ]
     },
     "metadata": {},
     "output_type": "display_data"
    }
   ],
   "source": [
    "%run ../scripts/show_solutions.py 02_ex4"
   ]
  },
  {
   "cell_type": "markdown",
   "id": "asian-latter",
   "metadata": {
    "id": "asian-latter"
   },
   "source": [
    "---\n",
    "\n",
    "# 4. Creating a Test Set <a id='gen'></a>\n",
    "\n",
    "There are lots of ways of creating a test set. Last workbook we used a helpful function from `sklearn.model_selection` called `train_test_split`. Although we didn't go into the details too much then, lets have a look into creating good test sets now using this helper function.\n",
    "\n",
    "When no class labels are provided, `train_test_split` just defaults to randomly sampling the data to split it into training and validation/test sets (this is what we did last time). \n",
    "\n",
    "However, this time lets first just split our dataset without shuffling for practice using the function."
   ]
  },
  {
   "cell_type": "markdown",
   "id": "parliamentary-drive",
   "metadata": {
    "id": "parliamentary-drive"
   },
   "source": [
    "---\n",
    "\n",
    "### 🚩 Exercise 5\n",
    "\n",
    "Use `train_test_split` to split the data randomly into training (77%) and test (33%) sets without shuffling the data first.\n",
    "\n",
    "- Can you think on a scenario where not shuffling would be a good idea?\n",
    "- What about when we would want to shuffle our data?"
   ]
  },
  {
   "cell_type": "code",
   "execution_count": 19,
   "id": "accepted-bubble",
   "metadata": {
    "id": "accepted-bubble"
   },
   "outputs": [],
   "source": [
    "from sklearn.model_selection import train_test_split\n"
   ]
  },
  {
   "cell_type": "code",
   "execution_count": 20,
   "id": "0e45e991",
   "metadata": {
    "colab": {
     "base_uri": "https://localhost:8080/",
     "height": 260,
     "referenced_widgets": [
      "fc572db346b34f2dbb15a49dd058ad37",
      "8b1f3379098e45cd9ce155d90c4b1dcd",
      "1e3f3cb7ad0b4c318eb38e79378da925",
      "37cddd1bdbc946fab15655672788f68a",
      "0c7f396f9c7845d689f24778ecfa1c4e"
     ]
    },
    "id": "0e45e991",
    "outputId": "40e24f5b-de82-4a71-a7c9-1b492052d630"
   },
   "outputs": [
    {
     "data": {
      "application/vnd.jupyter.widget-view+json": {
       "model_id": "4cff49b604c54e8fb72f7de0ceaea453",
       "version_major": 2,
       "version_minor": 0
      },
      "text/plain": [
       "Button(description='Reveal solution', style=ButtonStyle())"
      ]
     },
     "metadata": {},
     "output_type": "display_data"
    },
    {
     "data": {
      "application/vnd.jupyter.widget-view+json": {
       "model_id": "028116f8149f450c95138ca80aee39d3",
       "version_major": 2,
       "version_minor": 0
      },
      "text/plain": [
       "Output(layout=Layout(border='1px solid green'))"
      ]
     },
     "metadata": {},
     "output_type": "display_data"
    }
   ],
   "source": [
    "%run ../scripts/show_solutions.py 02_ex5"
   ]
  },
  {
   "cell_type": "markdown",
   "id": "isolated-clark",
   "metadata": {
    "id": "isolated-clark"
   },
   "source": [
    "---\n",
    "\n",
    "### 🚩 Exercise 6 (Extra)\n",
    "\n",
    "Create your own function alike to `split_train_test` using `numpy`? \n",
    "\n",
    "- Can you get the same split created using `train_test_split` (without shuffling)?\n",
    "\n",
    "<details><summary><b><u>Hint</b></u></summary>\n",
    "\n",
    "- make sure your <code>train_size</code> or <code>test_size</code> is the same between the two methods.\n",
    "\n",
    "</details>"
   ]
  },
  {
   "cell_type": "code",
   "execution_count": null,
   "id": "external-influence",
   "metadata": {
    "id": "external-influence"
   },
   "outputs": [],
   "source": []
  },
  {
   "cell_type": "code",
   "execution_count": 21,
   "id": "6bcfcaec",
   "metadata": {
    "colab": {
     "base_uri": "https://localhost:8080/",
     "height": 363,
     "referenced_widgets": [
      "18b504d555e4410ba3cdc93e5f5f316b",
      "f84748256151484b861f3928e67b4875",
      "2a65160a82904024a41c13c707518bf3",
      "440ac15af7f741529caccbea4f2ab01e",
      "be1a9d2b7cec4911a5dd4f06b6cb8855"
     ]
    },
    "id": "6bcfcaec",
    "outputId": "5ab31a15-9a8e-4f5a-de40-a48740ca90db"
   },
   "outputs": [
    {
     "data": {
      "application/vnd.jupyter.widget-view+json": {
       "model_id": "1fe858de59e4486a8be8ff9af0db8d0c",
       "version_major": 2,
       "version_minor": 0
      },
      "text/plain": [
       "Button(description='Reveal solution', style=ButtonStyle())"
      ]
     },
     "metadata": {},
     "output_type": "display_data"
    },
    {
     "data": {
      "application/vnd.jupyter.widget-view+json": {
       "model_id": "48b40cabed2c42fe996b7cbfbc5d5dc7",
       "version_major": 2,
       "version_minor": 0
      },
      "text/plain": [
       "Output(layout=Layout(border='1px solid green'))"
      ]
     },
     "metadata": {},
     "output_type": "display_data"
    }
   ],
   "source": [
    "%run ../scripts/show_solutions.py 02_ex6"
   ]
  },
  {
   "cell_type": "markdown",
   "id": "accessory-clone",
   "metadata": {
    "id": "accessory-clone"
   },
   "source": [
    "---\n",
    "\n",
    "`train_test_split` can also do _\"stratified splitting\"_. What this means is that the data _\"is divided into homogeneous subgroups called strata, and the right number of instances is sampled from each stratum to guarantee that the test set is representative of the overall population\"_ based on the class labels.\n",
    "\n",
    "Imagine that an expert tells us that `ocean_proximity` is incredibly important for predicting `median_house_value`. We may want to ensure that the test set is representative of the various categories of `ocean_proximity`. Therefore we can use stratified splitting to ensure that the proportions of `ocean_proximity` are similar in the test set to the training set.\n",
    "\n",
    "__Notes__\n",
    "- We will use these sets for the rest of the workshop but you could use other splits of the data if you prefer, you may just get different results."
   ]
  },
  {
   "cell_type": "code",
   "execution_count": 22,
   "id": "functional-october",
   "metadata": {
    "id": "functional-october"
   },
   "outputs": [],
   "source": [
    "class_labels = \"ocean_proximity\"\n",
    "\n",
    "train_set, test_set = train_test_split(housing, train_size=0.77, \n",
    "                                       stratify = housing[[class_labels]])"
   ]
  },
  {
   "cell_type": "markdown",
   "id": "careful-membership",
   "metadata": {
    "id": "careful-membership"
   },
   "source": [
    "As can be seen below, stratified sampling in this case leads to less sampling bias in our test data."
   ]
  },
  {
   "cell_type": "code",
   "execution_count": 23,
   "id": "challenging-seven",
   "metadata": {
    "colab": {
     "base_uri": "https://localhost:8080/",
     "height": 206
    },
    "id": "challenging-seven",
    "outputId": "00137eb0-e528-42d8-e224-2a4915e27649"
   },
   "outputs": [
    {
     "data": {
      "text/html": [
       "<div>\n",
       "<style scoped>\n",
       "    .dataframe tbody tr th:only-of-type {\n",
       "        vertical-align: middle;\n",
       "    }\n",
       "\n",
       "    .dataframe tbody tr th {\n",
       "        vertical-align: top;\n",
       "    }\n",
       "\n",
       "    .dataframe thead th {\n",
       "        text-align: right;\n",
       "    }\n",
       "</style>\n",
       "<table border=\"1\" class=\"dataframe\">\n",
       "  <thead>\n",
       "    <tr style=\"text-align: right;\">\n",
       "      <th></th>\n",
       "      <th>Overall</th>\n",
       "      <th>Random</th>\n",
       "      <th>Stratified</th>\n",
       "      <th>Rand. %error</th>\n",
       "      <th>Strat. %error</th>\n",
       "    </tr>\n",
       "  </thead>\n",
       "  <tbody>\n",
       "    <tr>\n",
       "      <th>NEAR BAY</th>\n",
       "      <td>0.437</td>\n",
       "      <td>0.427</td>\n",
       "      <td>0.437</td>\n",
       "      <td>-2.290</td>\n",
       "      <td>-0.014</td>\n",
       "    </tr>\n",
       "    <tr>\n",
       "      <th>&lt;1H OCEAN</th>\n",
       "      <td>0.332</td>\n",
       "      <td>0.339</td>\n",
       "      <td>0.332</td>\n",
       "      <td>2.159</td>\n",
       "      <td>0.026</td>\n",
       "    </tr>\n",
       "    <tr>\n",
       "      <th>INLAND</th>\n",
       "      <td>0.124</td>\n",
       "      <td>0.129</td>\n",
       "      <td>0.124</td>\n",
       "      <td>4.169</td>\n",
       "      <td>0.066</td>\n",
       "    </tr>\n",
       "    <tr>\n",
       "      <th>NEAR OCEAN</th>\n",
       "      <td>0.106</td>\n",
       "      <td>0.104</td>\n",
       "      <td>0.106</td>\n",
       "      <td>-2.153</td>\n",
       "      <td>-0.071</td>\n",
       "    </tr>\n",
       "    <tr>\n",
       "      <th>ISLAND</th>\n",
       "      <td>0.000</td>\n",
       "      <td>0.000</td>\n",
       "      <td>0.000</td>\n",
       "      <td>-13.062</td>\n",
       "      <td>-13.062</td>\n",
       "    </tr>\n",
       "  </tbody>\n",
       "</table>\n",
       "</div>"
      ],
      "text/plain": [
       "            Overall  Random  Stratified  Rand. %error  Strat. %error\n",
       "NEAR BAY      0.437   0.427       0.437        -2.290         -0.014\n",
       "<1H OCEAN     0.332   0.339       0.332         2.159          0.026\n",
       "INLAND        0.124   0.129       0.124         4.169          0.066\n",
       "NEAR OCEAN    0.106   0.104       0.106        -2.153         -0.071\n",
       "ISLAND        0.000   0.000       0.000       -13.062        -13.062"
      ]
     },
     "execution_count": 23,
     "metadata": {},
     "output_type": "execute_result"
    }
   ],
   "source": [
    "def income_cat_proportions(data, variable):\n",
    "    return data[variable].value_counts() / len(data)\n",
    "\n",
    "train_shuf, test_shuf = train_test_split(housing, train_size=0.77, shuffle=True)\n",
    "\n",
    "overall = income_cat_proportions(housing, class_labels)\n",
    "random = income_cat_proportions(test_shuf, class_labels)\n",
    "strat = income_cat_proportions(test_set, class_labels)\n",
    "\n",
    "compare_props = pd.DataFrame({\n",
    "    \"Overall\": overall.values,\n",
    "    \"Random\": random.values,\n",
    "    \"Stratified\": strat.values,\n",
    "}, index = housing.loc[:,class_labels].unique())\n",
    "\n",
    "compare_props[\"Rand. %error\"] = 100 * compare_props[\"Random\"] / compare_props[\"Overall\"] - 100\n",
    "compare_props[\"Strat. %error\"] = 100 * compare_props[\"Stratified\"] / compare_props[\"Overall\"] - 100\n",
    "compare_props.round(3)"
   ]
  },
  {
   "cell_type": "markdown",
   "id": "hungry-booth",
   "metadata": {
    "id": "hungry-booth"
   },
   "source": [
    "Stratified sampling is often used on the output varible to ensure represesentative performance evaluation (particularly when there is a large imballance). In this case our output (`median_house_value`) is a continuous numerical attribute, so first we will have to turn it into stratum.\n",
    "\n",
    "---\n",
    "\n",
    "### 🚩 Exercise 7\n",
    "\n",
    "Using `train_test_split` create a stratified split on `median_house_value` after binning the data into strata.\n",
    "\n",
    "__Note__\n",
    "- It is important that there is a sufficient number of instances of data in each stratum (as we may introduce bias), so don't create too many strata.\n",
    "- If you were to use this set for the rest of the worksheet you would still want to use `median_house_value` as a continuous attribute for our regression model, so make the binned version a new column that you remove after splitting the data.\n",
    "\n",
    "<details><summary><u><b>Hint</b></u></summary>\n",
    "\n",
    "- You can use `pd.cut` to bin the data.\n",
    "\n",
    "</details>"
   ]
  },
  {
   "cell_type": "code",
   "execution_count": null,
   "id": "3304f7bc",
   "metadata": {
    "id": "3304f7bc"
   },
   "outputs": [],
   "source": []
  },
  {
   "cell_type": "code",
   "execution_count": 24,
   "id": "92a64974",
   "metadata": {
    "colab": {
     "base_uri": "https://localhost:8080/",
     "height": 398,
     "referenced_widgets": [
      "a603dcc4b22e4583b08f976bcad440ca",
      "3e06065c43e044be9161dbcc1f9bad3a",
      "9b0e04f2e093416283b6d11869d0786e",
      "c634c3db141c47a3af301e4cf6102295",
      "749ce01e9e8c46a0bed1a84dcaca2fb3"
     ]
    },
    "id": "92a64974",
    "outputId": "ba5db6c1-4bd7-4616-8619-d6c428c28f52"
   },
   "outputs": [
    {
     "data": {
      "application/vnd.jupyter.widget-view+json": {
       "model_id": "f8de26384f9747638eb68c069e10ef77",
       "version_major": 2,
       "version_minor": 0
      },
      "text/plain": [
       "Button(description='Reveal solution', style=ButtonStyle())"
      ]
     },
     "metadata": {},
     "output_type": "display_data"
    },
    {
     "data": {
      "application/vnd.jupyter.widget-view+json": {
       "model_id": "cfb4add4f4c946b28f774da27e0ceb1b",
       "version_major": 2,
       "version_minor": 0
      },
      "text/plain": [
       "Output(layout=Layout(border='1px solid green'))"
      ]
     },
     "metadata": {},
     "output_type": "display_data"
    }
   ],
   "source": [
    "%run ../scripts/show_solutions.py 02_ex7"
   ]
  },
  {
   "cell_type": "markdown",
   "id": "sustainable-drain",
   "metadata": {
    "id": "sustainable-drain"
   },
   "source": [
    "---\n",
    "\n",
    "# 5. Exploratory Data Analysis <a id='eda'></a>\n",
    "\n",
    "Now we have a general understanding of the data we now want to look into the training set to get more information we can use for developing our model.\n",
    "\n",
    "Lets start by making a copy of our training set to ensure while we explore we don't accidentally mess with our training data we will use to model.\n",
    "\n",
    "__Notes__\n",
    "- If your data is huge, at this stage you may want to create a smaller exploration set."
   ]
  },
  {
   "cell_type": "code",
   "execution_count": 25,
   "id": "tutorial-ecology",
   "metadata": {
    "id": "tutorial-ecology"
   },
   "outputs": [],
   "source": [
    "explore_set = train_set.copy()"
   ]
  },
  {
   "cell_type": "markdown",
   "id": "varying-recognition",
   "metadata": {
    "id": "varying-recognition"
   },
   "source": [
    "---\n",
    "\n",
    "The first two features in the dataset are geographical information (`latitude` and `longitude`), which are a good candidate for visualisation.\n",
    "\n",
    "### 🚩 Exercise 8\n",
    "Explore `latitude` and `longitude` using a scatterplot.\n",
    "\n",
    "- Look at adding additional information to this plot using size and color.\n",
    "- What can this tell us about our output variable?"
   ]
  },
  {
   "cell_type": "code",
   "execution_count": null,
   "id": "9971ebaf",
   "metadata": {
    "id": "9971ebaf"
   },
   "outputs": [],
   "source": []
  },
  {
   "cell_type": "code",
   "execution_count": 26,
   "id": "0f77c53f",
   "metadata": {
    "colab": {
     "base_uri": "https://localhost:8080/",
     "height": 810,
     "referenced_widgets": [
      "511ef4a7499749cb8214690520bd2d76",
      "f85f809a7746464bba916b0490d90d6d",
      "cd21a9d44b5c49ed9c1e4bd44576193f",
      "8ace2c0e49f84575aba55659cc0df9c1",
      "70ea42f4d8a44451b012c1d695796ea3"
     ]
    },
    "id": "0f77c53f",
    "outputId": "10111f39-0748-4760-c2ac-ac057db14b7c"
   },
   "outputs": [
    {
     "data": {
      "application/vnd.jupyter.widget-view+json": {
       "model_id": "2db3e7c210474ea99f743a3f0ad63fea",
       "version_major": 2,
       "version_minor": 0
      },
      "text/plain": [
       "Button(description='Reveal solution', style=ButtonStyle())"
      ]
     },
     "metadata": {},
     "output_type": "display_data"
    },
    {
     "data": {
      "application/vnd.jupyter.widget-view+json": {
       "model_id": "a8c270362fdc43d496a522e2ef0cfbf7",
       "version_major": 2,
       "version_minor": 0
      },
      "text/plain": [
       "Output(layout=Layout(border='1px solid green'))"
      ]
     },
     "metadata": {},
     "output_type": "display_data"
    }
   ],
   "source": [
    "%run ../scripts/show_solutions.py 02_ex8"
   ]
  },
  {
   "cell_type": "markdown",
   "id": "descending-quebec",
   "metadata": {
    "id": "descending-quebec"
   },
   "source": [
    "---\n",
    "\n",
    "### 🚩 Exercise 9\n",
    "\n",
    "Examine if/which of the features are correlated to each other.\n",
    "\n",
    "- Can you think of any reason why certain features may be correlated?\n",
    "\n",
    "__Notes__\n",
    "- When we begin feature engineering, we may want to only keep one of a pair of correlated feature to reduce multicolinearity or combine them into a new feature (see later workbooks)."
   ]
  },
  {
   "cell_type": "code",
   "execution_count": null,
   "id": "647807fe",
   "metadata": {
    "id": "647807fe"
   },
   "outputs": [],
   "source": []
  },
  {
   "cell_type": "code",
   "execution_count": 27,
   "id": "a412f3a4",
   "metadata": {
    "colab": {
     "base_uri": "https://localhost:8080/",
     "height": 51,
     "referenced_widgets": [
      "dfb7c7aaef344ec09336805f94d51889",
      "97f9e9858e0144d3bf95cb536d8a9a99",
      "1b565c31de194ab2817045a1700540ba",
      "6dc7545997f84facb1dd41fd8d7c90f5",
      "2592162519294c82a401191958009eb3"
     ]
    },
    "id": "a412f3a4",
    "outputId": "06a58ded-cc99-418c-cae3-da1479b88f56"
   },
   "outputs": [
    {
     "data": {
      "application/vnd.jupyter.widget-view+json": {
       "model_id": "9e77e1149d184104ad771e6c80ff77d2",
       "version_major": 2,
       "version_minor": 0
      },
      "text/plain": [
       "Button(description='Reveal solution', style=ButtonStyle())"
      ]
     },
     "metadata": {},
     "output_type": "display_data"
    },
    {
     "data": {
      "application/vnd.jupyter.widget-view+json": {
       "model_id": "0ac29501894044a097b3622b0e05be3d",
       "version_major": 2,
       "version_minor": 0
      },
      "text/plain": [
       "Output(layout=Layout(border='1px solid green'))"
      ]
     },
     "metadata": {},
     "output_type": "display_data"
    }
   ],
   "source": [
    "%run ../scripts/show_solutions.py 02_ex9"
   ]
  },
  {
   "cell_type": "markdown",
   "id": "cba256a0",
   "metadata": {
    "id": "cba256a0"
   },
   "source": [
    "### 🚩 Exercise 10\n",
    "Are any of the features correlated with our output variable?\n",
    "\n",
    "- How might we use this information in later steps of our model pipeline?"
   ]
  },
  {
   "cell_type": "code",
   "execution_count": null,
   "id": "2f2bc870",
   "metadata": {
    "id": "2f2bc870"
   },
   "outputs": [],
   "source": []
  },
  {
   "cell_type": "code",
   "execution_count": 28,
   "id": "a04beea7",
   "metadata": {
    "colab": {
     "base_uri": "https://localhost:8080/",
     "height": 51,
     "referenced_widgets": [
      "9e00d64685c9499e9cfa2cf63523d246",
      "7c32cb42ee3940928c0bb69f82410e18",
      "c866618bca454b0faab758aa1454d1d0",
      "9d4429d75c2b4eae8379125362719a4d",
      "da25daa58c0942799193905c250ac4b3"
     ]
    },
    "id": "a04beea7",
    "outputId": "be739401-22e4-44be-b432-6e2b21de15c4"
   },
   "outputs": [
    {
     "data": {
      "application/vnd.jupyter.widget-view+json": {
       "model_id": "bdb9cb2933544dc190d554239fbfcb41",
       "version_major": 2,
       "version_minor": 0
      },
      "text/plain": [
       "Button(description='Reveal solution', style=ButtonStyle())"
      ]
     },
     "metadata": {},
     "output_type": "display_data"
    },
    {
     "data": {
      "application/vnd.jupyter.widget-view+json": {
       "model_id": "1ccd1270bcef4b18bfab210db2f8fd59",
       "version_major": 2,
       "version_minor": 0
      },
      "text/plain": [
       "Output(layout=Layout(border='1px solid green'))"
      ]
     },
     "metadata": {},
     "output_type": "display_data"
    }
   ],
   "source": [
    "%run ../scripts/show_solutions.py 02_ex10"
   ]
  },
  {
   "cell_type": "markdown",
   "id": "8e480cb4",
   "metadata": {},
   "source": [
    "We may want to drop any feature that is not significantly correlated with out target varible. Dropping features that are not significantly correlated with the target label may improve your model accuracy if using a simple linear model. However if you are using a non-linear classifier, that can combine features inside the learning model, then you may actually be loosing useful information as this may have a more complex relationship. In that instance other feature selection techniques will be more appropriate (see future workbook).\n",
    "\n",
    "Furthermore, there are limitations to looking too much into the correlation results. Correlation analysis can be affected by outliers (which we have not dealt with yet), and the correlation p-value is going to be affected by the precision of the estimate (sample size). For example, the magnitude of effect may be small but the p-value can be \"significant\" if the sample size is large."
   ]
  },
  {
   "cell_type": "markdown",
   "id": "reverse-bookmark",
   "metadata": {
    "id": "reverse-bookmark"
   },
   "source": [
    "---\n",
    "\n",
    "# 6. Data Cleaning <a id='clean'></a>\n",
    "\n",
    "Last notebook, because we were getting started I was not very specific about the output type from the functions. This workbook we are going to adhere more to the Scikit-Learn Design principles when creating our pipeline steps. Specifically<sup>1</sup>:\n",
    "\n",
    "> __Nonproliferation of classes__. Datasets are represented as NumPy arrays or SciPy sparse matrices, instead of homemade classes. Hyperparameters are just regular Python strings or numbers.\n",
    "\n",
    "This means all our functions/classes you would on in this notebook should input and output Numpy arrays. You can use pandas functions if you wish in your function/class, just make sure you convert the data back to output the Numpy array!\n",
    "\n",
    "Lets start by splitting our features from our target variable."
   ]
  },
  {
   "cell_type": "code",
   "execution_count": 29,
   "id": "drawn-citizenship",
   "metadata": {
    "colab": {
     "base_uri": "https://localhost:8080/",
     "height": 156
    },
    "id": "drawn-citizenship",
    "outputId": "133d2ac3-e020-4e47-9ac9-3832d0a7589e"
   },
   "outputs": [
    {
     "data": {
      "text/plain": [
       "array([[-119.72, 36.8, 16.0, ..., 518.0, 2.1653, 'INLAND'],\n",
       "       [-118.99, 35.37, 36.0, ..., 174.0, 1.4773, 'INLAND'],\n",
       "       [-118.16, 33.94, 32.0, ..., 484.0, 4.7708, '<1H OCEAN'],\n",
       "       ...,\n",
       "       [-118.18, 33.96, 20.0, ..., 105.0, 1.4167, '<1H OCEAN'],\n",
       "       [-118.43, 33.99, 45.0, ..., 429.0, 3.8021, '<1H OCEAN'],\n",
       "       [-118.01, 34.09, 32.0, ..., 404.0, 3.1944, 'INLAND']], dtype=object)"
      ]
     },
     "metadata": {},
     "output_type": "display_data"
    },
    {
     "data": {
      "text/plain": [
       "array([ 78800.,  57400., 178600., ..., 137500., 323000., 181700.])"
      ]
     },
     "metadata": {},
     "output_type": "display_data"
    }
   ],
   "source": [
    "X_train = train_set.drop(\"median_house_value\", axis=1)\n",
    "features = list(X_train.columns)\n",
    "X_train = X_train.values\n",
    "\n",
    "y_train = train_set[\"median_house_value\"].copy()\n",
    "y_train = y_train.values\n",
    "\n",
    "display(X_train)\n",
    "display(y_train)"
   ]
  },
  {
   "cell_type": "markdown",
   "id": "surgical-radar",
   "metadata": {
    "id": "surgical-radar"
   },
   "source": [
    "---\n",
    "\n",
    "## 6.1. Duplication Detection\n",
    "\n",
    "As we did last workbook, lets first look for duplicated observations."
   ]
  },
  {
   "cell_type": "markdown",
   "id": "lasting-future",
   "metadata": {
    "id": "lasting-future"
   },
   "source": [
    "### 🚩 Exercise 11\n",
    "\n",
    "Are there any duplicated values in the training set? \n",
    "- If so how many?"
   ]
  },
  {
   "cell_type": "code",
   "execution_count": null,
   "id": "manufactured-feature",
   "metadata": {
    "id": "manufactured-feature"
   },
   "outputs": [],
   "source": []
  },
  {
   "cell_type": "code",
   "execution_count": 30,
   "id": "0f777270",
   "metadata": {
    "colab": {
     "base_uri": "https://localhost:8080/",
     "height": 86,
     "referenced_widgets": [
      "d2aa579c675e48fba8583a9bb286bab4",
      "db20aab5321645169c3d759e06ef032d",
      "85e6fcd4bb9547b3afc07731a67fffc3",
      "73fc4bd619ba4971b2ef71f1e5b06744",
      "f4176dc5ef9a4347bc1b24a54a9e8d2c"
     ]
    },
    "id": "0f777270",
    "outputId": "2b279d85-2137-4098-f65e-3475ed6fbaf6"
   },
   "outputs": [
    {
     "data": {
      "application/vnd.jupyter.widget-view+json": {
       "model_id": "2b1eb2140b0d4280bf9140eb2ac8b854",
       "version_major": 2,
       "version_minor": 0
      },
      "text/plain": [
       "Button(description='Reveal solution', style=ButtonStyle())"
      ]
     },
     "metadata": {},
     "output_type": "display_data"
    },
    {
     "data": {
      "application/vnd.jupyter.widget-view+json": {
       "model_id": "9487f3ae011247d8a26b74f3c8e70782",
       "version_major": 2,
       "version_minor": 0
      },
      "text/plain": [
       "Output(layout=Layout(border='1px solid green'))"
      ]
     },
     "metadata": {},
     "output_type": "display_data"
    }
   ],
   "source": [
    "%run ../scripts/show_solutions.py 02_ex11"
   ]
  },
  {
   "cell_type": "markdown",
   "id": "portuguese-cancellation",
   "metadata": {
    "id": "portuguese-cancellation"
   },
   "source": [
    "---\n",
    "\n",
    "## 6.2. Anomaly Detection\n",
    "\n",
    "The problem of detecting anomalies in data can be approached as an _unsupervised learning problem_ or an _imballanced supervised problem_. Most of the methods relevent for these two approaches to anomaly detection are going to be discussed in more detail in later workbooks. Therefore for now, we will just use basic statistics to identify outliers."
   ]
  },
  {
   "cell_type": "markdown",
   "id": "specific-attack",
   "metadata": {
    "id": "specific-attack"
   },
   "source": [
    "---\n",
    "\n",
    "### 🚩 Exercise 12\n",
    "\n",
    "Can you identify any potential outliers using boxplots?"
   ]
  },
  {
   "cell_type": "code",
   "execution_count": null,
   "id": "residential-morris",
   "metadata": {
    "id": "residential-morris"
   },
   "outputs": [],
   "source": []
  },
  {
   "cell_type": "code",
   "execution_count": 31,
   "id": "73ef030a",
   "metadata": {
    "colab": {
     "base_uri": "https://localhost:8080/",
     "height": 271,
     "referenced_widgets": [
      "2643cabba3ad4a44b356be5025f822bf",
      "37b1b7fe78834e20b5255cd2023feedf",
      "824cd23d6441407e8aa7f3af00e7fcf1",
      "759817db8e7e420fba0e022a558bd7f7",
      "5c163bb196d448f9b20ac2c95406ccfb"
     ]
    },
    "id": "73ef030a",
    "outputId": "3f757948-8bb7-456f-e730-0f47687ce994"
   },
   "outputs": [
    {
     "data": {
      "application/vnd.jupyter.widget-view+json": {
       "model_id": "cd8b73b37da34520be3f5d3c426a06ec",
       "version_major": 2,
       "version_minor": 0
      },
      "text/plain": [
       "Button(description='Reveal solution', style=ButtonStyle())"
      ]
     },
     "metadata": {},
     "output_type": "display_data"
    },
    {
     "data": {
      "application/vnd.jupyter.widget-view+json": {
       "model_id": "b046c39ebb124e359331699e15063625",
       "version_major": 2,
       "version_minor": 0
      },
      "text/plain": [
       "Output(layout=Layout(border='1px solid green'))"
      ]
     },
     "metadata": {},
     "output_type": "display_data"
    }
   ],
   "source": [
    "%run ../scripts/show_solutions.py 02_ex12"
   ]
  },
  {
   "cell_type": "markdown",
   "id": "informal-specification",
   "metadata": {
    "id": "informal-specification"
   },
   "source": [
    "---\n",
    "\n",
    "A basic method of removing outliers is to use the inter-quartile range (IQR) proximity rule (Tukey fences) which states that a value is an outlier if it falls outside these boundaries:\n",
    "\n",
    "IQR = 75th quantile - 25th quantile\n",
    "\n",
    "Upper boundary = 75th quantile + (IQR * $k$) \n",
    "\n",
    "Lower boundary = 25th quantile - (IQR * $k$)\n",
    "\n",
    "$k$ is a nonnegative constant which is typically set to 1.5."
   ]
  },
  {
   "cell_type": "markdown",
   "id": "immune-discovery",
   "metadata": {
    "id": "immune-discovery"
   },
   "source": [
    "---\n",
    "\n",
    "### 🚩 Exercise 13\n",
    "\n",
    "Create a function to find the upper and lower boundaries for the Tukey fences. Use this to find the number of outliers in each of the variables.\n",
    "- What are the effects of changing $k$ from 1.5 to 3? \n",
    "- Do you think the detection of outliers will be affected by the distribution of the variable?\n",
    "\n",
    "__Notes__\n",
    "- As you haven't dropped any NA values yet, you may get a warning about NA's in the data (`total_bedrooms`).\n",
    "\n",
    "<details><summary><b><u>Hints</b></u></summary>\n",
    "\n",
    "- You may want to use <code>.quantile()</code> on a pandas Series.\n",
    "    \n",
    "- You may want to use <code>np.where</code>.\n",
    "    \n",
    "- This will not work on categorical variables.\n",
    "</details>"
   ]
  },
  {
   "cell_type": "code",
   "execution_count": null,
   "id": "d5d7c63b",
   "metadata": {
    "id": "d5d7c63b"
   },
   "outputs": [],
   "source": []
  },
  {
   "cell_type": "code",
   "execution_count": 32,
   "id": "2c2ddb74",
   "metadata": {
    "colab": {
     "base_uri": "https://localhost:8080/",
     "height": 51,
     "referenced_widgets": [
      "fb7dd83da3ac404eaf81c5d41ba6e621",
      "6d27a5367d4244f1ac82f8ab1799f95c",
      "737e8c95e62e46b9a78ffb5e6f99ed0c",
      "ee74d70bf0a54cd9ad51def5ebcf194d",
      "05eaf5c9a3d44e60a67b6d9d19983040"
     ]
    },
    "id": "2c2ddb74",
    "outputId": "ccffa7e5-cdc3-4e4f-f708-d1dbe33c4b71"
   },
   "outputs": [
    {
     "data": {
      "application/vnd.jupyter.widget-view+json": {
       "model_id": "2c33f26bf3ae40ac8ba77fcd5ec16374",
       "version_major": 2,
       "version_minor": 0
      },
      "text/plain": [
       "Button(description='Reveal solution', style=ButtonStyle())"
      ]
     },
     "metadata": {},
     "output_type": "display_data"
    },
    {
     "data": {
      "application/vnd.jupyter.widget-view+json": {
       "model_id": "d713f622f58248afb1d1aff7d452269e",
       "version_major": 2,
       "version_minor": 0
      },
      "text/plain": [
       "Output(layout=Layout(border='1px solid green'))"
      ]
     },
     "metadata": {},
     "output_type": "display_data"
    }
   ],
   "source": [
    "%run ../scripts/show_solutions.py 02_ex13"
   ]
  },
  {
   "cell_type": "markdown",
   "id": "adverse-meditation",
   "metadata": {
    "id": "adverse-meditation"
   },
   "source": [
    "---\n",
    "After detecting outliers we may want to set them to NA values so we can use subseqent methods to either remove them (see, __NA Removal__) or impute their values (see, __Data Imputation__). As mentioned in teh last notebook, it is a good idea to make our methods into functions that are compatible with scikit-learn, so that we can use them in a `Pipeline` later on. \n",
    " \n",
    "### 🚩 Exercise 14\n",
    "\n",
    "Create a function that turns values defined as outliers by Tukey fences into `np.nan` values. \n",
    "- Use the `FunctionTransformer` from `sklearn.preprocessing`, to turn your function above into a `Pipeline` compatible transformer."
   ]
  },
  {
   "cell_type": "code",
   "execution_count": 33,
   "id": "motivated-pizza",
   "metadata": {
    "id": "motivated-pizza"
   },
   "outputs": [],
   "source": [
    "from sklearn.preprocessing import FunctionTransformer\n"
   ]
  },
  {
   "cell_type": "code",
   "execution_count": 34,
   "id": "b1a670ec",
   "metadata": {
    "colab": {
     "base_uri": "https://localhost:8080/",
     "height": 485,
     "referenced_widgets": [
      "d1407ac0c3ca477785fa66ccbdc3a9ad",
      "ed380d8f95b543bc8adecff4d80f4a3f",
      "8056ac83c37e4488be455fd8dd1927d4",
      "c5181a9380fe4b04ae968e27e9aab055",
      "d7ad7bdabb4846439d297fdb125ef779"
     ]
    },
    "id": "b1a670ec",
    "outputId": "df47fab5-78cb-444f-fd02-61837b080f67"
   },
   "outputs": [
    {
     "data": {
      "application/vnd.jupyter.widget-view+json": {
       "model_id": "284c0850f3da4fb09330749104e52815",
       "version_major": 2,
       "version_minor": 0
      },
      "text/plain": [
       "Button(description='Reveal solution', style=ButtonStyle())"
      ]
     },
     "metadata": {},
     "output_type": "display_data"
    },
    {
     "data": {
      "application/vnd.jupyter.widget-view+json": {
       "model_id": "dea0256fcb5046bca229545d174dd69a",
       "version_major": 2,
       "version_minor": 0
      },
      "text/plain": [
       "Output(layout=Layout(border='1px solid green'))"
      ]
     },
     "metadata": {},
     "output_type": "display_data"
    }
   ],
   "source": [
    "%run ../scripts/show_solutions.py 02_ex14"
   ]
  },
  {
   "cell_type": "markdown",
   "id": "distant-illinois",
   "metadata": {
    "id": "distant-illinois"
   },
   "source": [
    "---\n",
    "\n",
    "### 🚩 Exercise 15 (Extra)\n",
    "\n",
    "After reading the next section below on NA Removal and learning about creating custom resamplers/transformers without a `FunctionSampler`/`FunctionTransformer`, come back here and create your own custom transformer for turning outliers detected using Tukey fences into NA values."
   ]
  },
  {
   "cell_type": "code",
   "execution_count": null,
   "id": "integral-anatomy",
   "metadata": {
    "id": "integral-anatomy"
   },
   "outputs": [],
   "source": []
  },
  {
   "cell_type": "code",
   "execution_count": 35,
   "id": "49a65104",
   "metadata": {
    "colab": {
     "base_uri": "https://localhost:8080/",
     "height": 51,
     "referenced_widgets": [
      "f30e4304fafa4cef9841ddb478455d4d",
      "99b8fa770bfd4c25a5fd7abf812b41f4",
      "ed29d059efb344c6aa2a295d14ea52f4",
      "ec25c2cf14144eaa8c84caa7dc53d0ce",
      "8eac133438324948a4a5ceaed7b34f55"
     ]
    },
    "id": "49a65104",
    "outputId": "ec46eaad-1ca2-4b01-b512-6cc5d43fc7aa"
   },
   "outputs": [
    {
     "data": {
      "application/vnd.jupyter.widget-view+json": {
       "model_id": "1b03cd5c651c41c7bf042f24c2187c77",
       "version_major": 2,
       "version_minor": 0
      },
      "text/plain": [
       "Button(description='Reveal solution', style=ButtonStyle())"
      ]
     },
     "metadata": {},
     "output_type": "display_data"
    },
    {
     "data": {
      "application/vnd.jupyter.widget-view+json": {
       "model_id": "317b18a1c4c343fbbfa968530a7204ad",
       "version_major": 2,
       "version_minor": 0
      },
      "text/plain": [
       "Output(layout=Layout(border='1px solid green'))"
      ]
     },
     "metadata": {},
     "output_type": "display_data"
    }
   ],
   "source": [
    "%run ../scripts/show_solutions.py 02_ex15"
   ]
  },
  {
   "cell_type": "markdown",
   "id": "after-accommodation",
   "metadata": {
    "id": "after-accommodation"
   },
   "source": [
    "---\n",
    "\n",
    "## 6.3. Missing Data Removal\n",
    "\n",
    "Most ML models cannot handle missing values, and as we saw earlier, there are some present in `total_bedrooms` (more if we use this after the iqr function we just made). \n",
    "\n",
    "There are a number of ways we can deal with missing values but to start with, lets just remove NA values. We can do this in two ways by either:\n",
    "1. Get rid of the corresponding observations.\n",
    "2. Get rid of the whole attribute.\n",
    "\n",
    "To do this outside of a pipeline is relatively straight forward, we just run `train_set.dropna()` with either the `axis` set to `0` or `1` (depending if we want to remove rows or columns) before splitting our data into feature (`X_train`) and labels (`y_train`). However if we want to do this in a `Pipeline` we can use the `FunctionSampler` from `imblearn`, as we in one of the extra exercises. Your function may have looked a bit like below:"
   ]
  },
  {
   "cell_type": "code",
   "execution_count": 36,
   "id": "packed-world",
   "metadata": {
    "colab": {
     "base_uri": "https://localhost:8080/"
    },
    "id": "packed-world",
    "outputId": "39de0d5a-6123-4361-92de-eda476142026"
   },
   "outputs": [
    {
     "name": "stdout",
     "output_type": "stream",
     "text": [
      "(15128, 9)\n",
      "(15128,)\n",
      "(14964, 9)\n",
      "(14964,)\n"
     ]
    }
   ],
   "source": [
    "from imblearn import FunctionSampler\n",
    "\n",
    "def drop_na(X, y, axis=0):\n",
    "    data = np.concatenate([X,y.reshape(-1,1)], axis=1)\n",
    "    df = pd.DataFrame(data)\n",
    "    \n",
    "    # using dropna instead of numpy as already handles lots of\n",
    "    # data types so we can put all our data in.\n",
    "    df = df.dropna(axis=axis)\n",
    "    \n",
    "    data = df.values\n",
    "    \n",
    "    return data[:,:-1], data[:,-1]\n",
    "\n",
    "na_sampler = FunctionSampler(func=drop_na,    # our custom function\n",
    "                             validate=False)  # prevents both inputs being changed to numpy arrays\n",
    "X_train_, y_train_ = na_sampler.fit_resample(X_train, y_train)\n",
    "\n",
    "print(X_train.shape)\n",
    "print(y_train.shape)\n",
    "print(X_train_.shape)\n",
    "print(y_train_.shape)"
   ]
  },
  {
   "cell_type": "markdown",
   "id": "included-geography",
   "metadata": {
    "id": "included-geography"
   },
   "source": [
    "As we discussed in the last workbook, to create a custom resampler, all you need is to create a class that implements two methods: `fit()` and `fit_resample()`. Therefore you could also write it like the following...\n",
    "\n",
    "__Note__\n",
    "- If you add `BaseEstimator` as a base class (and then avoid using `*args` and `**kargs` in your constructor) you will also be able to use the methods `get_params()` and `set_params()`, which can be useful if you intend to use hyperparameter tuning<sup>1</sup>.\n",
    "- As `samplers` are only applied to the data during training, you cannot use them when making predictions. Therefore you'll have to make sure your test set does not have NA's outside of your pipeline."
   ]
  },
  {
   "cell_type": "code",
   "execution_count": 37,
   "id": "about-mills",
   "metadata": {
    "id": "about-mills"
   },
   "outputs": [],
   "source": [
    "from sklearn.base import BaseEstimator\n",
    "\n",
    "class NARemover(BaseEstimator):\n",
    "    def __init__(self, axis=0): # no *args or **kargs\n",
    "        \"\"\"\n",
    "        Axis: Determine if rows or columns which contain missing values are removed.\n",
    "        0, or ‘index’ : Drop rows which contain missing values.\n",
    "        1, or ‘columns’ : Drop columns which contain missing value.\n",
    "        \"\"\"\n",
    "        self.axis = axis\n",
    "    \n",
    "    def fit(self, X, y):\n",
    "        return self  # nothing to do\n",
    "    \n",
    "    def fit_resample(self, X, y):\n",
    "        # copy to not alter input\n",
    "        X_ = X.copy()\n",
    "        y_ = y.copy()\n",
    "        \n",
    "        # turn to a numpy array if a pandas df\n",
    "        if isinstance(X_, pd.DataFrame):\n",
    "            X_ = X_.values\n",
    "        if isinstance(y_, pd.DataFrame):\n",
    "            y_ = y_.values.flatten()\n",
    "\n",
    "        X_, y_ = drop_na(X_, y_, axis=self.axis)\n",
    "\n",
    "        return X_, y_"
   ]
  },
  {
   "cell_type": "markdown",
   "id": "likely-certificate",
   "metadata": {
    "id": "likely-certificate"
   },
   "source": [
    "---\n",
    "\n",
    "### 🚩 Exercise 16\n",
    "\n",
    "Using either the `na_sampler` or `NARemover` above, remove any observations with missing data in any of the variables.\n",
    "\n",
    "- You may also want try using the version of the training data you created to answer exercises 14 and 15 with \"outliers\" turned to `np.nan` values."
   ]
  },
  {
   "cell_type": "code",
   "execution_count": null,
   "id": "eb1319cc",
   "metadata": {
    "id": "eb1319cc"
   },
   "outputs": [],
   "source": []
  },
  {
   "cell_type": "code",
   "execution_count": 38,
   "id": "seventh-mount",
   "metadata": {
    "colab": {
     "base_uri": "https://localhost:8080/",
     "height": 259,
     "referenced_widgets": [
      "fc200e2beee1445e884e6f01c32fd120",
      "31bb07880690436ba267d96572586d6a",
      "0e44f0b9ea384e7785eda1e82aa77910",
      "c01db2283ea145b5ac3bf01361e6a4c0",
      "3a3d05932a814592bc5f72786544e685"
     ]
    },
    "id": "seventh-mount",
    "outputId": "16d74eab-83d1-4ecf-80b8-61f89aa46370"
   },
   "outputs": [
    {
     "data": {
      "application/vnd.jupyter.widget-view+json": {
       "model_id": "11e2c58e4d954f78b9a34f1551c5eee3",
       "version_major": 2,
       "version_minor": 0
      },
      "text/plain": [
       "Button(description='Reveal solution', style=ButtonStyle())"
      ]
     },
     "metadata": {},
     "output_type": "display_data"
    },
    {
     "data": {
      "application/vnd.jupyter.widget-view+json": {
       "model_id": "efabbe4973414adca3bed5f115898db8",
       "version_major": 2,
       "version_minor": 0
      },
      "text/plain": [
       "Output(layout=Layout(border='1px solid green'))"
      ]
     },
     "metadata": {},
     "output_type": "display_data"
    }
   ],
   "source": [
    "%run ../scripts/show_solutions.py 02_ex16"
   ]
  },
  {
   "cell_type": "markdown",
   "id": "interested-bobby",
   "metadata": {
    "id": "interested-bobby"
   },
   "source": [
    "---\n",
    "\n",
    "## 6.4. Data Imputation\n",
    "\n",
    "Instead of removing the missing data we can set it to some value. To do this, Scikit-Learn gives us a handy `SimpleImputer` method which provides a number of stategies (e.g. `\"median\"`)."
   ]
  },
  {
   "cell_type": "code",
   "execution_count": 39,
   "id": "sexual-despite",
   "metadata": {
    "id": "sexual-despite"
   },
   "outputs": [],
   "source": [
    "from sklearn.impute import SimpleImputer\n",
    "num_imputer = SimpleImputer(strategy=\"median\")"
   ]
  },
  {
   "cell_type": "markdown",
   "id": "great-timothy",
   "metadata": {
    "id": "great-timothy"
   },
   "source": [
    "If we just applied this to our training data now we will get an error.\n",
    "\n",
    "```\n",
    "ValueError: Cannot use median strategy with non-numeric data:\n",
    "could not convert string to float: 'INLAND\n",
    "```\n",
    "\n",
    "This is because the \"median\" strategy can only be used with numerical attributes so we need a way of only applying imputation to certain attributes. As with most things in Python, there are a number of options available to us (you may have already used one of them in answers to previous questions): \n",
    "\n",
    "- We could temporarily remove the categorical feature from our data to apply our function\n",
    "```\n",
    "X_train_num = X_train[:,:-1]\n",
    "X_train_num = num_imputer.fit_transform(X_train_num)\n",
    "```\n",
    "- Apply the function to a subset of the data and assign the output to the same subset \n",
    "```\n",
    "X_train[:,:-1] = num_imputer.fit_transform(X_train[:,:-1])\n",
    "```\n",
    "\n",
    "However scikit-learn has a handy function to specify what column we want to apply a function to (its also compatible with `Pipeline`'s as well)."
   ]
  },
  {
   "cell_type": "code",
   "execution_count": 40,
   "id": "quality-charge",
   "metadata": {
    "colab": {
     "base_uri": "https://localhost:8080/"
    },
    "id": "quality-charge",
    "outputId": "8366f422-bc1e-409b-f687-97a8d369ebe0"
   },
   "outputs": [
    {
     "name": "stdout",
     "output_type": "stream",
     "text": [
      "Number of Missing Values\n"
     ]
    },
    {
     "data": {
      "text/plain": [
       "longitude             0\n",
       "latitude              0\n",
       "housing_median_age    0\n",
       "total_rooms           0\n",
       "total_bedrooms        0\n",
       "population            0\n",
       "households            0\n",
       "median_income         0\n",
       "ocean_proximity       0\n",
       "dtype: int64"
      ]
     },
     "execution_count": 40,
     "metadata": {},
     "output_type": "execute_result"
    }
   ],
   "source": [
    "from sklearn.compose import ColumnTransformer\n",
    "\n",
    "num_cols_imputer = ColumnTransformer(\n",
    "    # apply the `num_imputer` to all columns apart from the last\n",
    "    [(\"num\", num_imputer, list(range(X_train.shape[1]-1)))],\n",
    "    # don't touch all other columns, instead concatenate it on the end of the\n",
    "    # changed data.\n",
    "    remainder=\"passthrough\"\n",
    ") \n",
    "\n",
    "X_train_ = num_cols_imputer.fit_transform(X_train)\n",
    "print(\"Number of Missing Values\")\n",
    "pd.DataFrame(X_train_, columns=features).isna().sum()"
   ]
  },
  {
   "cell_type": "markdown",
   "id": "imperial-married",
   "metadata": {
    "id": "imperial-married"
   },
   "source": [
    "After using `.fit` we can see that this method stores the median value for each attribute on the training set. This value can be used when validating and testing the model as it will be used if there is missing data in the new data.\n",
    "\n",
    "__Note__\n",
    "- To access the fitted `num_imputer` in this case, you first needed to subset the `transformers_` in `ColumnTransformer` to only the first tuple (`[0]`), and then get the second object (`[1]`) in the list (the `num_imputer`)."
   ]
  },
  {
   "cell_type": "code",
   "execution_count": 41,
   "id": "complex-habitat",
   "metadata": {
    "colab": {
     "base_uri": "https://localhost:8080/",
     "height": 52
    },
    "id": "complex-habitat",
    "outputId": "9c7bb121-65ef-4882-b022-20471c96d3c6"
   },
   "outputs": [
    {
     "data": {
      "text/plain": [
       "array([-118.5    ,   34.26   ,   28.     , 2109.     ,  436.     ,\n",
       "       1177.5    ,  411.     ,    3.44675])"
      ]
     },
     "metadata": {},
     "output_type": "display_data"
    }
   ],
   "source": [
    "display(num_cols_imputer.transformers_[0][1].statistics_)"
   ]
  },
  {
   "cell_type": "markdown",
   "id": "logical-mounting",
   "metadata": {
    "id": "logical-mounting"
   },
   "source": [
    "However, imagine we did have a situation where we had missing values in our categorical variable..."
   ]
  },
  {
   "cell_type": "code",
   "execution_count": 42,
   "id": "shared-manufacturer",
   "metadata": {
    "id": "shared-manufacturer"
   },
   "outputs": [],
   "source": [
    "X_train_missing = X_train.copy()\n",
    "na_indices = np.random.choice(len(X_train_missing), 40, replace=False)\n",
    "X_train_missing[na_indices,-1] = np.NaN"
   ]
  },
  {
   "cell_type": "markdown",
   "id": "approved-journal",
   "metadata": {
    "id": "approved-journal"
   },
   "source": [
    "...then in this case if we did want to impute categorical data, then we could use `strategy = \"constant\"` and provide a `fill_value`."
   ]
  },
  {
   "cell_type": "code",
   "execution_count": 43,
   "id": "colonial-muscle",
   "metadata": {
    "colab": {
     "base_uri": "https://localhost:8080/"
    },
    "id": "colonial-muscle",
    "outputId": "992a5dc4-d041-4a6f-bb12-729a4db030c9"
   },
   "outputs": [
    {
     "data": {
      "text/plain": [
       "array(['<1H OCEAN', 'INLAND', 'ISLAND', 'NEAR BAY', 'NEAR OCEAN',\n",
       "       'missing_value'], dtype=object)"
      ]
     },
     "execution_count": 43,
     "metadata": {},
     "output_type": "execute_result"
    }
   ],
   "source": [
    "cat_imputer = SimpleImputer(strategy=\"constant\", \n",
    "                            fill_value=\"missing_value\") # the default\n",
    "\n",
    "# This way will not change the order of the columns!\n",
    "cat_cols_imputer = ColumnTransformer([\n",
    "    # do nothing to the numerical features\n",
    "    (\"num\", \"passthrough\", list(range(X_train.shape[1]-1))), \n",
    "    # apply the `cat_imputer` to the last column\n",
    "    (\"cat\", cat_imputer, [X_train.shape[1]-1]),\n",
    "]) \n",
    "\n",
    "X_train_missing = cat_cols_imputer.fit_transform(X_train_missing)\n",
    "\n",
    "np.unique(X_train_missing[:,-1])"
   ]
  },
  {
   "cell_type": "markdown",
   "id": "specialized-stuart",
   "metadata": {
    "id": "specialized-stuart"
   },
   "source": [
    "We could also use both at the same time in the `ColumnTransformer` to apply the appropriate transformations to each column. \n",
    "\n",
    "__Note__\n",
    "- If the input is a DataFrame, then you can use the column names to identify which columns to apply a function to."
   ]
  },
  {
   "cell_type": "code",
   "execution_count": 44,
   "id": "induced-patient",
   "metadata": {
    "colab": {
     "base_uri": "https://localhost:8080/"
    },
    "id": "induced-patient",
    "outputId": "35e70924-c116-4d8d-8d7d-d37c273c9136"
   },
   "outputs": [
    {
     "data": {
      "text/plain": [
       "longitude             0\n",
       "latitude              0\n",
       "housing_median_age    0\n",
       "total_rooms           0\n",
       "total_bedrooms        0\n",
       "population            0\n",
       "households            0\n",
       "median_income         0\n",
       "ocean_proximity       0\n",
       "dtype: int64"
      ]
     },
     "execution_count": 44,
     "metadata": {},
     "output_type": "execute_result"
    }
   ],
   "source": [
    "from sklearn.compose import ColumnTransformer\n",
    "\n",
    "imputer = ColumnTransformer([\n",
    "    # apply the `num_imputer` to all columns apart from the last\n",
    "    (\"num\", num_imputer, list(range(X_train.shape[1]-1))), \n",
    "    # apply the `cat_imputer` to the last column\n",
    "    (\"cat\", cat_imputer, [X_train.shape[1]-1]),\n",
    "]) \n",
    "\n",
    "X_train_ = imputer.fit_transform(X_train)\n",
    "pd.DataFrame(X_train_, columns=features).isna().sum()"
   ]
  },
  {
   "cell_type": "markdown",
   "id": "geographic-array",
   "metadata": {
    "id": "geographic-array"
   },
   "source": [
    "---\n",
    "\n",
    "### 🚩 Exercise 17\n",
    "\n",
    "Using the `SimpleImputer`, as demonstrated above, change any missing numerical variable to the average value.\n",
    "\n",
    "- You may also want try using the version of the training data you created to answer exercises 14 & 15 with \"outliers\" turned to `np.nan` values to see if this changes the average values used for imputation."
   ]
  },
  {
   "cell_type": "code",
   "execution_count": null,
   "id": "thorough-coast",
   "metadata": {
    "id": "thorough-coast"
   },
   "outputs": [],
   "source": []
  },
  {
   "cell_type": "code",
   "execution_count": 45,
   "id": "717e5495",
   "metadata": {
    "colab": {
     "base_uri": "https://localhost:8080/",
     "height": 329,
     "referenced_widgets": [
      "a1f11aae9e1c471ba858f626acfe9f5f",
      "6eb358ac329840ebbf25653a2d8453ae",
      "4b72a0bfe015478d8f8cd88e1be1c81c",
      "aa0a2954959b4d47a444aba713d55dea",
      "bade14c0de134eb7bdc2d35973d06947"
     ]
    },
    "id": "717e5495",
    "outputId": "64167ebf-e375-4489-b1c3-3e514fb84d31"
   },
   "outputs": [
    {
     "data": {
      "application/vnd.jupyter.widget-view+json": {
       "model_id": "74fdfe78a57642c2a2f1eea695d63ee4",
       "version_major": 2,
       "version_minor": 0
      },
      "text/plain": [
       "Button(description='Reveal solution', style=ButtonStyle())"
      ]
     },
     "metadata": {},
     "output_type": "display_data"
    },
    {
     "data": {
      "application/vnd.jupyter.widget-view+json": {
       "model_id": "f7121a2538d24e6799507ca12bd93488",
       "version_major": 2,
       "version_minor": 0
      },
      "text/plain": [
       "Output(layout=Layout(border='1px solid green'))"
      ]
     },
     "metadata": {},
     "output_type": "display_data"
    }
   ],
   "source": [
    "%run ../scripts/show_solutions.py 02_ex17"
   ]
  },
  {
   "cell_type": "markdown",
   "id": "billion-graph",
   "metadata": {
    "id": "billion-graph"
   },
   "source": [
    "---\n",
    "\n",
    "### 🚩 Exercise 18 (Extra)\n",
    "\n",
    "Have a look at other pre-made Imputation and outlier methods available in `sklearn` and other packages (e.g. `feature-engine`)."
   ]
  },
  {
   "cell_type": "markdown",
   "id": "knowing-aerospace",
   "metadata": {
    "id": "knowing-aerospace"
   },
   "source": [
    "---\n",
    "\n",
    "# 7. Feature Engineering <a id='engin'></a>\n",
    "\n",
    "Feature engineering is where we extract features from data and transform them into formats that are suitable for machine learning models."
   ]
  },
  {
   "cell_type": "markdown",
   "id": "satellite-billion",
   "metadata": {
    "id": "satellite-billion"
   },
   "source": [
    "## 7.1. Categorical Variables\n",
    "\n",
    "In the dataset we have an text attribute (`ocean_proximity`) we have already had to treat differently when cleaning the data. This extends to feature engineering as well, where we need to use separate methods than those used with numerical variables.\n",
    "\n",
    "As we did in exercise 4, if we look at the unique values of this attribute we will see that there are a limited number of possible values which represent a category. We need a way of encoding this information into our modeling framework by converting our string/categorical variable into a numeric representation that can be included in our models.\n",
    "\n",
    "If we have a binary categorical variable (two levels) we could accomplish this by picking one of the categorical levels and encode it as 1 and the other level as 0. To do this in Python we can compare our categorical vector to the value of our choice and then cast (convert) the result to an integer type. In the example below, imagine for the purposes of our model we only wanted to know if the property was \"inland\" or not, then we could do the following."
   ]
  },
  {
   "cell_type": "code",
   "execution_count": 46,
   "id": "9288ae2f",
   "metadata": {
    "id": "9288ae2f",
    "outputId": "fd34b4ce-b990-495d-9424-572e7aeffb71"
   },
   "outputs": [
    {
     "name": "stdout",
     "output_type": "stream",
     "text": [
      "Original\n"
     ]
    },
    {
     "data": {
      "text/plain": [
       "array(['INLAND', 'INLAND', '<1H OCEAN', ..., '<1H OCEAN', '<1H OCEAN',\n",
       "       'INLAND'], dtype=object)"
      ]
     },
     "metadata": {},
     "output_type": "display_data"
    },
    {
     "name": "stdout",
     "output_type": "stream",
     "text": [
      "Encoded\n"
     ]
    },
    {
     "data": {
      "text/plain": [
       "array([1, 1, 0, ..., 0, 0, 1], dtype=object)"
      ]
     },
     "execution_count": 46,
     "metadata": {},
     "output_type": "execute_result"
    }
   ],
   "source": [
    "X_train_ = X_train.copy() # so we don't overwrite our training data\n",
    "X_train_[:,-1] = (X_train_[:,-1] == \"INLAND\").astype(int) # Returns either 0 or 1\n",
    "\n",
    "print(\"Original\")\n",
    "display(X_train[:,-1])\n",
    "print(\"Encoded\")\n",
    "X_train_[:,-1]"
   ]
  },
  {
   "cell_type": "markdown",
   "id": "fda45cd4",
   "metadata": {
    "id": "fda45cd4"
   },
   "source": [
    "---\n",
    "\n",
    "In this case as we have multiple categories, we would probably want to use another encoding method..."
   ]
  },
  {
   "cell_type": "markdown",
   "id": "artistic-poker",
   "metadata": {
    "id": "artistic-poker"
   },
   "source": [
    "### 🚩 Exercise 19\n",
    "\n",
    "Encode the categorical feature `ocean_proximity` using the `OrdinalEncoder`, and then separately try the `OneHotEncoder`, found in `sklearn.preprocessing`.\n",
    "\n",
    "- Which encoding method do you think is most appropriate for this variable and why?\n",
    "\n",
    "__Note__\n",
    "\n",
    "- The output of the `OneHotEncoder` provided in Scikit-Learn is a SciPy _sparse matrix_, instead of a NumPy array. These are useful when you have lots of categories as your matrix becomes mostly full of 0's. To store all these 0's takes up unnessisary memory, so instead a sparse matrix just stores the location of nonzero elements. The good news is that you can use a sparse matrix similar to a numpy matrix, but if you wanted to, you can convert it to a dense numpy matrix using `.toarray()`<sup>1</sup>.\n",
    "- The above does not seem to be the case if passed through a `ColumnTransformer`."
   ]
  },
  {
   "cell_type": "code",
   "execution_count": null,
   "id": "fe0675e3",
   "metadata": {
    "id": "fe0675e3"
   },
   "outputs": [],
   "source": []
  },
  {
   "cell_type": "code",
   "execution_count": 47,
   "id": "cace8987",
   "metadata": {
    "colab": {
     "base_uri": "https://localhost:8080/",
     "height": 532,
     "referenced_widgets": [
      "54c614deffcf4002983aced16a728340",
      "983b4368a7ab44c186d30c6fcbe52982",
      "fd2d3af0de60403ab2166d5dba319024",
      "2702eb2dc08a458a8c76c47de3ab34f6",
      "754987cb430d4c49b3b4c9ace0fda96e"
     ]
    },
    "id": "cace8987",
    "outputId": "e5e113f0-540d-4e5c-e548-f3b208ade074"
   },
   "outputs": [
    {
     "data": {
      "application/vnd.jupyter.widget-view+json": {
       "model_id": "53fb339b25aa45f4bf26f6ccb008f0ba",
       "version_major": 2,
       "version_minor": 0
      },
      "text/plain": [
       "Button(description='Reveal solution', style=ButtonStyle())"
      ]
     },
     "metadata": {},
     "output_type": "display_data"
    },
    {
     "data": {
      "application/vnd.jupyter.widget-view+json": {
       "model_id": "b9d0704a5c9c4462ad39b5cdcd527f50",
       "version_major": 2,
       "version_minor": 0
      },
      "text/plain": [
       "Output(layout=Layout(border='1px solid green'))"
      ]
     },
     "metadata": {},
     "output_type": "display_data"
    }
   ],
   "source": [
    "%run ../scripts/show_solutions.py 02_ex19"
   ]
  },
  {
   "cell_type": "markdown",
   "id": "surprising-romance",
   "metadata": {
    "id": "surprising-romance"
   },
   "source": [
    "## 7.2. Numerical Variables\n",
    "\n",
    "Numerical variables can be counts, ... [__TODO:__ talk about numerical variables]"
   ]
  },
  {
   "cell_type": "markdown",
   "id": "turned-adrian",
   "metadata": {
    "id": "turned-adrian"
   },
   "source": [
    "---\n",
    "\n",
    "### 🚩 Exercise 20\n",
    "\n",
    "Which variables in our data are classed as counts and how are they distributed?"
   ]
  },
  {
   "cell_type": "markdown",
   "id": "passing-generic",
   "metadata": {
    "id": "passing-generic"
   },
   "source": []
  },
  {
   "cell_type": "code",
   "execution_count": 48,
   "id": "15bdef2c",
   "metadata": {
    "colab": {
     "base_uri": "https://localhost:8080/",
     "height": 80,
     "referenced_widgets": [
      "e15ffe3b430b496a82985a4462543b83",
      "f3dc505bcd3c4c5fae18b4c48e74dbee",
      "b839d6f667d14180b2bf4f7ba40aa6b3",
      "5516af0ee62b4249b08028837e4de30a",
      "77c2395a7ba445b1bfa0d8d236d8b3af"
     ]
    },
    "id": "15bdef2c",
    "outputId": "6aae52b4-10e9-4d7d-8aa2-43a1442b3072"
   },
   "outputs": [
    {
     "data": {
      "application/vnd.jupyter.widget-view+json": {
       "model_id": "54369623c6b64679b121d1ce1ec3e886",
       "version_major": 2,
       "version_minor": 0
      },
      "text/plain": [
       "Button(description='Reveal solution', style=ButtonStyle())"
      ]
     },
     "metadata": {},
     "output_type": "display_data"
    },
    {
     "data": {
      "application/vnd.jupyter.widget-view+json": {
       "model_id": "97395469d39347fc9650b1887f8731ac",
       "version_major": 2,
       "version_minor": 0
      },
      "text/plain": [
       "Output(layout=Layout(border='1px solid green'))"
      ]
     },
     "metadata": {},
     "output_type": "display_data"
    }
   ],
   "source": [
    "%run ../scripts/show_solutions.py 02_ex20"
   ]
  },
  {
   "cell_type": "markdown",
   "id": "purple-symposium",
   "metadata": {
    "id": "purple-symposium"
   },
   "source": [
    "---\n",
    "### 7.2.1. Quantizing\n",
    "Quantizing is one solution to containing the scale of a count. [__TODO:__ Add info]"
   ]
  },
  {
   "cell_type": "markdown",
   "id": "b7f3b582",
   "metadata": {
    "id": "b7f3b582"
   },
   "source": [
    "### 🚩 Exercise 21\n",
    "\n",
    "Using one of the count variables, examine the effect of binning our data using fixed-width or adaptive (using \"quantiles\") quantizing.\n",
    "\n",
    "<br>\n",
    "<details><summary><b><u>Hints</b></u></summary>\n",
    "\n",
    "- You can use <code>np.digitize</code> to do fixed-width binning and <code>pd.qcut</code> for quantile binning.\n",
    "\n",
    "- To visualise your quantized data you may want to use a <code>countplot</code> from <code>seaborn</code>.\n",
    "</details>"
   ]
  },
  {
   "cell_type": "code",
   "execution_count": 49,
   "id": "a646df44",
   "metadata": {
    "colab": {
     "base_uri": "https://localhost:8080/",
     "height": 132,
     "referenced_widgets": [
      "fbe3cf47ec9b4976baef0120ac944ec4",
      "404b19a27da84356b97eda9f02d5f0b1",
      "faee3b2254424bec940a05a399c1bba3",
      "fb0d8413b82d4ddd8b358369b80397c1",
      "bcd72b6e270849338f14111082e36d5b"
     ]
    },
    "id": "a646df44",
    "outputId": "97a5a69f-457e-42c4-bee7-6e5604b2f3dd"
   },
   "outputs": [
    {
     "data": {
      "application/vnd.jupyter.widget-view+json": {
       "model_id": "79093c9a79c24d67b8b0c28f07a21c61",
       "version_major": 2,
       "version_minor": 0
      },
      "text/plain": [
       "Button(description='Reveal solution', style=ButtonStyle())"
      ]
     },
     "metadata": {},
     "output_type": "display_data"
    },
    {
     "data": {
      "application/vnd.jupyter.widget-view+json": {
       "model_id": "f295515d53ba4f4db5c28ea630618f73",
       "version_major": 2,
       "version_minor": 0
      },
      "text/plain": [
       "Output(layout=Layout(border='1px solid green'))"
      ]
     },
     "metadata": {},
     "output_type": "display_data"
    }
   ],
   "source": [
    "%run ../scripts/show_solutions.py 02_ex21"
   ]
  },
  {
   "cell_type": "markdown",
   "id": "played-occasions",
   "metadata": {
    "id": "played-occasions"
   },
   "source": [
    "---\n",
    "### 7.2.2. Box-Cox Transformation\n",
    "\n",
    "Instead of using above we may wish to apply transformations to our data (e.g. log).\n",
    "\n",
    "### 🚩 Exercise 22\n",
    "\n",
    "Using the same variable as exercise 21, using the `boxcox` transform from `scipy.stats`, examine a few different values of lambda ($\\lambda$) and decide which may be useful.\n",
    "\n",
    "__Note__\n",
    "- `lambda = 0` is the same as a log transform.\n",
    "\n",
    "<br>\n",
    "<details><summary><b><u>Hint</b></u></summary>\n",
    "\n",
    "- Using the function above, if `lmbda=None` then the function will _\"find the lambda that maximizes the log-likelihood function and return it as the second output argument\"_<sup>5</sup>.\n",
    "</details>"
   ]
  },
  {
   "cell_type": "code",
   "execution_count": null,
   "id": "z-xNX5cr6TD8",
   "metadata": {
    "id": "z-xNX5cr6TD8"
   },
   "outputs": [],
   "source": []
  },
  {
   "cell_type": "code",
   "execution_count": 50,
   "id": "17971c79",
   "metadata": {
    "colab": {
     "base_uri": "https://localhost:8080/",
     "height": 375,
     "referenced_widgets": [
      "6fde79daaf194d12964f0a89d44212b8",
      "fdf7bb86c04c48ffb0ee426bfec82f7e",
      "51508880568c44ceaee425f5eaa1d7e5",
      "58962e74cb4b4edeb1a204494b1f67e5",
      "2122830d6fe346558539a8aceda06315"
     ]
    },
    "id": "17971c79",
    "outputId": "9cdfafa7-1c64-485d-f8c3-346fe4c7d08f"
   },
   "outputs": [
    {
     "data": {
      "application/vnd.jupyter.widget-view+json": {
       "model_id": "76bbe44e16494b588e4264bc6f5a47c7",
       "version_major": 2,
       "version_minor": 0
      },
      "text/plain": [
       "Button(description='Reveal solution', style=ButtonStyle())"
      ]
     },
     "metadata": {},
     "output_type": "display_data"
    },
    {
     "data": {
      "application/vnd.jupyter.widget-view+json": {
       "model_id": "fb086ffb694d492599eee782f685fcc4",
       "version_major": 2,
       "version_minor": 0
      },
      "text/plain": [
       "Output(layout=Layout(border='1px solid green'))"
      ]
     },
     "metadata": {},
     "output_type": "display_data"
    }
   ],
   "source": [
    "%run ../scripts/show_solutions.py 02_ex22"
   ]
  },
  {
   "cell_type": "markdown",
   "id": "amended-photograph",
   "metadata": {
    "id": "amended-photograph"
   },
   "source": [
    "### 🚩 Exercise 23 (Extra)\n",
    "\n",
    "Create a `Pipeline` compatible transformer to do a boxcox transformation."
   ]
  },
  {
   "cell_type": "code",
   "execution_count": null,
   "id": "ultimate-nepal",
   "metadata": {
    "id": "ultimate-nepal"
   },
   "outputs": [],
   "source": []
  },
  {
   "cell_type": "code",
   "execution_count": 51,
   "id": "843bfdcc",
   "metadata": {
    "colab": {
     "base_uri": "https://localhost:8080/",
     "height": 51,
     "referenced_widgets": [
      "b4718e21dcbd471cbd1b2abe215908ce",
      "dc33d1a516d648e2a6c59fdf9af4263b",
      "8d22cd26f11b4094969bb6313723b356",
      "9aee6ce02fd746f59a62d93e61821dd4",
      "16c562ae73724f1095cea7b0239d58f8"
     ]
    },
    "id": "843bfdcc",
    "outputId": "19a1390a-300f-46b7-e4da-0823c2e4dfd0"
   },
   "outputs": [
    {
     "data": {
      "application/vnd.jupyter.widget-view+json": {
       "model_id": "dfc2eed2b1de46dda40150c6b16909b8",
       "version_major": 2,
       "version_minor": 0
      },
      "text/plain": [
       "Button(description='Reveal solution', style=ButtonStyle())"
      ]
     },
     "metadata": {},
     "output_type": "display_data"
    },
    {
     "data": {
      "application/vnd.jupyter.widget-view+json": {
       "model_id": "e4495c3e01394f6dabadc747bd966416",
       "version_major": 2,
       "version_minor": 0
      },
      "text/plain": [
       "Output(layout=Layout(border='1px solid green'))"
      ]
     },
     "metadata": {},
     "output_type": "display_data"
    }
   ],
   "source": [
    "%run ../scripts/show_solutions.py 02_ex23"
   ]
  },
  {
   "cell_type": "markdown",
   "id": "binding-taylor",
   "metadata": {
    "id": "binding-taylor"
   },
   "source": [
    "---\n",
    "\n",
    "### 7.2.3. Feature Combinations\n",
    "\n",
    "Looking at the datas attributes we may also want to manually combine them into features that are either a more meaningful representation of the data or have better properties.\n",
    "\n",
    "For example, we know the number of rooms in a district, but this may be more useful to combine with the number of households so that we have a measure of rooms per household."
   ]
  },
  {
   "cell_type": "code",
   "execution_count": 52,
   "id": "humanitarian-olympus",
   "metadata": {
    "colab": {
     "base_uri": "https://localhost:8080/"
    },
    "id": "humanitarian-olympus",
    "outputId": "04131151-48d0-42d9-a017-502ef0921f67"
   },
   "outputs": [
    {
     "data": {
      "text/plain": [
       "array([4.625482625482626, 4.781609195402299, 4.566115702479339, ...,\n",
       "       4.066666666666666, 4.876456876456876, 3.992574257425743],\n",
       "      dtype=object)"
      ]
     },
     "execution_count": 52,
     "metadata": {},
     "output_type": "execute_result"
    }
   ],
   "source": [
    "col_names = \"total_rooms\", \"households\"\n",
    "rooms_ix, households_ix = [explore_set.columns.get_loc(c) for c in col_names] \n",
    "\n",
    "rooms_per_household = X_train[:,rooms_ix]/X_train[:,households_ix]\n",
    "rooms_per_household"
   ]
  },
  {
   "cell_type": "markdown",
   "id": "disciplinary-disclosure",
   "metadata": {
    "id": "disciplinary-disclosure"
   },
   "source": [
    "---\n",
    "\n",
    "### 🚩 Exercise 24\n",
    "\n",
    "Can you think of other combinations that may be useful?\n",
    "\n",
    "<br />\n",
    "<details><summary><b><u>Hint</b></u></summary>\n",
    "What about the following?\n",
    "   \n",
    "- `population_per_household`\n",
    "    \n",
    "- `bedrooms_per_room`\n",
    "</details>"
   ]
  },
  {
   "cell_type": "code",
   "execution_count": null,
   "id": "01fb9f07",
   "metadata": {
    "id": "01fb9f07"
   },
   "outputs": [],
   "source": []
  },
  {
   "cell_type": "code",
   "execution_count": 53,
   "id": "f22a0fba",
   "metadata": {
    "colab": {
     "base_uri": "https://localhost:8080/",
     "height": 584,
     "referenced_widgets": [
      "161896a078b845dda8572311d75f0ada",
      "8762d03ffd654cf4ae8126b4c06828d8",
      "c21a9886a4ce4745a48e07aa9b1cbf2f",
      "09f4d1c554554e27b6bd2661e55b984f",
      "37c0cf7d29ac466695d26f439efb0efe"
     ]
    },
    "id": "f22a0fba",
    "outputId": "37a22f16-8486-447a-b912-3953e4d642b6"
   },
   "outputs": [
    {
     "data": {
      "application/vnd.jupyter.widget-view+json": {
       "model_id": "a08533bd93fa4ebd9d87ea70bd9f787e",
       "version_major": 2,
       "version_minor": 0
      },
      "text/plain": [
       "Button(description='Reveal solution', style=ButtonStyle())"
      ]
     },
     "metadata": {},
     "output_type": "display_data"
    },
    {
     "data": {
      "application/vnd.jupyter.widget-view+json": {
       "model_id": "a7cfa97cc81c4509bf7048a385e72e54",
       "version_major": 2,
       "version_minor": 0
      },
      "text/plain": [
       "Output(layout=Layout(border='1px solid green'))"
      ]
     },
     "metadata": {},
     "output_type": "display_data"
    }
   ],
   "source": [
    "%run ../scripts/show_solutions.py 02_ex24"
   ]
  },
  {
   "cell_type": "markdown",
   "id": "wooden-vampire",
   "metadata": {
    "id": "wooden-vampire"
   },
   "source": [
    "---\n",
    "\n",
    "### 🚩 Exercise 25 (Extra)\n",
    "\n",
    "Create a custom transformer that creates these new combinations of features using the `FunctionTransformer`."
   ]
  },
  {
   "cell_type": "code",
   "execution_count": null,
   "id": "cbf49578",
   "metadata": {
    "id": "cbf49578"
   },
   "outputs": [],
   "source": []
  },
  {
   "cell_type": "code",
   "execution_count": 54,
   "id": "empirical-corpus",
   "metadata": {
    "colab": {
     "base_uri": "https://localhost:8080/",
     "height": 51,
     "referenced_widgets": [
      "210b44507cd7464f9bd8106bd91000b9",
      "d92d9b9841074b38a4c170d6ab7f78aa",
      "1b5916079cd1428baf0b664847d581dd",
      "3b01af48a2e741dcbd05ed2153355918",
      "1cfc6e7524d2451fa481f3fd80f3342a"
     ]
    },
    "id": "empirical-corpus",
    "outputId": "a2ee3408-016b-4926-96ba-31af91094c3e"
   },
   "outputs": [
    {
     "data": {
      "application/vnd.jupyter.widget-view+json": {
       "model_id": "f100940c545b4ca79d6d15da73d77640",
       "version_major": 2,
       "version_minor": 0
      },
      "text/plain": [
       "Button(description='Reveal solution', style=ButtonStyle())"
      ]
     },
     "metadata": {},
     "output_type": "display_data"
    },
    {
     "data": {
      "application/vnd.jupyter.widget-view+json": {
       "model_id": "6d0b5e2b0d004f3e8c19e99d89a49bc3",
       "version_major": 2,
       "version_minor": 0
      },
      "text/plain": [
       "Output(layout=Layout(border='1px solid green'))"
      ]
     },
     "metadata": {},
     "output_type": "display_data"
    }
   ],
   "source": [
    "%run ../scripts/show_solutions.py 02_ex25"
   ]
  },
  {
   "cell_type": "markdown",
   "id": "incoming-registration",
   "metadata": {
    "id": "incoming-registration"
   },
   "source": [
    "---\n",
    "\n",
    "### 🚩 Exercise 26 (Extra)\n",
    "\n",
    "Create a custom transformer that creates these new combinations of features __without__ using the `FunctionTransformer`."
   ]
  },
  {
   "cell_type": "code",
   "execution_count": null,
   "id": "sophisticated-calcium",
   "metadata": {
    "id": "sophisticated-calcium"
   },
   "outputs": [],
   "source": []
  },
  {
   "cell_type": "code",
   "execution_count": 55,
   "id": "b44ab18f",
   "metadata": {
    "colab": {
     "base_uri": "https://localhost:8080/",
     "height": 51,
     "referenced_widgets": [
      "4fe571138629489290aff20305636e32",
      "2e34dde1808b4919af7147ae186ebaae",
      "828473bec5e54470abd73b06872f2807",
      "7277f030f7974357a808c621d76f79c2",
      "b0ea606631b845e5ae554d3ba0a8f263"
     ]
    },
    "id": "b44ab18f",
    "outputId": "af4eeece-a3ac-4a3d-8983-c599896173fe"
   },
   "outputs": [
    {
     "data": {
      "application/vnd.jupyter.widget-view+json": {
       "model_id": "17cd99b3cc2c42679f7c5a1a1e2bcfe6",
       "version_major": 2,
       "version_minor": 0
      },
      "text/plain": [
       "Button(description='Reveal solution', style=ButtonStyle())"
      ]
     },
     "metadata": {},
     "output_type": "display_data"
    },
    {
     "data": {
      "application/vnd.jupyter.widget-view+json": {
       "model_id": "4dfac93e8464496b91382fb168451306",
       "version_major": 2,
       "version_minor": 0
      },
      "text/plain": [
       "Output(layout=Layout(border='1px solid green'))"
      ]
     },
     "metadata": {},
     "output_type": "display_data"
    }
   ],
   "source": [
    "%run ../scripts/show_solutions.py 02_ex26"
   ]
  },
  {
   "cell_type": "markdown",
   "id": "collaborative-athens",
   "metadata": {
    "id": "collaborative-athens"
   },
   "source": [
    "---\n",
    "We may also want to create interactions or polynomal features, particularly if we plan on using a linear model on data that has non-linearities [__TODO:__ Insert example].\n",
    "\n",
    "### 🚩 Exercise 27\n",
    "\n",
    "Using `PolynomialFeatures` from `sklearn.preprocessing`, add polynomial features to your training set.\n",
    "\n",
    "- You may wish to only use this for the interaction features (`interaction_only=True`)\n",
    "\n",
    "__Note__\n",
    "- If you are planning on using a model such as `LinearRegression` after, you probably want to set `include_bias=False` to ensure you do not create rank deficiency in your model matrix (discussed more in a later workbook).\n",
    "- `PolynomialFeatures` can output the feature names with `.get_feature_names()` provided you give the original names.\n",
    "\n",
    "<details><summary><u><b>Hint</b></u></summary>\n",
    "\n",
    "- You need to remove the NA's first.\n",
    "\n",
    "</details>"
   ]
  },
  {
   "cell_type": "code",
   "execution_count": 56,
   "id": "yellow-franchise",
   "metadata": {
    "id": "yellow-franchise"
   },
   "outputs": [],
   "source": [
    "from sklearn.preprocessing import PolynomialFeatures\n"
   ]
  },
  {
   "cell_type": "code",
   "execution_count": 57,
   "id": "b02782ea",
   "metadata": {
    "colab": {
     "base_uri": "https://localhost:8080/",
     "height": 51,
     "referenced_widgets": [
      "5d59f33f5a7f42fcac9b6958ac06ecbf",
      "499cf44babe349a59514ab43bd80fa5d",
      "4fd77261fa644eb18d74f585094d58fb",
      "8dcdeb5983204c29b0fe00e8de06069e",
      "f9f6bfde1383427792a74752c4b6fc36"
     ]
    },
    "id": "b02782ea",
    "outputId": "cc0ae54b-d1f6-4a54-dc1b-1d67edd30c73"
   },
   "outputs": [
    {
     "data": {
      "application/vnd.jupyter.widget-view+json": {
       "model_id": "aa01322452d04a02a6055cbffb96f88a",
       "version_major": 2,
       "version_minor": 0
      },
      "text/plain": [
       "Button(description='Reveal solution', style=ButtonStyle())"
      ]
     },
     "metadata": {},
     "output_type": "display_data"
    },
    {
     "data": {
      "application/vnd.jupyter.widget-view+json": {
       "model_id": "383d2e257090497faa9a0a0610171e25",
       "version_major": 2,
       "version_minor": 0
      },
      "text/plain": [
       "Output(layout=Layout(border='1px solid green'))"
      ]
     },
     "metadata": {},
     "output_type": "display_data"
    }
   ],
   "source": [
    "%run ../scripts/show_solutions.py 02_ex27"
   ]
  },
  {
   "cell_type": "markdown",
   "id": "competent-representative",
   "metadata": {
    "id": "competent-representative"
   },
   "source": [
    "### 7.2.4. Feature Scaling\n",
    "As we saw before, particularly for the count data, there is quite a range of feature maginitudes present in the data (e.g. the total number of rooms ranges from about 6 to 39,320)."
   ]
  },
  {
   "cell_type": "code",
   "execution_count": 58,
   "id": "proud-gateway",
   "metadata": {
    "colab": {
     "base_uri": "https://localhost:8080/",
     "height": 373
    },
    "id": "proud-gateway",
    "outputId": "e465c210-12a4-41ab-b307-7b0d9ba4f3ab"
   },
   "outputs": [
    {
     "name": "stderr",
     "output_type": "stream",
     "text": [
      "C:\\Users\\David_Elliott\\anaconda3\\envs\\Programming_Basics\\lib\\site-packages\\matplotlib\\cbook\\__init__.py:1220: RuntimeWarning: invalid value encountered in less_equal\n",
      "  wiskhi = x[x <= hival]\n",
      "C:\\Users\\David_Elliott\\anaconda3\\envs\\Programming_Basics\\lib\\site-packages\\matplotlib\\cbook\\__init__.py:1227: RuntimeWarning: invalid value encountered in greater_equal\n",
      "  wisklo = x[x >= loval]\n",
      "C:\\Users\\David_Elliott\\anaconda3\\envs\\Programming_Basics\\lib\\site-packages\\matplotlib\\cbook\\__init__.py:1235: RuntimeWarning: invalid value encountered in less\n",
      "  x[x < stats['whislo']],\n",
      "C:\\Users\\David_Elliott\\anaconda3\\envs\\Programming_Basics\\lib\\site-packages\\matplotlib\\cbook\\__init__.py:1236: RuntimeWarning: invalid value encountered in greater\n",
      "  x[x > stats['whishi']],\n"
     ]
    },
    {
     "data": {
      "image/png": "[encoded data removed]",
      "text/plain": [
       "<Figure size 1080x360 with 1 Axes>"
      ]
     },
     "metadata": {},
     "output_type": "display_data"
    }
   ],
   "source": [
    "fig, ax = plt.subplots(figsize=(15,5))\n",
    "\n",
    "plt.boxplot(X_train[:,:-1], vert=False) \n",
    "plt.xscale(\"symlog\") \n",
    "plt.ylabel(\"Feature\") \n",
    "plt.xlabel(\"Feature magnitude\")\n",
    "\n",
    "ax.set_yticklabels(features[:-1])\n",
    "\n",
    "plt.suptitle(\"Feature Maginitudes for the Training Set\")\n",
    "plt.tight_layout()\n",
    "plt.show()"
   ]
  },
  {
   "cell_type": "markdown",
   "id": "spare-consumer",
   "metadata": {
    "id": "spare-consumer"
   },
   "source": [
    "As scaling generally improves the performance of most models when features cover a range of scales, it is probably a good idea to apply some sort of scaling to our data before fitting a model.\n",
    "\n",
    "Last workbook we used *standardization* (or *variance scaling*), which is quite common, but there are a number of other types.\n",
    "\n",
    "---\n",
    "\n",
    "### 🚩 Exercise 28\n",
    "\n",
    "Using the scikit-learn documentation, find the different scaling methods available."
   ]
  },
  {
   "cell_type": "markdown",
   "id": "theoretical-power",
   "metadata": {
    "id": "theoretical-power"
   },
   "source": []
  },
  {
   "cell_type": "code",
   "execution_count": 59,
   "id": "b37f8640",
   "metadata": {
    "colab": {
     "base_uri": "https://localhost:8080/",
     "height": 197,
     "referenced_widgets": [
      "e39cb3054da74799a7783d0cb3364129",
      "e5443c82c7f74d3bb44a8ed0b7aeff1e",
      "37eaa8dbcf5a4feca0e3981e0c0cccfb",
      "2a5e62b10ece4283a432c3360650c82b",
      "76c149b1bc2d4f7ebc3e32c1aac3625e"
     ]
    },
    "id": "b37f8640",
    "outputId": "3d4b3cba-a02b-40d7-d2a8-24de957bd73c"
   },
   "outputs": [
    {
     "data": {
      "application/vnd.jupyter.widget-view+json": {
       "model_id": "29249404f6554a4dbee265040ab4c4b8",
       "version_major": 2,
       "version_minor": 0
      },
      "text/plain": [
       "Button(description='Reveal solution', style=ButtonStyle())"
      ]
     },
     "metadata": {},
     "output_type": "display_data"
    },
    {
     "data": {
      "application/vnd.jupyter.widget-view+json": {
       "model_id": "0f35abf873b8483ea2bedcd41cc0c1cf",
       "version_major": 2,
       "version_minor": 0
      },
      "text/plain": [
       "Output(layout=Layout(border='1px solid green'))"
      ]
     },
     "metadata": {},
     "output_type": "display_data"
    }
   ],
   "source": [
    "%run ../scripts/show_solutions.py 02_ex28"
   ]
  },
  {
   "cell_type": "markdown",
   "id": "conceptual-kuwait",
   "metadata": {
    "id": "conceptual-kuwait"
   },
   "source": [
    "---\n",
    "\n",
    "### 🚩 Exercise 29 (Extra)\n",
    "\n",
    "Try recreating the different scalers yourself by making a custom transformer."
   ]
  },
  {
   "cell_type": "code",
   "execution_count": null,
   "id": "czech-performance",
   "metadata": {
    "id": "czech-performance"
   },
   "outputs": [],
   "source": []
  },
  {
   "cell_type": "code",
   "execution_count": 60,
   "id": "364f93f1",
   "metadata": {
    "colab": {
     "base_uri": "https://localhost:8080/",
     "height": 51,
     "referenced_widgets": [
      "b2bcfd16b365406aa81147f101685c54",
      "7efe898190924c2089251cc159b60a17",
      "d5bc72e2bff948cca445f8b5b4f2c063",
      "5b9074ce0f0e4eac903a6f80ccf8d9ee",
      "8948de3f3cc74db6a982363e328fae9a"
     ]
    },
    "id": "364f93f1",
    "outputId": "56fe0bb6-899d-4955-8bff-ad2525a15982"
   },
   "outputs": [
    {
     "data": {
      "application/vnd.jupyter.widget-view+json": {
       "model_id": "a9212162814d4916b5e18872c78ee005",
       "version_major": 2,
       "version_minor": 0
      },
      "text/plain": [
       "Button(description='Reveal solution', style=ButtonStyle())"
      ]
     },
     "metadata": {},
     "output_type": "display_data"
    },
    {
     "data": {
      "application/vnd.jupyter.widget-view+json": {
       "model_id": "63cfda865e634f0f9d4693f821e5f738",
       "version_major": 2,
       "version_minor": 0
      },
      "text/plain": [
       "Output(layout=Layout(border='1px solid green'))"
      ]
     },
     "metadata": {},
     "output_type": "display_data"
    }
   ],
   "source": [
    "%run ../scripts/show_solutions.py 02_ex29"
   ]
  },
  {
   "cell_type": "markdown",
   "id": "passing-desperate",
   "metadata": {
    "id": "passing-desperate"
   },
   "source": [
    "---\n",
    "# 8. Summary <a id='sum'></a>\n",
    "\n",
    "So we covered a lot of ground! We've looked at some methods for pre-processing our data, cleaning and preparing it, as well as how to engineer some features. This is by no means a complete collection of all the methods available as covering more would go beyond the scope of these workbooks (for those interested in learning more, have a look though the references used in this notebook). For example, we did not touch on handling text and dates/time much. These topics are quite complex and have enough materials to cover their own courses."
   ]
  },
  {
   "cell_type": "markdown",
   "id": "light-buyer",
   "metadata": {
    "id": "light-buyer"
   },
   "source": [
    "---\n",
    "\n",
    "# 9. Extra <a id='extra'></a>\n",
    "\n",
    "Here are some extra exercises that cover some of the other steps in a machine learning project. You may want to try these to improve your skills in these areas as well."
   ]
  },
  {
   "cell_type": "markdown",
   "id": "e0250c4b",
   "metadata": {
    "id": "e0250c4b"
   },
   "source": [
    "## 9.1. Model Exploration/Refinement\n",
    "\n",
    "Due to the focus of this workbook, lets look at combining different feature engineering steps together to make different model pipelines to explore.\n",
    "\n",
    "We could create a basic model pipeline that treats the numerical and categorical attributes differently. To achive this we are going to use a combination of `Pipeline` and `ColumnTransformer` objects.\n",
    "\n",
    "We can of course do this outside of a pipeline, but remember to be careful about information leak (see the last workbook)."
   ]
  },
  {
   "cell_type": "code",
   "execution_count": 61,
   "id": "incomplete-virtue",
   "metadata": {
    "colab": {
     "base_uri": "https://localhost:8080/",
     "height": 199
    },
    "id": "incomplete-virtue",
    "outputId": "a7fd4027-957c-455b-b92c-590d3efdd539"
   },
   "outputs": [
    {
     "data": {
      "text/html": [
       "<style>#sk-d4d7e7b8-0cfd-4dc4-9e84-378ca2bb101e {color: black;background-color: white;}#sk-d4d7e7b8-0cfd-4dc4-9e84-378ca2bb101e pre{padding: 0;}#sk-d4d7e7b8-0cfd-4dc4-9e84-378ca2bb101e div.sk-toggleable {background-color: white;}#sk-d4d7e7b8-0cfd-4dc4-9e84-378ca2bb101e label.sk-toggleable__label {cursor: pointer;display: block;width: 100%;margin-bottom: 0;padding: 0.3em;box-sizing: border-box;text-align: center;}#sk-d4d7e7b8-0cfd-4dc4-9e84-378ca2bb101e label.sk-toggleable__label-arrow:before {content: \"▸\";float: left;margin-right: 0.25em;color: #696969;}#sk-d4d7e7b8-0cfd-4dc4-9e84-378ca2bb101e label.sk-toggleable__label-arrow:hover:before {color: black;}#sk-d4d7e7b8-0cfd-4dc4-9e84-378ca2bb101e div.sk-estimator:hover label.sk-toggleable__label-arrow:before {color: black;}#sk-d4d7e7b8-0cfd-4dc4-9e84-378ca2bb101e div.sk-toggleable__content {max-height: 0;max-width: 0;overflow: hidden;text-align: left;background-color: #f0f8ff;}#sk-d4d7e7b8-0cfd-4dc4-9e84-378ca2bb101e div.sk-toggleable__content pre {margin: 0.2em;color: black;border-radius: 0.25em;background-color: #f0f8ff;}#sk-d4d7e7b8-0cfd-4dc4-9e84-378ca2bb101e input.sk-toggleable__control:checked~div.sk-toggleable__content {max-height: 200px;max-width: 100%;overflow: auto;}#sk-d4d7e7b8-0cfd-4dc4-9e84-378ca2bb101e input.sk-toggleable__control:checked~label.sk-toggleable__label-arrow:before {content: \"▾\";}#sk-d4d7e7b8-0cfd-4dc4-9e84-378ca2bb101e div.sk-estimator input.sk-toggleable__control:checked~label.sk-toggleable__label {background-color: #d4ebff;}#sk-d4d7e7b8-0cfd-4dc4-9e84-378ca2bb101e div.sk-label input.sk-toggleable__control:checked~label.sk-toggleable__label {background-color: #d4ebff;}#sk-d4d7e7b8-0cfd-4dc4-9e84-378ca2bb101e input.sk-hidden--visually {border: 0;clip: rect(1px 1px 1px 1px);clip: rect(1px, 1px, 1px, 1px);height: 1px;margin: -1px;overflow: hidden;padding: 0;position: absolute;width: 1px;}#sk-d4d7e7b8-0cfd-4dc4-9e84-378ca2bb101e div.sk-estimator {font-family: monospace;background-color: #f0f8ff;border: 1px dotted black;border-radius: 0.25em;box-sizing: border-box;margin-bottom: 0.5em;}#sk-d4d7e7b8-0cfd-4dc4-9e84-378ca2bb101e div.sk-estimator:hover {background-color: #d4ebff;}#sk-d4d7e7b8-0cfd-4dc4-9e84-378ca2bb101e div.sk-parallel-item::after {content: \"\";width: 100%;border-bottom: 1px solid gray;flex-grow: 1;}#sk-d4d7e7b8-0cfd-4dc4-9e84-378ca2bb101e div.sk-label:hover label.sk-toggleable__label {background-color: #d4ebff;}#sk-d4d7e7b8-0cfd-4dc4-9e84-378ca2bb101e div.sk-serial::before {content: \"\";position: absolute;border-left: 1px solid gray;box-sizing: border-box;top: 2em;bottom: 0;left: 50%;}#sk-d4d7e7b8-0cfd-4dc4-9e84-378ca2bb101e div.sk-serial {display: flex;flex-direction: column;align-items: center;background-color: white;padding-right: 0.2em;padding-left: 0.2em;}#sk-d4d7e7b8-0cfd-4dc4-9e84-378ca2bb101e div.sk-item {z-index: 1;}#sk-d4d7e7b8-0cfd-4dc4-9e84-378ca2bb101e div.sk-parallel {display: flex;align-items: stretch;justify-content: center;background-color: white;}#sk-d4d7e7b8-0cfd-4dc4-9e84-378ca2bb101e div.sk-parallel::before {content: \"\";position: absolute;border-left: 1px solid gray;box-sizing: border-box;top: 2em;bottom: 0;left: 50%;}#sk-d4d7e7b8-0cfd-4dc4-9e84-378ca2bb101e div.sk-parallel-item {display: flex;flex-direction: column;position: relative;background-color: white;}#sk-d4d7e7b8-0cfd-4dc4-9e84-378ca2bb101e div.sk-parallel-item:first-child::after {align-self: flex-end;width: 50%;}#sk-d4d7e7b8-0cfd-4dc4-9e84-378ca2bb101e div.sk-parallel-item:last-child::after {align-self: flex-start;width: 50%;}#sk-d4d7e7b8-0cfd-4dc4-9e84-378ca2bb101e div.sk-parallel-item:only-child::after {width: 0;}#sk-d4d7e7b8-0cfd-4dc4-9e84-378ca2bb101e div.sk-dashed-wrapped {border: 1px dashed gray;margin: 0 0.4em 0.5em 0.4em;box-sizing: border-box;padding-bottom: 0.4em;background-color: white;position: relative;}#sk-d4d7e7b8-0cfd-4dc4-9e84-378ca2bb101e div.sk-label label {font-family: monospace;font-weight: bold;background-color: white;display: inline-block;line-height: 1.2em;}#sk-d4d7e7b8-0cfd-4dc4-9e84-378ca2bb101e div.sk-label-container {position: relative;z-index: 2;text-align: center;}#sk-d4d7e7b8-0cfd-4dc4-9e84-378ca2bb101e div.sk-container {/* jupyter's `normalize.less` sets `[hidden] { display: none; }` but bootstrap.min.css set `[hidden] { display: none !important; }` so we also need the `!important` here to be able to override the default hidden behavior on the sphinx rendered scikit-learn.org. See: https://github.com/scikit-learn/scikit-learn/issues/21755 */display: inline-block !important;position: relative;}#sk-d4d7e7b8-0cfd-4dc4-9e84-378ca2bb101e div.sk-text-repr-fallback {display: none;}</style><div id=\"sk-d4d7e7b8-0cfd-4dc4-9e84-378ca2bb101e\" class=\"sk-top-container\"><div class=\"sk-text-repr-fallback\"><pre>Pipeline(steps=[(&#x27;pre_processing&#x27;,\n",
       "                 ColumnTransformer(transformers=[(&#x27;num_pre&#x27;,\n",
       "                                                  Pipeline(steps=[(&#x27;num_impute&#x27;,\n",
       "                                                                   SimpleImputer(strategy=&#x27;median&#x27;)),\n",
       "                                                                  (&#x27;num_scale&#x27;,\n",
       "                                                                   StandardScaler())]),\n",
       "                                                  [0, 1, 2, 3, 4, 5, 6, 7]),\n",
       "                                                 (&#x27;cat_pre&#x27;,\n",
       "                                                  Pipeline(steps=[(&#x27;cat_impute&#x27;,\n",
       "                                                                   SimpleImputer(strategy=&#x27;constant&#x27;)),\n",
       "                                                                  (&#x27;cat_encode&#x27;,\n",
       "                                                                   OneHotEncoder())]),\n",
       "                                                  [8])])),\n",
       "                (&#x27;model&#x27;, LinearRegression())])</pre><b>Please rerun this cell to show the HTML repr or trust the notebook.</b></div><div class=\"sk-container\" hidden><div class=\"sk-item sk-dashed-wrapped\"><div class=\"sk-label-container\"><div class=\"sk-label sk-toggleable\"><input class=\"sk-toggleable__control sk-hidden--visually\" id=\"389a39aa-4dca-44d1-999e-237179065f74\" type=\"checkbox\" ><label for=\"389a39aa-4dca-44d1-999e-237179065f74\" class=\"sk-toggleable__label sk-toggleable__label-arrow\">Pipeline</label><div class=\"sk-toggleable__content\"><pre>Pipeline(steps=[(&#x27;pre_processing&#x27;,\n",
       "                 ColumnTransformer(transformers=[(&#x27;num_pre&#x27;,\n",
       "                                                  Pipeline(steps=[(&#x27;num_impute&#x27;,\n",
       "                                                                   SimpleImputer(strategy=&#x27;median&#x27;)),\n",
       "                                                                  (&#x27;num_scale&#x27;,\n",
       "                                                                   StandardScaler())]),\n",
       "                                                  [0, 1, 2, 3, 4, 5, 6, 7]),\n",
       "                                                 (&#x27;cat_pre&#x27;,\n",
       "                                                  Pipeline(steps=[(&#x27;cat_impute&#x27;,\n",
       "                                                                   SimpleImputer(strategy=&#x27;constant&#x27;)),\n",
       "                                                                  (&#x27;cat_encode&#x27;,\n",
       "                                                                   OneHotEncoder())]),\n",
       "                                                  [8])])),\n",
       "                (&#x27;model&#x27;, LinearRegression())])</pre></div></div></div><div class=\"sk-serial\"><div class=\"sk-item sk-dashed-wrapped\"><div class=\"sk-label-container\"><div class=\"sk-label sk-toggleable\"><input class=\"sk-toggleable__control sk-hidden--visually\" id=\"9526baed-7178-4adb-8f28-9135a1c48d91\" type=\"checkbox\" ><label for=\"9526baed-7178-4adb-8f28-9135a1c48d91\" class=\"sk-toggleable__label sk-toggleable__label-arrow\">pre_processing: ColumnTransformer</label><div class=\"sk-toggleable__content\"><pre>ColumnTransformer(transformers=[(&#x27;num_pre&#x27;,\n",
       "                                 Pipeline(steps=[(&#x27;num_impute&#x27;,\n",
       "                                                  SimpleImputer(strategy=&#x27;median&#x27;)),\n",
       "                                                 (&#x27;num_scale&#x27;,\n",
       "                                                  StandardScaler())]),\n",
       "                                 [0, 1, 2, 3, 4, 5, 6, 7]),\n",
       "                                (&#x27;cat_pre&#x27;,\n",
       "                                 Pipeline(steps=[(&#x27;cat_impute&#x27;,\n",
       "                                                  SimpleImputer(strategy=&#x27;constant&#x27;)),\n",
       "                                                 (&#x27;cat_encode&#x27;,\n",
       "                                                  OneHotEncoder())]),\n",
       "                                 [8])])</pre></div></div></div><div class=\"sk-parallel\"><div class=\"sk-parallel-item\"><div class=\"sk-item\"><div class=\"sk-label-container\"><div class=\"sk-label sk-toggleable\"><input class=\"sk-toggleable__control sk-hidden--visually\" id=\"a34211ff-b092-4004-a235-353696d72d08\" type=\"checkbox\" ><label for=\"a34211ff-b092-4004-a235-353696d72d08\" class=\"sk-toggleable__label sk-toggleable__label-arrow\">num_pre</label><div class=\"sk-toggleable__content\"><pre>[0, 1, 2, 3, 4, 5, 6, 7]</pre></div></div></div><div class=\"sk-serial\"><div class=\"sk-item\"><div class=\"sk-serial\"><div class=\"sk-item\"><div class=\"sk-estimator sk-toggleable\"><input class=\"sk-toggleable__control sk-hidden--visually\" id=\"9c808e28-62d0-444b-955b-7da364da057d\" type=\"checkbox\" ><label for=\"9c808e28-62d0-444b-955b-7da364da057d\" class=\"sk-toggleable__label sk-toggleable__label-arrow\">SimpleImputer</label><div class=\"sk-toggleable__content\"><pre>SimpleImputer(strategy=&#x27;median&#x27;)</pre></div></div></div><div class=\"sk-item\"><div class=\"sk-estimator sk-toggleable\"><input class=\"sk-toggleable__control sk-hidden--visually\" id=\"41d59865-05a9-4a0d-9853-8978e162854c\" type=\"checkbox\" ><label for=\"41d59865-05a9-4a0d-9853-8978e162854c\" class=\"sk-toggleable__label sk-toggleable__label-arrow\">StandardScaler</label><div class=\"sk-toggleable__content\"><pre>StandardScaler()</pre></div></div></div></div></div></div></div></div><div class=\"sk-parallel-item\"><div class=\"sk-item\"><div class=\"sk-label-container\"><div class=\"sk-label sk-toggleable\"><input class=\"sk-toggleable__control sk-hidden--visually\" id=\"b7500d96-5714-4e33-8cf8-29b6d77433a2\" type=\"checkbox\" ><label for=\"b7500d96-5714-4e33-8cf8-29b6d77433a2\" class=\"sk-toggleable__label sk-toggleable__label-arrow\">cat_pre</label><div class=\"sk-toggleable__content\"><pre>[8]</pre></div></div></div><div class=\"sk-serial\"><div class=\"sk-item\"><div class=\"sk-serial\"><div class=\"sk-item\"><div class=\"sk-estimator sk-toggleable\"><input class=\"sk-toggleable__control sk-hidden--visually\" id=\"d629c309-2eaa-421b-a6df-4eded1d51c97\" type=\"checkbox\" ><label for=\"d629c309-2eaa-421b-a6df-4eded1d51c97\" class=\"sk-toggleable__label sk-toggleable__label-arrow\">SimpleImputer</label><div class=\"sk-toggleable__content\"><pre>SimpleImputer(strategy=&#x27;constant&#x27;)</pre></div></div></div><div class=\"sk-item\"><div class=\"sk-estimator sk-toggleable\"><input class=\"sk-toggleable__control sk-hidden--visually\" id=\"476f060b-5f3d-4980-978b-4afb529a53d9\" type=\"checkbox\" ><label for=\"476f060b-5f3d-4980-978b-4afb529a53d9\" class=\"sk-toggleable__label sk-toggleable__label-arrow\">OneHotEncoder</label><div class=\"sk-toggleable__content\"><pre>OneHotEncoder()</pre></div></div></div></div></div></div></div></div></div></div><div class=\"sk-item\"><div class=\"sk-estimator sk-toggleable\"><input class=\"sk-toggleable__control sk-hidden--visually\" id=\"3ebb4970-3df3-4eac-958c-0993cb19d20a\" type=\"checkbox\" ><label for=\"3ebb4970-3df3-4eac-958c-0993cb19d20a\" class=\"sk-toggleable__label sk-toggleable__label-arrow\">LinearRegression</label><div class=\"sk-toggleable__content\"><pre>LinearRegression()</pre></div></div></div></div></div></div></div>"
      ],
      "text/plain": [
       "Pipeline(steps=[('pre_processing',\n",
       "                 ColumnTransformer(transformers=[('num_pre',\n",
       "                                                  Pipeline(steps=[('num_impute',\n",
       "                                                                   SimpleImputer(strategy='median')),\n",
       "                                                                  ('num_scale',\n",
       "                                                                   StandardScaler())]),\n",
       "                                                  [0, 1, 2, 3, 4, 5, 6, 7]),\n",
       "                                                 ('cat_pre',\n",
       "                                                  Pipeline(steps=[('cat_impute',\n",
       "                                                                   SimpleImputer(strategy='constant')),\n",
       "                                                                  ('cat_encode',\n",
       "                                                                   OneHotEncoder())]),\n",
       "                                                  [8])])),\n",
       "                ('model', LinearRegression())])"
      ]
     },
     "execution_count": 61,
     "metadata": {},
     "output_type": "execute_result"
    }
   ],
   "source": [
    "from sklearn.preprocessing import StandardScaler\n",
    "from sklearn.linear_model import LinearRegression\n",
    "from imblearn.pipeline import Pipeline\n",
    "from sklearn.preprocessing import OneHotEncoder\n",
    "from sklearn import set_config\n",
    "set_config(display='diagram')\n",
    "\n",
    "num_pre = Pipeline([\n",
    "    (\"num_impute\", SimpleImputer(strategy=\"median\")),\n",
    "    (\"num_scale\", StandardScaler())])\n",
    "\n",
    "cat_pre = Pipeline([\n",
    "    (\"cat_impute\", SimpleImputer(strategy=\"constant\")),\n",
    "    (\"cat_encode\", OneHotEncoder())])\n",
    "\n",
    "reg_pipe_1 = Pipeline([\n",
    "    (\"pre_processing\", ColumnTransformer([(\"num_pre\", num_pre, list(range(X_train.shape[1]-1))),\n",
    "                                          (\"cat_pre\", cat_pre, [X_train.shape[1]-1])])),\n",
    "    (\"model\", LinearRegression())\n",
    "])\n",
    "\n",
    "reg_pipe_1"
   ]
  },
  {
   "cell_type": "markdown",
   "id": "pretty-ethnic",
   "metadata": {
    "id": "pretty-ethnic"
   },
   "source": [
    "---\n",
    "\n",
    "### 🚩 Exercise 30 (Extra)\n",
    "\n",
    "Using the pipeline above, use cross-validation to assess the performance ($R^2$) of a linear regression model."
   ]
  },
  {
   "cell_type": "code",
   "execution_count": 62,
   "id": "digital-monthly",
   "metadata": {
    "id": "digital-monthly"
   },
   "outputs": [],
   "source": [
    "from sklearn.model_selection import cross_validate\n"
   ]
  },
  {
   "cell_type": "code",
   "execution_count": 63,
   "id": "f53ae44a",
   "metadata": {
    "colab": {
     "base_uri": "https://localhost:8080/",
     "height": 277,
     "referenced_widgets": [
      "b5255893906f484793c4c832d75e2519",
      "aa6ba4adc3614215a47aa18d2db7c43d",
      "7ec89bd3a5c6459694769ca926b58fdb",
      "66059e5a127b4457949426cf57a48a8d",
      "e59f60f089774809960f24c73666de41"
     ]
    },
    "id": "f53ae44a",
    "outputId": "ac4428fb-baa8-473f-be1f-f8c5f5d3b1c2"
   },
   "outputs": [
    {
     "data": {
      "application/vnd.jupyter.widget-view+json": {
       "model_id": "97628eddde524598bbea7dddf52c0534",
       "version_major": 2,
       "version_minor": 0
      },
      "text/plain": [
       "Button(description='Reveal solution', style=ButtonStyle())"
      ]
     },
     "metadata": {},
     "output_type": "display_data"
    },
    {
     "data": {
      "application/vnd.jupyter.widget-view+json": {
       "model_id": "c38324b3b10641b69952688e61012479",
       "version_major": 2,
       "version_minor": 0
      },
      "text/plain": [
       "Output(layout=Layout(border='1px solid green'))"
      ]
     },
     "metadata": {},
     "output_type": "display_data"
    }
   ],
   "source": [
    "%run ../scripts/show_solutions.py 02_ex30"
   ]
  },
  {
   "cell_type": "markdown",
   "id": "judicial-header",
   "metadata": {
    "id": "judicial-header"
   },
   "source": [
    "---\n",
    "\n",
    "### 🚩 Exercise 31 (Extra)\n",
    "\n",
    "Try some other combinations of the pre-processing and feature engineering steps we have learned about in this notebook by combining `Pipeline` and `ColumnTransformer` objects."
   ]
  },
  {
   "cell_type": "code",
   "execution_count": null,
   "id": "acknowledged-directive",
   "metadata": {
    "id": "acknowledged-directive"
   },
   "outputs": [],
   "source": []
  },
  {
   "cell_type": "code",
   "execution_count": 64,
   "id": "65ac878e",
   "metadata": {
    "colab": {
     "base_uri": "https://localhost:8080/",
     "height": 1000,
     "referenced_widgets": [
      "042f4f1ad3fe4d798e3f9564364d289c",
      "3eaf689d288a42a3a13797522f4f8294",
      "0c65210709704158beefc5350d6f6c78",
      "065c675d901548219fc28c98df0f877e",
      "72e81e92d9ff4a69ac5ee2949c9f6705"
     ]
    },
    "id": "65ac878e",
    "outputId": "aa555239-d0b1-4abc-d36a-c8239626559a"
   },
   "outputs": [
    {
     "data": {
      "application/vnd.jupyter.widget-view+json": {
       "model_id": "cb53f47b155c488bab024dc44ab3e2dc",
       "version_major": 2,
       "version_minor": 0
      },
      "text/plain": [
       "Button(description='Reveal solution', style=ButtonStyle())"
      ]
     },
     "metadata": {},
     "output_type": "display_data"
    },
    {
     "data": {
      "application/vnd.jupyter.widget-view+json": {
       "model_id": "9cf0611055a04a37a20aef7bf3b8536c",
       "version_major": 2,
       "version_minor": 0
      },
      "text/plain": [
       "Output(layout=Layout(border='1px solid green'))"
      ]
     },
     "metadata": {},
     "output_type": "display_data"
    }
   ],
   "source": [
    "%run ../scripts/show_solutions.py 02_ex31"
   ]
  },
  {
   "cell_type": "markdown",
   "id": "united-border",
   "metadata": {
    "id": "united-border"
   },
   "source": [
    "---\n",
    "\n",
    "## 9.2. System Evaluation\n",
    "\n",
    "Once we have finished tweeking our models above we can assess their performance on a test set to get an idea of their final generalisation performance.\n",
    "\n",
    "### 🚩 Exercise 32 (Extra)\n",
    "\n",
    "Assess the final generalisation performance of your prefered model pipeline from above."
   ]
  },
  {
   "cell_type": "code",
   "execution_count": null,
   "id": "80ada508",
   "metadata": {
    "id": "80ada508"
   },
   "outputs": [],
   "source": []
  },
  {
   "cell_type": "code",
   "execution_count": 65,
   "id": "36a6ab9a",
   "metadata": {
    "colab": {
     "base_uri": "https://localhost:8080/",
     "height": 225,
     "referenced_widgets": [
      "12b7296492814646a3f6ac3de84ada12",
      "6df940deccf941b3968ca91740dbef64",
      "b090109dbf254bcea6d24929991ebf8f",
      "c101b04b760444ae97daae42acb3e078",
      "ef0261b2a2714ac587a1b3749f4bdb43"
     ]
    },
    "id": "36a6ab9a",
    "outputId": "6ad5be49-70ab-4309-b0f5-b50a0159247d"
   },
   "outputs": [
    {
     "data": {
      "application/vnd.jupyter.widget-view+json": {
       "model_id": "6fb8ce1ed3564750ab751743e22e5208",
       "version_major": 2,
       "version_minor": 0
      },
      "text/plain": [
       "Button(description='Reveal solution', style=ButtonStyle())"
      ]
     },
     "metadata": {},
     "output_type": "display_data"
    },
    {
     "data": {
      "application/vnd.jupyter.widget-view+json": {
       "model_id": "593c1eea0c9543e9a28d52da42bd9f57",
       "version_major": 2,
       "version_minor": 0
      },
      "text/plain": [
       "Output(layout=Layout(border='1px solid green'))"
      ]
     },
     "metadata": {},
     "output_type": "display_data"
    }
   ],
   "source": [
    "%run ../scripts/show_solutions.py 02_ex32"
   ]
  },
  {
   "cell_type": "markdown",
   "id": "identified-queensland",
   "metadata": {
    "id": "identified-queensland"
   },
   "source": [
    "---\n",
    "\n",
    "## 9.3. Solution Presentation and Deployment\n",
    "\n",
    "Here is where we would start to write up our report. Overall you have probably made an okay model but it may still be worth deploying to save time for an expert so they can work on more interesting and productive tasks."
   ]
  },
  {
   "cell_type": "markdown",
   "id": "pacific-performer",
   "metadata": {
    "id": "pacific-performer"
   },
   "source": [
    "---\n",
    "\n",
    "### 🚩 Exercise 33 (Extra)\n",
    "\n",
    "If you are feeling extra keen, then imagine the team working on the downstream wants the input to their model to be categories (\"Cheap\", \"Medium\", \"Expensive\") instead of estimated prices. Develop a model pipeline that meets this new specification."
   ]
  },
  {
   "cell_type": "markdown",
   "id": "smoking-healthcare",
   "metadata": {
    "id": "smoking-healthcare"
   },
   "source": [
    "--- \n",
    "# References\n",
    "\n",
    "1. Géron, A. (2019). Hands-On Machine Learning with Scikit-Learn and TensorFlow: Concepts, Tools, and Techniques to Build Intelligent Systems (2nd ed.). O’Reilly Media.\n",
    "2. Pace, R. K., & Barry, R. (1997). Sparse spatial autoregressions. Statistics & Probability Letters, 33(3), 291-297.\n",
    "3. Amr, T. (2020). Hands-On Machine Learning with scikit-learn and Scientific Python Toolkits.\n",
    "4. Zheng, A., & Casari, A. (2018). Feature Engineering for Machine Learning principles and techniques for data scientists. O’Reilly Media, Inc.\n",
    "5. https://docs.scipy.org/doc/scipy/reference/generated/scipy.stats.boxcox.html"
   ]
  }
 ],
 "metadata": {
  "colab": {
   "include_colab_link": true,
   "name": "2_Workshop.ipynb",
   "provenance": []
  },
  "kernelspec": {
   "display_name": "Python 3",
   "language": "python",
   "name": "python3"
  },
  "language_info": {
   "codemirror_mode": {
    "name": "ipython",
    "version": 3
   },
   "file_extension": ".py",
   "mimetype": "text/x-python",
   "name": "python",
   "nbconvert_exporter": "python",
   "pygments_lexer": "ipython3",
   "version": "3.9.7"
  },
  "widgets": {
   "application/vnd.jupyter.widget-state+json": {
    "0023996b0a544207a6c929b41443a899": {
     "model_module": "@jupyter-widgets/controls",
     "model_module_version": "1.5.0",
     "model_name": "ButtonModel",
     "state": {
      "_dom_classes": [],
      "_model_module": "@jupyter-widgets/controls",
      "_model_module_version": "1.5.0",
      "_model_name": "ButtonModel",
      "_view_count": null,
      "_view_module": "@jupyter-widgets/controls",
      "_view_module_version": "1.5.0",
      "_view_name": "ButtonView",
      "button_style": "",
      "description": "Hide solution",
      "disabled": false,
      "icon": "",
      "layout": "IPY_MODEL_f9682ba128be4ad8a936fcee4519bb90",
      "style": "IPY_MODEL_d2416135d15249e59d18bb61e71fcadf",
      "tooltip": ""
     }
    },
    "042f4f1ad3fe4d798e3f9564364d289c": {
     "model_module": "@jupyter-widgets/controls",
     "model_module_version": "1.5.0",
     "model_name": "ButtonModel",
     "state": {
      "_dom_classes": [],
      "_model_module": "@jupyter-widgets/controls",
      "_model_module_version": "1.5.0",
      "_model_name": "ButtonModel",
      "_view_count": null,
      "_view_module": "@jupyter-widgets/controls",
      "_view_module_version": "1.5.0",
      "_view_name": "ButtonView",
      "button_style": "",
      "description": "Hide solution",
      "disabled": false,
      "icon": "",
      "layout": "IPY_MODEL_0c65210709704158beefc5350d6f6c78",
      "style": "IPY_MODEL_3eaf689d288a42a3a13797522f4f8294",
      "tooltip": ""
     }
    },
    "05eaf5c9a3d44e60a67b6d9d19983040": {
     "model_module": "@jupyter-widgets/base",
     "model_module_version": "1.2.0",
     "model_name": "LayoutModel",
     "state": {
      "_model_module": "@jupyter-widgets/base",
      "_model_module_version": "1.2.0",
      "_model_name": "LayoutModel",
      "_view_count": null,
      "_view_module": "@jupyter-widgets/base",
      "_view_module_version": "1.2.0",
      "_view_name": "LayoutView",
      "align_content": null,
      "align_items": null,
      "align_self": null,
      "border": "1px solid green",
      "bottom": null,
      "display": null,
      "flex": null,
      "flex_flow": null,
      "grid_area": null,
      "grid_auto_columns": null,
      "grid_auto_flow": null,
      "grid_auto_rows": null,
      "grid_column": null,
      "grid_gap": null,
      "grid_row": null,
      "grid_template_areas": null,
      "grid_template_columns": null,
      "grid_template_rows": null,
      "height": null,
      "justify_content": null,
      "justify_items": null,
      "left": null,
      "margin": null,
      "max_height": null,
      "max_width": null,
      "min_height": null,
      "min_width": null,
      "object_fit": null,
      "object_position": null,
      "order": null,
      "overflow": null,
      "overflow_x": null,
      "overflow_y": null,
      "padding": null,
      "right": null,
      "top": null,
      "visibility": null,
      "width": null
     }
    },
    "05ec20ab66d14d51af4dd96ea729f43d": {
     "model_module": "@jupyter-widgets/controls",
     "model_module_version": "1.5.0",
     "model_name": "ButtonStyleModel",
     "state": {
      "_model_module": "@jupyter-widgets/controls",
      "_model_module_version": "1.5.0",
      "_model_name": "ButtonStyleModel",
      "_view_count": null,
      "_view_module": "@jupyter-widgets/base",
      "_view_module_version": "1.2.0",
      "_view_name": "StyleView",
      "button_color": null,
      "font_weight": ""
     }
    },
    "065c675d901548219fc28c98df0f877e": {
     "model_module": "@jupyter-widgets/output",
     "model_module_version": "1.0.0",
     "model_name": "OutputModel",
     "state": {
      "_dom_classes": [],
      "_model_module": "@jupyter-widgets/output",
      "_model_module_version": "1.0.0",
      "_model_name": "OutputModel",
      "_view_count": null,
      "_view_module": "@jupyter-widgets/output",
      "_view_module_version": "1.0.0",
      "_view_name": "OutputView",
      "layout": "IPY_MODEL_72e81e92d9ff4a69ac5ee2949c9f6705",
      "msg_id": "",
      "outputs": [
       {
        "data": {
         "text/html": "<style>.output_html .hll { background-color: #ffffcc }\n.output_html  { background: #f8f8f8; }\n.output_html .c { color: #408080; font-style: italic } /* Comment */\n.output_html .err { border: 1px solid #FF0000 } /* Error */\n.output_html .k { color: #008000; font-weight: bold } /* Keyword */\n.output_html .o { color: #666666 } /* Operator */\n.output_html .ch { color: #408080; font-style: italic } /* Comment.Hashbang */\n.output_html .cm { color: #408080; font-style: italic } /* Comment.Multiline */\n.output_html .cp { color: #BC7A00 } /* Comment.Preproc */\n.output_html .cpf { color: #408080; font-style: italic } /* Comment.PreprocFile */\n.output_html .c1 { color: #408080; font-style: italic } /* Comment.Single */\n.output_html .cs { color: #408080; font-style: italic } /* Comment.Special */\n.output_html .gd { color: #A00000 } /* Generic.Deleted */\n.output_html .ge { font-style: italic } /* Generic.Emph */\n.output_html .gr { color: #FF0000 } /* Generic.Error */\n.output_html .gh { color: #000080; font-weight: bold } /* Generic.Heading */\n.output_html .gi { color: #00A000 } /* Generic.Inserted */\n.output_html .go { color: #888888 } /* Generic.Output */\n.output_html .gp { color: #000080; font-weight: bold } /* Generic.Prompt */\n.output_html .gs { font-weight: bold } /* Generic.Strong */\n.output_html .gu { color: #800080; font-weight: bold } /* Generic.Subheading */\n.output_html .gt { color: #0044DD } /* Generic.Traceback */\n.output_html .kc { color: #008000; font-weight: bold } /* Keyword.Constant */\n.output_html .kd { color: #008000; font-weight: bold } /* Keyword.Declaration */\n.output_html .kn { color: #008000; font-weight: bold } /* Keyword.Namespace */\n.output_html .kp { color: #008000 } /* Keyword.Pseudo */\n.output_html .kr { color: #008000; font-weight: bold } /* Keyword.Reserved */\n.output_html .kt { color: #B00040 } /* Keyword.Type */\n.output_html .m { color: #666666 } /* Literal.Number */\n.output_html .s { color: #BA2121 } /* Literal.String */\n.output_html .na { color: #7D9029 } /* Name.Attribute */\n.output_html .nb { color: #008000 } /* Name.Builtin */\n.output_html .nc { color: #0000FF; font-weight: bold } /* Name.Class */\n.output_html .no { color: #880000 } /* Name.Constant */\n.output_html .nd { color: #AA22FF } /* Name.Decorator */\n.output_html .ni { color: #999999; font-weight: bold } /* Name.Entity */\n.output_html .ne { color: #D2413A; font-weight: bold } /* Name.Exception */\n.output_html .nf { color: #0000FF } /* Name.Function */\n.output_html .nl { color: #A0A000 } /* Name.Label */\n.output_html .nn { color: #0000FF; font-weight: bold } /* Name.Namespace */\n.output_html .nt { color: #008000; font-weight: bold } /* Name.Tag */\n.output_html .nv { color: #19177C } /* Name.Variable */\n.output_html .ow { color: #AA22FF; font-weight: bold } /* Operator.Word */\n.output_html .w { color: #bbbbbb } /* Text.Whitespace */\n.output_html .mb { color: #666666 } /* Literal.Number.Bin */\n.output_html .mf { color: #666666 } /* Literal.Number.Float */\n.output_html .mh { color: #666666 } /* Literal.Number.Hex */\n.output_html .mi { color: #666666 } /* Literal.Number.Integer */\n.output_html .mo { color: #666666 } /* Literal.Number.Oct */\n.output_html .sa { color: #BA2121 } /* Literal.String.Affix */\n.output_html .sb { color: #BA2121 } /* Literal.String.Backtick */\n.output_html .sc { color: #BA2121 } /* Literal.String.Char */\n.output_html .dl { color: #BA2121 } /* Literal.String.Delimiter */\n.output_html .sd { color: #BA2121; font-style: italic } /* Literal.String.Doc */\n.output_html .s2 { color: #BA2121 } /* Literal.String.Double */\n.output_html .se { color: #BB6622; font-weight: bold } /* Literal.String.Escape */\n.output_html .sh { color: #BA2121 } /* Literal.String.Heredoc */\n.output_html .si { color: #BB6688; font-weight: bold } /* Literal.String.Interpol */\n.output_html .sx { color: #008000 } /* Literal.String.Other */\n.output_html .sr { color: #BB6688 } /* Literal.String.Regex */\n.output_html .s1 { color: #BA2121 } /* Literal.String.Single */\n.output_html .ss { color: #19177C } /* Literal.String.Symbol */\n.output_html .bp { color: #008000 } /* Name.Builtin.Pseudo */\n.output_html .fm { color: #0000FF } /* Name.Function.Magic */\n.output_html .vc { color: #19177C } /* Name.Variable.Class */\n.output_html .vg { color: #19177C } /* Name.Variable.Global */\n.output_html .vi { color: #19177C } /* Name.Variable.Instance */\n.output_html .vm { color: #19177C } /* Name.Variable.Magic */\n.output_html .il { color: #666666 } /* Literal.Number.Integer.Long */</style><div class=\"highlight\"><pre><span></span><span class=\"c1\"># NOTE: To get this answer to work you&#39;ll need to run some of the</span>\n<span class=\"c1\"># functions I created to answer some earlier questions.</span>\n\n<span class=\"c1\"># Reg Pipe 2</span>\n<span class=\"n\">num_pre</span> <span class=\"o\">=</span> <span class=\"n\">Pipeline</span><span class=\"p\">([</span>\n    <span class=\"p\">(</span><span class=\"s2\">&quot;num_impute&quot;</span><span class=\"p\">,</span> <span class=\"n\">SimpleImputer</span><span class=\"p\">(</span><span class=\"n\">strategy</span><span class=\"o\">=</span><span class=\"s2\">&quot;median&quot;</span><span class=\"p\">)),</span>\n    <span class=\"p\">(</span><span class=\"s2\">&quot;num_scale&quot;</span><span class=\"p\">,</span> <span class=\"n\">StandardScaler</span><span class=\"p\">())])</span>\n\n<span class=\"n\">count_pre</span> <span class=\"o\">=</span> <span class=\"n\">Pipeline</span><span class=\"p\">([</span>\n    <span class=\"p\">(</span><span class=\"s2\">&quot;num_impute&quot;</span><span class=\"p\">,</span> <span class=\"n\">SimpleImputer</span><span class=\"p\">(</span><span class=\"n\">strategy</span><span class=\"o\">=</span><span class=\"s2\">&quot;median&quot;</span><span class=\"p\">)),</span>\n    <span class=\"p\">(</span><span class=\"s2\">&quot;num_add&quot;</span><span class=\"p\">,</span> <span class=\"n\">CombinedAttributesAdder</span><span class=\"p\">(</span><span class=\"mi\">0</span><span class=\"p\">,</span><span class=\"mi\">1</span><span class=\"p\">,</span><span class=\"mi\">2</span><span class=\"p\">,</span><span class=\"mi\">3</span><span class=\"p\">,</span> <span class=\"n\">drop_indiv</span><span class=\"o\">=</span><span class=\"kc\">True</span><span class=\"p\">)),</span>\n    <span class=\"p\">(</span><span class=\"s2\">&quot;num_transform&quot;</span><span class=\"p\">,</span> <span class=\"n\">boxtransformer</span><span class=\"p\">),</span>\n    <span class=\"p\">(</span><span class=\"s2\">&quot;num_scale&quot;</span><span class=\"p\">,</span> <span class=\"n\">StandardScaler</span><span class=\"p\">())])</span>\n\n<span class=\"n\">cat_pre</span> <span class=\"o\">=</span> <span class=\"n\">Pipeline</span><span class=\"p\">([</span>\n    <span class=\"p\">(</span><span class=\"s2\">&quot;cat_impute&quot;</span><span class=\"p\">,</span> <span class=\"n\">SimpleImputer</span><span class=\"p\">(</span><span class=\"n\">strategy</span><span class=\"o\">=</span><span class=\"s2\">&quot;constant&quot;</span><span class=\"p\">)),</span>\n    <span class=\"p\">(</span><span class=\"s2\">&quot;cat_encode&quot;</span><span class=\"p\">,</span> <span class=\"n\">OneHotEncoder</span><span class=\"p\">())])</span>\n\n<span class=\"n\">reg_pipe_2</span> <span class=\"o\">=</span> <span class=\"n\">Pipeline</span><span class=\"p\">([</span>\n    <span class=\"p\">(</span><span class=\"s2\">&quot;pre_processing&quot;</span><span class=\"p\">,</span> <span class=\"n\">ColumnTransformer</span><span class=\"p\">([</span>\n        <span class=\"p\">(</span><span class=\"s2\">&quot;num_pre&quot;</span><span class=\"p\">,</span> <span class=\"n\">num_pre</span><span class=\"p\">,</span> <span class=\"p\">[</span><span class=\"mi\">0</span><span class=\"p\">,</span><span class=\"mi\">1</span><span class=\"p\">,</span><span class=\"mi\">2</span><span class=\"p\">,</span><span class=\"mi\">7</span><span class=\"p\">]),</span>\n        <span class=\"p\">(</span><span class=\"s2\">&quot;count_pre&quot;</span><span class=\"p\">,</span> <span class=\"n\">count_pre</span><span class=\"p\">,</span> <span class=\"p\">[</span><span class=\"mi\">3</span><span class=\"p\">,</span><span class=\"mi\">4</span><span class=\"p\">,</span><span class=\"mi\">5</span><span class=\"p\">,</span><span class=\"mi\">6</span><span class=\"p\">]),</span>\n        <span class=\"p\">(</span><span class=\"s2\">&quot;cat_pre&quot;</span><span class=\"p\">,</span> <span class=\"n\">cat_pre</span><span class=\"p\">,</span> <span class=\"p\">[</span><span class=\"mi\">8</span><span class=\"p\">])])),</span>\n    <span class=\"p\">(</span><span class=\"s2\">&quot;model&quot;</span><span class=\"p\">,</span> <span class=\"n\">LinearRegression</span><span class=\"p\">())</span>\n<span class=\"p\">])</span>\n\n<span class=\"n\">display</span><span class=\"p\">(</span><span class=\"n\">reg_pipe_2</span><span class=\"p\">)</span>\n\n<span class=\"n\">scores</span> <span class=\"o\">=</span> <span class=\"n\">cross_validate</span><span class=\"p\">(</span><span class=\"n\">reg_pipe_2</span><span class=\"p\">,</span> <span class=\"n\">X_train</span><span class=\"p\">,</span> <span class=\"n\">y_train</span><span class=\"p\">,</span> <span class=\"n\">cv</span><span class=\"o\">=</span><span class=\"mi\">5</span><span class=\"p\">,</span> <span class=\"n\">return_train_score</span><span class=\"o\">=</span><span class=\"kc\">True</span><span class=\"p\">)</span>\n<span class=\"n\">display</span><span class=\"p\">(</span><span class=\"n\">tidy_scores</span><span class=\"p\">(</span><span class=\"n\">scores</span><span class=\"p\">))</span>\n\n<span class=\"c1\"># Reg Pipe 3</span>\n<span class=\"n\">count_pre</span> <span class=\"o\">=</span> <span class=\"n\">Pipeline</span><span class=\"p\">([</span>\n    <span class=\"p\">(</span><span class=\"s2\">&quot;num_add&quot;</span><span class=\"p\">,</span> <span class=\"n\">CombinedAttributesAdder</span><span class=\"p\">(</span><span class=\"mi\">0</span><span class=\"p\">,</span><span class=\"mi\">1</span><span class=\"p\">,</span><span class=\"mi\">2</span><span class=\"p\">,</span><span class=\"mi\">3</span><span class=\"p\">,</span> <span class=\"n\">drop_indiv</span><span class=\"o\">=</span><span class=\"kc\">True</span><span class=\"p\">)),</span>\n    <span class=\"p\">(</span><span class=\"s2\">&quot;num_transform&quot;</span><span class=\"p\">,</span> <span class=\"n\">boxtransformer</span><span class=\"p\">)])</span>\n\n<span class=\"n\">num_pre</span> <span class=\"o\">=</span> <span class=\"n\">Pipeline</span><span class=\"p\">([</span>\n    <span class=\"p\">(</span><span class=\"s2\">&quot;num_impute&quot;</span><span class=\"p\">,</span> <span class=\"n\">SimpleImputer</span><span class=\"p\">(</span><span class=\"n\">strategy</span><span class=\"o\">=</span><span class=\"s2\">&quot;median&quot;</span><span class=\"p\">)),</span>\n    <span class=\"p\">(</span><span class=\"s2\">&quot;comb_pipe&quot;</span><span class=\"p\">,</span> <span class=\"n\">ColumnTransformer</span><span class=\"p\">([(</span><span class=\"s2\">&quot;count_pre&quot;</span><span class=\"p\">,</span> <span class=\"n\">count_pre</span><span class=\"p\">,</span> <span class=\"p\">[</span><span class=\"mi\">3</span><span class=\"p\">,</span><span class=\"mi\">4</span><span class=\"p\">,</span><span class=\"mi\">5</span><span class=\"p\">,</span><span class=\"mi\">6</span><span class=\"p\">])],</span><span class=\"n\">remainder</span><span class=\"o\">=</span><span class=\"s2\">&quot;passthrough&quot;</span><span class=\"p\">)),</span>\n    <span class=\"p\">(</span><span class=\"s2\">&quot;poly&quot;</span><span class=\"p\">,</span> <span class=\"n\">PolynomialFeatures</span><span class=\"p\">(</span><span class=\"n\">include_bias</span><span class=\"o\">=</span><span class=\"kc\">False</span><span class=\"p\">)),</span>\n    <span class=\"p\">(</span><span class=\"s2\">&quot;num_scale&quot;</span><span class=\"p\">,</span> <span class=\"n\">StandardScaler</span><span class=\"p\">())</span>\n<span class=\"p\">])</span>\n\n<span class=\"n\">cat_pre</span> <span class=\"o\">=</span> <span class=\"n\">Pipeline</span><span class=\"p\">([</span>\n    <span class=\"p\">(</span><span class=\"s2\">&quot;cat_impute&quot;</span><span class=\"p\">,</span> <span class=\"n\">SimpleImputer</span><span class=\"p\">(</span><span class=\"n\">strategy</span><span class=\"o\">=</span><span class=\"s2\">&quot;constant&quot;</span><span class=\"p\">)),</span>\n    <span class=\"p\">(</span><span class=\"s2\">&quot;cat_encode&quot;</span><span class=\"p\">,</span> <span class=\"n\">OneHotEncoder</span><span class=\"p\">())])</span>\n\n<span class=\"n\">reg_pipe_3</span> <span class=\"o\">=</span> <span class=\"n\">Pipeline</span><span class=\"p\">([</span>\n    <span class=\"p\">(</span><span class=\"s2\">&quot;pre_processing&quot;</span><span class=\"p\">,</span> <span class=\"n\">ColumnTransformer</span><span class=\"p\">([</span>\n        <span class=\"p\">(</span><span class=\"s2\">&quot;comb_pre&quot;</span><span class=\"p\">,</span> <span class=\"n\">num_pre</span><span class=\"p\">,</span> <span class=\"p\">[</span><span class=\"mi\">0</span><span class=\"p\">,</span><span class=\"mi\">1</span><span class=\"p\">,</span><span class=\"mi\">2</span><span class=\"p\">,</span><span class=\"mi\">3</span><span class=\"p\">,</span><span class=\"mi\">4</span><span class=\"p\">,</span><span class=\"mi\">5</span><span class=\"p\">,</span><span class=\"mi\">6</span><span class=\"p\">,</span><span class=\"mi\">7</span><span class=\"p\">]),</span>\n        <span class=\"p\">(</span><span class=\"s2\">&quot;cat_pre&quot;</span><span class=\"p\">,</span> <span class=\"n\">cat_pre</span><span class=\"p\">,</span> <span class=\"p\">[</span><span class=\"mi\">8</span><span class=\"p\">])])),</span>\n    <span class=\"p\">(</span><span class=\"s2\">&quot;model&quot;</span><span class=\"p\">,</span> <span class=\"n\">LinearRegression</span><span class=\"p\">())</span>\n<span class=\"p\">])</span>\n\n<span class=\"n\">display</span><span class=\"p\">(</span><span class=\"n\">reg_pipe_3</span><span class=\"p\">)</span>\n\n<span class=\"n\">scores</span> <span class=\"o\">=</span> <span class=\"n\">cross_validate</span><span class=\"p\">(</span><span class=\"n\">reg_pipe_3</span><span class=\"p\">,</span> <span class=\"n\">X_train</span><span class=\"p\">,</span> <span class=\"n\">y_train</span><span class=\"p\">,</span> <span class=\"n\">cv</span><span class=\"o\">=</span><span class=\"mi\">5</span><span class=\"p\">,</span> <span class=\"n\">return_train_score</span><span class=\"o\">=</span><span class=\"kc\">True</span><span class=\"p\">)</span>\n<span class=\"n\">display</span><span class=\"p\">(</span><span class=\"n\">tidy_scores</span><span class=\"p\">(</span><span class=\"n\">scores</span><span class=\"p\">))</span>\n</pre></div>\n",
         "text/latex": "\\begin{Verbatim}[commandchars=\\\\\\{\\}]\n\\PY{c+c1}{\\PYZsh{} NOTE: To get this answer to work you\\PYZsq{}ll need to run some of the}\n\\PY{c+c1}{\\PYZsh{} functions I created to answer some earlier questions.}\n\n\\PY{c+c1}{\\PYZsh{} Reg Pipe 2}\n\\PY{n}{num\\PYZus{}pre} \\PY{o}{=} \\PY{n}{Pipeline}\\PY{p}{(}\\PY{p}{[}\n    \\PY{p}{(}\\PY{l+s+s2}{\\PYZdq{}}\\PY{l+s+s2}{num\\PYZus{}impute}\\PY{l+s+s2}{\\PYZdq{}}\\PY{p}{,} \\PY{n}{SimpleImputer}\\PY{p}{(}\\PY{n}{strategy}\\PY{o}{=}\\PY{l+s+s2}{\\PYZdq{}}\\PY{l+s+s2}{median}\\PY{l+s+s2}{\\PYZdq{}}\\PY{p}{)}\\PY{p}{)}\\PY{p}{,}\n    \\PY{p}{(}\\PY{l+s+s2}{\\PYZdq{}}\\PY{l+s+s2}{num\\PYZus{}scale}\\PY{l+s+s2}{\\PYZdq{}}\\PY{p}{,} \\PY{n}{StandardScaler}\\PY{p}{(}\\PY{p}{)}\\PY{p}{)}\\PY{p}{]}\\PY{p}{)}\n\n\\PY{n}{count\\PYZus{}pre} \\PY{o}{=} \\PY{n}{Pipeline}\\PY{p}{(}\\PY{p}{[}\n    \\PY{p}{(}\\PY{l+s+s2}{\\PYZdq{}}\\PY{l+s+s2}{num\\PYZus{}impute}\\PY{l+s+s2}{\\PYZdq{}}\\PY{p}{,} \\PY{n}{SimpleImputer}\\PY{p}{(}\\PY{n}{strategy}\\PY{o}{=}\\PY{l+s+s2}{\\PYZdq{}}\\PY{l+s+s2}{median}\\PY{l+s+s2}{\\PYZdq{}}\\PY{p}{)}\\PY{p}{)}\\PY{p}{,}\n    \\PY{p}{(}\\PY{l+s+s2}{\\PYZdq{}}\\PY{l+s+s2}{num\\PYZus{}add}\\PY{l+s+s2}{\\PYZdq{}}\\PY{p}{,} \\PY{n}{CombinedAttributesAdder}\\PY{p}{(}\\PY{l+m+mi}{0}\\PY{p}{,}\\PY{l+m+mi}{1}\\PY{p}{,}\\PY{l+m+mi}{2}\\PY{p}{,}\\PY{l+m+mi}{3}\\PY{p}{,} \\PY{n}{drop\\PYZus{}indiv}\\PY{o}{=}\\PY{k+kc}{True}\\PY{p}{)}\\PY{p}{)}\\PY{p}{,}\n    \\PY{p}{(}\\PY{l+s+s2}{\\PYZdq{}}\\PY{l+s+s2}{num\\PYZus{}transform}\\PY{l+s+s2}{\\PYZdq{}}\\PY{p}{,} \\PY{n}{boxtransformer}\\PY{p}{)}\\PY{p}{,}\n    \\PY{p}{(}\\PY{l+s+s2}{\\PYZdq{}}\\PY{l+s+s2}{num\\PYZus{}scale}\\PY{l+s+s2}{\\PYZdq{}}\\PY{p}{,} \\PY{n}{StandardScaler}\\PY{p}{(}\\PY{p}{)}\\PY{p}{)}\\PY{p}{]}\\PY{p}{)}\n\n\\PY{n}{cat\\PYZus{}pre} \\PY{o}{=} \\PY{n}{Pipeline}\\PY{p}{(}\\PY{p}{[}\n    \\PY{p}{(}\\PY{l+s+s2}{\\PYZdq{}}\\PY{l+s+s2}{cat\\PYZus{}impute}\\PY{l+s+s2}{\\PYZdq{}}\\PY{p}{,} \\PY{n}{SimpleImputer}\\PY{p}{(}\\PY{n}{strategy}\\PY{o}{=}\\PY{l+s+s2}{\\PYZdq{}}\\PY{l+s+s2}{constant}\\PY{l+s+s2}{\\PYZdq{}}\\PY{p}{)}\\PY{p}{)}\\PY{p}{,}\n    \\PY{p}{(}\\PY{l+s+s2}{\\PYZdq{}}\\PY{l+s+s2}{cat\\PYZus{}encode}\\PY{l+s+s2}{\\PYZdq{}}\\PY{p}{,} \\PY{n}{OneHotEncoder}\\PY{p}{(}\\PY{p}{)}\\PY{p}{)}\\PY{p}{]}\\PY{p}{)}\n\n\\PY{n}{reg\\PYZus{}pipe\\PYZus{}2} \\PY{o}{=} \\PY{n}{Pipeline}\\PY{p}{(}\\PY{p}{[}\n    \\PY{p}{(}\\PY{l+s+s2}{\\PYZdq{}}\\PY{l+s+s2}{pre\\PYZus{}processing}\\PY{l+s+s2}{\\PYZdq{}}\\PY{p}{,} \\PY{n}{ColumnTransformer}\\PY{p}{(}\\PY{p}{[}\n        \\PY{p}{(}\\PY{l+s+s2}{\\PYZdq{}}\\PY{l+s+s2}{num\\PYZus{}pre}\\PY{l+s+s2}{\\PYZdq{}}\\PY{p}{,} \\PY{n}{num\\PYZus{}pre}\\PY{p}{,} \\PY{p}{[}\\PY{l+m+mi}{0}\\PY{p}{,}\\PY{l+m+mi}{1}\\PY{p}{,}\\PY{l+m+mi}{2}\\PY{p}{,}\\PY{l+m+mi}{7}\\PY{p}{]}\\PY{p}{)}\\PY{p}{,}\n        \\PY{p}{(}\\PY{l+s+s2}{\\PYZdq{}}\\PY{l+s+s2}{count\\PYZus{}pre}\\PY{l+s+s2}{\\PYZdq{}}\\PY{p}{,} \\PY{n}{count\\PYZus{}pre}\\PY{p}{,} \\PY{p}{[}\\PY{l+m+mi}{3}\\PY{p}{,}\\PY{l+m+mi}{4}\\PY{p}{,}\\PY{l+m+mi}{5}\\PY{p}{,}\\PY{l+m+mi}{6}\\PY{p}{]}\\PY{p}{)}\\PY{p}{,}\n        \\PY{p}{(}\\PY{l+s+s2}{\\PYZdq{}}\\PY{l+s+s2}{cat\\PYZus{}pre}\\PY{l+s+s2}{\\PYZdq{}}\\PY{p}{,} \\PY{n}{cat\\PYZus{}pre}\\PY{p}{,} \\PY{p}{[}\\PY{l+m+mi}{8}\\PY{p}{]}\\PY{p}{)}\\PY{p}{]}\\PY{p}{)}\\PY{p}{)}\\PY{p}{,}\n    \\PY{p}{(}\\PY{l+s+s2}{\\PYZdq{}}\\PY{l+s+s2}{model}\\PY{l+s+s2}{\\PYZdq{}}\\PY{p}{,} \\PY{n}{LinearRegression}\\PY{p}{(}\\PY{p}{)}\\PY{p}{)}\n\\PY{p}{]}\\PY{p}{)}\n\n\\PY{n}{display}\\PY{p}{(}\\PY{n}{reg\\PYZus{}pipe\\PYZus{}2}\\PY{p}{)}\n\n\\PY{n}{scores} \\PY{o}{=} \\PY{n}{cross\\PYZus{}validate}\\PY{p}{(}\\PY{n}{reg\\PYZus{}pipe\\PYZus{}2}\\PY{p}{,} \\PY{n}{X\\PYZus{}train}\\PY{p}{,} \\PY{n}{y\\PYZus{}train}\\PY{p}{,} \\PY{n}{cv}\\PY{o}{=}\\PY{l+m+mi}{5}\\PY{p}{,} \\PY{n}{return\\PYZus{}train\\PYZus{}score}\\PY{o}{=}\\PY{k+kc}{True}\\PY{p}{)}\n\\PY{n}{display}\\PY{p}{(}\\PY{n}{tidy\\PYZus{}scores}\\PY{p}{(}\\PY{n}{scores}\\PY{p}{)}\\PY{p}{)}\n\n\\PY{c+c1}{\\PYZsh{} Reg Pipe 3}\n\\PY{n}{count\\PYZus{}pre} \\PY{o}{=} \\PY{n}{Pipeline}\\PY{p}{(}\\PY{p}{[}\n    \\PY{p}{(}\\PY{l+s+s2}{\\PYZdq{}}\\PY{l+s+s2}{num\\PYZus{}add}\\PY{l+s+s2}{\\PYZdq{}}\\PY{p}{,} \\PY{n}{CombinedAttributesAdder}\\PY{p}{(}\\PY{l+m+mi}{0}\\PY{p}{,}\\PY{l+m+mi}{1}\\PY{p}{,}\\PY{l+m+mi}{2}\\PY{p}{,}\\PY{l+m+mi}{3}\\PY{p}{,} \\PY{n}{drop\\PYZus{}indiv}\\PY{o}{=}\\PY{k+kc}{True}\\PY{p}{)}\\PY{p}{)}\\PY{p}{,}\n    \\PY{p}{(}\\PY{l+s+s2}{\\PYZdq{}}\\PY{l+s+s2}{num\\PYZus{}transform}\\PY{l+s+s2}{\\PYZdq{}}\\PY{p}{,} \\PY{n}{boxtransformer}\\PY{p}{)}\\PY{p}{]}\\PY{p}{)}\n\n\\PY{n}{num\\PYZus{}pre} \\PY{o}{=} \\PY{n}{Pipeline}\\PY{p}{(}\\PY{p}{[}\n    \\PY{p}{(}\\PY{l+s+s2}{\\PYZdq{}}\\PY{l+s+s2}{num\\PYZus{}impute}\\PY{l+s+s2}{\\PYZdq{}}\\PY{p}{,} \\PY{n}{SimpleImputer}\\PY{p}{(}\\PY{n}{strategy}\\PY{o}{=}\\PY{l+s+s2}{\\PYZdq{}}\\PY{l+s+s2}{median}\\PY{l+s+s2}{\\PYZdq{}}\\PY{p}{)}\\PY{p}{)}\\PY{p}{,}\n    \\PY{p}{(}\\PY{l+s+s2}{\\PYZdq{}}\\PY{l+s+s2}{comb\\PYZus{}pipe}\\PY{l+s+s2}{\\PYZdq{}}\\PY{p}{,} \\PY{n}{ColumnTransformer}\\PY{p}{(}\\PY{p}{[}\\PY{p}{(}\\PY{l+s+s2}{\\PYZdq{}}\\PY{l+s+s2}{count\\PYZus{}pre}\\PY{l+s+s2}{\\PYZdq{}}\\PY{p}{,} \\PY{n}{count\\PYZus{}pre}\\PY{p}{,} \\PY{p}{[}\\PY{l+m+mi}{3}\\PY{p}{,}\\PY{l+m+mi}{4}\\PY{p}{,}\\PY{l+m+mi}{5}\\PY{p}{,}\\PY{l+m+mi}{6}\\PY{p}{]}\\PY{p}{)}\\PY{p}{]}\\PY{p}{,}\\PY{n}{remainder}\\PY{o}{=}\\PY{l+s+s2}{\\PYZdq{}}\\PY{l+s+s2}{passthrough}\\PY{l+s+s2}{\\PYZdq{}}\\PY{p}{)}\\PY{p}{)}\\PY{p}{,}\n    \\PY{p}{(}\\PY{l+s+s2}{\\PYZdq{}}\\PY{l+s+s2}{poly}\\PY{l+s+s2}{\\PYZdq{}}\\PY{p}{,} \\PY{n}{PolynomialFeatures}\\PY{p}{(}\\PY{n}{include\\PYZus{}bias}\\PY{o}{=}\\PY{k+kc}{False}\\PY{p}{)}\\PY{p}{)}\\PY{p}{,}\n    \\PY{p}{(}\\PY{l+s+s2}{\\PYZdq{}}\\PY{l+s+s2}{num\\PYZus{}scale}\\PY{l+s+s2}{\\PYZdq{}}\\PY{p}{,} \\PY{n}{StandardScaler}\\PY{p}{(}\\PY{p}{)}\\PY{p}{)}\n\\PY{p}{]}\\PY{p}{)}\n\n\\PY{n}{cat\\PYZus{}pre} \\PY{o}{=} \\PY{n}{Pipeline}\\PY{p}{(}\\PY{p}{[}\n    \\PY{p}{(}\\PY{l+s+s2}{\\PYZdq{}}\\PY{l+s+s2}{cat\\PYZus{}impute}\\PY{l+s+s2}{\\PYZdq{}}\\PY{p}{,} \\PY{n}{SimpleImputer}\\PY{p}{(}\\PY{n}{strategy}\\PY{o}{=}\\PY{l+s+s2}{\\PYZdq{}}\\PY{l+s+s2}{constant}\\PY{l+s+s2}{\\PYZdq{}}\\PY{p}{)}\\PY{p}{)}\\PY{p}{,}\n    \\PY{p}{(}\\PY{l+s+s2}{\\PYZdq{}}\\PY{l+s+s2}{cat\\PYZus{}encode}\\PY{l+s+s2}{\\PYZdq{}}\\PY{p}{,} \\PY{n}{OneHotEncoder}\\PY{p}{(}\\PY{p}{)}\\PY{p}{)}\\PY{p}{]}\\PY{p}{)}\n\n\\PY{n}{reg\\PYZus{}pipe\\PYZus{}3} \\PY{o}{=} \\PY{n}{Pipeline}\\PY{p}{(}\\PY{p}{[}\n    \\PY{p}{(}\\PY{l+s+s2}{\\PYZdq{}}\\PY{l+s+s2}{pre\\PYZus{}processing}\\PY{l+s+s2}{\\PYZdq{}}\\PY{p}{,} \\PY{n}{ColumnTransformer}\\PY{p}{(}\\PY{p}{[}\n        \\PY{p}{(}\\PY{l+s+s2}{\\PYZdq{}}\\PY{l+s+s2}{comb\\PYZus{}pre}\\PY{l+s+s2}{\\PYZdq{}}\\PY{p}{,} \\PY{n}{num\\PYZus{}pre}\\PY{p}{,} \\PY{p}{[}\\PY{l+m+mi}{0}\\PY{p}{,}\\PY{l+m+mi}{1}\\PY{p}{,}\\PY{l+m+mi}{2}\\PY{p}{,}\\PY{l+m+mi}{3}\\PY{p}{,}\\PY{l+m+mi}{4}\\PY{p}{,}\\PY{l+m+mi}{5}\\PY{p}{,}\\PY{l+m+mi}{6}\\PY{p}{,}\\PY{l+m+mi}{7}\\PY{p}{]}\\PY{p}{)}\\PY{p}{,}\n        \\PY{p}{(}\\PY{l+s+s2}{\\PYZdq{}}\\PY{l+s+s2}{cat\\PYZus{}pre}\\PY{l+s+s2}{\\PYZdq{}}\\PY{p}{,} \\PY{n}{cat\\PYZus{}pre}\\PY{p}{,} \\PY{p}{[}\\PY{l+m+mi}{8}\\PY{p}{]}\\PY{p}{)}\\PY{p}{]}\\PY{p}{)}\\PY{p}{)}\\PY{p}{,}\n    \\PY{p}{(}\\PY{l+s+s2}{\\PYZdq{}}\\PY{l+s+s2}{model}\\PY{l+s+s2}{\\PYZdq{}}\\PY{p}{,} \\PY{n}{LinearRegression}\\PY{p}{(}\\PY{p}{)}\\PY{p}{)}\n\\PY{p}{]}\\PY{p}{)}\n\n\\PY{n}{display}\\PY{p}{(}\\PY{n}{reg\\PYZus{}pipe\\PYZus{}3}\\PY{p}{)}\n\n\\PY{n}{scores} \\PY{o}{=} \\PY{n}{cross\\PYZus{}validate}\\PY{p}{(}\\PY{n}{reg\\PYZus{}pipe\\PYZus{}3}\\PY{p}{,} \\PY{n}{X\\PYZus{}train}\\PY{p}{,} \\PY{n}{y\\PYZus{}train}\\PY{p}{,} \\PY{n}{cv}\\PY{o}{=}\\PY{l+m+mi}{5}\\PY{p}{,} \\PY{n}{return\\PYZus{}train\\PYZus{}score}\\PY{o}{=}\\PY{k+kc}{True}\\PY{p}{)}\n\\PY{n}{display}\\PY{p}{(}\\PY{n}{tidy\\PYZus{}scores}\\PY{p}{(}\\PY{n}{scores}\\PY{p}{)}\\PY{p}{)}\n\\end{Verbatim}\n",
         "text/plain": "# NOTE: To get this answer to work you'll need to run some of the\n# functions I created to answer some earlier questions.\n\n# Reg Pipe 2\nnum_pre = Pipeline([\n    (\"num_impute\", SimpleImputer(strategy=\"median\")),\n    (\"num_scale\", StandardScaler())])\n\ncount_pre = Pipeline([\n    (\"num_impute\", SimpleImputer(strategy=\"median\")),\n    (\"num_add\", CombinedAttributesAdder(0,1,2,3, drop_indiv=True)),\n    (\"num_transform\", boxtransformer),\n    (\"num_scale\", StandardScaler())])\n\ncat_pre = Pipeline([\n    (\"cat_impute\", SimpleImputer(strategy=\"constant\")),\n    (\"cat_encode\", OneHotEncoder())])\n\nreg_pipe_2 = Pipeline([\n    (\"pre_processing\", ColumnTransformer([\n        (\"num_pre\", num_pre, [0,1,2,7]),\n        (\"count_pre\", count_pre, [3,4,5,6]),\n        (\"cat_pre\", cat_pre, [8])])),\n    (\"model\", LinearRegression())\n])\n\ndisplay(reg_pipe_2)\n\nscores = cross_validate(reg_pipe_2, X_train, y_train, cv=5, return_train_score=True)\ndisplay(tidy_scores(scores))\n\n# Reg Pipe 3\ncount_pre = Pipeline([\n    (\"num_add\", CombinedAttributesAdder(0,1,2,3, drop_indiv=True)),\n    (\"num_transform\", boxtransformer)])\n\nnum_pre = Pipeline([\n    (\"num_impute\", SimpleImputer(strategy=\"median\")),\n    (\"comb_pipe\", ColumnTransformer([(\"count_pre\", count_pre, [3,4,5,6])],remainder=\"passthrough\")),\n    (\"poly\", PolynomialFeatures(include_bias=False)),\n    (\"num_scale\", StandardScaler())\n])\n\ncat_pre = Pipeline([\n    (\"cat_impute\", SimpleImputer(strategy=\"constant\")),\n    (\"cat_encode\", OneHotEncoder())])\n\nreg_pipe_3 = Pipeline([\n    (\"pre_processing\", ColumnTransformer([\n        (\"comb_pre\", num_pre, [0,1,2,3,4,5,6,7]),\n        (\"cat_pre\", cat_pre, [8])])),\n    (\"model\", LinearRegression())\n])\n\ndisplay(reg_pipe_3)\n\nscores = cross_validate(reg_pipe_3, X_train, y_train, cv=5, return_train_score=True)\ndisplay(tidy_scores(scores))"
        },
        "metadata": {},
        "output_type": "display_data"
       }
      ]
     }
    },
    "09f4d1c554554e27b6bd2661e55b984f": {
     "model_module": "@jupyter-widgets/output",
     "model_module_version": "1.0.0",
     "model_name": "OutputModel",
     "state": {
      "_dom_classes": [],
      "_model_module": "@jupyter-widgets/output",
      "_model_module_version": "1.0.0",
      "_model_name": "OutputModel",
      "_view_count": null,
      "_view_module": "@jupyter-widgets/output",
      "_view_module_version": "1.0.0",
      "_view_name": "OutputView",
      "layout": "IPY_MODEL_37c0cf7d29ac466695d26f439efb0efe",
      "msg_id": "",
      "outputs": [
       {
        "data": {
         "text/html": "<style>.output_html .hll { background-color: #ffffcc }\n.output_html  { background: #f8f8f8; }\n.output_html .c { color: #408080; font-style: italic } /* Comment */\n.output_html .err { border: 1px solid #FF0000 } /* Error */\n.output_html .k { color: #008000; font-weight: bold } /* Keyword */\n.output_html .o { color: #666666 } /* Operator */\n.output_html .ch { color: #408080; font-style: italic } /* Comment.Hashbang */\n.output_html .cm { color: #408080; font-style: italic } /* Comment.Multiline */\n.output_html .cp { color: #BC7A00 } /* Comment.Preproc */\n.output_html .cpf { color: #408080; font-style: italic } /* Comment.PreprocFile */\n.output_html .c1 { color: #408080; font-style: italic } /* Comment.Single */\n.output_html .cs { color: #408080; font-style: italic } /* Comment.Special */\n.output_html .gd { color: #A00000 } /* Generic.Deleted */\n.output_html .ge { font-style: italic } /* Generic.Emph */\n.output_html .gr { color: #FF0000 } /* Generic.Error */\n.output_html .gh { color: #000080; font-weight: bold } /* Generic.Heading */\n.output_html .gi { color: #00A000 } /* Generic.Inserted */\n.output_html .go { color: #888888 } /* Generic.Output */\n.output_html .gp { color: #000080; font-weight: bold } /* Generic.Prompt */\n.output_html .gs { font-weight: bold } /* Generic.Strong */\n.output_html .gu { color: #800080; font-weight: bold } /* Generic.Subheading */\n.output_html .gt { color: #0044DD } /* Generic.Traceback */\n.output_html .kc { color: #008000; font-weight: bold } /* Keyword.Constant */\n.output_html .kd { color: #008000; font-weight: bold } /* Keyword.Declaration */\n.output_html .kn { color: #008000; font-weight: bold } /* Keyword.Namespace */\n.output_html .kp { color: #008000 } /* Keyword.Pseudo */\n.output_html .kr { color: #008000; font-weight: bold } /* Keyword.Reserved */\n.output_html .kt { color: #B00040 } /* Keyword.Type */\n.output_html .m { color: #666666 } /* Literal.Number */\n.output_html .s { color: #BA2121 } /* Literal.String */\n.output_html .na { color: #7D9029 } /* Name.Attribute */\n.output_html .nb { color: #008000 } /* Name.Builtin */\n.output_html .nc { color: #0000FF; font-weight: bold } /* Name.Class */\n.output_html .no { color: #880000 } /* Name.Constant */\n.output_html .nd { color: #AA22FF } /* Name.Decorator */\n.output_html .ni { color: #999999; font-weight: bold } /* Name.Entity */\n.output_html .ne { color: #D2413A; font-weight: bold } /* Name.Exception */\n.output_html .nf { color: #0000FF } /* Name.Function */\n.output_html .nl { color: #A0A000 } /* Name.Label */\n.output_html .nn { color: #0000FF; font-weight: bold } /* Name.Namespace */\n.output_html .nt { color: #008000; font-weight: bold } /* Name.Tag */\n.output_html .nv { color: #19177C } /* Name.Variable */\n.output_html .ow { color: #AA22FF; font-weight: bold } /* Operator.Word */\n.output_html .w { color: #bbbbbb } /* Text.Whitespace */\n.output_html .mb { color: #666666 } /* Literal.Number.Bin */\n.output_html .mf { color: #666666 } /* Literal.Number.Float */\n.output_html .mh { color: #666666 } /* Literal.Number.Hex */\n.output_html .mi { color: #666666 } /* Literal.Number.Integer */\n.output_html .mo { color: #666666 } /* Literal.Number.Oct */\n.output_html .sa { color: #BA2121 } /* Literal.String.Affix */\n.output_html .sb { color: #BA2121 } /* Literal.String.Backtick */\n.output_html .sc { color: #BA2121 } /* Literal.String.Char */\n.output_html .dl { color: #BA2121 } /* Literal.String.Delimiter */\n.output_html .sd { color: #BA2121; font-style: italic } /* Literal.String.Doc */\n.output_html .s2 { color: #BA2121 } /* Literal.String.Double */\n.output_html .se { color: #BB6622; font-weight: bold } /* Literal.String.Escape */\n.output_html .sh { color: #BA2121 } /* Literal.String.Heredoc */\n.output_html .si { color: #BB6688; font-weight: bold } /* Literal.String.Interpol */\n.output_html .sx { color: #008000 } /* Literal.String.Other */\n.output_html .sr { color: #BB6688 } /* Literal.String.Regex */\n.output_html .s1 { color: #BA2121 } /* Literal.String.Single */\n.output_html .ss { color: #19177C } /* Literal.String.Symbol */\n.output_html .bp { color: #008000 } /* Name.Builtin.Pseudo */\n.output_html .fm { color: #0000FF } /* Name.Function.Magic */\n.output_html .vc { color: #19177C } /* Name.Variable.Class */\n.output_html .vg { color: #19177C } /* Name.Variable.Global */\n.output_html .vi { color: #19177C } /* Name.Variable.Instance */\n.output_html .vm { color: #19177C } /* Name.Variable.Magic */\n.output_html .il { color: #666666 } /* Literal.Number.Integer.Long */</style><div class=\"highlight\"><pre><span></span><span class=\"k\">def</span> <span class=\"nf\">create_features</span><span class=\"p\">(</span><span class=\"n\">X</span><span class=\"p\">,</span> <span class=\"n\">rooms_ix</span><span class=\"p\">,</span> <span class=\"n\">bedrooms_ix</span><span class=\"p\">,</span> <span class=\"n\">population_ix</span><span class=\"p\">,</span> <span class=\"n\">households_ix</span><span class=\"p\">,</span> \n                    <span class=\"n\">add_rph</span><span class=\"o\">=</span><span class=\"kc\">True</span><span class=\"p\">,</span> <span class=\"n\">add_pph</span><span class=\"o\">=</span><span class=\"kc\">True</span><span class=\"p\">,</span> <span class=\"n\">add_bpr</span><span class=\"o\">=</span><span class=\"kc\">True</span><span class=\"p\">,</span> <span class=\"n\">drop_indiv</span><span class=\"o\">=</span><span class=\"kc\">False</span><span class=\"p\">):</span>\n    <span class=\"n\">X_</span> <span class=\"o\">=</span> <span class=\"n\">X</span><span class=\"o\">.</span><span class=\"n\">copy</span><span class=\"p\">()</span>\n    <span class=\"n\">to_add</span> <span class=\"o\">=</span> <span class=\"p\">[]</span>\n    \n    <span class=\"k\">if</span> <span class=\"n\">add_rph</span><span class=\"p\">:</span>\n        <span class=\"n\">rooms_per_household</span> <span class=\"o\">=</span> <span class=\"n\">X_</span><span class=\"p\">[:,</span> <span class=\"n\">rooms_ix</span><span class=\"p\">]</span> <span class=\"o\">/</span> <span class=\"n\">X_</span><span class=\"p\">[:,</span> <span class=\"n\">households_ix</span><span class=\"p\">]</span>\n        <span class=\"n\">to_add</span><span class=\"o\">.</span><span class=\"n\">append</span><span class=\"p\">(</span><span class=\"n\">rooms_per_household</span><span class=\"o\">.</span><span class=\"n\">reshape</span><span class=\"p\">(</span><span class=\"o\">-</span><span class=\"mi\">1</span><span class=\"p\">,</span><span class=\"mi\">1</span><span class=\"p\">))</span>\n    \n    <span class=\"k\">if</span> <span class=\"n\">add_pph</span><span class=\"p\">:</span>\n        <span class=\"n\">population_per_household</span> <span class=\"o\">=</span> <span class=\"n\">X_</span><span class=\"p\">[:,</span> <span class=\"n\">population_ix</span><span class=\"p\">]</span> <span class=\"o\">/</span> <span class=\"n\">X_</span><span class=\"p\">[:,</span> <span class=\"n\">households_ix</span><span class=\"p\">]</span>\n        <span class=\"n\">to_add</span><span class=\"o\">.</span><span class=\"n\">append</span><span class=\"p\">(</span><span class=\"n\">population_per_household</span><span class=\"o\">.</span><span class=\"n\">reshape</span><span class=\"p\">(</span><span class=\"o\">-</span><span class=\"mi\">1</span><span class=\"p\">,</span><span class=\"mi\">1</span><span class=\"p\">))</span>\n        \n    <span class=\"k\">if</span> <span class=\"n\">add_bpr</span><span class=\"p\">:</span>\n        <span class=\"n\">bedrooms_per_room</span> <span class=\"o\">=</span> <span class=\"n\">X_</span><span class=\"p\">[:,</span> <span class=\"n\">bedrooms_ix</span><span class=\"p\">]</span> <span class=\"o\">/</span> <span class=\"n\">X_</span><span class=\"p\">[:,</span> <span class=\"n\">rooms_ix</span><span class=\"p\">]</span>\n        <span class=\"n\">to_add</span><span class=\"o\">.</span><span class=\"n\">append</span><span class=\"p\">(</span><span class=\"n\">bedrooms_per_room</span><span class=\"o\">.</span><span class=\"n\">reshape</span><span class=\"p\">(</span><span class=\"o\">-</span><span class=\"mi\">1</span><span class=\"p\">,</span><span class=\"mi\">1</span><span class=\"p\">))</span>\n        \n    <span class=\"k\">if</span> <span class=\"n\">drop_indiv</span><span class=\"p\">:</span>\n        <span class=\"n\">X_</span> <span class=\"o\">=</span> <span class=\"n\">np</span><span class=\"o\">.</span><span class=\"n\">delete</span><span class=\"p\">(</span><span class=\"n\">X_</span><span class=\"p\">,</span> <span class=\"p\">[</span><span class=\"n\">rooms_ix</span><span class=\"p\">,</span> <span class=\"n\">bedrooms_ix</span><span class=\"p\">,</span> <span class=\"n\">population_ix</span><span class=\"p\">,</span> <span class=\"n\">households_ix</span><span class=\"p\">],</span> <span class=\"n\">axis</span><span class=\"o\">=</span><span class=\"mi\">1</span><span class=\"p\">)</span>\n        \n    <span class=\"n\">to_add</span><span class=\"o\">.</span><span class=\"n\">append</span><span class=\"p\">(</span><span class=\"n\">X_</span><span class=\"p\">)</span>\n    \n    <span class=\"k\">return</span> <span class=\"n\">np</span><span class=\"o\">.</span><span class=\"n\">hstack</span><span class=\"p\">(</span><span class=\"n\">to_add</span><span class=\"p\">)</span>\n\n<span class=\"n\">col_names</span> <span class=\"o\">=</span> <span class=\"s2\">&quot;total_rooms&quot;</span><span class=\"p\">,</span> <span class=\"s2\">&quot;total_bedrooms&quot;</span><span class=\"p\">,</span> <span class=\"s2\">&quot;population&quot;</span><span class=\"p\">,</span> <span class=\"s2\">&quot;households&quot;</span>\n<span class=\"n\">rooms_ix</span><span class=\"p\">,</span> <span class=\"n\">bedrooms_ix</span><span class=\"p\">,</span> <span class=\"n\">population_ix</span><span class=\"p\">,</span> <span class=\"n\">households_ix</span> <span class=\"o\">=</span> <span class=\"p\">[</span>\n    <span class=\"n\">explore_set</span><span class=\"o\">.</span><span class=\"n\">columns</span><span class=\"o\">.</span><span class=\"n\">get_loc</span><span class=\"p\">(</span><span class=\"n\">c</span><span class=\"p\">)</span> <span class=\"k\">for</span> <span class=\"n\">c</span> <span class=\"ow\">in</span> <span class=\"n\">col_names</span><span class=\"p\">]</span> \n\n<span class=\"n\">new_features</span> <span class=\"o\">=</span> <span class=\"n\">create_features</span><span class=\"p\">(</span><span class=\"n\">X_train</span><span class=\"p\">,</span> <span class=\"n\">rooms_ix</span><span class=\"p\">,</span> <span class=\"n\">bedrooms_ix</span><span class=\"p\">,</span> <span class=\"n\">population_ix</span><span class=\"p\">,</span> <span class=\"n\">households_ix</span><span class=\"p\">)</span>\n</pre></div>\n",
         "text/latex": "\\begin{Verbatim}[commandchars=\\\\\\{\\}]\n\\PY{k}{def} \\PY{n+nf}{create\\PYZus{}features}\\PY{p}{(}\\PY{n}{X}\\PY{p}{,} \\PY{n}{rooms\\PYZus{}ix}\\PY{p}{,} \\PY{n}{bedrooms\\PYZus{}ix}\\PY{p}{,} \\PY{n}{population\\PYZus{}ix}\\PY{p}{,} \\PY{n}{households\\PYZus{}ix}\\PY{p}{,} \n                    \\PY{n}{add\\PYZus{}rph}\\PY{o}{=}\\PY{k+kc}{True}\\PY{p}{,} \\PY{n}{add\\PYZus{}pph}\\PY{o}{=}\\PY{k+kc}{True}\\PY{p}{,} \\PY{n}{add\\PYZus{}bpr}\\PY{o}{=}\\PY{k+kc}{True}\\PY{p}{,} \\PY{n}{drop\\PYZus{}indiv}\\PY{o}{=}\\PY{k+kc}{False}\\PY{p}{)}\\PY{p}{:}\n    \\PY{n}{X\\PYZus{}} \\PY{o}{=} \\PY{n}{X}\\PY{o}{.}\\PY{n}{copy}\\PY{p}{(}\\PY{p}{)}\n    \\PY{n}{to\\PYZus{}add} \\PY{o}{=} \\PY{p}{[}\\PY{p}{]}\n    \n    \\PY{k}{if} \\PY{n}{add\\PYZus{}rph}\\PY{p}{:}\n        \\PY{n}{rooms\\PYZus{}per\\PYZus{}household} \\PY{o}{=} \\PY{n}{X\\PYZus{}}\\PY{p}{[}\\PY{p}{:}\\PY{p}{,} \\PY{n}{rooms\\PYZus{}ix}\\PY{p}{]} \\PY{o}{/} \\PY{n}{X\\PYZus{}}\\PY{p}{[}\\PY{p}{:}\\PY{p}{,} \\PY{n}{households\\PYZus{}ix}\\PY{p}{]}\n        \\PY{n}{to\\PYZus{}add}\\PY{o}{.}\\PY{n}{append}\\PY{p}{(}\\PY{n}{rooms\\PYZus{}per\\PYZus{}household}\\PY{o}{.}\\PY{n}{reshape}\\PY{p}{(}\\PY{o}{\\PYZhy{}}\\PY{l+m+mi}{1}\\PY{p}{,}\\PY{l+m+mi}{1}\\PY{p}{)}\\PY{p}{)}\n    \n    \\PY{k}{if} \\PY{n}{add\\PYZus{}pph}\\PY{p}{:}\n        \\PY{n}{population\\PYZus{}per\\PYZus{}household} \\PY{o}{=} \\PY{n}{X\\PYZus{}}\\PY{p}{[}\\PY{p}{:}\\PY{p}{,} \\PY{n}{population\\PYZus{}ix}\\PY{p}{]} \\PY{o}{/} \\PY{n}{X\\PYZus{}}\\PY{p}{[}\\PY{p}{:}\\PY{p}{,} \\PY{n}{households\\PYZus{}ix}\\PY{p}{]}\n        \\PY{n}{to\\PYZus{}add}\\PY{o}{.}\\PY{n}{append}\\PY{p}{(}\\PY{n}{population\\PYZus{}per\\PYZus{}household}\\PY{o}{.}\\PY{n}{reshape}\\PY{p}{(}\\PY{o}{\\PYZhy{}}\\PY{l+m+mi}{1}\\PY{p}{,}\\PY{l+m+mi}{1}\\PY{p}{)}\\PY{p}{)}\n        \n    \\PY{k}{if} \\PY{n}{add\\PYZus{}bpr}\\PY{p}{:}\n        \\PY{n}{bedrooms\\PYZus{}per\\PYZus{}room} \\PY{o}{=} \\PY{n}{X\\PYZus{}}\\PY{p}{[}\\PY{p}{:}\\PY{p}{,} \\PY{n}{bedrooms\\PYZus{}ix}\\PY{p}{]} \\PY{o}{/} \\PY{n}{X\\PYZus{}}\\PY{p}{[}\\PY{p}{:}\\PY{p}{,} \\PY{n}{rooms\\PYZus{}ix}\\PY{p}{]}\n        \\PY{n}{to\\PYZus{}add}\\PY{o}{.}\\PY{n}{append}\\PY{p}{(}\\PY{n}{bedrooms\\PYZus{}per\\PYZus{}room}\\PY{o}{.}\\PY{n}{reshape}\\PY{p}{(}\\PY{o}{\\PYZhy{}}\\PY{l+m+mi}{1}\\PY{p}{,}\\PY{l+m+mi}{1}\\PY{p}{)}\\PY{p}{)}\n        \n    \\PY{k}{if} \\PY{n}{drop\\PYZus{}indiv}\\PY{p}{:}\n        \\PY{n}{X\\PYZus{}} \\PY{o}{=} \\PY{n}{np}\\PY{o}{.}\\PY{n}{delete}\\PY{p}{(}\\PY{n}{X\\PYZus{}}\\PY{p}{,} \\PY{p}{[}\\PY{n}{rooms\\PYZus{}ix}\\PY{p}{,} \\PY{n}{bedrooms\\PYZus{}ix}\\PY{p}{,} \\PY{n}{population\\PYZus{}ix}\\PY{p}{,} \\PY{n}{households\\PYZus{}ix}\\PY{p}{]}\\PY{p}{,} \\PY{n}{axis}\\PY{o}{=}\\PY{l+m+mi}{1}\\PY{p}{)}\n        \n    \\PY{n}{to\\PYZus{}add}\\PY{o}{.}\\PY{n}{append}\\PY{p}{(}\\PY{n}{X\\PYZus{}}\\PY{p}{)}\n    \n    \\PY{k}{return} \\PY{n}{np}\\PY{o}{.}\\PY{n}{hstack}\\PY{p}{(}\\PY{n}{to\\PYZus{}add}\\PY{p}{)}\n\n\\PY{n}{col\\PYZus{}names} \\PY{o}{=} \\PY{l+s+s2}{\\PYZdq{}}\\PY{l+s+s2}{total\\PYZus{}rooms}\\PY{l+s+s2}{\\PYZdq{}}\\PY{p}{,} \\PY{l+s+s2}{\\PYZdq{}}\\PY{l+s+s2}{total\\PYZus{}bedrooms}\\PY{l+s+s2}{\\PYZdq{}}\\PY{p}{,} \\PY{l+s+s2}{\\PYZdq{}}\\PY{l+s+s2}{population}\\PY{l+s+s2}{\\PYZdq{}}\\PY{p}{,} \\PY{l+s+s2}{\\PYZdq{}}\\PY{l+s+s2}{households}\\PY{l+s+s2}{\\PYZdq{}}\n\\PY{n}{rooms\\PYZus{}ix}\\PY{p}{,} \\PY{n}{bedrooms\\PYZus{}ix}\\PY{p}{,} \\PY{n}{population\\PYZus{}ix}\\PY{p}{,} \\PY{n}{households\\PYZus{}ix} \\PY{o}{=} \\PY{p}{[}\n    \\PY{n}{explore\\PYZus{}set}\\PY{o}{.}\\PY{n}{columns}\\PY{o}{.}\\PY{n}{get\\PYZus{}loc}\\PY{p}{(}\\PY{n}{c}\\PY{p}{)} \\PY{k}{for} \\PY{n}{c} \\PY{o+ow}{in} \\PY{n}{col\\PYZus{}names}\\PY{p}{]} \n\n\\PY{n}{new\\PYZus{}features} \\PY{o}{=} \\PY{n}{create\\PYZus{}features}\\PY{p}{(}\\PY{n}{X\\PYZus{}train}\\PY{p}{,} \\PY{n}{rooms\\PYZus{}ix}\\PY{p}{,} \\PY{n}{bedrooms\\PYZus{}ix}\\PY{p}{,} \\PY{n}{population\\PYZus{}ix}\\PY{p}{,} \\PY{n}{households\\PYZus{}ix}\\PY{p}{)}\n\\end{Verbatim}\n",
         "text/plain": "def create_features(X, rooms_ix, bedrooms_ix, population_ix, households_ix, \n                    add_rph=True, add_pph=True, add_bpr=True, drop_indiv=False):\n    X_ = X.copy()\n    to_add = []\n    \n    if add_rph:\n        rooms_per_household = X_[:, rooms_ix] / X_[:, households_ix]\n        to_add.append(rooms_per_household.reshape(-1,1))\n    \n    if add_pph:\n        population_per_household = X_[:, population_ix] / X_[:, households_ix]\n        to_add.append(population_per_household.reshape(-1,1))\n        \n    if add_bpr:\n        bedrooms_per_room = X_[:, bedrooms_ix] / X_[:, rooms_ix]\n        to_add.append(bedrooms_per_room.reshape(-1,1))\n        \n    if drop_indiv:\n        X_ = np.delete(X_, [rooms_ix, bedrooms_ix, population_ix, households_ix], axis=1)\n        \n    to_add.append(X_)\n    \n    return np.hstack(to_add)\n\ncol_names = \"total_rooms\", \"total_bedrooms\", \"population\", \"households\"\nrooms_ix, bedrooms_ix, population_ix, households_ix = [\n    explore_set.columns.get_loc(c) for c in col_names] \n\nnew_features = create_features(X_train, rooms_ix, bedrooms_ix, population_ix, households_ix)"
        },
        "metadata": {},
        "output_type": "display_data"
       },
       {
        "data": {
         "text/markdown": "The above may be useful and meaningful, indeed some of these combinations are more correlated to the target than the features individually.\n",
         "text/plain": "<IPython.core.display.Markdown object>"
        },
        "metadata": {},
        "output_type": "display_data"
       },
       {
        "data": {
         "text/html": "<style>.output_html .hll { background-color: #ffffcc }\n.output_html  { background: #f8f8f8; }\n.output_html .c { color: #408080; font-style: italic } /* Comment */\n.output_html .err { border: 1px solid #FF0000 } /* Error */\n.output_html .k { color: #008000; font-weight: bold } /* Keyword */\n.output_html .o { color: #666666 } /* Operator */\n.output_html .ch { color: #408080; font-style: italic } /* Comment.Hashbang */\n.output_html .cm { color: #408080; font-style: italic } /* Comment.Multiline */\n.output_html .cp { color: #BC7A00 } /* Comment.Preproc */\n.output_html .cpf { color: #408080; font-style: italic } /* Comment.PreprocFile */\n.output_html .c1 { color: #408080; font-style: italic } /* Comment.Single */\n.output_html .cs { color: #408080; font-style: italic } /* Comment.Special */\n.output_html .gd { color: #A00000 } /* Generic.Deleted */\n.output_html .ge { font-style: italic } /* Generic.Emph */\n.output_html .gr { color: #FF0000 } /* Generic.Error */\n.output_html .gh { color: #000080; font-weight: bold } /* Generic.Heading */\n.output_html .gi { color: #00A000 } /* Generic.Inserted */\n.output_html .go { color: #888888 } /* Generic.Output */\n.output_html .gp { color: #000080; font-weight: bold } /* Generic.Prompt */\n.output_html .gs { font-weight: bold } /* Generic.Strong */\n.output_html .gu { color: #800080; font-weight: bold } /* Generic.Subheading */\n.output_html .gt { color: #0044DD } /* Generic.Traceback */\n.output_html .kc { color: #008000; font-weight: bold } /* Keyword.Constant */\n.output_html .kd { color: #008000; font-weight: bold } /* Keyword.Declaration */\n.output_html .kn { color: #008000; font-weight: bold } /* Keyword.Namespace */\n.output_html .kp { color: #008000 } /* Keyword.Pseudo */\n.output_html .kr { color: #008000; font-weight: bold } /* Keyword.Reserved */\n.output_html .kt { color: #B00040 } /* Keyword.Type */\n.output_html .m { color: #666666 } /* Literal.Number */\n.output_html .s { color: #BA2121 } /* Literal.String */\n.output_html .na { color: #7D9029 } /* Name.Attribute */\n.output_html .nb { color: #008000 } /* Name.Builtin */\n.output_html .nc { color: #0000FF; font-weight: bold } /* Name.Class */\n.output_html .no { color: #880000 } /* Name.Constant */\n.output_html .nd { color: #AA22FF } /* Name.Decorator */\n.output_html .ni { color: #999999; font-weight: bold } /* Name.Entity */\n.output_html .ne { color: #D2413A; font-weight: bold } /* Name.Exception */\n.output_html .nf { color: #0000FF } /* Name.Function */\n.output_html .nl { color: #A0A000 } /* Name.Label */\n.output_html .nn { color: #0000FF; font-weight: bold } /* Name.Namespace */\n.output_html .nt { color: #008000; font-weight: bold } /* Name.Tag */\n.output_html .nv { color: #19177C } /* Name.Variable */\n.output_html .ow { color: #AA22FF; font-weight: bold } /* Operator.Word */\n.output_html .w { color: #bbbbbb } /* Text.Whitespace */\n.output_html .mb { color: #666666 } /* Literal.Number.Bin */\n.output_html .mf { color: #666666 } /* Literal.Number.Float */\n.output_html .mh { color: #666666 } /* Literal.Number.Hex */\n.output_html .mi { color: #666666 } /* Literal.Number.Integer */\n.output_html .mo { color: #666666 } /* Literal.Number.Oct */\n.output_html .sa { color: #BA2121 } /* Literal.String.Affix */\n.output_html .sb { color: #BA2121 } /* Literal.String.Backtick */\n.output_html .sc { color: #BA2121 } /* Literal.String.Char */\n.output_html .dl { color: #BA2121 } /* Literal.String.Delimiter */\n.output_html .sd { color: #BA2121; font-style: italic } /* Literal.String.Doc */\n.output_html .s2 { color: #BA2121 } /* Literal.String.Double */\n.output_html .se { color: #BB6622; font-weight: bold } /* Literal.String.Escape */\n.output_html .sh { color: #BA2121 } /* Literal.String.Heredoc */\n.output_html .si { color: #BB6688; font-weight: bold } /* Literal.String.Interpol */\n.output_html .sx { color: #008000 } /* Literal.String.Other */\n.output_html .sr { color: #BB6688 } /* Literal.String.Regex */\n.output_html .s1 { color: #BA2121 } /* Literal.String.Single */\n.output_html .ss { color: #19177C } /* Literal.String.Symbol */\n.output_html .bp { color: #008000 } /* Name.Builtin.Pseudo */\n.output_html .fm { color: #0000FF } /* Name.Function.Magic */\n.output_html .vc { color: #19177C } /* Name.Variable.Class */\n.output_html .vg { color: #19177C } /* Name.Variable.Global */\n.output_html .vi { color: #19177C } /* Name.Variable.Instance */\n.output_html .vm { color: #19177C } /* Name.Variable.Magic */\n.output_html .il { color: #666666 } /* Literal.Number.Integer.Long */</style><div class=\"highlight\"><pre><span></span><span class=\"n\">new_features_na_rm</span> <span class=\"o\">=</span> <span class=\"n\">pd</span><span class=\"o\">.</span><span class=\"n\">DataFrame</span><span class=\"p\">(</span><span class=\"n\">new_features</span><span class=\"p\">,</span> \n                                  <span class=\"n\">columns</span> <span class=\"o\">=</span> <span class=\"p\">[</span><span class=\"s2\">&quot;rooms_per_household&quot;</span><span class=\"p\">,</span> \n                                             <span class=\"s2\">&quot;population_per_household&quot;</span><span class=\"p\">,</span> \n                                             <span class=\"s2\">&quot;bedrooms_per_room&quot;</span><span class=\"p\">]</span><span class=\"o\">+</span><span class=\"n\">features</span><span class=\"p\">)</span><span class=\"o\">.</span><span class=\"n\">dropna</span><span class=\"p\">()</span>\n<span class=\"n\">all_corr</span><span class=\"o\">=</span><span class=\"n\">pd</span><span class=\"o\">.</span><span class=\"n\">DataFrame</span><span class=\"p\">()</span>\n<span class=\"k\">for</span> <span class=\"n\">i</span><span class=\"p\">,</span> <span class=\"n\">feature</span> <span class=\"ow\">in</span> <span class=\"nb\">enumerate</span><span class=\"p\">(</span><span class=\"n\">explore_set_</span><span class=\"p\">):</span>\n    <span class=\"k\">if</span> <span class=\"ow\">not</span> <span class=\"nb\">str</span><span class=\"p\">(</span><span class=\"n\">explore_set_na_rm</span><span class=\"p\">[</span><span class=\"n\">feature</span><span class=\"p\">]</span><span class=\"o\">.</span><span class=\"n\">dtypes</span><span class=\"p\">)</span> <span class=\"o\">==</span> <span class=\"s2\">&quot;object&quot;</span><span class=\"p\">:</span>\n        <span class=\"n\">corr</span> <span class=\"o\">=</span> <span class=\"n\">pd</span><span class=\"o\">.</span><span class=\"n\">DataFrame</span><span class=\"p\">(</span><span class=\"n\">stats</span><span class=\"o\">.</span><span class=\"n\">pearsonr</span><span class=\"p\">(</span><span class=\"n\">explore_set_na_rm</span><span class=\"p\">[</span><span class=\"n\">feature</span><span class=\"p\">],</span> <span class=\"n\">explore_set_na_rm</span><span class=\"p\">[</span><span class=\"n\">y_attribute</span><span class=\"p\">]),</span> \n                            <span class=\"n\">index</span> <span class=\"o\">=</span> <span class=\"p\">[</span><span class=\"s2\">&quot;cor&quot;</span><span class=\"p\">,</span> <span class=\"s2\">&quot;p-value&quot;</span><span class=\"p\">],</span>\n                            <span class=\"n\">columns</span> <span class=\"o\">=</span> <span class=\"p\">[</span><span class=\"n\">feature</span><span class=\"p\">])</span>\n        <span class=\"k\">if</span> <span class=\"n\">i</span> <span class=\"o\">==</span><span class=\"mi\">0</span><span class=\"p\">:</span>\n            <span class=\"n\">all_corr</span> <span class=\"o\">=</span> <span class=\"n\">corr</span>\n        <span class=\"k\">else</span><span class=\"p\">:</span>\n            <span class=\"n\">all_corr</span> <span class=\"o\">=</span> <span class=\"n\">pd</span><span class=\"o\">.</span><span class=\"n\">concat</span><span class=\"p\">([</span><span class=\"n\">all_corr</span><span class=\"p\">,</span> <span class=\"n\">corr</span><span class=\"p\">],</span> <span class=\"n\">axis</span> <span class=\"o\">=</span> <span class=\"mi\">1</span><span class=\"p\">)</span>\n        \n<span class=\"n\">display</span><span class=\"p\">(</span><span class=\"n\">all_corr</span><span class=\"o\">.</span><span class=\"n\">round</span><span class=\"p\">(</span><span class=\"mi\">3</span><span class=\"p\">)</span><span class=\"o\">.</span><span class=\"n\">sort_values</span><span class=\"p\">(</span><span class=\"n\">by</span><span class=\"o\">=</span><span class=\"s2\">&quot;cor&quot;</span><span class=\"p\">,</span> <span class=\"n\">axis</span><span class=\"o\">=</span><span class=\"mi\">1</span><span class=\"p\">)</span><span class=\"o\">.</span><span class=\"n\">T</span><span class=\"p\">)</span>\n</pre></div>\n",
         "text/latex": "\\begin{Verbatim}[commandchars=\\\\\\{\\}]\n\\PY{n}{new\\PYZus{}features\\PYZus{}na\\PYZus{}rm} \\PY{o}{=} \\PY{n}{pd}\\PY{o}{.}\\PY{n}{DataFrame}\\PY{p}{(}\\PY{n}{new\\PYZus{}features}\\PY{p}{,} \n                                  \\PY{n}{columns} \\PY{o}{=} \\PY{p}{[}\\PY{l+s+s2}{\\PYZdq{}}\\PY{l+s+s2}{rooms\\PYZus{}per\\PYZus{}household}\\PY{l+s+s2}{\\PYZdq{}}\\PY{p}{,} \n                                             \\PY{l+s+s2}{\\PYZdq{}}\\PY{l+s+s2}{population\\PYZus{}per\\PYZus{}household}\\PY{l+s+s2}{\\PYZdq{}}\\PY{p}{,} \n                                             \\PY{l+s+s2}{\\PYZdq{}}\\PY{l+s+s2}{bedrooms\\PYZus{}per\\PYZus{}room}\\PY{l+s+s2}{\\PYZdq{}}\\PY{p}{]}\\PY{o}{+}\\PY{n}{features}\\PY{p}{)}\\PY{o}{.}\\PY{n}{dropna}\\PY{p}{(}\\PY{p}{)}\n\\PY{n}{all\\PYZus{}corr}\\PY{o}{=}\\PY{n}{pd}\\PY{o}{.}\\PY{n}{DataFrame}\\PY{p}{(}\\PY{p}{)}\n\\PY{k}{for} \\PY{n}{i}\\PY{p}{,} \\PY{n}{feature} \\PY{o+ow}{in} \\PY{n+nb}{enumerate}\\PY{p}{(}\\PY{n}{explore\\PYZus{}set\\PYZus{}}\\PY{p}{)}\\PY{p}{:}\n    \\PY{k}{if} \\PY{o+ow}{not} \\PY{n+nb}{str}\\PY{p}{(}\\PY{n}{explore\\PYZus{}set\\PYZus{}na\\PYZus{}rm}\\PY{p}{[}\\PY{n}{feature}\\PY{p}{]}\\PY{o}{.}\\PY{n}{dtypes}\\PY{p}{)} \\PY{o}{==} \\PY{l+s+s2}{\\PYZdq{}}\\PY{l+s+s2}{object}\\PY{l+s+s2}{\\PYZdq{}}\\PY{p}{:}\n        \\PY{n}{corr} \\PY{o}{=} \\PY{n}{pd}\\PY{o}{.}\\PY{n}{DataFrame}\\PY{p}{(}\\PY{n}{stats}\\PY{o}{.}\\PY{n}{pearsonr}\\PY{p}{(}\\PY{n}{explore\\PYZus{}set\\PYZus{}na\\PYZus{}rm}\\PY{p}{[}\\PY{n}{feature}\\PY{p}{]}\\PY{p}{,} \\PY{n}{explore\\PYZus{}set\\PYZus{}na\\PYZus{}rm}\\PY{p}{[}\\PY{n}{y\\PYZus{}attribute}\\PY{p}{]}\\PY{p}{)}\\PY{p}{,} \n                            \\PY{n}{index} \\PY{o}{=} \\PY{p}{[}\\PY{l+s+s2}{\\PYZdq{}}\\PY{l+s+s2}{cor}\\PY{l+s+s2}{\\PYZdq{}}\\PY{p}{,} \\PY{l+s+s2}{\\PYZdq{}}\\PY{l+s+s2}{p\\PYZhy{}value}\\PY{l+s+s2}{\\PYZdq{}}\\PY{p}{]}\\PY{p}{,}\n                            \\PY{n}{columns} \\PY{o}{=} \\PY{p}{[}\\PY{n}{feature}\\PY{p}{]}\\PY{p}{)}\n        \\PY{k}{if} \\PY{n}{i} \\PY{o}{==}\\PY{l+m+mi}{0}\\PY{p}{:}\n            \\PY{n}{all\\PYZus{}corr} \\PY{o}{=} \\PY{n}{corr}\n        \\PY{k}{else}\\PY{p}{:}\n            \\PY{n}{all\\PYZus{}corr} \\PY{o}{=} \\PY{n}{pd}\\PY{o}{.}\\PY{n}{concat}\\PY{p}{(}\\PY{p}{[}\\PY{n}{all\\PYZus{}corr}\\PY{p}{,} \\PY{n}{corr}\\PY{p}{]}\\PY{p}{,} \\PY{n}{axis} \\PY{o}{=} \\PY{l+m+mi}{1}\\PY{p}{)}\n        \n\\PY{n}{display}\\PY{p}{(}\\PY{n}{all\\PYZus{}corr}\\PY{o}{.}\\PY{n}{round}\\PY{p}{(}\\PY{l+m+mi}{3}\\PY{p}{)}\\PY{o}{.}\\PY{n}{sort\\PYZus{}values}\\PY{p}{(}\\PY{n}{by}\\PY{o}{=}\\PY{l+s+s2}{\\PYZdq{}}\\PY{l+s+s2}{cor}\\PY{l+s+s2}{\\PYZdq{}}\\PY{p}{,} \\PY{n}{axis}\\PY{o}{=}\\PY{l+m+mi}{1}\\PY{p}{)}\\PY{o}{.}\\PY{n}{T}\\PY{p}{)}\n\\end{Verbatim}\n",
         "text/plain": "new_features_na_rm = pd.DataFrame(new_features, \n                                  columns = [\"rooms_per_household\", \n                                             \"population_per_household\", \n                                             \"bedrooms_per_room\"]+features).dropna()\nall_corr=pd.DataFrame()\nfor i, feature in enumerate(explore_set_):\n    if not str(explore_set_na_rm[feature].dtypes) == \"object\":\n        corr = pd.DataFrame(stats.pearsonr(explore_set_na_rm[feature], explore_set_na_rm[y_attribute]), \n                            index = [\"cor\", \"p-value\"],\n                            columns = [feature])\n        if i ==0:\n            all_corr = corr\n        else:\n            all_corr = pd.concat([all_corr, corr], axis = 1)\n        \ndisplay(all_corr.round(3).sort_values(by=\"cor\", axis=1).T)"
        },
        "metadata": {},
        "output_type": "display_data"
       }
      ]
     }
    },
    "0c65210709704158beefc5350d6f6c78": {
     "model_module": "@jupyter-widgets/base",
     "model_module_version": "1.2.0",
     "model_name": "LayoutModel",
     "state": {
      "_model_module": "@jupyter-widgets/base",
      "_model_module_version": "1.2.0",
      "_model_name": "LayoutModel",
      "_view_count": null,
      "_view_module": "@jupyter-widgets/base",
      "_view_module_version": "1.2.0",
      "_view_name": "LayoutView",
      "align_content": null,
      "align_items": null,
      "align_self": null,
      "border": null,
      "bottom": null,
      "display": null,
      "flex": null,
      "flex_flow": null,
      "grid_area": null,
      "grid_auto_columns": null,
      "grid_auto_flow": null,
      "grid_auto_rows": null,
      "grid_column": null,
      "grid_gap": null,
      "grid_row": null,
      "grid_template_areas": null,
      "grid_template_columns": null,
      "grid_template_rows": null,
      "height": null,
      "justify_content": null,
      "justify_items": null,
      "left": null,
      "margin": null,
      "max_height": null,
      "max_width": null,
      "min_height": null,
      "min_width": null,
      "object_fit": null,
      "object_position": null,
      "order": null,
      "overflow": null,
      "overflow_x": null,
      "overflow_y": null,
      "padding": null,
      "right": null,
      "top": null,
      "visibility": null,
      "width": null
     }
    },
    "0c7f396f9c7845d689f24778ecfa1c4e": {
     "model_module": "@jupyter-widgets/base",
     "model_module_version": "1.2.0",
     "model_name": "LayoutModel",
     "state": {
      "_model_module": "@jupyter-widgets/base",
      "_model_module_version": "1.2.0",
      "_model_name": "LayoutModel",
      "_view_count": null,
      "_view_module": "@jupyter-widgets/base",
      "_view_module_version": "1.2.0",
      "_view_name": "LayoutView",
      "align_content": null,
      "align_items": null,
      "align_self": null,
      "border": "1px solid green",
      "bottom": null,
      "display": null,
      "flex": null,
      "flex_flow": null,
      "grid_area": null,
      "grid_auto_columns": null,
      "grid_auto_flow": null,
      "grid_auto_rows": null,
      "grid_column": null,
      "grid_gap": null,
      "grid_row": null,
      "grid_template_areas": null,
      "grid_template_columns": null,
      "grid_template_rows": null,
      "height": null,
      "justify_content": null,
      "justify_items": null,
      "left": null,
      "margin": null,
      "max_height": null,
      "max_width": null,
      "min_height": null,
      "min_width": null,
      "object_fit": null,
      "object_position": null,
      "order": null,
      "overflow": null,
      "overflow_x": null,
      "overflow_y": null,
      "padding": null,
      "right": null,
      "top": null,
      "visibility": null,
      "width": null
     }
    },
    "0e44f0b9ea384e7785eda1e82aa77910": {
     "model_module": "@jupyter-widgets/base",
     "model_module_version": "1.2.0",
     "model_name": "LayoutModel",
     "state": {
      "_model_module": "@jupyter-widgets/base",
      "_model_module_version": "1.2.0",
      "_model_name": "LayoutModel",
      "_view_count": null,
      "_view_module": "@jupyter-widgets/base",
      "_view_module_version": "1.2.0",
      "_view_name": "LayoutView",
      "align_content": null,
      "align_items": null,
      "align_self": null,
      "border": null,
      "bottom": null,
      "display": null,
      "flex": null,
      "flex_flow": null,
      "grid_area": null,
      "grid_auto_columns": null,
      "grid_auto_flow": null,
      "grid_auto_rows": null,
      "grid_column": null,
      "grid_gap": null,
      "grid_row": null,
      "grid_template_areas": null,
      "grid_template_columns": null,
      "grid_template_rows": null,
      "height": null,
      "justify_content": null,
      "justify_items": null,
      "left": null,
      "margin": null,
      "max_height": null,
      "max_width": null,
      "min_height": null,
      "min_width": null,
      "object_fit": null,
      "object_position": null,
      "order": null,
      "overflow": null,
      "overflow_x": null,
      "overflow_y": null,
      "padding": null,
      "right": null,
      "top": null,
      "visibility": null,
      "width": null
     }
    },
    "12b7296492814646a3f6ac3de84ada12": {
     "model_module": "@jupyter-widgets/controls",
     "model_module_version": "1.5.0",
     "model_name": "ButtonModel",
     "state": {
      "_dom_classes": [],
      "_model_module": "@jupyter-widgets/controls",
      "_model_module_version": "1.5.0",
      "_model_name": "ButtonModel",
      "_view_count": null,
      "_view_module": "@jupyter-widgets/controls",
      "_view_module_version": "1.5.0",
      "_view_name": "ButtonView",
      "button_style": "",
      "description": "Hide solution",
      "disabled": false,
      "icon": "",
      "layout": "IPY_MODEL_b090109dbf254bcea6d24929991ebf8f",
      "style": "IPY_MODEL_6df940deccf941b3968ca91740dbef64",
      "tooltip": ""
     }
    },
    "161896a078b845dda8572311d75f0ada": {
     "model_module": "@jupyter-widgets/controls",
     "model_module_version": "1.5.0",
     "model_name": "ButtonModel",
     "state": {
      "_dom_classes": [],
      "_model_module": "@jupyter-widgets/controls",
      "_model_module_version": "1.5.0",
      "_model_name": "ButtonModel",
      "_view_count": null,
      "_view_module": "@jupyter-widgets/controls",
      "_view_module_version": "1.5.0",
      "_view_name": "ButtonView",
      "button_style": "",
      "description": "Hide solution",
      "disabled": false,
      "icon": "",
      "layout": "IPY_MODEL_c21a9886a4ce4745a48e07aa9b1cbf2f",
      "style": "IPY_MODEL_8762d03ffd654cf4ae8126b4c06828d8",
      "tooltip": ""
     }
    },
    "16c562ae73724f1095cea7b0239d58f8": {
     "model_module": "@jupyter-widgets/base",
     "model_module_version": "1.2.0",
     "model_name": "LayoutModel",
     "state": {
      "_model_module": "@jupyter-widgets/base",
      "_model_module_version": "1.2.0",
      "_model_name": "LayoutModel",
      "_view_count": null,
      "_view_module": "@jupyter-widgets/base",
      "_view_module_version": "1.2.0",
      "_view_name": "LayoutView",
      "align_content": null,
      "align_items": null,
      "align_self": null,
      "border": "1px solid green",
      "bottom": null,
      "display": null,
      "flex": null,
      "flex_flow": null,
      "grid_area": null,
      "grid_auto_columns": null,
      "grid_auto_flow": null,
      "grid_auto_rows": null,
      "grid_column": null,
      "grid_gap": null,
      "grid_row": null,
      "grid_template_areas": null,
      "grid_template_columns": null,
      "grid_template_rows": null,
      "height": null,
      "justify_content": null,
      "justify_items": null,
      "left": null,
      "margin": null,
      "max_height": null,
      "max_width": null,
      "min_height": null,
      "min_width": null,
      "object_fit": null,
      "object_position": null,
      "order": null,
      "overflow": null,
      "overflow_x": null,
      "overflow_y": null,
      "padding": null,
      "right": null,
      "top": null,
      "visibility": null,
      "width": null
     }
    },
    "18b504d555e4410ba3cdc93e5f5f316b": {
     "model_module": "@jupyter-widgets/controls",
     "model_module_version": "1.5.0",
     "model_name": "ButtonModel",
     "state": {
      "_dom_classes": [],
      "_model_module": "@jupyter-widgets/controls",
      "_model_module_version": "1.5.0",
      "_model_name": "ButtonModel",
      "_view_count": null,
      "_view_module": "@jupyter-widgets/controls",
      "_view_module_version": "1.5.0",
      "_view_name": "ButtonView",
      "button_style": "",
      "description": "Hide solution",
      "disabled": false,
      "icon": "",
      "layout": "IPY_MODEL_2a65160a82904024a41c13c707518bf3",
      "style": "IPY_MODEL_f84748256151484b861f3928e67b4875",
      "tooltip": ""
     }
    },
    "1b565c31de194ab2817045a1700540ba": {
     "model_module": "@jupyter-widgets/base",
     "model_module_version": "1.2.0",
     "model_name": "LayoutModel",
     "state": {
      "_model_module": "@jupyter-widgets/base",
      "_model_module_version": "1.2.0",
      "_model_name": "LayoutModel",
      "_view_count": null,
      "_view_module": "@jupyter-widgets/base",
      "_view_module_version": "1.2.0",
      "_view_name": "LayoutView",
      "align_content": null,
      "align_items": null,
      "align_self": null,
      "border": null,
      "bottom": null,
      "display": null,
      "flex": null,
      "flex_flow": null,
      "grid_area": null,
      "grid_auto_columns": null,
      "grid_auto_flow": null,
      "grid_auto_rows": null,
      "grid_column": null,
      "grid_gap": null,
      "grid_row": null,
      "grid_template_areas": null,
      "grid_template_columns": null,
      "grid_template_rows": null,
      "height": null,
      "justify_content": null,
      "justify_items": null,
      "left": null,
      "margin": null,
      "max_height": null,
      "max_width": null,
      "min_height": null,
      "min_width": null,
      "object_fit": null,
      "object_position": null,
      "order": null,
      "overflow": null,
      "overflow_x": null,
      "overflow_y": null,
      "padding": null,
      "right": null,
      "top": null,
      "visibility": null,
      "width": null
     }
    },
    "1b5916079cd1428baf0b664847d581dd": {
     "model_module": "@jupyter-widgets/base",
     "model_module_version": "1.2.0",
     "model_name": "LayoutModel",
     "state": {
      "_model_module": "@jupyter-widgets/base",
      "_model_module_version": "1.2.0",
      "_model_name": "LayoutModel",
      "_view_count": null,
      "_view_module": "@jupyter-widgets/base",
      "_view_module_version": "1.2.0",
      "_view_name": "LayoutView",
      "align_content": null,
      "align_items": null,
      "align_self": null,
      "border": null,
      "bottom": null,
      "display": null,
      "flex": null,
      "flex_flow": null,
      "grid_area": null,
      "grid_auto_columns": null,
      "grid_auto_flow": null,
      "grid_auto_rows": null,
      "grid_column": null,
      "grid_gap": null,
      "grid_row": null,
      "grid_template_areas": null,
      "grid_template_columns": null,
      "grid_template_rows": null,
      "height": null,
      "justify_content": null,
      "justify_items": null,
      "left": null,
      "margin": null,
      "max_height": null,
      "max_width": null,
      "min_height": null,
      "min_width": null,
      "object_fit": null,
      "object_position": null,
      "order": null,
      "overflow": null,
      "overflow_x": null,
      "overflow_y": null,
      "padding": null,
      "right": null,
      "top": null,
      "visibility": null,
      "width": null
     }
    },
    "1c464aa093fb4f72a20d527eed78cba5": {
     "model_module": "@jupyter-widgets/base",
     "model_module_version": "1.2.0",
     "model_name": "LayoutModel",
     "state": {
      "_model_module": "@jupyter-widgets/base",
      "_model_module_version": "1.2.0",
      "_model_name": "LayoutModel",
      "_view_count": null,
      "_view_module": "@jupyter-widgets/base",
      "_view_module_version": "1.2.0",
      "_view_name": "LayoutView",
      "align_content": null,
      "align_items": null,
      "align_self": null,
      "border": null,
      "bottom": null,
      "display": null,
      "flex": null,
      "flex_flow": null,
      "grid_area": null,
      "grid_auto_columns": null,
      "grid_auto_flow": null,
      "grid_auto_rows": null,
      "grid_column": null,
      "grid_gap": null,
      "grid_row": null,
      "grid_template_areas": null,
      "grid_template_columns": null,
      "grid_template_rows": null,
      "height": null,
      "justify_content": null,
      "justify_items": null,
      "left": null,
      "margin": null,
      "max_height": null,
      "max_width": null,
      "min_height": null,
      "min_width": null,
      "object_fit": null,
      "object_position": null,
      "order": null,
      "overflow": null,
      "overflow_x": null,
      "overflow_y": null,
      "padding": null,
      "right": null,
      "top": null,
      "visibility": null,
      "width": null
     }
    },
    "1cfc6e7524d2451fa481f3fd80f3342a": {
     "model_module": "@jupyter-widgets/base",
     "model_module_version": "1.2.0",
     "model_name": "LayoutModel",
     "state": {
      "_model_module": "@jupyter-widgets/base",
      "_model_module_version": "1.2.0",
      "_model_name": "LayoutModel",
      "_view_count": null,
      "_view_module": "@jupyter-widgets/base",
      "_view_module_version": "1.2.0",
      "_view_name": "LayoutView",
      "align_content": null,
      "align_items": null,
      "align_self": null,
      "border": "1px solid green",
      "bottom": null,
      "display": null,
      "flex": null,
      "flex_flow": null,
      "grid_area": null,
      "grid_auto_columns": null,
      "grid_auto_flow": null,
      "grid_auto_rows": null,
      "grid_column": null,
      "grid_gap": null,
      "grid_row": null,
      "grid_template_areas": null,
      "grid_template_columns": null,
      "grid_template_rows": null,
      "height": null,
      "justify_content": null,
      "justify_items": null,
      "left": null,
      "margin": null,
      "max_height": null,
      "max_width": null,
      "min_height": null,
      "min_width": null,
      "object_fit": null,
      "object_position": null,
      "order": null,
      "overflow": null,
      "overflow_x": null,
      "overflow_y": null,
      "padding": null,
      "right": null,
      "top": null,
      "visibility": null,
      "width": null
     }
    },
    "1d5d9a582518492ebb220beb2b8d3a37": {
     "model_module": "@jupyter-widgets/output",
     "model_module_version": "1.0.0",
     "model_name": "OutputModel",
     "state": {
      "_dom_classes": [],
      "_model_module": "@jupyter-widgets/output",
      "_model_module_version": "1.0.0",
      "_model_name": "OutputModel",
      "_view_count": null,
      "_view_module": "@jupyter-widgets/output",
      "_view_module_version": "1.0.0",
      "_view_name": "OutputView",
      "layout": "IPY_MODEL_27662fafc35d4f3bbd3e4a7c4b347c6f",
      "msg_id": "",
      "outputs": [
       {
        "data": {
         "text/markdown": "This is a typical regression task, since you are asked to predict a value. More specifically, this is a multiple regression problem since the system will use multiple features to make a prediction (it will use the district's population, the median income, etc.). It is also a univariate regression problem since we are only trying to predict a single value for each district. If we were trying to predict multiple values per district, it would be a multivariate regression problem.\n",
         "text/plain": "<IPython.core.display.Markdown object>"
        },
        "metadata": {},
        "output_type": "display_data"
       }
      ]
     }
    },
    "1e3f3cb7ad0b4c318eb38e79378da925": {
     "model_module": "@jupyter-widgets/base",
     "model_module_version": "1.2.0",
     "model_name": "LayoutModel",
     "state": {
      "_model_module": "@jupyter-widgets/base",
      "_model_module_version": "1.2.0",
      "_model_name": "LayoutModel",
      "_view_count": null,
      "_view_module": "@jupyter-widgets/base",
      "_view_module_version": "1.2.0",
      "_view_name": "LayoutView",
      "align_content": null,
      "align_items": null,
      "align_self": null,
      "border": null,
      "bottom": null,
      "display": null,
      "flex": null,
      "flex_flow": null,
      "grid_area": null,
      "grid_auto_columns": null,
      "grid_auto_flow": null,
      "grid_auto_rows": null,
      "grid_column": null,
      "grid_gap": null,
      "grid_row": null,
      "grid_template_areas": null,
      "grid_template_columns": null,
      "grid_template_rows": null,
      "height": null,
      "justify_content": null,
      "justify_items": null,
      "left": null,
      "margin": null,
      "max_height": null,
      "max_width": null,
      "min_height": null,
      "min_width": null,
      "object_fit": null,
      "object_position": null,
      "order": null,
      "overflow": null,
      "overflow_x": null,
      "overflow_y": null,
      "padding": null,
      "right": null,
      "top": null,
      "visibility": null,
      "width": null
     }
    },
    "20311851d8a3499e9fab7474a6fb220e": {
     "model_module": "@jupyter-widgets/controls",
     "model_module_version": "1.5.0",
     "model_name": "ButtonModel",
     "state": {
      "_dom_classes": [],
      "_model_module": "@jupyter-widgets/controls",
      "_model_module_version": "1.5.0",
      "_model_name": "ButtonModel",
      "_view_count": null,
      "_view_module": "@jupyter-widgets/controls",
      "_view_module_version": "1.5.0",
      "_view_name": "ButtonView",
      "button_style": "",
      "description": "Hide solution",
      "disabled": false,
      "icon": "",
      "layout": "IPY_MODEL_ffd2ce5df9964cf380518c13cd82fd86",
      "style": "IPY_MODEL_52a6e6efa56643d6be58069139609cc5",
      "tooltip": ""
     }
    },
    "210b44507cd7464f9bd8106bd91000b9": {
     "model_module": "@jupyter-widgets/controls",
     "model_module_version": "1.5.0",
     "model_name": "ButtonModel",
     "state": {
      "_dom_classes": [],
      "_model_module": "@jupyter-widgets/controls",
      "_model_module_version": "1.5.0",
      "_model_name": "ButtonModel",
      "_view_count": null,
      "_view_module": "@jupyter-widgets/controls",
      "_view_module_version": "1.5.0",
      "_view_name": "ButtonView",
      "button_style": "",
      "description": "Reveal solution",
      "disabled": false,
      "icon": "",
      "layout": "IPY_MODEL_1b5916079cd1428baf0b664847d581dd",
      "style": "IPY_MODEL_d92d9b9841074b38a4c170d6ab7f78aa",
      "tooltip": ""
     }
    },
    "2122830d6fe346558539a8aceda06315": {
     "model_module": "@jupyter-widgets/base",
     "model_module_version": "1.2.0",
     "model_name": "LayoutModel",
     "state": {
      "_model_module": "@jupyter-widgets/base",
      "_model_module_version": "1.2.0",
      "_model_name": "LayoutModel",
      "_view_count": null,
      "_view_module": "@jupyter-widgets/base",
      "_view_module_version": "1.2.0",
      "_view_name": "LayoutView",
      "align_content": null,
      "align_items": null,
      "align_self": null,
      "border": "1px solid green",
      "bottom": null,
      "display": null,
      "flex": null,
      "flex_flow": null,
      "grid_area": null,
      "grid_auto_columns": null,
      "grid_auto_flow": null,
      "grid_auto_rows": null,
      "grid_column": null,
      "grid_gap": null,
      "grid_row": null,
      "grid_template_areas": null,
      "grid_template_columns": null,
      "grid_template_rows": null,
      "height": null,
      "justify_content": null,
      "justify_items": null,
      "left": null,
      "margin": null,
      "max_height": null,
      "max_width": null,
      "min_height": null,
      "min_width": null,
      "object_fit": null,
      "object_position": null,
      "order": null,
      "overflow": null,
      "overflow_x": null,
      "overflow_y": null,
      "padding": null,
      "right": null,
      "top": null,
      "visibility": null,
      "width": null
     }
    },
    "2592162519294c82a401191958009eb3": {
     "model_module": "@jupyter-widgets/base",
     "model_module_version": "1.2.0",
     "model_name": "LayoutModel",
     "state": {
      "_model_module": "@jupyter-widgets/base",
      "_model_module_version": "1.2.0",
      "_model_name": "LayoutModel",
      "_view_count": null,
      "_view_module": "@jupyter-widgets/base",
      "_view_module_version": "1.2.0",
      "_view_name": "LayoutView",
      "align_content": null,
      "align_items": null,
      "align_self": null,
      "border": "1px solid green",
      "bottom": null,
      "display": null,
      "flex": null,
      "flex_flow": null,
      "grid_area": null,
      "grid_auto_columns": null,
      "grid_auto_flow": null,
      "grid_auto_rows": null,
      "grid_column": null,
      "grid_gap": null,
      "grid_row": null,
      "grid_template_areas": null,
      "grid_template_columns": null,
      "grid_template_rows": null,
      "height": null,
      "justify_content": null,
      "justify_items": null,
      "left": null,
      "margin": null,
      "max_height": null,
      "max_width": null,
      "min_height": null,
      "min_width": null,
      "object_fit": null,
      "object_position": null,
      "order": null,
      "overflow": null,
      "overflow_x": null,
      "overflow_y": null,
      "padding": null,
      "right": null,
      "top": null,
      "visibility": null,
      "width": null
     }
    },
    "2643cabba3ad4a44b356be5025f822bf": {
     "model_module": "@jupyter-widgets/controls",
     "model_module_version": "1.5.0",
     "model_name": "ButtonModel",
     "state": {
      "_dom_classes": [],
      "_model_module": "@jupyter-widgets/controls",
      "_model_module_version": "1.5.0",
      "_model_name": "ButtonModel",
      "_view_count": null,
      "_view_module": "@jupyter-widgets/controls",
      "_view_module_version": "1.5.0",
      "_view_name": "ButtonView",
      "button_style": "",
      "description": "Hide solution",
      "disabled": false,
      "icon": "",
      "layout": "IPY_MODEL_824cd23d6441407e8aa7f3af00e7fcf1",
      "style": "IPY_MODEL_37b1b7fe78834e20b5255cd2023feedf",
      "tooltip": ""
     }
    },
    "2702eb2dc08a458a8c76c47de3ab34f6": {
     "model_module": "@jupyter-widgets/output",
     "model_module_version": "1.0.0",
     "model_name": "OutputModel",
     "state": {
      "_dom_classes": [],
      "_model_module": "@jupyter-widgets/output",
      "_model_module_version": "1.0.0",
      "_model_name": "OutputModel",
      "_view_count": null,
      "_view_module": "@jupyter-widgets/output",
      "_view_module_version": "1.0.0",
      "_view_name": "OutputView",
      "layout": "IPY_MODEL_754987cb430d4c49b3b4c9ace0fda96e",
      "msg_id": "",
      "outputs": [
       {
        "data": {
         "text/html": "<style>.output_html .hll { background-color: #ffffcc }\n.output_html  { background: #f8f8f8; }\n.output_html .c { color: #408080; font-style: italic } /* Comment */\n.output_html .err { border: 1px solid #FF0000 } /* Error */\n.output_html .k { color: #008000; font-weight: bold } /* Keyword */\n.output_html .o { color: #666666 } /* Operator */\n.output_html .ch { color: #408080; font-style: italic } /* Comment.Hashbang */\n.output_html .cm { color: #408080; font-style: italic } /* Comment.Multiline */\n.output_html .cp { color: #BC7A00 } /* Comment.Preproc */\n.output_html .cpf { color: #408080; font-style: italic } /* Comment.PreprocFile */\n.output_html .c1 { color: #408080; font-style: italic } /* Comment.Single */\n.output_html .cs { color: #408080; font-style: italic } /* Comment.Special */\n.output_html .gd { color: #A00000 } /* Generic.Deleted */\n.output_html .ge { font-style: italic } /* Generic.Emph */\n.output_html .gr { color: #FF0000 } /* Generic.Error */\n.output_html .gh { color: #000080; font-weight: bold } /* Generic.Heading */\n.output_html .gi { color: #00A000 } /* Generic.Inserted */\n.output_html .go { color: #888888 } /* Generic.Output */\n.output_html .gp { color: #000080; font-weight: bold } /* Generic.Prompt */\n.output_html .gs { font-weight: bold } /* Generic.Strong */\n.output_html .gu { color: #800080; font-weight: bold } /* Generic.Subheading */\n.output_html .gt { color: #0044DD } /* Generic.Traceback */\n.output_html .kc { color: #008000; font-weight: bold } /* Keyword.Constant */\n.output_html .kd { color: #008000; font-weight: bold } /* Keyword.Declaration */\n.output_html .kn { color: #008000; font-weight: bold } /* Keyword.Namespace */\n.output_html .kp { color: #008000 } /* Keyword.Pseudo */\n.output_html .kr { color: #008000; font-weight: bold } /* Keyword.Reserved */\n.output_html .kt { color: #B00040 } /* Keyword.Type */\n.output_html .m { color: #666666 } /* Literal.Number */\n.output_html .s { color: #BA2121 } /* Literal.String */\n.output_html .na { color: #7D9029 } /* Name.Attribute */\n.output_html .nb { color: #008000 } /* Name.Builtin */\n.output_html .nc { color: #0000FF; font-weight: bold } /* Name.Class */\n.output_html .no { color: #880000 } /* Name.Constant */\n.output_html .nd { color: #AA22FF } /* Name.Decorator */\n.output_html .ni { color: #999999; font-weight: bold } /* Name.Entity */\n.output_html .ne { color: #D2413A; font-weight: bold } /* Name.Exception */\n.output_html .nf { color: #0000FF } /* Name.Function */\n.output_html .nl { color: #A0A000 } /* Name.Label */\n.output_html .nn { color: #0000FF; font-weight: bold } /* Name.Namespace */\n.output_html .nt { color: #008000; font-weight: bold } /* Name.Tag */\n.output_html .nv { color: #19177C } /* Name.Variable */\n.output_html .ow { color: #AA22FF; font-weight: bold } /* Operator.Word */\n.output_html .w { color: #bbbbbb } /* Text.Whitespace */\n.output_html .mb { color: #666666 } /* Literal.Number.Bin */\n.output_html .mf { color: #666666 } /* Literal.Number.Float */\n.output_html .mh { color: #666666 } /* Literal.Number.Hex */\n.output_html .mi { color: #666666 } /* Literal.Number.Integer */\n.output_html .mo { color: #666666 } /* Literal.Number.Oct */\n.output_html .sa { color: #BA2121 } /* Literal.String.Affix */\n.output_html .sb { color: #BA2121 } /* Literal.String.Backtick */\n.output_html .sc { color: #BA2121 } /* Literal.String.Char */\n.output_html .dl { color: #BA2121 } /* Literal.String.Delimiter */\n.output_html .sd { color: #BA2121; font-style: italic } /* Literal.String.Doc */\n.output_html .s2 { color: #BA2121 } /* Literal.String.Double */\n.output_html .se { color: #BB6622; font-weight: bold } /* Literal.String.Escape */\n.output_html .sh { color: #BA2121 } /* Literal.String.Heredoc */\n.output_html .si { color: #BB6688; font-weight: bold } /* Literal.String.Interpol */\n.output_html .sx { color: #008000 } /* Literal.String.Other */\n.output_html .sr { color: #BB6688 } /* Literal.String.Regex */\n.output_html .s1 { color: #BA2121 } /* Literal.String.Single */\n.output_html .ss { color: #19177C } /* Literal.String.Symbol */\n.output_html .bp { color: #008000 } /* Name.Builtin.Pseudo */\n.output_html .fm { color: #0000FF } /* Name.Function.Magic */\n.output_html .vc { color: #19177C } /* Name.Variable.Class */\n.output_html .vg { color: #19177C } /* Name.Variable.Global */\n.output_html .vi { color: #19177C } /* Name.Variable.Instance */\n.output_html .vm { color: #19177C } /* Name.Variable.Magic */\n.output_html .il { color: #666666 } /* Literal.Number.Integer.Long */</style><div class=\"highlight\"><pre><span></span><span class=\"kn\">from</span> <span class=\"nn\">sklearn.preprocessing</span> <span class=\"kn\">import</span> <span class=\"n\">OrdinalEncoder</span>\n<span class=\"n\">ordinal_encoder</span> <span class=\"o\">=</span> <span class=\"n\">OrdinalEncoder</span><span class=\"p\">()</span>\n<span class=\"n\">encoder</span> <span class=\"o\">=</span> <span class=\"n\">ColumnTransformer</span><span class=\"p\">([</span>\n    <span class=\"c1\"># apply the `num_imputer` to all columns apart from the last</span>\n    <span class=\"p\">(</span><span class=\"s2\">&quot;num&quot;</span><span class=\"p\">,</span> <span class=\"s2\">&quot;passthrough&quot;</span><span class=\"p\">,</span> <span class=\"nb\">list</span><span class=\"p\">(</span><span class=\"nb\">range</span><span class=\"p\">(</span><span class=\"n\">X_train</span><span class=\"o\">.</span><span class=\"n\">shape</span><span class=\"p\">[</span><span class=\"mi\">1</span><span class=\"p\">]</span><span class=\"o\">-</span><span class=\"mi\">1</span><span class=\"p\">))),</span> \n    <span class=\"c1\"># apply the `cat_imputer` to the last column</span>\n    <span class=\"p\">(</span><span class=\"s2\">&quot;cat&quot;</span><span class=\"p\">,</span> <span class=\"n\">ordinal_encoder</span><span class=\"p\">,</span> <span class=\"p\">[</span><span class=\"n\">X_train</span><span class=\"o\">.</span><span class=\"n\">shape</span><span class=\"p\">[</span><span class=\"mi\">1</span><span class=\"p\">]</span><span class=\"o\">-</span><span class=\"mi\">1</span><span class=\"p\">]),</span>\n<span class=\"p\">])</span> \n<span class=\"n\">housing_cat_encoded</span> <span class=\"o\">=</span> <span class=\"n\">encoder</span><span class=\"o\">.</span><span class=\"n\">fit_transform</span><span class=\"p\">(</span><span class=\"n\">X_train</span><span class=\"p\">)</span> \n\n<span class=\"n\">display</span><span class=\"p\">(</span><span class=\"nb\">dict</span><span class=\"p\">(</span><span class=\"nb\">zip</span><span class=\"p\">(</span><span class=\"nb\">list</span><span class=\"p\">(</span><span class=\"n\">encoder</span><span class=\"o\">.</span><span class=\"n\">transformers_</span><span class=\"p\">[</span><span class=\"mi\">1</span><span class=\"p\">][</span><span class=\"mi\">1</span><span class=\"p\">]</span><span class=\"o\">.</span><span class=\"n\">categories_</span><span class=\"p\">[</span><span class=\"mi\">0</span><span class=\"p\">]),</span><span class=\"nb\">range</span><span class=\"p\">(</span><span class=\"mi\">5</span><span class=\"p\">))))</span>\n\n<span class=\"kn\">from</span> <span class=\"nn\">sklearn.preprocessing</span> <span class=\"kn\">import</span> <span class=\"n\">OneHotEncoder</span> \n<span class=\"n\">OHE</span> <span class=\"o\">=</span> <span class=\"n\">OneHotEncoder</span><span class=\"p\">()</span>\n\n<span class=\"n\">encoder</span> <span class=\"o\">=</span> <span class=\"n\">ColumnTransformer</span><span class=\"p\">([</span>\n    <span class=\"c1\"># apply the `num_imputer` to all columns apart from the last</span>\n    <span class=\"p\">(</span><span class=\"s2\">&quot;num&quot;</span><span class=\"p\">,</span> <span class=\"s2\">&quot;passthrough&quot;</span><span class=\"p\">,</span> <span class=\"nb\">list</span><span class=\"p\">(</span><span class=\"nb\">range</span><span class=\"p\">(</span><span class=\"n\">X_train</span><span class=\"o\">.</span><span class=\"n\">shape</span><span class=\"p\">[</span><span class=\"mi\">1</span><span class=\"p\">]</span><span class=\"o\">-</span><span class=\"mi\">1</span><span class=\"p\">))),</span> \n    <span class=\"c1\"># apply the `cat_imputer` to the last column</span>\n    <span class=\"p\">(</span><span class=\"s2\">&quot;cat&quot;</span><span class=\"p\">,</span> <span class=\"n\">OHE</span><span class=\"p\">,</span> <span class=\"p\">[</span><span class=\"n\">X_train</span><span class=\"o\">.</span><span class=\"n\">shape</span><span class=\"p\">[</span><span class=\"mi\">1</span><span class=\"p\">]</span><span class=\"o\">-</span><span class=\"mi\">1</span><span class=\"p\">]),</span>\n<span class=\"p\">])</span> \n<span class=\"n\">housing_cat_1hot</span> <span class=\"o\">=</span> <span class=\"n\">encoder</span><span class=\"o\">.</span><span class=\"n\">fit_transform</span><span class=\"p\">(</span><span class=\"n\">X_train</span><span class=\"p\">)</span> \n<span class=\"n\">cats</span> <span class=\"o\">=</span> <span class=\"n\">pd</span><span class=\"o\">.</span><span class=\"n\">Series</span><span class=\"p\">(</span><span class=\"n\">X_train</span><span class=\"p\">[:,</span><span class=\"o\">-</span><span class=\"mi\">1</span><span class=\"p\">])</span><span class=\"o\">.</span><span class=\"n\">unique</span><span class=\"p\">()</span>\n<span class=\"n\">pd</span><span class=\"o\">.</span><span class=\"n\">DataFrame</span><span class=\"p\">(</span><span class=\"n\">encoder</span><span class=\"o\">.</span><span class=\"n\">transformers_</span><span class=\"p\">[</span><span class=\"mi\">1</span><span class=\"p\">][</span><span class=\"mi\">1</span><span class=\"p\">]</span><span class=\"o\">.</span><span class=\"n\">transform</span><span class=\"p\">(</span><span class=\"n\">cats</span><span class=\"o\">.</span><span class=\"n\">reshape</span><span class=\"p\">(</span><span class=\"o\">-</span><span class=\"mi\">1</span><span class=\"p\">,</span> <span class=\"mi\">1</span><span class=\"p\">))</span><span class=\"o\">.</span><span class=\"n\">toarray</span><span class=\"p\">(),</span> <span class=\"n\">columns</span> <span class=\"o\">=</span> <span class=\"n\">cats</span><span class=\"p\">)</span><span class=\"o\">.</span><span class=\"n\">astype</span><span class=\"p\">(</span><span class=\"nb\">int</span><span class=\"p\">)</span>\n</pre></div>\n",
         "text/latex": "\\begin{Verbatim}[commandchars=\\\\\\{\\}]\n\\PY{k+kn}{from} \\PY{n+nn}{sklearn}\\PY{n+nn}{.}\\PY{n+nn}{preprocessing} \\PY{k+kn}{import} \\PY{n}{OrdinalEncoder}\n\\PY{n}{ordinal\\PYZus{}encoder} \\PY{o}{=} \\PY{n}{OrdinalEncoder}\\PY{p}{(}\\PY{p}{)}\n\\PY{n}{encoder} \\PY{o}{=} \\PY{n}{ColumnTransformer}\\PY{p}{(}\\PY{p}{[}\n    \\PY{c+c1}{\\PYZsh{} apply the `num\\PYZus{}imputer` to all columns apart from the last}\n    \\PY{p}{(}\\PY{l+s+s2}{\\PYZdq{}}\\PY{l+s+s2}{num}\\PY{l+s+s2}{\\PYZdq{}}\\PY{p}{,} \\PY{l+s+s2}{\\PYZdq{}}\\PY{l+s+s2}{passthrough}\\PY{l+s+s2}{\\PYZdq{}}\\PY{p}{,} \\PY{n+nb}{list}\\PY{p}{(}\\PY{n+nb}{range}\\PY{p}{(}\\PY{n}{X\\PYZus{}train}\\PY{o}{.}\\PY{n}{shape}\\PY{p}{[}\\PY{l+m+mi}{1}\\PY{p}{]}\\PY{o}{\\PYZhy{}}\\PY{l+m+mi}{1}\\PY{p}{)}\\PY{p}{)}\\PY{p}{)}\\PY{p}{,} \n    \\PY{c+c1}{\\PYZsh{} apply the `cat\\PYZus{}imputer` to the last column}\n    \\PY{p}{(}\\PY{l+s+s2}{\\PYZdq{}}\\PY{l+s+s2}{cat}\\PY{l+s+s2}{\\PYZdq{}}\\PY{p}{,} \\PY{n}{ordinal\\PYZus{}encoder}\\PY{p}{,} \\PY{p}{[}\\PY{n}{X\\PYZus{}train}\\PY{o}{.}\\PY{n}{shape}\\PY{p}{[}\\PY{l+m+mi}{1}\\PY{p}{]}\\PY{o}{\\PYZhy{}}\\PY{l+m+mi}{1}\\PY{p}{]}\\PY{p}{)}\\PY{p}{,}\n\\PY{p}{]}\\PY{p}{)} \n\\PY{n}{housing\\PYZus{}cat\\PYZus{}encoded} \\PY{o}{=} \\PY{n}{encoder}\\PY{o}{.}\\PY{n}{fit\\PYZus{}transform}\\PY{p}{(}\\PY{n}{X\\PYZus{}train}\\PY{p}{)} \n\n\\PY{n}{display}\\PY{p}{(}\\PY{n+nb}{dict}\\PY{p}{(}\\PY{n+nb}{zip}\\PY{p}{(}\\PY{n+nb}{list}\\PY{p}{(}\\PY{n}{encoder}\\PY{o}{.}\\PY{n}{transformers\\PYZus{}}\\PY{p}{[}\\PY{l+m+mi}{1}\\PY{p}{]}\\PY{p}{[}\\PY{l+m+mi}{1}\\PY{p}{]}\\PY{o}{.}\\PY{n}{categories\\PYZus{}}\\PY{p}{[}\\PY{l+m+mi}{0}\\PY{p}{]}\\PY{p}{)}\\PY{p}{,}\\PY{n+nb}{range}\\PY{p}{(}\\PY{l+m+mi}{5}\\PY{p}{)}\\PY{p}{)}\\PY{p}{)}\\PY{p}{)}\n\n\\PY{k+kn}{from} \\PY{n+nn}{sklearn}\\PY{n+nn}{.}\\PY{n+nn}{preprocessing} \\PY{k+kn}{import} \\PY{n}{OneHotEncoder} \n\\PY{n}{OHE} \\PY{o}{=} \\PY{n}{OneHotEncoder}\\PY{p}{(}\\PY{p}{)}\n\n\\PY{n}{encoder} \\PY{o}{=} \\PY{n}{ColumnTransformer}\\PY{p}{(}\\PY{p}{[}\n    \\PY{c+c1}{\\PYZsh{} apply the `num\\PYZus{}imputer` to all columns apart from the last}\n    \\PY{p}{(}\\PY{l+s+s2}{\\PYZdq{}}\\PY{l+s+s2}{num}\\PY{l+s+s2}{\\PYZdq{}}\\PY{p}{,} \\PY{l+s+s2}{\\PYZdq{}}\\PY{l+s+s2}{passthrough}\\PY{l+s+s2}{\\PYZdq{}}\\PY{p}{,} \\PY{n+nb}{list}\\PY{p}{(}\\PY{n+nb}{range}\\PY{p}{(}\\PY{n}{X\\PYZus{}train}\\PY{o}{.}\\PY{n}{shape}\\PY{p}{[}\\PY{l+m+mi}{1}\\PY{p}{]}\\PY{o}{\\PYZhy{}}\\PY{l+m+mi}{1}\\PY{p}{)}\\PY{p}{)}\\PY{p}{)}\\PY{p}{,} \n    \\PY{c+c1}{\\PYZsh{} apply the `cat\\PYZus{}imputer` to the last column}\n    \\PY{p}{(}\\PY{l+s+s2}{\\PYZdq{}}\\PY{l+s+s2}{cat}\\PY{l+s+s2}{\\PYZdq{}}\\PY{p}{,} \\PY{n}{OHE}\\PY{p}{,} \\PY{p}{[}\\PY{n}{X\\PYZus{}train}\\PY{o}{.}\\PY{n}{shape}\\PY{p}{[}\\PY{l+m+mi}{1}\\PY{p}{]}\\PY{o}{\\PYZhy{}}\\PY{l+m+mi}{1}\\PY{p}{]}\\PY{p}{)}\\PY{p}{,}\n\\PY{p}{]}\\PY{p}{)} \n\\PY{n}{housing\\PYZus{}cat\\PYZus{}1hot} \\PY{o}{=} \\PY{n}{encoder}\\PY{o}{.}\\PY{n}{fit\\PYZus{}transform}\\PY{p}{(}\\PY{n}{X\\PYZus{}train}\\PY{p}{)} \n\\PY{n}{cats} \\PY{o}{=} \\PY{n}{pd}\\PY{o}{.}\\PY{n}{Series}\\PY{p}{(}\\PY{n}{X\\PYZus{}train}\\PY{p}{[}\\PY{p}{:}\\PY{p}{,}\\PY{o}{\\PYZhy{}}\\PY{l+m+mi}{1}\\PY{p}{]}\\PY{p}{)}\\PY{o}{.}\\PY{n}{unique}\\PY{p}{(}\\PY{p}{)}\n\\PY{n}{pd}\\PY{o}{.}\\PY{n}{DataFrame}\\PY{p}{(}\\PY{n}{encoder}\\PY{o}{.}\\PY{n}{transformers\\PYZus{}}\\PY{p}{[}\\PY{l+m+mi}{1}\\PY{p}{]}\\PY{p}{[}\\PY{l+m+mi}{1}\\PY{p}{]}\\PY{o}{.}\\PY{n}{transform}\\PY{p}{(}\\PY{n}{cats}\\PY{o}{.}\\PY{n}{reshape}\\PY{p}{(}\\PY{o}{\\PYZhy{}}\\PY{l+m+mi}{1}\\PY{p}{,} \\PY{l+m+mi}{1}\\PY{p}{)}\\PY{p}{)}\\PY{o}{.}\\PY{n}{toarray}\\PY{p}{(}\\PY{p}{)}\\PY{p}{,} \\PY{n}{columns} \\PY{o}{=} \\PY{n}{cats}\\PY{p}{)}\\PY{o}{.}\\PY{n}{astype}\\PY{p}{(}\\PY{n+nb}{int}\\PY{p}{)}\n\\end{Verbatim}\n",
         "text/plain": "from sklearn.preprocessing import OrdinalEncoder\nordinal_encoder = OrdinalEncoder()\nencoder = ColumnTransformer([\n    # apply the `num_imputer` to all columns apart from the last\n    (\"num\", \"passthrough\", list(range(X_train.shape[1]-1))), \n    # apply the `cat_imputer` to the last column\n    (\"cat\", ordinal_encoder, [X_train.shape[1]-1]),\n]) \nhousing_cat_encoded = encoder.fit_transform(X_train) \n\ndisplay(dict(zip(list(encoder.transformers_[1][1].categories_[0]),range(5))))\n\nfrom sklearn.preprocessing import OneHotEncoder \nOHE = OneHotEncoder()\n\nencoder = ColumnTransformer([\n    # apply the `num_imputer` to all columns apart from the last\n    (\"num\", \"passthrough\", list(range(X_train.shape[1]-1))), \n    # apply the `cat_imputer` to the last column\n    (\"cat\", OHE, [X_train.shape[1]-1]),\n]) \nhousing_cat_1hot = encoder.fit_transform(X_train) \ncats = pd.Series(X_train[:,-1]).unique()\npd.DataFrame(encoder.transformers_[1][1].transform(cats.reshape(-1, 1)).toarray(), columns = cats).astype(int)"
        },
        "metadata": {},
        "output_type": "display_data"
       },
       {
        "data": {
         "text/markdown": "The `OrdinalEncoder` assumes that two nearby values are more similar than two distant values. If we had ordinal variables this would be fine (e.g. \"bad\", \"average\", \"good\"), but this is not the case here. A common solution here is to use a `OneHotEncoder` to assign a binary attribute per category. For example the first attribute will have a 1 if the category for the observation is `'<1H OCEAN'` and 0 otherwise, the second 1 if the category is `'INLAND'` and 0 otherwise, ect.\n",
         "text/plain": "<IPython.core.display.Markdown object>"
        },
        "metadata": {},
        "output_type": "display_data"
       }
      ]
     }
    },
    "27662fafc35d4f3bbd3e4a7c4b347c6f": {
     "model_module": "@jupyter-widgets/base",
     "model_module_version": "1.2.0",
     "model_name": "LayoutModel",
     "state": {
      "_model_module": "@jupyter-widgets/base",
      "_model_module_version": "1.2.0",
      "_model_name": "LayoutModel",
      "_view_count": null,
      "_view_module": "@jupyter-widgets/base",
      "_view_module_version": "1.2.0",
      "_view_name": "LayoutView",
      "align_content": null,
      "align_items": null,
      "align_self": null,
      "border": "1px solid green",
      "bottom": null,
      "display": null,
      "flex": null,
      "flex_flow": null,
      "grid_area": null,
      "grid_auto_columns": null,
      "grid_auto_flow": null,
      "grid_auto_rows": null,
      "grid_column": null,
      "grid_gap": null,
      "grid_row": null,
      "grid_template_areas": null,
      "grid_template_columns": null,
      "grid_template_rows": null,
      "height": null,
      "justify_content": null,
      "justify_items": null,
      "left": null,
      "margin": null,
      "max_height": null,
      "max_width": null,
      "min_height": null,
      "min_width": null,
      "object_fit": null,
      "object_position": null,
      "order": null,
      "overflow": null,
      "overflow_x": null,
      "overflow_y": null,
      "padding": null,
      "right": null,
      "top": null,
      "visibility": null,
      "width": null
     }
    },
    "2a5e62b10ece4283a432c3360650c82b": {
     "model_module": "@jupyter-widgets/output",
     "model_module_version": "1.0.0",
     "model_name": "OutputModel",
     "state": {
      "_dom_classes": [],
      "_model_module": "@jupyter-widgets/output",
      "_model_module_version": "1.0.0",
      "_model_name": "OutputModel",
      "_view_count": null,
      "_view_module": "@jupyter-widgets/output",
      "_view_module_version": "1.0.0",
      "_view_name": "OutputView",
      "layout": "IPY_MODEL_76c149b1bc2d4f7ebc3e32c1aac3625e",
      "msg_id": "",
      "outputs": [
       {
        "data": {
         "text/markdown": "The different standardization methods available in scikit-learn currently (0.24.1) are:\n\n- Standardization (`preprocessing.StandardScaler`)\n\n- Min-Max Scaling (`preprocessing.MinMaxScaler`)\n\n- l2 Normalization (`preprocessing.normalize`)\n\n- RobustScaler(`preprocessing.RobustScaler`)\n\n- Scale with maximum absolute value (`preprocessing.MaxAbsScaler`)\n",
         "text/plain": "<IPython.core.display.Markdown object>"
        },
        "metadata": {},
        "output_type": "display_data"
       }
      ]
     }
    },
    "2a65160a82904024a41c13c707518bf3": {
     "model_module": "@jupyter-widgets/base",
     "model_module_version": "1.2.0",
     "model_name": "LayoutModel",
     "state": {
      "_model_module": "@jupyter-widgets/base",
      "_model_module_version": "1.2.0",
      "_model_name": "LayoutModel",
      "_view_count": null,
      "_view_module": "@jupyter-widgets/base",
      "_view_module_version": "1.2.0",
      "_view_name": "LayoutView",
      "align_content": null,
      "align_items": null,
      "align_self": null,
      "border": null,
      "bottom": null,
      "display": null,
      "flex": null,
      "flex_flow": null,
      "grid_area": null,
      "grid_auto_columns": null,
      "grid_auto_flow": null,
      "grid_auto_rows": null,
      "grid_column": null,
      "grid_gap": null,
      "grid_row": null,
      "grid_template_areas": null,
      "grid_template_columns": null,
      "grid_template_rows": null,
      "height": null,
      "justify_content": null,
      "justify_items": null,
      "left": null,
      "margin": null,
      "max_height": null,
      "max_width": null,
      "min_height": null,
      "min_width": null,
      "object_fit": null,
      "object_position": null,
      "order": null,
      "overflow": null,
      "overflow_x": null,
      "overflow_y": null,
      "padding": null,
      "right": null,
      "top": null,
      "visibility": null,
      "width": null
     }
    },
    "2e34dde1808b4919af7147ae186ebaae": {
     "model_module": "@jupyter-widgets/controls",
     "model_module_version": "1.5.0",
     "model_name": "ButtonStyleModel",
     "state": {
      "_model_module": "@jupyter-widgets/controls",
      "_model_module_version": "1.5.0",
      "_model_name": "ButtonStyleModel",
      "_view_count": null,
      "_view_module": "@jupyter-widgets/base",
      "_view_module_version": "1.2.0",
      "_view_name": "StyleView",
      "button_color": null,
      "font_weight": ""
     }
    },
    "2eaf71f6584d405abb485738ede59082": {
     "model_module": "@jupyter-widgets/output",
     "model_module_version": "1.0.0",
     "model_name": "OutputModel",
     "state": {
      "_dom_classes": [],
      "_model_module": "@jupyter-widgets/output",
      "_model_module_version": "1.0.0",
      "_model_name": "OutputModel",
      "_view_count": null,
      "_view_module": "@jupyter-widgets/output",
      "_view_module_version": "1.0.0",
      "_view_name": "OutputView",
      "layout": "IPY_MODEL_563bf3fda00d425c816aa9566b3fd813",
      "msg_id": "",
      "outputs": [
       {
        "data": {
         "text/markdown": "This is a typical supervised learning task since you are given labeled training examples (each instance comes with the expected output, i.e., the district's median housing price).\n",
         "text/plain": "<IPython.core.display.Markdown object>"
        },
        "metadata": {},
        "output_type": "display_data"
       }
      ]
     }
    },
    "312680ab665d43b996f778146ba1bfa4": {
     "model_module": "@jupyter-widgets/controls",
     "model_module_version": "1.5.0",
     "model_name": "ButtonModel",
     "state": {
      "_dom_classes": [],
      "_model_module": "@jupyter-widgets/controls",
      "_model_module_version": "1.5.0",
      "_model_name": "ButtonModel",
      "_view_count": null,
      "_view_module": "@jupyter-widgets/controls",
      "_view_module_version": "1.5.0",
      "_view_name": "ButtonView",
      "button_style": "",
      "description": "Hide solution",
      "disabled": false,
      "icon": "",
      "layout": "IPY_MODEL_1c464aa093fb4f72a20d527eed78cba5",
      "style": "IPY_MODEL_842000728c534d9cae69b4cf04cea6a3",
      "tooltip": ""
     }
    },
    "31bb07880690436ba267d96572586d6a": {
     "model_module": "@jupyter-widgets/controls",
     "model_module_version": "1.5.0",
     "model_name": "ButtonStyleModel",
     "state": {
      "_model_module": "@jupyter-widgets/controls",
      "_model_module_version": "1.5.0",
      "_model_name": "ButtonStyleModel",
      "_view_count": null,
      "_view_module": "@jupyter-widgets/base",
      "_view_module_version": "1.2.0",
      "_view_name": "StyleView",
      "button_color": null,
      "font_weight": ""
     }
    },
    "341622de9f96490c8c9737f18826d829": {
     "model_module": "@jupyter-widgets/base",
     "model_module_version": "1.2.0",
     "model_name": "LayoutModel",
     "state": {
      "_model_module": "@jupyter-widgets/base",
      "_model_module_version": "1.2.0",
      "_model_name": "LayoutModel",
      "_view_count": null,
      "_view_module": "@jupyter-widgets/base",
      "_view_module_version": "1.2.0",
      "_view_name": "LayoutView",
      "align_content": null,
      "align_items": null,
      "align_self": null,
      "border": "1px solid green",
      "bottom": null,
      "display": null,
      "flex": null,
      "flex_flow": null,
      "grid_area": null,
      "grid_auto_columns": null,
      "grid_auto_flow": null,
      "grid_auto_rows": null,
      "grid_column": null,
      "grid_gap": null,
      "grid_row": null,
      "grid_template_areas": null,
      "grid_template_columns": null,
      "grid_template_rows": null,
      "height": null,
      "justify_content": null,
      "justify_items": null,
      "left": null,
      "margin": null,
      "max_height": null,
      "max_width": null,
      "min_height": null,
      "min_width": null,
      "object_fit": null,
      "object_position": null,
      "order": null,
      "overflow": null,
      "overflow_x": null,
      "overflow_y": null,
      "padding": null,
      "right": null,
      "top": null,
      "visibility": null,
      "width": null
     }
    },
    "37b1b7fe78834e20b5255cd2023feedf": {
     "model_module": "@jupyter-widgets/controls",
     "model_module_version": "1.5.0",
     "model_name": "ButtonStyleModel",
     "state": {
      "_model_module": "@jupyter-widgets/controls",
      "_model_module_version": "1.5.0",
      "_model_name": "ButtonStyleModel",
      "_view_count": null,
      "_view_module": "@jupyter-widgets/base",
      "_view_module_version": "1.2.0",
      "_view_name": "StyleView",
      "button_color": null,
      "font_weight": ""
     }
    },
    "37c0cf7d29ac466695d26f439efb0efe": {
     "model_module": "@jupyter-widgets/base",
     "model_module_version": "1.2.0",
     "model_name": "LayoutModel",
     "state": {
      "_model_module": "@jupyter-widgets/base",
      "_model_module_version": "1.2.0",
      "_model_name": "LayoutModel",
      "_view_count": null,
      "_view_module": "@jupyter-widgets/base",
      "_view_module_version": "1.2.0",
      "_view_name": "LayoutView",
      "align_content": null,
      "align_items": null,
      "align_self": null,
      "border": "1px solid green",
      "bottom": null,
      "display": null,
      "flex": null,
      "flex_flow": null,
      "grid_area": null,
      "grid_auto_columns": null,
      "grid_auto_flow": null,
      "grid_auto_rows": null,
      "grid_column": null,
      "grid_gap": null,
      "grid_row": null,
      "grid_template_areas": null,
      "grid_template_columns": null,
      "grid_template_rows": null,
      "height": null,
      "justify_content": null,
      "justify_items": null,
      "left": null,
      "margin": null,
      "max_height": null,
      "max_width": null,
      "min_height": null,
      "min_width": null,
      "object_fit": null,
      "object_position": null,
      "order": null,
      "overflow": null,
      "overflow_x": null,
      "overflow_y": null,
      "padding": null,
      "right": null,
      "top": null,
      "visibility": null,
      "width": null
     }
    },
    "37cddd1bdbc946fab15655672788f68a": {
     "model_module": "@jupyter-widgets/output",
     "model_module_version": "1.0.0",
     "model_name": "OutputModel",
     "state": {
      "_dom_classes": [],
      "_model_module": "@jupyter-widgets/output",
      "_model_module_version": "1.0.0",
      "_model_name": "OutputModel",
      "_view_count": null,
      "_view_module": "@jupyter-widgets/output",
      "_view_module_version": "1.0.0",
      "_view_name": "OutputView",
      "layout": "IPY_MODEL_0c7f396f9c7845d689f24778ecfa1c4e",
      "msg_id": "",
      "outputs": [
       {
        "data": {
         "text/html": "<style>.output_html .hll { background-color: #ffffcc }\n.output_html  { background: #f8f8f8; }\n.output_html .c { color: #408080; font-style: italic } /* Comment */\n.output_html .err { border: 1px solid #FF0000 } /* Error */\n.output_html .k { color: #008000; font-weight: bold } /* Keyword */\n.output_html .o { color: #666666 } /* Operator */\n.output_html .ch { color: #408080; font-style: italic } /* Comment.Hashbang */\n.output_html .cm { color: #408080; font-style: italic } /* Comment.Multiline */\n.output_html .cp { color: #BC7A00 } /* Comment.Preproc */\n.output_html .cpf { color: #408080; font-style: italic } /* Comment.PreprocFile */\n.output_html .c1 { color: #408080; font-style: italic } /* Comment.Single */\n.output_html .cs { color: #408080; font-style: italic } /* Comment.Special */\n.output_html .gd { color: #A00000 } /* Generic.Deleted */\n.output_html .ge { font-style: italic } /* Generic.Emph */\n.output_html .gr { color: #FF0000 } /* Generic.Error */\n.output_html .gh { color: #000080; font-weight: bold } /* Generic.Heading */\n.output_html .gi { color: #00A000 } /* Generic.Inserted */\n.output_html .go { color: #888888 } /* Generic.Output */\n.output_html .gp { color: #000080; font-weight: bold } /* Generic.Prompt */\n.output_html .gs { font-weight: bold } /* Generic.Strong */\n.output_html .gu { color: #800080; font-weight: bold } /* Generic.Subheading */\n.output_html .gt { color: #0044DD } /* Generic.Traceback */\n.output_html .kc { color: #008000; font-weight: bold } /* Keyword.Constant */\n.output_html .kd { color: #008000; font-weight: bold } /* Keyword.Declaration */\n.output_html .kn { color: #008000; font-weight: bold } /* Keyword.Namespace */\n.output_html .kp { color: #008000 } /* Keyword.Pseudo */\n.output_html .kr { color: #008000; font-weight: bold } /* Keyword.Reserved */\n.output_html .kt { color: #B00040 } /* Keyword.Type */\n.output_html .m { color: #666666 } /* Literal.Number */\n.output_html .s { color: #BA2121 } /* Literal.String */\n.output_html .na { color: #7D9029 } /* Name.Attribute */\n.output_html .nb { color: #008000 } /* Name.Builtin */\n.output_html .nc { color: #0000FF; font-weight: bold } /* Name.Class */\n.output_html .no { color: #880000 } /* Name.Constant */\n.output_html .nd { color: #AA22FF } /* Name.Decorator */\n.output_html .ni { color: #999999; font-weight: bold } /* Name.Entity */\n.output_html .ne { color: #D2413A; font-weight: bold } /* Name.Exception */\n.output_html .nf { color: #0000FF } /* Name.Function */\n.output_html .nl { color: #A0A000 } /* Name.Label */\n.output_html .nn { color: #0000FF; font-weight: bold } /* Name.Namespace */\n.output_html .nt { color: #008000; font-weight: bold } /* Name.Tag */\n.output_html .nv { color: #19177C } /* Name.Variable */\n.output_html .ow { color: #AA22FF; font-weight: bold } /* Operator.Word */\n.output_html .w { color: #bbbbbb } /* Text.Whitespace */\n.output_html .mb { color: #666666 } /* Literal.Number.Bin */\n.output_html .mf { color: #666666 } /* Literal.Number.Float */\n.output_html .mh { color: #666666 } /* Literal.Number.Hex */\n.output_html .mi { color: #666666 } /* Literal.Number.Integer */\n.output_html .mo { color: #666666 } /* Literal.Number.Oct */\n.output_html .sa { color: #BA2121 } /* Literal.String.Affix */\n.output_html .sb { color: #BA2121 } /* Literal.String.Backtick */\n.output_html .sc { color: #BA2121 } /* Literal.String.Char */\n.output_html .dl { color: #BA2121 } /* Literal.String.Delimiter */\n.output_html .sd { color: #BA2121; font-style: italic } /* Literal.String.Doc */\n.output_html .s2 { color: #BA2121 } /* Literal.String.Double */\n.output_html .se { color: #BB6622; font-weight: bold } /* Literal.String.Escape */\n.output_html .sh { color: #BA2121 } /* Literal.String.Heredoc */\n.output_html .si { color: #BB6688; font-weight: bold } /* Literal.String.Interpol */\n.output_html .sx { color: #008000 } /* Literal.String.Other */\n.output_html .sr { color: #BB6688 } /* Literal.String.Regex */\n.output_html .s1 { color: #BA2121 } /* Literal.String.Single */\n.output_html .ss { color: #19177C } /* Literal.String.Symbol */\n.output_html .bp { color: #008000 } /* Name.Builtin.Pseudo */\n.output_html .fm { color: #0000FF } /* Name.Function.Magic */\n.output_html .vc { color: #19177C } /* Name.Variable.Class */\n.output_html .vg { color: #19177C } /* Name.Variable.Global */\n.output_html .vi { color: #19177C } /* Name.Variable.Instance */\n.output_html .vm { color: #19177C } /* Name.Variable.Magic */\n.output_html .il { color: #666666 } /* Literal.Number.Integer.Long */</style><div class=\"highlight\"><pre><span></span><span class=\"kn\">from</span> <span class=\"nn\">sklearn.model_selection</span> <span class=\"kn\">import</span> <span class=\"n\">train_test_split</span>\n<span class=\"n\">train_set</span><span class=\"p\">,</span> <span class=\"n\">test_set</span> <span class=\"o\">=</span> <span class=\"n\">train_test_split</span><span class=\"p\">(</span><span class=\"n\">housing</span><span class=\"p\">,</span> <span class=\"n\">train_size</span><span class=\"o\">=</span><span class=\"mf\">0.77</span><span class=\"p\">,</span> <span class=\"n\">shuffle</span><span class=\"o\">=</span><span class=\"kc\">False</span><span class=\"p\">)</span>\n\n<span class=\"n\">display</span><span class=\"p\">(</span><span class=\"n\">train_set</span><span class=\"p\">)</span>\n<span class=\"n\">display</span><span class=\"p\">(</span><span class=\"n\">test_set</span><span class=\"p\">)</span>\n</pre></div>\n",
         "text/latex": "\\begin{Verbatim}[commandchars=\\\\\\{\\}]\n\\PY{k+kn}{from} \\PY{n+nn}{sklearn}\\PY{n+nn}{.}\\PY{n+nn}{model\\PYZus{}selection} \\PY{k+kn}{import} \\PY{n}{train\\PYZus{}test\\PYZus{}split}\n\\PY{n}{train\\PYZus{}set}\\PY{p}{,} \\PY{n}{test\\PYZus{}set} \\PY{o}{=} \\PY{n}{train\\PYZus{}test\\PYZus{}split}\\PY{p}{(}\\PY{n}{housing}\\PY{p}{,} \\PY{n}{train\\PYZus{}size}\\PY{o}{=}\\PY{l+m+mf}{0.77}\\PY{p}{,} \\PY{n}{shuffle}\\PY{o}{=}\\PY{k+kc}{False}\\PY{p}{)}\n\n\\PY{n}{display}\\PY{p}{(}\\PY{n}{train\\PYZus{}set}\\PY{p}{)}\n\\PY{n}{display}\\PY{p}{(}\\PY{n}{test\\PYZus{}set}\\PY{p}{)}\n\\end{Verbatim}\n",
         "text/plain": "from sklearn.model_selection import train_test_split\ntrain_set, test_set = train_test_split(housing, train_size=0.77, shuffle=False)\n\ndisplay(train_set)\ndisplay(test_set)"
        },
        "metadata": {},
        "output_type": "display_data"
       },
       {
        "data": {
         "text/markdown": "In lots of real world ML applications you train on historical data, and make predictions on future unseen data. If this was the case we may want our data sorted by timestamp before creating the splits, since it matches the way you'll apply the model in the real world.\n\nHowever, in this case where we do not have a timestamp, we probably want to shuffle our data first because the ordering may effect our assessment of generalisation performance. The ordering of the data depends on where it came from and how it was exported and it's not uncommon that real world data is sorted in some manner. Therefore if there is an order according to one of the attributes, we could have a very poor test set (e.g. if it was ordered by \"ocean_proximity\" we would never learn from observations near the ocean).\n",
         "text/plain": "<IPython.core.display.Markdown object>"
        },
        "metadata": {},
        "output_type": "display_data"
       }
      ]
     }
    },
    "37eaa8dbcf5a4feca0e3981e0c0cccfb": {
     "model_module": "@jupyter-widgets/base",
     "model_module_version": "1.2.0",
     "model_name": "LayoutModel",
     "state": {
      "_model_module": "@jupyter-widgets/base",
      "_model_module_version": "1.2.0",
      "_model_name": "LayoutModel",
      "_view_count": null,
      "_view_module": "@jupyter-widgets/base",
      "_view_module_version": "1.2.0",
      "_view_name": "LayoutView",
      "align_content": null,
      "align_items": null,
      "align_self": null,
      "border": null,
      "bottom": null,
      "display": null,
      "flex": null,
      "flex_flow": null,
      "grid_area": null,
      "grid_auto_columns": null,
      "grid_auto_flow": null,
      "grid_auto_rows": null,
      "grid_column": null,
      "grid_gap": null,
      "grid_row": null,
      "grid_template_areas": null,
      "grid_template_columns": null,
      "grid_template_rows": null,
      "height": null,
      "justify_content": null,
      "justify_items": null,
      "left": null,
      "margin": null,
      "max_height": null,
      "max_width": null,
      "min_height": null,
      "min_width": null,
      "object_fit": null,
      "object_position": null,
      "order": null,
      "overflow": null,
      "overflow_x": null,
      "overflow_y": null,
      "padding": null,
      "right": null,
      "top": null,
      "visibility": null,
      "width": null
     }
    },
    "3a3d05932a814592bc5f72786544e685": {
     "model_module": "@jupyter-widgets/base",
     "model_module_version": "1.2.0",
     "model_name": "LayoutModel",
     "state": {
      "_model_module": "@jupyter-widgets/base",
      "_model_module_version": "1.2.0",
      "_model_name": "LayoutModel",
      "_view_count": null,
      "_view_module": "@jupyter-widgets/base",
      "_view_module_version": "1.2.0",
      "_view_name": "LayoutView",
      "align_content": null,
      "align_items": null,
      "align_self": null,
      "border": "1px solid green",
      "bottom": null,
      "display": null,
      "flex": null,
      "flex_flow": null,
      "grid_area": null,
      "grid_auto_columns": null,
      "grid_auto_flow": null,
      "grid_auto_rows": null,
      "grid_column": null,
      "grid_gap": null,
      "grid_row": null,
      "grid_template_areas": null,
      "grid_template_columns": null,
      "grid_template_rows": null,
      "height": null,
      "justify_content": null,
      "justify_items": null,
      "left": null,
      "margin": null,
      "max_height": null,
      "max_width": null,
      "min_height": null,
      "min_width": null,
      "object_fit": null,
      "object_position": null,
      "order": null,
      "overflow": null,
      "overflow_x": null,
      "overflow_y": null,
      "padding": null,
      "right": null,
      "top": null,
      "visibility": null,
      "width": null
     }
    },
    "3b01af48a2e741dcbd05ed2153355918": {
     "model_module": "@jupyter-widgets/output",
     "model_module_version": "1.0.0",
     "model_name": "OutputModel",
     "state": {
      "_dom_classes": [],
      "_model_module": "@jupyter-widgets/output",
      "_model_module_version": "1.0.0",
      "_model_name": "OutputModel",
      "_view_count": null,
      "_view_module": "@jupyter-widgets/output",
      "_view_module_version": "1.0.0",
      "_view_name": "OutputView",
      "layout": "IPY_MODEL_1cfc6e7524d2451fa481f3fd80f3342a",
      "msg_id": "",
      "outputs": []
     }
    },
    "3e06065c43e044be9161dbcc1f9bad3a": {
     "model_module": "@jupyter-widgets/controls",
     "model_module_version": "1.5.0",
     "model_name": "ButtonStyleModel",
     "state": {
      "_model_module": "@jupyter-widgets/controls",
      "_model_module_version": "1.5.0",
      "_model_name": "ButtonStyleModel",
      "_view_count": null,
      "_view_module": "@jupyter-widgets/base",
      "_view_module_version": "1.2.0",
      "_view_name": "StyleView",
      "button_color": null,
      "font_weight": ""
     }
    },
    "3eaf689d288a42a3a13797522f4f8294": {
     "model_module": "@jupyter-widgets/controls",
     "model_module_version": "1.5.0",
     "model_name": "ButtonStyleModel",
     "state": {
      "_model_module": "@jupyter-widgets/controls",
      "_model_module_version": "1.5.0",
      "_model_name": "ButtonStyleModel",
      "_view_count": null,
      "_view_module": "@jupyter-widgets/base",
      "_view_module_version": "1.2.0",
      "_view_name": "StyleView",
      "button_color": null,
      "font_weight": ""
     }
    },
    "404b19a27da84356b97eda9f02d5f0b1": {
     "model_module": "@jupyter-widgets/controls",
     "model_module_version": "1.5.0",
     "model_name": "ButtonStyleModel",
     "state": {
      "_model_module": "@jupyter-widgets/controls",
      "_model_module_version": "1.5.0",
      "_model_name": "ButtonStyleModel",
      "_view_count": null,
      "_view_module": "@jupyter-widgets/base",
      "_view_module_version": "1.2.0",
      "_view_name": "StyleView",
      "button_color": null,
      "font_weight": ""
     }
    },
    "440ac15af7f741529caccbea4f2ab01e": {
     "model_module": "@jupyter-widgets/output",
     "model_module_version": "1.0.0",
     "model_name": "OutputModel",
     "state": {
      "_dom_classes": [],
      "_model_module": "@jupyter-widgets/output",
      "_model_module_version": "1.0.0",
      "_model_name": "OutputModel",
      "_view_count": null,
      "_view_module": "@jupyter-widgets/output",
      "_view_module_version": "1.0.0",
      "_view_name": "OutputView",
      "layout": "IPY_MODEL_be1a9d2b7cec4911a5dd4f06b6cb8855",
      "msg_id": "",
      "outputs": [
       {
        "data": {
         "text/html": "<style>.output_html .hll { background-color: #ffffcc }\n.output_html  { background: #f8f8f8; }\n.output_html .c { color: #408080; font-style: italic } /* Comment */\n.output_html .err { border: 1px solid #FF0000 } /* Error */\n.output_html .k { color: #008000; font-weight: bold } /* Keyword */\n.output_html .o { color: #666666 } /* Operator */\n.output_html .ch { color: #408080; font-style: italic } /* Comment.Hashbang */\n.output_html .cm { color: #408080; font-style: italic } /* Comment.Multiline */\n.output_html .cp { color: #BC7A00 } /* Comment.Preproc */\n.output_html .cpf { color: #408080; font-style: italic } /* Comment.PreprocFile */\n.output_html .c1 { color: #408080; font-style: italic } /* Comment.Single */\n.output_html .cs { color: #408080; font-style: italic } /* Comment.Special */\n.output_html .gd { color: #A00000 } /* Generic.Deleted */\n.output_html .ge { font-style: italic } /* Generic.Emph */\n.output_html .gr { color: #FF0000 } /* Generic.Error */\n.output_html .gh { color: #000080; font-weight: bold } /* Generic.Heading */\n.output_html .gi { color: #00A000 } /* Generic.Inserted */\n.output_html .go { color: #888888 } /* Generic.Output */\n.output_html .gp { color: #000080; font-weight: bold } /* Generic.Prompt */\n.output_html .gs { font-weight: bold } /* Generic.Strong */\n.output_html .gu { color: #800080; font-weight: bold } /* Generic.Subheading */\n.output_html .gt { color: #0044DD } /* Generic.Traceback */\n.output_html .kc { color: #008000; font-weight: bold } /* Keyword.Constant */\n.output_html .kd { color: #008000; font-weight: bold } /* Keyword.Declaration */\n.output_html .kn { color: #008000; font-weight: bold } /* Keyword.Namespace */\n.output_html .kp { color: #008000 } /* Keyword.Pseudo */\n.output_html .kr { color: #008000; font-weight: bold } /* Keyword.Reserved */\n.output_html .kt { color: #B00040 } /* Keyword.Type */\n.output_html .m { color: #666666 } /* Literal.Number */\n.output_html .s { color: #BA2121 } /* Literal.String */\n.output_html .na { color: #7D9029 } /* Name.Attribute */\n.output_html .nb { color: #008000 } /* Name.Builtin */\n.output_html .nc { color: #0000FF; font-weight: bold } /* Name.Class */\n.output_html .no { color: #880000 } /* Name.Constant */\n.output_html .nd { color: #AA22FF } /* Name.Decorator */\n.output_html .ni { color: #999999; font-weight: bold } /* Name.Entity */\n.output_html .ne { color: #D2413A; font-weight: bold } /* Name.Exception */\n.output_html .nf { color: #0000FF } /* Name.Function */\n.output_html .nl { color: #A0A000 } /* Name.Label */\n.output_html .nn { color: #0000FF; font-weight: bold } /* Name.Namespace */\n.output_html .nt { color: #008000; font-weight: bold } /* Name.Tag */\n.output_html .nv { color: #19177C } /* Name.Variable */\n.output_html .ow { color: #AA22FF; font-weight: bold } /* Operator.Word */\n.output_html .w { color: #bbbbbb } /* Text.Whitespace */\n.output_html .mb { color: #666666 } /* Literal.Number.Bin */\n.output_html .mf { color: #666666 } /* Literal.Number.Float */\n.output_html .mh { color: #666666 } /* Literal.Number.Hex */\n.output_html .mi { color: #666666 } /* Literal.Number.Integer */\n.output_html .mo { color: #666666 } /* Literal.Number.Oct */\n.output_html .sa { color: #BA2121 } /* Literal.String.Affix */\n.output_html .sb { color: #BA2121 } /* Literal.String.Backtick */\n.output_html .sc { color: #BA2121 } /* Literal.String.Char */\n.output_html .dl { color: #BA2121 } /* Literal.String.Delimiter */\n.output_html .sd { color: #BA2121; font-style: italic } /* Literal.String.Doc */\n.output_html .s2 { color: #BA2121 } /* Literal.String.Double */\n.output_html .se { color: #BB6622; font-weight: bold } /* Literal.String.Escape */\n.output_html .sh { color: #BA2121 } /* Literal.String.Heredoc */\n.output_html .si { color: #BB6688; font-weight: bold } /* Literal.String.Interpol */\n.output_html .sx { color: #008000 } /* Literal.String.Other */\n.output_html .sr { color: #BB6688 } /* Literal.String.Regex */\n.output_html .s1 { color: #BA2121 } /* Literal.String.Single */\n.output_html .ss { color: #19177C } /* Literal.String.Symbol */\n.output_html .bp { color: #008000 } /* Name.Builtin.Pseudo */\n.output_html .fm { color: #0000FF } /* Name.Function.Magic */\n.output_html .vc { color: #19177C } /* Name.Variable.Class */\n.output_html .vg { color: #19177C } /* Name.Variable.Global */\n.output_html .vi { color: #19177C } /* Name.Variable.Instance */\n.output_html .vm { color: #19177C } /* Name.Variable.Magic */\n.output_html .il { color: #666666 } /* Literal.Number.Integer.Long */</style><div class=\"highlight\"><pre><span></span><span class=\"kn\">import</span> <span class=\"nn\">numpy</span> <span class=\"k\">as</span> <span class=\"nn\">np</span>\n\n<span class=\"c1\"># Adapted from https://github.com/ageron/handson-ml2/blob/master/02_end_to_end_machine_learning_project.ipynb</span>\n<span class=\"k\">def</span> <span class=\"nf\">split_train_test_manual</span><span class=\"p\">(</span><span class=\"n\">data</span><span class=\"p\">,</span> <span class=\"n\">train_size</span><span class=\"p\">,</span> <span class=\"n\">random_state</span><span class=\"o\">=</span><span class=\"mi\">42</span><span class=\"p\">,</span> <span class=\"n\">shuffle</span><span class=\"o\">=</span><span class=\"kc\">True</span><span class=\"p\">):</span>\n    <span class=\"k\">if</span> <span class=\"n\">shuffle</span><span class=\"p\">:</span>\n        <span class=\"n\">r</span> <span class=\"o\">=</span> <span class=\"n\">np</span><span class=\"o\">.</span><span class=\"n\">random</span><span class=\"o\">.</span><span class=\"n\">RandomState</span><span class=\"p\">(</span><span class=\"n\">random_state</span><span class=\"p\">)</span>      <span class=\"c1\"># Use the class to avoid impacting the global numpy state</span>\n        <span class=\"n\">indices</span> <span class=\"o\">=</span> <span class=\"n\">r</span><span class=\"o\">.</span><span class=\"n\">permutation</span><span class=\"p\">(</span><span class=\"nb\">len</span><span class=\"p\">(</span><span class=\"n\">data</span><span class=\"p\">))</span>\n    <span class=\"k\">else</span><span class=\"p\">:</span>\n        <span class=\"n\">indices</span> <span class=\"o\">=</span> <span class=\"n\">data</span><span class=\"o\">.</span><span class=\"n\">index</span><span class=\"o\">.</span><span class=\"n\">values</span>\n    <span class=\"n\">train_size</span> <span class=\"o\">=</span> <span class=\"nb\">int</span><span class=\"p\">(</span><span class=\"nb\">len</span><span class=\"p\">(</span><span class=\"n\">data</span><span class=\"p\">)</span> <span class=\"o\">*</span> <span class=\"n\">train_size</span><span class=\"p\">)</span>\n    <span class=\"n\">test_indices</span> <span class=\"o\">=</span> <span class=\"n\">indices</span><span class=\"p\">[</span><span class=\"n\">train_size</span><span class=\"p\">:]</span>\n    <span class=\"n\">train_indices</span> <span class=\"o\">=</span> <span class=\"n\">indices</span><span class=\"p\">[:</span><span class=\"n\">train_size</span><span class=\"p\">]</span>\n    <span class=\"k\">return</span> <span class=\"n\">data</span><span class=\"o\">.</span><span class=\"n\">loc</span><span class=\"p\">[</span><span class=\"n\">train_indices</span><span class=\"p\">],</span> <span class=\"n\">data</span><span class=\"o\">.</span><span class=\"n\">loc</span><span class=\"p\">[</span><span class=\"n\">test_indices</span><span class=\"p\">]</span>\n\n<span class=\"n\">train_set_manual</span><span class=\"p\">,</span> <span class=\"n\">test_set_manual</span> <span class=\"o\">=</span> <span class=\"n\">split_train_test_manual</span><span class=\"p\">(</span><span class=\"n\">housing</span><span class=\"p\">,</span> <span class=\"n\">train_size</span><span class=\"o\">=</span><span class=\"mf\">0.77</span><span class=\"p\">,</span> <span class=\"n\">shuffle</span><span class=\"o\">=</span><span class=\"kc\">False</span><span class=\"p\">)</span>\n\n<span class=\"n\">display</span><span class=\"p\">(</span><span class=\"n\">train_set</span><span class=\"o\">.</span><span class=\"n\">equals</span><span class=\"p\">(</span><span class=\"n\">train_set_manual</span><span class=\"p\">))</span>\n<span class=\"n\">display</span><span class=\"p\">(</span><span class=\"n\">test_set</span><span class=\"o\">.</span><span class=\"n\">equals</span><span class=\"p\">(</span><span class=\"n\">test_set_manual</span><span class=\"p\">))</span>\n</pre></div>\n",
         "text/latex": "\\begin{Verbatim}[commandchars=\\\\\\{\\}]\n\\PY{k+kn}{import} \\PY{n+nn}{numpy} \\PY{k}{as} \\PY{n+nn}{np}\n\n\\PY{c+c1}{\\PYZsh{} Adapted from https://github.com/ageron/handson\\PYZhy{}ml2/blob/master/02\\PYZus{}end\\PYZus{}to\\PYZus{}end\\PYZus{}machine\\PYZus{}learning\\PYZus{}project.ipynb}\n\\PY{k}{def} \\PY{n+nf}{split\\PYZus{}train\\PYZus{}test\\PYZus{}manual}\\PY{p}{(}\\PY{n}{data}\\PY{p}{,} \\PY{n}{train\\PYZus{}size}\\PY{p}{,} \\PY{n}{random\\PYZus{}state}\\PY{o}{=}\\PY{l+m+mi}{42}\\PY{p}{,} \\PY{n}{shuffle}\\PY{o}{=}\\PY{k+kc}{True}\\PY{p}{)}\\PY{p}{:}\n    \\PY{k}{if} \\PY{n}{shuffle}\\PY{p}{:}\n        \\PY{n}{r} \\PY{o}{=} \\PY{n}{np}\\PY{o}{.}\\PY{n}{random}\\PY{o}{.}\\PY{n}{RandomState}\\PY{p}{(}\\PY{n}{random\\PYZus{}state}\\PY{p}{)}      \\PY{c+c1}{\\PYZsh{} Use the class to avoid impacting the global numpy state}\n        \\PY{n}{indices} \\PY{o}{=} \\PY{n}{r}\\PY{o}{.}\\PY{n}{permutation}\\PY{p}{(}\\PY{n+nb}{len}\\PY{p}{(}\\PY{n}{data}\\PY{p}{)}\\PY{p}{)}\n    \\PY{k}{else}\\PY{p}{:}\n        \\PY{n}{indices} \\PY{o}{=} \\PY{n}{data}\\PY{o}{.}\\PY{n}{index}\\PY{o}{.}\\PY{n}{values}\n    \\PY{n}{train\\PYZus{}size} \\PY{o}{=} \\PY{n+nb}{int}\\PY{p}{(}\\PY{n+nb}{len}\\PY{p}{(}\\PY{n}{data}\\PY{p}{)} \\PY{o}{*} \\PY{n}{train\\PYZus{}size}\\PY{p}{)}\n    \\PY{n}{test\\PYZus{}indices} \\PY{o}{=} \\PY{n}{indices}\\PY{p}{[}\\PY{n}{train\\PYZus{}size}\\PY{p}{:}\\PY{p}{]}\n    \\PY{n}{train\\PYZus{}indices} \\PY{o}{=} \\PY{n}{indices}\\PY{p}{[}\\PY{p}{:}\\PY{n}{train\\PYZus{}size}\\PY{p}{]}\n    \\PY{k}{return} \\PY{n}{data}\\PY{o}{.}\\PY{n}{loc}\\PY{p}{[}\\PY{n}{train\\PYZus{}indices}\\PY{p}{]}\\PY{p}{,} \\PY{n}{data}\\PY{o}{.}\\PY{n}{loc}\\PY{p}{[}\\PY{n}{test\\PYZus{}indices}\\PY{p}{]}\n\n\\PY{n}{train\\PYZus{}set\\PYZus{}manual}\\PY{p}{,} \\PY{n}{test\\PYZus{}set\\PYZus{}manual} \\PY{o}{=} \\PY{n}{split\\PYZus{}train\\PYZus{}test\\PYZus{}manual}\\PY{p}{(}\\PY{n}{housing}\\PY{p}{,} \\PY{n}{train\\PYZus{}size}\\PY{o}{=}\\PY{l+m+mf}{0.77}\\PY{p}{,} \\PY{n}{shuffle}\\PY{o}{=}\\PY{k+kc}{False}\\PY{p}{)}\n\n\\PY{n}{display}\\PY{p}{(}\\PY{n}{train\\PYZus{}set}\\PY{o}{.}\\PY{n}{equals}\\PY{p}{(}\\PY{n}{train\\PYZus{}set\\PYZus{}manual}\\PY{p}{)}\\PY{p}{)}\n\\PY{n}{display}\\PY{p}{(}\\PY{n}{test\\PYZus{}set}\\PY{o}{.}\\PY{n}{equals}\\PY{p}{(}\\PY{n}{test\\PYZus{}set\\PYZus{}manual}\\PY{p}{)}\\PY{p}{)}\n\\end{Verbatim}\n",
         "text/plain": "import numpy as np\n\n# Adapted from https://github.com/ageron/handson-ml2/blob/master/02_end_to_end_machine_learning_project.ipynb\ndef split_train_test_manual(data, train_size, random_state=42, shuffle=True):\n    if shuffle:\n        r = np.random.RandomState(random_state)      # Use the class to avoid impacting the global numpy state\n        indices = r.permutation(len(data))\n    else:\n        indices = data.index.values\n    train_size = int(len(data) * train_size)\n    test_indices = indices[train_size:]\n    train_indices = indices[:train_size]\n    return data.loc[train_indices], data.loc[test_indices]\n\ntrain_set_manual, test_set_manual = split_train_test_manual(housing, train_size=0.77, shuffle=False)\n\ndisplay(train_set.equals(train_set_manual))\ndisplay(test_set.equals(test_set_manual))"
        },
        "metadata": {},
        "output_type": "display_data"
       }
      ]
     }
    },
    "499cf44babe349a59514ab43bd80fa5d": {
     "model_module": "@jupyter-widgets/controls",
     "model_module_version": "1.5.0",
     "model_name": "ButtonStyleModel",
     "state": {
      "_model_module": "@jupyter-widgets/controls",
      "_model_module_version": "1.5.0",
      "_model_name": "ButtonStyleModel",
      "_view_count": null,
      "_view_module": "@jupyter-widgets/base",
      "_view_module_version": "1.2.0",
      "_view_name": "StyleView",
      "button_color": null,
      "font_weight": ""
     }
    },
    "4b72a0bfe015478d8f8cd88e1be1c81c": {
     "model_module": "@jupyter-widgets/base",
     "model_module_version": "1.2.0",
     "model_name": "LayoutModel",
     "state": {
      "_model_module": "@jupyter-widgets/base",
      "_model_module_version": "1.2.0",
      "_model_name": "LayoutModel",
      "_view_count": null,
      "_view_module": "@jupyter-widgets/base",
      "_view_module_version": "1.2.0",
      "_view_name": "LayoutView",
      "align_content": null,
      "align_items": null,
      "align_self": null,
      "border": null,
      "bottom": null,
      "display": null,
      "flex": null,
      "flex_flow": null,
      "grid_area": null,
      "grid_auto_columns": null,
      "grid_auto_flow": null,
      "grid_auto_rows": null,
      "grid_column": null,
      "grid_gap": null,
      "grid_row": null,
      "grid_template_areas": null,
      "grid_template_columns": null,
      "grid_template_rows": null,
      "height": null,
      "justify_content": null,
      "justify_items": null,
      "left": null,
      "margin": null,
      "max_height": null,
      "max_width": null,
      "min_height": null,
      "min_width": null,
      "object_fit": null,
      "object_position": null,
      "order": null,
      "overflow": null,
      "overflow_x": null,
      "overflow_y": null,
      "padding": null,
      "right": null,
      "top": null,
      "visibility": null,
      "width": null
     }
    },
    "4fd77261fa644eb18d74f585094d58fb": {
     "model_module": "@jupyter-widgets/base",
     "model_module_version": "1.2.0",
     "model_name": "LayoutModel",
     "state": {
      "_model_module": "@jupyter-widgets/base",
      "_model_module_version": "1.2.0",
      "_model_name": "LayoutModel",
      "_view_count": null,
      "_view_module": "@jupyter-widgets/base",
      "_view_module_version": "1.2.0",
      "_view_name": "LayoutView",
      "align_content": null,
      "align_items": null,
      "align_self": null,
      "border": null,
      "bottom": null,
      "display": null,
      "flex": null,
      "flex_flow": null,
      "grid_area": null,
      "grid_auto_columns": null,
      "grid_auto_flow": null,
      "grid_auto_rows": null,
      "grid_column": null,
      "grid_gap": null,
      "grid_row": null,
      "grid_template_areas": null,
      "grid_template_columns": null,
      "grid_template_rows": null,
      "height": null,
      "justify_content": null,
      "justify_items": null,
      "left": null,
      "margin": null,
      "max_height": null,
      "max_width": null,
      "min_height": null,
      "min_width": null,
      "object_fit": null,
      "object_position": null,
      "order": null,
      "overflow": null,
      "overflow_x": null,
      "overflow_y": null,
      "padding": null,
      "right": null,
      "top": null,
      "visibility": null,
      "width": null
     }
    },
    "4fe571138629489290aff20305636e32": {
     "model_module": "@jupyter-widgets/controls",
     "model_module_version": "1.5.0",
     "model_name": "ButtonModel",
     "state": {
      "_dom_classes": [],
      "_model_module": "@jupyter-widgets/controls",
      "_model_module_version": "1.5.0",
      "_model_name": "ButtonModel",
      "_view_count": null,
      "_view_module": "@jupyter-widgets/controls",
      "_view_module_version": "1.5.0",
      "_view_name": "ButtonView",
      "button_style": "",
      "description": "Reveal solution",
      "disabled": false,
      "icon": "",
      "layout": "IPY_MODEL_828473bec5e54470abd73b06872f2807",
      "style": "IPY_MODEL_2e34dde1808b4919af7147ae186ebaae",
      "tooltip": ""
     }
    },
    "511ef4a7499749cb8214690520bd2d76": {
     "model_module": "@jupyter-widgets/controls",
     "model_module_version": "1.5.0",
     "model_name": "ButtonModel",
     "state": {
      "_dom_classes": [],
      "_model_module": "@jupyter-widgets/controls",
      "_model_module_version": "1.5.0",
      "_model_name": "ButtonModel",
      "_view_count": null,
      "_view_module": "@jupyter-widgets/controls",
      "_view_module_version": "1.5.0",
      "_view_name": "ButtonView",
      "button_style": "",
      "description": "Hide solution",
      "disabled": false,
      "icon": "",
      "layout": "IPY_MODEL_cd21a9d44b5c49ed9c1e4bd44576193f",
      "style": "IPY_MODEL_f85f809a7746464bba916b0490d90d6d",
      "tooltip": ""
     }
    },
    "51508880568c44ceaee425f5eaa1d7e5": {
     "model_module": "@jupyter-widgets/base",
     "model_module_version": "1.2.0",
     "model_name": "LayoutModel",
     "state": {
      "_model_module": "@jupyter-widgets/base",
      "_model_module_version": "1.2.0",
      "_model_name": "LayoutModel",
      "_view_count": null,
      "_view_module": "@jupyter-widgets/base",
      "_view_module_version": "1.2.0",
      "_view_name": "LayoutView",
      "align_content": null,
      "align_items": null,
      "align_self": null,
      "border": null,
      "bottom": null,
      "display": null,
      "flex": null,
      "flex_flow": null,
      "grid_area": null,
      "grid_auto_columns": null,
      "grid_auto_flow": null,
      "grid_auto_rows": null,
      "grid_column": null,
      "grid_gap": null,
      "grid_row": null,
      "grid_template_areas": null,
      "grid_template_columns": null,
      "grid_template_rows": null,
      "height": null,
      "justify_content": null,
      "justify_items": null,
      "left": null,
      "margin": null,
      "max_height": null,
      "max_width": null,
      "min_height": null,
      "min_width": null,
      "object_fit": null,
      "object_position": null,
      "order": null,
      "overflow": null,
      "overflow_x": null,
      "overflow_y": null,
      "padding": null,
      "right": null,
      "top": null,
      "visibility": null,
      "width": null
     }
    },
    "52a6e6efa56643d6be58069139609cc5": {
     "model_module": "@jupyter-widgets/controls",
     "model_module_version": "1.5.0",
     "model_name": "ButtonStyleModel",
     "state": {
      "_model_module": "@jupyter-widgets/controls",
      "_model_module_version": "1.5.0",
      "_model_name": "ButtonStyleModel",
      "_view_count": null,
      "_view_module": "@jupyter-widgets/base",
      "_view_module_version": "1.2.0",
      "_view_name": "StyleView",
      "button_color": null,
      "font_weight": ""
     }
    },
    "54c614deffcf4002983aced16a728340": {
     "model_module": "@jupyter-widgets/controls",
     "model_module_version": "1.5.0",
     "model_name": "ButtonModel",
     "state": {
      "_dom_classes": [],
      "_model_module": "@jupyter-widgets/controls",
      "_model_module_version": "1.5.0",
      "_model_name": "ButtonModel",
      "_view_count": null,
      "_view_module": "@jupyter-widgets/controls",
      "_view_module_version": "1.5.0",
      "_view_name": "ButtonView",
      "button_style": "",
      "description": "Hide solution",
      "disabled": false,
      "icon": "",
      "layout": "IPY_MODEL_fd2d3af0de60403ab2166d5dba319024",
      "style": "IPY_MODEL_983b4368a7ab44c186d30c6fcbe52982",
      "tooltip": ""
     }
    },
    "5516af0ee62b4249b08028837e4de30a": {
     "model_module": "@jupyter-widgets/output",
     "model_module_version": "1.0.0",
     "model_name": "OutputModel",
     "state": {
      "_dom_classes": [],
      "_model_module": "@jupyter-widgets/output",
      "_model_module_version": "1.0.0",
      "_model_name": "OutputModel",
      "_view_count": null,
      "_view_module": "@jupyter-widgets/output",
      "_view_module_version": "1.0.0",
      "_view_name": "OutputView",
      "layout": "IPY_MODEL_77c2395a7ba445b1bfa0d8d236d8b3af",
      "msg_id": "",
      "outputs": [
       {
        "data": {
         "text/markdown": "In our data, `total_rooms`, `total_bedrooms`, `population`, `housholds` are all counts and, alike to most counts, are right skewed.\n",
         "text/plain": "<IPython.core.display.Markdown object>"
        },
        "metadata": {},
        "output_type": "display_data"
       }
      ]
     }
    },
    "563bf3fda00d425c816aa9566b3fd813": {
     "model_module": "@jupyter-widgets/base",
     "model_module_version": "1.2.0",
     "model_name": "LayoutModel",
     "state": {
      "_model_module": "@jupyter-widgets/base",
      "_model_module_version": "1.2.0",
      "_model_name": "LayoutModel",
      "_view_count": null,
      "_view_module": "@jupyter-widgets/base",
      "_view_module_version": "1.2.0",
      "_view_name": "LayoutView",
      "align_content": null,
      "align_items": null,
      "align_self": null,
      "border": "1px solid green",
      "bottom": null,
      "display": null,
      "flex": null,
      "flex_flow": null,
      "grid_area": null,
      "grid_auto_columns": null,
      "grid_auto_flow": null,
      "grid_auto_rows": null,
      "grid_column": null,
      "grid_gap": null,
      "grid_row": null,
      "grid_template_areas": null,
      "grid_template_columns": null,
      "grid_template_rows": null,
      "height": null,
      "justify_content": null,
      "justify_items": null,
      "left": null,
      "margin": null,
      "max_height": null,
      "max_width": null,
      "min_height": null,
      "min_width": null,
      "object_fit": null,
      "object_position": null,
      "order": null,
      "overflow": null,
      "overflow_x": null,
      "overflow_y": null,
      "padding": null,
      "right": null,
      "top": null,
      "visibility": null,
      "width": null
     }
    },
    "58962e74cb4b4edeb1a204494b1f67e5": {
     "model_module": "@jupyter-widgets/output",
     "model_module_version": "1.0.0",
     "model_name": "OutputModel",
     "state": {
      "_dom_classes": [],
      "_model_module": "@jupyter-widgets/output",
      "_model_module_version": "1.0.0",
      "_model_name": "OutputModel",
      "_view_count": null,
      "_view_module": "@jupyter-widgets/output",
      "_view_module_version": "1.0.0",
      "_view_name": "OutputView",
      "layout": "IPY_MODEL_2122830d6fe346558539a8aceda06315",
      "msg_id": "",
      "outputs": [
       {
        "data": {
         "text/html": "<style>.output_html .hll { background-color: #ffffcc }\n.output_html  { background: #f8f8f8; }\n.output_html .c { color: #408080; font-style: italic } /* Comment */\n.output_html .err { border: 1px solid #FF0000 } /* Error */\n.output_html .k { color: #008000; font-weight: bold } /* Keyword */\n.output_html .o { color: #666666 } /* Operator */\n.output_html .ch { color: #408080; font-style: italic } /* Comment.Hashbang */\n.output_html .cm { color: #408080; font-style: italic } /* Comment.Multiline */\n.output_html .cp { color: #BC7A00 } /* Comment.Preproc */\n.output_html .cpf { color: #408080; font-style: italic } /* Comment.PreprocFile */\n.output_html .c1 { color: #408080; font-style: italic } /* Comment.Single */\n.output_html .cs { color: #408080; font-style: italic } /* Comment.Special */\n.output_html .gd { color: #A00000 } /* Generic.Deleted */\n.output_html .ge { font-style: italic } /* Generic.Emph */\n.output_html .gr { color: #FF0000 } /* Generic.Error */\n.output_html .gh { color: #000080; font-weight: bold } /* Generic.Heading */\n.output_html .gi { color: #00A000 } /* Generic.Inserted */\n.output_html .go { color: #888888 } /* Generic.Output */\n.output_html .gp { color: #000080; font-weight: bold } /* Generic.Prompt */\n.output_html .gs { font-weight: bold } /* Generic.Strong */\n.output_html .gu { color: #800080; font-weight: bold } /* Generic.Subheading */\n.output_html .gt { color: #0044DD } /* Generic.Traceback */\n.output_html .kc { color: #008000; font-weight: bold } /* Keyword.Constant */\n.output_html .kd { color: #008000; font-weight: bold } /* Keyword.Declaration */\n.output_html .kn { color: #008000; font-weight: bold } /* Keyword.Namespace */\n.output_html .kp { color: #008000 } /* Keyword.Pseudo */\n.output_html .kr { color: #008000; font-weight: bold } /* Keyword.Reserved */\n.output_html .kt { color: #B00040 } /* Keyword.Type */\n.output_html .m { color: #666666 } /* Literal.Number */\n.output_html .s { color: #BA2121 } /* Literal.String */\n.output_html .na { color: #7D9029 } /* Name.Attribute */\n.output_html .nb { color: #008000 } /* Name.Builtin */\n.output_html .nc { color: #0000FF; font-weight: bold } /* Name.Class */\n.output_html .no { color: #880000 } /* Name.Constant */\n.output_html .nd { color: #AA22FF } /* Name.Decorator */\n.output_html .ni { color: #999999; font-weight: bold } /* Name.Entity */\n.output_html .ne { color: #D2413A; font-weight: bold } /* Name.Exception */\n.output_html .nf { color: #0000FF } /* Name.Function */\n.output_html .nl { color: #A0A000 } /* Name.Label */\n.output_html .nn { color: #0000FF; font-weight: bold } /* Name.Namespace */\n.output_html .nt { color: #008000; font-weight: bold } /* Name.Tag */\n.output_html .nv { color: #19177C } /* Name.Variable */\n.output_html .ow { color: #AA22FF; font-weight: bold } /* Operator.Word */\n.output_html .w { color: #bbbbbb } /* Text.Whitespace */\n.output_html .mb { color: #666666 } /* Literal.Number.Bin */\n.output_html .mf { color: #666666 } /* Literal.Number.Float */\n.output_html .mh { color: #666666 } /* Literal.Number.Hex */\n.output_html .mi { color: #666666 } /* Literal.Number.Integer */\n.output_html .mo { color: #666666 } /* Literal.Number.Oct */\n.output_html .sa { color: #BA2121 } /* Literal.String.Affix */\n.output_html .sb { color: #BA2121 } /* Literal.String.Backtick */\n.output_html .sc { color: #BA2121 } /* Literal.String.Char */\n.output_html .dl { color: #BA2121 } /* Literal.String.Delimiter */\n.output_html .sd { color: #BA2121; font-style: italic } /* Literal.String.Doc */\n.output_html .s2 { color: #BA2121 } /* Literal.String.Double */\n.output_html .se { color: #BB6622; font-weight: bold } /* Literal.String.Escape */\n.output_html .sh { color: #BA2121 } /* Literal.String.Heredoc */\n.output_html .si { color: #BB6688; font-weight: bold } /* Literal.String.Interpol */\n.output_html .sx { color: #008000 } /* Literal.String.Other */\n.output_html .sr { color: #BB6688 } /* Literal.String.Regex */\n.output_html .s1 { color: #BA2121 } /* Literal.String.Single */\n.output_html .ss { color: #19177C } /* Literal.String.Symbol */\n.output_html .bp { color: #008000 } /* Name.Builtin.Pseudo */\n.output_html .fm { color: #0000FF } /* Name.Function.Magic */\n.output_html .vc { color: #19177C } /* Name.Variable.Class */\n.output_html .vg { color: #19177C } /* Name.Variable.Global */\n.output_html .vi { color: #19177C } /* Name.Variable.Instance */\n.output_html .vm { color: #19177C } /* Name.Variable.Magic */\n.output_html .il { color: #666666 } /* Literal.Number.Integer.Long */</style><div class=\"highlight\"><pre><span></span><span class=\"kn\">from</span> <span class=\"nn\">scipy</span> <span class=\"kn\">import</span> <span class=\"n\">stats</span>\n\n<span class=\"n\">fig</span><span class=\"p\">,</span> <span class=\"n\">axes</span> <span class=\"o\">=</span> <span class=\"n\">plt</span><span class=\"o\">.</span><span class=\"n\">subplots</span><span class=\"p\">(</span><span class=\"n\">figsize</span><span class=\"o\">=</span><span class=\"p\">(</span><span class=\"mi\">15</span><span class=\"p\">,</span><span class=\"mi\">5</span><span class=\"p\">),</span> <span class=\"n\">ncols</span> <span class=\"o\">=</span> <span class=\"mi\">4</span><span class=\"p\">,</span> <span class=\"n\">nrows</span><span class=\"o\">=</span><span class=\"mi\">2</span><span class=\"p\">,</span> <span class=\"n\">sharey</span><span class=\"o\">=</span><span class=\"kc\">True</span><span class=\"p\">)</span>\n<span class=\"n\">axes</span> <span class=\"o\">=</span> <span class=\"n\">axes</span><span class=\"o\">.</span><span class=\"n\">flatten</span><span class=\"p\">()</span>\n<span class=\"n\">sns</span><span class=\"o\">.</span><span class=\"n\">histplot</span><span class=\"p\">(</span><span class=\"n\">data</span><span class=\"o\">=</span><span class=\"n\">X_train</span><span class=\"p\">[:,</span><span class=\"mi\">6</span><span class=\"p\">],</span> <span class=\"n\">ax</span><span class=\"o\">=</span><span class=\"n\">axes</span><span class=\"p\">[</span><span class=\"mi\">0</span><span class=\"p\">])</span>\n<span class=\"n\">axes</span><span class=\"p\">[</span><span class=\"mi\">0</span><span class=\"p\">]</span><span class=\"o\">.</span><span class=\"n\">set_title</span><span class=\"p\">(</span><span class=\"s2\">&quot;Raw Counts&quot;</span><span class=\"p\">)</span>\n<span class=\"k\">for</span> <span class=\"n\">i</span><span class=\"p\">,</span> <span class=\"n\">lmbda</span> <span class=\"ow\">in</span> <span class=\"nb\">enumerate</span><span class=\"p\">([</span><span class=\"mi\">0</span><span class=\"p\">,</span><span class=\"mf\">0.25</span><span class=\"p\">,</span><span class=\"mf\">0.5</span><span class=\"p\">,</span><span class=\"mf\">0.75</span><span class=\"p\">,</span><span class=\"mf\">1.</span><span class=\"p\">,</span><span class=\"mf\">1.25</span><span class=\"p\">,</span><span class=\"mf\">1.5</span><span class=\"p\">]):</span>\n    \n    <span class=\"n\">house_box_</span> <span class=\"o\">=</span> <span class=\"n\">stats</span><span class=\"o\">.</span><span class=\"n\">boxcox</span><span class=\"p\">(</span><span class=\"n\">X_train</span><span class=\"p\">[:,</span><span class=\"mi\">6</span><span class=\"p\">]</span><span class=\"o\">.</span><span class=\"n\">astype</span><span class=\"p\">(</span><span class=\"nb\">float</span><span class=\"p\">),</span> <span class=\"n\">lmbda</span><span class=\"o\">=</span><span class=\"n\">lmbda</span><span class=\"p\">)</span>\n    <span class=\"n\">sns</span><span class=\"o\">.</span><span class=\"n\">histplot</span><span class=\"p\">(</span><span class=\"n\">data</span><span class=\"o\">=</span><span class=\"n\">house_box_</span><span class=\"p\">,</span> <span class=\"n\">ax</span><span class=\"o\">=</span><span class=\"n\">axes</span><span class=\"p\">[</span><span class=\"n\">i</span><span class=\"o\">+</span><span class=\"mi\">1</span><span class=\"p\">])</span>\n    <span class=\"n\">axes</span><span class=\"p\">[</span><span class=\"n\">i</span><span class=\"o\">+</span><span class=\"mi\">1</span><span class=\"p\">]</span><span class=\"o\">.</span><span class=\"n\">set_title</span><span class=\"p\">(</span><span class=\"s2\">&quot;$\\lambda$ = </span><span class=\"si\">{}</span><span class=\"s2\">&quot;</span><span class=\"o\">.</span><span class=\"n\">format</span><span class=\"p\">(</span><span class=\"n\">lmbda</span><span class=\"p\">))</span>\n    \n<span class=\"n\">plt</span><span class=\"o\">.</span><span class=\"n\">tight_layout</span><span class=\"p\">()</span>\n<span class=\"n\">plt</span><span class=\"o\">.</span><span class=\"n\">show</span><span class=\"p\">()</span>\n</pre></div>\n",
         "text/latex": "\\begin{Verbatim}[commandchars=\\\\\\{\\}]\n\\PY{k+kn}{from} \\PY{n+nn}{scipy} \\PY{k+kn}{import} \\PY{n}{stats}\n\n\\PY{n}{fig}\\PY{p}{,} \\PY{n}{axes} \\PY{o}{=} \\PY{n}{plt}\\PY{o}{.}\\PY{n}{subplots}\\PY{p}{(}\\PY{n}{figsize}\\PY{o}{=}\\PY{p}{(}\\PY{l+m+mi}{15}\\PY{p}{,}\\PY{l+m+mi}{5}\\PY{p}{)}\\PY{p}{,} \\PY{n}{ncols} \\PY{o}{=} \\PY{l+m+mi}{4}\\PY{p}{,} \\PY{n}{nrows}\\PY{o}{=}\\PY{l+m+mi}{2}\\PY{p}{,} \\PY{n}{sharey}\\PY{o}{=}\\PY{k+kc}{True}\\PY{p}{)}\n\\PY{n}{axes} \\PY{o}{=} \\PY{n}{axes}\\PY{o}{.}\\PY{n}{flatten}\\PY{p}{(}\\PY{p}{)}\n\\PY{n}{sns}\\PY{o}{.}\\PY{n}{histplot}\\PY{p}{(}\\PY{n}{data}\\PY{o}{=}\\PY{n}{X\\PYZus{}train}\\PY{p}{[}\\PY{p}{:}\\PY{p}{,}\\PY{l+m+mi}{6}\\PY{p}{]}\\PY{p}{,} \\PY{n}{ax}\\PY{o}{=}\\PY{n}{axes}\\PY{p}{[}\\PY{l+m+mi}{0}\\PY{p}{]}\\PY{p}{)}\n\\PY{n}{axes}\\PY{p}{[}\\PY{l+m+mi}{0}\\PY{p}{]}\\PY{o}{.}\\PY{n}{set\\PYZus{}title}\\PY{p}{(}\\PY{l+s+s2}{\\PYZdq{}}\\PY{l+s+s2}{Raw Counts}\\PY{l+s+s2}{\\PYZdq{}}\\PY{p}{)}\n\\PY{k}{for} \\PY{n}{i}\\PY{p}{,} \\PY{n}{lmbda} \\PY{o+ow}{in} \\PY{n+nb}{enumerate}\\PY{p}{(}\\PY{p}{[}\\PY{l+m+mi}{0}\\PY{p}{,}\\PY{l+m+mf}{0.25}\\PY{p}{,}\\PY{l+m+mf}{0.5}\\PY{p}{,}\\PY{l+m+mf}{0.75}\\PY{p}{,}\\PY{l+m+mf}{1.}\\PY{p}{,}\\PY{l+m+mf}{1.25}\\PY{p}{,}\\PY{l+m+mf}{1.5}\\PY{p}{]}\\PY{p}{)}\\PY{p}{:}\n    \n    \\PY{n}{house\\PYZus{}box\\PYZus{}} \\PY{o}{=} \\PY{n}{stats}\\PY{o}{.}\\PY{n}{boxcox}\\PY{p}{(}\\PY{n}{X\\PYZus{}train}\\PY{p}{[}\\PY{p}{:}\\PY{p}{,}\\PY{l+m+mi}{6}\\PY{p}{]}\\PY{o}{.}\\PY{n}{astype}\\PY{p}{(}\\PY{n+nb}{float}\\PY{p}{)}\\PY{p}{,} \\PY{n}{lmbda}\\PY{o}{=}\\PY{n}{lmbda}\\PY{p}{)}\n    \\PY{n}{sns}\\PY{o}{.}\\PY{n}{histplot}\\PY{p}{(}\\PY{n}{data}\\PY{o}{=}\\PY{n}{house\\PYZus{}box\\PYZus{}}\\PY{p}{,} \\PY{n}{ax}\\PY{o}{=}\\PY{n}{axes}\\PY{p}{[}\\PY{n}{i}\\PY{o}{+}\\PY{l+m+mi}{1}\\PY{p}{]}\\PY{p}{)}\n    \\PY{n}{axes}\\PY{p}{[}\\PY{n}{i}\\PY{o}{+}\\PY{l+m+mi}{1}\\PY{p}{]}\\PY{o}{.}\\PY{n}{set\\PYZus{}title}\\PY{p}{(}\\PY{l+s+s2}{\\PYZdq{}}\\PY{l+s+s2}{\\PYZdl{}}\\PY{l+s+s2}{\\PYZbs{}}\\PY{l+s+s2}{lambda\\PYZdl{} = }\\PY{l+s+si}{\\PYZob{}\\PYZcb{}}\\PY{l+s+s2}{\\PYZdq{}}\\PY{o}{.}\\PY{n}{format}\\PY{p}{(}\\PY{n}{lmbda}\\PY{p}{)}\\PY{p}{)}\n    \n\\PY{n}{plt}\\PY{o}{.}\\PY{n}{tight\\PYZus{}layout}\\PY{p}{(}\\PY{p}{)}\n\\PY{n}{plt}\\PY{o}{.}\\PY{n}{show}\\PY{p}{(}\\PY{p}{)}\n\\end{Verbatim}\n",
         "text/plain": "from scipy import stats\n\nfig, axes = plt.subplots(figsize=(15,5), ncols = 4, nrows=2, sharey=True)\naxes = axes.flatten()\nsns.histplot(data=X_train[:,6], ax=axes[0])\naxes[0].set_title(\"Raw Counts\")\nfor i, lmbda in enumerate([0,0.25,0.5,0.75,1.,1.25,1.5]):\n    \n    house_box_ = stats.boxcox(X_train[:,6].astype(float), lmbda=lmbda)\n    sns.histplot(data=house_box_, ax=axes[i+1])\n    axes[i+1].set_title(\"$\\lambda$ = {}\".format(lmbda))\n    \nplt.tight_layout()\nplt.show()"
        },
        "metadata": {},
        "output_type": "display_data"
       },
       {
        "data": {
         "text/markdown": "Looking at the plots above, between $\\lambda$ = 0 (the log transform) and 0.25 will likely be useful. Indeed, finding a lambda that maximizes the log-likelihood function returns a value of 0.24.\n",
         "text/plain": "<IPython.core.display.Markdown object>"
        },
        "metadata": {},
        "output_type": "display_data"
       },
       {
        "data": {
         "text/html": "<style>.output_html .hll { background-color: #ffffcc }\n.output_html  { background: #f8f8f8; }\n.output_html .c { color: #408080; font-style: italic } /* Comment */\n.output_html .err { border: 1px solid #FF0000 } /* Error */\n.output_html .k { color: #008000; font-weight: bold } /* Keyword */\n.output_html .o { color: #666666 } /* Operator */\n.output_html .ch { color: #408080; font-style: italic } /* Comment.Hashbang */\n.output_html .cm { color: #408080; font-style: italic } /* Comment.Multiline */\n.output_html .cp { color: #BC7A00 } /* Comment.Preproc */\n.output_html .cpf { color: #408080; font-style: italic } /* Comment.PreprocFile */\n.output_html .c1 { color: #408080; font-style: italic } /* Comment.Single */\n.output_html .cs { color: #408080; font-style: italic } /* Comment.Special */\n.output_html .gd { color: #A00000 } /* Generic.Deleted */\n.output_html .ge { font-style: italic } /* Generic.Emph */\n.output_html .gr { color: #FF0000 } /* Generic.Error */\n.output_html .gh { color: #000080; font-weight: bold } /* Generic.Heading */\n.output_html .gi { color: #00A000 } /* Generic.Inserted */\n.output_html .go { color: #888888 } /* Generic.Output */\n.output_html .gp { color: #000080; font-weight: bold } /* Generic.Prompt */\n.output_html .gs { font-weight: bold } /* Generic.Strong */\n.output_html .gu { color: #800080; font-weight: bold } /* Generic.Subheading */\n.output_html .gt { color: #0044DD } /* Generic.Traceback */\n.output_html .kc { color: #008000; font-weight: bold } /* Keyword.Constant */\n.output_html .kd { color: #008000; font-weight: bold } /* Keyword.Declaration */\n.output_html .kn { color: #008000; font-weight: bold } /* Keyword.Namespace */\n.output_html .kp { color: #008000 } /* Keyword.Pseudo */\n.output_html .kr { color: #008000; font-weight: bold } /* Keyword.Reserved */\n.output_html .kt { color: #B00040 } /* Keyword.Type */\n.output_html .m { color: #666666 } /* Literal.Number */\n.output_html .s { color: #BA2121 } /* Literal.String */\n.output_html .na { color: #7D9029 } /* Name.Attribute */\n.output_html .nb { color: #008000 } /* Name.Builtin */\n.output_html .nc { color: #0000FF; font-weight: bold } /* Name.Class */\n.output_html .no { color: #880000 } /* Name.Constant */\n.output_html .nd { color: #AA22FF } /* Name.Decorator */\n.output_html .ni { color: #999999; font-weight: bold } /* Name.Entity */\n.output_html .ne { color: #D2413A; font-weight: bold } /* Name.Exception */\n.output_html .nf { color: #0000FF } /* Name.Function */\n.output_html .nl { color: #A0A000 } /* Name.Label */\n.output_html .nn { color: #0000FF; font-weight: bold } /* Name.Namespace */\n.output_html .nt { color: #008000; font-weight: bold } /* Name.Tag */\n.output_html .nv { color: #19177C } /* Name.Variable */\n.output_html .ow { color: #AA22FF; font-weight: bold } /* Operator.Word */\n.output_html .w { color: #bbbbbb } /* Text.Whitespace */\n.output_html .mb { color: #666666 } /* Literal.Number.Bin */\n.output_html .mf { color: #666666 } /* Literal.Number.Float */\n.output_html .mh { color: #666666 } /* Literal.Number.Hex */\n.output_html .mi { color: #666666 } /* Literal.Number.Integer */\n.output_html .mo { color: #666666 } /* Literal.Number.Oct */\n.output_html .sa { color: #BA2121 } /* Literal.String.Affix */\n.output_html .sb { color: #BA2121 } /* Literal.String.Backtick */\n.output_html .sc { color: #BA2121 } /* Literal.String.Char */\n.output_html .dl { color: #BA2121 } /* Literal.String.Delimiter */\n.output_html .sd { color: #BA2121; font-style: italic } /* Literal.String.Doc */\n.output_html .s2 { color: #BA2121 } /* Literal.String.Double */\n.output_html .se { color: #BB6622; font-weight: bold } /* Literal.String.Escape */\n.output_html .sh { color: #BA2121 } /* Literal.String.Heredoc */\n.output_html .si { color: #BB6688; font-weight: bold } /* Literal.String.Interpol */\n.output_html .sx { color: #008000 } /* Literal.String.Other */\n.output_html .sr { color: #BB6688 } /* Literal.String.Regex */\n.output_html .s1 { color: #BA2121 } /* Literal.String.Single */\n.output_html .ss { color: #19177C } /* Literal.String.Symbol */\n.output_html .bp { color: #008000 } /* Name.Builtin.Pseudo */\n.output_html .fm { color: #0000FF } /* Name.Function.Magic */\n.output_html .vc { color: #19177C } /* Name.Variable.Class */\n.output_html .vg { color: #19177C } /* Name.Variable.Global */\n.output_html .vi { color: #19177C } /* Name.Variable.Instance */\n.output_html .vm { color: #19177C } /* Name.Variable.Magic */\n.output_html .il { color: #666666 } /* Literal.Number.Integer.Long */</style><div class=\"highlight\"><pre><span></span><span class=\"n\">house_box_</span><span class=\"p\">,</span> <span class=\"n\">bc_params</span> <span class=\"o\">=</span> <span class=\"n\">stats</span><span class=\"o\">.</span><span class=\"n\">boxcox</span><span class=\"p\">(</span><span class=\"n\">X_train</span><span class=\"p\">[:,</span><span class=\"mi\">6</span><span class=\"p\">]</span><span class=\"o\">.</span><span class=\"n\">astype</span><span class=\"p\">(</span><span class=\"nb\">float</span><span class=\"p\">),</span> <span class=\"n\">lmbda</span><span class=\"o\">=</span><span class=\"kc\">None</span><span class=\"p\">)</span>\n<span class=\"nb\">round</span><span class=\"p\">(</span><span class=\"n\">bc_params</span><span class=\"p\">,</span> <span class=\"mi\">2</span><span class=\"p\">)</span>\n</pre></div>\n",
         "text/latex": "\\begin{Verbatim}[commandchars=\\\\\\{\\}]\n\\PY{n}{house\\PYZus{}box\\PYZus{}}\\PY{p}{,} \\PY{n}{bc\\PYZus{}params} \\PY{o}{=} \\PY{n}{stats}\\PY{o}{.}\\PY{n}{boxcox}\\PY{p}{(}\\PY{n}{X\\PYZus{}train}\\PY{p}{[}\\PY{p}{:}\\PY{p}{,}\\PY{l+m+mi}{6}\\PY{p}{]}\\PY{o}{.}\\PY{n}{astype}\\PY{p}{(}\\PY{n+nb}{float}\\PY{p}{)}\\PY{p}{,} \\PY{n}{lmbda}\\PY{o}{=}\\PY{k+kc}{None}\\PY{p}{)}\n\\PY{n+nb}{round}\\PY{p}{(}\\PY{n}{bc\\PYZus{}params}\\PY{p}{,} \\PY{l+m+mi}{2}\\PY{p}{)}\n\\end{Verbatim}\n",
         "text/plain": "house_box_, bc_params = stats.boxcox(X_train[:,6].astype(float), lmbda=None)\nround(bc_params, 2)"
        },
        "metadata": {},
        "output_type": "display_data"
       },
       {
        "data": {
         "text/markdown": "This is also supported by if we look at the probability plots of the original and transformed counts against the normal distribution.\n",
         "text/plain": "<IPython.core.display.Markdown object>"
        },
        "metadata": {},
        "output_type": "display_data"
       },
       {
        "data": {
         "text/html": "<style>.output_html .hll { background-color: #ffffcc }\n.output_html  { background: #f8f8f8; }\n.output_html .c { color: #408080; font-style: italic } /* Comment */\n.output_html .err { border: 1px solid #FF0000 } /* Error */\n.output_html .k { color: #008000; font-weight: bold } /* Keyword */\n.output_html .o { color: #666666 } /* Operator */\n.output_html .ch { color: #408080; font-style: italic } /* Comment.Hashbang */\n.output_html .cm { color: #408080; font-style: italic } /* Comment.Multiline */\n.output_html .cp { color: #BC7A00 } /* Comment.Preproc */\n.output_html .cpf { color: #408080; font-style: italic } /* Comment.PreprocFile */\n.output_html .c1 { color: #408080; font-style: italic } /* Comment.Single */\n.output_html .cs { color: #408080; font-style: italic } /* Comment.Special */\n.output_html .gd { color: #A00000 } /* Generic.Deleted */\n.output_html .ge { font-style: italic } /* Generic.Emph */\n.output_html .gr { color: #FF0000 } /* Generic.Error */\n.output_html .gh { color: #000080; font-weight: bold } /* Generic.Heading */\n.output_html .gi { color: #00A000 } /* Generic.Inserted */\n.output_html .go { color: #888888 } /* Generic.Output */\n.output_html .gp { color: #000080; font-weight: bold } /* Generic.Prompt */\n.output_html .gs { font-weight: bold } /* Generic.Strong */\n.output_html .gu { color: #800080; font-weight: bold } /* Generic.Subheading */\n.output_html .gt { color: #0044DD } /* Generic.Traceback */\n.output_html .kc { color: #008000; font-weight: bold } /* Keyword.Constant */\n.output_html .kd { color: #008000; font-weight: bold } /* Keyword.Declaration */\n.output_html .kn { color: #008000; font-weight: bold } /* Keyword.Namespace */\n.output_html .kp { color: #008000 } /* Keyword.Pseudo */\n.output_html .kr { color: #008000; font-weight: bold } /* Keyword.Reserved */\n.output_html .kt { color: #B00040 } /* Keyword.Type */\n.output_html .m { color: #666666 } /* Literal.Number */\n.output_html .s { color: #BA2121 } /* Literal.String */\n.output_html .na { color: #7D9029 } /* Name.Attribute */\n.output_html .nb { color: #008000 } /* Name.Builtin */\n.output_html .nc { color: #0000FF; font-weight: bold } /* Name.Class */\n.output_html .no { color: #880000 } /* Name.Constant */\n.output_html .nd { color: #AA22FF } /* Name.Decorator */\n.output_html .ni { color: #999999; font-weight: bold } /* Name.Entity */\n.output_html .ne { color: #D2413A; font-weight: bold } /* Name.Exception */\n.output_html .nf { color: #0000FF } /* Name.Function */\n.output_html .nl { color: #A0A000 } /* Name.Label */\n.output_html .nn { color: #0000FF; font-weight: bold } /* Name.Namespace */\n.output_html .nt { color: #008000; font-weight: bold } /* Name.Tag */\n.output_html .nv { color: #19177C } /* Name.Variable */\n.output_html .ow { color: #AA22FF; font-weight: bold } /* Operator.Word */\n.output_html .w { color: #bbbbbb } /* Text.Whitespace */\n.output_html .mb { color: #666666 } /* Literal.Number.Bin */\n.output_html .mf { color: #666666 } /* Literal.Number.Float */\n.output_html .mh { color: #666666 } /* Literal.Number.Hex */\n.output_html .mi { color: #666666 } /* Literal.Number.Integer */\n.output_html .mo { color: #666666 } /* Literal.Number.Oct */\n.output_html .sa { color: #BA2121 } /* Literal.String.Affix */\n.output_html .sb { color: #BA2121 } /* Literal.String.Backtick */\n.output_html .sc { color: #BA2121 } /* Literal.String.Char */\n.output_html .dl { color: #BA2121 } /* Literal.String.Delimiter */\n.output_html .sd { color: #BA2121; font-style: italic } /* Literal.String.Doc */\n.output_html .s2 { color: #BA2121 } /* Literal.String.Double */\n.output_html .se { color: #BB6622; font-weight: bold } /* Literal.String.Escape */\n.output_html .sh { color: #BA2121 } /* Literal.String.Heredoc */\n.output_html .si { color: #BB6688; font-weight: bold } /* Literal.String.Interpol */\n.output_html .sx { color: #008000 } /* Literal.String.Other */\n.output_html .sr { color: #BB6688 } /* Literal.String.Regex */\n.output_html .s1 { color: #BA2121 } /* Literal.String.Single */\n.output_html .ss { color: #19177C } /* Literal.String.Symbol */\n.output_html .bp { color: #008000 } /* Name.Builtin.Pseudo */\n.output_html .fm { color: #0000FF } /* Name.Function.Magic */\n.output_html .vc { color: #19177C } /* Name.Variable.Class */\n.output_html .vg { color: #19177C } /* Name.Variable.Global */\n.output_html .vi { color: #19177C } /* Name.Variable.Instance */\n.output_html .vm { color: #19177C } /* Name.Variable.Magic */\n.output_html .il { color: #666666 } /* Literal.Number.Integer.Long */</style><div class=\"highlight\"><pre><span></span><span class=\"c1\"># adapted from Feature Engineering for Machine Learning principles and </span>\n<span class=\"c1\"># techniques for data scientists</span>\n<span class=\"n\">fig2</span><span class=\"p\">,</span> <span class=\"p\">(</span><span class=\"n\">ax1</span><span class=\"p\">,</span> <span class=\"n\">ax2</span><span class=\"p\">,</span> <span class=\"n\">ax3</span><span class=\"p\">)</span> <span class=\"o\">=</span> <span class=\"n\">plt</span><span class=\"o\">.</span><span class=\"n\">subplots</span><span class=\"p\">(</span><span class=\"mi\">3</span><span class=\"p\">,</span><span class=\"mi\">1</span><span class=\"p\">,</span> <span class=\"n\">figsize</span><span class=\"o\">=</span><span class=\"p\">(</span><span class=\"mi\">15</span><span class=\"p\">,</span><span class=\"mi\">10</span><span class=\"p\">),</span> <span class=\"n\">sharex</span><span class=\"o\">=</span><span class=\"kc\">True</span><span class=\"p\">)</span> \n<span class=\"n\">prob1</span> <span class=\"o\">=</span> <span class=\"n\">stats</span><span class=\"o\">.</span><span class=\"n\">probplot</span><span class=\"p\">(</span><span class=\"n\">X_train</span><span class=\"p\">[:,</span><span class=\"mi\">6</span><span class=\"p\">]</span><span class=\"o\">.</span><span class=\"n\">astype</span><span class=\"p\">(</span><span class=\"nb\">float</span><span class=\"p\">),</span> <span class=\"n\">dist</span><span class=\"o\">=</span><span class=\"n\">stats</span><span class=\"o\">.</span><span class=\"n\">norm</span><span class=\"p\">,</span> <span class=\"n\">plot</span><span class=\"o\">=</span><span class=\"n\">ax1</span><span class=\"p\">)</span>\n<span class=\"n\">ax1</span><span class=\"o\">.</span><span class=\"n\">set_xlabel</span><span class=\"p\">(</span><span class=\"s1\">&#39;&#39;</span><span class=\"p\">)</span> \n<span class=\"n\">ax1</span><span class=\"o\">.</span><span class=\"n\">set_title</span><span class=\"p\">(</span><span class=\"s1\">&#39;Probplot of raw counts against normal distribution&#39;</span><span class=\"p\">)</span> \n\n<span class=\"n\">house_box_</span> <span class=\"o\">=</span> <span class=\"n\">stats</span><span class=\"o\">.</span><span class=\"n\">boxcox</span><span class=\"p\">(</span><span class=\"n\">X_train</span><span class=\"p\">[:,</span><span class=\"mi\">6</span><span class=\"p\">]</span><span class=\"o\">.</span><span class=\"n\">astype</span><span class=\"p\">(</span><span class=\"nb\">float</span><span class=\"p\">),</span> <span class=\"n\">lmbda</span><span class=\"o\">=</span><span class=\"mf\">0.</span><span class=\"p\">)</span>\n<span class=\"n\">prob2</span> <span class=\"o\">=</span> <span class=\"n\">stats</span><span class=\"o\">.</span><span class=\"n\">probplot</span><span class=\"p\">(</span><span class=\"n\">house_box_</span><span class=\"p\">,</span> <span class=\"n\">dist</span><span class=\"o\">=</span><span class=\"n\">stats</span><span class=\"o\">.</span><span class=\"n\">norm</span><span class=\"p\">,</span> <span class=\"n\">plot</span><span class=\"o\">=</span><span class=\"n\">ax2</span><span class=\"p\">)</span> \n<span class=\"n\">ax2</span><span class=\"o\">.</span><span class=\"n\">set_xlabel</span><span class=\"p\">(</span><span class=\"s1\">&#39;&#39;</span><span class=\"p\">)</span> \n<span class=\"n\">ax2</span><span class=\"o\">.</span><span class=\"n\">set_title</span><span class=\"p\">(</span><span class=\"s1\">&#39;Probplot after log transform&#39;</span><span class=\"p\">)</span>\n\n<span class=\"n\">house_box_</span> <span class=\"o\">=</span> <span class=\"n\">stats</span><span class=\"o\">.</span><span class=\"n\">boxcox</span><span class=\"p\">(</span><span class=\"n\">X_train</span><span class=\"p\">[:,</span><span class=\"mi\">6</span><span class=\"p\">]</span><span class=\"o\">.</span><span class=\"n\">astype</span><span class=\"p\">(</span><span class=\"nb\">float</span><span class=\"p\">),</span> <span class=\"n\">lmbda</span><span class=\"o\">=</span><span class=\"n\">bc_params</span><span class=\"p\">)</span>\n<span class=\"n\">prob3</span> <span class=\"o\">=</span> <span class=\"n\">stats</span><span class=\"o\">.</span><span class=\"n\">probplot</span><span class=\"p\">(</span><span class=\"n\">house_box_</span><span class=\"p\">,</span> <span class=\"n\">dist</span><span class=\"o\">=</span><span class=\"n\">stats</span><span class=\"o\">.</span><span class=\"n\">norm</span><span class=\"p\">,</span> <span class=\"n\">plot</span><span class=\"o\">=</span><span class=\"n\">ax3</span><span class=\"p\">)</span> \n<span class=\"n\">ax3</span><span class=\"o\">.</span><span class=\"n\">set_xlabel</span><span class=\"p\">(</span><span class=\"s1\">&#39;&#39;</span><span class=\"p\">)</span> \n<span class=\"n\">ax3</span><span class=\"o\">.</span><span class=\"n\">set_title</span><span class=\"p\">(</span><span class=\"s1\">&#39;Probplot after boxcox transform&#39;</span><span class=\"p\">)</span>\n\n<span class=\"n\">plt</span><span class=\"o\">.</span><span class=\"n\">tight_layout</span><span class=\"p\">()</span>\n<span class=\"n\">plt</span><span class=\"o\">.</span><span class=\"n\">show</span><span class=\"p\">()</span>\n</pre></div>\n",
         "text/latex": "\\begin{Verbatim}[commandchars=\\\\\\{\\}]\n\\PY{c+c1}{\\PYZsh{} adapted from Feature Engineering for Machine Learning principles and }\n\\PY{c+c1}{\\PYZsh{} techniques for data scientists}\n\\PY{n}{fig2}\\PY{p}{,} \\PY{p}{(}\\PY{n}{ax1}\\PY{p}{,} \\PY{n}{ax2}\\PY{p}{,} \\PY{n}{ax3}\\PY{p}{)} \\PY{o}{=} \\PY{n}{plt}\\PY{o}{.}\\PY{n}{subplots}\\PY{p}{(}\\PY{l+m+mi}{3}\\PY{p}{,}\\PY{l+m+mi}{1}\\PY{p}{,} \\PY{n}{figsize}\\PY{o}{=}\\PY{p}{(}\\PY{l+m+mi}{15}\\PY{p}{,}\\PY{l+m+mi}{10}\\PY{p}{)}\\PY{p}{,} \\PY{n}{sharex}\\PY{o}{=}\\PY{k+kc}{True}\\PY{p}{)} \n\\PY{n}{prob1} \\PY{o}{=} \\PY{n}{stats}\\PY{o}{.}\\PY{n}{probplot}\\PY{p}{(}\\PY{n}{X\\PYZus{}train}\\PY{p}{[}\\PY{p}{:}\\PY{p}{,}\\PY{l+m+mi}{6}\\PY{p}{]}\\PY{o}{.}\\PY{n}{astype}\\PY{p}{(}\\PY{n+nb}{float}\\PY{p}{)}\\PY{p}{,} \\PY{n}{dist}\\PY{o}{=}\\PY{n}{stats}\\PY{o}{.}\\PY{n}{norm}\\PY{p}{,} \\PY{n}{plot}\\PY{o}{=}\\PY{n}{ax1}\\PY{p}{)}\n\\PY{n}{ax1}\\PY{o}{.}\\PY{n}{set\\PYZus{}xlabel}\\PY{p}{(}\\PY{l+s+s1}{\\PYZsq{}}\\PY{l+s+s1}{\\PYZsq{}}\\PY{p}{)} \n\\PY{n}{ax1}\\PY{o}{.}\\PY{n}{set\\PYZus{}title}\\PY{p}{(}\\PY{l+s+s1}{\\PYZsq{}}\\PY{l+s+s1}{Probplot of raw counts against normal distribution}\\PY{l+s+s1}{\\PYZsq{}}\\PY{p}{)} \n\n\\PY{n}{house\\PYZus{}box\\PYZus{}} \\PY{o}{=} \\PY{n}{stats}\\PY{o}{.}\\PY{n}{boxcox}\\PY{p}{(}\\PY{n}{X\\PYZus{}train}\\PY{p}{[}\\PY{p}{:}\\PY{p}{,}\\PY{l+m+mi}{6}\\PY{p}{]}\\PY{o}{.}\\PY{n}{astype}\\PY{p}{(}\\PY{n+nb}{float}\\PY{p}{)}\\PY{p}{,} \\PY{n}{lmbda}\\PY{o}{=}\\PY{l+m+mf}{0.}\\PY{p}{)}\n\\PY{n}{prob2} \\PY{o}{=} \\PY{n}{stats}\\PY{o}{.}\\PY{n}{probplot}\\PY{p}{(}\\PY{n}{house\\PYZus{}box\\PYZus{}}\\PY{p}{,} \\PY{n}{dist}\\PY{o}{=}\\PY{n}{stats}\\PY{o}{.}\\PY{n}{norm}\\PY{p}{,} \\PY{n}{plot}\\PY{o}{=}\\PY{n}{ax2}\\PY{p}{)} \n\\PY{n}{ax2}\\PY{o}{.}\\PY{n}{set\\PYZus{}xlabel}\\PY{p}{(}\\PY{l+s+s1}{\\PYZsq{}}\\PY{l+s+s1}{\\PYZsq{}}\\PY{p}{)} \n\\PY{n}{ax2}\\PY{o}{.}\\PY{n}{set\\PYZus{}title}\\PY{p}{(}\\PY{l+s+s1}{\\PYZsq{}}\\PY{l+s+s1}{Probplot after log transform}\\PY{l+s+s1}{\\PYZsq{}}\\PY{p}{)}\n\n\\PY{n}{house\\PYZus{}box\\PYZus{}} \\PY{o}{=} \\PY{n}{stats}\\PY{o}{.}\\PY{n}{boxcox}\\PY{p}{(}\\PY{n}{X\\PYZus{}train}\\PY{p}{[}\\PY{p}{:}\\PY{p}{,}\\PY{l+m+mi}{6}\\PY{p}{]}\\PY{o}{.}\\PY{n}{astype}\\PY{p}{(}\\PY{n+nb}{float}\\PY{p}{)}\\PY{p}{,} \\PY{n}{lmbda}\\PY{o}{=}\\PY{n}{bc\\PYZus{}params}\\PY{p}{)}\n\\PY{n}{prob3} \\PY{o}{=} \\PY{n}{stats}\\PY{o}{.}\\PY{n}{probplot}\\PY{p}{(}\\PY{n}{house\\PYZus{}box\\PYZus{}}\\PY{p}{,} \\PY{n}{dist}\\PY{o}{=}\\PY{n}{stats}\\PY{o}{.}\\PY{n}{norm}\\PY{p}{,} \\PY{n}{plot}\\PY{o}{=}\\PY{n}{ax3}\\PY{p}{)} \n\\PY{n}{ax3}\\PY{o}{.}\\PY{n}{set\\PYZus{}xlabel}\\PY{p}{(}\\PY{l+s+s1}{\\PYZsq{}}\\PY{l+s+s1}{\\PYZsq{}}\\PY{p}{)} \n\\PY{n}{ax3}\\PY{o}{.}\\PY{n}{set\\PYZus{}title}\\PY{p}{(}\\PY{l+s+s1}{\\PYZsq{}}\\PY{l+s+s1}{Probplot after boxcox transform}\\PY{l+s+s1}{\\PYZsq{}}\\PY{p}{)}\n\n\\PY{n}{plt}\\PY{o}{.}\\PY{n}{tight\\PYZus{}layout}\\PY{p}{(}\\PY{p}{)}\n\\PY{n}{plt}\\PY{o}{.}\\PY{n}{show}\\PY{p}{(}\\PY{p}{)}\n\\end{Verbatim}\n",
         "text/plain": "# adapted from Feature Engineering for Machine Learning principles and \n# techniques for data scientists\nfig2, (ax1, ax2, ax3) = plt.subplots(3,1, figsize=(15,10), sharex=True) \nprob1 = stats.probplot(X_train[:,6].astype(float), dist=stats.norm, plot=ax1)\nax1.set_xlabel('') \nax1.set_title('Probplot of raw counts against normal distribution') \n\nhouse_box_ = stats.boxcox(X_train[:,6].astype(float), lmbda=0.)\nprob2 = stats.probplot(house_box_, dist=stats.norm, plot=ax2) \nax2.set_xlabel('') \nax2.set_title('Probplot after log transform')\n\nhouse_box_ = stats.boxcox(X_train[:,6].astype(float), lmbda=bc_params)\nprob3 = stats.probplot(house_box_, dist=stats.norm, plot=ax3) \nax3.set_xlabel('') \nax3.set_title('Probplot after boxcox transform')\n\nplt.tight_layout()\nplt.show()"
        },
        "metadata": {},
        "output_type": "display_data"
       }
      ]
     }
    },
    "5b9074ce0f0e4eac903a6f80ccf8d9ee": {
     "model_module": "@jupyter-widgets/output",
     "model_module_version": "1.0.0",
     "model_name": "OutputModel",
     "state": {
      "_dom_classes": [],
      "_model_module": "@jupyter-widgets/output",
      "_model_module_version": "1.0.0",
      "_model_name": "OutputModel",
      "_view_count": null,
      "_view_module": "@jupyter-widgets/output",
      "_view_module_version": "1.0.0",
      "_view_name": "OutputView",
      "layout": "IPY_MODEL_8948de3f3cc74db6a982363e328fae9a",
      "msg_id": "",
      "outputs": []
     }
    },
    "5c163bb196d448f9b20ac2c95406ccfb": {
     "model_module": "@jupyter-widgets/base",
     "model_module_version": "1.2.0",
     "model_name": "LayoutModel",
     "state": {
      "_model_module": "@jupyter-widgets/base",
      "_model_module_version": "1.2.0",
      "_model_name": "LayoutModel",
      "_view_count": null,
      "_view_module": "@jupyter-widgets/base",
      "_view_module_version": "1.2.0",
      "_view_name": "LayoutView",
      "align_content": null,
      "align_items": null,
      "align_self": null,
      "border": "1px solid green",
      "bottom": null,
      "display": null,
      "flex": null,
      "flex_flow": null,
      "grid_area": null,
      "grid_auto_columns": null,
      "grid_auto_flow": null,
      "grid_auto_rows": null,
      "grid_column": null,
      "grid_gap": null,
      "grid_row": null,
      "grid_template_areas": null,
      "grid_template_columns": null,
      "grid_template_rows": null,
      "height": null,
      "justify_content": null,
      "justify_items": null,
      "left": null,
      "margin": null,
      "max_height": null,
      "max_width": null,
      "min_height": null,
      "min_width": null,
      "object_fit": null,
      "object_position": null,
      "order": null,
      "overflow": null,
      "overflow_x": null,
      "overflow_y": null,
      "padding": null,
      "right": null,
      "top": null,
      "visibility": null,
      "width": null
     }
    },
    "5d59f33f5a7f42fcac9b6958ac06ecbf": {
     "model_module": "@jupyter-widgets/controls",
     "model_module_version": "1.5.0",
     "model_name": "ButtonModel",
     "state": {
      "_dom_classes": [],
      "_model_module": "@jupyter-widgets/controls",
      "_model_module_version": "1.5.0",
      "_model_name": "ButtonModel",
      "_view_count": null,
      "_view_module": "@jupyter-widgets/controls",
      "_view_module_version": "1.5.0",
      "_view_name": "ButtonView",
      "button_style": "",
      "description": "Reveal solution",
      "disabled": false,
      "icon": "",
      "layout": "IPY_MODEL_4fd77261fa644eb18d74f585094d58fb",
      "style": "IPY_MODEL_499cf44babe349a59514ab43bd80fa5d",
      "tooltip": ""
     }
    },
    "66059e5a127b4457949426cf57a48a8d": {
     "model_module": "@jupyter-widgets/output",
     "model_module_version": "1.0.0",
     "model_name": "OutputModel",
     "state": {
      "_dom_classes": [],
      "_model_module": "@jupyter-widgets/output",
      "_model_module_version": "1.0.0",
      "_model_name": "OutputModel",
      "_view_count": null,
      "_view_module": "@jupyter-widgets/output",
      "_view_module_version": "1.0.0",
      "_view_name": "OutputView",
      "layout": "IPY_MODEL_e59f60f089774809960f24c73666de41",
      "msg_id": "",
      "outputs": [
       {
        "data": {
         "text/html": "<style>.output_html .hll { background-color: #ffffcc }\n.output_html  { background: #f8f8f8; }\n.output_html .c { color: #408080; font-style: italic } /* Comment */\n.output_html .err { border: 1px solid #FF0000 } /* Error */\n.output_html .k { color: #008000; font-weight: bold } /* Keyword */\n.output_html .o { color: #666666 } /* Operator */\n.output_html .ch { color: #408080; font-style: italic } /* Comment.Hashbang */\n.output_html .cm { color: #408080; font-style: italic } /* Comment.Multiline */\n.output_html .cp { color: #BC7A00 } /* Comment.Preproc */\n.output_html .cpf { color: #408080; font-style: italic } /* Comment.PreprocFile */\n.output_html .c1 { color: #408080; font-style: italic } /* Comment.Single */\n.output_html .cs { color: #408080; font-style: italic } /* Comment.Special */\n.output_html .gd { color: #A00000 } /* Generic.Deleted */\n.output_html .ge { font-style: italic } /* Generic.Emph */\n.output_html .gr { color: #FF0000 } /* Generic.Error */\n.output_html .gh { color: #000080; font-weight: bold } /* Generic.Heading */\n.output_html .gi { color: #00A000 } /* Generic.Inserted */\n.output_html .go { color: #888888 } /* Generic.Output */\n.output_html .gp { color: #000080; font-weight: bold } /* Generic.Prompt */\n.output_html .gs { font-weight: bold } /* Generic.Strong */\n.output_html .gu { color: #800080; font-weight: bold } /* Generic.Subheading */\n.output_html .gt { color: #0044DD } /* Generic.Traceback */\n.output_html .kc { color: #008000; font-weight: bold } /* Keyword.Constant */\n.output_html .kd { color: #008000; font-weight: bold } /* Keyword.Declaration */\n.output_html .kn { color: #008000; font-weight: bold } /* Keyword.Namespace */\n.output_html .kp { color: #008000 } /* Keyword.Pseudo */\n.output_html .kr { color: #008000; font-weight: bold } /* Keyword.Reserved */\n.output_html .kt { color: #B00040 } /* Keyword.Type */\n.output_html .m { color: #666666 } /* Literal.Number */\n.output_html .s { color: #BA2121 } /* Literal.String */\n.output_html .na { color: #7D9029 } /* Name.Attribute */\n.output_html .nb { color: #008000 } /* Name.Builtin */\n.output_html .nc { color: #0000FF; font-weight: bold } /* Name.Class */\n.output_html .no { color: #880000 } /* Name.Constant */\n.output_html .nd { color: #AA22FF } /* Name.Decorator */\n.output_html .ni { color: #999999; font-weight: bold } /* Name.Entity */\n.output_html .ne { color: #D2413A; font-weight: bold } /* Name.Exception */\n.output_html .nf { color: #0000FF } /* Name.Function */\n.output_html .nl { color: #A0A000 } /* Name.Label */\n.output_html .nn { color: #0000FF; font-weight: bold } /* Name.Namespace */\n.output_html .nt { color: #008000; font-weight: bold } /* Name.Tag */\n.output_html .nv { color: #19177C } /* Name.Variable */\n.output_html .ow { color: #AA22FF; font-weight: bold } /* Operator.Word */\n.output_html .w { color: #bbbbbb } /* Text.Whitespace */\n.output_html .mb { color: #666666 } /* Literal.Number.Bin */\n.output_html .mf { color: #666666 } /* Literal.Number.Float */\n.output_html .mh { color: #666666 } /* Literal.Number.Hex */\n.output_html .mi { color: #666666 } /* Literal.Number.Integer */\n.output_html .mo { color: #666666 } /* Literal.Number.Oct */\n.output_html .sa { color: #BA2121 } /* Literal.String.Affix */\n.output_html .sb { color: #BA2121 } /* Literal.String.Backtick */\n.output_html .sc { color: #BA2121 } /* Literal.String.Char */\n.output_html .dl { color: #BA2121 } /* Literal.String.Delimiter */\n.output_html .sd { color: #BA2121; font-style: italic } /* Literal.String.Doc */\n.output_html .s2 { color: #BA2121 } /* Literal.String.Double */\n.output_html .se { color: #BB6622; font-weight: bold } /* Literal.String.Escape */\n.output_html .sh { color: #BA2121 } /* Literal.String.Heredoc */\n.output_html .si { color: #BB6688; font-weight: bold } /* Literal.String.Interpol */\n.output_html .sx { color: #008000 } /* Literal.String.Other */\n.output_html .sr { color: #BB6688 } /* Literal.String.Regex */\n.output_html .s1 { color: #BA2121 } /* Literal.String.Single */\n.output_html .ss { color: #19177C } /* Literal.String.Symbol */\n.output_html .bp { color: #008000 } /* Name.Builtin.Pseudo */\n.output_html .fm { color: #0000FF } /* Name.Function.Magic */\n.output_html .vc { color: #19177C } /* Name.Variable.Class */\n.output_html .vg { color: #19177C } /* Name.Variable.Global */\n.output_html .vi { color: #19177C } /* Name.Variable.Instance */\n.output_html .vm { color: #19177C } /* Name.Variable.Magic */\n.output_html .il { color: #666666 } /* Literal.Number.Integer.Long */</style><div class=\"highlight\"><pre><span></span><span class=\"kn\">from</span> <span class=\"nn\">sklearn.model_selection</span> <span class=\"kn\">import</span> <span class=\"n\">cross_validate</span>\n\n<span class=\"c1\"># tidy the output into a dataframe</span>\n<span class=\"k\">def</span> <span class=\"nf\">tidy_scores</span><span class=\"p\">(</span><span class=\"n\">score_dict</span><span class=\"p\">):</span>\n    <span class=\"n\">df</span> <span class=\"o\">=</span> <span class=\"n\">pd</span><span class=\"o\">.</span><span class=\"n\">DataFrame</span><span class=\"p\">(</span><span class=\"n\">score_dict</span><span class=\"p\">)</span>\n    <span class=\"n\">df</span><span class=\"o\">.</span><span class=\"n\">loc</span><span class=\"p\">[</span><span class=\"s1\">&#39;mean&#39;</span><span class=\"p\">]</span> <span class=\"o\">=</span> <span class=\"n\">df</span><span class=\"o\">.</span><span class=\"n\">mean</span><span class=\"p\">()</span>\n    <span class=\"n\">df</span><span class=\"o\">.</span><span class=\"n\">loc</span><span class=\"p\">[</span><span class=\"s1\">&#39;sd&#39;</span><span class=\"p\">]</span> <span class=\"o\">=</span> <span class=\"n\">df</span><span class=\"o\">.</span><span class=\"n\">std</span><span class=\"p\">()</span>\n    <span class=\"n\">df</span><span class=\"o\">.</span><span class=\"n\">rename</span><span class=\"p\">({</span><span class=\"s2\">&quot;test_score&quot;</span><span class=\"p\">:</span><span class=\"s2\">&quot;val_score&quot;</span><span class=\"p\">},</span> <span class=\"n\">axis</span><span class=\"o\">=</span><span class=\"mi\">1</span><span class=\"p\">,</span> <span class=\"n\">inplace</span><span class=\"o\">=</span><span class=\"kc\">True</span><span class=\"p\">)</span>\n    <span class=\"n\">df</span><span class=\"o\">.</span><span class=\"n\">index</span><span class=\"o\">.</span><span class=\"n\">name</span> <span class=\"o\">=</span> <span class=\"s2\">&quot;fold&quot;</span>\n    <span class=\"k\">return</span> <span class=\"n\">df</span><span class=\"o\">.</span><span class=\"n\">round</span><span class=\"p\">(</span><span class=\"mi\">2</span><span class=\"p\">)</span>\n\n<span class=\"n\">scores</span> <span class=\"o\">=</span> <span class=\"n\">cross_validate</span><span class=\"p\">(</span><span class=\"n\">reg_pipe_1</span><span class=\"p\">,</span> <span class=\"n\">X_train</span><span class=\"p\">,</span> <span class=\"n\">y_train</span><span class=\"p\">,</span> <span class=\"n\">cv</span><span class=\"o\">=</span><span class=\"mi\">5</span><span class=\"p\">,</span> <span class=\"n\">return_train_score</span><span class=\"o\">=</span><span class=\"kc\">True</span><span class=\"p\">)</span>\n<span class=\"n\">tidy_scores</span><span class=\"p\">(</span><span class=\"n\">scores</span><span class=\"p\">)</span>\n</pre></div>\n",
         "text/latex": "\\begin{Verbatim}[commandchars=\\\\\\{\\}]\n\\PY{k+kn}{from} \\PY{n+nn}{sklearn}\\PY{n+nn}{.}\\PY{n+nn}{model\\PYZus{}selection} \\PY{k+kn}{import} \\PY{n}{cross\\PYZus{}validate}\n\n\\PY{c+c1}{\\PYZsh{} tidy the output into a dataframe}\n\\PY{k}{def} \\PY{n+nf}{tidy\\PYZus{}scores}\\PY{p}{(}\\PY{n}{score\\PYZus{}dict}\\PY{p}{)}\\PY{p}{:}\n    \\PY{n}{df} \\PY{o}{=} \\PY{n}{pd}\\PY{o}{.}\\PY{n}{DataFrame}\\PY{p}{(}\\PY{n}{score\\PYZus{}dict}\\PY{p}{)}\n    \\PY{n}{df}\\PY{o}{.}\\PY{n}{loc}\\PY{p}{[}\\PY{l+s+s1}{\\PYZsq{}}\\PY{l+s+s1}{mean}\\PY{l+s+s1}{\\PYZsq{}}\\PY{p}{]} \\PY{o}{=} \\PY{n}{df}\\PY{o}{.}\\PY{n}{mean}\\PY{p}{(}\\PY{p}{)}\n    \\PY{n}{df}\\PY{o}{.}\\PY{n}{loc}\\PY{p}{[}\\PY{l+s+s1}{\\PYZsq{}}\\PY{l+s+s1}{sd}\\PY{l+s+s1}{\\PYZsq{}}\\PY{p}{]} \\PY{o}{=} \\PY{n}{df}\\PY{o}{.}\\PY{n}{std}\\PY{p}{(}\\PY{p}{)}\n    \\PY{n}{df}\\PY{o}{.}\\PY{n}{rename}\\PY{p}{(}\\PY{p}{\\PYZob{}}\\PY{l+s+s2}{\\PYZdq{}}\\PY{l+s+s2}{test\\PYZus{}score}\\PY{l+s+s2}{\\PYZdq{}}\\PY{p}{:}\\PY{l+s+s2}{\\PYZdq{}}\\PY{l+s+s2}{val\\PYZus{}score}\\PY{l+s+s2}{\\PYZdq{}}\\PY{p}{\\PYZcb{}}\\PY{p}{,} \\PY{n}{axis}\\PY{o}{=}\\PY{l+m+mi}{1}\\PY{p}{,} \\PY{n}{inplace}\\PY{o}{=}\\PY{k+kc}{True}\\PY{p}{)}\n    \\PY{n}{df}\\PY{o}{.}\\PY{n}{index}\\PY{o}{.}\\PY{n}{name} \\PY{o}{=} \\PY{l+s+s2}{\\PYZdq{}}\\PY{l+s+s2}{fold}\\PY{l+s+s2}{\\PYZdq{}}\n    \\PY{k}{return} \\PY{n}{df}\\PY{o}{.}\\PY{n}{round}\\PY{p}{(}\\PY{l+m+mi}{2}\\PY{p}{)}\n\n\\PY{n}{scores} \\PY{o}{=} \\PY{n}{cross\\PYZus{}validate}\\PY{p}{(}\\PY{n}{reg\\PYZus{}pipe\\PYZus{}1}\\PY{p}{,} \\PY{n}{X\\PYZus{}train}\\PY{p}{,} \\PY{n}{y\\PYZus{}train}\\PY{p}{,} \\PY{n}{cv}\\PY{o}{=}\\PY{l+m+mi}{5}\\PY{p}{,} \\PY{n}{return\\PYZus{}train\\PYZus{}score}\\PY{o}{=}\\PY{k+kc}{True}\\PY{p}{)}\n\\PY{n}{tidy\\PYZus{}scores}\\PY{p}{(}\\PY{n}{scores}\\PY{p}{)}\n\\end{Verbatim}\n",
         "text/plain": "from sklearn.model_selection import cross_validate\n\n# tidy the output into a dataframe\ndef tidy_scores(score_dict):\n    df = pd.DataFrame(score_dict)\n    df.loc['mean'] = df.mean()\n    df.loc['sd'] = df.std()\n    df.rename({\"test_score\":\"val_score\"}, axis=1, inplace=True)\n    df.index.name = \"fold\"\n    return df.round(2)\n\nscores = cross_validate(reg_pipe_1, X_train, y_train, cv=5, return_train_score=True)\ntidy_scores(scores)"
        },
        "metadata": {},
        "output_type": "display_data"
       }
      ]
     }
    },
    "6d27a5367d4244f1ac82f8ab1799f95c": {
     "model_module": "@jupyter-widgets/controls",
     "model_module_version": "1.5.0",
     "model_name": "ButtonStyleModel",
     "state": {
      "_model_module": "@jupyter-widgets/controls",
      "_model_module_version": "1.5.0",
      "_model_name": "ButtonStyleModel",
      "_view_count": null,
      "_view_module": "@jupyter-widgets/base",
      "_view_module_version": "1.2.0",
      "_view_name": "StyleView",
      "button_color": null,
      "font_weight": ""
     }
    },
    "6dc7545997f84facb1dd41fd8d7c90f5": {
     "model_module": "@jupyter-widgets/output",
     "model_module_version": "1.0.0",
     "model_name": "OutputModel",
     "state": {
      "_dom_classes": [],
      "_model_module": "@jupyter-widgets/output",
      "_model_module_version": "1.0.0",
      "_model_name": "OutputModel",
      "_view_count": null,
      "_view_module": "@jupyter-widgets/output",
      "_view_module_version": "1.0.0",
      "_view_name": "OutputView",
      "layout": "IPY_MODEL_2592162519294c82a401191958009eb3",
      "msg_id": "",
      "outputs": []
     }
    },
    "6df940deccf941b3968ca91740dbef64": {
     "model_module": "@jupyter-widgets/controls",
     "model_module_version": "1.5.0",
     "model_name": "ButtonStyleModel",
     "state": {
      "_model_module": "@jupyter-widgets/controls",
      "_model_module_version": "1.5.0",
      "_model_name": "ButtonStyleModel",
      "_view_count": null,
      "_view_module": "@jupyter-widgets/base",
      "_view_module_version": "1.2.0",
      "_view_name": "StyleView",
      "button_color": null,
      "font_weight": ""
     }
    },
    "6eb358ac329840ebbf25653a2d8453ae": {
     "model_module": "@jupyter-widgets/controls",
     "model_module_version": "1.5.0",
     "model_name": "ButtonStyleModel",
     "state": {
      "_model_module": "@jupyter-widgets/controls",
      "_model_module_version": "1.5.0",
      "_model_name": "ButtonStyleModel",
      "_view_count": null,
      "_view_module": "@jupyter-widgets/base",
      "_view_module_version": "1.2.0",
      "_view_name": "StyleView",
      "button_color": null,
      "font_weight": ""
     }
    },
    "6fde79daaf194d12964f0a89d44212b8": {
     "model_module": "@jupyter-widgets/controls",
     "model_module_version": "1.5.0",
     "model_name": "ButtonModel",
     "state": {
      "_dom_classes": [],
      "_model_module": "@jupyter-widgets/controls",
      "_model_module_version": "1.5.0",
      "_model_name": "ButtonModel",
      "_view_count": null,
      "_view_module": "@jupyter-widgets/controls",
      "_view_module_version": "1.5.0",
      "_view_name": "ButtonView",
      "button_style": "",
      "description": "Hide solution",
      "disabled": false,
      "icon": "",
      "layout": "IPY_MODEL_51508880568c44ceaee425f5eaa1d7e5",
      "style": "IPY_MODEL_fdf7bb86c04c48ffb0ee426bfec82f7e",
      "tooltip": ""
     }
    },
    "70ea42f4d8a44451b012c1d695796ea3": {
     "model_module": "@jupyter-widgets/base",
     "model_module_version": "1.2.0",
     "model_name": "LayoutModel",
     "state": {
      "_model_module": "@jupyter-widgets/base",
      "_model_module_version": "1.2.0",
      "_model_name": "LayoutModel",
      "_view_count": null,
      "_view_module": "@jupyter-widgets/base",
      "_view_module_version": "1.2.0",
      "_view_name": "LayoutView",
      "align_content": null,
      "align_items": null,
      "align_self": null,
      "border": "1px solid green",
      "bottom": null,
      "display": null,
      "flex": null,
      "flex_flow": null,
      "grid_area": null,
      "grid_auto_columns": null,
      "grid_auto_flow": null,
      "grid_auto_rows": null,
      "grid_column": null,
      "grid_gap": null,
      "grid_row": null,
      "grid_template_areas": null,
      "grid_template_columns": null,
      "grid_template_rows": null,
      "height": null,
      "justify_content": null,
      "justify_items": null,
      "left": null,
      "margin": null,
      "max_height": null,
      "max_width": null,
      "min_height": null,
      "min_width": null,
      "object_fit": null,
      "object_position": null,
      "order": null,
      "overflow": null,
      "overflow_x": null,
      "overflow_y": null,
      "padding": null,
      "right": null,
      "top": null,
      "visibility": null,
      "width": null
     }
    },
    "7277f030f7974357a808c621d76f79c2": {
     "model_module": "@jupyter-widgets/output",
     "model_module_version": "1.0.0",
     "model_name": "OutputModel",
     "state": {
      "_dom_classes": [],
      "_model_module": "@jupyter-widgets/output",
      "_model_module_version": "1.0.0",
      "_model_name": "OutputModel",
      "_view_count": null,
      "_view_module": "@jupyter-widgets/output",
      "_view_module_version": "1.0.0",
      "_view_name": "OutputView",
      "layout": "IPY_MODEL_b0ea606631b845e5ae554d3ba0a8f263",
      "msg_id": "",
      "outputs": []
     }
    },
    "72e81e92d9ff4a69ac5ee2949c9f6705": {
     "model_module": "@jupyter-widgets/base",
     "model_module_version": "1.2.0",
     "model_name": "LayoutModel",
     "state": {
      "_model_module": "@jupyter-widgets/base",
      "_model_module_version": "1.2.0",
      "_model_name": "LayoutModel",
      "_view_count": null,
      "_view_module": "@jupyter-widgets/base",
      "_view_module_version": "1.2.0",
      "_view_name": "LayoutView",
      "align_content": null,
      "align_items": null,
      "align_self": null,
      "border": "1px solid green",
      "bottom": null,
      "display": null,
      "flex": null,
      "flex_flow": null,
      "grid_area": null,
      "grid_auto_columns": null,
      "grid_auto_flow": null,
      "grid_auto_rows": null,
      "grid_column": null,
      "grid_gap": null,
      "grid_row": null,
      "grid_template_areas": null,
      "grid_template_columns": null,
      "grid_template_rows": null,
      "height": null,
      "justify_content": null,
      "justify_items": null,
      "left": null,
      "margin": null,
      "max_height": null,
      "max_width": null,
      "min_height": null,
      "min_width": null,
      "object_fit": null,
      "object_position": null,
      "order": null,
      "overflow": null,
      "overflow_x": null,
      "overflow_y": null,
      "padding": null,
      "right": null,
      "top": null,
      "visibility": null,
      "width": null
     }
    },
    "737e8c95e62e46b9a78ffb5e6f99ed0c": {
     "model_module": "@jupyter-widgets/base",
     "model_module_version": "1.2.0",
     "model_name": "LayoutModel",
     "state": {
      "_model_module": "@jupyter-widgets/base",
      "_model_module_version": "1.2.0",
      "_model_name": "LayoutModel",
      "_view_count": null,
      "_view_module": "@jupyter-widgets/base",
      "_view_module_version": "1.2.0",
      "_view_name": "LayoutView",
      "align_content": null,
      "align_items": null,
      "align_self": null,
      "border": null,
      "bottom": null,
      "display": null,
      "flex": null,
      "flex_flow": null,
      "grid_area": null,
      "grid_auto_columns": null,
      "grid_auto_flow": null,
      "grid_auto_rows": null,
      "grid_column": null,
      "grid_gap": null,
      "grid_row": null,
      "grid_template_areas": null,
      "grid_template_columns": null,
      "grid_template_rows": null,
      "height": null,
      "justify_content": null,
      "justify_items": null,
      "left": null,
      "margin": null,
      "max_height": null,
      "max_width": null,
      "min_height": null,
      "min_width": null,
      "object_fit": null,
      "object_position": null,
      "order": null,
      "overflow": null,
      "overflow_x": null,
      "overflow_y": null,
      "padding": null,
      "right": null,
      "top": null,
      "visibility": null,
      "width": null
     }
    },
    "73fc4bd619ba4971b2ef71f1e5b06744": {
     "model_module": "@jupyter-widgets/output",
     "model_module_version": "1.0.0",
     "model_name": "OutputModel",
     "state": {
      "_dom_classes": [],
      "_model_module": "@jupyter-widgets/output",
      "_model_module_version": "1.0.0",
      "_model_name": "OutputModel",
      "_view_count": null,
      "_view_module": "@jupyter-widgets/output",
      "_view_module_version": "1.0.0",
      "_view_name": "OutputView",
      "layout": "IPY_MODEL_f4176dc5ef9a4347bc1b24a54a9e8d2c",
      "msg_id": "",
      "outputs": [
       {
        "data": {
         "text/html": "<style>.output_html .hll { background-color: #ffffcc }\n.output_html  { background: #f8f8f8; }\n.output_html .c { color: #408080; font-style: italic } /* Comment */\n.output_html .err { border: 1px solid #FF0000 } /* Error */\n.output_html .k { color: #008000; font-weight: bold } /* Keyword */\n.output_html .o { color: #666666 } /* Operator */\n.output_html .ch { color: #408080; font-style: italic } /* Comment.Hashbang */\n.output_html .cm { color: #408080; font-style: italic } /* Comment.Multiline */\n.output_html .cp { color: #BC7A00 } /* Comment.Preproc */\n.output_html .cpf { color: #408080; font-style: italic } /* Comment.PreprocFile */\n.output_html .c1 { color: #408080; font-style: italic } /* Comment.Single */\n.output_html .cs { color: #408080; font-style: italic } /* Comment.Special */\n.output_html .gd { color: #A00000 } /* Generic.Deleted */\n.output_html .ge { font-style: italic } /* Generic.Emph */\n.output_html .gr { color: #FF0000 } /* Generic.Error */\n.output_html .gh { color: #000080; font-weight: bold } /* Generic.Heading */\n.output_html .gi { color: #00A000 } /* Generic.Inserted */\n.output_html .go { color: #888888 } /* Generic.Output */\n.output_html .gp { color: #000080; font-weight: bold } /* Generic.Prompt */\n.output_html .gs { font-weight: bold } /* Generic.Strong */\n.output_html .gu { color: #800080; font-weight: bold } /* Generic.Subheading */\n.output_html .gt { color: #0044DD } /* Generic.Traceback */\n.output_html .kc { color: #008000; font-weight: bold } /* Keyword.Constant */\n.output_html .kd { color: #008000; font-weight: bold } /* Keyword.Declaration */\n.output_html .kn { color: #008000; font-weight: bold } /* Keyword.Namespace */\n.output_html .kp { color: #008000 } /* Keyword.Pseudo */\n.output_html .kr { color: #008000; font-weight: bold } /* Keyword.Reserved */\n.output_html .kt { color: #B00040 } /* Keyword.Type */\n.output_html .m { color: #666666 } /* Literal.Number */\n.output_html .s { color: #BA2121 } /* Literal.String */\n.output_html .na { color: #7D9029 } /* Name.Attribute */\n.output_html .nb { color: #008000 } /* Name.Builtin */\n.output_html .nc { color: #0000FF; font-weight: bold } /* Name.Class */\n.output_html .no { color: #880000 } /* Name.Constant */\n.output_html .nd { color: #AA22FF } /* Name.Decorator */\n.output_html .ni { color: #999999; font-weight: bold } /* Name.Entity */\n.output_html .ne { color: #D2413A; font-weight: bold } /* Name.Exception */\n.output_html .nf { color: #0000FF } /* Name.Function */\n.output_html .nl { color: #A0A000 } /* Name.Label */\n.output_html .nn { color: #0000FF; font-weight: bold } /* Name.Namespace */\n.output_html .nt { color: #008000; font-weight: bold } /* Name.Tag */\n.output_html .nv { color: #19177C } /* Name.Variable */\n.output_html .ow { color: #AA22FF; font-weight: bold } /* Operator.Word */\n.output_html .w { color: #bbbbbb } /* Text.Whitespace */\n.output_html .mb { color: #666666 } /* Literal.Number.Bin */\n.output_html .mf { color: #666666 } /* Literal.Number.Float */\n.output_html .mh { color: #666666 } /* Literal.Number.Hex */\n.output_html .mi { color: #666666 } /* Literal.Number.Integer */\n.output_html .mo { color: #666666 } /* Literal.Number.Oct */\n.output_html .sa { color: #BA2121 } /* Literal.String.Affix */\n.output_html .sb { color: #BA2121 } /* Literal.String.Backtick */\n.output_html .sc { color: #BA2121 } /* Literal.String.Char */\n.output_html .dl { color: #BA2121 } /* Literal.String.Delimiter */\n.output_html .sd { color: #BA2121; font-style: italic } /* Literal.String.Doc */\n.output_html .s2 { color: #BA2121 } /* Literal.String.Double */\n.output_html .se { color: #BB6622; font-weight: bold } /* Literal.String.Escape */\n.output_html .sh { color: #BA2121 } /* Literal.String.Heredoc */\n.output_html .si { color: #BB6688; font-weight: bold } /* Literal.String.Interpol */\n.output_html .sx { color: #008000 } /* Literal.String.Other */\n.output_html .sr { color: #BB6688 } /* Literal.String.Regex */\n.output_html .s1 { color: #BA2121 } /* Literal.String.Single */\n.output_html .ss { color: #19177C } /* Literal.String.Symbol */\n.output_html .bp { color: #008000 } /* Name.Builtin.Pseudo */\n.output_html .fm { color: #0000FF } /* Name.Function.Magic */\n.output_html .vc { color: #19177C } /* Name.Variable.Class */\n.output_html .vg { color: #19177C } /* Name.Variable.Global */\n.output_html .vi { color: #19177C } /* Name.Variable.Instance */\n.output_html .vm { color: #19177C } /* Name.Variable.Magic */\n.output_html .il { color: #666666 } /* Literal.Number.Integer.Long */</style><div class=\"highlight\"><pre><span></span><span class=\"n\">dup_num</span> <span class=\"o\">=</span> <span class=\"n\">pd</span><span class=\"o\">.</span><span class=\"n\">DataFrame</span><span class=\"p\">(</span><span class=\"n\">X_train</span><span class=\"p\">)</span><span class=\"o\">.</span><span class=\"n\">duplicated</span><span class=\"p\">()</span><span class=\"o\">.</span><span class=\"n\">sum</span><span class=\"p\">()</span>\n<span class=\"nb\">print</span><span class=\"p\">(</span><span class=\"s2\">&quot;There are </span><span class=\"si\">{}</span><span class=\"s2\"> duplicated values in this data&quot;</span><span class=\"o\">.</span><span class=\"n\">format</span><span class=\"p\">(</span><span class=\"n\">dup_num</span><span class=\"p\">))</span>\n</pre></div>\n",
         "text/latex": "\\begin{Verbatim}[commandchars=\\\\\\{\\}]\n\\PY{n}{dup\\PYZus{}num} \\PY{o}{=} \\PY{n}{pd}\\PY{o}{.}\\PY{n}{DataFrame}\\PY{p}{(}\\PY{n}{X\\PYZus{}train}\\PY{p}{)}\\PY{o}{.}\\PY{n}{duplicated}\\PY{p}{(}\\PY{p}{)}\\PY{o}{.}\\PY{n}{sum}\\PY{p}{(}\\PY{p}{)}\n\\PY{n+nb}{print}\\PY{p}{(}\\PY{l+s+s2}{\\PYZdq{}}\\PY{l+s+s2}{There are }\\PY{l+s+si}{\\PYZob{}\\PYZcb{}}\\PY{l+s+s2}{ duplicated values in this data}\\PY{l+s+s2}{\\PYZdq{}}\\PY{o}{.}\\PY{n}{format}\\PY{p}{(}\\PY{n}{dup\\PYZus{}num}\\PY{p}{)}\\PY{p}{)}\n\\end{Verbatim}\n",
         "text/plain": "dup_num = pd.DataFrame(X_train).duplicated().sum()\nprint(\"There are {} duplicated values in this data\".format(dup_num))"
        },
        "metadata": {},
        "output_type": "display_data"
       }
      ]
     }
    },
    "743e51fac04b408b8f98735ae7ef8388": {
     "model_module": "@jupyter-widgets/controls",
     "model_module_version": "1.5.0",
     "model_name": "ButtonModel",
     "state": {
      "_dom_classes": [],
      "_model_module": "@jupyter-widgets/controls",
      "_model_module_version": "1.5.0",
      "_model_name": "ButtonModel",
      "_view_count": null,
      "_view_module": "@jupyter-widgets/controls",
      "_view_module_version": "1.5.0",
      "_view_name": "ButtonView",
      "button_style": "",
      "description": "Hide solution",
      "disabled": false,
      "icon": "",
      "layout": "IPY_MODEL_e859cf098b7c4d94a8c311859b93c16e",
      "style": "IPY_MODEL_74a77e132d8546cd852f3f66985bf232",
      "tooltip": ""
     }
    },
    "749ce01e9e8c46a0bed1a84dcaca2fb3": {
     "model_module": "@jupyter-widgets/base",
     "model_module_version": "1.2.0",
     "model_name": "LayoutModel",
     "state": {
      "_model_module": "@jupyter-widgets/base",
      "_model_module_version": "1.2.0",
      "_model_name": "LayoutModel",
      "_view_count": null,
      "_view_module": "@jupyter-widgets/base",
      "_view_module_version": "1.2.0",
      "_view_name": "LayoutView",
      "align_content": null,
      "align_items": null,
      "align_self": null,
      "border": "1px solid green",
      "bottom": null,
      "display": null,
      "flex": null,
      "flex_flow": null,
      "grid_area": null,
      "grid_auto_columns": null,
      "grid_auto_flow": null,
      "grid_auto_rows": null,
      "grid_column": null,
      "grid_gap": null,
      "grid_row": null,
      "grid_template_areas": null,
      "grid_template_columns": null,
      "grid_template_rows": null,
      "height": null,
      "justify_content": null,
      "justify_items": null,
      "left": null,
      "margin": null,
      "max_height": null,
      "max_width": null,
      "min_height": null,
      "min_width": null,
      "object_fit": null,
      "object_position": null,
      "order": null,
      "overflow": null,
      "overflow_x": null,
      "overflow_y": null,
      "padding": null,
      "right": null,
      "top": null,
      "visibility": null,
      "width": null
     }
    },
    "74a77e132d8546cd852f3f66985bf232": {
     "model_module": "@jupyter-widgets/controls",
     "model_module_version": "1.5.0",
     "model_name": "ButtonStyleModel",
     "state": {
      "_model_module": "@jupyter-widgets/controls",
      "_model_module_version": "1.5.0",
      "_model_name": "ButtonStyleModel",
      "_view_count": null,
      "_view_module": "@jupyter-widgets/base",
      "_view_module_version": "1.2.0",
      "_view_name": "StyleView",
      "button_color": null,
      "font_weight": ""
     }
    },
    "754987cb430d4c49b3b4c9ace0fda96e": {
     "model_module": "@jupyter-widgets/base",
     "model_module_version": "1.2.0",
     "model_name": "LayoutModel",
     "state": {
      "_model_module": "@jupyter-widgets/base",
      "_model_module_version": "1.2.0",
      "_model_name": "LayoutModel",
      "_view_count": null,
      "_view_module": "@jupyter-widgets/base",
      "_view_module_version": "1.2.0",
      "_view_name": "LayoutView",
      "align_content": null,
      "align_items": null,
      "align_self": null,
      "border": "1px solid green",
      "bottom": null,
      "display": null,
      "flex": null,
      "flex_flow": null,
      "grid_area": null,
      "grid_auto_columns": null,
      "grid_auto_flow": null,
      "grid_auto_rows": null,
      "grid_column": null,
      "grid_gap": null,
      "grid_row": null,
      "grid_template_areas": null,
      "grid_template_columns": null,
      "grid_template_rows": null,
      "height": null,
      "justify_content": null,
      "justify_items": null,
      "left": null,
      "margin": null,
      "max_height": null,
      "max_width": null,
      "min_height": null,
      "min_width": null,
      "object_fit": null,
      "object_position": null,
      "order": null,
      "overflow": null,
      "overflow_x": null,
      "overflow_y": null,
      "padding": null,
      "right": null,
      "top": null,
      "visibility": null,
      "width": null
     }
    },
    "759817db8e7e420fba0e022a558bd7f7": {
     "model_module": "@jupyter-widgets/output",
     "model_module_version": "1.0.0",
     "model_name": "OutputModel",
     "state": {
      "_dom_classes": [],
      "_model_module": "@jupyter-widgets/output",
      "_model_module_version": "1.0.0",
      "_model_name": "OutputModel",
      "_view_count": null,
      "_view_module": "@jupyter-widgets/output",
      "_view_module_version": "1.0.0",
      "_view_name": "OutputView",
      "layout": "IPY_MODEL_5c163bb196d448f9b20ac2c95406ccfb",
      "msg_id": "",
      "outputs": [
       {
        "data": {
         "text/html": "<style>.output_html .hll { background-color: #ffffcc }\n.output_html  { background: #f8f8f8; }\n.output_html .c { color: #408080; font-style: italic } /* Comment */\n.output_html .err { border: 1px solid #FF0000 } /* Error */\n.output_html .k { color: #008000; font-weight: bold } /* Keyword */\n.output_html .o { color: #666666 } /* Operator */\n.output_html .ch { color: #408080; font-style: italic } /* Comment.Hashbang */\n.output_html .cm { color: #408080; font-style: italic } /* Comment.Multiline */\n.output_html .cp { color: #BC7A00 } /* Comment.Preproc */\n.output_html .cpf { color: #408080; font-style: italic } /* Comment.PreprocFile */\n.output_html .c1 { color: #408080; font-style: italic } /* Comment.Single */\n.output_html .cs { color: #408080; font-style: italic } /* Comment.Special */\n.output_html .gd { color: #A00000 } /* Generic.Deleted */\n.output_html .ge { font-style: italic } /* Generic.Emph */\n.output_html .gr { color: #FF0000 } /* Generic.Error */\n.output_html .gh { color: #000080; font-weight: bold } /* Generic.Heading */\n.output_html .gi { color: #00A000 } /* Generic.Inserted */\n.output_html .go { color: #888888 } /* Generic.Output */\n.output_html .gp { color: #000080; font-weight: bold } /* Generic.Prompt */\n.output_html .gs { font-weight: bold } /* Generic.Strong */\n.output_html .gu { color: #800080; font-weight: bold } /* Generic.Subheading */\n.output_html .gt { color: #0044DD } /* Generic.Traceback */\n.output_html .kc { color: #008000; font-weight: bold } /* Keyword.Constant */\n.output_html .kd { color: #008000; font-weight: bold } /* Keyword.Declaration */\n.output_html .kn { color: #008000; font-weight: bold } /* Keyword.Namespace */\n.output_html .kp { color: #008000 } /* Keyword.Pseudo */\n.output_html .kr { color: #008000; font-weight: bold } /* Keyword.Reserved */\n.output_html .kt { color: #B00040 } /* Keyword.Type */\n.output_html .m { color: #666666 } /* Literal.Number */\n.output_html .s { color: #BA2121 } /* Literal.String */\n.output_html .na { color: #7D9029 } /* Name.Attribute */\n.output_html .nb { color: #008000 } /* Name.Builtin */\n.output_html .nc { color: #0000FF; font-weight: bold } /* Name.Class */\n.output_html .no { color: #880000 } /* Name.Constant */\n.output_html .nd { color: #AA22FF } /* Name.Decorator */\n.output_html .ni { color: #999999; font-weight: bold } /* Name.Entity */\n.output_html .ne { color: #D2413A; font-weight: bold } /* Name.Exception */\n.output_html .nf { color: #0000FF } /* Name.Function */\n.output_html .nl { color: #A0A000 } /* Name.Label */\n.output_html .nn { color: #0000FF; font-weight: bold } /* Name.Namespace */\n.output_html .nt { color: #008000; font-weight: bold } /* Name.Tag */\n.output_html .nv { color: #19177C } /* Name.Variable */\n.output_html .ow { color: #AA22FF; font-weight: bold } /* Operator.Word */\n.output_html .w { color: #bbbbbb } /* Text.Whitespace */\n.output_html .mb { color: #666666 } /* Literal.Number.Bin */\n.output_html .mf { color: #666666 } /* Literal.Number.Float */\n.output_html .mh { color: #666666 } /* Literal.Number.Hex */\n.output_html .mi { color: #666666 } /* Literal.Number.Integer */\n.output_html .mo { color: #666666 } /* Literal.Number.Oct */\n.output_html .sa { color: #BA2121 } /* Literal.String.Affix */\n.output_html .sb { color: #BA2121 } /* Literal.String.Backtick */\n.output_html .sc { color: #BA2121 } /* Literal.String.Char */\n.output_html .dl { color: #BA2121 } /* Literal.String.Delimiter */\n.output_html .sd { color: #BA2121; font-style: italic } /* Literal.String.Doc */\n.output_html .s2 { color: #BA2121 } /* Literal.String.Double */\n.output_html .se { color: #BB6622; font-weight: bold } /* Literal.String.Escape */\n.output_html .sh { color: #BA2121 } /* Literal.String.Heredoc */\n.output_html .si { color: #BB6688; font-weight: bold } /* Literal.String.Interpol */\n.output_html .sx { color: #008000 } /* Literal.String.Other */\n.output_html .sr { color: #BB6688 } /* Literal.String.Regex */\n.output_html .s1 { color: #BA2121 } /* Literal.String.Single */\n.output_html .ss { color: #19177C } /* Literal.String.Symbol */\n.output_html .bp { color: #008000 } /* Name.Builtin.Pseudo */\n.output_html .fm { color: #0000FF } /* Name.Function.Magic */\n.output_html .vc { color: #19177C } /* Name.Variable.Class */\n.output_html .vg { color: #19177C } /* Name.Variable.Global */\n.output_html .vi { color: #19177C } /* Name.Variable.Instance */\n.output_html .vm { color: #19177C } /* Name.Variable.Magic */\n.output_html .il { color: #666666 } /* Literal.Number.Integer.Long */</style><div class=\"highlight\"><pre><span></span><span class=\"n\">fig</span><span class=\"p\">,</span> <span class=\"n\">axes</span> <span class=\"o\">=</span> <span class=\"n\">plt</span><span class=\"o\">.</span><span class=\"n\">subplots</span><span class=\"p\">(</span><span class=\"n\">figsize</span> <span class=\"o\">=</span> <span class=\"p\">(</span><span class=\"mi\">15</span><span class=\"p\">,</span><span class=\"mi\">5</span><span class=\"p\">),</span> <span class=\"n\">ncols</span><span class=\"o\">=</span><span class=\"n\">X_train</span><span class=\"o\">.</span><span class=\"n\">shape</span><span class=\"p\">[</span><span class=\"o\">-</span><span class=\"mi\">1</span><span class=\"p\">]</span><span class=\"o\">//</span><span class=\"mi\">2</span><span class=\"p\">,</span> <span class=\"n\">nrows</span><span class=\"o\">=</span><span class=\"mi\">2</span><span class=\"p\">,</span> <span class=\"n\">sharex</span><span class=\"o\">=</span><span class=\"kc\">True</span><span class=\"p\">)</span>\n<span class=\"n\">axes</span> <span class=\"o\">=</span> <span class=\"n\">axes</span><span class=\"o\">.</span><span class=\"n\">flatten</span><span class=\"p\">()</span>\n\n<span class=\"k\">for</span> <span class=\"n\">i</span><span class=\"p\">,</span> <span class=\"n\">ax</span> <span class=\"ow\">in</span> <span class=\"nb\">enumerate</span><span class=\"p\">(</span><span class=\"n\">axes</span><span class=\"p\">):</span>\n    <span class=\"n\">sns</span><span class=\"o\">.</span><span class=\"n\">boxplot</span><span class=\"p\">(</span><span class=\"n\">y</span><span class=\"o\">=</span><span class=\"n\">X_train</span><span class=\"p\">[:,</span><span class=\"n\">i</span><span class=\"p\">],</span> <span class=\"n\">ax</span> <span class=\"o\">=</span> <span class=\"n\">ax</span><span class=\"p\">)</span> \n    <span class=\"n\">ax</span><span class=\"o\">.</span><span class=\"n\">set_title</span><span class=\"p\">(</span><span class=\"n\">features</span><span class=\"p\">[</span><span class=\"n\">i</span><span class=\"p\">])</span>\n    <span class=\"n\">ax</span><span class=\"o\">.</span><span class=\"n\">set_ylabel</span><span class=\"p\">(</span><span class=\"s2\">&quot;&quot;</span><span class=\"p\">)</span>\n    \n<span class=\"n\">plt</span><span class=\"o\">.</span><span class=\"n\">suptitle</span><span class=\"p\">(</span><span class=\"s2\">&quot;Boxplots&quot;</span><span class=\"p\">)</span>\n<span class=\"n\">plt</span><span class=\"o\">.</span><span class=\"n\">tight_layout</span><span class=\"p\">()</span>\n<span class=\"n\">plt</span><span class=\"o\">.</span><span class=\"n\">show</span><span class=\"p\">()</span>\n</pre></div>\n",
         "text/latex": "\\begin{Verbatim}[commandchars=\\\\\\{\\}]\n\\PY{n}{fig}\\PY{p}{,} \\PY{n}{axes} \\PY{o}{=} \\PY{n}{plt}\\PY{o}{.}\\PY{n}{subplots}\\PY{p}{(}\\PY{n}{figsize} \\PY{o}{=} \\PY{p}{(}\\PY{l+m+mi}{15}\\PY{p}{,}\\PY{l+m+mi}{5}\\PY{p}{)}\\PY{p}{,} \\PY{n}{ncols}\\PY{o}{=}\\PY{n}{X\\PYZus{}train}\\PY{o}{.}\\PY{n}{shape}\\PY{p}{[}\\PY{o}{\\PYZhy{}}\\PY{l+m+mi}{1}\\PY{p}{]}\\PY{o}{/}\\PY{o}{/}\\PY{l+m+mi}{2}\\PY{p}{,} \\PY{n}{nrows}\\PY{o}{=}\\PY{l+m+mi}{2}\\PY{p}{,} \\PY{n}{sharex}\\PY{o}{=}\\PY{k+kc}{True}\\PY{p}{)}\n\\PY{n}{axes} \\PY{o}{=} \\PY{n}{axes}\\PY{o}{.}\\PY{n}{flatten}\\PY{p}{(}\\PY{p}{)}\n\n\\PY{k}{for} \\PY{n}{i}\\PY{p}{,} \\PY{n}{ax} \\PY{o+ow}{in} \\PY{n+nb}{enumerate}\\PY{p}{(}\\PY{n}{axes}\\PY{p}{)}\\PY{p}{:}\n    \\PY{n}{sns}\\PY{o}{.}\\PY{n}{boxplot}\\PY{p}{(}\\PY{n}{y}\\PY{o}{=}\\PY{n}{X\\PYZus{}train}\\PY{p}{[}\\PY{p}{:}\\PY{p}{,}\\PY{n}{i}\\PY{p}{]}\\PY{p}{,} \\PY{n}{ax} \\PY{o}{=} \\PY{n}{ax}\\PY{p}{)} \n    \\PY{n}{ax}\\PY{o}{.}\\PY{n}{set\\PYZus{}title}\\PY{p}{(}\\PY{n}{features}\\PY{p}{[}\\PY{n}{i}\\PY{p}{]}\\PY{p}{)}\n    \\PY{n}{ax}\\PY{o}{.}\\PY{n}{set\\PYZus{}ylabel}\\PY{p}{(}\\PY{l+s+s2}{\\PYZdq{}}\\PY{l+s+s2}{\\PYZdq{}}\\PY{p}{)}\n    \n\\PY{n}{plt}\\PY{o}{.}\\PY{n}{suptitle}\\PY{p}{(}\\PY{l+s+s2}{\\PYZdq{}}\\PY{l+s+s2}{Boxplots}\\PY{l+s+s2}{\\PYZdq{}}\\PY{p}{)}\n\\PY{n}{plt}\\PY{o}{.}\\PY{n}{tight\\PYZus{}layout}\\PY{p}{(}\\PY{p}{)}\n\\PY{n}{plt}\\PY{o}{.}\\PY{n}{show}\\PY{p}{(}\\PY{p}{)}\n\\end{Verbatim}\n",
         "text/plain": "fig, axes = plt.subplots(figsize = (15,5), ncols=X_train.shape[-1]//2, nrows=2, sharex=True)\naxes = axes.flatten()\n\nfor i, ax in enumerate(axes):\n    sns.boxplot(y=X_train[:,i], ax = ax) \n    ax.set_title(features[i])\n    ax.set_ylabel(\"\")\n    \nplt.suptitle(\"Boxplots\")\nplt.tight_layout()\nplt.show()"
        },
        "metadata": {},
        "output_type": "display_data"
       },
       {
        "data": {
         "text/markdown": "From the boxplots above, we can see that a number of observations fall outside of the 75th quantiles. \n",
         "text/plain": "<IPython.core.display.Markdown object>"
        },
        "metadata": {},
        "output_type": "display_data"
       }
      ]
     }
    },
    "76c149b1bc2d4f7ebc3e32c1aac3625e": {
     "model_module": "@jupyter-widgets/base",
     "model_module_version": "1.2.0",
     "model_name": "LayoutModel",
     "state": {
      "_model_module": "@jupyter-widgets/base",
      "_model_module_version": "1.2.0",
      "_model_name": "LayoutModel",
      "_view_count": null,
      "_view_module": "@jupyter-widgets/base",
      "_view_module_version": "1.2.0",
      "_view_name": "LayoutView",
      "align_content": null,
      "align_items": null,
      "align_self": null,
      "border": "1px solid green",
      "bottom": null,
      "display": null,
      "flex": null,
      "flex_flow": null,
      "grid_area": null,
      "grid_auto_columns": null,
      "grid_auto_flow": null,
      "grid_auto_rows": null,
      "grid_column": null,
      "grid_gap": null,
      "grid_row": null,
      "grid_template_areas": null,
      "grid_template_columns": null,
      "grid_template_rows": null,
      "height": null,
      "justify_content": null,
      "justify_items": null,
      "left": null,
      "margin": null,
      "max_height": null,
      "max_width": null,
      "min_height": null,
      "min_width": null,
      "object_fit": null,
      "object_position": null,
      "order": null,
      "overflow": null,
      "overflow_x": null,
      "overflow_y": null,
      "padding": null,
      "right": null,
      "top": null,
      "visibility": null,
      "width": null
     }
    },
    "77c2395a7ba445b1bfa0d8d236d8b3af": {
     "model_module": "@jupyter-widgets/base",
     "model_module_version": "1.2.0",
     "model_name": "LayoutModel",
     "state": {
      "_model_module": "@jupyter-widgets/base",
      "_model_module_version": "1.2.0",
      "_model_name": "LayoutModel",
      "_view_count": null,
      "_view_module": "@jupyter-widgets/base",
      "_view_module_version": "1.2.0",
      "_view_name": "LayoutView",
      "align_content": null,
      "align_items": null,
      "align_self": null,
      "border": "1px solid green",
      "bottom": null,
      "display": null,
      "flex": null,
      "flex_flow": null,
      "grid_area": null,
      "grid_auto_columns": null,
      "grid_auto_flow": null,
      "grid_auto_rows": null,
      "grid_column": null,
      "grid_gap": null,
      "grid_row": null,
      "grid_template_areas": null,
      "grid_template_columns": null,
      "grid_template_rows": null,
      "height": null,
      "justify_content": null,
      "justify_items": null,
      "left": null,
      "margin": null,
      "max_height": null,
      "max_width": null,
      "min_height": null,
      "min_width": null,
      "object_fit": null,
      "object_position": null,
      "order": null,
      "overflow": null,
      "overflow_x": null,
      "overflow_y": null,
      "padding": null,
      "right": null,
      "top": null,
      "visibility": null,
      "width": null
     }
    },
    "7c32cb42ee3940928c0bb69f82410e18": {
     "model_module": "@jupyter-widgets/controls",
     "model_module_version": "1.5.0",
     "model_name": "ButtonStyleModel",
     "state": {
      "_model_module": "@jupyter-widgets/controls",
      "_model_module_version": "1.5.0",
      "_model_name": "ButtonStyleModel",
      "_view_count": null,
      "_view_module": "@jupyter-widgets/base",
      "_view_module_version": "1.2.0",
      "_view_name": "StyleView",
      "button_color": null,
      "font_weight": ""
     }
    },
    "7ec89bd3a5c6459694769ca926b58fdb": {
     "model_module": "@jupyter-widgets/base",
     "model_module_version": "1.2.0",
     "model_name": "LayoutModel",
     "state": {
      "_model_module": "@jupyter-widgets/base",
      "_model_module_version": "1.2.0",
      "_model_name": "LayoutModel",
      "_view_count": null,
      "_view_module": "@jupyter-widgets/base",
      "_view_module_version": "1.2.0",
      "_view_name": "LayoutView",
      "align_content": null,
      "align_items": null,
      "align_self": null,
      "border": null,
      "bottom": null,
      "display": null,
      "flex": null,
      "flex_flow": null,
      "grid_area": null,
      "grid_auto_columns": null,
      "grid_auto_flow": null,
      "grid_auto_rows": null,
      "grid_column": null,
      "grid_gap": null,
      "grid_row": null,
      "grid_template_areas": null,
      "grid_template_columns": null,
      "grid_template_rows": null,
      "height": null,
      "justify_content": null,
      "justify_items": null,
      "left": null,
      "margin": null,
      "max_height": null,
      "max_width": null,
      "min_height": null,
      "min_width": null,
      "object_fit": null,
      "object_position": null,
      "order": null,
      "overflow": null,
      "overflow_x": null,
      "overflow_y": null,
      "padding": null,
      "right": null,
      "top": null,
      "visibility": null,
      "width": null
     }
    },
    "7efe898190924c2089251cc159b60a17": {
     "model_module": "@jupyter-widgets/controls",
     "model_module_version": "1.5.0",
     "model_name": "ButtonStyleModel",
     "state": {
      "_model_module": "@jupyter-widgets/controls",
      "_model_module_version": "1.5.0",
      "_model_name": "ButtonStyleModel",
      "_view_count": null,
      "_view_module": "@jupyter-widgets/base",
      "_view_module_version": "1.2.0",
      "_view_name": "StyleView",
      "button_color": null,
      "font_weight": ""
     }
    },
    "8056ac83c37e4488be455fd8dd1927d4": {
     "model_module": "@jupyter-widgets/base",
     "model_module_version": "1.2.0",
     "model_name": "LayoutModel",
     "state": {
      "_model_module": "@jupyter-widgets/base",
      "_model_module_version": "1.2.0",
      "_model_name": "LayoutModel",
      "_view_count": null,
      "_view_module": "@jupyter-widgets/base",
      "_view_module_version": "1.2.0",
      "_view_name": "LayoutView",
      "align_content": null,
      "align_items": null,
      "align_self": null,
      "border": null,
      "bottom": null,
      "display": null,
      "flex": null,
      "flex_flow": null,
      "grid_area": null,
      "grid_auto_columns": null,
      "grid_auto_flow": null,
      "grid_auto_rows": null,
      "grid_column": null,
      "grid_gap": null,
      "grid_row": null,
      "grid_template_areas": null,
      "grid_template_columns": null,
      "grid_template_rows": null,
      "height": null,
      "justify_content": null,
      "justify_items": null,
      "left": null,
      "margin": null,
      "max_height": null,
      "max_width": null,
      "min_height": null,
      "min_width": null,
      "object_fit": null,
      "object_position": null,
      "order": null,
      "overflow": null,
      "overflow_x": null,
      "overflow_y": null,
      "padding": null,
      "right": null,
      "top": null,
      "visibility": null,
      "width": null
     }
    },
    "824cd23d6441407e8aa7f3af00e7fcf1": {
     "model_module": "@jupyter-widgets/base",
     "model_module_version": "1.2.0",
     "model_name": "LayoutModel",
     "state": {
      "_model_module": "@jupyter-widgets/base",
      "_model_module_version": "1.2.0",
      "_model_name": "LayoutModel",
      "_view_count": null,
      "_view_module": "@jupyter-widgets/base",
      "_view_module_version": "1.2.0",
      "_view_name": "LayoutView",
      "align_content": null,
      "align_items": null,
      "align_self": null,
      "border": null,
      "bottom": null,
      "display": null,
      "flex": null,
      "flex_flow": null,
      "grid_area": null,
      "grid_auto_columns": null,
      "grid_auto_flow": null,
      "grid_auto_rows": null,
      "grid_column": null,
      "grid_gap": null,
      "grid_row": null,
      "grid_template_areas": null,
      "grid_template_columns": null,
      "grid_template_rows": null,
      "height": null,
      "justify_content": null,
      "justify_items": null,
      "left": null,
      "margin": null,
      "max_height": null,
      "max_width": null,
      "min_height": null,
      "min_width": null,
      "object_fit": null,
      "object_position": null,
      "order": null,
      "overflow": null,
      "overflow_x": null,
      "overflow_y": null,
      "padding": null,
      "right": null,
      "top": null,
      "visibility": null,
      "width": null
     }
    },
    "827109f44b984ca4a82fcbd56de1ef4b": {
     "model_module": "@jupyter-widgets/output",
     "model_module_version": "1.0.0",
     "model_name": "OutputModel",
     "state": {
      "_dom_classes": [],
      "_model_module": "@jupyter-widgets/output",
      "_model_module_version": "1.0.0",
      "_model_name": "OutputModel",
      "_view_count": null,
      "_view_module": "@jupyter-widgets/output",
      "_view_module_version": "1.0.0",
      "_view_name": "OutputView",
      "layout": "IPY_MODEL_341622de9f96490c8c9737f18826d829",
      "msg_id": "",
      "outputs": [
       {
        "data": {
         "text/html": "<style>.output_html .hll { background-color: #ffffcc }\n.output_html  { background: #f8f8f8; }\n.output_html .c { color: #408080; font-style: italic } /* Comment */\n.output_html .err { border: 1px solid #FF0000 } /* Error */\n.output_html .k { color: #008000; font-weight: bold } /* Keyword */\n.output_html .o { color: #666666 } /* Operator */\n.output_html .ch { color: #408080; font-style: italic } /* Comment.Hashbang */\n.output_html .cm { color: #408080; font-style: italic } /* Comment.Multiline */\n.output_html .cp { color: #BC7A00 } /* Comment.Preproc */\n.output_html .cpf { color: #408080; font-style: italic } /* Comment.PreprocFile */\n.output_html .c1 { color: #408080; font-style: italic } /* Comment.Single */\n.output_html .cs { color: #408080; font-style: italic } /* Comment.Special */\n.output_html .gd { color: #A00000 } /* Generic.Deleted */\n.output_html .ge { font-style: italic } /* Generic.Emph */\n.output_html .gr { color: #FF0000 } /* Generic.Error */\n.output_html .gh { color: #000080; font-weight: bold } /* Generic.Heading */\n.output_html .gi { color: #00A000 } /* Generic.Inserted */\n.output_html .go { color: #888888 } /* Generic.Output */\n.output_html .gp { color: #000080; font-weight: bold } /* Generic.Prompt */\n.output_html .gs { font-weight: bold } /* Generic.Strong */\n.output_html .gu { color: #800080; font-weight: bold } /* Generic.Subheading */\n.output_html .gt { color: #0044DD } /* Generic.Traceback */\n.output_html .kc { color: #008000; font-weight: bold } /* Keyword.Constant */\n.output_html .kd { color: #008000; font-weight: bold } /* Keyword.Declaration */\n.output_html .kn { color: #008000; font-weight: bold } /* Keyword.Namespace */\n.output_html .kp { color: #008000 } /* Keyword.Pseudo */\n.output_html .kr { color: #008000; font-weight: bold } /* Keyword.Reserved */\n.output_html .kt { color: #B00040 } /* Keyword.Type */\n.output_html .m { color: #666666 } /* Literal.Number */\n.output_html .s { color: #BA2121 } /* Literal.String */\n.output_html .na { color: #7D9029 } /* Name.Attribute */\n.output_html .nb { color: #008000 } /* Name.Builtin */\n.output_html .nc { color: #0000FF; font-weight: bold } /* Name.Class */\n.output_html .no { color: #880000 } /* Name.Constant */\n.output_html .nd { color: #AA22FF } /* Name.Decorator */\n.output_html .ni { color: #999999; font-weight: bold } /* Name.Entity */\n.output_html .ne { color: #D2413A; font-weight: bold } /* Name.Exception */\n.output_html .nf { color: #0000FF } /* Name.Function */\n.output_html .nl { color: #A0A000 } /* Name.Label */\n.output_html .nn { color: #0000FF; font-weight: bold } /* Name.Namespace */\n.output_html .nt { color: #008000; font-weight: bold } /* Name.Tag */\n.output_html .nv { color: #19177C } /* Name.Variable */\n.output_html .ow { color: #AA22FF; font-weight: bold } /* Operator.Word */\n.output_html .w { color: #bbbbbb } /* Text.Whitespace */\n.output_html .mb { color: #666666 } /* Literal.Number.Bin */\n.output_html .mf { color: #666666 } /* Literal.Number.Float */\n.output_html .mh { color: #666666 } /* Literal.Number.Hex */\n.output_html .mi { color: #666666 } /* Literal.Number.Integer */\n.output_html .mo { color: #666666 } /* Literal.Number.Oct */\n.output_html .sa { color: #BA2121 } /* Literal.String.Affix */\n.output_html .sb { color: #BA2121 } /* Literal.String.Backtick */\n.output_html .sc { color: #BA2121 } /* Literal.String.Char */\n.output_html .dl { color: #BA2121 } /* Literal.String.Delimiter */\n.output_html .sd { color: #BA2121; font-style: italic } /* Literal.String.Doc */\n.output_html .s2 { color: #BA2121 } /* Literal.String.Double */\n.output_html .se { color: #BB6622; font-weight: bold } /* Literal.String.Escape */\n.output_html .sh { color: #BA2121 } /* Literal.String.Heredoc */\n.output_html .si { color: #BB6688; font-weight: bold } /* Literal.String.Interpol */\n.output_html .sx { color: #008000 } /* Literal.String.Other */\n.output_html .sr { color: #BB6688 } /* Literal.String.Regex */\n.output_html .s1 { color: #BA2121 } /* Literal.String.Single */\n.output_html .ss { color: #19177C } /* Literal.String.Symbol */\n.output_html .bp { color: #008000 } /* Name.Builtin.Pseudo */\n.output_html .fm { color: #0000FF } /* Name.Function.Magic */\n.output_html .vc { color: #19177C } /* Name.Variable.Class */\n.output_html .vg { color: #19177C } /* Name.Variable.Global */\n.output_html .vi { color: #19177C } /* Name.Variable.Instance */\n.output_html .vm { color: #19177C } /* Name.Variable.Magic */\n.output_html .il { color: #666666 } /* Literal.Number.Integer.Long */</style><div class=\"highlight\"><pre><span></span><span class=\"n\">housing</span><span class=\"p\">[</span><span class=\"s2\">&quot;ocean_proximity&quot;</span><span class=\"p\">]</span><span class=\"o\">.</span><span class=\"n\">value_counts</span><span class=\"p\">()</span>\n</pre></div>\n",
         "text/latex": "\\begin{Verbatim}[commandchars=\\\\\\{\\}]\n\\PY{n}{housing}\\PY{p}{[}\\PY{l+s+s2}{\\PYZdq{}}\\PY{l+s+s2}{ocean\\PYZus{}proximity}\\PY{l+s+s2}{\\PYZdq{}}\\PY{p}{]}\\PY{o}{.}\\PY{n}{value\\PYZus{}counts}\\PY{p}{(}\\PY{p}{)}\n\\end{Verbatim}\n",
         "text/plain": "housing[\"ocean_proximity\"].value_counts()"
        },
        "metadata": {},
        "output_type": "display_data"
       },
       {
        "data": {
         "text/markdown": "Assuming there are no missing values, we have 5 possible categories. As shown above most properties are either `<1H OCEAN` or `INLAND`, with some near the ocean or bay and only 4 `ISLAND` observations. As there are so few `ISLAND` observations this category may not be that useful.\n",
         "text/plain": "<IPython.core.display.Markdown object>"
        },
        "metadata": {},
        "output_type": "display_data"
       }
      ]
     }
    },
    "828473bec5e54470abd73b06872f2807": {
     "model_module": "@jupyter-widgets/base",
     "model_module_version": "1.2.0",
     "model_name": "LayoutModel",
     "state": {
      "_model_module": "@jupyter-widgets/base",
      "_model_module_version": "1.2.0",
      "_model_name": "LayoutModel",
      "_view_count": null,
      "_view_module": "@jupyter-widgets/base",
      "_view_module_version": "1.2.0",
      "_view_name": "LayoutView",
      "align_content": null,
      "align_items": null,
      "align_self": null,
      "border": null,
      "bottom": null,
      "display": null,
      "flex": null,
      "flex_flow": null,
      "grid_area": null,
      "grid_auto_columns": null,
      "grid_auto_flow": null,
      "grid_auto_rows": null,
      "grid_column": null,
      "grid_gap": null,
      "grid_row": null,
      "grid_template_areas": null,
      "grid_template_columns": null,
      "grid_template_rows": null,
      "height": null,
      "justify_content": null,
      "justify_items": null,
      "left": null,
      "margin": null,
      "max_height": null,
      "max_width": null,
      "min_height": null,
      "min_width": null,
      "object_fit": null,
      "object_position": null,
      "order": null,
      "overflow": null,
      "overflow_x": null,
      "overflow_y": null,
      "padding": null,
      "right": null,
      "top": null,
      "visibility": null,
      "width": null
     }
    },
    "842000728c534d9cae69b4cf04cea6a3": {
     "model_module": "@jupyter-widgets/controls",
     "model_module_version": "1.5.0",
     "model_name": "ButtonStyleModel",
     "state": {
      "_model_module": "@jupyter-widgets/controls",
      "_model_module_version": "1.5.0",
      "_model_name": "ButtonStyleModel",
      "_view_count": null,
      "_view_module": "@jupyter-widgets/base",
      "_view_module_version": "1.2.0",
      "_view_name": "StyleView",
      "button_color": null,
      "font_weight": ""
     }
    },
    "85e6fcd4bb9547b3afc07731a67fffc3": {
     "model_module": "@jupyter-widgets/base",
     "model_module_version": "1.2.0",
     "model_name": "LayoutModel",
     "state": {
      "_model_module": "@jupyter-widgets/base",
      "_model_module_version": "1.2.0",
      "_model_name": "LayoutModel",
      "_view_count": null,
      "_view_module": "@jupyter-widgets/base",
      "_view_module_version": "1.2.0",
      "_view_name": "LayoutView",
      "align_content": null,
      "align_items": null,
      "align_self": null,
      "border": null,
      "bottom": null,
      "display": null,
      "flex": null,
      "flex_flow": null,
      "grid_area": null,
      "grid_auto_columns": null,
      "grid_auto_flow": null,
      "grid_auto_rows": null,
      "grid_column": null,
      "grid_gap": null,
      "grid_row": null,
      "grid_template_areas": null,
      "grid_template_columns": null,
      "grid_template_rows": null,
      "height": null,
      "justify_content": null,
      "justify_items": null,
      "left": null,
      "margin": null,
      "max_height": null,
      "max_width": null,
      "min_height": null,
      "min_width": null,
      "object_fit": null,
      "object_position": null,
      "order": null,
      "overflow": null,
      "overflow_x": null,
      "overflow_y": null,
      "padding": null,
      "right": null,
      "top": null,
      "visibility": null,
      "width": null
     }
    },
    "8762d03ffd654cf4ae8126b4c06828d8": {
     "model_module": "@jupyter-widgets/controls",
     "model_module_version": "1.5.0",
     "model_name": "ButtonStyleModel",
     "state": {
      "_model_module": "@jupyter-widgets/controls",
      "_model_module_version": "1.5.0",
      "_model_name": "ButtonStyleModel",
      "_view_count": null,
      "_view_module": "@jupyter-widgets/base",
      "_view_module_version": "1.2.0",
      "_view_name": "StyleView",
      "button_color": null,
      "font_weight": ""
     }
    },
    "883642b36586447caa839f509908e36c": {
     "model_module": "@jupyter-widgets/output",
     "model_module_version": "1.0.0",
     "model_name": "OutputModel",
     "state": {
      "_dom_classes": [],
      "_model_module": "@jupyter-widgets/output",
      "_model_module_version": "1.0.0",
      "_model_name": "OutputModel",
      "_view_count": null,
      "_view_module": "@jupyter-widgets/output",
      "_view_module_version": "1.0.0",
      "_view_name": "OutputView",
      "layout": "IPY_MODEL_9a06607971524662bd7a575e2fa209f6",
      "msg_id": "",
      "outputs": [
       {
        "data": {
         "text/markdown": "This will be a different task than the previous problem. In this case, getting the price perfectly right is not important at all; your system just needs to get the category right. If that’s so, then the problem should have been framed as a classification task, not a regression task. \n",
         "text/plain": "<IPython.core.display.Markdown object>"
        },
        "metadata": {},
        "output_type": "display_data"
       }
      ]
     }
    },
    "8948de3f3cc74db6a982363e328fae9a": {
     "model_module": "@jupyter-widgets/base",
     "model_module_version": "1.2.0",
     "model_name": "LayoutModel",
     "state": {
      "_model_module": "@jupyter-widgets/base",
      "_model_module_version": "1.2.0",
      "_model_name": "LayoutModel",
      "_view_count": null,
      "_view_module": "@jupyter-widgets/base",
      "_view_module_version": "1.2.0",
      "_view_name": "LayoutView",
      "align_content": null,
      "align_items": null,
      "align_self": null,
      "border": "1px solid green",
      "bottom": null,
      "display": null,
      "flex": null,
      "flex_flow": null,
      "grid_area": null,
      "grid_auto_columns": null,
      "grid_auto_flow": null,
      "grid_auto_rows": null,
      "grid_column": null,
      "grid_gap": null,
      "grid_row": null,
      "grid_template_areas": null,
      "grid_template_columns": null,
      "grid_template_rows": null,
      "height": null,
      "justify_content": null,
      "justify_items": null,
      "left": null,
      "margin": null,
      "max_height": null,
      "max_width": null,
      "min_height": null,
      "min_width": null,
      "object_fit": null,
      "object_position": null,
      "order": null,
      "overflow": null,
      "overflow_x": null,
      "overflow_y": null,
      "padding": null,
      "right": null,
      "top": null,
      "visibility": null,
      "width": null
     }
    },
    "8ace2c0e49f84575aba55659cc0df9c1": {
     "model_module": "@jupyter-widgets/output",
     "model_module_version": "1.0.0",
     "model_name": "OutputModel",
     "state": {
      "_dom_classes": [],
      "_model_module": "@jupyter-widgets/output",
      "_model_module_version": "1.0.0",
      "_model_name": "OutputModel",
      "_view_count": null,
      "_view_module": "@jupyter-widgets/output",
      "_view_module_version": "1.0.0",
      "_view_name": "OutputView",
      "layout": "IPY_MODEL_70ea42f4d8a44451b012c1d695796ea3",
      "msg_id": "",
      "outputs": [
       {
        "data": {
         "text/html": "<style>.output_html .hll { background-color: #ffffcc }\n.output_html  { background: #f8f8f8; }\n.output_html .c { color: #408080; font-style: italic } /* Comment */\n.output_html .err { border: 1px solid #FF0000 } /* Error */\n.output_html .k { color: #008000; font-weight: bold } /* Keyword */\n.output_html .o { color: #666666 } /* Operator */\n.output_html .ch { color: #408080; font-style: italic } /* Comment.Hashbang */\n.output_html .cm { color: #408080; font-style: italic } /* Comment.Multiline */\n.output_html .cp { color: #BC7A00 } /* Comment.Preproc */\n.output_html .cpf { color: #408080; font-style: italic } /* Comment.PreprocFile */\n.output_html .c1 { color: #408080; font-style: italic } /* Comment.Single */\n.output_html .cs { color: #408080; font-style: italic } /* Comment.Special */\n.output_html .gd { color: #A00000 } /* Generic.Deleted */\n.output_html .ge { font-style: italic } /* Generic.Emph */\n.output_html .gr { color: #FF0000 } /* Generic.Error */\n.output_html .gh { color: #000080; font-weight: bold } /* Generic.Heading */\n.output_html .gi { color: #00A000 } /* Generic.Inserted */\n.output_html .go { color: #888888 } /* Generic.Output */\n.output_html .gp { color: #000080; font-weight: bold } /* Generic.Prompt */\n.output_html .gs { font-weight: bold } /* Generic.Strong */\n.output_html .gu { color: #800080; font-weight: bold } /* Generic.Subheading */\n.output_html .gt { color: #0044DD } /* Generic.Traceback */\n.output_html .kc { color: #008000; font-weight: bold } /* Keyword.Constant */\n.output_html .kd { color: #008000; font-weight: bold } /* Keyword.Declaration */\n.output_html .kn { color: #008000; font-weight: bold } /* Keyword.Namespace */\n.output_html .kp { color: #008000 } /* Keyword.Pseudo */\n.output_html .kr { color: #008000; font-weight: bold } /* Keyword.Reserved */\n.output_html .kt { color: #B00040 } /* Keyword.Type */\n.output_html .m { color: #666666 } /* Literal.Number */\n.output_html .s { color: #BA2121 } /* Literal.String */\n.output_html .na { color: #7D9029 } /* Name.Attribute */\n.output_html .nb { color: #008000 } /* Name.Builtin */\n.output_html .nc { color: #0000FF; font-weight: bold } /* Name.Class */\n.output_html .no { color: #880000 } /* Name.Constant */\n.output_html .nd { color: #AA22FF } /* Name.Decorator */\n.output_html .ni { color: #999999; font-weight: bold } /* Name.Entity */\n.output_html .ne { color: #D2413A; font-weight: bold } /* Name.Exception */\n.output_html .nf { color: #0000FF } /* Name.Function */\n.output_html .nl { color: #A0A000 } /* Name.Label */\n.output_html .nn { color: #0000FF; font-weight: bold } /* Name.Namespace */\n.output_html .nt { color: #008000; font-weight: bold } /* Name.Tag */\n.output_html .nv { color: #19177C } /* Name.Variable */\n.output_html .ow { color: #AA22FF; font-weight: bold } /* Operator.Word */\n.output_html .w { color: #bbbbbb } /* Text.Whitespace */\n.output_html .mb { color: #666666 } /* Literal.Number.Bin */\n.output_html .mf { color: #666666 } /* Literal.Number.Float */\n.output_html .mh { color: #666666 } /* Literal.Number.Hex */\n.output_html .mi { color: #666666 } /* Literal.Number.Integer */\n.output_html .mo { color: #666666 } /* Literal.Number.Oct */\n.output_html .sa { color: #BA2121 } /* Literal.String.Affix */\n.output_html .sb { color: #BA2121 } /* Literal.String.Backtick */\n.output_html .sc { color: #BA2121 } /* Literal.String.Char */\n.output_html .dl { color: #BA2121 } /* Literal.String.Delimiter */\n.output_html .sd { color: #BA2121; font-style: italic } /* Literal.String.Doc */\n.output_html .s2 { color: #BA2121 } /* Literal.String.Double */\n.output_html .se { color: #BB6622; font-weight: bold } /* Literal.String.Escape */\n.output_html .sh { color: #BA2121 } /* Literal.String.Heredoc */\n.output_html .si { color: #BB6688; font-weight: bold } /* Literal.String.Interpol */\n.output_html .sx { color: #008000 } /* Literal.String.Other */\n.output_html .sr { color: #BB6688 } /* Literal.String.Regex */\n.output_html .s1 { color: #BA2121 } /* Literal.String.Single */\n.output_html .ss { color: #19177C } /* Literal.String.Symbol */\n.output_html .bp { color: #008000 } /* Name.Builtin.Pseudo */\n.output_html .fm { color: #0000FF } /* Name.Function.Magic */\n.output_html .vc { color: #19177C } /* Name.Variable.Class */\n.output_html .vg { color: #19177C } /* Name.Variable.Global */\n.output_html .vi { color: #19177C } /* Name.Variable.Instance */\n.output_html .vm { color: #19177C } /* Name.Variable.Magic */\n.output_html .il { color: #666666 } /* Literal.Number.Integer.Long */</style><div class=\"highlight\"><pre><span></span><span class=\"c1\"># https://github.com/ageron/handson-ml2/blob/master/02_end_to_end_machine_learning_project.ipynb</span>\n<span class=\"kn\">import</span> <span class=\"nn\">matplotlib.image</span> <span class=\"k\">as</span> <span class=\"nn\">mpimg</span>\n\n<span class=\"c1\"># Download the California image</span>\n<span class=\"n\">images_path</span> <span class=\"o\">=</span> <span class=\"n\">os</span><span class=\"o\">.</span><span class=\"n\">path</span><span class=\"o\">.</span><span class=\"n\">join</span><span class=\"p\">(</span><span class=\"s2\">&quot;images&quot;</span><span class=\"p\">)</span>\n<span class=\"n\">os</span><span class=\"o\">.</span><span class=\"n\">makedirs</span><span class=\"p\">(</span><span class=\"n\">images_path</span><span class=\"p\">,</span> <span class=\"n\">exist_ok</span><span class=\"o\">=</span><span class=\"kc\">True</span><span class=\"p\">)</span>\n<span class=\"n\">filename</span> <span class=\"o\">=</span> <span class=\"s2\">&quot;california.png&quot;</span>\n<span class=\"n\">filepath</span> <span class=\"o\">=</span> <span class=\"n\">os</span><span class=\"o\">.</span><span class=\"n\">path</span><span class=\"o\">.</span><span class=\"n\">join</span><span class=\"p\">(</span><span class=\"n\">images_path</span><span class=\"p\">,</span> <span class=\"n\">filename</span><span class=\"p\">)</span>\n\n<span class=\"k\">if</span> <span class=\"ow\">not</span> <span class=\"n\">os</span><span class=\"o\">.</span><span class=\"n\">path</span><span class=\"o\">.</span><span class=\"n\">exists</span><span class=\"p\">(</span><span class=\"n\">filepath</span><span class=\"p\">):</span>\n    <span class=\"nb\">print</span><span class=\"p\">(</span><span class=\"s2\">&quot;Downloading&quot;</span><span class=\"p\">,</span> <span class=\"n\">filename</span><span class=\"p\">)</span>\n    <span class=\"n\">url</span> <span class=\"o\">=</span> <span class=\"s2\">&quot;https://raw.githubusercontent.com/ageron/handson-ml2/master/images/end_to_end_project/&quot;</span><span class=\"o\">+</span><span class=\"n\">filename</span>\n    <span class=\"n\">urllib</span><span class=\"o\">.</span><span class=\"n\">request</span><span class=\"o\">.</span><span class=\"n\">urlretrieve</span><span class=\"p\">(</span><span class=\"n\">url</span><span class=\"p\">,</span> <span class=\"n\">os</span><span class=\"o\">.</span><span class=\"n\">path</span><span class=\"o\">.</span><span class=\"n\">join</span><span class=\"p\">(</span><span class=\"n\">images_path</span><span class=\"p\">,</span> <span class=\"n\">filename</span><span class=\"p\">))</span>\n\n<span class=\"n\">california_img</span><span class=\"o\">=</span><span class=\"n\">mpimg</span><span class=\"o\">.</span><span class=\"n\">imread</span><span class=\"p\">(</span><span class=\"n\">os</span><span class=\"o\">.</span><span class=\"n\">path</span><span class=\"o\">.</span><span class=\"n\">join</span><span class=\"p\">(</span><span class=\"n\">images_path</span><span class=\"p\">,</span> <span class=\"n\">filename</span><span class=\"p\">))</span>\n<span class=\"n\">ax</span> <span class=\"o\">=</span> <span class=\"n\">explore_set</span><span class=\"o\">.</span><span class=\"n\">plot</span><span class=\"p\">(</span><span class=\"n\">kind</span><span class=\"o\">=</span><span class=\"s2\">&quot;scatter&quot;</span><span class=\"p\">,</span> <span class=\"n\">x</span><span class=\"o\">=</span><span class=\"s2\">&quot;longitude&quot;</span><span class=\"p\">,</span> <span class=\"n\">y</span><span class=\"o\">=</span><span class=\"s2\">&quot;latitude&quot;</span><span class=\"p\">,</span> \n                  <span class=\"n\">figsize</span><span class=\"o\">=</span><span class=\"p\">(</span><span class=\"mi\">10</span><span class=\"p\">,</span><span class=\"mi\">7</span><span class=\"p\">),</span>\n                  <span class=\"n\">s</span><span class=\"o\">=</span><span class=\"n\">explore_set</span><span class=\"p\">[</span><span class=\"s1\">&#39;population&#39;</span><span class=\"p\">]</span><span class=\"o\">/</span><span class=\"mi\">100</span><span class=\"p\">,</span> \n                  <span class=\"n\">label</span><span class=\"o\">=</span><span class=\"s2\">&quot;Population&quot;</span><span class=\"p\">,</span>\n                  <span class=\"n\">c</span><span class=\"o\">=</span><span class=\"s2\">&quot;median_house_value&quot;</span><span class=\"p\">,</span> \n                  <span class=\"n\">cmap</span><span class=\"o\">=</span><span class=\"n\">plt</span><span class=\"o\">.</span><span class=\"n\">get_cmap</span><span class=\"p\">(</span><span class=\"s2\">&quot;jet&quot;</span><span class=\"p\">),</span>\n                  <span class=\"n\">colorbar</span><span class=\"o\">=</span><span class=\"kc\">False</span><span class=\"p\">,</span> \n                  <span class=\"n\">alpha</span><span class=\"o\">=</span><span class=\"mf\">0.4</span><span class=\"p\">)</span> <span class=\"c1\"># setting alpha ensures dense areas are more clear</span>\n<span class=\"n\">plt</span><span class=\"o\">.</span><span class=\"n\">imshow</span><span class=\"p\">(</span><span class=\"n\">california_img</span><span class=\"p\">,</span> <span class=\"n\">extent</span><span class=\"o\">=</span><span class=\"p\">[</span><span class=\"o\">-</span><span class=\"mf\">124.55</span><span class=\"p\">,</span> <span class=\"o\">-</span><span class=\"mf\">113.80</span><span class=\"p\">,</span> <span class=\"mf\">32.45</span><span class=\"p\">,</span> <span class=\"mf\">42.05</span><span class=\"p\">],</span> <span class=\"n\">alpha</span><span class=\"o\">=</span><span class=\"mf\">0.5</span><span class=\"p\">,</span>\n           <span class=\"n\">cmap</span><span class=\"o\">=</span><span class=\"n\">plt</span><span class=\"o\">.</span><span class=\"n\">get_cmap</span><span class=\"p\">(</span><span class=\"s2\">&quot;jet&quot;</span><span class=\"p\">))</span>\n<span class=\"n\">plt</span><span class=\"o\">.</span><span class=\"n\">ylabel</span><span class=\"p\">(</span><span class=\"s2\">&quot;Latitude&quot;</span><span class=\"p\">,</span> <span class=\"n\">fontsize</span><span class=\"o\">=</span><span class=\"mi\">14</span><span class=\"p\">)</span>\n<span class=\"n\">plt</span><span class=\"o\">.</span><span class=\"n\">xlabel</span><span class=\"p\">(</span><span class=\"s2\">&quot;Longitude&quot;</span><span class=\"p\">,</span> <span class=\"n\">fontsize</span><span class=\"o\">=</span><span class=\"mi\">14</span><span class=\"p\">)</span>\n\n<span class=\"n\">prices</span> <span class=\"o\">=</span> <span class=\"n\">explore_set</span><span class=\"p\">[</span><span class=\"s2\">&quot;median_house_value&quot;</span><span class=\"p\">]</span>\n<span class=\"n\">tick_values</span> <span class=\"o\">=</span> <span class=\"n\">np</span><span class=\"o\">.</span><span class=\"n\">linspace</span><span class=\"p\">(</span><span class=\"n\">prices</span><span class=\"o\">.</span><span class=\"n\">min</span><span class=\"p\">(),</span> <span class=\"n\">prices</span><span class=\"o\">.</span><span class=\"n\">max</span><span class=\"p\">(),</span> <span class=\"mi\">11</span><span class=\"p\">)</span>\n<span class=\"n\">cbar</span> <span class=\"o\">=</span> <span class=\"n\">plt</span><span class=\"o\">.</span><span class=\"n\">colorbar</span><span class=\"p\">(</span><span class=\"n\">ticks</span><span class=\"o\">=</span><span class=\"n\">tick_values</span><span class=\"o\">/</span><span class=\"n\">prices</span><span class=\"o\">.</span><span class=\"n\">max</span><span class=\"p\">())</span>\n<span class=\"n\">cbar</span><span class=\"o\">.</span><span class=\"n\">ax</span><span class=\"o\">.</span><span class=\"n\">set_yticklabels</span><span class=\"p\">([</span><span class=\"s2\">&quot;$</span><span class=\"si\">%d</span><span class=\"s2\">k&quot;</span><span class=\"o\">%</span><span class=\"p\">(</span><span class=\"nb\">round</span><span class=\"p\">(</span><span class=\"n\">v</span><span class=\"o\">/</span><span class=\"mi\">1000</span><span class=\"p\">))</span> <span class=\"k\">for</span> <span class=\"n\">v</span> <span class=\"ow\">in</span> <span class=\"n\">tick_values</span><span class=\"p\">],</span> <span class=\"n\">fontsize</span><span class=\"o\">=</span><span class=\"mi\">14</span><span class=\"p\">)</span>\n<span class=\"n\">cbar</span><span class=\"o\">.</span><span class=\"n\">set_label</span><span class=\"p\">(</span><span class=\"s1\">&#39;Median House Value&#39;</span><span class=\"p\">,</span> <span class=\"n\">fontsize</span><span class=\"o\">=</span><span class=\"mi\">16</span><span class=\"p\">)</span>\n\n<span class=\"n\">plt</span><span class=\"o\">.</span><span class=\"n\">legend</span><span class=\"p\">(</span><span class=\"n\">fontsize</span><span class=\"o\">=</span><span class=\"mi\">16</span><span class=\"p\">)</span>\n<span class=\"n\">plt</span><span class=\"o\">.</span><span class=\"n\">show</span><span class=\"p\">()</span>\n</pre></div>\n",
         "text/latex": "\\begin{Verbatim}[commandchars=\\\\\\{\\}]\n\\PY{c+c1}{\\PYZsh{} https://github.com/ageron/handson\\PYZhy{}ml2/blob/master/02\\PYZus{}end\\PYZus{}to\\PYZus{}end\\PYZus{}machine\\PYZus{}learning\\PYZus{}project.ipynb}\n\\PY{k+kn}{import} \\PY{n+nn}{matplotlib}\\PY{n+nn}{.}\\PY{n+nn}{image} \\PY{k}{as} \\PY{n+nn}{mpimg}\n\n\\PY{c+c1}{\\PYZsh{} Download the California image}\n\\PY{n}{images\\PYZus{}path} \\PY{o}{=} \\PY{n}{os}\\PY{o}{.}\\PY{n}{path}\\PY{o}{.}\\PY{n}{join}\\PY{p}{(}\\PY{l+s+s2}{\\PYZdq{}}\\PY{l+s+s2}{images}\\PY{l+s+s2}{\\PYZdq{}}\\PY{p}{)}\n\\PY{n}{os}\\PY{o}{.}\\PY{n}{makedirs}\\PY{p}{(}\\PY{n}{images\\PYZus{}path}\\PY{p}{,} \\PY{n}{exist\\PYZus{}ok}\\PY{o}{=}\\PY{k+kc}{True}\\PY{p}{)}\n\\PY{n}{filename} \\PY{o}{=} \\PY{l+s+s2}{\\PYZdq{}}\\PY{l+s+s2}{california.png}\\PY{l+s+s2}{\\PYZdq{}}\n\\PY{n}{filepath} \\PY{o}{=} \\PY{n}{os}\\PY{o}{.}\\PY{n}{path}\\PY{o}{.}\\PY{n}{join}\\PY{p}{(}\\PY{n}{images\\PYZus{}path}\\PY{p}{,} \\PY{n}{filename}\\PY{p}{)}\n\n\\PY{k}{if} \\PY{o+ow}{not} \\PY{n}{os}\\PY{o}{.}\\PY{n}{path}\\PY{o}{.}\\PY{n}{exists}\\PY{p}{(}\\PY{n}{filepath}\\PY{p}{)}\\PY{p}{:}\n    \\PY{n+nb}{print}\\PY{p}{(}\\PY{l+s+s2}{\\PYZdq{}}\\PY{l+s+s2}{Downloading}\\PY{l+s+s2}{\\PYZdq{}}\\PY{p}{,} \\PY{n}{filename}\\PY{p}{)}\n    \\PY{n}{url} \\PY{o}{=} \\PY{l+s+s2}{\\PYZdq{}}\\PY{l+s+s2}{https://raw.githubusercontent.com/ageron/handson\\PYZhy{}ml2/master/images/end\\PYZus{}to\\PYZus{}end\\PYZus{}project/}\\PY{l+s+s2}{\\PYZdq{}}\\PY{o}{+}\\PY{n}{filename}\n    \\PY{n}{urllib}\\PY{o}{.}\\PY{n}{request}\\PY{o}{.}\\PY{n}{urlretrieve}\\PY{p}{(}\\PY{n}{url}\\PY{p}{,} \\PY{n}{os}\\PY{o}{.}\\PY{n}{path}\\PY{o}{.}\\PY{n}{join}\\PY{p}{(}\\PY{n}{images\\PYZus{}path}\\PY{p}{,} \\PY{n}{filename}\\PY{p}{)}\\PY{p}{)}\n\n\\PY{n}{california\\PYZus{}img}\\PY{o}{=}\\PY{n}{mpimg}\\PY{o}{.}\\PY{n}{imread}\\PY{p}{(}\\PY{n}{os}\\PY{o}{.}\\PY{n}{path}\\PY{o}{.}\\PY{n}{join}\\PY{p}{(}\\PY{n}{images\\PYZus{}path}\\PY{p}{,} \\PY{n}{filename}\\PY{p}{)}\\PY{p}{)}\n\\PY{n}{ax} \\PY{o}{=} \\PY{n}{explore\\PYZus{}set}\\PY{o}{.}\\PY{n}{plot}\\PY{p}{(}\\PY{n}{kind}\\PY{o}{=}\\PY{l+s+s2}{\\PYZdq{}}\\PY{l+s+s2}{scatter}\\PY{l+s+s2}{\\PYZdq{}}\\PY{p}{,} \\PY{n}{x}\\PY{o}{=}\\PY{l+s+s2}{\\PYZdq{}}\\PY{l+s+s2}{longitude}\\PY{l+s+s2}{\\PYZdq{}}\\PY{p}{,} \\PY{n}{y}\\PY{o}{=}\\PY{l+s+s2}{\\PYZdq{}}\\PY{l+s+s2}{latitude}\\PY{l+s+s2}{\\PYZdq{}}\\PY{p}{,} \n                  \\PY{n}{figsize}\\PY{o}{=}\\PY{p}{(}\\PY{l+m+mi}{10}\\PY{p}{,}\\PY{l+m+mi}{7}\\PY{p}{)}\\PY{p}{,}\n                  \\PY{n}{s}\\PY{o}{=}\\PY{n}{explore\\PYZus{}set}\\PY{p}{[}\\PY{l+s+s1}{\\PYZsq{}}\\PY{l+s+s1}{population}\\PY{l+s+s1}{\\PYZsq{}}\\PY{p}{]}\\PY{o}{/}\\PY{l+m+mi}{100}\\PY{p}{,} \n                  \\PY{n}{label}\\PY{o}{=}\\PY{l+s+s2}{\\PYZdq{}}\\PY{l+s+s2}{Population}\\PY{l+s+s2}{\\PYZdq{}}\\PY{p}{,}\n                  \\PY{n}{c}\\PY{o}{=}\\PY{l+s+s2}{\\PYZdq{}}\\PY{l+s+s2}{median\\PYZus{}house\\PYZus{}value}\\PY{l+s+s2}{\\PYZdq{}}\\PY{p}{,} \n                  \\PY{n}{cmap}\\PY{o}{=}\\PY{n}{plt}\\PY{o}{.}\\PY{n}{get\\PYZus{}cmap}\\PY{p}{(}\\PY{l+s+s2}{\\PYZdq{}}\\PY{l+s+s2}{jet}\\PY{l+s+s2}{\\PYZdq{}}\\PY{p}{)}\\PY{p}{,}\n                  \\PY{n}{colorbar}\\PY{o}{=}\\PY{k+kc}{False}\\PY{p}{,} \n                  \\PY{n}{alpha}\\PY{o}{=}\\PY{l+m+mf}{0.4}\\PY{p}{)} \\PY{c+c1}{\\PYZsh{} setting alpha ensures dense areas are more clear}\n\\PY{n}{plt}\\PY{o}{.}\\PY{n}{imshow}\\PY{p}{(}\\PY{n}{california\\PYZus{}img}\\PY{p}{,} \\PY{n}{extent}\\PY{o}{=}\\PY{p}{[}\\PY{o}{\\PYZhy{}}\\PY{l+m+mf}{124.55}\\PY{p}{,} \\PY{o}{\\PYZhy{}}\\PY{l+m+mf}{113.80}\\PY{p}{,} \\PY{l+m+mf}{32.45}\\PY{p}{,} \\PY{l+m+mf}{42.05}\\PY{p}{]}\\PY{p}{,} \\PY{n}{alpha}\\PY{o}{=}\\PY{l+m+mf}{0.5}\\PY{p}{,}\n           \\PY{n}{cmap}\\PY{o}{=}\\PY{n}{plt}\\PY{o}{.}\\PY{n}{get\\PYZus{}cmap}\\PY{p}{(}\\PY{l+s+s2}{\\PYZdq{}}\\PY{l+s+s2}{jet}\\PY{l+s+s2}{\\PYZdq{}}\\PY{p}{)}\\PY{p}{)}\n\\PY{n}{plt}\\PY{o}{.}\\PY{n}{ylabel}\\PY{p}{(}\\PY{l+s+s2}{\\PYZdq{}}\\PY{l+s+s2}{Latitude}\\PY{l+s+s2}{\\PYZdq{}}\\PY{p}{,} \\PY{n}{fontsize}\\PY{o}{=}\\PY{l+m+mi}{14}\\PY{p}{)}\n\\PY{n}{plt}\\PY{o}{.}\\PY{n}{xlabel}\\PY{p}{(}\\PY{l+s+s2}{\\PYZdq{}}\\PY{l+s+s2}{Longitude}\\PY{l+s+s2}{\\PYZdq{}}\\PY{p}{,} \\PY{n}{fontsize}\\PY{o}{=}\\PY{l+m+mi}{14}\\PY{p}{)}\n\n\\PY{n}{prices} \\PY{o}{=} \\PY{n}{explore\\PYZus{}set}\\PY{p}{[}\\PY{l+s+s2}{\\PYZdq{}}\\PY{l+s+s2}{median\\PYZus{}house\\PYZus{}value}\\PY{l+s+s2}{\\PYZdq{}}\\PY{p}{]}\n\\PY{n}{tick\\PYZus{}values} \\PY{o}{=} \\PY{n}{np}\\PY{o}{.}\\PY{n}{linspace}\\PY{p}{(}\\PY{n}{prices}\\PY{o}{.}\\PY{n}{min}\\PY{p}{(}\\PY{p}{)}\\PY{p}{,} \\PY{n}{prices}\\PY{o}{.}\\PY{n}{max}\\PY{p}{(}\\PY{p}{)}\\PY{p}{,} \\PY{l+m+mi}{11}\\PY{p}{)}\n\\PY{n}{cbar} \\PY{o}{=} \\PY{n}{plt}\\PY{o}{.}\\PY{n}{colorbar}\\PY{p}{(}\\PY{n}{ticks}\\PY{o}{=}\\PY{n}{tick\\PYZus{}values}\\PY{o}{/}\\PY{n}{prices}\\PY{o}{.}\\PY{n}{max}\\PY{p}{(}\\PY{p}{)}\\PY{p}{)}\n\\PY{n}{cbar}\\PY{o}{.}\\PY{n}{ax}\\PY{o}{.}\\PY{n}{set\\PYZus{}yticklabels}\\PY{p}{(}\\PY{p}{[}\\PY{l+s+s2}{\\PYZdq{}}\\PY{l+s+s2}{\\PYZdl{}}\\PY{l+s+si}{\\PYZpc{}d}\\PY{l+s+s2}{k}\\PY{l+s+s2}{\\PYZdq{}}\\PY{o}{\\PYZpc{}}\\PY{p}{(}\\PY{n+nb}{round}\\PY{p}{(}\\PY{n}{v}\\PY{o}{/}\\PY{l+m+mi}{1000}\\PY{p}{)}\\PY{p}{)} \\PY{k}{for} \\PY{n}{v} \\PY{o+ow}{in} \\PY{n}{tick\\PYZus{}values}\\PY{p}{]}\\PY{p}{,} \\PY{n}{fontsize}\\PY{o}{=}\\PY{l+m+mi}{14}\\PY{p}{)}\n\\PY{n}{cbar}\\PY{o}{.}\\PY{n}{set\\PYZus{}label}\\PY{p}{(}\\PY{l+s+s1}{\\PYZsq{}}\\PY{l+s+s1}{Median House Value}\\PY{l+s+s1}{\\PYZsq{}}\\PY{p}{,} \\PY{n}{fontsize}\\PY{o}{=}\\PY{l+m+mi}{16}\\PY{p}{)}\n\n\\PY{n}{plt}\\PY{o}{.}\\PY{n}{legend}\\PY{p}{(}\\PY{n}{fontsize}\\PY{o}{=}\\PY{l+m+mi}{16}\\PY{p}{)}\n\\PY{n}{plt}\\PY{o}{.}\\PY{n}{show}\\PY{p}{(}\\PY{p}{)}\n\\end{Verbatim}\n",
         "text/plain": "# https://github.com/ageron/handson-ml2/blob/master/02_end_to_end_machine_learning_project.ipynb\nimport matplotlib.image as mpimg\n\n# Download the California image\nimages_path = os.path.join(\"images\")\nos.makedirs(images_path, exist_ok=True)\nfilename = \"california.png\"\nfilepath = os.path.join(images_path, filename)\n\nif not os.path.exists(filepath):\n    print(\"Downloading\", filename)\n    url = \"https://raw.githubusercontent.com/ageron/handson-ml2/master/images/end_to_end_project/\"+filename\n    urllib.request.urlretrieve(url, os.path.join(images_path, filename))\n\ncalifornia_img=mpimg.imread(os.path.join(images_path, filename))\nax = explore_set.plot(kind=\"scatter\", x=\"longitude\", y=\"latitude\", \n                  figsize=(10,7),\n                  s=explore_set['population']/100, \n                  label=\"Population\",\n                  c=\"median_house_value\", \n                  cmap=plt.get_cmap(\"jet\"),\n                  colorbar=False, \n                  alpha=0.4) # setting alpha ensures dense areas are more clear\nplt.imshow(california_img, extent=[-124.55, -113.80, 32.45, 42.05], alpha=0.5,\n           cmap=plt.get_cmap(\"jet\"))\nplt.ylabel(\"Latitude\", fontsize=14)\nplt.xlabel(\"Longitude\", fontsize=14)\n\nprices = explore_set[\"median_house_value\"]\ntick_values = np.linspace(prices.min(), prices.max(), 11)\ncbar = plt.colorbar(ticks=tick_values/prices.max())\ncbar.ax.set_yticklabels([\"$%dk\"%(round(v/1000)) for v in tick_values], fontsize=14)\ncbar.set_label('Median House Value', fontsize=16)\n\nplt.legend(fontsize=16)\nplt.show()"
        },
        "metadata": {},
        "output_type": "display_data"
       },
       {
        "data": {
         "text/markdown": "We can clearly see there are a number of dense areas around the Bay Area, Los Angeles, San Diego, and the Central Valley (Sacramento and Fresno). House prices are very related to the location, with distance from the ocean being a key factor.\n\nFrom examining this you may want to use clustering algorithms to create new features - we'll learn about this next week.\n\n__Note__\n- The code above is a bit \"extra\" than what you would need to answer the question, so don't worry about the details of the code above too much unless you want to do similar visualisations in the future.\n",
         "text/plain": "<IPython.core.display.Markdown object>"
        },
        "metadata": {},
        "output_type": "display_data"
       }
      ]
     }
    },
    "8b1f3379098e45cd9ce155d90c4b1dcd": {
     "model_module": "@jupyter-widgets/controls",
     "model_module_version": "1.5.0",
     "model_name": "ButtonStyleModel",
     "state": {
      "_model_module": "@jupyter-widgets/controls",
      "_model_module_version": "1.5.0",
      "_model_name": "ButtonStyleModel",
      "_view_count": null,
      "_view_module": "@jupyter-widgets/base",
      "_view_module_version": "1.2.0",
      "_view_name": "StyleView",
      "button_color": null,
      "font_weight": ""
     }
    },
    "8d22cd26f11b4094969bb6313723b356": {
     "model_module": "@jupyter-widgets/base",
     "model_module_version": "1.2.0",
     "model_name": "LayoutModel",
     "state": {
      "_model_module": "@jupyter-widgets/base",
      "_model_module_version": "1.2.0",
      "_model_name": "LayoutModel",
      "_view_count": null,
      "_view_module": "@jupyter-widgets/base",
      "_view_module_version": "1.2.0",
      "_view_name": "LayoutView",
      "align_content": null,
      "align_items": null,
      "align_self": null,
      "border": null,
      "bottom": null,
      "display": null,
      "flex": null,
      "flex_flow": null,
      "grid_area": null,
      "grid_auto_columns": null,
      "grid_auto_flow": null,
      "grid_auto_rows": null,
      "grid_column": null,
      "grid_gap": null,
      "grid_row": null,
      "grid_template_areas": null,
      "grid_template_columns": null,
      "grid_template_rows": null,
      "height": null,
      "justify_content": null,
      "justify_items": null,
      "left": null,
      "margin": null,
      "max_height": null,
      "max_width": null,
      "min_height": null,
      "min_width": null,
      "object_fit": null,
      "object_position": null,
      "order": null,
      "overflow": null,
      "overflow_x": null,
      "overflow_y": null,
      "padding": null,
      "right": null,
      "top": null,
      "visibility": null,
      "width": null
     }
    },
    "8dcdeb5983204c29b0fe00e8de06069e": {
     "model_module": "@jupyter-widgets/output",
     "model_module_version": "1.0.0",
     "model_name": "OutputModel",
     "state": {
      "_dom_classes": [],
      "_model_module": "@jupyter-widgets/output",
      "_model_module_version": "1.0.0",
      "_model_name": "OutputModel",
      "_view_count": null,
      "_view_module": "@jupyter-widgets/output",
      "_view_module_version": "1.0.0",
      "_view_name": "OutputView",
      "layout": "IPY_MODEL_f9f6bfde1383427792a74752c4b6fc36",
      "msg_id": "",
      "outputs": []
     }
    },
    "8eac133438324948a4a5ceaed7b34f55": {
     "model_module": "@jupyter-widgets/base",
     "model_module_version": "1.2.0",
     "model_name": "LayoutModel",
     "state": {
      "_model_module": "@jupyter-widgets/base",
      "_model_module_version": "1.2.0",
      "_model_name": "LayoutModel",
      "_view_count": null,
      "_view_module": "@jupyter-widgets/base",
      "_view_module_version": "1.2.0",
      "_view_name": "LayoutView",
      "align_content": null,
      "align_items": null,
      "align_self": null,
      "border": "1px solid green",
      "bottom": null,
      "display": null,
      "flex": null,
      "flex_flow": null,
      "grid_area": null,
      "grid_auto_columns": null,
      "grid_auto_flow": null,
      "grid_auto_rows": null,
      "grid_column": null,
      "grid_gap": null,
      "grid_row": null,
      "grid_template_areas": null,
      "grid_template_columns": null,
      "grid_template_rows": null,
      "height": null,
      "justify_content": null,
      "justify_items": null,
      "left": null,
      "margin": null,
      "max_height": null,
      "max_width": null,
      "min_height": null,
      "min_width": null,
      "object_fit": null,
      "object_position": null,
      "order": null,
      "overflow": null,
      "overflow_x": null,
      "overflow_y": null,
      "padding": null,
      "right": null,
      "top": null,
      "visibility": null,
      "width": null
     }
    },
    "903dd85537ee45ca9d024848e87c2125": {
     "model_module": "@jupyter-widgets/controls",
     "model_module_version": "1.5.0",
     "model_name": "ButtonModel",
     "state": {
      "_dom_classes": [],
      "_model_module": "@jupyter-widgets/controls",
      "_model_module_version": "1.5.0",
      "_model_name": "ButtonModel",
      "_view_count": null,
      "_view_module": "@jupyter-widgets/controls",
      "_view_module_version": "1.5.0",
      "_view_name": "ButtonView",
      "button_style": "",
      "description": "Reveal solution",
      "disabled": false,
      "icon": "",
      "layout": "IPY_MODEL_d4443425c57b46bdac3dbc61f5360199",
      "style": "IPY_MODEL_05ec20ab66d14d51af4dd96ea729f43d",
      "tooltip": ""
     }
    },
    "97f9e9858e0144d3bf95cb536d8a9a99": {
     "model_module": "@jupyter-widgets/controls",
     "model_module_version": "1.5.0",
     "model_name": "ButtonStyleModel",
     "state": {
      "_model_module": "@jupyter-widgets/controls",
      "_model_module_version": "1.5.0",
      "_model_name": "ButtonStyleModel",
      "_view_count": null,
      "_view_module": "@jupyter-widgets/base",
      "_view_module_version": "1.2.0",
      "_view_name": "StyleView",
      "button_color": null,
      "font_weight": ""
     }
    },
    "983b4368a7ab44c186d30c6fcbe52982": {
     "model_module": "@jupyter-widgets/controls",
     "model_module_version": "1.5.0",
     "model_name": "ButtonStyleModel",
     "state": {
      "_model_module": "@jupyter-widgets/controls",
      "_model_module_version": "1.5.0",
      "_model_name": "ButtonStyleModel",
      "_view_count": null,
      "_view_module": "@jupyter-widgets/base",
      "_view_module_version": "1.2.0",
      "_view_name": "StyleView",
      "button_color": null,
      "font_weight": ""
     }
    },
    "99b8fa770bfd4c25a5fd7abf812b41f4": {
     "model_module": "@jupyter-widgets/controls",
     "model_module_version": "1.5.0",
     "model_name": "ButtonStyleModel",
     "state": {
      "_model_module": "@jupyter-widgets/controls",
      "_model_module_version": "1.5.0",
      "_model_name": "ButtonStyleModel",
      "_view_count": null,
      "_view_module": "@jupyter-widgets/base",
      "_view_module_version": "1.2.0",
      "_view_name": "StyleView",
      "button_color": null,
      "font_weight": ""
     }
    },
    "9a06607971524662bd7a575e2fa209f6": {
     "model_module": "@jupyter-widgets/base",
     "model_module_version": "1.2.0",
     "model_name": "LayoutModel",
     "state": {
      "_model_module": "@jupyter-widgets/base",
      "_model_module_version": "1.2.0",
      "_model_name": "LayoutModel",
      "_view_count": null,
      "_view_module": "@jupyter-widgets/base",
      "_view_module_version": "1.2.0",
      "_view_name": "LayoutView",
      "align_content": null,
      "align_items": null,
      "align_self": null,
      "border": "1px solid green",
      "bottom": null,
      "display": null,
      "flex": null,
      "flex_flow": null,
      "grid_area": null,
      "grid_auto_columns": null,
      "grid_auto_flow": null,
      "grid_auto_rows": null,
      "grid_column": null,
      "grid_gap": null,
      "grid_row": null,
      "grid_template_areas": null,
      "grid_template_columns": null,
      "grid_template_rows": null,
      "height": null,
      "justify_content": null,
      "justify_items": null,
      "left": null,
      "margin": null,
      "max_height": null,
      "max_width": null,
      "min_height": null,
      "min_width": null,
      "object_fit": null,
      "object_position": null,
      "order": null,
      "overflow": null,
      "overflow_x": null,
      "overflow_y": null,
      "padding": null,
      "right": null,
      "top": null,
      "visibility": null,
      "width": null
     }
    },
    "9aee6ce02fd746f59a62d93e61821dd4": {
     "model_module": "@jupyter-widgets/output",
     "model_module_version": "1.0.0",
     "model_name": "OutputModel",
     "state": {
      "_dom_classes": [],
      "_model_module": "@jupyter-widgets/output",
      "_model_module_version": "1.0.0",
      "_model_name": "OutputModel",
      "_view_count": null,
      "_view_module": "@jupyter-widgets/output",
      "_view_module_version": "1.0.0",
      "_view_name": "OutputView",
      "layout": "IPY_MODEL_16c562ae73724f1095cea7b0239d58f8",
      "msg_id": "",
      "outputs": []
     }
    },
    "9b0e04f2e093416283b6d11869d0786e": {
     "model_module": "@jupyter-widgets/base",
     "model_module_version": "1.2.0",
     "model_name": "LayoutModel",
     "state": {
      "_model_module": "@jupyter-widgets/base",
      "_model_module_version": "1.2.0",
      "_model_name": "LayoutModel",
      "_view_count": null,
      "_view_module": "@jupyter-widgets/base",
      "_view_module_version": "1.2.0",
      "_view_name": "LayoutView",
      "align_content": null,
      "align_items": null,
      "align_self": null,
      "border": null,
      "bottom": null,
      "display": null,
      "flex": null,
      "flex_flow": null,
      "grid_area": null,
      "grid_auto_columns": null,
      "grid_auto_flow": null,
      "grid_auto_rows": null,
      "grid_column": null,
      "grid_gap": null,
      "grid_row": null,
      "grid_template_areas": null,
      "grid_template_columns": null,
      "grid_template_rows": null,
      "height": null,
      "justify_content": null,
      "justify_items": null,
      "left": null,
      "margin": null,
      "max_height": null,
      "max_width": null,
      "min_height": null,
      "min_width": null,
      "object_fit": null,
      "object_position": null,
      "order": null,
      "overflow": null,
      "overflow_x": null,
      "overflow_y": null,
      "padding": null,
      "right": null,
      "top": null,
      "visibility": null,
      "width": null
     }
    },
    "9d4429d75c2b4eae8379125362719a4d": {
     "model_module": "@jupyter-widgets/output",
     "model_module_version": "1.0.0",
     "model_name": "OutputModel",
     "state": {
      "_dom_classes": [],
      "_model_module": "@jupyter-widgets/output",
      "_model_module_version": "1.0.0",
      "_model_name": "OutputModel",
      "_view_count": null,
      "_view_module": "@jupyter-widgets/output",
      "_view_module_version": "1.0.0",
      "_view_name": "OutputView",
      "layout": "IPY_MODEL_da25daa58c0942799193905c250ac4b3",
      "msg_id": "",
      "outputs": []
     }
    },
    "9e00d64685c9499e9cfa2cf63523d246": {
     "model_module": "@jupyter-widgets/controls",
     "model_module_version": "1.5.0",
     "model_name": "ButtonModel",
     "state": {
      "_dom_classes": [],
      "_model_module": "@jupyter-widgets/controls",
      "_model_module_version": "1.5.0",
      "_model_name": "ButtonModel",
      "_view_count": null,
      "_view_module": "@jupyter-widgets/controls",
      "_view_module_version": "1.5.0",
      "_view_name": "ButtonView",
      "button_style": "",
      "description": "Reveal solution",
      "disabled": false,
      "icon": "",
      "layout": "IPY_MODEL_c866618bca454b0faab758aa1454d1d0",
      "style": "IPY_MODEL_7c32cb42ee3940928c0bb69f82410e18",
      "tooltip": ""
     }
    },
    "a0741bdd198e41229a8555f061efd9c2": {
     "model_module": "@jupyter-widgets/base",
     "model_module_version": "1.2.0",
     "model_name": "LayoutModel",
     "state": {
      "_model_module": "@jupyter-widgets/base",
      "_model_module_version": "1.2.0",
      "_model_name": "LayoutModel",
      "_view_count": null,
      "_view_module": "@jupyter-widgets/base",
      "_view_module_version": "1.2.0",
      "_view_name": "LayoutView",
      "align_content": null,
      "align_items": null,
      "align_self": null,
      "border": null,
      "bottom": null,
      "display": null,
      "flex": null,
      "flex_flow": null,
      "grid_area": null,
      "grid_auto_columns": null,
      "grid_auto_flow": null,
      "grid_auto_rows": null,
      "grid_column": null,
      "grid_gap": null,
      "grid_row": null,
      "grid_template_areas": null,
      "grid_template_columns": null,
      "grid_template_rows": null,
      "height": null,
      "justify_content": null,
      "justify_items": null,
      "left": null,
      "margin": null,
      "max_height": null,
      "max_width": null,
      "min_height": null,
      "min_width": null,
      "object_fit": null,
      "object_position": null,
      "order": null,
      "overflow": null,
      "overflow_x": null,
      "overflow_y": null,
      "padding": null,
      "right": null,
      "top": null,
      "visibility": null,
      "width": null
     }
    },
    "a1f11aae9e1c471ba858f626acfe9f5f": {
     "model_module": "@jupyter-widgets/controls",
     "model_module_version": "1.5.0",
     "model_name": "ButtonModel",
     "state": {
      "_dom_classes": [],
      "_model_module": "@jupyter-widgets/controls",
      "_model_module_version": "1.5.0",
      "_model_name": "ButtonModel",
      "_view_count": null,
      "_view_module": "@jupyter-widgets/controls",
      "_view_module_version": "1.5.0",
      "_view_name": "ButtonView",
      "button_style": "",
      "description": "Hide solution",
      "disabled": false,
      "icon": "",
      "layout": "IPY_MODEL_4b72a0bfe015478d8f8cd88e1be1c81c",
      "style": "IPY_MODEL_6eb358ac329840ebbf25653a2d8453ae",
      "tooltip": ""
     }
    },
    "a603dcc4b22e4583b08f976bcad440ca": {
     "model_module": "@jupyter-widgets/controls",
     "model_module_version": "1.5.0",
     "model_name": "ButtonModel",
     "state": {
      "_dom_classes": [],
      "_model_module": "@jupyter-widgets/controls",
      "_model_module_version": "1.5.0",
      "_model_name": "ButtonModel",
      "_view_count": null,
      "_view_module": "@jupyter-widgets/controls",
      "_view_module_version": "1.5.0",
      "_view_name": "ButtonView",
      "button_style": "",
      "description": "Hide solution",
      "disabled": false,
      "icon": "",
      "layout": "IPY_MODEL_9b0e04f2e093416283b6d11869d0786e",
      "style": "IPY_MODEL_3e06065c43e044be9161dbcc1f9bad3a",
      "tooltip": ""
     }
    },
    "aa0a2954959b4d47a444aba713d55dea": {
     "model_module": "@jupyter-widgets/output",
     "model_module_version": "1.0.0",
     "model_name": "OutputModel",
     "state": {
      "_dom_classes": [],
      "_model_module": "@jupyter-widgets/output",
      "_model_module_version": "1.0.0",
      "_model_name": "OutputModel",
      "_view_count": null,
      "_view_module": "@jupyter-widgets/output",
      "_view_module_version": "1.0.0",
      "_view_name": "OutputView",
      "layout": "IPY_MODEL_bade14c0de134eb7bdc2d35973d06947",
      "msg_id": "",
      "outputs": [
       {
        "data": {
         "text/html": "<style>.output_html .hll { background-color: #ffffcc }\n.output_html  { background: #f8f8f8; }\n.output_html .c { color: #408080; font-style: italic } /* Comment */\n.output_html .err { border: 1px solid #FF0000 } /* Error */\n.output_html .k { color: #008000; font-weight: bold } /* Keyword */\n.output_html .o { color: #666666 } /* Operator */\n.output_html .ch { color: #408080; font-style: italic } /* Comment.Hashbang */\n.output_html .cm { color: #408080; font-style: italic } /* Comment.Multiline */\n.output_html .cp { color: #BC7A00 } /* Comment.Preproc */\n.output_html .cpf { color: #408080; font-style: italic } /* Comment.PreprocFile */\n.output_html .c1 { color: #408080; font-style: italic } /* Comment.Single */\n.output_html .cs { color: #408080; font-style: italic } /* Comment.Special */\n.output_html .gd { color: #A00000 } /* Generic.Deleted */\n.output_html .ge { font-style: italic } /* Generic.Emph */\n.output_html .gr { color: #FF0000 } /* Generic.Error */\n.output_html .gh { color: #000080; font-weight: bold } /* Generic.Heading */\n.output_html .gi { color: #00A000 } /* Generic.Inserted */\n.output_html .go { color: #888888 } /* Generic.Output */\n.output_html .gp { color: #000080; font-weight: bold } /* Generic.Prompt */\n.output_html .gs { font-weight: bold } /* Generic.Strong */\n.output_html .gu { color: #800080; font-weight: bold } /* Generic.Subheading */\n.output_html .gt { color: #0044DD } /* Generic.Traceback */\n.output_html .kc { color: #008000; font-weight: bold } /* Keyword.Constant */\n.output_html .kd { color: #008000; font-weight: bold } /* Keyword.Declaration */\n.output_html .kn { color: #008000; font-weight: bold } /* Keyword.Namespace */\n.output_html .kp { color: #008000 } /* Keyword.Pseudo */\n.output_html .kr { color: #008000; font-weight: bold } /* Keyword.Reserved */\n.output_html .kt { color: #B00040 } /* Keyword.Type */\n.output_html .m { color: #666666 } /* Literal.Number */\n.output_html .s { color: #BA2121 } /* Literal.String */\n.output_html .na { color: #7D9029 } /* Name.Attribute */\n.output_html .nb { color: #008000 } /* Name.Builtin */\n.output_html .nc { color: #0000FF; font-weight: bold } /* Name.Class */\n.output_html .no { color: #880000 } /* Name.Constant */\n.output_html .nd { color: #AA22FF } /* Name.Decorator */\n.output_html .ni { color: #999999; font-weight: bold } /* Name.Entity */\n.output_html .ne { color: #D2413A; font-weight: bold } /* Name.Exception */\n.output_html .nf { color: #0000FF } /* Name.Function */\n.output_html .nl { color: #A0A000 } /* Name.Label */\n.output_html .nn { color: #0000FF; font-weight: bold } /* Name.Namespace */\n.output_html .nt { color: #008000; font-weight: bold } /* Name.Tag */\n.output_html .nv { color: #19177C } /* Name.Variable */\n.output_html .ow { color: #AA22FF; font-weight: bold } /* Operator.Word */\n.output_html .w { color: #bbbbbb } /* Text.Whitespace */\n.output_html .mb { color: #666666 } /* Literal.Number.Bin */\n.output_html .mf { color: #666666 } /* Literal.Number.Float */\n.output_html .mh { color: #666666 } /* Literal.Number.Hex */\n.output_html .mi { color: #666666 } /* Literal.Number.Integer */\n.output_html .mo { color: #666666 } /* Literal.Number.Oct */\n.output_html .sa { color: #BA2121 } /* Literal.String.Affix */\n.output_html .sb { color: #BA2121 } /* Literal.String.Backtick */\n.output_html .sc { color: #BA2121 } /* Literal.String.Char */\n.output_html .dl { color: #BA2121 } /* Literal.String.Delimiter */\n.output_html .sd { color: #BA2121; font-style: italic } /* Literal.String.Doc */\n.output_html .s2 { color: #BA2121 } /* Literal.String.Double */\n.output_html .se { color: #BB6622; font-weight: bold } /* Literal.String.Escape */\n.output_html .sh { color: #BA2121 } /* Literal.String.Heredoc */\n.output_html .si { color: #BB6688; font-weight: bold } /* Literal.String.Interpol */\n.output_html .sx { color: #008000 } /* Literal.String.Other */\n.output_html .sr { color: #BB6688 } /* Literal.String.Regex */\n.output_html .s1 { color: #BA2121 } /* Literal.String.Single */\n.output_html .ss { color: #19177C } /* Literal.String.Symbol */\n.output_html .bp { color: #008000 } /* Name.Builtin.Pseudo */\n.output_html .fm { color: #0000FF } /* Name.Function.Magic */\n.output_html .vc { color: #19177C } /* Name.Variable.Class */\n.output_html .vg { color: #19177C } /* Name.Variable.Global */\n.output_html .vi { color: #19177C } /* Name.Variable.Instance */\n.output_html .vm { color: #19177C } /* Name.Variable.Magic */\n.output_html .il { color: #666666 } /* Literal.Number.Integer.Long */</style><div class=\"highlight\"><pre><span></span><span class=\"n\">num_imputer</span> <span class=\"o\">=</span> <span class=\"n\">SimpleImputer</span><span class=\"p\">(</span><span class=\"n\">strategy</span><span class=\"o\">=</span><span class=\"s2\">&quot;mean&quot;</span><span class=\"p\">)</span>\n\n<span class=\"n\">imputer</span> <span class=\"o\">=</span> <span class=\"n\">ColumnTransformer</span><span class=\"p\">([</span>\n    <span class=\"c1\"># apply the `num_imputer` to all columns apart from the last</span>\n    <span class=\"p\">(</span><span class=\"s2\">&quot;num&quot;</span><span class=\"p\">,</span> <span class=\"n\">num_imputer</span><span class=\"p\">,</span> <span class=\"nb\">list</span><span class=\"p\">(</span><span class=\"nb\">range</span><span class=\"p\">(</span><span class=\"n\">X_train</span><span class=\"o\">.</span><span class=\"n\">shape</span><span class=\"p\">[</span><span class=\"mi\">1</span><span class=\"p\">]</span><span class=\"o\">-</span><span class=\"mi\">1</span><span class=\"p\">))),</span> \n    <span class=\"c1\"># apply the `cat_imputer` to the last column</span>\n    <span class=\"p\">(</span><span class=\"s2\">&quot;cat&quot;</span><span class=\"p\">,</span> <span class=\"n\">cat_imputer</span><span class=\"p\">,</span> <span class=\"p\">[</span><span class=\"n\">X_train</span><span class=\"o\">.</span><span class=\"n\">shape</span><span class=\"p\">[</span><span class=\"mi\">1</span><span class=\"p\">]</span><span class=\"o\">-</span><span class=\"mi\">1</span><span class=\"p\">]),</span>\n<span class=\"p\">])</span> \n\n<span class=\"nb\">print</span><span class=\"p\">(</span><span class=\"s2\">&quot;Means Before IQR&quot;</span><span class=\"p\">)</span>\n<span class=\"n\">X_train_</span> <span class=\"o\">=</span> <span class=\"n\">imputer</span><span class=\"o\">.</span><span class=\"n\">fit</span><span class=\"p\">(</span><span class=\"n\">X_train</span><span class=\"p\">)</span>\n<span class=\"n\">display</span><span class=\"p\">(</span><span class=\"n\">imputer</span><span class=\"o\">.</span><span class=\"n\">transformers_</span><span class=\"p\">[</span><span class=\"mi\">0</span><span class=\"p\">][</span><span class=\"mi\">1</span><span class=\"p\">]</span><span class=\"o\">.</span><span class=\"n\">statistics_</span><span class=\"p\">)</span>\n\n<span class=\"nb\">print</span><span class=\"p\">(</span><span class=\"s2\">&quot;Means After IQR&quot;</span><span class=\"p\">)</span>\n<span class=\"n\">X_train_</span> <span class=\"o\">=</span> <span class=\"n\">imputer</span><span class=\"o\">.</span><span class=\"n\">fit</span><span class=\"p\">(</span><span class=\"n\">X_train_iqr</span><span class=\"p\">)</span>\n<span class=\"n\">display</span><span class=\"p\">(</span><span class=\"n\">imputer</span><span class=\"o\">.</span><span class=\"n\">transformers_</span><span class=\"p\">[</span><span class=\"mi\">0</span><span class=\"p\">][</span><span class=\"mi\">1</span><span class=\"p\">]</span><span class=\"o\">.</span><span class=\"n\">statistics_</span><span class=\"p\">)</span>\n</pre></div>\n",
         "text/latex": "\\begin{Verbatim}[commandchars=\\\\\\{\\}]\n\\PY{n}{num\\PYZus{}imputer} \\PY{o}{=} \\PY{n}{SimpleImputer}\\PY{p}{(}\\PY{n}{strategy}\\PY{o}{=}\\PY{l+s+s2}{\\PYZdq{}}\\PY{l+s+s2}{mean}\\PY{l+s+s2}{\\PYZdq{}}\\PY{p}{)}\n\n\\PY{n}{imputer} \\PY{o}{=} \\PY{n}{ColumnTransformer}\\PY{p}{(}\\PY{p}{[}\n    \\PY{c+c1}{\\PYZsh{} apply the `num\\PYZus{}imputer` to all columns apart from the last}\n    \\PY{p}{(}\\PY{l+s+s2}{\\PYZdq{}}\\PY{l+s+s2}{num}\\PY{l+s+s2}{\\PYZdq{}}\\PY{p}{,} \\PY{n}{num\\PYZus{}imputer}\\PY{p}{,} \\PY{n+nb}{list}\\PY{p}{(}\\PY{n+nb}{range}\\PY{p}{(}\\PY{n}{X\\PYZus{}train}\\PY{o}{.}\\PY{n}{shape}\\PY{p}{[}\\PY{l+m+mi}{1}\\PY{p}{]}\\PY{o}{\\PYZhy{}}\\PY{l+m+mi}{1}\\PY{p}{)}\\PY{p}{)}\\PY{p}{)}\\PY{p}{,} \n    \\PY{c+c1}{\\PYZsh{} apply the `cat\\PYZus{}imputer` to the last column}\n    \\PY{p}{(}\\PY{l+s+s2}{\\PYZdq{}}\\PY{l+s+s2}{cat}\\PY{l+s+s2}{\\PYZdq{}}\\PY{p}{,} \\PY{n}{cat\\PYZus{}imputer}\\PY{p}{,} \\PY{p}{[}\\PY{n}{X\\PYZus{}train}\\PY{o}{.}\\PY{n}{shape}\\PY{p}{[}\\PY{l+m+mi}{1}\\PY{p}{]}\\PY{o}{\\PYZhy{}}\\PY{l+m+mi}{1}\\PY{p}{]}\\PY{p}{)}\\PY{p}{,}\n\\PY{p}{]}\\PY{p}{)} \n\n\\PY{n+nb}{print}\\PY{p}{(}\\PY{l+s+s2}{\\PYZdq{}}\\PY{l+s+s2}{Means Before IQR}\\PY{l+s+s2}{\\PYZdq{}}\\PY{p}{)}\n\\PY{n}{X\\PYZus{}train\\PYZus{}} \\PY{o}{=} \\PY{n}{imputer}\\PY{o}{.}\\PY{n}{fit}\\PY{p}{(}\\PY{n}{X\\PYZus{}train}\\PY{p}{)}\n\\PY{n}{display}\\PY{p}{(}\\PY{n}{imputer}\\PY{o}{.}\\PY{n}{transformers\\PYZus{}}\\PY{p}{[}\\PY{l+m+mi}{0}\\PY{p}{]}\\PY{p}{[}\\PY{l+m+mi}{1}\\PY{p}{]}\\PY{o}{.}\\PY{n}{statistics\\PYZus{}}\\PY{p}{)}\n\n\\PY{n+nb}{print}\\PY{p}{(}\\PY{l+s+s2}{\\PYZdq{}}\\PY{l+s+s2}{Means After IQR}\\PY{l+s+s2}{\\PYZdq{}}\\PY{p}{)}\n\\PY{n}{X\\PYZus{}train\\PYZus{}} \\PY{o}{=} \\PY{n}{imputer}\\PY{o}{.}\\PY{n}{fit}\\PY{p}{(}\\PY{n}{X\\PYZus{}train\\PYZus{}iqr}\\PY{p}{)}\n\\PY{n}{display}\\PY{p}{(}\\PY{n}{imputer}\\PY{o}{.}\\PY{n}{transformers\\PYZus{}}\\PY{p}{[}\\PY{l+m+mi}{0}\\PY{p}{]}\\PY{p}{[}\\PY{l+m+mi}{1}\\PY{p}{]}\\PY{o}{.}\\PY{n}{statistics\\PYZus{}}\\PY{p}{)}\n\\end{Verbatim}\n",
         "text/plain": "num_imputer = SimpleImputer(strategy=\"mean\")\n\nimputer = ColumnTransformer([\n    # apply the `num_imputer` to all columns apart from the last\n    (\"num\", num_imputer, list(range(X_train.shape[1]-1))), \n    # apply the `cat_imputer` to the last column\n    (\"cat\", cat_imputer, [X_train.shape[1]-1]),\n]) \n\nprint(\"Means Before IQR\")\nX_train_ = imputer.fit(X_train)\ndisplay(imputer.transformers_[0][1].statistics_)\n\nprint(\"Means After IQR\")\nX_train_ = imputer.fit(X_train_iqr)\ndisplay(imputer.transformers_[0][1].statistics_)"
        },
        "metadata": {},
        "output_type": "display_data"
       }
      ]
     }
    },
    "aa6ba4adc3614215a47aa18d2db7c43d": {
     "model_module": "@jupyter-widgets/controls",
     "model_module_version": "1.5.0",
     "model_name": "ButtonStyleModel",
     "state": {
      "_model_module": "@jupyter-widgets/controls",
      "_model_module_version": "1.5.0",
      "_model_name": "ButtonStyleModel",
      "_view_count": null,
      "_view_module": "@jupyter-widgets/base",
      "_view_module_version": "1.2.0",
      "_view_name": "StyleView",
      "button_color": null,
      "font_weight": ""
     }
    },
    "b090109dbf254bcea6d24929991ebf8f": {
     "model_module": "@jupyter-widgets/base",
     "model_module_version": "1.2.0",
     "model_name": "LayoutModel",
     "state": {
      "_model_module": "@jupyter-widgets/base",
      "_model_module_version": "1.2.0",
      "_model_name": "LayoutModel",
      "_view_count": null,
      "_view_module": "@jupyter-widgets/base",
      "_view_module_version": "1.2.0",
      "_view_name": "LayoutView",
      "align_content": null,
      "align_items": null,
      "align_self": null,
      "border": null,
      "bottom": null,
      "display": null,
      "flex": null,
      "flex_flow": null,
      "grid_area": null,
      "grid_auto_columns": null,
      "grid_auto_flow": null,
      "grid_auto_rows": null,
      "grid_column": null,
      "grid_gap": null,
      "grid_row": null,
      "grid_template_areas": null,
      "grid_template_columns": null,
      "grid_template_rows": null,
      "height": null,
      "justify_content": null,
      "justify_items": null,
      "left": null,
      "margin": null,
      "max_height": null,
      "max_width": null,
      "min_height": null,
      "min_width": null,
      "object_fit": null,
      "object_position": null,
      "order": null,
      "overflow": null,
      "overflow_x": null,
      "overflow_y": null,
      "padding": null,
      "right": null,
      "top": null,
      "visibility": null,
      "width": null
     }
    },
    "b0ea606631b845e5ae554d3ba0a8f263": {
     "model_module": "@jupyter-widgets/base",
     "model_module_version": "1.2.0",
     "model_name": "LayoutModel",
     "state": {
      "_model_module": "@jupyter-widgets/base",
      "_model_module_version": "1.2.0",
      "_model_name": "LayoutModel",
      "_view_count": null,
      "_view_module": "@jupyter-widgets/base",
      "_view_module_version": "1.2.0",
      "_view_name": "LayoutView",
      "align_content": null,
      "align_items": null,
      "align_self": null,
      "border": "1px solid green",
      "bottom": null,
      "display": null,
      "flex": null,
      "flex_flow": null,
      "grid_area": null,
      "grid_auto_columns": null,
      "grid_auto_flow": null,
      "grid_auto_rows": null,
      "grid_column": null,
      "grid_gap": null,
      "grid_row": null,
      "grid_template_areas": null,
      "grid_template_columns": null,
      "grid_template_rows": null,
      "height": null,
      "justify_content": null,
      "justify_items": null,
      "left": null,
      "margin": null,
      "max_height": null,
      "max_width": null,
      "min_height": null,
      "min_width": null,
      "object_fit": null,
      "object_position": null,
      "order": null,
      "overflow": null,
      "overflow_x": null,
      "overflow_y": null,
      "padding": null,
      "right": null,
      "top": null,
      "visibility": null,
      "width": null
     }
    },
    "b28038ecb4e4444fa9d2d7021933e609": {
     "model_module": "@jupyter-widgets/base",
     "model_module_version": "1.2.0",
     "model_name": "LayoutModel",
     "state": {
      "_model_module": "@jupyter-widgets/base",
      "_model_module_version": "1.2.0",
      "_model_name": "LayoutModel",
      "_view_count": null,
      "_view_module": "@jupyter-widgets/base",
      "_view_module_version": "1.2.0",
      "_view_name": "LayoutView",
      "align_content": null,
      "align_items": null,
      "align_self": null,
      "border": "1px solid green",
      "bottom": null,
      "display": null,
      "flex": null,
      "flex_flow": null,
      "grid_area": null,
      "grid_auto_columns": null,
      "grid_auto_flow": null,
      "grid_auto_rows": null,
      "grid_column": null,
      "grid_gap": null,
      "grid_row": null,
      "grid_template_areas": null,
      "grid_template_columns": null,
      "grid_template_rows": null,
      "height": null,
      "justify_content": null,
      "justify_items": null,
      "left": null,
      "margin": null,
      "max_height": null,
      "max_width": null,
      "min_height": null,
      "min_width": null,
      "object_fit": null,
      "object_position": null,
      "order": null,
      "overflow": null,
      "overflow_x": null,
      "overflow_y": null,
      "padding": null,
      "right": null,
      "top": null,
      "visibility": null,
      "width": null
     }
    },
    "b2bcfd16b365406aa81147f101685c54": {
     "model_module": "@jupyter-widgets/controls",
     "model_module_version": "1.5.0",
     "model_name": "ButtonModel",
     "state": {
      "_dom_classes": [],
      "_model_module": "@jupyter-widgets/controls",
      "_model_module_version": "1.5.0",
      "_model_name": "ButtonModel",
      "_view_count": null,
      "_view_module": "@jupyter-widgets/controls",
      "_view_module_version": "1.5.0",
      "_view_name": "ButtonView",
      "button_style": "",
      "description": "Reveal solution",
      "disabled": false,
      "icon": "",
      "layout": "IPY_MODEL_d5bc72e2bff948cca445f8b5b4f2c063",
      "style": "IPY_MODEL_7efe898190924c2089251cc159b60a17",
      "tooltip": ""
     }
    },
    "b4718e21dcbd471cbd1b2abe215908ce": {
     "model_module": "@jupyter-widgets/controls",
     "model_module_version": "1.5.0",
     "model_name": "ButtonModel",
     "state": {
      "_dom_classes": [],
      "_model_module": "@jupyter-widgets/controls",
      "_model_module_version": "1.5.0",
      "_model_name": "ButtonModel",
      "_view_count": null,
      "_view_module": "@jupyter-widgets/controls",
      "_view_module_version": "1.5.0",
      "_view_name": "ButtonView",
      "button_style": "",
      "description": "Reveal solution",
      "disabled": false,
      "icon": "",
      "layout": "IPY_MODEL_8d22cd26f11b4094969bb6313723b356",
      "style": "IPY_MODEL_dc33d1a516d648e2a6c59fdf9af4263b",
      "tooltip": ""
     }
    },
    "b5255893906f484793c4c832d75e2519": {
     "model_module": "@jupyter-widgets/controls",
     "model_module_version": "1.5.0",
     "model_name": "ButtonModel",
     "state": {
      "_dom_classes": [],
      "_model_module": "@jupyter-widgets/controls",
      "_model_module_version": "1.5.0",
      "_model_name": "ButtonModel",
      "_view_count": null,
      "_view_module": "@jupyter-widgets/controls",
      "_view_module_version": "1.5.0",
      "_view_name": "ButtonView",
      "button_style": "",
      "description": "Hide solution",
      "disabled": false,
      "icon": "",
      "layout": "IPY_MODEL_7ec89bd3a5c6459694769ca926b58fdb",
      "style": "IPY_MODEL_aa6ba4adc3614215a47aa18d2db7c43d",
      "tooltip": ""
     }
    },
    "b7be9890c0ec4ded9f3665d4c63654b6": {
     "model_module": "@jupyter-widgets/output",
     "model_module_version": "1.0.0",
     "model_name": "OutputModel",
     "state": {
      "_dom_classes": [],
      "_model_module": "@jupyter-widgets/output",
      "_model_module_version": "1.0.0",
      "_model_name": "OutputModel",
      "_view_count": null,
      "_view_module": "@jupyter-widgets/output",
      "_view_module_version": "1.0.0",
      "_view_name": "OutputView",
      "layout": "IPY_MODEL_b28038ecb4e4444fa9d2d7021933e609",
      "msg_id": "",
      "outputs": [
       {
        "data": {
         "text/html": "<style>.output_html .hll { background-color: #ffffcc }\n.output_html  { background: #f8f8f8; }\n.output_html .c { color: #408080; font-style: italic } /* Comment */\n.output_html .err { border: 1px solid #FF0000 } /* Error */\n.output_html .k { color: #008000; font-weight: bold } /* Keyword */\n.output_html .o { color: #666666 } /* Operator */\n.output_html .ch { color: #408080; font-style: italic } /* Comment.Hashbang */\n.output_html .cm { color: #408080; font-style: italic } /* Comment.Multiline */\n.output_html .cp { color: #BC7A00 } /* Comment.Preproc */\n.output_html .cpf { color: #408080; font-style: italic } /* Comment.PreprocFile */\n.output_html .c1 { color: #408080; font-style: italic } /* Comment.Single */\n.output_html .cs { color: #408080; font-style: italic } /* Comment.Special */\n.output_html .gd { color: #A00000 } /* Generic.Deleted */\n.output_html .ge { font-style: italic } /* Generic.Emph */\n.output_html .gr { color: #FF0000 } /* Generic.Error */\n.output_html .gh { color: #000080; font-weight: bold } /* Generic.Heading */\n.output_html .gi { color: #00A000 } /* Generic.Inserted */\n.output_html .go { color: #888888 } /* Generic.Output */\n.output_html .gp { color: #000080; font-weight: bold } /* Generic.Prompt */\n.output_html .gs { font-weight: bold } /* Generic.Strong */\n.output_html .gu { color: #800080; font-weight: bold } /* Generic.Subheading */\n.output_html .gt { color: #0044DD } /* Generic.Traceback */\n.output_html .kc { color: #008000; font-weight: bold } /* Keyword.Constant */\n.output_html .kd { color: #008000; font-weight: bold } /* Keyword.Declaration */\n.output_html .kn { color: #008000; font-weight: bold } /* Keyword.Namespace */\n.output_html .kp { color: #008000 } /* Keyword.Pseudo */\n.output_html .kr { color: #008000; font-weight: bold } /* Keyword.Reserved */\n.output_html .kt { color: #B00040 } /* Keyword.Type */\n.output_html .m { color: #666666 } /* Literal.Number */\n.output_html .s { color: #BA2121 } /* Literal.String */\n.output_html .na { color: #7D9029 } /* Name.Attribute */\n.output_html .nb { color: #008000 } /* Name.Builtin */\n.output_html .nc { color: #0000FF; font-weight: bold } /* Name.Class */\n.output_html .no { color: #880000 } /* Name.Constant */\n.output_html .nd { color: #AA22FF } /* Name.Decorator */\n.output_html .ni { color: #999999; font-weight: bold } /* Name.Entity */\n.output_html .ne { color: #D2413A; font-weight: bold } /* Name.Exception */\n.output_html .nf { color: #0000FF } /* Name.Function */\n.output_html .nl { color: #A0A000 } /* Name.Label */\n.output_html .nn { color: #0000FF; font-weight: bold } /* Name.Namespace */\n.output_html .nt { color: #008000; font-weight: bold } /* Name.Tag */\n.output_html .nv { color: #19177C } /* Name.Variable */\n.output_html .ow { color: #AA22FF; font-weight: bold } /* Operator.Word */\n.output_html .w { color: #bbbbbb } /* Text.Whitespace */\n.output_html .mb { color: #666666 } /* Literal.Number.Bin */\n.output_html .mf { color: #666666 } /* Literal.Number.Float */\n.output_html .mh { color: #666666 } /* Literal.Number.Hex */\n.output_html .mi { color: #666666 } /* Literal.Number.Integer */\n.output_html .mo { color: #666666 } /* Literal.Number.Oct */\n.output_html .sa { color: #BA2121 } /* Literal.String.Affix */\n.output_html .sb { color: #BA2121 } /* Literal.String.Backtick */\n.output_html .sc { color: #BA2121 } /* Literal.String.Char */\n.output_html .dl { color: #BA2121 } /* Literal.String.Delimiter */\n.output_html .sd { color: #BA2121; font-style: italic } /* Literal.String.Doc */\n.output_html .s2 { color: #BA2121 } /* Literal.String.Double */\n.output_html .se { color: #BB6622; font-weight: bold } /* Literal.String.Escape */\n.output_html .sh { color: #BA2121 } /* Literal.String.Heredoc */\n.output_html .si { color: #BB6688; font-weight: bold } /* Literal.String.Interpol */\n.output_html .sx { color: #008000 } /* Literal.String.Other */\n.output_html .sr { color: #BB6688 } /* Literal.String.Regex */\n.output_html .s1 { color: #BA2121 } /* Literal.String.Single */\n.output_html .ss { color: #19177C } /* Literal.String.Symbol */\n.output_html .bp { color: #008000 } /* Name.Builtin.Pseudo */\n.output_html .fm { color: #0000FF } /* Name.Function.Magic */\n.output_html .vc { color: #19177C } /* Name.Variable.Class */\n.output_html .vg { color: #19177C } /* Name.Variable.Global */\n.output_html .vi { color: #19177C } /* Name.Variable.Instance */\n.output_html .vm { color: #19177C } /* Name.Variable.Magic */\n.output_html .il { color: #666666 } /* Literal.Number.Integer.Long */</style><div class=\"highlight\"><pre><span></span><span class=\"n\">housing</span><span class=\"o\">.</span><span class=\"n\">describe</span><span class=\"p\">()</span><span class=\"o\">.</span><span class=\"n\">round</span><span class=\"p\">(</span><span class=\"mi\">2</span><span class=\"p\">)</span>\n</pre></div>\n",
         "text/latex": "\\begin{Verbatim}[commandchars=\\\\\\{\\}]\n\\PY{n}{housing}\\PY{o}{.}\\PY{n}{describe}\\PY{p}{(}\\PY{p}{)}\\PY{o}{.}\\PY{n}{round}\\PY{p}{(}\\PY{l+m+mi}{2}\\PY{p}{)}\n\\end{Verbatim}\n",
         "text/plain": "housing.describe().round(2)"
        },
        "metadata": {},
        "output_type": "display_data"
       },
       {
        "data": {
         "text/markdown": "From the descriptive statistics we can see that the features all have very different scales.\n",
         "text/plain": "<IPython.core.display.Markdown object>"
        },
        "metadata": {},
        "output_type": "display_data"
       },
       {
        "data": {
         "text/html": "<style>.output_html .hll { background-color: #ffffcc }\n.output_html  { background: #f8f8f8; }\n.output_html .c { color: #408080; font-style: italic } /* Comment */\n.output_html .err { border: 1px solid #FF0000 } /* Error */\n.output_html .k { color: #008000; font-weight: bold } /* Keyword */\n.output_html .o { color: #666666 } /* Operator */\n.output_html .ch { color: #408080; font-style: italic } /* Comment.Hashbang */\n.output_html .cm { color: #408080; font-style: italic } /* Comment.Multiline */\n.output_html .cp { color: #BC7A00 } /* Comment.Preproc */\n.output_html .cpf { color: #408080; font-style: italic } /* Comment.PreprocFile */\n.output_html .c1 { color: #408080; font-style: italic } /* Comment.Single */\n.output_html .cs { color: #408080; font-style: italic } /* Comment.Special */\n.output_html .gd { color: #A00000 } /* Generic.Deleted */\n.output_html .ge { font-style: italic } /* Generic.Emph */\n.output_html .gr { color: #FF0000 } /* Generic.Error */\n.output_html .gh { color: #000080; font-weight: bold } /* Generic.Heading */\n.output_html .gi { color: #00A000 } /* Generic.Inserted */\n.output_html .go { color: #888888 } /* Generic.Output */\n.output_html .gp { color: #000080; font-weight: bold } /* Generic.Prompt */\n.output_html .gs { font-weight: bold } /* Generic.Strong */\n.output_html .gu { color: #800080; font-weight: bold } /* Generic.Subheading */\n.output_html .gt { color: #0044DD } /* Generic.Traceback */\n.output_html .kc { color: #008000; font-weight: bold } /* Keyword.Constant */\n.output_html .kd { color: #008000; font-weight: bold } /* Keyword.Declaration */\n.output_html .kn { color: #008000; font-weight: bold } /* Keyword.Namespace */\n.output_html .kp { color: #008000 } /* Keyword.Pseudo */\n.output_html .kr { color: #008000; font-weight: bold } /* Keyword.Reserved */\n.output_html .kt { color: #B00040 } /* Keyword.Type */\n.output_html .m { color: #666666 } /* Literal.Number */\n.output_html .s { color: #BA2121 } /* Literal.String */\n.output_html .na { color: #7D9029 } /* Name.Attribute */\n.output_html .nb { color: #008000 } /* Name.Builtin */\n.output_html .nc { color: #0000FF; font-weight: bold } /* Name.Class */\n.output_html .no { color: #880000 } /* Name.Constant */\n.output_html .nd { color: #AA22FF } /* Name.Decorator */\n.output_html .ni { color: #999999; font-weight: bold } /* Name.Entity */\n.output_html .ne { color: #D2413A; font-weight: bold } /* Name.Exception */\n.output_html .nf { color: #0000FF } /* Name.Function */\n.output_html .nl { color: #A0A000 } /* Name.Label */\n.output_html .nn { color: #0000FF; font-weight: bold } /* Name.Namespace */\n.output_html .nt { color: #008000; font-weight: bold } /* Name.Tag */\n.output_html .nv { color: #19177C } /* Name.Variable */\n.output_html .ow { color: #AA22FF; font-weight: bold } /* Operator.Word */\n.output_html .w { color: #bbbbbb } /* Text.Whitespace */\n.output_html .mb { color: #666666 } /* Literal.Number.Bin */\n.output_html .mf { color: #666666 } /* Literal.Number.Float */\n.output_html .mh { color: #666666 } /* Literal.Number.Hex */\n.output_html .mi { color: #666666 } /* Literal.Number.Integer */\n.output_html .mo { color: #666666 } /* Literal.Number.Oct */\n.output_html .sa { color: #BA2121 } /* Literal.String.Affix */\n.output_html .sb { color: #BA2121 } /* Literal.String.Backtick */\n.output_html .sc { color: #BA2121 } /* Literal.String.Char */\n.output_html .dl { color: #BA2121 } /* Literal.String.Delimiter */\n.output_html .sd { color: #BA2121; font-style: italic } /* Literal.String.Doc */\n.output_html .s2 { color: #BA2121 } /* Literal.String.Double */\n.output_html .se { color: #BB6622; font-weight: bold } /* Literal.String.Escape */\n.output_html .sh { color: #BA2121 } /* Literal.String.Heredoc */\n.output_html .si { color: #BB6688; font-weight: bold } /* Literal.String.Interpol */\n.output_html .sx { color: #008000 } /* Literal.String.Other */\n.output_html .sr { color: #BB6688 } /* Literal.String.Regex */\n.output_html .s1 { color: #BA2121 } /* Literal.String.Single */\n.output_html .ss { color: #19177C } /* Literal.String.Symbol */\n.output_html .bp { color: #008000 } /* Name.Builtin.Pseudo */\n.output_html .fm { color: #0000FF } /* Name.Function.Magic */\n.output_html .vc { color: #19177C } /* Name.Variable.Class */\n.output_html .vg { color: #19177C } /* Name.Variable.Global */\n.output_html .vi { color: #19177C } /* Name.Variable.Instance */\n.output_html .vm { color: #19177C } /* Name.Variable.Magic */\n.output_html .il { color: #666666 } /* Literal.Number.Integer.Long */</style><div class=\"highlight\"><pre><span></span><span class=\"o\">%</span><span class=\"n\">matplotlib</span> <span class=\"n\">inline</span>\n<span class=\"kn\">import</span> <span class=\"nn\">matplotlib.pyplot</span> <span class=\"k\">as</span> <span class=\"nn\">plt</span>\n<span class=\"kn\">import</span> <span class=\"nn\">seaborn</span> <span class=\"k\">as</span> <span class=\"nn\">sns</span>\n<span class=\"n\">fig</span><span class=\"p\">,</span> <span class=\"n\">axes</span> <span class=\"o\">=</span> <span class=\"n\">plt</span><span class=\"o\">.</span><span class=\"n\">subplots</span><span class=\"p\">(</span><span class=\"n\">figsize</span><span class=\"o\">=</span><span class=\"p\">(</span><span class=\"mi\">15</span><span class=\"p\">,</span><span class=\"mi\">10</span><span class=\"p\">),</span> <span class=\"n\">ncols</span><span class=\"o\">=</span><span class=\"mi\">3</span><span class=\"p\">,</span> <span class=\"n\">nrows</span><span class=\"o\">=</span><span class=\"mi\">3</span><span class=\"p\">)</span>\n<span class=\"n\">axes</span> <span class=\"o\">=</span> <span class=\"n\">axes</span><span class=\"o\">.</span><span class=\"n\">flatten</span><span class=\"p\">()</span>\n<span class=\"k\">for</span> <span class=\"n\">i</span><span class=\"p\">,</span> <span class=\"n\">ax</span> <span class=\"ow\">in</span> <span class=\"nb\">enumerate</span><span class=\"p\">(</span><span class=\"n\">axes</span><span class=\"p\">):</span>\n    <span class=\"n\">sns</span><span class=\"o\">.</span><span class=\"n\">histplot</span><span class=\"p\">(</span><span class=\"n\">data</span> <span class=\"o\">=</span> <span class=\"n\">housing</span><span class=\"o\">.</span><span class=\"n\">iloc</span><span class=\"p\">[:,</span><span class=\"n\">i</span><span class=\"p\">],</span> <span class=\"n\">bins</span><span class=\"o\">=</span><span class=\"mi\">50</span><span class=\"p\">,</span> <span class=\"n\">ax</span><span class=\"o\">=</span><span class=\"n\">ax</span><span class=\"p\">)</span>\n    <span class=\"n\">ax</span><span class=\"o\">.</span><span class=\"n\">set_title</span><span class=\"p\">(</span><span class=\"n\">housing</span><span class=\"o\">.</span><span class=\"n\">iloc</span><span class=\"p\">[:,</span><span class=\"n\">i</span><span class=\"p\">]</span><span class=\"o\">.</span><span class=\"n\">name</span><span class=\"p\">)</span>\n    <span class=\"n\">ax</span><span class=\"o\">.</span><span class=\"n\">set_ylabel</span><span class=\"p\">(</span><span class=\"s2\">&quot;&quot;</span><span class=\"p\">)</span>\n    <span class=\"n\">ax</span><span class=\"o\">.</span><span class=\"n\">set_xlabel</span><span class=\"p\">(</span><span class=\"s2\">&quot;&quot;</span><span class=\"p\">)</span>\n\n<span class=\"n\">plt</span><span class=\"o\">.</span><span class=\"n\">tight_layout</span><span class=\"p\">()</span>\n<span class=\"n\">plt</span><span class=\"o\">.</span><span class=\"n\">show</span><span class=\"p\">()</span>\n</pre></div>\n",
         "text/latex": "\\begin{Verbatim}[commandchars=\\\\\\{\\}]\n\\PY{o}{\\PYZpc{}}\\PY{n}{matplotlib} \\PY{n}{inline}\n\\PY{k+kn}{import} \\PY{n+nn}{matplotlib}\\PY{n+nn}{.}\\PY{n+nn}{pyplot} \\PY{k}{as} \\PY{n+nn}{plt}\n\\PY{k+kn}{import} \\PY{n+nn}{seaborn} \\PY{k}{as} \\PY{n+nn}{sns}\n\\PY{n}{fig}\\PY{p}{,} \\PY{n}{axes} \\PY{o}{=} \\PY{n}{plt}\\PY{o}{.}\\PY{n}{subplots}\\PY{p}{(}\\PY{n}{figsize}\\PY{o}{=}\\PY{p}{(}\\PY{l+m+mi}{15}\\PY{p}{,}\\PY{l+m+mi}{10}\\PY{p}{)}\\PY{p}{,} \\PY{n}{ncols}\\PY{o}{=}\\PY{l+m+mi}{3}\\PY{p}{,} \\PY{n}{nrows}\\PY{o}{=}\\PY{l+m+mi}{3}\\PY{p}{)}\n\\PY{n}{axes} \\PY{o}{=} \\PY{n}{axes}\\PY{o}{.}\\PY{n}{flatten}\\PY{p}{(}\\PY{p}{)}\n\\PY{k}{for} \\PY{n}{i}\\PY{p}{,} \\PY{n}{ax} \\PY{o+ow}{in} \\PY{n+nb}{enumerate}\\PY{p}{(}\\PY{n}{axes}\\PY{p}{)}\\PY{p}{:}\n    \\PY{n}{sns}\\PY{o}{.}\\PY{n}{histplot}\\PY{p}{(}\\PY{n}{data} \\PY{o}{=} \\PY{n}{housing}\\PY{o}{.}\\PY{n}{iloc}\\PY{p}{[}\\PY{p}{:}\\PY{p}{,}\\PY{n}{i}\\PY{p}{]}\\PY{p}{,} \\PY{n}{bins}\\PY{o}{=}\\PY{l+m+mi}{50}\\PY{p}{,} \\PY{n}{ax}\\PY{o}{=}\\PY{n}{ax}\\PY{p}{)}\n    \\PY{n}{ax}\\PY{o}{.}\\PY{n}{set\\PYZus{}title}\\PY{p}{(}\\PY{n}{housing}\\PY{o}{.}\\PY{n}{iloc}\\PY{p}{[}\\PY{p}{:}\\PY{p}{,}\\PY{n}{i}\\PY{p}{]}\\PY{o}{.}\\PY{n}{name}\\PY{p}{)}\n    \\PY{n}{ax}\\PY{o}{.}\\PY{n}{set\\PYZus{}ylabel}\\PY{p}{(}\\PY{l+s+s2}{\\PYZdq{}}\\PY{l+s+s2}{\\PYZdq{}}\\PY{p}{)}\n    \\PY{n}{ax}\\PY{o}{.}\\PY{n}{set\\PYZus{}xlabel}\\PY{p}{(}\\PY{l+s+s2}{\\PYZdq{}}\\PY{l+s+s2}{\\PYZdq{}}\\PY{p}{)}\n\n\\PY{n}{plt}\\PY{o}{.}\\PY{n}{tight\\PYZus{}layout}\\PY{p}{(}\\PY{p}{)}\n\\PY{n}{plt}\\PY{o}{.}\\PY{n}{show}\\PY{p}{(}\\PY{p}{)}\n\\end{Verbatim}\n",
         "text/plain": "%matplotlib inline\nimport matplotlib.pyplot as plt\nimport seaborn as sns\nfig, axes = plt.subplots(figsize=(15,10), ncols=3, nrows=3)\naxes = axes.flatten()\nfor i, ax in enumerate(axes):\n    sns.histplot(data = housing.iloc[:,i], bins=50, ax=ax)\n    ax.set_title(housing.iloc[:,i].name)\n    ax.set_ylabel(\"\")\n    ax.set_xlabel(\"\")\n\nplt.tight_layout()\nplt.show()"
        },
        "metadata": {},
        "output_type": "display_data"
       },
       {
        "data": {
         "text/markdown": "Many of the histograms are tail heavy: they extend much farther to the right of the median than to the left. This may make it a bit harder for some Machine Learning algorithms to detect patterns. We will try transforming these attributes later on to have more bell-shaped distributions.\n",
         "text/plain": "<IPython.core.display.Markdown object>"
        },
        "metadata": {},
        "output_type": "display_data"
       }
      ]
     }
    },
    "b839d6f667d14180b2bf4f7ba40aa6b3": {
     "model_module": "@jupyter-widgets/base",
     "model_module_version": "1.2.0",
     "model_name": "LayoutModel",
     "state": {
      "_model_module": "@jupyter-widgets/base",
      "_model_module_version": "1.2.0",
      "_model_name": "LayoutModel",
      "_view_count": null,
      "_view_module": "@jupyter-widgets/base",
      "_view_module_version": "1.2.0",
      "_view_name": "LayoutView",
      "align_content": null,
      "align_items": null,
      "align_self": null,
      "border": null,
      "bottom": null,
      "display": null,
      "flex": null,
      "flex_flow": null,
      "grid_area": null,
      "grid_auto_columns": null,
      "grid_auto_flow": null,
      "grid_auto_rows": null,
      "grid_column": null,
      "grid_gap": null,
      "grid_row": null,
      "grid_template_areas": null,
      "grid_template_columns": null,
      "grid_template_rows": null,
      "height": null,
      "justify_content": null,
      "justify_items": null,
      "left": null,
      "margin": null,
      "max_height": null,
      "max_width": null,
      "min_height": null,
      "min_width": null,
      "object_fit": null,
      "object_position": null,
      "order": null,
      "overflow": null,
      "overflow_x": null,
      "overflow_y": null,
      "padding": null,
      "right": null,
      "top": null,
      "visibility": null,
      "width": null
     }
    },
    "bade14c0de134eb7bdc2d35973d06947": {
     "model_module": "@jupyter-widgets/base",
     "model_module_version": "1.2.0",
     "model_name": "LayoutModel",
     "state": {
      "_model_module": "@jupyter-widgets/base",
      "_model_module_version": "1.2.0",
      "_model_name": "LayoutModel",
      "_view_count": null,
      "_view_module": "@jupyter-widgets/base",
      "_view_module_version": "1.2.0",
      "_view_name": "LayoutView",
      "align_content": null,
      "align_items": null,
      "align_self": null,
      "border": "1px solid green",
      "bottom": null,
      "display": null,
      "flex": null,
      "flex_flow": null,
      "grid_area": null,
      "grid_auto_columns": null,
      "grid_auto_flow": null,
      "grid_auto_rows": null,
      "grid_column": null,
      "grid_gap": null,
      "grid_row": null,
      "grid_template_areas": null,
      "grid_template_columns": null,
      "grid_template_rows": null,
      "height": null,
      "justify_content": null,
      "justify_items": null,
      "left": null,
      "margin": null,
      "max_height": null,
      "max_width": null,
      "min_height": null,
      "min_width": null,
      "object_fit": null,
      "object_position": null,
      "order": null,
      "overflow": null,
      "overflow_x": null,
      "overflow_y": null,
      "padding": null,
      "right": null,
      "top": null,
      "visibility": null,
      "width": null
     }
    },
    "bcc6e21cc76e4ed7b2d3f40cdbffa08a": {
     "model_module": "@jupyter-widgets/base",
     "model_module_version": "1.2.0",
     "model_name": "LayoutModel",
     "state": {
      "_model_module": "@jupyter-widgets/base",
      "_model_module_version": "1.2.0",
      "_model_name": "LayoutModel",
      "_view_count": null,
      "_view_module": "@jupyter-widgets/base",
      "_view_module_version": "1.2.0",
      "_view_name": "LayoutView",
      "align_content": null,
      "align_items": null,
      "align_self": null,
      "border": "1px solid green",
      "bottom": null,
      "display": null,
      "flex": null,
      "flex_flow": null,
      "grid_area": null,
      "grid_auto_columns": null,
      "grid_auto_flow": null,
      "grid_auto_rows": null,
      "grid_column": null,
      "grid_gap": null,
      "grid_row": null,
      "grid_template_areas": null,
      "grid_template_columns": null,
      "grid_template_rows": null,
      "height": null,
      "justify_content": null,
      "justify_items": null,
      "left": null,
      "margin": null,
      "max_height": null,
      "max_width": null,
      "min_height": null,
      "min_width": null,
      "object_fit": null,
      "object_position": null,
      "order": null,
      "overflow": null,
      "overflow_x": null,
      "overflow_y": null,
      "padding": null,
      "right": null,
      "top": null,
      "visibility": null,
      "width": null
     }
    },
    "bcd72b6e270849338f14111082e36d5b": {
     "model_module": "@jupyter-widgets/base",
     "model_module_version": "1.2.0",
     "model_name": "LayoutModel",
     "state": {
      "_model_module": "@jupyter-widgets/base",
      "_model_module_version": "1.2.0",
      "_model_name": "LayoutModel",
      "_view_count": null,
      "_view_module": "@jupyter-widgets/base",
      "_view_module_version": "1.2.0",
      "_view_name": "LayoutView",
      "align_content": null,
      "align_items": null,
      "align_self": null,
      "border": "1px solid green",
      "bottom": null,
      "display": null,
      "flex": null,
      "flex_flow": null,
      "grid_area": null,
      "grid_auto_columns": null,
      "grid_auto_flow": null,
      "grid_auto_rows": null,
      "grid_column": null,
      "grid_gap": null,
      "grid_row": null,
      "grid_template_areas": null,
      "grid_template_columns": null,
      "grid_template_rows": null,
      "height": null,
      "justify_content": null,
      "justify_items": null,
      "left": null,
      "margin": null,
      "max_height": null,
      "max_width": null,
      "min_height": null,
      "min_width": null,
      "object_fit": null,
      "object_position": null,
      "order": null,
      "overflow": null,
      "overflow_x": null,
      "overflow_y": null,
      "padding": null,
      "right": null,
      "top": null,
      "visibility": null,
      "width": null
     }
    },
    "be1a9d2b7cec4911a5dd4f06b6cb8855": {
     "model_module": "@jupyter-widgets/base",
     "model_module_version": "1.2.0",
     "model_name": "LayoutModel",
     "state": {
      "_model_module": "@jupyter-widgets/base",
      "_model_module_version": "1.2.0",
      "_model_name": "LayoutModel",
      "_view_count": null,
      "_view_module": "@jupyter-widgets/base",
      "_view_module_version": "1.2.0",
      "_view_name": "LayoutView",
      "align_content": null,
      "align_items": null,
      "align_self": null,
      "border": "1px solid green",
      "bottom": null,
      "display": null,
      "flex": null,
      "flex_flow": null,
      "grid_area": null,
      "grid_auto_columns": null,
      "grid_auto_flow": null,
      "grid_auto_rows": null,
      "grid_column": null,
      "grid_gap": null,
      "grid_row": null,
      "grid_template_areas": null,
      "grid_template_columns": null,
      "grid_template_rows": null,
      "height": null,
      "justify_content": null,
      "justify_items": null,
      "left": null,
      "margin": null,
      "max_height": null,
      "max_width": null,
      "min_height": null,
      "min_width": null,
      "object_fit": null,
      "object_position": null,
      "order": null,
      "overflow": null,
      "overflow_x": null,
      "overflow_y": null,
      "padding": null,
      "right": null,
      "top": null,
      "visibility": null,
      "width": null
     }
    },
    "c01db2283ea145b5ac3bf01361e6a4c0": {
     "model_module": "@jupyter-widgets/output",
     "model_module_version": "1.0.0",
     "model_name": "OutputModel",
     "state": {
      "_dom_classes": [],
      "_model_module": "@jupyter-widgets/output",
      "_model_module_version": "1.0.0",
      "_model_name": "OutputModel",
      "_view_count": null,
      "_view_module": "@jupyter-widgets/output",
      "_view_module_version": "1.0.0",
      "_view_name": "OutputView",
      "layout": "IPY_MODEL_3a3d05932a814592bc5f72786544e685",
      "msg_id": "",
      "outputs": [
       {
        "data": {
         "text/html": "<style>.output_html .hll { background-color: #ffffcc }\n.output_html  { background: #f8f8f8; }\n.output_html .c { color: #408080; font-style: italic } /* Comment */\n.output_html .err { border: 1px solid #FF0000 } /* Error */\n.output_html .k { color: #008000; font-weight: bold } /* Keyword */\n.output_html .o { color: #666666 } /* Operator */\n.output_html .ch { color: #408080; font-style: italic } /* Comment.Hashbang */\n.output_html .cm { color: #408080; font-style: italic } /* Comment.Multiline */\n.output_html .cp { color: #BC7A00 } /* Comment.Preproc */\n.output_html .cpf { color: #408080; font-style: italic } /* Comment.PreprocFile */\n.output_html .c1 { color: #408080; font-style: italic } /* Comment.Single */\n.output_html .cs { color: #408080; font-style: italic } /* Comment.Special */\n.output_html .gd { color: #A00000 } /* Generic.Deleted */\n.output_html .ge { font-style: italic } /* Generic.Emph */\n.output_html .gr { color: #FF0000 } /* Generic.Error */\n.output_html .gh { color: #000080; font-weight: bold } /* Generic.Heading */\n.output_html .gi { color: #00A000 } /* Generic.Inserted */\n.output_html .go { color: #888888 } /* Generic.Output */\n.output_html .gp { color: #000080; font-weight: bold } /* Generic.Prompt */\n.output_html .gs { font-weight: bold } /* Generic.Strong */\n.output_html .gu { color: #800080; font-weight: bold } /* Generic.Subheading */\n.output_html .gt { color: #0044DD } /* Generic.Traceback */\n.output_html .kc { color: #008000; font-weight: bold } /* Keyword.Constant */\n.output_html .kd { color: #008000; font-weight: bold } /* Keyword.Declaration */\n.output_html .kn { color: #008000; font-weight: bold } /* Keyword.Namespace */\n.output_html .kp { color: #008000 } /* Keyword.Pseudo */\n.output_html .kr { color: #008000; font-weight: bold } /* Keyword.Reserved */\n.output_html .kt { color: #B00040 } /* Keyword.Type */\n.output_html .m { color: #666666 } /* Literal.Number */\n.output_html .s { color: #BA2121 } /* Literal.String */\n.output_html .na { color: #7D9029 } /* Name.Attribute */\n.output_html .nb { color: #008000 } /* Name.Builtin */\n.output_html .nc { color: #0000FF; font-weight: bold } /* Name.Class */\n.output_html .no { color: #880000 } /* Name.Constant */\n.output_html .nd { color: #AA22FF } /* Name.Decorator */\n.output_html .ni { color: #999999; font-weight: bold } /* Name.Entity */\n.output_html .ne { color: #D2413A; font-weight: bold } /* Name.Exception */\n.output_html .nf { color: #0000FF } /* Name.Function */\n.output_html .nl { color: #A0A000 } /* Name.Label */\n.output_html .nn { color: #0000FF; font-weight: bold } /* Name.Namespace */\n.output_html .nt { color: #008000; font-weight: bold } /* Name.Tag */\n.output_html .nv { color: #19177C } /* Name.Variable */\n.output_html .ow { color: #AA22FF; font-weight: bold } /* Operator.Word */\n.output_html .w { color: #bbbbbb } /* Text.Whitespace */\n.output_html .mb { color: #666666 } /* Literal.Number.Bin */\n.output_html .mf { color: #666666 } /* Literal.Number.Float */\n.output_html .mh { color: #666666 } /* Literal.Number.Hex */\n.output_html .mi { color: #666666 } /* Literal.Number.Integer */\n.output_html .mo { color: #666666 } /* Literal.Number.Oct */\n.output_html .sa { color: #BA2121 } /* Literal.String.Affix */\n.output_html .sb { color: #BA2121 } /* Literal.String.Backtick */\n.output_html .sc { color: #BA2121 } /* Literal.String.Char */\n.output_html .dl { color: #BA2121 } /* Literal.String.Delimiter */\n.output_html .sd { color: #BA2121; font-style: italic } /* Literal.String.Doc */\n.output_html .s2 { color: #BA2121 } /* Literal.String.Double */\n.output_html .se { color: #BB6622; font-weight: bold } /* Literal.String.Escape */\n.output_html .sh { color: #BA2121 } /* Literal.String.Heredoc */\n.output_html .si { color: #BB6688; font-weight: bold } /* Literal.String.Interpol */\n.output_html .sx { color: #008000 } /* Literal.String.Other */\n.output_html .sr { color: #BB6688 } /* Literal.String.Regex */\n.output_html .s1 { color: #BA2121 } /* Literal.String.Single */\n.output_html .ss { color: #19177C } /* Literal.String.Symbol */\n.output_html .bp { color: #008000 } /* Name.Builtin.Pseudo */\n.output_html .fm { color: #0000FF } /* Name.Function.Magic */\n.output_html .vc { color: #19177C } /* Name.Variable.Class */\n.output_html .vg { color: #19177C } /* Name.Variable.Global */\n.output_html .vi { color: #19177C } /* Name.Variable.Instance */\n.output_html .vm { color: #19177C } /* Name.Variable.Magic */\n.output_html .il { color: #666666 } /* Literal.Number.Integer.Long */</style><div class=\"highlight\"><pre><span></span><span class=\"n\">NA</span> <span class=\"o\">=</span> <span class=\"n\">NARemover</span><span class=\"p\">()</span>\n<span class=\"n\">X_train_drop1</span><span class=\"p\">,</span> <span class=\"n\">y_train_drop1</span> <span class=\"o\">=</span> <span class=\"n\">NA</span><span class=\"o\">.</span><span class=\"n\">fit_resample</span><span class=\"p\">(</span><span class=\"n\">X_train</span><span class=\"p\">,</span> <span class=\"n\">y_train</span><span class=\"p\">)</span>\n<span class=\"n\">X_train_drop2</span><span class=\"p\">,</span> <span class=\"n\">y_train_drop2</span> <span class=\"o\">=</span> <span class=\"n\">NA</span><span class=\"o\">.</span><span class=\"n\">fit_resample</span><span class=\"p\">(</span><span class=\"n\">X_train_iqr</span><span class=\"p\">,</span> <span class=\"n\">y_train</span><span class=\"p\">)</span>\n\n<span class=\"n\">display</span><span class=\"p\">(</span><span class=\"n\">X_train</span><span class=\"o\">.</span><span class=\"n\">shape</span><span class=\"p\">)</span>\n<span class=\"n\">display</span><span class=\"p\">(</span><span class=\"n\">y_train</span><span class=\"o\">.</span><span class=\"n\">shape</span><span class=\"p\">)</span>\n\n<span class=\"n\">display</span><span class=\"p\">(</span><span class=\"n\">X_train_drop1</span><span class=\"o\">.</span><span class=\"n\">shape</span><span class=\"p\">)</span>\n<span class=\"n\">display</span><span class=\"p\">(</span><span class=\"n\">y_train_drop1</span><span class=\"o\">.</span><span class=\"n\">shape</span><span class=\"p\">)</span>\n\n<span class=\"n\">display</span><span class=\"p\">(</span><span class=\"n\">X_train_drop2</span><span class=\"o\">.</span><span class=\"n\">shape</span><span class=\"p\">)</span>\n<span class=\"n\">display</span><span class=\"p\">(</span><span class=\"n\">y_train_drop2</span><span class=\"o\">.</span><span class=\"n\">shape</span><span class=\"p\">)</span>\n</pre></div>\n",
         "text/latex": "\\begin{Verbatim}[commandchars=\\\\\\{\\}]\n\\PY{n}{NA} \\PY{o}{=} \\PY{n}{NARemover}\\PY{p}{(}\\PY{p}{)}\n\\PY{n}{X\\PYZus{}train\\PYZus{}drop1}\\PY{p}{,} \\PY{n}{y\\PYZus{}train\\PYZus{}drop1} \\PY{o}{=} \\PY{n}{NA}\\PY{o}{.}\\PY{n}{fit\\PYZus{}resample}\\PY{p}{(}\\PY{n}{X\\PYZus{}train}\\PY{p}{,} \\PY{n}{y\\PYZus{}train}\\PY{p}{)}\n\\PY{n}{X\\PYZus{}train\\PYZus{}drop2}\\PY{p}{,} \\PY{n}{y\\PYZus{}train\\PYZus{}drop2} \\PY{o}{=} \\PY{n}{NA}\\PY{o}{.}\\PY{n}{fit\\PYZus{}resample}\\PY{p}{(}\\PY{n}{X\\PYZus{}train\\PYZus{}iqr}\\PY{p}{,} \\PY{n}{y\\PYZus{}train}\\PY{p}{)}\n\n\\PY{n}{display}\\PY{p}{(}\\PY{n}{X\\PYZus{}train}\\PY{o}{.}\\PY{n}{shape}\\PY{p}{)}\n\\PY{n}{display}\\PY{p}{(}\\PY{n}{y\\PYZus{}train}\\PY{o}{.}\\PY{n}{shape}\\PY{p}{)}\n\n\\PY{n}{display}\\PY{p}{(}\\PY{n}{X\\PYZus{}train\\PYZus{}drop1}\\PY{o}{.}\\PY{n}{shape}\\PY{p}{)}\n\\PY{n}{display}\\PY{p}{(}\\PY{n}{y\\PYZus{}train\\PYZus{}drop1}\\PY{o}{.}\\PY{n}{shape}\\PY{p}{)}\n\n\\PY{n}{display}\\PY{p}{(}\\PY{n}{X\\PYZus{}train\\PYZus{}drop2}\\PY{o}{.}\\PY{n}{shape}\\PY{p}{)}\n\\PY{n}{display}\\PY{p}{(}\\PY{n}{y\\PYZus{}train\\PYZus{}drop2}\\PY{o}{.}\\PY{n}{shape}\\PY{p}{)}\n\\end{Verbatim}\n",
         "text/plain": "NA = NARemover()\nX_train_drop1, y_train_drop1 = NA.fit_resample(X_train, y_train)\nX_train_drop2, y_train_drop2 = NA.fit_resample(X_train_iqr, y_train)\n\ndisplay(X_train.shape)\ndisplay(y_train.shape)\n\ndisplay(X_train_drop1.shape)\ndisplay(y_train_drop1.shape)\n\ndisplay(X_train_drop2.shape)\ndisplay(y_train_drop2.shape)"
        },
        "metadata": {},
        "output_type": "display_data"
       }
      ]
     }
    },
    "c101b04b760444ae97daae42acb3e078": {
     "model_module": "@jupyter-widgets/output",
     "model_module_version": "1.0.0",
     "model_name": "OutputModel",
     "state": {
      "_dom_classes": [],
      "_model_module": "@jupyter-widgets/output",
      "_model_module_version": "1.0.0",
      "_model_name": "OutputModel",
      "_view_count": null,
      "_view_module": "@jupyter-widgets/output",
      "_view_module_version": "1.0.0",
      "_view_name": "OutputView",
      "layout": "IPY_MODEL_ef0261b2a2714ac587a1b3749f4bdb43",
      "msg_id": "",
      "outputs": [
       {
        "data": {
         "text/html": "<style>.output_html .hll { background-color: #ffffcc }\n.output_html  { background: #f8f8f8; }\n.output_html .c { color: #408080; font-style: italic } /* Comment */\n.output_html .err { border: 1px solid #FF0000 } /* Error */\n.output_html .k { color: #008000; font-weight: bold } /* Keyword */\n.output_html .o { color: #666666 } /* Operator */\n.output_html .ch { color: #408080; font-style: italic } /* Comment.Hashbang */\n.output_html .cm { color: #408080; font-style: italic } /* Comment.Multiline */\n.output_html .cp { color: #BC7A00 } /* Comment.Preproc */\n.output_html .cpf { color: #408080; font-style: italic } /* Comment.PreprocFile */\n.output_html .c1 { color: #408080; font-style: italic } /* Comment.Single */\n.output_html .cs { color: #408080; font-style: italic } /* Comment.Special */\n.output_html .gd { color: #A00000 } /* Generic.Deleted */\n.output_html .ge { font-style: italic } /* Generic.Emph */\n.output_html .gr { color: #FF0000 } /* Generic.Error */\n.output_html .gh { color: #000080; font-weight: bold } /* Generic.Heading */\n.output_html .gi { color: #00A000 } /* Generic.Inserted */\n.output_html .go { color: #888888 } /* Generic.Output */\n.output_html .gp { color: #000080; font-weight: bold } /* Generic.Prompt */\n.output_html .gs { font-weight: bold } /* Generic.Strong */\n.output_html .gu { color: #800080; font-weight: bold } /* Generic.Subheading */\n.output_html .gt { color: #0044DD } /* Generic.Traceback */\n.output_html .kc { color: #008000; font-weight: bold } /* Keyword.Constant */\n.output_html .kd { color: #008000; font-weight: bold } /* Keyword.Declaration */\n.output_html .kn { color: #008000; font-weight: bold } /* Keyword.Namespace */\n.output_html .kp { color: #008000 } /* Keyword.Pseudo */\n.output_html .kr { color: #008000; font-weight: bold } /* Keyword.Reserved */\n.output_html .kt { color: #B00040 } /* Keyword.Type */\n.output_html .m { color: #666666 } /* Literal.Number */\n.output_html .s { color: #BA2121 } /* Literal.String */\n.output_html .na { color: #7D9029 } /* Name.Attribute */\n.output_html .nb { color: #008000 } /* Name.Builtin */\n.output_html .nc { color: #0000FF; font-weight: bold } /* Name.Class */\n.output_html .no { color: #880000 } /* Name.Constant */\n.output_html .nd { color: #AA22FF } /* Name.Decorator */\n.output_html .ni { color: #999999; font-weight: bold } /* Name.Entity */\n.output_html .ne { color: #D2413A; font-weight: bold } /* Name.Exception */\n.output_html .nf { color: #0000FF } /* Name.Function */\n.output_html .nl { color: #A0A000 } /* Name.Label */\n.output_html .nn { color: #0000FF; font-weight: bold } /* Name.Namespace */\n.output_html .nt { color: #008000; font-weight: bold } /* Name.Tag */\n.output_html .nv { color: #19177C } /* Name.Variable */\n.output_html .ow { color: #AA22FF; font-weight: bold } /* Operator.Word */\n.output_html .w { color: #bbbbbb } /* Text.Whitespace */\n.output_html .mb { color: #666666 } /* Literal.Number.Bin */\n.output_html .mf { color: #666666 } /* Literal.Number.Float */\n.output_html .mh { color: #666666 } /* Literal.Number.Hex */\n.output_html .mi { color: #666666 } /* Literal.Number.Integer */\n.output_html .mo { color: #666666 } /* Literal.Number.Oct */\n.output_html .sa { color: #BA2121 } /* Literal.String.Affix */\n.output_html .sb { color: #BA2121 } /* Literal.String.Backtick */\n.output_html .sc { color: #BA2121 } /* Literal.String.Char */\n.output_html .dl { color: #BA2121 } /* Literal.String.Delimiter */\n.output_html .sd { color: #BA2121; font-style: italic } /* Literal.String.Doc */\n.output_html .s2 { color: #BA2121 } /* Literal.String.Double */\n.output_html .se { color: #BB6622; font-weight: bold } /* Literal.String.Escape */\n.output_html .sh { color: #BA2121 } /* Literal.String.Heredoc */\n.output_html .si { color: #BB6688; font-weight: bold } /* Literal.String.Interpol */\n.output_html .sx { color: #008000 } /* Literal.String.Other */\n.output_html .sr { color: #BB6688 } /* Literal.String.Regex */\n.output_html .s1 { color: #BA2121 } /* Literal.String.Single */\n.output_html .ss { color: #19177C } /* Literal.String.Symbol */\n.output_html .bp { color: #008000 } /* Name.Builtin.Pseudo */\n.output_html .fm { color: #0000FF } /* Name.Function.Magic */\n.output_html .vc { color: #19177C } /* Name.Variable.Class */\n.output_html .vg { color: #19177C } /* Name.Variable.Global */\n.output_html .vi { color: #19177C } /* Name.Variable.Instance */\n.output_html .vm { color: #19177C } /* Name.Variable.Magic */\n.output_html .il { color: #666666 } /* Literal.Number.Integer.Long */</style><div class=\"highlight\"><pre><span></span><span class=\"n\">reg_pipe_3</span><span class=\"o\">.</span><span class=\"n\">fit</span><span class=\"p\">(</span><span class=\"n\">X_train</span><span class=\"p\">,</span> <span class=\"n\">y_train</span><span class=\"p\">)</span>\n\n<span class=\"n\">X_test</span> <span class=\"o\">=</span> <span class=\"n\">test_set</span><span class=\"o\">.</span><span class=\"n\">drop</span><span class=\"p\">(</span><span class=\"s2\">&quot;median_house_value&quot;</span><span class=\"p\">,</span> <span class=\"n\">axis</span><span class=\"o\">=</span><span class=\"mi\">1</span><span class=\"p\">)</span>\n<span class=\"n\">X_test</span> <span class=\"o\">=</span> <span class=\"n\">X_test</span><span class=\"o\">.</span><span class=\"n\">values</span>\n\n<span class=\"n\">y_test</span> <span class=\"o\">=</span> <span class=\"n\">test_set</span><span class=\"p\">[</span><span class=\"s2\">&quot;median_house_value&quot;</span><span class=\"p\">]</span><span class=\"o\">.</span><span class=\"n\">copy</span><span class=\"p\">()</span>\n<span class=\"n\">y_test</span> <span class=\"o\">=</span> <span class=\"n\">y_test</span><span class=\"o\">.</span><span class=\"n\">values</span>\n\n<span class=\"nb\">print</span><span class=\"p\">(</span><span class=\"s2\">&quot;Regression R-Squared (Test Set)&quot;</span><span class=\"p\">)</span>\n<span class=\"nb\">print</span><span class=\"p\">(</span><span class=\"nb\">round</span><span class=\"p\">(</span><span class=\"n\">reg_pipe_3</span><span class=\"o\">.</span><span class=\"n\">score</span><span class=\"p\">(</span><span class=\"n\">X_test</span><span class=\"p\">,</span> <span class=\"n\">y_test</span><span class=\"p\">),</span><span class=\"mi\">3</span><span class=\"p\">))</span>\n</pre></div>\n",
         "text/latex": "\\begin{Verbatim}[commandchars=\\\\\\{\\}]\n\\PY{n}{reg\\PYZus{}pipe\\PYZus{}3}\\PY{o}{.}\\PY{n}{fit}\\PY{p}{(}\\PY{n}{X\\PYZus{}train}\\PY{p}{,} \\PY{n}{y\\PYZus{}train}\\PY{p}{)}\n\n\\PY{n}{X\\PYZus{}test} \\PY{o}{=} \\PY{n}{test\\PYZus{}set}\\PY{o}{.}\\PY{n}{drop}\\PY{p}{(}\\PY{l+s+s2}{\\PYZdq{}}\\PY{l+s+s2}{median\\PYZus{}house\\PYZus{}value}\\PY{l+s+s2}{\\PYZdq{}}\\PY{p}{,} \\PY{n}{axis}\\PY{o}{=}\\PY{l+m+mi}{1}\\PY{p}{)}\n\\PY{n}{X\\PYZus{}test} \\PY{o}{=} \\PY{n}{X\\PYZus{}test}\\PY{o}{.}\\PY{n}{values}\n\n\\PY{n}{y\\PYZus{}test} \\PY{o}{=} \\PY{n}{test\\PYZus{}set}\\PY{p}{[}\\PY{l+s+s2}{\\PYZdq{}}\\PY{l+s+s2}{median\\PYZus{}house\\PYZus{}value}\\PY{l+s+s2}{\\PYZdq{}}\\PY{p}{]}\\PY{o}{.}\\PY{n}{copy}\\PY{p}{(}\\PY{p}{)}\n\\PY{n}{y\\PYZus{}test} \\PY{o}{=} \\PY{n}{y\\PYZus{}test}\\PY{o}{.}\\PY{n}{values}\n\n\\PY{n+nb}{print}\\PY{p}{(}\\PY{l+s+s2}{\\PYZdq{}}\\PY{l+s+s2}{Regression R\\PYZhy{}Squared (Test Set)}\\PY{l+s+s2}{\\PYZdq{}}\\PY{p}{)}\n\\PY{n+nb}{print}\\PY{p}{(}\\PY{n+nb}{round}\\PY{p}{(}\\PY{n}{reg\\PYZus{}pipe\\PYZus{}3}\\PY{o}{.}\\PY{n}{score}\\PY{p}{(}\\PY{n}{X\\PYZus{}test}\\PY{p}{,} \\PY{n}{y\\PYZus{}test}\\PY{p}{)}\\PY{p}{,}\\PY{l+m+mi}{3}\\PY{p}{)}\\PY{p}{)}\n\\end{Verbatim}\n",
         "text/plain": "reg_pipe_3.fit(X_train, y_train)\n\nX_test = test_set.drop(\"median_house_value\", axis=1)\nX_test = X_test.values\n\ny_test = test_set[\"median_house_value\"].copy()\ny_test = y_test.values\n\nprint(\"Regression R-Squared (Test Set)\")\nprint(round(reg_pipe_3.score(X_test, y_test),3))"
        },
        "metadata": {},
        "output_type": "display_data"
       }
      ]
     }
    },
    "c21a9886a4ce4745a48e07aa9b1cbf2f": {
     "model_module": "@jupyter-widgets/base",
     "model_module_version": "1.2.0",
     "model_name": "LayoutModel",
     "state": {
      "_model_module": "@jupyter-widgets/base",
      "_model_module_version": "1.2.0",
      "_model_name": "LayoutModel",
      "_view_count": null,
      "_view_module": "@jupyter-widgets/base",
      "_view_module_version": "1.2.0",
      "_view_name": "LayoutView",
      "align_content": null,
      "align_items": null,
      "align_self": null,
      "border": null,
      "bottom": null,
      "display": null,
      "flex": null,
      "flex_flow": null,
      "grid_area": null,
      "grid_auto_columns": null,
      "grid_auto_flow": null,
      "grid_auto_rows": null,
      "grid_column": null,
      "grid_gap": null,
      "grid_row": null,
      "grid_template_areas": null,
      "grid_template_columns": null,
      "grid_template_rows": null,
      "height": null,
      "justify_content": null,
      "justify_items": null,
      "left": null,
      "margin": null,
      "max_height": null,
      "max_width": null,
      "min_height": null,
      "min_width": null,
      "object_fit": null,
      "object_position": null,
      "order": null,
      "overflow": null,
      "overflow_x": null,
      "overflow_y": null,
      "padding": null,
      "right": null,
      "top": null,
      "visibility": null,
      "width": null
     }
    },
    "c5181a9380fe4b04ae968e27e9aab055": {
     "model_module": "@jupyter-widgets/output",
     "model_module_version": "1.0.0",
     "model_name": "OutputModel",
     "state": {
      "_dom_classes": [],
      "_model_module": "@jupyter-widgets/output",
      "_model_module_version": "1.0.0",
      "_model_name": "OutputModel",
      "_view_count": null,
      "_view_module": "@jupyter-widgets/output",
      "_view_module_version": "1.0.0",
      "_view_name": "OutputView",
      "layout": "IPY_MODEL_d7ad7bdabb4846439d297fdb125ef779",
      "msg_id": "",
      "outputs": [
       {
        "data": {
         "text/html": "<style>.output_html .hll { background-color: #ffffcc }\n.output_html  { background: #f8f8f8; }\n.output_html .c { color: #408080; font-style: italic } /* Comment */\n.output_html .err { border: 1px solid #FF0000 } /* Error */\n.output_html .k { color: #008000; font-weight: bold } /* Keyword */\n.output_html .o { color: #666666 } /* Operator */\n.output_html .ch { color: #408080; font-style: italic } /* Comment.Hashbang */\n.output_html .cm { color: #408080; font-style: italic } /* Comment.Multiline */\n.output_html .cp { color: #BC7A00 } /* Comment.Preproc */\n.output_html .cpf { color: #408080; font-style: italic } /* Comment.PreprocFile */\n.output_html .c1 { color: #408080; font-style: italic } /* Comment.Single */\n.output_html .cs { color: #408080; font-style: italic } /* Comment.Special */\n.output_html .gd { color: #A00000 } /* Generic.Deleted */\n.output_html .ge { font-style: italic } /* Generic.Emph */\n.output_html .gr { color: #FF0000 } /* Generic.Error */\n.output_html .gh { color: #000080; font-weight: bold } /* Generic.Heading */\n.output_html .gi { color: #00A000 } /* Generic.Inserted */\n.output_html .go { color: #888888 } /* Generic.Output */\n.output_html .gp { color: #000080; font-weight: bold } /* Generic.Prompt */\n.output_html .gs { font-weight: bold } /* Generic.Strong */\n.output_html .gu { color: #800080; font-weight: bold } /* Generic.Subheading */\n.output_html .gt { color: #0044DD } /* Generic.Traceback */\n.output_html .kc { color: #008000; font-weight: bold } /* Keyword.Constant */\n.output_html .kd { color: #008000; font-weight: bold } /* Keyword.Declaration */\n.output_html .kn { color: #008000; font-weight: bold } /* Keyword.Namespace */\n.output_html .kp { color: #008000 } /* Keyword.Pseudo */\n.output_html .kr { color: #008000; font-weight: bold } /* Keyword.Reserved */\n.output_html .kt { color: #B00040 } /* Keyword.Type */\n.output_html .m { color: #666666 } /* Literal.Number */\n.output_html .s { color: #BA2121 } /* Literal.String */\n.output_html .na { color: #7D9029 } /* Name.Attribute */\n.output_html .nb { color: #008000 } /* Name.Builtin */\n.output_html .nc { color: #0000FF; font-weight: bold } /* Name.Class */\n.output_html .no { color: #880000 } /* Name.Constant */\n.output_html .nd { color: #AA22FF } /* Name.Decorator */\n.output_html .ni { color: #999999; font-weight: bold } /* Name.Entity */\n.output_html .ne { color: #D2413A; font-weight: bold } /* Name.Exception */\n.output_html .nf { color: #0000FF } /* Name.Function */\n.output_html .nl { color: #A0A000 } /* Name.Label */\n.output_html .nn { color: #0000FF; font-weight: bold } /* Name.Namespace */\n.output_html .nt { color: #008000; font-weight: bold } /* Name.Tag */\n.output_html .nv { color: #19177C } /* Name.Variable */\n.output_html .ow { color: #AA22FF; font-weight: bold } /* Operator.Word */\n.output_html .w { color: #bbbbbb } /* Text.Whitespace */\n.output_html .mb { color: #666666 } /* Literal.Number.Bin */\n.output_html .mf { color: #666666 } /* Literal.Number.Float */\n.output_html .mh { color: #666666 } /* Literal.Number.Hex */\n.output_html .mi { color: #666666 } /* Literal.Number.Integer */\n.output_html .mo { color: #666666 } /* Literal.Number.Oct */\n.output_html .sa { color: #BA2121 } /* Literal.String.Affix */\n.output_html .sb { color: #BA2121 } /* Literal.String.Backtick */\n.output_html .sc { color: #BA2121 } /* Literal.String.Char */\n.output_html .dl { color: #BA2121 } /* Literal.String.Delimiter */\n.output_html .sd { color: #BA2121; font-style: italic } /* Literal.String.Doc */\n.output_html .s2 { color: #BA2121 } /* Literal.String.Double */\n.output_html .se { color: #BB6622; font-weight: bold } /* Literal.String.Escape */\n.output_html .sh { color: #BA2121 } /* Literal.String.Heredoc */\n.output_html .si { color: #BB6688; font-weight: bold } /* Literal.String.Interpol */\n.output_html .sx { color: #008000 } /* Literal.String.Other */\n.output_html .sr { color: #BB6688 } /* Literal.String.Regex */\n.output_html .s1 { color: #BA2121 } /* Literal.String.Single */\n.output_html .ss { color: #19177C } /* Literal.String.Symbol */\n.output_html .bp { color: #008000 } /* Name.Builtin.Pseudo */\n.output_html .fm { color: #0000FF } /* Name.Function.Magic */\n.output_html .vc { color: #19177C } /* Name.Variable.Class */\n.output_html .vg { color: #19177C } /* Name.Variable.Global */\n.output_html .vi { color: #19177C } /* Name.Variable.Instance */\n.output_html .vm { color: #19177C } /* Name.Variable.Magic */\n.output_html .il { color: #666666 } /* Literal.Number.Integer.Long */</style><div class=\"highlight\"><pre><span></span><span class=\"k\">def</span> <span class=\"nf\">iqr_na</span><span class=\"p\">(</span><span class=\"n\">X</span><span class=\"p\">,</span> <span class=\"n\">y</span><span class=\"o\">=</span><span class=\"kc\">None</span><span class=\"p\">,</span> <span class=\"n\">fold</span><span class=\"o\">=</span><span class=\"mf\">1.5</span><span class=\"p\">,</span> <span class=\"n\">tail</span><span class=\"o\">=</span><span class=\"s2\">&quot;both&quot;</span><span class=\"p\">):</span>\n    <span class=\"n\">X_</span> <span class=\"o\">=</span> <span class=\"n\">X</span><span class=\"o\">.</span><span class=\"n\">copy</span><span class=\"p\">()</span>\n    <span class=\"k\">for</span> <span class=\"n\">i</span> <span class=\"ow\">in</span> <span class=\"nb\">range</span><span class=\"p\">(</span><span class=\"n\">X_</span><span class=\"o\">.</span><span class=\"n\">shape</span><span class=\"p\">[</span><span class=\"mi\">1</span><span class=\"p\">]):</span>\n        <span class=\"n\">upper_boundary_</span><span class=\"p\">,</span> <span class=\"n\">lower_boundary_</span> <span class=\"o\">=</span> <span class=\"n\">find_boundaries</span><span class=\"p\">(</span><span class=\"n\">X_</span><span class=\"p\">[:,</span><span class=\"n\">i</span><span class=\"p\">],</span> <span class=\"n\">fold</span><span class=\"p\">)</span>\n        <span class=\"k\">if</span> <span class=\"n\">tail</span> <span class=\"ow\">in</span> <span class=\"p\">[</span><span class=\"s1\">&#39;both&#39;</span><span class=\"p\">,</span> <span class=\"s1\">&#39;left&#39;</span><span class=\"p\">]:</span>\n            <span class=\"n\">X_</span><span class=\"p\">[:,</span><span class=\"n\">i</span><span class=\"p\">]</span> <span class=\"o\">=</span> <span class=\"n\">np</span><span class=\"o\">.</span><span class=\"n\">where</span><span class=\"p\">(</span><span class=\"n\">X_</span><span class=\"p\">[:,</span><span class=\"n\">i</span><span class=\"p\">]</span> <span class=\"o\">&lt;</span> <span class=\"n\">lower_boundary_</span><span class=\"p\">,</span> <span class=\"n\">np</span><span class=\"o\">.</span><span class=\"n\">nan</span><span class=\"p\">,</span> <span class=\"n\">X_</span><span class=\"p\">[:,</span><span class=\"n\">i</span><span class=\"p\">])</span>\n        <span class=\"k\">if</span> <span class=\"n\">tail</span> <span class=\"ow\">in</span> <span class=\"p\">[</span><span class=\"s1\">&#39;both&#39;</span><span class=\"p\">,</span> <span class=\"s1\">&#39;right&#39;</span><span class=\"p\">]:</span>\n            <span class=\"n\">X_</span><span class=\"p\">[:,</span><span class=\"n\">i</span><span class=\"p\">]</span> <span class=\"o\">=</span> <span class=\"n\">np</span><span class=\"o\">.</span><span class=\"n\">where</span><span class=\"p\">(</span><span class=\"n\">X_</span><span class=\"p\">[:,</span><span class=\"n\">i</span><span class=\"p\">]</span> <span class=\"o\">&gt;</span> <span class=\"n\">upper_boundary_</span><span class=\"p\">,</span> <span class=\"n\">np</span><span class=\"o\">.</span><span class=\"n\">nan</span><span class=\"p\">,</span> <span class=\"n\">X_</span><span class=\"p\">[:,</span><span class=\"n\">i</span><span class=\"p\">])</span>\n    <span class=\"k\">return</span> <span class=\"n\">X_</span>\n    \n<span class=\"n\">iqr_transformer</span> <span class=\"o\">=</span> <span class=\"n\">FunctionTransformer</span><span class=\"p\">(</span><span class=\"n\">func</span><span class=\"o\">=</span><span class=\"n\">iqr_na</span><span class=\"p\">,</span> <span class=\"n\">kw_args</span><span class=\"o\">=</span><span class=\"p\">{</span><span class=\"s2\">&quot;tail&quot;</span><span class=\"p\">:</span><span class=\"s2\">&quot;right&quot;</span><span class=\"p\">})</span>   \n\n<span class=\"n\">X_train_iqr</span> <span class=\"o\">=</span> <span class=\"n\">X_train</span><span class=\"o\">.</span><span class=\"n\">copy</span><span class=\"p\">()</span>\n<span class=\"n\">X_train_iqr</span><span class=\"p\">[:,:</span><span class=\"o\">-</span><span class=\"mi\">1</span><span class=\"p\">]</span> <span class=\"o\">=</span> <span class=\"n\">iqr_transformer</span><span class=\"o\">.</span><span class=\"n\">fit_transform</span><span class=\"p\">(</span><span class=\"n\">X_train_iqr</span><span class=\"p\">[:,:</span><span class=\"o\">-</span><span class=\"mi\">1</span><span class=\"p\">])</span>\n<span class=\"n\">pd</span><span class=\"o\">.</span><span class=\"n\">DataFrame</span><span class=\"p\">(</span><span class=\"n\">X_train_iqr</span><span class=\"p\">,</span> <span class=\"n\">columns</span><span class=\"o\">=</span><span class=\"n\">features</span><span class=\"p\">)</span><span class=\"o\">.</span><span class=\"n\">max</span><span class=\"p\">()</span>\n    \n<span class=\"nb\">print</span><span class=\"p\">(</span><span class=\"s2\">&quot;Before&quot;</span><span class=\"p\">)</span>\n<span class=\"n\">X_train_df</span> <span class=\"o\">=</span> <span class=\"n\">pd</span><span class=\"o\">.</span><span class=\"n\">DataFrame</span><span class=\"p\">(</span><span class=\"n\">X_train</span><span class=\"p\">,</span> <span class=\"n\">columns</span><span class=\"o\">=</span><span class=\"n\">features</span><span class=\"p\">)</span>\n<span class=\"n\">display</span><span class=\"p\">(</span><span class=\"n\">X_train_df</span><span class=\"o\">.</span><span class=\"n\">isna</span><span class=\"p\">()</span><span class=\"o\">.</span><span class=\"n\">sum</span><span class=\"p\">())</span>\n<span class=\"n\">display</span><span class=\"p\">(</span><span class=\"n\">X_train_df</span><span class=\"o\">.</span><span class=\"n\">max</span><span class=\"p\">())</span>\n\n<span class=\"nb\">print</span><span class=\"p\">(</span><span class=\"s2\">&quot;After&quot;</span><span class=\"p\">)</span>    \n<span class=\"n\">X_train_iqr_df</span><span class=\"o\">=</span><span class=\"n\">pd</span><span class=\"o\">.</span><span class=\"n\">DataFrame</span><span class=\"p\">(</span><span class=\"n\">X_train_iqr</span><span class=\"p\">,</span> <span class=\"n\">columns</span><span class=\"o\">=</span><span class=\"n\">features</span><span class=\"p\">)</span>\n<span class=\"n\">display</span><span class=\"p\">(</span><span class=\"n\">X_train_iqr_df</span><span class=\"o\">.</span><span class=\"n\">isna</span><span class=\"p\">()</span><span class=\"o\">.</span><span class=\"n\">sum</span><span class=\"p\">())</span>\n<span class=\"n\">display</span><span class=\"p\">(</span><span class=\"n\">X_train_iqr_df</span><span class=\"o\">.</span><span class=\"n\">max</span><span class=\"p\">())</span>\n</pre></div>\n",
         "text/latex": "\\begin{Verbatim}[commandchars=\\\\\\{\\}]\n\\PY{k}{def} \\PY{n+nf}{iqr\\PYZus{}na}\\PY{p}{(}\\PY{n}{X}\\PY{p}{,} \\PY{n}{y}\\PY{o}{=}\\PY{k+kc}{None}\\PY{p}{,} \\PY{n}{fold}\\PY{o}{=}\\PY{l+m+mf}{1.5}\\PY{p}{,} \\PY{n}{tail}\\PY{o}{=}\\PY{l+s+s2}{\\PYZdq{}}\\PY{l+s+s2}{both}\\PY{l+s+s2}{\\PYZdq{}}\\PY{p}{)}\\PY{p}{:}\n    \\PY{n}{X\\PYZus{}} \\PY{o}{=} \\PY{n}{X}\\PY{o}{.}\\PY{n}{copy}\\PY{p}{(}\\PY{p}{)}\n    \\PY{k}{for} \\PY{n}{i} \\PY{o+ow}{in} \\PY{n+nb}{range}\\PY{p}{(}\\PY{n}{X\\PYZus{}}\\PY{o}{.}\\PY{n}{shape}\\PY{p}{[}\\PY{l+m+mi}{1}\\PY{p}{]}\\PY{p}{)}\\PY{p}{:}\n        \\PY{n}{upper\\PYZus{}boundary\\PYZus{}}\\PY{p}{,} \\PY{n}{lower\\PYZus{}boundary\\PYZus{}} \\PY{o}{=} \\PY{n}{find\\PYZus{}boundaries}\\PY{p}{(}\\PY{n}{X\\PYZus{}}\\PY{p}{[}\\PY{p}{:}\\PY{p}{,}\\PY{n}{i}\\PY{p}{]}\\PY{p}{,} \\PY{n}{fold}\\PY{p}{)}\n        \\PY{k}{if} \\PY{n}{tail} \\PY{o+ow}{in} \\PY{p}{[}\\PY{l+s+s1}{\\PYZsq{}}\\PY{l+s+s1}{both}\\PY{l+s+s1}{\\PYZsq{}}\\PY{p}{,} \\PY{l+s+s1}{\\PYZsq{}}\\PY{l+s+s1}{left}\\PY{l+s+s1}{\\PYZsq{}}\\PY{p}{]}\\PY{p}{:}\n            \\PY{n}{X\\PYZus{}}\\PY{p}{[}\\PY{p}{:}\\PY{p}{,}\\PY{n}{i}\\PY{p}{]} \\PY{o}{=} \\PY{n}{np}\\PY{o}{.}\\PY{n}{where}\\PY{p}{(}\\PY{n}{X\\PYZus{}}\\PY{p}{[}\\PY{p}{:}\\PY{p}{,}\\PY{n}{i}\\PY{p}{]} \\PY{o}{\\PYZlt{}} \\PY{n}{lower\\PYZus{}boundary\\PYZus{}}\\PY{p}{,} \\PY{n}{np}\\PY{o}{.}\\PY{n}{nan}\\PY{p}{,} \\PY{n}{X\\PYZus{}}\\PY{p}{[}\\PY{p}{:}\\PY{p}{,}\\PY{n}{i}\\PY{p}{]}\\PY{p}{)}\n        \\PY{k}{if} \\PY{n}{tail} \\PY{o+ow}{in} \\PY{p}{[}\\PY{l+s+s1}{\\PYZsq{}}\\PY{l+s+s1}{both}\\PY{l+s+s1}{\\PYZsq{}}\\PY{p}{,} \\PY{l+s+s1}{\\PYZsq{}}\\PY{l+s+s1}{right}\\PY{l+s+s1}{\\PYZsq{}}\\PY{p}{]}\\PY{p}{:}\n            \\PY{n}{X\\PYZus{}}\\PY{p}{[}\\PY{p}{:}\\PY{p}{,}\\PY{n}{i}\\PY{p}{]} \\PY{o}{=} \\PY{n}{np}\\PY{o}{.}\\PY{n}{where}\\PY{p}{(}\\PY{n}{X\\PYZus{}}\\PY{p}{[}\\PY{p}{:}\\PY{p}{,}\\PY{n}{i}\\PY{p}{]} \\PY{o}{\\PYZgt{}} \\PY{n}{upper\\PYZus{}boundary\\PYZus{}}\\PY{p}{,} \\PY{n}{np}\\PY{o}{.}\\PY{n}{nan}\\PY{p}{,} \\PY{n}{X\\PYZus{}}\\PY{p}{[}\\PY{p}{:}\\PY{p}{,}\\PY{n}{i}\\PY{p}{]}\\PY{p}{)}\n    \\PY{k}{return} \\PY{n}{X\\PYZus{}}\n    \n\\PY{n}{iqr\\PYZus{}transformer} \\PY{o}{=} \\PY{n}{FunctionTransformer}\\PY{p}{(}\\PY{n}{func}\\PY{o}{=}\\PY{n}{iqr\\PYZus{}na}\\PY{p}{,} \\PY{n}{kw\\PYZus{}args}\\PY{o}{=}\\PY{p}{\\PYZob{}}\\PY{l+s+s2}{\\PYZdq{}}\\PY{l+s+s2}{tail}\\PY{l+s+s2}{\\PYZdq{}}\\PY{p}{:}\\PY{l+s+s2}{\\PYZdq{}}\\PY{l+s+s2}{right}\\PY{l+s+s2}{\\PYZdq{}}\\PY{p}{\\PYZcb{}}\\PY{p}{)}   \n\n\\PY{n}{X\\PYZus{}train\\PYZus{}iqr} \\PY{o}{=} \\PY{n}{X\\PYZus{}train}\\PY{o}{.}\\PY{n}{copy}\\PY{p}{(}\\PY{p}{)}\n\\PY{n}{X\\PYZus{}train\\PYZus{}iqr}\\PY{p}{[}\\PY{p}{:}\\PY{p}{,}\\PY{p}{:}\\PY{o}{\\PYZhy{}}\\PY{l+m+mi}{1}\\PY{p}{]} \\PY{o}{=} \\PY{n}{iqr\\PYZus{}transformer}\\PY{o}{.}\\PY{n}{fit\\PYZus{}transform}\\PY{p}{(}\\PY{n}{X\\PYZus{}train\\PYZus{}iqr}\\PY{p}{[}\\PY{p}{:}\\PY{p}{,}\\PY{p}{:}\\PY{o}{\\PYZhy{}}\\PY{l+m+mi}{1}\\PY{p}{]}\\PY{p}{)}\n\\PY{n}{pd}\\PY{o}{.}\\PY{n}{DataFrame}\\PY{p}{(}\\PY{n}{X\\PYZus{}train\\PYZus{}iqr}\\PY{p}{,} \\PY{n}{columns}\\PY{o}{=}\\PY{n}{features}\\PY{p}{)}\\PY{o}{.}\\PY{n}{max}\\PY{p}{(}\\PY{p}{)}\n    \n\\PY{n+nb}{print}\\PY{p}{(}\\PY{l+s+s2}{\\PYZdq{}}\\PY{l+s+s2}{Before}\\PY{l+s+s2}{\\PYZdq{}}\\PY{p}{)}\n\\PY{n}{X\\PYZus{}train\\PYZus{}df} \\PY{o}{=} \\PY{n}{pd}\\PY{o}{.}\\PY{n}{DataFrame}\\PY{p}{(}\\PY{n}{X\\PYZus{}train}\\PY{p}{,} \\PY{n}{columns}\\PY{o}{=}\\PY{n}{features}\\PY{p}{)}\n\\PY{n}{display}\\PY{p}{(}\\PY{n}{X\\PYZus{}train\\PYZus{}df}\\PY{o}{.}\\PY{n}{isna}\\PY{p}{(}\\PY{p}{)}\\PY{o}{.}\\PY{n}{sum}\\PY{p}{(}\\PY{p}{)}\\PY{p}{)}\n\\PY{n}{display}\\PY{p}{(}\\PY{n}{X\\PYZus{}train\\PYZus{}df}\\PY{o}{.}\\PY{n}{max}\\PY{p}{(}\\PY{p}{)}\\PY{p}{)}\n\n\\PY{n+nb}{print}\\PY{p}{(}\\PY{l+s+s2}{\\PYZdq{}}\\PY{l+s+s2}{After}\\PY{l+s+s2}{\\PYZdq{}}\\PY{p}{)}    \n\\PY{n}{X\\PYZus{}train\\PYZus{}iqr\\PYZus{}df}\\PY{o}{=}\\PY{n}{pd}\\PY{o}{.}\\PY{n}{DataFrame}\\PY{p}{(}\\PY{n}{X\\PYZus{}train\\PYZus{}iqr}\\PY{p}{,} \\PY{n}{columns}\\PY{o}{=}\\PY{n}{features}\\PY{p}{)}\n\\PY{n}{display}\\PY{p}{(}\\PY{n}{X\\PYZus{}train\\PYZus{}iqr\\PYZus{}df}\\PY{o}{.}\\PY{n}{isna}\\PY{p}{(}\\PY{p}{)}\\PY{o}{.}\\PY{n}{sum}\\PY{p}{(}\\PY{p}{)}\\PY{p}{)}\n\\PY{n}{display}\\PY{p}{(}\\PY{n}{X\\PYZus{}train\\PYZus{}iqr\\PYZus{}df}\\PY{o}{.}\\PY{n}{max}\\PY{p}{(}\\PY{p}{)}\\PY{p}{)}\n\\end{Verbatim}\n",
         "text/plain": "def iqr_na(X, y=None, fold=1.5, tail=\"both\"):\n    X_ = X.copy()\n    for i in range(X_.shape[1]):\n        upper_boundary_, lower_boundary_ = find_boundaries(X_[:,i], fold)\n        if tail in ['both', 'left']:\n            X_[:,i] = np.where(X_[:,i] < lower_boundary_, np.nan, X_[:,i])\n        if tail in ['both', 'right']:\n            X_[:,i] = np.where(X_[:,i] > upper_boundary_, np.nan, X_[:,i])\n    return X_\n    \niqr_transformer = FunctionTransformer(func=iqr_na, kw_args={\"tail\":\"right\"})   \n\nX_train_iqr = X_train.copy()\nX_train_iqr[:,:-1] = iqr_transformer.fit_transform(X_train_iqr[:,:-1])\npd.DataFrame(X_train_iqr, columns=features).max()\n    \nprint(\"Before\")\nX_train_df = pd.DataFrame(X_train, columns=features)\ndisplay(X_train_df.isna().sum())\ndisplay(X_train_df.max())\n\nprint(\"After\")    \nX_train_iqr_df=pd.DataFrame(X_train_iqr, columns=features)\ndisplay(X_train_iqr_df.isna().sum())\ndisplay(X_train_iqr_df.max())"
        },
        "metadata": {},
        "output_type": "display_data"
       }
      ]
     }
    },
    "c56f87ee09b444b4a1c28e2dacc55d4d": {
     "model_module": "@jupyter-widgets/controls",
     "model_module_version": "1.5.0",
     "model_name": "ButtonModel",
     "state": {
      "_dom_classes": [],
      "_model_module": "@jupyter-widgets/controls",
      "_model_module_version": "1.5.0",
      "_model_name": "ButtonModel",
      "_view_count": null,
      "_view_module": "@jupyter-widgets/controls",
      "_view_module_version": "1.5.0",
      "_view_name": "ButtonView",
      "button_style": "",
      "description": "Hide solution",
      "disabled": false,
      "icon": "",
      "layout": "IPY_MODEL_a0741bdd198e41229a8555f061efd9c2",
      "style": "IPY_MODEL_f49c753df98b40ef8cd5feccbd58d181",
      "tooltip": ""
     }
    },
    "c634c3db141c47a3af301e4cf6102295": {
     "model_module": "@jupyter-widgets/output",
     "model_module_version": "1.0.0",
     "model_name": "OutputModel",
     "state": {
      "_dom_classes": [],
      "_model_module": "@jupyter-widgets/output",
      "_model_module_version": "1.0.0",
      "_model_name": "OutputModel",
      "_view_count": null,
      "_view_module": "@jupyter-widgets/output",
      "_view_module_version": "1.0.0",
      "_view_name": "OutputView",
      "layout": "IPY_MODEL_749ce01e9e8c46a0bed1a84dcaca2fb3",
      "msg_id": "",
      "outputs": [
       {
        "data": {
         "text/html": "<style>.output_html .hll { background-color: #ffffcc }\n.output_html  { background: #f8f8f8; }\n.output_html .c { color: #408080; font-style: italic } /* Comment */\n.output_html .err { border: 1px solid #FF0000 } /* Error */\n.output_html .k { color: #008000; font-weight: bold } /* Keyword */\n.output_html .o { color: #666666 } /* Operator */\n.output_html .ch { color: #408080; font-style: italic } /* Comment.Hashbang */\n.output_html .cm { color: #408080; font-style: italic } /* Comment.Multiline */\n.output_html .cp { color: #BC7A00 } /* Comment.Preproc */\n.output_html .cpf { color: #408080; font-style: italic } /* Comment.PreprocFile */\n.output_html .c1 { color: #408080; font-style: italic } /* Comment.Single */\n.output_html .cs { color: #408080; font-style: italic } /* Comment.Special */\n.output_html .gd { color: #A00000 } /* Generic.Deleted */\n.output_html .ge { font-style: italic } /* Generic.Emph */\n.output_html .gr { color: #FF0000 } /* Generic.Error */\n.output_html .gh { color: #000080; font-weight: bold } /* Generic.Heading */\n.output_html .gi { color: #00A000 } /* Generic.Inserted */\n.output_html .go { color: #888888 } /* Generic.Output */\n.output_html .gp { color: #000080; font-weight: bold } /* Generic.Prompt */\n.output_html .gs { font-weight: bold } /* Generic.Strong */\n.output_html .gu { color: #800080; font-weight: bold } /* Generic.Subheading */\n.output_html .gt { color: #0044DD } /* Generic.Traceback */\n.output_html .kc { color: #008000; font-weight: bold } /* Keyword.Constant */\n.output_html .kd { color: #008000; font-weight: bold } /* Keyword.Declaration */\n.output_html .kn { color: #008000; font-weight: bold } /* Keyword.Namespace */\n.output_html .kp { color: #008000 } /* Keyword.Pseudo */\n.output_html .kr { color: #008000; font-weight: bold } /* Keyword.Reserved */\n.output_html .kt { color: #B00040 } /* Keyword.Type */\n.output_html .m { color: #666666 } /* Literal.Number */\n.output_html .s { color: #BA2121 } /* Literal.String */\n.output_html .na { color: #7D9029 } /* Name.Attribute */\n.output_html .nb { color: #008000 } /* Name.Builtin */\n.output_html .nc { color: #0000FF; font-weight: bold } /* Name.Class */\n.output_html .no { color: #880000 } /* Name.Constant */\n.output_html .nd { color: #AA22FF } /* Name.Decorator */\n.output_html .ni { color: #999999; font-weight: bold } /* Name.Entity */\n.output_html .ne { color: #D2413A; font-weight: bold } /* Name.Exception */\n.output_html .nf { color: #0000FF } /* Name.Function */\n.output_html .nl { color: #A0A000 } /* Name.Label */\n.output_html .nn { color: #0000FF; font-weight: bold } /* Name.Namespace */\n.output_html .nt { color: #008000; font-weight: bold } /* Name.Tag */\n.output_html .nv { color: #19177C } /* Name.Variable */\n.output_html .ow { color: #AA22FF; font-weight: bold } /* Operator.Word */\n.output_html .w { color: #bbbbbb } /* Text.Whitespace */\n.output_html .mb { color: #666666 } /* Literal.Number.Bin */\n.output_html .mf { color: #666666 } /* Literal.Number.Float */\n.output_html .mh { color: #666666 } /* Literal.Number.Hex */\n.output_html .mi { color: #666666 } /* Literal.Number.Integer */\n.output_html .mo { color: #666666 } /* Literal.Number.Oct */\n.output_html .sa { color: #BA2121 } /* Literal.String.Affix */\n.output_html .sb { color: #BA2121 } /* Literal.String.Backtick */\n.output_html .sc { color: #BA2121 } /* Literal.String.Char */\n.output_html .dl { color: #BA2121 } /* Literal.String.Delimiter */\n.output_html .sd { color: #BA2121; font-style: italic } /* Literal.String.Doc */\n.output_html .s2 { color: #BA2121 } /* Literal.String.Double */\n.output_html .se { color: #BB6622; font-weight: bold } /* Literal.String.Escape */\n.output_html .sh { color: #BA2121 } /* Literal.String.Heredoc */\n.output_html .si { color: #BB6688; font-weight: bold } /* Literal.String.Interpol */\n.output_html .sx { color: #008000 } /* Literal.String.Other */\n.output_html .sr { color: #BB6688 } /* Literal.String.Regex */\n.output_html .s1 { color: #BA2121 } /* Literal.String.Single */\n.output_html .ss { color: #19177C } /* Literal.String.Symbol */\n.output_html .bp { color: #008000 } /* Name.Builtin.Pseudo */\n.output_html .fm { color: #0000FF } /* Name.Function.Magic */\n.output_html .vc { color: #19177C } /* Name.Variable.Class */\n.output_html .vg { color: #19177C } /* Name.Variable.Global */\n.output_html .vi { color: #19177C } /* Name.Variable.Instance */\n.output_html .vm { color: #19177C } /* Name.Variable.Magic */\n.output_html .il { color: #666666 } /* Literal.Number.Integer.Long */</style><div class=\"highlight\"><pre><span></span><span class=\"n\">y_attribute</span> <span class=\"o\">=</span> <span class=\"s2\">&quot;median_house_value&quot;</span>\n\n<span class=\"n\">housing_</span> <span class=\"o\">=</span> <span class=\"n\">housing</span><span class=\"o\">.</span><span class=\"n\">copy</span><span class=\"p\">()</span>\n<span class=\"n\">housing_</span><span class=\"p\">[</span><span class=\"n\">y_attribute</span><span class=\"o\">+</span><span class=\"s2\">&quot;_cat&quot;</span><span class=\"p\">]</span> <span class=\"o\">=</span> <span class=\"n\">pd</span><span class=\"o\">.</span><span class=\"n\">cut</span><span class=\"p\">(</span><span class=\"n\">housing_</span><span class=\"p\">[</span><span class=\"n\">y_attribute</span><span class=\"p\">],</span>\n                                      <span class=\"n\">bins</span><span class=\"o\">=</span><span class=\"p\">[</span><span class=\"mf\">0.</span><span class=\"p\">,</span><span class=\"mf\">100000.</span><span class=\"p\">,</span><span class=\"mf\">200000.</span><span class=\"p\">,</span><span class=\"mf\">300000.</span><span class=\"p\">,</span><span class=\"mf\">400000.</span><span class=\"p\">,</span> <span class=\"n\">np</span><span class=\"o\">.</span><span class=\"n\">inf</span><span class=\"p\">],</span>\n                                      <span class=\"n\">labels</span><span class=\"o\">=</span><span class=\"nb\">range</span><span class=\"p\">(</span><span class=\"mi\">5</span><span class=\"p\">))</span>\n\n<span class=\"n\">fig</span><span class=\"p\">,</span> <span class=\"n\">axes</span> <span class=\"o\">=</span> <span class=\"n\">plt</span><span class=\"o\">.</span><span class=\"n\">subplots</span><span class=\"p\">(</span><span class=\"n\">figsize</span> <span class=\"o\">=</span> <span class=\"p\">(</span><span class=\"mi\">10</span><span class=\"p\">,</span><span class=\"mi\">5</span><span class=\"p\">),</span> <span class=\"n\">ncols</span><span class=\"o\">=</span><span class=\"mi\">2</span><span class=\"p\">)</span>\n<span class=\"n\">housing_</span><span class=\"p\">[</span><span class=\"n\">y_attribute</span><span class=\"p\">]</span><span class=\"o\">.</span><span class=\"n\">hist</span><span class=\"p\">(</span><span class=\"n\">ax</span><span class=\"o\">=</span><span class=\"n\">axes</span><span class=\"p\">[</span><span class=\"mi\">0</span><span class=\"p\">])</span>\n<span class=\"n\">housing_</span><span class=\"p\">[</span><span class=\"n\">y_attribute</span><span class=\"o\">+</span><span class=\"s2\">&quot;_cat&quot;</span><span class=\"p\">]</span><span class=\"o\">.</span><span class=\"n\">hist</span><span class=\"p\">(</span><span class=\"n\">ax</span><span class=\"o\">=</span><span class=\"n\">axes</span><span class=\"p\">[</span><span class=\"mi\">1</span><span class=\"p\">])</span>\n<span class=\"n\">axes</span><span class=\"p\">[</span><span class=\"mi\">0</span><span class=\"p\">]</span><span class=\"o\">.</span><span class=\"n\">set_title</span><span class=\"p\">(</span><span class=\"n\">y_attribute</span><span class=\"p\">)</span>\n<span class=\"n\">axes</span><span class=\"p\">[</span><span class=\"mi\">1</span><span class=\"p\">]</span><span class=\"o\">.</span><span class=\"n\">set_title</span><span class=\"p\">(</span><span class=\"n\">y_attribute</span><span class=\"o\">+</span><span class=\"s2\">&quot;_cat&quot;</span><span class=\"p\">)</span>\n<span class=\"n\">plt</span><span class=\"o\">.</span><span class=\"n\">show</span><span class=\"p\">()</span>\n\n<span class=\"n\">train_set</span><span class=\"p\">,</span> <span class=\"n\">test_set</span> <span class=\"o\">=</span> <span class=\"n\">train_test_split</span><span class=\"p\">(</span><span class=\"n\">housing_</span><span class=\"p\">,</span> <span class=\"n\">train_size</span><span class=\"o\">=</span><span class=\"mf\">0.77</span><span class=\"p\">,</span> \n                                        <span class=\"n\">stratify</span> <span class=\"o\">=</span> <span class=\"n\">housing_</span><span class=\"p\">[[</span><span class=\"n\">y_attribute</span><span class=\"o\">+</span><span class=\"s2\">&quot;_cat&quot;</span><span class=\"p\">]])</span>\n<span class=\"n\">train_shuf</span><span class=\"p\">,</span> <span class=\"n\">test_shuf</span> <span class=\"o\">=</span> <span class=\"n\">train_test_split</span><span class=\"p\">(</span><span class=\"n\">housing_</span><span class=\"p\">,</span> <span class=\"n\">train_size</span><span class=\"o\">=</span><span class=\"mf\">0.77</span><span class=\"p\">)</span>\n\n<span class=\"k\">for</span> <span class=\"n\">set_</span> <span class=\"ow\">in</span> <span class=\"p\">(</span><span class=\"n\">train_set</span><span class=\"p\">,</span> <span class=\"n\">test_set</span><span class=\"p\">):</span>\n    <span class=\"n\">set_</span><span class=\"o\">.</span><span class=\"n\">drop</span><span class=\"p\">(</span><span class=\"n\">y_attribute</span><span class=\"o\">+</span><span class=\"s2\">&quot;_cat&quot;</span><span class=\"p\">,</span> <span class=\"n\">axis</span><span class=\"o\">=</span><span class=\"mi\">1</span><span class=\"p\">,</span> <span class=\"n\">inplace</span><span class=\"o\">=</span><span class=\"kc\">True</span><span class=\"p\">)</span>\n</pre></div>\n",
         "text/latex": "\\begin{Verbatim}[commandchars=\\\\\\{\\}]\n\\PY{n}{y\\PYZus{}attribute} \\PY{o}{=} \\PY{l+s+s2}{\\PYZdq{}}\\PY{l+s+s2}{median\\PYZus{}house\\PYZus{}value}\\PY{l+s+s2}{\\PYZdq{}}\n\n\\PY{n}{housing\\PYZus{}} \\PY{o}{=} \\PY{n}{housing}\\PY{o}{.}\\PY{n}{copy}\\PY{p}{(}\\PY{p}{)}\n\\PY{n}{housing\\PYZus{}}\\PY{p}{[}\\PY{n}{y\\PYZus{}attribute}\\PY{o}{+}\\PY{l+s+s2}{\\PYZdq{}}\\PY{l+s+s2}{\\PYZus{}cat}\\PY{l+s+s2}{\\PYZdq{}}\\PY{p}{]} \\PY{o}{=} \\PY{n}{pd}\\PY{o}{.}\\PY{n}{cut}\\PY{p}{(}\\PY{n}{housing\\PYZus{}}\\PY{p}{[}\\PY{n}{y\\PYZus{}attribute}\\PY{p}{]}\\PY{p}{,}\n                                      \\PY{n}{bins}\\PY{o}{=}\\PY{p}{[}\\PY{l+m+mf}{0.}\\PY{p}{,}\\PY{l+m+mf}{100000.}\\PY{p}{,}\\PY{l+m+mf}{200000.}\\PY{p}{,}\\PY{l+m+mf}{300000.}\\PY{p}{,}\\PY{l+m+mf}{400000.}\\PY{p}{,} \\PY{n}{np}\\PY{o}{.}\\PY{n}{inf}\\PY{p}{]}\\PY{p}{,}\n                                      \\PY{n}{labels}\\PY{o}{=}\\PY{n+nb}{range}\\PY{p}{(}\\PY{l+m+mi}{5}\\PY{p}{)}\\PY{p}{)}\n\n\\PY{n}{fig}\\PY{p}{,} \\PY{n}{axes} \\PY{o}{=} \\PY{n}{plt}\\PY{o}{.}\\PY{n}{subplots}\\PY{p}{(}\\PY{n}{figsize} \\PY{o}{=} \\PY{p}{(}\\PY{l+m+mi}{10}\\PY{p}{,}\\PY{l+m+mi}{5}\\PY{p}{)}\\PY{p}{,} \\PY{n}{ncols}\\PY{o}{=}\\PY{l+m+mi}{2}\\PY{p}{)}\n\\PY{n}{housing\\PYZus{}}\\PY{p}{[}\\PY{n}{y\\PYZus{}attribute}\\PY{p}{]}\\PY{o}{.}\\PY{n}{hist}\\PY{p}{(}\\PY{n}{ax}\\PY{o}{=}\\PY{n}{axes}\\PY{p}{[}\\PY{l+m+mi}{0}\\PY{p}{]}\\PY{p}{)}\n\\PY{n}{housing\\PYZus{}}\\PY{p}{[}\\PY{n}{y\\PYZus{}attribute}\\PY{o}{+}\\PY{l+s+s2}{\\PYZdq{}}\\PY{l+s+s2}{\\PYZus{}cat}\\PY{l+s+s2}{\\PYZdq{}}\\PY{p}{]}\\PY{o}{.}\\PY{n}{hist}\\PY{p}{(}\\PY{n}{ax}\\PY{o}{=}\\PY{n}{axes}\\PY{p}{[}\\PY{l+m+mi}{1}\\PY{p}{]}\\PY{p}{)}\n\\PY{n}{axes}\\PY{p}{[}\\PY{l+m+mi}{0}\\PY{p}{]}\\PY{o}{.}\\PY{n}{set\\PYZus{}title}\\PY{p}{(}\\PY{n}{y\\PYZus{}attribute}\\PY{p}{)}\n\\PY{n}{axes}\\PY{p}{[}\\PY{l+m+mi}{1}\\PY{p}{]}\\PY{o}{.}\\PY{n}{set\\PYZus{}title}\\PY{p}{(}\\PY{n}{y\\PYZus{}attribute}\\PY{o}{+}\\PY{l+s+s2}{\\PYZdq{}}\\PY{l+s+s2}{\\PYZus{}cat}\\PY{l+s+s2}{\\PYZdq{}}\\PY{p}{)}\n\\PY{n}{plt}\\PY{o}{.}\\PY{n}{show}\\PY{p}{(}\\PY{p}{)}\n\n\\PY{n}{train\\PYZus{}set}\\PY{p}{,} \\PY{n}{test\\PYZus{}set} \\PY{o}{=} \\PY{n}{train\\PYZus{}test\\PYZus{}split}\\PY{p}{(}\\PY{n}{housing\\PYZus{}}\\PY{p}{,} \\PY{n}{train\\PYZus{}size}\\PY{o}{=}\\PY{l+m+mf}{0.77}\\PY{p}{,} \n                                        \\PY{n}{stratify} \\PY{o}{=} \\PY{n}{housing\\PYZus{}}\\PY{p}{[}\\PY{p}{[}\\PY{n}{y\\PYZus{}attribute}\\PY{o}{+}\\PY{l+s+s2}{\\PYZdq{}}\\PY{l+s+s2}{\\PYZus{}cat}\\PY{l+s+s2}{\\PYZdq{}}\\PY{p}{]}\\PY{p}{]}\\PY{p}{)}\n\\PY{n}{train\\PYZus{}shuf}\\PY{p}{,} \\PY{n}{test\\PYZus{}shuf} \\PY{o}{=} \\PY{n}{train\\PYZus{}test\\PYZus{}split}\\PY{p}{(}\\PY{n}{housing\\PYZus{}}\\PY{p}{,} \\PY{n}{train\\PYZus{}size}\\PY{o}{=}\\PY{l+m+mf}{0.77}\\PY{p}{)}\n\n\\PY{k}{for} \\PY{n}{set\\PYZus{}} \\PY{o+ow}{in} \\PY{p}{(}\\PY{n}{train\\PYZus{}set}\\PY{p}{,} \\PY{n}{test\\PYZus{}set}\\PY{p}{)}\\PY{p}{:}\n    \\PY{n}{set\\PYZus{}}\\PY{o}{.}\\PY{n}{drop}\\PY{p}{(}\\PY{n}{y\\PYZus{}attribute}\\PY{o}{+}\\PY{l+s+s2}{\\PYZdq{}}\\PY{l+s+s2}{\\PYZus{}cat}\\PY{l+s+s2}{\\PYZdq{}}\\PY{p}{,} \\PY{n}{axis}\\PY{o}{=}\\PY{l+m+mi}{1}\\PY{p}{,} \\PY{n}{inplace}\\PY{o}{=}\\PY{k+kc}{True}\\PY{p}{)}\n\\end{Verbatim}\n",
         "text/plain": "y_attribute = \"median_house_value\"\n\nhousing_ = housing.copy()\nhousing_[y_attribute+\"_cat\"] = pd.cut(housing_[y_attribute],\n                                      bins=[0.,100000.,200000.,300000.,400000., np.inf],\n                                      labels=range(5))\n\nfig, axes = plt.subplots(figsize = (10,5), ncols=2)\nhousing_[y_attribute].hist(ax=axes[0])\nhousing_[y_attribute+\"_cat\"].hist(ax=axes[1])\naxes[0].set_title(y_attribute)\naxes[1].set_title(y_attribute+\"_cat\")\nplt.show()\n\ntrain_set, test_set = train_test_split(housing_, train_size=0.77, \n                                        stratify = housing_[[y_attribute+\"_cat\"]])\ntrain_shuf, test_shuf = train_test_split(housing_, train_size=0.77)\n\nfor set_ in (train_set, test_set):\n    set_.drop(y_attribute+\"_cat\", axis=1, inplace=True)"
        },
        "metadata": {},
        "output_type": "display_data"
       }
      ]
     }
    },
    "c866618bca454b0faab758aa1454d1d0": {
     "model_module": "@jupyter-widgets/base",
     "model_module_version": "1.2.0",
     "model_name": "LayoutModel",
     "state": {
      "_model_module": "@jupyter-widgets/base",
      "_model_module_version": "1.2.0",
      "_model_name": "LayoutModel",
      "_view_count": null,
      "_view_module": "@jupyter-widgets/base",
      "_view_module_version": "1.2.0",
      "_view_name": "LayoutView",
      "align_content": null,
      "align_items": null,
      "align_self": null,
      "border": null,
      "bottom": null,
      "display": null,
      "flex": null,
      "flex_flow": null,
      "grid_area": null,
      "grid_auto_columns": null,
      "grid_auto_flow": null,
      "grid_auto_rows": null,
      "grid_column": null,
      "grid_gap": null,
      "grid_row": null,
      "grid_template_areas": null,
      "grid_template_columns": null,
      "grid_template_rows": null,
      "height": null,
      "justify_content": null,
      "justify_items": null,
      "left": null,
      "margin": null,
      "max_height": null,
      "max_width": null,
      "min_height": null,
      "min_width": null,
      "object_fit": null,
      "object_position": null,
      "order": null,
      "overflow": null,
      "overflow_x": null,
      "overflow_y": null,
      "padding": null,
      "right": null,
      "top": null,
      "visibility": null,
      "width": null
     }
    },
    "cd21a9d44b5c49ed9c1e4bd44576193f": {
     "model_module": "@jupyter-widgets/base",
     "model_module_version": "1.2.0",
     "model_name": "LayoutModel",
     "state": {
      "_model_module": "@jupyter-widgets/base",
      "_model_module_version": "1.2.0",
      "_model_name": "LayoutModel",
      "_view_count": null,
      "_view_module": "@jupyter-widgets/base",
      "_view_module_version": "1.2.0",
      "_view_name": "LayoutView",
      "align_content": null,
      "align_items": null,
      "align_self": null,
      "border": null,
      "bottom": null,
      "display": null,
      "flex": null,
      "flex_flow": null,
      "grid_area": null,
      "grid_auto_columns": null,
      "grid_auto_flow": null,
      "grid_auto_rows": null,
      "grid_column": null,
      "grid_gap": null,
      "grid_row": null,
      "grid_template_areas": null,
      "grid_template_columns": null,
      "grid_template_rows": null,
      "height": null,
      "justify_content": null,
      "justify_items": null,
      "left": null,
      "margin": null,
      "max_height": null,
      "max_width": null,
      "min_height": null,
      "min_width": null,
      "object_fit": null,
      "object_position": null,
      "order": null,
      "overflow": null,
      "overflow_x": null,
      "overflow_y": null,
      "padding": null,
      "right": null,
      "top": null,
      "visibility": null,
      "width": null
     }
    },
    "d003c23229f24314843d6a525a4d8643": {
     "model_module": "@jupyter-widgets/output",
     "model_module_version": "1.0.0",
     "model_name": "OutputModel",
     "state": {
      "_dom_classes": [],
      "_model_module": "@jupyter-widgets/output",
      "_model_module_version": "1.0.0",
      "_model_name": "OutputModel",
      "_view_count": null,
      "_view_module": "@jupyter-widgets/output",
      "_view_module_version": "1.0.0",
      "_view_name": "OutputView",
      "layout": "IPY_MODEL_bcc6e21cc76e4ed7b2d3f40cdbffa08a",
      "msg_id": "",
      "outputs": []
     }
    },
    "d1407ac0c3ca477785fa66ccbdc3a9ad": {
     "model_module": "@jupyter-widgets/controls",
     "model_module_version": "1.5.0",
     "model_name": "ButtonModel",
     "state": {
      "_dom_classes": [],
      "_model_module": "@jupyter-widgets/controls",
      "_model_module_version": "1.5.0",
      "_model_name": "ButtonModel",
      "_view_count": null,
      "_view_module": "@jupyter-widgets/controls",
      "_view_module_version": "1.5.0",
      "_view_name": "ButtonView",
      "button_style": "",
      "description": "Hide solution",
      "disabled": false,
      "icon": "",
      "layout": "IPY_MODEL_8056ac83c37e4488be455fd8dd1927d4",
      "style": "IPY_MODEL_ed380d8f95b543bc8adecff4d80f4a3f",
      "tooltip": ""
     }
    },
    "d2416135d15249e59d18bb61e71fcadf": {
     "model_module": "@jupyter-widgets/controls",
     "model_module_version": "1.5.0",
     "model_name": "ButtonStyleModel",
     "state": {
      "_model_module": "@jupyter-widgets/controls",
      "_model_module_version": "1.5.0",
      "_model_name": "ButtonStyleModel",
      "_view_count": null,
      "_view_module": "@jupyter-widgets/base",
      "_view_module_version": "1.2.0",
      "_view_name": "StyleView",
      "button_color": null,
      "font_weight": ""
     }
    },
    "d2aa579c675e48fba8583a9bb286bab4": {
     "model_module": "@jupyter-widgets/controls",
     "model_module_version": "1.5.0",
     "model_name": "ButtonModel",
     "state": {
      "_dom_classes": [],
      "_model_module": "@jupyter-widgets/controls",
      "_model_module_version": "1.5.0",
      "_model_name": "ButtonModel",
      "_view_count": null,
      "_view_module": "@jupyter-widgets/controls",
      "_view_module_version": "1.5.0",
      "_view_name": "ButtonView",
      "button_style": "",
      "description": "Hide solution",
      "disabled": false,
      "icon": "",
      "layout": "IPY_MODEL_85e6fcd4bb9547b3afc07731a67fffc3",
      "style": "IPY_MODEL_db20aab5321645169c3d759e06ef032d",
      "tooltip": ""
     }
    },
    "d4443425c57b46bdac3dbc61f5360199": {
     "model_module": "@jupyter-widgets/base",
     "model_module_version": "1.2.0",
     "model_name": "LayoutModel",
     "state": {
      "_model_module": "@jupyter-widgets/base",
      "_model_module_version": "1.2.0",
      "_model_name": "LayoutModel",
      "_view_count": null,
      "_view_module": "@jupyter-widgets/base",
      "_view_module_version": "1.2.0",
      "_view_name": "LayoutView",
      "align_content": null,
      "align_items": null,
      "align_self": null,
      "border": null,
      "bottom": null,
      "display": null,
      "flex": null,
      "flex_flow": null,
      "grid_area": null,
      "grid_auto_columns": null,
      "grid_auto_flow": null,
      "grid_auto_rows": null,
      "grid_column": null,
      "grid_gap": null,
      "grid_row": null,
      "grid_template_areas": null,
      "grid_template_columns": null,
      "grid_template_rows": null,
      "height": null,
      "justify_content": null,
      "justify_items": null,
      "left": null,
      "margin": null,
      "max_height": null,
      "max_width": null,
      "min_height": null,
      "min_width": null,
      "object_fit": null,
      "object_position": null,
      "order": null,
      "overflow": null,
      "overflow_x": null,
      "overflow_y": null,
      "padding": null,
      "right": null,
      "top": null,
      "visibility": null,
      "width": null
     }
    },
    "d5bc72e2bff948cca445f8b5b4f2c063": {
     "model_module": "@jupyter-widgets/base",
     "model_module_version": "1.2.0",
     "model_name": "LayoutModel",
     "state": {
      "_model_module": "@jupyter-widgets/base",
      "_model_module_version": "1.2.0",
      "_model_name": "LayoutModel",
      "_view_count": null,
      "_view_module": "@jupyter-widgets/base",
      "_view_module_version": "1.2.0",
      "_view_name": "LayoutView",
      "align_content": null,
      "align_items": null,
      "align_self": null,
      "border": null,
      "bottom": null,
      "display": null,
      "flex": null,
      "flex_flow": null,
      "grid_area": null,
      "grid_auto_columns": null,
      "grid_auto_flow": null,
      "grid_auto_rows": null,
      "grid_column": null,
      "grid_gap": null,
      "grid_row": null,
      "grid_template_areas": null,
      "grid_template_columns": null,
      "grid_template_rows": null,
      "height": null,
      "justify_content": null,
      "justify_items": null,
      "left": null,
      "margin": null,
      "max_height": null,
      "max_width": null,
      "min_height": null,
      "min_width": null,
      "object_fit": null,
      "object_position": null,
      "order": null,
      "overflow": null,
      "overflow_x": null,
      "overflow_y": null,
      "padding": null,
      "right": null,
      "top": null,
      "visibility": null,
      "width": null
     }
    },
    "d7ad7bdabb4846439d297fdb125ef779": {
     "model_module": "@jupyter-widgets/base",
     "model_module_version": "1.2.0",
     "model_name": "LayoutModel",
     "state": {
      "_model_module": "@jupyter-widgets/base",
      "_model_module_version": "1.2.0",
      "_model_name": "LayoutModel",
      "_view_count": null,
      "_view_module": "@jupyter-widgets/base",
      "_view_module_version": "1.2.0",
      "_view_name": "LayoutView",
      "align_content": null,
      "align_items": null,
      "align_self": null,
      "border": "1px solid green",
      "bottom": null,
      "display": null,
      "flex": null,
      "flex_flow": null,
      "grid_area": null,
      "grid_auto_columns": null,
      "grid_auto_flow": null,
      "grid_auto_rows": null,
      "grid_column": null,
      "grid_gap": null,
      "grid_row": null,
      "grid_template_areas": null,
      "grid_template_columns": null,
      "grid_template_rows": null,
      "height": null,
      "justify_content": null,
      "justify_items": null,
      "left": null,
      "margin": null,
      "max_height": null,
      "max_width": null,
      "min_height": null,
      "min_width": null,
      "object_fit": null,
      "object_position": null,
      "order": null,
      "overflow": null,
      "overflow_x": null,
      "overflow_y": null,
      "padding": null,
      "right": null,
      "top": null,
      "visibility": null,
      "width": null
     }
    },
    "d92d9b9841074b38a4c170d6ab7f78aa": {
     "model_module": "@jupyter-widgets/controls",
     "model_module_version": "1.5.0",
     "model_name": "ButtonStyleModel",
     "state": {
      "_model_module": "@jupyter-widgets/controls",
      "_model_module_version": "1.5.0",
      "_model_name": "ButtonStyleModel",
      "_view_count": null,
      "_view_module": "@jupyter-widgets/base",
      "_view_module_version": "1.2.0",
      "_view_name": "StyleView",
      "button_color": null,
      "font_weight": ""
     }
    },
    "da25daa58c0942799193905c250ac4b3": {
     "model_module": "@jupyter-widgets/base",
     "model_module_version": "1.2.0",
     "model_name": "LayoutModel",
     "state": {
      "_model_module": "@jupyter-widgets/base",
      "_model_module_version": "1.2.0",
      "_model_name": "LayoutModel",
      "_view_count": null,
      "_view_module": "@jupyter-widgets/base",
      "_view_module_version": "1.2.0",
      "_view_name": "LayoutView",
      "align_content": null,
      "align_items": null,
      "align_self": null,
      "border": "1px solid green",
      "bottom": null,
      "display": null,
      "flex": null,
      "flex_flow": null,
      "grid_area": null,
      "grid_auto_columns": null,
      "grid_auto_flow": null,
      "grid_auto_rows": null,
      "grid_column": null,
      "grid_gap": null,
      "grid_row": null,
      "grid_template_areas": null,
      "grid_template_columns": null,
      "grid_template_rows": null,
      "height": null,
      "justify_content": null,
      "justify_items": null,
      "left": null,
      "margin": null,
      "max_height": null,
      "max_width": null,
      "min_height": null,
      "min_width": null,
      "object_fit": null,
      "object_position": null,
      "order": null,
      "overflow": null,
      "overflow_x": null,
      "overflow_y": null,
      "padding": null,
      "right": null,
      "top": null,
      "visibility": null,
      "width": null
     }
    },
    "db20aab5321645169c3d759e06ef032d": {
     "model_module": "@jupyter-widgets/controls",
     "model_module_version": "1.5.0",
     "model_name": "ButtonStyleModel",
     "state": {
      "_model_module": "@jupyter-widgets/controls",
      "_model_module_version": "1.5.0",
      "_model_name": "ButtonStyleModel",
      "_view_count": null,
      "_view_module": "@jupyter-widgets/base",
      "_view_module_version": "1.2.0",
      "_view_name": "StyleView",
      "button_color": null,
      "font_weight": ""
     }
    },
    "dc33d1a516d648e2a6c59fdf9af4263b": {
     "model_module": "@jupyter-widgets/controls",
     "model_module_version": "1.5.0",
     "model_name": "ButtonStyleModel",
     "state": {
      "_model_module": "@jupyter-widgets/controls",
      "_model_module_version": "1.5.0",
      "_model_name": "ButtonStyleModel",
      "_view_count": null,
      "_view_module": "@jupyter-widgets/base",
      "_view_module_version": "1.2.0",
      "_view_name": "StyleView",
      "button_color": null,
      "font_weight": ""
     }
    },
    "dfb7c7aaef344ec09336805f94d51889": {
     "model_module": "@jupyter-widgets/controls",
     "model_module_version": "1.5.0",
     "model_name": "ButtonModel",
     "state": {
      "_dom_classes": [],
      "_model_module": "@jupyter-widgets/controls",
      "_model_module_version": "1.5.0",
      "_model_name": "ButtonModel",
      "_view_count": null,
      "_view_module": "@jupyter-widgets/controls",
      "_view_module_version": "1.5.0",
      "_view_name": "ButtonView",
      "button_style": "",
      "description": "Reveal solution",
      "disabled": false,
      "icon": "",
      "layout": "IPY_MODEL_1b565c31de194ab2817045a1700540ba",
      "style": "IPY_MODEL_97f9e9858e0144d3bf95cb536d8a9a99",
      "tooltip": ""
     }
    },
    "e15ffe3b430b496a82985a4462543b83": {
     "model_module": "@jupyter-widgets/controls",
     "model_module_version": "1.5.0",
     "model_name": "ButtonModel",
     "state": {
      "_dom_classes": [],
      "_model_module": "@jupyter-widgets/controls",
      "_model_module_version": "1.5.0",
      "_model_name": "ButtonModel",
      "_view_count": null,
      "_view_module": "@jupyter-widgets/controls",
      "_view_module_version": "1.5.0",
      "_view_name": "ButtonView",
      "button_style": "",
      "description": "Hide solution",
      "disabled": false,
      "icon": "",
      "layout": "IPY_MODEL_b839d6f667d14180b2bf4f7ba40aa6b3",
      "style": "IPY_MODEL_f3dc505bcd3c4c5fae18b4c48e74dbee",
      "tooltip": ""
     }
    },
    "e39cb3054da74799a7783d0cb3364129": {
     "model_module": "@jupyter-widgets/controls",
     "model_module_version": "1.5.0",
     "model_name": "ButtonModel",
     "state": {
      "_dom_classes": [],
      "_model_module": "@jupyter-widgets/controls",
      "_model_module_version": "1.5.0",
      "_model_name": "ButtonModel",
      "_view_count": null,
      "_view_module": "@jupyter-widgets/controls",
      "_view_module_version": "1.5.0",
      "_view_name": "ButtonView",
      "button_style": "",
      "description": "Hide solution",
      "disabled": false,
      "icon": "",
      "layout": "IPY_MODEL_37eaa8dbcf5a4feca0e3981e0c0cccfb",
      "style": "IPY_MODEL_e5443c82c7f74d3bb44a8ed0b7aeff1e",
      "tooltip": ""
     }
    },
    "e5443c82c7f74d3bb44a8ed0b7aeff1e": {
     "model_module": "@jupyter-widgets/controls",
     "model_module_version": "1.5.0",
     "model_name": "ButtonStyleModel",
     "state": {
      "_model_module": "@jupyter-widgets/controls",
      "_model_module_version": "1.5.0",
      "_model_name": "ButtonStyleModel",
      "_view_count": null,
      "_view_module": "@jupyter-widgets/base",
      "_view_module_version": "1.2.0",
      "_view_name": "StyleView",
      "button_color": null,
      "font_weight": ""
     }
    },
    "e59f60f089774809960f24c73666de41": {
     "model_module": "@jupyter-widgets/base",
     "model_module_version": "1.2.0",
     "model_name": "LayoutModel",
     "state": {
      "_model_module": "@jupyter-widgets/base",
      "_model_module_version": "1.2.0",
      "_model_name": "LayoutModel",
      "_view_count": null,
      "_view_module": "@jupyter-widgets/base",
      "_view_module_version": "1.2.0",
      "_view_name": "LayoutView",
      "align_content": null,
      "align_items": null,
      "align_self": null,
      "border": "1px solid green",
      "bottom": null,
      "display": null,
      "flex": null,
      "flex_flow": null,
      "grid_area": null,
      "grid_auto_columns": null,
      "grid_auto_flow": null,
      "grid_auto_rows": null,
      "grid_column": null,
      "grid_gap": null,
      "grid_row": null,
      "grid_template_areas": null,
      "grid_template_columns": null,
      "grid_template_rows": null,
      "height": null,
      "justify_content": null,
      "justify_items": null,
      "left": null,
      "margin": null,
      "max_height": null,
      "max_width": null,
      "min_height": null,
      "min_width": null,
      "object_fit": null,
      "object_position": null,
      "order": null,
      "overflow": null,
      "overflow_x": null,
      "overflow_y": null,
      "padding": null,
      "right": null,
      "top": null,
      "visibility": null,
      "width": null
     }
    },
    "e859cf098b7c4d94a8c311859b93c16e": {
     "model_module": "@jupyter-widgets/base",
     "model_module_version": "1.2.0",
     "model_name": "LayoutModel",
     "state": {
      "_model_module": "@jupyter-widgets/base",
      "_model_module_version": "1.2.0",
      "_model_name": "LayoutModel",
      "_view_count": null,
      "_view_module": "@jupyter-widgets/base",
      "_view_module_version": "1.2.0",
      "_view_name": "LayoutView",
      "align_content": null,
      "align_items": null,
      "align_self": null,
      "border": null,
      "bottom": null,
      "display": null,
      "flex": null,
      "flex_flow": null,
      "grid_area": null,
      "grid_auto_columns": null,
      "grid_auto_flow": null,
      "grid_auto_rows": null,
      "grid_column": null,
      "grid_gap": null,
      "grid_row": null,
      "grid_template_areas": null,
      "grid_template_columns": null,
      "grid_template_rows": null,
      "height": null,
      "justify_content": null,
      "justify_items": null,
      "left": null,
      "margin": null,
      "max_height": null,
      "max_width": null,
      "min_height": null,
      "min_width": null,
      "object_fit": null,
      "object_position": null,
      "order": null,
      "overflow": null,
      "overflow_x": null,
      "overflow_y": null,
      "padding": null,
      "right": null,
      "top": null,
      "visibility": null,
      "width": null
     }
    },
    "ec25c2cf14144eaa8c84caa7dc53d0ce": {
     "model_module": "@jupyter-widgets/output",
     "model_module_version": "1.0.0",
     "model_name": "OutputModel",
     "state": {
      "_dom_classes": [],
      "_model_module": "@jupyter-widgets/output",
      "_model_module_version": "1.0.0",
      "_model_name": "OutputModel",
      "_view_count": null,
      "_view_module": "@jupyter-widgets/output",
      "_view_module_version": "1.0.0",
      "_view_name": "OutputView",
      "layout": "IPY_MODEL_8eac133438324948a4a5ceaed7b34f55",
      "msg_id": "",
      "outputs": []
     }
    },
    "ed29d059efb344c6aa2a295d14ea52f4": {
     "model_module": "@jupyter-widgets/base",
     "model_module_version": "1.2.0",
     "model_name": "LayoutModel",
     "state": {
      "_model_module": "@jupyter-widgets/base",
      "_model_module_version": "1.2.0",
      "_model_name": "LayoutModel",
      "_view_count": null,
      "_view_module": "@jupyter-widgets/base",
      "_view_module_version": "1.2.0",
      "_view_name": "LayoutView",
      "align_content": null,
      "align_items": null,
      "align_self": null,
      "border": null,
      "bottom": null,
      "display": null,
      "flex": null,
      "flex_flow": null,
      "grid_area": null,
      "grid_auto_columns": null,
      "grid_auto_flow": null,
      "grid_auto_rows": null,
      "grid_column": null,
      "grid_gap": null,
      "grid_row": null,
      "grid_template_areas": null,
      "grid_template_columns": null,
      "grid_template_rows": null,
      "height": null,
      "justify_content": null,
      "justify_items": null,
      "left": null,
      "margin": null,
      "max_height": null,
      "max_width": null,
      "min_height": null,
      "min_width": null,
      "object_fit": null,
      "object_position": null,
      "order": null,
      "overflow": null,
      "overflow_x": null,
      "overflow_y": null,
      "padding": null,
      "right": null,
      "top": null,
      "visibility": null,
      "width": null
     }
    },
    "ed380d8f95b543bc8adecff4d80f4a3f": {
     "model_module": "@jupyter-widgets/controls",
     "model_module_version": "1.5.0",
     "model_name": "ButtonStyleModel",
     "state": {
      "_model_module": "@jupyter-widgets/controls",
      "_model_module_version": "1.5.0",
      "_model_name": "ButtonStyleModel",
      "_view_count": null,
      "_view_module": "@jupyter-widgets/base",
      "_view_module_version": "1.2.0",
      "_view_name": "StyleView",
      "button_color": null,
      "font_weight": ""
     }
    },
    "ee74d70bf0a54cd9ad51def5ebcf194d": {
     "model_module": "@jupyter-widgets/output",
     "model_module_version": "1.0.0",
     "model_name": "OutputModel",
     "state": {
      "_dom_classes": [],
      "_model_module": "@jupyter-widgets/output",
      "_model_module_version": "1.0.0",
      "_model_name": "OutputModel",
      "_view_count": null,
      "_view_module": "@jupyter-widgets/output",
      "_view_module_version": "1.0.0",
      "_view_name": "OutputView",
      "layout": "IPY_MODEL_05eaf5c9a3d44e60a67b6d9d19983040",
      "msg_id": "",
      "outputs": []
     }
    },
    "ef0261b2a2714ac587a1b3749f4bdb43": {
     "model_module": "@jupyter-widgets/base",
     "model_module_version": "1.2.0",
     "model_name": "LayoutModel",
     "state": {
      "_model_module": "@jupyter-widgets/base",
      "_model_module_version": "1.2.0",
      "_model_name": "LayoutModel",
      "_view_count": null,
      "_view_module": "@jupyter-widgets/base",
      "_view_module_version": "1.2.0",
      "_view_name": "LayoutView",
      "align_content": null,
      "align_items": null,
      "align_self": null,
      "border": "1px solid green",
      "bottom": null,
      "display": null,
      "flex": null,
      "flex_flow": null,
      "grid_area": null,
      "grid_auto_columns": null,
      "grid_auto_flow": null,
      "grid_auto_rows": null,
      "grid_column": null,
      "grid_gap": null,
      "grid_row": null,
      "grid_template_areas": null,
      "grid_template_columns": null,
      "grid_template_rows": null,
      "height": null,
      "justify_content": null,
      "justify_items": null,
      "left": null,
      "margin": null,
      "max_height": null,
      "max_width": null,
      "min_height": null,
      "min_width": null,
      "object_fit": null,
      "object_position": null,
      "order": null,
      "overflow": null,
      "overflow_x": null,
      "overflow_y": null,
      "padding": null,
      "right": null,
      "top": null,
      "visibility": null,
      "width": null
     }
    },
    "f30e4304fafa4cef9841ddb478455d4d": {
     "model_module": "@jupyter-widgets/controls",
     "model_module_version": "1.5.0",
     "model_name": "ButtonModel",
     "state": {
      "_dom_classes": [],
      "_model_module": "@jupyter-widgets/controls",
      "_model_module_version": "1.5.0",
      "_model_name": "ButtonModel",
      "_view_count": null,
      "_view_module": "@jupyter-widgets/controls",
      "_view_module_version": "1.5.0",
      "_view_name": "ButtonView",
      "button_style": "",
      "description": "Reveal solution",
      "disabled": false,
      "icon": "",
      "layout": "IPY_MODEL_ed29d059efb344c6aa2a295d14ea52f4",
      "style": "IPY_MODEL_99b8fa770bfd4c25a5fd7abf812b41f4",
      "tooltip": ""
     }
    },
    "f3dc505bcd3c4c5fae18b4c48e74dbee": {
     "model_module": "@jupyter-widgets/controls",
     "model_module_version": "1.5.0",
     "model_name": "ButtonStyleModel",
     "state": {
      "_model_module": "@jupyter-widgets/controls",
      "_model_module_version": "1.5.0",
      "_model_name": "ButtonStyleModel",
      "_view_count": null,
      "_view_module": "@jupyter-widgets/base",
      "_view_module_version": "1.2.0",
      "_view_name": "StyleView",
      "button_color": null,
      "font_weight": ""
     }
    },
    "f4176dc5ef9a4347bc1b24a54a9e8d2c": {
     "model_module": "@jupyter-widgets/base",
     "model_module_version": "1.2.0",
     "model_name": "LayoutModel",
     "state": {
      "_model_module": "@jupyter-widgets/base",
      "_model_module_version": "1.2.0",
      "_model_name": "LayoutModel",
      "_view_count": null,
      "_view_module": "@jupyter-widgets/base",
      "_view_module_version": "1.2.0",
      "_view_name": "LayoutView",
      "align_content": null,
      "align_items": null,
      "align_self": null,
      "border": "1px solid green",
      "bottom": null,
      "display": null,
      "flex": null,
      "flex_flow": null,
      "grid_area": null,
      "grid_auto_columns": null,
      "grid_auto_flow": null,
      "grid_auto_rows": null,
      "grid_column": null,
      "grid_gap": null,
      "grid_row": null,
      "grid_template_areas": null,
      "grid_template_columns": null,
      "grid_template_rows": null,
      "height": null,
      "justify_content": null,
      "justify_items": null,
      "left": null,
      "margin": null,
      "max_height": null,
      "max_width": null,
      "min_height": null,
      "min_width": null,
      "object_fit": null,
      "object_position": null,
      "order": null,
      "overflow": null,
      "overflow_x": null,
      "overflow_y": null,
      "padding": null,
      "right": null,
      "top": null,
      "visibility": null,
      "width": null
     }
    },
    "f49c753df98b40ef8cd5feccbd58d181": {
     "model_module": "@jupyter-widgets/controls",
     "model_module_version": "1.5.0",
     "model_name": "ButtonStyleModel",
     "state": {
      "_model_module": "@jupyter-widgets/controls",
      "_model_module_version": "1.5.0",
      "_model_name": "ButtonStyleModel",
      "_view_count": null,
      "_view_module": "@jupyter-widgets/base",
      "_view_module_version": "1.2.0",
      "_view_name": "StyleView",
      "button_color": null,
      "font_weight": ""
     }
    },
    "f84748256151484b861f3928e67b4875": {
     "model_module": "@jupyter-widgets/controls",
     "model_module_version": "1.5.0",
     "model_name": "ButtonStyleModel",
     "state": {
      "_model_module": "@jupyter-widgets/controls",
      "_model_module_version": "1.5.0",
      "_model_name": "ButtonStyleModel",
      "_view_count": null,
      "_view_module": "@jupyter-widgets/base",
      "_view_module_version": "1.2.0",
      "_view_name": "StyleView",
      "button_color": null,
      "font_weight": ""
     }
    },
    "f85f809a7746464bba916b0490d90d6d": {
     "model_module": "@jupyter-widgets/controls",
     "model_module_version": "1.5.0",
     "model_name": "ButtonStyleModel",
     "state": {
      "_model_module": "@jupyter-widgets/controls",
      "_model_module_version": "1.5.0",
      "_model_name": "ButtonStyleModel",
      "_view_count": null,
      "_view_module": "@jupyter-widgets/base",
      "_view_module_version": "1.2.0",
      "_view_name": "StyleView",
      "button_color": null,
      "font_weight": ""
     }
    },
    "f9682ba128be4ad8a936fcee4519bb90": {
     "model_module": "@jupyter-widgets/base",
     "model_module_version": "1.2.0",
     "model_name": "LayoutModel",
     "state": {
      "_model_module": "@jupyter-widgets/base",
      "_model_module_version": "1.2.0",
      "_model_name": "LayoutModel",
      "_view_count": null,
      "_view_module": "@jupyter-widgets/base",
      "_view_module_version": "1.2.0",
      "_view_name": "LayoutView",
      "align_content": null,
      "align_items": null,
      "align_self": null,
      "border": null,
      "bottom": null,
      "display": null,
      "flex": null,
      "flex_flow": null,
      "grid_area": null,
      "grid_auto_columns": null,
      "grid_auto_flow": null,
      "grid_auto_rows": null,
      "grid_column": null,
      "grid_gap": null,
      "grid_row": null,
      "grid_template_areas": null,
      "grid_template_columns": null,
      "grid_template_rows": null,
      "height": null,
      "justify_content": null,
      "justify_items": null,
      "left": null,
      "margin": null,
      "max_height": null,
      "max_width": null,
      "min_height": null,
      "min_width": null,
      "object_fit": null,
      "object_position": null,
      "order": null,
      "overflow": null,
      "overflow_x": null,
      "overflow_y": null,
      "padding": null,
      "right": null,
      "top": null,
      "visibility": null,
      "width": null
     }
    },
    "f9f6bfde1383427792a74752c4b6fc36": {
     "model_module": "@jupyter-widgets/base",
     "model_module_version": "1.2.0",
     "model_name": "LayoutModel",
     "state": {
      "_model_module": "@jupyter-widgets/base",
      "_model_module_version": "1.2.0",
      "_model_name": "LayoutModel",
      "_view_count": null,
      "_view_module": "@jupyter-widgets/base",
      "_view_module_version": "1.2.0",
      "_view_name": "LayoutView",
      "align_content": null,
      "align_items": null,
      "align_self": null,
      "border": "1px solid green",
      "bottom": null,
      "display": null,
      "flex": null,
      "flex_flow": null,
      "grid_area": null,
      "grid_auto_columns": null,
      "grid_auto_flow": null,
      "grid_auto_rows": null,
      "grid_column": null,
      "grid_gap": null,
      "grid_row": null,
      "grid_template_areas": null,
      "grid_template_columns": null,
      "grid_template_rows": null,
      "height": null,
      "justify_content": null,
      "justify_items": null,
      "left": null,
      "margin": null,
      "max_height": null,
      "max_width": null,
      "min_height": null,
      "min_width": null,
      "object_fit": null,
      "object_position": null,
      "order": null,
      "overflow": null,
      "overflow_x": null,
      "overflow_y": null,
      "padding": null,
      "right": null,
      "top": null,
      "visibility": null,
      "width": null
     }
    },
    "faee3b2254424bec940a05a399c1bba3": {
     "model_module": "@jupyter-widgets/base",
     "model_module_version": "1.2.0",
     "model_name": "LayoutModel",
     "state": {
      "_model_module": "@jupyter-widgets/base",
      "_model_module_version": "1.2.0",
      "_model_name": "LayoutModel",
      "_view_count": null,
      "_view_module": "@jupyter-widgets/base",
      "_view_module_version": "1.2.0",
      "_view_name": "LayoutView",
      "align_content": null,
      "align_items": null,
      "align_self": null,
      "border": null,
      "bottom": null,
      "display": null,
      "flex": null,
      "flex_flow": null,
      "grid_area": null,
      "grid_auto_columns": null,
      "grid_auto_flow": null,
      "grid_auto_rows": null,
      "grid_column": null,
      "grid_gap": null,
      "grid_row": null,
      "grid_template_areas": null,
      "grid_template_columns": null,
      "grid_template_rows": null,
      "height": null,
      "justify_content": null,
      "justify_items": null,
      "left": null,
      "margin": null,
      "max_height": null,
      "max_width": null,
      "min_height": null,
      "min_width": null,
      "object_fit": null,
      "object_position": null,
      "order": null,
      "overflow": null,
      "overflow_x": null,
      "overflow_y": null,
      "padding": null,
      "right": null,
      "top": null,
      "visibility": null,
      "width": null
     }
    },
    "fb0d8413b82d4ddd8b358369b80397c1": {
     "model_module": "@jupyter-widgets/output",
     "model_module_version": "1.0.0",
     "model_name": "OutputModel",
     "state": {
      "_dom_classes": [],
      "_model_module": "@jupyter-widgets/output",
      "_model_module_version": "1.0.0",
      "_model_name": "OutputModel",
      "_view_count": null,
      "_view_module": "@jupyter-widgets/output",
      "_view_module_version": "1.0.0",
      "_view_name": "OutputView",
      "layout": "IPY_MODEL_bcd72b6e270849338f14111082e36d5b",
      "msg_id": "",
      "outputs": [
       {
        "data": {
         "text/markdown": "Lets use with `households` and start with fixed-width binning.\n",
         "text/plain": "<IPython.core.display.Markdown object>"
        },
        "metadata": {},
        "output_type": "display_data"
       },
       {
        "data": {
         "text/html": "<style>.output_html .hll { background-color: #ffffcc }\n.output_html  { background: #f8f8f8; }\n.output_html .c { color: #408080; font-style: italic } /* Comment */\n.output_html .err { border: 1px solid #FF0000 } /* Error */\n.output_html .k { color: #008000; font-weight: bold } /* Keyword */\n.output_html .o { color: #666666 } /* Operator */\n.output_html .ch { color: #408080; font-style: italic } /* Comment.Hashbang */\n.output_html .cm { color: #408080; font-style: italic } /* Comment.Multiline */\n.output_html .cp { color: #BC7A00 } /* Comment.Preproc */\n.output_html .cpf { color: #408080; font-style: italic } /* Comment.PreprocFile */\n.output_html .c1 { color: #408080; font-style: italic } /* Comment.Single */\n.output_html .cs { color: #408080; font-style: italic } /* Comment.Special */\n.output_html .gd { color: #A00000 } /* Generic.Deleted */\n.output_html .ge { font-style: italic } /* Generic.Emph */\n.output_html .gr { color: #FF0000 } /* Generic.Error */\n.output_html .gh { color: #000080; font-weight: bold } /* Generic.Heading */\n.output_html .gi { color: #00A000 } /* Generic.Inserted */\n.output_html .go { color: #888888 } /* Generic.Output */\n.output_html .gp { color: #000080; font-weight: bold } /* Generic.Prompt */\n.output_html .gs { font-weight: bold } /* Generic.Strong */\n.output_html .gu { color: #800080; font-weight: bold } /* Generic.Subheading */\n.output_html .gt { color: #0044DD } /* Generic.Traceback */\n.output_html .kc { color: #008000; font-weight: bold } /* Keyword.Constant */\n.output_html .kd { color: #008000; font-weight: bold } /* Keyword.Declaration */\n.output_html .kn { color: #008000; font-weight: bold } /* Keyword.Namespace */\n.output_html .kp { color: #008000 } /* Keyword.Pseudo */\n.output_html .kr { color: #008000; font-weight: bold } /* Keyword.Reserved */\n.output_html .kt { color: #B00040 } /* Keyword.Type */\n.output_html .m { color: #666666 } /* Literal.Number */\n.output_html .s { color: #BA2121 } /* Literal.String */\n.output_html .na { color: #7D9029 } /* Name.Attribute */\n.output_html .nb { color: #008000 } /* Name.Builtin */\n.output_html .nc { color: #0000FF; font-weight: bold } /* Name.Class */\n.output_html .no { color: #880000 } /* Name.Constant */\n.output_html .nd { color: #AA22FF } /* Name.Decorator */\n.output_html .ni { color: #999999; font-weight: bold } /* Name.Entity */\n.output_html .ne { color: #D2413A; font-weight: bold } /* Name.Exception */\n.output_html .nf { color: #0000FF } /* Name.Function */\n.output_html .nl { color: #A0A000 } /* Name.Label */\n.output_html .nn { color: #0000FF; font-weight: bold } /* Name.Namespace */\n.output_html .nt { color: #008000; font-weight: bold } /* Name.Tag */\n.output_html .nv { color: #19177C } /* Name.Variable */\n.output_html .ow { color: #AA22FF; font-weight: bold } /* Operator.Word */\n.output_html .w { color: #bbbbbb } /* Text.Whitespace */\n.output_html .mb { color: #666666 } /* Literal.Number.Bin */\n.output_html .mf { color: #666666 } /* Literal.Number.Float */\n.output_html .mh { color: #666666 } /* Literal.Number.Hex */\n.output_html .mi { color: #666666 } /* Literal.Number.Integer */\n.output_html .mo { color: #666666 } /* Literal.Number.Oct */\n.output_html .sa { color: #BA2121 } /* Literal.String.Affix */\n.output_html .sb { color: #BA2121 } /* Literal.String.Backtick */\n.output_html .sc { color: #BA2121 } /* Literal.String.Char */\n.output_html .dl { color: #BA2121 } /* Literal.String.Delimiter */\n.output_html .sd { color: #BA2121; font-style: italic } /* Literal.String.Doc */\n.output_html .s2 { color: #BA2121 } /* Literal.String.Double */\n.output_html .se { color: #BB6622; font-weight: bold } /* Literal.String.Escape */\n.output_html .sh { color: #BA2121 } /* Literal.String.Heredoc */\n.output_html .si { color: #BB6688; font-weight: bold } /* Literal.String.Interpol */\n.output_html .sx { color: #008000 } /* Literal.String.Other */\n.output_html .sr { color: #BB6688 } /* Literal.String.Regex */\n.output_html .s1 { color: #BA2121 } /* Literal.String.Single */\n.output_html .ss { color: #19177C } /* Literal.String.Symbol */\n.output_html .bp { color: #008000 } /* Name.Builtin.Pseudo */\n.output_html .fm { color: #0000FF } /* Name.Function.Magic */\n.output_html .vc { color: #19177C } /* Name.Variable.Class */\n.output_html .vg { color: #19177C } /* Name.Variable.Global */\n.output_html .vi { color: #19177C } /* Name.Variable.Instance */\n.output_html .vm { color: #19177C } /* Name.Variable.Magic */\n.output_html .il { color: #666666 } /* Literal.Number.Integer.Long */</style><div class=\"highlight\"><pre><span></span><span class=\"n\">fig</span> <span class=\"o\">=</span> <span class=\"n\">plt</span><span class=\"o\">.</span><span class=\"n\">figure</span><span class=\"p\">(</span><span class=\"n\">figsize</span><span class=\"o\">=</span><span class=\"p\">(</span><span class=\"mi\">15</span><span class=\"p\">,</span><span class=\"mi\">5</span><span class=\"p\">))</span>\n<span class=\"n\">sns</span><span class=\"o\">.</span><span class=\"n\">histplot</span><span class=\"p\">(</span><span class=\"n\">data</span><span class=\"o\">=</span><span class=\"n\">X_train</span><span class=\"p\">[:,</span><span class=\"mi\">6</span><span class=\"p\">])</span>\n<span class=\"n\">plt</span><span class=\"o\">.</span><span class=\"n\">show</span><span class=\"p\">()</span>\n</pre></div>\n",
         "text/latex": "\\begin{Verbatim}[commandchars=\\\\\\{\\}]\n\\PY{n}{fig} \\PY{o}{=} \\PY{n}{plt}\\PY{o}{.}\\PY{n}{figure}\\PY{p}{(}\\PY{n}{figsize}\\PY{o}{=}\\PY{p}{(}\\PY{l+m+mi}{15}\\PY{p}{,}\\PY{l+m+mi}{5}\\PY{p}{)}\\PY{p}{)}\n\\PY{n}{sns}\\PY{o}{.}\\PY{n}{histplot}\\PY{p}{(}\\PY{n}{data}\\PY{o}{=}\\PY{n}{X\\PYZus{}train}\\PY{p}{[}\\PY{p}{:}\\PY{p}{,}\\PY{l+m+mi}{6}\\PY{p}{]}\\PY{p}{)}\n\\PY{n}{plt}\\PY{o}{.}\\PY{n}{show}\\PY{p}{(}\\PY{p}{)}\n\\end{Verbatim}\n",
         "text/plain": "fig = plt.figure(figsize=(15,5))\nsns.histplot(data=X_train[:,6])\nplt.show()"
        },
        "metadata": {},
        "output_type": "display_data"
       },
       {
        "data": {
         "text/markdown": "Looking above, it seems most of the households look to be between 1 and 1000. So maybe we want to divide our data up into fixed bins of 100 and group everything else after 1000?\n",
         "text/plain": "<IPython.core.display.Markdown object>"
        },
        "metadata": {},
        "output_type": "display_data"
       },
       {
        "data": {
         "text/html": "<style>.output_html .hll { background-color: #ffffcc }\n.output_html  { background: #f8f8f8; }\n.output_html .c { color: #408080; font-style: italic } /* Comment */\n.output_html .err { border: 1px solid #FF0000 } /* Error */\n.output_html .k { color: #008000; font-weight: bold } /* Keyword */\n.output_html .o { color: #666666 } /* Operator */\n.output_html .ch { color: #408080; font-style: italic } /* Comment.Hashbang */\n.output_html .cm { color: #408080; font-style: italic } /* Comment.Multiline */\n.output_html .cp { color: #BC7A00 } /* Comment.Preproc */\n.output_html .cpf { color: #408080; font-style: italic } /* Comment.PreprocFile */\n.output_html .c1 { color: #408080; font-style: italic } /* Comment.Single */\n.output_html .cs { color: #408080; font-style: italic } /* Comment.Special */\n.output_html .gd { color: #A00000 } /* Generic.Deleted */\n.output_html .ge { font-style: italic } /* Generic.Emph */\n.output_html .gr { color: #FF0000 } /* Generic.Error */\n.output_html .gh { color: #000080; font-weight: bold } /* Generic.Heading */\n.output_html .gi { color: #00A000 } /* Generic.Inserted */\n.output_html .go { color: #888888 } /* Generic.Output */\n.output_html .gp { color: #000080; font-weight: bold } /* Generic.Prompt */\n.output_html .gs { font-weight: bold } /* Generic.Strong */\n.output_html .gu { color: #800080; font-weight: bold } /* Generic.Subheading */\n.output_html .gt { color: #0044DD } /* Generic.Traceback */\n.output_html .kc { color: #008000; font-weight: bold } /* Keyword.Constant */\n.output_html .kd { color: #008000; font-weight: bold } /* Keyword.Declaration */\n.output_html .kn { color: #008000; font-weight: bold } /* Keyword.Namespace */\n.output_html .kp { color: #008000 } /* Keyword.Pseudo */\n.output_html .kr { color: #008000; font-weight: bold } /* Keyword.Reserved */\n.output_html .kt { color: #B00040 } /* Keyword.Type */\n.output_html .m { color: #666666 } /* Literal.Number */\n.output_html .s { color: #BA2121 } /* Literal.String */\n.output_html .na { color: #7D9029 } /* Name.Attribute */\n.output_html .nb { color: #008000 } /* Name.Builtin */\n.output_html .nc { color: #0000FF; font-weight: bold } /* Name.Class */\n.output_html .no { color: #880000 } /* Name.Constant */\n.output_html .nd { color: #AA22FF } /* Name.Decorator */\n.output_html .ni { color: #999999; font-weight: bold } /* Name.Entity */\n.output_html .ne { color: #D2413A; font-weight: bold } /* Name.Exception */\n.output_html .nf { color: #0000FF } /* Name.Function */\n.output_html .nl { color: #A0A000 } /* Name.Label */\n.output_html .nn { color: #0000FF; font-weight: bold } /* Name.Namespace */\n.output_html .nt { color: #008000; font-weight: bold } /* Name.Tag */\n.output_html .nv { color: #19177C } /* Name.Variable */\n.output_html .ow { color: #AA22FF; font-weight: bold } /* Operator.Word */\n.output_html .w { color: #bbbbbb } /* Text.Whitespace */\n.output_html .mb { color: #666666 } /* Literal.Number.Bin */\n.output_html .mf { color: #666666 } /* Literal.Number.Float */\n.output_html .mh { color: #666666 } /* Literal.Number.Hex */\n.output_html .mi { color: #666666 } /* Literal.Number.Integer */\n.output_html .mo { color: #666666 } /* Literal.Number.Oct */\n.output_html .sa { color: #BA2121 } /* Literal.String.Affix */\n.output_html .sb { color: #BA2121 } /* Literal.String.Backtick */\n.output_html .sc { color: #BA2121 } /* Literal.String.Char */\n.output_html .dl { color: #BA2121 } /* Literal.String.Delimiter */\n.output_html .sd { color: #BA2121; font-style: italic } /* Literal.String.Doc */\n.output_html .s2 { color: #BA2121 } /* Literal.String.Double */\n.output_html .se { color: #BB6622; font-weight: bold } /* Literal.String.Escape */\n.output_html .sh { color: #BA2121 } /* Literal.String.Heredoc */\n.output_html .si { color: #BB6688; font-weight: bold } /* Literal.String.Interpol */\n.output_html .sx { color: #008000 } /* Literal.String.Other */\n.output_html .sr { color: #BB6688 } /* Literal.String.Regex */\n.output_html .s1 { color: #BA2121 } /* Literal.String.Single */\n.output_html .ss { color: #19177C } /* Literal.String.Symbol */\n.output_html .bp { color: #008000 } /* Name.Builtin.Pseudo */\n.output_html .fm { color: #0000FF } /* Name.Function.Magic */\n.output_html .vc { color: #19177C } /* Name.Variable.Class */\n.output_html .vg { color: #19177C } /* Name.Variable.Global */\n.output_html .vi { color: #19177C } /* Name.Variable.Instance */\n.output_html .vm { color: #19177C } /* Name.Variable.Magic */\n.output_html .il { color: #666666 } /* Literal.Number.Integer.Long */</style><div class=\"highlight\"><pre><span></span><span class=\"n\">households_binned</span> <span class=\"o\">=</span> <span class=\"n\">np</span><span class=\"o\">.</span><span class=\"n\">digitize</span><span class=\"p\">(</span><span class=\"n\">X_train</span><span class=\"p\">[:,</span><span class=\"mi\">6</span><span class=\"p\">],</span> <span class=\"nb\">range</span><span class=\"p\">(</span><span class=\"mi\">0</span><span class=\"p\">,</span><span class=\"mi\">1100</span><span class=\"p\">,</span><span class=\"mi\">100</span><span class=\"p\">))</span>\n\n<span class=\"n\">sns</span><span class=\"o\">.</span><span class=\"n\">countplot</span><span class=\"p\">(</span><span class=\"n\">x</span> <span class=\"o\">=</span> <span class=\"p\">(</span><span class=\"n\">households_binned</span><span class=\"o\">-</span><span class=\"mi\">1</span><span class=\"p\">)</span><span class=\"o\">*</span><span class=\"mi\">100</span><span class=\"p\">)</span>\n<span class=\"n\">plt</span><span class=\"o\">.</span><span class=\"n\">show</span><span class=\"p\">()</span>\n</pre></div>\n",
         "text/latex": "\\begin{Verbatim}[commandchars=\\\\\\{\\}]\n\\PY{n}{households\\PYZus{}binned} \\PY{o}{=} \\PY{n}{np}\\PY{o}{.}\\PY{n}{digitize}\\PY{p}{(}\\PY{n}{X\\PYZus{}train}\\PY{p}{[}\\PY{p}{:}\\PY{p}{,}\\PY{l+m+mi}{6}\\PY{p}{]}\\PY{p}{,} \\PY{n+nb}{range}\\PY{p}{(}\\PY{l+m+mi}{0}\\PY{p}{,}\\PY{l+m+mi}{1100}\\PY{p}{,}\\PY{l+m+mi}{100}\\PY{p}{)}\\PY{p}{)}\n\n\\PY{n}{sns}\\PY{o}{.}\\PY{n}{countplot}\\PY{p}{(}\\PY{n}{x} \\PY{o}{=} \\PY{p}{(}\\PY{n}{households\\PYZus{}binned}\\PY{o}{\\PYZhy{}}\\PY{l+m+mi}{1}\\PY{p}{)}\\PY{o}{*}\\PY{l+m+mi}{100}\\PY{p}{)}\n\\PY{n}{plt}\\PY{o}{.}\\PY{n}{show}\\PY{p}{(}\\PY{p}{)}\n\\end{Verbatim}\n",
         "text/plain": "households_binned = np.digitize(X_train[:,6], range(0,1100,100))\n\nsns.countplot(x = (households_binned-1)*100)\nplt.show()"
        },
        "metadata": {},
        "output_type": "display_data"
       },
       {
        "data": {
         "text/markdown": "If we wanted to divide the data into quantiles to adaptively position the bins we could do the following.\n",
         "text/plain": "<IPython.core.display.Markdown object>"
        },
        "metadata": {},
        "output_type": "display_data"
       },
       {
        "data": {
         "text/html": "<style>.output_html .hll { background-color: #ffffcc }\n.output_html  { background: #f8f8f8; }\n.output_html .c { color: #408080; font-style: italic } /* Comment */\n.output_html .err { border: 1px solid #FF0000 } /* Error */\n.output_html .k { color: #008000; font-weight: bold } /* Keyword */\n.output_html .o { color: #666666 } /* Operator */\n.output_html .ch { color: #408080; font-style: italic } /* Comment.Hashbang */\n.output_html .cm { color: #408080; font-style: italic } /* Comment.Multiline */\n.output_html .cp { color: #BC7A00 } /* Comment.Preproc */\n.output_html .cpf { color: #408080; font-style: italic } /* Comment.PreprocFile */\n.output_html .c1 { color: #408080; font-style: italic } /* Comment.Single */\n.output_html .cs { color: #408080; font-style: italic } /* Comment.Special */\n.output_html .gd { color: #A00000 } /* Generic.Deleted */\n.output_html .ge { font-style: italic } /* Generic.Emph */\n.output_html .gr { color: #FF0000 } /* Generic.Error */\n.output_html .gh { color: #000080; font-weight: bold } /* Generic.Heading */\n.output_html .gi { color: #00A000 } /* Generic.Inserted */\n.output_html .go { color: #888888 } /* Generic.Output */\n.output_html .gp { color: #000080; font-weight: bold } /* Generic.Prompt */\n.output_html .gs { font-weight: bold } /* Generic.Strong */\n.output_html .gu { color: #800080; font-weight: bold } /* Generic.Subheading */\n.output_html .gt { color: #0044DD } /* Generic.Traceback */\n.output_html .kc { color: #008000; font-weight: bold } /* Keyword.Constant */\n.output_html .kd { color: #008000; font-weight: bold } /* Keyword.Declaration */\n.output_html .kn { color: #008000; font-weight: bold } /* Keyword.Namespace */\n.output_html .kp { color: #008000 } /* Keyword.Pseudo */\n.output_html .kr { color: #008000; font-weight: bold } /* Keyword.Reserved */\n.output_html .kt { color: #B00040 } /* Keyword.Type */\n.output_html .m { color: #666666 } /* Literal.Number */\n.output_html .s { color: #BA2121 } /* Literal.String */\n.output_html .na { color: #7D9029 } /* Name.Attribute */\n.output_html .nb { color: #008000 } /* Name.Builtin */\n.output_html .nc { color: #0000FF; font-weight: bold } /* Name.Class */\n.output_html .no { color: #880000 } /* Name.Constant */\n.output_html .nd { color: #AA22FF } /* Name.Decorator */\n.output_html .ni { color: #999999; font-weight: bold } /* Name.Entity */\n.output_html .ne { color: #D2413A; font-weight: bold } /* Name.Exception */\n.output_html .nf { color: #0000FF } /* Name.Function */\n.output_html .nl { color: #A0A000 } /* Name.Label */\n.output_html .nn { color: #0000FF; font-weight: bold } /* Name.Namespace */\n.output_html .nt { color: #008000; font-weight: bold } /* Name.Tag */\n.output_html .nv { color: #19177C } /* Name.Variable */\n.output_html .ow { color: #AA22FF; font-weight: bold } /* Operator.Word */\n.output_html .w { color: #bbbbbb } /* Text.Whitespace */\n.output_html .mb { color: #666666 } /* Literal.Number.Bin */\n.output_html .mf { color: #666666 } /* Literal.Number.Float */\n.output_html .mh { color: #666666 } /* Literal.Number.Hex */\n.output_html .mi { color: #666666 } /* Literal.Number.Integer */\n.output_html .mo { color: #666666 } /* Literal.Number.Oct */\n.output_html .sa { color: #BA2121 } /* Literal.String.Affix */\n.output_html .sb { color: #BA2121 } /* Literal.String.Backtick */\n.output_html .sc { color: #BA2121 } /* Literal.String.Char */\n.output_html .dl { color: #BA2121 } /* Literal.String.Delimiter */\n.output_html .sd { color: #BA2121; font-style: italic } /* Literal.String.Doc */\n.output_html .s2 { color: #BA2121 } /* Literal.String.Double */\n.output_html .se { color: #BB6622; font-weight: bold } /* Literal.String.Escape */\n.output_html .sh { color: #BA2121 } /* Literal.String.Heredoc */\n.output_html .si { color: #BB6688; font-weight: bold } /* Literal.String.Interpol */\n.output_html .sx { color: #008000 } /* Literal.String.Other */\n.output_html .sr { color: #BB6688 } /* Literal.String.Regex */\n.output_html .s1 { color: #BA2121 } /* Literal.String.Single */\n.output_html .ss { color: #19177C } /* Literal.String.Symbol */\n.output_html .bp { color: #008000 } /* Name.Builtin.Pseudo */\n.output_html .fm { color: #0000FF } /* Name.Function.Magic */\n.output_html .vc { color: #19177C } /* Name.Variable.Class */\n.output_html .vg { color: #19177C } /* Name.Variable.Global */\n.output_html .vi { color: #19177C } /* Name.Variable.Instance */\n.output_html .vm { color: #19177C } /* Name.Variable.Magic */\n.output_html .il { color: #666666 } /* Literal.Number.Integer.Long */</style><div class=\"highlight\"><pre><span></span><span class=\"n\">fig</span><span class=\"p\">,</span> <span class=\"n\">axes</span> <span class=\"o\">=</span> <span class=\"n\">plt</span><span class=\"o\">.</span><span class=\"n\">subplots</span><span class=\"p\">(</span><span class=\"n\">figsize</span><span class=\"o\">=</span><span class=\"p\">(</span><span class=\"mi\">15</span><span class=\"p\">,</span><span class=\"mi\">10</span><span class=\"p\">),</span> <span class=\"n\">nrows</span><span class=\"o\">=</span><span class=\"mi\">2</span><span class=\"p\">)</span>\n<span class=\"n\">sns</span><span class=\"o\">.</span><span class=\"n\">histplot</span><span class=\"p\">(</span><span class=\"n\">data</span><span class=\"o\">=</span><span class=\"n\">X_train</span><span class=\"p\">[:,</span><span class=\"mi\">6</span><span class=\"p\">],</span> <span class=\"n\">ax</span><span class=\"o\">=</span><span class=\"n\">axes</span><span class=\"p\">[</span><span class=\"mi\">0</span><span class=\"p\">])</span>\n\n<span class=\"n\">deciles</span> <span class=\"o\">=</span> <span class=\"n\">pd</span><span class=\"o\">.</span><span class=\"n\">Series</span><span class=\"p\">(</span><span class=\"n\">X_train</span><span class=\"p\">[:,</span><span class=\"mi\">6</span><span class=\"p\">])</span><span class=\"o\">.</span><span class=\"n\">quantile</span><span class=\"p\">([</span><span class=\"o\">.</span><span class=\"mi\">1</span><span class=\"p\">,</span> <span class=\"o\">.</span><span class=\"mi\">2</span><span class=\"p\">,</span> <span class=\"o\">.</span><span class=\"mi\">3</span><span class=\"p\">,</span> <span class=\"o\">.</span><span class=\"mi\">4</span><span class=\"p\">,</span> <span class=\"o\">.</span><span class=\"mi\">5</span><span class=\"p\">,</span> <span class=\"o\">.</span><span class=\"mi\">6</span><span class=\"p\">,</span> <span class=\"o\">.</span><span class=\"mi\">7</span><span class=\"p\">,</span> <span class=\"o\">.</span><span class=\"mi\">8</span><span class=\"p\">,</span> <span class=\"o\">.</span><span class=\"mi\">9</span><span class=\"p\">,</span> <span class=\"o\">.</span><span class=\"mi\">10</span><span class=\"p\">])</span>\n<span class=\"k\">for</span> <span class=\"n\">pos</span> <span class=\"ow\">in</span> <span class=\"n\">deciles</span><span class=\"p\">:</span>\n    <span class=\"n\">axes</span><span class=\"p\">[</span><span class=\"mi\">0</span><span class=\"p\">]</span><span class=\"o\">.</span><span class=\"n\">axvline</span><span class=\"p\">(</span><span class=\"n\">pos</span><span class=\"p\">,</span> <span class=\"n\">color</span><span class=\"o\">=</span><span class=\"s1\">&#39;r&#39;</span><span class=\"p\">)</span>\n    \n<span class=\"n\">cuts</span> <span class=\"o\">=</span> <span class=\"n\">pd</span><span class=\"o\">.</span><span class=\"n\">qcut</span><span class=\"p\">(</span><span class=\"n\">X_train</span><span class=\"p\">[:,</span><span class=\"mi\">6</span><span class=\"p\">],</span> <span class=\"mi\">10</span><span class=\"p\">,</span> <span class=\"n\">labels</span><span class=\"o\">=</span><span class=\"kc\">False</span><span class=\"p\">)</span>\n<span class=\"n\">sns</span><span class=\"o\">.</span><span class=\"n\">countplot</span><span class=\"p\">(</span><span class=\"n\">x</span><span class=\"o\">=</span><span class=\"n\">cuts</span><span class=\"o\">+</span><span class=\"mi\">1</span><span class=\"p\">,</span> <span class=\"n\">ax</span><span class=\"o\">=</span><span class=\"n\">axes</span><span class=\"p\">[</span><span class=\"mi\">1</span><span class=\"p\">])</span>\n<span class=\"n\">axes</span><span class=\"p\">[</span><span class=\"mi\">1</span><span class=\"p\">]</span><span class=\"o\">.</span><span class=\"n\">set_xlabel</span><span class=\"p\">(</span><span class=\"s2\">&quot;quantile&quot;</span><span class=\"p\">)</span>\n<span class=\"n\">plt</span><span class=\"o\">.</span><span class=\"n\">show</span><span class=\"p\">()</span>\n</pre></div>\n",
         "text/latex": "\\begin{Verbatim}[commandchars=\\\\\\{\\}]\n\\PY{n}{fig}\\PY{p}{,} \\PY{n}{axes} \\PY{o}{=} \\PY{n}{plt}\\PY{o}{.}\\PY{n}{subplots}\\PY{p}{(}\\PY{n}{figsize}\\PY{o}{=}\\PY{p}{(}\\PY{l+m+mi}{15}\\PY{p}{,}\\PY{l+m+mi}{10}\\PY{p}{)}\\PY{p}{,} \\PY{n}{nrows}\\PY{o}{=}\\PY{l+m+mi}{2}\\PY{p}{)}\n\\PY{n}{sns}\\PY{o}{.}\\PY{n}{histplot}\\PY{p}{(}\\PY{n}{data}\\PY{o}{=}\\PY{n}{X\\PYZus{}train}\\PY{p}{[}\\PY{p}{:}\\PY{p}{,}\\PY{l+m+mi}{6}\\PY{p}{]}\\PY{p}{,} \\PY{n}{ax}\\PY{o}{=}\\PY{n}{axes}\\PY{p}{[}\\PY{l+m+mi}{0}\\PY{p}{]}\\PY{p}{)}\n\n\\PY{n}{deciles} \\PY{o}{=} \\PY{n}{pd}\\PY{o}{.}\\PY{n}{Series}\\PY{p}{(}\\PY{n}{X\\PYZus{}train}\\PY{p}{[}\\PY{p}{:}\\PY{p}{,}\\PY{l+m+mi}{6}\\PY{p}{]}\\PY{p}{)}\\PY{o}{.}\\PY{n}{quantile}\\PY{p}{(}\\PY{p}{[}\\PY{o}{.}\\PY{l+m+mi}{1}\\PY{p}{,} \\PY{o}{.}\\PY{l+m+mi}{2}\\PY{p}{,} \\PY{o}{.}\\PY{l+m+mi}{3}\\PY{p}{,} \\PY{o}{.}\\PY{l+m+mi}{4}\\PY{p}{,} \\PY{o}{.}\\PY{l+m+mi}{5}\\PY{p}{,} \\PY{o}{.}\\PY{l+m+mi}{6}\\PY{p}{,} \\PY{o}{.}\\PY{l+m+mi}{7}\\PY{p}{,} \\PY{o}{.}\\PY{l+m+mi}{8}\\PY{p}{,} \\PY{o}{.}\\PY{l+m+mi}{9}\\PY{p}{,} \\PY{o}{.}\\PY{l+m+mi}{10}\\PY{p}{]}\\PY{p}{)}\n\\PY{k}{for} \\PY{n}{pos} \\PY{o+ow}{in} \\PY{n}{deciles}\\PY{p}{:}\n    \\PY{n}{axes}\\PY{p}{[}\\PY{l+m+mi}{0}\\PY{p}{]}\\PY{o}{.}\\PY{n}{axvline}\\PY{p}{(}\\PY{n}{pos}\\PY{p}{,} \\PY{n}{color}\\PY{o}{=}\\PY{l+s+s1}{\\PYZsq{}}\\PY{l+s+s1}{r}\\PY{l+s+s1}{\\PYZsq{}}\\PY{p}{)}\n    \n\\PY{n}{cuts} \\PY{o}{=} \\PY{n}{pd}\\PY{o}{.}\\PY{n}{qcut}\\PY{p}{(}\\PY{n}{X\\PYZus{}train}\\PY{p}{[}\\PY{p}{:}\\PY{p}{,}\\PY{l+m+mi}{6}\\PY{p}{]}\\PY{p}{,} \\PY{l+m+mi}{10}\\PY{p}{,} \\PY{n}{labels}\\PY{o}{=}\\PY{k+kc}{False}\\PY{p}{)}\n\\PY{n}{sns}\\PY{o}{.}\\PY{n}{countplot}\\PY{p}{(}\\PY{n}{x}\\PY{o}{=}\\PY{n}{cuts}\\PY{o}{+}\\PY{l+m+mi}{1}\\PY{p}{,} \\PY{n}{ax}\\PY{o}{=}\\PY{n}{axes}\\PY{p}{[}\\PY{l+m+mi}{1}\\PY{p}{]}\\PY{p}{)}\n\\PY{n}{axes}\\PY{p}{[}\\PY{l+m+mi}{1}\\PY{p}{]}\\PY{o}{.}\\PY{n}{set\\PYZus{}xlabel}\\PY{p}{(}\\PY{l+s+s2}{\\PYZdq{}}\\PY{l+s+s2}{quantile}\\PY{l+s+s2}{\\PYZdq{}}\\PY{p}{)}\n\\PY{n}{plt}\\PY{o}{.}\\PY{n}{show}\\PY{p}{(}\\PY{p}{)}\n\\end{Verbatim}\n",
         "text/plain": "fig, axes = plt.subplots(figsize=(15,10), nrows=2)\nsns.histplot(data=X_train[:,6], ax=axes[0])\n\ndeciles = pd.Series(X_train[:,6]).quantile([.1, .2, .3, .4, .5, .6, .7, .8, .9, .10])\nfor pos in deciles:\n    axes[0].axvline(pos, color='r')\n    \ncuts = pd.qcut(X_train[:,6], 10, labels=False)\nsns.countplot(x=cuts+1, ax=axes[1])\naxes[1].set_xlabel(\"quantile\")\nplt.show()"
        },
        "metadata": {},
        "output_type": "display_data"
       },
       {
        "data": {
         "text/markdown": "Although no longer normally distributed this still maybe useful, although for interpretability I would go for the former method.\n",
         "text/plain": "<IPython.core.display.Markdown object>"
        },
        "metadata": {},
        "output_type": "display_data"
       }
      ]
     }
    },
    "fb7dd83da3ac404eaf81c5d41ba6e621": {
     "model_module": "@jupyter-widgets/controls",
     "model_module_version": "1.5.0",
     "model_name": "ButtonModel",
     "state": {
      "_dom_classes": [],
      "_model_module": "@jupyter-widgets/controls",
      "_model_module_version": "1.5.0",
      "_model_name": "ButtonModel",
      "_view_count": null,
      "_view_module": "@jupyter-widgets/controls",
      "_view_module_version": "1.5.0",
      "_view_name": "ButtonView",
      "button_style": "",
      "description": "Reveal solution",
      "disabled": false,
      "icon": "",
      "layout": "IPY_MODEL_737e8c95e62e46b9a78ffb5e6f99ed0c",
      "style": "IPY_MODEL_6d27a5367d4244f1ac82f8ab1799f95c",
      "tooltip": ""
     }
    },
    "fbe3cf47ec9b4976baef0120ac944ec4": {
     "model_module": "@jupyter-widgets/controls",
     "model_module_version": "1.5.0",
     "model_name": "ButtonModel",
     "state": {
      "_dom_classes": [],
      "_model_module": "@jupyter-widgets/controls",
      "_model_module_version": "1.5.0",
      "_model_name": "ButtonModel",
      "_view_count": null,
      "_view_module": "@jupyter-widgets/controls",
      "_view_module_version": "1.5.0",
      "_view_name": "ButtonView",
      "button_style": "",
      "description": "Hide solution",
      "disabled": false,
      "icon": "",
      "layout": "IPY_MODEL_faee3b2254424bec940a05a399c1bba3",
      "style": "IPY_MODEL_404b19a27da84356b97eda9f02d5f0b1",
      "tooltip": ""
     }
    },
    "fc200e2beee1445e884e6f01c32fd120": {
     "model_module": "@jupyter-widgets/controls",
     "model_module_version": "1.5.0",
     "model_name": "ButtonModel",
     "state": {
      "_dom_classes": [],
      "_model_module": "@jupyter-widgets/controls",
      "_model_module_version": "1.5.0",
      "_model_name": "ButtonModel",
      "_view_count": null,
      "_view_module": "@jupyter-widgets/controls",
      "_view_module_version": "1.5.0",
      "_view_name": "ButtonView",
      "button_style": "",
      "description": "Hide solution",
      "disabled": false,
      "icon": "",
      "layout": "IPY_MODEL_0e44f0b9ea384e7785eda1e82aa77910",
      "style": "IPY_MODEL_31bb07880690436ba267d96572586d6a",
      "tooltip": ""
     }
    },
    "fc572db346b34f2dbb15a49dd058ad37": {
     "model_module": "@jupyter-widgets/controls",
     "model_module_version": "1.5.0",
     "model_name": "ButtonModel",
     "state": {
      "_dom_classes": [],
      "_model_module": "@jupyter-widgets/controls",
      "_model_module_version": "1.5.0",
      "_model_name": "ButtonModel",
      "_view_count": null,
      "_view_module": "@jupyter-widgets/controls",
      "_view_module_version": "1.5.0",
      "_view_name": "ButtonView",
      "button_style": "",
      "description": "Hide solution",
      "disabled": false,
      "icon": "",
      "layout": "IPY_MODEL_1e3f3cb7ad0b4c318eb38e79378da925",
      "style": "IPY_MODEL_8b1f3379098e45cd9ce155d90c4b1dcd",
      "tooltip": ""
     }
    },
    "fd2d3af0de60403ab2166d5dba319024": {
     "model_module": "@jupyter-widgets/base",
     "model_module_version": "1.2.0",
     "model_name": "LayoutModel",
     "state": {
      "_model_module": "@jupyter-widgets/base",
      "_model_module_version": "1.2.0",
      "_model_name": "LayoutModel",
      "_view_count": null,
      "_view_module": "@jupyter-widgets/base",
      "_view_module_version": "1.2.0",
      "_view_name": "LayoutView",
      "align_content": null,
      "align_items": null,
      "align_self": null,
      "border": null,
      "bottom": null,
      "display": null,
      "flex": null,
      "flex_flow": null,
      "grid_area": null,
      "grid_auto_columns": null,
      "grid_auto_flow": null,
      "grid_auto_rows": null,
      "grid_column": null,
      "grid_gap": null,
      "grid_row": null,
      "grid_template_areas": null,
      "grid_template_columns": null,
      "grid_template_rows": null,
      "height": null,
      "justify_content": null,
      "justify_items": null,
      "left": null,
      "margin": null,
      "max_height": null,
      "max_width": null,
      "min_height": null,
      "min_width": null,
      "object_fit": null,
      "object_position": null,
      "order": null,
      "overflow": null,
      "overflow_x": null,
      "overflow_y": null,
      "padding": null,
      "right": null,
      "top": null,
      "visibility": null,
      "width": null
     }
    },
    "fdf7bb86c04c48ffb0ee426bfec82f7e": {
     "model_module": "@jupyter-widgets/controls",
     "model_module_version": "1.5.0",
     "model_name": "ButtonStyleModel",
     "state": {
      "_model_module": "@jupyter-widgets/controls",
      "_model_module_version": "1.5.0",
      "_model_name": "ButtonStyleModel",
      "_view_count": null,
      "_view_module": "@jupyter-widgets/base",
      "_view_module_version": "1.2.0",
      "_view_name": "StyleView",
      "button_color": null,
      "font_weight": ""
     }
    },
    "ffd2ce5df9964cf380518c13cd82fd86": {
     "model_module": "@jupyter-widgets/base",
     "model_module_version": "1.2.0",
     "model_name": "LayoutModel",
     "state": {
      "_model_module": "@jupyter-widgets/base",
      "_model_module_version": "1.2.0",
      "_model_name": "LayoutModel",
      "_view_count": null,
      "_view_module": "@jupyter-widgets/base",
      "_view_module_version": "1.2.0",
      "_view_name": "LayoutView",
      "align_content": null,
      "align_items": null,
      "align_self": null,
      "border": null,
      "bottom": null,
      "display": null,
      "flex": null,
      "flex_flow": null,
      "grid_area": null,
      "grid_auto_columns": null,
      "grid_auto_flow": null,
      "grid_auto_rows": null,
      "grid_column": null,
      "grid_gap": null,
      "grid_row": null,
      "grid_template_areas": null,
      "grid_template_columns": null,
      "grid_template_rows": null,
      "height": null,
      "justify_content": null,
      "justify_items": null,
      "left": null,
      "margin": null,
      "max_height": null,
      "max_width": null,
      "min_height": null,
      "min_width": null,
      "object_fit": null,
      "object_position": null,
      "order": null,
      "overflow": null,
      "overflow_x": null,
      "overflow_y": null,
      "padding": null,
      "right": null,
      "top": null,
      "visibility": null,
      "width": null
     }
    }
   }
  }
 },
 "nbformat": 4,
 "nbformat_minor": 5
}
