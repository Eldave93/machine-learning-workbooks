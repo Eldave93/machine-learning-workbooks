{
 "cells": [
  {
   "cell_type": "markdown",
   "id": "residential-soccer",
   "metadata": {
    "id": "residential-soccer"
   },
   "source": [
    "# Workbook 01 - End-to-End Machine Learning\n",
    "\n",
    "by [Dr. David Elliott](https://eldave93.netlify.app/)\n",
    "\n",
    "1. [Workspace Setup](#setup)\n",
    "\n",
    "2. [Problem Understanding](#problem)\n",
    "\n",
    "3. [Exploratory Data Analysis](#eda)\n",
    "\n",
    "4. [Data Pre-Processing](#prep)\n",
    "\n",
    "5. [Model Exploration](#explore)\n",
    "\n",
    "6. [Model Refinement](#refine)\n",
    "\n",
    "7. [Solution Presentation](#pres)\n",
    "\n",
    "8. [Deployment](#deploy)\n",
    "\n",
    "9. [Summary](#sum)\n",
    "\n",
    "10. [Extra](#extra)"
   ]
  },
  {
   "cell_type": "markdown",
   "id": "welcome-battery",
   "metadata": {
    "id": "welcome-battery"
   },
   "source": [
    "To kick start this series of workbooks we are going to walk through an end-to-end machine learning project! \n",
    "\n",
    "Don't worry about understanding all the specifics just yet, we'll be delving deeper into a lot of what is covered here later. Instead the aim here is to get a broad overview of how an ML project looks and to get some experience playing around with some of the techniques that we will learn more of in later workbooks.\n",
    "\n",
    "You will find that in a lot of cases you won't need to write much code to answer the exercises (we're just getting started after all!), but there are some \"extra\" questions that require a bit more for those who want more of a stretch. Also as a lot of stuff will be new this week, there is a lot of written text here to help guide you along!\n",
    "\n",
    "To engage with the workbook material, it is assumed that you have some knowledge of data manipulation and visualisation in Python from previous experience and courses."
   ]
  },
  {
   "cell_type": "markdown",
   "id": "sufficient-allocation",
   "metadata": {
    "id": "sufficient-allocation"
   },
   "source": [
    "This workbook will broadly use the CRoss Industry Standard Process for Data Mining (CRISP-DM) approach for our data science project. CRISP-DM is [most common process](https://www.datascience-pm.com/crisp-dm-still-most-popular/) for data mining, analytics, and data science projects (see [here](https://www.datascience-pm.com/crisp-dm-2/) fo details).\n",
    "\n",
    "Indeed, a good general [\"Machine Learning Project Checklist\"](https://github.com/ageron/handson-ml/blob/master/ml-project-checklist.md) from Geron (2019) can be used as a stucture:\n",
    "> - Frame the problem and look at the big picture.\n",
    "> - Get the data.\n",
    "> - Explore the data and gain insights.\n",
    "> - Prepare the data to better expose the underlying data patterns to Machine Learning algorithms.\n",
    "> - Explore many different models and shortlist the best ones.\n",
    "> - Fine-tune your models and combine them into a great solution.\n",
    "> - Present your solution.\n",
    "> - Launch, monitor, and mantain your system.\n",
    "\n",
    "We will cover a number of them today."
   ]
  },
  {
   "cell_type": "markdown",
   "id": "distinct-lobby",
   "metadata": {
    "id": "distinct-lobby"
   },
   "source": [
    "# 1. Workspace Setup <a id='setup'></a>\n",
    "Before downloading any data we should think about our workspace. It is assumed if you have made it this far you have already got your workspace setup. There are two ways of using these notebooks. The first is to use Google Colab, which is a website that allows you to write and execute python code through the browser. The second is a local workspace (e.g. Anaconda)."
   ]
  },
  {
   "cell_type": "markdown",
   "id": "TOFtLcQhWzLh",
   "metadata": {
    "id": "TOFtLcQhWzLh"
   },
   "source": [
    "## 1.A. Google Colab\n",
    "If you are using google colab then you can follow the below instructions to get setup.\n",
    "\n",
    "First lets check if you are actually using google colab."
   ]
  },
  {
   "cell_type": "code",
   "execution_count": 1,
   "id": "VHHZ2IP2KbZZ",
   "metadata": {
    "id": "VHHZ2IP2KbZZ"
   },
   "outputs": [],
   "source": [
    "try:\n",
    "    import google.colab\n",
    "    COLAB=True\n",
    "    \n",
    "    # set the week code\n",
    "    WORKSHOP_NAME = \"01-end_to_end\"\n",
    "    # set the folder name\n",
    "    FOLDER_NAME = \"machine-learning-workbooks-main\"\n",
    "except:\n",
    "    COLAB=False"
   ]
  },
  {
   "cell_type": "markdown",
   "id": "BJH5fbRXMuW5",
   "metadata": {
    "id": "BJH5fbRXMuW5"
   },
   "source": [
    "If using colab we will first need to have the libaries for the runtime and files associated with this workbook uploaded to the temporary file store. The below code will do this for you."
   ]
  },
  {
   "cell_type": "code",
   "execution_count": 2,
   "id": "6EClwLu7kPHM",
   "metadata": {
    "colab": {
     "base_uri": "https://localhost:8080/"
    },
    "id": "6EClwLu7kPHM",
    "outputId": "2123f6d4-33e1-4a8d-f51b-4d7d84829a58"
   },
   "outputs": [
    {
     "name": "stdout",
     "output_type": "stream",
     "text": [
      "Colab is not being used\n"
     ]
    }
   ],
   "source": [
    "if COLAB:\n",
    "    import os\n",
    "    import sys\n",
    "\n",
    "    # check if the environment is already setup to avoid repeating this after \n",
    "    # restarting the runtime\n",
    "    if not os.path.exists(FOLDER_NAME):\n",
    "        # get the zip of the workbooks\n",
    "        !wget https://github.com/Eldave93/machine-learning-workbooks/archive/refs/heads/main.zip\n",
    "        # unzip the file\n",
    "        !unzip main.zip\n",
    "        # install the libaries\n",
    "        !{sys.executable} -m pip install -r ./{FOLDER_NAME}/scripts/requirements.txt\n",
    "          \n",
    "    print(\"Setting working directory to:\")\n",
    "    %cd ./{FOLDER_NAME}/{WORKSHOP_NAME}\n",
    "\n",
    "else:\n",
    "    print(\"Colab is not being used\")"
   ]
  },
  {
   "cell_type": "markdown",
   "id": "tSMNDWtZJViB",
   "metadata": {
    "id": "tSMNDWtZJViB"
   },
   "source": [
    "As seen above, I automatically set the working directory to be a local version of the workshop repository. This is so all the data, images, and scripts for displaying the solutions works. This is located on the temporary file store associated with this colabs runtime. \n",
    "\n",
    "__Required:__ Now make sure to restart the runtime after installing to ensure everything works correctly (Runtime > Restart runtime)."
   ]
  },
  {
   "cell_type": "markdown",
   "id": "b249c578",
   "metadata": {},
   "source": [
    "## 1.1. Packages\n",
    "\n",
    "If your using a local workspace you will need all the following packages to run this notebook. If you do not already have them, or you want to ensure you are using the same versions as used when created, you could run `!{sys.executable} -m pip install -r ../scripts/requirements.txt` to install them for you."
   ]
  },
  {
   "cell_type": "code",
   "execution_count": 3,
   "id": "33d44716",
   "metadata": {},
   "outputs": [],
   "source": [
    "import numpy as np\n",
    "import pandas as pd\n",
    "import seaborn as sns\n",
    "import matplotlib.pyplot as plt\n",
    "import sklearn\n",
    "import imblearn\n",
    "import sys\n",
    "\n",
    "sys.path.append('../scripts') # add scripts to the path for use later\n",
    "sns.set(rc={'figure.figsize': (14, 8)}) # For plot sizes"
   ]
  },
  {
   "cell_type": "markdown",
   "id": "minus-nickel",
   "metadata": {
    "id": "minus-nickel"
   },
   "source": [
    "## 1.2. Displaying solutions\n",
    "\n",
    "The solutions are activated using a new .txt file which can be put in the workbook folder (e.g. `01-end_to_end`). Please put in a request for access.\n",
    "\n",
    "If you have access to the solutions, the following cell will create clickable buttons under each exercise, which will allow you to reveal the solutions.\n",
    "\n",
    "__TODO__\n",
    "- Add a way of pointing to a different folder\n",
    "\n",
    "__Notes__\n",
    "\n",
    "- This method was created by [Charlotte Desvages](https://charlottedesvages.com/).\n",
    "- This may not work if you don't have the same version of `IPython.display` as the machine that created them:\n",
    "    ```\n",
    "    ImportError: cannot import name 'Code' from 'IPython.display' (/usr/local/lib/python3.7/dist-packages/IPython/display.py)\n",
    "    ```\n",
    "    If so run the auto-install as suggested above or manually run `!pip install ipython==7.20`."
   ]
  },
  {
   "cell_type": "code",
   "execution_count": 4,
   "id": "loving-niger",
   "metadata": {
    "colab": {
     "base_uri": "https://localhost:8080/",
     "height": 34,
     "resources": {
      "http://localhost:8080/scripts/create_widgets.js": {
       "data": "CjwhRE9DVFlQRSBodG1sPgo8aHRtbCBsYW5nPWVuPgogIDxtZXRhIGNoYXJzZXQ9dXRmLTg+CiAgPG1ldGEgbmFtZT12aWV3cG9ydCBjb250ZW50PSJpbml0aWFsLXNjYWxlPTEsIG1pbmltdW0tc2NhbGU9MSwgd2lkdGg9ZGV2aWNlLXdpZHRoIj4KICA8dGl0bGU+RXJyb3IgNDA0IChOb3QgRm91bmQpISExPC90aXRsZT4KICA8c3R5bGU+CiAgICAqe21hcmdpbjowO3BhZGRpbmc6MH1odG1sLGNvZGV7Zm9udDoxNXB4LzIycHggYXJpYWwsc2Fucy1zZXJpZn1odG1se2JhY2tncm91bmQ6I2ZmZjtjb2xvcjojMjIyO3BhZGRpbmc6MTVweH1ib2R5e21hcmdpbjo3JSBhdXRvIDA7bWF4LXdpZHRoOjM5MHB4O21pbi1oZWlnaHQ6MTgwcHg7cGFkZGluZzozMHB4IDAgMTVweH0qID4gYm9keXtiYWNrZ3JvdW5kOnVybCgvL3d3dy5nb29nbGUuY29tL2ltYWdlcy9lcnJvcnMvcm9ib3QucG5nKSAxMDAlIDVweCBuby1yZXBlYXQ7cGFkZGluZy1yaWdodDoyMDVweH1we21hcmdpbjoxMXB4IDAgMjJweDtvdmVyZmxvdzpoaWRkZW59aW5ze2NvbG9yOiM3Nzc7dGV4dC1kZWNvcmF0aW9uOm5vbmV9YSBpbWd7Ym9yZGVyOjB9QG1lZGlhIHNjcmVlbiBhbmQgKG1heC13aWR0aDo3NzJweCl7Ym9keXtiYWNrZ3JvdW5kOm5vbmU7bWFyZ2luLXRvcDowO21heC13aWR0aDpub25lO3BhZGRpbmctcmlnaHQ6MH19I2xvZ297YmFja2dyb3VuZDp1cmwoLy93d3cuZ29vZ2xlLmNvbS9pbWFnZXMvbG9nb3MvZXJyb3JwYWdlL2Vycm9yX2xvZ28tMTUweDU0LnBuZykgbm8tcmVwZWF0O21hcmdpbi1sZWZ0Oi01cHh9QG1lZGlhIG9ubHkgc2NyZWVuIGFuZCAobWluLXJlc29sdXRpb246MTkyZHBpKXsjbG9nb3tiYWNrZ3JvdW5kOnVybCgvL3d3dy5nb29nbGUuY29tL2ltYWdlcy9sb2dvcy9lcnJvcnBhZ2UvZXJyb3JfbG9nby0xNTB4NTQtMngucG5nKSBuby1yZXBlYXQgMCUgMCUvMTAwJSAxMDAlOy1tb3otYm9yZGVyLWltYWdlOnVybCgvL3d3dy5nb29nbGUuY29tL2ltYWdlcy9sb2dvcy9lcnJvcnBhZ2UvZXJyb3JfbG9nby0xNTB4NTQtMngucG5nKSAwfX1AbWVkaWEgb25seSBzY3JlZW4gYW5kICgtd2Via2l0LW1pbi1kZXZpY2UtcGl4ZWwtcmF0aW86Mil7I2xvZ297YmFja2dyb3VuZDp1cmwoLy93d3cuZ29vZ2xlLmNvbS9pbWFnZXMvbG9nb3MvZXJyb3JwYWdlL2Vycm9yX2xvZ28tMTUweDU0LTJ4LnBuZykgbm8tcmVwZWF0Oy13ZWJraXQtYmFja2dyb3VuZC1zaXplOjEwMCUgMTAwJX19I2xvZ297ZGlzcGxheTppbmxpbmUtYmxvY2s7aGVpZ2h0OjU0cHg7d2lkdGg6MTUwcHh9CiAgPC9zdHlsZT4KICA8YSBocmVmPS8vd3d3Lmdvb2dsZS5jb20vPjxzcGFuIGlkPWxvZ28gYXJpYS1sYWJlbD1Hb29nbGU+PC9zcGFuPjwvYT4KICA8cD48Yj40MDQuPC9iPiA8aW5zPlRoYXTigJlzIGFuIGVycm9yLjwvaW5zPgogIDxwPiAgPGlucz5UaGF04oCZcyBhbGwgd2Uga25vdy48L2lucz4K",
       "headers": [
        [
         "content-length",
         "1449"
        ],
        [
         "content-type",
         "text/html; charset=utf-8"
        ]
       ],
       "ok": false,
       "status": 404,
       "status_text": ""
      }
     }
    },
    "id": "loving-niger",
    "outputId": "1654dd4b-3af8-4004-f770-3ce6e59f664e",
    "scrolled": true
   },
   "outputs": [
    {
     "name": "stdout",
     "output_type": "stream",
     "text": [
      "Solutions .txt file not found!\n"
     ]
    }
   ],
   "source": [
    "%run ../scripts/create_widgets.py 01"
   ]
  },
  {
   "cell_type": "markdown",
   "id": "completed-chile",
   "metadata": {
    "id": "completed-chile"
   },
   "source": [
    "---\n",
    "\n",
    "# 2. Problem Understanding <a id='problem'></a>\n",
    "\n",
    "Lets start by examining an example problem based on [previous research](https://www.sciencedirect.com/science/article/abs/pii/S0167923609001377?via%3Dihub).\n",
    "\n",
    "You have been hired by a Portugese wine company that is looking to invest in new technologies for its wine making and selling processes. They are looking to make a _\"vinho verde\"_ (commonly a white or red wine) and are intested in developing models that can be used to improve their wine making (by identifying the most influential factors) and to stratify their wines (useful for setting prices). For the sake of this workbook we are going to focus on the latter problem, although you may want to come back to try tackle finding influential factors after doing some of the later workbooks.\n",
    "\n",
    "From this description we have our objectives. At this stage, if working with a client on the project, we may want to discuss in broad terms some additional points. \n",
    "\n",
    "### 🚩 Exercise 1\n",
    "\n",
    "Below write some questions you may want to ask your client."
   ]
  },
  {
   "cell_type": "markdown",
   "id": "461cbcbe",
   "metadata": {},
   "source": []
  },
  {
   "cell_type": "code",
   "execution_count": 5,
   "id": "15cbd4b4",
   "metadata": {},
   "outputs": [
    {
     "data": {
      "application/vnd.jupyter.widget-view+json": {
       "model_id": "95346ac522af4278ba07974adaac7a20",
       "version_major": 2,
       "version_minor": 0
      },
      "text/plain": [
       "Button(description='Reveal solution', style=ButtonStyle())"
      ]
     },
     "metadata": {},
     "output_type": "display_data"
    },
    {
     "data": {
      "application/vnd.jupyter.widget-view+json": {
       "model_id": "a10abba833374246b74af2c7e5b37548",
       "version_major": 2,
       "version_minor": 0
      },
      "text/plain": [
       "Output(layout=Layout(border='1px solid green'))"
      ]
     },
     "metadata": {},
     "output_type": "display_data"
    }
   ],
   "source": [
    "%run ../scripts/show_solutions.py 01_ex1"
   ]
  },
  {
   "cell_type": "markdown",
   "id": "fifteen-niagara",
   "metadata": {
    "id": "fifteen-niagara"
   },
   "source": [
    "## 2.1. Data Download\n",
    "First we need to get our hands on some data. In this case we are going to use The Wine Quality dataset from the UCI website (https://archive.ics.uci.edu/ml/datasets/wine+quality). As this data comes from [previous research](https://www.sciencedirect.com/science/article/abs/pii/S0167923609001377?via%3Dihub) it is already in quite a nice state. In other cases there may be a number of other preparatory stages you may need to go through.\n",
    "\n",
    "To download the data is straight-forward, we could just get it from the UCI website directly:\n",
    "\n",
    "```\n",
    "df_red = pd.read_csv(\"https://archive.ics.uci.edu/ml/machine-learning-databases/wine-quality/winequality-red.csv\", delimiter=\";\")\n",
    "```\n",
    "\n",
    "...or we can just read it from the \"Data\" folder I've included.\n",
    "\n",
    "__Notes__\n",
    "- I decided to use this dataset as its very popular. You can find 100's of notebooks online that work with this data so its a good one to get started and improve your skills with."
   ]
  },
  {
   "cell_type": "code",
   "execution_count": 6,
   "id": "b6d026c7",
   "metadata": {
    "colab": {
     "base_uri": "https://localhost:8080/",
     "height": 206
    },
    "id": "cordless-grenada",
    "outputId": "0ce13b63-2426-49a6-daf5-9d689a27e401"
   },
   "outputs": [
    {
     "data": {
      "text/html": [
       "<div>\n",
       "<style scoped>\n",
       "    .dataframe tbody tr th:only-of-type {\n",
       "        vertical-align: middle;\n",
       "    }\n",
       "\n",
       "    .dataframe tbody tr th {\n",
       "        vertical-align: top;\n",
       "    }\n",
       "\n",
       "    .dataframe thead th {\n",
       "        text-align: right;\n",
       "    }\n",
       "</style>\n",
       "<table border=\"1\" class=\"dataframe\">\n",
       "  <thead>\n",
       "    <tr style=\"text-align: right;\">\n",
       "      <th></th>\n",
       "      <th>fixed acidity</th>\n",
       "      <th>volatile acidity</th>\n",
       "      <th>citric acid</th>\n",
       "      <th>residual sugar</th>\n",
       "      <th>chlorides</th>\n",
       "      <th>free sulfur dioxide</th>\n",
       "      <th>total sulfur dioxide</th>\n",
       "      <th>density</th>\n",
       "      <th>pH</th>\n",
       "      <th>sulphates</th>\n",
       "      <th>alcohol</th>\n",
       "      <th>quality</th>\n",
       "    </tr>\n",
       "  </thead>\n",
       "  <tbody>\n",
       "    <tr>\n",
       "      <th>0</th>\n",
       "      <td>7.4</td>\n",
       "      <td>0.70</td>\n",
       "      <td>0.00</td>\n",
       "      <td>1.9</td>\n",
       "      <td>0.076</td>\n",
       "      <td>11.0</td>\n",
       "      <td>34.0</td>\n",
       "      <td>0.9978</td>\n",
       "      <td>3.51</td>\n",
       "      <td>0.56</td>\n",
       "      <td>9.4</td>\n",
       "      <td>5</td>\n",
       "    </tr>\n",
       "    <tr>\n",
       "      <th>1</th>\n",
       "      <td>7.8</td>\n",
       "      <td>0.88</td>\n",
       "      <td>0.00</td>\n",
       "      <td>2.6</td>\n",
       "      <td>0.098</td>\n",
       "      <td>25.0</td>\n",
       "      <td>67.0</td>\n",
       "      <td>0.9968</td>\n",
       "      <td>3.20</td>\n",
       "      <td>0.68</td>\n",
       "      <td>9.8</td>\n",
       "      <td>5</td>\n",
       "    </tr>\n",
       "    <tr>\n",
       "      <th>2</th>\n",
       "      <td>7.8</td>\n",
       "      <td>0.76</td>\n",
       "      <td>0.04</td>\n",
       "      <td>2.3</td>\n",
       "      <td>0.092</td>\n",
       "      <td>15.0</td>\n",
       "      <td>54.0</td>\n",
       "      <td>0.9970</td>\n",
       "      <td>3.26</td>\n",
       "      <td>0.65</td>\n",
       "      <td>9.8</td>\n",
       "      <td>5</td>\n",
       "    </tr>\n",
       "    <tr>\n",
       "      <th>3</th>\n",
       "      <td>11.2</td>\n",
       "      <td>0.28</td>\n",
       "      <td>0.56</td>\n",
       "      <td>1.9</td>\n",
       "      <td>0.075</td>\n",
       "      <td>17.0</td>\n",
       "      <td>60.0</td>\n",
       "      <td>0.9980</td>\n",
       "      <td>3.16</td>\n",
       "      <td>0.58</td>\n",
       "      <td>9.8</td>\n",
       "      <td>6</td>\n",
       "    </tr>\n",
       "    <tr>\n",
       "      <th>4</th>\n",
       "      <td>7.4</td>\n",
       "      <td>0.70</td>\n",
       "      <td>0.00</td>\n",
       "      <td>1.9</td>\n",
       "      <td>0.076</td>\n",
       "      <td>11.0</td>\n",
       "      <td>34.0</td>\n",
       "      <td>0.9978</td>\n",
       "      <td>3.51</td>\n",
       "      <td>0.56</td>\n",
       "      <td>9.4</td>\n",
       "      <td>5</td>\n",
       "    </tr>\n",
       "  </tbody>\n",
       "</table>\n",
       "</div>"
      ],
      "text/plain": [
       "   fixed acidity  volatile acidity  citric acid  residual sugar  chlorides  \\\n",
       "0            7.4              0.70         0.00             1.9      0.076   \n",
       "1            7.8              0.88         0.00             2.6      0.098   \n",
       "2            7.8              0.76         0.04             2.3      0.092   \n",
       "3           11.2              0.28         0.56             1.9      0.075   \n",
       "4            7.4              0.70         0.00             1.9      0.076   \n",
       "\n",
       "   free sulfur dioxide  total sulfur dioxide  density    pH  sulphates  \\\n",
       "0                 11.0                  34.0   0.9978  3.51       0.56   \n",
       "1                 25.0                  67.0   0.9968  3.20       0.68   \n",
       "2                 15.0                  54.0   0.9970  3.26       0.65   \n",
       "3                 17.0                  60.0   0.9980  3.16       0.58   \n",
       "4                 11.0                  34.0   0.9978  3.51       0.56   \n",
       "\n",
       "   alcohol  quality  \n",
       "0      9.4        5  \n",
       "1      9.8        5  \n",
       "2      9.8        5  \n",
       "3      9.8        6  \n",
       "4      9.4        5  "
      ]
     },
     "execution_count": 6,
     "metadata": {},
     "output_type": "execute_result"
    }
   ],
   "source": [
    "df_red = pd.read_csv(\"./Data/winequality-red.csv\", \n",
    "                     delimiter=\";\")\n",
    "df_red.head()"
   ]
  },
  {
   "cell_type": "markdown",
   "id": "332aebda",
   "metadata": {},
   "source": [
    "Hopefully by now you should have a pretty good idea what we consider as data. Data can come in a broad range of forms encompassing a collection of discrete objects, numbers, words, events, facts, measurements, observations, or even descriptions of things.\n",
    "\n",
    "Lets start by looking at what variables we have in our data to work with."
   ]
  },
  {
   "cell_type": "code",
   "execution_count": 7,
   "id": "decreased-address",
   "metadata": {
    "colab": {
     "base_uri": "https://localhost:8080/"
    },
    "id": "decreased-address",
    "outputId": "8d4bb723-848f-461b-f4ce-f0d5df4b2c58"
   },
   "outputs": [
    {
     "data": {
      "text/plain": [
       "Index(['fixed acidity', 'volatile acidity', 'citric acid', 'residual sugar',\n",
       "       'chlorides', 'free sulfur dioxide', 'total sulfur dioxide', 'density',\n",
       "       'pH', 'sulphates', 'alcohol', 'quality'],\n",
       "      dtype='object')"
      ]
     },
     "execution_count": 7,
     "metadata": {},
     "output_type": "execute_result"
    }
   ],
   "source": [
    "df_red.columns"
   ]
  },
  {
   "cell_type": "markdown",
   "id": "precise-contractor",
   "metadata": {
    "id": "precise-contractor"
   },
   "source": [
    "Below is a __Data Dictionary__ which describes what each feature represents. Have a read through but for the sake of this workbook you don't need to worry about understanding the precise details.\n",
    "\n",
    "> - `fixed acidity`: It indicates the amount of tartaric acid in wine and is measured in g/dm$^3$.\n",
    "> - `volatile acidity`: It indicates the amount of acetic acid in the wine. It is measured in g/dm3.\n",
    "> - `citric acid`: It indicates the amount of citric acid in the wine. It is also measured in g/dm3.\n",
    "> - `residual sugar`: It indicates the amount of sugar left in the wine after the fermentation process is done. It is also measured in g/dm3.\n",
    "> - `free sulfur dioxide`: It measures the amount of sulfur dioxide (SO2) in free form. It is also measured in g/dm3. \n",
    "> - `total sulfur dioxide`: It measures the total amount of SO2 in the wine. This chemical works as an antioxidant and antimicrobial agent.\n",
    "> - `density`: It indicates the density of the wine and is measured in g/dm3.\n",
    "> - `pH`: It indicates the pH value of the wine. The range of value is between 0 to 14.0, which indicates very high acidity, and 14 indicates basic acidity. \n",
    "> - `sulphates`: It indicates the amount of potassium sulphate in the wine. It is also measured in g/dm3.\n",
    "> - `alcohol`: It indicates the alcohol content in the wine. \n",
    "> - `quality`: It indicates the quality of the wine, which is ranged from 1 to 10. Here, the higher the value is, the better the wine.\n",
    "\n",
    "Mukhiya, S. K., & Ahmed, U. (2020). Hands-On Exploratory Data Analysis with Python."
   ]
  },
  {
   "cell_type": "markdown",
   "id": "d0fb333c",
   "metadata": {},
   "source": [
    "So from the data we have, our aim is to create something that can take the attributes (`fixed acidity`...`alcohol`) and give us a prediction of the wine `quality`."
   ]
  },
  {
   "cell_type": "code",
   "execution_count": 8,
   "id": "ced8dd14",
   "metadata": {},
   "outputs": [],
   "source": [
    "output = \"quality\""
   ]
  },
  {
   "cell_type": "markdown",
   "id": "9106a2b7",
   "metadata": {},
   "source": [
    "To do this we need to learn from the data we have available to us (already labeled for quality) so in the future we can test lots of new formulations without needing to hire experts to grade the wine quality between 0 (very bad) and 10 (very excellent) to help us price it. So for example, say we have measured the following attributes from a new wine formulation:"
   ]
  },
  {
   "cell_type": "code",
   "execution_count": 9,
   "id": "151c5b2d",
   "metadata": {},
   "outputs": [
    {
     "data": {
      "text/html": [
       "<div>\n",
       "<style scoped>\n",
       "    .dataframe tbody tr th:only-of-type {\n",
       "        vertical-align: middle;\n",
       "    }\n",
       "\n",
       "    .dataframe tbody tr th {\n",
       "        vertical-align: top;\n",
       "    }\n",
       "\n",
       "    .dataframe thead th {\n",
       "        text-align: right;\n",
       "    }\n",
       "</style>\n",
       "<table border=\"1\" class=\"dataframe\">\n",
       "  <thead>\n",
       "    <tr style=\"text-align: right;\">\n",
       "      <th></th>\n",
       "      <th>fixed acidity</th>\n",
       "      <th>volatile acidity</th>\n",
       "      <th>citric acid</th>\n",
       "      <th>residual sugar</th>\n",
       "      <th>chlorides</th>\n",
       "      <th>free sulfur dioxide</th>\n",
       "      <th>total sulfur dioxide</th>\n",
       "      <th>density</th>\n",
       "      <th>pH</th>\n",
       "      <th>sulphates</th>\n",
       "      <th>alcohol</th>\n",
       "    </tr>\n",
       "  </thead>\n",
       "  <tbody>\n",
       "    <tr>\n",
       "      <th>547</th>\n",
       "      <td>10.6</td>\n",
       "      <td>0.31</td>\n",
       "      <td>0.49</td>\n",
       "      <td>2.5</td>\n",
       "      <td>0.067</td>\n",
       "      <td>6.0</td>\n",
       "      <td>21.0</td>\n",
       "      <td>0.9987</td>\n",
       "      <td>3.26</td>\n",
       "      <td>0.86</td>\n",
       "      <td>10.7</td>\n",
       "    </tr>\n",
       "  </tbody>\n",
       "</table>\n",
       "</div>"
      ],
      "text/plain": [
       "     fixed acidity  volatile acidity  citric acid  residual sugar  chlorides  \\\n",
       "547           10.6              0.31         0.49             2.5      0.067   \n",
       "\n",
       "     free sulfur dioxide  total sulfur dioxide  density    pH  sulphates  \\\n",
       "547                  6.0                  21.0   0.9987  3.26       0.86   \n",
       "\n",
       "     alcohol  \n",
       "547     10.7  "
      ]
     },
     "execution_count": 9,
     "metadata": {},
     "output_type": "execute_result"
    }
   ],
   "source": [
    "# set the random seed so the same example is selected each time\n",
    "np.random.seed(43)\n",
    "\n",
    "# select a random wine example\n",
    "example = df_red.sample()\n",
    "\n",
    "# remove our `quality` attribute\n",
    "X_example = example.drop(output, axis=1)\n",
    "\n",
    "X_example"
   ]
  },
  {
   "cell_type": "markdown",
   "id": "a80f21d8",
   "metadata": {},
   "source": [
    "The aim for this workbook is to create a model (e.g. `example_reg_pipe`) that we can input the above information in and make a prediction..."
   ]
  },
  {
   "cell_type": "code",
   "execution_count": 10,
   "id": "206abb3a",
   "metadata": {},
   "outputs": [
    {
     "data": {
      "text/plain": [
       "array([6.])"
      ]
     },
     "execution_count": 10,
     "metadata": {},
     "output_type": "execute_result"
    }
   ],
   "source": [
    "# this is just a bit of code I wrote to create a trained model\n",
    "from helper_functions import create_example_model\n",
    "\n",
    "# Don't worry about understanding this line of code - you will learn how to create your\n",
    "# own `reg_pipe` without using `create_example_model` as this is just an example so you\n",
    "# don't need to see the code that went into making this model yet.\n",
    "example_reg_pipe = create_example_model(df_red.drop(example.index[0]), output)\n",
    "\n",
    "# make a prediction with our model (rounded)\n",
    "example_reg_pipe.predict(X_example).round()"
   ]
  },
  {
   "cell_type": "markdown",
   "id": "beeb9c6f",
   "metadata": {},
   "source": [
    "So the model above has made a prediction that a wine with those attributes would be graded 6/10. Now because in this case we have had an expert grade this wine lets see how well our model did to predict the experts grading. What did the expert grade it as..."
   ]
  },
  {
   "cell_type": "code",
   "execution_count": 11,
   "id": "778c1138",
   "metadata": {},
   "outputs": [
    {
     "data": {
      "text/plain": [
       "547    6\n",
       "Name: quality, dtype: int64"
      ]
     },
     "execution_count": 11,
     "metadata": {},
     "output_type": "execute_result"
    }
   ],
   "source": [
    "example.loc[:,output]"
   ]
  },
  {
   "cell_type": "markdown",
   "id": "7f97c05f",
   "metadata": {},
   "source": [
    "Spot on, Well done model! It was able to predict what the wine expert would grade the wine without ever seeing this specific combination of attributes before.\n",
    "\n",
    "Right now lets have a look at how we can make our own model to do this (essentially what I did inside the function `create_example_model`)!"
   ]
  },
  {
   "cell_type": "markdown",
   "id": "polished-dispatch",
   "metadata": {
    "id": "polished-dispatch"
   },
   "source": [
    "---\n",
    "\n",
    "# 3. Exploratory Data Analysis <a id='eda'></a>\n",
    "\n",
    "In this section we are going to start with exploring the wine data.\n",
    "\n",
    "Processing data using exploratory data analysis (EDA) can elicit useful information and knowledge by examining the available dataset to discover patterns, spot anomalies, test hypotheses, and check assumptions using statistical measures. \n",
    "\n",
    "However, before doing anything lets do something very important first - split our data into training and test sets. It is important to do it early on (before looking into the data too much) as we may end up focusing on specific patterns in our data which lead us to build/focus on models that do not work well on new data. If we do this, we will not have a good idea of how our model will perform in practice (generalisability). So we only want to work with our \"training\" data, and at the very end when we are happy with our model, have a look at its performance on the \"test\" data."
   ]
  },
  {
   "cell_type": "code",
   "execution_count": 12,
   "id": "worldwide-baseline",
   "metadata": {
    "colab": {
     "base_uri": "https://localhost:8080/",
     "height": 206
    },
    "id": "worldwide-baseline",
    "outputId": "b5d0c2fb-32c2-4c97-a820-14ce7daa3551"
   },
   "outputs": [
    {
     "data": {
      "text/html": [
       "<div>\n",
       "<style scoped>\n",
       "    .dataframe tbody tr th:only-of-type {\n",
       "        vertical-align: middle;\n",
       "    }\n",
       "\n",
       "    .dataframe tbody tr th {\n",
       "        vertical-align: top;\n",
       "    }\n",
       "\n",
       "    .dataframe thead th {\n",
       "        text-align: right;\n",
       "    }\n",
       "</style>\n",
       "<table border=\"1\" class=\"dataframe\">\n",
       "  <thead>\n",
       "    <tr style=\"text-align: right;\">\n",
       "      <th></th>\n",
       "      <th>fixed acidity</th>\n",
       "      <th>volatile acidity</th>\n",
       "      <th>citric acid</th>\n",
       "      <th>residual sugar</th>\n",
       "      <th>chlorides</th>\n",
       "      <th>free sulfur dioxide</th>\n",
       "      <th>total sulfur dioxide</th>\n",
       "      <th>density</th>\n",
       "      <th>pH</th>\n",
       "      <th>sulphates</th>\n",
       "      <th>alcohol</th>\n",
       "      <th>quality</th>\n",
       "    </tr>\n",
       "  </thead>\n",
       "  <tbody>\n",
       "    <tr>\n",
       "      <th>493</th>\n",
       "      <td>8.7</td>\n",
       "      <td>0.690</td>\n",
       "      <td>0.31</td>\n",
       "      <td>3.0</td>\n",
       "      <td>0.086</td>\n",
       "      <td>23.0</td>\n",
       "      <td>81.0</td>\n",
       "      <td>1.00020</td>\n",
       "      <td>3.48</td>\n",
       "      <td>0.74</td>\n",
       "      <td>11.6</td>\n",
       "      <td>6</td>\n",
       "    </tr>\n",
       "    <tr>\n",
       "      <th>354</th>\n",
       "      <td>6.1</td>\n",
       "      <td>0.210</td>\n",
       "      <td>0.40</td>\n",
       "      <td>1.4</td>\n",
       "      <td>0.066</td>\n",
       "      <td>40.5</td>\n",
       "      <td>165.0</td>\n",
       "      <td>0.99120</td>\n",
       "      <td>3.25</td>\n",
       "      <td>0.59</td>\n",
       "      <td>11.9</td>\n",
       "      <td>6</td>\n",
       "    </tr>\n",
       "    <tr>\n",
       "      <th>342</th>\n",
       "      <td>10.9</td>\n",
       "      <td>0.390</td>\n",
       "      <td>0.47</td>\n",
       "      <td>1.8</td>\n",
       "      <td>0.118</td>\n",
       "      <td>6.0</td>\n",
       "      <td>14.0</td>\n",
       "      <td>0.99820</td>\n",
       "      <td>3.30</td>\n",
       "      <td>0.75</td>\n",
       "      <td>9.8</td>\n",
       "      <td>6</td>\n",
       "    </tr>\n",
       "    <tr>\n",
       "      <th>834</th>\n",
       "      <td>8.8</td>\n",
       "      <td>0.685</td>\n",
       "      <td>0.26</td>\n",
       "      <td>1.6</td>\n",
       "      <td>0.088</td>\n",
       "      <td>16.0</td>\n",
       "      <td>23.0</td>\n",
       "      <td>0.99694</td>\n",
       "      <td>3.32</td>\n",
       "      <td>0.47</td>\n",
       "      <td>9.4</td>\n",
       "      <td>5</td>\n",
       "    </tr>\n",
       "    <tr>\n",
       "      <th>705</th>\n",
       "      <td>8.4</td>\n",
       "      <td>1.035</td>\n",
       "      <td>0.15</td>\n",
       "      <td>6.0</td>\n",
       "      <td>0.073</td>\n",
       "      <td>11.0</td>\n",
       "      <td>54.0</td>\n",
       "      <td>0.99900</td>\n",
       "      <td>3.37</td>\n",
       "      <td>0.49</td>\n",
       "      <td>9.9</td>\n",
       "      <td>5</td>\n",
       "    </tr>\n",
       "  </tbody>\n",
       "</table>\n",
       "</div>"
      ],
      "text/plain": [
       "     fixed acidity  volatile acidity  citric acid  residual sugar  chlorides  \\\n",
       "493            8.7             0.690         0.31             3.0      0.086   \n",
       "354            6.1             0.210         0.40             1.4      0.066   \n",
       "342           10.9             0.390         0.47             1.8      0.118   \n",
       "834            8.8             0.685         0.26             1.6      0.088   \n",
       "705            8.4             1.035         0.15             6.0      0.073   \n",
       "\n",
       "     free sulfur dioxide  total sulfur dioxide  density    pH  sulphates  \\\n",
       "493                 23.0                  81.0  1.00020  3.48       0.74   \n",
       "354                 40.5                 165.0  0.99120  3.25       0.59   \n",
       "342                  6.0                  14.0  0.99820  3.30       0.75   \n",
       "834                 16.0                  23.0  0.99694  3.32       0.47   \n",
       "705                 11.0                  54.0  0.99900  3.37       0.49   \n",
       "\n",
       "     alcohol  quality  \n",
       "493     11.6        6  \n",
       "354     11.9        6  \n",
       "342      9.8        6  \n",
       "834      9.4        5  \n",
       "705      9.9        5  "
      ]
     },
     "execution_count": 12,
     "metadata": {},
     "output_type": "execute_result"
    }
   ],
   "source": [
    "from sklearn.model_selection import train_test_split\n",
    "train_df, test_df = train_test_split(df_red,           # data to split\n",
    "                                     test_size=0.2,    # we will leave 20% to test our models on later\n",
    "                                     random_state=42,  # make our work reproducable \n",
    "                                     shuffle=True)     # prevent data ordering affecting our model\n",
    "\n",
    "train_df.head()"
   ]
  },
  {
   "cell_type": "markdown",
   "id": "tight-leeds",
   "metadata": {
    "id": "tight-leeds"
   },
   "source": [
    "As you can see above by the index and the code, this has shuffled our data first (`shuffle=True`) and then split our data into two sets. For the sake of later functions, we'll just reset the index so it runs from 0 to the length of the set.\n",
    "\n",
    "__Note__\n",
    "- This is to prevent problems caused by the wrong use of `.loc` or `.iloc`."
   ]
  },
  {
   "cell_type": "code",
   "execution_count": 13,
   "id": "russian-compilation",
   "metadata": {
    "id": "russian-compilation"
   },
   "outputs": [
    {
     "data": {
      "text/html": [
       "<div>\n",
       "<style scoped>\n",
       "    .dataframe tbody tr th:only-of-type {\n",
       "        vertical-align: middle;\n",
       "    }\n",
       "\n",
       "    .dataframe tbody tr th {\n",
       "        vertical-align: top;\n",
       "    }\n",
       "\n",
       "    .dataframe thead th {\n",
       "        text-align: right;\n",
       "    }\n",
       "</style>\n",
       "<table border=\"1\" class=\"dataframe\">\n",
       "  <thead>\n",
       "    <tr style=\"text-align: right;\">\n",
       "      <th></th>\n",
       "      <th>fixed acidity</th>\n",
       "      <th>volatile acidity</th>\n",
       "      <th>citric acid</th>\n",
       "      <th>residual sugar</th>\n",
       "      <th>chlorides</th>\n",
       "      <th>free sulfur dioxide</th>\n",
       "      <th>total sulfur dioxide</th>\n",
       "      <th>density</th>\n",
       "      <th>pH</th>\n",
       "      <th>sulphates</th>\n",
       "      <th>alcohol</th>\n",
       "      <th>quality</th>\n",
       "    </tr>\n",
       "  </thead>\n",
       "  <tbody>\n",
       "    <tr>\n",
       "      <th>0</th>\n",
       "      <td>8.7</td>\n",
       "      <td>0.690</td>\n",
       "      <td>0.31</td>\n",
       "      <td>3.0</td>\n",
       "      <td>0.086</td>\n",
       "      <td>23.0</td>\n",
       "      <td>81.0</td>\n",
       "      <td>1.00020</td>\n",
       "      <td>3.48</td>\n",
       "      <td>0.74</td>\n",
       "      <td>11.6</td>\n",
       "      <td>6</td>\n",
       "    </tr>\n",
       "    <tr>\n",
       "      <th>1</th>\n",
       "      <td>6.1</td>\n",
       "      <td>0.210</td>\n",
       "      <td>0.40</td>\n",
       "      <td>1.4</td>\n",
       "      <td>0.066</td>\n",
       "      <td>40.5</td>\n",
       "      <td>165.0</td>\n",
       "      <td>0.99120</td>\n",
       "      <td>3.25</td>\n",
       "      <td>0.59</td>\n",
       "      <td>11.9</td>\n",
       "      <td>6</td>\n",
       "    </tr>\n",
       "    <tr>\n",
       "      <th>2</th>\n",
       "      <td>10.9</td>\n",
       "      <td>0.390</td>\n",
       "      <td>0.47</td>\n",
       "      <td>1.8</td>\n",
       "      <td>0.118</td>\n",
       "      <td>6.0</td>\n",
       "      <td>14.0</td>\n",
       "      <td>0.99820</td>\n",
       "      <td>3.30</td>\n",
       "      <td>0.75</td>\n",
       "      <td>9.8</td>\n",
       "      <td>6</td>\n",
       "    </tr>\n",
       "    <tr>\n",
       "      <th>3</th>\n",
       "      <td>8.8</td>\n",
       "      <td>0.685</td>\n",
       "      <td>0.26</td>\n",
       "      <td>1.6</td>\n",
       "      <td>0.088</td>\n",
       "      <td>16.0</td>\n",
       "      <td>23.0</td>\n",
       "      <td>0.99694</td>\n",
       "      <td>3.32</td>\n",
       "      <td>0.47</td>\n",
       "      <td>9.4</td>\n",
       "      <td>5</td>\n",
       "    </tr>\n",
       "    <tr>\n",
       "      <th>4</th>\n",
       "      <td>8.4</td>\n",
       "      <td>1.035</td>\n",
       "      <td>0.15</td>\n",
       "      <td>6.0</td>\n",
       "      <td>0.073</td>\n",
       "      <td>11.0</td>\n",
       "      <td>54.0</td>\n",
       "      <td>0.99900</td>\n",
       "      <td>3.37</td>\n",
       "      <td>0.49</td>\n",
       "      <td>9.9</td>\n",
       "      <td>5</td>\n",
       "    </tr>\n",
       "  </tbody>\n",
       "</table>\n",
       "</div>"
      ],
      "text/plain": [
       "   fixed acidity  volatile acidity  citric acid  residual sugar  chlorides  \\\n",
       "0            8.7             0.690         0.31             3.0      0.086   \n",
       "1            6.1             0.210         0.40             1.4      0.066   \n",
       "2           10.9             0.390         0.47             1.8      0.118   \n",
       "3            8.8             0.685         0.26             1.6      0.088   \n",
       "4            8.4             1.035         0.15             6.0      0.073   \n",
       "\n",
       "   free sulfur dioxide  total sulfur dioxide  density    pH  sulphates  \\\n",
       "0                 23.0                  81.0  1.00020  3.48       0.74   \n",
       "1                 40.5                 165.0  0.99120  3.25       0.59   \n",
       "2                  6.0                  14.0  0.99820  3.30       0.75   \n",
       "3                 16.0                  23.0  0.99694  3.32       0.47   \n",
       "4                 11.0                  54.0  0.99900  3.37       0.49   \n",
       "\n",
       "   alcohol  quality  \n",
       "0     11.6        6  \n",
       "1     11.9        6  \n",
       "2      9.8        6  \n",
       "3      9.4        5  \n",
       "4      9.9        5  "
      ]
     },
     "execution_count": 13,
     "metadata": {},
     "output_type": "execute_result"
    }
   ],
   "source": [
    "train_df = train_df.reset_index(drop=True)\n",
    "test_df = test_df.reset_index(drop=True)\n",
    "\n",
    "train_df.head()"
   ]
  },
  {
   "cell_type": "markdown",
   "id": "associate-seeker",
   "metadata": {
    "id": "associate-seeker"
   },
   "source": [
    "Now onto the tasks, where we will begin to get a basic understanding of the data. It is assumed you are already familiar with handling data (e.g. `pandas`, `numpy`), and visualisation (e.g. `seaborn`, `matplotlib`) in Python.\n",
    "\n",
    "__Note__\n",
    "- Remember to now use `train_df` when looking at the data and __not__ `df_red`!"
   ]
  },
  {
   "cell_type": "markdown",
   "id": "rural-ownership",
   "metadata": {
    "id": "rural-ownership"
   },
   "source": [
    "---\n",
    "\n",
    "### 🚩 Exercise 2\n",
    "\n",
    "Examine the datatypes for each column of the `train_df` dataset.\n",
    "\n",
    "- Do you need to make any changes to the data types?"
   ]
  },
  {
   "cell_type": "code",
   "execution_count": 14,
   "id": "broke-egypt",
   "metadata": {
    "colab": {
     "base_uri": "https://localhost:8080/",
     "height": 98,
     "referenced_widgets": [
      "dc452c648370462f92df63859426afb8",
      "16f393ea4b3d474e9ecdc70b1297317a",
      "8647b60f08774b9baf2dfc01754702b8",
      "80318d13d40d4fa1b74d46dc8b0bf776",
      "e16427d676d044478ee67d0a61f90c97"
     ]
    },
    "id": "broke-egypt",
    "outputId": "39d7ceb7-b498-48a5-bba5-ae0ca31ccc1d"
   },
   "outputs": [
    {
     "data": {
      "application/vnd.jupyter.widget-view+json": {
       "model_id": "bbeb5844dfac49388d467bf5c977be21",
       "version_major": 2,
       "version_minor": 0
      },
      "text/plain": [
       "Button(description='Reveal solution', style=ButtonStyle())"
      ]
     },
     "metadata": {},
     "output_type": "display_data"
    },
    {
     "data": {
      "application/vnd.jupyter.widget-view+json": {
       "model_id": "7925532614c54df8b8b1a44f95563afb",
       "version_major": 2,
       "version_minor": 0
      },
      "text/plain": [
       "Output(layout=Layout(border='1px solid green'))"
      ]
     },
     "metadata": {},
     "output_type": "display_data"
    }
   ],
   "source": [
    "%run ../scripts/show_solutions.py 01_ex2"
   ]
  },
  {
   "cell_type": "markdown",
   "id": "fancy-theology",
   "metadata": {
    "id": "fancy-theology"
   },
   "source": [
    "---\n",
    "\n",
    "### 🚩 Exercise 3\n",
    "\n",
    "Get some descriptive information about the data (e.g. mean, standard deviation, etc.). \n",
    "- Is there anything in particular you notice in any of the variables that may warrent further examination?"
   ]
  },
  {
   "cell_type": "code",
   "execution_count": null,
   "id": "58775cb5",
   "metadata": {
    "id": "58775cb5"
   },
   "outputs": [],
   "source": []
  },
  {
   "cell_type": "code",
   "execution_count": 15,
   "id": "civil-basket",
   "metadata": {
    "colab": {
     "base_uri": "https://localhost:8080/",
     "height": 98,
     "referenced_widgets": [
      "275a5f8d0bbc4f7fb4fa8d15adf5eb50",
      "368a4afd552b48e5bcbd770e3003252a",
      "b7cce85de69a408492107a52a180dfc0",
      "24c23803361142d5b73c3414154e707b",
      "459faa6d8d564bf982b36cca39b18d3a"
     ]
    },
    "id": "civil-basket",
    "outputId": "90022ab1-adac-4adc-a079-2dba8353f14e"
   },
   "outputs": [
    {
     "data": {
      "application/vnd.jupyter.widget-view+json": {
       "model_id": "732de6d3ddda45abaed3cd5aab351cb4",
       "version_major": 2,
       "version_minor": 0
      },
      "text/plain": [
       "Button(description='Reveal solution', style=ButtonStyle())"
      ]
     },
     "metadata": {},
     "output_type": "display_data"
    },
    {
     "data": {
      "application/vnd.jupyter.widget-view+json": {
       "model_id": "4a512cb23d7f46b1837a1a46904f10cb",
       "version_major": 2,
       "version_minor": 0
      },
      "text/plain": [
       "Output(layout=Layout(border='1px solid green'))"
      ]
     },
     "metadata": {},
     "output_type": "display_data"
    }
   ],
   "source": [
    "%run ../scripts/show_solutions.py 01_ex3"
   ]
  },
  {
   "cell_type": "markdown",
   "id": "proprietary-medicine",
   "metadata": {
    "id": "proprietary-medicine"
   },
   "source": [
    "---\n",
    "\n",
    "Using the `output` string we made before (`output = \"quality\"`), we are going to split the data again. This time we are going to create a pandas `Series` called `y_train`, which contains our output variable (the thing we want to predict), and then remove this variable from our training `DataFrame` so that it only includes the attributes we want our model to learn from (`X_train`).\n",
    "\n",
    "__Note__\n",
    "- For visualisation purposes you may want to keep a version of the data (in this case `train_df`) with the target still in there."
   ]
  },
  {
   "cell_type": "code",
   "execution_count": 16,
   "id": "fossil-airplane",
   "metadata": {
    "colab": {
     "base_uri": "https://localhost:8080/"
    },
    "id": "fossil-airplane",
    "outputId": "01e361e7-bc9d-49b1-ab4f-db85fd8216d4"
   },
   "outputs": [
    {
     "name": "stdout",
     "output_type": "stream",
     "text": [
      "(1279, 11)\n",
      "(1279,)\n"
     ]
    }
   ],
   "source": [
    "y_train = train_df.loc[:,output]\n",
    "X_train = train_df.drop(output, axis=1)\n",
    "feature_names = list(X_train.columns)\n",
    "\n",
    "print(X_train.shape)\n",
    "print(y_train.shape)"
   ]
  },
  {
   "cell_type": "markdown",
   "id": "amended-fiber",
   "metadata": {
    "id": "amended-fiber"
   },
   "source": [
    "---\n",
    "\n",
    "### 🚩 Exercise 4\n",
    "\n",
    "Use `sns.countplot` to examine how many unique values are present in `y_train` (the pandas Series with our output variable).\n",
    "\n",
    "__Why might we want to do this?__\n",
    "\n",
    "In a later workbook we will learn about the effects of \"imballanced\" data on models (where there is much more of one class than another). For now its just worth noting that your model will generally be better at predicting values that are the most common."
   ]
  },
  {
   "cell_type": "code",
   "execution_count": null,
   "id": "06a11115",
   "metadata": {},
   "outputs": [],
   "source": []
  },
  {
   "cell_type": "code",
   "execution_count": 17,
   "id": "aging-justice",
   "metadata": {
    "colab": {
     "base_uri": "https://localhost:8080/",
     "height": 150,
     "referenced_widgets": [
      "64bf9c83fafd43f78ead0dcc2b6dc117",
      "0b4b84a2d3c9414f8370cd25cba1db37",
      "8600f40a5c614e5aa63e874ddb32553f",
      "798d7fe68b8340c59a2e4c8225c6396d",
      "7d3e884f4d2449dea509ee7b7d2cb24b"
     ]
    },
    "id": "aging-justice",
    "outputId": "00821df3-7b33-4b29-c4fd-84e3af3831a8"
   },
   "outputs": [
    {
     "data": {
      "application/vnd.jupyter.widget-view+json": {
       "model_id": "3dc3e387f3ce4b2a8c999d7324611d7b",
       "version_major": 2,
       "version_minor": 0
      },
      "text/plain": [
       "Button(description='Reveal solution', style=ButtonStyle())"
      ]
     },
     "metadata": {},
     "output_type": "display_data"
    },
    {
     "data": {
      "application/vnd.jupyter.widget-view+json": {
       "model_id": "b06dd58ece034fa6ad0588edb4b5b480",
       "version_major": 2,
       "version_minor": 0
      },
      "text/plain": [
       "Output(layout=Layout(border='1px solid green'))"
      ]
     },
     "metadata": {},
     "output_type": "display_data"
    }
   ],
   "source": [
    "%run ../scripts/show_solutions.py 01_ex4"
   ]
  },
  {
   "cell_type": "markdown",
   "id": "delayed-merchant",
   "metadata": {
    "id": "delayed-merchant"
   },
   "source": [
    "---\n",
    "\n",
    "### 🚩 Exercise 5\n",
    "\n",
    "Find out if any of the features from our training set (`X_train`) are highly correlated.\n",
    "\n",
    "__Why might we want to do this?__\n",
    "- For __Linear models__ (e.g. linear or logistic regression), multicolinearity can yield varying and possibly numerically unstable solutions.\n",
    "- For __Random forests__ highly correlated features can mask feature interactions.\n",
    "- For __Model interpretability__ a simpler model is generally preferable and more easily interpretable. \n",
    "- Generally...the learning algorithm will be __faster__ if we use this information to reduce the number of features.\n",
    "\n",
    "You can look into the above more if you wish, but for now just take my word for it that its generally a good idea to identify highly correlated features and either remove one of them or (sometimes preferably) to combine them together with feature extraction techniques (e.g. PCA)."
   ]
  },
  {
   "cell_type": "code",
   "execution_count": null,
   "id": "atomic-bedroom",
   "metadata": {
    "id": "atomic-bedroom"
   },
   "outputs": [],
   "source": []
  },
  {
   "cell_type": "code",
   "execution_count": 18,
   "id": "promising-couple",
   "metadata": {
    "colab": {
     "base_uri": "https://localhost:8080/",
     "height": 231,
     "referenced_widgets": [
      "e9d8330a2884444097216faaa13358f0",
      "9c4c0dfbf47d4ee5a4fe9a2678ec6b6d",
      "36a214d86fcf4a8c8689df4232d45216",
      "ee36baa19ee44796812fb81c5ecde22a",
      "fcb1daf0a58e4d91b8c31d97a373082b"
     ]
    },
    "id": "promising-couple",
    "outputId": "b1e19fc0-de34-47e9-a415-e5a2cdbdf8b4"
   },
   "outputs": [
    {
     "data": {
      "application/vnd.jupyter.widget-view+json": {
       "model_id": "d68277d679064a5eb35795b76792a1c7",
       "version_major": 2,
       "version_minor": 0
      },
      "text/plain": [
       "Button(description='Reveal solution', style=ButtonStyle())"
      ]
     },
     "metadata": {},
     "output_type": "display_data"
    },
    {
     "data": {
      "application/vnd.jupyter.widget-view+json": {
       "model_id": "4ce7738fe50e4950a7116521f7b1fe53",
       "version_major": 2,
       "version_minor": 0
      },
      "text/plain": [
       "Output(layout=Layout(border='1px solid green'))"
      ]
     },
     "metadata": {},
     "output_type": "display_data"
    }
   ],
   "source": [
    "%run ../scripts/show_solutions.py 01_ex5"
   ]
  },
  {
   "cell_type": "markdown",
   "id": "permanent-sucking",
   "metadata": {
    "id": "permanent-sucking"
   },
   "source": [
    "---\n",
    "\n",
    "### 🚩 Exercise 6\n",
    "\n",
    "Examine the distributions (e.g. gaussian, right or left skewed?) of the different variables.\n",
    "\n",
    "__Why might we want to do this?__\n",
    "\n",
    "Some models and preparation steps assume certain distributions.\n",
    "\n",
    "<br>\n",
    "<details><summary><b><u>Hint</b></u></summary>\n",
    "    \n",
    "You could use a histogram (e.g. `sns.histplot(df[variable])`), a probability plot (e.g. `scipy.stats.probplot(df[variable], dist=\"norm\")`), or even compute the sample skewness (`scipy.stats.skew(df[variable])`).\n",
    "    \n",
    "</details>"
   ]
  },
  {
   "cell_type": "code",
   "execution_count": null,
   "id": "present-major",
   "metadata": {
    "id": "present-major"
   },
   "outputs": [],
   "source": []
  },
  {
   "cell_type": "code",
   "execution_count": 19,
   "id": "expensive-motivation",
   "metadata": {
    "colab": {
     "base_uri": "https://localhost:8080/",
     "height": 358,
     "referenced_widgets": [
      "25bebaa82e3b44c99e2fc496bd6064a7",
      "52f6a35e1c3a4eafa300ebadf4cc69ee",
      "19cbbcad7e4e4e8d877f2b4878cdff24",
      "45ec69a3d1b54a34aff351d4233f29c7",
      "6e593ab516724138b2f9044e909030f6"
     ]
    },
    "id": "expensive-motivation",
    "outputId": "4d2e1808-8322-462b-d435-bd6d4cf9665b"
   },
   "outputs": [
    {
     "data": {
      "application/vnd.jupyter.widget-view+json": {
       "model_id": "5d251394a30649618023712111dfeebc",
       "version_major": 2,
       "version_minor": 0
      },
      "text/plain": [
       "Button(description='Reveal solution', style=ButtonStyle())"
      ]
     },
     "metadata": {},
     "output_type": "display_data"
    },
    {
     "data": {
      "application/vnd.jupyter.widget-view+json": {
       "model_id": "3a87f227d2754baf86cea92e4f81855e",
       "version_major": 2,
       "version_minor": 0
      },
      "text/plain": [
       "Output(layout=Layout(border='1px solid green'))"
      ]
     },
     "metadata": {},
     "output_type": "display_data"
    }
   ],
   "source": [
    "%run ../scripts/show_solutions.py 01_ex6"
   ]
  },
  {
   "cell_type": "markdown",
   "id": "violent-aberdeen",
   "metadata": {
    "id": "violent-aberdeen"
   },
   "source": [
    "# 4. Data Pre-Processing <a id='prep'></a>\n",
    "\n",
    "Now we have some familiarity with the data though our data exploration, lets start preparing our data to be modelled."
   ]
  },
  {
   "cell_type": "markdown",
   "id": "painted-money",
   "metadata": {
    "id": "painted-money"
   },
   "source": [
    "---\n",
    "\n",
    "## 4.1. Data Cleaning\n",
    "\n",
    "At this stage in our workflow we may want to deal with duplicated/missing values and (optionally) fix/remove outliers. For now lets just look at the former issue.\n",
    "\n",
    "### 4.1.1. Drop Duplicates\n",
    "\n",
    "We want to remove duplicates as they may bias our fitted model. In other words, we may potentially *overfit* to this subset of points (we'll talk more about this in a later workbook). However, care should usually be taken to check they are not _real_ data with identical values.\n",
    "\n",
    "There a number of ways we could identify duplicates, the simplist (and the approach we'll focus on) is just to find observations with all the same feature values. Of course this will not identify things such as spelling errors, missing values, address changes, use of aliases, ect. For those such things, more complicated methods along with manual assessment are needed."
   ]
  },
  {
   "cell_type": "markdown",
   "id": "starting-victory",
   "metadata": {
    "id": "starting-victory"
   },
   "source": [
    "---\n",
    "\n",
    "### 🚩 Exercise 7\n",
    "\n",
    "How many duplicated observations are present in the features?\n",
    "\n",
    "<br>\n",
    "<details><summary><b><u>Hint</b></u></summary>\n",
    "\n",
    "- With Pandas dataframes you can use `.duplicated()` to get a boolean of whether something is a duplicate and then use `.sum()` to count how many there are.\n",
    "</details>"
   ]
  },
  {
   "cell_type": "code",
   "execution_count": null,
   "id": "known-password",
   "metadata": {
    "id": "known-password"
   },
   "outputs": [],
   "source": []
  },
  {
   "cell_type": "code",
   "execution_count": 20,
   "id": "legislative-cocktail",
   "metadata": {
    "colab": {
     "base_uri": "https://localhost:8080/",
     "height": 68,
     "referenced_widgets": [
      "3ed7828ee75d4ca28a79c50c8e486124",
      "ebd4fd058e2c4f1e82a530297ec5da51",
      "8c8cb6238be14dd4a527c1675db2ef55",
      "65bfbdecd976483399965019172f6c17",
      "82c92d0b536043118398da42fb1a356e"
     ]
    },
    "id": "legislative-cocktail",
    "outputId": "6de05690-8017-40c7-a638-8d6083fa17f8"
   },
   "outputs": [
    {
     "data": {
      "application/vnd.jupyter.widget-view+json": {
       "model_id": "384b209ddadd4ebe9aa5f77e8bf68d25",
       "version_major": 2,
       "version_minor": 0
      },
      "text/plain": [
       "Button(description='Reveal solution', style=ButtonStyle())"
      ]
     },
     "metadata": {},
     "output_type": "display_data"
    },
    {
     "data": {
      "application/vnd.jupyter.widget-view+json": {
       "model_id": "eaa4787794bf492089557882775e8345",
       "version_major": 2,
       "version_minor": 0
      },
      "text/plain": [
       "Output(layout=Layout(border='1px solid green'))"
      ]
     },
     "metadata": {},
     "output_type": "display_data"
    }
   ],
   "source": [
    "%run ../scripts/show_solutions.py 01_ex7"
   ]
  },
  {
   "cell_type": "markdown",
   "id": "1218bf7b",
   "metadata": {},
   "source": [
    "---\n",
    "\n",
    "To remove these duplicates from our training data we could combine our `X` and `y` training sets back together, use pandas `drop_duplicates` function, and split the data back up as so...\n",
    "\n",
    "__Notes__\n",
    "- In this case we need to combine them back together to ensure that we dont end up with less features in the `X` training data than the outputs.\n",
    "- Notice how I use `_` after the steps below. This is just a naming convention I will use to denote a tempory object and avoid overwritting our original `X_train` and `y_train` objects. It may be tempting to overwrite `X_train` and `y_train` while working on our pre-processing steps. __Don't do this!__ We will run `X_train` and `y_train`  through multiple functions later, so when checking your code is working properly make sure to assign the output to tempory objects (e.g. `X_train_, y_train_`)."
   ]
  },
  {
   "cell_type": "code",
   "execution_count": 21,
   "id": "7db31117",
   "metadata": {},
   "outputs": [],
   "source": [
    "df_ = pd.concat([X_train, y_train], axis=1)\n",
    "df_ = df_.drop_duplicates()\n",
    "\n",
    "X_train_, y_train_ = df_.iloc[:,:-1], df_.iloc[:,-1]"
   ]
  },
  {
   "cell_type": "markdown",
   "id": "9766592c",
   "metadata": {},
   "source": [
    "However, we should really be turning each of our data transformation steps into functions or classes (therefore I assume you are familiar with how to make these). This is because when we want to run data through our \"model pipeline\" in the future, rather than having to copy and paste a load of code (which is prone to error), we can just use a series of functions. In this notebook, we will do this when training our model and seeing how it did on a separate test (or \"validation\") set, but this would also be required if you deploy your model in a \"live\" environment. Furthermore, when refining a model it makes it easier for us to treat our preparation choices as \"parameters\", meaning we can easily add or remove parts of our pipeline to see what works and what doesn't without having to copy and remove lots of code which could be prone to error.\n",
    "\n",
    "So in the case above we can turn this into a function like so..."
   ]
  },
  {
   "cell_type": "code",
   "execution_count": 22,
   "id": "266d220b",
   "metadata": {},
   "outputs": [
    {
     "name": "stdout",
     "output_type": "stream",
     "text": [
      "(1279, 11)\n",
      "(1279,)\n",
      "(1111, 11)\n",
      "(1111,)\n"
     ]
    }
   ],
   "source": [
    "def drop_duplicated(X,y):\n",
    "    df = pd.concat([X,y], axis=1)\n",
    "    df = df.drop_duplicates()\n",
    "    return df.iloc[:,:-1], df.iloc[:,-1]\n",
    "\n",
    "X_train_, y_train_ = drop_duplicated(X_train, y_train)\n",
    "\n",
    "print(X_train.shape)\n",
    "print(y_train.shape)\n",
    "print(X_train_.shape)\n",
    "print(y_train_.shape)"
   ]
  },
  {
   "cell_type": "markdown",
   "id": "129c417e",
   "metadata": {},
   "source": [
    "### 4.1.A. Pipelines and Scikit-learn\n",
    "\n",
    "Its worth now taking a step back and examining what is meant by a \"Pipeline\". A general definition is that it is just a sequence of data preparation operations that is ensured to be reproducible. However, we may want to ensure that any functions/classes we make for our pipeline have specific attributes that work best with the tools available in our chosen machine learning library (`Scikit-learn`).\n",
    "\n",
    "---\n",
    "\n",
    "__Scikit-learn__\n",
    "\n",
    "Scikit-learn is an open source machine learning library that supports supervised and unsupervised learning. It also provides various tools for model fitting, data preprocessing, model selection and evaluation, and many other utilities. In Scikit-Learn a `Pipeline` is a class we can use to combine our pre-processing and modelling steps together (https://scikit-learn.org/stable/modules/generated/sklearn.pipeline.Pipeline.html). Objects that go into a scikit-learn `Pipeline` can either be [_transformer_](https://scikit-learn.org/stable/data_transforms.html#dataset-transformations) or [_estimator_](https://scikit-learn.org/stable/developers/develop.html#estimators) classes, or, if we use an imbalanced-learn `Pipeline` instead, also a _resampler_.\n",
    "\n",
    "---\n",
    "\n",
    "Learning to use pipelines can be a little more tricky at first but its better practice than not using them so its worth trying! It will prevent you from making common mistakes. If you don't want to use them then thats fine, but be careful to check you are not \"bleeding\" information from your training set into your validation or test sets (more on this later). In otherwords, make sure your models cannot peak or get any idea what is in these separate datasets we use to check how they perform!\n",
    "\n",
    "If we want to remove duplicate _observations_ from our training data using a function that is compatible with a `Pipeline`, we are going to need to turn it into a _resampler_.\n",
    "\n",
    "---\n",
    "\n",
    "__Resamplers__\n",
    "\n",
    "Resamplers are classes that follow the scikit-learn API and have a sampling functionality through the `.resample()` method.\n",
    "\n",
    "Like all other scikit-learn methods (e.g. _transformers_ and _estimators_), they have a `.fit()` method which is only applied during pipeline training, which is used to...\n",
    "- ...validate and interpret any parameters, \n",
    "- ...validate the input data, \n",
    "- ...estimate and store attributes from the parameters and provided data, \n",
    "- ...return the fitted object to facilitate method chaining in a pipeline. \n",
    "\n",
    "Along with other sample properties (e.g. `sample_weight`), the `.fit()` method usually takes 2 inputs:\n",
    "\n",
    "> - The samples matrix (or design matrix) X. The size of X is typically (n_samples, n_features), which means that samples are represented as rows and features are represented as columns.\n",
    ">\n",
    "> - The target values y which are real numbers for regression tasks, or integers for classification (or any other discrete set of values). For unsupervized learning tasks, y does not need to be specified. y is usually 1d array where the ith entry corresponds to the target of the i th sample (row) of X.\n",
    ">\n",
    "> https://scikit-learn.org/stable/getting_started.html\n",
    "\n",
    "Other methods available for these objects other than `.fit()` will depend on what they are, so we will look at each of these objects in turn and then combine them into a model pipeline later in this workbook.\n",
    "\n",
    "If we want to create our own resampler from scratch that is compatible with scikit-learn, we have to make a class that has two methods; `.fit()` and `.fit_resample()` (see https://imbalanced-learn.org/dev/references/generated/imblearn.FunctionSampler.html). If we want to resample a dataset, we just need to use the latter method:\n",
    "\n",
    "```\n",
    "data_resampled, targets_resampled = obj.fit_resample(data, targets)\n",
    "```\n",
    "\n",
    "You can look at making custom pipeline functions in the next (optional) notebook, but for now we can just wrap our `drop_duplicated` function we just made in the handy `FunctionSampler` from `imblearn` to make the function we made before compatible.\n",
    "\n",
    "__Notes__\n",
    "- `imblearn` needs to be installed for the following to work.\n",
    "- Typically your functions can output a `pd.DataFrame` or a `np.Array` to be put into a pipeline, however generally you should try work with numpy arrays. This is because although a pandas dataframe can be used as an input to scikit-learn objects, they will typically output NumPy arrays or SciPy sparse matrices (this is quite a sensible design choice as explained [here](https://arxiv.org/abs/1309.0238)). If you want to chain your methods together, then working with numpy arrays generally make it easier (although there are exceptions!). It is however worth noting that _\"Unlike scikit-learn, imbalanced-learn provides support for pandas in/out. Therefore providing a dataframe, will output as well a dataframe\"_<sup>1</sup>.\n",
    "- Technically a sampler is intended to be used to \"sample\" data, but it is useful in this case as samplers fundamentally are used to reduce or increase the number of samples (observations) in both our feature data (`X_train`) and our targets (`y_train`) data which we need to do in this cleaning step.\n",
    "\n",
    "1. https://imbalanced-learn.org/stable/introduction.html\n"
   ]
  },
  {
   "cell_type": "code",
   "execution_count": 23,
   "id": "meaningful-burning",
   "metadata": {
    "id": "meaningful-burning"
   },
   "outputs": [],
   "source": [
    "from imblearn import FunctionSampler\n",
    "\n",
    "duplicated_sampler = FunctionSampler(func=drop_duplicated,    # our custom function\n",
    "                                     validate=False)          # prevents both inputs being changed to numpy arrays"
   ]
  },
  {
   "cell_type": "markdown",
   "id": "three-revolution",
   "metadata": {
    "id": "three-revolution"
   },
   "source": [
    "---\n",
    "\n",
    "### 🚩 Exercise 8\n",
    "\n",
    "__TODO__\n",
    "- update exercise numebrs\n",
    "\n",
    "Using `.fit_resample`, check to see if the `duplicated_sampler` reduces the number of observations in the training data.\n",
    "\n",
    "__Note__\n",
    "- Make sure to not overwrite your training data!"
   ]
  },
  {
   "cell_type": "code",
   "execution_count": 24,
   "id": "pleased-restaurant",
   "metadata": {
    "colab": {
     "base_uri": "https://localhost:8080/",
     "height": 155,
     "referenced_widgets": [
      "3de537867eef460b93a7acf6b965fc42",
      "16e06440fa464bed826bb670a3d3445f",
      "d0a186e8051c421e849cb19b1936f477",
      "96994dafcaa84843b26a01b18c401b70",
      "5ecf1e0bcd6045879abd2bfbc3fbdf8d"
     ]
    },
    "id": "pleased-restaurant",
    "outputId": "a269e90e-62db-4436-9722-9785436e988b"
   },
   "outputs": [
    {
     "data": {
      "application/vnd.jupyter.widget-view+json": {
       "model_id": "e26ad4df66244a7a858ee2e5e91ad45b",
       "version_major": 2,
       "version_minor": 0
      },
      "text/plain": [
       "Button(description='Reveal solution', style=ButtonStyle())"
      ]
     },
     "metadata": {},
     "output_type": "display_data"
    },
    {
     "data": {
      "application/vnd.jupyter.widget-view+json": {
       "model_id": "54b1d207c36f4c449939fed9ec81bccd",
       "version_major": 2,
       "version_minor": 0
      },
      "text/plain": [
       "Output(layout=Layout(border='1px solid green'))"
      ]
     },
     "metadata": {},
     "output_type": "display_data"
    }
   ],
   "source": [
    "%run ../scripts/show_solutions.py 01_ex8"
   ]
  },
  {
   "cell_type": "markdown",
   "id": "sapphire-calculation",
   "metadata": {
    "id": "sapphire-calculation"
   },
   "source": [
    "---\n",
    "\n",
    "### 4.1.2. Missing Values\n",
    "\n",
    "Now we have checked for duplicates, lets do another important data cleaning step and check for missing values.\n",
    "\n",
    "__Why might we want to do this?__\n",
    "\n",
    "Most models (including all models in scikit-learn) cannot handle missing data.\n",
    "\n",
    "### 🚩 Exercise 9\n",
    "\n",
    "Are there any missing values in the training data? \n",
    "- Can you think of any options we would have to account for them?"
   ]
  },
  {
   "cell_type": "code",
   "execution_count": null,
   "id": "italic-tunisia",
   "metadata": {
    "id": "italic-tunisia"
   },
   "outputs": [],
   "source": []
  },
  {
   "cell_type": "code",
   "execution_count": 25,
   "id": "acknowledged-raise",
   "metadata": {
    "colab": {
     "base_uri": "https://localhost:8080/",
     "height": 115,
     "referenced_widgets": [
      "c3c7685ceb3345e7be62915a0490624b",
      "539c345a614a4e06a64768eda9a67327",
      "e667b04553124613aa6e44a0abbf8455",
      "56479f452f7d4c6face7612c9e12b4fe",
      "770d549e6cc542888149e90af3eda1ae"
     ]
    },
    "id": "acknowledged-raise",
    "outputId": "313dcbf4-a0b4-4aa3-add7-e41a43c3f8af"
   },
   "outputs": [
    {
     "data": {
      "application/vnd.jupyter.widget-view+json": {
       "model_id": "fc6369af744544dfb4348c8a36052b91",
       "version_major": 2,
       "version_minor": 0
      },
      "text/plain": [
       "Button(description='Reveal solution', style=ButtonStyle())"
      ]
     },
     "metadata": {},
     "output_type": "display_data"
    },
    {
     "data": {
      "application/vnd.jupyter.widget-view+json": {
       "model_id": "696fc0a346e3413693fb34b27c0cd2b6",
       "version_major": 2,
       "version_minor": 0
      },
      "text/plain": [
       "Output(layout=Layout(border='1px solid green'))"
      ]
     },
     "metadata": {},
     "output_type": "display_data"
    }
   ],
   "source": [
    "%run ../scripts/show_solutions.py 01_ex9"
   ]
  },
  {
   "cell_type": "markdown",
   "id": "disciplinary-accident",
   "metadata": {
    "id": "disciplinary-accident"
   },
   "source": [
    "---\n",
    "\n",
    "### 🚩 Exercise 10 (extra)\n",
    "\n",
    "Create a `Pipeline` compatible resampler that could remove any NA values from the data.\n",
    "\n",
    "<br />\n",
    "<details><summary><b><u>Hint</b></u></summary>\n",
    "    \n",
    "It will be very similar to using the other resampler above except using `.dropna()`.\n",
    "</details>"
   ]
  },
  {
   "cell_type": "code",
   "execution_count": null,
   "id": "arabic-apartment",
   "metadata": {
    "id": "arabic-apartment"
   },
   "outputs": [],
   "source": []
  },
  {
   "cell_type": "code",
   "execution_count": 26,
   "id": "baking-translator",
   "metadata": {
    "colab": {
     "base_uri": "https://localhost:8080/",
     "height": 51,
     "referenced_widgets": [
      "031527736b9348aeb76439aca07f91fa",
      "65e61654515c45bd9e75e943ae7d72b7",
      "0c88f8f50a0647eeb8333d5a57a68bea",
      "8587984b4e564e94ae7f187bade19aec",
      "e3bcb68eb5a944d2842d9b1a3609074a"
     ]
    },
    "id": "baking-translator",
    "outputId": "2a884ce8-1825-4b8a-e232-182184369b7c"
   },
   "outputs": [
    {
     "data": {
      "application/vnd.jupyter.widget-view+json": {
       "model_id": "fa0f5d2b7c114936b54ff6692443d1da",
       "version_major": 2,
       "version_minor": 0
      },
      "text/plain": [
       "Button(description='Reveal solution', style=ButtonStyle())"
      ]
     },
     "metadata": {},
     "output_type": "display_data"
    },
    {
     "data": {
      "application/vnd.jupyter.widget-view+json": {
       "model_id": "24eef68bc600402d91becaa988513c9b",
       "version_major": 2,
       "version_minor": 0
      },
      "text/plain": [
       "Output(layout=Layout(border='1px solid green'))"
      ]
     },
     "metadata": {},
     "output_type": "display_data"
    }
   ],
   "source": [
    "%run ../scripts/show_solutions.py 01_ex10"
   ]
  },
  {
   "cell_type": "markdown",
   "id": "historical-minority",
   "metadata": {
    "id": "historical-minority"
   },
   "source": [
    "---\n",
    "\n",
    "## 4.2. Feature Selection\n",
    "\n",
    "This optional step can occour at many points during our ML pipeline development, but this time lets do it now. Feature selection is typically used to drop attributes that provide no useful information for the task. It is part of __Dimension Reduction__ (alongside feature extraction).\n",
    "\n",
    "We could create our own feature selection \"transformer\" functions/classes from scratch (see next workbook), however for the sake of this workbook lets just use ones already available to us already in `scikit-learn` or that I have pre-made.\n",
    "\n",
    "For this notebook lets add a basic feature selection technique into our pipeline: dropping any feature that is highly correlated with another feature (we looked at correlated features in a previous exercise)."
   ]
  },
  {
   "cell_type": "code",
   "execution_count": 27,
   "id": "1086e2eb",
   "metadata": {},
   "outputs": [],
   "source": [
    "from helper_functions import DropCorrelatedFeatures"
   ]
  },
  {
   "cell_type": "markdown",
   "id": "5394e534",
   "metadata": {},
   "source": [
    "Below I've included some documentation (in the style of Scikit-Learn) for how we can use this class.\n",
    "\n",
    "---\n",
    "\n",
    "### DropCorrelatedFeatures\n",
    "> _class_ DropCorrelatedFeatures(_method='pearson', threshold=0.5_)\n",
    "\n",
    "Finds and removes correlated variables from a numpy array or DataFrame.\n",
    "\n",
    "Features are removed on first found first removed basis without any further insight. This means it will keep the feature which has a lower column index and drop the feature that is correlated over a given threshold that has a larger index.\n",
    "\n",
    "<table>\n",
    "  <tr>\n",
    "    <td><strong>Parameters</strong></td>\n",
    "    <td style=\"text-align:left\">\n",
    "        <strong><code>method</code>: <em>string default='pearson'</em></strong> <br> \n",
    "        Method of correlation:\n",
    "        <ul>\n",
    "          <li>'pearson': standard correlation coefficient;</li>\n",
    "          <li>'kendall': Kendall Tau correlation coefficient;</li>\n",
    "          <li>'spearman': Spearman rank correlation.</li>\n",
    "        </ul>\n",
    "     </td>\n",
    "  </tr>\n",
    "  <tr>\n",
    "    <td></td>\n",
    "    <td style=\"text-align:left\">\n",
    "        <strong><code>threshold</code>: <em>float default=0.8</em></strong> <br>\n",
    "        The correlation threshold above which a feature will be deemed correlated with another one and removed from the dataset.\n",
    "    </td>\n",
    "  </tr>\n",
    "  <tr>\n",
    "    <td><strong>Attributes</strong></td>\n",
    "    <td style=\"text-align:left\">\n",
    "        <strong><code>correlated_feature_sets_</code>: <em>ndarray of shape (n_correlated, 2)</em></strong> <br>\n",
    "        Group of correlated features.\n",
    "    </td>\n",
    "  </tr>\n",
    "  <tr>\n",
    "    <td></td>\n",
    "    <td style=\"text-align:left\">\n",
    "        <strong><code>features_to_drop_</code>: <em>ndarray of shape (n_features, )</em></strong> <br>\n",
    "       Set with the correlated features that will be dropped.\n",
    "    </td>\n",
    "  </tr>\n",
    "</table>\n",
    "\n",
    "__Methods__\n",
    "\n",
    "<table>\n",
    "  <tr>\n",
    "    <td><strong>fit(X, [,y])</strong></td>\n",
    "    <td style=\"text-align:left\">\n",
    "        Compute the features that will be dropped.\n",
    "     </td>\n",
    "  </tr>\n",
    "  <tr>\n",
    "    <td><strong>fit_transform(X, [,y])</strong></td>\n",
    "    <td style=\"text-align:left\">\n",
    "        Fit to data, then transform it.\n",
    "     </td>\n",
    "  </tr>\n",
    "  <tr>\n",
    "    <td><strong>transform(X, [,y])</strong></td>\n",
    "    <td style=\"text-align:left\">\n",
    "        Remove features that are over the threshold.\n",
    "     </td>\n",
    "  </tr>\n",
    "</table>\n",
    "\n",
    "> fit(_X, y=None_)\n",
    "\n",
    "    Compute the features that will be dropped.\n",
    "\n",
    "<table>\n",
    "  <tr>\n",
    "    <td><strong>Parameters</strong></td>\n",
    "    <td style=\"text-align:left\">\n",
    "        <strong>X: <em>{array-like, sparse matrix} of shape (n_samples, n_features)</em></strong> <br> \n",
    "        The data used to compute the features that will be dropped.\n",
    "     </td>\n",
    "  </tr>\n",
    "  <tr>\n",
    "    <td></td>\n",
    "    <td style=\"text-align:left\">\n",
    "        <strong>y: <em>None</em></strong> <br>\n",
    "        Ignored.\n",
    "    </td>\n",
    "  </tr>\n",
    "  <tr>\n",
    "    <td><strong>Returns</strong></td>\n",
    "    <td style=\"text-align:left\">\n",
    "        <strong>self: <em>object</em></strong> <br>\n",
    "        Fitted transformer\n",
    "    </td>\n",
    "  </tr>\n",
    "</table>\n",
    "\n",
    "> fit_transform(_X, y=None_, **fit_params)\n",
    "\n",
    "    Fit to data, then transform it.\n",
    "\n",
    "    Fits transformer to X and y with optional parameters fit_params and returns a transformed version of X.\n",
    "\n",
    "<table>\n",
    "  <tr>\n",
    "    <td><strong>Parameters</strong></td>\n",
    "    <td style=\"text-align:left\">\n",
    "        <strong>X: <em>{array-like, sparse matrix} of shape (n_samples, n_features)</em></strong> <br> \n",
    "        The data used to compute the features that will be dropped.\n",
    "     </td>\n",
    "  </tr>\n",
    "  <tr>\n",
    "    <td></td>\n",
    "    <td style=\"text-align:left\">\n",
    "        <strong>y: <em>None</em></strong> <br>\n",
    "        Ignored.\n",
    "    </td>\n",
    "  </tr>\n",
    "  <tr>\n",
    "    <td></td>\n",
    "    <td style=\"text-align:left\">\n",
    "        <strong>**fit_params: <em>dict</em></strong> <br>\n",
    "        Additional fit parameters.\n",
    "    </td>\n",
    "  </tr>\n",
    "  <tr>\n",
    "    <td><strong>Returns</strong></td>\n",
    "    <td style=\"text-align:left\">\n",
    "        <strong>X_new: <em>{array-like, sparse matrix} of shape (n_samples, n_features)</em></strong> <br>\n",
    "        Transformed array or dataframe.\n",
    "    </td>\n",
    "  </tr>\n",
    "</table>\n",
    "\n",
    "\n",
    "> transform(_X_)\n",
    "\n",
    "    Remove features that are over the threshold.\n",
    "\n",
    "<table>\n",
    "  <tr>\n",
    "    <td><strong>Parameters</strong></td>\n",
    "    <td style=\"text-align:left\">\n",
    "        <strong>X: <em>{array-like, sparse matrix} of shape (n_samples, n_features)</em></strong> <br> \n",
    "        The data used to remove the features.\n",
    "     </td>\n",
    "  </tr>\n",
    "  <tr>\n",
    "    <td><strong>Returns</strong></td>\n",
    "    <td style=\"text-align:left\">\n",
    "        <strong>X_tr: <em>{array-like, sparse matrix} of shape (n_samples, n_features)</em></strong> <br>\n",
    "        Transformed array.\n",
    "    </td>\n",
    "  </tr>\n",
    "</table>\n",
    "\n",
    "---\n",
    "\n",
    "__Transformers__\n",
    "\n",
    "The above class is an example of a _\"Transformer\"_. Transformers in Scikit-Learn [clean](https://scikit-learn.org/stable/modules/preprocessing.html#preprocessing), [reduce](https://scikit-learn.org/stable/modules/unsupervised_reduction.html#data-reduction), [expand](https://scikit-learn.org/stable/modules/kernel_approximation.html#kernel-approximation), or [generate](https://scikit-learn.org/stable/modules/feature_extraction.html#feature-extraction) feature representations.\n",
    "\n",
    "Transformers are classes with a `.fit()` method, which learn model parameters (e.g. mean and standard deviation for normalization) from a training set, and a `.transform()` method which applies this transformation model to data<sup>1</sup>. To create a custom transformer, all you need is to create a class that implements three methods: `fit()`, `transform()`, and `fit_transform()`.\n",
    "\n",
    "Therefore to transform a dataset, each sampler implements:\n",
    "\n",
    "```\n",
    "obj.fit(data)\n",
    "data_transformed = obj.transform(data)\n",
    "```\n",
    "\n",
    "or simply...\n",
    "\n",
    "```\n",
    "data_transformed = obj.fit_transform(data)\n",
    "```\n",
    "\n",
    "__Note__\n",
    "- dropping correlated features is not a _\"sampler\"_ as as feature selection reduces the number of _features_ (not observations!) in our data, meaning we don't need to change our _target_ data (y).\n",
    "- There are also a bunch of relevent pre-made transformers available to us already in `scikit-learn` and `feature_engine`.\n",
    "- Some transformers (especially those outside of the core scikit-learn library) may require a certain type of object. For examle a lot of the ones I have pre-made are based on transformers from the `feature_engine` package. When using `feature_engine`, they want pandas DataFrames as an input. However those in the core scikit-learn library generally accept both pandas DataFrames and numpy arrays.\n",
    "\n",
    "1. https://scikit-learn.org/stable/data_transforms.html"
   ]
  },
  {
   "cell_type": "markdown",
   "id": "approved-investing",
   "metadata": {
    "id": "approved-investing"
   },
   "source": [
    "---\n",
    "\n",
    "### 🚩 Exercise 11\n",
    "\n",
    "Using the `DropCorrelatedFeatures` class I have pre-made and detailed above (based on `feature_engine.selection`), drop any features that are correlated above a 0.6 theshold.\n",
    "- Print out the features that were dropped (`.dropped_`).\n",
    "- Examine which features were dropped (`.correlated_feature_sets_`).\n",
    "\n",
    "__Notes__\n",
    "- A 0.6 threshold may be a bit low, but used here for demonstration purposes.\n",
    "\n",
    "<details><summary><b><u>Hints</b></u></summary>\n",
    "\n",
    "- Instead of using `.fit_resample()`, we will now need to use `.fit_transform()`.\n",
    "\n",
    "</details>"
   ]
  },
  {
   "cell_type": "code",
   "execution_count": 28,
   "id": "touched-confidence",
   "metadata": {
    "colab": {
     "base_uri": "https://localhost:8080/",
     "height": 381,
     "referenced_widgets": [
      "dd57abe04e5f494fbdb0416942ba5fe8",
      "9a17fb5e1330403989d4ea461f535d56",
      "8fe91e1d8c9c429a8cb1559e36071f67",
      "21a73ae4c6a443cab4630af2c95eafe4",
      "f9798024af2e4b52b60aeeeded2acca7"
     ]
    },
    "id": "touched-confidence",
    "outputId": "2b707b8b-6cb8-4df2-d831-fff34a21e933"
   },
   "outputs": [
    {
     "data": {
      "application/vnd.jupyter.widget-view+json": {
       "model_id": "64e1e911a4374c7899c02695441539da",
       "version_major": 2,
       "version_minor": 0
      },
      "text/plain": [
       "Button(description='Reveal solution', style=ButtonStyle())"
      ]
     },
     "metadata": {},
     "output_type": "display_data"
    },
    {
     "data": {
      "application/vnd.jupyter.widget-view+json": {
       "model_id": "c1d9ad2193f84867962c3b5f5272663e",
       "version_major": 2,
       "version_minor": 0
      },
      "text/plain": [
       "Output(layout=Layout(border='1px solid green'))"
      ]
     },
     "metadata": {},
     "output_type": "display_data"
    }
   ],
   "source": [
    "%run ../scripts/show_solutions.py 01_ex11"
   ]
  },
  {
   "cell_type": "markdown",
   "id": "greenhouse-producer",
   "metadata": {
    "id": "greenhouse-producer"
   },
   "source": [
    "## 4.3. Feature Engineering\n",
    "\n",
    "Feature engineering means formulating appropriate features given the data, the model, and the task. Typically we use domain knowledge to aid in the selection and transformation of the most relevant variables from raw data when creating a predictive model."
   ]
  },
  {
   "cell_type": "markdown",
   "id": "secret-wheel",
   "metadata": {
    "id": "secret-wheel"
   },
   "source": [
    "---\n",
    "\n",
    "### 🚩 Exercise 12\n",
    "\n",
    "Would feature engineering require a _\"resampler\"_ or a _\"transformer\"_ class?"
   ]
  },
  {
   "cell_type": "markdown",
   "id": "molecular-contrast",
   "metadata": {
    "id": "molecular-contrast"
   },
   "source": []
  },
  {
   "cell_type": "code",
   "execution_count": 29,
   "id": "collect-knight",
   "metadata": {
    "colab": {
     "base_uri": "https://localhost:8080/",
     "height": 80,
     "referenced_widgets": [
      "b51378fc34264fe6b1bb49a462705122",
      "4f2ca0a9b5634b40aff77de07045b765",
      "ee947e89abc84e729d9f4523f0f71bb9",
      "8cd1a974e75d47b0bb3a2ff1546646ee",
      "ff27f8ecf890417da19cb6d8b6319dfc"
     ]
    },
    "id": "collect-knight",
    "outputId": "231776a3-ca86-4cfd-c82a-4e826e88a497"
   },
   "outputs": [
    {
     "data": {
      "application/vnd.jupyter.widget-view+json": {
       "model_id": "6bec6a7a4dd24333bb7a8aaff5688b07",
       "version_major": 2,
       "version_minor": 0
      },
      "text/plain": [
       "Button(description='Reveal solution', style=ButtonStyle())"
      ]
     },
     "metadata": {},
     "output_type": "display_data"
    },
    {
     "data": {
      "application/vnd.jupyter.widget-view+json": {
       "model_id": "8d4d3a4e24ba4c01a49a2dc0fd048be5",
       "version_major": 2,
       "version_minor": 0
      },
      "text/plain": [
       "Output(layout=Layout(border='1px solid green'))"
      ]
     },
     "metadata": {},
     "output_type": "display_data"
    }
   ],
   "source": [
    "%run ../scripts/show_solutions.py 01_ex12"
   ]
  },
  {
   "cell_type": "markdown",
   "id": "secret-drinking",
   "metadata": {
    "id": "secret-drinking"
   },
   "source": [
    "---\n",
    "\n",
    "For this week lets look at log transforming our features so that they have a more gaussian distribution (this may improve the performance of models we will use later). Log transformations are useful for altering the data to have a more normal distribution as they pull in the more extreme high values relative to the median, while stretching back extreme low values away from the median.\n",
    "\n",
    "__Notes__\n",
    "- Below we are using `np.log1p` instead of `np.log` to stop any errors that result from transforming data with a 0 in it as you cannot log transform 0."
   ]
  },
  {
   "cell_type": "code",
   "execution_count": 30,
   "id": "e8f749fe",
   "metadata": {},
   "outputs": [
    {
     "data": {
      "image/png": "[encoded data removed]",
      "text/plain": [
       "<Figure size 1008x576 with 2 Axes>"
      ]
     },
     "metadata": {},
     "output_type": "display_data"
    }
   ],
   "source": [
    "variable_name = \"fixed acidity\" # for our example\n",
    "X_train_ = X_train.copy()\n",
    "\n",
    "f, (ax1, ax2) = plt.subplots(1, 2, sharey=True)\n",
    "X_train_[variable_name].hist(bins=30, ax=ax1)\n",
    "ax1.set_title(\"Before Log\")\n",
    "\n",
    "X_train_[variable_name] = np.log1p(X_train_[variable_name]) # log transform data\n",
    "X_train_[variable_name].hist(bins=30, ax=ax2)\n",
    "ax2.set_title(\"After Log\")\n",
    "\n",
    "plt.show()"
   ]
  },
  {
   "cell_type": "markdown",
   "id": "bba48186",
   "metadata": {},
   "source": [
    "---\n",
    "\n",
    "### 🚩 Exercise 13\n",
    "\n",
    "Examine the effect of this transformation on other variables."
   ]
  },
  {
   "cell_type": "code",
   "execution_count": 31,
   "id": "1376a4a2",
   "metadata": {},
   "outputs": [
    {
     "data": {
      "application/vnd.jupyter.widget-view+json": {
       "model_id": "6596e0d3ea034654a7789c7111358cbf",
       "version_major": 2,
       "version_minor": 0
      },
      "text/plain": [
       "Button(description='Reveal solution', style=ButtonStyle())"
      ]
     },
     "metadata": {},
     "output_type": "display_data"
    },
    {
     "data": {
      "application/vnd.jupyter.widget-view+json": {
       "model_id": "dff831ff7db14fa792db25e28fda095a",
       "version_major": 2,
       "version_minor": 0
      },
      "text/plain": [
       "Output(layout=Layout(border='1px solid green'))"
      ]
     },
     "metadata": {},
     "output_type": "display_data"
    }
   ],
   "source": [
    "%run ../scripts/show_solutions.py 01_ex13"
   ]
  },
  {
   "cell_type": "markdown",
   "id": "e1e1f46d",
   "metadata": {},
   "source": [
    "However as we discussed before, its probably a better idea to turn our data preproccessing/cleaning/transformation steps into functions/classes.\n",
    "\n",
    "---\n",
    "\n",
    "### 🚩 Exercise 14 (Extra)\n",
    "\n",
    "Using the conversation function `sklearn.preprocessing.FunctionTransformer` and `np.log1p`, make a transformer that transforms our features using a log transform (remember we looked at identifying features with skewed distributions in a previous exercise). \n",
    "\n",
    "<br />\n",
    "<details><summary><b><u>Hint</b></u></summary>\n",
    "    \n",
    "`np.log1p` is already a function so you can put it straight into a `FunctionTransformer` without problem.\n",
    "</details>"
   ]
  },
  {
   "cell_type": "code",
   "execution_count": 32,
   "id": "0f707c08",
   "metadata": {},
   "outputs": [],
   "source": [
    "from sklearn.preprocessing import FunctionTransformer\n",
    "\n"
   ]
  },
  {
   "cell_type": "code",
   "execution_count": 33,
   "id": "bibliographic-contributor",
   "metadata": {
    "colab": {
     "base_uri": "https://localhost:8080/",
     "height": 312,
     "referenced_widgets": [
      "46296b79464246eebf908e5238646b87",
      "5b432f9844464cf492905be3e8b7a6ae",
      "6014f9ac718c4226af1b0d19678f5eb0",
      "b7b94107efa242d7a773c5cbee86c6c8",
      "fec68f1ebff94f8bbb1a2f356ab5bbf6"
     ]
    },
    "id": "bibliographic-contributor",
    "outputId": "8ac0e971-26c8-43a8-f45b-0a1842d4c00a",
    "scrolled": false
   },
   "outputs": [
    {
     "data": {
      "application/vnd.jupyter.widget-view+json": {
       "model_id": "fd92ebdbd82f43beba0733cc27cea593",
       "version_major": 2,
       "version_minor": 0
      },
      "text/plain": [
       "Button(description='Reveal solution', style=ButtonStyle())"
      ]
     },
     "metadata": {},
     "output_type": "display_data"
    },
    {
     "data": {
      "application/vnd.jupyter.widget-view+json": {
       "model_id": "9bce8a54935a44dabda26766ecbc5f79",
       "version_major": 2,
       "version_minor": 0
      },
      "text/plain": [
       "Output(layout=Layout(border='1px solid green'))"
      ]
     },
     "metadata": {},
     "output_type": "display_data"
    }
   ],
   "source": [
    "%run ../scripts/show_solutions.py 01_ex14"
   ]
  },
  {
   "cell_type": "markdown",
   "id": "alpha-counter",
   "metadata": {
    "id": "alpha-counter"
   },
   "source": [
    "---\n",
    "\n",
    "## 4.4. Feature Scaling\n",
    "\n",
    "Many machine learning algorithms are sensitive to the scale and magnitude of the features."
   ]
  },
  {
   "cell_type": "code",
   "execution_count": 34,
   "id": "f27ffd3a",
   "metadata": {},
   "outputs": [
    {
     "data": {
      "image/png": "[encoded data removed]",
      "text/plain": [
       "<Figure size 1080x360 with 1 Axes>"
      ]
     },
     "metadata": {},
     "output_type": "display_data"
    }
   ],
   "source": [
    "def plot_scales(data, names):\n",
    "\n",
    "    fig, ax = plt.subplots(figsize=(15,5))\n",
    "\n",
    "    plt.boxplot(data, vert=False) \n",
    "    plt.xscale(\"symlog\") \n",
    "    plt.ylabel(\"Feature\") \n",
    "    plt.xlabel(\"Feature magnitude\")\n",
    "\n",
    "    ax.set_yticklabels(feature_names)\n",
    "\n",
    "    plt.suptitle(\"Feature Maginitudes for the Training Set\")\n",
    "    plt.tight_layout()\n",
    "    plt.show()\n",
    "    \n",
    "plot_scales(X_train, feature_names)"
   ]
  },
  {
   "cell_type": "markdown",
   "id": "dd7032ad",
   "metadata": {},
   "source": [
    "As you can see above, each feature in our dataset is measured on quite different scales. \n",
    "\n",
    "To improve performance and training times for certain machine learning models, we can \"standardise\" our features by centering the variable (by removing the mean of each feature from each observation) and standardizing to unit variance (1). In order to do this we subtract the mean from each observation and then divide the result by the standard deviation:\n",
    "\n",
    "$$z=\\frac{x-mean(x)}{std(x)}.$$\n",
    "\n",
    "The result of the preceding transformation is called the *z-score* and represents how many standard deviations a given observation deviates from the mean<sup>1</sup>.\n",
    "\n",
    "1. Galli, S. (2020). Python Feature Engineering Cookbook."
   ]
  },
  {
   "cell_type": "markdown",
   "id": "wicked-virus",
   "metadata": {
    "id": "wicked-virus"
   },
   "source": [
    "---\n",
    "\n",
    "### 🚩 Exercise 15\n",
    "\n",
    "Using the `StandardScaler` transformer from `sklearn.preprocessing`, scale the features (`X_train`).\n",
    "\n",
    "You can use...\n",
    "- ...`.mean_` on the scaler object find the mean of the features before scaling.\n",
    "- ...`.scale_` find the standard deviation value of the features before scaling.\n",
    "\n",
    "You can check that it has worked by using the `plot_scales` function above."
   ]
  },
  {
   "cell_type": "code",
   "execution_count": 35,
   "id": "dated-boring",
   "metadata": {
    "id": "dated-boring"
   },
   "outputs": [],
   "source": [
    "from sklearn.preprocessing import StandardScaler\n"
   ]
  },
  {
   "cell_type": "code",
   "execution_count": 36,
   "id": "continuing-holmes",
   "metadata": {
    "colab": {
     "base_uri": "https://localhost:8080/",
     "height": 225,
     "referenced_widgets": [
      "e13e9db983e54e688b8b6ea6829f38b2",
      "600e139bef2744f0963eb927a60923e1",
      "314027c6d04644efa55653210b613841",
      "31d442377c244476b46c6f9f835fff80",
      "aeff67eec0d64ce988f13ba64019e25e"
     ]
    },
    "id": "continuing-holmes",
    "outputId": "b87d72ef-f468-4842-c2ae-a52405e08716"
   },
   "outputs": [
    {
     "data": {
      "application/vnd.jupyter.widget-view+json": {
       "model_id": "df640cd135e04812b80e634495ffd8ab",
       "version_major": 2,
       "version_minor": 0
      },
      "text/plain": [
       "Button(description='Reveal solution', style=ButtonStyle())"
      ]
     },
     "metadata": {},
     "output_type": "display_data"
    },
    {
     "data": {
      "application/vnd.jupyter.widget-view+json": {
       "model_id": "3b866585b5944e11b627644f91ba86c8",
       "version_major": 2,
       "version_minor": 0
      },
      "text/plain": [
       "Output(layout=Layout(border='1px solid green'))"
      ]
     },
     "metadata": {},
     "output_type": "display_data"
    }
   ],
   "source": [
    "%run ../scripts/show_solutions.py 01_ex15"
   ]
  },
  {
   "cell_type": "markdown",
   "id": "recorded-hygiene",
   "metadata": {
    "id": "recorded-hygiene"
   },
   "source": [
    "---\n",
    "\n",
    "### 🚩 Exercise 16 (Extra)\n",
    "\n",
    "Using the handy conversation function `sklearn.preprocessing.FunctionTransformer`, make transformer that standardises our data. "
   ]
  },
  {
   "cell_type": "code",
   "execution_count": null,
   "id": "micro-majority",
   "metadata": {
    "id": "micro-majority"
   },
   "outputs": [],
   "source": []
  },
  {
   "cell_type": "code",
   "execution_count": 37,
   "id": "exposed-element",
   "metadata": {
    "colab": {
     "base_uri": "https://localhost:8080/",
     "height": 138,
     "referenced_widgets": [
      "aa37e319ea4f4bfebf67743f041a3c61",
      "2c943865a49846918d96f0051f34ebb3",
      "214b0b81e59148a2a2d380ad0a321ccf",
      "190d4858beb0445295c12c63a40058a1",
      "0daf5043f9e549a7a00a65d61ada40bb"
     ]
    },
    "id": "exposed-element",
    "outputId": "7bef1af6-5f81-47d7-b1a8-1cdf9940969f"
   },
   "outputs": [
    {
     "data": {
      "application/vnd.jupyter.widget-view+json": {
       "model_id": "db57fc21f18f4e09ac45ef113fce3329",
       "version_major": 2,
       "version_minor": 0
      },
      "text/plain": [
       "Button(description='Reveal solution', style=ButtonStyle())"
      ]
     },
     "metadata": {},
     "output_type": "display_data"
    },
    {
     "data": {
      "application/vnd.jupyter.widget-view+json": {
       "model_id": "91fafa4f534843f18f434072552fa245",
       "version_major": 2,
       "version_minor": 0
      },
      "text/plain": [
       "Output(layout=Layout(border='1px solid green'))"
      ]
     },
     "metadata": {},
     "output_type": "display_data"
    }
   ],
   "source": [
    "%run ../scripts/show_solutions.py 01_ex16"
   ]
  },
  {
   "cell_type": "markdown",
   "id": "southeast-production",
   "metadata": {
    "id": "southeast-production"
   },
   "source": [
    "---\n",
    "\n",
    "# 5. Model Exploration <a id='explore'></a>\n",
    "\n",
    "Now you would explore a series of models from different machine learning categories (e.g. linear, non-linear, forests, neural networks). For this workbook we are only going to check a few models on their default parameters.\n",
    "\n",
    "Before moving on we are going to split our data again into a training and validation set. We do this because later we want to get an idea of how different pre-processing steps and models will perform on data it was not trained on. If we did this with our test set, we'd be tweeking our model to get better and better on this set and probably start to overfit to the specifics of this set (therefore its no longer a good measure of generalisation performance). Instead we are going to split our training data again and see how different models affect a validation set. We can use this validation set to guide pipeline changes with the comfort of knowing that when it comes time to assess our pipeline on our test set, that will give us a representative of generalisation performance as we'll only look at it right at the end.\n",
    "\n",
    "__Note__\n",
    "- Leaving your models on default parameters is generally a bad idea, but we'll do it for now until we understand the models more!\n",
    "- If your data is huge, you could subsample your training set here as well while checking different pre-processing and model steps (although this may penalize more complex models). "
   ]
  },
  {
   "cell_type": "code",
   "execution_count": 38,
   "id": "minute-blame",
   "metadata": {
    "id": "minute-blame"
   },
   "outputs": [],
   "source": [
    "# Lets keep a copy for if we want them later\n",
    "X_train_full, y_train_full = X_train.copy(), y_train.copy()\n",
    "\n",
    "X_train, X_val, y_train, y_val = train_test_split(X_train, y_train, # data to split\n",
    "                                                  test_size=0.2,    # we will leave 20% to test our models on later\n",
    "                                                  random_state=42,  # make our work reproducable \n",
    "                                                  shuffle=True)     # prevent data ordering affecting our model\n",
    "# reset the index so it goes from 0...n\n",
    "X_train = X_train.reset_index(drop=True)\n",
    "y_train = y_train.reset_index(drop=True)\n",
    "X_val = X_val.reset_index(drop=True)\n",
    "y_val = y_val.reset_index(drop=True)"
   ]
  },
  {
   "cell_type": "markdown",
   "id": "mysterious-bronze",
   "metadata": {
    "id": "mysterious-bronze"
   },
   "source": [
    "---\n",
    "\n",
    "__Estimators__\n",
    "\n",
    "Models in scikit-learn are _estimator_ classes. Like resamplers and transformers before them, estimators also have a `.fit()`. However, once the estimator is fitted, it can be used for predicting target values of new data using `.predict()`. This means you don’t need to re-train the estimator each time you want to make a prediction.\n",
    "\n",
    "Therefore to model and predict values of a dataset, each  _estimator_ implements:\n",
    "\n",
    "```\n",
    "obj.fit(data, target)\n",
    "data_predictions = obj.predict(data)\n",
    "```\n",
    "\n",
    "or simply...\n",
    "\n",
    "```\n",
    "data_predictions = obj.fit_predict(data)\n",
    "```\n",
    "\n",
    "---"
   ]
  },
  {
   "cell_type": "markdown",
   "id": "negative-april",
   "metadata": {
    "id": "negative-april"
   },
   "source": [
    "## 5.1. Regression\n",
    "\n",
    "Lets start with regression, which we will look at more in the next notebook. We'll start by just fitting a basic linear regression model using `sklearn`."
   ]
  },
  {
   "cell_type": "code",
   "execution_count": 39,
   "id": "nonprofit-evolution",
   "metadata": {
    "colab": {
     "base_uri": "https://localhost:8080/"
    },
    "id": "nonprofit-evolution",
    "outputId": "0950393e-e30e-4adb-f04d-9ee97cc7ebdb"
   },
   "outputs": [
    {
     "data": {
      "text/plain": [
       "LinearRegression()"
      ]
     },
     "execution_count": 39,
     "metadata": {},
     "output_type": "execute_result"
    }
   ],
   "source": [
    "# To build our model, we first need to import it. \n",
    "from sklearn.linear_model import LinearRegression\n",
    "\n",
    "# create an instance of the model\n",
    "reg = LinearRegression()\n",
    "\n",
    "# feed it some data so it can try and learn what the pattern is\n",
    "reg.fit(X_train, y_train)"
   ]
  },
  {
   "cell_type": "markdown",
   "id": "sunset-influence",
   "metadata": {
    "id": "sunset-influence"
   },
   "source": [
    "Great, now lets assess its performance. In a later workbook we'll learn lots of different metrics (and learn its important to use more than just 1!), but for now we will just use $R^2$ which is the default.\n",
    "\n",
    "__What is $R^2$?__\n",
    "\n",
    "Without worrying about the details to much yet, it is a measure of the proportion of the variance in the dependent variable (or \"output\") that is predictable from the independent variables (or \"features\")...and is the default scoring method for regression models in scikit-learn.\n",
    "\n",
    "__What is considered a good score?__\n",
    "\n",
    "Well it depends on the data but... \n",
    "- ...a value of 1.0, means our model is perfectly fitting our data. \n",
    "- ...a value of 0.5 would mean that 50% of the variability in the outcome data is explained by the model.\n",
    "- ...a value of 0.2 would mean that 20% of the variability in the outcome data is explained by the model.\n",
    "- ...etc.\n",
    "\n",
    "We could of course fit our model, make predictions, and calculate the $R^2$ ourselves... or we could just use the `.score()` method. Lets start by having a look at how it did modelling our training data."
   ]
  },
  {
   "cell_type": "code",
   "execution_count": 40,
   "id": "passive-frontier",
   "metadata": {
    "colab": {
     "base_uri": "https://localhost:8080/"
    },
    "id": "passive-frontier",
    "outputId": "3c3804e9-35c9-441f-bfce-85a6e816e034"
   },
   "outputs": [
    {
     "data": {
      "text/plain": [
       "0.359"
      ]
     },
     "execution_count": 40,
     "metadata": {},
     "output_type": "execute_result"
    }
   ],
   "source": [
    "round(reg.score(X_train, y_train), 3)"
   ]
  },
  {
   "cell_type": "markdown",
   "id": "fabulous-computer",
   "metadata": {
    "id": "fabulous-computer"
   },
   "source": [
    "So we can explain 36% of the datas variability using this model. \n",
    "\n",
    "__Is that good or bad?__\n",
    "\n",
    "Well it depends on what performance required for the project and the context for the data/model. A high or low R-square isn't necessarily good or bad, as it doesn't convey the reliability of the model, nor whether you've chosen the right regression. You can get a low R-squared for a good model, or a high R-square for a poorly fitted model, and vice versa. What qualifies as a \"good\" R-Squared value will depend on the context - you would want to have a look at other similar models on similar data, as well as other metrics, to get a better idea here. A low value of $R^2$ just indicates that the dependent variable is affected by a host of other factors in addition to the ones considered in the analysis.\n",
    "\n",
    "Even with all this said, I bet you still want context... okay so here are some suggestions (but take them VERY loosely):\n",
    "\n",
    "> 1) Falk and Miller (1992) recommended that R2 values should be equal to or greater than 0.10 in order for the variance explained of a particular endogenous construct to be deemed adequate.\n",
    ">\n",
    "> 2) Cohen (1988) suggested R2 values for endogenous latent variables are assessed as follows: 0.26 (substantial), 0.13 (moderate), 0.02 (weak).\n",
    ">\n",
    "> 3) Chin (1998) recommended R2 values for endogenous latent variables based on: 0.67 (substantial), 0.33 (moderate), 0.19 (weak).\n",
    ">\n",
    "> 4) Hair et al. (2011) & Hair et al. (2013) suggested in scholarly research that focuses on marketing issues, R2 values of 0.75, 0.50, or 0.25 for endogenous latent variables can, as a rough rule of thumb, be respectively described as substantial, moderate or weak.\n",
    "\n",
    "_Fung, Han Ping. (2015). Re: What is a good r square value in regression analysis?. Retrieved from: https://www.researchgate.net/post/what_is_a_good_r_square_value_in_regression_analysis/5527fb76f079eddf718b45bc/citation/download._\n",
    "\n",
    "---\n",
    "\n",
    "So 36% seems okay. Now another thing we can do is compare its performance on the training set to the performance on the validation set to get an idea of its \"generalisation performance\".\n",
    "\n",
    "__Note__\n",
    "- If you get a different result than above you may have already altered the training data with pre-processing steps - don't do this yet as this is a task in a minute..."
   ]
  },
  {
   "cell_type": "code",
   "execution_count": 41,
   "id": "intermediate-perry",
   "metadata": {
    "colab": {
     "base_uri": "https://localhost:8080/"
    },
    "id": "intermediate-perry",
    "outputId": "26b23ff2-a142-49dc-da0a-a459aea36ceb"
   },
   "outputs": [
    {
     "data": {
      "text/plain": [
       "0.268"
      ]
     },
     "execution_count": 41,
     "metadata": {},
     "output_type": "execute_result"
    }
   ],
   "source": [
    "round(reg.score(X_val, y_val), 3)"
   ]
  },
  {
   "cell_type": "markdown",
   "id": "directed-salem",
   "metadata": {
    "id": "directed-salem"
   },
   "source": [
    "However in the validation set we can only explain 27% of the datas variability using this model. This suggests our model is better at modelling our training data than our validation data. This is common and would mean we should try tweek our model to reduce the difference between the training and validation performance."
   ]
  },
  {
   "cell_type": "markdown",
   "id": "native-turkish",
   "metadata": {
    "id": "native-turkish"
   },
   "source": [
    "---\n",
    "We haven't used our pre-processing steps yet before feeding the data to the model! Lets remind ourselves of what our pre-processing steps are and then chain them together in a `Pipeline`.\n",
    "\n",
    "__Note__\n",
    "- If you've been doing the extra exercises some of the code below should be familiar. If not don't worry about it too much, we're just making sure our functions play nicely in a `Pipeline`.\n",
    "- If you do not have `imblearn` installed you will need to remove `from imblearn.pipeline import Pipeline` and use `from sklearn.pipeline import Pipeline` instead. You also cannot use the sampler `DD`."
   ]
  },
  {
   "cell_type": "code",
   "execution_count": 42,
   "id": "vertical-humanitarian",
   "metadata": {
    "colab": {
     "base_uri": "https://localhost:8080/",
     "height": 240
    },
    "id": "vertical-humanitarian",
    "outputId": "76846c47-0464-4e73-89b2-bf1846e3b959"
   },
   "outputs": [
    {
     "data": {
      "text/html": [
       "<style>#sk-0142bd8c-d6f6-4afe-b91e-03f8acab549b {color: black;background-color: white;}#sk-0142bd8c-d6f6-4afe-b91e-03f8acab549b pre{padding: 0;}#sk-0142bd8c-d6f6-4afe-b91e-03f8acab549b div.sk-toggleable {background-color: white;}#sk-0142bd8c-d6f6-4afe-b91e-03f8acab549b label.sk-toggleable__label {cursor: pointer;display: block;width: 100%;margin-bottom: 0;padding: 0.3em;box-sizing: border-box;text-align: center;}#sk-0142bd8c-d6f6-4afe-b91e-03f8acab549b label.sk-toggleable__label-arrow:before {content: \"▸\";float: left;margin-right: 0.25em;color: #696969;}#sk-0142bd8c-d6f6-4afe-b91e-03f8acab549b label.sk-toggleable__label-arrow:hover:before {color: black;}#sk-0142bd8c-d6f6-4afe-b91e-03f8acab549b div.sk-estimator:hover label.sk-toggleable__label-arrow:before {color: black;}#sk-0142bd8c-d6f6-4afe-b91e-03f8acab549b div.sk-toggleable__content {max-height: 0;max-width: 0;overflow: hidden;text-align: left;background-color: #f0f8ff;}#sk-0142bd8c-d6f6-4afe-b91e-03f8acab549b div.sk-toggleable__content pre {margin: 0.2em;color: black;border-radius: 0.25em;background-color: #f0f8ff;}#sk-0142bd8c-d6f6-4afe-b91e-03f8acab549b input.sk-toggleable__control:checked~div.sk-toggleable__content {max-height: 200px;max-width: 100%;overflow: auto;}#sk-0142bd8c-d6f6-4afe-b91e-03f8acab549b input.sk-toggleable__control:checked~label.sk-toggleable__label-arrow:before {content: \"▾\";}#sk-0142bd8c-d6f6-4afe-b91e-03f8acab549b div.sk-estimator input.sk-toggleable__control:checked~label.sk-toggleable__label {background-color: #d4ebff;}#sk-0142bd8c-d6f6-4afe-b91e-03f8acab549b div.sk-label input.sk-toggleable__control:checked~label.sk-toggleable__label {background-color: #d4ebff;}#sk-0142bd8c-d6f6-4afe-b91e-03f8acab549b input.sk-hidden--visually {border: 0;clip: rect(1px 1px 1px 1px);clip: rect(1px, 1px, 1px, 1px);height: 1px;margin: -1px;overflow: hidden;padding: 0;position: absolute;width: 1px;}#sk-0142bd8c-d6f6-4afe-b91e-03f8acab549b div.sk-estimator {font-family: monospace;background-color: #f0f8ff;border: 1px dotted black;border-radius: 0.25em;box-sizing: border-box;margin-bottom: 0.5em;}#sk-0142bd8c-d6f6-4afe-b91e-03f8acab549b div.sk-estimator:hover {background-color: #d4ebff;}#sk-0142bd8c-d6f6-4afe-b91e-03f8acab549b div.sk-parallel-item::after {content: \"\";width: 100%;border-bottom: 1px solid gray;flex-grow: 1;}#sk-0142bd8c-d6f6-4afe-b91e-03f8acab549b div.sk-label:hover label.sk-toggleable__label {background-color: #d4ebff;}#sk-0142bd8c-d6f6-4afe-b91e-03f8acab549b div.sk-serial::before {content: \"\";position: absolute;border-left: 1px solid gray;box-sizing: border-box;top: 2em;bottom: 0;left: 50%;}#sk-0142bd8c-d6f6-4afe-b91e-03f8acab549b div.sk-serial {display: flex;flex-direction: column;align-items: center;background-color: white;padding-right: 0.2em;padding-left: 0.2em;}#sk-0142bd8c-d6f6-4afe-b91e-03f8acab549b div.sk-item {z-index: 1;}#sk-0142bd8c-d6f6-4afe-b91e-03f8acab549b div.sk-parallel {display: flex;align-items: stretch;justify-content: center;background-color: white;}#sk-0142bd8c-d6f6-4afe-b91e-03f8acab549b div.sk-parallel::before {content: \"\";position: absolute;border-left: 1px solid gray;box-sizing: border-box;top: 2em;bottom: 0;left: 50%;}#sk-0142bd8c-d6f6-4afe-b91e-03f8acab549b div.sk-parallel-item {display: flex;flex-direction: column;position: relative;background-color: white;}#sk-0142bd8c-d6f6-4afe-b91e-03f8acab549b div.sk-parallel-item:first-child::after {align-self: flex-end;width: 50%;}#sk-0142bd8c-d6f6-4afe-b91e-03f8acab549b div.sk-parallel-item:last-child::after {align-self: flex-start;width: 50%;}#sk-0142bd8c-d6f6-4afe-b91e-03f8acab549b div.sk-parallel-item:only-child::after {width: 0;}#sk-0142bd8c-d6f6-4afe-b91e-03f8acab549b div.sk-dashed-wrapped {border: 1px dashed gray;margin: 0 0.4em 0.5em 0.4em;box-sizing: border-box;padding-bottom: 0.4em;background-color: white;position: relative;}#sk-0142bd8c-d6f6-4afe-b91e-03f8acab549b div.sk-label label {font-family: monospace;font-weight: bold;background-color: white;display: inline-block;line-height: 1.2em;}#sk-0142bd8c-d6f6-4afe-b91e-03f8acab549b div.sk-label-container {position: relative;z-index: 2;text-align: center;}#sk-0142bd8c-d6f6-4afe-b91e-03f8acab549b div.sk-container {/* jupyter's `normalize.less` sets `[hidden] { display: none; }` but bootstrap.min.css set `[hidden] { display: none !important; }` so we also need the `!important` here to be able to override the default hidden behavior on the sphinx rendered scikit-learn.org. See: https://github.com/scikit-learn/scikit-learn/issues/21755 */display: inline-block !important;position: relative;}#sk-0142bd8c-d6f6-4afe-b91e-03f8acab549b div.sk-text-repr-fallback {display: none;}</style><div id=\"sk-0142bd8c-d6f6-4afe-b91e-03f8acab549b\" class=\"sk-top-container\"><div class=\"sk-text-repr-fallback\"><pre>Pipeline(steps=[(&#x27;drop_duplicated&#x27;,\n",
       "                 FunctionSampler(func=&lt;function drop_duplicated at 0x0000023897E03790&gt;,\n",
       "                                 validate=False)),\n",
       "                (&#x27;feature_selection&#x27;, DropCorrelatedFeatures(threshold=0.6)),\n",
       "                (&#x27;log_transformer&#x27;, FunctionTransformer(func=&lt;ufunc &#x27;log1p&#x27;&gt;)),\n",
       "                (&#x27;scaler&#x27;, StandardScaler()), (&#x27;model&#x27;, LinearRegression())])</pre><b>Please rerun this cell to show the HTML repr or trust the notebook.</b></div><div class=\"sk-container\" hidden><div class=\"sk-item sk-dashed-wrapped\"><div class=\"sk-label-container\"><div class=\"sk-label sk-toggleable\"><input class=\"sk-toggleable__control sk-hidden--visually\" id=\"129b2c86-b310-4d8d-858a-aad3804e14d6\" type=\"checkbox\" ><label for=\"129b2c86-b310-4d8d-858a-aad3804e14d6\" class=\"sk-toggleable__label sk-toggleable__label-arrow\">Pipeline</label><div class=\"sk-toggleable__content\"><pre>Pipeline(steps=[(&#x27;drop_duplicated&#x27;,\n",
       "                 FunctionSampler(func=&lt;function drop_duplicated at 0x0000023897E03790&gt;,\n",
       "                                 validate=False)),\n",
       "                (&#x27;feature_selection&#x27;, DropCorrelatedFeatures(threshold=0.6)),\n",
       "                (&#x27;log_transformer&#x27;, FunctionTransformer(func=&lt;ufunc &#x27;log1p&#x27;&gt;)),\n",
       "                (&#x27;scaler&#x27;, StandardScaler()), (&#x27;model&#x27;, LinearRegression())])</pre></div></div></div><div class=\"sk-serial\"><div class=\"sk-item\"><div class=\"sk-estimator sk-toggleable\"><input class=\"sk-toggleable__control sk-hidden--visually\" id=\"1175b131-abe2-48d0-9b1b-f974a3849212\" type=\"checkbox\" ><label for=\"1175b131-abe2-48d0-9b1b-f974a3849212\" class=\"sk-toggleable__label sk-toggleable__label-arrow\">FunctionSampler</label><div class=\"sk-toggleable__content\"><pre>FunctionSampler(func=&lt;function drop_duplicated at 0x0000023897E03790&gt;,\n",
       "                validate=False)</pre></div></div></div><div class=\"sk-item\"><div class=\"sk-estimator sk-toggleable\"><input class=\"sk-toggleable__control sk-hidden--visually\" id=\"24126656-4f28-4976-91c5-3c5e47355812\" type=\"checkbox\" ><label for=\"24126656-4f28-4976-91c5-3c5e47355812\" class=\"sk-toggleable__label sk-toggleable__label-arrow\">DropCorrelatedFeatures</label><div class=\"sk-toggleable__content\"><pre>DropCorrelatedFeatures(threshold=0.6)</pre></div></div></div><div class=\"sk-item\"><div class=\"sk-estimator sk-toggleable\"><input class=\"sk-toggleable__control sk-hidden--visually\" id=\"a5b80d97-5717-4d7b-846b-41388a0a6046\" type=\"checkbox\" ><label for=\"a5b80d97-5717-4d7b-846b-41388a0a6046\" class=\"sk-toggleable__label sk-toggleable__label-arrow\">FunctionTransformer</label><div class=\"sk-toggleable__content\"><pre>FunctionTransformer(func=&lt;ufunc &#x27;log1p&#x27;&gt;)</pre></div></div></div><div class=\"sk-item\"><div class=\"sk-estimator sk-toggleable\"><input class=\"sk-toggleable__control sk-hidden--visually\" id=\"84b2216a-5a1c-46f0-b8c8-a6f4dd3573a1\" type=\"checkbox\" ><label for=\"84b2216a-5a1c-46f0-b8c8-a6f4dd3573a1\" class=\"sk-toggleable__label sk-toggleable__label-arrow\">StandardScaler</label><div class=\"sk-toggleable__content\"><pre>StandardScaler()</pre></div></div></div><div class=\"sk-item\"><div class=\"sk-estimator sk-toggleable\"><input class=\"sk-toggleable__control sk-hidden--visually\" id=\"749eb3b8-9e30-4fb7-8b73-a247ee6178a0\" type=\"checkbox\" ><label for=\"749eb3b8-9e30-4fb7-8b73-a247ee6178a0\" class=\"sk-toggleable__label sk-toggleable__label-arrow\">LinearRegression</label><div class=\"sk-toggleable__content\"><pre>LinearRegression()</pre></div></div></div></div></div></div></div>"
      ],
      "text/plain": [
       "Pipeline(steps=[('drop_duplicated',\n",
       "                 FunctionSampler(func=<function drop_duplicated at 0x0000023897E03790>,\n",
       "                                 validate=False)),\n",
       "                ('feature_selection', DropCorrelatedFeatures(threshold=0.6)),\n",
       "                ('log_transformer', FunctionTransformer(func=<ufunc 'log1p'>)),\n",
       "                ('scaler', StandardScaler()), ('model', LinearRegression())])"
      ]
     },
     "execution_count": 42,
     "metadata": {},
     "output_type": "execute_result"
    }
   ],
   "source": [
    "from imblearn.pipeline import Pipeline\n",
    "from sklearn.preprocessing import FunctionTransformer\n",
    "from sklearn import set_config\n",
    "set_config(display='diagram')\n",
    "\n",
    "# remove duplicated values - returns a pandas dataframe as this\n",
    "# is needed for DropCorrelatedFeatures.\n",
    "def drop_duplicated(X,y):\n",
    "    df = pd.concat([X,y], axis=1)\n",
    "    df = df.drop_duplicates()\n",
    "    return df.iloc[:,:-1], df.iloc[:,-1]\n",
    "\n",
    "DD = FunctionSampler(func=drop_duplicated,\n",
    "                      validate=False)\n",
    "\n",
    "# drops correlated features\n",
    "fs = DropCorrelatedFeatures(threshold=0.6)\n",
    "\n",
    "# log transforms all variables\n",
    "lt = FunctionTransformer(np.log1p)\n",
    "\n",
    "# standardises all variables\n",
    "scaler = StandardScaler() \n",
    "\n",
    "# here is the model we want to use.\n",
    "reg = LinearRegression()\n",
    "\n",
    "# create our pipeline for the data to go through.\n",
    "# This is a list of tuples with a name (useful later) and the function.\n",
    "reg_pipe = Pipeline([\n",
    "    (\"drop_duplicated\", DD),\n",
    "    (\"feature_selection\", fs),\n",
    "    (\"log_transformer\", lt),\n",
    "    (\"scaler\", scaler),\n",
    "    (\"model\", reg)\n",
    "])\n",
    "\n",
    "reg_pipe"
   ]
  },
  {
   "cell_type": "markdown",
   "id": "invalid-garden",
   "metadata": {
    "id": "invalid-garden"
   },
   "source": [
    "Lets see if this has improved performance?"
   ]
  },
  {
   "cell_type": "code",
   "execution_count": 43,
   "id": "casual-mobility",
   "metadata": {
    "colab": {
     "base_uri": "https://localhost:8080/"
    },
    "id": "casual-mobility",
    "outputId": "f6f7e4cb-8ecd-42ec-8367-81fcbff9be0e"
   },
   "outputs": [
    {
     "name": "stdout",
     "output_type": "stream",
     "text": [
      "Training Score\n",
      "0.35\n",
      "Validation Score\n",
      "0.273\n"
     ]
    }
   ],
   "source": [
    "reg_pipe.fit(X_train, y_train)\n",
    "\n",
    "print(\"Training Score\")\n",
    "print(round(reg_pipe.score(X_train, y_train), 3))\n",
    "print(\"Validation Score\")\n",
    "print(round(reg_pipe.score(X_val, y_val), 3))"
   ]
  },
  {
   "cell_type": "markdown",
   "id": "southwest-filename",
   "metadata": {
    "id": "southwest-filename"
   },
   "source": [
    "...Okay so in this case not really. But we may be able to improve the pipeline by changing its parameters later. Maybe we don't need all these steps, or maybe there are better models to use? \n",
    "\n",
    "Before looking at other regression models, its always a good idea to get an idea of what \"baseline\" performance looks like. Imagining our client has not told us, lets just use a \"dummy\" model, which does absolutely no learning (it just predicts the training data mean for everything)."
   ]
  },
  {
   "cell_type": "markdown",
   "id": "front-glass",
   "metadata": {
    "id": "front-glass"
   },
   "source": [
    "---\n",
    "\n",
    "### 🚩 Exercise 17\n",
    "\n",
    "Fit a `DummyRegressor` (from `sklearn.dummy`), to the training data and assess its $R^2$ on the training and validation sets. \n",
    "\n",
    "- How does it compare to the `LinearRegression` model? "
   ]
  },
  {
   "cell_type": "code",
   "execution_count": 44,
   "id": "199e9344",
   "metadata": {},
   "outputs": [],
   "source": [
    "from sklearn.dummy import DummyRegressor\n"
   ]
  },
  {
   "cell_type": "code",
   "execution_count": 45,
   "id": "10783219",
   "metadata": {},
   "outputs": [
    {
     "data": {
      "application/vnd.jupyter.widget-view+json": {
       "model_id": "e06030f829ca4bb38b8cf71aa10abf98",
       "version_major": 2,
       "version_minor": 0
      },
      "text/plain": [
       "Button(description='Reveal solution', style=ButtonStyle())"
      ]
     },
     "metadata": {},
     "output_type": "display_data"
    },
    {
     "data": {
      "application/vnd.jupyter.widget-view+json": {
       "model_id": "114c541b987a49a29657e611ca47604e",
       "version_major": 2,
       "version_minor": 0
      },
      "text/plain": [
       "Output(layout=Layout(border='1px solid green'))"
      ]
     },
     "metadata": {},
     "output_type": "display_data"
    }
   ],
   "source": [
    "%run ../scripts/show_solutions.py 01_ex17"
   ]
  },
  {
   "cell_type": "markdown",
   "id": "1905653d",
   "metadata": {
    "id": "front-glass"
   },
   "source": [
    "---\n",
    "\n",
    "### 🚩 Exercise 18\n",
    "\n",
    "See if other regression models can be used to improve performance.\n",
    "\n",
    "__a)__ Create a `pipeline` with `PolynomialFeatures(include_bias=False)` inbetween the `\"log_transformer\"` and `\"scaler\"`.\n",
    "\n",
    "__Note__\n",
    "- `PolynomialFeatures()` enables our regression model to capture \"non-linear\" relationships between our variables (we'll look at this more later).\n",
    "- `include_bias=False` just stops the function adding a bias column as our `LinearRegression` object is going to add one for us anyway."
   ]
  },
  {
   "cell_type": "code",
   "execution_count": 46,
   "id": "opponent-dinner",
   "metadata": {
    "id": "opponent-dinner"
   },
   "outputs": [],
   "source": [
    "from sklearn.preprocessing import PolynomialFeatures\n",
    "\n"
   ]
  },
  {
   "cell_type": "code",
   "execution_count": 47,
   "id": "respective-affect",
   "metadata": {
    "colab": {
     "base_uri": "https://localhost:8080/",
     "height": 398,
     "referenced_widgets": [
      "fc03b42168984eb087195e73cff352d1",
      "cae430c6f61649a0acf8c4ec47ede35a",
      "c94b881f0fd24153af65950cda9104e2",
      "1d034f6e5ad44b04926b53e21806c14a",
      "7329e877523c4f268c3b1f05cd688e7d"
     ]
    },
    "id": "respective-affect",
    "outputId": "1475ccf3-0157-43fd-b47c-532e80d7fea0"
   },
   "outputs": [
    {
     "data": {
      "application/vnd.jupyter.widget-view+json": {
       "model_id": "d16a1cf75cff460f8686d185dfdc186a",
       "version_major": 2,
       "version_minor": 0
      },
      "text/plain": [
       "Button(description='Reveal solution', style=ButtonStyle())"
      ]
     },
     "metadata": {},
     "output_type": "display_data"
    },
    {
     "data": {
      "application/vnd.jupyter.widget-view+json": {
       "model_id": "407980262e6f41ad81761be1356d1089",
       "version_major": 2,
       "version_minor": 0
      },
      "text/plain": [
       "Output(layout=Layout(border='1px solid green'))"
      ]
     },
     "metadata": {},
     "output_type": "display_data"
    }
   ],
   "source": [
    "%run ../scripts/show_solutions.py 01_ex18a"
   ]
  },
  {
   "cell_type": "markdown",
   "id": "informational-pilot",
   "metadata": {
    "id": "informational-pilot"
   },
   "source": [
    "__b)__ Create a different `pipeline` with `DecisionTreeRegressor()` used instead of the `LinearRegression` model.\n",
    "\n",
    "__Note__\n",
    "- This time you don't want to have `PolynomialFeatures()`."
   ]
  },
  {
   "cell_type": "code",
   "execution_count": 48,
   "id": "amber-lloyd",
   "metadata": {
    "id": "amber-lloyd"
   },
   "outputs": [],
   "source": [
    "from sklearn.tree import DecisionTreeRegressor\n",
    "\n"
   ]
  },
  {
   "cell_type": "code",
   "execution_count": 49,
   "id": "dressed-approval",
   "metadata": {
    "colab": {
     "base_uri": "https://localhost:8080/",
     "height": 363,
     "referenced_widgets": [
      "5b46ea159f0f48dcb9ca223021d326b3",
      "3f5d6001dcea47f4afd512bdce2616d6",
      "a8326913be5746b698a5e868b0c71ba0",
      "700fddb784d640379379b17e89be9ccf",
      "038a6365db0b4b4c8f2cb392d9a49842"
     ]
    },
    "id": "dressed-approval",
    "outputId": "783cc55d-8353-4fae-dc7a-5f1a7c7e2a63"
   },
   "outputs": [
    {
     "data": {
      "application/vnd.jupyter.widget-view+json": {
       "model_id": "94441d604e534a26b72214509a9b0973",
       "version_major": 2,
       "version_minor": 0
      },
      "text/plain": [
       "Button(description='Reveal solution', style=ButtonStyle())"
      ]
     },
     "metadata": {},
     "output_type": "display_data"
    },
    {
     "data": {
      "application/vnd.jupyter.widget-view+json": {
       "model_id": "8ec4846900b941f7b67c2b20381c8bab",
       "version_major": 2,
       "version_minor": 0
      },
      "text/plain": [
       "Output(layout=Layout(border='1px solid green'))"
      ]
     },
     "metadata": {},
     "output_type": "display_data"
    }
   ],
   "source": [
    "%run ../scripts/show_solutions.py 01_ex18b"
   ]
  },
  {
   "cell_type": "markdown",
   "id": "departmental-worcester",
   "metadata": {
    "id": "departmental-worcester"
   },
   "source": [
    "__c)__ How do these models compare to the standard `LinearRegression` pipeline according to their $R^2$ performance?"
   ]
  },
  {
   "cell_type": "markdown",
   "id": "blond-transparency",
   "metadata": {
    "id": "blond-transparency"
   },
   "source": []
  },
  {
   "cell_type": "code",
   "execution_count": 50,
   "id": "aggregate-chest",
   "metadata": {
    "colab": {
     "base_uri": "https://localhost:8080/",
     "height": 115,
     "referenced_widgets": [
      "3cd491b3e6154d8ca9c36ac5ff53f110",
      "9e54e55dbb064c1cbea50889ddc7191b",
      "a37d292ca86b451c8337d33752e858dc",
      "66a2a930a5ad494f8d467f88abf68a82",
      "890838634e614380b006ef9fcb6e5d04"
     ]
    },
    "id": "aggregate-chest",
    "outputId": "d763de6e-8549-4c95-e352-5a587343925d"
   },
   "outputs": [
    {
     "data": {
      "application/vnd.jupyter.widget-view+json": {
       "model_id": "24057814e3b94c19bd818b5b053fe6c9",
       "version_major": 2,
       "version_minor": 0
      },
      "text/plain": [
       "Button(description='Reveal solution', style=ButtonStyle())"
      ]
     },
     "metadata": {},
     "output_type": "display_data"
    },
    {
     "data": {
      "application/vnd.jupyter.widget-view+json": {
       "model_id": "8d9f4d34d3654b4da0b6d5c9a09c18dc",
       "version_major": 2,
       "version_minor": 0
      },
      "text/plain": [
       "Output(layout=Layout(border='1px solid green'))"
      ]
     },
     "metadata": {},
     "output_type": "display_data"
    }
   ],
   "source": [
    "%run ../scripts/show_solutions.py 01_ex18c"
   ]
  },
  {
   "cell_type": "markdown",
   "id": "finnish-secondary",
   "metadata": {
    "id": "finnish-secondary"
   },
   "source": [
    "---\n",
    "You may be thinking, well I could have done all that without bothering with making sure my functions were compatible with a `Pipeline`. There are two main reasons why I suggest using them:\n",
    "\n",
    "__Ensures Information Bleed Prevention__\n",
    "\n",
    "If we did all our preprocessing steps before splitting the data into training and validation steps, we would bleed information from our validation set for training the models. For example, we scaled our features which requires us taking a mean and standard deviation of the data we'll train our model on. If these means and standard deviations include the data we will use for validation they may very slightly improve our result and then when we later make predictions on the test set we may find performance is slightly worse than expected as we truely did not use any information from that set! Over time these small amounts of information bleed may add up and mean our validation set is no longer as useful assessing how our model performs on other data.\n",
    "\n",
    "So did this effect us because we did pre-processing steps before splitting our data? Nope because we use pipleines. When we used `.fit(X_train, y_train)` as above, this overwrites the parameters of the pre-processing steps and the model so we can be assured this only reflects information from this set. Sure you could go step by step using `.fit_transform()` on your data and passing the output to the next function, but this would not be as simple as putting them all in a `Pipeline`. Another way round would be to split your data into training and validation sets before pre-processing your data to stop you needing to re-fit your pre-processing steps later. This would work, but using a `Pipeline` works well with other validation methods too (so saves us some additional coding)...\n",
    "\n",
    "__Works well with Different Validation Methods__\n",
    "\n",
    "Heres where `Pipelines` really start to get useful (and we'll see more extensions later). So far we've used the `train_test_split` function to split the training set into a smaller training set and a validation set, which we have used to validate our models. This works well, but by partitioning the available data into three sets, we reduce the number of samples that can be used for learning the model, and the results depend on the random choice of the pair of (train, validation) sets. A great alternative is therefore to use Scikit-Learn’s _K-fold cross-validation_ feature. A test set should still be held out for final evaluation, but the validation set is no longer needed when doing CV.\n",
    "\n",
    "![Cross-validation](./Images/grid_search_cross_validation.png)\n",
    "\n",
    "When doing k-fold cross-validation, the training set is split into $k$ smaller sets and:\n",
    "\n",
    "- A model is trained using $k-1$ of the folds as training data.\n",
    "\n",
    "- The resulting model is validated on the remaining part of the data.\n",
    "\n",
    "The performance measure reported by k-fold cross-validation is therefore the average of the values computed in the loop. Although more computationally expensive than a single split, it does not waste too much data (particuarly useful when the number of samples is very small) and gives us more robust assessment of performance. Again, using a `Pipeline` with this method will ensure there is no information bleed between our different folds.\n",
    "\n",
    "Lets have a look how we could evaluate our initial linear regression pipeline below with them.\n",
    "\n",
    "__Note__\n",
    "- You can use `cross_val_score` if you just want the validation score.\n",
    "- Note `cross_validate` calls the validation performance the `test_score`, to be clear this is the validation performance and should not be used as \"test\"! This is why I rename it in the `tidy_scores` function below."
   ]
  },
  {
   "cell_type": "code",
   "execution_count": 51,
   "id": "successful-homeless",
   "metadata": {
    "colab": {
     "base_uri": "https://localhost:8080/",
     "height": 300
    },
    "id": "successful-homeless",
    "outputId": "f40b6937-ace6-4650-970b-3ac4bb5788ca"
   },
   "outputs": [
    {
     "data": {
      "text/html": [
       "<div>\n",
       "<style scoped>\n",
       "    .dataframe tbody tr th:only-of-type {\n",
       "        vertical-align: middle;\n",
       "    }\n",
       "\n",
       "    .dataframe tbody tr th {\n",
       "        vertical-align: top;\n",
       "    }\n",
       "\n",
       "    .dataframe thead th {\n",
       "        text-align: right;\n",
       "    }\n",
       "</style>\n",
       "<table border=\"1\" class=\"dataframe\">\n",
       "  <thead>\n",
       "    <tr style=\"text-align: right;\">\n",
       "      <th></th>\n",
       "      <th>fit_time</th>\n",
       "      <th>score_time</th>\n",
       "      <th>val_score</th>\n",
       "      <th>train_score</th>\n",
       "    </tr>\n",
       "    <tr>\n",
       "      <th>fold</th>\n",
       "      <th></th>\n",
       "      <th></th>\n",
       "      <th></th>\n",
       "      <th></th>\n",
       "    </tr>\n",
       "  </thead>\n",
       "  <tbody>\n",
       "    <tr>\n",
       "      <th>0</th>\n",
       "      <td>0.01</td>\n",
       "      <td>0.0</td>\n",
       "      <td>0.24</td>\n",
       "      <td>0.36</td>\n",
       "    </tr>\n",
       "    <tr>\n",
       "      <th>1</th>\n",
       "      <td>0.01</td>\n",
       "      <td>0.0</td>\n",
       "      <td>0.29</td>\n",
       "      <td>0.35</td>\n",
       "    </tr>\n",
       "    <tr>\n",
       "      <th>2</th>\n",
       "      <td>0.01</td>\n",
       "      <td>0.0</td>\n",
       "      <td>0.28</td>\n",
       "      <td>0.35</td>\n",
       "    </tr>\n",
       "    <tr>\n",
       "      <th>3</th>\n",
       "      <td>0.01</td>\n",
       "      <td>0.0</td>\n",
       "      <td>0.34</td>\n",
       "      <td>0.34</td>\n",
       "    </tr>\n",
       "    <tr>\n",
       "      <th>4</th>\n",
       "      <td>0.01</td>\n",
       "      <td>0.0</td>\n",
       "      <td>0.44</td>\n",
       "      <td>0.31</td>\n",
       "    </tr>\n",
       "    <tr>\n",
       "      <th>mean</th>\n",
       "      <td>0.01</td>\n",
       "      <td>0.0</td>\n",
       "      <td>0.32</td>\n",
       "      <td>0.34</td>\n",
       "    </tr>\n",
       "    <tr>\n",
       "      <th>sd</th>\n",
       "      <td>0.00</td>\n",
       "      <td>0.0</td>\n",
       "      <td>0.07</td>\n",
       "      <td>0.01</td>\n",
       "    </tr>\n",
       "  </tbody>\n",
       "</table>\n",
       "</div>"
      ],
      "text/plain": [
       "      fit_time  score_time  val_score  train_score\n",
       "fold                                              \n",
       "0         0.01         0.0       0.24         0.36\n",
       "1         0.01         0.0       0.29         0.35\n",
       "2         0.01         0.0       0.28         0.35\n",
       "3         0.01         0.0       0.34         0.34\n",
       "4         0.01         0.0       0.44         0.31\n",
       "mean      0.01         0.0       0.32         0.34\n",
       "sd        0.00         0.0       0.07         0.01"
      ]
     },
     "execution_count": 51,
     "metadata": {},
     "output_type": "execute_result"
    }
   ],
   "source": [
    "from sklearn.model_selection import cross_validate\n",
    "\n",
    "# tidy the output into a dataframe\n",
    "def tidy_scores(score_dict):\n",
    "    df = pd.DataFrame(score_dict)\n",
    "    df.loc['mean'] = df.mean()\n",
    "    df.loc['sd'] = df.std()\n",
    "    df.rename({\"test_score\":\"val_score\"}, axis=1, inplace=True)\n",
    "    df.index.name = \"fold\"\n",
    "    return df.round(2)\n",
    "\n",
    "scores = cross_validate(reg_pipe, X_train_full, y_train_full, cv=5, return_train_score=True)\n",
    "tidy_scores(scores)"
   ]
  },
  {
   "cell_type": "markdown",
   "id": "clinical-syndication",
   "metadata": {
    "id": "clinical-syndication"
   },
   "source": [
    "---\n",
    "\n",
    "### 🚩 Exercise 19\n",
    "\n",
    "Assess the performance of the other regression pipelines made above (the one with `PolynomialFeatures(include_bias=False)` and the other with a `DecisionTreeRegressor`) using `cross_validate`. \n",
    "- Do these results change your intepretation of the best model pipeline?"
   ]
  },
  {
   "cell_type": "code",
   "execution_count": null,
   "id": "remarkable-redhead",
   "metadata": {
    "id": "remarkable-redhead"
   },
   "outputs": [],
   "source": []
  },
  {
   "cell_type": "code",
   "execution_count": 52,
   "id": "robust-brother",
   "metadata": {
    "colab": {
     "base_uri": "https://localhost:8080/",
     "height": 306,
     "referenced_widgets": [
      "acefa0b7bfd742bab2a697c743860529",
      "fc8e85ffed164da4a13ed5bbe69d4ae9",
      "853b72020a2e42bea8513d5939e765fc",
      "9046b7aec2144d83999e7636bd05f051",
      "ca85765c4e4c4163af3560ae46ad1b4f"
     ]
    },
    "id": "robust-brother",
    "outputId": "5ce6f3f4-1126-45b2-c1de-7a445b5c57b9"
   },
   "outputs": [
    {
     "data": {
      "application/vnd.jupyter.widget-view+json": {
       "model_id": "2c7733f4a799462e87f5c09bb38d7ba6",
       "version_major": 2,
       "version_minor": 0
      },
      "text/plain": [
       "Button(description='Reveal solution', style=ButtonStyle())"
      ]
     },
     "metadata": {},
     "output_type": "display_data"
    },
    {
     "data": {
      "application/vnd.jupyter.widget-view+json": {
       "model_id": "58ab9379ec9d40fa9690855a664e781a",
       "version_major": 2,
       "version_minor": 0
      },
      "text/plain": [
       "Output(layout=Layout(border='1px solid green'))"
      ]
     },
     "metadata": {},
     "output_type": "display_data"
    }
   ],
   "source": [
    "%run ../scripts/show_solutions.py 01_ex19"
   ]
  },
  {
   "cell_type": "markdown",
   "id": "intensive-ontario",
   "metadata": {
    "id": "intensive-ontario"
   },
   "source": [
    "---\n",
    "\n",
    "At this point you would normally begin to examine how the fitted models are working and what are the most most useful variables for each algorithm. Investigating this may give you a deeper insight into the data and inform another quick round of feature selection and engineering. However, for now we are just going to skip this until we learn more about the models."
   ]
  },
  {
   "cell_type": "markdown",
   "id": "fitting-federation",
   "metadata": {
    "id": "fitting-federation"
   },
   "source": [
    "---\n",
    "\n",
    "## 6. Model Refinement <a id='refine'></a>\n",
    "\n",
    "Now you will want to fine-tune your models. Normally you would select a couple of models which are making different errors to examine in more detail but for the sake of this workbook we are just going to look at the best regression (Linear Regression) model.\n",
    "\n",
    "To fine tune your model you want to change your models \"parameters\". At the moment we have mostly been using each model on their default settings (\"hyperparameters\"), but most have stuff we can change. However, as we haven't explained any of these models yet we are going to leave these on default. Instead we are going to try improve model performance by changing our data transformations."
   ]
  },
  {
   "cell_type": "markdown",
   "id": "buried-wealth",
   "metadata": {
    "id": "buried-wealth"
   },
   "source": [
    "---\n",
    "\n",
    "### 🚩 Exercise 20\n",
    "\n",
    "Remove and/or change some of the pre-processing steps to see if you can improve the \"best\" model performance*. Here are some things you can try:\n",
    "- Remove the duplicated observations/feature selection/transformer/scaling step from the pipeline.\n",
    "- Change the `threshold` for the `DropCorrelatedFeatures`.\n",
    "\n",
    "__Notes__\n",
    "- Instead of deleting or hashing out a pipeline step you want to skip, you can specify the name string as `\"passthrough\"` or set the resampler/transformer/estimator to `None`. This is useful later in the course when we get onto using automated methods to refine our models.\n",
    "\n",
    "*_At the moment we are going to do this all manually, but you can automate this process using a `gridsearch` or `randomsearch` which will be discussed in a future workbook._"
   ]
  },
  {
   "cell_type": "code",
   "execution_count": null,
   "id": "b3a9b65c",
   "metadata": {},
   "outputs": [],
   "source": []
  },
  {
   "cell_type": "code",
   "execution_count": 53,
   "id": "feccfd8d",
   "metadata": {},
   "outputs": [
    {
     "data": {
      "application/vnd.jupyter.widget-view+json": {
       "model_id": "f830ac83e991462ca7418e3590958bff",
       "version_major": 2,
       "version_minor": 0
      },
      "text/plain": [
       "Button(description='Reveal solution', style=ButtonStyle())"
      ]
     },
     "metadata": {},
     "output_type": "display_data"
    },
    {
     "data": {
      "application/vnd.jupyter.widget-view+json": {
       "model_id": "3dedc30377634b588baa64fb41465cfc",
       "version_major": 2,
       "version_minor": 0
      },
      "text/plain": [
       "Output(layout=Layout(border='1px solid green'))"
      ]
     },
     "metadata": {},
     "output_type": "display_data"
    }
   ],
   "source": [
    "%run ../scripts/show_solutions.py 01_ex20"
   ]
  },
  {
   "cell_type": "markdown",
   "id": "fatty-channels",
   "metadata": {
    "id": "fatty-channels"
   },
   "source": [
    "---\n",
    "## 7. Solution Presentation <a id='pres'></a>\n",
    "\n",
    "Now with your models are complete you would present your findings in a report worded appropriately for the intended stakeholder. At this step is where you may improve your visualisations and present your findings in an interesting way.\n",
    "\n",
    "Part of this is getting a final assessment of the generalisation performance for your final models to present (what the test set is for). The reason we leave it so late is because it is important that you do not tweak your model after doing this as this will mean that you would just start to overfit to your test set! Overfitting is the reason at this point that your model may perform better on the training and validation sets than the test set.\n",
    "\n",
    "---\n",
    "\n",
    "### 🚩 Exercise 21\n",
    "\n",
    "Measure the performance of your chosen model pipeline on the _test set_. \n",
    "- How did it perform? \n",
    "- Was it about what you expected?\n",
    "\n",
    "__Note__\n",
    "- Make sure to training your model on ALL the available training data, not just the smaller training data that had a the validation set taken off it, as now you don't need the validation data to check any further changes."
   ]
  },
  {
   "cell_type": "code",
   "execution_count": null,
   "id": "01325ae1",
   "metadata": {},
   "outputs": [],
   "source": []
  },
  {
   "cell_type": "code",
   "execution_count": 54,
   "id": "96b48af3",
   "metadata": {},
   "outputs": [
    {
     "data": {
      "application/vnd.jupyter.widget-view+json": {
       "model_id": "1edafd1e0f98486facc2d23bef5f5aa3",
       "version_major": 2,
       "version_minor": 0
      },
      "text/plain": [
       "Button(description='Reveal solution', style=ButtonStyle())"
      ]
     },
     "metadata": {},
     "output_type": "display_data"
    },
    {
     "data": {
      "application/vnd.jupyter.widget-view+json": {
       "model_id": "cfe157036e2341709cdbb04df0407cfa",
       "version_major": 2,
       "version_minor": 0
      },
      "text/plain": [
       "Output(layout=Layout(border='1px solid green'))"
      ]
     },
     "metadata": {},
     "output_type": "display_data"
    }
   ],
   "source": [
    "%run ../scripts/show_solutions.py 01_ex21"
   ]
  },
  {
   "cell_type": "markdown",
   "id": "pleasant-cheese",
   "metadata": {
    "id": "pleasant-cheese"
   },
   "source": [
    "---\n",
    "## 8. Deployment <a id='deploy'></a>\n",
    "\n",
    "It maybe that your model is going to be adopted into practice. At this point, depending on your skills, you may work with an engineer to get your code production ready (e.g. impliment unit tests, performance and input monitoring, retraining schedules), or just do it yourself.\n",
    "\n",
    "In this case you can provide your client a model that when they input properties of a wine it predicts the \"quality\" of the wine. This could be used to help guide the clients on how to price the wine.\n",
    "\n",
    "To provide the model, there are a few ways. A simple way is just to using either `joblib` or `pickle`. Here I will demonstrate joblib..."
   ]
  },
  {
   "cell_type": "code",
   "execution_count": 56,
   "id": "ee660207",
   "metadata": {},
   "outputs": [
    {
     "data": {
      "text/plain": [
       "['.\\\\Model\\\\reg_pipe.pkl']"
      ]
     },
     "execution_count": 56,
     "metadata": {},
     "output_type": "execute_result"
    }
   ],
   "source": [
    "import joblib\n",
    "import os\n",
    "\n",
    "modelPath = os.path.join(os.path.curdir, \"Model\", \"reg_pipe.pkl\")\n",
    "joblib.dump(reg_pipe, modelPath)"
   ]
  },
  {
   "cell_type": "markdown",
   "id": "28c3a50b",
   "metadata": {},
   "source": [
    "If you check the `Model` folder, you should now see the file there. If we want to load the model, we just need to call the filename..."
   ]
  },
  {
   "cell_type": "code",
   "execution_count": 57,
   "id": "850742b5",
   "metadata": {},
   "outputs": [
    {
     "data": {
      "text/html": [
       "<style>#sk-3305f970-23d7-433c-98b6-e4b46e8b4a13 {color: black;background-color: white;}#sk-3305f970-23d7-433c-98b6-e4b46e8b4a13 pre{padding: 0;}#sk-3305f970-23d7-433c-98b6-e4b46e8b4a13 div.sk-toggleable {background-color: white;}#sk-3305f970-23d7-433c-98b6-e4b46e8b4a13 label.sk-toggleable__label {cursor: pointer;display: block;width: 100%;margin-bottom: 0;padding: 0.3em;box-sizing: border-box;text-align: center;}#sk-3305f970-23d7-433c-98b6-e4b46e8b4a13 label.sk-toggleable__label-arrow:before {content: \"▸\";float: left;margin-right: 0.25em;color: #696969;}#sk-3305f970-23d7-433c-98b6-e4b46e8b4a13 label.sk-toggleable__label-arrow:hover:before {color: black;}#sk-3305f970-23d7-433c-98b6-e4b46e8b4a13 div.sk-estimator:hover label.sk-toggleable__label-arrow:before {color: black;}#sk-3305f970-23d7-433c-98b6-e4b46e8b4a13 div.sk-toggleable__content {max-height: 0;max-width: 0;overflow: hidden;text-align: left;background-color: #f0f8ff;}#sk-3305f970-23d7-433c-98b6-e4b46e8b4a13 div.sk-toggleable__content pre {margin: 0.2em;color: black;border-radius: 0.25em;background-color: #f0f8ff;}#sk-3305f970-23d7-433c-98b6-e4b46e8b4a13 input.sk-toggleable__control:checked~div.sk-toggleable__content {max-height: 200px;max-width: 100%;overflow: auto;}#sk-3305f970-23d7-433c-98b6-e4b46e8b4a13 input.sk-toggleable__control:checked~label.sk-toggleable__label-arrow:before {content: \"▾\";}#sk-3305f970-23d7-433c-98b6-e4b46e8b4a13 div.sk-estimator input.sk-toggleable__control:checked~label.sk-toggleable__label {background-color: #d4ebff;}#sk-3305f970-23d7-433c-98b6-e4b46e8b4a13 div.sk-label input.sk-toggleable__control:checked~label.sk-toggleable__label {background-color: #d4ebff;}#sk-3305f970-23d7-433c-98b6-e4b46e8b4a13 input.sk-hidden--visually {border: 0;clip: rect(1px 1px 1px 1px);clip: rect(1px, 1px, 1px, 1px);height: 1px;margin: -1px;overflow: hidden;padding: 0;position: absolute;width: 1px;}#sk-3305f970-23d7-433c-98b6-e4b46e8b4a13 div.sk-estimator {font-family: monospace;background-color: #f0f8ff;border: 1px dotted black;border-radius: 0.25em;box-sizing: border-box;margin-bottom: 0.5em;}#sk-3305f970-23d7-433c-98b6-e4b46e8b4a13 div.sk-estimator:hover {background-color: #d4ebff;}#sk-3305f970-23d7-433c-98b6-e4b46e8b4a13 div.sk-parallel-item::after {content: \"\";width: 100%;border-bottom: 1px solid gray;flex-grow: 1;}#sk-3305f970-23d7-433c-98b6-e4b46e8b4a13 div.sk-label:hover label.sk-toggleable__label {background-color: #d4ebff;}#sk-3305f970-23d7-433c-98b6-e4b46e8b4a13 div.sk-serial::before {content: \"\";position: absolute;border-left: 1px solid gray;box-sizing: border-box;top: 2em;bottom: 0;left: 50%;}#sk-3305f970-23d7-433c-98b6-e4b46e8b4a13 div.sk-serial {display: flex;flex-direction: column;align-items: center;background-color: white;padding-right: 0.2em;padding-left: 0.2em;}#sk-3305f970-23d7-433c-98b6-e4b46e8b4a13 div.sk-item {z-index: 1;}#sk-3305f970-23d7-433c-98b6-e4b46e8b4a13 div.sk-parallel {display: flex;align-items: stretch;justify-content: center;background-color: white;}#sk-3305f970-23d7-433c-98b6-e4b46e8b4a13 div.sk-parallel::before {content: \"\";position: absolute;border-left: 1px solid gray;box-sizing: border-box;top: 2em;bottom: 0;left: 50%;}#sk-3305f970-23d7-433c-98b6-e4b46e8b4a13 div.sk-parallel-item {display: flex;flex-direction: column;position: relative;background-color: white;}#sk-3305f970-23d7-433c-98b6-e4b46e8b4a13 div.sk-parallel-item:first-child::after {align-self: flex-end;width: 50%;}#sk-3305f970-23d7-433c-98b6-e4b46e8b4a13 div.sk-parallel-item:last-child::after {align-self: flex-start;width: 50%;}#sk-3305f970-23d7-433c-98b6-e4b46e8b4a13 div.sk-parallel-item:only-child::after {width: 0;}#sk-3305f970-23d7-433c-98b6-e4b46e8b4a13 div.sk-dashed-wrapped {border: 1px dashed gray;margin: 0 0.4em 0.5em 0.4em;box-sizing: border-box;padding-bottom: 0.4em;background-color: white;position: relative;}#sk-3305f970-23d7-433c-98b6-e4b46e8b4a13 div.sk-label label {font-family: monospace;font-weight: bold;background-color: white;display: inline-block;line-height: 1.2em;}#sk-3305f970-23d7-433c-98b6-e4b46e8b4a13 div.sk-label-container {position: relative;z-index: 2;text-align: center;}#sk-3305f970-23d7-433c-98b6-e4b46e8b4a13 div.sk-container {/* jupyter's `normalize.less` sets `[hidden] { display: none; }` but bootstrap.min.css set `[hidden] { display: none !important; }` so we also need the `!important` here to be able to override the default hidden behavior on the sphinx rendered scikit-learn.org. See: https://github.com/scikit-learn/scikit-learn/issues/21755 */display: inline-block !important;position: relative;}#sk-3305f970-23d7-433c-98b6-e4b46e8b4a13 div.sk-text-repr-fallback {display: none;}</style><div id=\"sk-3305f970-23d7-433c-98b6-e4b46e8b4a13\" class=\"sk-top-container\"><div class=\"sk-text-repr-fallback\"><pre>Pipeline(steps=[(&#x27;drop_duplicated&#x27;,\n",
       "                 FunctionSampler(func=&lt;function drop_duplicated at 0x0000023897E03790&gt;,\n",
       "                                 validate=False)),\n",
       "                (&#x27;feature_selection&#x27;, DropCorrelatedFeatures(threshold=0.6)),\n",
       "                (&#x27;log_transformer&#x27;, FunctionTransformer(func=&lt;ufunc &#x27;log1p&#x27;&gt;)),\n",
       "                (&#x27;scaler&#x27;, StandardScaler()), (&#x27;model&#x27;, LinearRegression())])</pre><b>Please rerun this cell to show the HTML repr or trust the notebook.</b></div><div class=\"sk-container\" hidden><div class=\"sk-item sk-dashed-wrapped\"><div class=\"sk-label-container\"><div class=\"sk-label sk-toggleable\"><input class=\"sk-toggleable__control sk-hidden--visually\" id=\"bcdff222-bba9-4b4f-b867-40f5fb33fe23\" type=\"checkbox\" ><label for=\"bcdff222-bba9-4b4f-b867-40f5fb33fe23\" class=\"sk-toggleable__label sk-toggleable__label-arrow\">Pipeline</label><div class=\"sk-toggleable__content\"><pre>Pipeline(steps=[(&#x27;drop_duplicated&#x27;,\n",
       "                 FunctionSampler(func=&lt;function drop_duplicated at 0x0000023897E03790&gt;,\n",
       "                                 validate=False)),\n",
       "                (&#x27;feature_selection&#x27;, DropCorrelatedFeatures(threshold=0.6)),\n",
       "                (&#x27;log_transformer&#x27;, FunctionTransformer(func=&lt;ufunc &#x27;log1p&#x27;&gt;)),\n",
       "                (&#x27;scaler&#x27;, StandardScaler()), (&#x27;model&#x27;, LinearRegression())])</pre></div></div></div><div class=\"sk-serial\"><div class=\"sk-item\"><div class=\"sk-estimator sk-toggleable\"><input class=\"sk-toggleable__control sk-hidden--visually\" id=\"35924ed6-ac3a-43d6-bb4c-915b633d832a\" type=\"checkbox\" ><label for=\"35924ed6-ac3a-43d6-bb4c-915b633d832a\" class=\"sk-toggleable__label sk-toggleable__label-arrow\">FunctionSampler</label><div class=\"sk-toggleable__content\"><pre>FunctionSampler(func=&lt;function drop_duplicated at 0x0000023897E03790&gt;,\n",
       "                validate=False)</pre></div></div></div><div class=\"sk-item\"><div class=\"sk-estimator sk-toggleable\"><input class=\"sk-toggleable__control sk-hidden--visually\" id=\"3972eeb7-fd92-4fe9-acfd-d2402d413a79\" type=\"checkbox\" ><label for=\"3972eeb7-fd92-4fe9-acfd-d2402d413a79\" class=\"sk-toggleable__label sk-toggleable__label-arrow\">DropCorrelatedFeatures</label><div class=\"sk-toggleable__content\"><pre>DropCorrelatedFeatures(threshold=0.6)</pre></div></div></div><div class=\"sk-item\"><div class=\"sk-estimator sk-toggleable\"><input class=\"sk-toggleable__control sk-hidden--visually\" id=\"14190e6f-2ef9-42b1-82ed-f009191c111d\" type=\"checkbox\" ><label for=\"14190e6f-2ef9-42b1-82ed-f009191c111d\" class=\"sk-toggleable__label sk-toggleable__label-arrow\">FunctionTransformer</label><div class=\"sk-toggleable__content\"><pre>FunctionTransformer(func=&lt;ufunc &#x27;log1p&#x27;&gt;)</pre></div></div></div><div class=\"sk-item\"><div class=\"sk-estimator sk-toggleable\"><input class=\"sk-toggleable__control sk-hidden--visually\" id=\"eb3faf25-95f6-4857-bba9-5bbf512f48f4\" type=\"checkbox\" ><label for=\"eb3faf25-95f6-4857-bba9-5bbf512f48f4\" class=\"sk-toggleable__label sk-toggleable__label-arrow\">StandardScaler</label><div class=\"sk-toggleable__content\"><pre>StandardScaler()</pre></div></div></div><div class=\"sk-item\"><div class=\"sk-estimator sk-toggleable\"><input class=\"sk-toggleable__control sk-hidden--visually\" id=\"5f899e81-8c9a-4191-a477-a8df8018f569\" type=\"checkbox\" ><label for=\"5f899e81-8c9a-4191-a477-a8df8018f569\" class=\"sk-toggleable__label sk-toggleable__label-arrow\">LinearRegression</label><div class=\"sk-toggleable__content\"><pre>LinearRegression()</pre></div></div></div></div></div></div></div>"
      ],
      "text/plain": [
       "Pipeline(steps=[('drop_duplicated',\n",
       "                 FunctionSampler(func=<function drop_duplicated at 0x0000023897E03790>,\n",
       "                                 validate=False)),\n",
       "                ('feature_selection', DropCorrelatedFeatures(threshold=0.6)),\n",
       "                ('log_transformer', FunctionTransformer(func=<ufunc 'log1p'>)),\n",
       "                ('scaler', StandardScaler()), ('model', LinearRegression())])"
      ]
     },
     "execution_count": 57,
     "metadata": {},
     "output_type": "execute_result"
    }
   ],
   "source": [
    "reg_pipe=joblib.load(modelPath)\n",
    "reg_pipe"
   ]
  },
  {
   "cell_type": "markdown",
   "id": "cf9886c8",
   "metadata": {},
   "source": [
    "Saving our models in this way allows us to transfer them between different users."
   ]
  },
  {
   "cell_type": "markdown",
   "id": "affiliated-newton",
   "metadata": {
    "id": "affiliated-newton"
   },
   "source": [
    "---\n",
    "# 9. Summary <a id='sum'></a>\n",
    "\n",
    "For the sake of this workbook you are now done - well done! \n",
    "\n",
    "Hopefully you feel we have addressed the aim of getting an overview of how a typical machine learning project looks like.\n",
    "\n",
    "This workbook we worked through a number of the steps required as part of a machine learning project. We were introduced to scikit-learn and specifically how to use a `pipeline` to string multiple steps together. It may seem like unnecessary extra work, but as we introduce more complex methods, they will become incredibly useful and save time."
   ]
  },
  {
   "cell_type": "markdown",
   "id": "chemical-zoning",
   "metadata": {
    "id": "chemical-zoning"
   },
   "source": [
    "---\n",
    "\n",
    "# 10. Extra Exercises <a id='extra'></a>\n",
    "\n",
    "## Classification\n",
    "\n",
    "Lets change the output variable to a binary output (0 or 1) and have a look at some classification models.\n",
    "\n",
    "__Note__\n",
    "- You may be wondering if you could turn this into a function and add this into a `Pipeline` using the `FunctionSampler`. As far as I can tell you can't because samplers are _only_ applied when fitting (training) the model, and not when making predictions. We need our labels to be changed in this binary way for both fitting the model and making predictions - so we do this before putting it though our pipeline."
   ]
  },
  {
   "cell_type": "code",
   "execution_count": 53,
   "id": "matched-contrary",
   "metadata": {
    "colab": {
     "base_uri": "https://localhost:8080/",
     "height": 191
    },
    "id": "matched-contrary",
    "outputId": "c4db35ab-3282-432b-eb58-ead5d3ce2237"
   },
   "outputs": [
    {
     "data": {
      "text/plain": [
       "3      9\n",
       "4     33\n",
       "5    426\n",
       "6    413\n",
       "7    131\n",
       "8     11\n",
       "Name: quality, dtype: int64"
      ]
     },
     "metadata": {},
     "output_type": "display_data"
    },
    {
     "data": {
      "text/plain": [
       "0    881\n",
       "1    142\n",
       "Name: quality, dtype: int64"
      ]
     },
     "metadata": {},
     "output_type": "display_data"
    }
   ],
   "source": [
    "replace_dict = {0:0, 1:0, 2:0, 3:0, 4:0, 5:0, 6:0, 7:1, 8:1, 9:1, 10:1}\n",
    "\n",
    "y_train_ = y_train.replace(replace_dict)\n",
    "y_val_ = y_val.replace(replace_dict)\n",
    "\n",
    "display(y_train.value_counts().sort_index())\n",
    "display(y_train_.value_counts())"
   ]
  },
  {
   "cell_type": "markdown",
   "id": "portuguese-aruba",
   "metadata": {
    "id": "portuguese-aruba"
   },
   "source": [
    "We still have \"imballanced\" data which will likely affect our model performance... but lets not worry about that for now."
   ]
  },
  {
   "cell_type": "markdown",
   "id": "devoted-republican",
   "metadata": {
    "id": "devoted-republican"
   },
   "source": [
    "---\n",
    "\n",
    "### 🚩 Exercise 22 (Extra)\n",
    "\n",
    "Using the following pipeline workflow (`\"drop_duplicated\"`, `\"feature_selection\"`, `\"log_transformer\"`, `\"scaler\"`, `\"model\"`), assess the training and validation set performance of the following models (on their default settings):\n",
    "- `DummyClassifier`\n",
    "- `LogisticRegression`\n",
    "- `LinearSVC`\n",
    "- `KNeighborsClassifier`\n",
    "\n",
    "__Note__\n",
    "- Using the `.score()` method on classification models defaults to \"Accuracy\". \n",
    "    - Put simply, Accuracy is just: correct predictions / total predictions * 100.0. \n",
    "    - Like `R^2` in regression, we want this to be high (close to 1). \n",
    "    - Like regression we will examine classification performance metrics in much more detail over the rest of the course."
   ]
  },
  {
   "cell_type": "code",
   "execution_count": null,
   "id": "decimal-relative",
   "metadata": {
    "id": "decimal-relative"
   },
   "outputs": [],
   "source": []
  },
  {
   "cell_type": "code",
   "execution_count": 54,
   "id": "neither-array",
   "metadata": {
    "colab": {
     "base_uri": "https://localhost:8080/",
     "height": 879,
     "referenced_widgets": [
      "1733421672704f9f9a0cc096d6e158cb",
      "06235bc20863449abf91be33cc5d0d47",
      "7b6485ee89d543fd9add5e402aa800a0",
      "7a8507746b5d4c1a982c55eddcdd0219",
      "4a464d8b4b9b4d819677511ca8d6c177"
     ]
    },
    "id": "neither-array",
    "outputId": "dc9840f2-6c19-4e0d-82dc-fb32e8163c08"
   },
   "outputs": [
    {
     "data": {
      "application/vnd.jupyter.widget-view+json": {
       "model_id": "9f5a0f2d8c2147c6a87cca5199bb0a21",
       "version_major": 2,
       "version_minor": 0
      },
      "text/plain": [
       "Button(description='Reveal solution', style=ButtonStyle())"
      ]
     },
     "metadata": {},
     "output_type": "display_data"
    },
    {
     "data": {
      "application/vnd.jupyter.widget-view+json": {
       "model_id": "fa0aaf8c67df4ba2a386b830e1e64cf6",
       "version_major": 2,
       "version_minor": 0
      },
      "text/plain": [
       "Output(layout=Layout(border='1px solid green'))"
      ]
     },
     "metadata": {},
     "output_type": "display_data"
    }
   ],
   "source": [
    "%run ../scripts/show_solutions.py 01_ex22"
   ]
  },
  {
   "cell_type": "markdown",
   "id": "74bc4073",
   "metadata": {},
   "source": [
    "---\n",
    "### 🚩 Exercise 23 (Extra)\n",
    "\n",
    "Remove and/or change some of the pre-processing steps to see if you can improve both the \"best\" classification model performance."
   ]
  },
  {
   "cell_type": "code",
   "execution_count": null,
   "id": "2d9a5edc",
   "metadata": {},
   "outputs": [],
   "source": []
  },
  {
   "cell_type": "markdown",
   "id": "pacific-robinson",
   "metadata": {
    "id": "pacific-robinson"
   },
   "source": [
    "---\n",
    "\n",
    "### 🚩 Exercise 24 (Extra)\n",
    "\n",
    "If you are feeling extra keen then why not do the above again with the white wine dataset. Are your results similar or different? Maybe you want to come back to this after learning a bit more on the course. Its entirely up to you."
   ]
  },
  {
   "cell_type": "code",
   "execution_count": 55,
   "id": "distant-seminar",
   "metadata": {
    "id": "distant-seminar"
   },
   "outputs": [],
   "source": [
    "df_white = pd.read_csv(\"https://archive.ics.uci.edu/ml/machine-learning-databases/wine-quality/winequality-white.csv\",\n",
    "                       delimiter=\";\")"
   ]
  }
 ],
 "metadata": {
  "colab": {
   "include_colab_link": true,
   "name": "week01.ipynb",
   "provenance": []
  },
  "kernelspec": {
   "display_name": "Python 3 (ipykernel)",
   "language": "python",
   "name": "python3"
  },
  "language_info": {
   "codemirror_mode": {
    "name": "ipython",
    "version": 3
   },
   "file_extension": ".py",
   "mimetype": "text/x-python",
   "name": "python",
   "nbconvert_exporter": "python",
   "pygments_lexer": "ipython3",
   "version": "3.9.7"
  },
  "widgets": {
   "application/vnd.jupyter.widget-state+json": {
    "031527736b9348aeb76439aca07f91fa": {
     "model_module": "@jupyter-widgets/controls",
     "model_module_version": "1.5.0",
     "model_name": "ButtonModel",
     "state": {
      "_dom_classes": [],
      "_model_module": "@jupyter-widgets/controls",
      "_model_module_version": "1.5.0",
      "_model_name": "ButtonModel",
      "_view_count": null,
      "_view_module": "@jupyter-widgets/controls",
      "_view_module_version": "1.5.0",
      "_view_name": "ButtonView",
      "button_style": "",
      "description": "Reveal solution",
      "disabled": false,
      "icon": "",
      "layout": "IPY_MODEL_0c88f8f50a0647eeb8333d5a57a68bea",
      "style": "IPY_MODEL_65e61654515c45bd9e75e943ae7d72b7",
      "tooltip": ""
     }
    },
    "038a6365db0b4b4c8f2cb392d9a49842": {
     "model_module": "@jupyter-widgets/base",
     "model_module_version": "1.2.0",
     "model_name": "LayoutModel",
     "state": {
      "_model_module": "@jupyter-widgets/base",
      "_model_module_version": "1.2.0",
      "_model_name": "LayoutModel",
      "_view_count": null,
      "_view_module": "@jupyter-widgets/base",
      "_view_module_version": "1.2.0",
      "_view_name": "LayoutView",
      "align_content": null,
      "align_items": null,
      "align_self": null,
      "border": "1px solid green",
      "bottom": null,
      "display": null,
      "flex": null,
      "flex_flow": null,
      "grid_area": null,
      "grid_auto_columns": null,
      "grid_auto_flow": null,
      "grid_auto_rows": null,
      "grid_column": null,
      "grid_gap": null,
      "grid_row": null,
      "grid_template_areas": null,
      "grid_template_columns": null,
      "grid_template_rows": null,
      "height": null,
      "justify_content": null,
      "justify_items": null,
      "left": null,
      "margin": null,
      "max_height": null,
      "max_width": null,
      "min_height": null,
      "min_width": null,
      "object_fit": null,
      "object_position": null,
      "order": null,
      "overflow": null,
      "overflow_x": null,
      "overflow_y": null,
      "padding": null,
      "right": null,
      "top": null,
      "visibility": null,
      "width": null
     }
    },
    "05e44b41f68d46b9bd15ee048ec83de9": {
     "model_module": "@jupyter-widgets/controls",
     "model_module_version": "1.5.0",
     "model_name": "ButtonStyleModel",
     "state": {
      "_model_module": "@jupyter-widgets/controls",
      "_model_module_version": "1.5.0",
      "_model_name": "ButtonStyleModel",
      "_view_count": null,
      "_view_module": "@jupyter-widgets/base",
      "_view_module_version": "1.2.0",
      "_view_name": "StyleView",
      "button_color": null,
      "font_weight": ""
     }
    },
    "06235bc20863449abf91be33cc5d0d47": {
     "model_module": "@jupyter-widgets/controls",
     "model_module_version": "1.5.0",
     "model_name": "ButtonStyleModel",
     "state": {
      "_model_module": "@jupyter-widgets/controls",
      "_model_module_version": "1.5.0",
      "_model_name": "ButtonStyleModel",
      "_view_count": null,
      "_view_module": "@jupyter-widgets/base",
      "_view_module_version": "1.2.0",
      "_view_name": "StyleView",
      "button_color": null,
      "font_weight": ""
     }
    },
    "0b4b84a2d3c9414f8370cd25cba1db37": {
     "model_module": "@jupyter-widgets/controls",
     "model_module_version": "1.5.0",
     "model_name": "ButtonStyleModel",
     "state": {
      "_model_module": "@jupyter-widgets/controls",
      "_model_module_version": "1.5.0",
      "_model_name": "ButtonStyleModel",
      "_view_count": null,
      "_view_module": "@jupyter-widgets/base",
      "_view_module_version": "1.2.0",
      "_view_name": "StyleView",
      "button_color": null,
      "font_weight": ""
     }
    },
    "0c88f8f50a0647eeb8333d5a57a68bea": {
     "model_module": "@jupyter-widgets/base",
     "model_module_version": "1.2.0",
     "model_name": "LayoutModel",
     "state": {
      "_model_module": "@jupyter-widgets/base",
      "_model_module_version": "1.2.0",
      "_model_name": "LayoutModel",
      "_view_count": null,
      "_view_module": "@jupyter-widgets/base",
      "_view_module_version": "1.2.0",
      "_view_name": "LayoutView",
      "align_content": null,
      "align_items": null,
      "align_self": null,
      "border": null,
      "bottom": null,
      "display": null,
      "flex": null,
      "flex_flow": null,
      "grid_area": null,
      "grid_auto_columns": null,
      "grid_auto_flow": null,
      "grid_auto_rows": null,
      "grid_column": null,
      "grid_gap": null,
      "grid_row": null,
      "grid_template_areas": null,
      "grid_template_columns": null,
      "grid_template_rows": null,
      "height": null,
      "justify_content": null,
      "justify_items": null,
      "left": null,
      "margin": null,
      "max_height": null,
      "max_width": null,
      "min_height": null,
      "min_width": null,
      "object_fit": null,
      "object_position": null,
      "order": null,
      "overflow": null,
      "overflow_x": null,
      "overflow_y": null,
      "padding": null,
      "right": null,
      "top": null,
      "visibility": null,
      "width": null
     }
    },
    "0daf5043f9e549a7a00a65d61ada40bb": {
     "model_module": "@jupyter-widgets/base",
     "model_module_version": "1.2.0",
     "model_name": "LayoutModel",
     "state": {
      "_model_module": "@jupyter-widgets/base",
      "_model_module_version": "1.2.0",
      "_model_name": "LayoutModel",
      "_view_count": null,
      "_view_module": "@jupyter-widgets/base",
      "_view_module_version": "1.2.0",
      "_view_name": "LayoutView",
      "align_content": null,
      "align_items": null,
      "align_self": null,
      "border": "1px solid green",
      "bottom": null,
      "display": null,
      "flex": null,
      "flex_flow": null,
      "grid_area": null,
      "grid_auto_columns": null,
      "grid_auto_flow": null,
      "grid_auto_rows": null,
      "grid_column": null,
      "grid_gap": null,
      "grid_row": null,
      "grid_template_areas": null,
      "grid_template_columns": null,
      "grid_template_rows": null,
      "height": null,
      "justify_content": null,
      "justify_items": null,
      "left": null,
      "margin": null,
      "max_height": null,
      "max_width": null,
      "min_height": null,
      "min_width": null,
      "object_fit": null,
      "object_position": null,
      "order": null,
      "overflow": null,
      "overflow_x": null,
      "overflow_y": null,
      "padding": null,
      "right": null,
      "top": null,
      "visibility": null,
      "width": null
     }
    },
    "16e06440fa464bed826bb670a3d3445f": {
     "model_module": "@jupyter-widgets/controls",
     "model_module_version": "1.5.0",
     "model_name": "ButtonStyleModel",
     "state": {
      "_model_module": "@jupyter-widgets/controls",
      "_model_module_version": "1.5.0",
      "_model_name": "ButtonStyleModel",
      "_view_count": null,
      "_view_module": "@jupyter-widgets/base",
      "_view_module_version": "1.2.0",
      "_view_name": "StyleView",
      "button_color": null,
      "font_weight": ""
     }
    },
    "16f393ea4b3d474e9ecdc70b1297317a": {
     "model_module": "@jupyter-widgets/controls",
     "model_module_version": "1.5.0",
     "model_name": "ButtonStyleModel",
     "state": {
      "_model_module": "@jupyter-widgets/controls",
      "_model_module_version": "1.5.0",
      "_model_name": "ButtonStyleModel",
      "_view_count": null,
      "_view_module": "@jupyter-widgets/base",
      "_view_module_version": "1.2.0",
      "_view_name": "StyleView",
      "button_color": null,
      "font_weight": ""
     }
    },
    "1733421672704f9f9a0cc096d6e158cb": {
     "model_module": "@jupyter-widgets/controls",
     "model_module_version": "1.5.0",
     "model_name": "ButtonModel",
     "state": {
      "_dom_classes": [],
      "_model_module": "@jupyter-widgets/controls",
      "_model_module_version": "1.5.0",
      "_model_name": "ButtonModel",
      "_view_count": null,
      "_view_module": "@jupyter-widgets/controls",
      "_view_module_version": "1.5.0",
      "_view_name": "ButtonView",
      "button_style": "",
      "description": "Hide solution",
      "disabled": false,
      "icon": "",
      "layout": "IPY_MODEL_7b6485ee89d543fd9add5e402aa800a0",
      "style": "IPY_MODEL_06235bc20863449abf91be33cc5d0d47",
      "tooltip": ""
     }
    },
    "190d4858beb0445295c12c63a40058a1": {
     "model_module": "@jupyter-widgets/output",
     "model_module_version": "1.0.0",
     "model_name": "OutputModel",
     "state": {
      "_dom_classes": [],
      "_model_module": "@jupyter-widgets/output",
      "_model_module_version": "1.0.0",
      "_model_name": "OutputModel",
      "_view_count": null,
      "_view_module": "@jupyter-widgets/output",
      "_view_module_version": "1.0.0",
      "_view_name": "OutputView",
      "layout": "IPY_MODEL_0daf5043f9e549a7a00a65d61ada40bb",
      "msg_id": "",
      "outputs": [
       {
        "data": {
         "text/html": "<style>.output_html .hll { background-color: #ffffcc }\n.output_html  { background: #f8f8f8; }\n.output_html .c { color: #408080; font-style: italic } /* Comment */\n.output_html .err { border: 1px solid #FF0000 } /* Error */\n.output_html .k { color: #008000; font-weight: bold } /* Keyword */\n.output_html .o { color: #666666 } /* Operator */\n.output_html .ch { color: #408080; font-style: italic } /* Comment.Hashbang */\n.output_html .cm { color: #408080; font-style: italic } /* Comment.Multiline */\n.output_html .cp { color: #BC7A00 } /* Comment.Preproc */\n.output_html .cpf { color: #408080; font-style: italic } /* Comment.PreprocFile */\n.output_html .c1 { color: #408080; font-style: italic } /* Comment.Single */\n.output_html .cs { color: #408080; font-style: italic } /* Comment.Special */\n.output_html .gd { color: #A00000 } /* Generic.Deleted */\n.output_html .ge { font-style: italic } /* Generic.Emph */\n.output_html .gr { color: #FF0000 } /* Generic.Error */\n.output_html .gh { color: #000080; font-weight: bold } /* Generic.Heading */\n.output_html .gi { color: #00A000 } /* Generic.Inserted */\n.output_html .go { color: #888888 } /* Generic.Output */\n.output_html .gp { color: #000080; font-weight: bold } /* Generic.Prompt */\n.output_html .gs { font-weight: bold } /* Generic.Strong */\n.output_html .gu { color: #800080; font-weight: bold } /* Generic.Subheading */\n.output_html .gt { color: #0044DD } /* Generic.Traceback */\n.output_html .kc { color: #008000; font-weight: bold } /* Keyword.Constant */\n.output_html .kd { color: #008000; font-weight: bold } /* Keyword.Declaration */\n.output_html .kn { color: #008000; font-weight: bold } /* Keyword.Namespace */\n.output_html .kp { color: #008000 } /* Keyword.Pseudo */\n.output_html .kr { color: #008000; font-weight: bold } /* Keyword.Reserved */\n.output_html .kt { color: #B00040 } /* Keyword.Type */\n.output_html .m { color: #666666 } /* Literal.Number */\n.output_html .s { color: #BA2121 } /* Literal.String */\n.output_html .na { color: #7D9029 } /* Name.Attribute */\n.output_html .nb { color: #008000 } /* Name.Builtin */\n.output_html .nc { color: #0000FF; font-weight: bold } /* Name.Class */\n.output_html .no { color: #880000 } /* Name.Constant */\n.output_html .nd { color: #AA22FF } /* Name.Decorator */\n.output_html .ni { color: #999999; font-weight: bold } /* Name.Entity */\n.output_html .ne { color: #D2413A; font-weight: bold } /* Name.Exception */\n.output_html .nf { color: #0000FF } /* Name.Function */\n.output_html .nl { color: #A0A000 } /* Name.Label */\n.output_html .nn { color: #0000FF; font-weight: bold } /* Name.Namespace */\n.output_html .nt { color: #008000; font-weight: bold } /* Name.Tag */\n.output_html .nv { color: #19177C } /* Name.Variable */\n.output_html .ow { color: #AA22FF; font-weight: bold } /* Operator.Word */\n.output_html .w { color: #bbbbbb } /* Text.Whitespace */\n.output_html .mb { color: #666666 } /* Literal.Number.Bin */\n.output_html .mf { color: #666666 } /* Literal.Number.Float */\n.output_html .mh { color: #666666 } /* Literal.Number.Hex */\n.output_html .mi { color: #666666 } /* Literal.Number.Integer */\n.output_html .mo { color: #666666 } /* Literal.Number.Oct */\n.output_html .sa { color: #BA2121 } /* Literal.String.Affix */\n.output_html .sb { color: #BA2121 } /* Literal.String.Backtick */\n.output_html .sc { color: #BA2121 } /* Literal.String.Char */\n.output_html .dl { color: #BA2121 } /* Literal.String.Delimiter */\n.output_html .sd { color: #BA2121; font-style: italic } /* Literal.String.Doc */\n.output_html .s2 { color: #BA2121 } /* Literal.String.Double */\n.output_html .se { color: #BB6622; font-weight: bold } /* Literal.String.Escape */\n.output_html .sh { color: #BA2121 } /* Literal.String.Heredoc */\n.output_html .si { color: #BB6688; font-weight: bold } /* Literal.String.Interpol */\n.output_html .sx { color: #008000 } /* Literal.String.Other */\n.output_html .sr { color: #BB6688 } /* Literal.String.Regex */\n.output_html .s1 { color: #BA2121 } /* Literal.String.Single */\n.output_html .ss { color: #19177C } /* Literal.String.Symbol */\n.output_html .bp { color: #008000 } /* Name.Builtin.Pseudo */\n.output_html .fm { color: #0000FF } /* Name.Function.Magic */\n.output_html .vc { color: #19177C } /* Name.Variable.Class */\n.output_html .vg { color: #19177C } /* Name.Variable.Global */\n.output_html .vi { color: #19177C } /* Name.Variable.Instance */\n.output_html .vm { color: #19177C } /* Name.Variable.Magic */\n.output_html .il { color: #666666 } /* Literal.Number.Integer.Long */</style><div class=\"highlight\"><pre><span></span><span class=\"k\">def</span> <span class=\"nf\">standard</span><span class=\"p\">(</span><span class=\"n\">X</span><span class=\"p\">):</span>\n    <span class=\"k\">return</span> <span class=\"p\">(</span><span class=\"n\">X</span> <span class=\"o\">-</span> <span class=\"n\">X</span><span class=\"o\">.</span><span class=\"n\">mean</span><span class=\"p\">())</span> <span class=\"o\">/</span> <span class=\"n\">X</span><span class=\"o\">.</span><span class=\"n\">std</span><span class=\"p\">(</span><span class=\"n\">ddof</span><span class=\"o\">=</span><span class=\"mi\">0</span><span class=\"p\">)</span>\n\n<span class=\"n\">StandardTransformer</span> <span class=\"o\">=</span> <span class=\"n\">FunctionTransformer</span><span class=\"p\">(</span><span class=\"n\">standard</span><span class=\"p\">)</span>\n<span class=\"n\">X_train_scaled</span> <span class=\"o\">=</span> <span class=\"n\">StandardTransformer</span><span class=\"o\">.</span><span class=\"n\">fit_transform</span><span class=\"p\">(</span><span class=\"n\">X_train</span><span class=\"p\">)</span>\n</pre></div>\n",
         "text/latex": "\\begin{Verbatim}[commandchars=\\\\\\{\\}]\n\\PY{k}{def} \\PY{n+nf}{standard}\\PY{p}{(}\\PY{n}{X}\\PY{p}{)}\\PY{p}{:}\n    \\PY{k}{return} \\PY{p}{(}\\PY{n}{X} \\PY{o}{\\PYZhy{}} \\PY{n}{X}\\PY{o}{.}\\PY{n}{mean}\\PY{p}{(}\\PY{p}{)}\\PY{p}{)} \\PY{o}{/} \\PY{n}{X}\\PY{o}{.}\\PY{n}{std}\\PY{p}{(}\\PY{n}{ddof}\\PY{o}{=}\\PY{l+m+mi}{0}\\PY{p}{)}\n\n\\PY{n}{StandardTransformer} \\PY{o}{=} \\PY{n}{FunctionTransformer}\\PY{p}{(}\\PY{n}{standard}\\PY{p}{)}\n\\PY{n}{X\\PYZus{}train\\PYZus{}scaled} \\PY{o}{=} \\PY{n}{StandardTransformer}\\PY{o}{.}\\PY{n}{fit\\PYZus{}transform}\\PY{p}{(}\\PY{n}{X\\PYZus{}train}\\PY{p}{)}\n\\end{Verbatim}\n",
         "text/plain": "def standard(X):\n    return (X - X.mean()) / X.std(ddof=0)\n\nStandardTransformer = FunctionTransformer(standard)\nX_train_scaled = StandardTransformer.fit_transform(X_train)"
        },
        "metadata": {},
        "output_type": "display_data"
       }
      ]
     }
    },
    "19cbbcad7e4e4e8d877f2b4878cdff24": {
     "model_module": "@jupyter-widgets/base",
     "model_module_version": "1.2.0",
     "model_name": "LayoutModel",
     "state": {
      "_model_module": "@jupyter-widgets/base",
      "_model_module_version": "1.2.0",
      "_model_name": "LayoutModel",
      "_view_count": null,
      "_view_module": "@jupyter-widgets/base",
      "_view_module_version": "1.2.0",
      "_view_name": "LayoutView",
      "align_content": null,
      "align_items": null,
      "align_self": null,
      "border": null,
      "bottom": null,
      "display": null,
      "flex": null,
      "flex_flow": null,
      "grid_area": null,
      "grid_auto_columns": null,
      "grid_auto_flow": null,
      "grid_auto_rows": null,
      "grid_column": null,
      "grid_gap": null,
      "grid_row": null,
      "grid_template_areas": null,
      "grid_template_columns": null,
      "grid_template_rows": null,
      "height": null,
      "justify_content": null,
      "justify_items": null,
      "left": null,
      "margin": null,
      "max_height": null,
      "max_width": null,
      "min_height": null,
      "min_width": null,
      "object_fit": null,
      "object_position": null,
      "order": null,
      "overflow": null,
      "overflow_x": null,
      "overflow_y": null,
      "padding": null,
      "right": null,
      "top": null,
      "visibility": null,
      "width": null
     }
    },
    "1d034f6e5ad44b04926b53e21806c14a": {
     "model_module": "@jupyter-widgets/output",
     "model_module_version": "1.0.0",
     "model_name": "OutputModel",
     "state": {
      "_dom_classes": [],
      "_model_module": "@jupyter-widgets/output",
      "_model_module_version": "1.0.0",
      "_model_name": "OutputModel",
      "_view_count": null,
      "_view_module": "@jupyter-widgets/output",
      "_view_module_version": "1.0.0",
      "_view_name": "OutputView",
      "layout": "IPY_MODEL_7329e877523c4f268c3b1f05cd688e7d",
      "msg_id": "",
      "outputs": [
       {
        "data": {
         "text/html": "<style>.output_html .hll { background-color: #ffffcc }\n.output_html  { background: #f8f8f8; }\n.output_html .c { color: #408080; font-style: italic } /* Comment */\n.output_html .err { border: 1px solid #FF0000 } /* Error */\n.output_html .k { color: #008000; font-weight: bold } /* Keyword */\n.output_html .o { color: #666666 } /* Operator */\n.output_html .ch { color: #408080; font-style: italic } /* Comment.Hashbang */\n.output_html .cm { color: #408080; font-style: italic } /* Comment.Multiline */\n.output_html .cp { color: #BC7A00 } /* Comment.Preproc */\n.output_html .cpf { color: #408080; font-style: italic } /* Comment.PreprocFile */\n.output_html .c1 { color: #408080; font-style: italic } /* Comment.Single */\n.output_html .cs { color: #408080; font-style: italic } /* Comment.Special */\n.output_html .gd { color: #A00000 } /* Generic.Deleted */\n.output_html .ge { font-style: italic } /* Generic.Emph */\n.output_html .gr { color: #FF0000 } /* Generic.Error */\n.output_html .gh { color: #000080; font-weight: bold } /* Generic.Heading */\n.output_html .gi { color: #00A000 } /* Generic.Inserted */\n.output_html .go { color: #888888 } /* Generic.Output */\n.output_html .gp { color: #000080; font-weight: bold } /* Generic.Prompt */\n.output_html .gs { font-weight: bold } /* Generic.Strong */\n.output_html .gu { color: #800080; font-weight: bold } /* Generic.Subheading */\n.output_html .gt { color: #0044DD } /* Generic.Traceback */\n.output_html .kc { color: #008000; font-weight: bold } /* Keyword.Constant */\n.output_html .kd { color: #008000; font-weight: bold } /* Keyword.Declaration */\n.output_html .kn { color: #008000; font-weight: bold } /* Keyword.Namespace */\n.output_html .kp { color: #008000 } /* Keyword.Pseudo */\n.output_html .kr { color: #008000; font-weight: bold } /* Keyword.Reserved */\n.output_html .kt { color: #B00040 } /* Keyword.Type */\n.output_html .m { color: #666666 } /* Literal.Number */\n.output_html .s { color: #BA2121 } /* Literal.String */\n.output_html .na { color: #7D9029 } /* Name.Attribute */\n.output_html .nb { color: #008000 } /* Name.Builtin */\n.output_html .nc { color: #0000FF; font-weight: bold } /* Name.Class */\n.output_html .no { color: #880000 } /* Name.Constant */\n.output_html .nd { color: #AA22FF } /* Name.Decorator */\n.output_html .ni { color: #999999; font-weight: bold } /* Name.Entity */\n.output_html .ne { color: #D2413A; font-weight: bold } /* Name.Exception */\n.output_html .nf { color: #0000FF } /* Name.Function */\n.output_html .nl { color: #A0A000 } /* Name.Label */\n.output_html .nn { color: #0000FF; font-weight: bold } /* Name.Namespace */\n.output_html .nt { color: #008000; font-weight: bold } /* Name.Tag */\n.output_html .nv { color: #19177C } /* Name.Variable */\n.output_html .ow { color: #AA22FF; font-weight: bold } /* Operator.Word */\n.output_html .w { color: #bbbbbb } /* Text.Whitespace */\n.output_html .mb { color: #666666 } /* Literal.Number.Bin */\n.output_html .mf { color: #666666 } /* Literal.Number.Float */\n.output_html .mh { color: #666666 } /* Literal.Number.Hex */\n.output_html .mi { color: #666666 } /* Literal.Number.Integer */\n.output_html .mo { color: #666666 } /* Literal.Number.Oct */\n.output_html .sa { color: #BA2121 } /* Literal.String.Affix */\n.output_html .sb { color: #BA2121 } /* Literal.String.Backtick */\n.output_html .sc { color: #BA2121 } /* Literal.String.Char */\n.output_html .dl { color: #BA2121 } /* Literal.String.Delimiter */\n.output_html .sd { color: #BA2121; font-style: italic } /* Literal.String.Doc */\n.output_html .s2 { color: #BA2121 } /* Literal.String.Double */\n.output_html .se { color: #BB6622; font-weight: bold } /* Literal.String.Escape */\n.output_html .sh { color: #BA2121 } /* Literal.String.Heredoc */\n.output_html .si { color: #BB6688; font-weight: bold } /* Literal.String.Interpol */\n.output_html .sx { color: #008000 } /* Literal.String.Other */\n.output_html .sr { color: #BB6688 } /* Literal.String.Regex */\n.output_html .s1 { color: #BA2121 } /* Literal.String.Single */\n.output_html .ss { color: #19177C } /* Literal.String.Symbol */\n.output_html .bp { color: #008000 } /* Name.Builtin.Pseudo */\n.output_html .fm { color: #0000FF } /* Name.Function.Magic */\n.output_html .vc { color: #19177C } /* Name.Variable.Class */\n.output_html .vg { color: #19177C } /* Name.Variable.Global */\n.output_html .vi { color: #19177C } /* Name.Variable.Instance */\n.output_html .vm { color: #19177C } /* Name.Variable.Magic */\n.output_html .il { color: #666666 } /* Literal.Number.Integer.Long */</style><div class=\"highlight\"><pre><span></span><span class=\"kn\">from</span> <span class=\"nn\">sklearn.preprocessing</span> <span class=\"kn\">import</span> <span class=\"n\">PolynomialFeatures</span>\n\n<span class=\"n\">reg</span> <span class=\"o\">=</span> <span class=\"n\">LinearRegression</span><span class=\"p\">()</span>\n<span class=\"n\">poly</span> <span class=\"o\">=</span> <span class=\"n\">PolynomialFeatures</span><span class=\"p\">(</span><span class=\"n\">include_bias</span><span class=\"o\">=</span><span class=\"kc\">False</span><span class=\"p\">)</span>\n\n<span class=\"n\">poly_reg_pipe</span> <span class=\"o\">=</span> <span class=\"n\">Pipeline</span><span class=\"p\">([</span>\n    <span class=\"p\">(</span><span class=\"s2\">&quot;drop_duplicated&quot;</span><span class=\"p\">,</span> <span class=\"n\">DD</span><span class=\"p\">),</span>\n    <span class=\"p\">(</span><span class=\"s2\">&quot;make_dataframe&quot;</span><span class=\"p\">,</span> <span class=\"n\">DT</span><span class=\"p\">),</span>\n    <span class=\"p\">(</span><span class=\"s2\">&quot;feature_selection&quot;</span><span class=\"p\">,</span> <span class=\"n\">fs</span><span class=\"p\">),</span>\n    <span class=\"p\">(</span><span class=\"s2\">&quot;log_transformer&quot;</span><span class=\"p\">,</span> <span class=\"n\">lt</span><span class=\"p\">),</span>\n    <span class=\"p\">(</span><span class=\"s2\">&quot;pol&quot;</span><span class=\"p\">,</span> <span class=\"n\">poly</span><span class=\"p\">),</span>\n    <span class=\"p\">(</span><span class=\"s2\">&quot;scaler&quot;</span><span class=\"p\">,</span> <span class=\"n\">scaler</span><span class=\"p\">),</span>\n    <span class=\"p\">(</span><span class=\"s2\">&quot;model&quot;</span><span class=\"p\">,</span> <span class=\"n\">reg</span><span class=\"p\">)</span>\n<span class=\"p\">])</span>\n\n<span class=\"n\">poly_reg_pipe</span><span class=\"o\">.</span><span class=\"n\">fit</span><span class=\"p\">(</span><span class=\"n\">X_train</span><span class=\"p\">,</span> <span class=\"n\">y_train</span><span class=\"p\">)</span>\n<span class=\"nb\">print</span><span class=\"p\">(</span><span class=\"s2\">&quot;Training Score&quot;</span><span class=\"p\">)</span>\n<span class=\"nb\">print</span><span class=\"p\">(</span><span class=\"nb\">round</span><span class=\"p\">(</span><span class=\"n\">poly_reg_pipe</span><span class=\"o\">.</span><span class=\"n\">score</span><span class=\"p\">(</span><span class=\"n\">X_train</span><span class=\"p\">,</span> <span class=\"n\">y_train</span><span class=\"p\">),</span> <span class=\"mi\">3</span><span class=\"p\">))</span>\n<span class=\"nb\">print</span><span class=\"p\">(</span><span class=\"s2\">&quot;Validation Score&quot;</span><span class=\"p\">)</span>\n<span class=\"nb\">print</span><span class=\"p\">(</span><span class=\"nb\">round</span><span class=\"p\">(</span><span class=\"n\">poly_reg_pipe</span><span class=\"o\">.</span><span class=\"n\">score</span><span class=\"p\">(</span><span class=\"n\">X_val</span><span class=\"p\">,</span> <span class=\"n\">y_val</span><span class=\"p\">),</span> <span class=\"mi\">3</span><span class=\"p\">))</span>\n</pre></div>\n",
         "text/latex": "\\begin{Verbatim}[commandchars=\\\\\\{\\}]\n\\PY{k+kn}{from} \\PY{n+nn}{sklearn}\\PY{n+nn}{.}\\PY{n+nn}{preprocessing} \\PY{k+kn}{import} \\PY{n}{PolynomialFeatures}\n\n\\PY{n}{reg} \\PY{o}{=} \\PY{n}{LinearRegression}\\PY{p}{(}\\PY{p}{)}\n\\PY{n}{poly} \\PY{o}{=} \\PY{n}{PolynomialFeatures}\\PY{p}{(}\\PY{n}{include\\PYZus{}bias}\\PY{o}{=}\\PY{k+kc}{False}\\PY{p}{)}\n\n\\PY{n}{poly\\PYZus{}reg\\PYZus{}pipe} \\PY{o}{=} \\PY{n}{Pipeline}\\PY{p}{(}\\PY{p}{[}\n    \\PY{p}{(}\\PY{l+s+s2}{\\PYZdq{}}\\PY{l+s+s2}{drop\\PYZus{}duplicated}\\PY{l+s+s2}{\\PYZdq{}}\\PY{p}{,} \\PY{n}{DD}\\PY{p}{)}\\PY{p}{,}\n    \\PY{p}{(}\\PY{l+s+s2}{\\PYZdq{}}\\PY{l+s+s2}{make\\PYZus{}dataframe}\\PY{l+s+s2}{\\PYZdq{}}\\PY{p}{,} \\PY{n}{DT}\\PY{p}{)}\\PY{p}{,}\n    \\PY{p}{(}\\PY{l+s+s2}{\\PYZdq{}}\\PY{l+s+s2}{feature\\PYZus{}selection}\\PY{l+s+s2}{\\PYZdq{}}\\PY{p}{,} \\PY{n}{fs}\\PY{p}{)}\\PY{p}{,}\n    \\PY{p}{(}\\PY{l+s+s2}{\\PYZdq{}}\\PY{l+s+s2}{log\\PYZus{}transformer}\\PY{l+s+s2}{\\PYZdq{}}\\PY{p}{,} \\PY{n}{lt}\\PY{p}{)}\\PY{p}{,}\n    \\PY{p}{(}\\PY{l+s+s2}{\\PYZdq{}}\\PY{l+s+s2}{pol}\\PY{l+s+s2}{\\PYZdq{}}\\PY{p}{,} \\PY{n}{poly}\\PY{p}{)}\\PY{p}{,}\n    \\PY{p}{(}\\PY{l+s+s2}{\\PYZdq{}}\\PY{l+s+s2}{scaler}\\PY{l+s+s2}{\\PYZdq{}}\\PY{p}{,} \\PY{n}{scaler}\\PY{p}{)}\\PY{p}{,}\n    \\PY{p}{(}\\PY{l+s+s2}{\\PYZdq{}}\\PY{l+s+s2}{model}\\PY{l+s+s2}{\\PYZdq{}}\\PY{p}{,} \\PY{n}{reg}\\PY{p}{)}\n\\PY{p}{]}\\PY{p}{)}\n\n\\PY{n}{poly\\PYZus{}reg\\PYZus{}pipe}\\PY{o}{.}\\PY{n}{fit}\\PY{p}{(}\\PY{n}{X\\PYZus{}train}\\PY{p}{,} \\PY{n}{y\\PYZus{}train}\\PY{p}{)}\n\\PY{n+nb}{print}\\PY{p}{(}\\PY{l+s+s2}{\\PYZdq{}}\\PY{l+s+s2}{Training Score}\\PY{l+s+s2}{\\PYZdq{}}\\PY{p}{)}\n\\PY{n+nb}{print}\\PY{p}{(}\\PY{n+nb}{round}\\PY{p}{(}\\PY{n}{poly\\PYZus{}reg\\PYZus{}pipe}\\PY{o}{.}\\PY{n}{score}\\PY{p}{(}\\PY{n}{X\\PYZus{}train}\\PY{p}{,} \\PY{n}{y\\PYZus{}train}\\PY{p}{)}\\PY{p}{,} \\PY{l+m+mi}{3}\\PY{p}{)}\\PY{p}{)}\n\\PY{n+nb}{print}\\PY{p}{(}\\PY{l+s+s2}{\\PYZdq{}}\\PY{l+s+s2}{Validation Score}\\PY{l+s+s2}{\\PYZdq{}}\\PY{p}{)}\n\\PY{n+nb}{print}\\PY{p}{(}\\PY{n+nb}{round}\\PY{p}{(}\\PY{n}{poly\\PYZus{}reg\\PYZus{}pipe}\\PY{o}{.}\\PY{n}{score}\\PY{p}{(}\\PY{n}{X\\PYZus{}val}\\PY{p}{,} \\PY{n}{y\\PYZus{}val}\\PY{p}{)}\\PY{p}{,} \\PY{l+m+mi}{3}\\PY{p}{)}\\PY{p}{)}\n\\end{Verbatim}\n",
         "text/plain": "from sklearn.preprocessing import PolynomialFeatures\n\nreg = LinearRegression()\npoly = PolynomialFeatures(include_bias=False)\n\npoly_reg_pipe = Pipeline([\n    (\"drop_duplicated\", DD),\n    (\"make_dataframe\", DT),\n    (\"feature_selection\", fs),\n    (\"log_transformer\", lt),\n    (\"pol\", poly),\n    (\"scaler\", scaler),\n    (\"model\", reg)\n])\n\npoly_reg_pipe.fit(X_train, y_train)\nprint(\"Training Score\")\nprint(round(poly_reg_pipe.score(X_train, y_train), 3))\nprint(\"Validation Score\")\nprint(round(poly_reg_pipe.score(X_val, y_val), 3))"
        },
        "metadata": {},
        "output_type": "display_data"
       }
      ]
     }
    },
    "214b0b81e59148a2a2d380ad0a321ccf": {
     "model_module": "@jupyter-widgets/base",
     "model_module_version": "1.2.0",
     "model_name": "LayoutModel",
     "state": {
      "_model_module": "@jupyter-widgets/base",
      "_model_module_version": "1.2.0",
      "_model_name": "LayoutModel",
      "_view_count": null,
      "_view_module": "@jupyter-widgets/base",
      "_view_module_version": "1.2.0",
      "_view_name": "LayoutView",
      "align_content": null,
      "align_items": null,
      "align_self": null,
      "border": null,
      "bottom": null,
      "display": null,
      "flex": null,
      "flex_flow": null,
      "grid_area": null,
      "grid_auto_columns": null,
      "grid_auto_flow": null,
      "grid_auto_rows": null,
      "grid_column": null,
      "grid_gap": null,
      "grid_row": null,
      "grid_template_areas": null,
      "grid_template_columns": null,
      "grid_template_rows": null,
      "height": null,
      "justify_content": null,
      "justify_items": null,
      "left": null,
      "margin": null,
      "max_height": null,
      "max_width": null,
      "min_height": null,
      "min_width": null,
      "object_fit": null,
      "object_position": null,
      "order": null,
      "overflow": null,
      "overflow_x": null,
      "overflow_y": null,
      "padding": null,
      "right": null,
      "top": null,
      "visibility": null,
      "width": null
     }
    },
    "21a73ae4c6a443cab4630af2c95eafe4": {
     "model_module": "@jupyter-widgets/output",
     "model_module_version": "1.0.0",
     "model_name": "OutputModel",
     "state": {
      "_dom_classes": [],
      "_model_module": "@jupyter-widgets/output",
      "_model_module_version": "1.0.0",
      "_model_name": "OutputModel",
      "_view_count": null,
      "_view_module": "@jupyter-widgets/output",
      "_view_module_version": "1.0.0",
      "_view_name": "OutputView",
      "layout": "IPY_MODEL_f9798024af2e4b52b60aeeeded2acca7",
      "msg_id": "",
      "outputs": [
       {
        "data": {
         "text/html": "<style>.output_html .hll { background-color: #ffffcc }\n.output_html  { background: #f8f8f8; }\n.output_html .c { color: #408080; font-style: italic } /* Comment */\n.output_html .err { border: 1px solid #FF0000 } /* Error */\n.output_html .k { color: #008000; font-weight: bold } /* Keyword */\n.output_html .o { color: #666666 } /* Operator */\n.output_html .ch { color: #408080; font-style: italic } /* Comment.Hashbang */\n.output_html .cm { color: #408080; font-style: italic } /* Comment.Multiline */\n.output_html .cp { color: #BC7A00 } /* Comment.Preproc */\n.output_html .cpf { color: #408080; font-style: italic } /* Comment.PreprocFile */\n.output_html .c1 { color: #408080; font-style: italic } /* Comment.Single */\n.output_html .cs { color: #408080; font-style: italic } /* Comment.Special */\n.output_html .gd { color: #A00000 } /* Generic.Deleted */\n.output_html .ge { font-style: italic } /* Generic.Emph */\n.output_html .gr { color: #FF0000 } /* Generic.Error */\n.output_html .gh { color: #000080; font-weight: bold } /* Generic.Heading */\n.output_html .gi { color: #00A000 } /* Generic.Inserted */\n.output_html .go { color: #888888 } /* Generic.Output */\n.output_html .gp { color: #000080; font-weight: bold } /* Generic.Prompt */\n.output_html .gs { font-weight: bold } /* Generic.Strong */\n.output_html .gu { color: #800080; font-weight: bold } /* Generic.Subheading */\n.output_html .gt { color: #0044DD } /* Generic.Traceback */\n.output_html .kc { color: #008000; font-weight: bold } /* Keyword.Constant */\n.output_html .kd { color: #008000; font-weight: bold } /* Keyword.Declaration */\n.output_html .kn { color: #008000; font-weight: bold } /* Keyword.Namespace */\n.output_html .kp { color: #008000 } /* Keyword.Pseudo */\n.output_html .kr { color: #008000; font-weight: bold } /* Keyword.Reserved */\n.output_html .kt { color: #B00040 } /* Keyword.Type */\n.output_html .m { color: #666666 } /* Literal.Number */\n.output_html .s { color: #BA2121 } /* Literal.String */\n.output_html .na { color: #7D9029 } /* Name.Attribute */\n.output_html .nb { color: #008000 } /* Name.Builtin */\n.output_html .nc { color: #0000FF; font-weight: bold } /* Name.Class */\n.output_html .no { color: #880000 } /* Name.Constant */\n.output_html .nd { color: #AA22FF } /* Name.Decorator */\n.output_html .ni { color: #999999; font-weight: bold } /* Name.Entity */\n.output_html .ne { color: #D2413A; font-weight: bold } /* Name.Exception */\n.output_html .nf { color: #0000FF } /* Name.Function */\n.output_html .nl { color: #A0A000 } /* Name.Label */\n.output_html .nn { color: #0000FF; font-weight: bold } /* Name.Namespace */\n.output_html .nt { color: #008000; font-weight: bold } /* Name.Tag */\n.output_html .nv { color: #19177C } /* Name.Variable */\n.output_html .ow { color: #AA22FF; font-weight: bold } /* Operator.Word */\n.output_html .w { color: #bbbbbb } /* Text.Whitespace */\n.output_html .mb { color: #666666 } /* Literal.Number.Bin */\n.output_html .mf { color: #666666 } /* Literal.Number.Float */\n.output_html .mh { color: #666666 } /* Literal.Number.Hex */\n.output_html .mi { color: #666666 } /* Literal.Number.Integer */\n.output_html .mo { color: #666666 } /* Literal.Number.Oct */\n.output_html .sa { color: #BA2121 } /* Literal.String.Affix */\n.output_html .sb { color: #BA2121 } /* Literal.String.Backtick */\n.output_html .sc { color: #BA2121 } /* Literal.String.Char */\n.output_html .dl { color: #BA2121 } /* Literal.String.Delimiter */\n.output_html .sd { color: #BA2121; font-style: italic } /* Literal.String.Doc */\n.output_html .s2 { color: #BA2121 } /* Literal.String.Double */\n.output_html .se { color: #BB6622; font-weight: bold } /* Literal.String.Escape */\n.output_html .sh { color: #BA2121 } /* Literal.String.Heredoc */\n.output_html .si { color: #BB6688; font-weight: bold } /* Literal.String.Interpol */\n.output_html .sx { color: #008000 } /* Literal.String.Other */\n.output_html .sr { color: #BB6688 } /* Literal.String.Regex */\n.output_html .s1 { color: #BA2121 } /* Literal.String.Single */\n.output_html .ss { color: #19177C } /* Literal.String.Symbol */\n.output_html .bp { color: #008000 } /* Name.Builtin.Pseudo */\n.output_html .fm { color: #0000FF } /* Name.Function.Magic */\n.output_html .vc { color: #19177C } /* Name.Variable.Class */\n.output_html .vg { color: #19177C } /* Name.Variable.Global */\n.output_html .vi { color: #19177C } /* Name.Variable.Instance */\n.output_html .vm { color: #19177C } /* Name.Variable.Magic */\n.output_html .il { color: #666666 } /* Literal.Number.Integer.Long */</style><div class=\"highlight\"><pre><span></span><span class=\"kn\">from</span> <span class=\"nn\">feature_engine.selection</span> <span class=\"kn\">import</span> <span class=\"n\">DropCorrelatedFeatures</span>\n<span class=\"kn\">import</span> <span class=\"nn\">numpy</span> <span class=\"k\">as</span> <span class=\"nn\">np</span>\n\n<span class=\"n\">fs</span> <span class=\"o\">=</span> <span class=\"n\">DropCorrelatedFeatures</span><span class=\"p\">(</span><span class=\"n\">variables</span><span class=\"o\">=</span><span class=\"kc\">None</span><span class=\"p\">,</span> \n                            <span class=\"n\">method</span><span class=\"o\">=</span><span class=\"s1\">&#39;pearson&#39;</span><span class=\"p\">,</span> \n                            <span class=\"n\">threshold</span><span class=\"o\">=</span><span class=\"mf\">0.6</span><span class=\"p\">)</span>\n\n<span class=\"n\">X_train_fs</span> <span class=\"o\">=</span> <span class=\"n\">fs</span><span class=\"o\">.</span><span class=\"n\">fit_transform</span><span class=\"p\">(</span><span class=\"n\">X_train</span><span class=\"p\">)</span>\n\n<span class=\"nb\">print</span><span class=\"p\">(</span><span class=\"s2\">&quot;Correlated Feature Groups&quot;</span><span class=\"p\">)</span>\n<span class=\"n\">display</span><span class=\"p\">(</span><span class=\"n\">fs</span><span class=\"o\">.</span><span class=\"n\">correlated_feature_sets_</span><span class=\"p\">)</span>\n\n<span class=\"nb\">print</span><span class=\"p\">(</span><span class=\"s2\">&quot;Dropped&quot;</span><span class=\"p\">)</span>\n<span class=\"nb\">list</span><span class=\"p\">(</span><span class=\"n\">np</span><span class=\"o\">.</span><span class=\"n\">setdiff1d</span><span class=\"p\">(</span><span class=\"nb\">list</span><span class=\"p\">(</span><span class=\"n\">X_train</span><span class=\"o\">.</span><span class=\"n\">columns</span><span class=\"p\">),</span> <span class=\"nb\">list</span><span class=\"p\">(</span><span class=\"n\">X_train_fs</span><span class=\"o\">.</span><span class=\"n\">columns</span><span class=\"p\">)))</span>\n</pre></div>\n",
         "text/latex": "\\begin{Verbatim}[commandchars=\\\\\\{\\}]\n\\PY{k+kn}{from} \\PY{n+nn}{feature\\PYZus{}engine}\\PY{n+nn}{.}\\PY{n+nn}{selection} \\PY{k+kn}{import} \\PY{n}{DropCorrelatedFeatures}\n\\PY{k+kn}{import} \\PY{n+nn}{numpy} \\PY{k}{as} \\PY{n+nn}{np}\n\n\\PY{n}{fs} \\PY{o}{=} \\PY{n}{DropCorrelatedFeatures}\\PY{p}{(}\\PY{n}{variables}\\PY{o}{=}\\PY{k+kc}{None}\\PY{p}{,} \n                            \\PY{n}{method}\\PY{o}{=}\\PY{l+s+s1}{\\PYZsq{}}\\PY{l+s+s1}{pearson}\\PY{l+s+s1}{\\PYZsq{}}\\PY{p}{,} \n                            \\PY{n}{threshold}\\PY{o}{=}\\PY{l+m+mf}{0.6}\\PY{p}{)}\n\n\\PY{n}{X\\PYZus{}train\\PYZus{}fs} \\PY{o}{=} \\PY{n}{fs}\\PY{o}{.}\\PY{n}{fit\\PYZus{}transform}\\PY{p}{(}\\PY{n}{X\\PYZus{}train}\\PY{p}{)}\n\n\\PY{n+nb}{print}\\PY{p}{(}\\PY{l+s+s2}{\\PYZdq{}}\\PY{l+s+s2}{Correlated Feature Groups}\\PY{l+s+s2}{\\PYZdq{}}\\PY{p}{)}\n\\PY{n}{display}\\PY{p}{(}\\PY{n}{fs}\\PY{o}{.}\\PY{n}{correlated\\PYZus{}feature\\PYZus{}sets\\PYZus{}}\\PY{p}{)}\n\n\\PY{n+nb}{print}\\PY{p}{(}\\PY{l+s+s2}{\\PYZdq{}}\\PY{l+s+s2}{Dropped}\\PY{l+s+s2}{\\PYZdq{}}\\PY{p}{)}\n\\PY{n+nb}{list}\\PY{p}{(}\\PY{n}{np}\\PY{o}{.}\\PY{n}{setdiff1d}\\PY{p}{(}\\PY{n+nb}{list}\\PY{p}{(}\\PY{n}{X\\PYZus{}train}\\PY{o}{.}\\PY{n}{columns}\\PY{p}{)}\\PY{p}{,} \\PY{n+nb}{list}\\PY{p}{(}\\PY{n}{X\\PYZus{}train\\PYZus{}fs}\\PY{o}{.}\\PY{n}{columns}\\PY{p}{)}\\PY{p}{)}\\PY{p}{)}\n\\end{Verbatim}\n",
         "text/plain": "from feature_engine.selection import DropCorrelatedFeatures\nimport numpy as np\n\nfs = DropCorrelatedFeatures(variables=None, \n                            method='pearson', \n                            threshold=0.6)\n\nX_train_fs = fs.fit_transform(X_train)\n\nprint(\"Correlated Feature Groups\")\ndisplay(fs.correlated_feature_sets_)\n\nprint(\"Dropped\")\nlist(np.setdiff1d(list(X_train.columns), list(X_train_fs.columns)))"
        },
        "metadata": {},
        "output_type": "display_data"
       },
       {
        "data": {
         "text/markdown": "As listed above, 4 features were dropped. In the first instance, `citric acid`, `density`, and `pH` were dropped as they were correlated to `fixed acidity` and this variable appears in the data before the others. Similarly, as `free sulfur dioxide` is before `total sulfur dioxide`, the latter was also dropped. \n\n`feature_engine` provides another way of dropping correlated features (`SmartCorrelatedSelection`). This method uses a number of heuristics to decide which feature to drop instead of only keeping the \"first found\".\n",
         "text/plain": "<IPython.core.display.Markdown object>"
        },
        "metadata": {},
        "output_type": "display_data"
       }
      ]
     }
    },
    "24c23803361142d5b73c3414154e707b": {
     "model_module": "@jupyter-widgets/output",
     "model_module_version": "1.0.0",
     "model_name": "OutputModel",
     "state": {
      "_dom_classes": [],
      "_model_module": "@jupyter-widgets/output",
      "_model_module_version": "1.0.0",
      "_model_name": "OutputModel",
      "_view_count": null,
      "_view_module": "@jupyter-widgets/output",
      "_view_module_version": "1.0.0",
      "_view_name": "OutputView",
      "layout": "IPY_MODEL_459faa6d8d564bf982b36cca39b18d3a",
      "msg_id": "",
      "outputs": [
       {
        "data": {
         "text/html": "<style>.output_html .hll { background-color: #ffffcc }\n.output_html  { background: #f8f8f8; }\n.output_html .c { color: #408080; font-style: italic } /* Comment */\n.output_html .err { border: 1px solid #FF0000 } /* Error */\n.output_html .k { color: #008000; font-weight: bold } /* Keyword */\n.output_html .o { color: #666666 } /* Operator */\n.output_html .ch { color: #408080; font-style: italic } /* Comment.Hashbang */\n.output_html .cm { color: #408080; font-style: italic } /* Comment.Multiline */\n.output_html .cp { color: #BC7A00 } /* Comment.Preproc */\n.output_html .cpf { color: #408080; font-style: italic } /* Comment.PreprocFile */\n.output_html .c1 { color: #408080; font-style: italic } /* Comment.Single */\n.output_html .cs { color: #408080; font-style: italic } /* Comment.Special */\n.output_html .gd { color: #A00000 } /* Generic.Deleted */\n.output_html .ge { font-style: italic } /* Generic.Emph */\n.output_html .gr { color: #FF0000 } /* Generic.Error */\n.output_html .gh { color: #000080; font-weight: bold } /* Generic.Heading */\n.output_html .gi { color: #00A000 } /* Generic.Inserted */\n.output_html .go { color: #888888 } /* Generic.Output */\n.output_html .gp { color: #000080; font-weight: bold } /* Generic.Prompt */\n.output_html .gs { font-weight: bold } /* Generic.Strong */\n.output_html .gu { color: #800080; font-weight: bold } /* Generic.Subheading */\n.output_html .gt { color: #0044DD } /* Generic.Traceback */\n.output_html .kc { color: #008000; font-weight: bold } /* Keyword.Constant */\n.output_html .kd { color: #008000; font-weight: bold } /* Keyword.Declaration */\n.output_html .kn { color: #008000; font-weight: bold } /* Keyword.Namespace */\n.output_html .kp { color: #008000 } /* Keyword.Pseudo */\n.output_html .kr { color: #008000; font-weight: bold } /* Keyword.Reserved */\n.output_html .kt { color: #B00040 } /* Keyword.Type */\n.output_html .m { color: #666666 } /* Literal.Number */\n.output_html .s { color: #BA2121 } /* Literal.String */\n.output_html .na { color: #7D9029 } /* Name.Attribute */\n.output_html .nb { color: #008000 } /* Name.Builtin */\n.output_html .nc { color: #0000FF; font-weight: bold } /* Name.Class */\n.output_html .no { color: #880000 } /* Name.Constant */\n.output_html .nd { color: #AA22FF } /* Name.Decorator */\n.output_html .ni { color: #999999; font-weight: bold } /* Name.Entity */\n.output_html .ne { color: #D2413A; font-weight: bold } /* Name.Exception */\n.output_html .nf { color: #0000FF } /* Name.Function */\n.output_html .nl { color: #A0A000 } /* Name.Label */\n.output_html .nn { color: #0000FF; font-weight: bold } /* Name.Namespace */\n.output_html .nt { color: #008000; font-weight: bold } /* Name.Tag */\n.output_html .nv { color: #19177C } /* Name.Variable */\n.output_html .ow { color: #AA22FF; font-weight: bold } /* Operator.Word */\n.output_html .w { color: #bbbbbb } /* Text.Whitespace */\n.output_html .mb { color: #666666 } /* Literal.Number.Bin */\n.output_html .mf { color: #666666 } /* Literal.Number.Float */\n.output_html .mh { color: #666666 } /* Literal.Number.Hex */\n.output_html .mi { color: #666666 } /* Literal.Number.Integer */\n.output_html .mo { color: #666666 } /* Literal.Number.Oct */\n.output_html .sa { color: #BA2121 } /* Literal.String.Affix */\n.output_html .sb { color: #BA2121 } /* Literal.String.Backtick */\n.output_html .sc { color: #BA2121 } /* Literal.String.Char */\n.output_html .dl { color: #BA2121 } /* Literal.String.Delimiter */\n.output_html .sd { color: #BA2121; font-style: italic } /* Literal.String.Doc */\n.output_html .s2 { color: #BA2121 } /* Literal.String.Double */\n.output_html .se { color: #BB6622; font-weight: bold } /* Literal.String.Escape */\n.output_html .sh { color: #BA2121 } /* Literal.String.Heredoc */\n.output_html .si { color: #BB6688; font-weight: bold } /* Literal.String.Interpol */\n.output_html .sx { color: #008000 } /* Literal.String.Other */\n.output_html .sr { color: #BB6688 } /* Literal.String.Regex */\n.output_html .s1 { color: #BA2121 } /* Literal.String.Single */\n.output_html .ss { color: #19177C } /* Literal.String.Symbol */\n.output_html .bp { color: #008000 } /* Name.Builtin.Pseudo */\n.output_html .fm { color: #0000FF } /* Name.Function.Magic */\n.output_html .vc { color: #19177C } /* Name.Variable.Class */\n.output_html .vg { color: #19177C } /* Name.Variable.Global */\n.output_html .vi { color: #19177C } /* Name.Variable.Instance */\n.output_html .vm { color: #19177C } /* Name.Variable.Magic */\n.output_html .il { color: #666666 } /* Literal.Number.Integer.Long */</style><div class=\"highlight\"><pre><span></span><span class=\"n\">train_df</span><span class=\"o\">.</span><span class=\"n\">describe</span><span class=\"p\">()</span>\n</pre></div>\n",
         "text/latex": "\\begin{Verbatim}[commandchars=\\\\\\{\\}]\n\\PY{n}{train\\PYZus{}df}\\PY{o}{.}\\PY{n}{describe}\\PY{p}{(}\\PY{p}{)}\n\\end{Verbatim}\n",
         "text/plain": "train_df.describe()"
        },
        "metadata": {},
        "output_type": "display_data"
       },
       {
        "data": {
         "text/markdown": "Some of the maximum values seem quite large comparative to the median and may warrent looking into more (e.g. `total sulfur dioxide`).\n",
         "text/plain": "<IPython.core.display.Markdown object>"
        },
        "metadata": {},
        "output_type": "display_data"
       }
      ]
     }
    },
    "25bebaa82e3b44c99e2fc496bd6064a7": {
     "model_module": "@jupyter-widgets/controls",
     "model_module_version": "1.5.0",
     "model_name": "ButtonModel",
     "state": {
      "_dom_classes": [],
      "_model_module": "@jupyter-widgets/controls",
      "_model_module_version": "1.5.0",
      "_model_name": "ButtonModel",
      "_view_count": null,
      "_view_module": "@jupyter-widgets/controls",
      "_view_module_version": "1.5.0",
      "_view_name": "ButtonView",
      "button_style": "",
      "description": "Hide solution",
      "disabled": false,
      "icon": "",
      "layout": "IPY_MODEL_19cbbcad7e4e4e8d877f2b4878cdff24",
      "style": "IPY_MODEL_52f6a35e1c3a4eafa300ebadf4cc69ee",
      "tooltip": ""
     }
    },
    "275a5f8d0bbc4f7fb4fa8d15adf5eb50": {
     "model_module": "@jupyter-widgets/controls",
     "model_module_version": "1.5.0",
     "model_name": "ButtonModel",
     "state": {
      "_dom_classes": [],
      "_model_module": "@jupyter-widgets/controls",
      "_model_module_version": "1.5.0",
      "_model_name": "ButtonModel",
      "_view_count": null,
      "_view_module": "@jupyter-widgets/controls",
      "_view_module_version": "1.5.0",
      "_view_name": "ButtonView",
      "button_style": "",
      "description": "Hide solution",
      "disabled": false,
      "icon": "",
      "layout": "IPY_MODEL_b7cce85de69a408492107a52a180dfc0",
      "style": "IPY_MODEL_368a4afd552b48e5bcbd770e3003252a",
      "tooltip": ""
     }
    },
    "2c943865a49846918d96f0051f34ebb3": {
     "model_module": "@jupyter-widgets/controls",
     "model_module_version": "1.5.0",
     "model_name": "ButtonStyleModel",
     "state": {
      "_model_module": "@jupyter-widgets/controls",
      "_model_module_version": "1.5.0",
      "_model_name": "ButtonStyleModel",
      "_view_count": null,
      "_view_module": "@jupyter-widgets/base",
      "_view_module_version": "1.2.0",
      "_view_name": "StyleView",
      "button_color": null,
      "font_weight": ""
     }
    },
    "314027c6d04644efa55653210b613841": {
     "model_module": "@jupyter-widgets/base",
     "model_module_version": "1.2.0",
     "model_name": "LayoutModel",
     "state": {
      "_model_module": "@jupyter-widgets/base",
      "_model_module_version": "1.2.0",
      "_model_name": "LayoutModel",
      "_view_count": null,
      "_view_module": "@jupyter-widgets/base",
      "_view_module_version": "1.2.0",
      "_view_name": "LayoutView",
      "align_content": null,
      "align_items": null,
      "align_self": null,
      "border": null,
      "bottom": null,
      "display": null,
      "flex": null,
      "flex_flow": null,
      "grid_area": null,
      "grid_auto_columns": null,
      "grid_auto_flow": null,
      "grid_auto_rows": null,
      "grid_column": null,
      "grid_gap": null,
      "grid_row": null,
      "grid_template_areas": null,
      "grid_template_columns": null,
      "grid_template_rows": null,
      "height": null,
      "justify_content": null,
      "justify_items": null,
      "left": null,
      "margin": null,
      "max_height": null,
      "max_width": null,
      "min_height": null,
      "min_width": null,
      "object_fit": null,
      "object_position": null,
      "order": null,
      "overflow": null,
      "overflow_x": null,
      "overflow_y": null,
      "padding": null,
      "right": null,
      "top": null,
      "visibility": null,
      "width": null
     }
    },
    "31d442377c244476b46c6f9f835fff80": {
     "model_module": "@jupyter-widgets/output",
     "model_module_version": "1.0.0",
     "model_name": "OutputModel",
     "state": {
      "_dom_classes": [],
      "_model_module": "@jupyter-widgets/output",
      "_model_module_version": "1.0.0",
      "_model_name": "OutputModel",
      "_view_count": null,
      "_view_module": "@jupyter-widgets/output",
      "_view_module_version": "1.0.0",
      "_view_name": "OutputView",
      "layout": "IPY_MODEL_aeff67eec0d64ce988f13ba64019e25e",
      "msg_id": "",
      "outputs": [
       {
        "data": {
         "text/html": "<style>.output_html .hll { background-color: #ffffcc }\n.output_html  { background: #f8f8f8; }\n.output_html .c { color: #408080; font-style: italic } /* Comment */\n.output_html .err { border: 1px solid #FF0000 } /* Error */\n.output_html .k { color: #008000; font-weight: bold } /* Keyword */\n.output_html .o { color: #666666 } /* Operator */\n.output_html .ch { color: #408080; font-style: italic } /* Comment.Hashbang */\n.output_html .cm { color: #408080; font-style: italic } /* Comment.Multiline */\n.output_html .cp { color: #BC7A00 } /* Comment.Preproc */\n.output_html .cpf { color: #408080; font-style: italic } /* Comment.PreprocFile */\n.output_html .c1 { color: #408080; font-style: italic } /* Comment.Single */\n.output_html .cs { color: #408080; font-style: italic } /* Comment.Special */\n.output_html .gd { color: #A00000 } /* Generic.Deleted */\n.output_html .ge { font-style: italic } /* Generic.Emph */\n.output_html .gr { color: #FF0000 } /* Generic.Error */\n.output_html .gh { color: #000080; font-weight: bold } /* Generic.Heading */\n.output_html .gi { color: #00A000 } /* Generic.Inserted */\n.output_html .go { color: #888888 } /* Generic.Output */\n.output_html .gp { color: #000080; font-weight: bold } /* Generic.Prompt */\n.output_html .gs { font-weight: bold } /* Generic.Strong */\n.output_html .gu { color: #800080; font-weight: bold } /* Generic.Subheading */\n.output_html .gt { color: #0044DD } /* Generic.Traceback */\n.output_html .kc { color: #008000; font-weight: bold } /* Keyword.Constant */\n.output_html .kd { color: #008000; font-weight: bold } /* Keyword.Declaration */\n.output_html .kn { color: #008000; font-weight: bold } /* Keyword.Namespace */\n.output_html .kp { color: #008000 } /* Keyword.Pseudo */\n.output_html .kr { color: #008000; font-weight: bold } /* Keyword.Reserved */\n.output_html .kt { color: #B00040 } /* Keyword.Type */\n.output_html .m { color: #666666 } /* Literal.Number */\n.output_html .s { color: #BA2121 } /* Literal.String */\n.output_html .na { color: #7D9029 } /* Name.Attribute */\n.output_html .nb { color: #008000 } /* Name.Builtin */\n.output_html .nc { color: #0000FF; font-weight: bold } /* Name.Class */\n.output_html .no { color: #880000 } /* Name.Constant */\n.output_html .nd { color: #AA22FF } /* Name.Decorator */\n.output_html .ni { color: #999999; font-weight: bold } /* Name.Entity */\n.output_html .ne { color: #D2413A; font-weight: bold } /* Name.Exception */\n.output_html .nf { color: #0000FF } /* Name.Function */\n.output_html .nl { color: #A0A000 } /* Name.Label */\n.output_html .nn { color: #0000FF; font-weight: bold } /* Name.Namespace */\n.output_html .nt { color: #008000; font-weight: bold } /* Name.Tag */\n.output_html .nv { color: #19177C } /* Name.Variable */\n.output_html .ow { color: #AA22FF; font-weight: bold } /* Operator.Word */\n.output_html .w { color: #bbbbbb } /* Text.Whitespace */\n.output_html .mb { color: #666666 } /* Literal.Number.Bin */\n.output_html .mf { color: #666666 } /* Literal.Number.Float */\n.output_html .mh { color: #666666 } /* Literal.Number.Hex */\n.output_html .mi { color: #666666 } /* Literal.Number.Integer */\n.output_html .mo { color: #666666 } /* Literal.Number.Oct */\n.output_html .sa { color: #BA2121 } /* Literal.String.Affix */\n.output_html .sb { color: #BA2121 } /* Literal.String.Backtick */\n.output_html .sc { color: #BA2121 } /* Literal.String.Char */\n.output_html .dl { color: #BA2121 } /* Literal.String.Delimiter */\n.output_html .sd { color: #BA2121; font-style: italic } /* Literal.String.Doc */\n.output_html .s2 { color: #BA2121 } /* Literal.String.Double */\n.output_html .se { color: #BB6622; font-weight: bold } /* Literal.String.Escape */\n.output_html .sh { color: #BA2121 } /* Literal.String.Heredoc */\n.output_html .si { color: #BB6688; font-weight: bold } /* Literal.String.Interpol */\n.output_html .sx { color: #008000 } /* Literal.String.Other */\n.output_html .sr { color: #BB6688 } /* Literal.String.Regex */\n.output_html .s1 { color: #BA2121 } /* Literal.String.Single */\n.output_html .ss { color: #19177C } /* Literal.String.Symbol */\n.output_html .bp { color: #008000 } /* Name.Builtin.Pseudo */\n.output_html .fm { color: #0000FF } /* Name.Function.Magic */\n.output_html .vc { color: #19177C } /* Name.Variable.Class */\n.output_html .vg { color: #19177C } /* Name.Variable.Global */\n.output_html .vi { color: #19177C } /* Name.Variable.Instance */\n.output_html .vm { color: #19177C } /* Name.Variable.Magic */\n.output_html .il { color: #666666 } /* Literal.Number.Integer.Long */</style><div class=\"highlight\"><pre><span></span><span class=\"kn\">from</span> <span class=\"nn\">sklearn.preprocessing</span> <span class=\"kn\">import</span> <span class=\"n\">StandardScaler</span>\n<span class=\"n\">scaler</span> <span class=\"o\">=</span> <span class=\"n\">StandardScaler</span><span class=\"p\">()</span> \n\n<span class=\"n\">scaler</span><span class=\"o\">.</span><span class=\"n\">fit</span><span class=\"p\">(</span><span class=\"n\">X_train</span><span class=\"p\">)</span>\n<span class=\"n\">X_train_scaled</span> <span class=\"o\">=</span> <span class=\"n\">scaler</span><span class=\"o\">.</span><span class=\"n\">transform</span><span class=\"p\">(</span><span class=\"n\">X_train</span><span class=\"p\">)</span>\n\n<span class=\"nb\">print</span><span class=\"p\">(</span><span class=\"s2\">&quot;Mean&quot;</span><span class=\"p\">)</span>\n<span class=\"n\">display</span><span class=\"p\">(</span><span class=\"n\">scaler</span><span class=\"o\">.</span><span class=\"n\">mean_</span><span class=\"p\">)</span>\n<span class=\"nb\">print</span><span class=\"p\">(</span><span class=\"s2\">&quot;Std&quot;</span><span class=\"p\">)</span>\n<span class=\"n\">display</span><span class=\"p\">(</span><span class=\"n\">scaler</span><span class=\"o\">.</span><span class=\"n\">scale_</span><span class=\"p\">)</span>\n</pre></div>\n",
         "text/latex": "\\begin{Verbatim}[commandchars=\\\\\\{\\}]\n\\PY{k+kn}{from} \\PY{n+nn}{sklearn}\\PY{n+nn}{.}\\PY{n+nn}{preprocessing} \\PY{k+kn}{import} \\PY{n}{StandardScaler}\n\\PY{n}{scaler} \\PY{o}{=} \\PY{n}{StandardScaler}\\PY{p}{(}\\PY{p}{)} \n\n\\PY{n}{scaler}\\PY{o}{.}\\PY{n}{fit}\\PY{p}{(}\\PY{n}{X\\PYZus{}train}\\PY{p}{)}\n\\PY{n}{X\\PYZus{}train\\PYZus{}scaled} \\PY{o}{=} \\PY{n}{scaler}\\PY{o}{.}\\PY{n}{transform}\\PY{p}{(}\\PY{n}{X\\PYZus{}train}\\PY{p}{)}\n\n\\PY{n+nb}{print}\\PY{p}{(}\\PY{l+s+s2}{\\PYZdq{}}\\PY{l+s+s2}{Mean}\\PY{l+s+s2}{\\PYZdq{}}\\PY{p}{)}\n\\PY{n}{display}\\PY{p}{(}\\PY{n}{scaler}\\PY{o}{.}\\PY{n}{mean\\PYZus{}}\\PY{p}{)}\n\\PY{n+nb}{print}\\PY{p}{(}\\PY{l+s+s2}{\\PYZdq{}}\\PY{l+s+s2}{Std}\\PY{l+s+s2}{\\PYZdq{}}\\PY{p}{)}\n\\PY{n}{display}\\PY{p}{(}\\PY{n}{scaler}\\PY{o}{.}\\PY{n}{scale\\PYZus{}}\\PY{p}{)}\n\\end{Verbatim}\n",
         "text/plain": "from sklearn.preprocessing import StandardScaler\nscaler = StandardScaler() \n\nscaler.fit(X_train)\nX_train_scaled = scaler.transform(X_train)\n\nprint(\"Mean\")\ndisplay(scaler.mean_)\nprint(\"Std\")\ndisplay(scaler.scale_)"
        },
        "metadata": {},
        "output_type": "display_data"
       }
      ]
     }
    },
    "368a4afd552b48e5bcbd770e3003252a": {
     "model_module": "@jupyter-widgets/controls",
     "model_module_version": "1.5.0",
     "model_name": "ButtonStyleModel",
     "state": {
      "_model_module": "@jupyter-widgets/controls",
      "_model_module_version": "1.5.0",
      "_model_name": "ButtonStyleModel",
      "_view_count": null,
      "_view_module": "@jupyter-widgets/base",
      "_view_module_version": "1.2.0",
      "_view_name": "StyleView",
      "button_color": null,
      "font_weight": ""
     }
    },
    "3697d77bdc964d568028234f944b2d73": {
     "model_module": "@jupyter-widgets/controls",
     "model_module_version": "1.5.0",
     "model_name": "ButtonModel",
     "state": {
      "_dom_classes": [],
      "_model_module": "@jupyter-widgets/controls",
      "_model_module_version": "1.5.0",
      "_model_name": "ButtonModel",
      "_view_count": null,
      "_view_module": "@jupyter-widgets/controls",
      "_view_module_version": "1.5.0",
      "_view_name": "ButtonView",
      "button_style": "",
      "description": "Hide solution",
      "disabled": false,
      "icon": "",
      "layout": "IPY_MODEL_6194277c00c3475aafc65c679380edf1",
      "style": "IPY_MODEL_f002f289423c47669f8f2896eb878d8a",
      "tooltip": ""
     }
    },
    "36a214d86fcf4a8c8689df4232d45216": {
     "model_module": "@jupyter-widgets/base",
     "model_module_version": "1.2.0",
     "model_name": "LayoutModel",
     "state": {
      "_model_module": "@jupyter-widgets/base",
      "_model_module_version": "1.2.0",
      "_model_name": "LayoutModel",
      "_view_count": null,
      "_view_module": "@jupyter-widgets/base",
      "_view_module_version": "1.2.0",
      "_view_name": "LayoutView",
      "align_content": null,
      "align_items": null,
      "align_self": null,
      "border": null,
      "bottom": null,
      "display": null,
      "flex": null,
      "flex_flow": null,
      "grid_area": null,
      "grid_auto_columns": null,
      "grid_auto_flow": null,
      "grid_auto_rows": null,
      "grid_column": null,
      "grid_gap": null,
      "grid_row": null,
      "grid_template_areas": null,
      "grid_template_columns": null,
      "grid_template_rows": null,
      "height": null,
      "justify_content": null,
      "justify_items": null,
      "left": null,
      "margin": null,
      "max_height": null,
      "max_width": null,
      "min_height": null,
      "min_width": null,
      "object_fit": null,
      "object_position": null,
      "order": null,
      "overflow": null,
      "overflow_x": null,
      "overflow_y": null,
      "padding": null,
      "right": null,
      "top": null,
      "visibility": null,
      "width": null
     }
    },
    "3cd491b3e6154d8ca9c36ac5ff53f110": {
     "model_module": "@jupyter-widgets/controls",
     "model_module_version": "1.5.0",
     "model_name": "ButtonModel",
     "state": {
      "_dom_classes": [],
      "_model_module": "@jupyter-widgets/controls",
      "_model_module_version": "1.5.0",
      "_model_name": "ButtonModel",
      "_view_count": null,
      "_view_module": "@jupyter-widgets/controls",
      "_view_module_version": "1.5.0",
      "_view_name": "ButtonView",
      "button_style": "",
      "description": "Hide solution",
      "disabled": false,
      "icon": "",
      "layout": "IPY_MODEL_a37d292ca86b451c8337d33752e858dc",
      "style": "IPY_MODEL_9e54e55dbb064c1cbea50889ddc7191b",
      "tooltip": ""
     }
    },
    "3de537867eef460b93a7acf6b965fc42": {
     "model_module": "@jupyter-widgets/controls",
     "model_module_version": "1.5.0",
     "model_name": "ButtonModel",
     "state": {
      "_dom_classes": [],
      "_model_module": "@jupyter-widgets/controls",
      "_model_module_version": "1.5.0",
      "_model_name": "ButtonModel",
      "_view_count": null,
      "_view_module": "@jupyter-widgets/controls",
      "_view_module_version": "1.5.0",
      "_view_name": "ButtonView",
      "button_style": "",
      "description": "Hide solution",
      "disabled": false,
      "icon": "",
      "layout": "IPY_MODEL_d0a186e8051c421e849cb19b1936f477",
      "style": "IPY_MODEL_16e06440fa464bed826bb670a3d3445f",
      "tooltip": ""
     }
    },
    "3ed7828ee75d4ca28a79c50c8e486124": {
     "model_module": "@jupyter-widgets/controls",
     "model_module_version": "1.5.0",
     "model_name": "ButtonModel",
     "state": {
      "_dom_classes": [],
      "_model_module": "@jupyter-widgets/controls",
      "_model_module_version": "1.5.0",
      "_model_name": "ButtonModel",
      "_view_count": null,
      "_view_module": "@jupyter-widgets/controls",
      "_view_module_version": "1.5.0",
      "_view_name": "ButtonView",
      "button_style": "",
      "description": "Hide solution",
      "disabled": false,
      "icon": "",
      "layout": "IPY_MODEL_8c8cb6238be14dd4a527c1675db2ef55",
      "style": "IPY_MODEL_ebd4fd058e2c4f1e82a530297ec5da51",
      "tooltip": ""
     }
    },
    "3f5d6001dcea47f4afd512bdce2616d6": {
     "model_module": "@jupyter-widgets/controls",
     "model_module_version": "1.5.0",
     "model_name": "ButtonStyleModel",
     "state": {
      "_model_module": "@jupyter-widgets/controls",
      "_model_module_version": "1.5.0",
      "_model_name": "ButtonStyleModel",
      "_view_count": null,
      "_view_module": "@jupyter-widgets/base",
      "_view_module_version": "1.2.0",
      "_view_name": "StyleView",
      "button_color": null,
      "font_weight": ""
     }
    },
    "459faa6d8d564bf982b36cca39b18d3a": {
     "model_module": "@jupyter-widgets/base",
     "model_module_version": "1.2.0",
     "model_name": "LayoutModel",
     "state": {
      "_model_module": "@jupyter-widgets/base",
      "_model_module_version": "1.2.0",
      "_model_name": "LayoutModel",
      "_view_count": null,
      "_view_module": "@jupyter-widgets/base",
      "_view_module_version": "1.2.0",
      "_view_name": "LayoutView",
      "align_content": null,
      "align_items": null,
      "align_self": null,
      "border": "1px solid green",
      "bottom": null,
      "display": null,
      "flex": null,
      "flex_flow": null,
      "grid_area": null,
      "grid_auto_columns": null,
      "grid_auto_flow": null,
      "grid_auto_rows": null,
      "grid_column": null,
      "grid_gap": null,
      "grid_row": null,
      "grid_template_areas": null,
      "grid_template_columns": null,
      "grid_template_rows": null,
      "height": null,
      "justify_content": null,
      "justify_items": null,
      "left": null,
      "margin": null,
      "max_height": null,
      "max_width": null,
      "min_height": null,
      "min_width": null,
      "object_fit": null,
      "object_position": null,
      "order": null,
      "overflow": null,
      "overflow_x": null,
      "overflow_y": null,
      "padding": null,
      "right": null,
      "top": null,
      "visibility": null,
      "width": null
     }
    },
    "45ec69a3d1b54a34aff351d4233f29c7": {
     "model_module": "@jupyter-widgets/output",
     "model_module_version": "1.0.0",
     "model_name": "OutputModel",
     "state": {
      "_dom_classes": [],
      "_model_module": "@jupyter-widgets/output",
      "_model_module_version": "1.0.0",
      "_model_name": "OutputModel",
      "_view_count": null,
      "_view_module": "@jupyter-widgets/output",
      "_view_module_version": "1.0.0",
      "_view_name": "OutputView",
      "layout": "IPY_MODEL_6e593ab516724138b2f9044e909030f6",
      "msg_id": "",
      "outputs": [
       {
        "data": {
         "text/html": "<style>.output_html .hll { background-color: #ffffcc }\n.output_html  { background: #f8f8f8; }\n.output_html .c { color: #408080; font-style: italic } /* Comment */\n.output_html .err { border: 1px solid #FF0000 } /* Error */\n.output_html .k { color: #008000; font-weight: bold } /* Keyword */\n.output_html .o { color: #666666 } /* Operator */\n.output_html .ch { color: #408080; font-style: italic } /* Comment.Hashbang */\n.output_html .cm { color: #408080; font-style: italic } /* Comment.Multiline */\n.output_html .cp { color: #BC7A00 } /* Comment.Preproc */\n.output_html .cpf { color: #408080; font-style: italic } /* Comment.PreprocFile */\n.output_html .c1 { color: #408080; font-style: italic } /* Comment.Single */\n.output_html .cs { color: #408080; font-style: italic } /* Comment.Special */\n.output_html .gd { color: #A00000 } /* Generic.Deleted */\n.output_html .ge { font-style: italic } /* Generic.Emph */\n.output_html .gr { color: #FF0000 } /* Generic.Error */\n.output_html .gh { color: #000080; font-weight: bold } /* Generic.Heading */\n.output_html .gi { color: #00A000 } /* Generic.Inserted */\n.output_html .go { color: #888888 } /* Generic.Output */\n.output_html .gp { color: #000080; font-weight: bold } /* Generic.Prompt */\n.output_html .gs { font-weight: bold } /* Generic.Strong */\n.output_html .gu { color: #800080; font-weight: bold } /* Generic.Subheading */\n.output_html .gt { color: #0044DD } /* Generic.Traceback */\n.output_html .kc { color: #008000; font-weight: bold } /* Keyword.Constant */\n.output_html .kd { color: #008000; font-weight: bold } /* Keyword.Declaration */\n.output_html .kn { color: #008000; font-weight: bold } /* Keyword.Namespace */\n.output_html .kp { color: #008000 } /* Keyword.Pseudo */\n.output_html .kr { color: #008000; font-weight: bold } /* Keyword.Reserved */\n.output_html .kt { color: #B00040 } /* Keyword.Type */\n.output_html .m { color: #666666 } /* Literal.Number */\n.output_html .s { color: #BA2121 } /* Literal.String */\n.output_html .na { color: #7D9029 } /* Name.Attribute */\n.output_html .nb { color: #008000 } /* Name.Builtin */\n.output_html .nc { color: #0000FF; font-weight: bold } /* Name.Class */\n.output_html .no { color: #880000 } /* Name.Constant */\n.output_html .nd { color: #AA22FF } /* Name.Decorator */\n.output_html .ni { color: #999999; font-weight: bold } /* Name.Entity */\n.output_html .ne { color: #D2413A; font-weight: bold } /* Name.Exception */\n.output_html .nf { color: #0000FF } /* Name.Function */\n.output_html .nl { color: #A0A000 } /* Name.Label */\n.output_html .nn { color: #0000FF; font-weight: bold } /* Name.Namespace */\n.output_html .nt { color: #008000; font-weight: bold } /* Name.Tag */\n.output_html .nv { color: #19177C } /* Name.Variable */\n.output_html .ow { color: #AA22FF; font-weight: bold } /* Operator.Word */\n.output_html .w { color: #bbbbbb } /* Text.Whitespace */\n.output_html .mb { color: #666666 } /* Literal.Number.Bin */\n.output_html .mf { color: #666666 } /* Literal.Number.Float */\n.output_html .mh { color: #666666 } /* Literal.Number.Hex */\n.output_html .mi { color: #666666 } /* Literal.Number.Integer */\n.output_html .mo { color: #666666 } /* Literal.Number.Oct */\n.output_html .sa { color: #BA2121 } /* Literal.String.Affix */\n.output_html .sb { color: #BA2121 } /* Literal.String.Backtick */\n.output_html .sc { color: #BA2121 } /* Literal.String.Char */\n.output_html .dl { color: #BA2121 } /* Literal.String.Delimiter */\n.output_html .sd { color: #BA2121; font-style: italic } /* Literal.String.Doc */\n.output_html .s2 { color: #BA2121 } /* Literal.String.Double */\n.output_html .se { color: #BB6622; font-weight: bold } /* Literal.String.Escape */\n.output_html .sh { color: #BA2121 } /* Literal.String.Heredoc */\n.output_html .si { color: #BB6688; font-weight: bold } /* Literal.String.Interpol */\n.output_html .sx { color: #008000 } /* Literal.String.Other */\n.output_html .sr { color: #BB6688 } /* Literal.String.Regex */\n.output_html .s1 { color: #BA2121 } /* Literal.String.Single */\n.output_html .ss { color: #19177C } /* Literal.String.Symbol */\n.output_html .bp { color: #008000 } /* Name.Builtin.Pseudo */\n.output_html .fm { color: #0000FF } /* Name.Function.Magic */\n.output_html .vc { color: #19177C } /* Name.Variable.Class */\n.output_html .vg { color: #19177C } /* Name.Variable.Global */\n.output_html .vi { color: #19177C } /* Name.Variable.Instance */\n.output_html .vm { color: #19177C } /* Name.Variable.Magic */\n.output_html .il { color: #666666 } /* Literal.Number.Integer.Long */</style><div class=\"highlight\"><pre><span></span><span class=\"kn\">import</span> <span class=\"nn\">scipy.stats</span> <span class=\"k\">as</span> <span class=\"nn\">stats</span>\n\n<span class=\"c1\"># from Python Feature Engineering Cookbook</span>\n<span class=\"k\">def</span> <span class=\"nf\">diagnostic_plots</span><span class=\"p\">(</span><span class=\"n\">df</span><span class=\"p\">,</span> <span class=\"n\">variable</span><span class=\"p\">):</span> \n    <span class=\"n\">plt</span><span class=\"o\">.</span><span class=\"n\">figure</span><span class=\"p\">(</span><span class=\"n\">figsize</span><span class=\"o\">=</span><span class=\"p\">(</span><span class=\"mi\">15</span><span class=\"p\">,</span><span class=\"mi\">6</span><span class=\"p\">))</span> \n    <span class=\"n\">plt</span><span class=\"o\">.</span><span class=\"n\">subplot</span><span class=\"p\">(</span><span class=\"mi\">1</span><span class=\"p\">,</span> <span class=\"mi\">2</span><span class=\"p\">,</span> <span class=\"mi\">1</span><span class=\"p\">)</span> \n    <span class=\"n\">df</span><span class=\"p\">[</span><span class=\"n\">variable</span><span class=\"p\">]</span><span class=\"o\">.</span><span class=\"n\">hist</span><span class=\"p\">(</span><span class=\"n\">bins</span><span class=\"o\">=</span><span class=\"mi\">30</span><span class=\"p\">)</span>\n    <span class=\"n\">plt</span><span class=\"o\">.</span><span class=\"n\">title</span><span class=\"p\">(</span><span class=\"s2\">&quot;Histogram&quot;</span><span class=\"p\">)</span>\n    <span class=\"n\">plt</span><span class=\"o\">.</span><span class=\"n\">subplot</span><span class=\"p\">(</span><span class=\"mi\">1</span><span class=\"p\">,</span> <span class=\"mi\">2</span><span class=\"p\">,</span> <span class=\"mi\">2</span><span class=\"p\">)</span>\n    <span class=\"n\">stats</span><span class=\"o\">.</span><span class=\"n\">probplot</span><span class=\"p\">(</span><span class=\"n\">df</span><span class=\"p\">[</span><span class=\"n\">variable</span><span class=\"p\">],</span> <span class=\"n\">dist</span><span class=\"o\">=</span><span class=\"s2\">&quot;norm&quot;</span><span class=\"p\">,</span> <span class=\"n\">plot</span><span class=\"o\">=</span><span class=\"n\">plt</span><span class=\"p\">)</span> \n    <span class=\"n\">plt</span><span class=\"o\">.</span><span class=\"n\">suptitle</span><span class=\"p\">(</span><span class=\"s2\">&quot;Diagnostic Plots for </span><span class=\"si\">{}</span><span class=\"s2\">&quot;</span><span class=\"o\">.</span><span class=\"n\">format</span><span class=\"p\">(</span><span class=\"n\">variable</span><span class=\"p\">))</span>\n    <span class=\"n\">plt</span><span class=\"o\">.</span><span class=\"n\">show</span><span class=\"p\">()</span>\n\n<span class=\"k\">for</span> <span class=\"n\">variable_name</span> <span class=\"ow\">in</span> <span class=\"n\">X_train</span><span class=\"o\">.</span><span class=\"n\">columns</span><span class=\"p\">:</span>\n    <span class=\"n\">diagnostic_plots</span><span class=\"p\">(</span><span class=\"n\">X_train</span><span class=\"p\">,</span> <span class=\"n\">variable_name</span><span class=\"p\">)</span>\n</pre></div>\n",
         "text/latex": "\\begin{Verbatim}[commandchars=\\\\\\{\\}]\n\\PY{k+kn}{import} \\PY{n+nn}{scipy}\\PY{n+nn}{.}\\PY{n+nn}{stats} \\PY{k}{as} \\PY{n+nn}{stats}\n\n\\PY{c+c1}{\\PYZsh{} from Python Feature Engineering Cookbook}\n\\PY{k}{def} \\PY{n+nf}{diagnostic\\PYZus{}plots}\\PY{p}{(}\\PY{n}{df}\\PY{p}{,} \\PY{n}{variable}\\PY{p}{)}\\PY{p}{:} \n    \\PY{n}{plt}\\PY{o}{.}\\PY{n}{figure}\\PY{p}{(}\\PY{n}{figsize}\\PY{o}{=}\\PY{p}{(}\\PY{l+m+mi}{15}\\PY{p}{,}\\PY{l+m+mi}{6}\\PY{p}{)}\\PY{p}{)} \n    \\PY{n}{plt}\\PY{o}{.}\\PY{n}{subplot}\\PY{p}{(}\\PY{l+m+mi}{1}\\PY{p}{,} \\PY{l+m+mi}{2}\\PY{p}{,} \\PY{l+m+mi}{1}\\PY{p}{)} \n    \\PY{n}{df}\\PY{p}{[}\\PY{n}{variable}\\PY{p}{]}\\PY{o}{.}\\PY{n}{hist}\\PY{p}{(}\\PY{n}{bins}\\PY{o}{=}\\PY{l+m+mi}{30}\\PY{p}{)}\n    \\PY{n}{plt}\\PY{o}{.}\\PY{n}{title}\\PY{p}{(}\\PY{l+s+s2}{\\PYZdq{}}\\PY{l+s+s2}{Histogram}\\PY{l+s+s2}{\\PYZdq{}}\\PY{p}{)}\n    \\PY{n}{plt}\\PY{o}{.}\\PY{n}{subplot}\\PY{p}{(}\\PY{l+m+mi}{1}\\PY{p}{,} \\PY{l+m+mi}{2}\\PY{p}{,} \\PY{l+m+mi}{2}\\PY{p}{)}\n    \\PY{n}{stats}\\PY{o}{.}\\PY{n}{probplot}\\PY{p}{(}\\PY{n}{df}\\PY{p}{[}\\PY{n}{variable}\\PY{p}{]}\\PY{p}{,} \\PY{n}{dist}\\PY{o}{=}\\PY{l+s+s2}{\\PYZdq{}}\\PY{l+s+s2}{norm}\\PY{l+s+s2}{\\PYZdq{}}\\PY{p}{,} \\PY{n}{plot}\\PY{o}{=}\\PY{n}{plt}\\PY{p}{)} \n    \\PY{n}{plt}\\PY{o}{.}\\PY{n}{suptitle}\\PY{p}{(}\\PY{l+s+s2}{\\PYZdq{}}\\PY{l+s+s2}{Diagnostic Plots for }\\PY{l+s+si}{\\PYZob{}\\PYZcb{}}\\PY{l+s+s2}{\\PYZdq{}}\\PY{o}{.}\\PY{n}{format}\\PY{p}{(}\\PY{n}{variable}\\PY{p}{)}\\PY{p}{)}\n    \\PY{n}{plt}\\PY{o}{.}\\PY{n}{show}\\PY{p}{(}\\PY{p}{)}\n\n\\PY{k}{for} \\PY{n}{variable\\PYZus{}name} \\PY{o+ow}{in} \\PY{n}{X\\PYZus{}train}\\PY{o}{.}\\PY{n}{columns}\\PY{p}{:}\n    \\PY{n}{diagnostic\\PYZus{}plots}\\PY{p}{(}\\PY{n}{X\\PYZus{}train}\\PY{p}{,} \\PY{n}{variable\\PYZus{}name}\\PY{p}{)}\n\\end{Verbatim}\n",
         "text/plain": "import scipy.stats as stats\n\n# from Python Feature Engineering Cookbook\ndef diagnostic_plots(df, variable): \n    plt.figure(figsize=(15,6)) \n    plt.subplot(1, 2, 1) \n    df[variable].hist(bins=30)\n    plt.title(\"Histogram\")\n    plt.subplot(1, 2, 2)\n    stats.probplot(df[variable], dist=\"norm\", plot=plt) \n    plt.suptitle(\"Diagnostic Plots for {}\".format(variable))\n    plt.show()\n\nfor variable_name in X_train.columns:\n    diagnostic_plots(X_train, variable_name)"
        },
        "metadata": {},
        "output_type": "display_data"
       },
       {
        "data": {
         "text/markdown": "From the figures above, we can see that most varibles (apart from `density`, `pH`, and `quality`) are at least partly positively (or right) skewed. This can also be further demonstrated by the table below.\n",
         "text/plain": "<IPython.core.display.Markdown object>"
        },
        "metadata": {},
        "output_type": "display_data"
       },
       {
        "data": {
         "text/html": "<style>.output_html .hll { background-color: #ffffcc }\n.output_html  { background: #f8f8f8; }\n.output_html .c { color: #408080; font-style: italic } /* Comment */\n.output_html .err { border: 1px solid #FF0000 } /* Error */\n.output_html .k { color: #008000; font-weight: bold } /* Keyword */\n.output_html .o { color: #666666 } /* Operator */\n.output_html .ch { color: #408080; font-style: italic } /* Comment.Hashbang */\n.output_html .cm { color: #408080; font-style: italic } /* Comment.Multiline */\n.output_html .cp { color: #BC7A00 } /* Comment.Preproc */\n.output_html .cpf { color: #408080; font-style: italic } /* Comment.PreprocFile */\n.output_html .c1 { color: #408080; font-style: italic } /* Comment.Single */\n.output_html .cs { color: #408080; font-style: italic } /* Comment.Special */\n.output_html .gd { color: #A00000 } /* Generic.Deleted */\n.output_html .ge { font-style: italic } /* Generic.Emph */\n.output_html .gr { color: #FF0000 } /* Generic.Error */\n.output_html .gh { color: #000080; font-weight: bold } /* Generic.Heading */\n.output_html .gi { color: #00A000 } /* Generic.Inserted */\n.output_html .go { color: #888888 } /* Generic.Output */\n.output_html .gp { color: #000080; font-weight: bold } /* Generic.Prompt */\n.output_html .gs { font-weight: bold } /* Generic.Strong */\n.output_html .gu { color: #800080; font-weight: bold } /* Generic.Subheading */\n.output_html .gt { color: #0044DD } /* Generic.Traceback */\n.output_html .kc { color: #008000; font-weight: bold } /* Keyword.Constant */\n.output_html .kd { color: #008000; font-weight: bold } /* Keyword.Declaration */\n.output_html .kn { color: #008000; font-weight: bold } /* Keyword.Namespace */\n.output_html .kp { color: #008000 } /* Keyword.Pseudo */\n.output_html .kr { color: #008000; font-weight: bold } /* Keyword.Reserved */\n.output_html .kt { color: #B00040 } /* Keyword.Type */\n.output_html .m { color: #666666 } /* Literal.Number */\n.output_html .s { color: #BA2121 } /* Literal.String */\n.output_html .na { color: #7D9029 } /* Name.Attribute */\n.output_html .nb { color: #008000 } /* Name.Builtin */\n.output_html .nc { color: #0000FF; font-weight: bold } /* Name.Class */\n.output_html .no { color: #880000 } /* Name.Constant */\n.output_html .nd { color: #AA22FF } /* Name.Decorator */\n.output_html .ni { color: #999999; font-weight: bold } /* Name.Entity */\n.output_html .ne { color: #D2413A; font-weight: bold } /* Name.Exception */\n.output_html .nf { color: #0000FF } /* Name.Function */\n.output_html .nl { color: #A0A000 } /* Name.Label */\n.output_html .nn { color: #0000FF; font-weight: bold } /* Name.Namespace */\n.output_html .nt { color: #008000; font-weight: bold } /* Name.Tag */\n.output_html .nv { color: #19177C } /* Name.Variable */\n.output_html .ow { color: #AA22FF; font-weight: bold } /* Operator.Word */\n.output_html .w { color: #bbbbbb } /* Text.Whitespace */\n.output_html .mb { color: #666666 } /* Literal.Number.Bin */\n.output_html .mf { color: #666666 } /* Literal.Number.Float */\n.output_html .mh { color: #666666 } /* Literal.Number.Hex */\n.output_html .mi { color: #666666 } /* Literal.Number.Integer */\n.output_html .mo { color: #666666 } /* Literal.Number.Oct */\n.output_html .sa { color: #BA2121 } /* Literal.String.Affix */\n.output_html .sb { color: #BA2121 } /* Literal.String.Backtick */\n.output_html .sc { color: #BA2121 } /* Literal.String.Char */\n.output_html .dl { color: #BA2121 } /* Literal.String.Delimiter */\n.output_html .sd { color: #BA2121; font-style: italic } /* Literal.String.Doc */\n.output_html .s2 { color: #BA2121 } /* Literal.String.Double */\n.output_html .se { color: #BB6622; font-weight: bold } /* Literal.String.Escape */\n.output_html .sh { color: #BA2121 } /* Literal.String.Heredoc */\n.output_html .si { color: #BB6688; font-weight: bold } /* Literal.String.Interpol */\n.output_html .sx { color: #008000 } /* Literal.String.Other */\n.output_html .sr { color: #BB6688 } /* Literal.String.Regex */\n.output_html .s1 { color: #BA2121 } /* Literal.String.Single */\n.output_html .ss { color: #19177C } /* Literal.String.Symbol */\n.output_html .bp { color: #008000 } /* Name.Builtin.Pseudo */\n.output_html .fm { color: #0000FF } /* Name.Function.Magic */\n.output_html .vc { color: #19177C } /* Name.Variable.Class */\n.output_html .vg { color: #19177C } /* Name.Variable.Global */\n.output_html .vi { color: #19177C } /* Name.Variable.Instance */\n.output_html .vm { color: #19177C } /* Name.Variable.Magic */\n.output_html .il { color: #666666 } /* Literal.Number.Integer.Long */</style><div class=\"highlight\"><pre><span></span><span class=\"kn\">from</span> <span class=\"nn\">scipy.stats</span> <span class=\"kn\">import</span> <span class=\"n\">skew</span> \n\n<span class=\"k\">for</span> <span class=\"n\">i</span><span class=\"p\">,</span> <span class=\"n\">variable_name</span> <span class=\"ow\">in</span> <span class=\"nb\">enumerate</span><span class=\"p\">(</span><span class=\"n\">X_train</span><span class=\"p\">):</span>\n    <span class=\"n\">skew_val</span> <span class=\"o\">=</span> <span class=\"n\">pd</span><span class=\"o\">.</span><span class=\"n\">DataFrame</span><span class=\"p\">([</span><span class=\"n\">skew</span><span class=\"p\">(</span><span class=\"n\">X_train</span><span class=\"p\">[</span><span class=\"n\">variable_name</span><span class=\"p\">])],</span> <span class=\"n\">index</span> <span class=\"o\">=</span> <span class=\"p\">[</span><span class=\"n\">variable_name</span><span class=\"p\">],</span> <span class=\"n\">columns</span><span class=\"o\">=</span><span class=\"p\">[</span><span class=\"s2\">&quot;skewness&quot;</span><span class=\"p\">])</span>\n    \n    <span class=\"k\">if</span> <span class=\"n\">i</span> <span class=\"o\">==</span> <span class=\"mi\">0</span><span class=\"p\">:</span>\n        <span class=\"n\">skew_df</span> <span class=\"o\">=</span> <span class=\"n\">skew_val</span><span class=\"o\">.</span><span class=\"n\">T</span>\n    <span class=\"k\">else</span><span class=\"p\">:</span>\n        <span class=\"n\">skew_df</span> <span class=\"o\">=</span> <span class=\"n\">pd</span><span class=\"o\">.</span><span class=\"n\">concat</span><span class=\"p\">([</span><span class=\"n\">skew_df</span><span class=\"p\">,</span> <span class=\"n\">skew_val</span><span class=\"o\">.</span><span class=\"n\">T</span><span class=\"p\">],</span> <span class=\"n\">axis</span><span class=\"o\">=</span><span class=\"mi\">1</span><span class=\"p\">)</span>\n\n<span class=\"n\">skew_df</span>\n</pre></div>\n",
         "text/latex": "\\begin{Verbatim}[commandchars=\\\\\\{\\}]\n\\PY{k+kn}{from} \\PY{n+nn}{scipy}\\PY{n+nn}{.}\\PY{n+nn}{stats} \\PY{k+kn}{import} \\PY{n}{skew} \n\n\\PY{k}{for} \\PY{n}{i}\\PY{p}{,} \\PY{n}{variable\\PYZus{}name} \\PY{o+ow}{in} \\PY{n+nb}{enumerate}\\PY{p}{(}\\PY{n}{X\\PYZus{}train}\\PY{p}{)}\\PY{p}{:}\n    \\PY{n}{skew\\PYZus{}val} \\PY{o}{=} \\PY{n}{pd}\\PY{o}{.}\\PY{n}{DataFrame}\\PY{p}{(}\\PY{p}{[}\\PY{n}{skew}\\PY{p}{(}\\PY{n}{X\\PYZus{}train}\\PY{p}{[}\\PY{n}{variable\\PYZus{}name}\\PY{p}{]}\\PY{p}{)}\\PY{p}{]}\\PY{p}{,} \\PY{n}{index} \\PY{o}{=} \\PY{p}{[}\\PY{n}{variable\\PYZus{}name}\\PY{p}{]}\\PY{p}{,} \\PY{n}{columns}\\PY{o}{=}\\PY{p}{[}\\PY{l+s+s2}{\\PYZdq{}}\\PY{l+s+s2}{skewness}\\PY{l+s+s2}{\\PYZdq{}}\\PY{p}{]}\\PY{p}{)}\n    \n    \\PY{k}{if} \\PY{n}{i} \\PY{o}{==} \\PY{l+m+mi}{0}\\PY{p}{:}\n        \\PY{n}{skew\\PYZus{}df} \\PY{o}{=} \\PY{n}{skew\\PYZus{}val}\\PY{o}{.}\\PY{n}{T}\n    \\PY{k}{else}\\PY{p}{:}\n        \\PY{n}{skew\\PYZus{}df} \\PY{o}{=} \\PY{n}{pd}\\PY{o}{.}\\PY{n}{concat}\\PY{p}{(}\\PY{p}{[}\\PY{n}{skew\\PYZus{}df}\\PY{p}{,} \\PY{n}{skew\\PYZus{}val}\\PY{o}{.}\\PY{n}{T}\\PY{p}{]}\\PY{p}{,} \\PY{n}{axis}\\PY{o}{=}\\PY{l+m+mi}{1}\\PY{p}{)}\n\n\\PY{n}{skew\\PYZus{}df}\n\\end{Verbatim}\n",
         "text/plain": "from scipy.stats import skew \n\nfor i, variable_name in enumerate(X_train):\n    skew_val = pd.DataFrame([skew(X_train[variable_name])], index = [variable_name], columns=[\"skewness\"])\n    \n    if i == 0:\n        skew_df = skew_val.T\n    else:\n        skew_df = pd.concat([skew_df, skew_val.T], axis=1)\n\nskew_df"
        },
        "metadata": {},
        "output_type": "display_data"
       }
      ]
     }
    },
    "46296b79464246eebf908e5238646b87": {
     "model_module": "@jupyter-widgets/controls",
     "model_module_version": "1.5.0",
     "model_name": "ButtonModel",
     "state": {
      "_dom_classes": [],
      "_model_module": "@jupyter-widgets/controls",
      "_model_module_version": "1.5.0",
      "_model_name": "ButtonModel",
      "_view_count": null,
      "_view_module": "@jupyter-widgets/controls",
      "_view_module_version": "1.5.0",
      "_view_name": "ButtonView",
      "button_style": "",
      "description": "Hide solution",
      "disabled": false,
      "icon": "",
      "layout": "IPY_MODEL_6014f9ac718c4226af1b0d19678f5eb0",
      "style": "IPY_MODEL_5b432f9844464cf492905be3e8b7a6ae",
      "tooltip": ""
     }
    },
    "4a464d8b4b9b4d819677511ca8d6c177": {
     "model_module": "@jupyter-widgets/base",
     "model_module_version": "1.2.0",
     "model_name": "LayoutModel",
     "state": {
      "_model_module": "@jupyter-widgets/base",
      "_model_module_version": "1.2.0",
      "_model_name": "LayoutModel",
      "_view_count": null,
      "_view_module": "@jupyter-widgets/base",
      "_view_module_version": "1.2.0",
      "_view_name": "LayoutView",
      "align_content": null,
      "align_items": null,
      "align_self": null,
      "border": "1px solid green",
      "bottom": null,
      "display": null,
      "flex": null,
      "flex_flow": null,
      "grid_area": null,
      "grid_auto_columns": null,
      "grid_auto_flow": null,
      "grid_auto_rows": null,
      "grid_column": null,
      "grid_gap": null,
      "grid_row": null,
      "grid_template_areas": null,
      "grid_template_columns": null,
      "grid_template_rows": null,
      "height": null,
      "justify_content": null,
      "justify_items": null,
      "left": null,
      "margin": null,
      "max_height": null,
      "max_width": null,
      "min_height": null,
      "min_width": null,
      "object_fit": null,
      "object_position": null,
      "order": null,
      "overflow": null,
      "overflow_x": null,
      "overflow_y": null,
      "padding": null,
      "right": null,
      "top": null,
      "visibility": null,
      "width": null
     }
    },
    "4f2ca0a9b5634b40aff77de07045b765": {
     "model_module": "@jupyter-widgets/controls",
     "model_module_version": "1.5.0",
     "model_name": "ButtonStyleModel",
     "state": {
      "_model_module": "@jupyter-widgets/controls",
      "_model_module_version": "1.5.0",
      "_model_name": "ButtonStyleModel",
      "_view_count": null,
      "_view_module": "@jupyter-widgets/base",
      "_view_module_version": "1.2.0",
      "_view_name": "StyleView",
      "button_color": null,
      "font_weight": ""
     }
    },
    "52f6a35e1c3a4eafa300ebadf4cc69ee": {
     "model_module": "@jupyter-widgets/controls",
     "model_module_version": "1.5.0",
     "model_name": "ButtonStyleModel",
     "state": {
      "_model_module": "@jupyter-widgets/controls",
      "_model_module_version": "1.5.0",
      "_model_name": "ButtonStyleModel",
      "_view_count": null,
      "_view_module": "@jupyter-widgets/base",
      "_view_module_version": "1.2.0",
      "_view_name": "StyleView",
      "button_color": null,
      "font_weight": ""
     }
    },
    "539c345a614a4e06a64768eda9a67327": {
     "model_module": "@jupyter-widgets/controls",
     "model_module_version": "1.5.0",
     "model_name": "ButtonStyleModel",
     "state": {
      "_model_module": "@jupyter-widgets/controls",
      "_model_module_version": "1.5.0",
      "_model_name": "ButtonStyleModel",
      "_view_count": null,
      "_view_module": "@jupyter-widgets/base",
      "_view_module_version": "1.2.0",
      "_view_name": "StyleView",
      "button_color": null,
      "font_weight": ""
     }
    },
    "56479f452f7d4c6face7612c9e12b4fe": {
     "model_module": "@jupyter-widgets/output",
     "model_module_version": "1.0.0",
     "model_name": "OutputModel",
     "state": {
      "_dom_classes": [],
      "_model_module": "@jupyter-widgets/output",
      "_model_module_version": "1.0.0",
      "_model_name": "OutputModel",
      "_view_count": null,
      "_view_module": "@jupyter-widgets/output",
      "_view_module_version": "1.0.0",
      "_view_name": "OutputView",
      "layout": "IPY_MODEL_770d549e6cc542888149e90af3eda1ae",
      "msg_id": "",
      "outputs": [
       {
        "data": {
         "text/html": "<style>.output_html .hll { background-color: #ffffcc }\n.output_html  { background: #f8f8f8; }\n.output_html .c { color: #408080; font-style: italic } /* Comment */\n.output_html .err { border: 1px solid #FF0000 } /* Error */\n.output_html .k { color: #008000; font-weight: bold } /* Keyword */\n.output_html .o { color: #666666 } /* Operator */\n.output_html .ch { color: #408080; font-style: italic } /* Comment.Hashbang */\n.output_html .cm { color: #408080; font-style: italic } /* Comment.Multiline */\n.output_html .cp { color: #BC7A00 } /* Comment.Preproc */\n.output_html .cpf { color: #408080; font-style: italic } /* Comment.PreprocFile */\n.output_html .c1 { color: #408080; font-style: italic } /* Comment.Single */\n.output_html .cs { color: #408080; font-style: italic } /* Comment.Special */\n.output_html .gd { color: #A00000 } /* Generic.Deleted */\n.output_html .ge { font-style: italic } /* Generic.Emph */\n.output_html .gr { color: #FF0000 } /* Generic.Error */\n.output_html .gh { color: #000080; font-weight: bold } /* Generic.Heading */\n.output_html .gi { color: #00A000 } /* Generic.Inserted */\n.output_html .go { color: #888888 } /* Generic.Output */\n.output_html .gp { color: #000080; font-weight: bold } /* Generic.Prompt */\n.output_html .gs { font-weight: bold } /* Generic.Strong */\n.output_html .gu { color: #800080; font-weight: bold } /* Generic.Subheading */\n.output_html .gt { color: #0044DD } /* Generic.Traceback */\n.output_html .kc { color: #008000; font-weight: bold } /* Keyword.Constant */\n.output_html .kd { color: #008000; font-weight: bold } /* Keyword.Declaration */\n.output_html .kn { color: #008000; font-weight: bold } /* Keyword.Namespace */\n.output_html .kp { color: #008000 } /* Keyword.Pseudo */\n.output_html .kr { color: #008000; font-weight: bold } /* Keyword.Reserved */\n.output_html .kt { color: #B00040 } /* Keyword.Type */\n.output_html .m { color: #666666 } /* Literal.Number */\n.output_html .s { color: #BA2121 } /* Literal.String */\n.output_html .na { color: #7D9029 } /* Name.Attribute */\n.output_html .nb { color: #008000 } /* Name.Builtin */\n.output_html .nc { color: #0000FF; font-weight: bold } /* Name.Class */\n.output_html .no { color: #880000 } /* Name.Constant */\n.output_html .nd { color: #AA22FF } /* Name.Decorator */\n.output_html .ni { color: #999999; font-weight: bold } /* Name.Entity */\n.output_html .ne { color: #D2413A; font-weight: bold } /* Name.Exception */\n.output_html .nf { color: #0000FF } /* Name.Function */\n.output_html .nl { color: #A0A000 } /* Name.Label */\n.output_html .nn { color: #0000FF; font-weight: bold } /* Name.Namespace */\n.output_html .nt { color: #008000; font-weight: bold } /* Name.Tag */\n.output_html .nv { color: #19177C } /* Name.Variable */\n.output_html .ow { color: #AA22FF; font-weight: bold } /* Operator.Word */\n.output_html .w { color: #bbbbbb } /* Text.Whitespace */\n.output_html .mb { color: #666666 } /* Literal.Number.Bin */\n.output_html .mf { color: #666666 } /* Literal.Number.Float */\n.output_html .mh { color: #666666 } /* Literal.Number.Hex */\n.output_html .mi { color: #666666 } /* Literal.Number.Integer */\n.output_html .mo { color: #666666 } /* Literal.Number.Oct */\n.output_html .sa { color: #BA2121 } /* Literal.String.Affix */\n.output_html .sb { color: #BA2121 } /* Literal.String.Backtick */\n.output_html .sc { color: #BA2121 } /* Literal.String.Char */\n.output_html .dl { color: #BA2121 } /* Literal.String.Delimiter */\n.output_html .sd { color: #BA2121; font-style: italic } /* Literal.String.Doc */\n.output_html .s2 { color: #BA2121 } /* Literal.String.Double */\n.output_html .se { color: #BB6622; font-weight: bold } /* Literal.String.Escape */\n.output_html .sh { color: #BA2121 } /* Literal.String.Heredoc */\n.output_html .si { color: #BB6688; font-weight: bold } /* Literal.String.Interpol */\n.output_html .sx { color: #008000 } /* Literal.String.Other */\n.output_html .sr { color: #BB6688 } /* Literal.String.Regex */\n.output_html .s1 { color: #BA2121 } /* Literal.String.Single */\n.output_html .ss { color: #19177C } /* Literal.String.Symbol */\n.output_html .bp { color: #008000 } /* Name.Builtin.Pseudo */\n.output_html .fm { color: #0000FF } /* Name.Function.Magic */\n.output_html .vc { color: #19177C } /* Name.Variable.Class */\n.output_html .vg { color: #19177C } /* Name.Variable.Global */\n.output_html .vi { color: #19177C } /* Name.Variable.Instance */\n.output_html .vm { color: #19177C } /* Name.Variable.Magic */\n.output_html .il { color: #666666 } /* Literal.Number.Integer.Long */</style><div class=\"highlight\"><pre><span></span><span class=\"n\">X_train</span><span class=\"o\">.</span><span class=\"n\">isnull</span><span class=\"p\">()</span><span class=\"o\">.</span><span class=\"n\">sum</span><span class=\"p\">()</span>\n</pre></div>\n",
         "text/latex": "\\begin{Verbatim}[commandchars=\\\\\\{\\}]\n\\PY{n}{X\\PYZus{}train}\\PY{o}{.}\\PY{n}{isnull}\\PY{p}{(}\\PY{p}{)}\\PY{o}{.}\\PY{n}{sum}\\PY{p}{(}\\PY{p}{)}\n\\end{Verbatim}\n",
         "text/plain": "X_train.isnull().sum()"
        },
        "metadata": {},
        "output_type": "display_data"
       },
       {
        "data": {
         "text/markdown": "None of the columns have a null value so we do not need to deal with them. We could fill the missing values in (e.g. mean, median, zero, ...) or drop their rows (or columns).\n",
         "text/plain": "<IPython.core.display.Markdown object>"
        },
        "metadata": {},
        "output_type": "display_data"
       }
      ]
     }
    },
    "5b432f9844464cf492905be3e8b7a6ae": {
     "model_module": "@jupyter-widgets/controls",
     "model_module_version": "1.5.0",
     "model_name": "ButtonStyleModel",
     "state": {
      "_model_module": "@jupyter-widgets/controls",
      "_model_module_version": "1.5.0",
      "_model_name": "ButtonStyleModel",
      "_view_count": null,
      "_view_module": "@jupyter-widgets/base",
      "_view_module_version": "1.2.0",
      "_view_name": "StyleView",
      "button_color": null,
      "font_weight": ""
     }
    },
    "5b46ea159f0f48dcb9ca223021d326b3": {
     "model_module": "@jupyter-widgets/controls",
     "model_module_version": "1.5.0",
     "model_name": "ButtonModel",
     "state": {
      "_dom_classes": [],
      "_model_module": "@jupyter-widgets/controls",
      "_model_module_version": "1.5.0",
      "_model_name": "ButtonModel",
      "_view_count": null,
      "_view_module": "@jupyter-widgets/controls",
      "_view_module_version": "1.5.0",
      "_view_name": "ButtonView",
      "button_style": "",
      "description": "Hide solution",
      "disabled": false,
      "icon": "",
      "layout": "IPY_MODEL_a8326913be5746b698a5e868b0c71ba0",
      "style": "IPY_MODEL_3f5d6001dcea47f4afd512bdce2616d6",
      "tooltip": ""
     }
    },
    "5db6c4af2141440384d20053e4bc2e70": {
     "model_module": "@jupyter-widgets/base",
     "model_module_version": "1.2.0",
     "model_name": "LayoutModel",
     "state": {
      "_model_module": "@jupyter-widgets/base",
      "_model_module_version": "1.2.0",
      "_model_name": "LayoutModel",
      "_view_count": null,
      "_view_module": "@jupyter-widgets/base",
      "_view_module_version": "1.2.0",
      "_view_name": "LayoutView",
      "align_content": null,
      "align_items": null,
      "align_self": null,
      "border": "1px solid green",
      "bottom": null,
      "display": null,
      "flex": null,
      "flex_flow": null,
      "grid_area": null,
      "grid_auto_columns": null,
      "grid_auto_flow": null,
      "grid_auto_rows": null,
      "grid_column": null,
      "grid_gap": null,
      "grid_row": null,
      "grid_template_areas": null,
      "grid_template_columns": null,
      "grid_template_rows": null,
      "height": null,
      "justify_content": null,
      "justify_items": null,
      "left": null,
      "margin": null,
      "max_height": null,
      "max_width": null,
      "min_height": null,
      "min_width": null,
      "object_fit": null,
      "object_position": null,
      "order": null,
      "overflow": null,
      "overflow_x": null,
      "overflow_y": null,
      "padding": null,
      "right": null,
      "top": null,
      "visibility": null,
      "width": null
     }
    },
    "5ecf1e0bcd6045879abd2bfbc3fbdf8d": {
     "model_module": "@jupyter-widgets/base",
     "model_module_version": "1.2.0",
     "model_name": "LayoutModel",
     "state": {
      "_model_module": "@jupyter-widgets/base",
      "_model_module_version": "1.2.0",
      "_model_name": "LayoutModel",
      "_view_count": null,
      "_view_module": "@jupyter-widgets/base",
      "_view_module_version": "1.2.0",
      "_view_name": "LayoutView",
      "align_content": null,
      "align_items": null,
      "align_self": null,
      "border": "1px solid green",
      "bottom": null,
      "display": null,
      "flex": null,
      "flex_flow": null,
      "grid_area": null,
      "grid_auto_columns": null,
      "grid_auto_flow": null,
      "grid_auto_rows": null,
      "grid_column": null,
      "grid_gap": null,
      "grid_row": null,
      "grid_template_areas": null,
      "grid_template_columns": null,
      "grid_template_rows": null,
      "height": null,
      "justify_content": null,
      "justify_items": null,
      "left": null,
      "margin": null,
      "max_height": null,
      "max_width": null,
      "min_height": null,
      "min_width": null,
      "object_fit": null,
      "object_position": null,
      "order": null,
      "overflow": null,
      "overflow_x": null,
      "overflow_y": null,
      "padding": null,
      "right": null,
      "top": null,
      "visibility": null,
      "width": null
     }
    },
    "600e139bef2744f0963eb927a60923e1": {
     "model_module": "@jupyter-widgets/controls",
     "model_module_version": "1.5.0",
     "model_name": "ButtonStyleModel",
     "state": {
      "_model_module": "@jupyter-widgets/controls",
      "_model_module_version": "1.5.0",
      "_model_name": "ButtonStyleModel",
      "_view_count": null,
      "_view_module": "@jupyter-widgets/base",
      "_view_module_version": "1.2.0",
      "_view_name": "StyleView",
      "button_color": null,
      "font_weight": ""
     }
    },
    "6014f9ac718c4226af1b0d19678f5eb0": {
     "model_module": "@jupyter-widgets/base",
     "model_module_version": "1.2.0",
     "model_name": "LayoutModel",
     "state": {
      "_model_module": "@jupyter-widgets/base",
      "_model_module_version": "1.2.0",
      "_model_name": "LayoutModel",
      "_view_count": null,
      "_view_module": "@jupyter-widgets/base",
      "_view_module_version": "1.2.0",
      "_view_name": "LayoutView",
      "align_content": null,
      "align_items": null,
      "align_self": null,
      "border": null,
      "bottom": null,
      "display": null,
      "flex": null,
      "flex_flow": null,
      "grid_area": null,
      "grid_auto_columns": null,
      "grid_auto_flow": null,
      "grid_auto_rows": null,
      "grid_column": null,
      "grid_gap": null,
      "grid_row": null,
      "grid_template_areas": null,
      "grid_template_columns": null,
      "grid_template_rows": null,
      "height": null,
      "justify_content": null,
      "justify_items": null,
      "left": null,
      "margin": null,
      "max_height": null,
      "max_width": null,
      "min_height": null,
      "min_width": null,
      "object_fit": null,
      "object_position": null,
      "order": null,
      "overflow": null,
      "overflow_x": null,
      "overflow_y": null,
      "padding": null,
      "right": null,
      "top": null,
      "visibility": null,
      "width": null
     }
    },
    "6194277c00c3475aafc65c679380edf1": {
     "model_module": "@jupyter-widgets/base",
     "model_module_version": "1.2.0",
     "model_name": "LayoutModel",
     "state": {
      "_model_module": "@jupyter-widgets/base",
      "_model_module_version": "1.2.0",
      "_model_name": "LayoutModel",
      "_view_count": null,
      "_view_module": "@jupyter-widgets/base",
      "_view_module_version": "1.2.0",
      "_view_name": "LayoutView",
      "align_content": null,
      "align_items": null,
      "align_self": null,
      "border": null,
      "bottom": null,
      "display": null,
      "flex": null,
      "flex_flow": null,
      "grid_area": null,
      "grid_auto_columns": null,
      "grid_auto_flow": null,
      "grid_auto_rows": null,
      "grid_column": null,
      "grid_gap": null,
      "grid_row": null,
      "grid_template_areas": null,
      "grid_template_columns": null,
      "grid_template_rows": null,
      "height": null,
      "justify_content": null,
      "justify_items": null,
      "left": null,
      "margin": null,
      "max_height": null,
      "max_width": null,
      "min_height": null,
      "min_width": null,
      "object_fit": null,
      "object_position": null,
      "order": null,
      "overflow": null,
      "overflow_x": null,
      "overflow_y": null,
      "padding": null,
      "right": null,
      "top": null,
      "visibility": null,
      "width": null
     }
    },
    "64bf9c83fafd43f78ead0dcc2b6dc117": {
     "model_module": "@jupyter-widgets/controls",
     "model_module_version": "1.5.0",
     "model_name": "ButtonModel",
     "state": {
      "_dom_classes": [],
      "_model_module": "@jupyter-widgets/controls",
      "_model_module_version": "1.5.0",
      "_model_name": "ButtonModel",
      "_view_count": null,
      "_view_module": "@jupyter-widgets/controls",
      "_view_module_version": "1.5.0",
      "_view_name": "ButtonView",
      "button_style": "",
      "description": "Hide solution",
      "disabled": false,
      "icon": "",
      "layout": "IPY_MODEL_8600f40a5c614e5aa63e874ddb32553f",
      "style": "IPY_MODEL_0b4b84a2d3c9414f8370cd25cba1db37",
      "tooltip": ""
     }
    },
    "65bfbdecd976483399965019172f6c17": {
     "model_module": "@jupyter-widgets/output",
     "model_module_version": "1.0.0",
     "model_name": "OutputModel",
     "state": {
      "_dom_classes": [],
      "_model_module": "@jupyter-widgets/output",
      "_model_module_version": "1.0.0",
      "_model_name": "OutputModel",
      "_view_count": null,
      "_view_module": "@jupyter-widgets/output",
      "_view_module_version": "1.0.0",
      "_view_name": "OutputView",
      "layout": "IPY_MODEL_82c92d0b536043118398da42fb1a356e",
      "msg_id": "",
      "outputs": [
       {
        "data": {
         "text/html": "<style>.output_html .hll { background-color: #ffffcc }\n.output_html  { background: #f8f8f8; }\n.output_html .c { color: #408080; font-style: italic } /* Comment */\n.output_html .err { border: 1px solid #FF0000 } /* Error */\n.output_html .k { color: #008000; font-weight: bold } /* Keyword */\n.output_html .o { color: #666666 } /* Operator */\n.output_html .ch { color: #408080; font-style: italic } /* Comment.Hashbang */\n.output_html .cm { color: #408080; font-style: italic } /* Comment.Multiline */\n.output_html .cp { color: #BC7A00 } /* Comment.Preproc */\n.output_html .cpf { color: #408080; font-style: italic } /* Comment.PreprocFile */\n.output_html .c1 { color: #408080; font-style: italic } /* Comment.Single */\n.output_html .cs { color: #408080; font-style: italic } /* Comment.Special */\n.output_html .gd { color: #A00000 } /* Generic.Deleted */\n.output_html .ge { font-style: italic } /* Generic.Emph */\n.output_html .gr { color: #FF0000 } /* Generic.Error */\n.output_html .gh { color: #000080; font-weight: bold } /* Generic.Heading */\n.output_html .gi { color: #00A000 } /* Generic.Inserted */\n.output_html .go { color: #888888 } /* Generic.Output */\n.output_html .gp { color: #000080; font-weight: bold } /* Generic.Prompt */\n.output_html .gs { font-weight: bold } /* Generic.Strong */\n.output_html .gu { color: #800080; font-weight: bold } /* Generic.Subheading */\n.output_html .gt { color: #0044DD } /* Generic.Traceback */\n.output_html .kc { color: #008000; font-weight: bold } /* Keyword.Constant */\n.output_html .kd { color: #008000; font-weight: bold } /* Keyword.Declaration */\n.output_html .kn { color: #008000; font-weight: bold } /* Keyword.Namespace */\n.output_html .kp { color: #008000 } /* Keyword.Pseudo */\n.output_html .kr { color: #008000; font-weight: bold } /* Keyword.Reserved */\n.output_html .kt { color: #B00040 } /* Keyword.Type */\n.output_html .m { color: #666666 } /* Literal.Number */\n.output_html .s { color: #BA2121 } /* Literal.String */\n.output_html .na { color: #7D9029 } /* Name.Attribute */\n.output_html .nb { color: #008000 } /* Name.Builtin */\n.output_html .nc { color: #0000FF; font-weight: bold } /* Name.Class */\n.output_html .no { color: #880000 } /* Name.Constant */\n.output_html .nd { color: #AA22FF } /* Name.Decorator */\n.output_html .ni { color: #999999; font-weight: bold } /* Name.Entity */\n.output_html .ne { color: #D2413A; font-weight: bold } /* Name.Exception */\n.output_html .nf { color: #0000FF } /* Name.Function */\n.output_html .nl { color: #A0A000 } /* Name.Label */\n.output_html .nn { color: #0000FF; font-weight: bold } /* Name.Namespace */\n.output_html .nt { color: #008000; font-weight: bold } /* Name.Tag */\n.output_html .nv { color: #19177C } /* Name.Variable */\n.output_html .ow { color: #AA22FF; font-weight: bold } /* Operator.Word */\n.output_html .w { color: #bbbbbb } /* Text.Whitespace */\n.output_html .mb { color: #666666 } /* Literal.Number.Bin */\n.output_html .mf { color: #666666 } /* Literal.Number.Float */\n.output_html .mh { color: #666666 } /* Literal.Number.Hex */\n.output_html .mi { color: #666666 } /* Literal.Number.Integer */\n.output_html .mo { color: #666666 } /* Literal.Number.Oct */\n.output_html .sa { color: #BA2121 } /* Literal.String.Affix */\n.output_html .sb { color: #BA2121 } /* Literal.String.Backtick */\n.output_html .sc { color: #BA2121 } /* Literal.String.Char */\n.output_html .dl { color: #BA2121 } /* Literal.String.Delimiter */\n.output_html .sd { color: #BA2121; font-style: italic } /* Literal.String.Doc */\n.output_html .s2 { color: #BA2121 } /* Literal.String.Double */\n.output_html .se { color: #BB6622; font-weight: bold } /* Literal.String.Escape */\n.output_html .sh { color: #BA2121 } /* Literal.String.Heredoc */\n.output_html .si { color: #BB6688; font-weight: bold } /* Literal.String.Interpol */\n.output_html .sx { color: #008000 } /* Literal.String.Other */\n.output_html .sr { color: #BB6688 } /* Literal.String.Regex */\n.output_html .s1 { color: #BA2121 } /* Literal.String.Single */\n.output_html .ss { color: #19177C } /* Literal.String.Symbol */\n.output_html .bp { color: #008000 } /* Name.Builtin.Pseudo */\n.output_html .fm { color: #0000FF } /* Name.Function.Magic */\n.output_html .vc { color: #19177C } /* Name.Variable.Class */\n.output_html .vg { color: #19177C } /* Name.Variable.Global */\n.output_html .vi { color: #19177C } /* Name.Variable.Instance */\n.output_html .vm { color: #19177C } /* Name.Variable.Magic */\n.output_html .il { color: #666666 } /* Literal.Number.Integer.Long */</style><div class=\"highlight\"><pre><span></span><span class=\"nb\">print</span><span class=\"p\">(</span><span class=\"s2\">&quot;There are </span><span class=\"si\">{}</span><span class=\"s2\"> duplicated observations&quot;</span><span class=\"o\">.</span><span class=\"n\">format</span><span class=\"p\">(</span><span class=\"n\">X_train</span><span class=\"o\">.</span><span class=\"n\">duplicated</span><span class=\"p\">()</span><span class=\"o\">.</span><span class=\"n\">sum</span><span class=\"p\">()))</span>\n</pre></div>\n",
         "text/latex": "\\begin{Verbatim}[commandchars=\\\\\\{\\}]\n\\PY{n+nb}{print}\\PY{p}{(}\\PY{l+s+s2}{\\PYZdq{}}\\PY{l+s+s2}{There are }\\PY{l+s+si}{\\PYZob{}\\PYZcb{}}\\PY{l+s+s2}{ duplicated observations}\\PY{l+s+s2}{\\PYZdq{}}\\PY{o}{.}\\PY{n}{format}\\PY{p}{(}\\PY{n}{X\\PYZus{}train}\\PY{o}{.}\\PY{n}{duplicated}\\PY{p}{(}\\PY{p}{)}\\PY{o}{.}\\PY{n}{sum}\\PY{p}{(}\\PY{p}{)}\\PY{p}{)}\\PY{p}{)}\n\\end{Verbatim}\n",
         "text/plain": "print(\"There are {} duplicated observations\".format(X_train.duplicated().sum()))"
        },
        "metadata": {},
        "output_type": "display_data"
       }
      ]
     }
    },
    "65e61654515c45bd9e75e943ae7d72b7": {
     "model_module": "@jupyter-widgets/controls",
     "model_module_version": "1.5.0",
     "model_name": "ButtonStyleModel",
     "state": {
      "_model_module": "@jupyter-widgets/controls",
      "_model_module_version": "1.5.0",
      "_model_name": "ButtonStyleModel",
      "_view_count": null,
      "_view_module": "@jupyter-widgets/base",
      "_view_module_version": "1.2.0",
      "_view_name": "StyleView",
      "button_color": null,
      "font_weight": ""
     }
    },
    "66a2a930a5ad494f8d467f88abf68a82": {
     "model_module": "@jupyter-widgets/output",
     "model_module_version": "1.0.0",
     "model_name": "OutputModel",
     "state": {
      "_dom_classes": [],
      "_model_module": "@jupyter-widgets/output",
      "_model_module_version": "1.0.0",
      "_model_name": "OutputModel",
      "_view_count": null,
      "_view_module": "@jupyter-widgets/output",
      "_view_module_version": "1.0.0",
      "_view_name": "OutputView",
      "layout": "IPY_MODEL_890838634e614380b006ef9fcb6e5d04",
      "msg_id": "",
      "outputs": [
       {
        "data": {
         "text/markdown": "Adding the polynomial features in improves model performance slightly on the training set but reduces performance on the validation set - it may be that the model is slightly \"overfitting\" to the data. The Decision Tree Regressor has the largest gap in performance between the training and validation data. Indeed it has perfect performance on the training set and bad performance on the validation set (in later weeks we'll be able to examine why this might be).\n",
         "text/plain": "<IPython.core.display.Markdown object>"
        },
        "metadata": {},
        "output_type": "display_data"
       }
      ]
     }
    },
    "6cf416d024bd4421b30319175e9bc126": {
     "model_module": "@jupyter-widgets/output",
     "model_module_version": "1.0.0",
     "model_name": "OutputModel",
     "state": {
      "_dom_classes": [],
      "_model_module": "@jupyter-widgets/output",
      "_model_module_version": "1.0.0",
      "_model_name": "OutputModel",
      "_view_count": null,
      "_view_module": "@jupyter-widgets/output",
      "_view_module_version": "1.0.0",
      "_view_name": "OutputView",
      "layout": "IPY_MODEL_5db6c4af2141440384d20053e4bc2e70",
      "msg_id": "",
      "outputs": [
       {
        "data": {
         "text/html": "<style>.output_html .hll { background-color: #ffffcc }\n.output_html  { background: #f8f8f8; }\n.output_html .c { color: #408080; font-style: italic } /* Comment */\n.output_html .err { border: 1px solid #FF0000 } /* Error */\n.output_html .k { color: #008000; font-weight: bold } /* Keyword */\n.output_html .o { color: #666666 } /* Operator */\n.output_html .ch { color: #408080; font-style: italic } /* Comment.Hashbang */\n.output_html .cm { color: #408080; font-style: italic } /* Comment.Multiline */\n.output_html .cp { color: #BC7A00 } /* Comment.Preproc */\n.output_html .cpf { color: #408080; font-style: italic } /* Comment.PreprocFile */\n.output_html .c1 { color: #408080; font-style: italic } /* Comment.Single */\n.output_html .cs { color: #408080; font-style: italic } /* Comment.Special */\n.output_html .gd { color: #A00000 } /* Generic.Deleted */\n.output_html .ge { font-style: italic } /* Generic.Emph */\n.output_html .gr { color: #FF0000 } /* Generic.Error */\n.output_html .gh { color: #000080; font-weight: bold } /* Generic.Heading */\n.output_html .gi { color: #00A000 } /* Generic.Inserted */\n.output_html .go { color: #888888 } /* Generic.Output */\n.output_html .gp { color: #000080; font-weight: bold } /* Generic.Prompt */\n.output_html .gs { font-weight: bold } /* Generic.Strong */\n.output_html .gu { color: #800080; font-weight: bold } /* Generic.Subheading */\n.output_html .gt { color: #0044DD } /* Generic.Traceback */\n.output_html .kc { color: #008000; font-weight: bold } /* Keyword.Constant */\n.output_html .kd { color: #008000; font-weight: bold } /* Keyword.Declaration */\n.output_html .kn { color: #008000; font-weight: bold } /* Keyword.Namespace */\n.output_html .kp { color: #008000 } /* Keyword.Pseudo */\n.output_html .kr { color: #008000; font-weight: bold } /* Keyword.Reserved */\n.output_html .kt { color: #B00040 } /* Keyword.Type */\n.output_html .m { color: #666666 } /* Literal.Number */\n.output_html .s { color: #BA2121 } /* Literal.String */\n.output_html .na { color: #7D9029 } /* Name.Attribute */\n.output_html .nb { color: #008000 } /* Name.Builtin */\n.output_html .nc { color: #0000FF; font-weight: bold } /* Name.Class */\n.output_html .no { color: #880000 } /* Name.Constant */\n.output_html .nd { color: #AA22FF } /* Name.Decorator */\n.output_html .ni { color: #999999; font-weight: bold } /* Name.Entity */\n.output_html .ne { color: #D2413A; font-weight: bold } /* Name.Exception */\n.output_html .nf { color: #0000FF } /* Name.Function */\n.output_html .nl { color: #A0A000 } /* Name.Label */\n.output_html .nn { color: #0000FF; font-weight: bold } /* Name.Namespace */\n.output_html .nt { color: #008000; font-weight: bold } /* Name.Tag */\n.output_html .nv { color: #19177C } /* Name.Variable */\n.output_html .ow { color: #AA22FF; font-weight: bold } /* Operator.Word */\n.output_html .w { color: #bbbbbb } /* Text.Whitespace */\n.output_html .mb { color: #666666 } /* Literal.Number.Bin */\n.output_html .mf { color: #666666 } /* Literal.Number.Float */\n.output_html .mh { color: #666666 } /* Literal.Number.Hex */\n.output_html .mi { color: #666666 } /* Literal.Number.Integer */\n.output_html .mo { color: #666666 } /* Literal.Number.Oct */\n.output_html .sa { color: #BA2121 } /* Literal.String.Affix */\n.output_html .sb { color: #BA2121 } /* Literal.String.Backtick */\n.output_html .sc { color: #BA2121 } /* Literal.String.Char */\n.output_html .dl { color: #BA2121 } /* Literal.String.Delimiter */\n.output_html .sd { color: #BA2121; font-style: italic } /* Literal.String.Doc */\n.output_html .s2 { color: #BA2121 } /* Literal.String.Double */\n.output_html .se { color: #BB6622; font-weight: bold } /* Literal.String.Escape */\n.output_html .sh { color: #BA2121 } /* Literal.String.Heredoc */\n.output_html .si { color: #BB6688; font-weight: bold } /* Literal.String.Interpol */\n.output_html .sx { color: #008000 } /* Literal.String.Other */\n.output_html .sr { color: #BB6688 } /* Literal.String.Regex */\n.output_html .s1 { color: #BA2121 } /* Literal.String.Single */\n.output_html .ss { color: #19177C } /* Literal.String.Symbol */\n.output_html .bp { color: #008000 } /* Name.Builtin.Pseudo */\n.output_html .fm { color: #0000FF } /* Name.Function.Magic */\n.output_html .vc { color: #19177C } /* Name.Variable.Class */\n.output_html .vg { color: #19177C } /* Name.Variable.Global */\n.output_html .vi { color: #19177C } /* Name.Variable.Instance */\n.output_html .vm { color: #19177C } /* Name.Variable.Magic */\n.output_html .il { color: #666666 } /* Literal.Number.Integer.Long */</style><div class=\"highlight\"><pre><span></span><span class=\"k\">def</span> <span class=\"nf\">drop_duplicated</span><span class=\"p\">(</span><span class=\"n\">X</span><span class=\"p\">,</span><span class=\"n\">y</span><span class=\"p\">):</span>\n    <span class=\"n\">df</span> <span class=\"o\">=</span> <span class=\"n\">pd</span><span class=\"o\">.</span><span class=\"n\">concat</span><span class=\"p\">([</span><span class=\"n\">X</span><span class=\"p\">,</span><span class=\"n\">y</span><span class=\"p\">],</span> <span class=\"n\">axis</span><span class=\"o\">=</span><span class=\"mi\">1</span><span class=\"p\">)</span>\n    <span class=\"n\">df</span> <span class=\"o\">=</span> <span class=\"n\">df</span><span class=\"o\">.</span><span class=\"n\">drop_duplicates</span><span class=\"p\">()</span>\n    <span class=\"k\">return</span> <span class=\"n\">df</span><span class=\"o\">.</span><span class=\"n\">iloc</span><span class=\"p\">[:,:</span><span class=\"o\">-</span><span class=\"mi\">1</span><span class=\"p\">],</span> <span class=\"n\">df</span><span class=\"o\">.</span><span class=\"n\">iloc</span><span class=\"p\">[:,</span><span class=\"o\">-</span><span class=\"mi\">1</span><span class=\"p\">]</span>\n\n<span class=\"n\">X_train_</span><span class=\"p\">,</span> <span class=\"n\">y_train_</span> <span class=\"o\">=</span> <span class=\"n\">drop_duplicated</span><span class=\"p\">(</span><span class=\"n\">X_train</span><span class=\"p\">,</span> <span class=\"n\">y_train</span><span class=\"p\">)</span>\n\n<span class=\"nb\">print</span><span class=\"p\">(</span><span class=\"n\">X_train</span><span class=\"o\">.</span><span class=\"n\">shape</span><span class=\"p\">)</span>\n<span class=\"nb\">print</span><span class=\"p\">(</span><span class=\"n\">y_train</span><span class=\"o\">.</span><span class=\"n\">shape</span><span class=\"p\">)</span>\n<span class=\"nb\">print</span><span class=\"p\">(</span><span class=\"n\">X_train_</span><span class=\"o\">.</span><span class=\"n\">shape</span><span class=\"p\">)</span>\n<span class=\"nb\">print</span><span class=\"p\">(</span><span class=\"n\">y_train_</span><span class=\"o\">.</span><span class=\"n\">shape</span><span class=\"p\">)</span>\n</pre></div>\n",
         "text/latex": "\\begin{Verbatim}[commandchars=\\\\\\{\\}]\n\\PY{k}{def} \\PY{n+nf}{drop\\PYZus{}duplicated}\\PY{p}{(}\\PY{n}{X}\\PY{p}{,}\\PY{n}{y}\\PY{p}{)}\\PY{p}{:}\n    \\PY{n}{df} \\PY{o}{=} \\PY{n}{pd}\\PY{o}{.}\\PY{n}{concat}\\PY{p}{(}\\PY{p}{[}\\PY{n}{X}\\PY{p}{,}\\PY{n}{y}\\PY{p}{]}\\PY{p}{,} \\PY{n}{axis}\\PY{o}{=}\\PY{l+m+mi}{1}\\PY{p}{)}\n    \\PY{n}{df} \\PY{o}{=} \\PY{n}{df}\\PY{o}{.}\\PY{n}{drop\\PYZus{}duplicates}\\PY{p}{(}\\PY{p}{)}\n    \\PY{k}{return} \\PY{n}{df}\\PY{o}{.}\\PY{n}{iloc}\\PY{p}{[}\\PY{p}{:}\\PY{p}{,}\\PY{p}{:}\\PY{o}{\\PYZhy{}}\\PY{l+m+mi}{1}\\PY{p}{]}\\PY{p}{,} \\PY{n}{df}\\PY{o}{.}\\PY{n}{iloc}\\PY{p}{[}\\PY{p}{:}\\PY{p}{,}\\PY{o}{\\PYZhy{}}\\PY{l+m+mi}{1}\\PY{p}{]}\n\n\\PY{n}{X\\PYZus{}train\\PYZus{}}\\PY{p}{,} \\PY{n}{y\\PYZus{}train\\PYZus{}} \\PY{o}{=} \\PY{n}{drop\\PYZus{}duplicated}\\PY{p}{(}\\PY{n}{X\\PYZus{}train}\\PY{p}{,} \\PY{n}{y\\PYZus{}train}\\PY{p}{)}\n\n\\PY{n+nb}{print}\\PY{p}{(}\\PY{n}{X\\PYZus{}train}\\PY{o}{.}\\PY{n}{shape}\\PY{p}{)}\n\\PY{n+nb}{print}\\PY{p}{(}\\PY{n}{y\\PYZus{}train}\\PY{o}{.}\\PY{n}{shape}\\PY{p}{)}\n\\PY{n+nb}{print}\\PY{p}{(}\\PY{n}{X\\PYZus{}train\\PYZus{}}\\PY{o}{.}\\PY{n}{shape}\\PY{p}{)}\n\\PY{n+nb}{print}\\PY{p}{(}\\PY{n}{y\\PYZus{}train\\PYZus{}}\\PY{o}{.}\\PY{n}{shape}\\PY{p}{)}\n\\end{Verbatim}\n",
         "text/plain": "def drop_duplicated(X,y):\n    df = pd.concat([X,y], axis=1)\n    df = df.drop_duplicates()\n    return df.iloc[:,:-1], df.iloc[:,-1]\n\nX_train_, y_train_ = drop_duplicated(X_train, y_train)\n\nprint(X_train.shape)\nprint(y_train.shape)\nprint(X_train_.shape)\nprint(y_train_.shape)"
        },
        "metadata": {},
        "output_type": "display_data"
       }
      ]
     }
    },
    "6e593ab516724138b2f9044e909030f6": {
     "model_module": "@jupyter-widgets/base",
     "model_module_version": "1.2.0",
     "model_name": "LayoutModel",
     "state": {
      "_model_module": "@jupyter-widgets/base",
      "_model_module_version": "1.2.0",
      "_model_name": "LayoutModel",
      "_view_count": null,
      "_view_module": "@jupyter-widgets/base",
      "_view_module_version": "1.2.0",
      "_view_name": "LayoutView",
      "align_content": null,
      "align_items": null,
      "align_self": null,
      "border": "1px solid green",
      "bottom": null,
      "display": null,
      "flex": null,
      "flex_flow": null,
      "grid_area": null,
      "grid_auto_columns": null,
      "grid_auto_flow": null,
      "grid_auto_rows": null,
      "grid_column": null,
      "grid_gap": null,
      "grid_row": null,
      "grid_template_areas": null,
      "grid_template_columns": null,
      "grid_template_rows": null,
      "height": null,
      "justify_content": null,
      "justify_items": null,
      "left": null,
      "margin": null,
      "max_height": null,
      "max_width": null,
      "min_height": null,
      "min_width": null,
      "object_fit": null,
      "object_position": null,
      "order": null,
      "overflow": null,
      "overflow_x": null,
      "overflow_y": null,
      "padding": null,
      "right": null,
      "top": null,
      "visibility": null,
      "width": null
     }
    },
    "700fddb784d640379379b17e89be9ccf": {
     "model_module": "@jupyter-widgets/output",
     "model_module_version": "1.0.0",
     "model_name": "OutputModel",
     "state": {
      "_dom_classes": [],
      "_model_module": "@jupyter-widgets/output",
      "_model_module_version": "1.0.0",
      "_model_name": "OutputModel",
      "_view_count": null,
      "_view_module": "@jupyter-widgets/output",
      "_view_module_version": "1.0.0",
      "_view_name": "OutputView",
      "layout": "IPY_MODEL_038a6365db0b4b4c8f2cb392d9a49842",
      "msg_id": "",
      "outputs": [
       {
        "data": {
         "text/html": "<style>.output_html .hll { background-color: #ffffcc }\n.output_html  { background: #f8f8f8; }\n.output_html .c { color: #408080; font-style: italic } /* Comment */\n.output_html .err { border: 1px solid #FF0000 } /* Error */\n.output_html .k { color: #008000; font-weight: bold } /* Keyword */\n.output_html .o { color: #666666 } /* Operator */\n.output_html .ch { color: #408080; font-style: italic } /* Comment.Hashbang */\n.output_html .cm { color: #408080; font-style: italic } /* Comment.Multiline */\n.output_html .cp { color: #BC7A00 } /* Comment.Preproc */\n.output_html .cpf { color: #408080; font-style: italic } /* Comment.PreprocFile */\n.output_html .c1 { color: #408080; font-style: italic } /* Comment.Single */\n.output_html .cs { color: #408080; font-style: italic } /* Comment.Special */\n.output_html .gd { color: #A00000 } /* Generic.Deleted */\n.output_html .ge { font-style: italic } /* Generic.Emph */\n.output_html .gr { color: #FF0000 } /* Generic.Error */\n.output_html .gh { color: #000080; font-weight: bold } /* Generic.Heading */\n.output_html .gi { color: #00A000 } /* Generic.Inserted */\n.output_html .go { color: #888888 } /* Generic.Output */\n.output_html .gp { color: #000080; font-weight: bold } /* Generic.Prompt */\n.output_html .gs { font-weight: bold } /* Generic.Strong */\n.output_html .gu { color: #800080; font-weight: bold } /* Generic.Subheading */\n.output_html .gt { color: #0044DD } /* Generic.Traceback */\n.output_html .kc { color: #008000; font-weight: bold } /* Keyword.Constant */\n.output_html .kd { color: #008000; font-weight: bold } /* Keyword.Declaration */\n.output_html .kn { color: #008000; font-weight: bold } /* Keyword.Namespace */\n.output_html .kp { color: #008000 } /* Keyword.Pseudo */\n.output_html .kr { color: #008000; font-weight: bold } /* Keyword.Reserved */\n.output_html .kt { color: #B00040 } /* Keyword.Type */\n.output_html .m { color: #666666 } /* Literal.Number */\n.output_html .s { color: #BA2121 } /* Literal.String */\n.output_html .na { color: #7D9029 } /* Name.Attribute */\n.output_html .nb { color: #008000 } /* Name.Builtin */\n.output_html .nc { color: #0000FF; font-weight: bold } /* Name.Class */\n.output_html .no { color: #880000 } /* Name.Constant */\n.output_html .nd { color: #AA22FF } /* Name.Decorator */\n.output_html .ni { color: #999999; font-weight: bold } /* Name.Entity */\n.output_html .ne { color: #D2413A; font-weight: bold } /* Name.Exception */\n.output_html .nf { color: #0000FF } /* Name.Function */\n.output_html .nl { color: #A0A000 } /* Name.Label */\n.output_html .nn { color: #0000FF; font-weight: bold } /* Name.Namespace */\n.output_html .nt { color: #008000; font-weight: bold } /* Name.Tag */\n.output_html .nv { color: #19177C } /* Name.Variable */\n.output_html .ow { color: #AA22FF; font-weight: bold } /* Operator.Word */\n.output_html .w { color: #bbbbbb } /* Text.Whitespace */\n.output_html .mb { color: #666666 } /* Literal.Number.Bin */\n.output_html .mf { color: #666666 } /* Literal.Number.Float */\n.output_html .mh { color: #666666 } /* Literal.Number.Hex */\n.output_html .mi { color: #666666 } /* Literal.Number.Integer */\n.output_html .mo { color: #666666 } /* Literal.Number.Oct */\n.output_html .sa { color: #BA2121 } /* Literal.String.Affix */\n.output_html .sb { color: #BA2121 } /* Literal.String.Backtick */\n.output_html .sc { color: #BA2121 } /* Literal.String.Char */\n.output_html .dl { color: #BA2121 } /* Literal.String.Delimiter */\n.output_html .sd { color: #BA2121; font-style: italic } /* Literal.String.Doc */\n.output_html .s2 { color: #BA2121 } /* Literal.String.Double */\n.output_html .se { color: #BB6622; font-weight: bold } /* Literal.String.Escape */\n.output_html .sh { color: #BA2121 } /* Literal.String.Heredoc */\n.output_html .si { color: #BB6688; font-weight: bold } /* Literal.String.Interpol */\n.output_html .sx { color: #008000 } /* Literal.String.Other */\n.output_html .sr { color: #BB6688 } /* Literal.String.Regex */\n.output_html .s1 { color: #BA2121 } /* Literal.String.Single */\n.output_html .ss { color: #19177C } /* Literal.String.Symbol */\n.output_html .bp { color: #008000 } /* Name.Builtin.Pseudo */\n.output_html .fm { color: #0000FF } /* Name.Function.Magic */\n.output_html .vc { color: #19177C } /* Name.Variable.Class */\n.output_html .vg { color: #19177C } /* Name.Variable.Global */\n.output_html .vi { color: #19177C } /* Name.Variable.Instance */\n.output_html .vm { color: #19177C } /* Name.Variable.Magic */\n.output_html .il { color: #666666 } /* Literal.Number.Integer.Long */</style><div class=\"highlight\"><pre><span></span><span class=\"kn\">from</span> <span class=\"nn\">sklearn.tree</span> <span class=\"kn\">import</span> <span class=\"n\">DecisionTreeRegressor</span>\n\n<span class=\"n\">reg</span> <span class=\"o\">=</span> <span class=\"n\">DecisionTreeRegressor</span><span class=\"p\">(</span><span class=\"n\">random_state</span><span class=\"o\">=</span><span class=\"mi\">42</span><span class=\"p\">)</span>\n\n<span class=\"n\">reg_tree_pipe</span> <span class=\"o\">=</span> <span class=\"n\">Pipeline</span><span class=\"p\">([</span>\n    <span class=\"p\">(</span><span class=\"s2\">&quot;drop_duplicated&quot;</span><span class=\"p\">,</span> <span class=\"n\">DD</span><span class=\"p\">),</span>\n    <span class=\"p\">(</span><span class=\"s2\">&quot;make_dataframe&quot;</span><span class=\"p\">,</span> <span class=\"n\">DT</span><span class=\"p\">),</span>\n    <span class=\"p\">(</span><span class=\"s2\">&quot;feature_selection&quot;</span><span class=\"p\">,</span> <span class=\"n\">fs</span><span class=\"p\">),</span>\n    <span class=\"p\">(</span><span class=\"s2\">&quot;transformer&quot;</span><span class=\"p\">,</span> <span class=\"n\">lt</span><span class=\"p\">),</span>\n    <span class=\"p\">(</span><span class=\"s2\">&quot;scaler&quot;</span><span class=\"p\">,</span> <span class=\"n\">scaler</span><span class=\"p\">),</span>\n    <span class=\"p\">(</span><span class=\"s2\">&quot;model&quot;</span><span class=\"p\">,</span> <span class=\"n\">reg</span><span class=\"p\">)</span>\n<span class=\"p\">])</span>\n\n<span class=\"n\">reg_tree_pipe</span><span class=\"o\">.</span><span class=\"n\">fit</span><span class=\"p\">(</span><span class=\"n\">X_train</span><span class=\"p\">,</span> <span class=\"n\">y_train</span><span class=\"p\">)</span>\n<span class=\"nb\">print</span><span class=\"p\">(</span><span class=\"s2\">&quot;Training Score&quot;</span><span class=\"p\">)</span>\n<span class=\"nb\">print</span><span class=\"p\">(</span><span class=\"nb\">round</span><span class=\"p\">(</span><span class=\"n\">reg_tree_pipe</span><span class=\"o\">.</span><span class=\"n\">score</span><span class=\"p\">(</span><span class=\"n\">X_train</span><span class=\"p\">,</span> <span class=\"n\">y_train</span><span class=\"p\">),</span> <span class=\"mi\">3</span><span class=\"p\">))</span>\n<span class=\"nb\">print</span><span class=\"p\">(</span><span class=\"s2\">&quot;Validation Score&quot;</span><span class=\"p\">)</span>\n<span class=\"nb\">print</span><span class=\"p\">(</span><span class=\"nb\">round</span><span class=\"p\">(</span><span class=\"n\">reg_tree_pipe</span><span class=\"o\">.</span><span class=\"n\">score</span><span class=\"p\">(</span><span class=\"n\">X_val</span><span class=\"p\">,</span> <span class=\"n\">y_val</span><span class=\"p\">),</span> <span class=\"mi\">3</span><span class=\"p\">))</span>\n</pre></div>\n",
         "text/latex": "\\begin{Verbatim}[commandchars=\\\\\\{\\}]\n\\PY{k+kn}{from} \\PY{n+nn}{sklearn}\\PY{n+nn}{.}\\PY{n+nn}{tree} \\PY{k+kn}{import} \\PY{n}{DecisionTreeRegressor}\n\n\\PY{n}{reg} \\PY{o}{=} \\PY{n}{DecisionTreeRegressor}\\PY{p}{(}\\PY{n}{random\\PYZus{}state}\\PY{o}{=}\\PY{l+m+mi}{42}\\PY{p}{)}\n\n\\PY{n}{reg\\PYZus{}tree\\PYZus{}pipe} \\PY{o}{=} \\PY{n}{Pipeline}\\PY{p}{(}\\PY{p}{[}\n    \\PY{p}{(}\\PY{l+s+s2}{\\PYZdq{}}\\PY{l+s+s2}{drop\\PYZus{}duplicated}\\PY{l+s+s2}{\\PYZdq{}}\\PY{p}{,} \\PY{n}{DD}\\PY{p}{)}\\PY{p}{,}\n    \\PY{p}{(}\\PY{l+s+s2}{\\PYZdq{}}\\PY{l+s+s2}{make\\PYZus{}dataframe}\\PY{l+s+s2}{\\PYZdq{}}\\PY{p}{,} \\PY{n}{DT}\\PY{p}{)}\\PY{p}{,}\n    \\PY{p}{(}\\PY{l+s+s2}{\\PYZdq{}}\\PY{l+s+s2}{feature\\PYZus{}selection}\\PY{l+s+s2}{\\PYZdq{}}\\PY{p}{,} \\PY{n}{fs}\\PY{p}{)}\\PY{p}{,}\n    \\PY{p}{(}\\PY{l+s+s2}{\\PYZdq{}}\\PY{l+s+s2}{transformer}\\PY{l+s+s2}{\\PYZdq{}}\\PY{p}{,} \\PY{n}{lt}\\PY{p}{)}\\PY{p}{,}\n    \\PY{p}{(}\\PY{l+s+s2}{\\PYZdq{}}\\PY{l+s+s2}{scaler}\\PY{l+s+s2}{\\PYZdq{}}\\PY{p}{,} \\PY{n}{scaler}\\PY{p}{)}\\PY{p}{,}\n    \\PY{p}{(}\\PY{l+s+s2}{\\PYZdq{}}\\PY{l+s+s2}{model}\\PY{l+s+s2}{\\PYZdq{}}\\PY{p}{,} \\PY{n}{reg}\\PY{p}{)}\n\\PY{p}{]}\\PY{p}{)}\n\n\\PY{n}{reg\\PYZus{}tree\\PYZus{}pipe}\\PY{o}{.}\\PY{n}{fit}\\PY{p}{(}\\PY{n}{X\\PYZus{}train}\\PY{p}{,} \\PY{n}{y\\PYZus{}train}\\PY{p}{)}\n\\PY{n+nb}{print}\\PY{p}{(}\\PY{l+s+s2}{\\PYZdq{}}\\PY{l+s+s2}{Training Score}\\PY{l+s+s2}{\\PYZdq{}}\\PY{p}{)}\n\\PY{n+nb}{print}\\PY{p}{(}\\PY{n+nb}{round}\\PY{p}{(}\\PY{n}{reg\\PYZus{}tree\\PYZus{}pipe}\\PY{o}{.}\\PY{n}{score}\\PY{p}{(}\\PY{n}{X\\PYZus{}train}\\PY{p}{,} \\PY{n}{y\\PYZus{}train}\\PY{p}{)}\\PY{p}{,} \\PY{l+m+mi}{3}\\PY{p}{)}\\PY{p}{)}\n\\PY{n+nb}{print}\\PY{p}{(}\\PY{l+s+s2}{\\PYZdq{}}\\PY{l+s+s2}{Validation Score}\\PY{l+s+s2}{\\PYZdq{}}\\PY{p}{)}\n\\PY{n+nb}{print}\\PY{p}{(}\\PY{n+nb}{round}\\PY{p}{(}\\PY{n}{reg\\PYZus{}tree\\PYZus{}pipe}\\PY{o}{.}\\PY{n}{score}\\PY{p}{(}\\PY{n}{X\\PYZus{}val}\\PY{p}{,} \\PY{n}{y\\PYZus{}val}\\PY{p}{)}\\PY{p}{,} \\PY{l+m+mi}{3}\\PY{p}{)}\\PY{p}{)}\n\\end{Verbatim}\n",
         "text/plain": "from sklearn.tree import DecisionTreeRegressor\n\nreg = DecisionTreeRegressor(random_state=42)\n\nreg_tree_pipe = Pipeline([\n    (\"drop_duplicated\", DD),\n    (\"make_dataframe\", DT),\n    (\"feature_selection\", fs),\n    (\"transformer\", lt),\n    (\"scaler\", scaler),\n    (\"model\", reg)\n])\n\nreg_tree_pipe.fit(X_train, y_train)\nprint(\"Training Score\")\nprint(round(reg_tree_pipe.score(X_train, y_train), 3))\nprint(\"Validation Score\")\nprint(round(reg_tree_pipe.score(X_val, y_val), 3))"
        },
        "metadata": {},
        "output_type": "display_data"
       }
      ]
     }
    },
    "7329e877523c4f268c3b1f05cd688e7d": {
     "model_module": "@jupyter-widgets/base",
     "model_module_version": "1.2.0",
     "model_name": "LayoutModel",
     "state": {
      "_model_module": "@jupyter-widgets/base",
      "_model_module_version": "1.2.0",
      "_model_name": "LayoutModel",
      "_view_count": null,
      "_view_module": "@jupyter-widgets/base",
      "_view_module_version": "1.2.0",
      "_view_name": "LayoutView",
      "align_content": null,
      "align_items": null,
      "align_self": null,
      "border": "1px solid green",
      "bottom": null,
      "display": null,
      "flex": null,
      "flex_flow": null,
      "grid_area": null,
      "grid_auto_columns": null,
      "grid_auto_flow": null,
      "grid_auto_rows": null,
      "grid_column": null,
      "grid_gap": null,
      "grid_row": null,
      "grid_template_areas": null,
      "grid_template_columns": null,
      "grid_template_rows": null,
      "height": null,
      "justify_content": null,
      "justify_items": null,
      "left": null,
      "margin": null,
      "max_height": null,
      "max_width": null,
      "min_height": null,
      "min_width": null,
      "object_fit": null,
      "object_position": null,
      "order": null,
      "overflow": null,
      "overflow_x": null,
      "overflow_y": null,
      "padding": null,
      "right": null,
      "top": null,
      "visibility": null,
      "width": null
     }
    },
    "770d549e6cc542888149e90af3eda1ae": {
     "model_module": "@jupyter-widgets/base",
     "model_module_version": "1.2.0",
     "model_name": "LayoutModel",
     "state": {
      "_model_module": "@jupyter-widgets/base",
      "_model_module_version": "1.2.0",
      "_model_name": "LayoutModel",
      "_view_count": null,
      "_view_module": "@jupyter-widgets/base",
      "_view_module_version": "1.2.0",
      "_view_name": "LayoutView",
      "align_content": null,
      "align_items": null,
      "align_self": null,
      "border": "1px solid green",
      "bottom": null,
      "display": null,
      "flex": null,
      "flex_flow": null,
      "grid_area": null,
      "grid_auto_columns": null,
      "grid_auto_flow": null,
      "grid_auto_rows": null,
      "grid_column": null,
      "grid_gap": null,
      "grid_row": null,
      "grid_template_areas": null,
      "grid_template_columns": null,
      "grid_template_rows": null,
      "height": null,
      "justify_content": null,
      "justify_items": null,
      "left": null,
      "margin": null,
      "max_height": null,
      "max_width": null,
      "min_height": null,
      "min_width": null,
      "object_fit": null,
      "object_position": null,
      "order": null,
      "overflow": null,
      "overflow_x": null,
      "overflow_y": null,
      "padding": null,
      "right": null,
      "top": null,
      "visibility": null,
      "width": null
     }
    },
    "7851406244a24e9cafa9fd3f82207d4f": {
     "model_module": "@jupyter-widgets/controls",
     "model_module_version": "1.5.0",
     "model_name": "ButtonModel",
     "state": {
      "_dom_classes": [],
      "_model_module": "@jupyter-widgets/controls",
      "_model_module_version": "1.5.0",
      "_model_name": "ButtonModel",
      "_view_count": null,
      "_view_module": "@jupyter-widgets/controls",
      "_view_module_version": "1.5.0",
      "_view_name": "ButtonView",
      "button_style": "",
      "description": "Hide solution",
      "disabled": false,
      "icon": "",
      "layout": "IPY_MODEL_ad35f469668146f7a4365cdbce438ba2",
      "style": "IPY_MODEL_05e44b41f68d46b9bd15ee048ec83de9",
      "tooltip": ""
     }
    },
    "798d7fe68b8340c59a2e4c8225c6396d": {
     "model_module": "@jupyter-widgets/output",
     "model_module_version": "1.0.0",
     "model_name": "OutputModel",
     "state": {
      "_dom_classes": [],
      "_model_module": "@jupyter-widgets/output",
      "_model_module_version": "1.0.0",
      "_model_name": "OutputModel",
      "_view_count": null,
      "_view_module": "@jupyter-widgets/output",
      "_view_module_version": "1.0.0",
      "_view_name": "OutputView",
      "layout": "IPY_MODEL_7d3e884f4d2449dea509ee7b7d2cb24b",
      "msg_id": "",
      "outputs": [
       {
        "data": {
         "text/html": "<style>.output_html .hll { background-color: #ffffcc }\n.output_html  { background: #f8f8f8; }\n.output_html .c { color: #408080; font-style: italic } /* Comment */\n.output_html .err { border: 1px solid #FF0000 } /* Error */\n.output_html .k { color: #008000; font-weight: bold } /* Keyword */\n.output_html .o { color: #666666 } /* Operator */\n.output_html .ch { color: #408080; font-style: italic } /* Comment.Hashbang */\n.output_html .cm { color: #408080; font-style: italic } /* Comment.Multiline */\n.output_html .cp { color: #BC7A00 } /* Comment.Preproc */\n.output_html .cpf { color: #408080; font-style: italic } /* Comment.PreprocFile */\n.output_html .c1 { color: #408080; font-style: italic } /* Comment.Single */\n.output_html .cs { color: #408080; font-style: italic } /* Comment.Special */\n.output_html .gd { color: #A00000 } /* Generic.Deleted */\n.output_html .ge { font-style: italic } /* Generic.Emph */\n.output_html .gr { color: #FF0000 } /* Generic.Error */\n.output_html .gh { color: #000080; font-weight: bold } /* Generic.Heading */\n.output_html .gi { color: #00A000 } /* Generic.Inserted */\n.output_html .go { color: #888888 } /* Generic.Output */\n.output_html .gp { color: #000080; font-weight: bold } /* Generic.Prompt */\n.output_html .gs { font-weight: bold } /* Generic.Strong */\n.output_html .gu { color: #800080; font-weight: bold } /* Generic.Subheading */\n.output_html .gt { color: #0044DD } /* Generic.Traceback */\n.output_html .kc { color: #008000; font-weight: bold } /* Keyword.Constant */\n.output_html .kd { color: #008000; font-weight: bold } /* Keyword.Declaration */\n.output_html .kn { color: #008000; font-weight: bold } /* Keyword.Namespace */\n.output_html .kp { color: #008000 } /* Keyword.Pseudo */\n.output_html .kr { color: #008000; font-weight: bold } /* Keyword.Reserved */\n.output_html .kt { color: #B00040 } /* Keyword.Type */\n.output_html .m { color: #666666 } /* Literal.Number */\n.output_html .s { color: #BA2121 } /* Literal.String */\n.output_html .na { color: #7D9029 } /* Name.Attribute */\n.output_html .nb { color: #008000 } /* Name.Builtin */\n.output_html .nc { color: #0000FF; font-weight: bold } /* Name.Class */\n.output_html .no { color: #880000 } /* Name.Constant */\n.output_html .nd { color: #AA22FF } /* Name.Decorator */\n.output_html .ni { color: #999999; font-weight: bold } /* Name.Entity */\n.output_html .ne { color: #D2413A; font-weight: bold } /* Name.Exception */\n.output_html .nf { color: #0000FF } /* Name.Function */\n.output_html .nl { color: #A0A000 } /* Name.Label */\n.output_html .nn { color: #0000FF; font-weight: bold } /* Name.Namespace */\n.output_html .nt { color: #008000; font-weight: bold } /* Name.Tag */\n.output_html .nv { color: #19177C } /* Name.Variable */\n.output_html .ow { color: #AA22FF; font-weight: bold } /* Operator.Word */\n.output_html .w { color: #bbbbbb } /* Text.Whitespace */\n.output_html .mb { color: #666666 } /* Literal.Number.Bin */\n.output_html .mf { color: #666666 } /* Literal.Number.Float */\n.output_html .mh { color: #666666 } /* Literal.Number.Hex */\n.output_html .mi { color: #666666 } /* Literal.Number.Integer */\n.output_html .mo { color: #666666 } /* Literal.Number.Oct */\n.output_html .sa { color: #BA2121 } /* Literal.String.Affix */\n.output_html .sb { color: #BA2121 } /* Literal.String.Backtick */\n.output_html .sc { color: #BA2121 } /* Literal.String.Char */\n.output_html .dl { color: #BA2121 } /* Literal.String.Delimiter */\n.output_html .sd { color: #BA2121; font-style: italic } /* Literal.String.Doc */\n.output_html .s2 { color: #BA2121 } /* Literal.String.Double */\n.output_html .se { color: #BB6622; font-weight: bold } /* Literal.String.Escape */\n.output_html .sh { color: #BA2121 } /* Literal.String.Heredoc */\n.output_html .si { color: #BB6688; font-weight: bold } /* Literal.String.Interpol */\n.output_html .sx { color: #008000 } /* Literal.String.Other */\n.output_html .sr { color: #BB6688 } /* Literal.String.Regex */\n.output_html .s1 { color: #BA2121 } /* Literal.String.Single */\n.output_html .ss { color: #19177C } /* Literal.String.Symbol */\n.output_html .bp { color: #008000 } /* Name.Builtin.Pseudo */\n.output_html .fm { color: #0000FF } /* Name.Function.Magic */\n.output_html .vc { color: #19177C } /* Name.Variable.Class */\n.output_html .vg { color: #19177C } /* Name.Variable.Global */\n.output_html .vi { color: #19177C } /* Name.Variable.Instance */\n.output_html .vm { color: #19177C } /* Name.Variable.Magic */\n.output_html .il { color: #666666 } /* Literal.Number.Integer.Long */</style><div class=\"highlight\"><pre><span></span><span class=\"n\">sns</span><span class=\"o\">.</span><span class=\"n\">set</span><span class=\"p\">(</span><span class=\"n\">rc</span><span class=\"o\">=</span><span class=\"p\">{</span><span class=\"s1\">&#39;figure.figsize&#39;</span><span class=\"p\">:</span> <span class=\"p\">(</span><span class=\"mi\">14</span><span class=\"p\">,</span> <span class=\"mi\">8</span><span class=\"p\">)})</span> \n<span class=\"n\">sns</span><span class=\"o\">.</span><span class=\"n\">countplot</span><span class=\"p\">(</span><span class=\"n\">x</span> <span class=\"o\">=</span> <span class=\"n\">y_train</span><span class=\"p\">)</span>\n<span class=\"n\">plt</span><span class=\"o\">.</span><span class=\"n\">title</span><span class=\"p\">(</span><span class=\"s2\">&quot;Figure 1. Quality of the wine&quot;</span><span class=\"p\">)</span>\n<span class=\"n\">plt</span><span class=\"o\">.</span><span class=\"n\">show</span><span class=\"p\">()</span>\n</pre></div>\n",
         "text/latex": "\\begin{Verbatim}[commandchars=\\\\\\{\\}]\n\\PY{n}{sns}\\PY{o}{.}\\PY{n}{set}\\PY{p}{(}\\PY{n}{rc}\\PY{o}{=}\\PY{p}{\\PYZob{}}\\PY{l+s+s1}{\\PYZsq{}}\\PY{l+s+s1}{figure.figsize}\\PY{l+s+s1}{\\PYZsq{}}\\PY{p}{:} \\PY{p}{(}\\PY{l+m+mi}{14}\\PY{p}{,} \\PY{l+m+mi}{8}\\PY{p}{)}\\PY{p}{\\PYZcb{}}\\PY{p}{)} \n\\PY{n}{sns}\\PY{o}{.}\\PY{n}{countplot}\\PY{p}{(}\\PY{n}{x} \\PY{o}{=} \\PY{n}{y\\PYZus{}train}\\PY{p}{)}\n\\PY{n}{plt}\\PY{o}{.}\\PY{n}{title}\\PY{p}{(}\\PY{l+s+s2}{\\PYZdq{}}\\PY{l+s+s2}{Figure 1. Quality of the wine}\\PY{l+s+s2}{\\PYZdq{}}\\PY{p}{)}\n\\PY{n}{plt}\\PY{o}{.}\\PY{n}{show}\\PY{p}{(}\\PY{p}{)}\n\\end{Verbatim}\n",
         "text/plain": "sns.set(rc={'figure.figsize': (14, 8)}) \nsns.countplot(x = y_train)\nplt.title(\"Figure 1. Quality of the wine\")\nplt.show()"
        },
        "metadata": {},
        "output_type": "display_data"
       },
       {
        "data": {
         "text/markdown": "It appears the majority of wine is of medium quality, with there being much less poor (3 & 4) and good (7 & 8) quality wine.\n",
         "text/plain": "<IPython.core.display.Markdown object>"
        },
        "metadata": {},
        "output_type": "display_data"
       }
      ]
     }
    },
    "7a8507746b5d4c1a982c55eddcdd0219": {
     "model_module": "@jupyter-widgets/output",
     "model_module_version": "1.0.0",
     "model_name": "OutputModel",
     "state": {
      "_dom_classes": [],
      "_model_module": "@jupyter-widgets/output",
      "_model_module_version": "1.0.0",
      "_model_name": "OutputModel",
      "_view_count": null,
      "_view_module": "@jupyter-widgets/output",
      "_view_module_version": "1.0.0",
      "_view_name": "OutputView",
      "layout": "IPY_MODEL_4a464d8b4b9b4d819677511ca8d6c177",
      "msg_id": "",
      "outputs": [
       {
        "data": {
         "text/html": "<style>.output_html .hll { background-color: #ffffcc }\n.output_html  { background: #f8f8f8; }\n.output_html .c { color: #408080; font-style: italic } /* Comment */\n.output_html .err { border: 1px solid #FF0000 } /* Error */\n.output_html .k { color: #008000; font-weight: bold } /* Keyword */\n.output_html .o { color: #666666 } /* Operator */\n.output_html .ch { color: #408080; font-style: italic } /* Comment.Hashbang */\n.output_html .cm { color: #408080; font-style: italic } /* Comment.Multiline */\n.output_html .cp { color: #BC7A00 } /* Comment.Preproc */\n.output_html .cpf { color: #408080; font-style: italic } /* Comment.PreprocFile */\n.output_html .c1 { color: #408080; font-style: italic } /* Comment.Single */\n.output_html .cs { color: #408080; font-style: italic } /* Comment.Special */\n.output_html .gd { color: #A00000 } /* Generic.Deleted */\n.output_html .ge { font-style: italic } /* Generic.Emph */\n.output_html .gr { color: #FF0000 } /* Generic.Error */\n.output_html .gh { color: #000080; font-weight: bold } /* Generic.Heading */\n.output_html .gi { color: #00A000 } /* Generic.Inserted */\n.output_html .go { color: #888888 } /* Generic.Output */\n.output_html .gp { color: #000080; font-weight: bold } /* Generic.Prompt */\n.output_html .gs { font-weight: bold } /* Generic.Strong */\n.output_html .gu { color: #800080; font-weight: bold } /* Generic.Subheading */\n.output_html .gt { color: #0044DD } /* Generic.Traceback */\n.output_html .kc { color: #008000; font-weight: bold } /* Keyword.Constant */\n.output_html .kd { color: #008000; font-weight: bold } /* Keyword.Declaration */\n.output_html .kn { color: #008000; font-weight: bold } /* Keyword.Namespace */\n.output_html .kp { color: #008000 } /* Keyword.Pseudo */\n.output_html .kr { color: #008000; font-weight: bold } /* Keyword.Reserved */\n.output_html .kt { color: #B00040 } /* Keyword.Type */\n.output_html .m { color: #666666 } /* Literal.Number */\n.output_html .s { color: #BA2121 } /* Literal.String */\n.output_html .na { color: #7D9029 } /* Name.Attribute */\n.output_html .nb { color: #008000 } /* Name.Builtin */\n.output_html .nc { color: #0000FF; font-weight: bold } /* Name.Class */\n.output_html .no { color: #880000 } /* Name.Constant */\n.output_html .nd { color: #AA22FF } /* Name.Decorator */\n.output_html .ni { color: #999999; font-weight: bold } /* Name.Entity */\n.output_html .ne { color: #D2413A; font-weight: bold } /* Name.Exception */\n.output_html .nf { color: #0000FF } /* Name.Function */\n.output_html .nl { color: #A0A000 } /* Name.Label */\n.output_html .nn { color: #0000FF; font-weight: bold } /* Name.Namespace */\n.output_html .nt { color: #008000; font-weight: bold } /* Name.Tag */\n.output_html .nv { color: #19177C } /* Name.Variable */\n.output_html .ow { color: #AA22FF; font-weight: bold } /* Operator.Word */\n.output_html .w { color: #bbbbbb } /* Text.Whitespace */\n.output_html .mb { color: #666666 } /* Literal.Number.Bin */\n.output_html .mf { color: #666666 } /* Literal.Number.Float */\n.output_html .mh { color: #666666 } /* Literal.Number.Hex */\n.output_html .mi { color: #666666 } /* Literal.Number.Integer */\n.output_html .mo { color: #666666 } /* Literal.Number.Oct */\n.output_html .sa { color: #BA2121 } /* Literal.String.Affix */\n.output_html .sb { color: #BA2121 } /* Literal.String.Backtick */\n.output_html .sc { color: #BA2121 } /* Literal.String.Char */\n.output_html .dl { color: #BA2121 } /* Literal.String.Delimiter */\n.output_html .sd { color: #BA2121; font-style: italic } /* Literal.String.Doc */\n.output_html .s2 { color: #BA2121 } /* Literal.String.Double */\n.output_html .se { color: #BB6622; font-weight: bold } /* Literal.String.Escape */\n.output_html .sh { color: #BA2121 } /* Literal.String.Heredoc */\n.output_html .si { color: #BB6688; font-weight: bold } /* Literal.String.Interpol */\n.output_html .sx { color: #008000 } /* Literal.String.Other */\n.output_html .sr { color: #BB6688 } /* Literal.String.Regex */\n.output_html .s1 { color: #BA2121 } /* Literal.String.Single */\n.output_html .ss { color: #19177C } /* Literal.String.Symbol */\n.output_html .bp { color: #008000 } /* Name.Builtin.Pseudo */\n.output_html .fm { color: #0000FF } /* Name.Function.Magic */\n.output_html .vc { color: #19177C } /* Name.Variable.Class */\n.output_html .vg { color: #19177C } /* Name.Variable.Global */\n.output_html .vi { color: #19177C } /* Name.Variable.Instance */\n.output_html .vm { color: #19177C } /* Name.Variable.Magic */\n.output_html .il { color: #666666 } /* Literal.Number.Integer.Long */</style><div class=\"highlight\"><pre><span></span><span class=\"kn\">from</span> <span class=\"nn\">sklearn.linear_model</span> <span class=\"kn\">import</span> <span class=\"n\">LogisticRegression</span>\n<span class=\"kn\">from</span> <span class=\"nn\">sklearn.svm</span> <span class=\"kn\">import</span> <span class=\"n\">SVC</span>\n<span class=\"kn\">from</span> <span class=\"nn\">sklearn.neighbors</span> <span class=\"kn\">import</span> <span class=\"n\">KNeighborsClassifier</span>\n<span class=\"kn\">from</span> <span class=\"nn\">sklearn.dummy</span> <span class=\"kn\">import</span> <span class=\"n\">DummyClassifier</span>\n\n<span class=\"n\">dd</span> <span class=\"o\">=</span> <span class=\"n\">duplicated_sampler</span>\n<span class=\"n\">fs</span> <span class=\"o\">=</span> <span class=\"n\">DropCorrelatedFeatures</span><span class=\"p\">(</span><span class=\"n\">variables</span><span class=\"o\">=</span><span class=\"kc\">None</span><span class=\"p\">,</span> \n                            <span class=\"n\">method</span><span class=\"o\">=</span><span class=\"s1\">&#39;pearson&#39;</span><span class=\"p\">,</span> \n                            <span class=\"n\">threshold</span><span class=\"o\">=</span><span class=\"mf\">0.6</span><span class=\"p\">)</span>\n<span class=\"n\">lt</span> <span class=\"o\">=</span> <span class=\"n\">LogTransformer</span><span class=\"p\">()</span>\n<span class=\"n\">scaler</span> <span class=\"o\">=</span> <span class=\"n\">StandardScaler</span><span class=\"p\">()</span> \n\n<span class=\"n\">pre_processing</span> <span class=\"o\">=</span> <span class=\"p\">[</span>\n    <span class=\"p\">(</span><span class=\"s2\">&quot;drop_duplicated&quot;</span><span class=\"p\">,</span> <span class=\"n\">dd</span><span class=\"p\">),</span>\n    <span class=\"p\">(</span><span class=\"s2\">&quot;make_dataframe&quot;</span><span class=\"p\">,</span> <span class=\"n\">DT</span><span class=\"p\">),</span>\n    <span class=\"p\">(</span><span class=\"s2\">&quot;feature_selection&quot;</span><span class=\"p\">,</span> <span class=\"n\">fs</span><span class=\"p\">),</span>\n    <span class=\"p\">(</span><span class=\"s2\">&quot;log_transformer&quot;</span><span class=\"p\">,</span> <span class=\"n\">lt</span><span class=\"p\">),</span>\n    <span class=\"p\">(</span><span class=\"s2\">&quot;scaler&quot;</span><span class=\"p\">,</span> <span class=\"n\">scaler</span><span class=\"p\">)</span>\n<span class=\"p\">]</span>\n\n<span class=\"n\">dummy_pipe</span> <span class=\"o\">=</span> <span class=\"n\">Pipeline</span><span class=\"p\">(</span><span class=\"n\">steps</span><span class=\"o\">=</span><span class=\"n\">pre_processing</span><span class=\"o\">+</span><span class=\"p\">[(</span><span class=\"s2\">&quot;model&quot;</span><span class=\"p\">,</span> <span class=\"n\">DummyClassifier</span><span class=\"p\">(</span><span class=\"n\">random_state</span><span class=\"o\">=</span><span class=\"mi\">42</span><span class=\"p\">))])</span>\n<span class=\"n\">log_pipe</span> <span class=\"o\">=</span> <span class=\"n\">Pipeline</span><span class=\"p\">(</span><span class=\"n\">steps</span><span class=\"o\">=</span><span class=\"n\">pre_processing</span><span class=\"o\">+</span><span class=\"p\">[(</span><span class=\"s2\">&quot;model&quot;</span><span class=\"p\">,</span> <span class=\"n\">LogisticRegression</span><span class=\"p\">(</span><span class=\"n\">random_state</span><span class=\"o\">=</span><span class=\"mi\">42</span><span class=\"p\">))])</span>\n<span class=\"n\">svc_pipe</span> <span class=\"o\">=</span> <span class=\"n\">Pipeline</span><span class=\"p\">(</span><span class=\"n\">steps</span><span class=\"o\">=</span><span class=\"n\">pre_processing</span><span class=\"o\">+</span><span class=\"p\">[(</span><span class=\"s2\">&quot;model&quot;</span><span class=\"p\">,</span> <span class=\"n\">SVC</span><span class=\"p\">(</span><span class=\"n\">random_state</span><span class=\"o\">=</span><span class=\"mi\">42</span><span class=\"p\">))])</span>\n<span class=\"n\">knn_pipe</span> <span class=\"o\">=</span> <span class=\"n\">Pipeline</span><span class=\"p\">(</span><span class=\"n\">steps</span><span class=\"o\">=</span><span class=\"n\">pre_processing</span><span class=\"o\">+</span><span class=\"p\">[(</span><span class=\"s2\">&quot;model&quot;</span><span class=\"p\">,</span> <span class=\"n\">KNeighborsClassifier</span><span class=\"p\">())])</span>\n\n<span class=\"n\">model_dict</span> <span class=\"o\">=</span> <span class=\"p\">{</span>\n    <span class=\"s1\">&#39;Dummy&#39;</span><span class=\"p\">:</span> <span class=\"n\">dummy_pipe</span><span class=\"p\">,</span>\n    <span class=\"s1\">&#39;Logistic Regression&#39;</span><span class=\"p\">:</span> <span class=\"n\">log_pipe</span><span class=\"p\">,</span>\n    <span class=\"s1\">&#39;SVC&#39;</span><span class=\"p\">:</span> <span class=\"n\">svc_pipe</span><span class=\"p\">,</span>\n    <span class=\"s1\">&#39;KNN&#39;</span><span class=\"p\">:</span> <span class=\"n\">knn_pipe</span><span class=\"p\">}</span>\n\n<span class=\"k\">for</span> <span class=\"n\">i</span><span class=\"p\">,</span> <span class=\"n\">model_name</span> <span class=\"ow\">in</span> <span class=\"nb\">enumerate</span><span class=\"p\">(</span><span class=\"n\">model_dict</span><span class=\"p\">):</span> \n    <span class=\"n\">scores</span> <span class=\"o\">=</span> <span class=\"n\">cross_validate</span><span class=\"p\">(</span><span class=\"n\">model_dict</span><span class=\"p\">[</span><span class=\"n\">model_name</span><span class=\"p\">],</span> <span class=\"n\">X_train_full</span><span class=\"p\">,</span> <span class=\"n\">y_train_full</span><span class=\"p\">,</span> <span class=\"n\">cv</span><span class=\"o\">=</span><span class=\"mi\">5</span><span class=\"p\">,</span> <span class=\"n\">return_train_score</span><span class=\"o\">=</span><span class=\"kc\">True</span><span class=\"p\">)</span>\n    <span class=\"n\">scores_df</span> <span class=\"o\">=</span> <span class=\"n\">tidy_scores</span><span class=\"p\">(</span><span class=\"n\">scores</span><span class=\"p\">)</span>\n    <span class=\"n\">scores_df</span><span class=\"p\">[</span><span class=\"s1\">&#39;model&#39;</span><span class=\"p\">]</span> <span class=\"o\">=</span> <span class=\"n\">model_name</span>\n    <span class=\"n\">scores_df</span> <span class=\"o\">=</span> <span class=\"n\">scores_df</span><span class=\"o\">.</span><span class=\"n\">set_index</span><span class=\"p\">(</span><span class=\"s2\">&quot;model&quot;</span><span class=\"p\">,</span> <span class=\"n\">append</span><span class=\"o\">=</span><span class=\"kc\">True</span><span class=\"p\">)</span>\n    <span class=\"n\">scores_df</span> <span class=\"o\">=</span> <span class=\"n\">scores_df</span><span class=\"o\">.</span><span class=\"n\">swaplevel</span><span class=\"p\">()</span>\n    \n    <span class=\"k\">if</span> <span class=\"n\">i</span> <span class=\"o\">==</span><span class=\"mi\">0</span><span class=\"p\">:</span>\n        <span class=\"n\">all_scores</span> <span class=\"o\">=</span> <span class=\"n\">scores_df</span>\n    <span class=\"k\">else</span><span class=\"p\">:</span>\n        <span class=\"n\">all_scores</span> <span class=\"o\">=</span> <span class=\"n\">pd</span><span class=\"o\">.</span><span class=\"n\">concat</span><span class=\"p\">([</span><span class=\"n\">all_scores</span><span class=\"p\">,</span> <span class=\"n\">scores_df</span><span class=\"p\">],</span> <span class=\"n\">axis</span><span class=\"o\">=</span><span class=\"mi\">0</span><span class=\"p\">)</span>\n\n<span class=\"n\">display</span><span class=\"p\">(</span><span class=\"n\">all_scores</span><span class=\"o\">.</span><span class=\"n\">xs</span><span class=\"p\">(</span><span class=\"s1\">&#39;mean&#39;</span><span class=\"p\">,</span> <span class=\"n\">level</span><span class=\"o\">=</span><span class=\"mi\">1</span><span class=\"p\">,</span> <span class=\"n\">drop_level</span><span class=\"o\">=</span><span class=\"kc\">False</span><span class=\"p\">))</span>\n<span class=\"n\">display</span><span class=\"p\">(</span><span class=\"n\">all_scores</span><span class=\"o\">.</span><span class=\"n\">xs</span><span class=\"p\">(</span><span class=\"s1\">&#39;sd&#39;</span><span class=\"p\">,</span> <span class=\"n\">level</span><span class=\"o\">=</span><span class=\"mi\">1</span><span class=\"p\">,</span> <span class=\"n\">drop_level</span><span class=\"o\">=</span><span class=\"kc\">False</span><span class=\"p\">))</span>\n</pre></div>\n",
         "text/latex": "\\begin{Verbatim}[commandchars=\\\\\\{\\}]\n\\PY{k+kn}{from} \\PY{n+nn}{sklearn}\\PY{n+nn}{.}\\PY{n+nn}{linear\\PYZus{}model} \\PY{k+kn}{import} \\PY{n}{LogisticRegression}\n\\PY{k+kn}{from} \\PY{n+nn}{sklearn}\\PY{n+nn}{.}\\PY{n+nn}{svm} \\PY{k+kn}{import} \\PY{n}{SVC}\n\\PY{k+kn}{from} \\PY{n+nn}{sklearn}\\PY{n+nn}{.}\\PY{n+nn}{neighbors} \\PY{k+kn}{import} \\PY{n}{KNeighborsClassifier}\n\\PY{k+kn}{from} \\PY{n+nn}{sklearn}\\PY{n+nn}{.}\\PY{n+nn}{dummy} \\PY{k+kn}{import} \\PY{n}{DummyClassifier}\n\n\\PY{n}{dd} \\PY{o}{=} \\PY{n}{duplicated\\PYZus{}sampler}\n\\PY{n}{fs} \\PY{o}{=} \\PY{n}{DropCorrelatedFeatures}\\PY{p}{(}\\PY{n}{variables}\\PY{o}{=}\\PY{k+kc}{None}\\PY{p}{,} \n                            \\PY{n}{method}\\PY{o}{=}\\PY{l+s+s1}{\\PYZsq{}}\\PY{l+s+s1}{pearson}\\PY{l+s+s1}{\\PYZsq{}}\\PY{p}{,} \n                            \\PY{n}{threshold}\\PY{o}{=}\\PY{l+m+mf}{0.6}\\PY{p}{)}\n\\PY{n}{lt} \\PY{o}{=} \\PY{n}{LogTransformer}\\PY{p}{(}\\PY{p}{)}\n\\PY{n}{scaler} \\PY{o}{=} \\PY{n}{StandardScaler}\\PY{p}{(}\\PY{p}{)} \n\n\\PY{n}{pre\\PYZus{}processing} \\PY{o}{=} \\PY{p}{[}\n    \\PY{p}{(}\\PY{l+s+s2}{\\PYZdq{}}\\PY{l+s+s2}{drop\\PYZus{}duplicated}\\PY{l+s+s2}{\\PYZdq{}}\\PY{p}{,} \\PY{n}{dd}\\PY{p}{)}\\PY{p}{,}\n    \\PY{p}{(}\\PY{l+s+s2}{\\PYZdq{}}\\PY{l+s+s2}{make\\PYZus{}dataframe}\\PY{l+s+s2}{\\PYZdq{}}\\PY{p}{,} \\PY{n}{DT}\\PY{p}{)}\\PY{p}{,}\n    \\PY{p}{(}\\PY{l+s+s2}{\\PYZdq{}}\\PY{l+s+s2}{feature\\PYZus{}selection}\\PY{l+s+s2}{\\PYZdq{}}\\PY{p}{,} \\PY{n}{fs}\\PY{p}{)}\\PY{p}{,}\n    \\PY{p}{(}\\PY{l+s+s2}{\\PYZdq{}}\\PY{l+s+s2}{log\\PYZus{}transformer}\\PY{l+s+s2}{\\PYZdq{}}\\PY{p}{,} \\PY{n}{lt}\\PY{p}{)}\\PY{p}{,}\n    \\PY{p}{(}\\PY{l+s+s2}{\\PYZdq{}}\\PY{l+s+s2}{scaler}\\PY{l+s+s2}{\\PYZdq{}}\\PY{p}{,} \\PY{n}{scaler}\\PY{p}{)}\n\\PY{p}{]}\n\n\\PY{n}{dummy\\PYZus{}pipe} \\PY{o}{=} \\PY{n}{Pipeline}\\PY{p}{(}\\PY{n}{steps}\\PY{o}{=}\\PY{n}{pre\\PYZus{}processing}\\PY{o}{+}\\PY{p}{[}\\PY{p}{(}\\PY{l+s+s2}{\\PYZdq{}}\\PY{l+s+s2}{model}\\PY{l+s+s2}{\\PYZdq{}}\\PY{p}{,} \\PY{n}{DummyClassifier}\\PY{p}{(}\\PY{n}{random\\PYZus{}state}\\PY{o}{=}\\PY{l+m+mi}{42}\\PY{p}{)}\\PY{p}{)}\\PY{p}{]}\\PY{p}{)}\n\\PY{n}{log\\PYZus{}pipe} \\PY{o}{=} \\PY{n}{Pipeline}\\PY{p}{(}\\PY{n}{steps}\\PY{o}{=}\\PY{n}{pre\\PYZus{}processing}\\PY{o}{+}\\PY{p}{[}\\PY{p}{(}\\PY{l+s+s2}{\\PYZdq{}}\\PY{l+s+s2}{model}\\PY{l+s+s2}{\\PYZdq{}}\\PY{p}{,} \\PY{n}{LogisticRegression}\\PY{p}{(}\\PY{n}{random\\PYZus{}state}\\PY{o}{=}\\PY{l+m+mi}{42}\\PY{p}{)}\\PY{p}{)}\\PY{p}{]}\\PY{p}{)}\n\\PY{n}{svc\\PYZus{}pipe} \\PY{o}{=} \\PY{n}{Pipeline}\\PY{p}{(}\\PY{n}{steps}\\PY{o}{=}\\PY{n}{pre\\PYZus{}processing}\\PY{o}{+}\\PY{p}{[}\\PY{p}{(}\\PY{l+s+s2}{\\PYZdq{}}\\PY{l+s+s2}{model}\\PY{l+s+s2}{\\PYZdq{}}\\PY{p}{,} \\PY{n}{SVC}\\PY{p}{(}\\PY{n}{random\\PYZus{}state}\\PY{o}{=}\\PY{l+m+mi}{42}\\PY{p}{)}\\PY{p}{)}\\PY{p}{]}\\PY{p}{)}\n\\PY{n}{knn\\PYZus{}pipe} \\PY{o}{=} \\PY{n}{Pipeline}\\PY{p}{(}\\PY{n}{steps}\\PY{o}{=}\\PY{n}{pre\\PYZus{}processing}\\PY{o}{+}\\PY{p}{[}\\PY{p}{(}\\PY{l+s+s2}{\\PYZdq{}}\\PY{l+s+s2}{model}\\PY{l+s+s2}{\\PYZdq{}}\\PY{p}{,} \\PY{n}{KNeighborsClassifier}\\PY{p}{(}\\PY{p}{)}\\PY{p}{)}\\PY{p}{]}\\PY{p}{)}\n\n\\PY{n}{model\\PYZus{}dict} \\PY{o}{=} \\PY{p}{\\PYZob{}}\n    \\PY{l+s+s1}{\\PYZsq{}}\\PY{l+s+s1}{Dummy}\\PY{l+s+s1}{\\PYZsq{}}\\PY{p}{:} \\PY{n}{dummy\\PYZus{}pipe}\\PY{p}{,}\n    \\PY{l+s+s1}{\\PYZsq{}}\\PY{l+s+s1}{Logistic Regression}\\PY{l+s+s1}{\\PYZsq{}}\\PY{p}{:} \\PY{n}{log\\PYZus{}pipe}\\PY{p}{,}\n    \\PY{l+s+s1}{\\PYZsq{}}\\PY{l+s+s1}{SVC}\\PY{l+s+s1}{\\PYZsq{}}\\PY{p}{:} \\PY{n}{svc\\PYZus{}pipe}\\PY{p}{,}\n    \\PY{l+s+s1}{\\PYZsq{}}\\PY{l+s+s1}{KNN}\\PY{l+s+s1}{\\PYZsq{}}\\PY{p}{:} \\PY{n}{knn\\PYZus{}pipe}\\PY{p}{\\PYZcb{}}\n\n\\PY{k}{for} \\PY{n}{i}\\PY{p}{,} \\PY{n}{model\\PYZus{}name} \\PY{o+ow}{in} \\PY{n+nb}{enumerate}\\PY{p}{(}\\PY{n}{model\\PYZus{}dict}\\PY{p}{)}\\PY{p}{:} \n    \\PY{n}{scores} \\PY{o}{=} \\PY{n}{cross\\PYZus{}validate}\\PY{p}{(}\\PY{n}{model\\PYZus{}dict}\\PY{p}{[}\\PY{n}{model\\PYZus{}name}\\PY{p}{]}\\PY{p}{,} \\PY{n}{X\\PYZus{}train\\PYZus{}full}\\PY{p}{,} \\PY{n}{y\\PYZus{}train\\PYZus{}full}\\PY{p}{,} \\PY{n}{cv}\\PY{o}{=}\\PY{l+m+mi}{5}\\PY{p}{,} \\PY{n}{return\\PYZus{}train\\PYZus{}score}\\PY{o}{=}\\PY{k+kc}{True}\\PY{p}{)}\n    \\PY{n}{scores\\PYZus{}df} \\PY{o}{=} \\PY{n}{tidy\\PYZus{}scores}\\PY{p}{(}\\PY{n}{scores}\\PY{p}{)}\n    \\PY{n}{scores\\PYZus{}df}\\PY{p}{[}\\PY{l+s+s1}{\\PYZsq{}}\\PY{l+s+s1}{model}\\PY{l+s+s1}{\\PYZsq{}}\\PY{p}{]} \\PY{o}{=} \\PY{n}{model\\PYZus{}name}\n    \\PY{n}{scores\\PYZus{}df} \\PY{o}{=} \\PY{n}{scores\\PYZus{}df}\\PY{o}{.}\\PY{n}{set\\PYZus{}index}\\PY{p}{(}\\PY{l+s+s2}{\\PYZdq{}}\\PY{l+s+s2}{model}\\PY{l+s+s2}{\\PYZdq{}}\\PY{p}{,} \\PY{n}{append}\\PY{o}{=}\\PY{k+kc}{True}\\PY{p}{)}\n    \\PY{n}{scores\\PYZus{}df} \\PY{o}{=} \\PY{n}{scores\\PYZus{}df}\\PY{o}{.}\\PY{n}{swaplevel}\\PY{p}{(}\\PY{p}{)}\n    \n    \\PY{k}{if} \\PY{n}{i} \\PY{o}{==}\\PY{l+m+mi}{0}\\PY{p}{:}\n        \\PY{n}{all\\PYZus{}scores} \\PY{o}{=} \\PY{n}{scores\\PYZus{}df}\n    \\PY{k}{else}\\PY{p}{:}\n        \\PY{n}{all\\PYZus{}scores} \\PY{o}{=} \\PY{n}{pd}\\PY{o}{.}\\PY{n}{concat}\\PY{p}{(}\\PY{p}{[}\\PY{n}{all\\PYZus{}scores}\\PY{p}{,} \\PY{n}{scores\\PYZus{}df}\\PY{p}{]}\\PY{p}{,} \\PY{n}{axis}\\PY{o}{=}\\PY{l+m+mi}{0}\\PY{p}{)}\n\n\\PY{n}{display}\\PY{p}{(}\\PY{n}{all\\PYZus{}scores}\\PY{o}{.}\\PY{n}{xs}\\PY{p}{(}\\PY{l+s+s1}{\\PYZsq{}}\\PY{l+s+s1}{mean}\\PY{l+s+s1}{\\PYZsq{}}\\PY{p}{,} \\PY{n}{level}\\PY{o}{=}\\PY{l+m+mi}{1}\\PY{p}{,} \\PY{n}{drop\\PYZus{}level}\\PY{o}{=}\\PY{k+kc}{False}\\PY{p}{)}\\PY{p}{)}\n\\PY{n}{display}\\PY{p}{(}\\PY{n}{all\\PYZus{}scores}\\PY{o}{.}\\PY{n}{xs}\\PY{p}{(}\\PY{l+s+s1}{\\PYZsq{}}\\PY{l+s+s1}{sd}\\PY{l+s+s1}{\\PYZsq{}}\\PY{p}{,} \\PY{n}{level}\\PY{o}{=}\\PY{l+m+mi}{1}\\PY{p}{,} \\PY{n}{drop\\PYZus{}level}\\PY{o}{=}\\PY{k+kc}{False}\\PY{p}{)}\\PY{p}{)}\n\\end{Verbatim}\n",
         "text/plain": "from sklearn.linear_model import LogisticRegression\nfrom sklearn.svm import SVC\nfrom sklearn.neighbors import KNeighborsClassifier\nfrom sklearn.dummy import DummyClassifier\n\ndd = duplicated_sampler\nfs = DropCorrelatedFeatures(variables=None, \n                            method='pearson', \n                            threshold=0.6)\nlt = LogTransformer()\nscaler = StandardScaler() \n\npre_processing = [\n    (\"drop_duplicated\", dd),\n    (\"make_dataframe\", DT),\n    (\"feature_selection\", fs),\n    (\"log_transformer\", lt),\n    (\"scaler\", scaler)\n]\n\ndummy_pipe = Pipeline(steps=pre_processing+[(\"model\", DummyClassifier(random_state=42))])\nlog_pipe = Pipeline(steps=pre_processing+[(\"model\", LogisticRegression(random_state=42))])\nsvc_pipe = Pipeline(steps=pre_processing+[(\"model\", SVC(random_state=42))])\nknn_pipe = Pipeline(steps=pre_processing+[(\"model\", KNeighborsClassifier())])\n\nmodel_dict = {\n    'Dummy': dummy_pipe,\n    'Logistic Regression': log_pipe,\n    'SVC': svc_pipe,\n    'KNN': knn_pipe}\n\nfor i, model_name in enumerate(model_dict): \n    scores = cross_validate(model_dict[model_name], X_train_full, y_train_full, cv=5, return_train_score=True)\n    scores_df = tidy_scores(scores)\n    scores_df['model'] = model_name\n    scores_df = scores_df.set_index(\"model\", append=True)\n    scores_df = scores_df.swaplevel()\n    \n    if i ==0:\n        all_scores = scores_df\n    else:\n        all_scores = pd.concat([all_scores, scores_df], axis=0)\n\ndisplay(all_scores.xs('mean', level=1, drop_level=False))\ndisplay(all_scores.xs('sd', level=1, drop_level=False))"
        },
        "metadata": {},
        "output_type": "display_data"
       },
       {
        "data": {
         "text/markdown": "It appears that the difference between the training and validation set is not to large for the dummy (expected) and logisitic regression models, but is larger for the SVC and particularly the KNN model. Out of all the models, \"SVC\" appears to be the best.\n",
         "text/plain": "<IPython.core.display.Markdown object>"
        },
        "metadata": {},
        "output_type": "display_data"
       }
      ]
     }
    },
    "7b6485ee89d543fd9add5e402aa800a0": {
     "model_module": "@jupyter-widgets/base",
     "model_module_version": "1.2.0",
     "model_name": "LayoutModel",
     "state": {
      "_model_module": "@jupyter-widgets/base",
      "_model_module_version": "1.2.0",
      "_model_name": "LayoutModel",
      "_view_count": null,
      "_view_module": "@jupyter-widgets/base",
      "_view_module_version": "1.2.0",
      "_view_name": "LayoutView",
      "align_content": null,
      "align_items": null,
      "align_self": null,
      "border": null,
      "bottom": null,
      "display": null,
      "flex": null,
      "flex_flow": null,
      "grid_area": null,
      "grid_auto_columns": null,
      "grid_auto_flow": null,
      "grid_auto_rows": null,
      "grid_column": null,
      "grid_gap": null,
      "grid_row": null,
      "grid_template_areas": null,
      "grid_template_columns": null,
      "grid_template_rows": null,
      "height": null,
      "justify_content": null,
      "justify_items": null,
      "left": null,
      "margin": null,
      "max_height": null,
      "max_width": null,
      "min_height": null,
      "min_width": null,
      "object_fit": null,
      "object_position": null,
      "order": null,
      "overflow": null,
      "overflow_x": null,
      "overflow_y": null,
      "padding": null,
      "right": null,
      "top": null,
      "visibility": null,
      "width": null
     }
    },
    "7d3e884f4d2449dea509ee7b7d2cb24b": {
     "model_module": "@jupyter-widgets/base",
     "model_module_version": "1.2.0",
     "model_name": "LayoutModel",
     "state": {
      "_model_module": "@jupyter-widgets/base",
      "_model_module_version": "1.2.0",
      "_model_name": "LayoutModel",
      "_view_count": null,
      "_view_module": "@jupyter-widgets/base",
      "_view_module_version": "1.2.0",
      "_view_name": "LayoutView",
      "align_content": null,
      "align_items": null,
      "align_self": null,
      "border": "1px solid green",
      "bottom": null,
      "display": null,
      "flex": null,
      "flex_flow": null,
      "grid_area": null,
      "grid_auto_columns": null,
      "grid_auto_flow": null,
      "grid_auto_rows": null,
      "grid_column": null,
      "grid_gap": null,
      "grid_row": null,
      "grid_template_areas": null,
      "grid_template_columns": null,
      "grid_template_rows": null,
      "height": null,
      "justify_content": null,
      "justify_items": null,
      "left": null,
      "margin": null,
      "max_height": null,
      "max_width": null,
      "min_height": null,
      "min_width": null,
      "object_fit": null,
      "object_position": null,
      "order": null,
      "overflow": null,
      "overflow_x": null,
      "overflow_y": null,
      "padding": null,
      "right": null,
      "top": null,
      "visibility": null,
      "width": null
     }
    },
    "80318d13d40d4fa1b74d46dc8b0bf776": {
     "model_module": "@jupyter-widgets/output",
     "model_module_version": "1.0.0",
     "model_name": "OutputModel",
     "state": {
      "_dom_classes": [],
      "_model_module": "@jupyter-widgets/output",
      "_model_module_version": "1.0.0",
      "_model_name": "OutputModel",
      "_view_count": null,
      "_view_module": "@jupyter-widgets/output",
      "_view_module_version": "1.0.0",
      "_view_name": "OutputView",
      "layout": "IPY_MODEL_e16427d676d044478ee67d0a61f90c97",
      "msg_id": "",
      "outputs": [
       {
        "data": {
         "text/html": "<style>.output_html .hll { background-color: #ffffcc }\n.output_html  { background: #f8f8f8; }\n.output_html .c { color: #408080; font-style: italic } /* Comment */\n.output_html .err { border: 1px solid #FF0000 } /* Error */\n.output_html .k { color: #008000; font-weight: bold } /* Keyword */\n.output_html .o { color: #666666 } /* Operator */\n.output_html .ch { color: #408080; font-style: italic } /* Comment.Hashbang */\n.output_html .cm { color: #408080; font-style: italic } /* Comment.Multiline */\n.output_html .cp { color: #BC7A00 } /* Comment.Preproc */\n.output_html .cpf { color: #408080; font-style: italic } /* Comment.PreprocFile */\n.output_html .c1 { color: #408080; font-style: italic } /* Comment.Single */\n.output_html .cs { color: #408080; font-style: italic } /* Comment.Special */\n.output_html .gd { color: #A00000 } /* Generic.Deleted */\n.output_html .ge { font-style: italic } /* Generic.Emph */\n.output_html .gr { color: #FF0000 } /* Generic.Error */\n.output_html .gh { color: #000080; font-weight: bold } /* Generic.Heading */\n.output_html .gi { color: #00A000 } /* Generic.Inserted */\n.output_html .go { color: #888888 } /* Generic.Output */\n.output_html .gp { color: #000080; font-weight: bold } /* Generic.Prompt */\n.output_html .gs { font-weight: bold } /* Generic.Strong */\n.output_html .gu { color: #800080; font-weight: bold } /* Generic.Subheading */\n.output_html .gt { color: #0044DD } /* Generic.Traceback */\n.output_html .kc { color: #008000; font-weight: bold } /* Keyword.Constant */\n.output_html .kd { color: #008000; font-weight: bold } /* Keyword.Declaration */\n.output_html .kn { color: #008000; font-weight: bold } /* Keyword.Namespace */\n.output_html .kp { color: #008000 } /* Keyword.Pseudo */\n.output_html .kr { color: #008000; font-weight: bold } /* Keyword.Reserved */\n.output_html .kt { color: #B00040 } /* Keyword.Type */\n.output_html .m { color: #666666 } /* Literal.Number */\n.output_html .s { color: #BA2121 } /* Literal.String */\n.output_html .na { color: #7D9029 } /* Name.Attribute */\n.output_html .nb { color: #008000 } /* Name.Builtin */\n.output_html .nc { color: #0000FF; font-weight: bold } /* Name.Class */\n.output_html .no { color: #880000 } /* Name.Constant */\n.output_html .nd { color: #AA22FF } /* Name.Decorator */\n.output_html .ni { color: #999999; font-weight: bold } /* Name.Entity */\n.output_html .ne { color: #D2413A; font-weight: bold } /* Name.Exception */\n.output_html .nf { color: #0000FF } /* Name.Function */\n.output_html .nl { color: #A0A000 } /* Name.Label */\n.output_html .nn { color: #0000FF; font-weight: bold } /* Name.Namespace */\n.output_html .nt { color: #008000; font-weight: bold } /* Name.Tag */\n.output_html .nv { color: #19177C } /* Name.Variable */\n.output_html .ow { color: #AA22FF; font-weight: bold } /* Operator.Word */\n.output_html .w { color: #bbbbbb } /* Text.Whitespace */\n.output_html .mb { color: #666666 } /* Literal.Number.Bin */\n.output_html .mf { color: #666666 } /* Literal.Number.Float */\n.output_html .mh { color: #666666 } /* Literal.Number.Hex */\n.output_html .mi { color: #666666 } /* Literal.Number.Integer */\n.output_html .mo { color: #666666 } /* Literal.Number.Oct */\n.output_html .sa { color: #BA2121 } /* Literal.String.Affix */\n.output_html .sb { color: #BA2121 } /* Literal.String.Backtick */\n.output_html .sc { color: #BA2121 } /* Literal.String.Char */\n.output_html .dl { color: #BA2121 } /* Literal.String.Delimiter */\n.output_html .sd { color: #BA2121; font-style: italic } /* Literal.String.Doc */\n.output_html .s2 { color: #BA2121 } /* Literal.String.Double */\n.output_html .se { color: #BB6622; font-weight: bold } /* Literal.String.Escape */\n.output_html .sh { color: #BA2121 } /* Literal.String.Heredoc */\n.output_html .si { color: #BB6688; font-weight: bold } /* Literal.String.Interpol */\n.output_html .sx { color: #008000 } /* Literal.String.Other */\n.output_html .sr { color: #BB6688 } /* Literal.String.Regex */\n.output_html .s1 { color: #BA2121 } /* Literal.String.Single */\n.output_html .ss { color: #19177C } /* Literal.String.Symbol */\n.output_html .bp { color: #008000 } /* Name.Builtin.Pseudo */\n.output_html .fm { color: #0000FF } /* Name.Function.Magic */\n.output_html .vc { color: #19177C } /* Name.Variable.Class */\n.output_html .vg { color: #19177C } /* Name.Variable.Global */\n.output_html .vi { color: #19177C } /* Name.Variable.Instance */\n.output_html .vm { color: #19177C } /* Name.Variable.Magic */\n.output_html .il { color: #666666 } /* Literal.Number.Integer.Long */</style><div class=\"highlight\"><pre><span></span><span class=\"n\">train_df</span><span class=\"o\">.</span><span class=\"n\">info</span><span class=\"p\">()</span>\n</pre></div>\n",
         "text/latex": "\\begin{Verbatim}[commandchars=\\\\\\{\\}]\n\\PY{n}{train\\PYZus{}df}\\PY{o}{.}\\PY{n}{info}\\PY{p}{(}\\PY{p}{)}\n\\end{Verbatim}\n",
         "text/plain": "train_df.info()"
        },
        "metadata": {},
        "output_type": "display_data"
       },
       {
        "data": {
         "text/markdown": "Most of the columns are in `float64` format, except the quality column, which is `int64`.\n",
         "text/plain": "<IPython.core.display.Markdown object>"
        },
        "metadata": {},
        "output_type": "display_data"
       }
      ]
     }
    },
    "82c92d0b536043118398da42fb1a356e": {
     "model_module": "@jupyter-widgets/base",
     "model_module_version": "1.2.0",
     "model_name": "LayoutModel",
     "state": {
      "_model_module": "@jupyter-widgets/base",
      "_model_module_version": "1.2.0",
      "_model_name": "LayoutModel",
      "_view_count": null,
      "_view_module": "@jupyter-widgets/base",
      "_view_module_version": "1.2.0",
      "_view_name": "LayoutView",
      "align_content": null,
      "align_items": null,
      "align_self": null,
      "border": "1px solid green",
      "bottom": null,
      "display": null,
      "flex": null,
      "flex_flow": null,
      "grid_area": null,
      "grid_auto_columns": null,
      "grid_auto_flow": null,
      "grid_auto_rows": null,
      "grid_column": null,
      "grid_gap": null,
      "grid_row": null,
      "grid_template_areas": null,
      "grid_template_columns": null,
      "grid_template_rows": null,
      "height": null,
      "justify_content": null,
      "justify_items": null,
      "left": null,
      "margin": null,
      "max_height": null,
      "max_width": null,
      "min_height": null,
      "min_width": null,
      "object_fit": null,
      "object_position": null,
      "order": null,
      "overflow": null,
      "overflow_x": null,
      "overflow_y": null,
      "padding": null,
      "right": null,
      "top": null,
      "visibility": null,
      "width": null
     }
    },
    "853b72020a2e42bea8513d5939e765fc": {
     "model_module": "@jupyter-widgets/base",
     "model_module_version": "1.2.0",
     "model_name": "LayoutModel",
     "state": {
      "_model_module": "@jupyter-widgets/base",
      "_model_module_version": "1.2.0",
      "_model_name": "LayoutModel",
      "_view_count": null,
      "_view_module": "@jupyter-widgets/base",
      "_view_module_version": "1.2.0",
      "_view_name": "LayoutView",
      "align_content": null,
      "align_items": null,
      "align_self": null,
      "border": null,
      "bottom": null,
      "display": null,
      "flex": null,
      "flex_flow": null,
      "grid_area": null,
      "grid_auto_columns": null,
      "grid_auto_flow": null,
      "grid_auto_rows": null,
      "grid_column": null,
      "grid_gap": null,
      "grid_row": null,
      "grid_template_areas": null,
      "grid_template_columns": null,
      "grid_template_rows": null,
      "height": null,
      "justify_content": null,
      "justify_items": null,
      "left": null,
      "margin": null,
      "max_height": null,
      "max_width": null,
      "min_height": null,
      "min_width": null,
      "object_fit": null,
      "object_position": null,
      "order": null,
      "overflow": null,
      "overflow_x": null,
      "overflow_y": null,
      "padding": null,
      "right": null,
      "top": null,
      "visibility": null,
      "width": null
     }
    },
    "8587984b4e564e94ae7f187bade19aec": {
     "model_module": "@jupyter-widgets/output",
     "model_module_version": "1.0.0",
     "model_name": "OutputModel",
     "state": {
      "_dom_classes": [],
      "_model_module": "@jupyter-widgets/output",
      "_model_module_version": "1.0.0",
      "_model_name": "OutputModel",
      "_view_count": null,
      "_view_module": "@jupyter-widgets/output",
      "_view_module_version": "1.0.0",
      "_view_name": "OutputView",
      "layout": "IPY_MODEL_e3bcb68eb5a944d2842d9b1a3609074a",
      "msg_id": "",
      "outputs": []
     }
    },
    "8600f40a5c614e5aa63e874ddb32553f": {
     "model_module": "@jupyter-widgets/base",
     "model_module_version": "1.2.0",
     "model_name": "LayoutModel",
     "state": {
      "_model_module": "@jupyter-widgets/base",
      "_model_module_version": "1.2.0",
      "_model_name": "LayoutModel",
      "_view_count": null,
      "_view_module": "@jupyter-widgets/base",
      "_view_module_version": "1.2.0",
      "_view_name": "LayoutView",
      "align_content": null,
      "align_items": null,
      "align_self": null,
      "border": null,
      "bottom": null,
      "display": null,
      "flex": null,
      "flex_flow": null,
      "grid_area": null,
      "grid_auto_columns": null,
      "grid_auto_flow": null,
      "grid_auto_rows": null,
      "grid_column": null,
      "grid_gap": null,
      "grid_row": null,
      "grid_template_areas": null,
      "grid_template_columns": null,
      "grid_template_rows": null,
      "height": null,
      "justify_content": null,
      "justify_items": null,
      "left": null,
      "margin": null,
      "max_height": null,
      "max_width": null,
      "min_height": null,
      "min_width": null,
      "object_fit": null,
      "object_position": null,
      "order": null,
      "overflow": null,
      "overflow_x": null,
      "overflow_y": null,
      "padding": null,
      "right": null,
      "top": null,
      "visibility": null,
      "width": null
     }
    },
    "8647b60f08774b9baf2dfc01754702b8": {
     "model_module": "@jupyter-widgets/base",
     "model_module_version": "1.2.0",
     "model_name": "LayoutModel",
     "state": {
      "_model_module": "@jupyter-widgets/base",
      "_model_module_version": "1.2.0",
      "_model_name": "LayoutModel",
      "_view_count": null,
      "_view_module": "@jupyter-widgets/base",
      "_view_module_version": "1.2.0",
      "_view_name": "LayoutView",
      "align_content": null,
      "align_items": null,
      "align_self": null,
      "border": null,
      "bottom": null,
      "display": null,
      "flex": null,
      "flex_flow": null,
      "grid_area": null,
      "grid_auto_columns": null,
      "grid_auto_flow": null,
      "grid_auto_rows": null,
      "grid_column": null,
      "grid_gap": null,
      "grid_row": null,
      "grid_template_areas": null,
      "grid_template_columns": null,
      "grid_template_rows": null,
      "height": null,
      "justify_content": null,
      "justify_items": null,
      "left": null,
      "margin": null,
      "max_height": null,
      "max_width": null,
      "min_height": null,
      "min_width": null,
      "object_fit": null,
      "object_position": null,
      "order": null,
      "overflow": null,
      "overflow_x": null,
      "overflow_y": null,
      "padding": null,
      "right": null,
      "top": null,
      "visibility": null,
      "width": null
     }
    },
    "890838634e614380b006ef9fcb6e5d04": {
     "model_module": "@jupyter-widgets/base",
     "model_module_version": "1.2.0",
     "model_name": "LayoutModel",
     "state": {
      "_model_module": "@jupyter-widgets/base",
      "_model_module_version": "1.2.0",
      "_model_name": "LayoutModel",
      "_view_count": null,
      "_view_module": "@jupyter-widgets/base",
      "_view_module_version": "1.2.0",
      "_view_name": "LayoutView",
      "align_content": null,
      "align_items": null,
      "align_self": null,
      "border": "1px solid green",
      "bottom": null,
      "display": null,
      "flex": null,
      "flex_flow": null,
      "grid_area": null,
      "grid_auto_columns": null,
      "grid_auto_flow": null,
      "grid_auto_rows": null,
      "grid_column": null,
      "grid_gap": null,
      "grid_row": null,
      "grid_template_areas": null,
      "grid_template_columns": null,
      "grid_template_rows": null,
      "height": null,
      "justify_content": null,
      "justify_items": null,
      "left": null,
      "margin": null,
      "max_height": null,
      "max_width": null,
      "min_height": null,
      "min_width": null,
      "object_fit": null,
      "object_position": null,
      "order": null,
      "overflow": null,
      "overflow_x": null,
      "overflow_y": null,
      "padding": null,
      "right": null,
      "top": null,
      "visibility": null,
      "width": null
     }
    },
    "8c8cb6238be14dd4a527c1675db2ef55": {
     "model_module": "@jupyter-widgets/base",
     "model_module_version": "1.2.0",
     "model_name": "LayoutModel",
     "state": {
      "_model_module": "@jupyter-widgets/base",
      "_model_module_version": "1.2.0",
      "_model_name": "LayoutModel",
      "_view_count": null,
      "_view_module": "@jupyter-widgets/base",
      "_view_module_version": "1.2.0",
      "_view_name": "LayoutView",
      "align_content": null,
      "align_items": null,
      "align_self": null,
      "border": null,
      "bottom": null,
      "display": null,
      "flex": null,
      "flex_flow": null,
      "grid_area": null,
      "grid_auto_columns": null,
      "grid_auto_flow": null,
      "grid_auto_rows": null,
      "grid_column": null,
      "grid_gap": null,
      "grid_row": null,
      "grid_template_areas": null,
      "grid_template_columns": null,
      "grid_template_rows": null,
      "height": null,
      "justify_content": null,
      "justify_items": null,
      "left": null,
      "margin": null,
      "max_height": null,
      "max_width": null,
      "min_height": null,
      "min_width": null,
      "object_fit": null,
      "object_position": null,
      "order": null,
      "overflow": null,
      "overflow_x": null,
      "overflow_y": null,
      "padding": null,
      "right": null,
      "top": null,
      "visibility": null,
      "width": null
     }
    },
    "8cd1a974e75d47b0bb3a2ff1546646ee": {
     "model_module": "@jupyter-widgets/output",
     "model_module_version": "1.0.0",
     "model_name": "OutputModel",
     "state": {
      "_dom_classes": [],
      "_model_module": "@jupyter-widgets/output",
      "_model_module_version": "1.0.0",
      "_model_name": "OutputModel",
      "_view_count": null,
      "_view_module": "@jupyter-widgets/output",
      "_view_module_version": "1.0.0",
      "_view_name": "OutputView",
      "layout": "IPY_MODEL_ff27f8ecf890417da19cb6d8b6319dfc",
      "msg_id": "",
      "outputs": [
       {
        "data": {
         "text/markdown": "Feature engineering requires a _\"transformer\"_ class as we only need to alter the features and not the number of observations.\n",
         "text/plain": "<IPython.core.display.Markdown object>"
        },
        "metadata": {},
        "output_type": "display_data"
       }
      ]
     }
    },
    "8fe91e1d8c9c429a8cb1559e36071f67": {
     "model_module": "@jupyter-widgets/base",
     "model_module_version": "1.2.0",
     "model_name": "LayoutModel",
     "state": {
      "_model_module": "@jupyter-widgets/base",
      "_model_module_version": "1.2.0",
      "_model_name": "LayoutModel",
      "_view_count": null,
      "_view_module": "@jupyter-widgets/base",
      "_view_module_version": "1.2.0",
      "_view_name": "LayoutView",
      "align_content": null,
      "align_items": null,
      "align_self": null,
      "border": null,
      "bottom": null,
      "display": null,
      "flex": null,
      "flex_flow": null,
      "grid_area": null,
      "grid_auto_columns": null,
      "grid_auto_flow": null,
      "grid_auto_rows": null,
      "grid_column": null,
      "grid_gap": null,
      "grid_row": null,
      "grid_template_areas": null,
      "grid_template_columns": null,
      "grid_template_rows": null,
      "height": null,
      "justify_content": null,
      "justify_items": null,
      "left": null,
      "margin": null,
      "max_height": null,
      "max_width": null,
      "min_height": null,
      "min_width": null,
      "object_fit": null,
      "object_position": null,
      "order": null,
      "overflow": null,
      "overflow_x": null,
      "overflow_y": null,
      "padding": null,
      "right": null,
      "top": null,
      "visibility": null,
      "width": null
     }
    },
    "9046b7aec2144d83999e7636bd05f051": {
     "model_module": "@jupyter-widgets/output",
     "model_module_version": "1.0.0",
     "model_name": "OutputModel",
     "state": {
      "_dom_classes": [],
      "_model_module": "@jupyter-widgets/output",
      "_model_module_version": "1.0.0",
      "_model_name": "OutputModel",
      "_view_count": null,
      "_view_module": "@jupyter-widgets/output",
      "_view_module_version": "1.0.0",
      "_view_name": "OutputView",
      "layout": "IPY_MODEL_ca85765c4e4c4163af3560ae46ad1b4f",
      "msg_id": "",
      "outputs": [
       {
        "data": {
         "text/html": "<style>.output_html .hll { background-color: #ffffcc }\n.output_html  { background: #f8f8f8; }\n.output_html .c { color: #408080; font-style: italic } /* Comment */\n.output_html .err { border: 1px solid #FF0000 } /* Error */\n.output_html .k { color: #008000; font-weight: bold } /* Keyword */\n.output_html .o { color: #666666 } /* Operator */\n.output_html .ch { color: #408080; font-style: italic } /* Comment.Hashbang */\n.output_html .cm { color: #408080; font-style: italic } /* Comment.Multiline */\n.output_html .cp { color: #BC7A00 } /* Comment.Preproc */\n.output_html .cpf { color: #408080; font-style: italic } /* Comment.PreprocFile */\n.output_html .c1 { color: #408080; font-style: italic } /* Comment.Single */\n.output_html .cs { color: #408080; font-style: italic } /* Comment.Special */\n.output_html .gd { color: #A00000 } /* Generic.Deleted */\n.output_html .ge { font-style: italic } /* Generic.Emph */\n.output_html .gr { color: #FF0000 } /* Generic.Error */\n.output_html .gh { color: #000080; font-weight: bold } /* Generic.Heading */\n.output_html .gi { color: #00A000 } /* Generic.Inserted */\n.output_html .go { color: #888888 } /* Generic.Output */\n.output_html .gp { color: #000080; font-weight: bold } /* Generic.Prompt */\n.output_html .gs { font-weight: bold } /* Generic.Strong */\n.output_html .gu { color: #800080; font-weight: bold } /* Generic.Subheading */\n.output_html .gt { color: #0044DD } /* Generic.Traceback */\n.output_html .kc { color: #008000; font-weight: bold } /* Keyword.Constant */\n.output_html .kd { color: #008000; font-weight: bold } /* Keyword.Declaration */\n.output_html .kn { color: #008000; font-weight: bold } /* Keyword.Namespace */\n.output_html .kp { color: #008000 } /* Keyword.Pseudo */\n.output_html .kr { color: #008000; font-weight: bold } /* Keyword.Reserved */\n.output_html .kt { color: #B00040 } /* Keyword.Type */\n.output_html .m { color: #666666 } /* Literal.Number */\n.output_html .s { color: #BA2121 } /* Literal.String */\n.output_html .na { color: #7D9029 } /* Name.Attribute */\n.output_html .nb { color: #008000 } /* Name.Builtin */\n.output_html .nc { color: #0000FF; font-weight: bold } /* Name.Class */\n.output_html .no { color: #880000 } /* Name.Constant */\n.output_html .nd { color: #AA22FF } /* Name.Decorator */\n.output_html .ni { color: #999999; font-weight: bold } /* Name.Entity */\n.output_html .ne { color: #D2413A; font-weight: bold } /* Name.Exception */\n.output_html .nf { color: #0000FF } /* Name.Function */\n.output_html .nl { color: #A0A000 } /* Name.Label */\n.output_html .nn { color: #0000FF; font-weight: bold } /* Name.Namespace */\n.output_html .nt { color: #008000; font-weight: bold } /* Name.Tag */\n.output_html .nv { color: #19177C } /* Name.Variable */\n.output_html .ow { color: #AA22FF; font-weight: bold } /* Operator.Word */\n.output_html .w { color: #bbbbbb } /* Text.Whitespace */\n.output_html .mb { color: #666666 } /* Literal.Number.Bin */\n.output_html .mf { color: #666666 } /* Literal.Number.Float */\n.output_html .mh { color: #666666 } /* Literal.Number.Hex */\n.output_html .mi { color: #666666 } /* Literal.Number.Integer */\n.output_html .mo { color: #666666 } /* Literal.Number.Oct */\n.output_html .sa { color: #BA2121 } /* Literal.String.Affix */\n.output_html .sb { color: #BA2121 } /* Literal.String.Backtick */\n.output_html .sc { color: #BA2121 } /* Literal.String.Char */\n.output_html .dl { color: #BA2121 } /* Literal.String.Delimiter */\n.output_html .sd { color: #BA2121; font-style: italic } /* Literal.String.Doc */\n.output_html .s2 { color: #BA2121 } /* Literal.String.Double */\n.output_html .se { color: #BB6622; font-weight: bold } /* Literal.String.Escape */\n.output_html .sh { color: #BA2121 } /* Literal.String.Heredoc */\n.output_html .si { color: #BB6688; font-weight: bold } /* Literal.String.Interpol */\n.output_html .sx { color: #008000 } /* Literal.String.Other */\n.output_html .sr { color: #BB6688 } /* Literal.String.Regex */\n.output_html .s1 { color: #BA2121 } /* Literal.String.Single */\n.output_html .ss { color: #19177C } /* Literal.String.Symbol */\n.output_html .bp { color: #008000 } /* Name.Builtin.Pseudo */\n.output_html .fm { color: #0000FF } /* Name.Function.Magic */\n.output_html .vc { color: #19177C } /* Name.Variable.Class */\n.output_html .vg { color: #19177C } /* Name.Variable.Global */\n.output_html .vi { color: #19177C } /* Name.Variable.Instance */\n.output_html .vm { color: #19177C } /* Name.Variable.Magic */\n.output_html .il { color: #666666 } /* Literal.Number.Integer.Long */</style><div class=\"highlight\"><pre><span></span><span class=\"n\">pipes_dict</span> <span class=\"o\">=</span> <span class=\"p\">{</span>\n    <span class=\"s2\">&quot;Polynomial Features&quot;</span><span class=\"p\">:</span> <span class=\"n\">poly_reg_pipe</span><span class=\"p\">,</span>\n    <span class=\"s2\">&quot;Regression Tree&quot;</span><span class=\"p\">:</span> <span class=\"n\">reg_tree_pipe</span>\n<span class=\"p\">}</span>\n\n<span class=\"k\">for</span> <span class=\"n\">pipe_name</span> <span class=\"ow\">in</span> <span class=\"n\">pipes_dict</span><span class=\"p\">:</span>\n    <span class=\"nb\">print</span><span class=\"p\">(</span><span class=\"n\">pipe_name</span><span class=\"p\">)</span>\n    <span class=\"n\">scores</span> <span class=\"o\">=</span> <span class=\"n\">cross_validate</span><span class=\"p\">(</span><span class=\"n\">pipes_dict</span><span class=\"p\">[</span><span class=\"n\">pipe_name</span><span class=\"p\">],</span> <span class=\"n\">X_train_full</span><span class=\"p\">,</span> <span class=\"n\">y_train_full</span><span class=\"p\">,</span> <span class=\"n\">cv</span><span class=\"o\">=</span><span class=\"mi\">5</span><span class=\"p\">,</span> <span class=\"n\">return_train_score</span><span class=\"o\">=</span><span class=\"kc\">True</span><span class=\"p\">)</span>\n\n    <span class=\"n\">display</span><span class=\"p\">(</span><span class=\"n\">tidy_scores</span><span class=\"p\">(</span><span class=\"n\">scores</span><span class=\"p\">))</span>\n</pre></div>\n",
         "text/latex": "\\begin{Verbatim}[commandchars=\\\\\\{\\}]\n\\PY{n}{pipes\\PYZus{}dict} \\PY{o}{=} \\PY{p}{\\PYZob{}}\n    \\PY{l+s+s2}{\\PYZdq{}}\\PY{l+s+s2}{Polynomial Features}\\PY{l+s+s2}{\\PYZdq{}}\\PY{p}{:} \\PY{n}{poly\\PYZus{}reg\\PYZus{}pipe}\\PY{p}{,}\n    \\PY{l+s+s2}{\\PYZdq{}}\\PY{l+s+s2}{Regression Tree}\\PY{l+s+s2}{\\PYZdq{}}\\PY{p}{:} \\PY{n}{reg\\PYZus{}tree\\PYZus{}pipe}\n\\PY{p}{\\PYZcb{}}\n\n\\PY{k}{for} \\PY{n}{pipe\\PYZus{}name} \\PY{o+ow}{in} \\PY{n}{pipes\\PYZus{}dict}\\PY{p}{:}\n    \\PY{n+nb}{print}\\PY{p}{(}\\PY{n}{pipe\\PYZus{}name}\\PY{p}{)}\n    \\PY{n}{scores} \\PY{o}{=} \\PY{n}{cross\\PYZus{}validate}\\PY{p}{(}\\PY{n}{pipes\\PYZus{}dict}\\PY{p}{[}\\PY{n}{pipe\\PYZus{}name}\\PY{p}{]}\\PY{p}{,} \\PY{n}{X\\PYZus{}train\\PYZus{}full}\\PY{p}{,} \\PY{n}{y\\PYZus{}train\\PYZus{}full}\\PY{p}{,} \\PY{n}{cv}\\PY{o}{=}\\PY{l+m+mi}{5}\\PY{p}{,} \\PY{n}{return\\PYZus{}train\\PYZus{}score}\\PY{o}{=}\\PY{k+kc}{True}\\PY{p}{)}\n\n    \\PY{n}{display}\\PY{p}{(}\\PY{n}{tidy\\PYZus{}scores}\\PY{p}{(}\\PY{n}{scores}\\PY{p}{)}\\PY{p}{)}\n\\end{Verbatim}\n",
         "text/plain": "pipes_dict = {\n    \"Polynomial Features\": poly_reg_pipe,\n    \"Regression Tree\": reg_tree_pipe\n}\n\nfor pipe_name in pipes_dict:\n    print(pipe_name)\n    scores = cross_validate(pipes_dict[pipe_name], X_train_full, y_train_full, cv=5, return_train_score=True)\n\n    display(tidy_scores(scores))"
        },
        "metadata": {},
        "output_type": "display_data"
       },
       {
        "data": {
         "text/markdown": "Assessing the models using cross-validation demonstrates that the pipeline with polynomial features appears to have better average performance on both the training and validation set. Furthermore, the difference between these two sets may not actually as bad as the previous train/validation split made out and could just be due to the specific split made. The difference in score for this pipeline between the training set and validation set is however still larger than the linear regression model, suggesting there is some overfitting occouring here. The Regression Tree is still consistently bad on these settings (we'll fix it in later weeks).\n",
         "text/plain": "<IPython.core.display.Markdown object>"
        },
        "metadata": {},
        "output_type": "display_data"
       }
      ]
     }
    },
    "96994dafcaa84843b26a01b18c401b70": {
     "model_module": "@jupyter-widgets/output",
     "model_module_version": "1.0.0",
     "model_name": "OutputModel",
     "state": {
      "_dom_classes": [],
      "_model_module": "@jupyter-widgets/output",
      "_model_module_version": "1.0.0",
      "_model_name": "OutputModel",
      "_view_count": null,
      "_view_module": "@jupyter-widgets/output",
      "_view_module_version": "1.0.0",
      "_view_name": "OutputView",
      "layout": "IPY_MODEL_5ecf1e0bcd6045879abd2bfbc3fbdf8d",
      "msg_id": "",
      "outputs": [
       {
        "data": {
         "text/html": "<style>.output_html .hll { background-color: #ffffcc }\n.output_html  { background: #f8f8f8; }\n.output_html .c { color: #408080; font-style: italic } /* Comment */\n.output_html .err { border: 1px solid #FF0000 } /* Error */\n.output_html .k { color: #008000; font-weight: bold } /* Keyword */\n.output_html .o { color: #666666 } /* Operator */\n.output_html .ch { color: #408080; font-style: italic } /* Comment.Hashbang */\n.output_html .cm { color: #408080; font-style: italic } /* Comment.Multiline */\n.output_html .cp { color: #BC7A00 } /* Comment.Preproc */\n.output_html .cpf { color: #408080; font-style: italic } /* Comment.PreprocFile */\n.output_html .c1 { color: #408080; font-style: italic } /* Comment.Single */\n.output_html .cs { color: #408080; font-style: italic } /* Comment.Special */\n.output_html .gd { color: #A00000 } /* Generic.Deleted */\n.output_html .ge { font-style: italic } /* Generic.Emph */\n.output_html .gr { color: #FF0000 } /* Generic.Error */\n.output_html .gh { color: #000080; font-weight: bold } /* Generic.Heading */\n.output_html .gi { color: #00A000 } /* Generic.Inserted */\n.output_html .go { color: #888888 } /* Generic.Output */\n.output_html .gp { color: #000080; font-weight: bold } /* Generic.Prompt */\n.output_html .gs { font-weight: bold } /* Generic.Strong */\n.output_html .gu { color: #800080; font-weight: bold } /* Generic.Subheading */\n.output_html .gt { color: #0044DD } /* Generic.Traceback */\n.output_html .kc { color: #008000; font-weight: bold } /* Keyword.Constant */\n.output_html .kd { color: #008000; font-weight: bold } /* Keyword.Declaration */\n.output_html .kn { color: #008000; font-weight: bold } /* Keyword.Namespace */\n.output_html .kp { color: #008000 } /* Keyword.Pseudo */\n.output_html .kr { color: #008000; font-weight: bold } /* Keyword.Reserved */\n.output_html .kt { color: #B00040 } /* Keyword.Type */\n.output_html .m { color: #666666 } /* Literal.Number */\n.output_html .s { color: #BA2121 } /* Literal.String */\n.output_html .na { color: #7D9029 } /* Name.Attribute */\n.output_html .nb { color: #008000 } /* Name.Builtin */\n.output_html .nc { color: #0000FF; font-weight: bold } /* Name.Class */\n.output_html .no { color: #880000 } /* Name.Constant */\n.output_html .nd { color: #AA22FF } /* Name.Decorator */\n.output_html .ni { color: #999999; font-weight: bold } /* Name.Entity */\n.output_html .ne { color: #D2413A; font-weight: bold } /* Name.Exception */\n.output_html .nf { color: #0000FF } /* Name.Function */\n.output_html .nl { color: #A0A000 } /* Name.Label */\n.output_html .nn { color: #0000FF; font-weight: bold } /* Name.Namespace */\n.output_html .nt { color: #008000; font-weight: bold } /* Name.Tag */\n.output_html .nv { color: #19177C } /* Name.Variable */\n.output_html .ow { color: #AA22FF; font-weight: bold } /* Operator.Word */\n.output_html .w { color: #bbbbbb } /* Text.Whitespace */\n.output_html .mb { color: #666666 } /* Literal.Number.Bin */\n.output_html .mf { color: #666666 } /* Literal.Number.Float */\n.output_html .mh { color: #666666 } /* Literal.Number.Hex */\n.output_html .mi { color: #666666 } /* Literal.Number.Integer */\n.output_html .mo { color: #666666 } /* Literal.Number.Oct */\n.output_html .sa { color: #BA2121 } /* Literal.String.Affix */\n.output_html .sb { color: #BA2121 } /* Literal.String.Backtick */\n.output_html .sc { color: #BA2121 } /* Literal.String.Char */\n.output_html .dl { color: #BA2121 } /* Literal.String.Delimiter */\n.output_html .sd { color: #BA2121; font-style: italic } /* Literal.String.Doc */\n.output_html .s2 { color: #BA2121 } /* Literal.String.Double */\n.output_html .se { color: #BB6622; font-weight: bold } /* Literal.String.Escape */\n.output_html .sh { color: #BA2121 } /* Literal.String.Heredoc */\n.output_html .si { color: #BB6688; font-weight: bold } /* Literal.String.Interpol */\n.output_html .sx { color: #008000 } /* Literal.String.Other */\n.output_html .sr { color: #BB6688 } /* Literal.String.Regex */\n.output_html .s1 { color: #BA2121 } /* Literal.String.Single */\n.output_html .ss { color: #19177C } /* Literal.String.Symbol */\n.output_html .bp { color: #008000 } /* Name.Builtin.Pseudo */\n.output_html .fm { color: #0000FF } /* Name.Function.Magic */\n.output_html .vc { color: #19177C } /* Name.Variable.Class */\n.output_html .vg { color: #19177C } /* Name.Variable.Global */\n.output_html .vi { color: #19177C } /* Name.Variable.Instance */\n.output_html .vm { color: #19177C } /* Name.Variable.Magic */\n.output_html .il { color: #666666 } /* Literal.Number.Integer.Long */</style><div class=\"highlight\"><pre><span></span><span class=\"n\">X_train_</span><span class=\"p\">,</span> <span class=\"n\">y_train_</span> <span class=\"o\">=</span> <span class=\"n\">duplicated_sampler</span><span class=\"o\">.</span><span class=\"n\">fit_resample</span><span class=\"p\">(</span><span class=\"n\">X_train</span><span class=\"p\">,</span> <span class=\"n\">y_train</span><span class=\"p\">)</span>\n\n<span class=\"nb\">print</span><span class=\"p\">(</span><span class=\"n\">X_train</span><span class=\"o\">.</span><span class=\"n\">shape</span><span class=\"p\">)</span>\n<span class=\"nb\">print</span><span class=\"p\">(</span><span class=\"n\">y_train</span><span class=\"o\">.</span><span class=\"n\">shape</span><span class=\"p\">)</span>\n<span class=\"nb\">print</span><span class=\"p\">(</span><span class=\"n\">X_train_</span><span class=\"o\">.</span><span class=\"n\">shape</span><span class=\"p\">)</span>\n<span class=\"nb\">print</span><span class=\"p\">(</span><span class=\"n\">y_train_</span><span class=\"o\">.</span><span class=\"n\">shape</span><span class=\"p\">)</span>\n</pre></div>\n",
         "text/latex": "\\begin{Verbatim}[commandchars=\\\\\\{\\}]\n\\PY{n}{X\\PYZus{}train\\PYZus{}}\\PY{p}{,} \\PY{n}{y\\PYZus{}train\\PYZus{}} \\PY{o}{=} \\PY{n}{duplicated\\PYZus{}sampler}\\PY{o}{.}\\PY{n}{fit\\PYZus{}resample}\\PY{p}{(}\\PY{n}{X\\PYZus{}train}\\PY{p}{,} \\PY{n}{y\\PYZus{}train}\\PY{p}{)}\n\n\\PY{n+nb}{print}\\PY{p}{(}\\PY{n}{X\\PYZus{}train}\\PY{o}{.}\\PY{n}{shape}\\PY{p}{)}\n\\PY{n+nb}{print}\\PY{p}{(}\\PY{n}{y\\PYZus{}train}\\PY{o}{.}\\PY{n}{shape}\\PY{p}{)}\n\\PY{n+nb}{print}\\PY{p}{(}\\PY{n}{X\\PYZus{}train\\PYZus{}}\\PY{o}{.}\\PY{n}{shape}\\PY{p}{)}\n\\PY{n+nb}{print}\\PY{p}{(}\\PY{n}{y\\PYZus{}train\\PYZus{}}\\PY{o}{.}\\PY{n}{shape}\\PY{p}{)}\n\\end{Verbatim}\n",
         "text/plain": "X_train_, y_train_ = duplicated_sampler.fit_resample(X_train, y_train)\n\nprint(X_train.shape)\nprint(y_train.shape)\nprint(X_train_.shape)\nprint(y_train_.shape)"
        },
        "metadata": {},
        "output_type": "display_data"
       }
      ]
     }
    },
    "9a17fb5e1330403989d4ea461f535d56": {
     "model_module": "@jupyter-widgets/controls",
     "model_module_version": "1.5.0",
     "model_name": "ButtonStyleModel",
     "state": {
      "_model_module": "@jupyter-widgets/controls",
      "_model_module_version": "1.5.0",
      "_model_name": "ButtonStyleModel",
      "_view_count": null,
      "_view_module": "@jupyter-widgets/base",
      "_view_module_version": "1.2.0",
      "_view_name": "StyleView",
      "button_color": null,
      "font_weight": ""
     }
    },
    "9c4c0dfbf47d4ee5a4fe9a2678ec6b6d": {
     "model_module": "@jupyter-widgets/controls",
     "model_module_version": "1.5.0",
     "model_name": "ButtonStyleModel",
     "state": {
      "_model_module": "@jupyter-widgets/controls",
      "_model_module_version": "1.5.0",
      "_model_name": "ButtonStyleModel",
      "_view_count": null,
      "_view_module": "@jupyter-widgets/base",
      "_view_module_version": "1.2.0",
      "_view_name": "StyleView",
      "button_color": null,
      "font_weight": ""
     }
    },
    "9e54e55dbb064c1cbea50889ddc7191b": {
     "model_module": "@jupyter-widgets/controls",
     "model_module_version": "1.5.0",
     "model_name": "ButtonStyleModel",
     "state": {
      "_model_module": "@jupyter-widgets/controls",
      "_model_module_version": "1.5.0",
      "_model_name": "ButtonStyleModel",
      "_view_count": null,
      "_view_module": "@jupyter-widgets/base",
      "_view_module_version": "1.2.0",
      "_view_name": "StyleView",
      "button_color": null,
      "font_weight": ""
     }
    },
    "a37d292ca86b451c8337d33752e858dc": {
     "model_module": "@jupyter-widgets/base",
     "model_module_version": "1.2.0",
     "model_name": "LayoutModel",
     "state": {
      "_model_module": "@jupyter-widgets/base",
      "_model_module_version": "1.2.0",
      "_model_name": "LayoutModel",
      "_view_count": null,
      "_view_module": "@jupyter-widgets/base",
      "_view_module_version": "1.2.0",
      "_view_name": "LayoutView",
      "align_content": null,
      "align_items": null,
      "align_self": null,
      "border": null,
      "bottom": null,
      "display": null,
      "flex": null,
      "flex_flow": null,
      "grid_area": null,
      "grid_auto_columns": null,
      "grid_auto_flow": null,
      "grid_auto_rows": null,
      "grid_column": null,
      "grid_gap": null,
      "grid_row": null,
      "grid_template_areas": null,
      "grid_template_columns": null,
      "grid_template_rows": null,
      "height": null,
      "justify_content": null,
      "justify_items": null,
      "left": null,
      "margin": null,
      "max_height": null,
      "max_width": null,
      "min_height": null,
      "min_width": null,
      "object_fit": null,
      "object_position": null,
      "order": null,
      "overflow": null,
      "overflow_x": null,
      "overflow_y": null,
      "padding": null,
      "right": null,
      "top": null,
      "visibility": null,
      "width": null
     }
    },
    "a8326913be5746b698a5e868b0c71ba0": {
     "model_module": "@jupyter-widgets/base",
     "model_module_version": "1.2.0",
     "model_name": "LayoutModel",
     "state": {
      "_model_module": "@jupyter-widgets/base",
      "_model_module_version": "1.2.0",
      "_model_name": "LayoutModel",
      "_view_count": null,
      "_view_module": "@jupyter-widgets/base",
      "_view_module_version": "1.2.0",
      "_view_name": "LayoutView",
      "align_content": null,
      "align_items": null,
      "align_self": null,
      "border": null,
      "bottom": null,
      "display": null,
      "flex": null,
      "flex_flow": null,
      "grid_area": null,
      "grid_auto_columns": null,
      "grid_auto_flow": null,
      "grid_auto_rows": null,
      "grid_column": null,
      "grid_gap": null,
      "grid_row": null,
      "grid_template_areas": null,
      "grid_template_columns": null,
      "grid_template_rows": null,
      "height": null,
      "justify_content": null,
      "justify_items": null,
      "left": null,
      "margin": null,
      "max_height": null,
      "max_width": null,
      "min_height": null,
      "min_width": null,
      "object_fit": null,
      "object_position": null,
      "order": null,
      "overflow": null,
      "overflow_x": null,
      "overflow_y": null,
      "padding": null,
      "right": null,
      "top": null,
      "visibility": null,
      "width": null
     }
    },
    "aa37e319ea4f4bfebf67743f041a3c61": {
     "model_module": "@jupyter-widgets/controls",
     "model_module_version": "1.5.0",
     "model_name": "ButtonModel",
     "state": {
      "_dom_classes": [],
      "_model_module": "@jupyter-widgets/controls",
      "_model_module_version": "1.5.0",
      "_model_name": "ButtonModel",
      "_view_count": null,
      "_view_module": "@jupyter-widgets/controls",
      "_view_module_version": "1.5.0",
      "_view_name": "ButtonView",
      "button_style": "",
      "description": "Hide solution",
      "disabled": false,
      "icon": "",
      "layout": "IPY_MODEL_214b0b81e59148a2a2d380ad0a321ccf",
      "style": "IPY_MODEL_2c943865a49846918d96f0051f34ebb3",
      "tooltip": ""
     }
    },
    "acefa0b7bfd742bab2a697c743860529": {
     "model_module": "@jupyter-widgets/controls",
     "model_module_version": "1.5.0",
     "model_name": "ButtonModel",
     "state": {
      "_dom_classes": [],
      "_model_module": "@jupyter-widgets/controls",
      "_model_module_version": "1.5.0",
      "_model_name": "ButtonModel",
      "_view_count": null,
      "_view_module": "@jupyter-widgets/controls",
      "_view_module_version": "1.5.0",
      "_view_name": "ButtonView",
      "button_style": "",
      "description": "Hide solution",
      "disabled": false,
      "icon": "",
      "layout": "IPY_MODEL_853b72020a2e42bea8513d5939e765fc",
      "style": "IPY_MODEL_fc8e85ffed164da4a13ed5bbe69d4ae9",
      "tooltip": ""
     }
    },
    "ad35f469668146f7a4365cdbce438ba2": {
     "model_module": "@jupyter-widgets/base",
     "model_module_version": "1.2.0",
     "model_name": "LayoutModel",
     "state": {
      "_model_module": "@jupyter-widgets/base",
      "_model_module_version": "1.2.0",
      "_model_name": "LayoutModel",
      "_view_count": null,
      "_view_module": "@jupyter-widgets/base",
      "_view_module_version": "1.2.0",
      "_view_name": "LayoutView",
      "align_content": null,
      "align_items": null,
      "align_self": null,
      "border": null,
      "bottom": null,
      "display": null,
      "flex": null,
      "flex_flow": null,
      "grid_area": null,
      "grid_auto_columns": null,
      "grid_auto_flow": null,
      "grid_auto_rows": null,
      "grid_column": null,
      "grid_gap": null,
      "grid_row": null,
      "grid_template_areas": null,
      "grid_template_columns": null,
      "grid_template_rows": null,
      "height": null,
      "justify_content": null,
      "justify_items": null,
      "left": null,
      "margin": null,
      "max_height": null,
      "max_width": null,
      "min_height": null,
      "min_width": null,
      "object_fit": null,
      "object_position": null,
      "order": null,
      "overflow": null,
      "overflow_x": null,
      "overflow_y": null,
      "padding": null,
      "right": null,
      "top": null,
      "visibility": null,
      "width": null
     }
    },
    "aeff67eec0d64ce988f13ba64019e25e": {
     "model_module": "@jupyter-widgets/base",
     "model_module_version": "1.2.0",
     "model_name": "LayoutModel",
     "state": {
      "_model_module": "@jupyter-widgets/base",
      "_model_module_version": "1.2.0",
      "_model_name": "LayoutModel",
      "_view_count": null,
      "_view_module": "@jupyter-widgets/base",
      "_view_module_version": "1.2.0",
      "_view_name": "LayoutView",
      "align_content": null,
      "align_items": null,
      "align_self": null,
      "border": "1px solid green",
      "bottom": null,
      "display": null,
      "flex": null,
      "flex_flow": null,
      "grid_area": null,
      "grid_auto_columns": null,
      "grid_auto_flow": null,
      "grid_auto_rows": null,
      "grid_column": null,
      "grid_gap": null,
      "grid_row": null,
      "grid_template_areas": null,
      "grid_template_columns": null,
      "grid_template_rows": null,
      "height": null,
      "justify_content": null,
      "justify_items": null,
      "left": null,
      "margin": null,
      "max_height": null,
      "max_width": null,
      "min_height": null,
      "min_width": null,
      "object_fit": null,
      "object_position": null,
      "order": null,
      "overflow": null,
      "overflow_x": null,
      "overflow_y": null,
      "padding": null,
      "right": null,
      "top": null,
      "visibility": null,
      "width": null
     }
    },
    "b51378fc34264fe6b1bb49a462705122": {
     "model_module": "@jupyter-widgets/controls",
     "model_module_version": "1.5.0",
     "model_name": "ButtonModel",
     "state": {
      "_dom_classes": [],
      "_model_module": "@jupyter-widgets/controls",
      "_model_module_version": "1.5.0",
      "_model_name": "ButtonModel",
      "_view_count": null,
      "_view_module": "@jupyter-widgets/controls",
      "_view_module_version": "1.5.0",
      "_view_name": "ButtonView",
      "button_style": "",
      "description": "Hide solution",
      "disabled": false,
      "icon": "",
      "layout": "IPY_MODEL_ee947e89abc84e729d9f4523f0f71bb9",
      "style": "IPY_MODEL_4f2ca0a9b5634b40aff77de07045b765",
      "tooltip": ""
     }
    },
    "b7b94107efa242d7a773c5cbee86c6c8": {
     "model_module": "@jupyter-widgets/output",
     "model_module_version": "1.0.0",
     "model_name": "OutputModel",
     "state": {
      "_dom_classes": [],
      "_model_module": "@jupyter-widgets/output",
      "_model_module_version": "1.0.0",
      "_model_name": "OutputModel",
      "_view_count": null,
      "_view_module": "@jupyter-widgets/output",
      "_view_module_version": "1.0.0",
      "_view_name": "OutputView",
      "layout": "IPY_MODEL_fec68f1ebff94f8bbb1a2f356ab5bbf6",
      "msg_id": "",
      "outputs": [
       {
        "data": {
         "text/html": "<style>.output_html .hll { background-color: #ffffcc }\n.output_html  { background: #f8f8f8; }\n.output_html .c { color: #408080; font-style: italic } /* Comment */\n.output_html .err { border: 1px solid #FF0000 } /* Error */\n.output_html .k { color: #008000; font-weight: bold } /* Keyword */\n.output_html .o { color: #666666 } /* Operator */\n.output_html .ch { color: #408080; font-style: italic } /* Comment.Hashbang */\n.output_html .cm { color: #408080; font-style: italic } /* Comment.Multiline */\n.output_html .cp { color: #BC7A00 } /* Comment.Preproc */\n.output_html .cpf { color: #408080; font-style: italic } /* Comment.PreprocFile */\n.output_html .c1 { color: #408080; font-style: italic } /* Comment.Single */\n.output_html .cs { color: #408080; font-style: italic } /* Comment.Special */\n.output_html .gd { color: #A00000 } /* Generic.Deleted */\n.output_html .ge { font-style: italic } /* Generic.Emph */\n.output_html .gr { color: #FF0000 } /* Generic.Error */\n.output_html .gh { color: #000080; font-weight: bold } /* Generic.Heading */\n.output_html .gi { color: #00A000 } /* Generic.Inserted */\n.output_html .go { color: #888888 } /* Generic.Output */\n.output_html .gp { color: #000080; font-weight: bold } /* Generic.Prompt */\n.output_html .gs { font-weight: bold } /* Generic.Strong */\n.output_html .gu { color: #800080; font-weight: bold } /* Generic.Subheading */\n.output_html .gt { color: #0044DD } /* Generic.Traceback */\n.output_html .kc { color: #008000; font-weight: bold } /* Keyword.Constant */\n.output_html .kd { color: #008000; font-weight: bold } /* Keyword.Declaration */\n.output_html .kn { color: #008000; font-weight: bold } /* Keyword.Namespace */\n.output_html .kp { color: #008000 } /* Keyword.Pseudo */\n.output_html .kr { color: #008000; font-weight: bold } /* Keyword.Reserved */\n.output_html .kt { color: #B00040 } /* Keyword.Type */\n.output_html .m { color: #666666 } /* Literal.Number */\n.output_html .s { color: #BA2121 } /* Literal.String */\n.output_html .na { color: #7D9029 } /* Name.Attribute */\n.output_html .nb { color: #008000 } /* Name.Builtin */\n.output_html .nc { color: #0000FF; font-weight: bold } /* Name.Class */\n.output_html .no { color: #880000 } /* Name.Constant */\n.output_html .nd { color: #AA22FF } /* Name.Decorator */\n.output_html .ni { color: #999999; font-weight: bold } /* Name.Entity */\n.output_html .ne { color: #D2413A; font-weight: bold } /* Name.Exception */\n.output_html .nf { color: #0000FF } /* Name.Function */\n.output_html .nl { color: #A0A000 } /* Name.Label */\n.output_html .nn { color: #0000FF; font-weight: bold } /* Name.Namespace */\n.output_html .nt { color: #008000; font-weight: bold } /* Name.Tag */\n.output_html .nv { color: #19177C } /* Name.Variable */\n.output_html .ow { color: #AA22FF; font-weight: bold } /* Operator.Word */\n.output_html .w { color: #bbbbbb } /* Text.Whitespace */\n.output_html .mb { color: #666666 } /* Literal.Number.Bin */\n.output_html .mf { color: #666666 } /* Literal.Number.Float */\n.output_html .mh { color: #666666 } /* Literal.Number.Hex */\n.output_html .mi { color: #666666 } /* Literal.Number.Integer */\n.output_html .mo { color: #666666 } /* Literal.Number.Oct */\n.output_html .sa { color: #BA2121 } /* Literal.String.Affix */\n.output_html .sb { color: #BA2121 } /* Literal.String.Backtick */\n.output_html .sc { color: #BA2121 } /* Literal.String.Char */\n.output_html .dl { color: #BA2121 } /* Literal.String.Delimiter */\n.output_html .sd { color: #BA2121; font-style: italic } /* Literal.String.Doc */\n.output_html .s2 { color: #BA2121 } /* Literal.String.Double */\n.output_html .se { color: #BB6622; font-weight: bold } /* Literal.String.Escape */\n.output_html .sh { color: #BA2121 } /* Literal.String.Heredoc */\n.output_html .si { color: #BB6688; font-weight: bold } /* Literal.String.Interpol */\n.output_html .sx { color: #008000 } /* Literal.String.Other */\n.output_html .sr { color: #BB6688 } /* Literal.String.Regex */\n.output_html .s1 { color: #BA2121 } /* Literal.String.Single */\n.output_html .ss { color: #19177C } /* Literal.String.Symbol */\n.output_html .bp { color: #008000 } /* Name.Builtin.Pseudo */\n.output_html .fm { color: #0000FF } /* Name.Function.Magic */\n.output_html .vc { color: #19177C } /* Name.Variable.Class */\n.output_html .vg { color: #19177C } /* Name.Variable.Global */\n.output_html .vi { color: #19177C } /* Name.Variable.Instance */\n.output_html .vm { color: #19177C } /* Name.Variable.Magic */\n.output_html .il { color: #666666 } /* Literal.Number.Integer.Long */</style><div class=\"highlight\"><pre><span></span><span class=\"kn\">from</span> <span class=\"nn\">feature_engine.transformation</span> <span class=\"kn\">import</span> <span class=\"n\">LogTransformer</span>\n\n<span class=\"n\">not_skewed</span> <span class=\"o\">=</span> <span class=\"p\">[</span><span class=\"s2\">&quot;density&quot;</span><span class=\"p\">,</span> <span class=\"s2\">&quot;pH&quot;</span><span class=\"p\">,</span> <span class=\"s2\">&quot;quality&quot;</span><span class=\"p\">]</span>\n<span class=\"n\">skewed</span> <span class=\"o\">=</span> <span class=\"p\">[</span><span class=\"n\">variable</span> <span class=\"k\">for</span> <span class=\"n\">variable</span> <span class=\"ow\">in</span> <span class=\"nb\">list</span><span class=\"p\">(</span><span class=\"n\">X_train</span><span class=\"o\">.</span><span class=\"n\">columns</span><span class=\"p\">)</span> <span class=\"k\">if</span> <span class=\"n\">variable</span> <span class=\"ow\">not</span> <span class=\"ow\">in</span> <span class=\"n\">not_skewed</span><span class=\"p\">]</span>\n<span class=\"n\">lt</span> <span class=\"o\">=</span> <span class=\"n\">LogTransformer</span><span class=\"p\">(</span><span class=\"n\">variables</span> <span class=\"o\">=</span> <span class=\"n\">skewed</span><span class=\"p\">)</span>\n\n<span class=\"n\">train_lt</span> <span class=\"o\">=</span> <span class=\"n\">lt</span><span class=\"o\">.</span><span class=\"n\">fit_transform</span><span class=\"p\">(</span><span class=\"n\">X_train</span><span class=\"o\">+</span><span class=\"mi\">1</span><span class=\"p\">)</span> <span class=\"c1\"># to stop the 0 value error</span>\n\n<span class=\"k\">for</span> <span class=\"n\">variable</span> <span class=\"ow\">in</span> <span class=\"n\">skewed</span><span class=\"p\">:</span>\n    <span class=\"n\">diagnostic_plots</span><span class=\"p\">(</span><span class=\"n\">train_lt</span><span class=\"p\">,</span> <span class=\"n\">variable</span><span class=\"p\">)</span>\n</pre></div>\n",
         "text/latex": "\\begin{Verbatim}[commandchars=\\\\\\{\\}]\n\\PY{k+kn}{from} \\PY{n+nn}{feature\\PYZus{}engine}\\PY{n+nn}{.}\\PY{n+nn}{transformation} \\PY{k+kn}{import} \\PY{n}{LogTransformer}\n\n\\PY{n}{not\\PYZus{}skewed} \\PY{o}{=} \\PY{p}{[}\\PY{l+s+s2}{\\PYZdq{}}\\PY{l+s+s2}{density}\\PY{l+s+s2}{\\PYZdq{}}\\PY{p}{,} \\PY{l+s+s2}{\\PYZdq{}}\\PY{l+s+s2}{pH}\\PY{l+s+s2}{\\PYZdq{}}\\PY{p}{,} \\PY{l+s+s2}{\\PYZdq{}}\\PY{l+s+s2}{quality}\\PY{l+s+s2}{\\PYZdq{}}\\PY{p}{]}\n\\PY{n}{skewed} \\PY{o}{=} \\PY{p}{[}\\PY{n}{variable} \\PY{k}{for} \\PY{n}{variable} \\PY{o+ow}{in} \\PY{n+nb}{list}\\PY{p}{(}\\PY{n}{X\\PYZus{}train}\\PY{o}{.}\\PY{n}{columns}\\PY{p}{)} \\PY{k}{if} \\PY{n}{variable} \\PY{o+ow}{not} \\PY{o+ow}{in} \\PY{n}{not\\PYZus{}skewed}\\PY{p}{]}\n\\PY{n}{lt} \\PY{o}{=} \\PY{n}{LogTransformer}\\PY{p}{(}\\PY{n}{variables} \\PY{o}{=} \\PY{n}{skewed}\\PY{p}{)}\n\n\\PY{n}{train\\PYZus{}lt} \\PY{o}{=} \\PY{n}{lt}\\PY{o}{.}\\PY{n}{fit\\PYZus{}transform}\\PY{p}{(}\\PY{n}{X\\PYZus{}train}\\PY{o}{+}\\PY{l+m+mi}{1}\\PY{p}{)} \\PY{c+c1}{\\PYZsh{} to stop the 0 value error}\n\n\\PY{k}{for} \\PY{n}{variable} \\PY{o+ow}{in} \\PY{n}{skewed}\\PY{p}{:}\n    \\PY{n}{diagnostic\\PYZus{}plots}\\PY{p}{(}\\PY{n}{train\\PYZus{}lt}\\PY{p}{,} \\PY{n}{variable}\\PY{p}{)}\n\\end{Verbatim}\n",
         "text/plain": "from feature_engine.transformation import LogTransformer\n\nnot_skewed = [\"density\", \"pH\", \"quality\"]\nskewed = [variable for variable in list(X_train.columns) if variable not in not_skewed]\nlt = LogTransformer(variables = skewed)\n\ntrain_lt = lt.fit_transform(X_train+1) # to stop the 0 value error\n\nfor variable in skewed:\n    diagnostic_plots(train_lt, variable)"
        },
        "metadata": {},
        "output_type": "display_data"
       },
       {
        "data": {
         "text/markdown": "From the diagnositic plots above you can see that it has improved some features (e.g. `volatile acidity`) but not others. For the sake of this workshop, we're not going to worry too much about this.\n\nUsing the handy conversation function `sklearn.preprocessing.FunctionTransformer` and `np.log1p`, we can actually quite easily make a transformer that applies a log transformation to your data. \n",
         "text/plain": "<IPython.core.display.Markdown object>"
        },
        "metadata": {},
        "output_type": "display_data"
       },
       {
        "data": {
         "text/html": "<style>.output_html .hll { background-color: #ffffcc }\n.output_html  { background: #f8f8f8; }\n.output_html .c { color: #408080; font-style: italic } /* Comment */\n.output_html .err { border: 1px solid #FF0000 } /* Error */\n.output_html .k { color: #008000; font-weight: bold } /* Keyword */\n.output_html .o { color: #666666 } /* Operator */\n.output_html .ch { color: #408080; font-style: italic } /* Comment.Hashbang */\n.output_html .cm { color: #408080; font-style: italic } /* Comment.Multiline */\n.output_html .cp { color: #BC7A00 } /* Comment.Preproc */\n.output_html .cpf { color: #408080; font-style: italic } /* Comment.PreprocFile */\n.output_html .c1 { color: #408080; font-style: italic } /* Comment.Single */\n.output_html .cs { color: #408080; font-style: italic } /* Comment.Special */\n.output_html .gd { color: #A00000 } /* Generic.Deleted */\n.output_html .ge { font-style: italic } /* Generic.Emph */\n.output_html .gr { color: #FF0000 } /* Generic.Error */\n.output_html .gh { color: #000080; font-weight: bold } /* Generic.Heading */\n.output_html .gi { color: #00A000 } /* Generic.Inserted */\n.output_html .go { color: #888888 } /* Generic.Output */\n.output_html .gp { color: #000080; font-weight: bold } /* Generic.Prompt */\n.output_html .gs { font-weight: bold } /* Generic.Strong */\n.output_html .gu { color: #800080; font-weight: bold } /* Generic.Subheading */\n.output_html .gt { color: #0044DD } /* Generic.Traceback */\n.output_html .kc { color: #008000; font-weight: bold } /* Keyword.Constant */\n.output_html .kd { color: #008000; font-weight: bold } /* Keyword.Declaration */\n.output_html .kn { color: #008000; font-weight: bold } /* Keyword.Namespace */\n.output_html .kp { color: #008000 } /* Keyword.Pseudo */\n.output_html .kr { color: #008000; font-weight: bold } /* Keyword.Reserved */\n.output_html .kt { color: #B00040 } /* Keyword.Type */\n.output_html .m { color: #666666 } /* Literal.Number */\n.output_html .s { color: #BA2121 } /* Literal.String */\n.output_html .na { color: #7D9029 } /* Name.Attribute */\n.output_html .nb { color: #008000 } /* Name.Builtin */\n.output_html .nc { color: #0000FF; font-weight: bold } /* Name.Class */\n.output_html .no { color: #880000 } /* Name.Constant */\n.output_html .nd { color: #AA22FF } /* Name.Decorator */\n.output_html .ni { color: #999999; font-weight: bold } /* Name.Entity */\n.output_html .ne { color: #D2413A; font-weight: bold } /* Name.Exception */\n.output_html .nf { color: #0000FF } /* Name.Function */\n.output_html .nl { color: #A0A000 } /* Name.Label */\n.output_html .nn { color: #0000FF; font-weight: bold } /* Name.Namespace */\n.output_html .nt { color: #008000; font-weight: bold } /* Name.Tag */\n.output_html .nv { color: #19177C } /* Name.Variable */\n.output_html .ow { color: #AA22FF; font-weight: bold } /* Operator.Word */\n.output_html .w { color: #bbbbbb } /* Text.Whitespace */\n.output_html .mb { color: #666666 } /* Literal.Number.Bin */\n.output_html .mf { color: #666666 } /* Literal.Number.Float */\n.output_html .mh { color: #666666 } /* Literal.Number.Hex */\n.output_html .mi { color: #666666 } /* Literal.Number.Integer */\n.output_html .mo { color: #666666 } /* Literal.Number.Oct */\n.output_html .sa { color: #BA2121 } /* Literal.String.Affix */\n.output_html .sb { color: #BA2121 } /* Literal.String.Backtick */\n.output_html .sc { color: #BA2121 } /* Literal.String.Char */\n.output_html .dl { color: #BA2121 } /* Literal.String.Delimiter */\n.output_html .sd { color: #BA2121; font-style: italic } /* Literal.String.Doc */\n.output_html .s2 { color: #BA2121 } /* Literal.String.Double */\n.output_html .se { color: #BB6622; font-weight: bold } /* Literal.String.Escape */\n.output_html .sh { color: #BA2121 } /* Literal.String.Heredoc */\n.output_html .si { color: #BB6688; font-weight: bold } /* Literal.String.Interpol */\n.output_html .sx { color: #008000 } /* Literal.String.Other */\n.output_html .sr { color: #BB6688 } /* Literal.String.Regex */\n.output_html .s1 { color: #BA2121 } /* Literal.String.Single */\n.output_html .ss { color: #19177C } /* Literal.String.Symbol */\n.output_html .bp { color: #008000 } /* Name.Builtin.Pseudo */\n.output_html .fm { color: #0000FF } /* Name.Function.Magic */\n.output_html .vc { color: #19177C } /* Name.Variable.Class */\n.output_html .vg { color: #19177C } /* Name.Variable.Global */\n.output_html .vi { color: #19177C } /* Name.Variable.Instance */\n.output_html .vm { color: #19177C } /* Name.Variable.Magic */\n.output_html .il { color: #666666 } /* Literal.Number.Integer.Long */</style><div class=\"highlight\"><pre><span></span><span class=\"kn\">import</span> <span class=\"nn\">numpy</span> <span class=\"k\">as</span> <span class=\"nn\">np</span>\n<span class=\"kn\">from</span> <span class=\"nn\">sklearn.preprocessing</span> <span class=\"kn\">import</span> <span class=\"n\">FunctionTransformer</span>\n<span class=\"n\">Log1pTransformer</span> <span class=\"o\">=</span> <span class=\"n\">FunctionTransformer</span><span class=\"p\">(</span><span class=\"n\">np</span><span class=\"o\">.</span><span class=\"n\">log1p</span><span class=\"p\">)</span>\n</pre></div>\n",
         "text/latex": "\\begin{Verbatim}[commandchars=\\\\\\{\\}]\n\\PY{k+kn}{import} \\PY{n+nn}{numpy} \\PY{k}{as} \\PY{n+nn}{np}\n\\PY{k+kn}{from} \\PY{n+nn}{sklearn}\\PY{n+nn}{.}\\PY{n+nn}{preprocessing} \\PY{k+kn}{import} \\PY{n}{FunctionTransformer}\n\\PY{n}{Log1pTransformer} \\PY{o}{=} \\PY{n}{FunctionTransformer}\\PY{p}{(}\\PY{n}{np}\\PY{o}{.}\\PY{n}{log1p}\\PY{p}{)}\n\\end{Verbatim}\n",
         "text/plain": "import numpy as np\nfrom sklearn.preprocessing import FunctionTransformer\nLog1pTransformer = FunctionTransformer(np.log1p)"
        },
        "metadata": {},
        "output_type": "display_data"
       }
      ]
     }
    },
    "b7cce85de69a408492107a52a180dfc0": {
     "model_module": "@jupyter-widgets/base",
     "model_module_version": "1.2.0",
     "model_name": "LayoutModel",
     "state": {
      "_model_module": "@jupyter-widgets/base",
      "_model_module_version": "1.2.0",
      "_model_name": "LayoutModel",
      "_view_count": null,
      "_view_module": "@jupyter-widgets/base",
      "_view_module_version": "1.2.0",
      "_view_name": "LayoutView",
      "align_content": null,
      "align_items": null,
      "align_self": null,
      "border": null,
      "bottom": null,
      "display": null,
      "flex": null,
      "flex_flow": null,
      "grid_area": null,
      "grid_auto_columns": null,
      "grid_auto_flow": null,
      "grid_auto_rows": null,
      "grid_column": null,
      "grid_gap": null,
      "grid_row": null,
      "grid_template_areas": null,
      "grid_template_columns": null,
      "grid_template_rows": null,
      "height": null,
      "justify_content": null,
      "justify_items": null,
      "left": null,
      "margin": null,
      "max_height": null,
      "max_width": null,
      "min_height": null,
      "min_width": null,
      "object_fit": null,
      "object_position": null,
      "order": null,
      "overflow": null,
      "overflow_x": null,
      "overflow_y": null,
      "padding": null,
      "right": null,
      "top": null,
      "visibility": null,
      "width": null
     }
    },
    "c3c7685ceb3345e7be62915a0490624b": {
     "model_module": "@jupyter-widgets/controls",
     "model_module_version": "1.5.0",
     "model_name": "ButtonModel",
     "state": {
      "_dom_classes": [],
      "_model_module": "@jupyter-widgets/controls",
      "_model_module_version": "1.5.0",
      "_model_name": "ButtonModel",
      "_view_count": null,
      "_view_module": "@jupyter-widgets/controls",
      "_view_module_version": "1.5.0",
      "_view_name": "ButtonView",
      "button_style": "",
      "description": "Hide solution",
      "disabled": false,
      "icon": "",
      "layout": "IPY_MODEL_e667b04553124613aa6e44a0abbf8455",
      "style": "IPY_MODEL_539c345a614a4e06a64768eda9a67327",
      "tooltip": ""
     }
    },
    "c94b881f0fd24153af65950cda9104e2": {
     "model_module": "@jupyter-widgets/base",
     "model_module_version": "1.2.0",
     "model_name": "LayoutModel",
     "state": {
      "_model_module": "@jupyter-widgets/base",
      "_model_module_version": "1.2.0",
      "_model_name": "LayoutModel",
      "_view_count": null,
      "_view_module": "@jupyter-widgets/base",
      "_view_module_version": "1.2.0",
      "_view_name": "LayoutView",
      "align_content": null,
      "align_items": null,
      "align_self": null,
      "border": null,
      "bottom": null,
      "display": null,
      "flex": null,
      "flex_flow": null,
      "grid_area": null,
      "grid_auto_columns": null,
      "grid_auto_flow": null,
      "grid_auto_rows": null,
      "grid_column": null,
      "grid_gap": null,
      "grid_row": null,
      "grid_template_areas": null,
      "grid_template_columns": null,
      "grid_template_rows": null,
      "height": null,
      "justify_content": null,
      "justify_items": null,
      "left": null,
      "margin": null,
      "max_height": null,
      "max_width": null,
      "min_height": null,
      "min_width": null,
      "object_fit": null,
      "object_position": null,
      "order": null,
      "overflow": null,
      "overflow_x": null,
      "overflow_y": null,
      "padding": null,
      "right": null,
      "top": null,
      "visibility": null,
      "width": null
     }
    },
    "ca85765c4e4c4163af3560ae46ad1b4f": {
     "model_module": "@jupyter-widgets/base",
     "model_module_version": "1.2.0",
     "model_name": "LayoutModel",
     "state": {
      "_model_module": "@jupyter-widgets/base",
      "_model_module_version": "1.2.0",
      "_model_name": "LayoutModel",
      "_view_count": null,
      "_view_module": "@jupyter-widgets/base",
      "_view_module_version": "1.2.0",
      "_view_name": "LayoutView",
      "align_content": null,
      "align_items": null,
      "align_self": null,
      "border": "1px solid green",
      "bottom": null,
      "display": null,
      "flex": null,
      "flex_flow": null,
      "grid_area": null,
      "grid_auto_columns": null,
      "grid_auto_flow": null,
      "grid_auto_rows": null,
      "grid_column": null,
      "grid_gap": null,
      "grid_row": null,
      "grid_template_areas": null,
      "grid_template_columns": null,
      "grid_template_rows": null,
      "height": null,
      "justify_content": null,
      "justify_items": null,
      "left": null,
      "margin": null,
      "max_height": null,
      "max_width": null,
      "min_height": null,
      "min_width": null,
      "object_fit": null,
      "object_position": null,
      "order": null,
      "overflow": null,
      "overflow_x": null,
      "overflow_y": null,
      "padding": null,
      "right": null,
      "top": null,
      "visibility": null,
      "width": null
     }
    },
    "cae430c6f61649a0acf8c4ec47ede35a": {
     "model_module": "@jupyter-widgets/controls",
     "model_module_version": "1.5.0",
     "model_name": "ButtonStyleModel",
     "state": {
      "_model_module": "@jupyter-widgets/controls",
      "_model_module_version": "1.5.0",
      "_model_name": "ButtonStyleModel",
      "_view_count": null,
      "_view_module": "@jupyter-widgets/base",
      "_view_module_version": "1.2.0",
      "_view_name": "StyleView",
      "button_color": null,
      "font_weight": ""
     }
    },
    "cda874dcb4d440b6925cdf1620de8f3a": {
     "model_module": "@jupyter-widgets/output",
     "model_module_version": "1.0.0",
     "model_name": "OutputModel",
     "state": {
      "_dom_classes": [],
      "_model_module": "@jupyter-widgets/output",
      "_model_module_version": "1.0.0",
      "_model_name": "OutputModel",
      "_view_count": null,
      "_view_module": "@jupyter-widgets/output",
      "_view_module_version": "1.0.0",
      "_view_name": "OutputView",
      "layout": "IPY_MODEL_d6d4cd072ec4443798e521153ef5e626",
      "msg_id": "",
      "outputs": [
       {
        "data": {
         "text/html": "<style>.output_html .hll { background-color: #ffffcc }\n.output_html  { background: #f8f8f8; }\n.output_html .c { color: #408080; font-style: italic } /* Comment */\n.output_html .err { border: 1px solid #FF0000 } /* Error */\n.output_html .k { color: #008000; font-weight: bold } /* Keyword */\n.output_html .o { color: #666666 } /* Operator */\n.output_html .ch { color: #408080; font-style: italic } /* Comment.Hashbang */\n.output_html .cm { color: #408080; font-style: italic } /* Comment.Multiline */\n.output_html .cp { color: #BC7A00 } /* Comment.Preproc */\n.output_html .cpf { color: #408080; font-style: italic } /* Comment.PreprocFile */\n.output_html .c1 { color: #408080; font-style: italic } /* Comment.Single */\n.output_html .cs { color: #408080; font-style: italic } /* Comment.Special */\n.output_html .gd { color: #A00000 } /* Generic.Deleted */\n.output_html .ge { font-style: italic } /* Generic.Emph */\n.output_html .gr { color: #FF0000 } /* Generic.Error */\n.output_html .gh { color: #000080; font-weight: bold } /* Generic.Heading */\n.output_html .gi { color: #00A000 } /* Generic.Inserted */\n.output_html .go { color: #888888 } /* Generic.Output */\n.output_html .gp { color: #000080; font-weight: bold } /* Generic.Prompt */\n.output_html .gs { font-weight: bold } /* Generic.Strong */\n.output_html .gu { color: #800080; font-weight: bold } /* Generic.Subheading */\n.output_html .gt { color: #0044DD } /* Generic.Traceback */\n.output_html .kc { color: #008000; font-weight: bold } /* Keyword.Constant */\n.output_html .kd { color: #008000; font-weight: bold } /* Keyword.Declaration */\n.output_html .kn { color: #008000; font-weight: bold } /* Keyword.Namespace */\n.output_html .kp { color: #008000 } /* Keyword.Pseudo */\n.output_html .kr { color: #008000; font-weight: bold } /* Keyword.Reserved */\n.output_html .kt { color: #B00040 } /* Keyword.Type */\n.output_html .m { color: #666666 } /* Literal.Number */\n.output_html .s { color: #BA2121 } /* Literal.String */\n.output_html .na { color: #7D9029 } /* Name.Attribute */\n.output_html .nb { color: #008000 } /* Name.Builtin */\n.output_html .nc { color: #0000FF; font-weight: bold } /* Name.Class */\n.output_html .no { color: #880000 } /* Name.Constant */\n.output_html .nd { color: #AA22FF } /* Name.Decorator */\n.output_html .ni { color: #999999; font-weight: bold } /* Name.Entity */\n.output_html .ne { color: #D2413A; font-weight: bold } /* Name.Exception */\n.output_html .nf { color: #0000FF } /* Name.Function */\n.output_html .nl { color: #A0A000 } /* Name.Label */\n.output_html .nn { color: #0000FF; font-weight: bold } /* Name.Namespace */\n.output_html .nt { color: #008000; font-weight: bold } /* Name.Tag */\n.output_html .nv { color: #19177C } /* Name.Variable */\n.output_html .ow { color: #AA22FF; font-weight: bold } /* Operator.Word */\n.output_html .w { color: #bbbbbb } /* Text.Whitespace */\n.output_html .mb { color: #666666 } /* Literal.Number.Bin */\n.output_html .mf { color: #666666 } /* Literal.Number.Float */\n.output_html .mh { color: #666666 } /* Literal.Number.Hex */\n.output_html .mi { color: #666666 } /* Literal.Number.Integer */\n.output_html .mo { color: #666666 } /* Literal.Number.Oct */\n.output_html .sa { color: #BA2121 } /* Literal.String.Affix */\n.output_html .sb { color: #BA2121 } /* Literal.String.Backtick */\n.output_html .sc { color: #BA2121 } /* Literal.String.Char */\n.output_html .dl { color: #BA2121 } /* Literal.String.Delimiter */\n.output_html .sd { color: #BA2121; font-style: italic } /* Literal.String.Doc */\n.output_html .s2 { color: #BA2121 } /* Literal.String.Double */\n.output_html .se { color: #BB6622; font-weight: bold } /* Literal.String.Escape */\n.output_html .sh { color: #BA2121 } /* Literal.String.Heredoc */\n.output_html .si { color: #BB6688; font-weight: bold } /* Literal.String.Interpol */\n.output_html .sx { color: #008000 } /* Literal.String.Other */\n.output_html .sr { color: #BB6688 } /* Literal.String.Regex */\n.output_html .s1 { color: #BA2121 } /* Literal.String.Single */\n.output_html .ss { color: #19177C } /* Literal.String.Symbol */\n.output_html .bp { color: #008000 } /* Name.Builtin.Pseudo */\n.output_html .fm { color: #0000FF } /* Name.Function.Magic */\n.output_html .vc { color: #19177C } /* Name.Variable.Class */\n.output_html .vg { color: #19177C } /* Name.Variable.Global */\n.output_html .vi { color: #19177C } /* Name.Variable.Instance */\n.output_html .vm { color: #19177C } /* Name.Variable.Magic */\n.output_html .il { color: #666666 } /* Literal.Number.Integer.Long */</style><div class=\"highlight\"><pre><span></span><span class=\"kn\">from</span> <span class=\"nn\">sklearn.dummy</span> <span class=\"kn\">import</span> <span class=\"n\">DummyRegressor</span>\n\n<span class=\"n\">dummy</span> <span class=\"o\">=</span> <span class=\"n\">DummyRegressor</span><span class=\"p\">()</span>\n<span class=\"n\">dummy</span><span class=\"o\">.</span><span class=\"n\">fit</span><span class=\"p\">(</span><span class=\"n\">X_train</span><span class=\"p\">,</span> <span class=\"n\">y_train</span><span class=\"p\">)</span>\n\n<span class=\"nb\">print</span><span class=\"p\">(</span><span class=\"s2\">&quot;Training Score&quot;</span><span class=\"p\">)</span>\n<span class=\"nb\">print</span><span class=\"p\">(</span><span class=\"nb\">round</span><span class=\"p\">(</span><span class=\"n\">dummy</span><span class=\"o\">.</span><span class=\"n\">score</span><span class=\"p\">(</span><span class=\"n\">X_train</span><span class=\"p\">,</span> <span class=\"n\">y_train</span><span class=\"p\">),</span> <span class=\"mi\">3</span><span class=\"p\">))</span>\n<span class=\"nb\">print</span><span class=\"p\">(</span><span class=\"s2\">&quot;Validation Score&quot;</span><span class=\"p\">)</span>\n<span class=\"nb\">print</span><span class=\"p\">(</span><span class=\"nb\">round</span><span class=\"p\">(</span><span class=\"n\">dummy</span><span class=\"o\">.</span><span class=\"n\">score</span><span class=\"p\">(</span><span class=\"n\">X_val</span><span class=\"p\">,</span> <span class=\"n\">y_val</span><span class=\"p\">),</span> <span class=\"mi\">3</span><span class=\"p\">))</span>\n</pre></div>\n",
         "text/latex": "\\begin{Verbatim}[commandchars=\\\\\\{\\}]\n\\PY{k+kn}{from} \\PY{n+nn}{sklearn}\\PY{n+nn}{.}\\PY{n+nn}{dummy} \\PY{k+kn}{import} \\PY{n}{DummyRegressor}\n\n\\PY{n}{dummy} \\PY{o}{=} \\PY{n}{DummyRegressor}\\PY{p}{(}\\PY{p}{)}\n\\PY{n}{dummy}\\PY{o}{.}\\PY{n}{fit}\\PY{p}{(}\\PY{n}{X\\PYZus{}train}\\PY{p}{,} \\PY{n}{y\\PYZus{}train}\\PY{p}{)}\n\n\\PY{n+nb}{print}\\PY{p}{(}\\PY{l+s+s2}{\\PYZdq{}}\\PY{l+s+s2}{Training Score}\\PY{l+s+s2}{\\PYZdq{}}\\PY{p}{)}\n\\PY{n+nb}{print}\\PY{p}{(}\\PY{n+nb}{round}\\PY{p}{(}\\PY{n}{dummy}\\PY{o}{.}\\PY{n}{score}\\PY{p}{(}\\PY{n}{X\\PYZus{}train}\\PY{p}{,} \\PY{n}{y\\PYZus{}train}\\PY{p}{)}\\PY{p}{,} \\PY{l+m+mi}{3}\\PY{p}{)}\\PY{p}{)}\n\\PY{n+nb}{print}\\PY{p}{(}\\PY{l+s+s2}{\\PYZdq{}}\\PY{l+s+s2}{Validation Score}\\PY{l+s+s2}{\\PYZdq{}}\\PY{p}{)}\n\\PY{n+nb}{print}\\PY{p}{(}\\PY{n+nb}{round}\\PY{p}{(}\\PY{n}{dummy}\\PY{o}{.}\\PY{n}{score}\\PY{p}{(}\\PY{n}{X\\PYZus{}val}\\PY{p}{,} \\PY{n}{y\\PYZus{}val}\\PY{p}{)}\\PY{p}{,} \\PY{l+m+mi}{3}\\PY{p}{)}\\PY{p}{)}\n\\end{Verbatim}\n",
         "text/plain": "from sklearn.dummy import DummyRegressor\n\ndummy = DummyRegressor()\ndummy.fit(X_train, y_train)\n\nprint(\"Training Score\")\nprint(round(dummy.score(X_train, y_train), 3))\nprint(\"Validation Score\")\nprint(round(dummy.score(X_val, y_val), 3))"
        },
        "metadata": {},
        "output_type": "display_data"
       },
       {
        "data": {
         "text/markdown": "The dummy model that just predicts the mean would have a $R^2$ of 0 on the training set. This because $R^2$ is effectively just measuring how good the model is compared to a horizontal line, and that is all the dummy model is doing here with the data mean.\n\nThe validation score is a minus because, for this data, the mean of the training set is not as good a measure of the data variance as the mean of the validation set.\n",
         "text/plain": "<IPython.core.display.Markdown object>"
        },
        "metadata": {},
        "output_type": "display_data"
       }
      ]
     }
    },
    "d0a186e8051c421e849cb19b1936f477": {
     "model_module": "@jupyter-widgets/base",
     "model_module_version": "1.2.0",
     "model_name": "LayoutModel",
     "state": {
      "_model_module": "@jupyter-widgets/base",
      "_model_module_version": "1.2.0",
      "_model_name": "LayoutModel",
      "_view_count": null,
      "_view_module": "@jupyter-widgets/base",
      "_view_module_version": "1.2.0",
      "_view_name": "LayoutView",
      "align_content": null,
      "align_items": null,
      "align_self": null,
      "border": null,
      "bottom": null,
      "display": null,
      "flex": null,
      "flex_flow": null,
      "grid_area": null,
      "grid_auto_columns": null,
      "grid_auto_flow": null,
      "grid_auto_rows": null,
      "grid_column": null,
      "grid_gap": null,
      "grid_row": null,
      "grid_template_areas": null,
      "grid_template_columns": null,
      "grid_template_rows": null,
      "height": null,
      "justify_content": null,
      "justify_items": null,
      "left": null,
      "margin": null,
      "max_height": null,
      "max_width": null,
      "min_height": null,
      "min_width": null,
      "object_fit": null,
      "object_position": null,
      "order": null,
      "overflow": null,
      "overflow_x": null,
      "overflow_y": null,
      "padding": null,
      "right": null,
      "top": null,
      "visibility": null,
      "width": null
     }
    },
    "d6d4cd072ec4443798e521153ef5e626": {
     "model_module": "@jupyter-widgets/base",
     "model_module_version": "1.2.0",
     "model_name": "LayoutModel",
     "state": {
      "_model_module": "@jupyter-widgets/base",
      "_model_module_version": "1.2.0",
      "_model_name": "LayoutModel",
      "_view_count": null,
      "_view_module": "@jupyter-widgets/base",
      "_view_module_version": "1.2.0",
      "_view_name": "LayoutView",
      "align_content": null,
      "align_items": null,
      "align_self": null,
      "border": "1px solid green",
      "bottom": null,
      "display": null,
      "flex": null,
      "flex_flow": null,
      "grid_area": null,
      "grid_auto_columns": null,
      "grid_auto_flow": null,
      "grid_auto_rows": null,
      "grid_column": null,
      "grid_gap": null,
      "grid_row": null,
      "grid_template_areas": null,
      "grid_template_columns": null,
      "grid_template_rows": null,
      "height": null,
      "justify_content": null,
      "justify_items": null,
      "left": null,
      "margin": null,
      "max_height": null,
      "max_width": null,
      "min_height": null,
      "min_width": null,
      "object_fit": null,
      "object_position": null,
      "order": null,
      "overflow": null,
      "overflow_x": null,
      "overflow_y": null,
      "padding": null,
      "right": null,
      "top": null,
      "visibility": null,
      "width": null
     }
    },
    "dc452c648370462f92df63859426afb8": {
     "model_module": "@jupyter-widgets/controls",
     "model_module_version": "1.5.0",
     "model_name": "ButtonModel",
     "state": {
      "_dom_classes": [],
      "_model_module": "@jupyter-widgets/controls",
      "_model_module_version": "1.5.0",
      "_model_name": "ButtonModel",
      "_view_count": null,
      "_view_module": "@jupyter-widgets/controls",
      "_view_module_version": "1.5.0",
      "_view_name": "ButtonView",
      "button_style": "",
      "description": "Hide solution",
      "disabled": false,
      "icon": "",
      "layout": "IPY_MODEL_8647b60f08774b9baf2dfc01754702b8",
      "style": "IPY_MODEL_16f393ea4b3d474e9ecdc70b1297317a",
      "tooltip": ""
     }
    },
    "dd57abe04e5f494fbdb0416942ba5fe8": {
     "model_module": "@jupyter-widgets/controls",
     "model_module_version": "1.5.0",
     "model_name": "ButtonModel",
     "state": {
      "_dom_classes": [],
      "_model_module": "@jupyter-widgets/controls",
      "_model_module_version": "1.5.0",
      "_model_name": "ButtonModel",
      "_view_count": null,
      "_view_module": "@jupyter-widgets/controls",
      "_view_module_version": "1.5.0",
      "_view_name": "ButtonView",
      "button_style": "",
      "description": "Hide solution",
      "disabled": false,
      "icon": "",
      "layout": "IPY_MODEL_8fe91e1d8c9c429a8cb1559e36071f67",
      "style": "IPY_MODEL_9a17fb5e1330403989d4ea461f535d56",
      "tooltip": ""
     }
    },
    "e13e9db983e54e688b8b6ea6829f38b2": {
     "model_module": "@jupyter-widgets/controls",
     "model_module_version": "1.5.0",
     "model_name": "ButtonModel",
     "state": {
      "_dom_classes": [],
      "_model_module": "@jupyter-widgets/controls",
      "_model_module_version": "1.5.0",
      "_model_name": "ButtonModel",
      "_view_count": null,
      "_view_module": "@jupyter-widgets/controls",
      "_view_module_version": "1.5.0",
      "_view_name": "ButtonView",
      "button_style": "",
      "description": "Hide solution",
      "disabled": false,
      "icon": "",
      "layout": "IPY_MODEL_314027c6d04644efa55653210b613841",
      "style": "IPY_MODEL_600e139bef2744f0963eb927a60923e1",
      "tooltip": ""
     }
    },
    "e16427d676d044478ee67d0a61f90c97": {
     "model_module": "@jupyter-widgets/base",
     "model_module_version": "1.2.0",
     "model_name": "LayoutModel",
     "state": {
      "_model_module": "@jupyter-widgets/base",
      "_model_module_version": "1.2.0",
      "_model_name": "LayoutModel",
      "_view_count": null,
      "_view_module": "@jupyter-widgets/base",
      "_view_module_version": "1.2.0",
      "_view_name": "LayoutView",
      "align_content": null,
      "align_items": null,
      "align_self": null,
      "border": "1px solid green",
      "bottom": null,
      "display": null,
      "flex": null,
      "flex_flow": null,
      "grid_area": null,
      "grid_auto_columns": null,
      "grid_auto_flow": null,
      "grid_auto_rows": null,
      "grid_column": null,
      "grid_gap": null,
      "grid_row": null,
      "grid_template_areas": null,
      "grid_template_columns": null,
      "grid_template_rows": null,
      "height": null,
      "justify_content": null,
      "justify_items": null,
      "left": null,
      "margin": null,
      "max_height": null,
      "max_width": null,
      "min_height": null,
      "min_width": null,
      "object_fit": null,
      "object_position": null,
      "order": null,
      "overflow": null,
      "overflow_x": null,
      "overflow_y": null,
      "padding": null,
      "right": null,
      "top": null,
      "visibility": null,
      "width": null
     }
    },
    "e3bcb68eb5a944d2842d9b1a3609074a": {
     "model_module": "@jupyter-widgets/base",
     "model_module_version": "1.2.0",
     "model_name": "LayoutModel",
     "state": {
      "_model_module": "@jupyter-widgets/base",
      "_model_module_version": "1.2.0",
      "_model_name": "LayoutModel",
      "_view_count": null,
      "_view_module": "@jupyter-widgets/base",
      "_view_module_version": "1.2.0",
      "_view_name": "LayoutView",
      "align_content": null,
      "align_items": null,
      "align_self": null,
      "border": "1px solid green",
      "bottom": null,
      "display": null,
      "flex": null,
      "flex_flow": null,
      "grid_area": null,
      "grid_auto_columns": null,
      "grid_auto_flow": null,
      "grid_auto_rows": null,
      "grid_column": null,
      "grid_gap": null,
      "grid_row": null,
      "grid_template_areas": null,
      "grid_template_columns": null,
      "grid_template_rows": null,
      "height": null,
      "justify_content": null,
      "justify_items": null,
      "left": null,
      "margin": null,
      "max_height": null,
      "max_width": null,
      "min_height": null,
      "min_width": null,
      "object_fit": null,
      "object_position": null,
      "order": null,
      "overflow": null,
      "overflow_x": null,
      "overflow_y": null,
      "padding": null,
      "right": null,
      "top": null,
      "visibility": null,
      "width": null
     }
    },
    "e667b04553124613aa6e44a0abbf8455": {
     "model_module": "@jupyter-widgets/base",
     "model_module_version": "1.2.0",
     "model_name": "LayoutModel",
     "state": {
      "_model_module": "@jupyter-widgets/base",
      "_model_module_version": "1.2.0",
      "_model_name": "LayoutModel",
      "_view_count": null,
      "_view_module": "@jupyter-widgets/base",
      "_view_module_version": "1.2.0",
      "_view_name": "LayoutView",
      "align_content": null,
      "align_items": null,
      "align_self": null,
      "border": null,
      "bottom": null,
      "display": null,
      "flex": null,
      "flex_flow": null,
      "grid_area": null,
      "grid_auto_columns": null,
      "grid_auto_flow": null,
      "grid_auto_rows": null,
      "grid_column": null,
      "grid_gap": null,
      "grid_row": null,
      "grid_template_areas": null,
      "grid_template_columns": null,
      "grid_template_rows": null,
      "height": null,
      "justify_content": null,
      "justify_items": null,
      "left": null,
      "margin": null,
      "max_height": null,
      "max_width": null,
      "min_height": null,
      "min_width": null,
      "object_fit": null,
      "object_position": null,
      "order": null,
      "overflow": null,
      "overflow_x": null,
      "overflow_y": null,
      "padding": null,
      "right": null,
      "top": null,
      "visibility": null,
      "width": null
     }
    },
    "e9d8330a2884444097216faaa13358f0": {
     "model_module": "@jupyter-widgets/controls",
     "model_module_version": "1.5.0",
     "model_name": "ButtonModel",
     "state": {
      "_dom_classes": [],
      "_model_module": "@jupyter-widgets/controls",
      "_model_module_version": "1.5.0",
      "_model_name": "ButtonModel",
      "_view_count": null,
      "_view_module": "@jupyter-widgets/controls",
      "_view_module_version": "1.5.0",
      "_view_name": "ButtonView",
      "button_style": "",
      "description": "Hide solution",
      "disabled": false,
      "icon": "",
      "layout": "IPY_MODEL_36a214d86fcf4a8c8689df4232d45216",
      "style": "IPY_MODEL_9c4c0dfbf47d4ee5a4fe9a2678ec6b6d",
      "tooltip": ""
     }
    },
    "ebd4fd058e2c4f1e82a530297ec5da51": {
     "model_module": "@jupyter-widgets/controls",
     "model_module_version": "1.5.0",
     "model_name": "ButtonStyleModel",
     "state": {
      "_model_module": "@jupyter-widgets/controls",
      "_model_module_version": "1.5.0",
      "_model_name": "ButtonStyleModel",
      "_view_count": null,
      "_view_module": "@jupyter-widgets/base",
      "_view_module_version": "1.2.0",
      "_view_name": "StyleView",
      "button_color": null,
      "font_weight": ""
     }
    },
    "ee36baa19ee44796812fb81c5ecde22a": {
     "model_module": "@jupyter-widgets/output",
     "model_module_version": "1.0.0",
     "model_name": "OutputModel",
     "state": {
      "_dom_classes": [],
      "_model_module": "@jupyter-widgets/output",
      "_model_module_version": "1.0.0",
      "_model_name": "OutputModel",
      "_view_count": null,
      "_view_module": "@jupyter-widgets/output",
      "_view_module_version": "1.0.0",
      "_view_name": "OutputView",
      "layout": "IPY_MODEL_fcb1daf0a58e4d91b8c31d97a373082b",
      "msg_id": "",
      "outputs": [
       {
        "data": {
         "text/html": "<style>.output_html .hll { background-color: #ffffcc }\n.output_html  { background: #f8f8f8; }\n.output_html .c { color: #408080; font-style: italic } /* Comment */\n.output_html .err { border: 1px solid #FF0000 } /* Error */\n.output_html .k { color: #008000; font-weight: bold } /* Keyword */\n.output_html .o { color: #666666 } /* Operator */\n.output_html .ch { color: #408080; font-style: italic } /* Comment.Hashbang */\n.output_html .cm { color: #408080; font-style: italic } /* Comment.Multiline */\n.output_html .cp { color: #BC7A00 } /* Comment.Preproc */\n.output_html .cpf { color: #408080; font-style: italic } /* Comment.PreprocFile */\n.output_html .c1 { color: #408080; font-style: italic } /* Comment.Single */\n.output_html .cs { color: #408080; font-style: italic } /* Comment.Special */\n.output_html .gd { color: #A00000 } /* Generic.Deleted */\n.output_html .ge { font-style: italic } /* Generic.Emph */\n.output_html .gr { color: #FF0000 } /* Generic.Error */\n.output_html .gh { color: #000080; font-weight: bold } /* Generic.Heading */\n.output_html .gi { color: #00A000 } /* Generic.Inserted */\n.output_html .go { color: #888888 } /* Generic.Output */\n.output_html .gp { color: #000080; font-weight: bold } /* Generic.Prompt */\n.output_html .gs { font-weight: bold } /* Generic.Strong */\n.output_html .gu { color: #800080; font-weight: bold } /* Generic.Subheading */\n.output_html .gt { color: #0044DD } /* Generic.Traceback */\n.output_html .kc { color: #008000; font-weight: bold } /* Keyword.Constant */\n.output_html .kd { color: #008000; font-weight: bold } /* Keyword.Declaration */\n.output_html .kn { color: #008000; font-weight: bold } /* Keyword.Namespace */\n.output_html .kp { color: #008000 } /* Keyword.Pseudo */\n.output_html .kr { color: #008000; font-weight: bold } /* Keyword.Reserved */\n.output_html .kt { color: #B00040 } /* Keyword.Type */\n.output_html .m { color: #666666 } /* Literal.Number */\n.output_html .s { color: #BA2121 } /* Literal.String */\n.output_html .na { color: #7D9029 } /* Name.Attribute */\n.output_html .nb { color: #008000 } /* Name.Builtin */\n.output_html .nc { color: #0000FF; font-weight: bold } /* Name.Class */\n.output_html .no { color: #880000 } /* Name.Constant */\n.output_html .nd { color: #AA22FF } /* Name.Decorator */\n.output_html .ni { color: #999999; font-weight: bold } /* Name.Entity */\n.output_html .ne { color: #D2413A; font-weight: bold } /* Name.Exception */\n.output_html .nf { color: #0000FF } /* Name.Function */\n.output_html .nl { color: #A0A000 } /* Name.Label */\n.output_html .nn { color: #0000FF; font-weight: bold } /* Name.Namespace */\n.output_html .nt { color: #008000; font-weight: bold } /* Name.Tag */\n.output_html .nv { color: #19177C } /* Name.Variable */\n.output_html .ow { color: #AA22FF; font-weight: bold } /* Operator.Word */\n.output_html .w { color: #bbbbbb } /* Text.Whitespace */\n.output_html .mb { color: #666666 } /* Literal.Number.Bin */\n.output_html .mf { color: #666666 } /* Literal.Number.Float */\n.output_html .mh { color: #666666 } /* Literal.Number.Hex */\n.output_html .mi { color: #666666 } /* Literal.Number.Integer */\n.output_html .mo { color: #666666 } /* Literal.Number.Oct */\n.output_html .sa { color: #BA2121 } /* Literal.String.Affix */\n.output_html .sb { color: #BA2121 } /* Literal.String.Backtick */\n.output_html .sc { color: #BA2121 } /* Literal.String.Char */\n.output_html .dl { color: #BA2121 } /* Literal.String.Delimiter */\n.output_html .sd { color: #BA2121; font-style: italic } /* Literal.String.Doc */\n.output_html .s2 { color: #BA2121 } /* Literal.String.Double */\n.output_html .se { color: #BB6622; font-weight: bold } /* Literal.String.Escape */\n.output_html .sh { color: #BA2121 } /* Literal.String.Heredoc */\n.output_html .si { color: #BB6688; font-weight: bold } /* Literal.String.Interpol */\n.output_html .sx { color: #008000 } /* Literal.String.Other */\n.output_html .sr { color: #BB6688 } /* Literal.String.Regex */\n.output_html .s1 { color: #BA2121 } /* Literal.String.Single */\n.output_html .ss { color: #19177C } /* Literal.String.Symbol */\n.output_html .bp { color: #008000 } /* Name.Builtin.Pseudo */\n.output_html .fm { color: #0000FF } /* Name.Function.Magic */\n.output_html .vc { color: #19177C } /* Name.Variable.Class */\n.output_html .vg { color: #19177C } /* Name.Variable.Global */\n.output_html .vi { color: #19177C } /* Name.Variable.Instance */\n.output_html .vm { color: #19177C } /* Name.Variable.Magic */\n.output_html .il { color: #666666 } /* Literal.Number.Integer.Long */</style><div class=\"highlight\"><pre><span></span><span class=\"n\">sns</span><span class=\"o\">.</span><span class=\"n\">heatmap</span><span class=\"p\">(</span><span class=\"n\">X_train</span><span class=\"o\">.</span><span class=\"n\">corr</span><span class=\"p\">(),</span> <span class=\"n\">annot</span><span class=\"o\">=</span><span class=\"kc\">True</span><span class=\"p\">,</span> <span class=\"n\">fmt</span><span class=\"o\">=</span><span class=\"s1\">&#39;.2f&#39;</span><span class=\"p\">,</span> <span class=\"n\">linewidths</span><span class=\"o\">=</span><span class=\"mi\">2</span><span class=\"p\">)</span>\n<span class=\"n\">plt</span><span class=\"o\">.</span><span class=\"n\">title</span><span class=\"p\">(</span><span class=\"s2\">&quot;Figure 2. Correlation Heatmap&quot;</span><span class=\"p\">)</span>\n<span class=\"n\">plt</span><span class=\"o\">.</span><span class=\"n\">show</span><span class=\"p\">()</span>\n</pre></div>\n",
         "text/latex": "\\begin{Verbatim}[commandchars=\\\\\\{\\}]\n\\PY{n}{sns}\\PY{o}{.}\\PY{n}{heatmap}\\PY{p}{(}\\PY{n}{X\\PYZus{}train}\\PY{o}{.}\\PY{n}{corr}\\PY{p}{(}\\PY{p}{)}\\PY{p}{,} \\PY{n}{annot}\\PY{o}{=}\\PY{k+kc}{True}\\PY{p}{,} \\PY{n}{fmt}\\PY{o}{=}\\PY{l+s+s1}{\\PYZsq{}}\\PY{l+s+s1}{.2f}\\PY{l+s+s1}{\\PYZsq{}}\\PY{p}{,} \\PY{n}{linewidths}\\PY{o}{=}\\PY{l+m+mi}{2}\\PY{p}{)}\n\\PY{n}{plt}\\PY{o}{.}\\PY{n}{title}\\PY{p}{(}\\PY{l+s+s2}{\\PYZdq{}}\\PY{l+s+s2}{Figure 2. Correlation Heatmap}\\PY{l+s+s2}{\\PYZdq{}}\\PY{p}{)}\n\\PY{n}{plt}\\PY{o}{.}\\PY{n}{show}\\PY{p}{(}\\PY{p}{)}\n\\end{Verbatim}\n",
         "text/plain": "sns.heatmap(X_train.corr(), annot=True, fmt='.2f', linewidths=2)\nplt.title(\"Figure 2. Correlation Heatmap\")\nplt.show()"
        },
        "metadata": {},
        "output_type": "display_data"
       },
       {
        "data": {
         "text/markdown": "From figure 2 we can see:\n- A strong positive (>0.5) correlation between fixed acidity and citric acid/density.\n- A strong negative (<-0.5) correlation of pH with acidity and citric acid. \n- A strong negative correlation of volatile acidity with citric acid. \n- A strong negative correlation between alcohol percentage and density.\n\nThere are also several moderate to low correlations present in the data as well.\n",
         "text/plain": "<IPython.core.display.Markdown object>"
        },
        "metadata": {},
        "output_type": "display_data"
       }
      ]
     }
    },
    "ee947e89abc84e729d9f4523f0f71bb9": {
     "model_module": "@jupyter-widgets/base",
     "model_module_version": "1.2.0",
     "model_name": "LayoutModel",
     "state": {
      "_model_module": "@jupyter-widgets/base",
      "_model_module_version": "1.2.0",
      "_model_name": "LayoutModel",
      "_view_count": null,
      "_view_module": "@jupyter-widgets/base",
      "_view_module_version": "1.2.0",
      "_view_name": "LayoutView",
      "align_content": null,
      "align_items": null,
      "align_self": null,
      "border": null,
      "bottom": null,
      "display": null,
      "flex": null,
      "flex_flow": null,
      "grid_area": null,
      "grid_auto_columns": null,
      "grid_auto_flow": null,
      "grid_auto_rows": null,
      "grid_column": null,
      "grid_gap": null,
      "grid_row": null,
      "grid_template_areas": null,
      "grid_template_columns": null,
      "grid_template_rows": null,
      "height": null,
      "justify_content": null,
      "justify_items": null,
      "left": null,
      "margin": null,
      "max_height": null,
      "max_width": null,
      "min_height": null,
      "min_width": null,
      "object_fit": null,
      "object_position": null,
      "order": null,
      "overflow": null,
      "overflow_x": null,
      "overflow_y": null,
      "padding": null,
      "right": null,
      "top": null,
      "visibility": null,
      "width": null
     }
    },
    "f002f289423c47669f8f2896eb878d8a": {
     "model_module": "@jupyter-widgets/controls",
     "model_module_version": "1.5.0",
     "model_name": "ButtonStyleModel",
     "state": {
      "_model_module": "@jupyter-widgets/controls",
      "_model_module_version": "1.5.0",
      "_model_name": "ButtonStyleModel",
      "_view_count": null,
      "_view_module": "@jupyter-widgets/base",
      "_view_module_version": "1.2.0",
      "_view_name": "StyleView",
      "button_color": null,
      "font_weight": ""
     }
    },
    "f9798024af2e4b52b60aeeeded2acca7": {
     "model_module": "@jupyter-widgets/base",
     "model_module_version": "1.2.0",
     "model_name": "LayoutModel",
     "state": {
      "_model_module": "@jupyter-widgets/base",
      "_model_module_version": "1.2.0",
      "_model_name": "LayoutModel",
      "_view_count": null,
      "_view_module": "@jupyter-widgets/base",
      "_view_module_version": "1.2.0",
      "_view_name": "LayoutView",
      "align_content": null,
      "align_items": null,
      "align_self": null,
      "border": "1px solid green",
      "bottom": null,
      "display": null,
      "flex": null,
      "flex_flow": null,
      "grid_area": null,
      "grid_auto_columns": null,
      "grid_auto_flow": null,
      "grid_auto_rows": null,
      "grid_column": null,
      "grid_gap": null,
      "grid_row": null,
      "grid_template_areas": null,
      "grid_template_columns": null,
      "grid_template_rows": null,
      "height": null,
      "justify_content": null,
      "justify_items": null,
      "left": null,
      "margin": null,
      "max_height": null,
      "max_width": null,
      "min_height": null,
      "min_width": null,
      "object_fit": null,
      "object_position": null,
      "order": null,
      "overflow": null,
      "overflow_x": null,
      "overflow_y": null,
      "padding": null,
      "right": null,
      "top": null,
      "visibility": null,
      "width": null
     }
    },
    "fc03b42168984eb087195e73cff352d1": {
     "model_module": "@jupyter-widgets/controls",
     "model_module_version": "1.5.0",
     "model_name": "ButtonModel",
     "state": {
      "_dom_classes": [],
      "_model_module": "@jupyter-widgets/controls",
      "_model_module_version": "1.5.0",
      "_model_name": "ButtonModel",
      "_view_count": null,
      "_view_module": "@jupyter-widgets/controls",
      "_view_module_version": "1.5.0",
      "_view_name": "ButtonView",
      "button_style": "",
      "description": "Hide solution",
      "disabled": false,
      "icon": "",
      "layout": "IPY_MODEL_c94b881f0fd24153af65950cda9104e2",
      "style": "IPY_MODEL_cae430c6f61649a0acf8c4ec47ede35a",
      "tooltip": ""
     }
    },
    "fc8e85ffed164da4a13ed5bbe69d4ae9": {
     "model_module": "@jupyter-widgets/controls",
     "model_module_version": "1.5.0",
     "model_name": "ButtonStyleModel",
     "state": {
      "_model_module": "@jupyter-widgets/controls",
      "_model_module_version": "1.5.0",
      "_model_name": "ButtonStyleModel",
      "_view_count": null,
      "_view_module": "@jupyter-widgets/base",
      "_view_module_version": "1.2.0",
      "_view_name": "StyleView",
      "button_color": null,
      "font_weight": ""
     }
    },
    "fcb1daf0a58e4d91b8c31d97a373082b": {
     "model_module": "@jupyter-widgets/base",
     "model_module_version": "1.2.0",
     "model_name": "LayoutModel",
     "state": {
      "_model_module": "@jupyter-widgets/base",
      "_model_module_version": "1.2.0",
      "_model_name": "LayoutModel",
      "_view_count": null,
      "_view_module": "@jupyter-widgets/base",
      "_view_module_version": "1.2.0",
      "_view_name": "LayoutView",
      "align_content": null,
      "align_items": null,
      "align_self": null,
      "border": "1px solid green",
      "bottom": null,
      "display": null,
      "flex": null,
      "flex_flow": null,
      "grid_area": null,
      "grid_auto_columns": null,
      "grid_auto_flow": null,
      "grid_auto_rows": null,
      "grid_column": null,
      "grid_gap": null,
      "grid_row": null,
      "grid_template_areas": null,
      "grid_template_columns": null,
      "grid_template_rows": null,
      "height": null,
      "justify_content": null,
      "justify_items": null,
      "left": null,
      "margin": null,
      "max_height": null,
      "max_width": null,
      "min_height": null,
      "min_width": null,
      "object_fit": null,
      "object_position": null,
      "order": null,
      "overflow": null,
      "overflow_x": null,
      "overflow_y": null,
      "padding": null,
      "right": null,
      "top": null,
      "visibility": null,
      "width": null
     }
    },
    "fec68f1ebff94f8bbb1a2f356ab5bbf6": {
     "model_module": "@jupyter-widgets/base",
     "model_module_version": "1.2.0",
     "model_name": "LayoutModel",
     "state": {
      "_model_module": "@jupyter-widgets/base",
      "_model_module_version": "1.2.0",
      "_model_name": "LayoutModel",
      "_view_count": null,
      "_view_module": "@jupyter-widgets/base",
      "_view_module_version": "1.2.0",
      "_view_name": "LayoutView",
      "align_content": null,
      "align_items": null,
      "align_self": null,
      "border": "1px solid green",
      "bottom": null,
      "display": null,
      "flex": null,
      "flex_flow": null,
      "grid_area": null,
      "grid_auto_columns": null,
      "grid_auto_flow": null,
      "grid_auto_rows": null,
      "grid_column": null,
      "grid_gap": null,
      "grid_row": null,
      "grid_template_areas": null,
      "grid_template_columns": null,
      "grid_template_rows": null,
      "height": null,
      "justify_content": null,
      "justify_items": null,
      "left": null,
      "margin": null,
      "max_height": null,
      "max_width": null,
      "min_height": null,
      "min_width": null,
      "object_fit": null,
      "object_position": null,
      "order": null,
      "overflow": null,
      "overflow_x": null,
      "overflow_y": null,
      "padding": null,
      "right": null,
      "top": null,
      "visibility": null,
      "width": null
     }
    },
    "ff27f8ecf890417da19cb6d8b6319dfc": {
     "model_module": "@jupyter-widgets/base",
     "model_module_version": "1.2.0",
     "model_name": "LayoutModel",
     "state": {
      "_model_module": "@jupyter-widgets/base",
      "_model_module_version": "1.2.0",
      "_model_name": "LayoutModel",
      "_view_count": null,
      "_view_module": "@jupyter-widgets/base",
      "_view_module_version": "1.2.0",
      "_view_name": "LayoutView",
      "align_content": null,
      "align_items": null,
      "align_self": null,
      "border": "1px solid green",
      "bottom": null,
      "display": null,
      "flex": null,
      "flex_flow": null,
      "grid_area": null,
      "grid_auto_columns": null,
      "grid_auto_flow": null,
      "grid_auto_rows": null,
      "grid_column": null,
      "grid_gap": null,
      "grid_row": null,
      "grid_template_areas": null,
      "grid_template_columns": null,
      "grid_template_rows": null,
      "height": null,
      "justify_content": null,
      "justify_items": null,
      "left": null,
      "margin": null,
      "max_height": null,
      "max_width": null,
      "min_height": null,
      "min_width": null,
      "object_fit": null,
      "object_position": null,
      "order": null,
      "overflow": null,
      "overflow_x": null,
      "overflow_y": null,
      "padding": null,
      "right": null,
      "top": null,
      "visibility": null,
      "width": null
     }
    }
   }
  }
 },
 "nbformat": 4,
 "nbformat_minor": 5
}
