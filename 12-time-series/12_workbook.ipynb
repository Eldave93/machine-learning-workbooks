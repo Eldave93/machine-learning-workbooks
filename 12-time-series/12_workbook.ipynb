{
 "cells": [
  {
   "cell_type": "markdown",
   "id": "2cb10ea2",
   "metadata": {},
   "source": [
    "# Workbook 12 - Time Series\n",
    "by [Dr. David Elliott](https://eldave93.netlify.app/)\n",
    "\n",
    "1. [Workspace Setup](#setup)"
   ]
  },
  {
   "cell_type": "markdown",
   "id": "cfc3904e",
   "metadata": {},
   "source": [
    "The aim of this workbook is to..."
   ]
  },
  {
   "cell_type": "markdown",
   "id": "0ecb33ae",
   "metadata": {},
   "source": [
    "# 1. Workspace Setup\n",
    "Before downloading any data we should think about our workspace. It is assumed if you have made it this far you have already got your workspace setup. There are two ways of using these notebooks. The first is to use Google Colab, which is a website that allows you to write and execute python code through the browser. The second is a local workspace (e.g. Anaconda)."
   ]
  },
  {
   "cell_type": "markdown",
   "id": "73092412",
   "metadata": {},
   "source": [
    "## 1.1. Google Colab\n",
    "If you are using google colab then you can follow the below instructions to get setup.\n",
    "\n",
    "First lets check if you are actually using google colab."
   ]
  },
  {
   "cell_type": "code",
   "execution_count": 1,
   "id": "cb93ed85",
   "metadata": {},
   "outputs": [],
   "source": [
    "try:\n",
    "    import google.colab\n",
    "    COLAB=True\n",
    "    \n",
    "    # set the week code\n",
    "    WORKSHOP_NAME = \"12-time-series\"\n",
    "except:\n",
    "    COLAB=False"
   ]
  },
  {
   "cell_type": "markdown",
   "id": "9dc87d61",
   "metadata": {},
   "source": [
    "If using colab you will need to install the dependencies and upload the files associated with this workshop to the temporary file store.\n",
    "\n",
    "To do this:\n",
    "1. Download the workbook repository as a .zip file from GitHub (Green \"Code\" button, \"Download ZIP\"),\n",
    "2. On Google Colab click the folder icon on the left panel\n",
    "3. Click the page icon with the upwards arrow on it\n",
    "4. From your local computers file store, upload the .zip file (e.g. `machine-learning-workbooks-main.zip`)\n",
    "\n",
    "__Note__ \n",
    "\n",
    "- Make sure to restart the runtime after installing to ensure everything works correctly."
   ]
  },
  {
   "cell_type": "code",
   "execution_count": 2,
   "id": "4a04d88f",
   "metadata": {},
   "outputs": [
    {
     "name": "stdout",
     "output_type": "stream",
     "text": [
      "Colab is not being used\n"
     ]
    }
   ],
   "source": [
    "if COLAB:\n",
    "    import os\n",
    "\n",
    "    # check if the environment is already setup to avoid repeating this after \n",
    "    # restarting the runtime\n",
    "    if not os.path.exists(\"machine-learning-workbooks-main\") and os.path.exists(\"machine-learning-workbooks-main.zip\"):\n",
    "          !unzip machine-learning-workbooks-main.zip\n",
    "          \n",
    "    print(\"Setting working directory to:\")\n",
    "    %cd ./machine-learning-workbooks-main/{WORKSHOP_NAME}\n",
    "\n",
    "else:\n",
    "    print(\"Colab is not being used\")"
   ]
  },
  {
   "cell_type": "markdown",
   "id": "193e9d49",
   "metadata": {},
   "source": [
    "As seen above, I automatically set the working directory to be a local version of the workshop repository. This is so all the data, images, and scripts for displaying the solutions works. This is located on the temporary file store associated with this colabs runtime. "
   ]
  },
  {
   "cell_type": "markdown",
   "id": "3498242f",
   "metadata": {},
   "source": [
    "## 1.2. Local Workspace\n",
    "\n",
    "If your using a local workspace you will need all the packages to run this notebook."
   ]
  },
  {
   "cell_type": "code",
   "execution_count": 3,
   "id": "cacf76f0",
   "metadata": {},
   "outputs": [],
   "source": [
    "import numpy as np\n",
    "import pandas as pd\n",
    "import seaborn as sns\n",
    "import matplotlib.pyplot as plt\n",
    "import sys\n",
    "import os\n",
    "from datetime import date\n",
    "\n",
    "sys.path.append('../scripts') # add scripts to the path for use later"
   ]
  },
  {
   "cell_type": "markdown",
   "id": "4e10eed7",
   "metadata": {},
   "source": [
    "If you do not already have them the script below, provided `AUTO_INSTALL = True`, will install them for you."
   ]
  },
  {
   "cell_type": "code",
   "execution_count": 4,
   "id": "80e5f455",
   "metadata": {},
   "outputs": [],
   "source": [
    "AUTO_INSTALL = False\n",
    "\n",
    "if AUTO_INSTALL:\n",
    "    !{sys.executable} -m pip install -r ../scripts/requirements.txt"
   ]
  },
  {
   "cell_type": "markdown",
   "id": "81a622f3",
   "metadata": {},
   "source": [
    "## 1.3. Displaying solutions\n",
    "\n",
    "The solutions are activated using a new .txt file which can be put in the workshop folder (e.g. `01-end_to_end`). Please put in a request for access.\n",
    "\n",
    "If you have access to the solutions, the following cell will create clickable buttons under each exercise, which will allow you to reveal the solutions.\n",
    "\n",
    "__Notes__\n",
    "\n",
    "- This method was created by [Charlotte Desvages](https://charlottedesvages.com/)."
   ]
  },
  {
   "cell_type": "code",
   "execution_count": 5,
   "id": "d152cd89",
   "metadata": {},
   "outputs": [
    {
     "data": {
      "text/html": [
       "<script type='text/javascript' src='scripts/create_widgets.js'></script>"
      ],
      "text/plain": [
       "<IPython.core.display.HTML object>"
      ]
     },
     "metadata": {},
     "output_type": "display_data"
    },
    {
     "data": {
      "application/javascript": [
       "window.runSolutionCells()"
      ],
      "text/plain": [
       "<IPython.core.display.Javascript object>"
      ]
     },
     "metadata": {},
     "output_type": "display_data"
    },
    {
     "name": "stdout",
     "output_type": "stream",
     "text": [
      "Buttons created!\n"
     ]
    }
   ],
   "source": [
    "%run ../scripts/create_widgets.py 12"
   ]
  },
  {
   "cell_type": "code",
   "execution_count": 6,
   "id": "ae974e0c",
   "metadata": {},
   "outputs": [],
   "source": [
    "# colours for print()\n",
    "class color:\n",
    "   PURPLE = '\\033[95m'\n",
    "   CYAN = '\\033[96m'\n",
    "   DARKCYAN = '\\033[36m'\n",
    "   BLUE = '\\033[94m'\n",
    "   GREEN = '\\033[92m'\n",
    "   YELLOW = '\\033[93m'\n",
    "   RED = '\\033[91m'\n",
    "   BOLD = '\\033[1m'\n",
    "   UNDERLINE = '\\033[4m'\n",
    "   END = '\\033[0m'"
   ]
  },
  {
   "cell_type": "markdown",
   "id": "62e88d0c",
   "metadata": {},
   "source": [
    "---\n",
    "\n",
    "# 2. Problem Understanding <a id='problem'></a>"
   ]
  },
  {
   "cell_type": "markdown",
   "id": "125dc303",
   "metadata": {},
   "source": [
    "---\n",
    "\n",
    "### 🚩 Exercise 1\n",
    "\n",
    "List some examples of real-world time series data."
   ]
  },
  {
   "cell_type": "code",
   "execution_count": 7,
   "id": "c0236d9e",
   "metadata": {},
   "outputs": [
    {
     "data": {
      "application/vnd.jupyter.widget-view+json": {
       "model_id": "375a8ad168c34979b39f887685e30f7b",
       "version_major": 2,
       "version_minor": 0
      },
      "text/plain": [
       "Button(description='Reveal solution', style=ButtonStyle())"
      ]
     },
     "metadata": {},
     "output_type": "display_data"
    },
    {
     "data": {
      "application/vnd.jupyter.widget-view+json": {
       "model_id": "d56e8222ecba4f64b176a92d51bd731e",
       "version_major": 2,
       "version_minor": 0
      },
      "text/plain": [
       "Output(layout=Layout(border='1px solid green'))"
      ]
     },
     "metadata": {},
     "output_type": "display_data"
    }
   ],
   "source": [
    "%run ../scripts/show_solutions.py 12_ex1"
   ]
  },
  {
   "cell_type": "markdown",
   "id": "388e083b",
   "metadata": {},
   "source": []
  },
  {
   "cell_type": "markdown",
   "id": "b7ffc1f9",
   "metadata": {},
   "source": [
    "---"
   ]
  },
  {
   "cell_type": "markdown",
   "id": "16cc43cb",
   "metadata": {},
   "source": [
    "We'll be using Covid data later, so first lets look at how we can prepare a dataset for use in python"
   ]
  },
  {
   "cell_type": "code",
   "execution_count": null,
   "id": "33f71314",
   "metadata": {},
   "outputs": [],
   "source": [
    "UPDATE = True\n",
    "\n",
    "if UPDATE == True:\n",
    "    # get the latest covid-19 UK data \n",
    "    covid_eng = pd.read_csv(\"https://coronavirus.data.gov.uk/api/v1/data?filters=areaType=nation;areaName=England&structure=%7B%22areaType%22:%22areaType%22,%22areaName%22:%22areaName%22,%22areaCode%22:%22areaCode%22,%22date%22:%22date%22,%22newCasesBySpecimenDate%22:%22newCasesBySpecimenDate%22,%22cumCasesBySpecimenDate%22:%22cumCasesBySpecimenDate%22,%22newFirstEpisodesBySpecimenDate%22:%22newFirstEpisodesBySpecimenDate%22,%22cumFirstEpisodesBySpecimenDate%22:%22cumFirstEpisodesBySpecimenDate%22,%22newReinfectionsBySpecimenDate%22:%22newReinfectionsBySpecimenDate%22,%22cumReinfectionsBySpecimenDate%22:%22cumReinfectionsBySpecimenDate%22%7D&format=csv\")\n",
    "    # save to csv\n",
    "    covid_eng.to_csv(\"./Data/covid_rates_\"+str(date.today())+\".csv\", index=False)\n",
    "    \n",
    "# get a list of the data files\n",
    "onlyfiles = [f for f in os.listdir(\"Data\") if os.path.isfile(os.path.join(\"Data\", f))]\n",
    "# load the latest data\n",
    "covid_eng = pd.read_csv(\"./Data/\"+onlyfiles[-1])\n",
    "    \n",
    "covid_eng.head()"
   ]
  },
  {
   "cell_type": "markdown",
   "id": "da870856",
   "metadata": {},
   "source": [
    "This is just the covid infection data for England, and therfore only has one `areaCode`. For the sake of this workshop we are only going to look at `newCasesBySpecimenDate` which we will rename to `new_cases`."
   ]
  },
  {
   "cell_type": "code",
   "execution_count": null,
   "id": "3b0d403f",
   "metadata": {},
   "outputs": [],
   "source": [
    "covid = covid_eng[[\"date\", \"newCasesBySpecimenDate\"]].copy()\n",
    "covid.rename(mapper={\"newCasesBySpecimenDate\": \"new_cases\"},axis='columns', inplace=True)\n",
    "covid.head()"
   ]
  },
  {
   "cell_type": "markdown",
   "id": "8756f2ce",
   "metadata": {},
   "source": [
    "Notice that at the moment `date` is curently stored as an \"object\" - meaning it is a string of text."
   ]
  },
  {
   "cell_type": "code",
   "execution_count": null,
   "id": "ff62c6cb",
   "metadata": {},
   "outputs": [],
   "source": [
    "covid.info()"
   ]
  },
  {
   "cell_type": "markdown",
   "id": "003e1a5b",
   "metadata": {},
   "source": [
    "This makes it difficult to work with - how do we extract the year, for instance? How does Python know what order the times go in to plot them? To let Python  know this is a date so need to turn this into a `date` object. To do this we are going to need to use Python's `DateTime` library, so lets take a quick detour away from our data and into looking into this package.\n",
    "\n",
    "## `DateTime`\n",
    "\n",
    "Python's `DateTime` library is great for dealing with time-related data, and Pandas has incorporated this library into its own `datetime` series and objects. Below, we'll load in the `DateTime` library, which we can use to create a `datetime` object by entering in the different components of the date as arguments."
   ]
  },
  {
   "cell_type": "code",
   "execution_count": null,
   "id": "e902604d",
   "metadata": {},
   "outputs": [],
   "source": [
    "from datetime import datetime"
   ]
  },
  {
   "cell_type": "markdown",
   "id": "6c4a172c",
   "metadata": {},
   "source": [
    "Let's just start with an example date."
   ]
  },
  {
   "cell_type": "code",
   "execution_count": null,
   "id": "652b6a61",
   "metadata": {},
   "outputs": [],
   "source": [
    "example_date = datetime(2022, 6, 7) # 07-06-2022\n",
    "example_date"
   ]
  },
  {
   "cell_type": "markdown",
   "id": "9eb02dd0",
   "metadata": {},
   "source": [
    "The components of the date are accessible via the object's attributes."
   ]
  },
  {
   "cell_type": "code",
   "execution_count": null,
   "id": "c927cff1",
   "metadata": {},
   "outputs": [],
   "source": [
    "print(\"Year\", example_date.year)\n",
    "print(\"Month\",example_date.month)\n",
    "print(\"Day\", example_date.day)\n",
    "print(\"Hour\", example_date.hour)\n",
    "print(\"Minute\", example_date.minute)\n",
    "print(\"Second\", example_date.second)\n",
    "print(\"Micro-Second\", example_date.microsecond)"
   ]
  },
  {
   "cell_type": "markdown",
   "id": "c658b739",
   "metadata": {},
   "source": [
    "Notice that from the hour is set to 0, this is because we didn't specify an hour, but if we needed this information we could."
   ]
  },
  {
   "cell_type": "code",
   "execution_count": null,
   "id": "bfd6479c",
   "metadata": {},
   "outputs": [],
   "source": [
    "example_date = datetime(2022, 6, 7, 8, 30) # 07-06-2022 08:30\n",
    "\n",
    "print(\"Year\", example_date.year)\n",
    "print(\"Month\",example_date.month)\n",
    "print(\"Day\", example_date.day)\n",
    "print(\"Hour\", example_date.hour)\n",
    "print(\"Minute\", example_date.minute)"
   ]
  },
  {
   "cell_type": "markdown",
   "id": "98d8e8b7",
   "metadata": {},
   "source": [
    "---\n",
    "\n",
    "### 🚩 Exercise 2\n",
    "\n",
    "Convert the following strings to datetime format:\n",
    "\n",
    "- 19 October 2021, 10:13 AM\n",
    "\n",
    "- 31 May 2022, 09:30 AM\n",
    "\n",
    "- 25 November 2021, 15:30 PM"
   ]
  },
  {
   "cell_type": "code",
   "execution_count": 8,
   "id": "a994e3bd",
   "metadata": {},
   "outputs": [
    {
     "data": {
      "application/vnd.jupyter.widget-view+json": {
       "model_id": "682a7f82ac8b4de4a15296283103e03b",
       "version_major": 2,
       "version_minor": 0
      },
      "text/plain": [
       "Button(description='Reveal solution', style=ButtonStyle())"
      ]
     },
     "metadata": {},
     "output_type": "display_data"
    },
    {
     "data": {
      "application/vnd.jupyter.widget-view+json": {
       "model_id": "ee1aa1385fcc4ec884794e9aefb402fb",
       "version_major": 2,
       "version_minor": 0
      },
      "text/plain": [
       "Output(layout=Layout(border='1px solid green'))"
      ]
     },
     "metadata": {},
     "output_type": "display_data"
    }
   ],
   "source": [
    "%run ../scripts/show_solutions.py 12_ex2"
   ]
  },
  {
   "cell_type": "markdown",
   "id": "485e09c9",
   "metadata": {},
   "source": [
    "---\n",
    "\n",
    "### 🚩 Exercise 3\n",
    "\n",
    "Using the datetime objects above, print out their elements (e.g. month, hour)"
   ]
  },
  {
   "cell_type": "code",
   "execution_count": 9,
   "id": "a7a8e898",
   "metadata": {},
   "outputs": [
    {
     "data": {
      "application/vnd.jupyter.widget-view+json": {
       "model_id": "0077548dc3bb4da09426f4f87b395aa2",
       "version_major": 2,
       "version_minor": 0
      },
      "text/plain": [
       "Button(description='Reveal solution', style=ButtonStyle())"
      ]
     },
     "metadata": {},
     "output_type": "display_data"
    },
    {
     "data": {
      "application/vnd.jupyter.widget-view+json": {
       "model_id": "09467ef9cf464f1d8af9dcc23d2446ee",
       "version_major": 2,
       "version_minor": 0
      },
      "text/plain": [
       "Output(layout=Layout(border='1px solid green'))"
      ]
     },
     "metadata": {},
     "output_type": "display_data"
    }
   ],
   "source": [
    "%run ../scripts/show_solutions.py 12_ex3"
   ]
  },
  {
   "cell_type": "markdown",
   "id": "e0c94dfa",
   "metadata": {},
   "source": [
    "---\n",
    "\n",
    "### `timedelta()`\n",
    "\n",
    "If we wanted to add or subtract time from a date we could use a `timedelta` object to shift a `datetime` object. An example of when you may want to do this is when time is your index and you want to get everything that happened a week before a specific observation."
   ]
  },
  {
   "cell_type": "code",
   "execution_count": null,
   "id": "3d34501f",
   "metadata": {},
   "outputs": [],
   "source": [
    "# Import timedelta() from the DateTime library.\n",
    "from datetime import timedelta\n",
    "\n",
    "# Timedeltas represent time as an amount rather than as a fixed position.\n",
    "offset = timedelta(days=1)\n",
    "\n",
    "# The timedelta() has attributes that allow us to extract values from it.\n",
    "print('offset days', offset.days)"
   ]
  },
  {
   "cell_type": "markdown",
   "id": "3b47103a",
   "metadata": {},
   "source": [
    "`datetime`'s `.now()` function will give you the `datetime` object of right now."
   ]
  },
  {
   "cell_type": "code",
   "execution_count": null,
   "id": "c86bbfc1",
   "metadata": {},
   "outputs": [],
   "source": [
    "now = datetime.now()\n",
    "print(\"right now:\", now)"
   ]
  },
  {
   "cell_type": "markdown",
   "id": "cfe2cf8e",
   "metadata": {},
   "source": [
    "We can use `timedelta()` on the time now."
   ]
  },
  {
   "cell_type": "code",
   "execution_count": null,
   "id": "177027a3",
   "metadata": {},
   "outputs": [],
   "source": [
    "print(\"Past: \", now - offset)\n",
    "print(\"Future: \", now + offset)"
   ]
  },
  {
   "cell_type": "markdown",
   "id": "8f4b3b50",
   "metadata": {},
   "source": [
    "Note: The largest value a `timedelta()` can hold is days so if you want to shift by years you will have to convert it to days (see [here](https://docs.python.org/2/library/datetime.html))."
   ]
  },
  {
   "cell_type": "markdown",
   "id": "692452fd",
   "metadata": {},
   "source": [
    "---\n",
    "\n",
    "### 🚩 Exercise 4\n",
    "\n",
    "Using the datetime objects created in exercise 3, find out the date 30 days before them."
   ]
  },
  {
   "cell_type": "code",
   "execution_count": 10,
   "id": "3b17c291",
   "metadata": {},
   "outputs": [
    {
     "data": {
      "application/vnd.jupyter.widget-view+json": {
       "model_id": "6d9684b620704a1eb70fdd8b5f951ccb",
       "version_major": 2,
       "version_minor": 0
      },
      "text/plain": [
       "Button(description='Reveal solution', style=ButtonStyle())"
      ]
     },
     "metadata": {},
     "output_type": "display_data"
    },
    {
     "data": {
      "application/vnd.jupyter.widget-view+json": {
       "model_id": "a00a1c4e10544892ba4b92d6adb2368d",
       "version_major": 2,
       "version_minor": 0
      },
      "text/plain": [
       "Output(layout=Layout(border='1px solid green'))"
      ]
     },
     "metadata": {},
     "output_type": "display_data"
    }
   ],
   "source": [
    "%run ../scripts/show_solutions.py 12_ex4"
   ]
  },
  {
   "cell_type": "markdown",
   "id": "211fff93",
   "metadata": {},
   "source": [
    "---\n",
    "\n",
    "Right lets get back to our COVID data! The first step when working with time information is to convert it to a datetime format. The problem is that dates and times can be written in lots of different ways. For example, the following are all valid formats for the same datetime - and there are loads more! \n",
    "\n",
    "- 6/1/1930 22:00\n",
    "\n",
    "- 06/01/1930 22:00\n",
    "\n",
    "- 01/06/1930 22:00\n",
    "\n",
    "- 1/6/1930 22:00\n",
    "\n",
    "- 1930-06-01 22:00:00\n",
    "\n",
    "- 1st June 1930 22:00\n",
    "\n",
    "- June 1st 1930 10pm\n",
    "\n",
    "Pandas ``to_datetime`` function will try to figure out what format it's reading, but it takes a while and might get it wrong."
   ]
  },
  {
   "cell_type": "code",
   "execution_count": null,
   "id": "e80cbf67",
   "metadata": {},
   "outputs": [],
   "source": [
    "%%time\n",
    "# letting pandas figure out the format for itself - slow and may be wrong\n",
    "pd.to_datetime(covid.date)"
   ]
  },
  {
   "cell_type": "markdown",
   "id": "e408cda1",
   "metadata": {},
   "source": [
    "You should figure out the format yourself and tell the function using a format code.\n",
    "\n",
    "The codes used below are:\n",
    "\n",
    "code | represents\n",
    "--|--\n",
    "%Y| year\n",
    "%m | month\n",
    "%d | day"
   ]
  },
  {
   "cell_type": "code",
   "execution_count": null,
   "id": "e5dfcb0e",
   "metadata": {},
   "outputs": [],
   "source": [
    "%%time\n",
    "# telling pandas the format.\n",
    "# We use the - between %Y and %m as the format of our dates have\n",
    "# -'s. \n",
    "covid.date = pd.to_datetime(covid.date, format='%Y-%m-%d')\n",
    "\n",
    "covid.date"
   ]
  },
  {
   "cell_type": "markdown",
   "id": "4b382904",
   "metadata": {},
   "source": [
    "---\n",
    "\n",
    "### 🚩 Exercise 5\n",
    "\n",
    "Convert the following strings to datetime format using `pd.to_datetime`:\n",
    "\n",
    "- `\"19 October 2021, 10:13 AM\"`\n",
    "\n",
    "- `\"Oct 19 2021 - 10h13\"`\n",
    "\n",
    "- `\"2021-10-19 10:13:29\"`\n",
    "\n",
    "__Hint__\n",
    "\n",
    "To open the docs to grab the website for looking at datetime format codes (under the format info)\n",
    "```\n",
    "?pd.to_datetime\n",
    "```\n",
    "\n",
    "...or google \"pandas strftime format codes\""
   ]
  },
  {
   "cell_type": "code",
   "execution_count": 11,
   "id": "77cbc894",
   "metadata": {},
   "outputs": [
    {
     "data": {
      "application/vnd.jupyter.widget-view+json": {
       "model_id": "9990c8bece55416fbc93b611570b822c",
       "version_major": 2,
       "version_minor": 0
      },
      "text/plain": [
       "Button(description='Reveal solution', style=ButtonStyle())"
      ]
     },
     "metadata": {},
     "output_type": "display_data"
    },
    {
     "data": {
      "application/vnd.jupyter.widget-view+json": {
       "model_id": "a880baf9589f4720ab32b103dee66cb3",
       "version_major": 2,
       "version_minor": 0
      },
      "text/plain": [
       "Output(layout=Layout(border='1px solid green'))"
      ]
     },
     "metadata": {},
     "output_type": "display_data"
    }
   ],
   "source": [
    "%run ../scripts/show_solutions.py 12_ex5"
   ]
  },
  {
   "cell_type": "markdown",
   "id": "fdb8352c",
   "metadata": {},
   "source": [
    "---\n",
    "\n",
    "You can see that each of these dates are now `datetime64` so have the properties of the datetime objects we created before."
   ]
  },
  {
   "cell_type": "code",
   "execution_count": null,
   "id": "e26fd9d9",
   "metadata": {},
   "outputs": [],
   "source": [
    "print(\"Year\", covid.date[0].year)\n",
    "print(\"Month\",covid.date[0].month)\n",
    "print(\"Day\", covid.date[0].day)"
   ]
  },
  {
   "cell_type": "markdown",
   "id": "d518307e",
   "metadata": {},
   "source": [
    "If we want a particular part it can be useful to define a function to do this..."
   ]
  },
  {
   "cell_type": "code",
   "execution_count": null,
   "id": "d1460d62",
   "metadata": {},
   "outputs": [],
   "source": [
    "def extract_day(datetime):\n",
    "    return datetime.day\n",
    "\n",
    "extract_day(covid.date[0])"
   ]
  },
  {
   "cell_type": "markdown",
   "id": "0592d988",
   "metadata": {},
   "source": [
    "...we can then apply this to the Time column"
   ]
  },
  {
   "cell_type": "code",
   "execution_count": null,
   "id": "df10ff21",
   "metadata": {},
   "outputs": [],
   "source": [
    "covid.date.apply(extract_day)"
   ]
  },
  {
   "cell_type": "markdown",
   "id": "7ef7666e",
   "metadata": {},
   "source": [
    "---\n",
    "\n",
    "### 🚩 Exercise 6\n",
    "\n",
    "Extract the year of each of the datetimes in the covid dataset"
   ]
  },
  {
   "cell_type": "code",
   "execution_count": 12,
   "id": "af835b29",
   "metadata": {},
   "outputs": [
    {
     "data": {
      "application/vnd.jupyter.widget-view+json": {
       "model_id": "b7767a2b0645485b88842b8ac3a3dad5",
       "version_major": 2,
       "version_minor": 0
      },
      "text/plain": [
       "Button(description='Reveal solution', style=ButtonStyle())"
      ]
     },
     "metadata": {},
     "output_type": "display_data"
    },
    {
     "data": {
      "application/vnd.jupyter.widget-view+json": {
       "model_id": "9997c3976d2040f781c783c0334ac964",
       "version_major": 2,
       "version_minor": 0
      },
      "text/plain": [
       "Output(layout=Layout(border='1px solid green'))"
      ]
     },
     "metadata": {},
     "output_type": "display_data"
    }
   ],
   "source": [
    "%run ../scripts/show_solutions.py 12_ex6"
   ]
  },
  {
   "cell_type": "markdown",
   "id": "fdfc7c87",
   "metadata": {},
   "source": [
    "---\n",
    "We need to use `.apply` if doing something more complicated e.g., classify dates into \"this year\", \"last year\", or \"other\"."
   ]
  },
  {
   "cell_type": "code",
   "execution_count": null,
   "id": "3e117ff7",
   "metadata": {},
   "outputs": [],
   "source": [
    "def year_classifier(datetime):\n",
    "    year = datetime.year\n",
    "    if year < 2021:\n",
    "        return 'this year'\n",
    "    elif year < 2020:\n",
    "        return 'last year'\n",
    "    else:\n",
    "        return 'other'\n",
    "covid.date.apply(year_classifier)"
   ]
  },
  {
   "cell_type": "markdown",
   "id": "68fce469",
   "metadata": {},
   "source": [
    "## Filtering on datetimes"
   ]
  }
 ],
 "metadata": {
  "kernelspec": {
   "display_name": "Python 3 (ipykernel)",
   "language": "python",
   "name": "python3"
  },
  "language_info": {
   "codemirror_mode": {
    "name": "ipython",
    "version": 3
   },
   "file_extension": ".py",
   "mimetype": "text/x-python",
   "name": "python",
   "nbconvert_exporter": "python",
   "pygments_lexer": "ipython3",
   "version": "3.9.7"
  }
 },
 "nbformat": 4,
 "nbformat_minor": 5
}
