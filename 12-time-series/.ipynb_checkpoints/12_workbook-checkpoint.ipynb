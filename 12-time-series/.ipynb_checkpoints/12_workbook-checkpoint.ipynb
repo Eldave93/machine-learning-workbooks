{
 "cells": [
  {
   "cell_type": "markdown",
   "id": "84bc234d",
   "metadata": {},
   "source": [
    "# Workbook 12 - Time Series\n",
    "by [Dr. David Elliott](https://eldave93.netlify.app/)\n",
    "\n",
    "1. [Workspace Setup](#setup)"
   ]
  },
  {
   "cell_type": "markdown",
   "id": "9372b05c",
   "metadata": {},
   "source": [
    "The aim of this workbook is to..."
   ]
  },
  {
   "cell_type": "markdown",
   "id": "a200a8c7",
   "metadata": {},
   "source": [
    "# 1. Workspace Setup\n",
    "Before downloading any data we should think about our workspace. It is assumed if you have made it this far you have already got your workspace setup. There are two ways of using these notebooks. The first is to use Google Colab, which is a website that allows you to write and execute python code through the browser. The second is a local workspace (e.g. Anaconda)."
   ]
  },
  {
   "cell_type": "markdown",
   "id": "432fa4ed",
   "metadata": {},
   "source": [
    "## 1.1. Google Colab\n",
    "If you are using google colab then you can follow the below instructions to get setup.\n",
    "\n",
    "First lets check if you are actually using google colab."
   ]
  },
  {
   "cell_type": "code",
   "execution_count": 1,
   "id": "42e45cf9",
   "metadata": {},
   "outputs": [],
   "source": [
    "try:\n",
    "    import google.colab\n",
    "    COLAB=True\n",
    "    \n",
    "    # set the week code\n",
    "    WORKSHOP_NAME = \"12-time-series\"\n",
    "except:\n",
    "    COLAB=False"
   ]
  },
  {
   "cell_type": "markdown",
   "id": "bd281f0e",
   "metadata": {},
   "source": [
    "If using colab you will need to install the dependencies and upload the files associated with this workshop to the temporary file store.\n",
    "\n",
    "To do this:\n",
    "1. Download the workbook repository as a .zip file from GitHub (Green \"Code\" button, \"Download ZIP\"),\n",
    "2. On Google Colab click the folder icon on the left panel\n",
    "3. Click the page icon with the upwards arrow on it\n",
    "4. From your local computers file store, upload the .zip file (e.g. `machine-learning-workbooks-main.zip`)\n",
    "\n",
    "__Note__ \n",
    "\n",
    "- Make sure to restart the runtime after installing to ensure everything works correctly."
   ]
  },
  {
   "cell_type": "code",
   "execution_count": 2,
   "id": "6f160127",
   "metadata": {},
   "outputs": [
    {
     "name": "stdout",
     "output_type": "stream",
     "text": [
      "Colab is not being used\n"
     ]
    }
   ],
   "source": [
    "if COLAB:\n",
    "    import os\n",
    "\n",
    "    # check if the environment is already setup to avoid repeating this after \n",
    "    # restarting the runtime\n",
    "    if not os.path.exists(\"machine-learning-workbooks-main\") and os.path.exists(\"machine-learning-workbooks-main.zip\"):\n",
    "          !unzip machine-learning-workbooks-main.zip\n",
    "          \n",
    "    print(\"Setting working directory to:\")\n",
    "    %cd ./machine-learning-workbooks-main/{WORKSHOP_NAME}\n",
    "\n",
    "else:\n",
    "    print(\"Colab is not being used\")"
   ]
  },
  {
   "cell_type": "markdown",
   "id": "b2b21213",
   "metadata": {},
   "source": [
    "As seen above, I automatically set the working directory to be a local version of the workshop repository. This is so all the data, images, and scripts for displaying the solutions works. This is located on the temporary file store associated with this colabs runtime. "
   ]
  },
  {
   "cell_type": "markdown",
   "id": "82ffea6c",
   "metadata": {},
   "source": [
    "## 1.2. Local Workspace\n",
    "\n",
    "If your using a local workspace you will need all the packages to run this notebook."
   ]
  },
  {
   "cell_type": "code",
   "execution_count": 3,
   "id": "2bcf24a0",
   "metadata": {},
   "outputs": [],
   "source": [
    "import numpy as np\n",
    "import pandas as pd\n",
    "import seaborn as sns\n",
    "import matplotlib.pyplot as plt\n",
    "import sys\n",
    "import os\n",
    "from datetime import date\n",
    "import re\n",
    "\n",
    "sys.path.append('../scripts') # add scripts to the path for use later"
   ]
  },
  {
   "cell_type": "markdown",
   "id": "a42f914d",
   "metadata": {},
   "source": [
    "If you do not already have them the script below, provided `AUTO_INSTALL = True`, will install them for you."
   ]
  },
  {
   "cell_type": "code",
   "execution_count": 4,
   "id": "3c308e1d",
   "metadata": {},
   "outputs": [],
   "source": [
    "AUTO_INSTALL = False\n",
    "\n",
    "if AUTO_INSTALL:\n",
    "    !{sys.executable} -m pip install -r ../scripts/requirements.txt"
   ]
  },
  {
   "cell_type": "markdown",
   "id": "fd121b70",
   "metadata": {},
   "source": [
    "## 1.3. Displaying solutions\n",
    "\n",
    "The solutions are activated using a new .txt file which can be put in the workshop folder (e.g. `01-end_to_end`). Please put in a request for access.\n",
    "\n",
    "If you have access to the solutions, the following cell will create clickable buttons under each exercise, which will allow you to reveal the solutions.\n",
    "\n",
    "__Notes__\n",
    "\n",
    "- This method was created by [Charlotte Desvages](https://charlottedesvages.com/)."
   ]
  },
  {
   "cell_type": "code",
   "execution_count": 5,
   "id": "1335fcc0",
   "metadata": {},
   "outputs": [
    {
     "name": "stdout",
     "output_type": "stream",
     "text": [
      "Solutions .txt file not found!\n"
     ]
    }
   ],
   "source": [
    "%run ../scripts/create_widgets.py 12"
   ]
  },
  {
   "cell_type": "code",
   "execution_count": 6,
   "id": "3e02119c",
   "metadata": {},
   "outputs": [],
   "source": [
    "# colours for print()\n",
    "class color:\n",
    "   PURPLE = '\\033[95m'\n",
    "   CYAN = '\\033[96m'\n",
    "   DARKCYAN = '\\033[36m'\n",
    "   BLUE = '\\033[94m'\n",
    "   GREEN = '\\033[92m'\n",
    "   YELLOW = '\\033[93m'\n",
    "   RED = '\\033[91m'\n",
    "   BOLD = '\\033[1m'\n",
    "   UNDERLINE = '\\033[4m'\n",
    "   END = '\\033[0m'"
   ]
  },
  {
   "cell_type": "markdown",
   "id": "e5d9b16a",
   "metadata": {},
   "source": [
    "---\n",
    "\n",
    "# 2. Problem Understanding <a id='problem'></a>"
   ]
  },
  {
   "cell_type": "markdown",
   "id": "8ac9eff2",
   "metadata": {},
   "source": [
    "---\n",
    "\n",
    "### 🚩 Exercise 1\n",
    "\n",
    "List some examples of real-world time series data."
   ]
  },
  {
   "cell_type": "code",
   "execution_count": 7,
   "id": "3a1f1c44",
   "metadata": {},
   "outputs": [
    {
     "data": {
      "application/vnd.jupyter.widget-view+json": {
       "model_id": "7d24c1f9c4cc4ac2bd0a8c0d023a0476",
       "version_major": 2,
       "version_minor": 0
      },
      "text/plain": [
       "Button(description='Reveal solution', style=ButtonStyle())"
      ]
     },
     "metadata": {},
     "output_type": "display_data"
    },
    {
     "data": {
      "application/vnd.jupyter.widget-view+json": {
       "model_id": "432828a808b74beda117b5932747fb9e",
       "version_major": 2,
       "version_minor": 0
      },
      "text/plain": [
       "Output(layout=Layout(border='1px solid green'))"
      ]
     },
     "metadata": {},
     "output_type": "display_data"
    }
   ],
   "source": [
    "%run ../scripts/show_solutions.py 12_ex1"
   ]
  },
  {
   "cell_type": "markdown",
   "id": "ffec3835",
   "metadata": {},
   "source": []
  },
  {
   "cell_type": "markdown",
   "id": "7ee8881b",
   "metadata": {},
   "source": [
    "---"
   ]
  },
  {
   "cell_type": "markdown",
   "id": "5f2b140a",
   "metadata": {},
   "source": [
    "Lets start by loading in some COVID case numbers.\n",
    "\n",
    "If you turn `UPDATE = True`, it will save the latest covid rate data from the UK govenment website."
   ]
  },
  {
   "cell_type": "code",
   "execution_count": 8,
   "id": "19fe3a9e",
   "metadata": {},
   "outputs": [
    {
     "data": {
      "text/html": [
       "<div>\n",
       "<style scoped>\n",
       "    .dataframe tbody tr th:only-of-type {\n",
       "        vertical-align: middle;\n",
       "    }\n",
       "\n",
       "    .dataframe tbody tr th {\n",
       "        vertical-align: top;\n",
       "    }\n",
       "\n",
       "    .dataframe thead th {\n",
       "        text-align: right;\n",
       "    }\n",
       "</style>\n",
       "<table border=\"1\" class=\"dataframe\">\n",
       "  <thead>\n",
       "    <tr style=\"text-align: right;\">\n",
       "      <th></th>\n",
       "      <th>areaType</th>\n",
       "      <th>areaName</th>\n",
       "      <th>areaCode</th>\n",
       "      <th>date</th>\n",
       "      <th>newCasesBySpecimenDate</th>\n",
       "      <th>cumCasesBySpecimenDate</th>\n",
       "      <th>newFirstEpisodesBySpecimenDate</th>\n",
       "      <th>cumFirstEpisodesBySpecimenDate</th>\n",
       "      <th>newReinfectionsBySpecimenDate</th>\n",
       "      <th>cumReinfectionsBySpecimenDate</th>\n",
       "    </tr>\n",
       "  </thead>\n",
       "  <tbody>\n",
       "    <tr>\n",
       "      <th>0</th>\n",
       "      <td>nation</td>\n",
       "      <td>England</td>\n",
       "      <td>E92000001</td>\n",
       "      <td>2022-09-28</td>\n",
       "      <td>4865</td>\n",
       "      <td>19968866</td>\n",
       "      <td>3634</td>\n",
       "      <td>18700879</td>\n",
       "      <td>1231.0</td>\n",
       "      <td>1267987.0</td>\n",
       "    </tr>\n",
       "    <tr>\n",
       "      <th>1</th>\n",
       "      <td>nation</td>\n",
       "      <td>England</td>\n",
       "      <td>E92000001</td>\n",
       "      <td>2022-09-27</td>\n",
       "      <td>6950</td>\n",
       "      <td>19964001</td>\n",
       "      <td>5117</td>\n",
       "      <td>18697245</td>\n",
       "      <td>1833.0</td>\n",
       "      <td>1266756.0</td>\n",
       "    </tr>\n",
       "    <tr>\n",
       "      <th>2</th>\n",
       "      <td>nation</td>\n",
       "      <td>England</td>\n",
       "      <td>E92000001</td>\n",
       "      <td>2022-09-26</td>\n",
       "      <td>7623</td>\n",
       "      <td>19957051</td>\n",
       "      <td>5542</td>\n",
       "      <td>18692128</td>\n",
       "      <td>2081.0</td>\n",
       "      <td>1264923.0</td>\n",
       "    </tr>\n",
       "    <tr>\n",
       "      <th>3</th>\n",
       "      <td>nation</td>\n",
       "      <td>England</td>\n",
       "      <td>E92000001</td>\n",
       "      <td>2022-09-25</td>\n",
       "      <td>6532</td>\n",
       "      <td>19949428</td>\n",
       "      <td>4802</td>\n",
       "      <td>18686586</td>\n",
       "      <td>1730.0</td>\n",
       "      <td>1262842.0</td>\n",
       "    </tr>\n",
       "    <tr>\n",
       "      <th>4</th>\n",
       "      <td>nation</td>\n",
       "      <td>England</td>\n",
       "      <td>E92000001</td>\n",
       "      <td>2022-09-24</td>\n",
       "      <td>5144</td>\n",
       "      <td>19942896</td>\n",
       "      <td>3884</td>\n",
       "      <td>18681784</td>\n",
       "      <td>1260.0</td>\n",
       "      <td>1261112.0</td>\n",
       "    </tr>\n",
       "  </tbody>\n",
       "</table>\n",
       "</div>"
      ],
      "text/plain": [
       "  areaType areaName   areaCode        date  newCasesBySpecimenDate  \\\n",
       "0   nation  England  E92000001  2022-09-28                    4865   \n",
       "1   nation  England  E92000001  2022-09-27                    6950   \n",
       "2   nation  England  E92000001  2022-09-26                    7623   \n",
       "3   nation  England  E92000001  2022-09-25                    6532   \n",
       "4   nation  England  E92000001  2022-09-24                    5144   \n",
       "\n",
       "   cumCasesBySpecimenDate  newFirstEpisodesBySpecimenDate  \\\n",
       "0                19968866                            3634   \n",
       "1                19964001                            5117   \n",
       "2                19957051                            5542   \n",
       "3                19949428                            4802   \n",
       "4                19942896                            3884   \n",
       "\n",
       "   cumFirstEpisodesBySpecimenDate  newReinfectionsBySpecimenDate  \\\n",
       "0                        18700879                         1231.0   \n",
       "1                        18697245                         1833.0   \n",
       "2                        18692128                         2081.0   \n",
       "3                        18686586                         1730.0   \n",
       "4                        18681784                         1260.0   \n",
       "\n",
       "   cumReinfectionsBySpecimenDate  \n",
       "0                      1267987.0  \n",
       "1                      1266756.0  \n",
       "2                      1264923.0  \n",
       "3                      1262842.0  \n",
       "4                      1261112.0  "
      ]
     },
     "execution_count": 8,
     "metadata": {},
     "output_type": "execute_result"
    }
   ],
   "source": [
    "UPDATE = False\n",
    "\n",
    "if UPDATE == True:\n",
    "    # get the latest covid-19 UK data \n",
    "    covid_eng = pd.read_csv(\"https://coronavirus.data.gov.uk/api/v1/data?filters=areaType=nation;areaName=England&structure=%7B%22areaType%22:%22areaType%22,%22areaName%22:%22areaName%22,%22areaCode%22:%22areaCode%22,%22date%22:%22date%22,%22newCasesBySpecimenDate%22:%22newCasesBySpecimenDate%22,%22cumCasesBySpecimenDate%22:%22cumCasesBySpecimenDate%22,%22newFirstEpisodesBySpecimenDate%22:%22newFirstEpisodesBySpecimenDate%22,%22cumFirstEpisodesBySpecimenDate%22:%22cumFirstEpisodesBySpecimenDate%22,%22newReinfectionsBySpecimenDate%22:%22newReinfectionsBySpecimenDate%22,%22cumReinfectionsBySpecimenDate%22:%22cumReinfectionsBySpecimenDate%22%7D&format=csv\")\n",
    "    # save to csv\n",
    "    covid_eng.to_csv(\"./Data/covid_rates_\"+str(date.today())+\".csv\", index=False)\n",
    "    \n",
    "# get a list of the data files\n",
    "onlyfiles = [f for f in os.listdir(\"Data\") if os.path.isfile(os.path.join(\"Data\", f))]\n",
    "# only get the covid data\n",
    "covidlist = list(filter(re.compile(\"covid_rates_*\").match, onlyfiles))\n",
    "# load the latest data\n",
    "covid_eng = pd.read_csv(\"./Data/\"+covidlist[-1])\n",
    "\n",
    "# display the first few rows\n",
    "covid_eng.head()"
   ]
  },
  {
   "cell_type": "markdown",
   "id": "4565f89c",
   "metadata": {},
   "source": [
    "This is just the covid infection data for England, and therfore only has one `areaCode`. For the sake of this workshop we are only going to look at `newCasesBySpecimenDate` which we will rename to `new_cases`."
   ]
  },
  {
   "cell_type": "code",
   "execution_count": 9,
   "id": "88e99f81",
   "metadata": {},
   "outputs": [
    {
     "data": {
      "text/html": [
       "<div>\n",
       "<style scoped>\n",
       "    .dataframe tbody tr th:only-of-type {\n",
       "        vertical-align: middle;\n",
       "    }\n",
       "\n",
       "    .dataframe tbody tr th {\n",
       "        vertical-align: top;\n",
       "    }\n",
       "\n",
       "    .dataframe thead th {\n",
       "        text-align: right;\n",
       "    }\n",
       "</style>\n",
       "<table border=\"1\" class=\"dataframe\">\n",
       "  <thead>\n",
       "    <tr style=\"text-align: right;\">\n",
       "      <th></th>\n",
       "      <th>date</th>\n",
       "      <th>new_cases</th>\n",
       "    </tr>\n",
       "  </thead>\n",
       "  <tbody>\n",
       "    <tr>\n",
       "      <th>0</th>\n",
       "      <td>2022-09-28</td>\n",
       "      <td>4865</td>\n",
       "    </tr>\n",
       "    <tr>\n",
       "      <th>1</th>\n",
       "      <td>2022-09-27</td>\n",
       "      <td>6950</td>\n",
       "    </tr>\n",
       "    <tr>\n",
       "      <th>2</th>\n",
       "      <td>2022-09-26</td>\n",
       "      <td>7623</td>\n",
       "    </tr>\n",
       "    <tr>\n",
       "      <th>3</th>\n",
       "      <td>2022-09-25</td>\n",
       "      <td>6532</td>\n",
       "    </tr>\n",
       "    <tr>\n",
       "      <th>4</th>\n",
       "      <td>2022-09-24</td>\n",
       "      <td>5144</td>\n",
       "    </tr>\n",
       "  </tbody>\n",
       "</table>\n",
       "</div>"
      ],
      "text/plain": [
       "         date  new_cases\n",
       "0  2022-09-28       4865\n",
       "1  2022-09-27       6950\n",
       "2  2022-09-26       7623\n",
       "3  2022-09-25       6532\n",
       "4  2022-09-24       5144"
      ]
     },
     "execution_count": 9,
     "metadata": {},
     "output_type": "execute_result"
    }
   ],
   "source": [
    "covid = covid_eng[[\"date\", \"newCasesBySpecimenDate\"]].copy()\n",
    "covid.rename(mapper={\"newCasesBySpecimenDate\": \"new_cases\"},axis='columns', inplace=True)\n",
    "covid.head()"
   ]
  },
  {
   "cell_type": "markdown",
   "id": "3d8ef56d",
   "metadata": {},
   "source": [
    "Notice that at the moment `date` is curently stored as an \"object\" - meaning it is a string of text."
   ]
  },
  {
   "cell_type": "code",
   "execution_count": 10,
   "id": "27839ed5",
   "metadata": {},
   "outputs": [
    {
     "name": "stdout",
     "output_type": "stream",
     "text": [
      "<class 'pandas.core.frame.DataFrame'>\n",
      "RangeIndex: 973 entries, 0 to 972\n",
      "Data columns (total 2 columns):\n",
      " #   Column     Non-Null Count  Dtype \n",
      "---  ------     --------------  ----- \n",
      " 0   date       973 non-null    object\n",
      " 1   new_cases  973 non-null    int64 \n",
      "dtypes: int64(1), object(1)\n",
      "memory usage: 15.3+ KB\n"
     ]
    }
   ],
   "source": [
    "covid.info()"
   ]
  },
  {
   "cell_type": "markdown",
   "id": "30bd3486",
   "metadata": {},
   "source": [
    "This makes it difficult to work with - how do we extract the year, for instance? How does Python know what order the times go in to plot them? To let Python  know this is a date so need to turn this into a `date` object. To do this we are going to need to use Python's `DateTime` library, so lets take a quick detour away from our data and into looking into this package.\n",
    "\n",
    "## `DateTime`\n",
    "\n",
    "Python's `DateTime` library is great for dealing with time-related data, and Pandas has incorporated this library into its own `datetime` series and objects. Below, we'll load in the `DateTime` library, which we can use to create a `datetime` object by entering in the different components of the date as arguments."
   ]
  },
  {
   "cell_type": "code",
   "execution_count": 11,
   "id": "892c85ed",
   "metadata": {},
   "outputs": [],
   "source": [
    "from datetime import datetime"
   ]
  },
  {
   "cell_type": "markdown",
   "id": "e0c4990d",
   "metadata": {},
   "source": [
    "Let's just start with an example date."
   ]
  },
  {
   "cell_type": "code",
   "execution_count": 12,
   "id": "e6335f8e",
   "metadata": {},
   "outputs": [
    {
     "data": {
      "text/plain": [
       "datetime.datetime(2022, 6, 7, 0, 0)"
      ]
     },
     "execution_count": 12,
     "metadata": {},
     "output_type": "execute_result"
    }
   ],
   "source": [
    "example_date = datetime(2022, 6, 7) # 07-06-2022\n",
    "example_date"
   ]
  },
  {
   "cell_type": "markdown",
   "id": "52392e07",
   "metadata": {},
   "source": [
    "The components of the date are accessible via the object's attributes."
   ]
  },
  {
   "cell_type": "code",
   "execution_count": 13,
   "id": "ed59eb1e",
   "metadata": {},
   "outputs": [
    {
     "name": "stdout",
     "output_type": "stream",
     "text": [
      "Year 2022\n",
      "Month 6\n",
      "Day 7\n",
      "Hour 0\n",
      "Minute 0\n",
      "Second 0\n",
      "Micro-Second 0\n"
     ]
    }
   ],
   "source": [
    "print(\"Year\", example_date.year)\n",
    "print(\"Month\",example_date.month)\n",
    "print(\"Day\", example_date.day)\n",
    "print(\"Hour\", example_date.hour)\n",
    "print(\"Minute\", example_date.minute)\n",
    "print(\"Second\", example_date.second)\n",
    "print(\"Micro-Second\", example_date.microsecond)"
   ]
  },
  {
   "cell_type": "markdown",
   "id": "b469f424",
   "metadata": {},
   "source": [
    "Notice that from the hour is set to 0, this is because we didn't specify an hour, but if we needed this information we could."
   ]
  },
  {
   "cell_type": "code",
   "execution_count": 14,
   "id": "eeff2ae8",
   "metadata": {},
   "outputs": [
    {
     "name": "stdout",
     "output_type": "stream",
     "text": [
      "Year 2022\n",
      "Month 6\n",
      "Day 7\n",
      "Hour 8\n",
      "Minute 30\n"
     ]
    }
   ],
   "source": [
    "example_date = datetime(2022, 6, 7, 8, 30) # 07-06-2022 08:30\n",
    "\n",
    "print(\"Year\", example_date.year)\n",
    "print(\"Month\",example_date.month)\n",
    "print(\"Day\", example_date.day)\n",
    "print(\"Hour\", example_date.hour)\n",
    "print(\"Minute\", example_date.minute)"
   ]
  },
  {
   "cell_type": "markdown",
   "id": "9f011f4b",
   "metadata": {},
   "source": [
    "---\n",
    "\n",
    "### 🚩 Exercise 2\n",
    "\n",
    "Convert the following strings to datetime format:\n",
    "\n",
    "- 19 October 2021, 10:13 AM\n",
    "\n",
    "- 31 May 2022, 09:30 AM\n",
    "\n",
    "- 25 November 2021, 15:30 PM"
   ]
  },
  {
   "cell_type": "code",
   "execution_count": 15,
   "id": "55177b0f",
   "metadata": {},
   "outputs": [
    {
     "data": {
      "application/vnd.jupyter.widget-view+json": {
       "model_id": "3c1202eff71b4c2dac11db0ad689a464",
       "version_major": 2,
       "version_minor": 0
      },
      "text/plain": [
       "Button(description='Reveal solution', style=ButtonStyle())"
      ]
     },
     "metadata": {},
     "output_type": "display_data"
    },
    {
     "data": {
      "application/vnd.jupyter.widget-view+json": {
       "model_id": "2a27a48e7f7d49e0a24ccfdca11f4aad",
       "version_major": 2,
       "version_minor": 0
      },
      "text/plain": [
       "Output(layout=Layout(border='1px solid green'))"
      ]
     },
     "metadata": {},
     "output_type": "display_data"
    }
   ],
   "source": [
    "%run ../scripts/show_solutions.py 12_ex2"
   ]
  },
  {
   "cell_type": "markdown",
   "id": "0ed6bb1c",
   "metadata": {},
   "source": [
    "---\n",
    "\n",
    "### 🚩 Exercise 3\n",
    "\n",
    "Using the datetime objects above, print out their elements (e.g. month, hour)"
   ]
  },
  {
   "cell_type": "code",
   "execution_count": 16,
   "id": "2d9703a9",
   "metadata": {},
   "outputs": [
    {
     "data": {
      "application/vnd.jupyter.widget-view+json": {
       "model_id": "0bbb515630294020af03ba1ff3835c6d",
       "version_major": 2,
       "version_minor": 0
      },
      "text/plain": [
       "Button(description='Reveal solution', style=ButtonStyle())"
      ]
     },
     "metadata": {},
     "output_type": "display_data"
    },
    {
     "data": {
      "application/vnd.jupyter.widget-view+json": {
       "model_id": "b71cf0824aca470b8a5c77bf90a311d1",
       "version_major": 2,
       "version_minor": 0
      },
      "text/plain": [
       "Output(layout=Layout(border='1px solid green'))"
      ]
     },
     "metadata": {},
     "output_type": "display_data"
    }
   ],
   "source": [
    "%run ../scripts/show_solutions.py 12_ex3"
   ]
  },
  {
   "cell_type": "markdown",
   "id": "31497527",
   "metadata": {},
   "source": [
    "---\n",
    "\n",
    "### `timedelta()`\n",
    "\n",
    "If we wanted to add or subtract time from a date we could use a `timedelta` object to shift a `datetime` object. An example of when you may want to do this is when time is your index and you want to get everything that happened a week before a specific observation."
   ]
  },
  {
   "cell_type": "code",
   "execution_count": 17,
   "id": "a98ae36b",
   "metadata": {},
   "outputs": [
    {
     "name": "stdout",
     "output_type": "stream",
     "text": [
      "offset days 1\n"
     ]
    }
   ],
   "source": [
    "# Import timedelta() from the DateTime library.\n",
    "from datetime import timedelta\n",
    "\n",
    "# Timedeltas represent time as an amount rather than as a fixed position.\n",
    "offset = timedelta(days=1)\n",
    "\n",
    "# The timedelta() has attributes that allow us to extract values from it.\n",
    "print('offset days', offset.days)"
   ]
  },
  {
   "cell_type": "markdown",
   "id": "63634c85",
   "metadata": {},
   "source": [
    "`datetime`'s `.now()` function will give you the `datetime` object of right now."
   ]
  },
  {
   "cell_type": "code",
   "execution_count": 18,
   "id": "670de392",
   "metadata": {},
   "outputs": [
    {
     "name": "stdout",
     "output_type": "stream",
     "text": [
      "right now: 2022-10-01 18:17:15.045665\n"
     ]
    }
   ],
   "source": [
    "now = datetime.now()\n",
    "print(\"right now:\", now)"
   ]
  },
  {
   "cell_type": "markdown",
   "id": "bdd74e5c",
   "metadata": {},
   "source": [
    "We can use `timedelta()` on the time now."
   ]
  },
  {
   "cell_type": "code",
   "execution_count": 19,
   "id": "eff48f7f",
   "metadata": {},
   "outputs": [
    {
     "name": "stdout",
     "output_type": "stream",
     "text": [
      "Past:  2022-09-30 18:17:15.045665\n",
      "Future:  2022-10-02 18:17:15.045665\n"
     ]
    }
   ],
   "source": [
    "print(\"Past: \", now - offset)\n",
    "print(\"Future: \", now + offset)"
   ]
  },
  {
   "cell_type": "markdown",
   "id": "633bbc9d",
   "metadata": {},
   "source": [
    "Note: The largest value a `timedelta()` can hold is days so if you want to shift by years you will have to convert it to days (see [here](https://docs.python.org/2/library/datetime.html))."
   ]
  },
  {
   "cell_type": "markdown",
   "id": "2f4db9e5",
   "metadata": {},
   "source": [
    "---\n",
    "\n",
    "### 🚩 Exercise 4\n",
    "\n",
    "Using the datetime objects created in exercise 3, find out the date 30 days before them."
   ]
  },
  {
   "cell_type": "code",
   "execution_count": 20,
   "id": "81f96b92",
   "metadata": {},
   "outputs": [
    {
     "data": {
      "application/vnd.jupyter.widget-view+json": {
       "model_id": "8e1cf90d84c146c88bf0e92558dda2c1",
       "version_major": 2,
       "version_minor": 0
      },
      "text/plain": [
       "Button(description='Reveal solution', style=ButtonStyle())"
      ]
     },
     "metadata": {},
     "output_type": "display_data"
    },
    {
     "data": {
      "application/vnd.jupyter.widget-view+json": {
       "model_id": "0fca9ab1ab39401593d511eefbedf407",
       "version_major": 2,
       "version_minor": 0
      },
      "text/plain": [
       "Output(layout=Layout(border='1px solid green'))"
      ]
     },
     "metadata": {},
     "output_type": "display_data"
    }
   ],
   "source": [
    "%run ../scripts/show_solutions.py 12_ex4"
   ]
  },
  {
   "cell_type": "markdown",
   "id": "1e3a5d55",
   "metadata": {},
   "source": [
    "---\n",
    "\n",
    "Right lets get back to our COVID data! The first step when working with time information is to convert it to a datetime format. The problem is that dates and times can be written in lots of different ways. For example, the following are all valid formats for the same datetime - and there are loads more! \n",
    "\n",
    "- 6/1/1930 22:00\n",
    "\n",
    "- 06/01/1930 22:00\n",
    "\n",
    "- 01/06/1930 22:00\n",
    "\n",
    "- 1/6/1930 22:00\n",
    "\n",
    "- 1930-06-01 22:00:00\n",
    "\n",
    "- 1st June 1930 22:00\n",
    "\n",
    "- June 1st 1930 10pm\n",
    "\n",
    "Pandas ``to_datetime`` function will try to figure out what format it's reading, but it takes a while and might get it wrong."
   ]
  },
  {
   "cell_type": "code",
   "execution_count": 21,
   "id": "efd82480",
   "metadata": {},
   "outputs": [
    {
     "name": "stdout",
     "output_type": "stream",
     "text": [
      "Wall time: 1.52 ms\n"
     ]
    },
    {
     "data": {
      "text/plain": [
       "0     2022-09-28\n",
       "1     2022-09-27\n",
       "2     2022-09-26\n",
       "3     2022-09-25\n",
       "4     2022-09-24\n",
       "         ...    \n",
       "968   2020-02-03\n",
       "969   2020-02-02\n",
       "970   2020-02-01\n",
       "971   2020-01-31\n",
       "972   2020-01-30\n",
       "Name: date, Length: 973, dtype: datetime64[ns]"
      ]
     },
     "execution_count": 21,
     "metadata": {},
     "output_type": "execute_result"
    }
   ],
   "source": [
    "%%time\n",
    "# letting pandas figure out the format for itself - slow and may be wrong\n",
    "pd.to_datetime(covid.date)"
   ]
  },
  {
   "cell_type": "markdown",
   "id": "ade5dbbe",
   "metadata": {},
   "source": [
    "You should figure out the format yourself and tell the function using a format code.\n",
    "\n",
    "The codes used below are:\n",
    "\n",
    "code | represents\n",
    "--|--\n",
    "%Y| year\n",
    "%m | month\n",
    "%d | day"
   ]
  },
  {
   "cell_type": "code",
   "execution_count": 22,
   "id": "dee153ce",
   "metadata": {},
   "outputs": [
    {
     "name": "stdout",
     "output_type": "stream",
     "text": [
      "Wall time: 998 µs\n"
     ]
    },
    {
     "data": {
      "text/plain": [
       "0     2022-09-28\n",
       "1     2022-09-27\n",
       "2     2022-09-26\n",
       "3     2022-09-25\n",
       "4     2022-09-24\n",
       "         ...    \n",
       "968   2020-02-03\n",
       "969   2020-02-02\n",
       "970   2020-02-01\n",
       "971   2020-01-31\n",
       "972   2020-01-30\n",
       "Name: date, Length: 973, dtype: datetime64[ns]"
      ]
     },
     "execution_count": 22,
     "metadata": {},
     "output_type": "execute_result"
    }
   ],
   "source": [
    "%%time\n",
    "# telling pandas the format.\n",
    "# We use the - between %Y and %m as the format of our dates have\n",
    "# -'s. \n",
    "covid.date = pd.to_datetime(covid.date, format='%Y-%m-%d')\n",
    "\n",
    "covid.date"
   ]
  },
  {
   "cell_type": "markdown",
   "id": "ed28083d",
   "metadata": {},
   "source": [
    "---\n",
    "\n",
    "### 🚩 Exercise 5\n",
    "\n",
    "Convert the following strings to datetime format using `pd.to_datetime`:\n",
    "\n",
    "- `\"19 October 2021, 10:13 AM\"`\n",
    "\n",
    "- `\"Oct 19 2021 - 10h13\"`\n",
    "\n",
    "- `\"2021-10-19 10:13:29\"`\n",
    "\n",
    "__Hint__\n",
    "\n",
    "To open the docs to grab the website for looking at datetime format codes (under the format info)\n",
    "```\n",
    "?pd.to_datetime\n",
    "```\n",
    "\n",
    "...or google \"pandas strftime format codes\""
   ]
  },
  {
   "cell_type": "code",
   "execution_count": 23,
   "id": "72b07127",
   "metadata": {},
   "outputs": [
    {
     "data": {
      "application/vnd.jupyter.widget-view+json": {
       "model_id": "ef55e9347cb049eebcaa565b418d9057",
       "version_major": 2,
       "version_minor": 0
      },
      "text/plain": [
       "Button(description='Reveal solution', style=ButtonStyle())"
      ]
     },
     "metadata": {},
     "output_type": "display_data"
    },
    {
     "data": {
      "application/vnd.jupyter.widget-view+json": {
       "model_id": "35c0985d335c4ff188db1277e1bd0823",
       "version_major": 2,
       "version_minor": 0
      },
      "text/plain": [
       "Output(layout=Layout(border='1px solid green'))"
      ]
     },
     "metadata": {},
     "output_type": "display_data"
    }
   ],
   "source": [
    "%run ../scripts/show_solutions.py 12_ex5"
   ]
  },
  {
   "cell_type": "markdown",
   "id": "6020da03",
   "metadata": {},
   "source": [
    "---\n",
    "\n",
    "You can see that each of these dates are now `datetime64` so have the properties of the datetime objects we created before."
   ]
  },
  {
   "cell_type": "code",
   "execution_count": 24,
   "id": "6aadbc4f",
   "metadata": {},
   "outputs": [
    {
     "name": "stdout",
     "output_type": "stream",
     "text": [
      "Year 2022\n",
      "Month 9\n",
      "Day 28\n"
     ]
    }
   ],
   "source": [
    "print(\"Year\", covid.date[0].year)\n",
    "print(\"Month\",covid.date[0].month)\n",
    "print(\"Day\", covid.date[0].day)"
   ]
  },
  {
   "cell_type": "markdown",
   "id": "eb4afe40",
   "metadata": {},
   "source": [
    "If we want a particular part it can be useful to define a function to do this..."
   ]
  },
  {
   "cell_type": "code",
   "execution_count": 25,
   "id": "3cf7a5c9",
   "metadata": {},
   "outputs": [
    {
     "data": {
      "text/plain": [
       "28"
      ]
     },
     "execution_count": 25,
     "metadata": {},
     "output_type": "execute_result"
    }
   ],
   "source": [
    "def extract_day(datetime):\n",
    "    return datetime.day\n",
    "\n",
    "extract_day(covid.date[0])"
   ]
  },
  {
   "cell_type": "markdown",
   "id": "d6ead3c0",
   "metadata": {},
   "source": [
    "...we can then apply this to the Time column"
   ]
  },
  {
   "cell_type": "code",
   "execution_count": 26,
   "id": "cf552a9b",
   "metadata": {},
   "outputs": [
    {
     "data": {
      "text/plain": [
       "0      28\n",
       "1      27\n",
       "2      26\n",
       "3      25\n",
       "4      24\n",
       "       ..\n",
       "968     3\n",
       "969     2\n",
       "970     1\n",
       "971    31\n",
       "972    30\n",
       "Name: date, Length: 973, dtype: int64"
      ]
     },
     "execution_count": 26,
     "metadata": {},
     "output_type": "execute_result"
    }
   ],
   "source": [
    "covid.date.apply(extract_day)"
   ]
  },
  {
   "cell_type": "markdown",
   "id": "0e8c28cd",
   "metadata": {},
   "source": [
    "---\n",
    "\n",
    "### 🚩 Exercise 6\n",
    "\n",
    "Extract the year of each of the datetimes in the covid dataset"
   ]
  },
  {
   "cell_type": "code",
   "execution_count": 27,
   "id": "55cdf7c6",
   "metadata": {},
   "outputs": [
    {
     "data": {
      "application/vnd.jupyter.widget-view+json": {
       "model_id": "a6e03ab0c01a4cc392f9225ab8f81afe",
       "version_major": 2,
       "version_minor": 0
      },
      "text/plain": [
       "Button(description='Reveal solution', style=ButtonStyle())"
      ]
     },
     "metadata": {},
     "output_type": "display_data"
    },
    {
     "data": {
      "application/vnd.jupyter.widget-view+json": {
       "model_id": "fe2fd59b2a9848ab857bce88435cd5c8",
       "version_major": 2,
       "version_minor": 0
      },
      "text/plain": [
       "Output(layout=Layout(border='1px solid green'))"
      ]
     },
     "metadata": {},
     "output_type": "display_data"
    }
   ],
   "source": [
    "%run ../scripts/show_solutions.py 12_ex6"
   ]
  },
  {
   "cell_type": "markdown",
   "id": "d9ebc857",
   "metadata": {},
   "source": [
    "---\n",
    "We need to use `.apply` if doing something more complicated e.g., classify dates into \"this year\", \"last year\", or \"other\"."
   ]
  },
  {
   "cell_type": "code",
   "execution_count": 28,
   "id": "ebac1753",
   "metadata": {},
   "outputs": [
    {
     "data": {
      "text/plain": [
       "0          other\n",
       "1          other\n",
       "2          other\n",
       "3          other\n",
       "4          other\n",
       "         ...    \n",
       "968    this year\n",
       "969    this year\n",
       "970    this year\n",
       "971    this year\n",
       "972    this year\n",
       "Name: date, Length: 973, dtype: object"
      ]
     },
     "execution_count": 28,
     "metadata": {},
     "output_type": "execute_result"
    }
   ],
   "source": [
    "def year_classifier(datetime):\n",
    "    year = datetime.year\n",
    "    if year < 2021:\n",
    "        return 'this year'\n",
    "    elif year < 2020:\n",
    "        return 'last year'\n",
    "    else:\n",
    "        return 'other'\n",
    "covid.date.apply(year_classifier)"
   ]
  },
  {
   "cell_type": "markdown",
   "id": "6111af82",
   "metadata": {},
   "source": [
    "## Filtering on datetimes\n",
    "Pandas lets you filter in the obvious way on datetimes - you can do ```d1 < d2``` where `d1` and `d2` are datetime objects."
   ]
  },
  {
   "cell_type": "code",
   "execution_count": 29,
   "id": "1c031af0",
   "metadata": {},
   "outputs": [
    {
     "data": {
      "text/plain": [
       "datetime.datetime(2022, 10, 1, 18, 17, 15, 45665)"
      ]
     },
     "execution_count": 29,
     "metadata": {},
     "output_type": "execute_result"
    }
   ],
   "source": [
    "now"
   ]
  },
  {
   "cell_type": "code",
   "execution_count": 30,
   "id": "e8ebbc88",
   "metadata": {},
   "outputs": [
    {
     "data": {
      "text/plain": [
       "Timestamp('2021-09-01 00:00:00')"
      ]
     },
     "execution_count": 30,
     "metadata": {},
     "output_type": "execute_result"
    }
   ],
   "source": [
    "earlier = pd.to_datetime('2021-09-01')\n",
    "earlier"
   ]
  },
  {
   "cell_type": "code",
   "execution_count": 31,
   "id": "697df48b",
   "metadata": {},
   "outputs": [
    {
     "data": {
      "text/plain": [
       "False"
      ]
     },
     "execution_count": 31,
     "metadata": {},
     "output_type": "execute_result"
    }
   ],
   "source": [
    "now < earlier"
   ]
  },
  {
   "cell_type": "code",
   "execution_count": 32,
   "id": "f96f47da",
   "metadata": {},
   "outputs": [
    {
     "data": {
      "text/plain": [
       "True"
      ]
     },
     "execution_count": 32,
     "metadata": {},
     "output_type": "execute_result"
    }
   ],
   "source": [
    "now > earlier"
   ]
  },
  {
   "cell_type": "code",
   "execution_count": 33,
   "id": "483380f0",
   "metadata": {},
   "outputs": [
    {
     "data": {
      "text/plain": [
       "False"
      ]
     },
     "execution_count": 33,
     "metadata": {},
     "output_type": "execute_result"
    }
   ],
   "source": [
    "now == earlier"
   ]
  },
  {
   "cell_type": "markdown",
   "id": "51101d5d",
   "metadata": {},
   "source": [
    "To filter on a dataframe, we need a mask. A mask is a column of `True`/`False` values. We make a mask by applying a comparison to a column:"
   ]
  },
  {
   "cell_type": "code",
   "execution_count": 34,
   "id": "41b665b0",
   "metadata": {},
   "outputs": [
    {
     "data": {
      "text/plain": [
       "0      False\n",
       "1      False\n",
       "2      False\n",
       "3      False\n",
       "4      False\n",
       "       ...  \n",
       "968     True\n",
       "969     True\n",
       "970     True\n",
       "971     True\n",
       "972     True\n",
       "Name: date, Length: 973, dtype: bool"
      ]
     },
     "execution_count": 34,
     "metadata": {},
     "output_type": "execute_result"
    }
   ],
   "source": [
    "twenty1 = pd.to_datetime('2021', format='%Y')\n",
    "mask = covid.date < twenty1\n",
    "mask"
   ]
  },
  {
   "cell_type": "code",
   "execution_count": 35,
   "id": "021e0644",
   "metadata": {},
   "outputs": [
    {
     "data": {
      "text/html": [
       "<div>\n",
       "<style scoped>\n",
       "    .dataframe tbody tr th:only-of-type {\n",
       "        vertical-align: middle;\n",
       "    }\n",
       "\n",
       "    .dataframe tbody tr th {\n",
       "        vertical-align: top;\n",
       "    }\n",
       "\n",
       "    .dataframe thead th {\n",
       "        text-align: right;\n",
       "    }\n",
       "</style>\n",
       "<table border=\"1\" class=\"dataframe\">\n",
       "  <thead>\n",
       "    <tr style=\"text-align: right;\">\n",
       "      <th></th>\n",
       "      <th>date</th>\n",
       "      <th>new_cases</th>\n",
       "    </tr>\n",
       "  </thead>\n",
       "  <tbody>\n",
       "    <tr>\n",
       "      <th>636</th>\n",
       "      <td>2020-12-31</td>\n",
       "      <td>47823</td>\n",
       "    </tr>\n",
       "    <tr>\n",
       "      <th>637</th>\n",
       "      <td>2020-12-30</td>\n",
       "      <td>64243</td>\n",
       "    </tr>\n",
       "    <tr>\n",
       "      <th>638</th>\n",
       "      <td>2020-12-29</td>\n",
       "      <td>74058</td>\n",
       "    </tr>\n",
       "    <tr>\n",
       "      <th>639</th>\n",
       "      <td>2020-12-28</td>\n",
       "      <td>40846</td>\n",
       "    </tr>\n",
       "    <tr>\n",
       "      <th>640</th>\n",
       "      <td>2020-12-27</td>\n",
       "      <td>43250</td>\n",
       "    </tr>\n",
       "    <tr>\n",
       "      <th>...</th>\n",
       "      <td>...</td>\n",
       "      <td>...</td>\n",
       "    </tr>\n",
       "    <tr>\n",
       "      <th>968</th>\n",
       "      <td>2020-02-03</td>\n",
       "      <td>18</td>\n",
       "    </tr>\n",
       "    <tr>\n",
       "      <th>969</th>\n",
       "      <td>2020-02-02</td>\n",
       "      <td>1</td>\n",
       "    </tr>\n",
       "    <tr>\n",
       "      <th>970</th>\n",
       "      <td>2020-02-01</td>\n",
       "      <td>0</td>\n",
       "    </tr>\n",
       "    <tr>\n",
       "      <th>971</th>\n",
       "      <td>2020-01-31</td>\n",
       "      <td>0</td>\n",
       "    </tr>\n",
       "    <tr>\n",
       "      <th>972</th>\n",
       "      <td>2020-01-30</td>\n",
       "      <td>1</td>\n",
       "    </tr>\n",
       "  </tbody>\n",
       "</table>\n",
       "<p>337 rows × 2 columns</p>\n",
       "</div>"
      ],
      "text/plain": [
       "          date  new_cases\n",
       "636 2020-12-31      47823\n",
       "637 2020-12-30      64243\n",
       "638 2020-12-29      74058\n",
       "639 2020-12-28      40846\n",
       "640 2020-12-27      43250\n",
       "..         ...        ...\n",
       "968 2020-02-03         18\n",
       "969 2020-02-02          1\n",
       "970 2020-02-01          0\n",
       "971 2020-01-31          0\n",
       "972 2020-01-30          1\n",
       "\n",
       "[337 rows x 2 columns]"
      ]
     },
     "metadata": {},
     "output_type": "display_data"
    }
   ],
   "source": [
    "# use square brackets to filter the dataframe with the mask\n",
    "display(covid[mask])\n",
    "\n",
    "# or can just use \n",
    "# covid[covid.date < twenty1]"
   ]
  },
  {
   "cell_type": "markdown",
   "id": "ad8e7167",
   "metadata": {},
   "source": [
    "---\n",
    "\n",
    "### 🚩 Exercise 7\n",
    "\n",
    "Find how many new cases have been reported since June 1st 2021."
   ]
  },
  {
   "cell_type": "code",
   "execution_count": 36,
   "id": "8894a2b1",
   "metadata": {},
   "outputs": [
    {
     "data": {
      "application/vnd.jupyter.widget-view+json": {
       "model_id": "8725c177ddce43b684a1282561756f37",
       "version_major": 2,
       "version_minor": 0
      },
      "text/plain": [
       "Button(description='Reveal solution', style=ButtonStyle())"
      ]
     },
     "metadata": {},
     "output_type": "display_data"
    },
    {
     "data": {
      "application/vnd.jupyter.widget-view+json": {
       "model_id": "f7a0b1f5ef4041f19d56ad3763a35a42",
       "version_major": 2,
       "version_minor": 0
      },
      "text/plain": [
       "Output(layout=Layout(border='1px solid green'))"
      ]
     },
     "metadata": {},
     "output_type": "display_data"
    }
   ],
   "source": [
    "%run ../scripts/show_solutions.py 12_ex7"
   ]
  },
  {
   "cell_type": "markdown",
   "id": "ed2c966a",
   "metadata": {},
   "source": [
    "### Set `datetime` to Index the DataFrame\n",
    "\n",
    "After converting the column containing time data from object to `datetime`, it is also useful to make the index of the DataFrame a `datetime`."
   ]
  },
  {
   "cell_type": "code",
   "execution_count": 37,
   "id": "d173a178",
   "metadata": {},
   "outputs": [
    {
     "data": {
      "text/html": [
       "<div>\n",
       "<style scoped>\n",
       "    .dataframe tbody tr th:only-of-type {\n",
       "        vertical-align: middle;\n",
       "    }\n",
       "\n",
       "    .dataframe tbody tr th {\n",
       "        vertical-align: top;\n",
       "    }\n",
       "\n",
       "    .dataframe thead th {\n",
       "        text-align: right;\n",
       "    }\n",
       "</style>\n",
       "<table border=\"1\" class=\"dataframe\">\n",
       "  <thead>\n",
       "    <tr style=\"text-align: right;\">\n",
       "      <th></th>\n",
       "      <th>new_cases</th>\n",
       "    </tr>\n",
       "    <tr>\n",
       "      <th>date</th>\n",
       "      <th></th>\n",
       "    </tr>\n",
       "  </thead>\n",
       "  <tbody>\n",
       "    <tr>\n",
       "      <th>2022-09-28</th>\n",
       "      <td>4865</td>\n",
       "    </tr>\n",
       "    <tr>\n",
       "      <th>2022-09-27</th>\n",
       "      <td>6950</td>\n",
       "    </tr>\n",
       "    <tr>\n",
       "      <th>2022-09-26</th>\n",
       "      <td>7623</td>\n",
       "    </tr>\n",
       "    <tr>\n",
       "      <th>2022-09-25</th>\n",
       "      <td>6532</td>\n",
       "    </tr>\n",
       "    <tr>\n",
       "      <th>2022-09-24</th>\n",
       "      <td>5144</td>\n",
       "    </tr>\n",
       "  </tbody>\n",
       "</table>\n",
       "</div>"
      ],
      "text/plain": [
       "            new_cases\n",
       "date                 \n",
       "2022-09-28       4865\n",
       "2022-09-27       6950\n",
       "2022-09-26       7623\n",
       "2022-09-25       6532\n",
       "2022-09-24       5144"
      ]
     },
     "execution_count": 37,
     "metadata": {},
     "output_type": "execute_result"
    }
   ],
   "source": [
    "# Set the date to the index \n",
    "covid.set_index('date', inplace=True)\n",
    "\n",
    "# Preview the data \n",
    "covid.head()"
   ]
  },
  {
   "cell_type": "markdown",
   "id": "0fb074a7",
   "metadata": {},
   "source": [
    "With the index as a datetime, it can be easy to plot the data with matplotlib"
   ]
  },
  {
   "cell_type": "code",
   "execution_count": 38,
   "id": "0555910c",
   "metadata": {},
   "outputs": [
    {
     "data": {
      "image/png": "[encoded data removed]",
      "text/plain": [
       "<Figure size 432x288 with 1 Axes>"
      ]
     },
     "metadata": {
      "needs_background": "light"
     },
     "output_type": "display_data"
    }
   ],
   "source": [
    "covid.plot()\n",
    "plt.show()"
   ]
  },
  {
   "cell_type": "markdown",
   "id": "d89a6a99",
   "metadata": {},
   "source": [
    "---\n",
    "\n",
    "### 🚩 Exercise 8\n",
    "\n",
    "Plot the covid cases that happened in 2021"
   ]
  },
  {
   "cell_type": "code",
   "execution_count": 39,
   "id": "ed7353aa",
   "metadata": {},
   "outputs": [
    {
     "data": {
      "application/vnd.jupyter.widget-view+json": {
       "model_id": "71dbd64c93c44ca8881ab4989376dd8c",
       "version_major": 2,
       "version_minor": 0
      },
      "text/plain": [
       "Button(description='Reveal solution', style=ButtonStyle())"
      ]
     },
     "metadata": {},
     "output_type": "display_data"
    },
    {
     "data": {
      "application/vnd.jupyter.widget-view+json": {
       "model_id": "a5d59cf04a8546098e96d759b939ab9d",
       "version_major": 2,
       "version_minor": 0
      },
      "text/plain": [
       "Output(layout=Layout(border='1px solid green'))"
      ]
     },
     "metadata": {},
     "output_type": "display_data"
    }
   ],
   "source": [
    "%run ../scripts/show_solutions.py 12_ex8"
   ]
  },
  {
   "cell_type": "markdown",
   "id": "56a31f4b",
   "metadata": {},
   "source": [
    "## Resampling\n",
    "\n",
    "Now the covid data is nice and regular giving us one value per day. However what do we do when the data doesn't look like that? Lets have a look at another dataset, UFO sightings!"
   ]
  },
  {
   "cell_type": "code",
   "execution_count": 40,
   "id": "6cdf1989",
   "metadata": {},
   "outputs": [
    {
     "data": {
      "text/html": [
       "<div>\n",
       "<style scoped>\n",
       "    .dataframe tbody tr th:only-of-type {\n",
       "        vertical-align: middle;\n",
       "    }\n",
       "\n",
       "    .dataframe tbody tr th {\n",
       "        vertical-align: top;\n",
       "    }\n",
       "\n",
       "    .dataframe thead th {\n",
       "        text-align: right;\n",
       "    }\n",
       "</style>\n",
       "<table border=\"1\" class=\"dataframe\">\n",
       "  <thead>\n",
       "    <tr style=\"text-align: right;\">\n",
       "      <th></th>\n",
       "      <th>City</th>\n",
       "      <th>Colors Reported</th>\n",
       "      <th>Shape Reported</th>\n",
       "      <th>State</th>\n",
       "      <th>Time</th>\n",
       "    </tr>\n",
       "  </thead>\n",
       "  <tbody>\n",
       "    <tr>\n",
       "      <th>0</th>\n",
       "      <td>Ithaca</td>\n",
       "      <td>NaN</td>\n",
       "      <td>TRIANGLE</td>\n",
       "      <td>NY</td>\n",
       "      <td>6/1/1930 22:00</td>\n",
       "    </tr>\n",
       "    <tr>\n",
       "      <th>1</th>\n",
       "      <td>Willingboro</td>\n",
       "      <td>NaN</td>\n",
       "      <td>OTHER</td>\n",
       "      <td>NJ</td>\n",
       "      <td>6/30/1930 20:00</td>\n",
       "    </tr>\n",
       "    <tr>\n",
       "      <th>2</th>\n",
       "      <td>Holyoke</td>\n",
       "      <td>NaN</td>\n",
       "      <td>OVAL</td>\n",
       "      <td>CO</td>\n",
       "      <td>2/15/1931 14:00</td>\n",
       "    </tr>\n",
       "    <tr>\n",
       "      <th>3</th>\n",
       "      <td>Abilene</td>\n",
       "      <td>NaN</td>\n",
       "      <td>DISK</td>\n",
       "      <td>KS</td>\n",
       "      <td>6/1/1931 13:00</td>\n",
       "    </tr>\n",
       "    <tr>\n",
       "      <th>4</th>\n",
       "      <td>New York Worlds Fair</td>\n",
       "      <td>NaN</td>\n",
       "      <td>LIGHT</td>\n",
       "      <td>NY</td>\n",
       "      <td>4/18/1933 19:00</td>\n",
       "    </tr>\n",
       "  </tbody>\n",
       "</table>\n",
       "</div>"
      ],
      "text/plain": [
       "                   City Colors Reported Shape Reported State             Time\n",
       "0                Ithaca             NaN       TRIANGLE    NY   6/1/1930 22:00\n",
       "1           Willingboro             NaN          OTHER    NJ  6/30/1930 20:00\n",
       "2               Holyoke             NaN           OVAL    CO  2/15/1931 14:00\n",
       "3               Abilene             NaN           DISK    KS   6/1/1931 13:00\n",
       "4  New York Worlds Fair             NaN          LIGHT    NY  4/18/1933 19:00"
      ]
     },
     "execution_count": 40,
     "metadata": {},
     "output_type": "execute_result"
    }
   ],
   "source": [
    "import pandas as pd\n",
    "\n",
    "ufo = pd.read_csv('./Data/ufo.csv')\n",
    "\n",
    "ufo.head()"
   ]
  },
  {
   "cell_type": "markdown",
   "id": "70bb23fa",
   "metadata": {},
   "source": [
    "Lets do some data cleaning to get this data ready to be used as a timeseries."
   ]
  },
  {
   "cell_type": "code",
   "execution_count": 41,
   "id": "9f0c4dbf",
   "metadata": {},
   "outputs": [
    {
     "data": {
      "text/html": [
       "<div>\n",
       "<style scoped>\n",
       "    .dataframe tbody tr th:only-of-type {\n",
       "        vertical-align: middle;\n",
       "    }\n",
       "\n",
       "    .dataframe tbody tr th {\n",
       "        vertical-align: top;\n",
       "    }\n",
       "\n",
       "    .dataframe thead th {\n",
       "        text-align: right;\n",
       "    }\n",
       "</style>\n",
       "<table border=\"1\" class=\"dataframe\">\n",
       "  <thead>\n",
       "    <tr style=\"text-align: right;\">\n",
       "      <th></th>\n",
       "      <th>City</th>\n",
       "      <th>Colors Reported</th>\n",
       "      <th>Shape Reported</th>\n",
       "      <th>State</th>\n",
       "    </tr>\n",
       "    <tr>\n",
       "      <th>Time</th>\n",
       "      <th></th>\n",
       "      <th></th>\n",
       "      <th></th>\n",
       "      <th></th>\n",
       "    </tr>\n",
       "  </thead>\n",
       "  <tbody>\n",
       "    <tr>\n",
       "      <th>1930-06-01 22:00:00</th>\n",
       "      <td>Ithaca</td>\n",
       "      <td>NaN</td>\n",
       "      <td>TRIANGLE</td>\n",
       "      <td>NY</td>\n",
       "    </tr>\n",
       "    <tr>\n",
       "      <th>1930-06-30 20:00:00</th>\n",
       "      <td>Willingboro</td>\n",
       "      <td>NaN</td>\n",
       "      <td>OTHER</td>\n",
       "      <td>NJ</td>\n",
       "    </tr>\n",
       "    <tr>\n",
       "      <th>1931-02-15 14:00:00</th>\n",
       "      <td>Holyoke</td>\n",
       "      <td>NaN</td>\n",
       "      <td>OVAL</td>\n",
       "      <td>CO</td>\n",
       "    </tr>\n",
       "    <tr>\n",
       "      <th>1931-06-01 13:00:00</th>\n",
       "      <td>Abilene</td>\n",
       "      <td>NaN</td>\n",
       "      <td>DISK</td>\n",
       "      <td>KS</td>\n",
       "    </tr>\n",
       "    <tr>\n",
       "      <th>1933-04-18 19:00:00</th>\n",
       "      <td>New York Worlds Fair</td>\n",
       "      <td>NaN</td>\n",
       "      <td>LIGHT</td>\n",
       "      <td>NY</td>\n",
       "    </tr>\n",
       "  </tbody>\n",
       "</table>\n",
       "</div>"
      ],
      "text/plain": [
       "                                     City Colors Reported Shape Reported State\n",
       "Time                                                                          \n",
       "1930-06-01 22:00:00                Ithaca             NaN       TRIANGLE    NY\n",
       "1930-06-30 20:00:00           Willingboro             NaN          OTHER    NJ\n",
       "1931-02-15 14:00:00               Holyoke             NaN           OVAL    CO\n",
       "1931-06-01 13:00:00               Abilene             NaN           DISK    KS\n",
       "1933-04-18 19:00:00  New York Worlds Fair             NaN          LIGHT    NY"
      ]
     },
     "execution_count": 41,
     "metadata": {},
     "output_type": "execute_result"
    }
   ],
   "source": [
    "from helper_functions import clean_ufos\n",
    "\n",
    "ufo = clean_ufos(ufo)\n",
    "\n",
    "ufo.head()"
   ]
  },
  {
   "cell_type": "markdown",
   "id": "b9008dde",
   "metadata": {},
   "source": [
    "---\n",
    "\n",
    "### 🚩 Exercise 9\n",
    "\n",
    "Write your own function to clean the data as above (change `Time` to a `datetime` and set as an index)"
   ]
  },
  {
   "cell_type": "code",
   "execution_count": 42,
   "id": "f3a9fb6d",
   "metadata": {},
   "outputs": [
    {
     "data": {
      "application/vnd.jupyter.widget-view+json": {
       "model_id": "d05f7a6fa3044433b04e3d6249794629",
       "version_major": 2,
       "version_minor": 0
      },
      "text/plain": [
       "Button(description='Reveal solution', style=ButtonStyle())"
      ]
     },
     "metadata": {},
     "output_type": "display_data"
    },
    {
     "data": {
      "application/vnd.jupyter.widget-view+json": {
       "model_id": "60831541630149e69148ecdf2b63d8d3",
       "version_major": 2,
       "version_minor": 0
      },
      "text/plain": [
       "Output(layout=Layout(border='1px solid green'))"
      ]
     },
     "metadata": {},
     "output_type": "display_data"
    }
   ],
   "source": [
    "%run ../scripts/show_solutions.py 12_ex9"
   ]
  },
  {
   "cell_type": "markdown",
   "id": "ed44267c",
   "metadata": {},
   "source": [
    "Lets stop a second and think about out the UFO dataset. Is it a time series? \n",
    "\n",
    "It's a little ambiguous, but normally when we talk about time series data, we mean that recordings are made <em>at regular time intervals</em>. So we have a single (usually numeric) value for each day (or each month, or each second, or...)\n",
    "\n",
    "Sometimes you do get time series with irregular intervals (like the ufo dataset), but we often then manipulate it into regular intervals.\n",
    "\n",
    "So the ufo dataset isn't what we'd normally call a time series, because it has irregular intervals, and can have multiple records at the same time. We can convert it to a more regular time series by <em>resampling</em>. To do this, we need the time as the index of the dataframe, which is usual for time series.\n",
    "\n",
    "Resampling to get one value every month: like `groupby`, `resample` needs an aggregate function to know how to combine multiple values in the same time period."
   ]
  },
  {
   "cell_type": "code",
   "execution_count": 43,
   "id": "43877cd9",
   "metadata": {},
   "outputs": [
    {
     "data": {
      "text/html": [
       "<div>\n",
       "<style scoped>\n",
       "    .dataframe tbody tr th:only-of-type {\n",
       "        vertical-align: middle;\n",
       "    }\n",
       "\n",
       "    .dataframe tbody tr th {\n",
       "        vertical-align: top;\n",
       "    }\n",
       "\n",
       "    .dataframe thead th {\n",
       "        text-align: right;\n",
       "    }\n",
       "</style>\n",
       "<table border=\"1\" class=\"dataframe\">\n",
       "  <thead>\n",
       "    <tr style=\"text-align: right;\">\n",
       "      <th></th>\n",
       "      <th>City</th>\n",
       "      <th>Colors Reported</th>\n",
       "      <th>Shape Reported</th>\n",
       "      <th>State</th>\n",
       "    </tr>\n",
       "    <tr>\n",
       "      <th>Time</th>\n",
       "      <th></th>\n",
       "      <th></th>\n",
       "      <th></th>\n",
       "      <th></th>\n",
       "    </tr>\n",
       "  </thead>\n",
       "  <tbody>\n",
       "    <tr>\n",
       "      <th>1930-06-30</th>\n",
       "      <td>2</td>\n",
       "      <td>0</td>\n",
       "      <td>2</td>\n",
       "      <td>2</td>\n",
       "    </tr>\n",
       "    <tr>\n",
       "      <th>1930-07-31</th>\n",
       "      <td>0</td>\n",
       "      <td>0</td>\n",
       "      <td>0</td>\n",
       "      <td>0</td>\n",
       "    </tr>\n",
       "    <tr>\n",
       "      <th>1930-08-31</th>\n",
       "      <td>0</td>\n",
       "      <td>0</td>\n",
       "      <td>0</td>\n",
       "      <td>0</td>\n",
       "    </tr>\n",
       "    <tr>\n",
       "      <th>1930-09-30</th>\n",
       "      <td>0</td>\n",
       "      <td>0</td>\n",
       "      <td>0</td>\n",
       "      <td>0</td>\n",
       "    </tr>\n",
       "    <tr>\n",
       "      <th>1930-10-31</th>\n",
       "      <td>0</td>\n",
       "      <td>0</td>\n",
       "      <td>0</td>\n",
       "      <td>0</td>\n",
       "    </tr>\n",
       "    <tr>\n",
       "      <th>...</th>\n",
       "      <td>...</td>\n",
       "      <td>...</td>\n",
       "      <td>...</td>\n",
       "      <td>...</td>\n",
       "    </tr>\n",
       "    <tr>\n",
       "      <th>2014-05-31</th>\n",
       "      <td>593</td>\n",
       "      <td>197</td>\n",
       "      <td>535</td>\n",
       "      <td>593</td>\n",
       "    </tr>\n",
       "    <tr>\n",
       "      <th>2014-06-30</th>\n",
       "      <td>709</td>\n",
       "      <td>216</td>\n",
       "      <td>669</td>\n",
       "      <td>710</td>\n",
       "    </tr>\n",
       "    <tr>\n",
       "      <th>2014-07-31</th>\n",
       "      <td>1006</td>\n",
       "      <td>386</td>\n",
       "      <td>929</td>\n",
       "      <td>1006</td>\n",
       "    </tr>\n",
       "    <tr>\n",
       "      <th>2014-08-31</th>\n",
       "      <td>779</td>\n",
       "      <td>260</td>\n",
       "      <td>716</td>\n",
       "      <td>779</td>\n",
       "    </tr>\n",
       "    <tr>\n",
       "      <th>2014-09-30</th>\n",
       "      <td>97</td>\n",
       "      <td>27</td>\n",
       "      <td>90</td>\n",
       "      <td>97</td>\n",
       "    </tr>\n",
       "  </tbody>\n",
       "</table>\n",
       "<p>1012 rows × 4 columns</p>\n",
       "</div>"
      ],
      "text/plain": [
       "            City  Colors Reported  Shape Reported  State\n",
       "Time                                                    \n",
       "1930-06-30     2                0               2      2\n",
       "1930-07-31     0                0               0      0\n",
       "1930-08-31     0                0               0      0\n",
       "1930-09-30     0                0               0      0\n",
       "1930-10-31     0                0               0      0\n",
       "...          ...              ...             ...    ...\n",
       "2014-05-31   593              197             535    593\n",
       "2014-06-30   709              216             669    710\n",
       "2014-07-31  1006              386             929   1006\n",
       "2014-08-31   779              260             716    779\n",
       "2014-09-30    97               27              90     97\n",
       "\n",
       "[1012 rows x 4 columns]"
      ]
     },
     "execution_count": 43,
     "metadata": {},
     "output_type": "execute_result"
    }
   ],
   "source": [
    "ufo.resample('M').count()"
   ]
  },
  {
   "cell_type": "code",
   "execution_count": 44,
   "id": "6880e35e",
   "metadata": {},
   "outputs": [
    {
     "data": {
      "text/html": [
       "<div>\n",
       "<style scoped>\n",
       "    .dataframe tbody tr th:only-of-type {\n",
       "        vertical-align: middle;\n",
       "    }\n",
       "\n",
       "    .dataframe tbody tr th {\n",
       "        vertical-align: top;\n",
       "    }\n",
       "\n",
       "    .dataframe thead th {\n",
       "        text-align: right;\n",
       "    }\n",
       "</style>\n",
       "<table border=\"1\" class=\"dataframe\">\n",
       "  <thead>\n",
       "    <tr style=\"text-align: right;\">\n",
       "      <th></th>\n",
       "      <th>City</th>\n",
       "      <th>Colors Reported</th>\n",
       "      <th>Shape Reported</th>\n",
       "      <th>State</th>\n",
       "    </tr>\n",
       "    <tr>\n",
       "      <th>Time</th>\n",
       "      <th></th>\n",
       "      <th></th>\n",
       "      <th></th>\n",
       "      <th></th>\n",
       "    </tr>\n",
       "  </thead>\n",
       "  <tbody>\n",
       "    <tr>\n",
       "      <th>1930-12-31</th>\n",
       "      <td>2</td>\n",
       "      <td>0</td>\n",
       "      <td>2</td>\n",
       "      <td>2</td>\n",
       "    </tr>\n",
       "    <tr>\n",
       "      <th>1931-12-31</th>\n",
       "      <td>2</td>\n",
       "      <td>0</td>\n",
       "      <td>2</td>\n",
       "      <td>2</td>\n",
       "    </tr>\n",
       "    <tr>\n",
       "      <th>1932-12-31</th>\n",
       "      <td>0</td>\n",
       "      <td>0</td>\n",
       "      <td>0</td>\n",
       "      <td>0</td>\n",
       "    </tr>\n",
       "    <tr>\n",
       "      <th>1933-12-31</th>\n",
       "      <td>1</td>\n",
       "      <td>0</td>\n",
       "      <td>1</td>\n",
       "      <td>1</td>\n",
       "    </tr>\n",
       "    <tr>\n",
       "      <th>1934-12-31</th>\n",
       "      <td>1</td>\n",
       "      <td>0</td>\n",
       "      <td>1</td>\n",
       "      <td>1</td>\n",
       "    </tr>\n",
       "    <tr>\n",
       "      <th>...</th>\n",
       "      <td>...</td>\n",
       "      <td>...</td>\n",
       "      <td>...</td>\n",
       "      <td>...</td>\n",
       "    </tr>\n",
       "    <tr>\n",
       "      <th>2010-12-31</th>\n",
       "      <td>4154</td>\n",
       "      <td>849</td>\n",
       "      <td>3769</td>\n",
       "      <td>4154</td>\n",
       "    </tr>\n",
       "    <tr>\n",
       "      <th>2011-12-31</th>\n",
       "      <td>5087</td>\n",
       "      <td>1278</td>\n",
       "      <td>4650</td>\n",
       "      <td>5089</td>\n",
       "    </tr>\n",
       "    <tr>\n",
       "      <th>2012-12-31</th>\n",
       "      <td>7263</td>\n",
       "      <td>2239</td>\n",
       "      <td>6679</td>\n",
       "      <td>7263</td>\n",
       "    </tr>\n",
       "    <tr>\n",
       "      <th>2013-12-31</th>\n",
       "      <td>7001</td>\n",
       "      <td>2273</td>\n",
       "      <td>6460</td>\n",
       "      <td>7003</td>\n",
       "    </tr>\n",
       "    <tr>\n",
       "      <th>2014-12-31</th>\n",
       "      <td>5381</td>\n",
       "      <td>1813</td>\n",
       "      <td>4933</td>\n",
       "      <td>5382</td>\n",
       "    </tr>\n",
       "  </tbody>\n",
       "</table>\n",
       "<p>85 rows × 4 columns</p>\n",
       "</div>"
      ],
      "text/plain": [
       "            City  Colors Reported  Shape Reported  State\n",
       "Time                                                    \n",
       "1930-12-31     2                0               2      2\n",
       "1931-12-31     2                0               2      2\n",
       "1932-12-31     0                0               0      0\n",
       "1933-12-31     1                0               1      1\n",
       "1934-12-31     1                0               1      1\n",
       "...          ...              ...             ...    ...\n",
       "2010-12-31  4154              849            3769   4154\n",
       "2011-12-31  5087             1278            4650   5089\n",
       "2012-12-31  7263             2239            6679   7263\n",
       "2013-12-31  7001             2273            6460   7003\n",
       "2014-12-31  5381             1813            4933   5382\n",
       "\n",
       "[85 rows x 4 columns]"
      ]
     },
     "execution_count": 44,
     "metadata": {},
     "output_type": "execute_result"
    }
   ],
   "source": [
    "# can resample to year\n",
    "ufo.resample('Y').count()"
   ]
  },
  {
   "cell_type": "code",
   "execution_count": 45,
   "id": "2d7a6ce0",
   "metadata": {},
   "outputs": [
    {
     "data": {
      "text/html": [
       "<div>\n",
       "<style scoped>\n",
       "    .dataframe tbody tr th:only-of-type {\n",
       "        vertical-align: middle;\n",
       "    }\n",
       "\n",
       "    .dataframe tbody tr th {\n",
       "        vertical-align: top;\n",
       "    }\n",
       "\n",
       "    .dataframe thead th {\n",
       "        text-align: right;\n",
       "    }\n",
       "</style>\n",
       "<table border=\"1\" class=\"dataframe\">\n",
       "  <thead>\n",
       "    <tr style=\"text-align: right;\">\n",
       "      <th></th>\n",
       "      <th>City</th>\n",
       "      <th>Colors Reported</th>\n",
       "      <th>Shape Reported</th>\n",
       "      <th>State</th>\n",
       "    </tr>\n",
       "    <tr>\n",
       "      <th>Time</th>\n",
       "      <th></th>\n",
       "      <th></th>\n",
       "      <th></th>\n",
       "      <th></th>\n",
       "    </tr>\n",
       "  </thead>\n",
       "  <tbody>\n",
       "    <tr>\n",
       "      <th>1930-06-01</th>\n",
       "      <td>1</td>\n",
       "      <td>0</td>\n",
       "      <td>1</td>\n",
       "      <td>1</td>\n",
       "    </tr>\n",
       "    <tr>\n",
       "      <th>1930-06-02</th>\n",
       "      <td>0</td>\n",
       "      <td>0</td>\n",
       "      <td>0</td>\n",
       "      <td>0</td>\n",
       "    </tr>\n",
       "    <tr>\n",
       "      <th>1930-06-03</th>\n",
       "      <td>0</td>\n",
       "      <td>0</td>\n",
       "      <td>0</td>\n",
       "      <td>0</td>\n",
       "    </tr>\n",
       "    <tr>\n",
       "      <th>1930-06-04</th>\n",
       "      <td>0</td>\n",
       "      <td>0</td>\n",
       "      <td>0</td>\n",
       "      <td>0</td>\n",
       "    </tr>\n",
       "    <tr>\n",
       "      <th>1930-06-05</th>\n",
       "      <td>0</td>\n",
       "      <td>0</td>\n",
       "      <td>0</td>\n",
       "      <td>0</td>\n",
       "    </tr>\n",
       "    <tr>\n",
       "      <th>...</th>\n",
       "      <td>...</td>\n",
       "      <td>...</td>\n",
       "      <td>...</td>\n",
       "      <td>...</td>\n",
       "    </tr>\n",
       "    <tr>\n",
       "      <th>2014-09-01</th>\n",
       "      <td>25</td>\n",
       "      <td>7</td>\n",
       "      <td>22</td>\n",
       "      <td>25</td>\n",
       "    </tr>\n",
       "    <tr>\n",
       "      <th>2014-09-02</th>\n",
       "      <td>15</td>\n",
       "      <td>3</td>\n",
       "      <td>13</td>\n",
       "      <td>15</td>\n",
       "    </tr>\n",
       "    <tr>\n",
       "      <th>2014-09-03</th>\n",
       "      <td>24</td>\n",
       "      <td>8</td>\n",
       "      <td>23</td>\n",
       "      <td>24</td>\n",
       "    </tr>\n",
       "    <tr>\n",
       "      <th>2014-09-04</th>\n",
       "      <td>29</td>\n",
       "      <td>7</td>\n",
       "      <td>29</td>\n",
       "      <td>29</td>\n",
       "    </tr>\n",
       "    <tr>\n",
       "      <th>2014-09-05</th>\n",
       "      <td>4</td>\n",
       "      <td>2</td>\n",
       "      <td>3</td>\n",
       "      <td>4</td>\n",
       "    </tr>\n",
       "  </tbody>\n",
       "</table>\n",
       "<p>30778 rows × 4 columns</p>\n",
       "</div>"
      ],
      "text/plain": [
       "            City  Colors Reported  Shape Reported  State\n",
       "Time                                                    \n",
       "1930-06-01     1                0               1      1\n",
       "1930-06-02     0                0               0      0\n",
       "1930-06-03     0                0               0      0\n",
       "1930-06-04     0                0               0      0\n",
       "1930-06-05     0                0               0      0\n",
       "...          ...              ...             ...    ...\n",
       "2014-09-01    25                7              22     25\n",
       "2014-09-02    15                3              13     15\n",
       "2014-09-03    24                8              23     24\n",
       "2014-09-04    29                7              29     29\n",
       "2014-09-05     4                2               3      4\n",
       "\n",
       "[30778 rows x 4 columns]"
      ]
     },
     "execution_count": 45,
     "metadata": {},
     "output_type": "execute_result"
    }
   ],
   "source": [
    "# or day\n",
    "ufo.resample('D').count()"
   ]
  },
  {
   "cell_type": "markdown",
   "id": "6b23dbaa",
   "metadata": {},
   "source": [
    "Resampling can also be used to change the level of granularity. E.g., if you have hourly data and you want to study long term trends over a year, you might resample to daily, weekly, or monthly level with a sum or mean as aggregate"
   ]
  },
  {
   "cell_type": "code",
   "execution_count": 46,
   "id": "eacd4f7f",
   "metadata": {},
   "outputs": [
    {
     "data": {
      "text/plain": [
       "Time\n",
       "1930-12-31       2\n",
       "1931-12-31       2\n",
       "1932-12-31       0\n",
       "1933-12-31       1\n",
       "1934-12-31       1\n",
       "              ... \n",
       "2010-12-31    4154\n",
       "2011-12-31    5089\n",
       "2012-12-31    7263\n",
       "2013-12-31    7003\n",
       "2014-12-31    5382\n",
       "Freq: A-DEC, Name: State, Length: 85, dtype: int64"
      ]
     },
     "execution_count": 46,
     "metadata": {},
     "output_type": "execute_result"
    }
   ],
   "source": [
    "# make this resampling permanent, and also extract only the state column, \n",
    "# as that has no nulls in\n",
    "ufo_state_count = ufo.resample('Y').count()['State']\n",
    "ufo_state_count"
   ]
  },
  {
   "cell_type": "markdown",
   "id": "7c3595fe",
   "metadata": {},
   "source": [
    "If we plot the data we can see that the number of sightings has been increasing, peaking in 2012."
   ]
  },
  {
   "cell_type": "code",
   "execution_count": 47,
   "id": "598da78c",
   "metadata": {},
   "outputs": [
    {
     "data": {
      "image/png": "[encoded data removed]",
      "text/plain": [
       "<Figure size 576x396 with 1 Axes>"
      ]
     },
     "metadata": {},
     "output_type": "display_data"
    }
   ],
   "source": [
    "import matplotlib.pyplot as plt\n",
    "plt.style.use('seaborn')\n",
    "\n",
    "ufo_state_count.plot();"
   ]
  },
  {
   "cell_type": "markdown",
   "id": "815be28b",
   "metadata": {},
   "source": [
    "---\n",
    "\n",
    "### 🚩 Exercise 10\n",
    "\n",
    "Using the UK daily covid rate data resample to weekly counts level and plot a graph"
   ]
  },
  {
   "cell_type": "code",
   "execution_count": 48,
   "id": "b5dd7575",
   "metadata": {},
   "outputs": [
    {
     "data": {
      "application/vnd.jupyter.widget-view+json": {
       "model_id": "faa2a3c8a800485d9273d651762a4e72",
       "version_major": 2,
       "version_minor": 0
      },
      "text/plain": [
       "Button(description='Reveal solution', style=ButtonStyle())"
      ]
     },
     "metadata": {},
     "output_type": "display_data"
    },
    {
     "data": {
      "application/vnd.jupyter.widget-view+json": {
       "model_id": "ac9e34ec34704f678c749fb0303a7257",
       "version_major": 2,
       "version_minor": 0
      },
      "text/plain": [
       "Output(layout=Layout(border='1px solid green'))"
      ]
     },
     "metadata": {},
     "output_type": "display_data"
    }
   ],
   "source": [
    "%run ../scripts/show_solutions.py 12_ex10"
   ]
  },
  {
   "cell_type": "markdown",
   "id": "a385829e",
   "metadata": {},
   "source": [
    "## Trends"
   ]
  },
  {
   "cell_type": "markdown",
   "id": "bec2fc06",
   "metadata": {},
   "source": [
    "A trend is any long-term change in the value we're measuring. \n",
    "\n",
    "An example of an upward trend:"
   ]
  },
  {
   "cell_type": "code",
   "execution_count": 49,
   "id": "d5778c93",
   "metadata": {},
   "outputs": [
    {
     "data": {
      "image/png": "[encoded data removed]",
      "text/plain": [
       "<Figure size 1080x432 with 1 Axes>"
      ]
     },
     "metadata": {},
     "output_type": "display_data"
    }
   ],
   "source": [
    "# let's filter our data to look at the middle section more closely\n",
    "start_date = pd.to_datetime('2020-12-01')\n",
    "end_date = pd.to_datetime('2021-01-10', format='%Y-%m-%d') # using ISO 8601 format, `format=` is optional\n",
    "\n",
    "after_start = covid.index >= start_date\n",
    "before_end = covid.index < end_date\n",
    "mask = after_start & before_end\n",
    "covid[mask].plot(figsize=(15,6));"
   ]
  },
  {
   "cell_type": "markdown",
   "id": "a011e9f4",
   "metadata": {},
   "source": [
    "A basic fit for this data would be a straight line (or polynomial degree 1; `order=1`). But is this the most accurate model?"
   ]
  },
  {
   "cell_type": "code",
   "execution_count": 50,
   "id": "dac6673a",
   "metadata": {},
   "outputs": [
    {
     "name": "stderr",
     "output_type": "stream",
     "text": [
      "<ipython-input-50-106812d4acd9>:20: UserWarning: FixedFormatter should only be used together with FixedLocator\n",
      "  ax.set_xticklabels(dates_.dt.date)\n"
     ]
    },
    {
     "data": {
      "image/png": "[encoded data removed]",
      "text/plain": [
       "<Figure size 576x396 with 1 Axes>"
      ]
     },
     "metadata": {},
     "output_type": "display_data"
    }
   ],
   "source": [
    "import seaborn as sns\n",
    "\n",
    "df = covid[mask].copy()\n",
    "\n",
    "df.reset_index(inplace=True)\n",
    "\n",
    "# save the dates\n",
    "dates_ = df.date\n",
    "\n",
    "# regplot don't play nice with datetimes so lets convert them to\n",
    "# ordinal values\n",
    "df[\"date\"] = df.date.map(pd.Timestamp.toordinal)\n",
    "\n",
    "fig, ax = plt.subplots()\n",
    "\n",
    "sns.regplot(x='date', y='new_cases', data=df, ax=ax, scatter=False, order=1)\n",
    "sns.lineplot(x='date', y='new_cases', data=df, ax=ax)\n",
    "\n",
    "# set our labels back to the dates\n",
    "ax.set_xticklabels(dates_.dt.date)\n",
    "\n",
    "# legible labels\n",
    "fig.autofmt_xdate(rotation=45, ha='right')\n",
    "\n",
    "fig.tight_layout()"
   ]
  },
  {
   "cell_type": "markdown",
   "id": "60294339",
   "metadata": {},
   "source": [
    "Maybe a polynomial of degree 2 would be a better fit?"
   ]
  },
  {
   "cell_type": "code",
   "execution_count": 51,
   "id": "002449c4",
   "metadata": {
    "scrolled": false
   },
   "outputs": [
    {
     "name": "stderr",
     "output_type": "stream",
     "text": [
      "<ipython-input-51-0192741e05b8>:7: UserWarning: FixedFormatter should only be used together with FixedLocator\n",
      "  ax.set_xticklabels(dates_.dt.date)\n"
     ]
    },
    {
     "data": {
      "image/png": "[encoded data removed]",
      "text/plain": [
       "<Figure size 576x396 with 1 Axes>"
      ]
     },
     "metadata": {},
     "output_type": "display_data"
    }
   ],
   "source": [
    "fig, ax = plt.subplots()\n",
    "\n",
    "sns.regplot(x='date', y='new_cases', data=df, ax=ax, scatter=False, order=2)\n",
    "sns.lineplot(x='date', y='new_cases', data=df, ax=ax)\n",
    "\n",
    "# set our labels back to the dates\n",
    "ax.set_xticklabels(dates_.dt.date)\n",
    "\n",
    "# legible labels\n",
    "fig.autofmt_xdate(rotation=45, ha='right')\n",
    "\n",
    "fig.tight_layout()"
   ]
  },
  {
   "cell_type": "markdown",
   "id": "f3199482",
   "metadata": {},
   "source": [
    "---\n",
    "\n",
    "### 🚩 Exercise 11\n",
    "\n",
    "What would happen if we kept increasing the degree?"
   ]
  },
  {
   "cell_type": "code",
   "execution_count": 52,
   "id": "9f546a90",
   "metadata": {},
   "outputs": [
    {
     "data": {
      "application/vnd.jupyter.widget-view+json": {
       "model_id": "5c2e5f5570f0405084af492daf0485f2",
       "version_major": 2,
       "version_minor": 0
      },
      "text/plain": [
       "Button(description='Reveal solution', style=ButtonStyle())"
      ]
     },
     "metadata": {},
     "output_type": "display_data"
    },
    {
     "data": {
      "application/vnd.jupyter.widget-view+json": {
       "model_id": "408d9ffa0a53417f8472ad5905a03ab6",
       "version_major": 2,
       "version_minor": 0
      },
      "text/plain": [
       "Output(layout=Layout(border='1px solid green'))"
      ]
     },
     "metadata": {},
     "output_type": "display_data"
    }
   ],
   "source": [
    "%run ../scripts/show_solutions.py 12_ex11"
   ]
  },
  {
   "cell_type": "markdown",
   "id": "cf0d9d3f",
   "metadata": {},
   "source": [
    "---\n",
    "Trends may \"change direction\" going from an increasing trend to a decreasing trend. Trends can only be measured within the scope of the data collected; there may be trends that are unmeasurable if the data are not complete. For example, if we were to increase the size of the mask from before..."
   ]
  },
  {
   "cell_type": "code",
   "execution_count": 53,
   "id": "936d7d6c",
   "metadata": {},
   "outputs": [
    {
     "data": {
      "image/png": "[encoded data removed]",
      "text/plain": [
       "<Figure size 1080x432 with 1 Axes>"
      ]
     },
     "metadata": {},
     "output_type": "display_data"
    }
   ],
   "source": [
    "# let's filter our data to look at the middle section more closely\n",
    "start_date = pd.to_datetime('2020-12-01')\n",
    "end_date = pd.to_datetime('2021-02-01', format='%Y-%m-%d') # using ISO 8601 format, `format=` is optional\n",
    "\n",
    "after_start = covid.index >= start_date\n",
    "before_end = covid.index < end_date\n",
    "mask = after_start & before_end\n",
    "covid[mask].plot(figsize=(15,6));"
   ]
  },
  {
   "cell_type": "markdown",
   "id": "4e6fe376",
   "metadata": {},
   "source": [
    "---\n",
    "\n",
    "### 🚩 Exercise 12\n",
    "\n",
    "Plot the polynomial regression line on the data above (with the wider mask)."
   ]
  },
  {
   "cell_type": "code",
   "execution_count": 54,
   "id": "82378f32",
   "metadata": {},
   "outputs": [
    {
     "data": {
      "application/vnd.jupyter.widget-view+json": {
       "model_id": "53b04dc83b74438b8412c857b8218cd1",
       "version_major": 2,
       "version_minor": 0
      },
      "text/plain": [
       "Button(description='Reveal solution', style=ButtonStyle())"
      ]
     },
     "metadata": {},
     "output_type": "display_data"
    },
    {
     "data": {
      "application/vnd.jupyter.widget-view+json": {
       "model_id": "f0e2f29f4e764edbb7d029eef53e14b8",
       "version_major": 2,
       "version_minor": 0
      },
      "text/plain": [
       "Output(layout=Layout(border='1px solid green'))"
      ]
     },
     "metadata": {},
     "output_type": "display_data"
    }
   ],
   "source": [
    "%run ../scripts/show_solutions.py 12_ex12"
   ]
  },
  {
   "cell_type": "markdown",
   "id": "c70dfa6d",
   "metadata": {},
   "source": [
    "---\n",
    "\n",
    "Another way we can evaluate trends is by calculating aggregates (mean, median, etc). If we look at the mean/median value of something (i.e. sales, customers) per week/month/year you can start to see trends. Pandas has a function called `.resample()` which allows you to calculate aggregates to a given time period. For example if, if you type `\"M\"` with `.mean()` you will calculate the mean covid cases for every month in the dataset."
   ]
  },
  {
   "cell_type": "code",
   "execution_count": 55,
   "id": "e66152cf",
   "metadata": {},
   "outputs": [
    {
     "data": {
      "image/png": "[encoded data removed]",
      "text/plain": [
       "<Figure size 1080x432 with 1 Axes>"
      ]
     },
     "metadata": {},
     "output_type": "display_data"
    }
   ],
   "source": [
    "covid_resample = covid.resample(\"M\").mean()\n",
    "covid_resample.plot(figsize=(15,6));"
   ]
  },
  {
   "cell_type": "markdown",
   "id": "108c86d1",
   "metadata": {},
   "source": [
    "---\n",
    "## Rolling Statistics\n",
    "\n",
    "An advantage of time series is that we can roll statistics over time. For example, a rolling mean is the mean of a moving window across a time period. Pandas has several inbuilt functions that allow us to calculate rolling statistics.\n",
    "\n",
    "This graph is \"spiky\" because a lot of tests done on weekends aren't reported until the following Monday or Tuesday, so we get artificially low numbers at weekends, and high numbers at the start of the week. This is an artefact of the way the data are collected, not of the actual variable of interest (covid case numbers).\n",
    "\n",
    "We can fix this with a 3-day rolling average, which will smooth out these spikes to give a more accurate estimate of the actual number of new cases each day."
   ]
  },
  {
   "cell_type": "code",
   "execution_count": 56,
   "id": "d027385a",
   "metadata": {},
   "outputs": [
    {
     "data": {
      "text/html": [
       "<div>\n",
       "<style scoped>\n",
       "    .dataframe tbody tr th:only-of-type {\n",
       "        vertical-align: middle;\n",
       "    }\n",
       "\n",
       "    .dataframe tbody tr th {\n",
       "        vertical-align: top;\n",
       "    }\n",
       "\n",
       "    .dataframe thead th {\n",
       "        text-align: right;\n",
       "    }\n",
       "</style>\n",
       "<table border=\"1\" class=\"dataframe\">\n",
       "  <thead>\n",
       "    <tr style=\"text-align: right;\">\n",
       "      <th></th>\n",
       "      <th>new_cases</th>\n",
       "    </tr>\n",
       "    <tr>\n",
       "      <th>date</th>\n",
       "      <th></th>\n",
       "    </tr>\n",
       "  </thead>\n",
       "  <tbody>\n",
       "    <tr>\n",
       "      <th>2022-09-28</th>\n",
       "      <td>NaN</td>\n",
       "    </tr>\n",
       "    <tr>\n",
       "      <th>2022-09-27</th>\n",
       "      <td>NaN</td>\n",
       "    </tr>\n",
       "    <tr>\n",
       "      <th>2022-09-26</th>\n",
       "      <td>6479.333333</td>\n",
       "    </tr>\n",
       "    <tr>\n",
       "      <th>2022-09-25</th>\n",
       "      <td>7035.000000</td>\n",
       "    </tr>\n",
       "    <tr>\n",
       "      <th>2022-09-24</th>\n",
       "      <td>6433.000000</td>\n",
       "    </tr>\n",
       "    <tr>\n",
       "      <th>...</th>\n",
       "      <td>...</td>\n",
       "    </tr>\n",
       "    <tr>\n",
       "      <th>2020-02-03</th>\n",
       "      <td>6.333333</td>\n",
       "    </tr>\n",
       "    <tr>\n",
       "      <th>2020-02-02</th>\n",
       "      <td>6.333333</td>\n",
       "    </tr>\n",
       "    <tr>\n",
       "      <th>2020-02-01</th>\n",
       "      <td>6.333333</td>\n",
       "    </tr>\n",
       "    <tr>\n",
       "      <th>2020-01-31</th>\n",
       "      <td>0.333333</td>\n",
       "    </tr>\n",
       "    <tr>\n",
       "      <th>2020-01-30</th>\n",
       "      <td>0.333333</td>\n",
       "    </tr>\n",
       "  </tbody>\n",
       "</table>\n",
       "<p>973 rows × 1 columns</p>\n",
       "</div>"
      ],
      "text/plain": [
       "              new_cases\n",
       "date                   \n",
       "2022-09-28          NaN\n",
       "2022-09-27          NaN\n",
       "2022-09-26  6479.333333\n",
       "2022-09-25  7035.000000\n",
       "2022-09-24  6433.000000\n",
       "...                 ...\n",
       "2020-02-03     6.333333\n",
       "2020-02-02     6.333333\n",
       "2020-02-01     6.333333\n",
       "2020-01-31     0.333333\n",
       "2020-01-30     0.333333\n",
       "\n",
       "[973 rows x 1 columns]"
      ]
     },
     "execution_count": 56,
     "metadata": {},
     "output_type": "execute_result"
    }
   ],
   "source": [
    "covid.rolling(window=3).mean()"
   ]
  },
  {
   "cell_type": "markdown",
   "id": "0fa2f459",
   "metadata": {},
   "source": [
    "There are two missing values at the start of this dataframe. This is because at the start there aren't enough data points to average - each data point here is the average of 3 consecutive datapoints in the original time series, so you can only start forming that average by the 3rd data point. In general, if you take an (n+1)-point rolling average, you will get n missing values in your data."
   ]
  },
  {
   "cell_type": "code",
   "execution_count": 57,
   "id": "31d3039d",
   "metadata": {},
   "outputs": [
    {
     "data": {
      "text/html": [
       "<div>\n",
       "<style scoped>\n",
       "    .dataframe tbody tr th:only-of-type {\n",
       "        vertical-align: middle;\n",
       "    }\n",
       "\n",
       "    .dataframe tbody tr th {\n",
       "        vertical-align: top;\n",
       "    }\n",
       "\n",
       "    .dataframe thead th {\n",
       "        text-align: right;\n",
       "    }\n",
       "</style>\n",
       "<table border=\"1\" class=\"dataframe\">\n",
       "  <thead>\n",
       "    <tr style=\"text-align: right;\">\n",
       "      <th></th>\n",
       "      <th>new_cases</th>\n",
       "    </tr>\n",
       "    <tr>\n",
       "      <th>date</th>\n",
       "      <th></th>\n",
       "    </tr>\n",
       "  </thead>\n",
       "  <tbody>\n",
       "    <tr>\n",
       "      <th>2022-09-28</th>\n",
       "      <td>NaN</td>\n",
       "    </tr>\n",
       "    <tr>\n",
       "      <th>2022-09-27</th>\n",
       "      <td>6479.333333</td>\n",
       "    </tr>\n",
       "    <tr>\n",
       "      <th>2022-09-26</th>\n",
       "      <td>7035.000000</td>\n",
       "    </tr>\n",
       "    <tr>\n",
       "      <th>2022-09-25</th>\n",
       "      <td>6433.000000</td>\n",
       "    </tr>\n",
       "    <tr>\n",
       "      <th>2022-09-24</th>\n",
       "      <td>5821.333333</td>\n",
       "    </tr>\n",
       "    <tr>\n",
       "      <th>...</th>\n",
       "      <td>...</td>\n",
       "    </tr>\n",
       "    <tr>\n",
       "      <th>2020-02-03</th>\n",
       "      <td>6.333333</td>\n",
       "    </tr>\n",
       "    <tr>\n",
       "      <th>2020-02-02</th>\n",
       "      <td>6.333333</td>\n",
       "    </tr>\n",
       "    <tr>\n",
       "      <th>2020-02-01</th>\n",
       "      <td>0.333333</td>\n",
       "    </tr>\n",
       "    <tr>\n",
       "      <th>2020-01-31</th>\n",
       "      <td>0.333333</td>\n",
       "    </tr>\n",
       "    <tr>\n",
       "      <th>2020-01-30</th>\n",
       "      <td>NaN</td>\n",
       "    </tr>\n",
       "  </tbody>\n",
       "</table>\n",
       "<p>973 rows × 1 columns</p>\n",
       "</div>"
      ],
      "text/plain": [
       "              new_cases\n",
       "date                   \n",
       "2022-09-28          NaN\n",
       "2022-09-27  6479.333333\n",
       "2022-09-26  7035.000000\n",
       "2022-09-25  6433.000000\n",
       "2022-09-24  5821.333333\n",
       "...                 ...\n",
       "2020-02-03     6.333333\n",
       "2020-02-02     6.333333\n",
       "2020-02-01     0.333333\n",
       "2020-01-31     0.333333\n",
       "2020-01-30          NaN\n",
       "\n",
       "[973 rows x 1 columns]"
      ]
     },
     "execution_count": 57,
     "metadata": {},
     "output_type": "execute_result"
    }
   ],
   "source": [
    "covid.rolling(window=3, center=True).mean()"
   ]
  },
  {
   "cell_type": "markdown",
   "id": "d530b26f",
   "metadata": {},
   "source": [
    "Using ```center=True``` means the rolling window is centred on the datapoint of interest. So e.g., Monday's rolling average value will be the average of Sun, Mon, Tue, whereas with a non-centred rolling average it will be the average of Sat, Sun, Mon. Centred rolling averages are better for historical analysis, because each rolling average point is based on the closest possible values, so is more accurate, <strong>but</strong> it means you get nulls in the rolling average at the start <strong>and end</strong> of the time series, (because for today's rolling average you'd need to know tomorrow's data), so if you want to use the rolling average to forecast, you can't use a centred version.\n",
    "\n",
    "Also, when using ```center=True```, you should use an odd window size, since an even number of dates doesn't have a centre point. For non-centred rolling averages, even or odd window sizes are fine."
   ]
  },
  {
   "cell_type": "code",
   "execution_count": 58,
   "id": "834d863e",
   "metadata": {},
   "outputs": [
    {
     "data": {
      "image/png": "[encoded data removed]",
      "text/plain": [
       "<Figure size 1080x432 with 1 Axes>"
      ]
     },
     "metadata": {},
     "output_type": "display_data"
    }
   ],
   "source": [
    "fig, ax = plt.subplots(figsize=(15,6))\n",
    "covid.plot(ax=ax)\n",
    "covid.rolling(window=3).mean().plot(ax=ax);"
   ]
  },
  {
   "cell_type": "markdown",
   "id": "66cd733f",
   "metadata": {},
   "source": [
    "The rolling average is smoother, but still not totally smooth. Using a larger window for the rolling average will improve this. 7 is a good window size, since the spikes are caused by a weekly effect."
   ]
  },
  {
   "cell_type": "code",
   "execution_count": 59,
   "id": "e3c39511",
   "metadata": {},
   "outputs": [
    {
     "data": {
      "image/png": "[encoded data removed]",
      "text/plain": [
       "<Figure size 1080x432 with 1 Axes>"
      ]
     },
     "metadata": {},
     "output_type": "display_data"
    }
   ],
   "source": [
    "covid.rolling(window=7).mean().plot(figsize=(15,6));"
   ]
  },
  {
   "cell_type": "markdown",
   "id": "b77ab664",
   "metadata": {},
   "source": [
    "Rolling averages smooth out spikes and changes in the data. The bigger the window size, the more smoothing. So a fairly small window size like 3 (above) smooths out the most aggressive spikes, but leaves a lot of the fine detail intact. A larger window size like 7 (also above) smooths out more, but still leaves large-scale behaviour clear. A huge window size (below) will start to obscure even the overall structure. You should never use an overly large window size."
   ]
  },
  {
   "cell_type": "code",
   "execution_count": 60,
   "id": "c5164663",
   "metadata": {},
   "outputs": [
    {
     "data": {
      "image/png": "[encoded data removed]",
      "text/plain": [
       "<Figure size 1080x432 with 1 Axes>"
      ]
     },
     "metadata": {},
     "output_type": "display_data"
    }
   ],
   "source": [
    "# never use a window size this big in practice!\n",
    "covid.rolling(window=100).mean().plot(figsize=(15,6));"
   ]
  },
  {
   "cell_type": "markdown",
   "id": "86da6c5e",
   "metadata": {},
   "source": [
    "Rolling averages are good for looking at the overall <em>trend</em> of a time series, without getting distracted by the fine detail. A trend is a long term tendency to increase or decrease - it might not happen at every data point, but if over a long period most of the data points are going in the same direction, that's a trend. Trends can change direction - e.g., the covid graph has some upward and downward trends at different points.\n",
    "\n",
    "When looking at trends, and other properties of time series, it can be useful to look at other rolling statistics:"
   ]
  },
  {
   "cell_type": "code",
   "execution_count": 61,
   "id": "dd2c59d9",
   "metadata": {},
   "outputs": [
    {
     "data": {
      "image/png": "[encoded data removed]",
      "text/plain": [
       "<Figure size 576x396 with 1 Axes>"
      ]
     },
     "metadata": {},
     "output_type": "display_data"
    },
    {
     "data": {
      "image/png": "[encoded data removed]",
      "text/plain": [
       "<Figure size 576x396 with 1 Axes>"
      ]
     },
     "metadata": {},
     "output_type": "display_data"
    }
   ],
   "source": [
    "# can also calculate other rolling statistics, e.g., rolling median\n",
    "covid.rolling(window=7).median().plot();\n",
    "# rolling standard deviation - tend to use a larger window size for this.\n",
    "covid.rolling(window=7).std().plot();"
   ]
  },
  {
   "cell_type": "markdown",
   "id": "57c3b3bf",
   "metadata": {},
   "source": [
    "Comparing the rolling standard deviation to the actual data, we see that we get larger standard deviation (i.e., bigger short-term fluctuations in the data) when the value of the series is higher. This is <em>heteroskedasticity</em> - \"different scatter\" in Greek\". A series is heteroskedastic if it has bigger fluctuations at some times than at others and is homoskedastic (\"same scatter\") if it has similar size fluctuations at all times.\n",
    "\n",
    "A lot of time series models don't work well with heteroskedastic data, so the data need to be transformed to make them homoskedastic. There are also some models designed to work with heteroskedastic data, so those can be used instead. So ideally you want homoskedastic data, but there are ways to deal with heteroskedastic data such as taking the logarithm."
   ]
  },
  {
   "cell_type": "markdown",
   "id": "e60c353d",
   "metadata": {},
   "source": [
    "---\n",
    "\n",
    "Okay so lets apply what we have learnt so far to another set of data, EU airline flights."
   ]
  },
  {
   "cell_type": "markdown",
   "id": "1980cfc1",
   "metadata": {},
   "source": [
    "metadata: https://ec.europa.eu/eurostat/cache/metadata/en/avia_pa_esms.htm"
   ]
  },
  {
   "cell_type": "markdown",
   "id": "8f80cac2",
   "metadata": {},
   "source": [
    "Using \"Air passenger transport by reporting country (avia_paoc)\" data on the [Eurostat website](https://ec.europa.eu/eurostat/web/transport/data/database?p_p_id=NavTreeportletprod_WAR_NavTreeportletprod_INSTANCE_yjUOJMEUlFPI&p_p_lifecycle=0&p_p_state=normal&p_p_mode=view)."
   ]
  },
  {
   "cell_type": "code",
   "execution_count": 62,
   "id": "27b79448",
   "metadata": {},
   "outputs": [
    {
     "data": {
      "text/html": [
       "<div>\n",
       "<style scoped>\n",
       "    .dataframe tbody tr th:only-of-type {\n",
       "        vertical-align: middle;\n",
       "    }\n",
       "\n",
       "    .dataframe tbody tr th {\n",
       "        vertical-align: top;\n",
       "    }\n",
       "\n",
       "    .dataframe thead th {\n",
       "        text-align: right;\n",
       "    }\n",
       "</style>\n",
       "<table border=\"1\" class=\"dataframe\">\n",
       "  <thead>\n",
       "    <tr style=\"text-align: right;\">\n",
       "      <th></th>\n",
       "      <th>unit</th>\n",
       "      <th>tra_meas</th>\n",
       "      <th>tra_cov</th>\n",
       "      <th>schedule</th>\n",
       "      <th>geo\\time</th>\n",
       "      <th>2022Q2</th>\n",
       "      <th>2022Q1</th>\n",
       "      <th>2022M08</th>\n",
       "      <th>2022M07</th>\n",
       "      <th>2022M06</th>\n",
       "      <th>...</th>\n",
       "      <th>1993M09</th>\n",
       "      <th>1993M08</th>\n",
       "      <th>1993M07</th>\n",
       "      <th>1993M06</th>\n",
       "      <th>1993M05</th>\n",
       "      <th>1993M04</th>\n",
       "      <th>1993M03</th>\n",
       "      <th>1993M02</th>\n",
       "      <th>1993M01</th>\n",
       "      <th>1993</th>\n",
       "    </tr>\n",
       "  </thead>\n",
       "  <tbody>\n",
       "    <tr>\n",
       "      <th>0</th>\n",
       "      <td>FLIGHT</td>\n",
       "      <td>CAF_PAS</td>\n",
       "      <td>INTL</td>\n",
       "      <td>N_SCHED</td>\n",
       "      <td>AT</td>\n",
       "      <td>1549</td>\n",
       "      <td>1453</td>\n",
       "      <td>:</td>\n",
       "      <td>952</td>\n",
       "      <td>747</td>\n",
       "      <td>...</td>\n",
       "      <td>:</td>\n",
       "      <td>:</td>\n",
       "      <td>:</td>\n",
       "      <td>:</td>\n",
       "      <td>:</td>\n",
       "      <td>:</td>\n",
       "      <td>:</td>\n",
       "      <td>:</td>\n",
       "      <td>:</td>\n",
       "      <td>18336</td>\n",
       "    </tr>\n",
       "    <tr>\n",
       "      <th>1</th>\n",
       "      <td>FLIGHT</td>\n",
       "      <td>CAF_PAS</td>\n",
       "      <td>INTL</td>\n",
       "      <td>N_SCHED</td>\n",
       "      <td>BE</td>\n",
       "      <td>:</td>\n",
       "      <td>3281</td>\n",
       "      <td>:</td>\n",
       "      <td>:</td>\n",
       "      <td>:</td>\n",
       "      <td>...</td>\n",
       "      <td>:</td>\n",
       "      <td>:</td>\n",
       "      <td>:</td>\n",
       "      <td>:</td>\n",
       "      <td>:</td>\n",
       "      <td>:</td>\n",
       "      <td>:</td>\n",
       "      <td>:</td>\n",
       "      <td>:</td>\n",
       "      <td>:</td>\n",
       "    </tr>\n",
       "    <tr>\n",
       "      <th>2</th>\n",
       "      <td>FLIGHT</td>\n",
       "      <td>CAF_PAS</td>\n",
       "      <td>INTL</td>\n",
       "      <td>N_SCHED</td>\n",
       "      <td>BG</td>\n",
       "      <td>2084</td>\n",
       "      <td>366</td>\n",
       "      <td>:</td>\n",
       "      <td>:</td>\n",
       "      <td>1395</td>\n",
       "      <td>...</td>\n",
       "      <td>:</td>\n",
       "      <td>:</td>\n",
       "      <td>:</td>\n",
       "      <td>:</td>\n",
       "      <td>:</td>\n",
       "      <td>:</td>\n",
       "      <td>:</td>\n",
       "      <td>:</td>\n",
       "      <td>:</td>\n",
       "      <td>:</td>\n",
       "    </tr>\n",
       "    <tr>\n",
       "      <th>3</th>\n",
       "      <td>FLIGHT</td>\n",
       "      <td>CAF_PAS</td>\n",
       "      <td>INTL</td>\n",
       "      <td>N_SCHED</td>\n",
       "      <td>CH</td>\n",
       "      <td>:</td>\n",
       "      <td>336</td>\n",
       "      <td>:</td>\n",
       "      <td>:</td>\n",
       "      <td>:</td>\n",
       "      <td>...</td>\n",
       "      <td>1969</td>\n",
       "      <td>2516</td>\n",
       "      <td>2619</td>\n",
       "      <td>1722</td>\n",
       "      <td>2013</td>\n",
       "      <td>1845</td>\n",
       "      <td>1344</td>\n",
       "      <td>1257</td>\n",
       "      <td>1648</td>\n",
       "      <td>21333</td>\n",
       "    </tr>\n",
       "    <tr>\n",
       "      <th>4</th>\n",
       "      <td>FLIGHT</td>\n",
       "      <td>CAF_PAS</td>\n",
       "      <td>INTL</td>\n",
       "      <td>N_SCHED</td>\n",
       "      <td>CY</td>\n",
       "      <td>2795</td>\n",
       "      <td>864</td>\n",
       "      <td>1336</td>\n",
       "      <td>1297</td>\n",
       "      <td>1163</td>\n",
       "      <td>...</td>\n",
       "      <td>:</td>\n",
       "      <td>:</td>\n",
       "      <td>:</td>\n",
       "      <td>:</td>\n",
       "      <td>:</td>\n",
       "      <td>:</td>\n",
       "      <td>:</td>\n",
       "      <td>:</td>\n",
       "      <td>:</td>\n",
       "      <td>:</td>\n",
       "    </tr>\n",
       "  </tbody>\n",
       "</table>\n",
       "<p>5 rows × 508 columns</p>\n",
       "</div>"
      ],
      "text/plain": [
       "     unit tra_meas tra_cov schedule geo\\time 2022Q2  2022Q1  2022M08   \\\n",
       "0  FLIGHT  CAF_PAS    INTL  N_SCHED       AT   1549    1453        :    \n",
       "1  FLIGHT  CAF_PAS    INTL  N_SCHED       BE      :    3281        :    \n",
       "2  FLIGHT  CAF_PAS    INTL  N_SCHED       BG   2084     366        :    \n",
       "3  FLIGHT  CAF_PAS    INTL  N_SCHED       CH      :     336        :    \n",
       "4  FLIGHT  CAF_PAS    INTL  N_SCHED       CY   2795     864     1336    \n",
       "\n",
       "  2022M07  2022M06   ... 1993M09  1993M08  1993M07  1993M06  1993M05   \\\n",
       "0     952      747   ...       :        :        :        :        :    \n",
       "1       :        :   ...       :        :        :        :        :    \n",
       "2       :     1395   ...       :        :        :        :        :    \n",
       "3       :        :   ...    1969     2516     2619     1722     2013    \n",
       "4    1297     1163   ...       :        :        :        :        :    \n",
       "\n",
       "  1993M04  1993M03  1993M02  1993M01    1993  \n",
       "0       :        :        :        :   18336  \n",
       "1       :        :        :        :       :  \n",
       "2       :        :        :        :       :  \n",
       "3    1845     1344     1257     1648   21333  \n",
       "4       :        :        :        :       :  \n",
       "\n",
       "[5 rows x 508 columns]"
      ]
     },
     "execution_count": 62,
     "metadata": {},
     "output_type": "execute_result"
    }
   ],
   "source": [
    "import requests\n",
    "UPDATE = False\n",
    "\n",
    "if UPDATE:\n",
    "    url = \"https://ec.europa.eu/eurostat/estat-navtree-portlet-prod/BulkDownloadListing?file=data/avia_paoc.tsv.gz\"\n",
    "    filename = \"./Data/\"+url.split(\"/\")[-1]\n",
    "    with open(filename, \"wb\") as f:\n",
    "        r = requests.get(url)\n",
    "        f.write(r.content)\n",
    "    df = pd.read_csv(filename, compression='gzip', delimiter=\"\\t|,\", engine='python')\n",
    "    # save to csv\n",
    "    df.to_csv(\"./Data/passengerOverviewCountry_\"+str(date.today())+\".csv\", index=False)\n",
    "  \n",
    "# get a list of the data files\n",
    "onlyfiles = [f for f in os.listdir(\"Data\") if os.path.isfile(os.path.join(\"Data\", f))]\n",
    "# only get the airlines data\n",
    "passCountlist = list(filter(re.compile(\"passengerOverviewCountry_*\").match, onlyfiles))\n",
    "# load the latest data\n",
    "pass_raw = pd.read_csv(\"./Data/\"+passCountlist[-1])\n",
    "\n",
    "# display the first few rows\n",
    "pass_raw.head()"
   ]
  },
  {
   "cell_type": "markdown",
   "id": "1c5c6695",
   "metadata": {},
   "source": [
    "As you can see we'll need to do a bit of tidying to get this data ready and looking like something below...\n",
    "\n",
    "__Note__: This will also work with \"Aircraft traffic data by reporting country (avia_tf_acc)\" but this data has more missing data for the UK."
   ]
  },
  {
   "cell_type": "code",
   "execution_count": 63,
   "id": "e7c47f26",
   "metadata": {},
   "outputs": [
    {
     "data": {
      "text/html": [
       "<div>\n",
       "<style scoped>\n",
       "    .dataframe tbody tr th:only-of-type {\n",
       "        vertical-align: middle;\n",
       "    }\n",
       "\n",
       "    .dataframe tbody tr th {\n",
       "        vertical-align: top;\n",
       "    }\n",
       "\n",
       "    .dataframe thead th {\n",
       "        text-align: right;\n",
       "    }\n",
       "</style>\n",
       "<table border=\"1\" class=\"dataframe\">\n",
       "  <thead>\n",
       "    <tr style=\"text-align: right;\">\n",
       "      <th></th>\n",
       "      <th>unit</th>\n",
       "      <th>measurement</th>\n",
       "      <th>coverage</th>\n",
       "      <th>schedule</th>\n",
       "      <th>country</th>\n",
       "      <th>vals</th>\n",
       "    </tr>\n",
       "    <tr>\n",
       "      <th>date</th>\n",
       "      <th></th>\n",
       "      <th></th>\n",
       "      <th></th>\n",
       "      <th></th>\n",
       "      <th></th>\n",
       "      <th></th>\n",
       "    </tr>\n",
       "  </thead>\n",
       "  <tbody>\n",
       "    <tr>\n",
       "      <th>2022-08-01</th>\n",
       "      <td>FLIGHT</td>\n",
       "      <td>CAF_PAS</td>\n",
       "      <td>INTL</td>\n",
       "      <td>N_SCHED</td>\n",
       "      <td>Austria</td>\n",
       "      <td>NaN</td>\n",
       "    </tr>\n",
       "    <tr>\n",
       "      <th>2022-08-01</th>\n",
       "      <td>FLIGHT</td>\n",
       "      <td>CAF_PAS</td>\n",
       "      <td>INTL</td>\n",
       "      <td>N_SCHED</td>\n",
       "      <td>Belgium</td>\n",
       "      <td>NaN</td>\n",
       "    </tr>\n",
       "    <tr>\n",
       "      <th>2022-08-01</th>\n",
       "      <td>FLIGHT</td>\n",
       "      <td>CAF_PAS</td>\n",
       "      <td>INTL</td>\n",
       "      <td>N_SCHED</td>\n",
       "      <td>Bulgaria</td>\n",
       "      <td>NaN</td>\n",
       "    </tr>\n",
       "    <tr>\n",
       "      <th>2022-08-01</th>\n",
       "      <td>FLIGHT</td>\n",
       "      <td>CAF_PAS</td>\n",
       "      <td>INTL</td>\n",
       "      <td>N_SCHED</td>\n",
       "      <td>Switzerland</td>\n",
       "      <td>NaN</td>\n",
       "    </tr>\n",
       "    <tr>\n",
       "      <th>2022-08-01</th>\n",
       "      <td>FLIGHT</td>\n",
       "      <td>CAF_PAS</td>\n",
       "      <td>INTL</td>\n",
       "      <td>N_SCHED</td>\n",
       "      <td>Cyprus</td>\n",
       "      <td>1336.0</td>\n",
       "    </tr>\n",
       "  </tbody>\n",
       "</table>\n",
       "</div>"
      ],
      "text/plain": [
       "              unit measurement coverage schedule      country    vals\n",
       "date                                                                 \n",
       "2022-08-01  FLIGHT     CAF_PAS     INTL  N_SCHED      Austria     NaN\n",
       "2022-08-01  FLIGHT     CAF_PAS     INTL  N_SCHED      Belgium     NaN\n",
       "2022-08-01  FLIGHT     CAF_PAS     INTL  N_SCHED     Bulgaria     NaN\n",
       "2022-08-01  FLIGHT     CAF_PAS     INTL  N_SCHED  Switzerland     NaN\n",
       "2022-08-01  FLIGHT     CAF_PAS     INTL  N_SCHED       Cyprus  1336.0"
      ]
     },
     "execution_count": 63,
     "metadata": {},
     "output_type": "execute_result"
    }
   ],
   "source": [
    "from helper_functions import tidy_eu_planes\n",
    "\n",
    "airlines = tidy_eu_planes(pass_raw)\n",
    "airlines.head()"
   ]
  },
  {
   "cell_type": "markdown",
   "id": "38302c04",
   "metadata": {},
   "source": [
    "---\n",
    "\n",
    "### 🚩 Exercise 13 (Extra)\n",
    "\n",
    "See if you can create the `tidy_eu_planes` function yourself. You'll need to:\n",
    "- Rename columns\n",
    "- Select only monthly data\n",
    "- Change the date to a datetime and set as the index\n",
    "- Replace the country codes with country names\n",
    "- Change missing values to `NAN`\n",
    "- Change values to a float"
   ]
  },
  {
   "cell_type": "code",
   "execution_count": 64,
   "id": "7e62ca1d",
   "metadata": {},
   "outputs": [
    {
     "data": {
      "application/vnd.jupyter.widget-view+json": {
       "model_id": "953f5dabaad145d08b585e8a8089c997",
       "version_major": 2,
       "version_minor": 0
      },
      "text/plain": [
       "Button(description='Reveal solution', style=ButtonStyle())"
      ]
     },
     "metadata": {},
     "output_type": "display_data"
    },
    {
     "data": {
      "application/vnd.jupyter.widget-view+json": {
       "model_id": "1080ea746d4b4a689f06f4daae1fbc95",
       "version_major": 2,
       "version_minor": 0
      },
      "text/plain": [
       "Output(layout=Layout(border='1px solid green'))"
      ]
     },
     "metadata": {},
     "output_type": "display_data"
    }
   ],
   "source": [
    "%run ../scripts/show_solutions.py 12_ex13"
   ]
  },
  {
   "cell_type": "markdown",
   "id": "89b369f1",
   "metadata": {},
   "source": [
    "For our current data, lets just get the number of passengers from uk airports in all international and national flights\n",
    "\n",
    "__unit__\n",
    "\n",
    "code    | meaning\n",
    "--------| -------\n",
    "PAS     | Passenger\n",
    "FLIGHT  | Flights\n",
    "\n",
    "__Traffic and transport measurement (`measurement`)__\n",
    "\n",
    "code    | meaning\n",
    "--------| -------\n",
    "PAS_BRD | Passengers on board\n",
    "PAS_BRD_ARR | Passengers on board (arrivals)\n",
    "PAS_BRD_DEP | Passengers on board (departures)\n",
    "PAS_CRD     | Passengers carried\n",
    "PAS_CRD_ARR | Passengers carried (arrivals)\n",
    "PAS_CRD_DEP | Passengers carried (departures)\n",
    "CAF_PAS | Commerical passenger air flights\n",
    "CAF_PAS_ARR | Commerical passenger air flights (arrivals)\n",
    "CAF_PAS_DEP | Commerical passenger air flights (departures)"
   ]
  },
  {
   "cell_type": "code",
   "execution_count": 65,
   "id": "988fb988",
   "metadata": {},
   "outputs": [
    {
     "data": {
      "text/plain": [
       "date\n",
       "2022-08-01   NaN\n",
       "2022-07-01   NaN\n",
       "2022-06-01   NaN\n",
       "2022-05-01   NaN\n",
       "2022-04-01   NaN\n",
       "Name: vals, dtype: float64"
      ]
     },
     "execution_count": 65,
     "metadata": {},
     "output_type": "execute_result"
    }
   ],
   "source": [
    "uk_flights = airlines[(airlines[\"country\"] == \"UK\") &          # UK\n",
    "                      (airlines[\"unit\"] == \"PAS\") &            # passengers\n",
    "                      (airlines[\"measurement\"] == \"PAS_BRD\") & # passengers on board\n",
    "                      (airlines[\"schedule\"] == \"TOT\") &\n",
    "                      (airlines[\"coverage\"] == \"TOTAL\")        # national and international\n",
    "                     ][\"vals\"].copy() # just get the values\n",
    "\n",
    "uk_flights.head()"
   ]
  },
  {
   "cell_type": "code",
   "execution_count": 66,
   "id": "11aacd3f",
   "metadata": {},
   "outputs": [
    {
     "name": "stdout",
     "output_type": "stream",
     "text": [
      "<class 'pandas.core.series.Series'>\n",
      "DatetimeIndex: 356 entries, 2022-08-01 to 1993-01-01\n",
      "Series name: vals\n",
      "Non-Null Count  Dtype  \n",
      "--------------  -----  \n",
      "238 non-null    float64\n",
      "dtypes: float64(1)\n",
      "memory usage: 5.6 KB\n"
     ]
    }
   ],
   "source": [
    "uk_flights.info()"
   ]
  },
  {
   "cell_type": "markdown",
   "id": "4e9a71e3",
   "metadata": {},
   "source": [
    "---\n",
    "\n",
    "### 🚩 Exercise 14\n",
    "\n",
    "Plot the above data and discuss their trends. \n",
    "\n",
    "- Does smoothing out spikes in the data help give a more accurate estimate? \n",
    "- Are they a homoskedastic time series?\n",
    "\n",
    "__TODO__\n",
    "- continue from here!"
   ]
  },
  {
   "cell_type": "code",
   "execution_count": 67,
   "id": "b2329492",
   "metadata": {},
   "outputs": [
    {
     "data": {
      "image/png": "[encoded data removed]",
      "text/plain": [
       "<Figure size 576x396 with 1 Axes>"
      ]
     },
     "metadata": {},
     "output_type": "display_data"
    }
   ],
   "source": [
    "uk_flights.plot();"
   ]
  },
  {
   "cell_type": "code",
   "execution_count": 68,
   "id": "18bbca40",
   "metadata": {},
   "outputs": [
    {
     "data": {
      "application/vnd.jupyter.widget-view+json": {
       "model_id": "4e96f8ab93874dc5b5c8d17befce551a",
       "version_major": 2,
       "version_minor": 0
      },
      "text/plain": [
       "Button(description='Reveal solution', style=ButtonStyle())"
      ]
     },
     "metadata": {},
     "output_type": "display_data"
    },
    {
     "data": {
      "application/vnd.jupyter.widget-view+json": {
       "model_id": "d4877617c0de4ff2aab858956e19a87d",
       "version_major": 2,
       "version_minor": 0
      },
      "text/plain": [
       "Output(layout=Layout(border='1px solid green'))"
      ]
     },
     "metadata": {},
     "output_type": "display_data"
    }
   ],
   "source": [
    "%run ../scripts/show_solutions.py 12_ex14"
   ]
  },
  {
   "cell_type": "markdown",
   "id": "808478aa",
   "metadata": {},
   "source": [
    "---\n",
    "\n",
    "### 🚩 Extra Exercise\n",
    "\n",
    "Using the \"Air passenger transport by main airports in each reporting country (avia_paoa)\" data on the [Eurostat website](https://ec.europa.eu/eurostat/web/transport/data/database?p_p_id=NavTreeportletprod_WAR_NavTreeportletprod_INSTANCE_yjUOJMEUlFPI&p_p_lifecycle=0&p_p_state=normal&p_p_mode=view), try forcast the passenger numbers for your closest (or desired) airport.\n",
    "\n",
    "**Note**\n",
    "- This data is larger!"
   ]
  },
  {
   "cell_type": "code",
   "execution_count": 69,
   "id": "834d388a",
   "metadata": {},
   "outputs": [
    {
     "data": {
      "application/vnd.jupyter.widget-view+json": {
       "model_id": "c190c6ba7dcf49a59231be22d3d98480",
       "version_major": 2,
       "version_minor": 0
      },
      "text/plain": [
       "Button(description='Reveal solution', style=ButtonStyle())"
      ]
     },
     "metadata": {},
     "output_type": "display_data"
    },
    {
     "data": {
      "application/vnd.jupyter.widget-view+json": {
       "model_id": "a71fb6849bcb4c6bb5603d8ee751a046",
       "version_major": 2,
       "version_minor": 0
      },
      "text/plain": [
       "Output(layout=Layout(border='1px solid green'))"
      ]
     },
     "metadata": {},
     "output_type": "display_data"
    }
   ],
   "source": [
    "%run ../scripts/show_solutions.py 12_ex99"
   ]
  },
  {
   "cell_type": "markdown",
   "id": "d410d371",
   "metadata": {},
   "source": [
    "__IDEAS__\n",
    "- there are also frieght and mail stuff. Wonder if that has seasonality? Maybe would make a good question?"
   ]
  }
 ],
 "metadata": {
  "kernelspec": {
   "display_name": "Python 3",
   "language": "python",
   "name": "python3"
  },
  "language_info": {
   "codemirror_mode": {
    "name": "ipython",
    "version": 3
   },
   "file_extension": ".py",
   "mimetype": "text/x-python",
   "name": "python",
   "nbconvert_exporter": "python",
   "pygments_lexer": "ipython3",
   "version": "3.9.7"
  }
 },
 "nbformat": 4,
 "nbformat_minor": 5
}
