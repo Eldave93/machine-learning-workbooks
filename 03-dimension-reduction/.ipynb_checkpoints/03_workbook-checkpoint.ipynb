{
 "cells": [
  {
   "cell_type": "markdown",
   "metadata": {
    "hideCode": false,
    "hidePrompt": false,
    "id": "0dq-i1Bfls5v"
   },
   "source": [
    "# Workbook 03 - Dimension Reduction\n",
    "by [David Elliott](https://eldave93.netlify.app/)\n",
    "\n",
    "1. [Workspace Setup](#setup)\n",
    "\n",
    "2. [Problem Understanding](#problem)\n",
    "\n",
    "3. [Data Pre-Processing/EDA](#eda)\n",
    "   "
   ]
  },
  {
   "cell_type": "markdown",
   "metadata": {},
   "source": [
    "This workbook we are going to be looking at how we can reduce the number of attributes to those that might be useful for our model. We've been so far working with data with a few attributes (features), but sometimes you have lots of attributes and don't know where to start!\n",
    "\n",
    "In order to reduce a models complexity, run time, and potential for overfitting to the training data, dimension reduction techniques can be used. Broadly they can be grouped into methods that create a subset of the original set of features (Feature Selection) and methods that create new synthetic features through combining the original features and discarding less important ones (Feature Extraction). Essentially we want to remove \"uninformative infromation\" and retain useful bits<sup>1</sup>. If you have too many features, it may be that some of them are highly correlated and therefore redundant. Therefore we can either select just some of them, or compress them onto a lower dimensional subspace<sup>2</sup>.\n",
    "\n",
    "---\n",
    "1. Zheng, A., & Casari, A. (2018). Feature Engineering for Machine Learning: Principles and Techniques for Data Scientists. \" O'Reilly Media, Inc.\".\n",
    "\n",
    "2. Raschka, 2016"
   ]
  },
  {
   "cell_type": "markdown",
   "metadata": {},
   "source": [
    "# 1. Workspace Setup\n",
    "\n",
    "Before downloading any data we should think about our workspace. It is assumed if you have made it this far you have already got your workspace setup. There are two ways of using these notebooks. The first is to use Google Colab, which is a website that allows you to write and execute python code through the browser. The second is a local workspace (e.g. Anaconda)."
   ]
  },
  {
   "cell_type": "markdown",
   "metadata": {},
   "source": [
    "## 1.A. Google Colab\n",
    "If you are not using google colab then you can skip this section. \n",
    "\n",
    "If you are using colab we will first need to have the libaries for the runtime and files associated with this workbook uploaded to the temporary file store. You also need to set the working directory to be a local version of the workshop repository. This is so all the data, images, and scripts for displaying the solutions works. This is located on the temporary file store associated with this colabs runtime. The below code will do all this for you.\n",
    "\n",
    "__Required:__ After running this code make sure to restart the runtime to ensure everything works correctly (Runtime > Restart runtime)."
   ]
  },
  {
   "cell_type": "code",
   "execution_count": 1,
   "metadata": {},
   "outputs": [
    {
     "name": "stdout",
     "output_type": "stream",
     "text": [
      "Colab is not being used\n"
     ]
    }
   ],
   "source": [
    "import sys\n",
    "import os\n",
    "\n",
    "try:\n",
    "    import google.colab\n",
    "    COLAB=True\n",
    "    \n",
    "    # set the workbook code\n",
    "    WORKSHOP_NAME = \"03-dimension-reduction\"\n",
    "    # set the folder name\n",
    "    FOLDER_NAME = \"machine-learning-workbooks-main\"\n",
    "\n",
    "    # check if the environment is already setup to avoid repeating this after \n",
    "    # restarting the runtime\n",
    "    if not os.path.exists(FOLDER_NAME):\n",
    "        # get the zip of the workbooks\n",
    "        !wget https://github.com/Eldave93/machine-learning-workbooks/archive/refs/heads/main.zip\n",
    "        # unzip the file\n",
    "        !unzip main.zip\n",
    "        # install the libaries\n",
    "        !{sys.executable} -m pip install -r ./{FOLDER_NAME}/scripts/requirements.txt\n",
    "          \n",
    "    print(\"Setting working directory to:\")\n",
    "    %cd ./{FOLDER_NAME}/{WORKSHOP_NAME}\n",
    "    \n",
    "except:\n",
    "    COLAB=False\n",
    "    print(\"Colab is not being used\")"
   ]
  },
  {
   "cell_type": "markdown",
   "metadata": {},
   "source": [
    "## 1.1. Packages\n",
    "\n",
    "If your using a local workspace you will need all the following packages to run this notebook. If you do not already have them, or you want to ensure you are using the same versions as used when created, you could run `!{sys.executable} -m pip install -r ../scripts/requirements.txt` to install them for you."
   ]
  },
  {
   "cell_type": "code",
   "execution_count": 3,
   "metadata": {},
   "outputs": [],
   "source": [
    "import os # locating directories\n",
    "import matplotlib.pyplot as plt\n",
    "import seaborn as sns\n",
    "import pandas as pd\n",
    "import numpy as np\n",
    "import warnings # prevent warnings\n",
    "\n",
    "sys.path.append('../scripts') # add scripts to the path for use later\n",
    "sns.set(rc={'figure.figsize': (14, 8)}) # For plot sizes\n",
    "np.random.seed(42)  # to make this notebook's output identical at every run\n",
    "\n",
    "# colours for print()\n",
    "class color:\n",
    "   PURPLE = '\\033[95m'\n",
    "   CYAN = '\\033[96m'\n",
    "   DARKCYAN = '\\033[36m'\n",
    "   BLUE = '\\033[94m'\n",
    "   GREEN = '\\033[92m'\n",
    "   YELLOW = '\\033[93m'\n",
    "   RED = '\\033[91m'\n",
    "   BOLD = '\\033[1m'\n",
    "   UNDERLINE = '\\033[4m'\n",
    "   END = '\\033[0m'"
   ]
  },
  {
   "cell_type": "markdown",
   "metadata": {},
   "source": [
    "## 1.2. Displaying solutions\n",
    "\n",
    "The solutions are activated using a new .txt file which can be put in the workbook folder (e.g. `03-dimension-reduction`). Please put in a request for access.\n",
    "\n",
    "If you have access to the solutions, the following cell will create clickable buttons under each exercise, which will allow you to reveal the solutions.\n",
    "\n",
    "__Notes__\n",
    "\n",
    "- This method was created by [Charlotte Desvages](https://charlottedesvages.com/).\n",
    "- This may not work if you don't have the same version of `IPython.display` as the machine that created them:\n",
    "    ```\n",
    "    ImportError: cannot import name 'Code' from 'IPython.display' (/usr/local/lib/python3.7/dist-packages/IPython/display.py)\n",
    "    ```\n",
    "    If so run the auto-install above or manually run `!pip install ipython==7.20`."
   ]
  },
  {
   "cell_type": "markdown",
   "metadata": {
    "id": "8SlfepCxls5x"
   },
   "source": [
    "---\n",
    "\n",
    "# 2. Problem Understanding <a id='problem'></a>\n",
    "\n"
   ]
  },
  {
   "cell_type": "code",
   "execution_count": null,
   "metadata": {},
   "outputs": [],
   "source": []
  }
 ],
 "metadata": {
  "colab": {
   "collapsed_sections": [],
   "include_colab_link": true,
   "name": "Clustering.ipynb",
   "provenance": []
  },
  "hide_code_all_hidden": false,
  "kernelspec": {
   "display_name": "Python 3 (ipykernel)",
   "language": "python",
   "name": "python3"
  },
  "language_info": {
   "codemirror_mode": {
    "name": "ipython",
    "version": 3
   },
   "file_extension": ".py",
   "mimetype": "text/x-python",
   "name": "python",
   "nbconvert_exporter": "python",
   "pygments_lexer": "ipython3",
   "version": "3.9.7"
  }
 },
 "nbformat": 4,
 "nbformat_minor": 1
}
