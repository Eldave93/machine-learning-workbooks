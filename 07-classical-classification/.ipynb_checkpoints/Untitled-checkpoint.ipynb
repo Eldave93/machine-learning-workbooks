{
 "cells": [
  {
   "cell_type": "code",
   "execution_count": null,
   "id": "518a566d",
   "metadata": {},
   "outputs": [],
   "source": [
    "from imblearn.pipeline import Pipeline\n",
    "from imblearn import FunctionSampler\n",
    "from sklearn.preprocessing import StandardScaler\n",
    "from sklearn.linear_model import LinearRegression\n",
    "\n",
    "# remove duplicated values\n",
    "def drop_duplicated(X,y):\n",
    "    df = pd.concat([X,y], axis=1)\n",
    "    df = df.drop_duplicates()\n",
    "    return df.iloc[:,:-1], df.iloc[:,-1]\n",
    "\n",
    "DD =  FunctionSampler(func=drop_duplicated,\n",
    "                      validate=False)\n",
    "\n",
    "# standardises all variables\n",
    "scaler = StandardScaler() \n",
    "\n",
    "# here is the model we want to use.\n",
    "reg = LinearRegression()\n",
    "\n",
    "# create our pipeline for the data to go through.\n",
    "# This is a list of tuples with a name (useful later) and the function.\n",
    "reg_pipe = Pipeline([\n",
    "    (\"drop_duplicated\", DD),\n",
    "    (\"scaler\", scaler),\n",
    "    (\"model\", reg)\n",
    "])\n",
    "\n",
    "y_train = df_red_.loc[:,output]\n",
    "X_train = df_red_.drop(output, axis=1)\n",
    "\n",
    "reg_pipe.fit(X_train, y_train)"
   ]
  }
 ],
 "metadata": {
  "kernelspec": {
   "display_name": "Python 3",
   "language": "python",
   "name": "python3"
  },
  "language_info": {
   "codemirror_mode": {
    "name": "ipython",
    "version": 3
   },
   "file_extension": ".py",
   "mimetype": "text/x-python",
   "name": "python",
   "nbconvert_exporter": "python",
   "pygments_lexer": "ipython3",
   "version": "3.9.7"
  }
 },
 "nbformat": 4,
 "nbformat_minor": 5
}
